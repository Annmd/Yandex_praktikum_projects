{
 "cells": [
  {
   "cell_type": "markdown",
   "metadata": {},
   "source": [
    "<a href='#1'> Изучение данных и подготовка к анализу </a>\n",
    "\n",
    "<a href='#2'> Предобработка данных</a>\n",
    "\n",
    "<a href='#3'> Исследовательский анализ данных</a>\n",
    "\n",
    "<a href='#4'> Модель прогнозирования оттока клиентов</a>\n",
    "   \n",
    "   <a href='#4.1'> Логистическая регрессия </a>\n",
    "   \n",
    "   <a href='#4.2'> Случайный лес </a>\n",
    "    \n",
    "<a href='#5'>  Кластеризация клиентов </a>\n",
    "\n",
    "<a href='#6'> Вывод</a>\n"
   ]
  },
  {
   "cell_type": "markdown",
   "metadata": {},
   "source": [
    "# Прогнозирование поведения клиентов фитнес-центра"
   ]
  },
  {
   "cell_type": "markdown",
   "metadata": {},
   "source": [
    "Задача: провести анализ на основе данных клиентских анкет и подготовить план действий по удержанию клиентов."
   ]
  },
  {
   "cell_type": "markdown",
   "metadata": {},
   "source": [
    "**Описание данных:**\n",
    "\n",
    "Данные клиента за предыдущий до проверки факта оттока месяц:\n",
    "* 'gender' — пол (1- женщина, 0 - мужчина);\n",
    "* 'Near_Location' — проживание или работа в районе, где находится фитнес-центр;\n",
    "* 'Partner' — сотрудник компании-партнёра клуба (сотрудничество с компаниями, чьи сотрудники могут получать скидки на абонемент — в таком случае фитнес-центр хранит информацию о работодателе клиента);\n",
    "* Promo_friends — факт первоначальной записи в рамках акции «приведи друга» (использовал промо-код от знакомого при оплате первого абонемента);\n",
    "* 'Phone' — наличие контактного телефона;\n",
    "* 'Age' — возраст;\n",
    "* 'Lifetime' — время с момента первого обращения в фитнес-центр (в месяцах).\n",
    "\n",
    "Информация на основе журнала посещений, покупок и информация о текущем статусе абонемента клиента:\n",
    "* 'Contract_period' — длительность текущего действующего абонемента (месяц, 6 месяцев, год);\n",
    "* 'Month_to_end_contract' — срок до окончания текущего действующего абонемента (в месяцах);\n",
    "* 'Group_visits' — факт посещения групповых занятий;\n",
    "* 'Avg_class_frequency_total' — средняя частота посещений в неделю за все время с начала действия абонемента;\n",
    "* 'Avg_class_frequency_current_month' — средняя частота посещений в неделю за предыдущий месяц;\n",
    "* 'Avg_additional_charges_total' — суммарная выручка от других услуг фитнес-центра: кафе, спорттовары, косметический и массажный салон.\n",
    "* 'Churn' — факт оттока в текущем месяце.\n"
   ]
  },
  {
   "cell_type": "code",
   "execution_count": 1,
   "metadata": {},
   "outputs": [],
   "source": [
    "import pandas as pd\n",
    "import matplotlib.pyplot as plt\n",
    "import seaborn as sns\n",
    "from pandas.plotting import register_matplotlib_converters\n",
    "register_matplotlib_converters()\n",
    "from sklearn.model_selection import train_test_split\n",
    "from sklearn.preprocessing import StandardScaler\n",
    "from sklearn.metrics import accuracy_score, precision_score, recall_score\n",
    "from scipy.cluster.hierarchy import dendrogram, linkage\n",
    "from sklearn.cluster import KMeans\n",
    "from sklearn.linear_model import LogisticRegression\n",
    "from sklearn.ensemble import RandomForestClassifier"
   ]
  },
  {
   "cell_type": "markdown",
   "metadata": {},
   "source": [
    "<a id = '1'> </a>"
   ]
  },
  {
   "cell_type": "markdown",
   "metadata": {},
   "source": [
    "## Изучение данных и подготовка к анализу"
   ]
  },
  {
   "cell_type": "code",
   "execution_count": 2,
   "metadata": {},
   "outputs": [
    {
     "data": {
      "text/html": [
       "<div>\n",
       "<style scoped>\n",
       "    .dataframe tbody tr th:only-of-type {\n",
       "        vertical-align: middle;\n",
       "    }\n",
       "\n",
       "    .dataframe tbody tr th {\n",
       "        vertical-align: top;\n",
       "    }\n",
       "\n",
       "    .dataframe thead th {\n",
       "        text-align: right;\n",
       "    }\n",
       "</style>\n",
       "<table border=\"1\" class=\"dataframe\">\n",
       "  <thead>\n",
       "    <tr style=\"text-align: right;\">\n",
       "      <th></th>\n",
       "      <th>gender</th>\n",
       "      <th>Near_Location</th>\n",
       "      <th>Partner</th>\n",
       "      <th>Promo_friends</th>\n",
       "      <th>Phone</th>\n",
       "      <th>Contract_period</th>\n",
       "      <th>Group_visits</th>\n",
       "      <th>Age</th>\n",
       "      <th>Avg_additional_charges_total</th>\n",
       "      <th>Month_to_end_contract</th>\n",
       "      <th>Lifetime</th>\n",
       "      <th>Avg_class_frequency_total</th>\n",
       "      <th>Avg_class_frequency_current_month</th>\n",
       "      <th>Churn</th>\n",
       "    </tr>\n",
       "  </thead>\n",
       "  <tbody>\n",
       "    <tr>\n",
       "      <th>0</th>\n",
       "      <td>1</td>\n",
       "      <td>1</td>\n",
       "      <td>1</td>\n",
       "      <td>1</td>\n",
       "      <td>0</td>\n",
       "      <td>6</td>\n",
       "      <td>1</td>\n",
       "      <td>29</td>\n",
       "      <td>14.227470</td>\n",
       "      <td>5.0</td>\n",
       "      <td>3</td>\n",
       "      <td>0.020398</td>\n",
       "      <td>0.000000</td>\n",
       "      <td>0</td>\n",
       "    </tr>\n",
       "    <tr>\n",
       "      <th>1</th>\n",
       "      <td>0</td>\n",
       "      <td>1</td>\n",
       "      <td>0</td>\n",
       "      <td>0</td>\n",
       "      <td>1</td>\n",
       "      <td>12</td>\n",
       "      <td>1</td>\n",
       "      <td>31</td>\n",
       "      <td>113.202938</td>\n",
       "      <td>12.0</td>\n",
       "      <td>7</td>\n",
       "      <td>1.922936</td>\n",
       "      <td>1.910244</td>\n",
       "      <td>0</td>\n",
       "    </tr>\n",
       "    <tr>\n",
       "      <th>2</th>\n",
       "      <td>0</td>\n",
       "      <td>1</td>\n",
       "      <td>1</td>\n",
       "      <td>0</td>\n",
       "      <td>1</td>\n",
       "      <td>1</td>\n",
       "      <td>0</td>\n",
       "      <td>28</td>\n",
       "      <td>129.448479</td>\n",
       "      <td>1.0</td>\n",
       "      <td>2</td>\n",
       "      <td>1.859098</td>\n",
       "      <td>1.736502</td>\n",
       "      <td>0</td>\n",
       "    </tr>\n",
       "    <tr>\n",
       "      <th>3</th>\n",
       "      <td>0</td>\n",
       "      <td>1</td>\n",
       "      <td>1</td>\n",
       "      <td>1</td>\n",
       "      <td>1</td>\n",
       "      <td>12</td>\n",
       "      <td>1</td>\n",
       "      <td>33</td>\n",
       "      <td>62.669863</td>\n",
       "      <td>12.0</td>\n",
       "      <td>2</td>\n",
       "      <td>3.205633</td>\n",
       "      <td>3.357215</td>\n",
       "      <td>0</td>\n",
       "    </tr>\n",
       "    <tr>\n",
       "      <th>4</th>\n",
       "      <td>1</td>\n",
       "      <td>1</td>\n",
       "      <td>1</td>\n",
       "      <td>1</td>\n",
       "      <td>1</td>\n",
       "      <td>1</td>\n",
       "      <td>0</td>\n",
       "      <td>26</td>\n",
       "      <td>198.362265</td>\n",
       "      <td>1.0</td>\n",
       "      <td>3</td>\n",
       "      <td>1.113884</td>\n",
       "      <td>1.120078</td>\n",
       "      <td>0</td>\n",
       "    </tr>\n",
       "  </tbody>\n",
       "</table>\n",
       "</div>"
      ],
      "text/plain": [
       "   gender  Near_Location  Partner  Promo_friends  Phone  Contract_period  \\\n",
       "0       1              1        1              1      0                6   \n",
       "1       0              1        0              0      1               12   \n",
       "2       0              1        1              0      1                1   \n",
       "3       0              1        1              1      1               12   \n",
       "4       1              1        1              1      1                1   \n",
       "\n",
       "   Group_visits  Age  Avg_additional_charges_total  Month_to_end_contract  \\\n",
       "0             1   29                     14.227470                    5.0   \n",
       "1             1   31                    113.202938                   12.0   \n",
       "2             0   28                    129.448479                    1.0   \n",
       "3             1   33                     62.669863                   12.0   \n",
       "4             0   26                    198.362265                    1.0   \n",
       "\n",
       "   Lifetime  Avg_class_frequency_total  Avg_class_frequency_current_month  \\\n",
       "0         3                   0.020398                           0.000000   \n",
       "1         7                   1.922936                           1.910244   \n",
       "2         2                   1.859098                           1.736502   \n",
       "3         2                   3.205633                           3.357215   \n",
       "4         3                   1.113884                           1.120078   \n",
       "\n",
       "   Churn  \n",
       "0      0  \n",
       "1      0  \n",
       "2      0  \n",
       "3      0  \n",
       "4      0  "
      ]
     },
     "execution_count": 2,
     "metadata": {},
     "output_type": "execute_result"
    }
   ],
   "source": [
    "gym = pd.read_csv('/datasets/gym_churn.csv')\n",
    "gym.head()"
   ]
  },
  {
   "cell_type": "code",
   "execution_count": 3,
   "metadata": {
    "scrolled": true
   },
   "outputs": [
    {
     "data": {
      "text/html": [
       "<div>\n",
       "<style scoped>\n",
       "    .dataframe tbody tr th:only-of-type {\n",
       "        vertical-align: middle;\n",
       "    }\n",
       "\n",
       "    .dataframe tbody tr th {\n",
       "        vertical-align: top;\n",
       "    }\n",
       "\n",
       "    .dataframe thead th {\n",
       "        text-align: right;\n",
       "    }\n",
       "</style>\n",
       "<table border=\"1\" class=\"dataframe\">\n",
       "  <thead>\n",
       "    <tr style=\"text-align: right;\">\n",
       "      <th></th>\n",
       "      <th>gender</th>\n",
       "      <th>Near_Location</th>\n",
       "      <th>Partner</th>\n",
       "      <th>Promo_friends</th>\n",
       "      <th>Phone</th>\n",
       "      <th>Contract_period</th>\n",
       "      <th>Group_visits</th>\n",
       "      <th>Age</th>\n",
       "      <th>Avg_additional_charges_total</th>\n",
       "      <th>Month_to_end_contract</th>\n",
       "      <th>Lifetime</th>\n",
       "      <th>Avg_class_frequency_total</th>\n",
       "      <th>Avg_class_frequency_current_month</th>\n",
       "      <th>Churn</th>\n",
       "    </tr>\n",
       "  </thead>\n",
       "  <tbody>\n",
       "    <tr>\n",
       "      <th>count</th>\n",
       "      <td>4000.000000</td>\n",
       "      <td>4000.000000</td>\n",
       "      <td>4000.000000</td>\n",
       "      <td>4000.000000</td>\n",
       "      <td>4000.000000</td>\n",
       "      <td>4000.000000</td>\n",
       "      <td>4000.000000</td>\n",
       "      <td>4000.000000</td>\n",
       "      <td>4000.000000</td>\n",
       "      <td>4000.000000</td>\n",
       "      <td>4000.000000</td>\n",
       "      <td>4000.000000</td>\n",
       "      <td>4000.000000</td>\n",
       "      <td>4000.000000</td>\n",
       "    </tr>\n",
       "    <tr>\n",
       "      <th>mean</th>\n",
       "      <td>0.510250</td>\n",
       "      <td>0.845250</td>\n",
       "      <td>0.486750</td>\n",
       "      <td>0.308500</td>\n",
       "      <td>0.903500</td>\n",
       "      <td>4.681250</td>\n",
       "      <td>0.412250</td>\n",
       "      <td>29.184250</td>\n",
       "      <td>146.943728</td>\n",
       "      <td>4.322750</td>\n",
       "      <td>3.724750</td>\n",
       "      <td>1.879020</td>\n",
       "      <td>1.767052</td>\n",
       "      <td>0.265250</td>\n",
       "    </tr>\n",
       "    <tr>\n",
       "      <th>std</th>\n",
       "      <td>0.499957</td>\n",
       "      <td>0.361711</td>\n",
       "      <td>0.499887</td>\n",
       "      <td>0.461932</td>\n",
       "      <td>0.295313</td>\n",
       "      <td>4.549706</td>\n",
       "      <td>0.492301</td>\n",
       "      <td>3.258367</td>\n",
       "      <td>96.355602</td>\n",
       "      <td>4.191297</td>\n",
       "      <td>3.749267</td>\n",
       "      <td>0.972245</td>\n",
       "      <td>1.052906</td>\n",
       "      <td>0.441521</td>\n",
       "    </tr>\n",
       "    <tr>\n",
       "      <th>min</th>\n",
       "      <td>0.000000</td>\n",
       "      <td>0.000000</td>\n",
       "      <td>0.000000</td>\n",
       "      <td>0.000000</td>\n",
       "      <td>0.000000</td>\n",
       "      <td>1.000000</td>\n",
       "      <td>0.000000</td>\n",
       "      <td>18.000000</td>\n",
       "      <td>0.148205</td>\n",
       "      <td>1.000000</td>\n",
       "      <td>0.000000</td>\n",
       "      <td>0.000000</td>\n",
       "      <td>0.000000</td>\n",
       "      <td>0.000000</td>\n",
       "    </tr>\n",
       "    <tr>\n",
       "      <th>25%</th>\n",
       "      <td>0.000000</td>\n",
       "      <td>1.000000</td>\n",
       "      <td>0.000000</td>\n",
       "      <td>0.000000</td>\n",
       "      <td>1.000000</td>\n",
       "      <td>1.000000</td>\n",
       "      <td>0.000000</td>\n",
       "      <td>27.000000</td>\n",
       "      <td>68.868830</td>\n",
       "      <td>1.000000</td>\n",
       "      <td>1.000000</td>\n",
       "      <td>1.180875</td>\n",
       "      <td>0.963003</td>\n",
       "      <td>0.000000</td>\n",
       "    </tr>\n",
       "    <tr>\n",
       "      <th>50%</th>\n",
       "      <td>1.000000</td>\n",
       "      <td>1.000000</td>\n",
       "      <td>0.000000</td>\n",
       "      <td>0.000000</td>\n",
       "      <td>1.000000</td>\n",
       "      <td>1.000000</td>\n",
       "      <td>0.000000</td>\n",
       "      <td>29.000000</td>\n",
       "      <td>136.220159</td>\n",
       "      <td>1.000000</td>\n",
       "      <td>3.000000</td>\n",
       "      <td>1.832768</td>\n",
       "      <td>1.719574</td>\n",
       "      <td>0.000000</td>\n",
       "    </tr>\n",
       "    <tr>\n",
       "      <th>75%</th>\n",
       "      <td>1.000000</td>\n",
       "      <td>1.000000</td>\n",
       "      <td>1.000000</td>\n",
       "      <td>1.000000</td>\n",
       "      <td>1.000000</td>\n",
       "      <td>6.000000</td>\n",
       "      <td>1.000000</td>\n",
       "      <td>31.000000</td>\n",
       "      <td>210.949625</td>\n",
       "      <td>6.000000</td>\n",
       "      <td>5.000000</td>\n",
       "      <td>2.536078</td>\n",
       "      <td>2.510336</td>\n",
       "      <td>1.000000</td>\n",
       "    </tr>\n",
       "    <tr>\n",
       "      <th>max</th>\n",
       "      <td>1.000000</td>\n",
       "      <td>1.000000</td>\n",
       "      <td>1.000000</td>\n",
       "      <td>1.000000</td>\n",
       "      <td>1.000000</td>\n",
       "      <td>12.000000</td>\n",
       "      <td>1.000000</td>\n",
       "      <td>41.000000</td>\n",
       "      <td>552.590740</td>\n",
       "      <td>12.000000</td>\n",
       "      <td>31.000000</td>\n",
       "      <td>6.023668</td>\n",
       "      <td>6.146783</td>\n",
       "      <td>1.000000</td>\n",
       "    </tr>\n",
       "  </tbody>\n",
       "</table>\n",
       "</div>"
      ],
      "text/plain": [
       "            gender  Near_Location      Partner  Promo_friends        Phone  \\\n",
       "count  4000.000000    4000.000000  4000.000000    4000.000000  4000.000000   \n",
       "mean      0.510250       0.845250     0.486750       0.308500     0.903500   \n",
       "std       0.499957       0.361711     0.499887       0.461932     0.295313   \n",
       "min       0.000000       0.000000     0.000000       0.000000     0.000000   \n",
       "25%       0.000000       1.000000     0.000000       0.000000     1.000000   \n",
       "50%       1.000000       1.000000     0.000000       0.000000     1.000000   \n",
       "75%       1.000000       1.000000     1.000000       1.000000     1.000000   \n",
       "max       1.000000       1.000000     1.000000       1.000000     1.000000   \n",
       "\n",
       "       Contract_period  Group_visits          Age  \\\n",
       "count      4000.000000   4000.000000  4000.000000   \n",
       "mean          4.681250      0.412250    29.184250   \n",
       "std           4.549706      0.492301     3.258367   \n",
       "min           1.000000      0.000000    18.000000   \n",
       "25%           1.000000      0.000000    27.000000   \n",
       "50%           1.000000      0.000000    29.000000   \n",
       "75%           6.000000      1.000000    31.000000   \n",
       "max          12.000000      1.000000    41.000000   \n",
       "\n",
       "       Avg_additional_charges_total  Month_to_end_contract     Lifetime  \\\n",
       "count                   4000.000000            4000.000000  4000.000000   \n",
       "mean                     146.943728               4.322750     3.724750   \n",
       "std                       96.355602               4.191297     3.749267   \n",
       "min                        0.148205               1.000000     0.000000   \n",
       "25%                       68.868830               1.000000     1.000000   \n",
       "50%                      136.220159               1.000000     3.000000   \n",
       "75%                      210.949625               6.000000     5.000000   \n",
       "max                      552.590740              12.000000    31.000000   \n",
       "\n",
       "       Avg_class_frequency_total  Avg_class_frequency_current_month  \\\n",
       "count                4000.000000                        4000.000000   \n",
       "mean                    1.879020                           1.767052   \n",
       "std                     0.972245                           1.052906   \n",
       "min                     0.000000                           0.000000   \n",
       "25%                     1.180875                           0.963003   \n",
       "50%                     1.832768                           1.719574   \n",
       "75%                     2.536078                           2.510336   \n",
       "max                     6.023668                           6.146783   \n",
       "\n",
       "             Churn  \n",
       "count  4000.000000  \n",
       "mean      0.265250  \n",
       "std       0.441521  \n",
       "min       0.000000  \n",
       "25%       0.000000  \n",
       "50%       0.000000  \n",
       "75%       1.000000  \n",
       "max       1.000000  "
      ]
     },
     "execution_count": 3,
     "metadata": {},
     "output_type": "execute_result"
    }
   ],
   "source": [
    "gym.describe()"
   ]
  },
  {
   "cell_type": "markdown",
   "metadata": {},
   "source": [
    "* Пропусков в данных нет. \n",
    "* Гендерное соотношение равномерное, практически 1:1. \n",
    "* Среди клиентов преобладают проживающие или работающие в районе, где расположен фитнес-клуб. \n",
    "* Практически половина клиентов являются сотрудниками компании-партнёра клуба.\n",
    "* Менее трети клиентов первоначально записались в рамках акции «приведи друга».\n",
    "* У 90% клиентов указан телефон.\n",
    "* В среднем длительность текущего действующего абонемента 4,68 ±4,5 месяца, таким образом преобладают клиенты с месячными и полугодовыми абонементами, что также вижно по первому (1) и третьему (6) квартилям.\n",
    "* Более трети клиентов посещают групповые занятия.\n",
    "* В среднем возраст клиентов 29±3,2 года.\n",
    "* Средняя суммарная выручка от дугих услуг фитнес центра 146,9.\n",
    "* Средний период до конца текущего абонемента 4,3 мес.\n",
    "* Средний лайфтайм 3,7 мес.\n",
    "* Средняя частота посещений в первую и текущую неделю сопоставимы 1,87±0,97 и 1,76±1,05 соответсвенно, в целом на текущей неделе несколько меньше, за счет большей вариабельности данных (std 1.05 против 0.97), что проявляется смещением нижней границы в сторону меньших значений, по сравнению с нижней границей первой недели.\n",
    "* Более четверти клиентов \"ушли\" в текущем месяце."
   ]
  },
  {
   "cell_type": "markdown",
   "metadata": {},
   "source": [
    "<a id = '2'> </a>"
   ]
  },
  {
   "cell_type": "markdown",
   "metadata": {},
   "source": [
    "## Предобработка данных"
   ]
  },
  {
   "cell_type": "code",
   "execution_count": 4,
   "metadata": {},
   "outputs": [
    {
     "data": {
      "text/plain": [
       "0"
      ]
     },
     "execution_count": 4,
     "metadata": {},
     "output_type": "execute_result"
    }
   ],
   "source": [
    "gym.duplicated().sum()"
   ]
  },
  {
   "cell_type": "markdown",
   "metadata": {},
   "source": [
    "Пропусков и дубликатов в данных нет. Приведем названия колонок к нижнему регистру."
   ]
  },
  {
   "cell_type": "code",
   "execution_count": 5,
   "metadata": {},
   "outputs": [
    {
     "data": {
      "text/html": [
       "<div>\n",
       "<style scoped>\n",
       "    .dataframe tbody tr th:only-of-type {\n",
       "        vertical-align: middle;\n",
       "    }\n",
       "\n",
       "    .dataframe tbody tr th {\n",
       "        vertical-align: top;\n",
       "    }\n",
       "\n",
       "    .dataframe thead th {\n",
       "        text-align: right;\n",
       "    }\n",
       "</style>\n",
       "<table border=\"1\" class=\"dataframe\">\n",
       "  <thead>\n",
       "    <tr style=\"text-align: right;\">\n",
       "      <th></th>\n",
       "      <th>gender</th>\n",
       "      <th>near_location</th>\n",
       "      <th>partner</th>\n",
       "      <th>promo_friends</th>\n",
       "      <th>phone</th>\n",
       "      <th>contract_period</th>\n",
       "      <th>group_visits</th>\n",
       "      <th>age</th>\n",
       "      <th>avg_additional_charges_total</th>\n",
       "      <th>month_to_end_contract</th>\n",
       "      <th>lifetime</th>\n",
       "      <th>avg_class_frequency_total</th>\n",
       "      <th>avg_class_frequency_current_month</th>\n",
       "      <th>churn</th>\n",
       "    </tr>\n",
       "  </thead>\n",
       "  <tbody>\n",
       "    <tr>\n",
       "      <th>0</th>\n",
       "      <td>1</td>\n",
       "      <td>1</td>\n",
       "      <td>1</td>\n",
       "      <td>1</td>\n",
       "      <td>0</td>\n",
       "      <td>6</td>\n",
       "      <td>1</td>\n",
       "      <td>29</td>\n",
       "      <td>14.227470</td>\n",
       "      <td>5.0</td>\n",
       "      <td>3</td>\n",
       "      <td>0.020398</td>\n",
       "      <td>0.000000</td>\n",
       "      <td>0</td>\n",
       "    </tr>\n",
       "    <tr>\n",
       "      <th>1</th>\n",
       "      <td>0</td>\n",
       "      <td>1</td>\n",
       "      <td>0</td>\n",
       "      <td>0</td>\n",
       "      <td>1</td>\n",
       "      <td>12</td>\n",
       "      <td>1</td>\n",
       "      <td>31</td>\n",
       "      <td>113.202938</td>\n",
       "      <td>12.0</td>\n",
       "      <td>7</td>\n",
       "      <td>1.922936</td>\n",
       "      <td>1.910244</td>\n",
       "      <td>0</td>\n",
       "    </tr>\n",
       "    <tr>\n",
       "      <th>2</th>\n",
       "      <td>0</td>\n",
       "      <td>1</td>\n",
       "      <td>1</td>\n",
       "      <td>0</td>\n",
       "      <td>1</td>\n",
       "      <td>1</td>\n",
       "      <td>0</td>\n",
       "      <td>28</td>\n",
       "      <td>129.448479</td>\n",
       "      <td>1.0</td>\n",
       "      <td>2</td>\n",
       "      <td>1.859098</td>\n",
       "      <td>1.736502</td>\n",
       "      <td>0</td>\n",
       "    </tr>\n",
       "    <tr>\n",
       "      <th>3</th>\n",
       "      <td>0</td>\n",
       "      <td>1</td>\n",
       "      <td>1</td>\n",
       "      <td>1</td>\n",
       "      <td>1</td>\n",
       "      <td>12</td>\n",
       "      <td>1</td>\n",
       "      <td>33</td>\n",
       "      <td>62.669863</td>\n",
       "      <td>12.0</td>\n",
       "      <td>2</td>\n",
       "      <td>3.205633</td>\n",
       "      <td>3.357215</td>\n",
       "      <td>0</td>\n",
       "    </tr>\n",
       "    <tr>\n",
       "      <th>4</th>\n",
       "      <td>1</td>\n",
       "      <td>1</td>\n",
       "      <td>1</td>\n",
       "      <td>1</td>\n",
       "      <td>1</td>\n",
       "      <td>1</td>\n",
       "      <td>0</td>\n",
       "      <td>26</td>\n",
       "      <td>198.362265</td>\n",
       "      <td>1.0</td>\n",
       "      <td>3</td>\n",
       "      <td>1.113884</td>\n",
       "      <td>1.120078</td>\n",
       "      <td>0</td>\n",
       "    </tr>\n",
       "  </tbody>\n",
       "</table>\n",
       "</div>"
      ],
      "text/plain": [
       "   gender  near_location  partner  promo_friends  phone  contract_period  \\\n",
       "0       1              1        1              1      0                6   \n",
       "1       0              1        0              0      1               12   \n",
       "2       0              1        1              0      1                1   \n",
       "3       0              1        1              1      1               12   \n",
       "4       1              1        1              1      1                1   \n",
       "\n",
       "   group_visits  age  avg_additional_charges_total  month_to_end_contract  \\\n",
       "0             1   29                     14.227470                    5.0   \n",
       "1             1   31                    113.202938                   12.0   \n",
       "2             0   28                    129.448479                    1.0   \n",
       "3             1   33                     62.669863                   12.0   \n",
       "4             0   26                    198.362265                    1.0   \n",
       "\n",
       "   lifetime  avg_class_frequency_total  avg_class_frequency_current_month  \\\n",
       "0         3                   0.020398                           0.000000   \n",
       "1         7                   1.922936                           1.910244   \n",
       "2         2                   1.859098                           1.736502   \n",
       "3         2                   3.205633                           3.357215   \n",
       "4         3                   1.113884                           1.120078   \n",
       "\n",
       "   churn  \n",
       "0      0  \n",
       "1      0  \n",
       "2      0  \n",
       "3      0  \n",
       "4      0  "
      ]
     },
     "execution_count": 5,
     "metadata": {},
     "output_type": "execute_result"
    }
   ],
   "source": [
    "gym.columns = gym.columns.str.lower()\n",
    "gym.head() "
   ]
  },
  {
   "cell_type": "markdown",
   "metadata": {},
   "source": [
    "<a id = '3'> </a>"
   ]
  },
  {
   "cell_type": "markdown",
   "metadata": {},
   "source": [
    "## Исследовательский анализ данных "
   ]
  },
  {
   "cell_type": "markdown",
   "metadata": {},
   "source": [
    "Посмотрим численность групп \"ушедших\" и оставшихся клиентов."
   ]
  },
  {
   "cell_type": "code",
   "execution_count": 6,
   "metadata": {},
   "outputs": [
    {
     "data": {
      "text/plain": [
       "0    2939\n",
       "1    1061\n",
       "Name: churn, dtype: int64"
      ]
     },
     "execution_count": 6,
     "metadata": {},
     "output_type": "execute_result"
    }
   ],
   "source": [
    "gym['churn'].value_counts()"
   ]
  },
  {
   "cell_type": "markdown",
   "metadata": {},
   "source": [
    "Соотношение 1:2,7."
   ]
  },
  {
   "cell_type": "markdown",
   "metadata": {},
   "source": [
    "Посмотрим на средние значения признаков в группах \"ушедших\" и оставшихся клиентов."
   ]
  },
  {
   "cell_type": "code",
   "execution_count": 7,
   "metadata": {},
   "outputs": [
    {
     "data": {
      "text/html": [
       "<div>\n",
       "<style scoped>\n",
       "    .dataframe tbody tr th:only-of-type {\n",
       "        vertical-align: middle;\n",
       "    }\n",
       "\n",
       "    .dataframe tbody tr th {\n",
       "        vertical-align: top;\n",
       "    }\n",
       "\n",
       "    .dataframe thead th {\n",
       "        text-align: right;\n",
       "    }\n",
       "</style>\n",
       "<table border=\"1\" class=\"dataframe\">\n",
       "  <thead>\n",
       "    <tr style=\"text-align: right;\">\n",
       "      <th></th>\n",
       "      <th>gender</th>\n",
       "      <th>near_location</th>\n",
       "      <th>partner</th>\n",
       "      <th>promo_friends</th>\n",
       "      <th>phone</th>\n",
       "      <th>contract_period</th>\n",
       "      <th>group_visits</th>\n",
       "      <th>age</th>\n",
       "      <th>avg_additional_charges_total</th>\n",
       "      <th>month_to_end_contract</th>\n",
       "      <th>lifetime</th>\n",
       "      <th>avg_class_frequency_total</th>\n",
       "      <th>avg_class_frequency_current_month</th>\n",
       "    </tr>\n",
       "    <tr>\n",
       "      <th>churn</th>\n",
       "      <th></th>\n",
       "      <th></th>\n",
       "      <th></th>\n",
       "      <th></th>\n",
       "      <th></th>\n",
       "      <th></th>\n",
       "      <th></th>\n",
       "      <th></th>\n",
       "      <th></th>\n",
       "      <th></th>\n",
       "      <th></th>\n",
       "      <th></th>\n",
       "      <th></th>\n",
       "    </tr>\n",
       "  </thead>\n",
       "  <tbody>\n",
       "    <tr>\n",
       "      <th>0</th>\n",
       "      <td>0.510037</td>\n",
       "      <td>0.873086</td>\n",
       "      <td>0.534195</td>\n",
       "      <td>0.353522</td>\n",
       "      <td>0.903709</td>\n",
       "      <td>5.747193</td>\n",
       "      <td>0.464103</td>\n",
       "      <td>29.976523</td>\n",
       "      <td>158.445715</td>\n",
       "      <td>5.283089</td>\n",
       "      <td>4.711807</td>\n",
       "      <td>2.024876</td>\n",
       "      <td>2.027882</td>\n",
       "    </tr>\n",
       "    <tr>\n",
       "      <th>1</th>\n",
       "      <td>0.510839</td>\n",
       "      <td>0.768143</td>\n",
       "      <td>0.355325</td>\n",
       "      <td>0.183789</td>\n",
       "      <td>0.902922</td>\n",
       "      <td>1.728558</td>\n",
       "      <td>0.268615</td>\n",
       "      <td>26.989632</td>\n",
       "      <td>115.082899</td>\n",
       "      <td>1.662582</td>\n",
       "      <td>0.990575</td>\n",
       "      <td>1.474995</td>\n",
       "      <td>1.044546</td>\n",
       "    </tr>\n",
       "  </tbody>\n",
       "</table>\n",
       "</div>"
      ],
      "text/plain": [
       "         gender  near_location   partner  promo_friends     phone  \\\n",
       "churn                                                               \n",
       "0      0.510037       0.873086  0.534195       0.353522  0.903709   \n",
       "1      0.510839       0.768143  0.355325       0.183789  0.902922   \n",
       "\n",
       "       contract_period  group_visits        age  avg_additional_charges_total  \\\n",
       "churn                                                                           \n",
       "0             5.747193      0.464103  29.976523                    158.445715   \n",
       "1             1.728558      0.268615  26.989632                    115.082899   \n",
       "\n",
       "       month_to_end_contract  lifetime  avg_class_frequency_total  \\\n",
       "churn                                                               \n",
       "0                   5.283089  4.711807                   2.024876   \n",
       "1                   1.662582  0.990575                   1.474995   \n",
       "\n",
       "       avg_class_frequency_current_month  \n",
       "churn                                     \n",
       "0                               2.027882  \n",
       "1                               1.044546  "
      ]
     },
     "execution_count": 7,
     "metadata": {},
     "output_type": "execute_result"
    }
   ],
   "source": [
    "gym.groupby('churn').mean()   "
   ]
  },
  {
   "cell_type": "markdown",
   "metadata": {},
   "source": [
    "Гендерное соотношение в обеих группах одинаковое, также группы не различаются по наличию телефона.\n",
    "Во всех остальных признаках группа \"ушедших\" показывает более низкие результаты. Наиболее значимые различия по признакам:\n",
    "* **длительность текущего действующего абонемента** (1.7 vs 5.7)\n",
    "* **суммарная выручка от других услуг фитнес-центра** (115 vs 158)\n",
    "* **срок до окончания текущего действующего абонемента** (1.6 vs 5.2)\n",
    "* **время с момента первого обращения в фитнес-центр** (0.9 vs 4.7)\n",
    "* **средняя частота посещений в неделю за предыдущий месяц**(1.0 vs 2.0). \n",
    "В целом \"ушедшие\" клиенты демонстрируют более низкую среднюю частоту посещений в неделю за все время с начала действия абонемента(1.47 vs 2.0), но средняя частота посещений в неделю за предыдущий месяц ниже в 2 раза."
   ]
  },
  {
   "cell_type": "markdown",
   "metadata": {},
   "source": [
    "Посмотрим распределение по разным признакам в группе \"ушедших\" и оставшихся клиентов. Для визуализации распределений числовых признаков построим гистограммы."
   ]
  },
  {
   "cell_type": "code",
   "execution_count": 8,
   "metadata": {},
   "outputs": [
    {
     "data": {
      "text/plain": [
       "<Figure size 720x360 with 0 Axes>"
      ]
     },
     "metadata": {},
     "output_type": "display_data"
    },
    {
     "data": {
      "image/png": "[encoded data removed]",
      "text/plain": [
       "<Figure size 720x360 with 2 Axes>"
      ]
     },
     "metadata": {
      "needs_background": "light"
     },
     "output_type": "display_data"
    },
    {
     "data": {
      "image/png": "[encoded data removed]",
      "text/plain": [
       "<Figure size 720x360 with 2 Axes>"
      ]
     },
     "metadata": {
      "needs_background": "light"
     },
     "output_type": "display_data"
    }
   ],
   "source": [
    "fig = plt.figure(figsize = (10,5))\n",
    "\n",
    "sns.displot(x='avg_class_frequency_total',\n",
    "            col='churn',\n",
    "            kde=True,\n",
    "            data=gym,\n",
    "            color = 'blue')\n",
    "plt.title('Распределение признака avg_class_frequency_total',fontsize=14);\n",
    "\n",
    "sns.displot(x='avg_class_frequency_current_month',\n",
    "            col='churn',\n",
    "            kde=True,\n",
    "            data=gym,\n",
    "            color = 'green')\n",
    "plt.title('Распределение признака avg_class_frequency_current_month',fontsize=14);\n",
    "plt.show()   "
   ]
  },
  {
   "cell_type": "markdown",
   "metadata": {},
   "source": [
    "* Видно,что форма распределения в обеих группах по avg_class_frequency_total одинаковая, разница лишь в количестве, что примерно соответсвует разнице между количеством клиентов в группах.\n",
    "* Формы распределения по признаку avg_class_frequency_current_month значительно различаются, в группе \"ушедших\" клиентов график смещен в сторону меньших значений с большим пиком около 0, что является закономерным, перед тем как окончательно \"уйти\" клиенты сокращают количество своих визитов в клуб."
   ]
  },
  {
   "cell_type": "code",
   "execution_count": 9,
   "metadata": {
    "scrolled": false
   },
   "outputs": [
    {
     "data": {
      "image/png": "[encoded data removed]",
      "text/plain": [
       "<Figure size 402.375x360 with 1 Axes>"
      ]
     },
     "metadata": {
      "needs_background": "light"
     },
     "output_type": "display_data"
    },
    {
     "data": {
      "image/png": "[encoded data removed]",
      "text/plain": [
       "<Figure size 402.375x360 with 1 Axes>"
      ]
     },
     "metadata": {
      "needs_background": "light"
     },
     "output_type": "display_data"
    },
    {
     "data": {
      "image/png": "[encoded data removed]",
      "text/plain": [
       "<Figure size 402.375x360 with 1 Axes>"
      ]
     },
     "metadata": {
      "needs_background": "light"
     },
     "output_type": "display_data"
    },
    {
     "data": {
      "image/png": "[encoded data removed]",
      "text/plain": [
       "<Figure size 402.375x360 with 1 Axes>"
      ]
     },
     "metadata": {
      "needs_background": "light"
     },
     "output_type": "display_data"
    }
   ],
   "source": [
    "for col in gym[['age', 'avg_additional_charges_total', 'month_to_end_contract', 'lifetime']].columns:\n",
    "    plot = sns.displot(x=gym[col],hue= gym['churn'],kde=True)\n",
    "    plt.title('Распределение по признаку {}'.format(col),fontsize=14)\n",
    "    plt.show()\n"
   ]
  },
  {
   "cell_type": "markdown",
   "metadata": {},
   "source": [
    "* Распределения в группах по признаку возраста также сопоставимы по форме, распределение в группе ушедших клиентов несколько смещено в сторону меньших значений.\n",
    "* Распределение по признаку avg_additional_charges_total одинаковой формы, различается лишь масштаб.\n",
    "* Распределение по признаку month_to_end_contract у ушедших клиентов также смещено в сторону меньших значений, после 7 месяцев кривая совпадает с осью х, кроме того непропорционально большой пик, по сравнению с группой оставшихся пользователей, в области 1 месяца\n",
    "* распределение по признаку лайфтайм смещено в сторону меньших значений после 6-7 месяцев сливается в осью х."
   ]
  },
  {
   "cell_type": "markdown",
   "metadata": {},
   "source": [
    "Распределение категориальных признаков отобразим с помощью violinplot и столбчатых диаграмм."
   ]
  },
  {
   "cell_type": "code",
   "execution_count": 10,
   "metadata": {
    "scrolled": false
   },
   "outputs": [
    {
     "data": {
      "image/png": "[encoded data removed]",
      "text/plain": [
       "<Figure size 576x360 with 1 Axes>"
      ]
     },
     "metadata": {
      "needs_background": "light"
     },
     "output_type": "display_data"
    },
    {
     "data": {
      "image/png": "[encoded data removed]",
      "text/plain": [
       "<Figure size 576x360 with 1 Axes>"
      ]
     },
     "metadata": {
      "needs_background": "light"
     },
     "output_type": "display_data"
    },
    {
     "data": {
      "image/png": "[encoded data removed]",
      "text/plain": [
       "<Figure size 576x360 with 1 Axes>"
      ]
     },
     "metadata": {
      "needs_background": "light"
     },
     "output_type": "display_data"
    },
    {
     "data": {
      "image/png": "[encoded data removed]",
      "text/plain": [
       "<Figure size 576x360 with 1 Axes>"
      ]
     },
     "metadata": {
      "needs_background": "light"
     },
     "output_type": "display_data"
    },
    {
     "data": {
      "image/png": "[encoded data removed]",
      "text/plain": [
       "<Figure size 576x360 with 1 Axes>"
      ]
     },
     "metadata": {
      "needs_background": "light"
     },
     "output_type": "display_data"
    },
    {
     "data": {
      "image/png": "[encoded data removed]",
      "text/plain": [
       "<Figure size 576x360 with 1 Axes>"
      ]
     },
     "metadata": {
      "needs_background": "light"
     },
     "output_type": "display_data"
    },
    {
     "data": {
      "image/png": "[encoded data removed]",
      "text/plain": [
       "<Figure size 576x360 with 1 Axes>"
      ]
     },
     "metadata": {
      "needs_background": "light"
     },
     "output_type": "display_data"
    }
   ],
   "source": [
    "for col in gym[ ['gender', 'near_location', 'partner', 'promo_friends', 'phone', 'contract_period', 'group_visits']].columns:\n",
    "    fig = plt.figure(figsize = (8,5))\n",
    "    fig.suptitle('Распределение признака {}'.format(col),fontsize=15)\n",
    "    sns.countplot(x=col, hue='churn', data=gym)\n",
    "    plt.show()"
   ]
  },
  {
   "cell_type": "markdown",
   "metadata": {},
   "source": [
    "* Распределение по признаку пола одинаково в обеих группах\n",
    "* Большая часть  оставшихся пользователей живет или работает рядом с клубом, в группе ушедших пользователей эта доля ниже\n",
    "* Большая часть оставшихся клиентов являются сотрудниками компании-партнера клуба, в группе ушедших клиентов преобладают клиенты, не являющиеся сотрудниками компании-партнера клуба\n",
    "* Большая часть клиентов в обеих группах пришла не по программе promo_friends\n",
    "* У большей части клиентов обеих групп указан номер телефона\n",
    "* Распределения по признаку contract_period различаются. Несмотря на преодладание в обеих группах периода в 1 месяц, в группе ушедших клиентов  доля таких клиентов в общем соотношении значительно выше. Кроме того наблюдается снижение числа клиентов с увеличением количества месяцев абонемента, а в группе оставшихся пользователей число клиентов с абонементом в 12 месяцев превышает число клиентов с абонементом в 6 месяцев\n",
    "* В обеих группах доля клиентов, не посещающих групповые занятия выше, причем в группе \"ушедших\" клиентов доля клиентов, посещающих групповые занятия меньше"
   ]
  },
  {
   "cell_type": "code",
   "execution_count": 11,
   "metadata": {},
   "outputs": [
    {
     "data": {
      "image/png": "[encoded data removed]",
      "text/plain": [
       "<Figure size 1080x720 with 2 Axes>"
      ]
     },
     "metadata": {
      "needs_background": "light"
     },
     "output_type": "display_data"
    }
   ],
   "source": [
    "cm = gym.corr()\n",
    "plt.figure(figsize = (15,10))\n",
    "sns.heatmap(cm, annot = True, square = True)\n",
    "plt.show()"
   ]
  },
  {
   "cell_type": "markdown",
   "metadata": {},
   "source": [
    "На матрице корреляции признаков сильно коррелирующих с целевым показателем churn не выявлено. Максимальные кореляции показывают время с момента первого обращения в фитнес-центр и средняя частота посещений в неделю за предыдущий месяц. Но на матрице есть сильно коррелирующие между собой признаки:\n",
    "\n",
    "* **длительность текущего действующего абонемента** и **срок до окончания текущего действующего абонемента** (0.97)\n",
    "* **средняя частота посещений в неделю за все время с начала действия абонемента** и **средняя частота посещений в неделю за предыдущий месяц** (0.95)"
   ]
  },
  {
   "cell_type": "markdown",
   "metadata": {},
   "source": [
    "Учитывая высокую корреляцию двух пар признаков, перед обучением по одному из пары нужно будет удалить, для избежания ошибок вследствие мультиколлинеарности. Оставим признаки **длительность текущего действующего абонемента** и **средняя частота посещений в неделю за предыдущий месяц**."
   ]
  },
  {
   "cell_type": "code",
   "execution_count": 12,
   "metadata": {},
   "outputs": [
    {
     "data": {
      "text/html": [
       "<div>\n",
       "<style scoped>\n",
       "    .dataframe tbody tr th:only-of-type {\n",
       "        vertical-align: middle;\n",
       "    }\n",
       "\n",
       "    .dataframe tbody tr th {\n",
       "        vertical-align: top;\n",
       "    }\n",
       "\n",
       "    .dataframe thead th {\n",
       "        text-align: right;\n",
       "    }\n",
       "</style>\n",
       "<table border=\"1\" class=\"dataframe\">\n",
       "  <thead>\n",
       "    <tr style=\"text-align: right;\">\n",
       "      <th></th>\n",
       "      <th>gender</th>\n",
       "      <th>near_location</th>\n",
       "      <th>partner</th>\n",
       "      <th>promo_friends</th>\n",
       "      <th>phone</th>\n",
       "      <th>contract_period</th>\n",
       "      <th>group_visits</th>\n",
       "      <th>age</th>\n",
       "      <th>avg_additional_charges_total</th>\n",
       "      <th>lifetime</th>\n",
       "      <th>avg_class_frequency_current_month</th>\n",
       "      <th>churn</th>\n",
       "    </tr>\n",
       "  </thead>\n",
       "  <tbody>\n",
       "    <tr>\n",
       "      <th>0</th>\n",
       "      <td>1</td>\n",
       "      <td>1</td>\n",
       "      <td>1</td>\n",
       "      <td>1</td>\n",
       "      <td>0</td>\n",
       "      <td>6</td>\n",
       "      <td>1</td>\n",
       "      <td>29</td>\n",
       "      <td>14.227470</td>\n",
       "      <td>3</td>\n",
       "      <td>0.000000</td>\n",
       "      <td>0</td>\n",
       "    </tr>\n",
       "    <tr>\n",
       "      <th>1</th>\n",
       "      <td>0</td>\n",
       "      <td>1</td>\n",
       "      <td>0</td>\n",
       "      <td>0</td>\n",
       "      <td>1</td>\n",
       "      <td>12</td>\n",
       "      <td>1</td>\n",
       "      <td>31</td>\n",
       "      <td>113.202938</td>\n",
       "      <td>7</td>\n",
       "      <td>1.910244</td>\n",
       "      <td>0</td>\n",
       "    </tr>\n",
       "    <tr>\n",
       "      <th>2</th>\n",
       "      <td>0</td>\n",
       "      <td>1</td>\n",
       "      <td>1</td>\n",
       "      <td>0</td>\n",
       "      <td>1</td>\n",
       "      <td>1</td>\n",
       "      <td>0</td>\n",
       "      <td>28</td>\n",
       "      <td>129.448479</td>\n",
       "      <td>2</td>\n",
       "      <td>1.736502</td>\n",
       "      <td>0</td>\n",
       "    </tr>\n",
       "    <tr>\n",
       "      <th>3</th>\n",
       "      <td>0</td>\n",
       "      <td>1</td>\n",
       "      <td>1</td>\n",
       "      <td>1</td>\n",
       "      <td>1</td>\n",
       "      <td>12</td>\n",
       "      <td>1</td>\n",
       "      <td>33</td>\n",
       "      <td>62.669863</td>\n",
       "      <td>2</td>\n",
       "      <td>3.357215</td>\n",
       "      <td>0</td>\n",
       "    </tr>\n",
       "    <tr>\n",
       "      <th>4</th>\n",
       "      <td>1</td>\n",
       "      <td>1</td>\n",
       "      <td>1</td>\n",
       "      <td>1</td>\n",
       "      <td>1</td>\n",
       "      <td>1</td>\n",
       "      <td>0</td>\n",
       "      <td>26</td>\n",
       "      <td>198.362265</td>\n",
       "      <td>3</td>\n",
       "      <td>1.120078</td>\n",
       "      <td>0</td>\n",
       "    </tr>\n",
       "  </tbody>\n",
       "</table>\n",
       "</div>"
      ],
      "text/plain": [
       "   gender  near_location  partner  promo_friends  phone  contract_period  \\\n",
       "0       1              1        1              1      0                6   \n",
       "1       0              1        0              0      1               12   \n",
       "2       0              1        1              0      1                1   \n",
       "3       0              1        1              1      1               12   \n",
       "4       1              1        1              1      1                1   \n",
       "\n",
       "   group_visits  age  avg_additional_charges_total  lifetime  \\\n",
       "0             1   29                     14.227470         3   \n",
       "1             1   31                    113.202938         7   \n",
       "2             0   28                    129.448479         2   \n",
       "3             1   33                     62.669863         2   \n",
       "4             0   26                    198.362265         3   \n",
       "\n",
       "   avg_class_frequency_current_month  churn  \n",
       "0                           0.000000      0  \n",
       "1                           1.910244      0  \n",
       "2                           1.736502      0  \n",
       "3                           3.357215      0  \n",
       "4                           1.120078      0  "
      ]
     },
     "execution_count": 12,
     "metadata": {},
     "output_type": "execute_result"
    }
   ],
   "source": [
    "gym = gym.drop(columns = ['month_to_end_contract', 'avg_class_frequency_total'], axis = 1)\n",
    "gym.head()"
   ]
  },
  {
   "cell_type": "markdown",
   "metadata": {},
   "source": [
    "<a id = '4'> </a>"
   ]
  },
  {
   "cell_type": "markdown",
   "metadata": {},
   "source": [
    "## Модель прогнозирования оттока клиентов"
   ]
  },
  {
   "cell_type": "markdown",
   "metadata": {},
   "source": [
    "Построим модель бинарной классификации клиентов, где целевой признак — факт оттока клиента в следующем месяце. Для начала присвоим выборкам признаков и целевого значения имена x и у соответсвенно, а затем разобьем данные на обучающую и валидационную выборки в соотношении 80:20."
   ]
  },
  {
   "cell_type": "code",
   "execution_count": 13,
   "metadata": {},
   "outputs": [],
   "source": [
    "x = gym.drop(['churn'],axis = 1)\n",
    "y = gym['churn']\n",
    "x_train, x_test, y_train, y_test = train_test_split(x,y,test_size = 0.2,random_state=0)"
   ]
  },
  {
   "cell_type": "markdown",
   "metadata": {},
   "source": [
    "<a id = '4.1'> </a>"
   ]
  },
  {
   "cell_type": "markdown",
   "metadata": {},
   "source": [
    "### Логистическая регрессия"
   ]
  },
  {
   "cell_type": "markdown",
   "metadata": {},
   "source": [
    "Стандартизируем данные перед использованием регрессии."
   ]
  },
  {
   "cell_type": "code",
   "execution_count": 14,
   "metadata": {},
   "outputs": [],
   "source": [
    "scaler = StandardScaler() \n",
    "x_train_st =  scaler.fit_transform(x_train)\n",
    "x_test_st = scaler.transform(x_test)"
   ]
  },
  {
   "cell_type": "code",
   "execution_count": 15,
   "metadata": {},
   "outputs": [],
   "source": [
    "model = LogisticRegression(solver='liblinear')\n",
    "model.fit(x_train_st,y_train)\n",
    "predictions = model.predict(x_test_st)"
   ]
  },
  {
   "cell_type": "code",
   "execution_count": 16,
   "metadata": {},
   "outputs": [
    {
     "name": "stdout",
     "output_type": "stream",
     "text": [
      "Accuracy: 0.90\n",
      "Precision: 0.79\n",
      "Recall: 0.82\n"
     ]
    }
   ],
   "source": [
    "print('Accuracy: {:.2f}'.format(accuracy_score(y_test,predictions)))\n",
    "print('Precision: {:.2f}'.format(precision_score(y_test,predictions)))\n",
    "print('Recall: {:.2f}'.format(recall_score(y_test,predictions)))"
   ]
  },
  {
   "cell_type": "markdown",
   "metadata": {},
   "source": [
    "<a id = '4.2'> </a>"
   ]
  },
  {
   "cell_type": "markdown",
   "metadata": {},
   "source": [
    "### Случайный лес"
   ]
  },
  {
   "cell_type": "code",
   "execution_count": 17,
   "metadata": {},
   "outputs": [],
   "source": [
    "rf_model = RandomForestClassifier(n_estimators = 100, random_state = 0)\n",
    "rf_model.fit(x_train_st,y_train)\n",
    "rf_predictions = rf_model.predict(x_test_st)"
   ]
  },
  {
   "cell_type": "code",
   "execution_count": 18,
   "metadata": {},
   "outputs": [
    {
     "name": "stdout",
     "output_type": "stream",
     "text": [
      "Accuracy: 0.90\n",
      "Precision: 0.81\n",
      "Recall: 0.75\n"
     ]
    }
   ],
   "source": [
    "print('Accuracy: {:.2f}'.format(accuracy_score(y_test,rf_predictions)))\n",
    "print('Precision: {:.2f}'.format(precision_score(y_test,rf_predictions)))\n",
    "print('Recall: {:.2f}'.format(recall_score(y_test,rf_predictions)))"
   ]
  },
  {
   "cell_type": "markdown",
   "metadata": {},
   "source": [
    "### Вывод"
   ]
  },
  {
   "cell_type": "markdown",
   "metadata": {},
   "source": [
    "При сравнении двух моледей на основании оцениваемых метрик себя показала лучше логистическая регрессия, так при равной доле правильных ответов, модель показывает сопоставимую точность и большую, чем у другой модели полноту.\n"
   ]
  },
  {
   "cell_type": "markdown",
   "metadata": {},
   "source": [
    "<a id = '5'> </a>"
   ]
  },
  {
   "cell_type": "markdown",
   "metadata": {},
   "source": [
    "## Кластеризация клиентов"
   ]
  },
  {
   "cell_type": "markdown",
   "metadata": {},
   "source": [
    "Построим дендрограмму на основе данных для выбора оптимального числа кластеров."
   ]
  },
  {
   "cell_type": "code",
   "execution_count": 19,
   "metadata": {},
   "outputs": [],
   "source": [
    "x_st =  scaler.fit_transform(x)"
   ]
  },
  {
   "cell_type": "code",
   "execution_count": 20,
   "metadata": {},
   "outputs": [
    {
     "data": {
      "image/png": "[encoded data removed]",
      "text/plain": [
       "<Figure size 1080x720 with 1 Axes>"
      ]
     },
     "metadata": {
      "needs_background": "light"
     },
     "output_type": "display_data"
    }
   ],
   "source": [
    "linked = linkage(x_st, method = 'ward') \n",
    "plt.figure(figsize=(15, 10))  \n",
    "dendrogram(linked, orientation='top')\n",
    "plt.title('Сlustering for GYM')\n",
    "plt.show() "
   ]
  },
  {
   "cell_type": "markdown",
   "metadata": {},
   "source": [
    "Разделим клиентов на 5 кластеров. Проведем кластеризацию с помощью KMeans."
   ]
  },
  {
   "cell_type": "code",
   "execution_count": 21,
   "metadata": {},
   "outputs": [
    {
     "data": {
      "text/html": [
       "<div>\n",
       "<style scoped>\n",
       "    .dataframe tbody tr th:only-of-type {\n",
       "        vertical-align: middle;\n",
       "    }\n",
       "\n",
       "    .dataframe tbody tr th {\n",
       "        vertical-align: top;\n",
       "    }\n",
       "\n",
       "    .dataframe thead th {\n",
       "        text-align: right;\n",
       "    }\n",
       "</style>\n",
       "<table border=\"1\" class=\"dataframe\">\n",
       "  <thead>\n",
       "    <tr style=\"text-align: right;\">\n",
       "      <th></th>\n",
       "      <th>churn</th>\n",
       "      <th>cluster</th>\n",
       "    </tr>\n",
       "  </thead>\n",
       "  <tbody>\n",
       "    <tr>\n",
       "      <th>0</th>\n",
       "      <td>0</td>\n",
       "      <td>4</td>\n",
       "    </tr>\n",
       "    <tr>\n",
       "      <th>1</th>\n",
       "      <td>0</td>\n",
       "      <td>3</td>\n",
       "    </tr>\n",
       "    <tr>\n",
       "      <th>2</th>\n",
       "      <td>0</td>\n",
       "      <td>2</td>\n",
       "    </tr>\n",
       "    <tr>\n",
       "      <th>3</th>\n",
       "      <td>0</td>\n",
       "      <td>0</td>\n",
       "    </tr>\n",
       "    <tr>\n",
       "      <th>4</th>\n",
       "      <td>0</td>\n",
       "      <td>0</td>\n",
       "    </tr>\n",
       "    <tr>\n",
       "      <th>5</th>\n",
       "      <td>0</td>\n",
       "      <td>3</td>\n",
       "    </tr>\n",
       "    <tr>\n",
       "      <th>6</th>\n",
       "      <td>0</td>\n",
       "      <td>4</td>\n",
       "    </tr>\n",
       "    <tr>\n",
       "      <th>7</th>\n",
       "      <td>1</td>\n",
       "      <td>2</td>\n",
       "    </tr>\n",
       "    <tr>\n",
       "      <th>8</th>\n",
       "      <td>0</td>\n",
       "      <td>0</td>\n",
       "    </tr>\n",
       "    <tr>\n",
       "      <th>9</th>\n",
       "      <td>0</td>\n",
       "      <td>3</td>\n",
       "    </tr>\n",
       "  </tbody>\n",
       "</table>\n",
       "</div>"
      ],
      "text/plain": [
       "   churn  cluster\n",
       "0      0        4\n",
       "1      0        3\n",
       "2      0        2\n",
       "3      0        0\n",
       "4      0        0\n",
       "5      0        3\n",
       "6      0        4\n",
       "7      1        2\n",
       "8      0        0\n",
       "9      0        3"
      ]
     },
     "execution_count": 21,
     "metadata": {},
     "output_type": "execute_result"
    }
   ],
   "source": [
    "km = KMeans(n_clusters=5, random_state=0) \n",
    "labels = km.fit_predict(x_st) \n",
    "gym['cluster'] = labels\n",
    "gym[['churn','cluster']].head(10)"
   ]
  },
  {
   "cell_type": "markdown",
   "metadata": {},
   "source": [
    "Посмотрим на количество пользователей в каждом кластере."
   ]
  },
  {
   "cell_type": "code",
   "execution_count": 22,
   "metadata": {},
   "outputs": [
    {
     "data": {
      "text/html": [
       "<div>\n",
       "<style scoped>\n",
       "    .dataframe tbody tr th:only-of-type {\n",
       "        vertical-align: middle;\n",
       "    }\n",
       "\n",
       "    .dataframe tbody tr th {\n",
       "        vertical-align: top;\n",
       "    }\n",
       "\n",
       "    .dataframe thead th {\n",
       "        text-align: right;\n",
       "    }\n",
       "</style>\n",
       "<table border=\"1\" class=\"dataframe\">\n",
       "  <thead>\n",
       "    <tr style=\"text-align: right;\">\n",
       "      <th></th>\n",
       "      <th>total</th>\n",
       "    </tr>\n",
       "    <tr>\n",
       "      <th>cluster</th>\n",
       "      <th></th>\n",
       "    </tr>\n",
       "  </thead>\n",
       "  <tbody>\n",
       "    <tr>\n",
       "      <th>0</th>\n",
       "      <td>985</td>\n",
       "    </tr>\n",
       "    <tr>\n",
       "      <th>1</th>\n",
       "      <td>558</td>\n",
       "    </tr>\n",
       "    <tr>\n",
       "      <th>2</th>\n",
       "      <td>1064</td>\n",
       "    </tr>\n",
       "    <tr>\n",
       "      <th>3</th>\n",
       "      <td>1007</td>\n",
       "    </tr>\n",
       "    <tr>\n",
       "      <th>4</th>\n",
       "      <td>386</td>\n",
       "    </tr>\n",
       "  </tbody>\n",
       "</table>\n",
       "</div>"
      ],
      "text/plain": [
       "         total\n",
       "cluster       \n",
       "0          985\n",
       "1          558\n",
       "2         1064\n",
       "3         1007\n",
       "4          386"
      ]
     },
     "execution_count": 22,
     "metadata": {},
     "output_type": "execute_result"
    }
   ],
   "source": [
    "gym.groupby(['cluster']).agg({'gender':'count'}).rename(columns = {'gender':'total'})"
   ]
  },
  {
   "cell_type": "markdown",
   "metadata": {},
   "source": [
    "Наиболее крупным является второй кластер, 3 и 0 сопоставимы с ним по численности, количество пользователей 4 кластера в нашей выборке наименьшее."
   ]
  },
  {
   "cell_type": "code",
   "execution_count": 23,
   "metadata": {},
   "outputs": [
    {
     "data": {
      "text/html": [
       "<div>\n",
       "<style scoped>\n",
       "    .dataframe tbody tr th:only-of-type {\n",
       "        vertical-align: middle;\n",
       "    }\n",
       "\n",
       "    .dataframe tbody tr th {\n",
       "        vertical-align: top;\n",
       "    }\n",
       "\n",
       "    .dataframe thead th {\n",
       "        text-align: right;\n",
       "    }\n",
       "</style>\n",
       "<table border=\"1\" class=\"dataframe\">\n",
       "  <thead>\n",
       "    <tr style=\"text-align: right;\">\n",
       "      <th></th>\n",
       "      <th>gender</th>\n",
       "      <th>near_location</th>\n",
       "      <th>partner</th>\n",
       "      <th>promo_friends</th>\n",
       "      <th>phone</th>\n",
       "      <th>contract_period</th>\n",
       "      <th>group_visits</th>\n",
       "      <th>age</th>\n",
       "      <th>avg_additional_charges_total</th>\n",
       "      <th>lifetime</th>\n",
       "      <th>avg_class_frequency_current_month</th>\n",
       "      <th>churn</th>\n",
       "    </tr>\n",
       "    <tr>\n",
       "      <th>cluster</th>\n",
       "      <th></th>\n",
       "      <th></th>\n",
       "      <th></th>\n",
       "      <th></th>\n",
       "      <th></th>\n",
       "      <th></th>\n",
       "      <th></th>\n",
       "      <th></th>\n",
       "      <th></th>\n",
       "      <th></th>\n",
       "      <th></th>\n",
       "      <th></th>\n",
       "    </tr>\n",
       "  </thead>\n",
       "  <tbody>\n",
       "    <tr>\n",
       "      <th>0</th>\n",
       "      <td>0.496447</td>\n",
       "      <td>0.995939</td>\n",
       "      <td>0.892386</td>\n",
       "      <td>1.000000</td>\n",
       "      <td>1.0</td>\n",
       "      <td>6.922843</td>\n",
       "      <td>0.524873</td>\n",
       "      <td>29.606091</td>\n",
       "      <td>153.424651</td>\n",
       "      <td>4.283249</td>\n",
       "      <td>1.919520</td>\n",
       "      <td>0.119797</td>\n",
       "    </tr>\n",
       "    <tr>\n",
       "      <th>1</th>\n",
       "      <td>0.500000</td>\n",
       "      <td>0.000000</td>\n",
       "      <td>0.489247</td>\n",
       "      <td>0.078853</td>\n",
       "      <td>1.0</td>\n",
       "      <td>2.994624</td>\n",
       "      <td>0.232975</td>\n",
       "      <td>28.679211</td>\n",
       "      <td>137.125763</td>\n",
       "      <td>2.974910</td>\n",
       "      <td>1.597146</td>\n",
       "      <td>0.403226</td>\n",
       "    </tr>\n",
       "    <tr>\n",
       "      <th>2</th>\n",
       "      <td>0.500940</td>\n",
       "      <td>1.000000</td>\n",
       "      <td>0.217105</td>\n",
       "      <td>0.072368</td>\n",
       "      <td>1.0</td>\n",
       "      <td>2.010338</td>\n",
       "      <td>0.277256</td>\n",
       "      <td>27.583647</td>\n",
       "      <td>119.339956</td>\n",
       "      <td>1.922932</td>\n",
       "      <td>1.203319</td>\n",
       "      <td>0.563910</td>\n",
       "    </tr>\n",
       "    <tr>\n",
       "      <th>3</th>\n",
       "      <td>0.534260</td>\n",
       "      <td>0.996028</td>\n",
       "      <td>0.379345</td>\n",
       "      <td>0.009930</td>\n",
       "      <td>1.0</td>\n",
       "      <td>6.208540</td>\n",
       "      <td>0.538232</td>\n",
       "      <td>30.699106</td>\n",
       "      <td>176.259567</td>\n",
       "      <td>5.415094</td>\n",
       "      <td>2.324220</td>\n",
       "      <td>0.014896</td>\n",
       "    </tr>\n",
       "    <tr>\n",
       "      <th>4</th>\n",
       "      <td>0.523316</td>\n",
       "      <td>0.862694</td>\n",
       "      <td>0.471503</td>\n",
       "      <td>0.305699</td>\n",
       "      <td>0.0</td>\n",
       "      <td>4.777202</td>\n",
       "      <td>0.427461</td>\n",
       "      <td>29.297927</td>\n",
       "      <td>144.208179</td>\n",
       "      <td>3.940415</td>\n",
       "      <td>1.723967</td>\n",
       "      <td>0.266839</td>\n",
       "    </tr>\n",
       "  </tbody>\n",
       "</table>\n",
       "</div>"
      ],
      "text/plain": [
       "           gender  near_location   partner  promo_friends  phone  \\\n",
       "cluster                                                            \n",
       "0        0.496447       0.995939  0.892386       1.000000    1.0   \n",
       "1        0.500000       0.000000  0.489247       0.078853    1.0   \n",
       "2        0.500940       1.000000  0.217105       0.072368    1.0   \n",
       "3        0.534260       0.996028  0.379345       0.009930    1.0   \n",
       "4        0.523316       0.862694  0.471503       0.305699    0.0   \n",
       "\n",
       "         contract_period  group_visits        age  \\\n",
       "cluster                                             \n",
       "0               6.922843      0.524873  29.606091   \n",
       "1               2.994624      0.232975  28.679211   \n",
       "2               2.010338      0.277256  27.583647   \n",
       "3               6.208540      0.538232  30.699106   \n",
       "4               4.777202      0.427461  29.297927   \n",
       "\n",
       "         avg_additional_charges_total  lifetime  \\\n",
       "cluster                                           \n",
       "0                          153.424651  4.283249   \n",
       "1                          137.125763  2.974910   \n",
       "2                          119.339956  1.922932   \n",
       "3                          176.259567  5.415094   \n",
       "4                          144.208179  3.940415   \n",
       "\n",
       "         avg_class_frequency_current_month     churn  \n",
       "cluster                                               \n",
       "0                                 1.919520  0.119797  \n",
       "1                                 1.597146  0.403226  \n",
       "2                                 1.203319  0.563910  \n",
       "3                                 2.324220  0.014896  \n",
       "4                                 1.723967  0.266839  "
      ]
     },
     "execution_count": 23,
     "metadata": {},
     "output_type": "execute_result"
    }
   ],
   "source": [
    "#посмотрим средние значения признаков и целевого значения для каждого кластера\n",
    "clusters = gym.groupby(['cluster']).mean()\n",
    "clusters"
   ]
  },
  {
   "cell_type": "markdown",
   "metadata": {},
   "source": [
    "* Прежде всего по среднему значению churn выделяются 1 и 2 кластеры, показывающие большее количество \"ушедщих\" пользователей\n",
    "* Также пользователи 1 и 2 кластеров демонстрируют более низкие значения contract_periodб group_visits, lifetime\n",
    "* Кроме того 2 класс ткаже показывает низкие значения в avg_additional_charges_total, avg_class_frequency_current_month и partner\n",
    "\n",
    "Также по средним значениям кластеров можно отметить:\n",
    "* По признаку гендер кластеры не имеют значимых различий\n",
    "* По признаку near_location выделяется 1 кластер, у которого среднее значение 0\n",
    "* По признаку promo_friends выделяется 0 кластер со средним значением 1\n",
    "* По признаку phone выделяется 4 кластер со средним значением 0"
   ]
  },
  {
   "cell_type": "code",
   "execution_count": 24,
   "metadata": {},
   "outputs": [],
   "source": [
    "# определим функцию отрисовки графиков попарных признаков для кластеров\n",
    "def show_clusters_on_plot(df, x_name, y_name, cluster_name):\n",
    "    plt.figure(figsize=(5, 5))\n",
    "    sns.scatterplot(\n",
    "        df[x_name], df[y_name], hue=df[cluster_name], palette='Paired'\n",
    "    )\n",
    "    plt.title('{} vs {}'.format(x_name, y_name))\n",
    "    plt.show()"
   ]
  },
  {
   "cell_type": "code",
   "execution_count": 25,
   "metadata": {},
   "outputs": [
    {
     "data": {
      "image/png": "[encoded data removed]",
      "text/plain": [
       "<Figure size 402.375x360 with 1 Axes>"
      ]
     },
     "metadata": {
      "needs_background": "light"
     },
     "output_type": "display_data"
    },
    {
     "data": {
      "image/png": "[encoded data removed]",
      "text/plain": [
       "<Figure size 402.375x360 with 1 Axes>"
      ]
     },
     "metadata": {
      "needs_background": "light"
     },
     "output_type": "display_data"
    },
    {
     "data": {
      "image/png": "[encoded data removed]",
      "text/plain": [
       "<Figure size 402.375x360 with 1 Axes>"
      ]
     },
     "metadata": {
      "needs_background": "light"
     },
     "output_type": "display_data"
    },
    {
     "data": {
      "image/png": "[encoded data removed]",
      "text/plain": [
       "<Figure size 402.375x360 with 1 Axes>"
      ]
     },
     "metadata": {
      "needs_background": "light"
     },
     "output_type": "display_data"
    }
   ],
   "source": [
    "for col in gym[['age', 'avg_additional_charges_total', 'avg_class_frequency_current_month', 'lifetime']].columns:\n",
    "    sns.color_palette(\"hls\", 8)\n",
    "    plot = sns.displot(x=gym[col],hue= gym['cluster'],kde=True,palette =\"rocket\" )\n",
    "    plt.title('Распределение по признаку {}'.format(col),fontsize=14)\n",
    "    plt.show()"
   ]
  },
  {
   "cell_type": "markdown",
   "metadata": {},
   "source": [
    "* У распределений по признаку gender в различных кластерах нет значимых отличий\n",
    "* Среди распределений по признаку avg_additional_charges_total выделяется 2 кластер с наибольшими пиками в области меньших значений\n",
    "* Среди распределений по признаку avg_class_frequency_current_month также выделяется 2 кластер, распределение смещено в сторону меньших значений с наибольшим пиком в области 0\n",
    "* Среди распределений по признаку lifetime выделяются 1 и 2 кластер, более высокими пиками в области меньших значений"
   ]
  },
  {
   "cell_type": "code",
   "execution_count": 26,
   "metadata": {
    "scrolled": false
   },
   "outputs": [
    {
     "data": {
      "image/png": "[encoded data removed]",
      "text/plain": [
       "<Figure size 720x360 with 1 Axes>"
      ]
     },
     "metadata": {
      "needs_background": "light"
     },
     "output_type": "display_data"
    },
    {
     "data": {
      "image/png": "[encoded data removed]",
      "text/plain": [
       "<Figure size 720x360 with 1 Axes>"
      ]
     },
     "metadata": {
      "needs_background": "light"
     },
     "output_type": "display_data"
    },
    {
     "data": {
      "image/png": "[encoded data removed]",
      "text/plain": [
       "<Figure size 720x360 with 1 Axes>"
      ]
     },
     "metadata": {
      "needs_background": "light"
     },
     "output_type": "display_data"
    },
    {
     "data": {
      "image/png": "[encoded data removed]",
      "text/plain": [
       "<Figure size 720x360 with 1 Axes>"
      ]
     },
     "metadata": {
      "needs_background": "light"
     },
     "output_type": "display_data"
    },
    {
     "data": {
      "image/png": "[encoded data removed]",
      "text/plain": [
       "<Figure size 720x360 with 1 Axes>"
      ]
     },
     "metadata": {
      "needs_background": "light"
     },
     "output_type": "display_data"
    },
    {
     "data": {
      "image/png": "[encoded data removed]",
      "text/plain": [
       "<Figure size 720x360 with 1 Axes>"
      ]
     },
     "metadata": {
      "needs_background": "light"
     },
     "output_type": "display_data"
    },
    {
     "data": {
      "image/png": "[encoded data removed]",
      "text/plain": [
       "<Figure size 720x360 with 1 Axes>"
      ]
     },
     "metadata": {
      "needs_background": "light"
     },
     "output_type": "display_data"
    }
   ],
   "source": [
    "for col in gym[ ['gender', 'near_location', 'partner', 'promo_friends', 'phone', 'contract_period', 'group_visits']].columns:\n",
    "    fig = plt.figure(figsize = (10,5))\n",
    "    fig.suptitle('Распределение признака {}'.format(col),fontsize=15)\n",
    "    sns.countplot(x=col, hue='cluster', data=gym)\n",
    "    plt.show()"
   ]
  },
  {
   "cell_type": "markdown",
   "metadata": {},
   "source": [
    "* Распределение по признаку пола одинаково в обеих группах\n",
    "* Большая часть клиентов 0,2,3 и 4 кластеров живет или работает рядом с клубом, все клиенты 1 кластера не живут и не работают рядом с клубом\n",
    "* Большая часть клиентов 0 кластера сотрудники компании-партнёра клуба, большая часть клиентов 2 и 3 кластеров не сотрудники компании-партнёра клуба, в 1 и 4 кластерах их соотношение примерно одинаково\n",
    "* Все клиенты 0 кластера пришли по программе promo_friends, большая часть клиентов других кластеров пришла не по программе promo_friends \n",
    "* У всех клиентов 4 кластера не указан номер телефона, у всех клиентов других кластеров телефон указан\n",
    "* Большая часть клиентов 1,2 и 4 классов не посещают групповые занятия, большая часть клиентов 0 и 3 кластеров посещают групповые занятия\n",
    "* Большая часть клиентов 1,2 и 4 кластеров имеют абонемент на 1 месяц, большая часть клиентов 0 и 3 кластеров имеют годовой абонемент."
   ]
  },
  {
   "cell_type": "markdown",
   "metadata": {},
   "source": [
    "Таким образом согласно доле оттока для каждого кластера к оттоку наиболее склонны клиенты 2 (0.56) и 1(0.4) кластера, наиболее \"надежные\" клиенты 3 класса (0.01)."
   ]
  },
  {
   "cell_type": "markdown",
   "metadata": {},
   "source": [
    "<a id = '6'> </a>"
   ]
  },
  {
   "cell_type": "markdown",
   "metadata": {},
   "source": [
    "## Вывод"
   ]
  },
  {
   "cell_type": "markdown",
   "metadata": {},
   "source": [
    "На основании данных анкеты, а также журнала посещений, покупок и информация о текущем статусе абонемента клиента клиентов можно разделить на 5 кластеров. \n",
    "\n",
    "К оттоку наиболее склонны клиенты 2 (0.56) и 1(0.4) кластера, наиболее \"надежные\" клиенты 3 класса (0.01). В представленных для анализа данных именно клиенты, относящиеся ко 2 кластеру являются самой многочиесленнйо группой, поэтому наибольшее внимание стоит уделить им.\n",
    "\n",
    "Особенность клиентов 2 класса - большая часть не посещает групповые занятия и имеют абонемент на 1 месяц, имеют низкий лайфтайм и низкую частоту посещения клуба в последний месяц\n",
    "\n",
    "Особенность клиентов 1 кластера - не живут и не работают рядом с клубом, большая часть не посещает групповые занятия и имеют абонемент на 1 месяц, имеют низкий лайфтайм\n",
    "\n",
    "Меры по снижению оттока:\n",
    "1. На основании имеющихся о клиентах даннных определять их кластер, выделять группы \"ненадежных\" клиентов\n",
    "2. Среди клиентов кластеров, склонных к оттоку :\n",
    "- при оформлении абонемента на 1 месяц активно указывать на выгодность абоненментов на 6 и 12 месяцев, возможно ввести промежуточный абонемент на 3 месяца. \n",
    "- при снижении частоты посещения ниже определенного значения рассылка уведомлений клиентам, что их абонемент ещё действует, ненавязчивое приглашение посетить клуб до истечения абонемента\n",
    "3. Для всех клиентов:\n",
    "- бесплатные пробные групповые занятия для привелечения к этой группе занятий, для клиентов уже посещающих групповые занятия ввведение дополнительных скидок или бонусов за регулярное посещение."
   ]
  }
 ],
 "metadata": {
  "ExecuteTimeLog": [
   {
    "duration": 98,
    "start_time": "2022-04-30T13:20:56.634Z"
   },
   {
    "duration": 145,
    "start_time": "2022-04-30T13:35:48.798Z"
   },
   {
    "duration": 895,
    "start_time": "2022-04-30T13:35:55.182Z"
   },
   {
    "duration": 10,
    "start_time": "2022-04-30T13:36:05.764Z"
   },
   {
    "duration": 109,
    "start_time": "2022-04-30T13:36:23.844Z"
   },
   {
    "duration": 115,
    "start_time": "2022-04-30T13:36:47.080Z"
   },
   {
    "duration": 7328,
    "start_time": "2022-04-30T13:37:32.966Z"
   },
   {
    "duration": 83,
    "start_time": "2022-04-30T13:37:42.781Z"
   },
   {
    "duration": 129,
    "start_time": "2022-04-30T13:37:49.903Z"
   },
   {
    "duration": 98,
    "start_time": "2022-04-30T13:37:56.603Z"
   },
   {
    "duration": 94,
    "start_time": "2022-04-30T13:38:21.066Z"
   },
   {
    "duration": 1535,
    "start_time": "2022-04-30T13:42:02.789Z"
   },
   {
    "duration": 30,
    "start_time": "2022-04-30T13:42:40.573Z"
   },
   {
    "duration": 88,
    "start_time": "2022-04-30T13:43:06.190Z"
   },
   {
    "duration": 10,
    "start_time": "2022-04-30T13:43:15.742Z"
   },
   {
    "duration": 13,
    "start_time": "2022-04-30T13:44:28.054Z"
   },
   {
    "duration": 12,
    "start_time": "2022-04-30T13:44:32.263Z"
   },
   {
    "duration": 10,
    "start_time": "2022-04-30T13:45:26.679Z"
   },
   {
    "duration": 38,
    "start_time": "2022-04-30T13:45:50.516Z"
   },
   {
    "duration": 55,
    "start_time": "2022-04-30T13:46:14.680Z"
   },
   {
    "duration": 36,
    "start_time": "2022-04-30T15:29:13.107Z"
   },
   {
    "duration": 13,
    "start_time": "2022-04-30T15:31:40.068Z"
   },
   {
    "duration": 46,
    "start_time": "2022-04-30T15:32:11.045Z"
   },
   {
    "duration": 10,
    "start_time": "2022-04-30T15:32:41.172Z"
   },
   {
    "duration": 7,
    "start_time": "2022-04-30T16:22:59.920Z"
   },
   {
    "duration": 11,
    "start_time": "2022-04-30T16:24:31.448Z"
   },
   {
    "duration": 11,
    "start_time": "2022-04-30T16:24:39.224Z"
   },
   {
    "duration": 5,
    "start_time": "2022-04-30T16:27:45.386Z"
   },
   {
    "duration": 3,
    "start_time": "2022-04-30T16:28:03.499Z"
   },
   {
    "duration": 13,
    "start_time": "2022-04-30T16:28:13.532Z"
   },
   {
    "duration": 81,
    "start_time": "2022-04-30T16:55:11.716Z"
   },
   {
    "duration": 90,
    "start_time": "2022-04-30T16:55:22.464Z"
   },
   {
    "duration": 12,
    "start_time": "2022-04-30T16:55:40.652Z"
   },
   {
    "duration": 94,
    "start_time": "2022-04-30T16:56:00.939Z"
   },
   {
    "duration": 79,
    "start_time": "2022-04-30T16:56:05.997Z"
   },
   {
    "duration": 19,
    "start_time": "2022-04-30T16:56:20.244Z"
   },
   {
    "duration": 684,
    "start_time": "2022-04-30T17:13:18.061Z"
   },
   {
    "duration": 750,
    "start_time": "2022-04-30T17:13:51.693Z"
   },
   {
    "duration": 1045,
    "start_time": "2022-04-30T17:30:54.850Z"
   },
   {
    "duration": 13,
    "start_time": "2022-04-30T19:18:26.392Z"
   },
   {
    "duration": 96,
    "start_time": "2022-04-30T19:19:12.088Z"
   },
   {
    "duration": 11,
    "start_time": "2022-04-30T19:19:16.476Z"
   },
   {
    "duration": 103,
    "start_time": "2022-04-30T19:19:39.704Z"
   },
   {
    "duration": 539,
    "start_time": "2022-04-30T19:19:57.065Z"
   },
   {
    "duration": 83,
    "start_time": "2022-04-30T19:20:03.514Z"
   },
   {
    "duration": 9,
    "start_time": "2022-04-30T19:20:13.388Z"
   },
   {
    "duration": 101,
    "start_time": "2022-04-30T19:20:28.409Z"
   },
   {
    "duration": 120,
    "start_time": "2022-04-30T19:20:33.945Z"
   },
   {
    "duration": 90,
    "start_time": "2022-04-30T19:20:44.633Z"
   },
   {
    "duration": 33965,
    "start_time": "2022-04-30T19:22:41.007Z"
   },
   {
    "duration": 16,
    "start_time": "2022-04-30T19:23:14.974Z"
   },
   {
    "duration": 1409,
    "start_time": "2022-04-30T19:23:39.524Z"
   },
   {
    "duration": 32,
    "start_time": "2022-04-30T19:23:44.486Z"
   },
   {
    "duration": 48,
    "start_time": "2022-04-30T19:23:46.036Z"
   },
   {
    "duration": 10,
    "start_time": "2022-04-30T19:23:49.292Z"
   },
   {
    "duration": 12,
    "start_time": "2022-04-30T19:23:51.155Z"
   },
   {
    "duration": 17,
    "start_time": "2022-04-30T19:23:54.752Z"
   },
   {
    "duration": 701,
    "start_time": "2022-04-30T19:23:58.027Z"
   },
   {
    "duration": 1139,
    "start_time": "2022-04-30T19:24:01.436Z"
   },
   {
    "duration": 118,
    "start_time": "2022-04-30T19:24:07.044Z"
   },
   {
    "duration": 322,
    "start_time": "2022-04-30T19:24:20.785Z"
   },
   {
    "duration": 331,
    "start_time": "2022-04-30T19:25:02.693Z"
   },
   {
    "duration": 240,
    "start_time": "2022-04-30T19:26:04.333Z"
   },
   {
    "duration": 274,
    "start_time": "2022-04-30T19:26:29.502Z"
   },
   {
    "duration": 3250,
    "start_time": "2022-04-30T19:38:21.989Z"
   },
   {
    "duration": 93,
    "start_time": "2022-04-30T19:40:10.253Z"
   },
   {
    "duration": 3360,
    "start_time": "2022-04-30T19:40:27.066Z"
   },
   {
    "duration": 1677,
    "start_time": "2022-04-30T19:42:17.960Z"
   },
   {
    "duration": 1494,
    "start_time": "2022-04-30T19:42:26.637Z"
   },
   {
    "duration": 1463,
    "start_time": "2022-04-30T19:42:41.406Z"
   },
   {
    "duration": 89,
    "start_time": "2022-04-30T20:10:14.813Z"
   },
   {
    "duration": 12,
    "start_time": "2022-04-30T20:10:21.324Z"
   },
   {
    "duration": 222,
    "start_time": "2022-04-30T20:10:40.340Z"
   },
   {
    "duration": 1508,
    "start_time": "2022-04-30T20:10:55.277Z"
   },
   {
    "duration": 2796,
    "start_time": "2022-04-30T20:12:20.382Z"
   },
   {
    "duration": 2181,
    "start_time": "2022-04-30T20:13:07.205Z"
   },
   {
    "duration": 15,
    "start_time": "2022-04-30T20:16:08.824Z"
   },
   {
    "duration": 835,
    "start_time": "2022-04-30T20:16:30.881Z"
   },
   {
    "duration": 2527,
    "start_time": "2022-04-30T20:17:25.960Z"
   },
   {
    "duration": 2718,
    "start_time": "2022-04-30T20:17:42.073Z"
   },
   {
    "duration": 4035,
    "start_time": "2022-04-30T20:21:33.443Z"
   },
   {
    "duration": 1021,
    "start_time": "2022-04-30T20:21:52.635Z"
   },
   {
    "duration": 872,
    "start_time": "2022-04-30T20:22:24.101Z"
   },
   {
    "duration": 843,
    "start_time": "2022-04-30T20:22:29.332Z"
   },
   {
    "duration": 11,
    "start_time": "2022-04-30T20:24:25.581Z"
   },
   {
    "duration": 1088,
    "start_time": "2022-04-30T20:24:33.204Z"
   },
   {
    "duration": 1595,
    "start_time": "2022-04-30T20:25:09.430Z"
   },
   {
    "duration": 129,
    "start_time": "2022-04-30T20:25:22.990Z"
   },
   {
    "duration": 1398,
    "start_time": "2022-04-30T20:28:33.105Z"
   },
   {
    "duration": 951,
    "start_time": "2022-04-30T20:28:38.624Z"
   },
   {
    "duration": 204,
    "start_time": "2022-04-30T20:31:52.409Z"
   },
   {
    "duration": 208,
    "start_time": "2022-04-30T20:36:33.830Z"
   },
   {
    "duration": 449,
    "start_time": "2022-04-30T20:42:07.770Z"
   },
   {
    "duration": 310,
    "start_time": "2022-04-30T20:45:16.759Z"
   },
   {
    "duration": 324,
    "start_time": "2022-04-30T20:46:03.376Z"
   },
   {
    "duration": 275,
    "start_time": "2022-04-30T20:47:08.619Z"
   },
   {
    "duration": 331,
    "start_time": "2022-04-30T20:48:00.522Z"
   },
   {
    "duration": 664,
    "start_time": "2022-04-30T20:49:16.596Z"
   },
   {
    "duration": 122,
    "start_time": "2022-04-30T20:49:50.779Z"
   },
   {
    "duration": 116,
    "start_time": "2022-04-30T20:50:01.146Z"
   },
   {
    "duration": 893,
    "start_time": "2022-04-30T20:50:08.762Z"
   },
   {
    "duration": 21,
    "start_time": "2022-04-30T20:54:21.978Z"
   },
   {
    "duration": 451,
    "start_time": "2022-04-30T20:54:58.390Z"
   },
   {
    "duration": 783,
    "start_time": "2022-04-30T20:55:12.758Z"
   },
   {
    "duration": 760,
    "start_time": "2022-04-30T20:57:02.104Z"
   },
   {
    "duration": 780,
    "start_time": "2022-04-30T20:57:14.911Z"
   },
   {
    "duration": 639,
    "start_time": "2022-04-30T20:57:40.856Z"
   },
   {
    "duration": 748,
    "start_time": "2022-04-30T20:57:48.518Z"
   },
   {
    "duration": 703,
    "start_time": "2022-04-30T20:58:24.818Z"
   },
   {
    "duration": 763,
    "start_time": "2022-04-30T20:58:41.488Z"
   },
   {
    "duration": 173,
    "start_time": "2022-04-30T21:01:02.418Z"
   },
   {
    "duration": 179,
    "start_time": "2022-04-30T21:01:13.554Z"
   },
   {
    "duration": 177,
    "start_time": "2022-04-30T21:01:23.475Z"
   },
   {
    "duration": 839,
    "start_time": "2022-04-30T21:01:35.522Z"
   },
   {
    "duration": 914,
    "start_time": "2022-04-30T21:01:49.634Z"
   },
   {
    "duration": 814,
    "start_time": "2022-04-30T21:02:41.698Z"
   },
   {
    "duration": 1173,
    "start_time": "2022-04-30T21:03:07.634Z"
   },
   {
    "duration": 933,
    "start_time": "2022-04-30T21:03:17.674Z"
   },
   {
    "duration": 229,
    "start_time": "2022-04-30T21:03:48.947Z"
   },
   {
    "duration": 241,
    "start_time": "2022-04-30T21:04:20.499Z"
   },
   {
    "duration": 995,
    "start_time": "2022-04-30T21:04:38.868Z"
   },
   {
    "duration": 2072,
    "start_time": "2022-04-30T21:05:51.413Z"
   },
   {
    "duration": 2228,
    "start_time": "2022-04-30T21:07:19.959Z"
   },
   {
    "duration": 278,
    "start_time": "2022-04-30T21:08:58.245Z"
   },
   {
    "duration": 4422,
    "start_time": "2022-04-30T21:09:09.326Z"
   },
   {
    "duration": 4359,
    "start_time": "2022-04-30T21:10:31.576Z"
   },
   {
    "duration": 6226,
    "start_time": "2022-04-30T21:10:50.009Z"
   },
   {
    "duration": 5975,
    "start_time": "2022-04-30T21:11:08.655Z"
   },
   {
    "duration": 106,
    "start_time": "2022-04-30T21:11:49.822Z"
   },
   {
    "duration": 147,
    "start_time": "2022-04-30T21:11:56.575Z"
   },
   {
    "duration": 5864,
    "start_time": "2022-04-30T21:12:21.328Z"
   },
   {
    "duration": 91,
    "start_time": "2022-04-30T21:16:32.923Z"
   },
   {
    "duration": 857,
    "start_time": "2022-04-30T21:16:40.042Z"
   },
   {
    "duration": 5934,
    "start_time": "2022-04-30T21:16:51.755Z"
   },
   {
    "duration": 4377,
    "start_time": "2022-04-30T21:17:06.093Z"
   },
   {
    "duration": 4463,
    "start_time": "2022-04-30T21:17:23.579Z"
   },
   {
    "duration": 6551,
    "start_time": "2022-04-30T21:20:09.999Z"
   },
   {
    "duration": 4447,
    "start_time": "2022-04-30T21:20:30.331Z"
   },
   {
    "duration": 4250,
    "start_time": "2022-04-30T21:20:50.200Z"
   },
   {
    "duration": 112,
    "start_time": "2022-04-30T21:23:00.719Z"
   },
   {
    "duration": 6109,
    "start_time": "2022-04-30T21:23:10.206Z"
   },
   {
    "duration": 5702,
    "start_time": "2022-04-30T21:23:32.272Z"
   },
   {
    "duration": 4,
    "start_time": "2022-04-30T21:24:59.217Z"
   },
   {
    "duration": 225,
    "start_time": "2022-04-30T21:48:51.428Z"
   },
   {
    "duration": 221,
    "start_time": "2022-04-30T21:49:02.221Z"
   },
   {
    "duration": 246,
    "start_time": "2022-04-30T21:49:25.622Z"
   },
   {
    "duration": 248,
    "start_time": "2022-04-30T21:49:36.078Z"
   },
   {
    "duration": 291,
    "start_time": "2022-04-30T21:49:56.174Z"
   },
   {
    "duration": 395,
    "start_time": "2022-04-30T21:50:01.982Z"
   },
   {
    "duration": 263,
    "start_time": "2022-04-30T21:50:07.542Z"
   },
   {
    "duration": 274,
    "start_time": "2022-04-30T21:55:39.881Z"
   },
   {
    "duration": 290,
    "start_time": "2022-04-30T21:56:11.929Z"
   },
   {
    "duration": 268,
    "start_time": "2022-04-30T21:57:00.956Z"
   },
   {
    "duration": 132,
    "start_time": "2022-04-30T21:58:30.448Z"
   },
   {
    "duration": 1944,
    "start_time": "2022-04-30T21:59:02.075Z"
   },
   {
    "duration": 1502,
    "start_time": "2022-04-30T22:00:29.661Z"
   },
   {
    "duration": 535,
    "start_time": "2022-04-30T22:04:28.455Z"
   },
   {
    "duration": 1088,
    "start_time": "2022-04-30T22:05:19.303Z"
   },
   {
    "duration": 3244,
    "start_time": "2022-04-30T22:11:14.499Z"
   },
   {
    "duration": 3139,
    "start_time": "2022-04-30T22:11:38.588Z"
   },
   {
    "duration": 3598,
    "start_time": "2022-04-30T22:12:42.515Z"
   },
   {
    "duration": 3132,
    "start_time": "2022-04-30T22:13:34.108Z"
   },
   {
    "duration": 3168,
    "start_time": "2022-04-30T22:14:48.308Z"
   },
   {
    "duration": 3175,
    "start_time": "2022-04-30T22:15:29.292Z"
   },
   {
    "duration": 3376,
    "start_time": "2022-04-30T22:16:08.221Z"
   },
   {
    "duration": 3213,
    "start_time": "2022-04-30T22:16:36.325Z"
   },
   {
    "duration": 2766,
    "start_time": "2022-04-30T22:16:53.421Z"
   },
   {
    "duration": 2696,
    "start_time": "2022-04-30T22:17:06.165Z"
   },
   {
    "duration": 1225,
    "start_time": "2022-04-30T22:18:30.182Z"
   },
   {
    "duration": 1067,
    "start_time": "2022-04-30T22:18:53.709Z"
   },
   {
    "duration": 1094,
    "start_time": "2022-04-30T22:19:35.247Z"
   },
   {
    "duration": 1258,
    "start_time": "2022-04-30T22:19:47.470Z"
   },
   {
    "duration": 587,
    "start_time": "2022-04-30T22:20:04.920Z"
   },
   {
    "duration": 585,
    "start_time": "2022-04-30T22:20:30.247Z"
   },
   {
    "duration": 1079,
    "start_time": "2022-04-30T22:20:45.933Z"
   },
   {
    "duration": 1207,
    "start_time": "2022-04-30T22:20:56.143Z"
   },
   {
    "duration": 1065,
    "start_time": "2022-04-30T22:21:24.903Z"
   },
   {
    "duration": 1242,
    "start_time": "2022-04-30T22:21:52.239Z"
   },
   {
    "duration": 1118,
    "start_time": "2022-04-30T22:22:05.031Z"
   },
   {
    "duration": 1178,
    "start_time": "2022-04-30T22:22:19.686Z"
   },
   {
    "duration": 1347,
    "start_time": "2022-04-30T22:22:32.135Z"
   },
   {
    "duration": 1105,
    "start_time": "2022-04-30T22:22:50.048Z"
   },
   {
    "duration": 6,
    "start_time": "2022-04-30T22:24:58.513Z"
   },
   {
    "duration": 53,
    "start_time": "2022-05-01T11:26:26.347Z"
   },
   {
    "duration": 1774,
    "start_time": "2022-05-01T11:27:16.277Z"
   },
   {
    "duration": 46,
    "start_time": "2022-05-01T11:27:21.077Z"
   },
   {
    "duration": 52,
    "start_time": "2022-05-01T11:27:22.852Z"
   },
   {
    "duration": 9,
    "start_time": "2022-05-01T11:27:29.210Z"
   },
   {
    "duration": 14,
    "start_time": "2022-05-01T11:27:31.643Z"
   },
   {
    "duration": 6,
    "start_time": "2022-05-01T11:27:35.059Z"
   },
   {
    "duration": 17,
    "start_time": "2022-05-01T11:27:36.787Z"
   },
   {
    "duration": 1261,
    "start_time": "2022-05-01T11:27:40.475Z"
   },
   {
    "duration": 2898,
    "start_time": "2022-05-01T11:27:44.492Z"
   },
   {
    "duration": 2123,
    "start_time": "2022-05-01T11:27:58.157Z"
   },
   {
    "duration": 1734,
    "start_time": "2022-05-01T11:28:03.196Z"
   },
   {
    "duration": 1677,
    "start_time": "2022-05-01T11:28:20.716Z"
   },
   {
    "duration": 7,
    "start_time": "2022-05-01T11:28:26.727Z"
   },
   {
    "duration": 19,
    "start_time": "2022-05-01T11:28:37.923Z"
   },
   {
    "duration": 14,
    "start_time": "2022-05-01T11:28:58.028Z"
   },
   {
    "duration": 16,
    "start_time": "2022-05-01T11:30:10.686Z"
   },
   {
    "duration": 32,
    "start_time": "2022-05-01T11:30:19.903Z"
   },
   {
    "duration": 14,
    "start_time": "2022-05-01T11:30:28.312Z"
   },
   {
    "duration": 13,
    "start_time": "2022-05-01T11:30:35.780Z"
   },
   {
    "duration": 13,
    "start_time": "2022-05-01T11:35:44.753Z"
   },
   {
    "duration": 8,
    "start_time": "2022-05-01T11:36:07.395Z"
   },
   {
    "duration": 11,
    "start_time": "2022-05-01T11:47:38.310Z"
   },
   {
    "duration": 18,
    "start_time": "2022-05-01T11:48:00.530Z"
   },
   {
    "duration": 1275,
    "start_time": "2022-05-01T11:55:10.099Z"
   },
   {
    "duration": 59082,
    "start_time": "2022-05-01T11:55:18.731Z"
   },
   {
    "duration": 11548,
    "start_time": "2022-05-01T11:56:17.816Z"
   },
   {
    "duration": 87875,
    "start_time": "2022-05-01T12:13:30.752Z"
   },
   {
    "duration": 1693,
    "start_time": "2022-05-01T12:18:20.694Z"
   },
   {
    "duration": 11,
    "start_time": "2022-05-01T12:21:33.578Z"
   },
   {
    "duration": 10,
    "start_time": "2022-05-01T12:21:45.904Z"
   },
   {
    "duration": 11,
    "start_time": "2022-05-01T12:22:30.431Z"
   },
   {
    "duration": 2498,
    "start_time": "2022-05-01T12:24:48.464Z"
   },
   {
    "duration": 16,
    "start_time": "2022-05-01T12:24:54.783Z"
   },
   {
    "duration": 66,
    "start_time": "2022-05-01T12:25:11.573Z"
   },
   {
    "duration": 4,
    "start_time": "2022-05-01T12:25:20.185Z"
   },
   {
    "duration": 23,
    "start_time": "2022-05-01T12:25:32.072Z"
   },
   {
    "duration": 5,
    "start_time": "2022-05-01T12:25:45.698Z"
   },
   {
    "duration": 52,
    "start_time": "2022-05-01T12:26:01.237Z"
   },
   {
    "duration": 20,
    "start_time": "2022-05-01T12:26:10.377Z"
   },
   {
    "duration": 19,
    "start_time": "2022-05-01T12:26:23.242Z"
   },
   {
    "duration": 40,
    "start_time": "2022-05-01T12:26:28.429Z"
   },
   {
    "duration": 52,
    "start_time": "2022-05-01T12:26:30.010Z"
   },
   {
    "duration": 10,
    "start_time": "2022-05-01T12:26:33.441Z"
   },
   {
    "duration": 13,
    "start_time": "2022-05-01T12:26:35.362Z"
   },
   {
    "duration": 6,
    "start_time": "2022-05-01T12:26:38.203Z"
   },
   {
    "duration": 18,
    "start_time": "2022-05-01T12:26:39.932Z"
   },
   {
    "duration": 1248,
    "start_time": "2022-05-01T12:26:41.554Z"
   },
   {
    "duration": 2849,
    "start_time": "2022-05-01T12:26:48.561Z"
   },
   {
    "duration": 2091,
    "start_time": "2022-05-01T12:26:54.379Z"
   },
   {
    "duration": 1601,
    "start_time": "2022-05-01T12:26:59.009Z"
   },
   {
    "duration": 13,
    "start_time": "2022-05-01T12:27:03.524Z"
   },
   {
    "duration": 7,
    "start_time": "2022-05-01T12:27:06.418Z"
   },
   {
    "duration": 12,
    "start_time": "2022-05-01T12:27:09.015Z"
   },
   {
    "duration": 12,
    "start_time": "2022-05-01T12:27:39.309Z"
   },
   {
    "duration": 2588,
    "start_time": "2022-05-01T12:30:28.202Z"
   },
   {
    "duration": 1642,
    "start_time": "2022-05-01T12:30:40.733Z"
   },
   {
    "duration": 46,
    "start_time": "2022-05-01T12:32:50.285Z"
   },
   {
    "duration": 2524,
    "start_time": "2022-05-01T12:32:57.724Z"
   },
   {
    "duration": 7,
    "start_time": "2022-05-01T12:33:00.251Z"
   },
   {
    "duration": 18,
    "start_time": "2022-05-01T12:33:00.260Z"
   },
   {
    "duration": 79,
    "start_time": "2022-05-01T12:33:00.282Z"
   },
   {
    "duration": 85,
    "start_time": "2022-05-01T12:33:00.363Z"
   },
   {
    "duration": 12,
    "start_time": "2022-05-01T12:33:00.450Z"
   },
   {
    "duration": 22,
    "start_time": "2022-05-01T12:33:00.464Z"
   },
   {
    "duration": 14,
    "start_time": "2022-05-01T12:33:00.488Z"
   },
   {
    "duration": 45,
    "start_time": "2022-05-01T12:33:00.503Z"
   },
   {
    "duration": 1290,
    "start_time": "2022-05-01T12:33:00.551Z"
   },
   {
    "duration": 2852,
    "start_time": "2022-05-01T12:33:01.842Z"
   },
   {
    "duration": 2092,
    "start_time": "2022-05-01T12:33:04.696Z"
   },
   {
    "duration": 1608,
    "start_time": "2022-05-01T12:33:06.790Z"
   },
   {
    "duration": 13,
    "start_time": "2022-05-01T12:33:08.399Z"
   },
   {
    "duration": 8,
    "start_time": "2022-05-01T12:33:08.414Z"
   },
   {
    "duration": 19,
    "start_time": "2022-05-01T12:33:08.423Z"
   },
   {
    "duration": 0,
    "start_time": "2022-05-01T12:33:08.444Z"
   },
   {
    "duration": 1625,
    "start_time": "2022-05-02T18:35:08.587Z"
   },
   {
    "duration": 156,
    "start_time": "2022-05-02T18:35:37.956Z"
   },
   {
    "duration": 5,
    "start_time": "2022-05-02T18:36:15.469Z"
   },
   {
    "duration": 51,
    "start_time": "2022-05-02T18:36:24.317Z"
   },
   {
    "duration": 46,
    "start_time": "2022-05-02T18:36:26.345Z"
   },
   {
    "duration": 7,
    "start_time": "2022-05-02T18:36:29.665Z"
   },
   {
    "duration": 14,
    "start_time": "2022-05-02T18:36:31.139Z"
   },
   {
    "duration": 7,
    "start_time": "2022-05-02T18:36:34.082Z"
   },
   {
    "duration": 14,
    "start_time": "2022-05-02T18:36:35.471Z"
   },
   {
    "duration": 998,
    "start_time": "2022-05-02T18:36:37.676Z"
   },
   {
    "duration": 2572,
    "start_time": "2022-05-02T18:36:41.764Z"
   },
   {
    "duration": 2128,
    "start_time": "2022-05-02T18:36:47.123Z"
   },
   {
    "duration": 1851,
    "start_time": "2022-05-02T18:36:51.898Z"
   },
   {
    "duration": 12,
    "start_time": "2022-05-02T18:36:57.007Z"
   },
   {
    "duration": 7,
    "start_time": "2022-05-02T18:37:00.298Z"
   },
   {
    "duration": 11,
    "start_time": "2022-05-02T18:37:08.143Z"
   },
   {
    "duration": 4,
    "start_time": "2022-05-02T18:37:24.729Z"
   },
   {
    "duration": 10,
    "start_time": "2022-05-02T18:38:26.994Z"
   },
   {
    "duration": 3,
    "start_time": "2022-05-02T18:39:23.610Z"
   },
   {
    "duration": 10,
    "start_time": "2022-05-02T18:39:32.864Z"
   },
   {
    "duration": 4,
    "start_time": "2022-05-02T18:41:03.895Z"
   },
   {
    "duration": 9,
    "start_time": "2022-05-02T18:41:29.397Z"
   },
   {
    "duration": 27,
    "start_time": "2022-05-02T18:41:46.086Z"
   },
   {
    "duration": 22,
    "start_time": "2022-05-02T18:41:52.171Z"
   },
   {
    "duration": 8,
    "start_time": "2022-05-02T18:42:05.723Z"
   },
   {
    "duration": 11,
    "start_time": "2022-05-02T18:42:52.664Z"
   },
   {
    "duration": 4,
    "start_time": "2022-05-02T18:43:15.714Z"
   },
   {
    "duration": 76,
    "start_time": "2022-05-02T18:43:32.111Z"
   },
   {
    "duration": 9,
    "start_time": "2022-05-02T18:43:46.866Z"
   },
   {
    "duration": 1350,
    "start_time": "2022-05-02T18:44:07.681Z"
   },
   {
    "duration": 32,
    "start_time": "2022-05-02T18:44:16.110Z"
   },
   {
    "duration": 12,
    "start_time": "2022-05-02T18:44:21.029Z"
   },
   {
    "duration": 12,
    "start_time": "2022-05-02T18:44:33.840Z"
   },
   {
    "duration": 8,
    "start_time": "2022-05-02T18:44:36.316Z"
   },
   {
    "duration": 110,
    "start_time": "2022-05-02T18:44:38.444Z"
   },
   {
    "duration": 26,
    "start_time": "2022-05-02T18:44:47.343Z"
   },
   {
    "duration": 7,
    "start_time": "2022-05-02T18:44:49.282Z"
   },
   {
    "duration": 10,
    "start_time": "2022-05-02T18:44:51.902Z"
   },
   {
    "duration": 9,
    "start_time": "2022-05-02T18:44:54.329Z"
   },
   {
    "duration": 10,
    "start_time": "2022-05-02T18:45:59.655Z"
   },
   {
    "duration": 23,
    "start_time": "2022-05-02T18:46:06.359Z"
   },
   {
    "duration": 8,
    "start_time": "2022-05-02T18:46:07.231Z"
   },
   {
    "duration": 324,
    "start_time": "2022-05-02T18:47:34.900Z"
   },
   {
    "duration": 14,
    "start_time": "2022-05-02T18:47:36.280Z"
   },
   {
    "duration": 311,
    "start_time": "2022-05-02T18:47:57.722Z"
   },
   {
    "duration": 12,
    "start_time": "2022-05-02T18:47:58.921Z"
   },
   {
    "duration": 15,
    "start_time": "2022-05-02T18:48:48.787Z"
   },
   {
    "duration": 5,
    "start_time": "2022-05-02T19:10:48.054Z"
   },
   {
    "duration": 1498,
    "start_time": "2022-05-02T19:11:01.498Z"
   },
   {
    "duration": 31,
    "start_time": "2022-05-02T19:11:32.434Z"
   },
   {
    "duration": 38,
    "start_time": "2022-05-02T19:11:35.306Z"
   },
   {
    "duration": 8,
    "start_time": "2022-05-02T19:11:40.778Z"
   },
   {
    "duration": 13,
    "start_time": "2022-05-02T19:11:42.642Z"
   },
   {
    "duration": 6,
    "start_time": "2022-05-02T19:11:44.945Z"
   },
   {
    "duration": 19,
    "start_time": "2022-05-02T19:11:46.779Z"
   },
   {
    "duration": 1328,
    "start_time": "2022-05-02T19:11:49.160Z"
   },
   {
    "duration": 2976,
    "start_time": "2022-05-02T19:11:52.297Z"
   },
   {
    "duration": 2495,
    "start_time": "2022-05-02T19:11:59.634Z"
   },
   {
    "duration": 1717,
    "start_time": "2022-05-02T19:12:05.083Z"
   },
   {
    "duration": 15,
    "start_time": "2022-05-02T19:12:10.401Z"
   },
   {
    "duration": 7,
    "start_time": "2022-05-02T19:12:14.939Z"
   },
   {
    "duration": 9,
    "start_time": "2022-05-02T19:12:19.572Z"
   },
   {
    "duration": 10,
    "start_time": "2022-05-02T19:12:38.634Z"
   },
   {
    "duration": 7,
    "start_time": "2022-05-02T19:12:40.403Z"
   },
   {
    "duration": 317,
    "start_time": "2022-05-02T19:13:07.810Z"
   },
   {
    "duration": 185,
    "start_time": "2022-05-02T19:13:15.235Z"
   },
   {
    "duration": 438,
    "start_time": "2022-05-02T19:20:07.522Z"
   },
   {
    "duration": 9,
    "start_time": "2022-05-02T19:20:08.717Z"
   },
   {
    "duration": 9,
    "start_time": "2022-05-02T19:21:09.381Z"
   },
   {
    "duration": 7,
    "start_time": "2022-05-02T19:21:11.319Z"
   },
   {
    "duration": 322,
    "start_time": "2022-05-02T19:21:14.142Z"
   },
   {
    "duration": 7,
    "start_time": "2022-05-02T19:21:15.078Z"
   },
   {
    "duration": 14,
    "start_time": "2022-05-02T19:26:04.145Z"
   },
   {
    "duration": 110656,
    "start_time": "2022-05-02T19:26:44.084Z"
   },
   {
    "duration": 1153,
    "start_time": "2022-05-02T19:32:04.133Z"
   },
   {
    "duration": 1068,
    "start_time": "2022-05-02T19:32:22.821Z"
   },
   {
    "duration": 891,
    "start_time": "2022-05-02T19:32:53.372Z"
   },
   {
    "duration": 975,
    "start_time": "2022-05-02T19:33:04.376Z"
   },
   {
    "duration": 774,
    "start_time": "2022-05-02T19:33:29.309Z"
   },
   {
    "duration": 11,
    "start_time": "2022-05-02T19:33:55.694Z"
   },
   {
    "duration": 18,
    "start_time": "2022-05-02T19:48:18.437Z"
   },
   {
    "duration": 4230,
    "start_time": "2022-05-02T19:49:23.246Z"
   },
   {
    "duration": 4036,
    "start_time": "2022-05-02T19:50:45.238Z"
   },
   {
    "duration": 4189,
    "start_time": "2022-05-02T19:50:58.798Z"
   },
   {
    "duration": 15,
    "start_time": "2022-05-02T19:53:17.903Z"
   },
   {
    "duration": 4085,
    "start_time": "2022-05-02T19:54:00.176Z"
   },
   {
    "duration": 4222,
    "start_time": "2022-05-02T19:54:16.513Z"
   },
   {
    "duration": 2495,
    "start_time": "2022-05-02T20:02:42.771Z"
   },
   {
    "duration": 171,
    "start_time": "2022-05-02T20:05:11.688Z"
   },
   {
    "duration": 1561,
    "start_time": "2022-05-02T20:05:18.845Z"
   },
   {
    "duration": 1331,
    "start_time": "2022-05-02T20:55:22.602Z"
   },
   {
    "duration": 29,
    "start_time": "2022-05-02T20:55:23.934Z"
   },
   {
    "duration": 42,
    "start_time": "2022-05-02T20:55:23.966Z"
   },
   {
    "duration": 9,
    "start_time": "2022-05-02T20:55:24.010Z"
   },
   {
    "duration": 28,
    "start_time": "2022-05-02T20:55:24.021Z"
   },
   {
    "duration": 6,
    "start_time": "2022-05-02T20:55:24.050Z"
   },
   {
    "duration": 16,
    "start_time": "2022-05-02T20:55:24.058Z"
   },
   {
    "duration": 1074,
    "start_time": "2022-05-02T20:55:24.076Z"
   },
   {
    "duration": 2836,
    "start_time": "2022-05-02T20:55:25.152Z"
   },
   {
    "duration": 2045,
    "start_time": "2022-05-02T20:55:27.992Z"
   },
   {
    "duration": 1409,
    "start_time": "2022-05-02T20:55:30.039Z"
   },
   {
    "duration": 13,
    "start_time": "2022-05-02T20:55:31.450Z"
   },
   {
    "duration": 7,
    "start_time": "2022-05-02T20:55:31.466Z"
   },
   {
    "duration": 18,
    "start_time": "2022-05-02T20:55:31.476Z"
   },
   {
    "duration": 12,
    "start_time": "2022-05-02T20:55:31.495Z"
   },
   {
    "duration": 8,
    "start_time": "2022-05-02T20:55:31.509Z"
   },
   {
    "duration": 334,
    "start_time": "2022-05-02T20:55:31.519Z"
   },
   {
    "duration": 9,
    "start_time": "2022-05-02T20:55:31.855Z"
   },
   {
    "duration": 136066,
    "start_time": "2022-05-02T20:55:31.866Z"
   },
   {
    "duration": 1122,
    "start_time": "2022-05-02T20:57:47.935Z"
   },
   {
    "duration": 93,
    "start_time": "2022-05-02T20:57:49.059Z"
   },
   {
    "duration": 7,
    "start_time": "2022-05-02T20:57:49.153Z"
   },
   {
    "duration": 3977,
    "start_time": "2022-05-02T20:57:49.162Z"
   },
   {
    "duration": 1259,
    "start_time": "2022-05-02T20:57:53.141Z"
   },
   {
    "duration": 6,
    "start_time": "2022-05-02T21:00:24.516Z"
   },
   {
    "duration": 1653,
    "start_time": "2022-05-02T21:00:56.972Z"
   },
   {
    "duration": 36,
    "start_time": "2022-05-02T21:00:58.627Z"
   },
   {
    "duration": 63,
    "start_time": "2022-05-02T21:00:58.665Z"
   },
   {
    "duration": 25,
    "start_time": "2022-05-02T21:00:58.731Z"
   },
   {
    "duration": 27,
    "start_time": "2022-05-02T21:00:58.758Z"
   },
   {
    "duration": 7,
    "start_time": "2022-05-02T21:00:58.787Z"
   },
   {
    "duration": 17,
    "start_time": "2022-05-02T21:00:58.796Z"
   },
   {
    "duration": 1274,
    "start_time": "2022-05-02T21:00:58.815Z"
   },
   {
    "duration": 2775,
    "start_time": "2022-05-02T21:01:00.092Z"
   },
   {
    "duration": 1876,
    "start_time": "2022-05-02T21:01:02.871Z"
   },
   {
    "duration": 1393,
    "start_time": "2022-05-02T21:01:04.750Z"
   },
   {
    "duration": 22,
    "start_time": "2022-05-02T21:01:06.145Z"
   },
   {
    "duration": 7,
    "start_time": "2022-05-02T21:01:06.169Z"
   },
   {
    "duration": 9,
    "start_time": "2022-05-02T21:01:06.178Z"
   },
   {
    "duration": 10,
    "start_time": "2022-05-02T21:01:06.189Z"
   },
   {
    "duration": 9,
    "start_time": "2022-05-02T21:01:06.201Z"
   },
   {
    "duration": 378,
    "start_time": "2022-05-02T21:01:06.211Z"
   },
   {
    "duration": 7,
    "start_time": "2022-05-02T21:01:06.591Z"
   },
   {
    "duration": 147509,
    "start_time": "2022-05-02T21:01:06.599Z"
   },
   {
    "duration": 1053,
    "start_time": "2022-05-02T21:03:34.110Z"
   },
   {
    "duration": 97,
    "start_time": "2022-05-02T21:03:35.167Z"
   },
   {
    "duration": 4,
    "start_time": "2022-05-02T21:03:35.266Z"
   },
   {
    "duration": 4294,
    "start_time": "2022-05-02T21:03:35.272Z"
   },
   {
    "duration": 1228,
    "start_time": "2022-05-02T21:03:39.569Z"
   },
   {
    "duration": 511,
    "start_time": "2022-05-03T08:11:14.441Z"
   },
   {
    "duration": 4415,
    "start_time": "2022-05-03T08:14:41.778Z"
   },
   {
    "duration": 45,
    "start_time": "2022-05-03T08:14:46.198Z"
   },
   {
    "duration": 127,
    "start_time": "2022-05-03T08:14:46.294Z"
   },
   {
    "duration": 76,
    "start_time": "2022-05-03T08:14:46.425Z"
   },
   {
    "duration": 20,
    "start_time": "2022-05-03T08:14:46.506Z"
   },
   {
    "duration": 18,
    "start_time": "2022-05-03T08:15:03.892Z"
   },
   {
    "duration": 7,
    "start_time": "2022-05-03T08:15:14.463Z"
   },
   {
    "duration": 1134,
    "start_time": "2022-05-03T08:18:20.283Z"
   },
   {
    "duration": 974,
    "start_time": "2022-05-03T08:18:33.024Z"
   },
   {
    "duration": 217,
    "start_time": "2022-05-03T08:18:46.991Z"
   },
   {
    "duration": 4311,
    "start_time": "2022-05-03T08:19:06.200Z"
   },
   {
    "duration": 2724,
    "start_time": "2022-05-03T08:19:19.173Z"
   },
   {
    "duration": 842,
    "start_time": "2022-05-03T08:19:44.963Z"
   },
   {
    "duration": 4302,
    "start_time": "2022-05-03T08:19:52.995Z"
   },
   {
    "duration": 286,
    "start_time": "2022-05-03T08:23:38.449Z"
   },
   {
    "duration": 54,
    "start_time": "2022-05-03T08:51:58.253Z"
   },
   {
    "duration": 8,
    "start_time": "2022-05-03T08:52:04.299Z"
   },
   {
    "duration": 135,
    "start_time": "2022-05-03T08:52:04.311Z"
   },
   {
    "duration": 165,
    "start_time": "2022-05-03T08:52:04.449Z"
   },
   {
    "duration": 12,
    "start_time": "2022-05-03T08:52:04.617Z"
   },
   {
    "duration": 81,
    "start_time": "2022-05-03T08:52:04.631Z"
   },
   {
    "duration": 17,
    "start_time": "2022-05-03T08:52:04.715Z"
   },
   {
    "duration": 24,
    "start_time": "2022-05-03T08:52:04.795Z"
   },
   {
    "duration": 3374,
    "start_time": "2022-05-03T08:52:04.822Z"
   },
   {
    "duration": 6322,
    "start_time": "2022-05-03T08:52:08.199Z"
   },
   {
    "duration": 6169,
    "start_time": "2022-05-03T08:52:14.525Z"
   },
   {
    "duration": 4217,
    "start_time": "2022-05-03T08:52:20.697Z"
   },
   {
    "duration": 78,
    "start_time": "2022-05-03T08:52:24.917Z"
   },
   {
    "duration": 18,
    "start_time": "2022-05-03T08:52:24.997Z"
   },
   {
    "duration": 75,
    "start_time": "2022-05-03T08:52:25.018Z"
   },
   {
    "duration": 23,
    "start_time": "2022-05-03T08:52:25.096Z"
   },
   {
    "duration": 72,
    "start_time": "2022-05-03T08:52:25.122Z"
   },
   {
    "duration": 1335,
    "start_time": "2022-05-03T08:52:25.197Z"
   },
   {
    "duration": 64,
    "start_time": "2022-05-03T08:52:26.535Z"
   },
   {
    "duration": 305714,
    "start_time": "2022-05-03T08:52:26.601Z"
   },
   {
    "duration": 0,
    "start_time": "2022-05-03T08:57:32.319Z"
   },
   {
    "duration": 1964,
    "start_time": "2022-05-03T08:57:41.753Z"
   },
   {
    "duration": 87,
    "start_time": "2022-05-03T08:57:43.720Z"
   },
   {
    "duration": 2367,
    "start_time": "2022-05-03T14:43:28.455Z"
   },
   {
    "duration": 31,
    "start_time": "2022-05-03T14:43:30.824Z"
   },
   {
    "duration": 52,
    "start_time": "2022-05-03T14:43:30.857Z"
   },
   {
    "duration": 15,
    "start_time": "2022-05-03T14:43:30.911Z"
   },
   {
    "duration": 78,
    "start_time": "2022-05-03T14:43:30.927Z"
   },
   {
    "duration": 44,
    "start_time": "2022-05-03T14:43:31.006Z"
   },
   {
    "duration": 36,
    "start_time": "2022-05-03T14:43:31.052Z"
   },
   {
    "duration": 1173,
    "start_time": "2022-05-03T14:43:31.090Z"
   },
   {
    "duration": 2710,
    "start_time": "2022-05-03T14:43:32.265Z"
   },
   {
    "duration": 115,
    "start_time": "2022-05-03T14:43:39.512Z"
   },
   {
    "duration": 1010,
    "start_time": "2022-05-03T14:43:46.031Z"
   },
   {
    "duration": 911,
    "start_time": "2022-05-03T14:44:01.860Z"
   },
   {
    "duration": 1288,
    "start_time": "2022-05-03T14:51:24.635Z"
   },
   {
    "duration": 12,
    "start_time": "2022-05-03T14:51:29.663Z"
   },
   {
    "duration": 6,
    "start_time": "2022-05-03T14:52:35.259Z"
   },
   {
    "duration": 9,
    "start_time": "2022-05-03T14:52:38.160Z"
   },
   {
    "duration": 11,
    "start_time": "2022-05-03T14:52:39.635Z"
   },
   {
    "duration": 7,
    "start_time": "2022-05-03T14:52:40.488Z"
   },
   {
    "duration": 419,
    "start_time": "2022-05-03T14:52:42.832Z"
   },
   {
    "duration": 6,
    "start_time": "2022-05-03T14:52:43.552Z"
   },
   {
    "duration": 10,
    "start_time": "2022-05-03T14:53:09.569Z"
   },
   {
    "duration": 7,
    "start_time": "2022-05-03T14:53:33.800Z"
   },
   {
    "duration": 1396,
    "start_time": "2022-05-03T14:53:39.466Z"
   },
   {
    "duration": 6,
    "start_time": "2022-05-03T14:55:26.850Z"
   },
   {
    "duration": 12,
    "start_time": "2022-05-03T14:55:38.913Z"
   },
   {
    "duration": 1687,
    "start_time": "2022-05-03T15:57:23.330Z"
   },
   {
    "duration": 40,
    "start_time": "2022-05-03T15:57:25.020Z"
   },
   {
    "duration": 62,
    "start_time": "2022-05-03T15:57:25.063Z"
   },
   {
    "duration": 100,
    "start_time": "2022-05-03T15:57:25.128Z"
   },
   {
    "duration": 18,
    "start_time": "2022-05-03T15:57:25.230Z"
   },
   {
    "duration": 9,
    "start_time": "2022-05-03T15:57:25.251Z"
   },
   {
    "duration": 26,
    "start_time": "2022-05-03T15:57:25.262Z"
   },
   {
    "duration": 1473,
    "start_time": "2022-05-03T15:57:25.290Z"
   },
   {
    "duration": 2516,
    "start_time": "2022-05-03T15:57:26.766Z"
   },
   {
    "duration": 1011,
    "start_time": "2022-05-03T15:57:29.285Z"
   },
   {
    "duration": 1457,
    "start_time": "2022-05-03T15:57:30.298Z"
   },
   {
    "duration": 12,
    "start_time": "2022-05-03T15:57:31.757Z"
   },
   {
    "duration": 13,
    "start_time": "2022-05-03T15:57:31.771Z"
   },
   {
    "duration": 25,
    "start_time": "2022-05-03T15:57:31.786Z"
   },
   {
    "duration": 33,
    "start_time": "2022-05-03T15:57:31.813Z"
   },
   {
    "duration": 25,
    "start_time": "2022-05-03T15:57:31.848Z"
   },
   {
    "duration": 325,
    "start_time": "2022-05-03T15:57:31.874Z"
   },
   {
    "duration": 8,
    "start_time": "2022-05-03T15:57:32.201Z"
   },
   {
    "duration": 8,
    "start_time": "2022-05-03T15:57:32.211Z"
   },
   {
    "duration": 103860,
    "start_time": "2022-05-03T15:57:32.221Z"
   },
   {
    "duration": 1082,
    "start_time": "2022-05-03T15:59:16.083Z"
   },
   {
    "duration": 93,
    "start_time": "2022-05-03T15:59:17.170Z"
   },
   {
    "duration": 28,
    "start_time": "2022-05-03T15:59:17.264Z"
   },
   {
    "duration": 5,
    "start_time": "2022-05-03T15:59:17.294Z"
   },
   {
    "duration": 4124,
    "start_time": "2022-05-03T15:59:17.301Z"
   },
   {
    "duration": 1199,
    "start_time": "2022-05-03T15:59:21.427Z"
   }
  ],
  "kernelspec": {
   "display_name": "Python 3",
   "language": "python",
   "name": "python3"
  },
  "language_info": {
   "codemirror_mode": {
    "name": "ipython",
    "version": 3
   },
   "file_extension": ".py",
   "mimetype": "text/x-python",
   "name": "python",
   "nbconvert_exporter": "python",
   "pygments_lexer": "ipython3",
   "version": "3.7.3"
  },
  "toc": {
   "base_numbering": 1,
   "nav_menu": {},
   "number_sections": true,
   "sideBar": true,
   "skip_h1_title": true,
   "title_cell": "Table of Contents",
   "title_sidebar": "Contents",
   "toc_cell": false,
   "toc_position": {},
   "toc_section_display": true,
   "toc_window_display": false
  }
 },
 "nbformat": 4,
 "nbformat_minor": 2
}
