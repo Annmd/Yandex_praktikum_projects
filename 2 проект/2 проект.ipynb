{
 "cells": [
  {
   "cell_type": "markdown",
   "metadata": {},
   "source": [
    "# Исследование объявлений о продаже квартир\n",
    "\n",
    "Исследуются данные сервиса Яндекс.Недвижимость — архив объявлений о продаже квартир в Санкт-Петербурге и соседних населённых пунктах за несколько лет. Задача изучить параметры, определяюшие рыночную стоимость объектов недвижимости. \n",
    "\n",
    "Описание данных\n",
    "* airports_nearest — расстояние до ближайшего аэропорта в метрах (м)\n",
    "* balcony — число балконов\n",
    "* ceiling_height — высота потолков (м)\n",
    "* cityCenters_nearest — расстояние до центра города (м)\n",
    "* days_exposition — сколько дней было размещено объявление (от публикации до снятия)\n",
    "* first_day_exposition — дата публикации\n",
    "* floor — этаж\n",
    "* floors_total — всего этажей в доме\n",
    "* is_apartment — апартаменты (булев тип)\n",
    "* kitchen_area — площадь кухни в квадратных метрах (м²)\n",
    "* last_price — цена на момент снятия с публикации\n",
    "* living_area — жилая площадь в квадратных метрах (м²)\n",
    "* locality_name — название населённого пункта\n",
    "* open_plan — свободная планировка (булев тип)\n",
    "* parks_around3000 — число парков в радиусе 3 км\n",
    "* parks_nearest — расстояние до ближайшего парка (м)\n",
    "* ponds_around3000 — число водоёмов в радиусе 3 км\n",
    "* ponds_nearest — расстояние до ближайшего водоёма (м)\n",
    "* rooms — число комнат\n",
    "* studio — квартира-студия (булев тип)\n",
    "* total_area — площадь квартиры в квадратных метрах (м²)\n",
    "* total_images — число фотографий квартиры в объявлении\n"
   ]
  },
  {
   "cell_type": "code",
   "execution_count": 1,
   "metadata": {},
   "outputs": [],
   "source": [
    "import pandas as pd\n",
    "import matplotlib.pyplot as plt\n",
    "import seaborn as sns"
   ]
  },
  {
   "cell_type": "markdown",
   "metadata": {},
   "source": [
    "## Изучение данных из файла"
   ]
  },
  {
   "cell_type": "code",
   "execution_count": 2,
   "metadata": {
    "scrolled": true
   },
   "outputs": [
    {
     "data": {
      "text/html": [
       "<div>\n",
       "<style scoped>\n",
       "    .dataframe tbody tr th:only-of-type {\n",
       "        vertical-align: middle;\n",
       "    }\n",
       "\n",
       "    .dataframe tbody tr th {\n",
       "        vertical-align: top;\n",
       "    }\n",
       "\n",
       "    .dataframe thead th {\n",
       "        text-align: right;\n",
       "    }\n",
       "</style>\n",
       "<table border=\"1\" class=\"dataframe\">\n",
       "  <thead>\n",
       "    <tr style=\"text-align: right;\">\n",
       "      <th></th>\n",
       "      <th>total_images</th>\n",
       "      <th>last_price</th>\n",
       "      <th>total_area</th>\n",
       "      <th>first_day_exposition</th>\n",
       "      <th>rooms</th>\n",
       "      <th>ceiling_height</th>\n",
       "      <th>floors_total</th>\n",
       "      <th>living_area</th>\n",
       "      <th>floor</th>\n",
       "      <th>is_apartment</th>\n",
       "      <th>...</th>\n",
       "      <th>kitchen_area</th>\n",
       "      <th>balcony</th>\n",
       "      <th>locality_name</th>\n",
       "      <th>airports_nearest</th>\n",
       "      <th>cityCenters_nearest</th>\n",
       "      <th>parks_around3000</th>\n",
       "      <th>parks_nearest</th>\n",
       "      <th>ponds_around3000</th>\n",
       "      <th>ponds_nearest</th>\n",
       "      <th>days_exposition</th>\n",
       "    </tr>\n",
       "  </thead>\n",
       "  <tbody>\n",
       "    <tr>\n",
       "      <th>0</th>\n",
       "      <td>20</td>\n",
       "      <td>13000000.0</td>\n",
       "      <td>108.0</td>\n",
       "      <td>2019-03-07T00:00:00</td>\n",
       "      <td>3</td>\n",
       "      <td>2.70</td>\n",
       "      <td>16.0</td>\n",
       "      <td>51.0</td>\n",
       "      <td>8</td>\n",
       "      <td>NaN</td>\n",
       "      <td>...</td>\n",
       "      <td>25.0</td>\n",
       "      <td>NaN</td>\n",
       "      <td>Санкт-Петербург</td>\n",
       "      <td>18863.0</td>\n",
       "      <td>16028.0</td>\n",
       "      <td>1.0</td>\n",
       "      <td>482.0</td>\n",
       "      <td>2.0</td>\n",
       "      <td>755.0</td>\n",
       "      <td>NaN</td>\n",
       "    </tr>\n",
       "    <tr>\n",
       "      <th>1</th>\n",
       "      <td>7</td>\n",
       "      <td>3350000.0</td>\n",
       "      <td>40.4</td>\n",
       "      <td>2018-12-04T00:00:00</td>\n",
       "      <td>1</td>\n",
       "      <td>NaN</td>\n",
       "      <td>11.0</td>\n",
       "      <td>18.6</td>\n",
       "      <td>1</td>\n",
       "      <td>NaN</td>\n",
       "      <td>...</td>\n",
       "      <td>11.0</td>\n",
       "      <td>2.0</td>\n",
       "      <td>посёлок Шушары</td>\n",
       "      <td>12817.0</td>\n",
       "      <td>18603.0</td>\n",
       "      <td>0.0</td>\n",
       "      <td>NaN</td>\n",
       "      <td>0.0</td>\n",
       "      <td>NaN</td>\n",
       "      <td>81.0</td>\n",
       "    </tr>\n",
       "    <tr>\n",
       "      <th>2</th>\n",
       "      <td>10</td>\n",
       "      <td>5196000.0</td>\n",
       "      <td>56.0</td>\n",
       "      <td>2015-08-20T00:00:00</td>\n",
       "      <td>2</td>\n",
       "      <td>NaN</td>\n",
       "      <td>5.0</td>\n",
       "      <td>34.3</td>\n",
       "      <td>4</td>\n",
       "      <td>NaN</td>\n",
       "      <td>...</td>\n",
       "      <td>8.3</td>\n",
       "      <td>0.0</td>\n",
       "      <td>Санкт-Петербург</td>\n",
       "      <td>21741.0</td>\n",
       "      <td>13933.0</td>\n",
       "      <td>1.0</td>\n",
       "      <td>90.0</td>\n",
       "      <td>2.0</td>\n",
       "      <td>574.0</td>\n",
       "      <td>558.0</td>\n",
       "    </tr>\n",
       "    <tr>\n",
       "      <th>3</th>\n",
       "      <td>0</td>\n",
       "      <td>64900000.0</td>\n",
       "      <td>159.0</td>\n",
       "      <td>2015-07-24T00:00:00</td>\n",
       "      <td>3</td>\n",
       "      <td>NaN</td>\n",
       "      <td>14.0</td>\n",
       "      <td>NaN</td>\n",
       "      <td>9</td>\n",
       "      <td>NaN</td>\n",
       "      <td>...</td>\n",
       "      <td>NaN</td>\n",
       "      <td>0.0</td>\n",
       "      <td>Санкт-Петербург</td>\n",
       "      <td>28098.0</td>\n",
       "      <td>6800.0</td>\n",
       "      <td>2.0</td>\n",
       "      <td>84.0</td>\n",
       "      <td>3.0</td>\n",
       "      <td>234.0</td>\n",
       "      <td>424.0</td>\n",
       "    </tr>\n",
       "    <tr>\n",
       "      <th>4</th>\n",
       "      <td>2</td>\n",
       "      <td>10000000.0</td>\n",
       "      <td>100.0</td>\n",
       "      <td>2018-06-19T00:00:00</td>\n",
       "      <td>2</td>\n",
       "      <td>3.03</td>\n",
       "      <td>14.0</td>\n",
       "      <td>32.0</td>\n",
       "      <td>13</td>\n",
       "      <td>NaN</td>\n",
       "      <td>...</td>\n",
       "      <td>41.0</td>\n",
       "      <td>NaN</td>\n",
       "      <td>Санкт-Петербург</td>\n",
       "      <td>31856.0</td>\n",
       "      <td>8098.0</td>\n",
       "      <td>2.0</td>\n",
       "      <td>112.0</td>\n",
       "      <td>1.0</td>\n",
       "      <td>48.0</td>\n",
       "      <td>121.0</td>\n",
       "    </tr>\n",
       "  </tbody>\n",
       "</table>\n",
       "<p>5 rows × 22 columns</p>\n",
       "</div>"
      ],
      "text/plain": [
       "   total_images  last_price  total_area first_day_exposition  rooms  \\\n",
       "0            20  13000000.0       108.0  2019-03-07T00:00:00      3   \n",
       "1             7   3350000.0        40.4  2018-12-04T00:00:00      1   \n",
       "2            10   5196000.0        56.0  2015-08-20T00:00:00      2   \n",
       "3             0  64900000.0       159.0  2015-07-24T00:00:00      3   \n",
       "4             2  10000000.0       100.0  2018-06-19T00:00:00      2   \n",
       "\n",
       "   ceiling_height  floors_total  living_area  floor is_apartment  ...  \\\n",
       "0            2.70          16.0         51.0      8          NaN  ...   \n",
       "1             NaN          11.0         18.6      1          NaN  ...   \n",
       "2             NaN           5.0         34.3      4          NaN  ...   \n",
       "3             NaN          14.0          NaN      9          NaN  ...   \n",
       "4            3.03          14.0         32.0     13          NaN  ...   \n",
       "\n",
       "   kitchen_area  balcony    locality_name  airports_nearest  \\\n",
       "0          25.0      NaN  Санкт-Петербург           18863.0   \n",
       "1          11.0      2.0   посёлок Шушары           12817.0   \n",
       "2           8.3      0.0  Санкт-Петербург           21741.0   \n",
       "3           NaN      0.0  Санкт-Петербург           28098.0   \n",
       "4          41.0      NaN  Санкт-Петербург           31856.0   \n",
       "\n",
       "  cityCenters_nearest  parks_around3000  parks_nearest  ponds_around3000  \\\n",
       "0             16028.0               1.0          482.0               2.0   \n",
       "1             18603.0               0.0            NaN               0.0   \n",
       "2             13933.0               1.0           90.0               2.0   \n",
       "3              6800.0               2.0           84.0               3.0   \n",
       "4              8098.0               2.0          112.0               1.0   \n",
       "\n",
       "   ponds_nearest  days_exposition  \n",
       "0          755.0              NaN  \n",
       "1            NaN             81.0  \n",
       "2          574.0            558.0  \n",
       "3          234.0            424.0  \n",
       "4           48.0            121.0  \n",
       "\n",
       "[5 rows x 22 columns]"
      ]
     },
     "execution_count": 2,
     "metadata": {},
     "output_type": "execute_result"
    }
   ],
   "source": [
    "data = pd.read_csv(path+'real_estate_data.csv', sep='\\t')\n",
    "data.head(5)"
   ]
  },
  {
   "cell_type": "code",
   "execution_count": 3,
   "metadata": {},
   "outputs": [
    {
     "name": "stdout",
     "output_type": "stream",
     "text": [
      "<class 'pandas.core.frame.DataFrame'>\n",
      "RangeIndex: 23699 entries, 0 to 23698\n",
      "Data columns (total 22 columns):\n",
      "total_images            23699 non-null int64\n",
      "last_price              23699 non-null float64\n",
      "total_area              23699 non-null float64\n",
      "first_day_exposition    23699 non-null object\n",
      "rooms                   23699 non-null int64\n",
      "ceiling_height          14504 non-null float64\n",
      "floors_total            23613 non-null float64\n",
      "living_area             21796 non-null float64\n",
      "floor                   23699 non-null int64\n",
      "is_apartment            2775 non-null object\n",
      "studio                  23699 non-null bool\n",
      "open_plan               23699 non-null bool\n",
      "kitchen_area            21421 non-null float64\n",
      "balcony                 12180 non-null float64\n",
      "locality_name           23650 non-null object\n",
      "airports_nearest        18157 non-null float64\n",
      "cityCenters_nearest     18180 non-null float64\n",
      "parks_around3000        18181 non-null float64\n",
      "parks_nearest           8079 non-null float64\n",
      "ponds_around3000        18181 non-null float64\n",
      "ponds_nearest           9110 non-null float64\n",
      "days_exposition         20518 non-null float64\n",
      "dtypes: bool(2), float64(14), int64(3), object(3)\n",
      "memory usage: 3.7+ MB\n"
     ]
    }
   ],
   "source": [
    "data.info()"
   ]
  },
  {
   "cell_type": "raw",
   "metadata": {},
   "source": [
    "Видны столбцы с пропусками (14), дата в first_day_exposition тип данных - объект, количество этажей, балконы, количество дней размещения тип данных float64."
   ]
  },
  {
   "cell_type": "code",
   "execution_count": 4,
   "metadata": {},
   "outputs": [
    {
     "data": {
      "text/html": [
       "<div>\n",
       "<style scoped>\n",
       "    .dataframe tbody tr th:only-of-type {\n",
       "        vertical-align: middle;\n",
       "    }\n",
       "\n",
       "    .dataframe tbody tr th {\n",
       "        vertical-align: top;\n",
       "    }\n",
       "\n",
       "    .dataframe thead th {\n",
       "        text-align: right;\n",
       "    }\n",
       "</style>\n",
       "<table border=\"1\" class=\"dataframe\">\n",
       "  <thead>\n",
       "    <tr style=\"text-align: right;\">\n",
       "      <th></th>\n",
       "      <th>total_images</th>\n",
       "      <th>last_price</th>\n",
       "      <th>total_area</th>\n",
       "      <th>rooms</th>\n",
       "      <th>ceiling_height</th>\n",
       "      <th>floors_total</th>\n",
       "      <th>living_area</th>\n",
       "      <th>floor</th>\n",
       "      <th>kitchen_area</th>\n",
       "      <th>balcony</th>\n",
       "      <th>airports_nearest</th>\n",
       "      <th>cityCenters_nearest</th>\n",
       "      <th>parks_around3000</th>\n",
       "      <th>parks_nearest</th>\n",
       "      <th>ponds_around3000</th>\n",
       "      <th>ponds_nearest</th>\n",
       "      <th>days_exposition</th>\n",
       "    </tr>\n",
       "  </thead>\n",
       "  <tbody>\n",
       "    <tr>\n",
       "      <th>count</th>\n",
       "      <td>23699.000000</td>\n",
       "      <td>2.369900e+04</td>\n",
       "      <td>23699.000000</td>\n",
       "      <td>23699.000000</td>\n",
       "      <td>14504.000000</td>\n",
       "      <td>23613.000000</td>\n",
       "      <td>21796.000000</td>\n",
       "      <td>23699.000000</td>\n",
       "      <td>21421.000000</td>\n",
       "      <td>12180.000000</td>\n",
       "      <td>18157.000000</td>\n",
       "      <td>18180.000000</td>\n",
       "      <td>18181.000000</td>\n",
       "      <td>8079.000000</td>\n",
       "      <td>18181.000000</td>\n",
       "      <td>9110.000000</td>\n",
       "      <td>20518.000000</td>\n",
       "    </tr>\n",
       "    <tr>\n",
       "      <th>mean</th>\n",
       "      <td>9.858475</td>\n",
       "      <td>6.541549e+06</td>\n",
       "      <td>60.348651</td>\n",
       "      <td>2.070636</td>\n",
       "      <td>2.771499</td>\n",
       "      <td>10.673824</td>\n",
       "      <td>34.457852</td>\n",
       "      <td>5.892358</td>\n",
       "      <td>10.569807</td>\n",
       "      <td>1.150082</td>\n",
       "      <td>28793.672193</td>\n",
       "      <td>14191.277833</td>\n",
       "      <td>0.611408</td>\n",
       "      <td>490.804555</td>\n",
       "      <td>0.770255</td>\n",
       "      <td>517.980900</td>\n",
       "      <td>180.888634</td>\n",
       "    </tr>\n",
       "    <tr>\n",
       "      <th>std</th>\n",
       "      <td>5.682529</td>\n",
       "      <td>1.088701e+07</td>\n",
       "      <td>35.654083</td>\n",
       "      <td>1.078405</td>\n",
       "      <td>1.261056</td>\n",
       "      <td>6.597173</td>\n",
       "      <td>22.030445</td>\n",
       "      <td>4.885249</td>\n",
       "      <td>5.905438</td>\n",
       "      <td>1.071300</td>\n",
       "      <td>12630.880622</td>\n",
       "      <td>8608.386210</td>\n",
       "      <td>0.802074</td>\n",
       "      <td>342.317995</td>\n",
       "      <td>0.938346</td>\n",
       "      <td>277.720643</td>\n",
       "      <td>219.727988</td>\n",
       "    </tr>\n",
       "    <tr>\n",
       "      <th>min</th>\n",
       "      <td>0.000000</td>\n",
       "      <td>1.219000e+04</td>\n",
       "      <td>12.000000</td>\n",
       "      <td>0.000000</td>\n",
       "      <td>1.000000</td>\n",
       "      <td>1.000000</td>\n",
       "      <td>2.000000</td>\n",
       "      <td>1.000000</td>\n",
       "      <td>1.300000</td>\n",
       "      <td>0.000000</td>\n",
       "      <td>0.000000</td>\n",
       "      <td>181.000000</td>\n",
       "      <td>0.000000</td>\n",
       "      <td>1.000000</td>\n",
       "      <td>0.000000</td>\n",
       "      <td>13.000000</td>\n",
       "      <td>1.000000</td>\n",
       "    </tr>\n",
       "    <tr>\n",
       "      <th>25%</th>\n",
       "      <td>6.000000</td>\n",
       "      <td>3.400000e+06</td>\n",
       "      <td>40.000000</td>\n",
       "      <td>1.000000</td>\n",
       "      <td>2.520000</td>\n",
       "      <td>5.000000</td>\n",
       "      <td>18.600000</td>\n",
       "      <td>2.000000</td>\n",
       "      <td>7.000000</td>\n",
       "      <td>0.000000</td>\n",
       "      <td>18585.000000</td>\n",
       "      <td>9238.000000</td>\n",
       "      <td>0.000000</td>\n",
       "      <td>288.000000</td>\n",
       "      <td>0.000000</td>\n",
       "      <td>294.000000</td>\n",
       "      <td>45.000000</td>\n",
       "    </tr>\n",
       "    <tr>\n",
       "      <th>50%</th>\n",
       "      <td>9.000000</td>\n",
       "      <td>4.650000e+06</td>\n",
       "      <td>52.000000</td>\n",
       "      <td>2.000000</td>\n",
       "      <td>2.650000</td>\n",
       "      <td>9.000000</td>\n",
       "      <td>30.000000</td>\n",
       "      <td>4.000000</td>\n",
       "      <td>9.100000</td>\n",
       "      <td>1.000000</td>\n",
       "      <td>26726.000000</td>\n",
       "      <td>13098.500000</td>\n",
       "      <td>0.000000</td>\n",
       "      <td>455.000000</td>\n",
       "      <td>1.000000</td>\n",
       "      <td>502.000000</td>\n",
       "      <td>95.000000</td>\n",
       "    </tr>\n",
       "    <tr>\n",
       "      <th>75%</th>\n",
       "      <td>14.000000</td>\n",
       "      <td>6.800000e+06</td>\n",
       "      <td>69.900000</td>\n",
       "      <td>3.000000</td>\n",
       "      <td>2.800000</td>\n",
       "      <td>16.000000</td>\n",
       "      <td>42.300000</td>\n",
       "      <td>8.000000</td>\n",
       "      <td>12.000000</td>\n",
       "      <td>2.000000</td>\n",
       "      <td>37273.000000</td>\n",
       "      <td>16293.000000</td>\n",
       "      <td>1.000000</td>\n",
       "      <td>612.000000</td>\n",
       "      <td>1.000000</td>\n",
       "      <td>729.000000</td>\n",
       "      <td>232.000000</td>\n",
       "    </tr>\n",
       "    <tr>\n",
       "      <th>max</th>\n",
       "      <td>50.000000</td>\n",
       "      <td>7.630000e+08</td>\n",
       "      <td>900.000000</td>\n",
       "      <td>19.000000</td>\n",
       "      <td>100.000000</td>\n",
       "      <td>60.000000</td>\n",
       "      <td>409.700000</td>\n",
       "      <td>33.000000</td>\n",
       "      <td>112.000000</td>\n",
       "      <td>5.000000</td>\n",
       "      <td>84869.000000</td>\n",
       "      <td>65968.000000</td>\n",
       "      <td>3.000000</td>\n",
       "      <td>3190.000000</td>\n",
       "      <td>3.000000</td>\n",
       "      <td>1344.000000</td>\n",
       "      <td>1580.000000</td>\n",
       "    </tr>\n",
       "  </tbody>\n",
       "</table>\n",
       "</div>"
      ],
      "text/plain": [
       "       total_images    last_price    total_area         rooms  ceiling_height  \\\n",
       "count  23699.000000  2.369900e+04  23699.000000  23699.000000    14504.000000   \n",
       "mean       9.858475  6.541549e+06     60.348651      2.070636        2.771499   \n",
       "std        5.682529  1.088701e+07     35.654083      1.078405        1.261056   \n",
       "min        0.000000  1.219000e+04     12.000000      0.000000        1.000000   \n",
       "25%        6.000000  3.400000e+06     40.000000      1.000000        2.520000   \n",
       "50%        9.000000  4.650000e+06     52.000000      2.000000        2.650000   \n",
       "75%       14.000000  6.800000e+06     69.900000      3.000000        2.800000   \n",
       "max       50.000000  7.630000e+08    900.000000     19.000000      100.000000   \n",
       "\n",
       "       floors_total   living_area         floor  kitchen_area       balcony  \\\n",
       "count  23613.000000  21796.000000  23699.000000  21421.000000  12180.000000   \n",
       "mean      10.673824     34.457852      5.892358     10.569807      1.150082   \n",
       "std        6.597173     22.030445      4.885249      5.905438      1.071300   \n",
       "min        1.000000      2.000000      1.000000      1.300000      0.000000   \n",
       "25%        5.000000     18.600000      2.000000      7.000000      0.000000   \n",
       "50%        9.000000     30.000000      4.000000      9.100000      1.000000   \n",
       "75%       16.000000     42.300000      8.000000     12.000000      2.000000   \n",
       "max       60.000000    409.700000     33.000000    112.000000      5.000000   \n",
       "\n",
       "       airports_nearest  cityCenters_nearest  parks_around3000  parks_nearest  \\\n",
       "count      18157.000000         18180.000000      18181.000000    8079.000000   \n",
       "mean       28793.672193         14191.277833          0.611408     490.804555   \n",
       "std        12630.880622          8608.386210          0.802074     342.317995   \n",
       "min            0.000000           181.000000          0.000000       1.000000   \n",
       "25%        18585.000000          9238.000000          0.000000     288.000000   \n",
       "50%        26726.000000         13098.500000          0.000000     455.000000   \n",
       "75%        37273.000000         16293.000000          1.000000     612.000000   \n",
       "max        84869.000000         65968.000000          3.000000    3190.000000   \n",
       "\n",
       "       ponds_around3000  ponds_nearest  days_exposition  \n",
       "count      18181.000000    9110.000000     20518.000000  \n",
       "mean           0.770255     517.980900       180.888634  \n",
       "std            0.938346     277.720643       219.727988  \n",
       "min            0.000000      13.000000         1.000000  \n",
       "25%            0.000000     294.000000        45.000000  \n",
       "50%            1.000000     502.000000        95.000000  \n",
       "75%            1.000000     729.000000       232.000000  \n",
       "max            3.000000    1344.000000      1580.000000  "
      ]
     },
     "execution_count": 4,
     "metadata": {},
     "output_type": "execute_result"
    }
   ],
   "source": [
    "data.describe()"
   ]
  },
  {
   "cell_type": "markdown",
   "metadata": {},
   "source": [
    "При рассмотрении описания датасета отмечены следующие проблемы в данных : минимальное значение в числе комнат 0, высота потолков 1 м, а максимальная 100 м, жилая площадь минимальное значение 2 м2, минимальное расстояние до аэропорта 0 м, расстояние до ближайщего парка 1 м. Необходимо рассмотреть подробнее распределение этих данных и, если доля этих \"вбросов\" невелика, убрать их."
   ]
  },
  {
   "cell_type": "markdown",
   "metadata": {},
   "source": [
    "### Вывод"
   ]
  },
  {
   "cell_type": "markdown",
   "metadata": {},
   "source": [
    "1. В данных есть пропуски в следующих столбцах(14): \n",
    "* 'ceiling_height'\n",
    "* 'floors_total'\n",
    "* 'living_area'\n",
    "* is_apartment'\n",
    "* 'kitchen_area'\n",
    "* 'balcony'\n",
    "* 'locality_name'\n",
    "* 'airports_nearest'\n",
    "* 'parks_around3000'\n",
    "* 'parks_nearest'\n",
    "* 'ponds_around3000'\n",
    "* 'ponds_nearest'\n",
    "* 'days_exposition'\n",
    "* 'city_centers_nearest'\n",
    "2. Несоответствие типа данных значению столбца\n",
    "* last_price -float64\n",
    "* is_apartment - object\n",
    "* balcony - float64\n",
    "* days_exposition - float64\n",
    "* first_day_exposition - object\n",
    "* floors_total - float64\n",
    "3. Также в некоторых столбцах встречаются логически невозможные значения. \n",
    "\n",
    "Рассмотрим их подробнее и обработаем при необходимости на этапе предобработки данных."
   ]
  },
  {
   "cell_type": "markdown",
   "metadata": {},
   "source": [
    "## Предобработка данных"
   ]
  },
  {
   "cell_type": "markdown",
   "metadata": {},
   "source": [
    "Этапы:\n",
    "1. Приведение названий столбца к единому формату\n",
    "2. Выявление явных дубликатов\n",
    "3. Замена типа данных\n",
    "4. Заполнение пропусков"
   ]
  },
  {
   "cell_type": "markdown",
   "metadata": {},
   "source": [
    "**1. Приведение названий столбцов к единому формату**"
   ]
  },
  {
   "cell_type": "markdown",
   "metadata": {},
   "source": [
    "Приведем название столбца с удаленностью от центра к змеиному регистру."
   ]
  },
  {
   "cell_type": "code",
   "execution_count": 5,
   "metadata": {},
   "outputs": [],
   "source": [
    "data = data.rename(columns = {'cityCenters_nearest' : 'city_centers_nearest'})"
   ]
  },
  {
   "cell_type": "markdown",
   "metadata": {},
   "source": [
    "**2. Выявление явных дубликатов**"
   ]
  },
  {
   "cell_type": "markdown",
   "metadata": {},
   "source": [
    "Проверим данные на предмет дубликатов."
   ]
  },
  {
   "cell_type": "code",
   "execution_count": 6,
   "metadata": {},
   "outputs": [
    {
     "data": {
      "text/plain": [
       "0"
      ]
     },
     "execution_count": 6,
     "metadata": {},
     "output_type": "execute_result"
    }
   ],
   "source": [
    "data.duplicated().sum()"
   ]
  },
  {
   "cell_type": "markdown",
   "metadata": {},
   "source": [
    "**3. Замена типа данных**"
   ]
  },
  {
   "cell_type": "markdown",
   "metadata": {},
   "source": [
    "В столбце last_price в вещественных значениям после запятой нули, изменим на целочисленные значения."
   ]
  },
  {
   "cell_type": "code",
   "execution_count": 7,
   "metadata": {},
   "outputs": [
    {
     "data": {
      "text/plain": [
       "0    13000000\n",
       "1     3350000\n",
       "2     5196000\n",
       "3    64900000\n",
       "4    10000000\n",
       "Name: last_price, dtype: int32"
      ]
     },
     "execution_count": 7,
     "metadata": {},
     "output_type": "execute_result"
    }
   ],
   "source": [
    "data['last_price'] = data['last_price'].astype('int')\n",
    "# проверим\n",
    "data['last_price'].head()"
   ]
  },
  {
   "cell_type": "markdown",
   "metadata": {},
   "source": [
    "**4. Заполнение пропусков**"
   ]
  },
  {
   "cell_type": "markdown",
   "metadata": {},
   "source": [
    "Рассмотрим подробнее столбцы с пропусками."
   ]
  },
  {
   "cell_type": "code",
   "execution_count": 8,
   "metadata": {},
   "outputs": [],
   "source": [
    "def pass_values(df, column):\n",
    "    count = df[column].isna().sum()\n",
    "    percent = round(df[column].isna().sum() * 100 / len(df), 2)\n",
    "    \n",
    "    pass_value_df = pd.DataFrame({'column_name': column,\n",
    "                                  'num_missing': count,\n",
    "                                  'percent_missing': percent})\n",
    "    \n",
    "    return pass_value_df"
   ]
  },
  {
   "cell_type": "code",
   "execution_count": 9,
   "metadata": {},
   "outputs": [
    {
     "data": {
      "text/html": [
       "<div>\n",
       "<style scoped>\n",
       "    .dataframe tbody tr th:only-of-type {\n",
       "        vertical-align: middle;\n",
       "    }\n",
       "\n",
       "    .dataframe tbody tr th {\n",
       "        vertical-align: top;\n",
       "    }\n",
       "\n",
       "    .dataframe thead th {\n",
       "        text-align: right;\n",
       "    }\n",
       "</style>\n",
       "<table border=\"1\" class=\"dataframe\">\n",
       "  <thead>\n",
       "    <tr style=\"text-align: right;\">\n",
       "      <th></th>\n",
       "      <th>column_name</th>\n",
       "      <th>num_missing</th>\n",
       "      <th>percent_missing</th>\n",
       "    </tr>\n",
       "  </thead>\n",
       "  <tbody>\n",
       "    <tr>\n",
       "      <th>ceiling_height</th>\n",
       "      <td>ceiling_height</td>\n",
       "      <td>9195</td>\n",
       "      <td>38.80</td>\n",
       "    </tr>\n",
       "    <tr>\n",
       "      <th>floors_total</th>\n",
       "      <td>floors_total</td>\n",
       "      <td>86</td>\n",
       "      <td>0.36</td>\n",
       "    </tr>\n",
       "    <tr>\n",
       "      <th>living_area</th>\n",
       "      <td>living_area</td>\n",
       "      <td>1903</td>\n",
       "      <td>8.03</td>\n",
       "    </tr>\n",
       "    <tr>\n",
       "      <th>is_apartment</th>\n",
       "      <td>is_apartment</td>\n",
       "      <td>20924</td>\n",
       "      <td>88.29</td>\n",
       "    </tr>\n",
       "    <tr>\n",
       "      <th>kitchen_area</th>\n",
       "      <td>kitchen_area</td>\n",
       "      <td>2278</td>\n",
       "      <td>9.61</td>\n",
       "    </tr>\n",
       "    <tr>\n",
       "      <th>balcony</th>\n",
       "      <td>balcony</td>\n",
       "      <td>11519</td>\n",
       "      <td>48.61</td>\n",
       "    </tr>\n",
       "    <tr>\n",
       "      <th>locality_name</th>\n",
       "      <td>locality_name</td>\n",
       "      <td>49</td>\n",
       "      <td>0.21</td>\n",
       "    </tr>\n",
       "    <tr>\n",
       "      <th>airports_nearest</th>\n",
       "      <td>airports_nearest</td>\n",
       "      <td>5542</td>\n",
       "      <td>23.38</td>\n",
       "    </tr>\n",
       "    <tr>\n",
       "      <th>parks_around3000</th>\n",
       "      <td>parks_around3000</td>\n",
       "      <td>5518</td>\n",
       "      <td>23.28</td>\n",
       "    </tr>\n",
       "    <tr>\n",
       "      <th>parks_nearest</th>\n",
       "      <td>parks_nearest</td>\n",
       "      <td>15620</td>\n",
       "      <td>65.91</td>\n",
       "    </tr>\n",
       "    <tr>\n",
       "      <th>ponds_around3000</th>\n",
       "      <td>ponds_around3000</td>\n",
       "      <td>5518</td>\n",
       "      <td>23.28</td>\n",
       "    </tr>\n",
       "    <tr>\n",
       "      <th>ponds_nearest</th>\n",
       "      <td>ponds_nearest</td>\n",
       "      <td>14589</td>\n",
       "      <td>61.56</td>\n",
       "    </tr>\n",
       "    <tr>\n",
       "      <th>days_exposition</th>\n",
       "      <td>days_exposition</td>\n",
       "      <td>3181</td>\n",
       "      <td>13.42</td>\n",
       "    </tr>\n",
       "    <tr>\n",
       "      <th>city_centers_nearest</th>\n",
       "      <td>city_centers_nearest</td>\n",
       "      <td>5519</td>\n",
       "      <td>23.29</td>\n",
       "    </tr>\n",
       "  </tbody>\n",
       "</table>\n",
       "</div>"
      ],
      "text/plain": [
       "                               column_name  num_missing  percent_missing\n",
       "ceiling_height              ceiling_height         9195            38.80\n",
       "floors_total                  floors_total           86             0.36\n",
       "living_area                    living_area         1903             8.03\n",
       "is_apartment                  is_apartment        20924            88.29\n",
       "kitchen_area                  kitchen_area         2278             9.61\n",
       "balcony                            balcony        11519            48.61\n",
       "locality_name                locality_name           49             0.21\n",
       "airports_nearest          airports_nearest         5542            23.38\n",
       "parks_around3000          parks_around3000         5518            23.28\n",
       "parks_nearest                parks_nearest        15620            65.91\n",
       "ponds_around3000          ponds_around3000         5518            23.28\n",
       "ponds_nearest                ponds_nearest        14589            61.56\n",
       "days_exposition            days_exposition         3181            13.42\n",
       "city_centers_nearest  city_centers_nearest         5519            23.29"
      ]
     },
     "execution_count": 9,
     "metadata": {},
     "output_type": "execute_result"
    }
   ],
   "source": [
    "pass_values(data, column = ['ceiling_height','floors_total','living_area','is_apartment','kitchen_area','balcony','locality_name','airports_nearest','parks_around3000','parks_nearest','ponds_around3000','ponds_nearest','days_exposition','city_centers_nearest'])\n"
   ]
  },
  {
   "cell_type": "markdown",
   "metadata": {},
   "source": [
    "Для данных про аэропорты, парки и пруды, апартаменты нет значений на замену, но пропуски в этих столбцах представляют собой значительную долю данных, оставим без изменений. "
   ]
  },
  {
   "cell_type": "markdown",
   "metadata": {},
   "source": [
    "**is_apartment**"
   ]
  },
  {
   "cell_type": "markdown",
   "metadata": {},
   "source": [
    "Наибольшее количество пропусков в графе апартаменты. Вероятно люди, заполнявшие форму не знали, что это значит, поэтому пропустили строку. Когда у человека во владении апартаменты, он об этом знает, соответственно все пропуски можно заменить на False."
   ]
  },
  {
   "cell_type": "code",
   "execution_count": 10,
   "metadata": {},
   "outputs": [
    {
     "name": "stdout",
     "output_type": "stream",
     "text": [
      "Количество пропусков: 0\n"
     ]
    },
    {
     "data": {
      "text/plain": [
       "0    False\n",
       "1    False\n",
       "2    False\n",
       "3    False\n",
       "4    False\n",
       "Name: is_apartment, dtype: bool"
      ]
     },
     "execution_count": 10,
     "metadata": {},
     "output_type": "execute_result"
    }
   ],
   "source": [
    "data['is_apartment'] = data['is_apartment'].fillna(False)\n",
    "print('Количество пропусков:', data['is_apartment'].isna().sum())\n",
    "data['is_apartment'].head()"
   ]
  },
  {
   "cell_type": "markdown",
   "metadata": {},
   "source": [
    "**balcony**"
   ]
  },
  {
   "cell_type": "markdown",
   "metadata": {},
   "source": [
    "В столбце балконы много пропусков, вероятно в квартирах нет балконов, можно заменить пропуски на 0."
   ]
  },
  {
   "cell_type": "code",
   "execution_count": 11,
   "metadata": {},
   "outputs": [
    {
     "name": "stdout",
     "output_type": "stream",
     "text": [
      "Количество пропусков: 0\n"
     ]
    }
   ],
   "source": [
    "data['balcony'] = data['balcony'].fillna(0)\n",
    "print('Количество пропусков:', data['balcony'].isna().sum())"
   ]
  },
  {
   "cell_type": "markdown",
   "metadata": {},
   "source": [
    "Количество балконов целое число, изменим тип данных."
   ]
  },
  {
   "cell_type": "code",
   "execution_count": 12,
   "metadata": {},
   "outputs": [
    {
     "data": {
      "text/plain": [
       "0    0\n",
       "1    2\n",
       "2    0\n",
       "3    0\n",
       "4    0\n",
       "Name: balcony, dtype: int32"
      ]
     },
     "execution_count": 12,
     "metadata": {},
     "output_type": "execute_result"
    }
   ],
   "source": [
    "data['balcony'] = data['balcony'].astype('int')\n",
    "# проверим\n",
    "data['balcony'].head()"
   ]
  },
  {
   "cell_type": "markdown",
   "metadata": {},
   "source": [
    "**floors_total**"
   ]
  },
  {
   "cell_type": "markdown",
   "metadata": {},
   "source": [
    "Количество пропусков floors_total в небольшой доле датасета, ими можно пренебречь."
   ]
  },
  {
   "cell_type": "code",
   "execution_count": 13,
   "metadata": {},
   "outputs": [
    {
     "name": "stdout",
     "output_type": "stream",
     "text": [
      "Количество пропусков: 0\n"
     ]
    }
   ],
   "source": [
    "data = data.dropna(subset = ['floors_total'])\n",
    "print('Количество пропусков:', data['floors_total'].isna().sum())"
   ]
  },
  {
   "cell_type": "markdown",
   "metadata": {},
   "source": [
    "Количество этажей целое число, изменим тип данных."
   ]
  },
  {
   "cell_type": "code",
   "execution_count": 14,
   "metadata": {},
   "outputs": [
    {
     "data": {
      "text/plain": [
       "0    16\n",
       "1    11\n",
       "2     5\n",
       "3    14\n",
       "4    14\n",
       "Name: floors_total, dtype: int32"
      ]
     },
     "execution_count": 14,
     "metadata": {},
     "output_type": "execute_result"
    }
   ],
   "source": [
    "data['floors_total'] = data['floors_total'].astype('int')\n",
    "# проверим\n",
    "data['floors_total'].head()"
   ]
  },
  {
   "cell_type": "markdown",
   "metadata": {},
   "source": [
    "**ceiling_height**"
   ]
  },
  {
   "cell_type": "markdown",
   "metadata": {},
   "source": [
    "Ceiling_height количественные переменные, можно использовать медиану для запонения пропусков.  "
   ]
  },
  {
   "cell_type": "code",
   "execution_count": 15,
   "metadata": {},
   "outputs": [
    {
     "data": {
      "text/plain": [
       "2.65"
      ]
     },
     "execution_count": 15,
     "metadata": {},
     "output_type": "execute_result"
    }
   ],
   "source": [
    "data['ceiling_height'].median()"
   ]
  },
  {
   "cell_type": "markdown",
   "metadata": {},
   "source": [
    "Посмотрим на распределение значений по высоте потолков до заполнения пропусков."
   ]
  },
  {
   "cell_type": "code",
   "execution_count": 16,
   "metadata": {},
   "outputs": [
    {
     "data": {
      "image/png": "[encoded data removed]",
      "text/plain": [
       "<Figure size 1080x1080 with 1 Axes>"
      ]
     },
     "metadata": {
      "needs_background": "light"
     },
     "output_type": "display_data"
    }
   ],
   "source": [
    "databox = data.boxplot('ceiling_height', figsize = (15,15))\n",
    "plt.ylim(0,10), databox\n",
    "plt.show()"
   ]
  },
  {
   "cell_type": "markdown",
   "metadata": {},
   "source": [
    "Несмотря на длинный \"хвост\" в сторону больших значений медиана не смещена,значит выбросов не так много, медиана может быть использована для заполнения пропусков."
   ]
  },
  {
   "cell_type": "code",
   "execution_count": 17,
   "metadata": {},
   "outputs": [
    {
     "name": "stdout",
     "output_type": "stream",
     "text": [
      "Количество пропусков: 0\n"
     ]
    }
   ],
   "source": [
    "data.loc[data['ceiling_height'].isna() == True, 'ceiling_height'] = data['ceiling_height'].median()\n",
    "print('Количество пропусков:', data['ceiling_height'].isna().sum())"
   ]
  },
  {
   "cell_type": "markdown",
   "metadata": {},
   "source": [
    "**living_area**"
   ]
  },
  {
   "cell_type": "markdown",
   "metadata": {},
   "source": [
    "living_area также количественная переменная, поэтому можно использовать медиану, рассчитанную в зависимости от total_area. "
   ]
  },
  {
   "cell_type": "code",
   "execution_count": 18,
   "metadata": {
    "scrolled": true
   },
   "outputs": [
    {
     "data": {
      "text/plain": [
       "count    23613.000000\n",
       "mean        60.340678\n",
       "std         35.648988\n",
       "min         12.000000\n",
       "25%         40.000000\n",
       "50%         52.000000\n",
       "75%         69.800000\n",
       "max        900.000000\n",
       "Name: total_area, dtype: float64"
      ]
     },
     "execution_count": 18,
     "metadata": {},
     "output_type": "execute_result"
    }
   ],
   "source": [
    "data['total_area'].describe()"
   ]
  },
  {
   "cell_type": "markdown",
   "metadata": {},
   "source": [
    "Используем перцентили для разделения на категории по total_area."
   ]
  },
  {
   "cell_type": "code",
   "execution_count": 19,
   "metadata": {},
   "outputs": [
    {
     "data": {
      "text/html": [
       "<div>\n",
       "<style scoped>\n",
       "    .dataframe tbody tr th:only-of-type {\n",
       "        vertical-align: middle;\n",
       "    }\n",
       "\n",
       "    .dataframe tbody tr th {\n",
       "        vertical-align: top;\n",
       "    }\n",
       "\n",
       "    .dataframe thead th {\n",
       "        text-align: right;\n",
       "    }\n",
       "</style>\n",
       "<table border=\"1\" class=\"dataframe\">\n",
       "  <thead>\n",
       "    <tr style=\"text-align: right;\">\n",
       "      <th></th>\n",
       "      <th>total_area</th>\n",
       "      <th>area_category</th>\n",
       "    </tr>\n",
       "  </thead>\n",
       "  <tbody>\n",
       "    <tr>\n",
       "      <th>0</th>\n",
       "      <td>108.0</td>\n",
       "      <td>&gt;69.8</td>\n",
       "    </tr>\n",
       "    <tr>\n",
       "      <th>1</th>\n",
       "      <td>40.4</td>\n",
       "      <td>40-52</td>\n",
       "    </tr>\n",
       "    <tr>\n",
       "      <th>2</th>\n",
       "      <td>56.0</td>\n",
       "      <td>52-69.8</td>\n",
       "    </tr>\n",
       "    <tr>\n",
       "      <th>3</th>\n",
       "      <td>159.0</td>\n",
       "      <td>&gt;69.8</td>\n",
       "    </tr>\n",
       "    <tr>\n",
       "      <th>4</th>\n",
       "      <td>100.0</td>\n",
       "      <td>&gt;69.8</td>\n",
       "    </tr>\n",
       "  </tbody>\n",
       "</table>\n",
       "</div>"
      ],
      "text/plain": [
       "   total_area area_category\n",
       "0       108.0         >69.8\n",
       "1        40.4         40-52\n",
       "2        56.0       52-69.8\n",
       "3       159.0         >69.8\n",
       "4       100.0         >69.8"
      ]
     },
     "execution_count": 19,
     "metadata": {},
     "output_type": "execute_result"
    }
   ],
   "source": [
    "def categorize_area(area):\n",
    "    if area < 40.000000:\n",
    "        return '< 40'\n",
    "    if (area >40.000000) and (area < 52.000000):\n",
    "        return '40-52'\n",
    "    if (area >52.000000) and (area < 69.800000):\n",
    "        return '52-69.8'\n",
    "    if area > 69.800000:\n",
    "        return '>69.8'\n",
    "data['area_category'] = data.loc[:,'total_area'].apply(categorize_area)\n",
    "data[['total_area', 'area_category']].head()"
   ]
  },
  {
   "cell_type": "markdown",
   "metadata": {},
   "source": [
    "Заполнять характерными значениями можно только пропуски случайного характера. Учитывая проведение подсчета медианы в зависимости от других переменных, проверим является ли пропуски случайными по отношению к total_area."
   ]
  },
  {
   "cell_type": "code",
   "execution_count": 20,
   "metadata": {},
   "outputs": [
    {
     "name": "stdout",
     "output_type": "stream",
     "text": [
      ">69.8      0.272677\n",
      "52-69.8    0.252336\n",
      "40-52      0.246839\n",
      "< 40       0.228147\n",
      "Name: area_category, dtype: float64\n",
      "\n",
      ">69.8      0.254246\n",
      "52-69.8    0.250765\n",
      "< 40       0.248553\n",
      "40-52      0.246436\n",
      "Name: area_category, dtype: float64\n"
     ]
    }
   ],
   "source": [
    "# выделим строки с пропусками в living_area\n",
    "living_area_pass = data[data['living_area'].isna()== True]\n",
    "#  распределение значений для столбца total_area\n",
    "print(living_area_pass['area_category'].value_counts(normalize = True))\n",
    "print()\n",
    "# выделим строки без пропусков living_area\n",
    "living_area_full = data[data['living_area'].isna()== False]\n",
    "# распределение значений для столбца  total_area\n",
    "print(living_area_full['area_category'].value_counts(normalize = True))"
   ]
  },
  {
   "cell_type": "markdown",
   "metadata": {},
   "source": [
    "С точностью до десятых распределение в столбце в срезах совпадает, таким образом пропуски от этого столбца не зависят."
   ]
  },
  {
   "cell_type": "code",
   "execution_count": 21,
   "metadata": {},
   "outputs": [
    {
     "data": {
      "text/html": [
       "<div>\n",
       "<style scoped>\n",
       "    .dataframe tbody tr th:only-of-type {\n",
       "        vertical-align: middle;\n",
       "    }\n",
       "\n",
       "    .dataframe tbody tr th {\n",
       "        vertical-align: top;\n",
       "    }\n",
       "\n",
       "    .dataframe thead th {\n",
       "        text-align: right;\n",
       "    }\n",
       "</style>\n",
       "<table border=\"1\" class=\"dataframe\">\n",
       "  <thead>\n",
       "    <tr style=\"text-align: right;\">\n",
       "      <th></th>\n",
       "      <th>area_category</th>\n",
       "      <th>living_area</th>\n",
       "      <th>median_living_area</th>\n",
       "    </tr>\n",
       "  </thead>\n",
       "  <tbody>\n",
       "    <tr>\n",
       "      <th>0</th>\n",
       "      <td>&gt;69.8</td>\n",
       "      <td>51.0</td>\n",
       "      <td>51.35</td>\n",
       "    </tr>\n",
       "    <tr>\n",
       "      <th>1</th>\n",
       "      <td>&gt;69.8</td>\n",
       "      <td>NaN</td>\n",
       "      <td>51.35</td>\n",
       "    </tr>\n",
       "    <tr>\n",
       "      <th>2</th>\n",
       "      <td>&gt;69.8</td>\n",
       "      <td>32.0</td>\n",
       "      <td>51.35</td>\n",
       "    </tr>\n",
       "    <tr>\n",
       "      <th>3</th>\n",
       "      <td>&gt;69.8</td>\n",
       "      <td>NaN</td>\n",
       "      <td>51.35</td>\n",
       "    </tr>\n",
       "    <tr>\n",
       "      <th>4</th>\n",
       "      <td>&gt;69.8</td>\n",
       "      <td>55.6</td>\n",
       "      <td>51.35</td>\n",
       "    </tr>\n",
       "  </tbody>\n",
       "</table>\n",
       "</div>"
      ],
      "text/plain": [
       "  area_category  living_area  median_living_area\n",
       "0         >69.8         51.0               51.35\n",
       "1         >69.8          NaN               51.35\n",
       "2         >69.8         32.0               51.35\n",
       "3         >69.8          NaN               51.35\n",
       "4         >69.8         55.6               51.35"
      ]
     },
     "execution_count": 21,
     "metadata": {},
     "output_type": "execute_result"
    }
   ],
   "source": [
    "# создадим датафрейм с группировкой area_category и вычислим медиану в столбцах living_area\n",
    "medians = (data.groupby(['area_category']).agg({'living_area':'median'}).rename(columns = {'living_area':'median_living_area'}))\n",
    "# объединяем два датафрейма получаем новый столбец median_living_area\n",
    "data = data.merge(medians, on = ['area_category'])\n",
    "data[['area_category','living_area','median_living_area']].head()"
   ]
  },
  {
   "cell_type": "code",
   "execution_count": 22,
   "metadata": {},
   "outputs": [
    {
     "name": "stdout",
     "output_type": "stream",
     "text": [
      "Пропуски после: 0\n"
     ]
    }
   ],
   "source": [
    "# заменим значения living_area, где они отсутсвуют на median_living_area\n",
    "data.loc[data['living_area'].isna(), 'living_area'] = data.loc[data['living_area'].isna(), 'median_living_area']\n",
    "\n",
    "# проверим\n",
    "print('Пропуски после:', data['living_area'].isna().sum())"
   ]
  },
  {
   "cell_type": "markdown",
   "metadata": {},
   "source": [
    "**kitchen_area**"
   ]
  },
  {
   "cell_type": "markdown",
   "metadata": {},
   "source": [
    "kitchen_area также количественные переменные поэтому можно использовать медиану, рассчитанную в зависимости от total_area. Но в квартирах студиях кухня площадь кухни по сути 0."
   ]
  },
  {
   "cell_type": "code",
   "execution_count": 23,
   "metadata": {},
   "outputs": [
    {
     "data": {
      "text/plain": [
       "False    0.932935\n",
       "True     0.067065\n",
       "Name: studio, dtype: float64"
      ]
     },
     "execution_count": 23,
     "metadata": {},
     "output_type": "execute_result"
    }
   ],
   "source": [
    "# выделим строки с пропусками в kitchen_area\n",
    "kitchen_area_pass = data[data['kitchen_area'].isna()== True]\n",
    "#  распределение значений для столбца studio \n",
    "kitchen_area_pass['studio'].value_counts(normalize = True)\n"
   ]
  },
  {
   "cell_type": "code",
   "execution_count": 24,
   "metadata": {},
   "outputs": [],
   "source": [
    "data.loc[(data['kitchen_area'].isna())& (data['studio'] == True),'kitchen_area'] = 0"
   ]
  },
  {
   "cell_type": "code",
   "execution_count": 25,
   "metadata": {},
   "outputs": [
    {
     "data": {
      "text/plain": [
       "False    1.0\n",
       "Name: studio, dtype: float64"
      ]
     },
     "execution_count": 25,
     "metadata": {},
     "output_type": "execute_result"
    }
   ],
   "source": [
    "kitchen_area_pass_after = data[data['kitchen_area'].isna()== True]\n",
    "kitchen_area_pass_after['studio'].value_counts(normalize = True)"
   ]
  },
  {
   "cell_type": "code",
   "execution_count": 26,
   "metadata": {},
   "outputs": [
    {
     "name": "stdout",
     "output_type": "stream",
     "text": [
      "Пропуски до: 2031\n",
      "Пропуски после: 0\n"
     ]
    }
   ],
   "source": [
    "print('Пропуски до:',data['kitchen_area'].isna().sum())\n",
    "\n",
    "# заменим значения kitchen_area, где они отсутсвуют на медиану kitchen_area в соответствии с area_category\n",
    "data['kitchen_area'] = data.groupby('area_category')['kitchen_area'].transform(lambda x : x .fillna(x.median()))\n",
    "\n",
    "# проверим\n",
    "print('Пропуски после:', data['kitchen_area'].isna().sum())"
   ]
  },
  {
   "cell_type": "markdown",
   "metadata": {},
   "source": [
    "**days_exposition**"
   ]
  },
  {
   "cell_type": "markdown",
   "metadata": {},
   "source": [
    "days_exposition можно рассчитать в зависимости от даты публикации. "
   ]
  },
  {
   "cell_type": "markdown",
   "metadata": {},
   "source": [
    "Сначала переведем данные столбца first_day_exposition из object в datetime"
   ]
  },
  {
   "cell_type": "code",
   "execution_count": 27,
   "metadata": {},
   "outputs": [
    {
     "data": {
      "text/plain": [
       "0   2019-03-07\n",
       "1   2015-07-24\n",
       "2   2018-06-19\n",
       "3   2019-04-18\n",
       "4   2017-11-23\n",
       "Name: first_day_exposition, dtype: datetime64[ns]"
      ]
     },
     "execution_count": 27,
     "metadata": {},
     "output_type": "execute_result"
    }
   ],
   "source": [
    "data['first_day_exposition'] = pd.to_datetime(data['first_day_exposition'], format = '%Y-%m-%dT%H:%M:%S')\n",
    "data['first_day_exposition'].head()"
   ]
  },
  {
   "cell_type": "markdown",
   "metadata": {},
   "source": [
    "Посмотрим как зависит число пропусков от даты публикации."
   ]
  },
  {
   "cell_type": "code",
   "execution_count": 28,
   "metadata": {
    "scrolled": true
   },
   "outputs": [
    {
     "data": {
      "image/png": "[encoded data removed]",
      "text/plain": [
       "<Figure size 720x360 with 1 Axes>"
      ]
     },
     "metadata": {
      "needs_background": "light"
     },
     "output_type": "display_data"
    }
   ],
   "source": [
    "data.loc[data['days_exposition'].isna()]['first_day_exposition'].hist(bins = 15, figsize = (10,5))\n",
    "plt.show()"
   ]
  },
  {
   "cell_type": "markdown",
   "metadata": {},
   "source": [
    "Основное число пропусков приходится на месяцы, ближайшие к дате выгрузки данных. Видимо эти объявления к моменту выгрузки являлись незаконченными."
   ]
  },
  {
   "cell_type": "markdown",
   "metadata": {},
   "source": [
    "Доля строк с пропусками дней экспозиции 13%, чтобы не потерять эти данные, оставим в этих строках пропуски."
   ]
  },
  {
   "cell_type": "markdown",
   "metadata": {},
   "source": [
    "**city_centers_nearest**"
   ]
  },
  {
   "cell_type": "markdown",
   "metadata": {},
   "source": [
    "Расстояние до центра довольно много значений пропущено, можно заменить на медиану, рассчитанную в зависимости от locality_name. Но в самом locality_name есть пропуски, для начала нужно поработать с ними, также можно присваивать значение в зависимости от расстояния до центра, если это возможно, а если нет, можно убрать эти строки - их доля невелика."
   ]
  },
  {
   "cell_type": "code",
   "execution_count": 29,
   "metadata": {},
   "outputs": [
    {
     "name": "stdout",
     "output_type": "stream",
     "text": [
      "Количество пропусков: 0\n"
     ]
    }
   ],
   "source": [
    "data = data.dropna(subset = ['locality_name'])\n",
    "print('Количество пропусков:', data['locality_name'].isna().sum())"
   ]
  },
  {
   "cell_type": "markdown",
   "metadata": {},
   "source": [
    "Проверим значения locality_name на неявные дубликаты."
   ]
  },
  {
   "cell_type": "code",
   "execution_count": 30,
   "metadata": {
    "scrolled": false
   },
   "outputs": [
    {
     "data": {
      "text/plain": [
       "array(['Санкт-Петербург', 'посёлок Парголово', 'Колпино', 'Петергоф',\n",
       "       'Сертолово', 'деревня Фёдоровское', 'деревня Новое Девяткино',\n",
       "       'посёлок Шушары', 'поселок городского типа Кузьмоловский',\n",
       "       'Выборг', 'Павловск', 'деревня Пикколово', 'Приозерск', 'Пушкин',\n",
       "       'деревня Куттузи', 'деревня Заклинье', 'поселок Торковичи',\n",
       "       'посёлок городского типа Сиверский', 'Ломоносов', 'Красное Село',\n",
       "       'Мурино', 'Сосновый Бор', 'Сестрорецк', 'деревня Кальтино',\n",
       "       'поселок Бугры', 'Зеленогорск', 'Волхов', 'Ивангород', 'Луга',\n",
       "       'посёлок городского типа Лебяжье', 'Волосово', 'Кингисепп',\n",
       "       'городской посёлок Янино-1', 'Тосно', 'посёлок Александровская',\n",
       "       'Всеволожск', 'Кудрово', 'Кронштадт', 'деревня Старая',\n",
       "       'посёлок Металлострой', 'посёлок Тельмана', 'деревня Кудрово',\n",
       "       'посёлок Мурино', 'поселок Рябово',\n",
       "       'посёлок городского типа имени Морозова', 'Сланцы',\n",
       "       'посёлок городского типа Тайцы', 'Отрадное', 'Гатчина',\n",
       "       'посёлок Стрельна', 'посёлок Ропша', 'Пикалёво',\n",
       "       'поселок городского типа Никольский',\n",
       "       'поселок городского типа имени Свердлова',\n",
       "       'посёлок городского типа Токсово', 'посёлок Репино',\n",
       "       'поселок Старая Малукса', 'поселок Победа', 'Кировск', 'Сясьстрой',\n",
       "       'поселок Запорожское', 'посёлок Новый Свет',\n",
       "       'поселок городского типа Рощино', 'Тихвин', 'Любань',\n",
       "       'деревня Кривко', 'деревня Агалатово', 'посёлок Бугры',\n",
       "       'Шлиссельбург', 'поселок Семрино', 'Коммунар', 'посёлок Кикерино',\n",
       "       'поселок Возрождение', 'поселок Суходолье', 'поселок Мурино',\n",
       "       'Подпорожье', 'Никольское', 'деревня Горбунки', 'поселок Аннино',\n",
       "       'Кириши', 'деревня Хязельки', 'поселок Жилгородок',\n",
       "       'городской посёлок Рощино', 'деревня Большие Колпаны',\n",
       "       'посёлок Гаврилово', 'поселок Лукаши',\n",
       "       'поселок городского типа Синявино', 'городской посёлок Новоселье',\n",
       "       'деревня Малые Колпаны', 'поселок Кингисеппский',\n",
       "       'посёлок Мичуринское', 'деревня Мистолово',\n",
       "       'городской поселок Большая Ижора', 'деревня Пеники',\n",
       "       'деревня Глинка', 'деревня Бегуницы', 'деревня Аро',\n",
       "       'посёлок Сосново', 'Светогорск', 'поселок Углово',\n",
       "       'посёлок Понтонный', 'деревня Юкки', 'деревня Заневка',\n",
       "       'деревня Бор', 'посёлок Кобралово', 'деревня Вартемяги',\n",
       "       'коттеджный поселок Счастье', 'посёлок городского типа Вырица',\n",
       "       'посёлок городского типа Кузьмоловский',\n",
       "       'посёлок городского типа Рощино', 'деревня Гостилицы',\n",
       "       'поселок Лесное', 'деревня Лесколово', 'поселок Барышево',\n",
       "       'поселок Войсковицы', 'посёлок городского типа Форносово',\n",
       "       'поселок Первомайское', 'поселок Романовка',\n",
       "       'деревня Нижние Осельки', 'посёлок Аннино', 'поселок Перово',\n",
       "       'поселок Петровское', 'Приморск', 'деревня Пижма',\n",
       "       'поселок Оредеж', 'поселок Котельский', 'поселок Коробицыно',\n",
       "       'посёлок городского типа Ульяновка', 'деревня Каськово',\n",
       "       'посёлок городского типа Павлово', 'посёлок Пудость',\n",
       "       'деревня Кузьмолово', 'Бокситогорск', 'деревня Нурма',\n",
       "       'посёлок Щеглово', 'посёлок Высокоключевой', 'посёлок Стеклянный',\n",
       "       'деревня Снегирёвка', 'посёлок станции Громово',\n",
       "       'городской посёлок Будогощь', 'деревня Нижняя',\n",
       "       'поселок городского типа Вырица', 'деревня Сяськелево',\n",
       "       'деревня Гарболово', 'деревня Лампово', 'посёлок Возрождение',\n",
       "       'поселок городского типа Красный Бор',\n",
       "       'поселок городского типа Ефимовский', 'поселок Новый Свет',\n",
       "       'деревня Оржицы', 'село Копорье', 'деревня Лопухинка',\n",
       "       'поселок Терволово', 'поселок Сельцо', 'деревня Кипень',\n",
       "       'поселок городского типа Рахья', 'городской посёлок Фёдоровское',\n",
       "       'деревня Пудомяги', 'посёлок Поляны', 'деревня Колтуши',\n",
       "       'посёлок Новогорелово', 'поселок Молодцово', 'деревня Мины',\n",
       "       'Лодейное Поле', 'деревня Низино', 'садовое товарищество Рахья',\n",
       "       'деревня Старые Бегуницы', 'поселок Елизаветино',\n",
       "       'посёлок Сапёрный', 'поселок Гаврилово', 'Новая Ладога',\n",
       "       'деревня Мануйлово', 'деревня Пчева', 'поселок Мельниково',\n",
       "       'посёлок Плодовое', 'село Павлово', 'городской посёлок Мга',\n",
       "       'поселок Селезнёво', 'посёлок городского типа Красный Бор',\n",
       "       'Каменногорск', 'поселок Жилпосёлок', 'село Никольское',\n",
       "       'поселок Кобринское', 'посёлок городского типа Важины',\n",
       "       'село Русско-Высоцкое', 'посёлок Победа',\n",
       "       'городской поселок Янино-1', 'посёлок Терволово',\n",
       "       'городской посёлок Виллози', 'поселок Поляны',\n",
       "       'поселок городского типа Приладожский', 'посёлок Молодёжное',\n",
       "       'деревня Калитино', 'поселок городского типа Дубровка',\n",
       "       'поселок Красная Долина', 'деревня Хапо-Ое', 'деревня Извара',\n",
       "       'посёлок Левашово', 'деревня Малое Верево', 'деревня Камышовка',\n",
       "       'деревня Ялгино', 'поселок Гончарово', 'посёлок Сапёрное',\n",
       "       'поселок Каложицы', 'посёлок Алексеевка',\n",
       "       'посёлок городского типа Мга', 'поселок Глебычево',\n",
       "       'поселок Серебрянский', 'городской посёлок Назия',\n",
       "       'поселок городского типа Советский', 'посёлок Ильичёво',\n",
       "       'поселок Мичуринское', 'деревня Старополье', 'деревня Котлы',\n",
       "       'посёлок городского типа имени Свердлова', 'деревня Торосово',\n",
       "       'посёлок Мельниково', 'поселок Стеклянный', 'поселок Починок',\n",
       "       'посёлок городского типа Вознесенье', 'деревня Фалилеево',\n",
       "       'посёлок городского типа Кузнечное', 'деревня Белогорка',\n",
       "       'деревня Яльгелево',\n",
       "       'посёлок при железнодорожной станции Приветнинское',\n",
       "       'посёлок Коробицыно', 'деревня Большая Вруда',\n",
       "       'городской посёлок Лесогорский', 'деревня Келози',\n",
       "       'поселок городского типа Дружная Горка',\n",
       "       'городской посёлок Советский', 'деревня Разбегаево',\n",
       "       'поселок Любань', 'деревня Батово', 'деревня Реброво',\n",
       "       'поселок городского типа Лебяжье', 'деревня Тойворово',\n",
       "       'поселок Совхозный', 'село Путилово', 'посёлок Ленинское',\n",
       "       'поселок Цвелодубово', 'поселок Заводской', 'посёлок Песочный',\n",
       "       'посёлок Торфяное', 'посёлок Пригородный', 'поселок Ушаки',\n",
       "       'посёлок Перово', 'Высоцк', 'деревня Куровицы',\n",
       "       'поселок городского типа Большая Ижора', 'поселок Кирпичное',\n",
       "       'посёлок Суйда', 'поселок городского типа Лесогорский',\n",
       "       'деревня Выскатка', 'поселок Кобралово', 'посёлок станции Свирь',\n",
       "       'посёлок Старая Малукса', 'поселок Новый Учхоз',\n",
       "       'деревня Лаголово', 'деревня Ненимяки', 'поселок Громово',\n",
       "       'поселок Пушное', 'поселок Ильичёво', 'поселок Зимитицы',\n",
       "       'посёлок Жилгородок', 'посёлок Лисий Нос', 'деревня Лупполово',\n",
       "       'деревня Тарасово', 'поселок Володарское', 'деревня Тихковицы',\n",
       "       'деревня Рабитицы', 'поселок Севастьяново',\n",
       "       'деревня Малое Карлино', 'поселок Тельмана',\n",
       "       'городской посёлок Павлово', 'деревня Меньково',\n",
       "       'поселок станции Приветнинское', 'деревня Парицы',\n",
       "       'посёлок Мыза-Ивановка', 'село Старая Ладога', 'поселок Житково',\n",
       "       'деревня Шпаньково', 'деревня Лаврики', 'посёлок Сумино',\n",
       "       'поселок станции Вещево', 'деревня Старосиверская',\n",
       "       'село Рождествено',\n",
       "       'садоводческое некоммерческое товарищество Лесная Поляна',\n",
       "       'поселок Почап', 'посёлок Платформа 69-й километр',\n",
       "       'деревня Торошковичи', 'деревня Щеглово', 'посёлок Усть-Луга',\n",
       "       'деревня Сижно', 'деревня Новолисино', 'поселок Глажево',\n",
       "       'поселок Коммунары', 'поселок Тёсово-4', 'деревня Зимитицы',\n",
       "       'поселок Семиозерье', 'село Шум', 'поселок станции Лужайка',\n",
       "       'деревня Большая Пустомержа', 'поселок Красносельское',\n",
       "       'коттеджный поселок Кивеннапа Север', 'посёлок Плоское',\n",
       "       'поселок Сумино', 'деревня Терпилицы', 'посёлок Шугозеро',\n",
       "       'деревня Ваганово', 'садовое товарищество Садко',\n",
       "       'посёлок Усть-Ижора', 'городской посёлок Свирьстрой',\n",
       "       'деревня Кисельня', 'деревня Ям-Тесово', 'деревня Трубников Бор',\n",
       "       'поселок Калитино', 'садовое товарищество Приладожский',\n",
       "       'поселок Гарболово', 'поселок Рабитицы', 'деревня Большой Сабск',\n",
       "       'деревня Большое Рейзино', 'деревня Малая Романовка',\n",
       "       'поселок Пчевжа', 'село Паша', 'коттеджный посёлок Лесное',\n",
       "       'посёлок Дзержинского', 'садовое товарищество Новая Ропша',\n",
       "       'посёлок Петровское', 'деревня Иссад', 'деревня Разметелево',\n",
       "       'поселок станции Корнево', 'деревня Чудской Бор',\n",
       "       'деревня Коркино', 'посёлок Петро-Славянка', 'поселок Цвылёво',\n",
       "       'посёлок Войскорово', 'поселок городского типа Форносово',\n",
       "       'деревня Старое Хинколово', 'посёлок Белоостров',\n",
       "       'посёлок при железнодорожной станции Вещево',\n",
       "       'посёлок Форт Красная Горка', 'поселок городского типа Назия',\n",
       "       'деревня Старая Пустошь', 'посёлок городского типа Рябово',\n",
       "       'деревня Курковицы', 'деревня Суоранда',\n",
       "       'поселок городского типа Кондратьево', 'деревня Вахнова Кара',\n",
       "       'поселок Ромашки', 'деревня Раздолье',\n",
       "       'поселок городского типа Токсово', 'посёлок Пансионат Зелёный Бор',\n",
       "       'поселок Пансионат Зелёный Бор', 'деревня Рапполово',\n",
       "       'деревня Пустынка', 'деревня Русско', 'поселок Дружноселье',\n",
       "       'деревня Борисова Грива'], dtype=object)"
      ]
     },
     "execution_count": 30,
     "metadata": {},
     "output_type": "execute_result"
    }
   ],
   "source": [
    "data['locality_name'].unique()"
   ]
  },
  {
   "cell_type": "markdown",
   "metadata": {},
   "source": [
    "Встречаются разные написания \"поселок\" и \"посёлок\" и другие. Оставим только названия населенных пунктов."
   ]
  },
  {
   "cell_type": "code",
   "execution_count": 31,
   "metadata": {},
   "outputs": [
    {
     "data": {
      "text/plain": [
       "array(['Санкт-Петербург', ' Парголово', 'Колпино', 'Петергоф',\n",
       "       'Сертолово', ' Фёдоровское', ' Новое Девяткино', ' Шушары',\n",
       "       '  Кузьмоловский', 'Выборг', 'Павловск', ' Пикколово', 'Приозерск',\n",
       "       'Пушкин', ' Куттузи', ' Заклинье', ' Торковичи', '  Сиверский',\n",
       "       'Ломоносов', 'Красное Село', 'Мурино', 'Сосновый Бор',\n",
       "       'Сестрорецк', ' Кальтино', ' Бугры', 'Зеленогорск', 'Волхов',\n",
       "       'Ивангород', 'Луга', '  Лебяжье', 'Волосово', 'Кингисепп',\n",
       "       '  Янино-1', 'Тосно', ' Александровская', 'Всеволожск', 'Кудрово',\n",
       "       'Кронштадт', ' Старая', ' Металлострой', ' Тельмана', ' Кудрово',\n",
       "       ' Мурино', ' Рябово', '  имени Морозова', 'Сланцы', '  Тайцы',\n",
       "       'Отрадное', 'Гатчина', ' Стрельна', ' Ропша', 'Пикалёво',\n",
       "       '  Никольский', '  имени Свердлова', '  Токсово', ' Репино',\n",
       "       ' Старая Малукса', ' Победа', 'Кировск', 'Сясьстрой',\n",
       "       ' Запорожское', ' Новый Свет', '  Рощино', 'Тихвин', 'Любань',\n",
       "       ' Кривко', ' Агалатово', 'Шлиссельбург', ' Семрино', 'Коммунар',\n",
       "       ' Кикерино', ' Возрождение', ' Суходолье', 'Подпорожье',\n",
       "       'Никольское', ' Горбунки', ' Аннино', 'Кириши', ' Хязельки',\n",
       "       ' Жилгородок', ' Большие Колпаны', ' Гаврилово', ' Лукаши',\n",
       "       '  Синявино', '  Новоселье', ' Малые Колпаны', ' Кингисеппский',\n",
       "       ' Мичуринское', ' Мистолово', '  Большая Ижора', ' Пеники',\n",
       "       ' Глинка', ' Бегуницы', ' Аро', ' Сосново', 'Светогорск',\n",
       "       ' Углово', ' Понтонный', ' Юкки', ' Заневка', ' Бор', ' Кобралово',\n",
       "       ' Вартемяги', '  Счастье', '  Вырица', ' Гостилицы', ' Лесное',\n",
       "       ' Лесколово', ' Барышево', ' Войсковицы', '  Форносово',\n",
       "       ' Первомайское', ' Романовка', ' Нижние Осельки', ' Перово',\n",
       "       ' Петровское', 'Приморск', ' Пижма', ' Оредеж', ' Котельский',\n",
       "       ' Коробицыно', '  Ульяновка', ' Каськово', '  Павлово', ' Пудость',\n",
       "       ' Кузьмолово', 'Бокситогорск', ' Нурма', ' Щеглово',\n",
       "       ' Высокоключевой', ' Стеклянный', ' Снегирёвка',\n",
       "       ' станции Громово', '  Будогощь', ' Нижняя', ' Сяськелево',\n",
       "       ' Гарболово', ' Лампово', '  Красный Бор', '  Ефимовский',\n",
       "       ' Оржицы', ' Копорье', ' Лопухинка', ' Терволово', ' Сельцо',\n",
       "       ' Кипень', '  Рахья', '  Фёдоровское', ' Пудомяги', ' Поляны',\n",
       "       ' Колтуши', ' Новогорелово', ' Молодцово', ' Мины',\n",
       "       'Лодейное Поле', ' Низино', ' Рахья', ' Старые Бегуницы',\n",
       "       ' Елизаветино', ' Сапёрный', 'Новая Ладога', ' Мануйлово',\n",
       "       ' Пчева', ' Мельниково', ' Плодовое', ' Павлово', '  Мга',\n",
       "       ' Селезнёво', 'Каменногорск', ' Жил', ' Никольское', ' Кобринское',\n",
       "       '  Важины', ' Русско-Высоцкое', '  Виллози', '  Приладожский',\n",
       "       ' Молодёжное', ' Калитино', '  Дубровка', ' Красная Долина',\n",
       "       ' Хапо-Ое', ' Извара', ' Левашово', ' Малое Верево', ' Камышовка',\n",
       "       ' Ялгино', ' Гончарово', ' Сапёрное', ' Каложицы', ' Алексеевка',\n",
       "       ' Глебычево', ' Серебрянский', '  Назия', '  Советский',\n",
       "       ' Ильичёво', ' Старополье', ' Котлы', ' Торосово', ' Починок',\n",
       "       '  Вознесенье', ' Фалилеево', '  Кузнечное', ' Белогорка',\n",
       "       ' Яльгелево', ' Приветнинское', ' Большая Вруда', '  Лесогорский',\n",
       "       ' Келози', '  Дружная Горка', ' Разбегаево', ' Любань', ' Батово',\n",
       "       ' Реброво', ' Тойворово', ' Совхозный', ' Путилово', ' Ленинское',\n",
       "       ' Цвелодубово', ' Заводской', ' Песочный', ' Торфяное',\n",
       "       ' Пригородный', ' Ушаки', 'Высоцк', ' Куровицы', ' Кирпичное',\n",
       "       ' Суйда', ' Выскатка', ' станции Свирь', ' Новый Учхоз',\n",
       "       ' Лаголово', ' Ненимяки', ' Громово', ' Пушное', ' Зимитицы',\n",
       "       ' Лисий Нос', ' Лупполово', ' Тарасово', ' Володарское',\n",
       "       ' Тихковицы', ' Рабитицы', ' Севастьяново', ' Малое Карлино',\n",
       "       ' Меньково', ' станции Приветнинское', ' Парицы', ' Мыза-Ивановка',\n",
       "       ' Старая Ладога', ' Житково', ' Шпаньково', ' Лаврики', ' Сумино',\n",
       "       ' станции Вещево', ' Старосиверская', ' Рождествено',\n",
       "       ' Лесная Поляна', ' Почап', ' Платформа 69-й километр',\n",
       "       ' Торошковичи', ' Усть-Луга', ' Сижно', ' Новолисино', ' Глажево',\n",
       "       ' Коммунары', ' Тёсово-4', ' Семиозерье', ' Шум',\n",
       "       ' станции Лужайка', ' Большая Пустомержа', ' Красносельское',\n",
       "       '  Кивеннапа Север', ' Плоское', ' Терпилицы', ' Шугозеро',\n",
       "       ' Ваганово', ' Садко', ' Усть-Ижора', '  Свирьстрой', ' Кисельня',\n",
       "       ' Ям-Тесово', ' Трубников Бор', ' Приладожский', ' Большой Сабск',\n",
       "       ' Большое Рейзино', ' Малая Романовка', ' Пчевжа', ' Паша',\n",
       "       '  Лесное', ' Дзержинского', ' Новая Ропша', ' Иссад',\n",
       "       ' Разметелево', ' станции Корнево', ' Чудской Бор', ' Коркино',\n",
       "       ' Петро-Славянка', ' Цвылёво', ' Войскорово', ' Старое Хинколово',\n",
       "       ' Белоостров', ' Вещево', ' Форт Красная Горка', ' Старая Пустошь',\n",
       "       '  Рябово', ' Курковицы', ' Суоранда', '  Кондратьево',\n",
       "       ' Вахнова Кара', ' Ромашки', ' Раздолье', ' Пансионат Зелёный Бор',\n",
       "       ' Рапполово', ' Пустынка', ' Русско', ' Дружноселье',\n",
       "       ' Борисова Грива'], dtype=object)"
      ]
     },
     "execution_count": 31,
     "metadata": {},
     "output_type": "execute_result"
    }
   ],
   "source": [
    "words = ['поселок','посёлок','деревня','городского типа','село','городской',' при железнодорожной станции','садоводческое некоммерческое товарищество','садовое товарищество','коттеджный'] \n",
    "for word in words: \n",
    "    data['locality_name'] = data['locality_name'].str.replace(word,'')\n",
    "\n",
    "data['locality_name'].unique()"
   ]
  },
  {
   "cell_type": "code",
   "execution_count": 32,
   "metadata": {},
   "outputs": [
    {
     "data": {
      "text/html": [
       "<div>\n",
       "<style scoped>\n",
       "    .dataframe tbody tr th:only-of-type {\n",
       "        vertical-align: middle;\n",
       "    }\n",
       "\n",
       "    .dataframe tbody tr th {\n",
       "        vertical-align: top;\n",
       "    }\n",
       "\n",
       "    .dataframe thead th {\n",
       "        text-align: right;\n",
       "    }\n",
       "</style>\n",
       "<table border=\"1\" class=\"dataframe\">\n",
       "  <thead>\n",
       "    <tr style=\"text-align: right;\">\n",
       "      <th></th>\n",
       "      <th>locality_name</th>\n",
       "      <th>city_centers_nearest</th>\n",
       "      <th>median_city_center</th>\n",
       "    </tr>\n",
       "  </thead>\n",
       "  <tbody>\n",
       "    <tr>\n",
       "      <th>23006</th>\n",
       "      <td>Белоостров</td>\n",
       "      <td>38868.0</td>\n",
       "      <td>38868.0</td>\n",
       "    </tr>\n",
       "    <tr>\n",
       "      <th>23007</th>\n",
       "      <td>Вещево</td>\n",
       "      <td>NaN</td>\n",
       "      <td>NaN</td>\n",
       "    </tr>\n",
       "    <tr>\n",
       "      <th>23008</th>\n",
       "      <td>Форт Красная Горка</td>\n",
       "      <td>NaN</td>\n",
       "      <td>NaN</td>\n",
       "    </tr>\n",
       "    <tr>\n",
       "      <th>23009</th>\n",
       "      <td>Старая Пустошь</td>\n",
       "      <td>NaN</td>\n",
       "      <td>NaN</td>\n",
       "    </tr>\n",
       "    <tr>\n",
       "      <th>23010</th>\n",
       "      <td>Старая Пустошь</td>\n",
       "      <td>NaN</td>\n",
       "      <td>NaN</td>\n",
       "    </tr>\n",
       "    <tr>\n",
       "      <th>23011</th>\n",
       "      <td>Рябово</td>\n",
       "      <td>NaN</td>\n",
       "      <td>NaN</td>\n",
       "    </tr>\n",
       "    <tr>\n",
       "      <th>23012</th>\n",
       "      <td>Курковицы</td>\n",
       "      <td>NaN</td>\n",
       "      <td>NaN</td>\n",
       "    </tr>\n",
       "    <tr>\n",
       "      <th>23013</th>\n",
       "      <td>Суоранда</td>\n",
       "      <td>NaN</td>\n",
       "      <td>NaN</td>\n",
       "    </tr>\n",
       "    <tr>\n",
       "      <th>23014</th>\n",
       "      <td>Суоранда</td>\n",
       "      <td>NaN</td>\n",
       "      <td>NaN</td>\n",
       "    </tr>\n",
       "    <tr>\n",
       "      <th>23015</th>\n",
       "      <td>Кондратьево</td>\n",
       "      <td>NaN</td>\n",
       "      <td>NaN</td>\n",
       "    </tr>\n",
       "    <tr>\n",
       "      <th>23016</th>\n",
       "      <td>Вахнова Кара</td>\n",
       "      <td>NaN</td>\n",
       "      <td>NaN</td>\n",
       "    </tr>\n",
       "    <tr>\n",
       "      <th>23017</th>\n",
       "      <td>Ромашки</td>\n",
       "      <td>NaN</td>\n",
       "      <td>NaN</td>\n",
       "    </tr>\n",
       "    <tr>\n",
       "      <th>23018</th>\n",
       "      <td>Раздолье</td>\n",
       "      <td>NaN</td>\n",
       "      <td>NaN</td>\n",
       "    </tr>\n",
       "    <tr>\n",
       "      <th>23019</th>\n",
       "      <td>Пансионат Зелёный Бор</td>\n",
       "      <td>NaN</td>\n",
       "      <td>NaN</td>\n",
       "    </tr>\n",
       "    <tr>\n",
       "      <th>23020</th>\n",
       "      <td>Пансионат Зелёный Бор</td>\n",
       "      <td>NaN</td>\n",
       "      <td>NaN</td>\n",
       "    </tr>\n",
       "    <tr>\n",
       "      <th>23021</th>\n",
       "      <td>Рапполово</td>\n",
       "      <td>NaN</td>\n",
       "      <td>NaN</td>\n",
       "    </tr>\n",
       "    <tr>\n",
       "      <th>23022</th>\n",
       "      <td>Пустынка</td>\n",
       "      <td>NaN</td>\n",
       "      <td>NaN</td>\n",
       "    </tr>\n",
       "    <tr>\n",
       "      <th>23023</th>\n",
       "      <td>Русско</td>\n",
       "      <td>NaN</td>\n",
       "      <td>NaN</td>\n",
       "    </tr>\n",
       "    <tr>\n",
       "      <th>23024</th>\n",
       "      <td>Дружноселье</td>\n",
       "      <td>NaN</td>\n",
       "      <td>NaN</td>\n",
       "    </tr>\n",
       "    <tr>\n",
       "      <th>23025</th>\n",
       "      <td>Борисова Грива</td>\n",
       "      <td>NaN</td>\n",
       "      <td>NaN</td>\n",
       "    </tr>\n",
       "  </tbody>\n",
       "</table>\n",
       "</div>"
      ],
      "text/plain": [
       "                locality_name  city_centers_nearest  median_city_center\n",
       "23006              Белоостров               38868.0             38868.0\n",
       "23007                  Вещево                   NaN                 NaN\n",
       "23008      Форт Красная Горка                   NaN                 NaN\n",
       "23009          Старая Пустошь                   NaN                 NaN\n",
       "23010          Старая Пустошь                   NaN                 NaN\n",
       "23011                  Рябово                   NaN                 NaN\n",
       "23012               Курковицы                   NaN                 NaN\n",
       "23013                Суоранда                   NaN                 NaN\n",
       "23014                Суоранда                   NaN                 NaN\n",
       "23015             Кондратьево                   NaN                 NaN\n",
       "23016            Вахнова Кара                   NaN                 NaN\n",
       "23017                 Ромашки                   NaN                 NaN\n",
       "23018                Раздолье                   NaN                 NaN\n",
       "23019   Пансионат Зелёный Бор                   NaN                 NaN\n",
       "23020   Пансионат Зелёный Бор                   NaN                 NaN\n",
       "23021               Рапполово                   NaN                 NaN\n",
       "23022                Пустынка                   NaN                 NaN\n",
       "23023                  Русско                   NaN                 NaN\n",
       "23024             Дружноселье                   NaN                 NaN\n",
       "23025          Борисова Грива                   NaN                 NaN"
      ]
     },
     "execution_count": 32,
     "metadata": {},
     "output_type": "execute_result"
    }
   ],
   "source": [
    "# рассчитаем медиану city_centers_nearest в зависимости от locality_name\n",
    "medians_city_сenter = (data.groupby(['locality_name']).agg({'city_centers_nearest':'median'}).rename(columns = {'city_centers_nearest':'median_city_center'}))\n",
    "# объединяем два датафрейма получаем новый столбец median_living_area\n",
    "data = data.merge(medians_city_сenter, on = ['locality_name'])\n",
    "data[['locality_name','city_centers_nearest','median_city_center']].tail(20)"
   ]
  },
  {
   "cell_type": "code",
   "execution_count": 33,
   "metadata": {},
   "outputs": [
    {
     "name": "stdout",
     "output_type": "stream",
     "text": [
      "Пропуски после: 5297\n"
     ]
    }
   ],
   "source": [
    "# заменим значения city_centers_nearest, где они отсутсвуют на median_living_area\n",
    "data.loc[data['city_centers_nearest'].isna(),'city_centers_nearest'] = data.loc[data['city_centers_nearest'].isna(), 'median_city_center']\n",
    "\n",
    "# проверим\n",
    "print('Пропуски после:', data['city_centers_nearest'].isna().sum())"
   ]
  },
  {
   "cell_type": "markdown",
   "metadata": {},
   "source": [
    "Недостаточно данных для рассчета медианы для некоторых населенных пунктов, поэтому в этих строках оставим пропуски."
   ]
  },
  {
   "cell_type": "markdown",
   "metadata": {},
   "source": [
    "### Вывод"
   ]
  },
  {
   "cell_type": "markdown",
   "metadata": {},
   "source": [
    "1. Заполнены пропущенных значений в столбцах, где это было возможно:\n",
    "* 'ceiling_height'\n",
    "* 'living_area'\n",
    "* is_apartment'\n",
    "* 'kitchen_area'\n",
    "* 'balcony'\n",
    "2. Удалены пропуски:\n",
    "* 'floors_total' составляющие 0,36% данных.\n",
    "\n",
    "3. Оставлены пропуски по причине недостатка информации для замены с целью сохранения большей части данных. В столбцах:\n",
    "* 'locality_name'\n",
    "* 'airports_nearest'\n",
    "* 'parks_around3000'\n",
    "* 'parks_nearest'\n",
    "* 'ponds_around3000'\n",
    "* 'ponds_nearest'\n",
    "* 'days_exposition'\n",
    "* 'city_centers_nearest'\n"
   ]
  },
  {
   "cell_type": "markdown",
   "metadata": {},
   "source": [
    "## Расчёты и добавление результатов в таблицу"
   ]
  },
  {
   "cell_type": "markdown",
   "metadata": {},
   "source": [
    "**Цена квадратного метра**"
   ]
  },
  {
   "cell_type": "code",
   "execution_count": 34,
   "metadata": {},
   "outputs": [
    {
     "data": {
      "text/html": [
       "<div>\n",
       "<style scoped>\n",
       "    .dataframe tbody tr th:only-of-type {\n",
       "        vertical-align: middle;\n",
       "    }\n",
       "\n",
       "    .dataframe tbody tr th {\n",
       "        vertical-align: top;\n",
       "    }\n",
       "\n",
       "    .dataframe thead th {\n",
       "        text-align: right;\n",
       "    }\n",
       "</style>\n",
       "<table border=\"1\" class=\"dataframe\">\n",
       "  <thead>\n",
       "    <tr style=\"text-align: right;\">\n",
       "      <th></th>\n",
       "      <th>last_price</th>\n",
       "      <th>total_area</th>\n",
       "      <th>metr_price</th>\n",
       "    </tr>\n",
       "  </thead>\n",
       "  <tbody>\n",
       "    <tr>\n",
       "      <th>0</th>\n",
       "      <td>13000000</td>\n",
       "      <td>108.0</td>\n",
       "      <td>120370</td>\n",
       "    </tr>\n",
       "    <tr>\n",
       "      <th>1</th>\n",
       "      <td>64900000</td>\n",
       "      <td>159.0</td>\n",
       "      <td>408176</td>\n",
       "    </tr>\n",
       "    <tr>\n",
       "      <th>2</th>\n",
       "      <td>10000000</td>\n",
       "      <td>100.0</td>\n",
       "      <td>100000</td>\n",
       "    </tr>\n",
       "    <tr>\n",
       "      <th>3</th>\n",
       "      <td>7915000</td>\n",
       "      <td>71.6</td>\n",
       "      <td>110544</td>\n",
       "    </tr>\n",
       "    <tr>\n",
       "      <th>4</th>\n",
       "      <td>6700000</td>\n",
       "      <td>82.0</td>\n",
       "      <td>81707</td>\n",
       "    </tr>\n",
       "  </tbody>\n",
       "</table>\n",
       "</div>"
      ],
      "text/plain": [
       "   last_price  total_area  metr_price\n",
       "0    13000000       108.0      120370\n",
       "1    64900000       159.0      408176\n",
       "2    10000000       100.0      100000\n",
       "3     7915000        71.6      110544\n",
       "4     6700000        82.0       81707"
      ]
     },
     "execution_count": 34,
     "metadata": {},
     "output_type": "execute_result"
    }
   ],
   "source": [
    "data['metr_price'] = (data['last_price']/data['total_area']).astype('int')\n",
    "data[['last_price','total_area','metr_price']].head()"
   ]
  },
  {
   "cell_type": "markdown",
   "metadata": {},
   "source": [
    "**День недели, месяц и год**"
   ]
  },
  {
   "cell_type": "code",
   "execution_count": 35,
   "metadata": {},
   "outputs": [
    {
     "data": {
      "text/html": [
       "<div>\n",
       "<style scoped>\n",
       "    .dataframe tbody tr th:only-of-type {\n",
       "        vertical-align: middle;\n",
       "    }\n",
       "\n",
       "    .dataframe tbody tr th {\n",
       "        vertical-align: top;\n",
       "    }\n",
       "\n",
       "    .dataframe thead th {\n",
       "        text-align: right;\n",
       "    }\n",
       "</style>\n",
       "<table border=\"1\" class=\"dataframe\">\n",
       "  <thead>\n",
       "    <tr style=\"text-align: right;\">\n",
       "      <th></th>\n",
       "      <th>first_day_exposition</th>\n",
       "      <th>weekday_exposition</th>\n",
       "      <th>month_exposition</th>\n",
       "      <th>year_exposition</th>\n",
       "    </tr>\n",
       "  </thead>\n",
       "  <tbody>\n",
       "    <tr>\n",
       "      <th>0</th>\n",
       "      <td>2019-03-07</td>\n",
       "      <td>3</td>\n",
       "      <td>3</td>\n",
       "      <td>2019</td>\n",
       "    </tr>\n",
       "    <tr>\n",
       "      <th>1</th>\n",
       "      <td>2015-07-24</td>\n",
       "      <td>4</td>\n",
       "      <td>7</td>\n",
       "      <td>2015</td>\n",
       "    </tr>\n",
       "    <tr>\n",
       "      <th>2</th>\n",
       "      <td>2018-06-19</td>\n",
       "      <td>1</td>\n",
       "      <td>6</td>\n",
       "      <td>2018</td>\n",
       "    </tr>\n",
       "    <tr>\n",
       "      <th>3</th>\n",
       "      <td>2019-04-18</td>\n",
       "      <td>3</td>\n",
       "      <td>4</td>\n",
       "      <td>2019</td>\n",
       "    </tr>\n",
       "    <tr>\n",
       "      <th>4</th>\n",
       "      <td>2017-11-23</td>\n",
       "      <td>3</td>\n",
       "      <td>11</td>\n",
       "      <td>2017</td>\n",
       "    </tr>\n",
       "  </tbody>\n",
       "</table>\n",
       "</div>"
      ],
      "text/plain": [
       "  first_day_exposition  weekday_exposition  month_exposition  year_exposition\n",
       "0           2019-03-07                   3                 3             2019\n",
       "1           2015-07-24                   4                 7             2015\n",
       "2           2018-06-19                   1                 6             2018\n",
       "3           2019-04-18                   3                 4             2019\n",
       "4           2017-11-23                   3                11             2017"
      ]
     },
     "execution_count": 35,
     "metadata": {},
     "output_type": "execute_result"
    }
   ],
   "source": [
    "# столбец с днем недели\n",
    "data['weekday_exposition'] = data['first_day_exposition'].dt.weekday\n",
    "# месяц\n",
    "data['month_exposition'] = data['first_day_exposition'].dt.month\n",
    "# год\n",
    "data['year_exposition'] = data['first_day_exposition'].dt.year\n",
    "data[['first_day_exposition','weekday_exposition','month_exposition','year_exposition']].head()"
   ]
  },
  {
   "cell_type": "markdown",
   "metadata": {},
   "source": [
    "**Категоризация по этажам**"
   ]
  },
  {
   "cell_type": "code",
   "execution_count": 36,
   "metadata": {},
   "outputs": [
    {
     "data": {
      "text/html": [
       "<div>\n",
       "<style scoped>\n",
       "    .dataframe tbody tr th:only-of-type {\n",
       "        vertical-align: middle;\n",
       "    }\n",
       "\n",
       "    .dataframe tbody tr th {\n",
       "        vertical-align: top;\n",
       "    }\n",
       "\n",
       "    .dataframe thead th {\n",
       "        text-align: right;\n",
       "    }\n",
       "</style>\n",
       "<table border=\"1\" class=\"dataframe\">\n",
       "  <thead>\n",
       "    <tr style=\"text-align: right;\">\n",
       "      <th></th>\n",
       "      <th>floor</th>\n",
       "      <th>floors_total</th>\n",
       "      <th>floor_category</th>\n",
       "    </tr>\n",
       "  </thead>\n",
       "  <tbody>\n",
       "    <tr>\n",
       "      <th>0</th>\n",
       "      <td>8</td>\n",
       "      <td>16</td>\n",
       "      <td>другой</td>\n",
       "    </tr>\n",
       "    <tr>\n",
       "      <th>1</th>\n",
       "      <td>9</td>\n",
       "      <td>14</td>\n",
       "      <td>другой</td>\n",
       "    </tr>\n",
       "    <tr>\n",
       "      <th>2</th>\n",
       "      <td>13</td>\n",
       "      <td>14</td>\n",
       "      <td>другой</td>\n",
       "    </tr>\n",
       "    <tr>\n",
       "      <th>3</th>\n",
       "      <td>22</td>\n",
       "      <td>24</td>\n",
       "      <td>другой</td>\n",
       "    </tr>\n",
       "    <tr>\n",
       "      <th>4</th>\n",
       "      <td>1</td>\n",
       "      <td>5</td>\n",
       "      <td>первый</td>\n",
       "    </tr>\n",
       "  </tbody>\n",
       "</table>\n",
       "</div>"
      ],
      "text/plain": [
       "   floor  floors_total floor_category\n",
       "0      8            16         другой\n",
       "1      9            14         другой\n",
       "2     13            14         другой\n",
       "3     22            24         другой\n",
       "4      1             5         первый"
      ]
     },
     "execution_count": 36,
     "metadata": {},
     "output_type": "execute_result"
    }
   ],
   "source": [
    "# создадим функцию для определения категории по этажу\n",
    "def categorize_floor(row):\n",
    "        if row ['floor'] == 1:\n",
    "            return 'первый'\n",
    "        if row ['floor'] == row ['floors_total']:\n",
    "            return 'последний'\n",
    "        else:\n",
    "            return 'другой'\n",
    "#добавим новый столбец с категорией по этажу\n",
    "data['floor_category'] =  data.apply(categorize_floor, axis=1)\n",
    "data[['floor', 'floors_total','floor_category']].head()"
   ]
  },
  {
   "cell_type": "markdown",
   "metadata": {},
   "source": [
    "**Соотношение площадей**"
   ]
  },
  {
   "cell_type": "code",
   "execution_count": 37,
   "metadata": {},
   "outputs": [
    {
     "data": {
      "text/html": [
       "<div>\n",
       "<style scoped>\n",
       "    .dataframe tbody tr th:only-of-type {\n",
       "        vertical-align: middle;\n",
       "    }\n",
       "\n",
       "    .dataframe tbody tr th {\n",
       "        vertical-align: top;\n",
       "    }\n",
       "\n",
       "    .dataframe thead th {\n",
       "        text-align: right;\n",
       "    }\n",
       "</style>\n",
       "<table border=\"1\" class=\"dataframe\">\n",
       "  <thead>\n",
       "    <tr style=\"text-align: right;\">\n",
       "      <th></th>\n",
       "      <th>living_to_total</th>\n",
       "      <th>kitchen_to_total</th>\n",
       "    </tr>\n",
       "  </thead>\n",
       "  <tbody>\n",
       "    <tr>\n",
       "      <th>0</th>\n",
       "      <td>0.47</td>\n",
       "      <td>0.23</td>\n",
       "    </tr>\n",
       "    <tr>\n",
       "      <th>1</th>\n",
       "      <td>0.32</td>\n",
       "      <td>0.08</td>\n",
       "    </tr>\n",
       "    <tr>\n",
       "      <th>2</th>\n",
       "      <td>0.32</td>\n",
       "      <td>0.41</td>\n",
       "    </tr>\n",
       "    <tr>\n",
       "      <th>3</th>\n",
       "      <td>0.72</td>\n",
       "      <td>0.26</td>\n",
       "    </tr>\n",
       "    <tr>\n",
       "      <th>4</th>\n",
       "      <td>0.68</td>\n",
       "      <td>0.11</td>\n",
       "    </tr>\n",
       "  </tbody>\n",
       "</table>\n",
       "</div>"
      ],
      "text/plain": [
       "   living_to_total  kitchen_to_total\n",
       "0             0.47              0.23\n",
       "1             0.32              0.08\n",
       "2             0.32              0.41\n",
       "3             0.72              0.26\n",
       "4             0.68              0.11"
      ]
     },
     "execution_count": 37,
     "metadata": {},
     "output_type": "execute_result"
    }
   ],
   "source": [
    "#соотношение жилой и общей площади\n",
    "data['living_to_total'] = round(data['living_area']/data['total_area'], 2)\n",
    "#соотношение площади кухни к общей площади\n",
    "data['kitchen_to_total'] = round(data['kitchen_area']/data['total_area'], 2)\n",
    "data[['living_to_total','kitchen_to_total']].head()"
   ]
  },
  {
   "cell_type": "markdown",
   "metadata": {},
   "source": [
    "### Вывод"
   ]
  },
  {
   "cell_type": "markdown",
   "metadata": {},
   "source": [
    "В данные добавлены некоторые расчетные и категориальные значения, которые позже будут использованы при проведении анализа."
   ]
  },
  {
   "cell_type": "markdown",
   "metadata": {},
   "source": [
    "## Исследовательский анализ данных"
   ]
  },
  {
   "cell_type": "markdown",
   "metadata": {},
   "source": [
    "Этапы:\n",
    "1. Изучение параметров:\n",
    "* высота потолков\n",
    "* площадь\n",
    "* количество комнат\n",
    "* цена\n",
    "2. Изучение времени продажи квартиры\n",
    "3. Какие факторы больше всего влияют на стоимость квартиры?\n",
    "4. Населенные пункты\n",
    "5. Центральная зона"
   ]
  },
  {
   "cell_type": "markdown",
   "metadata": {},
   "source": [
    "### 1.  Изучение параметров "
   ]
  },
  {
   "cell_type": "markdown",
   "metadata": {},
   "source": [
    "#### **Высота потолков**"
   ]
  },
  {
   "cell_type": "code",
   "execution_count": 38,
   "metadata": {
    "scrolled": true
   },
   "outputs": [
    {
     "data": {
      "text/plain": [
       "count    23026.000000\n",
       "mean         2.725866\n",
       "std          1.002298\n",
       "min          1.000000\n",
       "25%          2.600000\n",
       "50%          2.650000\n",
       "75%          2.700000\n",
       "max        100.000000\n",
       "Name: ceiling_height, dtype: float64"
      ]
     },
     "execution_count": 38,
     "metadata": {},
     "output_type": "execute_result"
    }
   ],
   "source": [
    "data['ceiling_height'].describe()"
   ]
  },
  {
   "cell_type": "markdown",
   "metadata": {},
   "source": [
    "В столбце высота потолков минимальное и максимальное значение \"нереальные\". Рассмотрим крайние значения данных подробнее."
   ]
  },
  {
   "cell_type": "code",
   "execution_count": 39,
   "metadata": {},
   "outputs": [
    {
     "data": {
      "image/png": "[encoded data removed]",
      "text/plain": [
       "<Figure size 720x360 with 1 Axes>"
      ]
     },
     "metadata": {
      "needs_background": "light"
     },
     "output_type": "display_data"
    }
   ],
   "source": [
    "data['ceiling_height'].plot(kind = 'hist',bins=10, range = (0, 5), ylim = (0, 600), figsize = (10,5))\n",
    "plt.show()"
   ]
  },
  {
   "cell_type": "markdown",
   "metadata": {},
   "source": [
    "Минимальная высота потолка в жилом помещении 2,5 мм, в наших данных встречаются значения меньше."
   ]
  },
  {
   "cell_type": "code",
   "execution_count": 40,
   "metadata": {},
   "outputs": [
    {
     "name": "stdout",
     "output_type": "stream",
     "text": [
      "71 0.31 %\n"
     ]
    }
   ],
   "source": [
    "unusual_small_height = data.query('ceiling_height <2.5')\n",
    "print(len(unusual_small_height), round(len(unusual_small_height)*100/len(data),2),'%')"
   ]
  },
  {
   "cell_type": "markdown",
   "metadata": {},
   "source": [
    "Очевидно это ошибки в заполнении даных, но доля таких значений мала, ими можно пренебречь. Теперь посмотрим значения больше 4 метров."
   ]
  },
  {
   "cell_type": "code",
   "execution_count": 41,
   "metadata": {},
   "outputs": [
    {
     "data": {
      "text/plain": [
       "4.20      10\n",
       "27.00      8\n",
       "4.50       7\n",
       "25.00      7\n",
       "4.10       3\n",
       "4.40       3\n",
       "8.00       3\n",
       "4.70       2\n",
       "5.30       2\n",
       "4.19       2\n",
       "32.00      2\n",
       "4.45       2\n",
       "4.25       1\n",
       "20.00      1\n",
       "26.00      1\n",
       "27.50      1\n",
       "14.00      1\n",
       "6.00       1\n",
       "5.50       1\n",
       "4.37       1\n",
       "4.65       1\n",
       "22.60      1\n",
       "24.00      1\n",
       "100.00     1\n",
       "5.00       1\n",
       "4.90       1\n",
       "5.20       1\n",
       "4.30       1\n",
       "5.80       1\n",
       "4.80       1\n",
       "4.06       1\n",
       "8.30       1\n",
       "5.60       1\n",
       "4.15       1\n",
       "10.30      1\n",
       "4.14       1\n",
       "Name: ceiling_height, dtype: int64"
      ]
     },
     "execution_count": 41,
     "metadata": {},
     "output_type": "execute_result"
    }
   ],
   "source": [
    "unusual_big_height = data.query('ceiling_height > 4')\n",
    "unusual_big_height['ceiling_height'].value_counts()"
   ]
  },
  {
   "cell_type": "markdown",
   "metadata": {},
   "source": [
    "Вероятно в некоторых значениях 26.0, 27.50 и др. неправильно поставлен знак."
   ]
  },
  {
   "cell_type": "code",
   "execution_count": 42,
   "metadata": {},
   "outputs": [
    {
     "data": {
      "text/plain": [
       "0    2.70\n",
       "1    2.65\n",
       "2    3.03\n",
       "3    2.65\n",
       "4    3.05\n",
       "Name: ceiling_height, dtype: float64"
      ]
     },
     "execution_count": 42,
     "metadata": {},
     "output_type": "execute_result"
    }
   ],
   "source": [
    "def fix_ceiling (row):\n",
    "    if row['ceiling_height'] >=25:\n",
    "        return row['ceiling_height']/10\n",
    "    else:\n",
    "        return row['ceiling_height']\n",
    "data['ceiling_height'] =  data.apply(fix_ceiling , axis=1)\n",
    "data['ceiling_height'].head()"
   ]
  },
  {
   "cell_type": "code",
   "execution_count": 43,
   "metadata": {},
   "outputs": [
    {
     "data": {
      "text/plain": [
       "0"
      ]
     },
     "execution_count": 43,
     "metadata": {},
     "output_type": "execute_result"
    }
   ],
   "source": [
    "data['ceiling_height'].isin(['27.00', '25.00', '32.00', '26.00', '27.50']).sum()"
   ]
  },
  {
   "cell_type": "markdown",
   "metadata": {},
   "source": [
    "Создадим датасет с отфильтрованными данными по высоте потолка. "
   ]
  },
  {
   "cell_type": "code",
   "execution_count": 44,
   "metadata": {},
   "outputs": [
    {
     "data": {
      "text/plain": [
       "0"
      ]
     },
     "execution_count": 44,
     "metadata": {},
     "output_type": "execute_result"
    }
   ],
   "source": [
    "data_ceiling_filtered = data.query('ceiling_height >= 2.5 and ceiling_height <= 4.0')\n",
    "# проверим на произвольных значениях\n",
    "data_ceiling_filtered['ceiling_height'].isin([1.00, 4.70]).sum()"
   ]
  },
  {
   "cell_type": "code",
   "execution_count": 45,
   "metadata": {},
   "outputs": [
    {
     "data": {
      "text/plain": [
       "2.65"
      ]
     },
     "execution_count": 45,
     "metadata": {},
     "output_type": "execute_result"
    }
   ],
   "source": [
    "data_ceiling_filtered['ceiling_height'].median()"
   ]
  },
  {
   "cell_type": "markdown",
   "metadata": {},
   "source": [
    "#### **Площадь**"
   ]
  },
  {
   "cell_type": "code",
   "execution_count": 46,
   "metadata": {},
   "outputs": [
    {
     "data": {
      "text/plain": [
       "count    23026.000000\n",
       "mean        60.677171\n",
       "std         35.982411\n",
       "min         12.000000\n",
       "25%         40.300000\n",
       "50%         52.800000\n",
       "75%         70.000000\n",
       "max        900.000000\n",
       "Name: total_area, dtype: float64"
      ]
     },
     "execution_count": 46,
     "metadata": {},
     "output_type": "execute_result"
    }
   ],
   "source": [
    "data['total_area'].describe()"
   ]
  },
  {
   "cell_type": "markdown",
   "metadata": {},
   "source": [
    "Отмечается большой размах значений, причем максимальное значение выглядит как \"вброс\" и утягивает среднее от медианы в сторону больших значений."
   ]
  },
  {
   "cell_type": "code",
   "execution_count": 47,
   "metadata": {},
   "outputs": [
    {
     "data": {
      "image/png": "[encoded data removed]",
      "text/plain": [
       "<Figure size 720x360 with 1 Axes>"
      ]
     },
     "metadata": {
      "needs_background": "light"
     },
     "output_type": "display_data"
    }
   ],
   "source": [
    "data['total_area'].plot(kind = 'hist',bins=10, range = (10, 400), ylim = (0, 10000), figsize = (10,5))\n",
    "plt.show()"
   ]
  },
  {
   "cell_type": "markdown",
   "metadata": {},
   "source": [
    "В целом распределение походит на усеченное нормальное распределение с усечением нижнего хвоста."
   ]
  },
  {
   "cell_type": "code",
   "execution_count": 48,
   "metadata": {},
   "outputs": [
    {
     "data": {
      "image/png": "[encoded data removed]",
      "text/plain": [
       "<Figure size 1080x1080 with 1 Axes>"
      ]
     },
     "metadata": {
      "needs_background": "light"
     },
     "output_type": "display_data"
    }
   ],
   "source": [
    "databox = data.boxplot('total_area', figsize = (15,15))\n",
    "plt.ylim(0,1000), databox\n",
    "plt.show()"
   ]
  },
  {
   "cell_type": "code",
   "execution_count": 49,
   "metadata": {},
   "outputs": [
    {
     "data": {
      "image/png": "[encoded data removed]",
      "text/plain": [
       "<Figure size 720x720 with 1 Axes>"
      ]
     },
     "metadata": {
      "needs_background": "light"
     },
     "output_type": "display_data"
    }
   ],
   "source": [
    "# рассмотрим подробнее \"большие\" значения\n",
    "data['total_area'].plot(kind = 'hist',bins=10, range = (100, 900), ylim = (0, 250),figsize = (10,10))\n",
    "plt.show()"
   ]
  },
  {
   "cell_type": "markdown",
   "metadata": {},
   "source": [
    "На датабоксе тоже видно как далеко отстоит максимальное значение от \"больших\" значений выборки, крайние значения больше 400 - единичные, но искажают данные. Примем за границу чрезмерно больших значений больше 320."
   ]
  },
  {
   "cell_type": "code",
   "execution_count": 50,
   "metadata": {},
   "outputs": [
    {
     "data": {
      "image/png": "[encoded data removed]",
      "text/plain": [
       "<Figure size 720x360 with 1 Axes>"
      ]
     },
     "metadata": {
      "needs_background": "light"
     },
     "output_type": "display_data"
    }
   ],
   "source": [
    "# рассмотрим подробнее \"маленькие\" значения\n",
    "data['total_area'].plot(kind = 'hist',bins=10, range = (0, 55), ylim = (0, 250), figsize = (10,5))\n",
    "plt.show()"
   ]
  },
  {
   "cell_type": "code",
   "execution_count": 51,
   "metadata": {},
   "outputs": [
    {
     "name": "stdout",
     "output_type": "stream",
     "text": [
      "49 0.21 %\n",
      "49 0.21 %\n",
      "\n"
     ]
    },
    {
     "data": {
      "text/plain": [
       "'Среднее: 59.92, Медиана: 52.7'"
      ]
     },
     "execution_count": 51,
     "metadata": {},
     "output_type": "execute_result"
    }
   ],
   "source": [
    "# посмотрим количество и долю слишком больших значений\n",
    "unusual_big_area = data.query('total_area >= 320')\n",
    "print(len(unusual_big_area), round(len(unusual_big_area)*100/len(data),2),'%')\n",
    "# посмотрим количество и долю подозрительно низких значений\n",
    "unusual_small_area = data.query('total_area <= 18')\n",
    "print(len(unusual_big_area), round(len(unusual_big_area)*100/len(data),2),'%')\n",
    "print()\n",
    "#пересчитаем меры распределения для выборки без выбивающихся значений\n",
    "data_area_filtered = data.query('total_area >18 and total_area < 320')\n",
    "mean = round(data_area_filtered['total_area'].mean(),2)\n",
    "median = data_area_filtered['total_area'].median()\n",
    "f'Среднее: {mean}, Медиана: {median}'"
   ]
  },
  {
   "cell_type": "markdown",
   "metadata": {},
   "source": [
    "Можно отбросить крайние значения ввиду их небольшой доли без изменения медианы выборки, но при этом уменьшается \"перекос\" среднего в сторону больших значений."
   ]
  },
  {
   "cell_type": "markdown",
   "metadata": {},
   "source": [
    "#### **Число комнат**\n"
   ]
  },
  {
   "cell_type": "code",
   "execution_count": 52,
   "metadata": {},
   "outputs": [
    {
     "data": {
      "text/plain": [
       "count    23026.00000\n",
       "mean         2.08460\n",
       "std          1.08351\n",
       "min          0.00000\n",
       "25%          1.00000\n",
       "50%          2.00000\n",
       "75%          3.00000\n",
       "max         19.00000\n",
       "Name: rooms, dtype: float64"
      ]
     },
     "execution_count": 52,
     "metadata": {},
     "output_type": "execute_result"
    }
   ],
   "source": [
    "data['rooms'].describe()"
   ]
  },
  {
   "cell_type": "code",
   "execution_count": 53,
   "metadata": {},
   "outputs": [
    {
     "data": {
      "image/png": "[encoded data removed]",
      "text/plain": [
       "<Figure size 720x360 with 1 Axes>"
      ]
     },
     "metadata": {
      "needs_background": "light"
     },
     "output_type": "display_data"
    }
   ],
   "source": [
    "data['rooms'].plot(kind = 'hist',bins=10, range = (0, 20), ylim = (0, 11000),figsize = (10,5))\n",
    "plt.show()"
   ]
  },
  {
   "cell_type": "markdown",
   "metadata": {},
   "source": [
    "Среднее и медиана близки, то есть \"крайние\" значения значимо не искажают выборку, несмотря на большой максимум в 19 комнат. Минимальное значение 0 - объясняется наличием квартир студий."
   ]
  },
  {
   "cell_type": "code",
   "execution_count": 54,
   "metadata": {},
   "outputs": [
    {
     "name": "stdout",
     "output_type": "stream",
     "text": [
      "194 0.84 %\n",
      "146 0.63 %\n"
     ]
    }
   ],
   "source": [
    "# количество и доля квартир с 0 комнат\n",
    "no_rooms = data.query('rooms == 0')\n",
    "print(len(no_rooms), round(len(no_rooms)*100/len(data),2),'%')\n",
    "# количество и доля студий\n",
    "studio = data.query('studio == True')\n",
    "print(len(studio), round(len(studio)*100/len(data),2),'%')"
   ]
  },
  {
   "cell_type": "markdown",
   "metadata": {},
   "source": [
    "В целом данные сопоставимы, возможно в некоторых строках было пропущено указание, что квартира-студия."
   ]
  },
  {
   "cell_type": "markdown",
   "metadata": {},
   "source": [
    "Граница 75% перцентиля 3, на гистограмме также видно резкое \"падение\" частоты встречаемости квартир с о количеством комнат больше трех."
   ]
  },
  {
   "cell_type": "code",
   "execution_count": 55,
   "metadata": {},
   "outputs": [
    {
     "name": "stdout",
     "output_type": "stream",
     "text": [
      "194 0.84 %\n"
     ]
    }
   ],
   "source": [
    "# количество и доля квартир с более 5 комнат\n",
    "print(len(data.query('rooms >5')), round(len(data.query('rooms >5'))*100/len(data),2),'%')"
   ]
  },
  {
   "cell_type": "code",
   "execution_count": 56,
   "metadata": {},
   "outputs": [
    {
     "data": {
      "text/plain": [
       "'Среднее: 2.04, Медиана: 2.0'"
      ]
     },
     "execution_count": 56,
     "metadata": {},
     "output_type": "execute_result"
    }
   ],
   "source": [
    "data_rooms_filtered = data.query('rooms <= 5')\n",
    "mean = round(data_rooms_filtered['rooms'].mean(),2)\n",
    "median = data_rooms_filtered['rooms'].median()\n",
    "f'Среднее: {mean}, Медиана: {median}'"
   ]
  },
  {
   "cell_type": "markdown",
   "metadata": {},
   "source": [
    "Можно убрать крайние значения, без нарушения распределения."
   ]
  },
  {
   "cell_type": "markdown",
   "metadata": {},
   "source": [
    "#### **Цена**"
   ]
  },
  {
   "cell_type": "code",
   "execution_count": 57,
   "metadata": {},
   "outputs": [
    {
     "data": {
      "text/plain": [
       "count        23026\n",
       "mean       6592928\n",
       "std       11029673\n",
       "min          12190\n",
       "25%        3400000\n",
       "50%        4650000\n",
       "75%        6800000\n",
       "max      763000000\n",
       "Name: last_price, dtype: object"
      ]
     },
     "execution_count": 57,
     "metadata": {},
     "output_type": "execute_result"
    }
   ],
   "source": [
    "data['last_price'].describe().apply(lambda x: '%.0f' % x)"
   ]
  },
  {
   "cell_type": "markdown",
   "metadata": {},
   "source": [
    "Минимальное и максимальное значени \"нереальные\", похожи на вбросы."
   ]
  },
  {
   "cell_type": "code",
   "execution_count": 58,
   "metadata": {},
   "outputs": [
    {
     "data": {
      "image/png": "[encoded data removed]",
      "text/plain": [
       "<Figure size 720x720 with 1 Axes>"
      ]
     },
     "metadata": {
      "needs_background": "light"
     },
     "output_type": "display_data"
    }
   ],
   "source": [
    "data['last_price'].hist(figsize = (10,10), range = (0, 200000000))\n",
    "plt.ticklabel_format(style = 'plain')"
   ]
  },
  {
   "cell_type": "code",
   "execution_count": 59,
   "metadata": {},
   "outputs": [
    {
     "data": {
      "image/png": "[encoded data removed]",
      "text/plain": [
       "<Figure size 720x720 with 1 Axes>"
      ]
     },
     "metadata": {
      "needs_background": "light"
     },
     "output_type": "display_data"
    }
   ],
   "source": [
    "databox = data.boxplot('last_price', figsize = (10,10))"
   ]
  },
  {
   "cell_type": "markdown",
   "metadata": {},
   "source": [
    "Похоже на нормальное распределение с усечением нижнего хвоста и с длинным хвостом в сторону больших величин. Большие значения перетягиваю среднее в свою сторону от медианы."
   ]
  },
  {
   "cell_type": "code",
   "execution_count": 60,
   "metadata": {},
   "outputs": [
    {
     "data": {
      "image/png": "[encoded data removed]",
      "text/plain": [
       "<Figure size 720x720 with 1 Axes>"
      ]
     },
     "metadata": {
      "needs_background": "light"
     },
     "output_type": "display_data"
    }
   ],
   "source": [
    "# рассмотрим подробнее \"маленькие\" значения\n",
    "data['last_price'].hist(figsize = (10,10), range = (0, 5300000))\n",
    "plt.ticklabel_format(style = 'plain')"
   ]
  },
  {
   "cell_type": "markdown",
   "metadata": {},
   "source": [
    "Примем за границу маленьких значений 2500000, согласно графику."
   ]
  },
  {
   "cell_type": "code",
   "execution_count": 61,
   "metadata": {},
   "outputs": [
    {
     "data": {
      "image/png": "[encoded data removed]",
      "text/plain": [
       "<Figure size 720x720 with 1 Axes>"
      ]
     },
     "metadata": {
      "needs_background": "light"
     },
     "output_type": "display_data"
    }
   ],
   "source": [
    "# рассмотрим подробнее \"большие\" значения\n",
    "data['last_price'].plot(kind = 'hist', bins = 30, figsize = (10,10), range = (5300000,800000000), ylim = (0,200))\n",
    "plt.ticklabel_format(style = 'plain')"
   ]
  },
  {
   "cell_type": "markdown",
   "metadata": {},
   "source": [
    "Примем за границу ,больших значений 3000000, согласно графику."
   ]
  },
  {
   "cell_type": "code",
   "execution_count": 62,
   "metadata": {},
   "outputs": [
    {
     "name": "stdout",
     "output_type": "stream",
     "text": [
      "2400 10.42 %\n",
      "19154 83.18 %\n",
      "\n"
     ]
    },
    {
     "data": {
      "text/plain": [
       "'Среднее: 6216318.04, Медиана: 4900000.0'"
      ]
     },
     "execution_count": 62,
     "metadata": {},
     "output_type": "execute_result"
    }
   ],
   "source": [
    "# посмотрим количество и долю подозрительно низких значений\n",
    "unusual_small_price = data.query('last_price <= 2500000')\n",
    "print(len(unusual_small_price), round(len(unusual_small_price)*100/len(data),2),'%')\n",
    "# посмотрим количество и долю слишком больших значений\n",
    "unusual_big_price = data.query('last_price >= 3000000')\n",
    "print(len(unusual_big_price), round(len(unusual_big_price)*100/len(data),2),'%')\n",
    "print()\n",
    "data_price_filtered = data.query('last_price >= 2500000 and last_price <= 30000000')\n",
    "\n",
    "mean = round(data_price_filtered['last_price'].mean(),2)\n",
    "median = data_price_filtered['last_price'].median()\n",
    "f'Среднее: {mean}, Медиана: {median}'"
   ]
  },
  {
   "cell_type": "markdown",
   "metadata": {},
   "source": [
    "Можно отсечь \"крайниие\" большие без значимого искажения распределения."
   ]
  },
  {
   "cell_type": "code",
   "execution_count": 63,
   "metadata": {},
   "outputs": [
    {
     "name": "stdout",
     "output_type": "stream",
     "text": [
      "   ceiling_height  total_area  last_price  rooms\n",
      "0            2.70       108.0    13000000      3\n",
      "1            2.65       159.0    64900000      3\n",
      "2            3.03       100.0    10000000      2\n",
      "3            2.65        71.6     7915000      2\n",
      "4            3.05        82.0     6700000      3\n",
      "5            2.75       121.0    14200000      3\n",
      "6            2.65        97.2     6500000      2\n",
      "7            2.75        76.0     6800000      2\n",
      "8            2.60        70.0     7100000      3\n",
      "9            2.65       100.0     8600000      3\n"
     ]
    }
   ],
   "source": [
    "# создадим датафрейм с отфильтрованными значениями в столбцах высота потолка, цена, комнаты и площадь\n",
    "data_filtered = data.query('ceiling_height >= 2.5 and ceiling_height <= 4.0'\n",
    "                           and 'total_area >18 and total_area < 320'\n",
    "                           and 'last_price >= 2500000 and last_price <= 30000000'\n",
    "                           and 'rooms <= 5')\n",
    "print(data_filtered[['ceiling_height','total_area','last_price','rooms']].head(10))"
   ]
  },
  {
   "cell_type": "markdown",
   "metadata": {},
   "source": [
    "### 2.  Изучение времени продажи квартиры"
   ]
  },
  {
   "cell_type": "code",
   "execution_count": 64,
   "metadata": {},
   "outputs": [
    {
     "data": {
      "image/png": "[encoded data removed]",
      "text/plain": [
       "<Figure size 720x720 with 1 Axes>"
      ]
     },
     "metadata": {
      "needs_background": "light"
     },
     "output_type": "display_data"
    }
   ],
   "source": [
    "data['days_exposition'].hist(bins = 30, figsize = (10,10))\n",
    "plt.show()"
   ]
  },
  {
   "cell_type": "code",
   "execution_count": 65,
   "metadata": {},
   "outputs": [
    {
     "data": {
      "text/plain": [
       "'Среднее: 181.49, Медиана: 96.0'"
      ]
     },
     "execution_count": 65,
     "metadata": {},
     "output_type": "execute_result"
    }
   ],
   "source": [
    "mean =  round(data['days_exposition'].mean(), 2)\n",
    "median =  data['days_exposition'].median()\n",
    "f'Среднее: {mean}, Медиана: {median}'"
   ]
  },
  {
   "cell_type": "markdown",
   "metadata": {},
   "source": [
    "Медиана практически в 2 раза меньше среднего, распределение смещено вправо (удлиненный правый \"хвост\")."
   ]
  },
  {
   "cell_type": "code",
   "execution_count": 66,
   "metadata": {},
   "outputs": [
    {
     "data": {
      "text/plain": [
       "count    19925.000000\n",
       "mean       181.487277\n",
       "std        220.261107\n",
       "min          1.000000\n",
       "25%         45.000000\n",
       "50%         96.000000\n",
       "75%        232.000000\n",
       "max       1580.000000\n",
       "Name: days_exposition, dtype: float64"
      ]
     },
     "execution_count": 66,
     "metadata": {},
     "output_type": "execute_result"
    }
   ],
   "source": [
    "data['days_exposition'].describe()"
   ]
  },
  {
   "cell_type": "markdown",
   "metadata": {},
   "source": [
    "Для большинства значений выборки справедливо: обычно продажа занимает от 45 до 240 дней. "
   ]
  },
  {
   "cell_type": "code",
   "execution_count": 67,
   "metadata": {},
   "outputs": [
    {
     "data": {
      "text/plain": [
       "<matplotlib.axes._subplots.AxesSubplot at 0xf0ab860>"
      ]
     },
     "execution_count": 67,
     "metadata": {},
     "output_type": "execute_result"
    },
    {
     "data": {
      "image/png": "[encoded data removed]",
      "text/plain": [
       "<Figure size 1080x360 with 1 Axes>"
      ]
     },
     "metadata": {
      "needs_background": "light"
     },
     "output_type": "display_data"
    }
   ],
   "source": [
    "#рассмотрим подробнее часть гистограммы с \"быстрыми\" продажами\n",
    "data['days_exposition'].plot(kind = 'hist',bins=60, range = (0, 100), ylim = (0, 350), figsize = (15,5))"
   ]
  },
  {
   "cell_type": "markdown",
   "metadata": {},
   "source": [
    "В данных довольно много быстрых продаж, нет четкой границы. Можно считать, что продажа прошла очень быстро, если она заняла менее 10 дней, примерный уровень ближайшего к минимальной границе всплеска продаж. "
   ]
  },
  {
   "cell_type": "code",
   "execution_count": 68,
   "metadata": {},
   "outputs": [
    {
     "data": {
      "image/png": "[encoded data removed]",
      "text/plain": [
       "<Figure size 432x288 with 1 Axes>"
      ]
     },
     "metadata": {
      "needs_background": "light"
     },
     "output_type": "display_data"
    }
   ],
   "source": [
    "#рассмотрим подробнее часть гистограммы с \"долгими\" продажами\n",
    "data['days_exposition'].plot(kind = 'hist',bins=30, range = (200, 1600), ylim = (0, 1000))\n",
    "plt.show()"
   ]
  },
  {
   "cell_type": "markdown",
   "metadata": {},
   "source": [
    "Согласно гистограмме, можно сказать, что продажа длится слишком долго, когда она превышает 600 дней."
   ]
  },
  {
   "cell_type": "code",
   "execution_count": 69,
   "metadata": {},
   "outputs": [
    {
     "data": {
      "text/plain": [
       "'Среднее: 148.67, Медиана: 97.0'"
      ]
     },
     "execution_count": 69,
     "metadata": {},
     "output_type": "execute_result"
    }
   ],
   "source": [
    "mean = round(data.query('days_exposition>10 & days_exposition <600')['days_exposition'].mean(), 2)\n",
    "median = data.query('days_exposition>10 & days_exposition <600')['days_exposition'].median()\n",
    "f'Среднее: {mean}, Медиана: {median}'"
   ]
  },
  {
   "cell_type": "markdown",
   "metadata": {},
   "source": [
    "При отбрасывании \"аномальных значений\" медиана выборки не меняется, а среднее несколько приближается к медиане, что делает распределение более \"нормальным\" и косвенно подтверждает правильность выбора границ \"аномальных\" значений."
   ]
  },
  {
   "cell_type": "markdown",
   "metadata": {},
   "source": [
    "### 3. Какие факторы больше всего влияют на стоимость квартиры? "
   ]
  },
  {
   "cell_type": "markdown",
   "metadata": {},
   "source": [
    "**Площадь**"
   ]
  },
  {
   "cell_type": "code",
   "execution_count": 70,
   "metadata": {},
   "outputs": [
    {
     "data": {
      "image/png": "[encoded data removed]",
      "text/plain": [
       "<Figure size 432x288 with 1 Axes>"
      ]
     },
     "metadata": {
      "needs_background": "light"
     },
     "output_type": "display_data"
    }
   ],
   "source": [
    "# посторим диаграмму рассеяния для цены и площади из датафрейма с отфильтрованными значениями площади\n",
    "data_filtered.plot(x='total_area', y='last_price', kind='scatter')\n",
    "plt.show()"
   ]
  },
  {
   "cell_type": "markdown",
   "metadata": {},
   "source": [
    "Точки расположены преимущественно вдоль одной линии, визуально кажется есть небольшая положительная корреляция. Проверим коэффициент Пирсона."
   ]
  },
  {
   "cell_type": "code",
   "execution_count": 71,
   "metadata": {},
   "outputs": [
    {
     "data": {
      "text/plain": [
       "0.68"
      ]
     },
     "execution_count": 71,
     "metadata": {},
     "output_type": "execute_result"
    }
   ],
   "source": [
    "round(data_filtered['total_area'].corr(data['last_price']), 2)"
   ]
  },
  {
   "cell_type": "markdown",
   "metadata": {},
   "source": [
    "Согласно коэффициенту Пирсона есть положительная корреляция между площадью и ценой квартиры."
   ]
  },
  {
   "cell_type": "markdown",
   "metadata": {},
   "source": [
    "**Число комнат**"
   ]
  },
  {
   "cell_type": "code",
   "execution_count": 72,
   "metadata": {},
   "outputs": [
    {
     "data": {
      "image/png": "[encoded data removed]",
      "text/plain": [
       "<Figure size 432x288 with 1 Axes>"
      ]
     },
     "metadata": {
      "needs_background": "light"
     },
     "output_type": "display_data"
    }
   ],
   "source": [
    "# посторим диаграмму рассеяния для цены и количества комнат из датафрейма с отфильтрованными значениями комнат\n",
    "data_filtered.plot(x='rooms', y='last_price', kind='scatter')\n",
    "plt.show()"
   ]
  },
  {
   "cell_type": "markdown",
   "metadata": {},
   "source": [
    "Визуально по диаграмме прослеживается положительная корреляционная связь при увеличении количества комнат от студии до 3, на участке от 3 до 5 комнат, корреляция менее выражена."
   ]
  },
  {
   "cell_type": "code",
   "execution_count": 73,
   "metadata": {},
   "outputs": [
    {
     "data": {
      "text/plain": [
       "0.35"
      ]
     },
     "execution_count": 73,
     "metadata": {},
     "output_type": "execute_result"
    }
   ],
   "source": [
    "round(data_filtered['rooms'].corr(data['last_price']), 2)"
   ]
  },
  {
   "cell_type": "markdown",
   "metadata": {},
   "source": [
    "Коэффициент Пирсона показывает наличие слабой корреляционной связи, так как связь носит нелинейный характер."
   ]
  },
  {
   "cell_type": "markdown",
   "metadata": {},
   "source": [
    "**Удаленность от центра**"
   ]
  },
  {
   "cell_type": "code",
   "execution_count": 74,
   "metadata": {},
   "outputs": [
    {
     "data": {
      "image/png": "[encoded data removed]",
      "text/plain": [
       "<Figure size 432x288 with 1 Axes>"
      ]
     },
     "metadata": {
      "needs_background": "light"
     },
     "output_type": "display_data"
    }
   ],
   "source": [
    "# посторим диаграмму рассеяния для цены и удаленности от центра\n",
    "data_filtered.plot(x='city_centers_nearest', y='last_price', kind='scatter')\n",
    "plt.show()"
   ]
  },
  {
   "cell_type": "markdown",
   "metadata": {},
   "source": [
    "Визуально по диаграмме можно предположить наличие слабой отрицательной корреляционной связи, проверим по коэффициенту Пирсона."
   ]
  },
  {
   "cell_type": "code",
   "execution_count": 75,
   "metadata": {},
   "outputs": [
    {
     "data": {
      "text/plain": [
       "-0.21"
      ]
     },
     "execution_count": 75,
     "metadata": {},
     "output_type": "execute_result"
    }
   ],
   "source": [
    "round(data['city_centers_nearest'].corr(data['last_price']), 2)"
   ]
  },
  {
   "cell_type": "markdown",
   "metadata": {},
   "source": [
    "Коэффициент подтверждает наши предположения об отрицательном характере связи, сделанные на основе графика, также показывая, что связь очень слаба, практически отсутствует."
   ]
  },
  {
   "cell_type": "markdown",
   "metadata": {},
   "source": [
    "**Этаж**"
   ]
  },
  {
   "cell_type": "markdown",
   "metadata": {},
   "source": [
    "Приведем категории по этажу к числовому обозначению."
   ]
  },
  {
   "cell_type": "code",
   "execution_count": 76,
   "metadata": {},
   "outputs": [
    {
     "name": "stderr",
     "output_type": "stream",
     "text": [
      "C:\\ProgramData\\Anaconda3\\lib\\site-packages\\ipykernel_launcher.py:9: SettingWithCopyWarning: \n",
      "A value is trying to be set on a copy of a slice from a DataFrame.\n",
      "Try using .loc[row_indexer,col_indexer] = value instead\n",
      "\n",
      "See the caveats in the documentation: http://pandas.pydata.org/pandas-docs/stable/indexing.html#indexing-view-versus-copy\n",
      "  if __name__ == '__main__':\n"
     ]
    },
    {
     "data": {
      "text/html": [
       "<div>\n",
       "<style scoped>\n",
       "    .dataframe tbody tr th:only-of-type {\n",
       "        vertical-align: middle;\n",
       "    }\n",
       "\n",
       "    .dataframe tbody tr th {\n",
       "        vertical-align: top;\n",
       "    }\n",
       "\n",
       "    .dataframe thead th {\n",
       "        text-align: right;\n",
       "    }\n",
       "</style>\n",
       "<table border=\"1\" class=\"dataframe\">\n",
       "  <thead>\n",
       "    <tr style=\"text-align: right;\">\n",
       "      <th></th>\n",
       "      <th>floor_category</th>\n",
       "      <th>floor_category_num</th>\n",
       "    </tr>\n",
       "  </thead>\n",
       "  <tbody>\n",
       "    <tr>\n",
       "      <th>0</th>\n",
       "      <td>другой</td>\n",
       "      <td>0</td>\n",
       "    </tr>\n",
       "    <tr>\n",
       "      <th>1</th>\n",
       "      <td>другой</td>\n",
       "      <td>0</td>\n",
       "    </tr>\n",
       "    <tr>\n",
       "      <th>2</th>\n",
       "      <td>другой</td>\n",
       "      <td>0</td>\n",
       "    </tr>\n",
       "    <tr>\n",
       "      <th>3</th>\n",
       "      <td>другой</td>\n",
       "      <td>0</td>\n",
       "    </tr>\n",
       "    <tr>\n",
       "      <th>4</th>\n",
       "      <td>первый</td>\n",
       "      <td>1</td>\n",
       "    </tr>\n",
       "  </tbody>\n",
       "</table>\n",
       "</div>"
      ],
      "text/plain": [
       "  floor_category  floor_category_num\n",
       "0         другой                   0\n",
       "1         другой                   0\n",
       "2         другой                   0\n",
       "3         другой                   0\n",
       "4         первый                   1"
      ]
     },
     "execution_count": 76,
     "metadata": {},
     "output_type": "execute_result"
    }
   ],
   "source": [
    "def categorize_floor_num(row):\n",
    "        if row ['floor_category'] == 'первый':\n",
    "            return 1\n",
    "        if row ['floor_category'] == 'последний':\n",
    "            return 2\n",
    "        else:\n",
    "            return 0\n",
    "#добавим новый столбец с числовой категорией по этажу\n",
    "data_filtered['floor_category_num'] =  data.apply(categorize_floor_num, axis=1)\n",
    "data_filtered[['floor_category','floor_category_num']].head()"
   ]
  },
  {
   "cell_type": "code",
   "execution_count": 77,
   "metadata": {},
   "outputs": [
    {
     "data": {
      "image/png": "[encoded data removed]",
      "text/plain": [
       "<Figure size 432x288 with 1 Axes>"
      ]
     },
     "metadata": {
      "needs_background": "light"
     },
     "output_type": "display_data"
    }
   ],
   "source": [
    "# посторим диаграмму рассеяния для цены и этажа\n",
    "data_filtered.plot(x='last_price', y='floor_category_num', kind='scatter')\n",
    "plt.show()"
   ]
  },
  {
   "cell_type": "markdown",
   "metadata": {},
   "source": [
    "Визуально по диаграмме видно, что квартиры на первом этаже дешевле, корреляция имеет нелинейный характер, поэтому не может быть оценена с помощью коэффициента Пирсона."
   ]
  },
  {
   "cell_type": "markdown",
   "metadata": {},
   "source": [
    "**Дата публикации**"
   ]
  },
  {
   "cell_type": "code",
   "execution_count": 78,
   "metadata": {},
   "outputs": [
    {
     "data": {
      "image/png": "[encoded data removed]",
      "text/plain": [
       "<Figure size 432x288 with 1 Axes>"
      ]
     },
     "metadata": {
      "needs_background": "light"
     },
     "output_type": "display_data"
    }
   ],
   "source": [
    "# построим графики для цены в зависимости:\n",
    "# от дня недели\n",
    "data_filtered.plot(kind = 'hist',  xticks = range (0,8,1), x='last_price', y='weekday_exposition')\n",
    "plt.show() "
   ]
  },
  {
   "cell_type": "code",
   "execution_count": 79,
   "metadata": {},
   "outputs": [
    {
     "data": {
      "image/png": "[encoded data removed]",
      "text/plain": [
       "<Figure size 432x288 with 1 Axes>"
      ]
     },
     "metadata": {
      "needs_background": "light"
     },
     "output_type": "display_data"
    }
   ],
   "source": [
    "# месяца\n",
    "data_filtered.plot(kind = 'hist',  xticks = range (0,13,1), x='last_price', y='month_exposition')\n",
    "plt.show()"
   ]
  },
  {
   "cell_type": "code",
   "execution_count": 80,
   "metadata": {},
   "outputs": [
    {
     "data": {
      "image/png": "[encoded data removed]",
      "text/plain": [
       "<Figure size 432x288 with 1 Axes>"
      ]
     },
     "metadata": {
      "needs_background": "light"
     },
     "output_type": "display_data"
    }
   ],
   "source": [
    "# года\n",
    "data_filtered.plot(x='last_price', y='year_exposition', kind = 'hist')\n",
    "plt.show()"
   ]
  },
  {
   "cell_type": "markdown",
   "metadata": {},
   "source": [
    "По гистограммам видно, что в датафрейме обявлений о продаже опубликовано больше в будние дни, с декабря по март, 2017 и 2018 годах. "
   ]
  },
  {
   "cell_type": "markdown",
   "metadata": {},
   "source": [
    "#### Вывод"
   ]
  },
  {
   "cell_type": "markdown",
   "metadata": {},
   "source": [
    "Наибольшее влияние на стоимость квартир оказывает площадь квартиры, менее выраженное влияние количетсва комнат, также отмечается, что квартиры на первом этаже дешевле. Ожидаемое влияние удаленности от центра на стоимость в виде её понижения, характер влияния по знаку подтвержден, но по выраженности незначим."
   ]
  },
  {
   "cell_type": "markdown",
   "metadata": {},
   "source": [
    "### 4. Населенные пункты"
   ]
  },
  {
   "cell_type": "code",
   "execution_count": 81,
   "metadata": {
    "scrolled": true
   },
   "outputs": [
    {
     "name": "stdout",
     "output_type": "stream",
     "text": [
      "Санкт-Петербург    15114\n",
      " Мурино              538\n",
      " Шушары              429\n",
      "Всеволожск           388\n",
      "Пушкин               362\n",
      "Колпино              329\n",
      " Парголово           309\n",
      "Гатчина              301\n",
      " Кудрово             295\n",
      "Выборг               232\n",
      "Name: locality_name, dtype: int64\n"
     ]
    },
    {
     "data": {
      "text/plain": [
       "Index(['Санкт-Петербург', ' Мурино', ' Шушары', 'Всеволожск', 'Пушкин',\n",
       "       'Колпино', ' Парголово', 'Гатчина', ' Кудрово', 'Выборг'],\n",
       "      dtype='object')"
      ]
     },
     "execution_count": 81,
     "metadata": {},
     "output_type": "execute_result"
    }
   ],
   "source": [
    "# выберем населенные пункты с наибольшим количеством объявлений\n",
    "print(data_filtered['locality_name'].value_counts(ascending = False).head(10))\n",
    "# сохраним названия населенных пунктов в отдельный список\n",
    "top_10 = data_filtered['locality_name'].value_counts(ascending = False).head(10).index\n",
    "top_10"
   ]
  },
  {
   "cell_type": "code",
   "execution_count": 82,
   "metadata": {},
   "outputs": [
    {
     "data": {
      "text/html": [
       "<style  type=\"text/css\" >\n",
       "</style><table id=\"T_7bc5feba_cca2_11ec_aca2_f07bcbeee278\" ><thead>    <tr>        <th class=\"blank level0\" ></th>        <th class=\"col_heading level0 col0\" >mean_metr_price</th>    </tr>    <tr>        <th class=\"index_name level0\" >locality_name</th>        <th class=\"blank\" ></th>    </tr></thead><tbody>\n",
       "                <tr>\n",
       "                        <th id=\"T_7bc5feba_cca2_11ec_aca2_f07bcbeee278level0_row0\" class=\"row_heading level0 row0\" >Санкт-Петербург</th>\n",
       "                        <td id=\"T_7bc5feba_cca2_11ec_aca2_f07bcbeee278row0_col0\" class=\"data row0 col0\" >114518</td>\n",
       "            </tr>\n",
       "            <tr>\n",
       "                        <th id=\"T_7bc5feba_cca2_11ec_aca2_f07bcbeee278level0_row1\" class=\"row_heading level0 row1\" >Пушкин</th>\n",
       "                        <td id=\"T_7bc5feba_cca2_11ec_aca2_f07bcbeee278row1_col0\" class=\"data row1 col0\" >103343</td>\n",
       "            </tr>\n",
       "            <tr>\n",
       "                        <th id=\"T_7bc5feba_cca2_11ec_aca2_f07bcbeee278level0_row2\" class=\"row_heading level0 row2\" > Кудрово</th>\n",
       "                        <td id=\"T_7bc5feba_cca2_11ec_aca2_f07bcbeee278row2_col0\" class=\"data row2 col0\" >92494</td>\n",
       "            </tr>\n",
       "            <tr>\n",
       "                        <th id=\"T_7bc5feba_cca2_11ec_aca2_f07bcbeee278level0_row3\" class=\"row_heading level0 row3\" > Парголово</th>\n",
       "                        <td id=\"T_7bc5feba_cca2_11ec_aca2_f07bcbeee278row3_col0\" class=\"data row3 col0\" >90081</td>\n",
       "            </tr>\n",
       "            <tr>\n",
       "                        <th id=\"T_7bc5feba_cca2_11ec_aca2_f07bcbeee278level0_row4\" class=\"row_heading level0 row4\" > Мурино</th>\n",
       "                        <td id=\"T_7bc5feba_cca2_11ec_aca2_f07bcbeee278row4_col0\" class=\"data row4 col0\" >85616</td>\n",
       "            </tr>\n",
       "            <tr>\n",
       "                        <th id=\"T_7bc5feba_cca2_11ec_aca2_f07bcbeee278level0_row5\" class=\"row_heading level0 row5\" > Шушары</th>\n",
       "                        <td id=\"T_7bc5feba_cca2_11ec_aca2_f07bcbeee278row5_col0\" class=\"data row5 col0\" >78414</td>\n",
       "            </tr>\n",
       "            <tr>\n",
       "                        <th id=\"T_7bc5feba_cca2_11ec_aca2_f07bcbeee278level0_row6\" class=\"row_heading level0 row6\" >Колпино</th>\n",
       "                        <td id=\"T_7bc5feba_cca2_11ec_aca2_f07bcbeee278row6_col0\" class=\"data row6 col0\" >75383</td>\n",
       "            </tr>\n",
       "            <tr>\n",
       "                        <th id=\"T_7bc5feba_cca2_11ec_aca2_f07bcbeee278level0_row7\" class=\"row_heading level0 row7\" >Гатчина</th>\n",
       "                        <td id=\"T_7bc5feba_cca2_11ec_aca2_f07bcbeee278row7_col0\" class=\"data row7 col0\" >68757</td>\n",
       "            </tr>\n",
       "            <tr>\n",
       "                        <th id=\"T_7bc5feba_cca2_11ec_aca2_f07bcbeee278level0_row8\" class=\"row_heading level0 row8\" >Всеволожск</th>\n",
       "                        <td id=\"T_7bc5feba_cca2_11ec_aca2_f07bcbeee278row8_col0\" class=\"data row8 col0\" >68704</td>\n",
       "            </tr>\n",
       "            <tr>\n",
       "                        <th id=\"T_7bc5feba_cca2_11ec_aca2_f07bcbeee278level0_row9\" class=\"row_heading level0 row9\" >Выборг</th>\n",
       "                        <td id=\"T_7bc5feba_cca2_11ec_aca2_f07bcbeee278row9_col0\" class=\"data row9 col0\" >58289</td>\n",
       "            </tr>\n",
       "    </tbody></table>"
      ],
      "text/plain": [
       "<pandas.io.formats.style.Styler at 0xe82d6a0>"
      ]
     },
     "execution_count": 82,
     "metadata": {},
     "output_type": "execute_result"
    }
   ],
   "source": [
    "data_top_10 = data_filtered.query('locality_name in @top_10')\n",
    "top_10_price = data_top_10.pivot_table(index = ['locality_name'], values = 'metr_price', aggfunc = ['mean'])\n",
    "top_10_price.columns = ['mean_metr_price']\n",
    "top_10_price = top_10_price.sort_values(by = ['mean_metr_price'], ascending = False)\n",
    "top_10_price.style.format({'mean_metr_price': '{:0.0f}'}) "
   ]
  },
  {
   "cell_type": "markdown",
   "metadata": {},
   "source": [
    "Среди 10 населенных пунктов с наибольшим количеством объявлений: населенный пункт с самой высокой ценой за квадратный метр - Санкт-Петербург, а с самой низкой ценой за квадратный метр - Выборг."
   ]
  },
  {
   "cell_type": "markdown",
   "metadata": {},
   "source": [
    "### Центральная область "
   ]
  },
  {
   "cell_type": "code",
   "execution_count": 83,
   "metadata": {},
   "outputs": [
    {
     "name": "stderr",
     "output_type": "stream",
     "text": [
      "C:\\ProgramData\\Anaconda3\\lib\\site-packages\\ipykernel_launcher.py:4: SettingWithCopyWarning: \n",
      "A value is trying to be set on a copy of a slice from a DataFrame.\n",
      "Try using .loc[row_indexer,col_indexer] = value instead\n",
      "\n",
      "See the caveats in the documentation: http://pandas.pydata.org/pandas-docs/stable/indexing.html#indexing-view-versus-copy\n",
      "  after removing the cwd from sys.path.\n"
     ]
    },
    {
     "data": {
      "text/html": [
       "<div>\n",
       "<style scoped>\n",
       "    .dataframe tbody tr th:only-of-type {\n",
       "        vertical-align: middle;\n",
       "    }\n",
       "\n",
       "    .dataframe tbody tr th {\n",
       "        vertical-align: top;\n",
       "    }\n",
       "\n",
       "    .dataframe thead th {\n",
       "        text-align: right;\n",
       "    }\n",
       "</style>\n",
       "<table border=\"1\" class=\"dataframe\">\n",
       "  <thead>\n",
       "    <tr style=\"text-align: right;\">\n",
       "      <th></th>\n",
       "      <th>city_centers_nearest</th>\n",
       "      <th>city_centers_km</th>\n",
       "    </tr>\n",
       "  </thead>\n",
       "  <tbody>\n",
       "    <tr>\n",
       "      <th>0</th>\n",
       "      <td>16028.0</td>\n",
       "      <td>16</td>\n",
       "    </tr>\n",
       "    <tr>\n",
       "      <th>1</th>\n",
       "      <td>6800.0</td>\n",
       "      <td>7</td>\n",
       "    </tr>\n",
       "    <tr>\n",
       "      <th>2</th>\n",
       "      <td>8098.0</td>\n",
       "      <td>8</td>\n",
       "    </tr>\n",
       "    <tr>\n",
       "      <th>3</th>\n",
       "      <td>11634.0</td>\n",
       "      <td>12</td>\n",
       "    </tr>\n",
       "    <tr>\n",
       "      <th>4</th>\n",
       "      <td>10698.0</td>\n",
       "      <td>11</td>\n",
       "    </tr>\n",
       "  </tbody>\n",
       "</table>\n",
       "</div>"
      ],
      "text/plain": [
       "   city_centers_nearest  city_centers_km\n",
       "0               16028.0               16\n",
       "1                6800.0                7\n",
       "2                8098.0                8\n",
       "3               11634.0               12\n",
       "4               10698.0               11"
      ]
     },
     "execution_count": 83,
     "metadata": {},
     "output_type": "execute_result"
    }
   ],
   "source": [
    "# выделим объявления из Санкт-Петербурга в отдельный датафрейм\n",
    "data_spb = data_filtered.query('locality_name == \"Санкт-Петербург\"')\n",
    "# переведем расстояние до центра в километры\n",
    "data_spb['city_centers_km'] = (round(data_spb['city_centers_nearest']/1000)).astype('int')\n",
    "data_spb[['city_centers_nearest','city_centers_km']].head()"
   ]
  },
  {
   "cell_type": "code",
   "execution_count": 84,
   "metadata": {},
   "outputs": [
    {
     "name": "stderr",
     "output_type": "stream",
     "text": [
      "C:\\ProgramData\\Anaconda3\\lib\\site-packages\\ipykernel_launcher.py:1: SettingWithCopyWarning: \n",
      "A value is trying to be set on a copy of a slice from a DataFrame.\n",
      "Try using .loc[row_indexer,col_indexer] = value instead\n",
      "\n",
      "See the caveats in the documentation: http://pandas.pydata.org/pandas-docs/stable/indexing.html#indexing-view-versus-copy\n",
      "  \"\"\"Entry point for launching an IPython kernel.\n"
     ]
    },
    {
     "data": {
      "text/html": [
       "<div>\n",
       "<style scoped>\n",
       "    .dataframe tbody tr th:only-of-type {\n",
       "        vertical-align: middle;\n",
       "    }\n",
       "\n",
       "    .dataframe tbody tr th {\n",
       "        vertical-align: top;\n",
       "    }\n",
       "\n",
       "    .dataframe thead th {\n",
       "        text-align: right;\n",
       "    }\n",
       "</style>\n",
       "<table border=\"1\" class=\"dataframe\">\n",
       "  <thead>\n",
       "    <tr style=\"text-align: right;\">\n",
       "      <th></th>\n",
       "      <th>city_centers_nearest</th>\n",
       "      <th>city_centers_km</th>\n",
       "      <th>median_km_price</th>\n",
       "    </tr>\n",
       "  </thead>\n",
       "  <tbody>\n",
       "    <tr>\n",
       "      <th>0</th>\n",
       "      <td>16028.0</td>\n",
       "      <td>16</td>\n",
       "      <td>4750000.0</td>\n",
       "    </tr>\n",
       "    <tr>\n",
       "      <th>1</th>\n",
       "      <td>6800.0</td>\n",
       "      <td>7</td>\n",
       "      <td>7801500.0</td>\n",
       "    </tr>\n",
       "    <tr>\n",
       "      <th>2</th>\n",
       "      <td>8098.0</td>\n",
       "      <td>8</td>\n",
       "      <td>7400000.0</td>\n",
       "    </tr>\n",
       "    <tr>\n",
       "      <th>3</th>\n",
       "      <td>11634.0</td>\n",
       "      <td>12</td>\n",
       "      <td>5000000.0</td>\n",
       "    </tr>\n",
       "    <tr>\n",
       "      <th>4</th>\n",
       "      <td>10698.0</td>\n",
       "      <td>11</td>\n",
       "      <td>5000000.0</td>\n",
       "    </tr>\n",
       "    <tr>\n",
       "      <th>5</th>\n",
       "      <td>12843.0</td>\n",
       "      <td>13</td>\n",
       "      <td>5250000.0</td>\n",
       "    </tr>\n",
       "    <tr>\n",
       "      <th>6</th>\n",
       "      <td>2336.0</td>\n",
       "      <td>2</td>\n",
       "      <td>9800000.0</td>\n",
       "    </tr>\n",
       "    <tr>\n",
       "      <th>7</th>\n",
       "      <td>14640.0</td>\n",
       "      <td>15</td>\n",
       "      <td>4934000.0</td>\n",
       "    </tr>\n",
       "    <tr>\n",
       "      <th>8</th>\n",
       "      <td>11456.0</td>\n",
       "      <td>11</td>\n",
       "      <td>5000000.0</td>\n",
       "    </tr>\n",
       "    <tr>\n",
       "      <th>9</th>\n",
       "      <td>11526.0</td>\n",
       "      <td>12</td>\n",
       "      <td>5000000.0</td>\n",
       "    </tr>\n",
       "  </tbody>\n",
       "</table>\n",
       "</div>"
      ],
      "text/plain": [
       "   city_centers_nearest  city_centers_km  median_km_price\n",
       "0               16028.0               16        4750000.0\n",
       "1                6800.0                7        7801500.0\n",
       "2                8098.0                8        7400000.0\n",
       "3               11634.0               12        5000000.0\n",
       "4               10698.0               11        5000000.0\n",
       "5               12843.0               13        5250000.0\n",
       "6                2336.0                2        9800000.0\n",
       "7               14640.0               15        4934000.0\n",
       "8               11456.0               11        5000000.0\n",
       "9               11526.0               12        5000000.0"
      ]
     },
     "execution_count": 84,
     "metadata": {},
     "output_type": "execute_result"
    }
   ],
   "source": [
    "data_spb['median_km_price'] = data_spb.groupby('city_centers_km')['last_price'].transform(lambda x : x.median())\n",
    "data_spb[['city_centers_nearest','city_centers_km','median_km_price']].head(10)"
   ]
  },
  {
   "cell_type": "code",
   "execution_count": 85,
   "metadata": {},
   "outputs": [
    {
     "data": {
      "image/png": "[encoded data removed]",
      "text/plain": [
       "<Figure size 432x288 with 1 Axes>"
      ]
     },
     "metadata": {
      "needs_background": "light"
     },
     "output_type": "display_data"
    }
   ],
   "source": [
    "# построим столбчатую диаграмму для отображения среденй цены и расстояния до центра\n",
    "sns.barplot(x='city_centers_km', y='median_km_price', data = data_spb)\n",
    "sns.set(rc={'figure.figsize':(20, 5)})\n",
    "plt.show()"
   ]
  },
  {
   "cell_type": "markdown",
   "metadata": {},
   "source": [
    "Из диаграммы видно, что центральная зона до 8 км от центра включительно."
   ]
  },
  {
   "cell_type": "code",
   "execution_count": 86,
   "metadata": {},
   "outputs": [],
   "source": [
    "# выделим центральную зону в отдельный датафрейм\n",
    "data_spb_centr = data_spb.query('city_centers_km <= 8')"
   ]
  },
  {
   "cell_type": "code",
   "execution_count": 87,
   "metadata": {},
   "outputs": [
    {
     "name": "stdout",
     "output_type": "stream",
     "text": [
      "Медиана потолки: 2.77\n"
     ]
    },
    {
     "data": {
      "image/png": "[encoded data removed]",
      "text/plain": [
       "<Figure size 1440x360 with 1 Axes>"
      ]
     },
     "metadata": {},
     "output_type": "display_data"
    }
   ],
   "source": [
    "# высота потолков в центральной зоне\n",
    "data_spb_centr['ceiling_height'].plot(kind = 'hist',bins=30, range = (2, 6), ylim = (0,1700))\n",
    "print('Медиана потолки:', data_spb_centr['ceiling_height'].median())"
   ]
  },
  {
   "cell_type": "code",
   "execution_count": 88,
   "metadata": {},
   "outputs": [
    {
     "name": "stdout",
     "output_type": "stream",
     "text": [
      "Медиана цена: 8750000.0\n"
     ]
    },
    {
     "data": {
      "image/png": "[encoded data removed]",
      "text/plain": [
       "<Figure size 1440x360 with 1 Axes>"
      ]
     },
     "metadata": {},
     "output_type": "display_data"
    }
   ],
   "source": [
    "# цена в центральной зоне\n",
    "data_spb_centr['last_price'].plot(kind = 'hist',bins=30,range = (0, 100000000))\n",
    "print('Медиана цена:', data_spb_centr['last_price'].median())\n"
   ]
  },
  {
   "cell_type": "code",
   "execution_count": 89,
   "metadata": {},
   "outputs": [
    {
     "name": "stdout",
     "output_type": "stream",
     "text": [
      "Медиана комнаты: 3.0\n"
     ]
    },
    {
     "data": {
      "image/png": "[encoded data removed]",
      "text/plain": [
       "<Figure size 720x360 with 1 Axes>"
      ]
     },
     "metadata": {},
     "output_type": "display_data"
    }
   ],
   "source": [
    "# комнаты в центральной зоне\n",
    "data_spb_centr['rooms'].plot(kind = 'hist',bins=10, figsize = (10,5))\n",
    "print('Медиана комнаты:', data_spb_centr['rooms'].median())"
   ]
  },
  {
   "cell_type": "markdown",
   "metadata": {},
   "source": [
    "Распределения данных в общем датасете и в центральной зоне схожие, но в центральной зоне мединаы по всем параметрам - цена, количество комнат и высота потолков выше, чем общие."
   ]
  },
  {
   "cell_type": "markdown",
   "metadata": {},
   "source": [
    "Построим матрицы диаграмм рассеяния и корреляционные матрицы для центральной зоны и сравним с аналогичными данными всего датафрейма."
   ]
  },
  {
   "cell_type": "code",
   "execution_count": 90,
   "metadata": {},
   "outputs": [
    {
     "data": {
      "text/plain": [
       "<function matplotlib.pyplot.show(*args, **kw)>"
      ]
     },
     "execution_count": 90,
     "metadata": {},
     "output_type": "execute_result"
    },
    {
     "data": {
      "image/png": "[encoded data removed]",
      "text/plain": [
       "<Figure size 1080x1080 with 16 Axes>"
      ]
     },
     "metadata": {},
     "output_type": "display_data"
    }
   ],
   "source": [
    "# площадь, удаленность от центра и количество комнат диаграммы рассеяния\n",
    "pd.plotting.scatter_matrix(data_spb_centr[['last_price','total_area','city_centers_nearest','rooms']], figsize = (15,15))\n",
    "plt.show"
   ]
  },
  {
   "cell_type": "code",
   "execution_count": 91,
   "metadata": {},
   "outputs": [
    {
     "data": {
      "text/html": [
       "<div>\n",
       "<style scoped>\n",
       "    .dataframe tbody tr th:only-of-type {\n",
       "        vertical-align: middle;\n",
       "    }\n",
       "\n",
       "    .dataframe tbody tr th {\n",
       "        vertical-align: top;\n",
       "    }\n",
       "\n",
       "    .dataframe thead th {\n",
       "        text-align: right;\n",
       "    }\n",
       "</style>\n",
       "<table border=\"1\" class=\"dataframe\">\n",
       "  <thead>\n",
       "    <tr style=\"text-align: right;\">\n",
       "      <th></th>\n",
       "      <th>last_price</th>\n",
       "      <th>total_area</th>\n",
       "      <th>city_centers_nearest</th>\n",
       "      <th>rooms</th>\n",
       "    </tr>\n",
       "  </thead>\n",
       "  <tbody>\n",
       "    <tr>\n",
       "      <th>last_price</th>\n",
       "      <td>1.00</td>\n",
       "      <td>0.66</td>\n",
       "      <td>-0.10</td>\n",
       "      <td>0.32</td>\n",
       "    </tr>\n",
       "    <tr>\n",
       "      <th>total_area</th>\n",
       "      <td>0.66</td>\n",
       "      <td>1.00</td>\n",
       "      <td>-0.14</td>\n",
       "      <td>0.69</td>\n",
       "    </tr>\n",
       "    <tr>\n",
       "      <th>city_centers_nearest</th>\n",
       "      <td>-0.10</td>\n",
       "      <td>-0.14</td>\n",
       "      <td>1.00</td>\n",
       "      <td>-0.21</td>\n",
       "    </tr>\n",
       "    <tr>\n",
       "      <th>rooms</th>\n",
       "      <td>0.32</td>\n",
       "      <td>0.69</td>\n",
       "      <td>-0.21</td>\n",
       "      <td>1.00</td>\n",
       "    </tr>\n",
       "  </tbody>\n",
       "</table>\n",
       "</div>"
      ],
      "text/plain": [
       "                      last_price  total_area  city_centers_nearest  rooms\n",
       "last_price                  1.00        0.66                 -0.10   0.32\n",
       "total_area                  0.66        1.00                 -0.14   0.69\n",
       "city_centers_nearest       -0.10       -0.14                  1.00  -0.21\n",
       "rooms                       0.32        0.69                 -0.21   1.00"
      ]
     },
     "execution_count": 91,
     "metadata": {},
     "output_type": "execute_result"
    }
   ],
   "source": [
    "# площадь, удаленность от центра и количество комнат коэффициенты Пирсона\n",
    "round(data_spb_centr[['last_price','total_area','city_centers_nearest','rooms']].corr(), 2)"
   ]
  },
  {
   "cell_type": "code",
   "execution_count": 92,
   "metadata": {},
   "outputs": [
    {
     "name": "stderr",
     "output_type": "stream",
     "text": [
      "'c' argument looks like a single numeric RGB or RGBA sequence, which should be avoided as value-mapping will have precedence in case its length matches with 'x' & 'y'.  Please use a 2-D array with a single row if you really want to specify the same RGB or RGBA value for all points.\n"
     ]
    },
    {
     "data": {
      "text/plain": [
       "<matplotlib.axes._subplots.AxesSubplot at 0x12d557b8>"
      ]
     },
     "execution_count": 92,
     "metadata": {},
     "output_type": "execute_result"
    },
    {
     "data": {
      "image/png": "[encoded data removed]",
      "text/plain": [
       "<Figure size 1440x360 with 1 Axes>"
      ]
     },
     "metadata": {},
     "output_type": "display_data"
    }
   ],
   "source": [
    "# этаж\n",
    "data_spb_centr.plot(x='last_price', y='floor_category_num', kind='scatter')"
   ]
  },
  {
   "cell_type": "markdown",
   "metadata": {},
   "source": [
    "По диаграмме рассеяния видно, что квартиры на первом этаже стоят дешевле, корреляция имеет нелинейный характер, диаграмма схожа с диаграммой для общей выборки."
   ]
  },
  {
   "cell_type": "code",
   "execution_count": 93,
   "metadata": {},
   "outputs": [
    {
     "data": {
      "image/png": "[encoded data removed]",
      "text/plain": [
       "<Figure size 1440x360 with 1 Axes>"
      ]
     },
     "metadata": {},
     "output_type": "display_data"
    }
   ],
   "source": [
    "# день недели\n",
    "data_spb_centr.plot(kind = 'hist',  xticks = range (0,8,1), x='last_price', y='weekday_exposition')\n",
    "plt.show() "
   ]
  },
  {
   "cell_type": "code",
   "execution_count": 94,
   "metadata": {},
   "outputs": [
    {
     "data": {
      "image/png": "[encoded data removed]",
      "text/plain": [
       "<Figure size 1440x360 with 1 Axes>"
      ]
     },
     "metadata": {},
     "output_type": "display_data"
    }
   ],
   "source": [
    "# месяц\n",
    "data_spb_centr.plot(kind = 'hist',  xticks = range (0,13,1), x='last_price', y='month_exposition')\n",
    "plt.show() "
   ]
  },
  {
   "cell_type": "code",
   "execution_count": 95,
   "metadata": {},
   "outputs": [
    {
     "data": {
      "image/png": "[encoded data removed]",
      "text/plain": [
       "<Figure size 1440x360 with 1 Axes>"
      ]
     },
     "metadata": {},
     "output_type": "display_data"
    }
   ],
   "source": [
    "# год\n",
    "data_spb_centr.plot(kind = 'hist', x='year_exposition', y='last_price')\n",
    "plt.xticks([2014,2015,2016,2017,2018,2019])\n",
    "plt.show()"
   ]
  },
  {
   "cell_type": "markdown",
   "metadata": {},
   "source": [
    "По гистограммам видно, что в датафрейме обявлений о продаже опубликовано больше в будние дни, с декабря по март, 2017 и 2018 годах, что соответствует распределению в общей выборке."
   ]
  },
  {
   "cell_type": "markdown",
   "metadata": {},
   "source": [
    "### Вывод"
   ]
  },
  {
   "cell_type": "markdown",
   "metadata": {},
   "source": [
    "1. Диаграммы рассеяния по всем показателям (площадь, удаленность от центра, этаж и количество комнат) для центральной зоны выглядят схоже с общими\n",
    "2. Корреляционные коэффициенты сохраняют свое направление в сравнении с общими и с точностью до десятых совпадают по значению для площади и количества комнат, корреляционная связь цены и удаленности от цента в центральной области слабее.\n",
    "3. Таким образом можно сказать, что выводы о влиянии на стоимость квартир в центральном сегменте не отличаются от таковых по всему городу."
   ]
  },
  {
   "cell_type": "markdown",
   "metadata": {},
   "source": [
    "## Общий вывод"
   ]
  },
  {
   "cell_type": "markdown",
   "metadata": {},
   "source": [
    "1. Наибольшее влияние на стоимость квартиры оказывает её площадь, корреляция - положительная, в меньшей степени оказывает влияение количество комнат, корреляция - положительная. \n",
    "2. Удаленность от центра не оказывает значимого влияния на стоимость квартир. \n",
    "3. Квартиры на первом этаже стоят дешевле.\n",
    "4. Санкт-Петербург является населенным пунктом с наибольшей стоимостью квадратного метра. \n",
    "5. Распределения данных в общем датасете и в центральной зоне схожие, но в центральной зоне мединаы по всем параметрам - цена, количество комнат и высота потолков выше, чем общие.\n",
    "6. Выводы по влиянию на стоимость квартир справедливы и для квартир центральной зоны (до 8 км от центра включительно)."
   ]
  }
 ],
 "metadata": {
  "ExecuteTimeLog": [
   {
    "duration": 878,
    "start_time": "2021-12-19T12:19:58.337Z"
   },
   {
    "duration": 135,
    "start_time": "2021-12-19T12:20:16.224Z"
   },
   {
    "duration": 103,
    "start_time": "2021-12-19T12:20:58.303Z"
   },
   {
    "duration": 123,
    "start_time": "2021-12-19T12:21:25.542Z"
   },
   {
    "duration": 115,
    "start_time": "2021-12-19T12:21:31.032Z"
   },
   {
    "duration": 130,
    "start_time": "2021-12-19T12:21:55.192Z"
   },
   {
    "duration": 78,
    "start_time": "2021-12-19T12:22:09.855Z"
   },
   {
    "duration": 85,
    "start_time": "2021-12-19T12:23:16.640Z"
   },
   {
    "duration": 109,
    "start_time": "2021-12-19T12:23:30.920Z"
   },
   {
    "duration": 76,
    "start_time": "2021-12-19T12:23:37.144Z"
   },
   {
    "duration": 113,
    "start_time": "2021-12-19T12:23:50.160Z"
   },
   {
    "duration": 636,
    "start_time": "2021-12-19T13:37:45.704Z"
   },
   {
    "duration": 454,
    "start_time": "2021-12-19T13:37:57.109Z"
   },
   {
    "duration": 182,
    "start_time": "2021-12-19T13:38:04.756Z"
   },
   {
    "duration": 94,
    "start_time": "2021-12-19T13:38:39.149Z"
   },
   {
    "duration": 330,
    "start_time": "2021-12-19T14:13:54.552Z"
   },
   {
    "duration": 7,
    "start_time": "2021-12-19T14:14:02.417Z"
   },
   {
    "duration": 7,
    "start_time": "2021-12-19T14:15:14.953Z"
   },
   {
    "duration": 7,
    "start_time": "2021-12-19T14:15:45.953Z"
   },
   {
    "duration": 109,
    "start_time": "2021-12-19T14:16:43.353Z"
   },
   {
    "duration": 335,
    "start_time": "2021-12-19T14:29:52.115Z"
   },
   {
    "duration": 9,
    "start_time": "2021-12-19T14:30:00.321Z"
   },
   {
    "duration": 143,
    "start_time": "2021-12-19T14:46:23.459Z"
   },
   {
    "duration": 16,
    "start_time": "2021-12-19T14:46:25.690Z"
   },
   {
    "duration": 114,
    "start_time": "2021-12-19T14:46:28.263Z"
   },
   {
    "duration": 39,
    "start_time": "2021-12-19T14:54:52.375Z"
   },
   {
    "duration": 14,
    "start_time": "2021-12-19T14:55:02.936Z"
   },
   {
    "duration": 37,
    "start_time": "2021-12-19T14:55:46.455Z"
   },
   {
    "duration": 5,
    "start_time": "2021-12-19T15:00:00.957Z"
   },
   {
    "duration": 30,
    "start_time": "2021-12-19T15:00:02.258Z"
   },
   {
    "duration": 157,
    "start_time": "2021-12-19T15:00:15.972Z"
   },
   {
    "duration": 16,
    "start_time": "2021-12-19T15:00:18.273Z"
   },
   {
    "duration": 109,
    "start_time": "2021-12-19T15:00:21.643Z"
   },
   {
    "duration": 10,
    "start_time": "2021-12-19T15:00:25.721Z"
   },
   {
    "duration": 34,
    "start_time": "2021-12-19T15:00:28.178Z"
   },
   {
    "duration": 5,
    "start_time": "2021-12-19T15:00:30.845Z"
   },
   {
    "duration": 10814,
    "start_time": "2021-12-19T15:05:19.144Z"
   },
   {
    "duration": 5,
    "start_time": "2021-12-19T15:06:24.661Z"
   },
   {
    "duration": 4,
    "start_time": "2021-12-19T15:06:27.598Z"
   },
   {
    "duration": 8862,
    "start_time": "2021-12-19T15:06:29.488Z"
   },
   {
    "duration": 5,
    "start_time": "2021-12-19T15:07:39.359Z"
   },
   {
    "duration": 26,
    "start_time": "2021-12-19T15:07:41.446Z"
   },
   {
    "duration": 984,
    "start_time": "2021-12-19T15:08:15.567Z"
   },
   {
    "duration": 6,
    "start_time": "2021-12-19T15:08:41.911Z"
   },
   {
    "duration": 319,
    "start_time": "2021-12-19T15:08:43.440Z"
   },
   {
    "duration": 25,
    "start_time": "2021-12-19T15:08:57.871Z"
   },
   {
    "duration": 5,
    "start_time": "2021-12-19T15:10:24.968Z"
   },
   {
    "duration": 705,
    "start_time": "2021-12-19T15:10:27.033Z"
   },
   {
    "duration": 10239,
    "start_time": "2021-12-19T15:10:43.840Z"
   },
   {
    "duration": 107,
    "start_time": "2021-12-19T15:11:07.656Z"
   },
   {
    "duration": 9731,
    "start_time": "2021-12-19T15:11:23.008Z"
   },
   {
    "duration": 5,
    "start_time": "2021-12-19T15:11:47.736Z"
   },
   {
    "duration": 16,
    "start_time": "2021-12-19T15:11:50.673Z"
   },
   {
    "duration": 5,
    "start_time": "2021-12-19T15:13:14.778Z"
   },
   {
    "duration": 659,
    "start_time": "2021-12-19T15:13:16.037Z"
   },
   {
    "duration": 9,
    "start_time": "2021-12-19T15:13:38.203Z"
   },
   {
    "duration": 112,
    "start_time": "2021-12-19T15:13:44.506Z"
   },
   {
    "duration": 15,
    "start_time": "2021-12-19T15:13:47.289Z"
   },
   {
    "duration": 103,
    "start_time": "2021-12-19T15:13:49.441Z"
   },
   {
    "duration": 10,
    "start_time": "2021-12-19T15:13:52.393Z"
   },
   {
    "duration": 36,
    "start_time": "2021-12-19T15:13:55.180Z"
   },
   {
    "duration": 5,
    "start_time": "2021-12-19T15:13:57.825Z"
   },
   {
    "duration": 648,
    "start_time": "2021-12-19T15:14:02.144Z"
   },
   {
    "duration": 127,
    "start_time": "2021-12-19T15:14:15.922Z"
   },
   {
    "duration": 15,
    "start_time": "2021-12-19T15:14:18.075Z"
   },
   {
    "duration": 110,
    "start_time": "2021-12-19T15:14:21.299Z"
   },
   {
    "duration": 9,
    "start_time": "2021-12-19T15:14:24.347Z"
   },
   {
    "duration": 39,
    "start_time": "2021-12-19T15:14:26.570Z"
   },
   {
    "duration": 5,
    "start_time": "2021-12-19T15:14:29.002Z"
   },
   {
    "duration": 642,
    "start_time": "2021-12-19T15:14:31.674Z"
   },
   {
    "duration": 5,
    "start_time": "2021-12-19T15:14:58.930Z"
   },
   {
    "duration": 27,
    "start_time": "2021-12-19T15:15:00.554Z"
   },
   {
    "duration": 339,
    "start_time": "2021-12-19T15:21:48.446Z"
   },
   {
    "duration": 8,
    "start_time": "2021-12-19T15:22:00.687Z"
   },
   {
    "duration": 7,
    "start_time": "2021-12-19T15:22:13.318Z"
   },
   {
    "duration": 7,
    "start_time": "2021-12-19T15:22:58.448Z"
   },
   {
    "duration": 20,
    "start_time": "2021-12-19T15:33:02.368Z"
   },
   {
    "duration": 25,
    "start_time": "2021-12-19T15:33:14.877Z"
   },
   {
    "duration": 6,
    "start_time": "2021-12-19T15:50:58.136Z"
   },
   {
    "duration": 410,
    "start_time": "2021-12-19T15:51:46.384Z"
   },
   {
    "duration": 307,
    "start_time": "2021-12-19T15:52:19.145Z"
   },
   {
    "duration": 359,
    "start_time": "2021-12-19T15:52:44.806Z"
   },
   {
    "duration": 105,
    "start_time": "2021-12-19T15:53:18.777Z"
   },
   {
    "duration": 2341,
    "start_time": "2021-12-19T15:53:23.721Z"
   },
   {
    "duration": 2418,
    "start_time": "2021-12-19T15:53:39.169Z"
   },
   {
    "duration": 358,
    "start_time": "2021-12-19T15:59:37.489Z"
   },
   {
    "duration": 360,
    "start_time": "2021-12-19T16:00:52.702Z"
   },
   {
    "duration": 372,
    "start_time": "2021-12-19T16:01:15.630Z"
   },
   {
    "duration": 349,
    "start_time": "2021-12-19T16:01:24.669Z"
   },
   {
    "duration": 270,
    "start_time": "2021-12-19T16:01:33.814Z"
   },
   {
    "duration": 295,
    "start_time": "2021-12-19T16:01:39.864Z"
   },
   {
    "duration": 310,
    "start_time": "2021-12-19T16:01:45.751Z"
   },
   {
    "duration": 313,
    "start_time": "2021-12-19T16:02:35.654Z"
   },
   {
    "duration": 116,
    "start_time": "2021-12-19T16:02:44.917Z"
   },
   {
    "duration": 102,
    "start_time": "2021-12-19T16:02:49.742Z"
   },
   {
    "duration": 298,
    "start_time": "2021-12-19T16:02:54.598Z"
   },
   {
    "duration": 284,
    "start_time": "2021-12-19T16:02:59.735Z"
   },
   {
    "duration": 372,
    "start_time": "2021-12-19T16:03:48.751Z"
   },
   {
    "duration": 323,
    "start_time": "2021-12-19T16:04:09.776Z"
   },
   {
    "duration": 283,
    "start_time": "2021-12-19T16:04:59.802Z"
   },
   {
    "duration": 359,
    "start_time": "2021-12-19T16:05:44.039Z"
   },
   {
    "duration": 349,
    "start_time": "2021-12-19T16:05:52.888Z"
   },
   {
    "duration": 277,
    "start_time": "2021-12-19T16:06:51.985Z"
   },
   {
    "duration": 5582,
    "start_time": "2021-12-19T16:10:22.915Z"
   },
   {
    "duration": 9,
    "start_time": "2021-12-19T16:14:47.195Z"
   },
   {
    "duration": 11,
    "start_time": "2021-12-19T16:15:40.551Z"
   },
   {
    "duration": 301,
    "start_time": "2021-12-19T16:15:52.879Z"
   },
   {
    "duration": 304,
    "start_time": "2021-12-19T16:53:42.675Z"
   },
   {
    "duration": 297,
    "start_time": "2021-12-19T16:53:59.988Z"
   },
   {
    "duration": 381,
    "start_time": "2021-12-19T17:05:12.043Z"
   },
   {
    "duration": 756,
    "start_time": "2021-12-19T17:05:47.187Z"
   },
   {
    "duration": 323,
    "start_time": "2021-12-19T17:06:28.420Z"
   },
   {
    "duration": 275,
    "start_time": "2021-12-19T17:06:44.358Z"
   },
   {
    "duration": 295,
    "start_time": "2021-12-19T17:07:21.916Z"
   },
   {
    "duration": 111,
    "start_time": "2021-12-19T17:11:23.474Z"
   },
   {
    "duration": 501,
    "start_time": "2021-12-19T17:11:30.221Z"
   },
   {
    "duration": 2608,
    "start_time": "2021-12-19T17:12:16.792Z"
   },
   {
    "duration": 2237,
    "start_time": "2021-12-19T17:13:45.207Z"
   },
   {
    "duration": 2279,
    "start_time": "2021-12-19T17:14:04.799Z"
   },
   {
    "duration": 8,
    "start_time": "2021-12-19T17:14:41.000Z"
   },
   {
    "duration": 11,
    "start_time": "2021-12-19T17:16:41.770Z"
   },
   {
    "duration": 6,
    "start_time": "2021-12-19T17:17:36.842Z"
   },
   {
    "duration": 121,
    "start_time": "2021-12-19T17:19:46.482Z"
   },
   {
    "duration": 14,
    "start_time": "2021-12-19T17:20:26.523Z"
   },
   {
    "duration": 32,
    "start_time": "2021-12-19T17:21:01.316Z"
   },
   {
    "duration": 13,
    "start_time": "2021-12-19T17:21:29.606Z"
   },
   {
    "duration": 14,
    "start_time": "2021-12-19T17:21:42.408Z"
   },
   {
    "duration": 38,
    "start_time": "2021-12-19T17:21:51.317Z"
   },
   {
    "duration": 13,
    "start_time": "2021-12-19T17:22:17.092Z"
   },
   {
    "duration": 358,
    "start_time": "2021-12-19T17:22:57.726Z"
   },
   {
    "duration": 355,
    "start_time": "2021-12-19T17:23:22.495Z"
   },
   {
    "duration": 11,
    "start_time": "2021-12-19T17:23:46.421Z"
   },
   {
    "duration": 110,
    "start_time": "2021-12-19T17:25:38.190Z"
   },
   {
    "duration": 654,
    "start_time": "2021-12-19T17:25:47.278Z"
   },
   {
    "duration": 9,
    "start_time": "2021-12-19T17:27:21.836Z"
   },
   {
    "duration": 9,
    "start_time": "2021-12-19T17:27:47.488Z"
   },
   {
    "duration": 11,
    "start_time": "2021-12-19T17:28:42.711Z"
   },
   {
    "duration": 13,
    "start_time": "2021-12-19T17:29:14.545Z"
   },
   {
    "duration": 11,
    "start_time": "2021-12-19T17:35:35.828Z"
   },
   {
    "duration": 6,
    "start_time": "2021-12-19T17:35:40.684Z"
   },
   {
    "duration": 124,
    "start_time": "2021-12-19T17:40:45.225Z"
   },
   {
    "duration": 15,
    "start_time": "2021-12-19T17:40:47.137Z"
   },
   {
    "duration": 106,
    "start_time": "2021-12-19T17:40:52.720Z"
   },
   {
    "duration": 7,
    "start_time": "2021-12-19T17:40:57.659Z"
   },
   {
    "duration": 37,
    "start_time": "2021-12-19T17:40:58.455Z"
   },
   {
    "duration": 6,
    "start_time": "2021-12-19T17:41:01.112Z"
   },
   {
    "duration": 27,
    "start_time": "2021-12-19T17:41:02.722Z"
   },
   {
    "duration": 7,
    "start_time": "2021-12-19T17:41:10.817Z"
   },
   {
    "duration": 9,
    "start_time": "2021-12-19T17:41:17.216Z"
   },
   {
    "duration": 14,
    "start_time": "2021-12-19T17:44:05.577Z"
   },
   {
    "duration": 6,
    "start_time": "2021-12-19T17:44:12.434Z"
   },
   {
    "duration": 286,
    "start_time": "2021-12-19T17:44:20.665Z"
   },
   {
    "duration": 11,
    "start_time": "2021-12-19T17:44:24.385Z"
   },
   {
    "duration": 11,
    "start_time": "2021-12-19T17:44:26.297Z"
   },
   {
    "duration": 299,
    "start_time": "2021-12-19T17:44:28.601Z"
   },
   {
    "duration": 10,
    "start_time": "2021-12-19T17:44:32.610Z"
   },
   {
    "duration": 115,
    "start_time": "2021-12-19T17:44:45.946Z"
   },
   {
    "duration": 334,
    "start_time": "2021-12-19T17:44:58.883Z"
   },
   {
    "duration": 329,
    "start_time": "2021-12-19T17:47:08.878Z"
   },
   {
    "duration": 190,
    "start_time": "2021-12-19T17:49:10.559Z"
   },
   {
    "duration": 111,
    "start_time": "2021-12-19T17:49:43.828Z"
   },
   {
    "duration": 112,
    "start_time": "2021-12-19T17:51:51.183Z"
   },
   {
    "duration": 317,
    "start_time": "2021-12-19T17:52:12.958Z"
   },
   {
    "duration": 2769,
    "start_time": "2021-12-19T17:52:38.893Z"
   },
   {
    "duration": 6,
    "start_time": "2021-12-19T17:56:22.625Z"
   },
   {
    "duration": 9,
    "start_time": "2021-12-19T17:56:25.305Z"
   },
   {
    "duration": 9,
    "start_time": "2021-12-19T17:56:44.984Z"
   },
   {
    "duration": 9,
    "start_time": "2021-12-19T17:57:40.745Z"
   },
   {
    "duration": 107,
    "start_time": "2021-12-19T18:01:20.516Z"
   },
   {
    "duration": 9,
    "start_time": "2021-12-19T18:01:26.923Z"
   },
   {
    "duration": 8,
    "start_time": "2021-12-19T18:01:34.239Z"
   },
   {
    "duration": 104,
    "start_time": "2021-12-19T18:04:22.542Z"
   },
   {
    "duration": 164,
    "start_time": "2021-12-19T18:04:30.776Z"
   },
   {
    "duration": 137,
    "start_time": "2021-12-19T18:04:44.980Z"
   },
   {
    "duration": 11,
    "start_time": "2021-12-19T18:04:55.111Z"
   },
   {
    "duration": 162,
    "start_time": "2021-12-19T18:05:44.986Z"
   },
   {
    "duration": 293,
    "start_time": "2021-12-19T18:05:51.902Z"
   },
   {
    "duration": 296,
    "start_time": "2021-12-19T18:06:16.048Z"
   },
   {
    "duration": 311,
    "start_time": "2021-12-19T18:06:44.823Z"
   },
   {
    "duration": 101,
    "start_time": "2021-12-19T18:09:06.556Z"
   },
   {
    "duration": 301,
    "start_time": "2021-12-19T18:11:10.978Z"
   },
   {
    "duration": 293,
    "start_time": "2021-12-19T18:12:20.028Z"
   },
   {
    "duration": 450,
    "start_time": "2021-12-19T18:12:36.414Z"
   },
   {
    "duration": 421,
    "start_time": "2021-12-19T18:12:51.003Z"
   },
   {
    "duration": 340,
    "start_time": "2021-12-19T18:13:38.955Z"
   },
   {
    "duration": 338,
    "start_time": "2021-12-19T18:13:46.275Z"
   },
   {
    "duration": 18,
    "start_time": "2021-12-19T18:14:33.699Z"
   },
   {
    "duration": 17,
    "start_time": "2021-12-19T18:14:40.276Z"
   },
   {
    "duration": 350,
    "start_time": "2021-12-19T18:20:50.793Z"
   },
   {
    "duration": 212,
    "start_time": "2021-12-19T18:21:24.195Z"
   },
   {
    "duration": 605,
    "start_time": "2021-12-19T18:23:54.382Z"
   },
   {
    "duration": 220,
    "start_time": "2021-12-19T18:24:31.932Z"
   },
   {
    "duration": 226,
    "start_time": "2021-12-19T18:24:41.369Z"
   },
   {
    "duration": 237,
    "start_time": "2021-12-19T18:24:47.116Z"
   },
   {
    "duration": 221,
    "start_time": "2021-12-19T18:24:55.667Z"
   },
   {
    "duration": 745,
    "start_time": "2021-12-19T18:25:15.835Z"
   },
   {
    "duration": 1003,
    "start_time": "2021-12-19T18:25:24.930Z"
   },
   {
    "duration": 1615,
    "start_time": "2021-12-19T18:25:38.595Z"
   },
   {
    "duration": 552,
    "start_time": "2021-12-19T18:25:53.043Z"
   },
   {
    "duration": 563,
    "start_time": "2021-12-19T18:26:59.060Z"
   },
   {
    "duration": 753,
    "start_time": "2021-12-19T18:27:06.228Z"
   },
   {
    "duration": 542,
    "start_time": "2021-12-19T18:27:22.269Z"
   },
   {
    "duration": 13,
    "start_time": "2021-12-19T18:37:30.859Z"
   },
   {
    "duration": 21,
    "start_time": "2021-12-19T18:45:26.752Z"
   },
   {
    "duration": 7,
    "start_time": "2021-12-19T18:52:22.868Z"
   },
   {
    "duration": 1483,
    "start_time": "2021-12-19T18:52:28.494Z"
   },
   {
    "duration": 29,
    "start_time": "2021-12-19T18:53:09.421Z"
   },
   {
    "duration": 22,
    "start_time": "2021-12-19T18:54:29.150Z"
   },
   {
    "duration": 1556,
    "start_time": "2021-12-19T18:57:49.601Z"
   },
   {
    "duration": 45,
    "start_time": "2021-12-19T19:00:53.965Z"
   },
   {
    "duration": 377,
    "start_time": "2021-12-19T19:01:09.268Z"
   },
   {
    "duration": 50,
    "start_time": "2021-12-19T19:01:22.038Z"
   },
   {
    "duration": 444,
    "start_time": "2021-12-19T19:01:30.697Z"
   },
   {
    "duration": 60,
    "start_time": "2021-12-19T19:01:38.698Z"
   },
   {
    "duration": 20,
    "start_time": "2021-12-19T19:05:18.924Z"
   },
   {
    "duration": 17,
    "start_time": "2021-12-19T19:08:26.307Z"
   },
   {
    "duration": 15,
    "start_time": "2021-12-19T19:09:30.713Z"
   },
   {
    "duration": 14,
    "start_time": "2021-12-19T19:09:47.303Z"
   },
   {
    "duration": 379,
    "start_time": "2021-12-19T19:11:14.608Z"
   },
   {
    "duration": 9702,
    "start_time": "2021-12-19T19:11:30.369Z"
   },
   {
    "duration": 21,
    "start_time": "2021-12-19T19:13:05.722Z"
   },
   {
    "duration": 14,
    "start_time": "2021-12-19T19:20:00.837Z"
   },
   {
    "duration": 113,
    "start_time": "2021-12-19T19:20:02.538Z"
   },
   {
    "duration": 14,
    "start_time": "2021-12-19T19:20:28.381Z"
   },
   {
    "duration": 10,
    "start_time": "2021-12-19T19:20:30.166Z"
   },
   {
    "duration": 17,
    "start_time": "2021-12-19T19:20:54.837Z"
   },
   {
    "duration": 12,
    "start_time": "2021-12-19T19:21:01.022Z"
   },
   {
    "duration": 19,
    "start_time": "2021-12-19T19:21:01.037Z"
   },
   {
    "duration": 24,
    "start_time": "2021-12-19T19:21:59.663Z"
   },
   {
    "duration": 103,
    "start_time": "2021-12-19T19:29:22.812Z"
   },
   {
    "duration": 6826,
    "start_time": "2021-12-19T19:29:33.564Z"
   },
   {
    "duration": 7278,
    "start_time": "2021-12-19T19:30:44.492Z"
   },
   {
    "duration": 125,
    "start_time": "2021-12-19T19:32:21.134Z"
   },
   {
    "duration": 149,
    "start_time": "2021-12-19T19:32:32.732Z"
   },
   {
    "duration": 7228,
    "start_time": "2021-12-19T19:32:44.884Z"
   },
   {
    "duration": 7254,
    "start_time": "2021-12-19T19:33:30.877Z"
   },
   {
    "duration": 7273,
    "start_time": "2021-12-19T19:35:56.779Z"
   },
   {
    "duration": 4271,
    "start_time": "2021-12-19T19:37:41.136Z"
   },
   {
    "duration": 5253,
    "start_time": "2021-12-19T19:38:43.816Z"
   },
   {
    "duration": 4594,
    "start_time": "2021-12-19T19:39:18.321Z"
   },
   {
    "duration": 5695,
    "start_time": "2021-12-19T19:40:54.024Z"
   },
   {
    "duration": 5639,
    "start_time": "2021-12-19T19:41:14.561Z"
   },
   {
    "duration": 103,
    "start_time": "2021-12-19T19:44:09.196Z"
   },
   {
    "duration": 5535,
    "start_time": "2021-12-19T19:44:28.107Z"
   },
   {
    "duration": 4739,
    "start_time": "2021-12-19T19:45:11.971Z"
   },
   {
    "duration": 5141,
    "start_time": "2021-12-19T19:45:25.235Z"
   },
   {
    "duration": 4217,
    "start_time": "2021-12-19T19:45:50.897Z"
   },
   {
    "duration": 4174,
    "start_time": "2021-12-19T19:46:22.981Z"
   },
   {
    "duration": 784,
    "start_time": "2021-12-19T19:46:44.631Z"
   },
   {
    "duration": 550,
    "start_time": "2021-12-19T19:48:59.533Z"
   },
   {
    "duration": 740,
    "start_time": "2021-12-19T19:49:31.926Z"
   },
   {
    "duration": 114,
    "start_time": "2021-12-19T19:53:03.602Z"
   },
   {
    "duration": 361,
    "start_time": "2021-12-19T19:53:14.529Z"
   },
   {
    "duration": 621,
    "start_time": "2021-12-19T19:53:26.391Z"
   },
   {
    "duration": 578,
    "start_time": "2021-12-19T19:53:35.937Z"
   },
   {
    "duration": 107,
    "start_time": "2021-12-19T19:53:51.856Z"
   },
   {
    "duration": 107,
    "start_time": "2021-12-19T19:54:02.838Z"
   },
   {
    "duration": 329,
    "start_time": "2021-12-19T19:54:23.137Z"
   },
   {
    "duration": 342,
    "start_time": "2021-12-19T19:54:48.553Z"
   },
   {
    "duration": 333,
    "start_time": "2021-12-19T19:55:32.881Z"
   },
   {
    "duration": 8816,
    "start_time": "2021-12-19T19:55:40.713Z"
   },
   {
    "duration": 556,
    "start_time": "2021-12-19T19:55:59.179Z"
   },
   {
    "duration": 9345,
    "start_time": "2021-12-19T19:57:42.747Z"
   },
   {
    "duration": 11328,
    "start_time": "2021-12-19T19:59:17.790Z"
   },
   {
    "duration": 125,
    "start_time": "2021-12-19T20:00:26.942Z"
   },
   {
    "duration": 614,
    "start_time": "2021-12-19T20:00:46.046Z"
   },
   {
    "duration": 5612,
    "start_time": "2021-12-19T20:01:17.389Z"
   },
   {
    "duration": 445,
    "start_time": "2021-12-19T20:02:54.970Z"
   },
   {
    "duration": 884,
    "start_time": "2021-12-19T20:03:04.143Z"
   },
   {
    "duration": 117,
    "start_time": "2021-12-19T20:03:37.664Z"
   },
   {
    "duration": 555,
    "start_time": "2021-12-19T20:03:43.487Z"
   },
   {
    "duration": 120,
    "start_time": "2021-12-19T20:04:04.113Z"
   },
   {
    "duration": 553,
    "start_time": "2021-12-19T20:04:18.040Z"
   },
   {
    "duration": 683,
    "start_time": "2021-12-20T15:14:48.634Z"
   },
   {
    "duration": 18,
    "start_time": "2021-12-20T15:14:51.807Z"
   },
   {
    "duration": 70,
    "start_time": "2021-12-20T15:14:54.919Z"
   },
   {
    "duration": 7,
    "start_time": "2021-12-20T15:14:57.831Z"
   },
   {
    "duration": 29,
    "start_time": "2021-12-20T15:14:59.984Z"
   },
   {
    "duration": 4,
    "start_time": "2021-12-20T15:15:02.398Z"
   },
   {
    "duration": 24,
    "start_time": "2021-12-20T15:15:04.192Z"
   },
   {
    "duration": 5,
    "start_time": "2021-12-20T15:15:06.847Z"
   },
   {
    "duration": 9,
    "start_time": "2021-12-20T15:15:09.135Z"
   },
   {
    "duration": 5,
    "start_time": "2021-12-20T15:15:11.655Z"
   },
   {
    "duration": 414,
    "start_time": "2021-12-20T15:15:13.600Z"
   },
   {
    "duration": 8,
    "start_time": "2021-12-20T15:15:17.984Z"
   },
   {
    "duration": 8,
    "start_time": "2021-12-20T15:15:19.399Z"
   },
   {
    "duration": 160,
    "start_time": "2021-12-20T15:15:21.391Z"
   },
   {
    "duration": 7,
    "start_time": "2021-12-20T15:15:24.447Z"
   },
   {
    "duration": 5,
    "start_time": "2021-12-20T15:15:32.023Z"
   },
   {
    "duration": 7,
    "start_time": "2021-12-20T15:15:33.247Z"
   },
   {
    "duration": 14,
    "start_time": "2021-12-20T15:15:35.927Z"
   },
   {
    "duration": 10,
    "start_time": "2021-12-20T15:15:39.880Z"
   },
   {
    "duration": 23,
    "start_time": "2021-12-20T15:15:42.121Z"
   },
   {
    "duration": 16,
    "start_time": "2021-12-20T15:15:44.690Z"
   },
   {
    "duration": 36,
    "start_time": "2021-12-20T15:15:47.777Z"
   },
   {
    "duration": 8,
    "start_time": "2021-12-20T15:15:50.144Z"
   },
   {
    "duration": 9,
    "start_time": "2021-12-20T15:15:52.561Z"
   },
   {
    "duration": 7,
    "start_time": "2021-12-20T15:15:54.393Z"
   },
   {
    "duration": 8,
    "start_time": "2021-12-20T15:15:55.122Z"
   },
   {
    "duration": 13,
    "start_time": "2021-12-20T15:15:56.569Z"
   },
   {
    "duration": 580,
    "start_time": "2021-12-20T15:19:06.419Z"
   },
   {
    "duration": 368,
    "start_time": "2021-12-20T15:19:50.284Z"
   },
   {
    "duration": 655,
    "start_time": "2021-12-20T15:20:42.397Z"
   },
   {
    "duration": 396,
    "start_time": "2021-12-20T15:21:21.450Z"
   },
   {
    "duration": 391,
    "start_time": "2021-12-20T15:23:05.684Z"
   },
   {
    "duration": 355,
    "start_time": "2021-12-20T15:27:09.463Z"
   },
   {
    "duration": 66,
    "start_time": "2021-12-20T15:28:53.878Z"
   },
   {
    "duration": 306,
    "start_time": "2021-12-20T15:29:29.446Z"
   },
   {
    "duration": 5739,
    "start_time": "2021-12-20T15:31:40.440Z"
   },
   {
    "duration": 6082,
    "start_time": "2021-12-20T15:32:27.296Z"
   },
   {
    "duration": 297,
    "start_time": "2021-12-20T15:32:54.353Z"
   },
   {
    "duration": 247,
    "start_time": "2021-12-20T15:34:57.694Z"
   },
   {
    "duration": 257,
    "start_time": "2021-12-20T15:37:19.380Z"
   },
   {
    "duration": 429,
    "start_time": "2021-12-20T15:37:37.603Z"
   },
   {
    "duration": 378,
    "start_time": "2021-12-20T15:39:21.108Z"
   },
   {
    "duration": 677,
    "start_time": "2021-12-20T15:39:36.086Z"
   },
   {
    "duration": 547,
    "start_time": "2021-12-20T15:40:25.859Z"
   },
   {
    "duration": 5,
    "start_time": "2021-12-20T16:48:09.141Z"
   },
   {
    "duration": 205,
    "start_time": "2021-12-20T16:48:25.765Z"
   },
   {
    "duration": 10,
    "start_time": "2021-12-20T16:48:37.205Z"
   },
   {
    "duration": 4,
    "start_time": "2021-12-20T16:49:11.319Z"
   },
   {
    "duration": 10,
    "start_time": "2021-12-20T16:49:12.886Z"
   },
   {
    "duration": 80,
    "start_time": "2021-12-20T16:49:39.832Z"
   },
   {
    "duration": 12,
    "start_time": "2021-12-20T16:49:41.790Z"
   },
   {
    "duration": 69,
    "start_time": "2021-12-20T16:49:45.175Z"
   },
   {
    "duration": 6,
    "start_time": "2021-12-20T16:49:48.894Z"
   },
   {
    "duration": 31,
    "start_time": "2021-12-20T16:49:52.262Z"
   },
   {
    "duration": 4,
    "start_time": "2021-12-20T16:49:54.568Z"
   },
   {
    "duration": 6,
    "start_time": "2021-12-20T16:49:59.723Z"
   },
   {
    "duration": 6,
    "start_time": "2021-12-20T16:50:01.575Z"
   },
   {
    "duration": 213,
    "start_time": "2021-12-20T16:50:17.503Z"
   },
   {
    "duration": 9,
    "start_time": "2021-12-20T16:50:26.262Z"
   },
   {
    "duration": 5,
    "start_time": "2021-12-20T16:52:23.968Z"
   },
   {
    "duration": 270,
    "start_time": "2021-12-20T16:54:42.716Z"
   },
   {
    "duration": 9,
    "start_time": "2021-12-20T16:54:52.313Z"
   },
   {
    "duration": 8,
    "start_time": "2021-12-20T16:54:54.929Z"
   },
   {
    "duration": 5,
    "start_time": "2021-12-20T16:55:55.610Z"
   },
   {
    "duration": 7,
    "start_time": "2021-12-20T16:56:18.234Z"
   },
   {
    "duration": 7,
    "start_time": "2021-12-20T16:58:34.652Z"
   },
   {
    "duration": 378,
    "start_time": "2021-12-20T17:11:55.459Z"
   },
   {
    "duration": 217,
    "start_time": "2021-12-20T17:12:02.459Z"
   },
   {
    "duration": 73,
    "start_time": "2021-12-20T17:12:09.388Z"
   },
   {
    "duration": 74,
    "start_time": "2021-12-20T17:12:13.915Z"
   },
   {
    "duration": 245,
    "start_time": "2021-12-20T17:12:19.579Z"
   },
   {
    "duration": 9,
    "start_time": "2021-12-20T17:13:25.045Z"
   },
   {
    "duration": 5,
    "start_time": "2021-12-20T17:18:25.687Z"
   },
   {
    "duration": 3,
    "start_time": "2021-12-20T17:20:39.498Z"
   },
   {
    "duration": 5,
    "start_time": "2021-12-20T17:20:49.577Z"
   },
   {
    "duration": 241,
    "start_time": "2021-12-20T17:27:59.646Z"
   },
   {
    "duration": 201,
    "start_time": "2021-12-20T17:28:49.269Z"
   },
   {
    "duration": 90,
    "start_time": "2021-12-20T17:34:39.938Z"
   },
   {
    "duration": 529,
    "start_time": "2021-12-20T17:34:47.001Z"
   },
   {
    "duration": 108,
    "start_time": "2021-12-20T18:05:18.155Z"
   },
   {
    "duration": 127,
    "start_time": "2021-12-20T18:06:20.272Z"
   },
   {
    "duration": 77,
    "start_time": "2021-12-20T18:06:52.453Z"
   },
   {
    "duration": 277,
    "start_time": "2021-12-20T18:11:23.759Z"
   },
   {
    "duration": 13,
    "start_time": "2021-12-20T18:15:25.682Z"
   },
   {
    "duration": 6,
    "start_time": "2021-12-20T18:17:30.705Z"
   },
   {
    "duration": 7,
    "start_time": "2021-12-20T18:21:25.421Z"
   },
   {
    "duration": 7,
    "start_time": "2021-12-20T18:22:01.909Z"
   },
   {
    "duration": 8,
    "start_time": "2021-12-20T18:28:37.474Z"
   },
   {
    "duration": 6,
    "start_time": "2021-12-20T18:32:47.003Z"
   },
   {
    "duration": 80,
    "start_time": "2021-12-20T18:33:49.134Z"
   },
   {
    "duration": 11,
    "start_time": "2021-12-20T18:33:51.331Z"
   },
   {
    "duration": 90,
    "start_time": "2021-12-20T18:33:54.412Z"
   },
   {
    "duration": 7,
    "start_time": "2021-12-20T18:33:58.170Z"
   },
   {
    "duration": 25,
    "start_time": "2021-12-20T18:34:00.396Z"
   },
   {
    "duration": 6,
    "start_time": "2021-12-20T18:34:02.829Z"
   },
   {
    "duration": 7,
    "start_time": "2021-12-20T18:34:06.043Z"
   },
   {
    "duration": 3,
    "start_time": "2021-12-20T18:34:22.491Z"
   },
   {
    "duration": 24,
    "start_time": "2021-12-20T18:34:26.660Z"
   },
   {
    "duration": 11,
    "start_time": "2021-12-20T18:34:31.069Z"
   },
   {
    "duration": 4,
    "start_time": "2021-12-20T18:34:35.301Z"
   },
   {
    "duration": 6,
    "start_time": "2021-12-20T18:34:37.580Z"
   },
   {
    "duration": 9,
    "start_time": "2021-12-20T18:34:40.822Z"
   },
   {
    "duration": 6,
    "start_time": "2021-12-20T18:34:43.101Z"
   },
   {
    "duration": 5,
    "start_time": "2021-12-20T18:34:46.307Z"
   },
   {
    "duration": 325,
    "start_time": "2021-12-20T18:34:48.340Z"
   },
   {
    "duration": 8,
    "start_time": "2021-12-20T18:34:52.347Z"
   },
   {
    "duration": 8,
    "start_time": "2021-12-20T18:34:54.020Z"
   },
   {
    "duration": 170,
    "start_time": "2021-12-20T18:34:55.380Z"
   },
   {
    "duration": 13,
    "start_time": "2021-12-20T18:34:58.660Z"
   },
   {
    "duration": 9,
    "start_time": "2021-12-20T18:35:00.880Z"
   },
   {
    "duration": 5,
    "start_time": "2021-12-20T18:35:04.364Z"
   },
   {
    "duration": 6,
    "start_time": "2021-12-20T18:35:05.356Z"
   },
   {
    "duration": 11,
    "start_time": "2021-12-20T18:35:08.102Z"
   },
   {
    "duration": 9,
    "start_time": "2021-12-20T18:35:10.804Z"
   },
   {
    "duration": 19,
    "start_time": "2021-12-20T18:35:31.790Z"
   },
   {
    "duration": 14,
    "start_time": "2021-12-20T18:35:34.477Z"
   },
   {
    "duration": 30,
    "start_time": "2021-12-20T18:35:37.605Z"
   },
   {
    "duration": 7,
    "start_time": "2021-12-20T18:35:40.221Z"
   },
   {
    "duration": 8,
    "start_time": "2021-12-20T18:35:43.181Z"
   },
   {
    "duration": 7,
    "start_time": "2021-12-20T18:35:45.133Z"
   },
   {
    "duration": 8,
    "start_time": "2021-12-20T18:35:45.845Z"
   },
   {
    "duration": 13,
    "start_time": "2021-12-20T18:35:48.213Z"
   },
   {
    "duration": 16,
    "start_time": "2021-12-20T18:35:51.555Z"
   },
   {
    "duration": 264,
    "start_time": "2021-12-20T18:35:55.076Z"
   },
   {
    "duration": 5,
    "start_time": "2021-12-20T18:35:58.391Z"
   },
   {
    "duration": 10,
    "start_time": "2021-12-20T18:36:00.174Z"
   },
   {
    "duration": 7,
    "start_time": "2021-12-20T18:36:03.876Z"
   },
   {
    "duration": 6,
    "start_time": "2021-12-20T18:36:07.285Z"
   },
   {
    "duration": 8,
    "start_time": "2021-12-20T18:36:53.176Z"
   },
   {
    "duration": 4,
    "start_time": "2021-12-20T18:36:55.606Z"
   },
   {
    "duration": 81,
    "start_time": "2021-12-20T18:50:01.624Z"
   },
   {
    "duration": 12,
    "start_time": "2021-12-20T18:50:28.342Z"
   },
   {
    "duration": 20,
    "start_time": "2021-12-20T18:51:09.366Z"
   },
   {
    "duration": 23,
    "start_time": "2021-12-20T18:51:18.127Z"
   },
   {
    "duration": 92,
    "start_time": "2021-12-20T18:51:44.898Z"
   },
   {
    "duration": 10,
    "start_time": "2021-12-20T18:51:44.992Z"
   },
   {
    "duration": 75,
    "start_time": "2021-12-20T18:51:45.004Z"
   },
   {
    "duration": 5,
    "start_time": "2021-12-20T18:51:45.081Z"
   },
   {
    "duration": 26,
    "start_time": "2021-12-20T18:51:45.088Z"
   },
   {
    "duration": 5,
    "start_time": "2021-12-20T18:51:45.116Z"
   },
   {
    "duration": 12,
    "start_time": "2021-12-20T18:51:45.123Z"
   },
   {
    "duration": 40,
    "start_time": "2021-12-20T18:51:45.136Z"
   },
   {
    "duration": 9,
    "start_time": "2021-12-20T18:51:45.284Z"
   },
   {
    "duration": 8,
    "start_time": "2021-12-20T18:51:45.295Z"
   },
   {
    "duration": 6,
    "start_time": "2021-12-20T18:51:45.692Z"
   },
   {
    "duration": 9,
    "start_time": "2021-12-20T18:51:45.700Z"
   },
   {
    "duration": 7,
    "start_time": "2021-12-20T18:51:45.938Z"
   },
   {
    "duration": 4,
    "start_time": "2021-12-20T18:51:45.947Z"
   },
   {
    "duration": 330,
    "start_time": "2021-12-20T18:51:45.953Z"
   },
   {
    "duration": 6,
    "start_time": "2021-12-20T18:51:46.285Z"
   },
   {
    "duration": 8,
    "start_time": "2021-12-20T18:51:46.293Z"
   },
   {
    "duration": 176,
    "start_time": "2021-12-20T18:51:46.303Z"
   },
   {
    "duration": 6,
    "start_time": "2021-12-20T18:51:46.481Z"
   },
   {
    "duration": 9,
    "start_time": "2021-12-20T18:51:46.489Z"
   },
   {
    "duration": 4,
    "start_time": "2021-12-20T18:51:46.500Z"
   },
   {
    "duration": 4,
    "start_time": "2021-12-20T18:51:46.506Z"
   },
   {
    "duration": 9,
    "start_time": "2021-12-20T18:51:46.512Z"
   },
   {
    "duration": 40,
    "start_time": "2021-12-20T18:51:46.523Z"
   },
   {
    "duration": 16,
    "start_time": "2021-12-20T18:51:46.565Z"
   },
   {
    "duration": 14,
    "start_time": "2021-12-20T18:51:46.582Z"
   },
   {
    "duration": 37,
    "start_time": "2021-12-20T18:51:46.598Z"
   },
   {
    "duration": 31,
    "start_time": "2021-12-20T18:51:46.637Z"
   },
   {
    "duration": 11,
    "start_time": "2021-12-20T18:51:46.670Z"
   },
   {
    "duration": 7,
    "start_time": "2021-12-20T18:51:46.683Z"
   },
   {
    "duration": 9,
    "start_time": "2021-12-20T18:51:46.692Z"
   },
   {
    "duration": 17,
    "start_time": "2021-12-20T18:51:46.703Z"
   },
   {
    "duration": 44,
    "start_time": "2021-12-20T18:51:46.722Z"
   },
   {
    "duration": 303,
    "start_time": "2021-12-20T18:51:46.768Z"
   },
   {
    "duration": 5,
    "start_time": "2021-12-20T18:51:47.389Z"
   },
   {
    "duration": 10,
    "start_time": "2021-12-20T18:51:47.395Z"
   },
   {
    "duration": 7,
    "start_time": "2021-12-20T18:51:47.878Z"
   },
   {
    "duration": 7,
    "start_time": "2021-12-20T18:51:47.887Z"
   },
   {
    "duration": 30,
    "start_time": "2021-12-20T18:51:47.896Z"
   },
   {
    "duration": 3,
    "start_time": "2021-12-20T18:51:47.988Z"
   },
   {
    "duration": 725,
    "start_time": "2021-12-20T18:51:47.999Z"
   },
   {
    "duration": 83,
    "start_time": "2021-12-20T18:59:00.682Z"
   },
   {
    "duration": 119,
    "start_time": "2021-12-20T18:59:09.058Z"
   },
   {
    "duration": 123,
    "start_time": "2021-12-20T18:59:31.707Z"
   },
   {
    "duration": 112,
    "start_time": "2021-12-20T18:59:48.563Z"
   },
   {
    "duration": 103,
    "start_time": "2021-12-20T19:01:07.885Z"
   },
   {
    "duration": 6,
    "start_time": "2021-12-20T19:01:35.557Z"
   },
   {
    "duration": 81,
    "start_time": "2021-12-20T19:01:45.581Z"
   },
   {
    "duration": 11,
    "start_time": "2021-12-20T19:01:45.663Z"
   },
   {
    "duration": 64,
    "start_time": "2021-12-20T19:01:45.676Z"
   },
   {
    "duration": 5,
    "start_time": "2021-12-20T19:01:45.761Z"
   },
   {
    "duration": 38,
    "start_time": "2021-12-20T19:01:45.768Z"
   },
   {
    "duration": 6,
    "start_time": "2021-12-20T19:01:45.807Z"
   },
   {
    "duration": 20,
    "start_time": "2021-12-20T19:01:45.814Z"
   },
   {
    "duration": 20,
    "start_time": "2021-12-20T19:01:45.836Z"
   },
   {
    "duration": 7,
    "start_time": "2021-12-20T19:01:45.861Z"
   },
   {
    "duration": 29,
    "start_time": "2021-12-20T19:01:45.870Z"
   },
   {
    "duration": 25,
    "start_time": "2021-12-20T19:01:45.901Z"
   },
   {
    "duration": 26,
    "start_time": "2021-12-20T19:01:45.928Z"
   },
   {
    "duration": 16,
    "start_time": "2021-12-20T19:01:45.955Z"
   },
   {
    "duration": 26,
    "start_time": "2021-12-20T19:01:45.972Z"
   },
   {
    "duration": 316,
    "start_time": "2021-12-20T19:01:45.999Z"
   },
   {
    "duration": 8,
    "start_time": "2021-12-20T19:01:46.317Z"
   },
   {
    "duration": 8,
    "start_time": "2021-12-20T19:01:46.327Z"
   },
   {
    "duration": 186,
    "start_time": "2021-12-20T19:01:46.336Z"
   },
   {
    "duration": 6,
    "start_time": "2021-12-20T19:01:46.524Z"
   },
   {
    "duration": 9,
    "start_time": "2021-12-20T19:01:46.532Z"
   },
   {
    "duration": 4,
    "start_time": "2021-12-20T19:01:46.542Z"
   },
   {
    "duration": 17,
    "start_time": "2021-12-20T19:01:46.547Z"
   },
   {
    "duration": 9,
    "start_time": "2021-12-20T19:01:46.567Z"
   },
   {
    "duration": 7,
    "start_time": "2021-12-20T19:01:46.578Z"
   },
   {
    "duration": 17,
    "start_time": "2021-12-20T19:01:46.586Z"
   },
   {
    "duration": 13,
    "start_time": "2021-12-20T19:01:46.605Z"
   },
   {
    "duration": 61,
    "start_time": "2021-12-20T19:01:46.619Z"
   },
   {
    "duration": 7,
    "start_time": "2021-12-20T19:01:46.682Z"
   },
   {
    "duration": 10,
    "start_time": "2021-12-20T19:01:46.690Z"
   },
   {
    "duration": 5,
    "start_time": "2021-12-20T19:01:46.702Z"
   },
   {
    "duration": 7,
    "start_time": "2021-12-20T19:01:46.709Z"
   },
   {
    "duration": 46,
    "start_time": "2021-12-20T19:01:46.718Z"
   },
   {
    "duration": 10,
    "start_time": "2021-12-20T19:01:46.765Z"
   },
   {
    "duration": 271,
    "start_time": "2021-12-20T19:01:46.777Z"
   },
   {
    "duration": 11,
    "start_time": "2021-12-20T19:01:47.049Z"
   },
   {
    "duration": 9,
    "start_time": "2021-12-20T19:01:47.062Z"
   },
   {
    "duration": 5,
    "start_time": "2021-12-20T19:01:47.073Z"
   },
   {
    "duration": 7,
    "start_time": "2021-12-20T19:01:47.079Z"
   },
   {
    "duration": 128,
    "start_time": "2021-12-20T19:01:47.088Z"
   },
   {
    "duration": 2,
    "start_time": "2021-12-20T19:01:47.218Z"
   },
   {
    "duration": 553,
    "start_time": "2021-12-20T19:01:47.221Z"
   },
   {
    "duration": 11,
    "start_time": "2021-12-20T19:04:31.885Z"
   },
   {
    "duration": 364,
    "start_time": "2021-12-20T19:10:00.291Z"
   },
   {
    "duration": 34,
    "start_time": "2021-12-20T19:11:16.370Z"
   },
   {
    "duration": 9,
    "start_time": "2021-12-20T19:13:05.531Z"
   },
   {
    "duration": 8,
    "start_time": "2021-12-20T19:13:16.851Z"
   },
   {
    "duration": 251,
    "start_time": "2021-12-20T19:13:20.358Z"
   },
   {
    "duration": 36,
    "start_time": "2021-12-20T19:13:51.356Z"
   },
   {
    "duration": 8,
    "start_time": "2021-12-20T19:13:53.387Z"
   },
   {
    "duration": 8,
    "start_time": "2021-12-20T19:14:04.122Z"
   },
   {
    "duration": 269,
    "start_time": "2021-12-20T19:15:29.094Z"
   },
   {
    "duration": 41,
    "start_time": "2021-12-20T19:15:34.669Z"
   },
   {
    "duration": 303,
    "start_time": "2021-12-20T19:15:52.951Z"
   },
   {
    "duration": 42,
    "start_time": "2021-12-20T19:15:55.804Z"
   },
   {
    "duration": 10,
    "start_time": "2021-12-20T19:23:08.945Z"
   },
   {
    "duration": 14,
    "start_time": "2021-12-20T19:26:54.763Z"
   },
   {
    "duration": 898,
    "start_time": "2021-12-20T19:28:41.418Z"
   },
   {
    "duration": 12,
    "start_time": "2021-12-20T19:29:17.030Z"
   },
   {
    "duration": 12,
    "start_time": "2021-12-20T19:29:38.734Z"
   },
   {
    "duration": 11,
    "start_time": "2021-12-20T19:29:58.270Z"
   },
   {
    "duration": 11,
    "start_time": "2021-12-20T19:30:03.397Z"
   },
   {
    "duration": 13,
    "start_time": "2021-12-20T19:30:30.775Z"
   },
   {
    "duration": 23,
    "start_time": "2021-12-20T19:37:24.802Z"
   },
   {
    "duration": 18,
    "start_time": "2021-12-20T19:37:37.469Z"
   },
   {
    "duration": 14,
    "start_time": "2021-12-20T19:42:52.528Z"
   },
   {
    "duration": 10,
    "start_time": "2021-12-20T19:51:27.484Z"
   },
   {
    "duration": 224,
    "start_time": "2021-12-20T19:53:06.733Z"
   },
   {
    "duration": 8,
    "start_time": "2021-12-20T19:53:10.644Z"
   },
   {
    "duration": 10,
    "start_time": "2021-12-20T19:53:45.533Z"
   },
   {
    "duration": 5,
    "start_time": "2021-12-20T19:53:50.924Z"
   },
   {
    "duration": 6,
    "start_time": "2021-12-20T19:53:51.852Z"
   },
   {
    "duration": 88,
    "start_time": "2021-12-20T19:53:55.924Z"
   },
   {
    "duration": 9,
    "start_time": "2021-12-20T19:57:54.799Z"
   },
   {
    "duration": 6,
    "start_time": "2021-12-20T19:59:06.301Z"
   },
   {
    "duration": 311,
    "start_time": "2021-12-20T20:01:46.203Z"
   },
   {
    "duration": 323,
    "start_time": "2021-12-20T20:01:58.385Z"
   },
   {
    "duration": 314,
    "start_time": "2021-12-20T20:02:12.020Z"
   },
   {
    "duration": 980,
    "start_time": "2021-12-20T20:05:46.426Z"
   },
   {
    "duration": 11,
    "start_time": "2021-12-20T20:06:20.820Z"
   },
   {
    "duration": 14,
    "start_time": "2021-12-20T20:06:29.340Z"
   },
   {
    "duration": 12,
    "start_time": "2021-12-20T20:08:57.783Z"
   },
   {
    "duration": 12,
    "start_time": "2021-12-20T20:09:14.110Z"
   },
   {
    "duration": 15,
    "start_time": "2021-12-20T20:09:37.318Z"
   },
   {
    "duration": 12,
    "start_time": "2021-12-20T20:09:54.934Z"
   },
   {
    "duration": 923,
    "start_time": "2021-12-20T20:11:21.456Z"
   },
   {
    "duration": 17,
    "start_time": "2021-12-20T20:11:33.288Z"
   },
   {
    "duration": 16,
    "start_time": "2021-12-20T20:11:53.927Z"
   },
   {
    "duration": 17,
    "start_time": "2021-12-20T20:12:09.015Z"
   },
   {
    "duration": 69,
    "start_time": "2021-12-20T20:14:11.840Z"
   },
   {
    "duration": 16,
    "start_time": "2021-12-20T20:14:21.088Z"
   },
   {
    "duration": 73,
    "start_time": "2021-12-20T20:14:41.425Z"
   },
   {
    "duration": 16,
    "start_time": "2021-12-20T20:14:59.833Z"
   },
   {
    "duration": 176,
    "start_time": "2021-12-20T20:16:17.668Z"
   },
   {
    "duration": 177,
    "start_time": "2021-12-20T20:16:27.851Z"
   },
   {
    "duration": 176,
    "start_time": "2021-12-20T20:16:37.659Z"
   },
   {
    "duration": 172,
    "start_time": "2021-12-20T20:16:56.273Z"
   },
   {
    "duration": 242,
    "start_time": "2021-12-20T20:17:03.763Z"
   },
   {
    "duration": 177,
    "start_time": "2021-12-20T20:17:58.154Z"
   },
   {
    "duration": 169,
    "start_time": "2021-12-20T20:18:09.171Z"
   },
   {
    "duration": 159,
    "start_time": "2021-12-20T20:18:17.106Z"
   },
   {
    "duration": 173,
    "start_time": "2021-12-20T20:18:30.108Z"
   },
   {
    "duration": 173,
    "start_time": "2021-12-20T20:18:37.019Z"
   },
   {
    "duration": 166,
    "start_time": "2021-12-20T20:19:12.300Z"
   },
   {
    "duration": 154,
    "start_time": "2021-12-20T20:19:28.773Z"
   },
   {
    "duration": 158,
    "start_time": "2021-12-20T20:19:34.196Z"
   },
   {
    "duration": 267,
    "start_time": "2021-12-20T20:19:39.923Z"
   },
   {
    "duration": 262,
    "start_time": "2021-12-20T20:19:49.862Z"
   },
   {
    "duration": 180,
    "start_time": "2021-12-20T20:19:58.301Z"
   },
   {
    "duration": 195,
    "start_time": "2021-12-20T20:20:06.235Z"
   },
   {
    "duration": 183,
    "start_time": "2021-12-20T20:20:36.277Z"
   },
   {
    "duration": 254,
    "start_time": "2021-12-20T20:21:07.758Z"
   },
   {
    "duration": 8,
    "start_time": "2021-12-20T20:26:17.237Z"
   },
   {
    "duration": 172,
    "start_time": "2021-12-20T20:27:10.897Z"
   },
   {
    "duration": 178,
    "start_time": "2021-12-20T20:27:17.633Z"
   },
   {
    "duration": 177,
    "start_time": "2021-12-20T20:27:25.273Z"
   },
   {
    "duration": 12,
    "start_time": "2021-12-20T20:31:03.080Z"
   },
   {
    "duration": 8,
    "start_time": "2021-12-20T20:36:04.183Z"
   },
   {
    "duration": 12,
    "start_time": "2021-12-20T20:37:57.511Z"
   },
   {
    "duration": 11,
    "start_time": "2021-12-20T20:38:32.392Z"
   },
   {
    "duration": 66,
    "start_time": "2021-12-20T20:42:17.106Z"
   },
   {
    "duration": 16,
    "start_time": "2021-12-20T20:42:29.811Z"
   },
   {
    "duration": 10,
    "start_time": "2021-12-20T20:46:31.782Z"
   },
   {
    "duration": 117,
    "start_time": "2021-12-20T20:50:40.693Z"
   },
   {
    "duration": 13,
    "start_time": "2021-12-20T20:50:40.812Z"
   },
   {
    "duration": 95,
    "start_time": "2021-12-20T20:50:40.827Z"
   },
   {
    "duration": 7,
    "start_time": "2021-12-20T20:50:41.017Z"
   },
   {
    "duration": 36,
    "start_time": "2021-12-20T20:50:41.026Z"
   },
   {
    "duration": 7,
    "start_time": "2021-12-20T20:50:41.064Z"
   },
   {
    "duration": 3,
    "start_time": "2021-12-20T20:50:41.074Z"
   },
   {
    "duration": 24,
    "start_time": "2021-12-20T20:50:41.079Z"
   },
   {
    "duration": 8,
    "start_time": "2021-12-20T20:50:41.105Z"
   },
   {
    "duration": 5,
    "start_time": "2021-12-20T20:50:41.116Z"
   },
   {
    "duration": 42,
    "start_time": "2021-12-20T20:50:41.123Z"
   },
   {
    "duration": 11,
    "start_time": "2021-12-20T20:50:41.167Z"
   },
   {
    "duration": 6,
    "start_time": "2021-12-20T20:50:41.179Z"
   },
   {
    "duration": 6,
    "start_time": "2021-12-20T20:50:41.186Z"
   },
   {
    "duration": 340,
    "start_time": "2021-12-20T20:50:41.193Z"
   },
   {
    "duration": 6,
    "start_time": "2021-12-20T20:50:41.535Z"
   },
   {
    "duration": 27,
    "start_time": "2021-12-20T20:50:41.543Z"
   },
   {
    "duration": 17,
    "start_time": "2021-12-20T20:50:41.573Z"
   },
   {
    "duration": 18,
    "start_time": "2021-12-20T20:50:41.592Z"
   },
   {
    "duration": 33,
    "start_time": "2021-12-20T20:50:41.611Z"
   },
   {
    "duration": 20,
    "start_time": "2021-12-20T20:50:41.645Z"
   },
   {
    "duration": 8,
    "start_time": "2021-12-20T20:50:41.666Z"
   },
   {
    "duration": 6,
    "start_time": "2021-12-20T20:50:41.675Z"
   },
   {
    "duration": 8,
    "start_time": "2021-12-20T20:50:41.683Z"
   },
   {
    "duration": 12,
    "start_time": "2021-12-20T20:50:41.693Z"
   },
   {
    "duration": 10,
    "start_time": "2021-12-20T20:50:41.706Z"
   },
   {
    "duration": 289,
    "start_time": "2021-12-20T20:50:41.718Z"
   },
   {
    "duration": 5,
    "start_time": "2021-12-20T20:50:42.008Z"
   },
   {
    "duration": 11,
    "start_time": "2021-12-20T20:50:42.014Z"
   },
   {
    "duration": 5,
    "start_time": "2021-12-20T20:50:42.026Z"
   },
   {
    "duration": 32,
    "start_time": "2021-12-20T20:50:42.033Z"
   },
   {
    "duration": 7,
    "start_time": "2021-12-20T20:50:42.067Z"
   },
   {
    "duration": 132,
    "start_time": "2021-12-20T20:50:42.076Z"
   },
   {
    "duration": 33,
    "start_time": "2021-12-20T20:50:42.211Z"
   },
   {
    "duration": 17,
    "start_time": "2021-12-20T20:50:42.245Z"
   },
   {
    "duration": 8,
    "start_time": "2021-12-20T20:50:42.264Z"
   },
   {
    "duration": 10,
    "start_time": "2021-12-20T20:50:42.525Z"
   },
   {
    "duration": 27,
    "start_time": "2021-12-20T20:50:42.537Z"
   },
   {
    "duration": 441,
    "start_time": "2021-12-20T20:50:42.567Z"
   },
   {
    "duration": 11,
    "start_time": "2021-12-20T20:50:43.010Z"
   },
   {
    "duration": 7,
    "start_time": "2021-12-20T20:50:43.023Z"
   },
   {
    "duration": 180,
    "start_time": "2021-12-20T20:50:43.032Z"
   },
   {
    "duration": 6,
    "start_time": "2021-12-20T20:50:43.214Z"
   },
   {
    "duration": 11,
    "start_time": "2021-12-20T20:50:43.566Z"
   },
   {
    "duration": 5,
    "start_time": "2021-12-20T20:50:43.578Z"
   },
   {
    "duration": 6,
    "start_time": "2021-12-20T20:50:43.585Z"
   },
   {
    "duration": 11,
    "start_time": "2021-12-20T20:50:43.593Z"
   },
   {
    "duration": 7,
    "start_time": "2021-12-20T20:50:43.606Z"
   },
   {
    "duration": 172,
    "start_time": "2021-12-20T20:50:43.913Z"
   },
   {
    "duration": 307,
    "start_time": "2021-12-20T20:50:44.267Z"
   },
   {
    "duration": 11,
    "start_time": "2021-12-20T20:50:44.583Z"
   },
   {
    "duration": 9,
    "start_time": "2021-12-20T20:50:44.902Z"
   },
   {
    "duration": 175,
    "start_time": "2021-12-20T20:50:44.913Z"
   },
   {
    "duration": 10,
    "start_time": "2021-12-20T20:50:45.305Z"
   },
   {
    "duration": 9,
    "start_time": "2021-12-20T20:50:45.956Z"
   },
   {
    "duration": 10,
    "start_time": "2021-12-20T20:50:45.967Z"
   },
   {
    "duration": 9,
    "start_time": "2021-12-20T20:50:46.290Z"
   },
   {
    "duration": 87,
    "start_time": "2021-12-20T20:51:52.592Z"
   },
   {
    "duration": 9,
    "start_time": "2021-12-20T20:51:52.681Z"
   },
   {
    "duration": 195,
    "start_time": "2021-12-20T20:51:52.692Z"
   },
   {
    "duration": 5,
    "start_time": "2021-12-20T20:51:52.889Z"
   },
   {
    "duration": 29,
    "start_time": "2021-12-20T20:51:52.896Z"
   },
   {
    "duration": 2,
    "start_time": "2021-12-20T20:51:52.927Z"
   },
   {
    "duration": 8,
    "start_time": "2021-12-20T20:51:52.931Z"
   },
   {
    "duration": 35,
    "start_time": "2021-12-20T20:51:52.941Z"
   },
   {
    "duration": 8,
    "start_time": "2021-12-20T20:51:52.977Z"
   },
   {
    "duration": 8,
    "start_time": "2021-12-20T20:51:52.987Z"
   },
   {
    "duration": 9,
    "start_time": "2021-12-20T20:51:52.997Z"
   },
   {
    "duration": 12,
    "start_time": "2021-12-20T20:51:53.008Z"
   },
   {
    "duration": 41,
    "start_time": "2021-12-20T20:51:53.021Z"
   },
   {
    "duration": 5,
    "start_time": "2021-12-20T20:51:53.064Z"
   },
   {
    "duration": 352,
    "start_time": "2021-12-20T20:51:53.070Z"
   },
   {
    "duration": 9,
    "start_time": "2021-12-20T20:51:53.424Z"
   },
   {
    "duration": 9,
    "start_time": "2021-12-20T20:51:53.435Z"
   },
   {
    "duration": 24,
    "start_time": "2021-12-20T20:51:53.461Z"
   },
   {
    "duration": 14,
    "start_time": "2021-12-20T20:51:53.487Z"
   },
   {
    "duration": 35,
    "start_time": "2021-12-20T20:51:53.503Z"
   },
   {
    "duration": 27,
    "start_time": "2021-12-20T20:51:53.540Z"
   },
   {
    "duration": 9,
    "start_time": "2021-12-20T20:51:53.569Z"
   },
   {
    "duration": 6,
    "start_time": "2021-12-20T20:51:53.583Z"
   },
   {
    "duration": 9,
    "start_time": "2021-12-20T20:51:53.592Z"
   },
   {
    "duration": 14,
    "start_time": "2021-12-20T20:51:53.602Z"
   },
   {
    "duration": 52,
    "start_time": "2021-12-20T20:51:53.618Z"
   },
   {
    "duration": 395,
    "start_time": "2021-12-20T20:51:53.671Z"
   },
   {
    "duration": 5,
    "start_time": "2021-12-20T20:51:54.068Z"
   },
   {
    "duration": 13,
    "start_time": "2021-12-20T20:51:54.075Z"
   },
   {
    "duration": 5,
    "start_time": "2021-12-20T20:51:54.089Z"
   },
   {
    "duration": 11,
    "start_time": "2021-12-20T20:51:54.096Z"
   },
   {
    "duration": 6,
    "start_time": "2021-12-20T20:51:54.109Z"
   },
   {
    "duration": 148,
    "start_time": "2021-12-20T20:51:54.116Z"
   },
   {
    "duration": 32,
    "start_time": "2021-12-20T20:51:54.265Z"
   },
   {
    "duration": 7,
    "start_time": "2021-12-20T20:51:54.298Z"
   },
   {
    "duration": 21,
    "start_time": "2021-12-20T20:51:54.306Z"
   },
   {
    "duration": 14,
    "start_time": "2021-12-20T20:51:54.329Z"
   },
   {
    "duration": 32,
    "start_time": "2021-12-20T20:51:54.344Z"
   },
   {
    "duration": 431,
    "start_time": "2021-12-20T20:51:54.377Z"
   },
   {
    "duration": 12,
    "start_time": "2021-12-20T20:51:54.809Z"
   },
   {
    "duration": 7,
    "start_time": "2021-12-20T20:51:54.823Z"
   },
   {
    "duration": 212,
    "start_time": "2021-12-20T20:51:54.832Z"
   },
   {
    "duration": 7,
    "start_time": "2021-12-20T20:51:55.046Z"
   },
   {
    "duration": 13,
    "start_time": "2021-12-20T20:51:55.054Z"
   },
   {
    "duration": 6,
    "start_time": "2021-12-20T20:51:55.069Z"
   },
   {
    "duration": 10,
    "start_time": "2021-12-20T20:51:55.077Z"
   },
   {
    "duration": 15,
    "start_time": "2021-12-20T20:51:55.088Z"
   },
   {
    "duration": 7,
    "start_time": "2021-12-20T20:51:55.105Z"
   },
   {
    "duration": 200,
    "start_time": "2021-12-20T20:51:55.114Z"
   },
   {
    "duration": 447,
    "start_time": "2021-12-20T20:51:55.316Z"
   },
   {
    "duration": 15,
    "start_time": "2021-12-20T20:51:55.765Z"
   },
   {
    "duration": 12,
    "start_time": "2021-12-20T20:51:55.782Z"
   },
   {
    "duration": 267,
    "start_time": "2021-12-20T20:51:55.796Z"
   },
   {
    "duration": 10,
    "start_time": "2021-12-20T20:51:56.065Z"
   },
   {
    "duration": 9,
    "start_time": "2021-12-20T20:51:56.077Z"
   },
   {
    "duration": 10,
    "start_time": "2021-12-20T20:51:56.087Z"
   },
   {
    "duration": 8,
    "start_time": "2021-12-20T20:51:56.099Z"
   },
   {
    "duration": 85,
    "start_time": "2021-12-20T20:52:23.791Z"
   },
   {
    "duration": 10,
    "start_time": "2021-12-20T20:52:23.878Z"
   },
   {
    "duration": 85,
    "start_time": "2021-12-20T20:52:23.890Z"
   },
   {
    "duration": 6,
    "start_time": "2021-12-20T20:52:23.976Z"
   },
   {
    "duration": 27,
    "start_time": "2021-12-20T20:52:23.983Z"
   },
   {
    "duration": 5,
    "start_time": "2021-12-20T20:52:24.012Z"
   },
   {
    "duration": 7,
    "start_time": "2021-12-20T20:52:24.019Z"
   },
   {
    "duration": 49,
    "start_time": "2021-12-20T20:52:24.028Z"
   },
   {
    "duration": 9,
    "start_time": "2021-12-20T20:52:24.079Z"
   },
   {
    "duration": 8,
    "start_time": "2021-12-20T20:52:24.090Z"
   },
   {
    "duration": 10,
    "start_time": "2021-12-20T20:52:24.100Z"
   },
   {
    "duration": 16,
    "start_time": "2021-12-20T20:52:24.111Z"
   },
   {
    "duration": 6,
    "start_time": "2021-12-20T20:52:24.129Z"
   },
   {
    "duration": 5,
    "start_time": "2021-12-20T20:52:24.161Z"
   },
   {
    "duration": 346,
    "start_time": "2021-12-20T20:52:24.167Z"
   },
   {
    "duration": 7,
    "start_time": "2021-12-20T20:52:24.515Z"
   },
   {
    "duration": 9,
    "start_time": "2021-12-20T20:52:24.524Z"
   },
   {
    "duration": 34,
    "start_time": "2021-12-20T20:52:24.535Z"
   },
   {
    "duration": 14,
    "start_time": "2021-12-20T20:52:24.571Z"
   },
   {
    "duration": 30,
    "start_time": "2021-12-20T20:52:24.586Z"
   },
   {
    "duration": 7,
    "start_time": "2021-12-20T20:52:24.617Z"
   },
   {
    "duration": 36,
    "start_time": "2021-12-20T20:52:24.625Z"
   },
   {
    "duration": 5,
    "start_time": "2021-12-20T20:52:24.665Z"
   },
   {
    "duration": 14,
    "start_time": "2021-12-20T20:52:24.672Z"
   },
   {
    "duration": 14,
    "start_time": "2021-12-20T20:52:24.687Z"
   },
   {
    "duration": 9,
    "start_time": "2021-12-20T20:52:24.703Z"
   },
   {
    "duration": 277,
    "start_time": "2021-12-20T20:52:24.714Z"
   },
   {
    "duration": 3,
    "start_time": "2021-12-20T20:52:24.993Z"
   },
   {
    "duration": 13,
    "start_time": "2021-12-20T20:52:24.998Z"
   },
   {
    "duration": 6,
    "start_time": "2021-12-20T20:52:25.012Z"
   },
   {
    "duration": 15,
    "start_time": "2021-12-20T20:52:25.019Z"
   },
   {
    "duration": 26,
    "start_time": "2021-12-20T20:52:25.036Z"
   },
   {
    "duration": 122,
    "start_time": "2021-12-20T20:52:25.064Z"
   },
   {
    "duration": 30,
    "start_time": "2021-12-20T20:52:25.187Z"
   },
   {
    "duration": 6,
    "start_time": "2021-12-20T20:52:25.218Z"
   },
   {
    "duration": 8,
    "start_time": "2021-12-20T20:52:25.226Z"
   },
   {
    "duration": 31,
    "start_time": "2021-12-20T20:52:25.235Z"
   },
   {
    "duration": 18,
    "start_time": "2021-12-20T20:52:25.267Z"
   },
   {
    "duration": 574,
    "start_time": "2021-12-20T20:52:25.287Z"
   },
   {
    "duration": 12,
    "start_time": "2021-12-20T20:52:25.862Z"
   },
   {
    "duration": 7,
    "start_time": "2021-12-20T20:52:25.875Z"
   },
   {
    "duration": 182,
    "start_time": "2021-12-20T20:52:25.883Z"
   },
   {
    "duration": 7,
    "start_time": "2021-12-20T20:52:26.067Z"
   },
   {
    "duration": 13,
    "start_time": "2021-12-20T20:52:26.076Z"
   },
   {
    "duration": 4,
    "start_time": "2021-12-20T20:52:26.091Z"
   },
   {
    "duration": 5,
    "start_time": "2021-12-20T20:52:26.097Z"
   },
   {
    "duration": 13,
    "start_time": "2021-12-20T20:52:26.104Z"
   },
   {
    "duration": 41,
    "start_time": "2021-12-20T20:52:26.119Z"
   },
   {
    "duration": 181,
    "start_time": "2021-12-20T20:52:26.162Z"
   },
   {
    "duration": 344,
    "start_time": "2021-12-20T20:52:26.345Z"
   },
   {
    "duration": 15,
    "start_time": "2021-12-20T20:52:26.691Z"
   },
   {
    "duration": 8,
    "start_time": "2021-12-20T20:52:26.708Z"
   },
   {
    "duration": 207,
    "start_time": "2021-12-20T20:52:26.718Z"
   },
   {
    "duration": 11,
    "start_time": "2021-12-20T20:52:26.927Z"
   },
   {
    "duration": 20,
    "start_time": "2021-12-20T20:52:26.940Z"
   },
   {
    "duration": 11,
    "start_time": "2021-12-20T20:52:26.962Z"
   },
   {
    "duration": 7,
    "start_time": "2021-12-20T20:52:26.975Z"
   },
   {
    "duration": 157,
    "start_time": "2021-12-20T20:52:55.513Z"
   },
   {
    "duration": 168,
    "start_time": "2021-12-20T20:53:01.362Z"
   },
   {
    "duration": 307,
    "start_time": "2021-12-20T20:55:27.882Z"
   },
   {
    "duration": 312,
    "start_time": "2021-12-20T20:55:39.282Z"
   },
   {
    "duration": 358,
    "start_time": "2021-12-20T20:55:46.498Z"
   },
   {
    "duration": 340,
    "start_time": "2021-12-20T20:55:58.498Z"
   },
   {
    "duration": 451,
    "start_time": "2021-12-20T20:56:08.538Z"
   },
   {
    "duration": 16,
    "start_time": "2021-12-20T20:58:57.583Z"
   },
   {
    "duration": 19,
    "start_time": "2021-12-20T20:59:28.508Z"
   },
   {
    "duration": 16,
    "start_time": "2021-12-20T20:59:39.270Z"
   },
   {
    "duration": 16,
    "start_time": "2021-12-20T21:00:04.397Z"
   },
   {
    "duration": 375,
    "start_time": "2021-12-21T15:07:02.974Z"
   },
   {
    "duration": 315,
    "start_time": "2021-12-21T15:07:30.574Z"
   },
   {
    "duration": 1021,
    "start_time": "2021-12-21T15:07:37.732Z"
   },
   {
    "duration": 16,
    "start_time": "2021-12-21T15:07:38.755Z"
   },
   {
    "duration": 127,
    "start_time": "2021-12-21T15:07:38.774Z"
   },
   {
    "duration": 19,
    "start_time": "2021-12-21T15:07:38.904Z"
   },
   {
    "duration": 35,
    "start_time": "2021-12-21T15:07:38.925Z"
   },
   {
    "duration": 8,
    "start_time": "2021-12-21T15:07:38.963Z"
   },
   {
    "duration": 6,
    "start_time": "2021-12-21T15:07:38.974Z"
   },
   {
    "duration": 68,
    "start_time": "2021-12-21T15:07:38.983Z"
   },
   {
    "duration": 12,
    "start_time": "2021-12-21T15:07:39.054Z"
   },
   {
    "duration": 9,
    "start_time": "2021-12-21T15:07:39.068Z"
   },
   {
    "duration": 8,
    "start_time": "2021-12-21T15:07:39.080Z"
   },
   {
    "duration": 44,
    "start_time": "2021-12-21T15:07:39.090Z"
   },
   {
    "duration": 8,
    "start_time": "2021-12-21T15:07:39.136Z"
   },
   {
    "duration": 8,
    "start_time": "2021-12-21T15:07:39.146Z"
   },
   {
    "duration": 568,
    "start_time": "2021-12-21T15:07:39.156Z"
   },
   {
    "duration": 11,
    "start_time": "2021-12-21T15:07:39.726Z"
   },
   {
    "duration": 12,
    "start_time": "2021-12-21T15:07:39.740Z"
   },
   {
    "duration": 24,
    "start_time": "2021-12-21T15:07:39.755Z"
   },
   {
    "duration": 56,
    "start_time": "2021-12-21T15:07:39.782Z"
   },
   {
    "duration": 44,
    "start_time": "2021-12-21T15:07:39.841Z"
   },
   {
    "duration": 10,
    "start_time": "2021-12-21T15:07:39.888Z"
   },
   {
    "duration": 12,
    "start_time": "2021-12-21T15:07:39.924Z"
   },
   {
    "duration": 8,
    "start_time": "2021-12-21T15:07:39.942Z"
   },
   {
    "duration": 12,
    "start_time": "2021-12-21T15:07:39.954Z"
   },
   {
    "duration": 57,
    "start_time": "2021-12-21T15:07:39.968Z"
   },
   {
    "duration": 15,
    "start_time": "2021-12-21T15:07:40.027Z"
   },
   {
    "duration": 473,
    "start_time": "2021-12-21T15:07:40.044Z"
   },
   {
    "duration": 7,
    "start_time": "2021-12-21T15:07:40.519Z"
   },
   {
    "duration": 19,
    "start_time": "2021-12-21T15:07:40.529Z"
   },
   {
    "duration": 20,
    "start_time": "2021-12-21T15:07:40.550Z"
   },
   {
    "duration": 20,
    "start_time": "2021-12-21T15:07:40.573Z"
   },
   {
    "duration": 32,
    "start_time": "2021-12-21T15:07:40.596Z"
   },
   {
    "duration": 188,
    "start_time": "2021-12-21T15:07:40.630Z"
   },
   {
    "duration": 44,
    "start_time": "2021-12-21T15:07:40.824Z"
   },
   {
    "duration": 10,
    "start_time": "2021-12-21T15:07:40.871Z"
   },
   {
    "duration": 41,
    "start_time": "2021-12-21T15:07:40.884Z"
   },
   {
    "duration": 17,
    "start_time": "2021-12-21T15:07:40.929Z"
   },
   {
    "duration": 27,
    "start_time": "2021-12-21T15:07:40.949Z"
   },
   {
    "duration": 824,
    "start_time": "2021-12-21T15:07:40.979Z"
   },
   {
    "duration": 29,
    "start_time": "2021-12-21T15:07:41.807Z"
   },
   {
    "duration": 12,
    "start_time": "2021-12-21T15:07:41.839Z"
   },
   {
    "duration": 315,
    "start_time": "2021-12-21T15:07:41.854Z"
   },
   {
    "duration": 11,
    "start_time": "2021-12-21T15:07:42.171Z"
   },
   {
    "duration": 15,
    "start_time": "2021-12-21T15:07:42.184Z"
   },
   {
    "duration": 26,
    "start_time": "2021-12-21T15:07:42.202Z"
   },
   {
    "duration": 18,
    "start_time": "2021-12-21T15:07:42.231Z"
   },
   {
    "duration": 19,
    "start_time": "2021-12-21T15:07:42.251Z"
   },
   {
    "duration": 12,
    "start_time": "2021-12-21T15:07:42.273Z"
   },
   {
    "duration": 329,
    "start_time": "2021-12-21T15:07:42.287Z"
   },
   {
    "duration": 550,
    "start_time": "2021-12-21T15:07:42.618Z"
   },
   {
    "duration": 18,
    "start_time": "2021-12-21T15:07:43.171Z"
   },
   {
    "duration": 36,
    "start_time": "2021-12-21T15:07:43.192Z"
   },
   {
    "duration": 310,
    "start_time": "2021-12-21T15:07:43.230Z"
   },
   {
    "duration": 13,
    "start_time": "2021-12-21T15:07:43.542Z"
   },
   {
    "duration": 10,
    "start_time": "2021-12-21T15:07:43.558Z"
   },
   {
    "duration": 15,
    "start_time": "2021-12-21T15:07:43.571Z"
   },
   {
    "duration": 43,
    "start_time": "2021-12-21T15:07:43.588Z"
   },
   {
    "duration": 315,
    "start_time": "2021-12-21T15:07:43.634Z"
   },
   {
    "duration": 575,
    "start_time": "2021-12-21T15:07:43.952Z"
   },
   {
    "duration": 23,
    "start_time": "2021-12-21T15:07:44.529Z"
   },
   {
    "duration": 383,
    "start_time": "2021-12-21T15:07:44.555Z"
   },
   {
    "duration": 8,
    "start_time": "2021-12-21T15:10:24.263Z"
   },
   {
    "duration": 104,
    "start_time": "2021-12-21T15:10:40.224Z"
   },
   {
    "duration": 8,
    "start_time": "2021-12-21T15:10:50.709Z"
   },
   {
    "duration": 819,
    "start_time": "2021-12-21T15:14:38.329Z"
   },
   {
    "duration": 431,
    "start_time": "2021-12-21T15:14:53.105Z"
   },
   {
    "duration": 477,
    "start_time": "2021-12-21T15:14:58.831Z"
   },
   {
    "duration": 12,
    "start_time": "2021-12-21T15:15:41.167Z"
   },
   {
    "duration": 320,
    "start_time": "2021-12-21T15:19:09.932Z"
   },
   {
    "duration": 393,
    "start_time": "2021-12-21T15:19:16.219Z"
   },
   {
    "duration": 346,
    "start_time": "2021-12-21T15:20:35.827Z"
   },
   {
    "duration": 336,
    "start_time": "2021-12-21T15:22:42.542Z"
   },
   {
    "duration": 11,
    "start_time": "2021-12-21T15:26:16.893Z"
   },
   {
    "duration": 1107,
    "start_time": "2021-12-21T15:29:13.817Z"
   },
   {
    "duration": 20,
    "start_time": "2021-12-21T15:29:49.448Z"
   },
   {
    "duration": 20,
    "start_time": "2021-12-21T15:30:09.217Z"
   },
   {
    "duration": 20,
    "start_time": "2021-12-21T15:30:37.932Z"
   },
   {
    "duration": 20,
    "start_time": "2021-12-21T15:30:55.224Z"
   },
   {
    "duration": 20,
    "start_time": "2021-12-21T15:31:08.783Z"
   },
   {
    "duration": 24,
    "start_time": "2021-12-21T15:31:22.064Z"
   },
   {
    "duration": 28,
    "start_time": "2021-12-21T15:31:38.224Z"
   },
   {
    "duration": 21,
    "start_time": "2021-12-21T15:31:51.474Z"
   },
   {
    "duration": 23,
    "start_time": "2021-12-21T15:31:59.785Z"
   },
   {
    "duration": 25,
    "start_time": "2021-12-21T15:32:10.856Z"
   },
   {
    "duration": 527,
    "start_time": "2021-12-21T15:32:21.531Z"
   },
   {
    "duration": 633,
    "start_time": "2021-12-21T15:32:33.473Z"
   },
   {
    "duration": 457,
    "start_time": "2021-12-21T15:32:57.209Z"
   },
   {
    "duration": 562,
    "start_time": "2021-12-21T15:33:05.987Z"
   },
   {
    "duration": 499,
    "start_time": "2021-12-21T15:33:18.563Z"
   },
   {
    "duration": 25,
    "start_time": "2021-12-21T15:33:39.002Z"
   },
   {
    "duration": 26,
    "start_time": "2021-12-21T15:34:05.051Z"
   },
   {
    "duration": 602,
    "start_time": "2021-12-21T15:34:27.475Z"
   },
   {
    "duration": 610,
    "start_time": "2021-12-21T15:34:38.826Z"
   },
   {
    "duration": 525,
    "start_time": "2021-12-21T15:39:21.144Z"
   },
   {
    "duration": 24,
    "start_time": "2021-12-21T15:39:42.975Z"
   },
   {
    "duration": 285,
    "start_time": "2021-12-21T15:47:40.138Z"
   },
   {
    "duration": 397,
    "start_time": "2021-12-21T15:47:52.936Z"
   },
   {
    "duration": 294,
    "start_time": "2021-12-21T15:48:05.786Z"
   },
   {
    "duration": 298,
    "start_time": "2021-12-21T15:48:26.874Z"
   },
   {
    "duration": 408,
    "start_time": "2021-12-21T15:48:42.450Z"
   },
   {
    "duration": 112,
    "start_time": "2021-12-21T15:49:00.251Z"
   },
   {
    "duration": 308,
    "start_time": "2021-12-21T15:49:06.818Z"
   },
   {
    "duration": 331,
    "start_time": "2021-12-21T15:49:22.857Z"
   },
   {
    "duration": 335,
    "start_time": "2021-12-21T15:49:27.919Z"
   },
   {
    "duration": 318,
    "start_time": "2021-12-21T15:49:36.018Z"
   },
   {
    "duration": 305,
    "start_time": "2021-12-21T15:49:47.648Z"
   },
   {
    "duration": 446,
    "start_time": "2021-12-21T15:49:54.546Z"
   },
   {
    "duration": 394,
    "start_time": "2021-12-21T15:50:17.860Z"
   },
   {
    "duration": 319,
    "start_time": "2021-12-21T15:50:25.675Z"
   },
   {
    "duration": 364,
    "start_time": "2021-12-21T15:50:45.501Z"
   },
   {
    "duration": 374,
    "start_time": "2021-12-21T15:50:52.770Z"
   },
   {
    "duration": 478,
    "start_time": "2021-12-21T15:50:58.348Z"
   },
   {
    "duration": 337,
    "start_time": "2021-12-21T15:51:29.700Z"
   },
   {
    "duration": 7,
    "start_time": "2021-12-21T15:51:56.459Z"
   },
   {
    "duration": 108,
    "start_time": "2021-12-21T15:53:10.438Z"
   },
   {
    "duration": 309,
    "start_time": "2021-12-21T15:53:17.781Z"
   },
   {
    "duration": 306,
    "start_time": "2021-12-21T15:53:28.722Z"
   },
   {
    "duration": 545,
    "start_time": "2021-12-21T15:53:40.629Z"
   },
   {
    "duration": 410,
    "start_time": "2021-12-21T15:53:46.029Z"
   },
   {
    "duration": 417,
    "start_time": "2021-12-21T15:53:53.910Z"
   },
   {
    "duration": 295,
    "start_time": "2021-12-21T15:53:59.834Z"
   },
   {
    "duration": 323,
    "start_time": "2021-12-21T15:54:05.828Z"
   },
   {
    "duration": 113,
    "start_time": "2021-12-21T15:54:24.352Z"
   },
   {
    "duration": 366,
    "start_time": "2021-12-21T15:54:38.109Z"
   },
   {
    "duration": 322,
    "start_time": "2021-12-21T15:55:00.983Z"
   },
   {
    "duration": 300,
    "start_time": "2021-12-21T15:55:06.982Z"
   },
   {
    "duration": 453,
    "start_time": "2021-12-21T15:55:15.046Z"
   },
   {
    "duration": 444,
    "start_time": "2021-12-21T15:55:33.213Z"
   },
   {
    "duration": 330,
    "start_time": "2021-12-21T15:55:41.961Z"
   },
   {
    "duration": 387,
    "start_time": "2021-12-21T15:55:57.367Z"
   },
   {
    "duration": 444,
    "start_time": "2021-12-21T15:56:15.110Z"
   },
   {
    "duration": 557,
    "start_time": "2021-12-21T15:56:53.321Z"
   },
   {
    "duration": 213,
    "start_time": "2021-12-21T15:57:04.349Z"
   },
   {
    "duration": 222,
    "start_time": "2021-12-21T15:57:10.968Z"
   },
   {
    "duration": 223,
    "start_time": "2021-12-21T15:57:46.047Z"
   },
   {
    "duration": 473,
    "start_time": "2021-12-21T15:58:11.392Z"
   },
   {
    "duration": 426,
    "start_time": "2021-12-21T15:58:23.264Z"
   },
   {
    "duration": 343,
    "start_time": "2021-12-21T15:58:30.375Z"
   },
   {
    "duration": 595,
    "start_time": "2021-12-21T16:01:26.160Z"
   },
   {
    "duration": 452,
    "start_time": "2021-12-21T16:02:19.131Z"
   },
   {
    "duration": 11,
    "start_time": "2021-12-21T16:03:16.593Z"
   },
   {
    "duration": 13,
    "start_time": "2021-12-21T16:03:37.835Z"
   },
   {
    "duration": 1869,
    "start_time": "2021-12-21T16:04:58.716Z"
   },
   {
    "duration": 12,
    "start_time": "2021-12-21T16:05:13.714Z"
   },
   {
    "duration": 16,
    "start_time": "2021-12-21T16:05:35.619Z"
   },
   {
    "duration": 594,
    "start_time": "2021-12-21T16:51:15.018Z"
   },
   {
    "duration": 414,
    "start_time": "2021-12-21T16:51:50.012Z"
   },
   {
    "duration": 407,
    "start_time": "2021-12-21T16:52:28.586Z"
   },
   {
    "duration": 131,
    "start_time": "2021-12-21T16:57:21.135Z"
   },
   {
    "duration": 25,
    "start_time": "2021-12-21T16:57:33.790Z"
   },
   {
    "duration": 25,
    "start_time": "2021-12-21T16:59:08.838Z"
   },
   {
    "duration": 353,
    "start_time": "2021-12-21T17:01:58.217Z"
   },
   {
    "duration": 417,
    "start_time": "2021-12-21T17:04:26.754Z"
   },
   {
    "duration": 769,
    "start_time": "2021-12-21T17:05:17.547Z"
   },
   {
    "duration": 740,
    "start_time": "2021-12-21T17:06:07.188Z"
   },
   {
    "duration": 1349,
    "start_time": "2021-12-21T17:06:47.043Z"
   },
   {
    "duration": 738,
    "start_time": "2021-12-21T17:06:54.403Z"
   },
   {
    "duration": 481,
    "start_time": "2021-12-21T17:07:16.669Z"
   },
   {
    "duration": 421,
    "start_time": "2021-12-21T17:07:27.451Z"
   },
   {
    "duration": 421,
    "start_time": "2021-12-21T17:07:37.152Z"
   },
   {
    "duration": 470,
    "start_time": "2021-12-21T17:07:54.940Z"
   },
   {
    "duration": 480,
    "start_time": "2021-12-21T17:08:07.347Z"
   },
   {
    "duration": 25,
    "start_time": "2021-12-21T17:09:18.553Z"
   },
   {
    "duration": 31,
    "start_time": "2021-12-21T17:09:50.221Z"
   },
   {
    "duration": 24,
    "start_time": "2021-12-21T17:10:09.981Z"
   },
   {
    "duration": 24,
    "start_time": "2021-12-21T17:10:21.635Z"
   },
   {
    "duration": 25,
    "start_time": "2021-12-21T17:10:32.766Z"
   },
   {
    "duration": 23,
    "start_time": "2021-12-21T17:10:41.366Z"
   },
   {
    "duration": 25,
    "start_time": "2021-12-21T17:11:01.014Z"
   },
   {
    "duration": 24,
    "start_time": "2021-12-21T17:11:16.444Z"
   },
   {
    "duration": 24,
    "start_time": "2021-12-21T17:11:27.945Z"
   },
   {
    "duration": 24,
    "start_time": "2021-12-21T17:11:36.308Z"
   },
   {
    "duration": 24,
    "start_time": "2021-12-21T17:11:44.237Z"
   },
   {
    "duration": 26,
    "start_time": "2021-12-21T17:11:53.430Z"
   },
   {
    "duration": 24,
    "start_time": "2021-12-21T17:12:03.232Z"
   },
   {
    "duration": 25,
    "start_time": "2021-12-21T17:12:22.497Z"
   },
   {
    "duration": 25,
    "start_time": "2021-12-21T17:12:33.350Z"
   },
   {
    "duration": 25,
    "start_time": "2021-12-21T17:12:46.214Z"
   },
   {
    "duration": 26,
    "start_time": "2021-12-21T17:13:02.646Z"
   },
   {
    "duration": 27,
    "start_time": "2021-12-21T17:13:15.072Z"
   },
   {
    "duration": 402,
    "start_time": "2021-12-21T17:20:38.924Z"
   },
   {
    "duration": 432,
    "start_time": "2021-12-21T17:20:58.094Z"
   },
   {
    "duration": 418,
    "start_time": "2021-12-21T17:22:07.099Z"
   },
   {
    "duration": 420,
    "start_time": "2021-12-21T17:22:19.050Z"
   },
   {
    "duration": 400,
    "start_time": "2021-12-21T17:23:41.399Z"
   },
   {
    "duration": 422,
    "start_time": "2021-12-21T17:23:50.707Z"
   },
   {
    "duration": 271,
    "start_time": "2021-12-21T17:24:01.677Z"
   },
   {
    "duration": 273,
    "start_time": "2021-12-21T17:24:16.796Z"
   },
   {
    "duration": 273,
    "start_time": "2021-12-21T17:24:21.332Z"
   },
   {
    "duration": 273,
    "start_time": "2021-12-21T17:24:37.197Z"
   },
   {
    "duration": 26,
    "start_time": "2021-12-21T17:29:07.440Z"
   },
   {
    "duration": 104,
    "start_time": "2021-12-21T17:34:29.530Z"
   },
   {
    "duration": 18,
    "start_time": "2021-12-21T17:35:10.778Z"
   },
   {
    "duration": 303,
    "start_time": "2021-12-21T17:35:37.157Z"
   },
   {
    "duration": 217,
    "start_time": "2021-12-21T17:36:23.581Z"
   },
   {
    "duration": 315,
    "start_time": "2021-12-21T17:36:52.090Z"
   },
   {
    "duration": 24,
    "start_time": "2021-12-21T17:37:03.630Z"
   },
   {
    "duration": 463,
    "start_time": "2021-12-21T17:38:26.548Z"
   },
   {
    "duration": 385,
    "start_time": "2021-12-21T17:38:52.908Z"
   },
   {
    "duration": 312,
    "start_time": "2021-12-21T17:39:08.588Z"
   },
   {
    "duration": 103,
    "start_time": "2021-12-21T17:40:19.936Z"
   },
   {
    "duration": 144,
    "start_time": "2021-12-21T17:40:32.479Z"
   },
   {
    "duration": 115,
    "start_time": "2021-12-21T17:40:40.286Z"
   },
   {
    "duration": 12,
    "start_time": "2021-12-21T17:40:53.997Z"
   },
   {
    "duration": 8086,
    "start_time": "2021-12-21T17:42:41.271Z"
   },
   {
    "duration": 8777,
    "start_time": "2021-12-21T17:43:05.319Z"
   },
   {
    "duration": 6367,
    "start_time": "2021-12-21T17:43:23.305Z"
   },
   {
    "duration": 10,
    "start_time": "2021-12-21T17:44:53.136Z"
   },
   {
    "duration": 303,
    "start_time": "2021-12-21T17:47:01.978Z"
   },
   {
    "duration": 15,
    "start_time": "2021-12-21T17:47:11.035Z"
   },
   {
    "duration": 441,
    "start_time": "2021-12-21T17:50:11.221Z"
   },
   {
    "duration": 350,
    "start_time": "2021-12-21T17:50:33.030Z"
   },
   {
    "duration": 343,
    "start_time": "2021-12-21T17:50:47.519Z"
   },
   {
    "duration": 107,
    "start_time": "2021-12-21T17:53:31.071Z"
   },
   {
    "duration": 101,
    "start_time": "2021-12-21T17:53:38.382Z"
   },
   {
    "duration": 578,
    "start_time": "2021-12-21T17:53:55.606Z"
   },
   {
    "duration": 610,
    "start_time": "2021-12-21T17:54:09.441Z"
   },
   {
    "duration": 10,
    "start_time": "2021-12-21T17:58:37.539Z"
   },
   {
    "duration": 50,
    "start_time": "2021-12-21T17:58:57.452Z"
   },
   {
    "duration": 20,
    "start_time": "2021-12-21T17:59:40.557Z"
   },
   {
    "duration": 27,
    "start_time": "2021-12-21T18:08:37.480Z"
   },
   {
    "duration": 101,
    "start_time": "2021-12-21T18:10:58.553Z"
   },
   {
    "duration": 698,
    "start_time": "2021-12-21T18:11:53.799Z"
   },
   {
    "duration": 118,
    "start_time": "2021-12-21T18:22:08.527Z"
   },
   {
    "duration": 668,
    "start_time": "2021-12-21T18:25:47.357Z"
   },
   {
    "duration": 467,
    "start_time": "2021-12-21T18:26:37.920Z"
   },
   {
    "duration": 405,
    "start_time": "2021-12-21T18:27:03.237Z"
   },
   {
    "duration": 398,
    "start_time": "2021-12-21T18:27:08.641Z"
   },
   {
    "duration": 422,
    "start_time": "2021-12-21T18:27:18.594Z"
   },
   {
    "duration": 103,
    "start_time": "2021-12-21T18:30:58.405Z"
   },
   {
    "duration": 10,
    "start_time": "2021-12-21T18:31:03.859Z"
   },
   {
    "duration": 8,
    "start_time": "2021-12-21T18:31:14.539Z"
   },
   {
    "duration": 623,
    "start_time": "2021-12-21T18:33:29.573Z"
   },
   {
    "duration": 311,
    "start_time": "2021-12-21T18:35:16.552Z"
   },
   {
    "duration": 528,
    "start_time": "2021-12-21T18:35:27.612Z"
   },
   {
    "duration": 637,
    "start_time": "2021-12-21T18:35:41.853Z"
   },
   {
    "duration": 8,
    "start_time": "2021-12-21T18:37:45.343Z"
   },
   {
    "duration": 647,
    "start_time": "2021-12-21T18:41:18.729Z"
   },
   {
    "duration": 108,
    "start_time": "2021-12-21T18:42:47.698Z"
   },
   {
    "duration": 6,
    "start_time": "2021-12-21T18:42:58.129Z"
   },
   {
    "duration": 107,
    "start_time": "2021-12-21T18:45:48.492Z"
   },
   {
    "duration": 874,
    "start_time": "2021-12-21T18:46:00.005Z"
   },
   {
    "duration": 9860,
    "start_time": "2021-12-21T18:48:05.230Z"
   },
   {
    "duration": 103,
    "start_time": "2021-12-21T18:53:57.355Z"
   },
   {
    "duration": 8458,
    "start_time": "2021-12-21T18:54:09.770Z"
   },
   {
    "duration": 574,
    "start_time": "2021-12-21T18:54:30.463Z"
   },
   {
    "duration": 596,
    "start_time": "2021-12-21T18:56:29.991Z"
   },
   {
    "duration": 657,
    "start_time": "2021-12-21T18:56:41.644Z"
   },
   {
    "duration": 647,
    "start_time": "2021-12-21T19:00:55.309Z"
   },
   {
    "duration": 658,
    "start_time": "2021-12-21T19:01:42.024Z"
   },
   {
    "duration": 7,
    "start_time": "2021-12-21T19:02:26.879Z"
   },
   {
    "duration": 7360,
    "start_time": "2021-12-21T19:05:04.455Z"
   },
   {
    "duration": 6736,
    "start_time": "2021-12-21T19:05:28.096Z"
   },
   {
    "duration": 6929,
    "start_time": "2021-12-21T19:06:03.765Z"
   },
   {
    "duration": 7323,
    "start_time": "2021-12-21T19:06:22.321Z"
   },
   {
    "duration": 15,
    "start_time": "2021-12-21T19:11:43.124Z"
   },
   {
    "duration": 16,
    "start_time": "2021-12-21T19:11:55.717Z"
   },
   {
    "duration": 102,
    "start_time": "2021-12-21T19:18:44.440Z"
   },
   {
    "duration": 355,
    "start_time": "2021-12-21T19:19:08.874Z"
   },
   {
    "duration": 363,
    "start_time": "2021-12-21T19:20:18.907Z"
   },
   {
    "duration": 447,
    "start_time": "2021-12-21T19:20:42.541Z"
   },
   {
    "duration": 43,
    "start_time": "2021-12-21T19:21:14.589Z"
   },
   {
    "duration": 22,
    "start_time": "2021-12-21T19:21:23.165Z"
   },
   {
    "duration": 312,
    "start_time": "2021-12-21T19:26:24.141Z"
   },
   {
    "duration": 45,
    "start_time": "2021-12-21T19:26:58.533Z"
   },
   {
    "duration": 44,
    "start_time": "2021-12-21T19:27:13.078Z"
   },
   {
    "duration": 701,
    "start_time": "2021-12-21T19:30:01.692Z"
   },
   {
    "duration": 28,
    "start_time": "2021-12-21T19:30:02.396Z"
   },
   {
    "duration": 111,
    "start_time": "2021-12-21T19:30:02.427Z"
   },
   {
    "duration": 10,
    "start_time": "2021-12-21T19:30:02.541Z"
   },
   {
    "duration": 41,
    "start_time": "2021-12-21T19:30:02.553Z"
   },
   {
    "duration": 32,
    "start_time": "2021-12-21T19:30:02.597Z"
   },
   {
    "duration": 6,
    "start_time": "2021-12-21T19:30:02.631Z"
   },
   {
    "duration": 31,
    "start_time": "2021-12-21T19:30:02.641Z"
   },
   {
    "duration": 12,
    "start_time": "2021-12-21T19:30:02.675Z"
   },
   {
    "duration": 7,
    "start_time": "2021-12-21T19:30:02.723Z"
   },
   {
    "duration": 38,
    "start_time": "2021-12-21T19:30:02.733Z"
   },
   {
    "duration": 15,
    "start_time": "2021-12-21T19:30:02.774Z"
   },
   {
    "duration": 9,
    "start_time": "2021-12-21T19:30:02.791Z"
   },
   {
    "duration": 12,
    "start_time": "2021-12-21T19:30:02.802Z"
   },
   {
    "duration": 577,
    "start_time": "2021-12-21T19:30:02.824Z"
   },
   {
    "duration": 25,
    "start_time": "2021-12-21T19:30:03.404Z"
   },
   {
    "duration": 28,
    "start_time": "2021-12-21T19:30:03.431Z"
   },
   {
    "duration": 39,
    "start_time": "2021-12-21T19:30:03.461Z"
   },
   {
    "duration": 32,
    "start_time": "2021-12-21T19:30:03.503Z"
   },
   {
    "duration": 41,
    "start_time": "2021-12-21T19:30:03.538Z"
   },
   {
    "duration": 11,
    "start_time": "2021-12-21T19:30:03.582Z"
   },
   {
    "duration": 35,
    "start_time": "2021-12-21T19:30:03.595Z"
   },
   {
    "duration": 8,
    "start_time": "2021-12-21T19:30:03.636Z"
   },
   {
    "duration": 11,
    "start_time": "2021-12-21T19:30:03.647Z"
   },
   {
    "duration": 19,
    "start_time": "2021-12-21T19:30:03.660Z"
   },
   {
    "duration": 50,
    "start_time": "2021-12-21T19:30:03.681Z"
   },
   {
    "duration": 447,
    "start_time": "2021-12-21T19:30:03.734Z"
   },
   {
    "duration": 7,
    "start_time": "2021-12-21T19:30:04.184Z"
   },
   {
    "duration": 39,
    "start_time": "2021-12-21T19:30:04.193Z"
   },
   {
    "duration": 9,
    "start_time": "2021-12-21T19:30:04.234Z"
   },
   {
    "duration": 18,
    "start_time": "2021-12-21T19:30:04.245Z"
   },
   {
    "duration": 9,
    "start_time": "2021-12-21T19:30:04.266Z"
   },
   {
    "duration": 200,
    "start_time": "2021-12-21T19:30:04.278Z"
   },
   {
    "duration": 54,
    "start_time": "2021-12-21T19:30:04.481Z"
   },
   {
    "duration": 10,
    "start_time": "2021-12-21T19:30:04.538Z"
   },
   {
    "duration": 34,
    "start_time": "2021-12-21T19:30:04.551Z"
   },
   {
    "duration": 34,
    "start_time": "2021-12-21T19:30:04.587Z"
   },
   {
    "duration": 29,
    "start_time": "2021-12-21T19:30:04.623Z"
   },
   {
    "duration": 724,
    "start_time": "2021-12-21T19:30:04.654Z"
   },
   {
    "duration": 15,
    "start_time": "2021-12-21T19:30:05.381Z"
   },
   {
    "duration": 32,
    "start_time": "2021-12-21T19:30:05.399Z"
   },
   {
    "duration": 295,
    "start_time": "2021-12-21T19:30:05.434Z"
   },
   {
    "duration": 11,
    "start_time": "2021-12-21T19:30:05.731Z"
   },
   {
    "duration": 32,
    "start_time": "2021-12-21T19:30:05.745Z"
   },
   {
    "duration": 21,
    "start_time": "2021-12-21T19:30:05.779Z"
   },
   {
    "duration": 43,
    "start_time": "2021-12-21T19:30:05.802Z"
   },
   {
    "duration": 36,
    "start_time": "2021-12-21T19:30:05.848Z"
   },
   {
    "duration": 31,
    "start_time": "2021-12-21T19:30:05.887Z"
   },
   {
    "duration": 310,
    "start_time": "2021-12-21T19:30:05.921Z"
   },
   {
    "duration": 547,
    "start_time": "2021-12-21T19:30:06.234Z"
   },
   {
    "duration": 438,
    "start_time": "2021-12-21T19:30:06.785Z"
   },
   {
    "duration": 285,
    "start_time": "2021-12-21T19:30:07.225Z"
   },
   {
    "duration": 26,
    "start_time": "2021-12-21T19:30:07.513Z"
   },
   {
    "duration": 14,
    "start_time": "2021-12-21T19:30:07.542Z"
   },
   {
    "duration": 328,
    "start_time": "2021-12-21T19:30:07.558Z"
   },
   {
    "duration": 14,
    "start_time": "2021-12-21T19:30:07.889Z"
   },
   {
    "duration": 34,
    "start_time": "2021-12-21T19:30:07.906Z"
   },
   {
    "duration": 32,
    "start_time": "2021-12-21T19:30:07.942Z"
   },
   {
    "duration": 11,
    "start_time": "2021-12-21T19:30:07.976Z"
   },
   {
    "duration": 502,
    "start_time": "2021-12-21T19:30:07.992Z"
   },
   {
    "duration": 393,
    "start_time": "2021-12-21T19:30:08.496Z"
   },
   {
    "duration": 491,
    "start_time": "2021-12-21T19:30:08.892Z"
   },
   {
    "duration": 559,
    "start_time": "2021-12-21T19:30:09.387Z"
   },
   {
    "duration": 39,
    "start_time": "2021-12-21T19:30:09.949Z"
   },
   {
    "duration": 576,
    "start_time": "2021-12-21T19:30:09.991Z"
   },
   {
    "duration": 6,
    "start_time": "2021-12-21T19:30:10.569Z"
   },
   {
    "duration": 15,
    "start_time": "2021-12-21T19:30:10.578Z"
   },
   {
    "duration": 556,
    "start_time": "2021-12-21T19:30:10.595Z"
   },
   {
    "duration": 657,
    "start_time": "2021-12-21T19:30:11.154Z"
   },
   {
    "duration": 27,
    "start_time": "2021-12-21T19:30:11.814Z"
   },
   {
    "duration": 656,
    "start_time": "2021-12-21T19:30:11.847Z"
   },
   {
    "duration": 22,
    "start_time": "2021-12-21T19:30:12.506Z"
   },
   {
    "duration": 667,
    "start_time": "2021-12-21T19:30:12.530Z"
   },
   {
    "duration": 9,
    "start_time": "2021-12-21T19:30:13.199Z"
   },
   {
    "duration": 780,
    "start_time": "2021-12-21T19:30:13.225Z"
   },
   {
    "duration": 17,
    "start_time": "2021-12-21T19:30:14.008Z"
   },
   {
    "duration": 304,
    "start_time": "2021-12-21T19:30:14.029Z"
   },
   {
    "duration": -13558,
    "start_time": "2021-12-21T19:30:27.894Z"
   },
   {
    "duration": -13568,
    "start_time": "2021-12-21T19:30:27.905Z"
   },
   {
    "duration": -13576,
    "start_time": "2021-12-21T19:30:27.915Z"
   },
   {
    "duration": -13586,
    "start_time": "2021-12-21T19:30:27.927Z"
   },
   {
    "duration": -13595,
    "start_time": "2021-12-21T19:30:27.938Z"
   },
   {
    "duration": -13605,
    "start_time": "2021-12-21T19:30:27.949Z"
   },
   {
    "duration": 15,
    "start_time": "2021-12-21T19:30:15.055Z"
   },
   {
    "duration": 51,
    "start_time": "2021-12-21T19:30:15.072Z"
   },
   {
    "duration": 24,
    "start_time": "2021-12-21T19:30:15.775Z"
   },
   {
    "duration": 48,
    "start_time": "2021-12-21T19:30:15.803Z"
   },
   {
    "duration": 2105,
    "start_time": "2021-12-21T19:34:20.186Z"
   },
   {
    "duration": 2120,
    "start_time": "2021-12-21T19:34:44.833Z"
   },
   {
    "duration": 388,
    "start_time": "2021-12-21T19:38:07.973Z"
   },
   {
    "duration": 401,
    "start_time": "2021-12-21T19:38:14.445Z"
   },
   {
    "duration": 332,
    "start_time": "2021-12-21T19:38:59.141Z"
   },
   {
    "duration": 43,
    "start_time": "2021-12-21T19:39:34.735Z"
   },
   {
    "duration": 354,
    "start_time": "2021-12-21T19:39:38.119Z"
   },
   {
    "duration": 2038,
    "start_time": "2021-12-21T19:45:57.201Z"
   },
   {
    "duration": 2226,
    "start_time": "2021-12-21T19:46:17.026Z"
   },
   {
    "duration": 2004,
    "start_time": "2021-12-21T19:48:09.043Z"
   },
   {
    "duration": 2347,
    "start_time": "2021-12-21T19:48:17.290Z"
   },
   {
    "duration": 402,
    "start_time": "2021-12-21T19:55:25.295Z"
   },
   {
    "duration": 11,
    "start_time": "2021-12-21T19:55:30.398Z"
   },
   {
    "duration": 541,
    "start_time": "2021-12-21T19:55:32.431Z"
   },
   {
    "duration": 595,
    "start_time": "2021-12-21T19:56:36.248Z"
   },
   {
    "duration": 636,
    "start_time": "2021-12-21T19:56:44.535Z"
   },
   {
    "duration": 950,
    "start_time": "2021-12-21T19:57:06.607Z"
   },
   {
    "duration": 547,
    "start_time": "2021-12-21T19:57:18.992Z"
   },
   {
    "duration": 486,
    "start_time": "2021-12-21T19:57:25.391Z"
   },
   {
    "duration": 505,
    "start_time": "2021-12-21T19:57:41.888Z"
   },
   {
    "duration": 552,
    "start_time": "2021-12-21T19:57:49.595Z"
   },
   {
    "duration": 547,
    "start_time": "2021-12-21T19:57:56.535Z"
   },
   {
    "duration": 567,
    "start_time": "2021-12-21T19:58:09.400Z"
   },
   {
    "duration": 584,
    "start_time": "2021-12-21T19:59:13.314Z"
   },
   {
    "duration": 140,
    "start_time": "2021-12-21T20:05:41.157Z"
   },
   {
    "duration": 18,
    "start_time": "2021-12-21T20:05:49.623Z"
   },
   {
    "duration": 921,
    "start_time": "2021-12-21T20:07:41.740Z"
   },
   {
    "duration": 7,
    "start_time": "2021-12-21T20:07:57.271Z"
   },
   {
    "duration": 915,
    "start_time": "2021-12-21T20:08:03.438Z"
   },
   {
    "duration": 9,
    "start_time": "2021-12-21T20:08:11.454Z"
   },
   {
    "duration": 918,
    "start_time": "2021-12-21T20:08:38.606Z"
   },
   {
    "duration": 891,
    "start_time": "2021-12-21T20:10:01.232Z"
   },
   {
    "duration": 1004,
    "start_time": "2021-12-21T20:10:15.886Z"
   },
   {
    "duration": 8,
    "start_time": "2021-12-21T20:10:29.016Z"
   },
   {
    "duration": 8208,
    "start_time": "2021-12-21T20:10:44.216Z"
   },
   {
    "duration": 17,
    "start_time": "2021-12-21T20:11:10.870Z"
   },
   {
    "duration": 15,
    "start_time": "2021-12-21T20:11:42.607Z"
   },
   {
    "duration": 31,
    "start_time": "2021-12-21T20:11:59.002Z"
   },
   {
    "duration": 28,
    "start_time": "2021-12-21T20:12:16.409Z"
   },
   {
    "duration": 29,
    "start_time": "2021-12-21T20:12:28.544Z"
   },
   {
    "duration": 22,
    "start_time": "2021-12-21T20:12:54.433Z"
   },
   {
    "duration": 43,
    "start_time": "2021-12-21T20:13:05.258Z"
   },
   {
    "duration": 2269,
    "start_time": "2021-12-21T20:13:11.561Z"
   },
   {
    "duration": 10,
    "start_time": "2021-12-21T20:13:19.051Z"
   },
   {
    "duration": 685,
    "start_time": "2021-12-21T20:13:21.298Z"
   },
   {
    "duration": 668,
    "start_time": "2021-12-21T20:14:01.633Z"
   },
   {
    "duration": 666,
    "start_time": "2021-12-21T20:14:20.571Z"
   },
   {
    "duration": 106,
    "start_time": "2021-12-21T20:15:23.235Z"
   },
   {
    "duration": 596,
    "start_time": "2021-12-21T20:15:26.522Z"
   },
   {
    "duration": 567,
    "start_time": "2021-12-21T20:16:06.267Z"
   },
   {
    "duration": 138,
    "start_time": "2021-12-21T20:16:09.950Z"
   },
   {
    "duration": 108,
    "start_time": "2021-12-21T20:16:31.467Z"
   },
   {
    "duration": 544,
    "start_time": "2021-12-21T20:16:47.787Z"
   },
   {
    "duration": 641,
    "start_time": "2021-12-21T20:17:03.851Z"
   },
   {
    "duration": 742,
    "start_time": "2021-12-21T20:17:22.611Z"
   },
   {
    "duration": 633,
    "start_time": "2021-12-21T20:18:29.701Z"
   },
   {
    "duration": 593,
    "start_time": "2021-12-21T20:18:40.292Z"
   },
   {
    "duration": 551,
    "start_time": "2021-12-21T20:19:39.853Z"
   },
   {
    "duration": 7,
    "start_time": "2021-12-21T20:20:55.831Z"
   },
   {
    "duration": 5086,
    "start_time": "2021-12-21T20:25:23.572Z"
   },
   {
    "duration": 2907,
    "start_time": "2021-12-21T20:29:48.037Z"
   },
   {
    "duration": 20,
    "start_time": "2021-12-21T20:30:38.194Z"
   },
   {
    "duration": 2614,
    "start_time": "2021-12-21T20:30:42.726Z"
   },
   {
    "duration": 18,
    "start_time": "2021-12-21T20:30:58.898Z"
   },
   {
    "duration": 17,
    "start_time": "2021-12-21T20:31:04.492Z"
   },
   {
    "duration": 116,
    "start_time": "2021-12-21T20:49:52.960Z"
   },
   {
    "duration": 18,
    "start_time": "2021-12-21T20:49:53.079Z"
   },
   {
    "duration": 168,
    "start_time": "2021-12-21T20:49:53.099Z"
   },
   {
    "duration": 10,
    "start_time": "2021-12-21T20:49:53.271Z"
   },
   {
    "duration": 69,
    "start_time": "2021-12-21T20:49:53.284Z"
   },
   {
    "duration": 8,
    "start_time": "2021-12-21T20:49:53.355Z"
   },
   {
    "duration": 4,
    "start_time": "2021-12-21T20:49:53.366Z"
   },
   {
    "duration": 66,
    "start_time": "2021-12-21T20:49:53.374Z"
   },
   {
    "duration": 13,
    "start_time": "2021-12-21T20:49:53.443Z"
   },
   {
    "duration": 10,
    "start_time": "2021-12-21T20:49:53.458Z"
   },
   {
    "duration": 7,
    "start_time": "2021-12-21T20:49:53.471Z"
   },
   {
    "duration": 13,
    "start_time": "2021-12-21T20:49:53.524Z"
   },
   {
    "duration": 8,
    "start_time": "2021-12-21T20:49:53.539Z"
   },
   {
    "duration": 6,
    "start_time": "2021-12-21T20:49:53.549Z"
   },
   {
    "duration": 607,
    "start_time": "2021-12-21T20:49:53.557Z"
   },
   {
    "duration": 11,
    "start_time": "2021-12-21T20:49:54.167Z"
   },
   {
    "duration": 12,
    "start_time": "2021-12-21T20:49:54.181Z"
   },
   {
    "duration": 49,
    "start_time": "2021-12-21T20:49:54.195Z"
   },
   {
    "duration": 20,
    "start_time": "2021-12-21T20:49:54.247Z"
   },
   {
    "duration": 72,
    "start_time": "2021-12-21T20:49:54.270Z"
   },
   {
    "duration": 10,
    "start_time": "2021-12-21T20:49:54.345Z"
   },
   {
    "duration": 13,
    "start_time": "2021-12-21T20:49:54.357Z"
   },
   {
    "duration": 8,
    "start_time": "2021-12-21T20:49:54.375Z"
   },
   {
    "duration": 49,
    "start_time": "2021-12-21T20:49:54.386Z"
   },
   {
    "duration": 20,
    "start_time": "2021-12-21T20:49:54.438Z"
   },
   {
    "duration": 16,
    "start_time": "2021-12-21T20:49:54.461Z"
   },
   {
    "duration": 720,
    "start_time": "2021-12-21T20:49:54.480Z"
   },
   {
    "duration": 20,
    "start_time": "2021-12-21T20:49:55.203Z"
   },
   {
    "duration": 15,
    "start_time": "2021-12-21T20:49:55.226Z"
   },
   {
    "duration": 10,
    "start_time": "2021-12-21T20:49:55.244Z"
   },
   {
    "duration": 17,
    "start_time": "2021-12-21T20:49:55.257Z"
   },
   {
    "duration": 54,
    "start_time": "2021-12-21T20:49:55.277Z"
   },
   {
    "duration": 191,
    "start_time": "2021-12-21T20:49:55.334Z"
   },
   {
    "duration": 46,
    "start_time": "2021-12-21T20:49:55.528Z"
   },
   {
    "duration": 10,
    "start_time": "2021-12-21T20:49:55.577Z"
   },
   {
    "duration": 45,
    "start_time": "2021-12-21T20:49:55.589Z"
   },
   {
    "duration": 17,
    "start_time": "2021-12-21T20:49:55.637Z"
   },
   {
    "duration": 24,
    "start_time": "2021-12-21T20:49:55.656Z"
   },
   {
    "duration": 759,
    "start_time": "2021-12-21T20:49:55.682Z"
   },
   {
    "duration": 17,
    "start_time": "2021-12-21T20:49:56.444Z"
   },
   {
    "duration": 11,
    "start_time": "2021-12-21T20:49:56.463Z"
   },
   {
    "duration": 564,
    "start_time": "2021-12-21T20:49:56.477Z"
   },
   {
    "duration": 9,
    "start_time": "2021-12-21T20:49:57.044Z"
   },
   {
    "duration": 13,
    "start_time": "2021-12-21T20:49:57.056Z"
   },
   {
    "duration": 5,
    "start_time": "2021-12-21T20:49:57.072Z"
   },
   {
    "duration": 45,
    "start_time": "2021-12-21T20:49:57.079Z"
   },
   {
    "duration": 24,
    "start_time": "2021-12-21T20:49:57.127Z"
   },
   {
    "duration": 8,
    "start_time": "2021-12-21T20:49:57.154Z"
   },
   {
    "duration": 84,
    "start_time": "2021-12-21T20:49:57.165Z"
   },
   {
    "duration": 624,
    "start_time": "2021-12-21T20:49:57.252Z"
   },
   {
    "duration": 552,
    "start_time": "2021-12-21T20:49:57.878Z"
   },
   {
    "duration": 563,
    "start_time": "2021-12-21T20:49:58.433Z"
   },
   {
    "duration": 540,
    "start_time": "2021-12-21T20:49:58.998Z"
   },
   {
    "duration": 23,
    "start_time": "2021-12-21T20:49:59.540Z"
   },
   {
    "duration": 15,
    "start_time": "2021-12-21T20:49:59.566Z"
   },
   {
    "duration": 588,
    "start_time": "2021-12-21T20:49:59.584Z"
   },
   {
    "duration": 14,
    "start_time": "2021-12-21T20:50:00.174Z"
   },
   {
    "duration": 35,
    "start_time": "2021-12-21T20:50:00.191Z"
   },
   {
    "duration": 16,
    "start_time": "2021-12-21T20:50:00.228Z"
   },
   {
    "duration": 18,
    "start_time": "2021-12-21T20:50:00.247Z"
   },
   {
    "duration": 662,
    "start_time": "2021-12-21T20:50:00.267Z"
   },
   {
    "duration": 366,
    "start_time": "2021-12-21T20:50:00.932Z"
   },
   {
    "duration": 569,
    "start_time": "2021-12-21T20:50:01.301Z"
   },
   {
    "duration": 665,
    "start_time": "2021-12-21T20:50:01.873Z"
   },
   {
    "duration": 28,
    "start_time": "2021-12-21T20:50:02.541Z"
   },
   {
    "duration": 17,
    "start_time": "2021-12-21T20:50:02.572Z"
   },
   {
    "duration": 622,
    "start_time": "2021-12-21T20:50:02.624Z"
   },
   {
    "duration": 8,
    "start_time": "2021-12-21T20:50:03.254Z"
   },
   {
    "duration": 11,
    "start_time": "2021-12-21T20:50:03.265Z"
   },
   {
    "duration": 679,
    "start_time": "2021-12-21T20:50:03.279Z"
   },
   {
    "duration": 622,
    "start_time": "2021-12-21T20:50:03.961Z"
   },
   {
    "duration": 37,
    "start_time": "2021-12-21T20:50:04.586Z"
   },
   {
    "duration": 957,
    "start_time": "2021-12-21T20:50:04.625Z"
   },
   {
    "duration": 10,
    "start_time": "2021-12-21T20:50:05.584Z"
   },
   {
    "duration": 913,
    "start_time": "2021-12-21T20:50:05.596Z"
   },
   {
    "duration": 18,
    "start_time": "2021-12-21T20:50:06.512Z"
   },
   {
    "duration": 933,
    "start_time": "2021-12-21T20:50:06.533Z"
   },
   {
    "duration": 9,
    "start_time": "2021-12-21T20:50:07.469Z"
   },
   {
    "duration": 1006,
    "start_time": "2021-12-21T20:50:07.481Z"
   },
   {
    "duration": 918,
    "start_time": "2021-12-21T20:50:08.490Z"
   },
   {
    "duration": 108,
    "start_time": "2021-12-21T20:50:09.410Z"
   },
   {
    "duration": -6198,
    "start_time": "2021-12-21T20:50:15.718Z"
   },
   {
    "duration": -6210,
    "start_time": "2021-12-21T20:50:15.732Z"
   },
   {
    "duration": -6221,
    "start_time": "2021-12-21T20:50:15.745Z"
   },
   {
    "duration": -6259,
    "start_time": "2021-12-21T20:50:15.784Z"
   },
   {
    "duration": -6270,
    "start_time": "2021-12-21T20:50:15.797Z"
   },
   {
    "duration": -6280,
    "start_time": "2021-12-21T20:50:15.809Z"
   },
   {
    "duration": -6292,
    "start_time": "2021-12-21T20:50:15.822Z"
   },
   {
    "duration": -6302,
    "start_time": "2021-12-21T20:50:15.834Z"
   },
   {
    "duration": -6314,
    "start_time": "2021-12-21T20:50:15.847Z"
   },
   {
    "duration": -6324,
    "start_time": "2021-12-21T20:50:15.859Z"
   },
   {
    "duration": -6336,
    "start_time": "2021-12-21T20:50:15.872Z"
   },
   {
    "duration": -6361,
    "start_time": "2021-12-21T20:50:15.899Z"
   },
   {
    "duration": -6373,
    "start_time": "2021-12-21T20:50:15.912Z"
   },
   {
    "duration": -6385,
    "start_time": "2021-12-21T20:50:15.926Z"
   },
   {
    "duration": -6399,
    "start_time": "2021-12-21T20:50:15.942Z"
   },
   {
    "duration": -6410,
    "start_time": "2021-12-21T20:50:15.954Z"
   },
   {
    "duration": -6422,
    "start_time": "2021-12-21T20:50:15.968Z"
   },
   {
    "duration": -6430,
    "start_time": "2021-12-21T20:50:15.978Z"
   },
   {
    "duration": 9,
    "start_time": "2021-12-21T20:50:37.112Z"
   },
   {
    "duration": 8106,
    "start_time": "2021-12-21T20:50:40.503Z"
   },
   {
    "duration": 18,
    "start_time": "2021-12-21T20:50:52.136Z"
   },
   {
    "duration": 15,
    "start_time": "2021-12-21T20:50:58.123Z"
   },
   {
    "duration": 58,
    "start_time": "2021-12-21T20:50:58.140Z"
   },
   {
    "duration": 22,
    "start_time": "2021-12-21T20:51:02.296Z"
   },
   {
    "duration": 48,
    "start_time": "2021-12-21T20:51:05.905Z"
   },
   {
    "duration": 2248,
    "start_time": "2021-12-21T20:51:08.375Z"
   },
   {
    "duration": 10,
    "start_time": "2021-12-21T20:51:13.608Z"
   },
   {
    "duration": 115,
    "start_time": "2021-12-21T20:51:26.839Z"
   },
   {
    "duration": 686,
    "start_time": "2021-12-21T20:51:36.599Z"
   },
   {
    "duration": 641,
    "start_time": "2021-12-21T20:51:39.865Z"
   },
   {
    "duration": 709,
    "start_time": "2021-12-21T20:51:43.856Z"
   },
   {
    "duration": 2731,
    "start_time": "2021-12-21T20:51:48.552Z"
   },
   {
    "duration": 16,
    "start_time": "2021-12-21T20:51:55.185Z"
   },
   {
    "duration": 2550,
    "start_time": "2021-12-21T20:51:56.793Z"
   },
   {
    "duration": 15,
    "start_time": "2021-12-21T20:52:01.200Z"
   },
   {
    "duration": 4258,
    "start_time": "2021-12-21T20:52:03.644Z"
   },
   {
    "duration": 17,
    "start_time": "2021-12-21T20:52:08.789Z"
   },
   {
    "duration": 496,
    "start_time": "2021-12-21T20:53:33.198Z"
   },
   {
    "duration": 443,
    "start_time": "2021-12-21T20:53:48.986Z"
   },
   {
    "duration": 480,
    "start_time": "2021-12-21T20:54:13.792Z"
   },
   {
    "duration": 481,
    "start_time": "2021-12-21T20:54:25.044Z"
   },
   {
    "duration": 873,
    "start_time": "2021-12-21T20:54:55.252Z"
   },
   {
    "duration": 537,
    "start_time": "2021-12-21T20:55:06.803Z"
   },
   {
    "duration": 601,
    "start_time": "2021-12-21T20:55:36.460Z"
   },
   {
    "duration": 639,
    "start_time": "2021-12-21T20:55:46.436Z"
   },
   {
    "duration": 468,
    "start_time": "2021-12-21T20:55:59.778Z"
   },
   {
    "duration": 1730,
    "start_time": "2021-12-22T09:09:18.526Z"
   },
   {
    "duration": 15,
    "start_time": "2021-12-22T09:09:20.260Z"
   },
   {
    "duration": 128,
    "start_time": "2021-12-22T09:09:20.278Z"
   },
   {
    "duration": 22,
    "start_time": "2021-12-22T09:09:20.409Z"
   },
   {
    "duration": 47,
    "start_time": "2021-12-22T09:09:20.434Z"
   },
   {
    "duration": 8,
    "start_time": "2021-12-22T09:09:20.483Z"
   },
   {
    "duration": 45,
    "start_time": "2021-12-22T09:09:20.495Z"
   },
   {
    "duration": 67,
    "start_time": "2021-12-22T09:09:20.545Z"
   },
   {
    "duration": 37,
    "start_time": "2021-12-22T09:09:20.615Z"
   },
   {
    "duration": 26,
    "start_time": "2021-12-22T09:09:20.656Z"
   },
   {
    "duration": 31,
    "start_time": "2021-12-22T09:09:20.685Z"
   },
   {
    "duration": 58,
    "start_time": "2021-12-22T09:09:20.719Z"
   },
   {
    "duration": 30,
    "start_time": "2021-12-22T09:09:20.781Z"
   },
   {
    "duration": 41,
    "start_time": "2021-12-22T09:09:20.813Z"
   },
   {
    "duration": 598,
    "start_time": "2021-12-22T09:09:20.858Z"
   },
   {
    "duration": 13,
    "start_time": "2021-12-22T09:09:21.459Z"
   },
   {
    "duration": 12,
    "start_time": "2021-12-22T09:09:21.475Z"
   },
   {
    "duration": 72,
    "start_time": "2021-12-22T09:09:21.489Z"
   },
   {
    "duration": 20,
    "start_time": "2021-12-22T09:09:21.565Z"
   },
   {
    "duration": 94,
    "start_time": "2021-12-22T09:09:21.588Z"
   },
   {
    "duration": 10,
    "start_time": "2021-12-22T09:09:21.684Z"
   },
   {
    "duration": 37,
    "start_time": "2021-12-22T09:09:21.697Z"
   },
   {
    "duration": 13,
    "start_time": "2021-12-22T09:09:21.744Z"
   },
   {
    "duration": 13,
    "start_time": "2021-12-22T09:09:21.762Z"
   },
   {
    "duration": 59,
    "start_time": "2021-12-22T09:09:21.778Z"
   },
   {
    "duration": 26,
    "start_time": "2021-12-22T09:09:21.840Z"
   },
   {
    "duration": 509,
    "start_time": "2021-12-22T09:09:21.869Z"
   },
   {
    "duration": 6,
    "start_time": "2021-12-22T09:09:22.380Z"
   },
   {
    "duration": 41,
    "start_time": "2021-12-22T09:09:22.388Z"
   },
   {
    "duration": 28,
    "start_time": "2021-12-22T09:09:22.433Z"
   },
   {
    "duration": 37,
    "start_time": "2021-12-22T09:09:22.463Z"
   },
   {
    "duration": 10,
    "start_time": "2021-12-22T09:09:22.502Z"
   },
   {
    "duration": 225,
    "start_time": "2021-12-22T09:09:22.514Z"
   },
   {
    "duration": 50,
    "start_time": "2021-12-22T09:09:22.743Z"
   },
   {
    "duration": 49,
    "start_time": "2021-12-22T09:09:22.795Z"
   },
   {
    "duration": 19,
    "start_time": "2021-12-22T09:09:22.847Z"
   },
   {
    "duration": 14,
    "start_time": "2021-12-22T09:09:22.869Z"
   },
   {
    "duration": 43,
    "start_time": "2021-12-22T09:09:22.886Z"
   },
   {
    "duration": 926,
    "start_time": "2021-12-22T09:09:22.934Z"
   },
   {
    "duration": 19,
    "start_time": "2021-12-22T09:09:23.863Z"
   },
   {
    "duration": 44,
    "start_time": "2021-12-22T09:09:23.885Z"
   },
   {
    "duration": 461,
    "start_time": "2021-12-22T09:09:23.936Z"
   },
   {
    "duration": 31,
    "start_time": "2021-12-22T09:09:24.400Z"
   },
   {
    "duration": 45,
    "start_time": "2021-12-22T09:09:24.434Z"
   },
   {
    "duration": 11,
    "start_time": "2021-12-22T09:09:24.482Z"
   },
   {
    "duration": 17,
    "start_time": "2021-12-22T09:09:24.496Z"
   },
   {
    "duration": 26,
    "start_time": "2021-12-22T09:09:24.528Z"
   },
   {
    "duration": 20,
    "start_time": "2021-12-22T09:09:24.558Z"
   },
   {
    "duration": 33,
    "start_time": "2021-12-22T09:09:24.581Z"
   },
   {
    "duration": 527,
    "start_time": "2021-12-22T09:09:24.617Z"
   },
   {
    "duration": 655,
    "start_time": "2021-12-22T09:09:25.148Z"
   },
   {
    "duration": 587,
    "start_time": "2021-12-22T09:09:25.805Z"
   },
   {
    "duration": 372,
    "start_time": "2021-12-22T09:09:26.395Z"
   },
   {
    "duration": 25,
    "start_time": "2021-12-22T09:09:26.769Z"
   },
   {
    "duration": 31,
    "start_time": "2021-12-22T09:09:26.797Z"
   },
   {
    "duration": 385,
    "start_time": "2021-12-22T09:09:26.834Z"
   },
   {
    "duration": 20,
    "start_time": "2021-12-22T09:09:27.231Z"
   },
   {
    "duration": 11,
    "start_time": "2021-12-22T09:09:27.254Z"
   },
   {
    "duration": 14,
    "start_time": "2021-12-22T09:09:27.267Z"
   },
   {
    "duration": 63,
    "start_time": "2021-12-22T09:09:27.284Z"
   },
   {
    "duration": 499,
    "start_time": "2021-12-22T09:09:27.351Z"
   },
   {
    "duration": 439,
    "start_time": "2021-12-22T09:09:27.853Z"
   },
   {
    "duration": 571,
    "start_time": "2021-12-22T09:09:28.295Z"
   },
   {
    "duration": 622,
    "start_time": "2021-12-22T09:09:28.869Z"
   },
   {
    "duration": 52,
    "start_time": "2021-12-22T09:09:29.494Z"
   },
   {
    "duration": 19,
    "start_time": "2021-12-22T09:09:29.549Z"
   },
   {
    "duration": 601,
    "start_time": "2021-12-22T09:09:29.570Z"
   },
   {
    "duration": 7,
    "start_time": "2021-12-22T09:09:30.180Z"
   },
   {
    "duration": 34,
    "start_time": "2021-12-22T09:09:30.191Z"
   },
   {
    "duration": 572,
    "start_time": "2021-12-22T09:09:30.227Z"
   },
   {
    "duration": 422,
    "start_time": "2021-12-22T09:09:30.802Z"
   },
   {
    "duration": 28,
    "start_time": "2021-12-22T09:09:31.228Z"
   },
   {
    "duration": 823,
    "start_time": "2021-12-22T09:09:31.261Z"
   },
   {
    "duration": 9,
    "start_time": "2021-12-22T09:09:32.087Z"
   },
   {
    "duration": 765,
    "start_time": "2021-12-22T09:09:32.099Z"
   },
   {
    "duration": 10,
    "start_time": "2021-12-22T09:09:32.867Z"
   },
   {
    "duration": 719,
    "start_time": "2021-12-22T09:09:32.880Z"
   },
   {
    "duration": 26,
    "start_time": "2021-12-22T09:09:33.601Z"
   },
   {
    "duration": 811,
    "start_time": "2021-12-22T09:09:33.630Z"
   },
   {
    "duration": 810,
    "start_time": "2021-12-22T09:09:34.447Z"
   },
   {
    "duration": 386,
    "start_time": "2021-12-22T09:09:35.260Z"
   },
   {
    "duration": -21,
    "start_time": "2021-12-22T09:09:35.671Z"
   },
   {
    "duration": -25,
    "start_time": "2021-12-22T09:09:35.678Z"
   },
   {
    "duration": -35,
    "start_time": "2021-12-22T09:09:35.689Z"
   },
   {
    "duration": -46,
    "start_time": "2021-12-22T09:09:35.702Z"
   },
   {
    "duration": -52,
    "start_time": "2021-12-22T09:09:35.709Z"
   },
   {
    "duration": -55,
    "start_time": "2021-12-22T09:09:35.714Z"
   },
   {
    "duration": -59,
    "start_time": "2021-12-22T09:09:35.719Z"
   },
   {
    "duration": -65,
    "start_time": "2021-12-22T09:09:35.727Z"
   },
   {
    "duration": -68,
    "start_time": "2021-12-22T09:09:35.732Z"
   },
   {
    "duration": -72,
    "start_time": "2021-12-22T09:09:35.737Z"
   },
   {
    "duration": -77,
    "start_time": "2021-12-22T09:09:35.744Z"
   },
   {
    "duration": -81,
    "start_time": "2021-12-22T09:09:35.749Z"
   },
   {
    "duration": -83,
    "start_time": "2021-12-22T09:09:35.754Z"
   },
   {
    "duration": -94,
    "start_time": "2021-12-22T09:09:35.767Z"
   },
   {
    "duration": -99,
    "start_time": "2021-12-22T09:09:35.775Z"
   },
   {
    "duration": -101,
    "start_time": "2021-12-22T09:09:35.779Z"
   },
   {
    "duration": -105,
    "start_time": "2021-12-22T09:09:35.785Z"
   },
   {
    "duration": -111,
    "start_time": "2021-12-22T09:09:35.793Z"
   },
   {
    "duration": 2129,
    "start_time": "2021-12-22T09:13:01.452Z"
   },
   {
    "duration": 23,
    "start_time": "2021-12-22T09:13:03.585Z"
   },
   {
    "duration": 140,
    "start_time": "2021-12-22T09:13:03.625Z"
   },
   {
    "duration": 10,
    "start_time": "2021-12-22T09:13:03.769Z"
   },
   {
    "duration": 65,
    "start_time": "2021-12-22T09:13:03.782Z"
   },
   {
    "duration": 19,
    "start_time": "2021-12-22T09:13:03.851Z"
   },
   {
    "duration": 10,
    "start_time": "2021-12-22T09:13:03.873Z"
   },
   {
    "duration": 76,
    "start_time": "2021-12-22T09:13:03.886Z"
   },
   {
    "duration": 17,
    "start_time": "2021-12-22T09:13:03.968Z"
   },
   {
    "duration": 8,
    "start_time": "2021-12-22T09:13:03.991Z"
   },
   {
    "duration": 31,
    "start_time": "2021-12-22T09:13:04.003Z"
   },
   {
    "duration": 27,
    "start_time": "2021-12-22T09:13:04.038Z"
   },
   {
    "duration": 11,
    "start_time": "2021-12-22T09:13:04.068Z"
   },
   {
    "duration": 9,
    "start_time": "2021-12-22T09:13:04.081Z"
   },
   {
    "duration": 701,
    "start_time": "2021-12-22T09:13:04.092Z"
   },
   {
    "duration": 40,
    "start_time": "2021-12-22T09:13:04.795Z"
   },
   {
    "duration": 15,
    "start_time": "2021-12-22T09:13:04.839Z"
   },
   {
    "duration": 36,
    "start_time": "2021-12-22T09:13:04.858Z"
   },
   {
    "duration": 45,
    "start_time": "2021-12-22T09:13:04.897Z"
   },
   {
    "duration": 54,
    "start_time": "2021-12-22T09:13:04.945Z"
   },
   {
    "duration": 38,
    "start_time": "2021-12-22T09:13:05.002Z"
   },
   {
    "duration": 35,
    "start_time": "2021-12-22T09:13:05.044Z"
   },
   {
    "duration": 8,
    "start_time": "2021-12-22T09:13:05.082Z"
   },
   {
    "duration": 11,
    "start_time": "2021-12-22T09:13:05.092Z"
   },
   {
    "duration": 38,
    "start_time": "2021-12-22T09:13:05.129Z"
   },
   {
    "duration": 15,
    "start_time": "2021-12-22T09:13:05.169Z"
   },
   {
    "duration": 568,
    "start_time": "2021-12-22T09:13:05.191Z"
   },
   {
    "duration": 7,
    "start_time": "2021-12-22T09:13:05.764Z"
   },
   {
    "duration": 25,
    "start_time": "2021-12-22T09:13:05.774Z"
   },
   {
    "duration": 33,
    "start_time": "2021-12-22T09:13:05.802Z"
   },
   {
    "duration": 27,
    "start_time": "2021-12-22T09:13:05.838Z"
   },
   {
    "duration": 13,
    "start_time": "2021-12-22T09:13:05.868Z"
   },
   {
    "duration": 302,
    "start_time": "2021-12-22T09:13:05.884Z"
   },
   {
    "duration": 80,
    "start_time": "2021-12-22T09:13:06.188Z"
   },
   {
    "duration": 11,
    "start_time": "2021-12-22T09:13:06.270Z"
   },
   {
    "duration": 14,
    "start_time": "2021-12-22T09:13:06.284Z"
   },
   {
    "duration": 29,
    "start_time": "2021-12-22T09:13:06.322Z"
   },
   {
    "duration": 49,
    "start_time": "2021-12-22T09:13:06.358Z"
   },
   {
    "duration": 908,
    "start_time": "2021-12-22T09:13:06.410Z"
   },
   {
    "duration": 28,
    "start_time": "2021-12-22T09:13:07.329Z"
   },
   {
    "duration": 23,
    "start_time": "2021-12-22T09:13:07.363Z"
   },
   {
    "duration": 393,
    "start_time": "2021-12-22T09:13:07.388Z"
   },
   {
    "duration": 10,
    "start_time": "2021-12-22T09:13:07.784Z"
   },
   {
    "duration": 37,
    "start_time": "2021-12-22T09:13:07.796Z"
   },
   {
    "duration": 31,
    "start_time": "2021-12-22T09:13:07.837Z"
   },
   {
    "duration": 20,
    "start_time": "2021-12-22T09:13:07.871Z"
   },
   {
    "duration": 45,
    "start_time": "2021-12-22T09:13:07.893Z"
   },
   {
    "duration": 28,
    "start_time": "2021-12-22T09:13:07.941Z"
   },
   {
    "duration": 32,
    "start_time": "2021-12-22T09:13:07.972Z"
   },
   {
    "duration": 490,
    "start_time": "2021-12-22T09:13:08.007Z"
   },
   {
    "duration": 621,
    "start_time": "2021-12-22T09:13:08.500Z"
   },
   {
    "duration": 691,
    "start_time": "2021-12-22T09:13:09.127Z"
   },
   {
    "duration": 493,
    "start_time": "2021-12-22T09:13:09.824Z"
   },
   {
    "duration": 33,
    "start_time": "2021-12-22T09:13:10.320Z"
   },
   {
    "duration": 14,
    "start_time": "2021-12-22T09:13:10.358Z"
   },
   {
    "duration": 405,
    "start_time": "2021-12-22T09:13:10.374Z"
   },
   {
    "duration": 13,
    "start_time": "2021-12-22T09:13:10.781Z"
   },
   {
    "duration": 11,
    "start_time": "2021-12-22T09:13:10.797Z"
   },
   {
    "duration": 40,
    "start_time": "2021-12-22T09:13:10.810Z"
   },
   {
    "duration": 24,
    "start_time": "2021-12-22T09:13:10.853Z"
   },
   {
    "duration": 539,
    "start_time": "2021-12-22T09:13:10.879Z"
   },
   {
    "duration": 700,
    "start_time": "2021-12-22T09:13:11.423Z"
   },
   {
    "duration": 763,
    "start_time": "2021-12-22T09:13:12.128Z"
   },
   {
    "duration": 580,
    "start_time": "2021-12-22T09:13:12.894Z"
   },
   {
    "duration": 30,
    "start_time": "2021-12-22T09:13:13.477Z"
   },
   {
    "duration": 28,
    "start_time": "2021-12-22T09:13:13.533Z"
   },
   {
    "duration": 730,
    "start_time": "2021-12-22T09:13:13.565Z"
   },
   {
    "duration": 8,
    "start_time": "2021-12-22T09:13:14.298Z"
   },
   {
    "duration": 33,
    "start_time": "2021-12-22T09:13:14.329Z"
   },
   {
    "duration": 626,
    "start_time": "2021-12-22T09:13:14.365Z"
   },
   {
    "duration": 438,
    "start_time": "2021-12-22T09:13:14.994Z"
   },
   {
    "duration": 29,
    "start_time": "2021-12-22T09:13:15.436Z"
   },
   {
    "duration": 833,
    "start_time": "2021-12-22T09:13:15.468Z"
   },
   {
    "duration": 23,
    "start_time": "2021-12-22T09:13:16.304Z"
   },
   {
    "duration": 752,
    "start_time": "2021-12-22T09:13:16.330Z"
   },
   {
    "duration": 8,
    "start_time": "2021-12-22T09:13:17.084Z"
   },
   {
    "duration": 831,
    "start_time": "2021-12-22T09:13:17.094Z"
   },
   {
    "duration": 18,
    "start_time": "2021-12-22T09:13:17.928Z"
   },
   {
    "duration": 809,
    "start_time": "2021-12-22T09:13:17.949Z"
   },
   {
    "duration": 743,
    "start_time": "2021-12-22T09:13:18.760Z"
   },
   {
    "duration": 22,
    "start_time": "2021-12-22T09:13:19.511Z"
   },
   {
    "duration": 9812,
    "start_time": "2021-12-22T09:13:19.537Z"
   },
   {
    "duration": 34,
    "start_time": "2021-12-22T09:13:29.352Z"
   },
   {
    "duration": 42,
    "start_time": "2021-12-22T09:13:29.390Z"
   },
   {
    "duration": 840,
    "start_time": "2021-12-22T09:13:29.435Z"
   },
   {
    "duration": 32,
    "start_time": "2021-12-22T09:13:30.278Z"
   },
   {
    "duration": 59,
    "start_time": "2021-12-22T09:13:30.322Z"
   },
   {
    "duration": 2350,
    "start_time": "2021-12-22T09:13:30.383Z"
   },
   {
    "duration": 13,
    "start_time": "2021-12-22T09:13:32.737Z"
   },
   {
    "duration": 782,
    "start_time": "2021-12-22T09:13:32.759Z"
   },
   {
    "duration": 735,
    "start_time": "2021-12-22T09:13:33.545Z"
   },
   {
    "duration": 580,
    "start_time": "2021-12-22T09:13:34.283Z"
   },
   {
    "duration": 3337,
    "start_time": "2021-12-22T09:13:34.866Z"
   },
   {
    "duration": 33,
    "start_time": "2021-12-22T09:13:38.207Z"
   },
   {
    "duration": 3285,
    "start_time": "2021-12-22T09:13:38.251Z"
   },
   {
    "duration": 25,
    "start_time": "2021-12-22T09:13:41.539Z"
   },
   {
    "duration": 5127,
    "start_time": "2021-12-22T09:13:41.567Z"
   },
   {
    "duration": 48,
    "start_time": "2021-12-22T09:13:46.697Z"
   },
   {
    "duration": 100,
    "start_time": "2021-12-22T17:49:44.491Z"
   },
   {
    "duration": 100,
    "start_time": "2021-12-22T17:49:54.121Z"
   },
   {
    "duration": 425,
    "start_time": "2021-12-22T17:56:18.744Z"
   },
   {
    "duration": 1446,
    "start_time": "2021-12-22T17:56:32.867Z"
   },
   {
    "duration": 126,
    "start_time": "2021-12-22T17:56:35.893Z"
   },
   {
    "duration": 14,
    "start_time": "2021-12-22T17:56:38.946Z"
   },
   {
    "duration": 118,
    "start_time": "2021-12-22T17:56:41.963Z"
   },
   {
    "duration": 10,
    "start_time": "2021-12-22T17:56:47.746Z"
   },
   {
    "duration": 42,
    "start_time": "2021-12-22T17:56:50.026Z"
   },
   {
    "duration": 10,
    "start_time": "2021-12-22T17:56:53.011Z"
   },
   {
    "duration": 5,
    "start_time": "2021-12-22T17:56:56.131Z"
   },
   {
    "duration": 12,
    "start_time": "2021-12-22T17:57:00.325Z"
   },
   {
    "duration": 7,
    "start_time": "2021-12-22T17:57:04.195Z"
   },
   {
    "duration": 9,
    "start_time": "2021-12-22T17:57:06.762Z"
   },
   {
    "duration": 13,
    "start_time": "2021-12-22T17:57:09.659Z"
   },
   {
    "duration": 8,
    "start_time": "2021-12-22T17:57:13.674Z"
   },
   {
    "duration": 7,
    "start_time": "2021-12-22T17:57:16.753Z"
   },
   {
    "duration": 516,
    "start_time": "2021-12-22T17:57:19.793Z"
   },
   {
    "duration": 516,
    "start_time": "2021-12-22T17:57:45.644Z"
   },
   {
    "duration": 11,
    "start_time": "2021-12-22T17:57:49.932Z"
   },
   {
    "duration": 12,
    "start_time": "2021-12-22T17:57:52.963Z"
   },
   {
    "duration": 26,
    "start_time": "2021-12-22T17:57:55.546Z"
   },
   {
    "duration": 25,
    "start_time": "2021-12-22T17:57:59.299Z"
   },
   {
    "duration": 43,
    "start_time": "2021-12-22T17:58:02.435Z"
   },
   {
    "duration": 10,
    "start_time": "2021-12-22T17:58:07.403Z"
   },
   {
    "duration": 12,
    "start_time": "2021-12-22T17:58:09.980Z"
   },
   {
    "duration": 10,
    "start_time": "2021-12-22T17:58:12.650Z"
   },
   {
    "duration": 12,
    "start_time": "2021-12-22T17:58:13.875Z"
   },
   {
    "duration": 21,
    "start_time": "2021-12-22T17:58:15.683Z"
   },
   {
    "duration": 16,
    "start_time": "2021-12-22T17:58:20.073Z"
   },
   {
    "duration": 423,
    "start_time": "2021-12-22T17:58:26.133Z"
   },
   {
    "duration": 9746,
    "start_time": "2021-12-22T17:58:32.883Z"
   },
   {
    "duration": 14,
    "start_time": "2021-12-22T17:58:54.221Z"
   },
   {
    "duration": 16,
    "start_time": "2021-12-22T17:59:27.396Z"
   },
   {
    "duration": 10,
    "start_time": "2021-12-22T17:59:29.636Z"
   },
   {
    "duration": 170,
    "start_time": "2021-12-22T17:59:35.333Z"
   },
   {
    "duration": 46,
    "start_time": "2021-12-22T17:59:39.957Z"
   },
   {
    "duration": 11,
    "start_time": "2021-12-22T17:59:48.276Z"
   },
   {
    "duration": 117,
    "start_time": "2021-12-22T18:21:13.464Z"
   },
   {
    "duration": 340,
    "start_time": "2021-12-22T18:21:56.161Z"
   },
   {
    "duration": 330,
    "start_time": "2021-12-22T18:22:24.960Z"
   },
   {
    "duration": 4,
    "start_time": "2021-12-22T18:23:17.498Z"
   },
   {
    "duration": 107,
    "start_time": "2021-12-22T18:23:20.378Z"
   },
   {
    "duration": 21,
    "start_time": "2021-12-22T18:23:23.161Z"
   },
   {
    "duration": 100,
    "start_time": "2021-12-22T18:23:27.744Z"
   },
   {
    "duration": 9,
    "start_time": "2021-12-22T18:23:35.032Z"
   },
   {
    "duration": 37,
    "start_time": "2021-12-22T18:23:54.440Z"
   },
   {
    "duration": 9,
    "start_time": "2021-12-22T18:23:57.352Z"
   },
   {
    "duration": 5,
    "start_time": "2021-12-22T18:23:59.911Z"
   },
   {
    "duration": 26,
    "start_time": "2021-12-22T18:24:04.113Z"
   },
   {
    "duration": 13,
    "start_time": "2021-12-22T18:24:07.103Z"
   },
   {
    "duration": 6,
    "start_time": "2021-12-22T18:24:12.695Z"
   },
   {
    "duration": 8,
    "start_time": "2021-12-22T18:24:15.160Z"
   },
   {
    "duration": 13,
    "start_time": "2021-12-22T18:24:19.098Z"
   },
   {
    "duration": 8,
    "start_time": "2021-12-22T18:24:21.792Z"
   },
   {
    "duration": 7,
    "start_time": "2021-12-22T18:24:25.559Z"
   },
   {
    "duration": 543,
    "start_time": "2021-12-22T18:24:28.198Z"
   },
   {
    "duration": 10,
    "start_time": "2021-12-22T18:24:31.659Z"
   },
   {
    "duration": 12,
    "start_time": "2021-12-22T18:24:35.636Z"
   },
   {
    "duration": 27,
    "start_time": "2021-12-22T18:24:37.992Z"
   },
   {
    "duration": 19,
    "start_time": "2021-12-22T18:24:40.680Z"
   },
   {
    "duration": 44,
    "start_time": "2021-12-22T18:24:43.576Z"
   },
   {
    "duration": 10,
    "start_time": "2021-12-22T18:24:46.647Z"
   },
   {
    "duration": 12,
    "start_time": "2021-12-22T18:24:49.296Z"
   },
   {
    "duration": 8,
    "start_time": "2021-12-22T18:24:52.103Z"
   },
   {
    "duration": 11,
    "start_time": "2021-12-22T18:24:53.088Z"
   },
   {
    "duration": 21,
    "start_time": "2021-12-22T18:24:54.304Z"
   },
   {
    "duration": 14,
    "start_time": "2021-12-22T18:24:58.666Z"
   },
   {
    "duration": 624,
    "start_time": "2021-12-22T18:25:01.721Z"
   },
   {
    "duration": 16,
    "start_time": "2021-12-22T18:25:05.688Z"
   },
   {
    "duration": 21,
    "start_time": "2021-12-22T18:25:16.727Z"
   },
   {
    "duration": 9,
    "start_time": "2021-12-22T18:25:20.065Z"
   },
   {
    "duration": 163,
    "start_time": "2021-12-22T18:25:26.673Z"
   },
   {
    "duration": 42,
    "start_time": "2021-12-22T18:25:30.771Z"
   },
   {
    "duration": 10,
    "start_time": "2021-12-22T18:25:34.089Z"
   },
   {
    "duration": 16,
    "start_time": "2021-12-22T18:25:38.913Z"
   },
   {
    "duration": 27,
    "start_time": "2021-12-22T18:25:41.601Z"
   },
   {
    "duration": 958,
    "start_time": "2021-12-22T18:25:44.243Z"
   },
   {
    "duration": 27,
    "start_time": "2021-12-22T18:25:47.970Z"
   },
   {
    "duration": 14,
    "start_time": "2021-12-22T18:25:53.889Z"
   },
   {
    "duration": 11,
    "start_time": "2021-12-22T18:25:57.293Z"
   },
   {
    "duration": 13,
    "start_time": "2021-12-22T18:26:10.072Z"
   },
   {
    "duration": 355,
    "start_time": "2021-12-22T18:26:22.802Z"
   },
   {
    "duration": 7,
    "start_time": "2021-12-22T18:26:37.097Z"
   },
   {
    "duration": 315,
    "start_time": "2021-12-22T18:26:56.713Z"
   },
   {
    "duration": 9,
    "start_time": "2021-12-22T18:27:08.340Z"
   },
   {
    "duration": 327,
    "start_time": "2021-12-22T18:27:44.907Z"
   },
   {
    "duration": 326,
    "start_time": "2021-12-22T18:28:01.786Z"
   },
   {
    "duration": 101,
    "start_time": "2021-12-22T18:33:23.557Z"
   },
   {
    "duration": 103,
    "start_time": "2021-12-22T18:33:32.764Z"
   },
   {
    "duration": 117,
    "start_time": "2021-12-22T18:33:44.101Z"
   },
   {
    "duration": 320,
    "start_time": "2021-12-22T18:33:53.093Z"
   },
   {
    "duration": 112,
    "start_time": "2021-12-22T18:37:59.338Z"
   },
   {
    "duration": 113,
    "start_time": "2021-12-22T18:38:09.400Z"
   },
   {
    "duration": 110,
    "start_time": "2021-12-22T18:38:30.402Z"
   },
   {
    "duration": 104,
    "start_time": "2021-12-22T18:39:14.985Z"
   },
   {
    "duration": 109,
    "start_time": "2021-12-22T18:39:21.984Z"
   },
   {
    "duration": 827,
    "start_time": "2021-12-22T18:39:38.937Z"
   },
   {
    "duration": 7,
    "start_time": "2021-12-22T18:39:50.256Z"
   },
   {
    "duration": 3,
    "start_time": "2021-12-22T18:40:19.685Z"
   },
   {
    "duration": 111,
    "start_time": "2021-12-22T18:40:19.697Z"
   },
   {
    "duration": 23,
    "start_time": "2021-12-22T18:40:19.811Z"
   },
   {
    "duration": 120,
    "start_time": "2021-12-22T18:40:19.836Z"
   },
   {
    "duration": 8,
    "start_time": "2021-12-22T18:40:21.367Z"
   },
   {
    "duration": 36,
    "start_time": "2021-12-22T18:40:22.212Z"
   },
   {
    "duration": 9,
    "start_time": "2021-12-22T18:40:23.626Z"
   },
   {
    "duration": 16,
    "start_time": "2021-12-22T18:40:23.640Z"
   },
   {
    "duration": 47,
    "start_time": "2021-12-22T18:40:23.658Z"
   },
   {
    "duration": 15,
    "start_time": "2021-12-22T18:40:23.708Z"
   },
   {
    "duration": 16,
    "start_time": "2021-12-22T18:40:23.725Z"
   },
   {
    "duration": 14,
    "start_time": "2021-12-22T18:40:23.743Z"
   },
   {
    "duration": 23,
    "start_time": "2021-12-22T18:40:23.759Z"
   },
   {
    "duration": 13,
    "start_time": "2021-12-22T18:40:23.785Z"
   },
   {
    "duration": 22,
    "start_time": "2021-12-22T18:40:23.801Z"
   },
   {
    "duration": 571,
    "start_time": "2021-12-22T18:40:23.826Z"
   },
   {
    "duration": 28,
    "start_time": "2021-12-22T18:40:24.400Z"
   },
   {
    "duration": 13,
    "start_time": "2021-12-22T18:40:24.431Z"
   },
   {
    "duration": 48,
    "start_time": "2021-12-22T18:40:24.446Z"
   },
   {
    "duration": 38,
    "start_time": "2021-12-22T18:40:24.496Z"
   },
   {
    "duration": 48,
    "start_time": "2021-12-22T18:40:24.538Z"
   },
   {
    "duration": 10,
    "start_time": "2021-12-22T18:40:24.589Z"
   },
   {
    "duration": 35,
    "start_time": "2021-12-22T18:40:24.602Z"
   },
   {
    "duration": 48,
    "start_time": "2021-12-22T18:40:24.640Z"
   },
   {
    "duration": 39,
    "start_time": "2021-12-22T18:40:24.691Z"
   },
   {
    "duration": 54,
    "start_time": "2021-12-22T18:40:24.732Z"
   },
   {
    "duration": 50,
    "start_time": "2021-12-22T18:40:24.788Z"
   },
   {
    "duration": 429,
    "start_time": "2021-12-22T18:40:24.840Z"
   },
   {
    "duration": 16,
    "start_time": "2021-12-22T18:40:25.272Z"
   },
   {
    "duration": 4,
    "start_time": "2021-12-22T18:40:25.729Z"
   },
   {
    "duration": 29,
    "start_time": "2021-12-22T18:40:25.743Z"
   },
   {
    "duration": 14,
    "start_time": "2021-12-22T18:40:25.774Z"
   },
   {
    "duration": 176,
    "start_time": "2021-12-22T18:40:25.791Z"
   },
   {
    "duration": 54,
    "start_time": "2021-12-22T18:40:25.970Z"
   },
   {
    "duration": 10,
    "start_time": "2021-12-22T18:40:26.027Z"
   },
   {
    "duration": 16,
    "start_time": "2021-12-22T18:40:26.808Z"
   },
   {
    "duration": 35,
    "start_time": "2021-12-22T18:40:26.826Z"
   },
   {
    "duration": 941,
    "start_time": "2021-12-22T18:40:26.864Z"
   },
   {
    "duration": 31,
    "start_time": "2021-12-22T18:40:27.808Z"
   },
   {
    "duration": 28,
    "start_time": "2021-12-22T18:40:27.841Z"
   },
   {
    "duration": 369,
    "start_time": "2021-12-22T18:40:27.872Z"
   },
   {
    "duration": 10,
    "start_time": "2021-12-22T18:40:28.244Z"
   },
   {
    "duration": 20,
    "start_time": "2021-12-22T18:40:28.256Z"
   },
   {
    "duration": 798,
    "start_time": "2021-12-22T18:40:28.279Z"
   },
   {
    "duration": 6,
    "start_time": "2021-12-22T18:40:29.079Z"
   },
   {
    "duration": 39,
    "start_time": "2021-12-22T18:40:29.087Z"
   },
   {
    "duration": 6,
    "start_time": "2021-12-22T18:40:29.128Z"
   },
   {
    "duration": 14,
    "start_time": "2021-12-22T18:40:29.136Z"
   },
   {
    "duration": 346,
    "start_time": "2021-12-22T18:40:29.154Z"
   },
   {
    "duration": 586,
    "start_time": "2021-12-22T18:40:29.504Z"
   },
   {
    "duration": 437,
    "start_time": "2021-12-22T18:40:30.092Z"
   },
   {
    "duration": 336,
    "start_time": "2021-12-22T18:40:30.532Z"
   },
   {
    "duration": 26,
    "start_time": "2021-12-22T18:40:30.871Z"
   },
   {
    "duration": 30,
    "start_time": "2021-12-22T18:40:30.900Z"
   },
   {
    "duration": 456,
    "start_time": "2021-12-22T18:40:30.933Z"
   },
   {
    "duration": 31,
    "start_time": "2021-12-22T18:40:31.392Z"
   },
   {
    "duration": 13,
    "start_time": "2021-12-22T18:40:31.425Z"
   },
   {
    "duration": 22,
    "start_time": "2021-12-22T18:40:31.441Z"
   },
   {
    "duration": 13,
    "start_time": "2021-12-22T18:40:31.466Z"
   },
   {
    "duration": 451,
    "start_time": "2021-12-22T18:40:31.482Z"
   },
   {
    "duration": 352,
    "start_time": "2021-12-22T18:40:31.936Z"
   },
   {
    "duration": 413,
    "start_time": "2021-12-22T18:40:32.290Z"
   },
   {
    "duration": 503,
    "start_time": "2021-12-22T18:40:32.705Z"
   },
   {
    "duration": 52,
    "start_time": "2021-12-22T18:40:33.211Z"
   },
   {
    "duration": 24,
    "start_time": "2021-12-22T18:40:33.267Z"
   },
   {
    "duration": 387,
    "start_time": "2021-12-22T18:46:24.370Z"
   },
   {
    "duration": 1406,
    "start_time": "2021-12-22T18:46:42.959Z"
   },
   {
    "duration": 116,
    "start_time": "2021-12-22T18:46:46.884Z"
   },
   {
    "duration": 16,
    "start_time": "2021-12-22T18:46:49.572Z"
   },
   {
    "duration": 98,
    "start_time": "2021-12-22T18:46:52.452Z"
   },
   {
    "duration": 12,
    "start_time": "2021-12-22T18:46:57.292Z"
   },
   {
    "duration": 38,
    "start_time": "2021-12-22T18:46:59.796Z"
   },
   {
    "duration": 9,
    "start_time": "2021-12-22T18:47:02.293Z"
   },
   {
    "duration": 5,
    "start_time": "2021-12-22T18:47:05.036Z"
   },
   {
    "duration": 42,
    "start_time": "2021-12-22T18:47:06.052Z"
   },
   {
    "duration": 14,
    "start_time": "2021-12-22T18:47:09.459Z"
   },
   {
    "duration": 7,
    "start_time": "2021-12-22T18:47:12.060Z"
   },
   {
    "duration": 8,
    "start_time": "2021-12-22T18:47:14.443Z"
   },
   {
    "duration": 14,
    "start_time": "2021-12-22T18:47:17.304Z"
   },
   {
    "duration": 10,
    "start_time": "2021-12-22T18:47:21.060Z"
   },
   {
    "duration": 7,
    "start_time": "2021-12-22T18:47:27.307Z"
   },
   {
    "duration": 557,
    "start_time": "2021-12-22T18:47:29.707Z"
   },
   {
    "duration": 11,
    "start_time": "2021-12-22T18:47:33.140Z"
   },
   {
    "duration": 11,
    "start_time": "2021-12-22T18:47:35.956Z"
   },
   {
    "duration": 26,
    "start_time": "2021-12-22T18:47:38.508Z"
   },
   {
    "duration": 21,
    "start_time": "2021-12-22T18:47:41.924Z"
   },
   {
    "duration": 46,
    "start_time": "2021-12-22T18:47:44.736Z"
   },
   {
    "duration": 11,
    "start_time": "2021-12-22T18:47:46.715Z"
   },
   {
    "duration": 12,
    "start_time": "2021-12-22T18:47:49.204Z"
   },
   {
    "duration": 9,
    "start_time": "2021-12-22T18:47:51.940Z"
   },
   {
    "duration": 13,
    "start_time": "2021-12-22T18:47:52.708Z"
   },
   {
    "duration": 20,
    "start_time": "2021-12-22T18:47:53.836Z"
   },
   {
    "duration": 15,
    "start_time": "2021-12-22T18:47:56.636Z"
   },
   {
    "duration": 440,
    "start_time": "2021-12-22T18:47:59.199Z"
   },
   {
    "duration": 16,
    "start_time": "2021-12-22T18:48:03.228Z"
   },
   {
    "duration": 17,
    "start_time": "2021-12-22T18:48:08.500Z"
   },
   {
    "duration": 10,
    "start_time": "2021-12-22T18:48:11.100Z"
   },
   {
    "duration": 170,
    "start_time": "2021-12-22T18:48:16.438Z"
   },
   {
    "duration": 43,
    "start_time": "2021-12-22T18:48:20.476Z"
   },
   {
    "duration": 11,
    "start_time": "2021-12-22T18:48:23.620Z"
   },
   {
    "duration": 17,
    "start_time": "2021-12-22T18:48:28.695Z"
   },
   {
    "duration": 28,
    "start_time": "2021-12-22T18:48:32.101Z"
   },
   {
    "duration": 909,
    "start_time": "2021-12-22T18:48:35.701Z"
   },
   {
    "duration": 18,
    "start_time": "2021-12-22T18:48:39.606Z"
   },
   {
    "duration": 13,
    "start_time": "2021-12-22T18:48:47.764Z"
   },
   {
    "duration": 329,
    "start_time": "2021-12-22T18:48:51.566Z"
   },
   {
    "duration": 10,
    "start_time": "2021-12-22T18:48:55.764Z"
   },
   {
    "duration": 14,
    "start_time": "2021-12-22T18:48:58.661Z"
   },
   {
    "duration": 796,
    "start_time": "2021-12-22T18:49:03.135Z"
   },
   {
    "duration": 7,
    "start_time": "2021-12-22T18:49:09.645Z"
   },
   {
    "duration": 18,
    "start_time": "2021-12-22T18:49:14.173Z"
   },
   {
    "duration": 6,
    "start_time": "2021-12-22T18:49:16.629Z"
   },
   {
    "duration": 13,
    "start_time": "2021-12-22T18:49:19.773Z"
   },
   {
    "duration": 353,
    "start_time": "2021-12-22T18:49:22.533Z"
   },
   {
    "duration": 524,
    "start_time": "2021-12-22T18:49:25.734Z"
   },
   {
    "duration": 420,
    "start_time": "2021-12-22T18:49:28.886Z"
   },
   {
    "duration": 311,
    "start_time": "2021-12-22T18:49:32.437Z"
   },
   {
    "duration": 386,
    "start_time": "2021-12-22T18:49:35.528Z"
   },
   {
    "duration": 325,
    "start_time": "2021-12-22T18:50:26.558Z"
   },
   {
    "duration": 341,
    "start_time": "2021-12-22T18:50:53.696Z"
   },
   {
    "duration": 368,
    "start_time": "2021-12-22T18:54:10.834Z"
   },
   {
    "duration": 125,
    "start_time": "2021-12-22T18:56:10.747Z"
   },
   {
    "duration": 26,
    "start_time": "2021-12-22T18:58:33.616Z"
   },
   {
    "duration": 27,
    "start_time": "2021-12-22T18:59:12.518Z"
   },
   {
    "duration": 26,
    "start_time": "2021-12-22T18:59:34.732Z"
   },
   {
    "duration": 17,
    "start_time": "2021-12-22T19:00:59.909Z"
   },
   {
    "duration": 11,
    "start_time": "2021-12-22T19:01:11.453Z"
   },
   {
    "duration": 348,
    "start_time": "2021-12-22T19:01:14.557Z"
   },
   {
    "duration": 18,
    "start_time": "2021-12-22T19:01:17.396Z"
   },
   {
    "duration": 13,
    "start_time": "2021-12-22T19:01:20.668Z"
   },
   {
    "duration": 19,
    "start_time": "2021-12-22T19:01:23.401Z"
   },
   {
    "duration": 12,
    "start_time": "2021-12-22T19:01:29.869Z"
   },
   {
    "duration": 419,
    "start_time": "2021-12-22T19:01:33.029Z"
   },
   {
    "duration": 339,
    "start_time": "2021-12-22T19:01:36.284Z"
   },
   {
    "duration": 412,
    "start_time": "2021-12-22T19:01:40.693Z"
   },
   {
    "duration": 492,
    "start_time": "2021-12-22T19:01:44.420Z"
   },
   {
    "duration": 33,
    "start_time": "2021-12-22T19:01:48.432Z"
   },
   {
    "duration": 23,
    "start_time": "2021-12-22T19:01:51.412Z"
   },
   {
    "duration": 1538,
    "start_time": "2021-12-22T19:16:05.386Z"
   },
   {
    "duration": 118,
    "start_time": "2021-12-22T19:16:06.927Z"
   },
   {
    "duration": 15,
    "start_time": "2021-12-22T19:16:07.048Z"
   },
   {
    "duration": 123,
    "start_time": "2021-12-22T19:16:07.067Z"
   },
   {
    "duration": 13,
    "start_time": "2021-12-22T19:16:07.193Z"
   },
   {
    "duration": 49,
    "start_time": "2021-12-22T19:16:07.208Z"
   },
   {
    "duration": 8,
    "start_time": "2021-12-22T19:16:07.260Z"
   },
   {
    "duration": 4,
    "start_time": "2021-12-22T19:16:07.273Z"
   },
   {
    "duration": 67,
    "start_time": "2021-12-22T19:16:07.281Z"
   },
   {
    "duration": 13,
    "start_time": "2021-12-22T19:16:07.351Z"
   },
   {
    "duration": 8,
    "start_time": "2021-12-22T19:16:07.366Z"
   },
   {
    "duration": 47,
    "start_time": "2021-12-22T19:16:07.377Z"
   },
   {
    "duration": 14,
    "start_time": "2021-12-22T19:16:07.426Z"
   },
   {
    "duration": 8,
    "start_time": "2021-12-22T19:16:07.442Z"
   },
   {
    "duration": 6,
    "start_time": "2021-12-22T19:16:07.453Z"
   },
   {
    "duration": 572,
    "start_time": "2021-12-22T19:16:07.462Z"
   },
   {
    "duration": 11,
    "start_time": "2021-12-22T19:16:08.037Z"
   },
   {
    "duration": 15,
    "start_time": "2021-12-22T19:16:08.051Z"
   },
   {
    "duration": 62,
    "start_time": "2021-12-22T19:16:08.069Z"
   },
   {
    "duration": 24,
    "start_time": "2021-12-22T19:16:08.134Z"
   },
   {
    "duration": 92,
    "start_time": "2021-12-22T19:16:08.161Z"
   },
   {
    "duration": 14,
    "start_time": "2021-12-22T19:16:08.255Z"
   },
   {
    "duration": 17,
    "start_time": "2021-12-22T19:16:08.276Z"
   },
   {
    "duration": 30,
    "start_time": "2021-12-22T19:16:08.298Z"
   },
   {
    "duration": 12,
    "start_time": "2021-12-22T19:16:08.331Z"
   },
   {
    "duration": 20,
    "start_time": "2021-12-22T19:16:08.346Z"
   },
   {
    "duration": 13,
    "start_time": "2021-12-22T19:16:08.369Z"
   },
   {
    "duration": 442,
    "start_time": "2021-12-22T19:16:08.423Z"
   },
   {
    "duration": 15,
    "start_time": "2021-12-22T19:16:08.867Z"
   },
   {
    "duration": 3,
    "start_time": "2021-12-22T19:16:08.884Z"
   },
   {
    "duration": 45,
    "start_time": "2021-12-22T19:16:08.889Z"
   },
   {
    "duration": 10,
    "start_time": "2021-12-22T19:16:08.936Z"
   },
   {
    "duration": 193,
    "start_time": "2021-12-22T19:16:08.949Z"
   },
   {
    "duration": 43,
    "start_time": "2021-12-22T19:16:09.145Z"
   },
   {
    "duration": 36,
    "start_time": "2021-12-22T19:16:09.191Z"
   },
   {
    "duration": 15,
    "start_time": "2021-12-22T19:16:09.230Z"
   },
   {
    "duration": 29,
    "start_time": "2021-12-22T19:16:09.248Z"
   },
   {
    "duration": 954,
    "start_time": "2021-12-22T19:16:09.279Z"
   },
   {
    "duration": 18,
    "start_time": "2021-12-22T19:16:10.236Z"
   },
   {
    "duration": 14,
    "start_time": "2021-12-22T19:16:10.257Z"
   },
   {
    "duration": 352,
    "start_time": "2021-12-22T19:16:10.273Z"
   },
   {
    "duration": 9,
    "start_time": "2021-12-22T19:16:10.628Z"
   },
   {
    "duration": 13,
    "start_time": "2021-12-22T19:16:10.640Z"
   },
   {
    "duration": 823,
    "start_time": "2021-12-22T19:16:10.656Z"
   },
   {
    "duration": 9,
    "start_time": "2021-12-22T19:16:11.482Z"
   },
   {
    "duration": 38,
    "start_time": "2021-12-22T19:16:11.494Z"
   },
   {
    "duration": 7,
    "start_time": "2021-12-22T19:16:11.535Z"
   },
   {
    "duration": 12,
    "start_time": "2021-12-22T19:16:11.545Z"
   },
   {
    "duration": 371,
    "start_time": "2021-12-22T19:16:11.560Z"
   },
   {
    "duration": 557,
    "start_time": "2021-12-22T19:16:11.933Z"
   },
   {
    "duration": 445,
    "start_time": "2021-12-22T19:16:12.493Z"
   },
   {
    "duration": 353,
    "start_time": "2021-12-22T19:16:12.941Z"
   },
   {
    "duration": 39,
    "start_time": "2021-12-22T19:16:13.296Z"
   },
   {
    "duration": 12,
    "start_time": "2021-12-22T19:16:13.338Z"
   },
   {
    "duration": 362,
    "start_time": "2021-12-22T19:16:13.353Z"
   },
   {
    "duration": 18,
    "start_time": "2021-12-22T19:16:13.718Z"
   },
   {
    "duration": 11,
    "start_time": "2021-12-22T19:16:13.739Z"
   },
   {
    "duration": 16,
    "start_time": "2021-12-22T19:16:13.753Z"
   },
   {
    "duration": 53,
    "start_time": "2021-12-22T19:16:13.771Z"
   },
   {
    "duration": 417,
    "start_time": "2021-12-22T19:16:13.827Z"
   },
   {
    "duration": 368,
    "start_time": "2021-12-22T19:16:14.246Z"
   },
   {
    "duration": 399,
    "start_time": "2021-12-22T19:16:14.616Z"
   },
   {
    "duration": 489,
    "start_time": "2021-12-22T19:16:15.023Z"
   },
   {
    "duration": 117,
    "start_time": "2021-12-22T19:16:15.514Z"
   },
   {
    "duration": 22,
    "start_time": "2021-12-22T19:16:15.634Z"
   },
   {
    "duration": 384,
    "start_time": "2021-12-22T19:21:16.347Z"
   },
   {
    "duration": 1426,
    "start_time": "2021-12-22T19:21:31.674Z"
   },
   {
    "duration": 118,
    "start_time": "2021-12-22T19:21:35.621Z"
   },
   {
    "duration": 24,
    "start_time": "2021-12-22T19:21:40.052Z"
   },
   {
    "duration": 103,
    "start_time": "2021-12-22T19:21:42.898Z"
   },
   {
    "duration": 9,
    "start_time": "2021-12-22T19:21:51.946Z"
   },
   {
    "duration": 39,
    "start_time": "2021-12-22T19:21:54.049Z"
   },
   {
    "duration": 10,
    "start_time": "2021-12-22T19:21:57.730Z"
   },
   {
    "duration": 4,
    "start_time": "2021-12-22T19:22:00.667Z"
   },
   {
    "duration": 32,
    "start_time": "2021-12-22T19:22:06.851Z"
   },
   {
    "duration": 14,
    "start_time": "2021-12-22T19:22:10.740Z"
   },
   {
    "duration": 7,
    "start_time": "2021-12-22T19:22:13.795Z"
   },
   {
    "duration": 9,
    "start_time": "2021-12-22T19:22:16.394Z"
   },
   {
    "duration": 15,
    "start_time": "2021-12-22T19:22:19.081Z"
   },
   {
    "duration": 9,
    "start_time": "2021-12-22T19:22:21.747Z"
   },
   {
    "duration": 6,
    "start_time": "2021-12-22T19:22:25.341Z"
   },
   {
    "duration": 557,
    "start_time": "2021-12-22T19:22:28.218Z"
   },
   {
    "duration": 11,
    "start_time": "2021-12-22T19:22:32.323Z"
   },
   {
    "duration": 11,
    "start_time": "2021-12-22T19:22:44.570Z"
   },
   {
    "duration": 27,
    "start_time": "2021-12-22T19:22:47.290Z"
   },
   {
    "duration": 24,
    "start_time": "2021-12-22T19:22:49.946Z"
   },
   {
    "duration": 46,
    "start_time": "2021-12-22T19:22:52.794Z"
   },
   {
    "duration": 11,
    "start_time": "2021-12-22T19:22:55.034Z"
   },
   {
    "duration": 12,
    "start_time": "2021-12-22T19:22:57.699Z"
   },
   {
    "duration": 9,
    "start_time": "2021-12-22T19:22:59.835Z"
   },
   {
    "duration": 12,
    "start_time": "2021-12-22T19:23:00.907Z"
   },
   {
    "duration": 20,
    "start_time": "2021-12-22T19:23:02.008Z"
   },
   {
    "duration": 14,
    "start_time": "2021-12-22T19:23:05.207Z"
   },
   {
    "duration": 469,
    "start_time": "2021-12-22T19:23:07.210Z"
   },
   {
    "duration": 15,
    "start_time": "2021-12-22T19:23:10.601Z"
   },
   {
    "duration": 3,
    "start_time": "2021-12-22T19:23:13.579Z"
   },
   {
    "duration": 17,
    "start_time": "2021-12-22T19:23:16.323Z"
   },
   {
    "duration": 9,
    "start_time": "2021-12-22T19:23:25.651Z"
   },
   {
    "duration": 174,
    "start_time": "2021-12-22T19:23:30.392Z"
   },
   {
    "duration": 44,
    "start_time": "2021-12-22T19:23:34.307Z"
   },
   {
    "duration": 11,
    "start_time": "2021-12-22T19:23:41.163Z"
   },
   {
    "duration": 16,
    "start_time": "2021-12-22T19:23:44.899Z"
   },
   {
    "duration": 28,
    "start_time": "2021-12-22T19:23:46.683Z"
   },
   {
    "duration": 898,
    "start_time": "2021-12-22T19:23:49.507Z"
   },
   {
    "duration": 18,
    "start_time": "2021-12-22T19:23:53.844Z"
   },
   {
    "duration": 11,
    "start_time": "2021-12-22T19:24:01.475Z"
   },
   {
    "duration": 328,
    "start_time": "2021-12-22T19:24:04.611Z"
   },
   {
    "duration": 11,
    "start_time": "2021-12-22T19:24:09.067Z"
   },
   {
    "duration": 14,
    "start_time": "2021-12-22T19:24:12.723Z"
   },
   {
    "duration": 807,
    "start_time": "2021-12-22T19:24:17.332Z"
   },
   {
    "duration": 7,
    "start_time": "2021-12-22T19:24:22.571Z"
   },
   {
    "duration": 18,
    "start_time": "2021-12-22T19:24:25.341Z"
   },
   {
    "duration": 7,
    "start_time": "2021-12-22T19:24:27.195Z"
   },
   {
    "duration": 11,
    "start_time": "2021-12-22T19:24:29.611Z"
   },
   {
    "duration": 328,
    "start_time": "2021-12-22T19:24:33.546Z"
   },
   {
    "duration": 530,
    "start_time": "2021-12-22T19:24:36.619Z"
   },
   {
    "duration": 408,
    "start_time": "2021-12-22T19:24:43.603Z"
   },
   {
    "duration": 317,
    "start_time": "2021-12-22T19:24:51.435Z"
   },
   {
    "duration": 29,
    "start_time": "2021-12-22T19:24:53.997Z"
   },
   {
    "duration": 10,
    "start_time": "2021-12-22T19:24:58.971Z"
   },
   {
    "duration": 348,
    "start_time": "2021-12-22T19:25:02.053Z"
   },
   {
    "duration": 16,
    "start_time": "2021-12-22T19:25:05.268Z"
   },
   {
    "duration": 13,
    "start_time": "2021-12-22T19:25:08.755Z"
   },
   {
    "duration": 18,
    "start_time": "2021-12-22T19:25:13.524Z"
   },
   {
    "duration": 13,
    "start_time": "2021-12-22T19:25:17.844Z"
   },
   {
    "duration": 416,
    "start_time": "2021-12-22T19:25:21.122Z"
   },
   {
    "duration": 366,
    "start_time": "2021-12-22T19:25:24.004Z"
   },
   {
    "duration": 422,
    "start_time": "2021-12-22T19:25:27.723Z"
   },
   {
    "duration": 491,
    "start_time": "2021-12-22T19:25:31.188Z"
   },
   {
    "duration": 103,
    "start_time": "2021-12-22T19:25:36.205Z"
   },
   {
    "duration": 21,
    "start_time": "2021-12-22T19:25:44.467Z"
   },
   {
    "duration": 365,
    "start_time": "2021-12-23T05:25:40.455Z"
   },
   {
    "duration": 283,
    "start_time": "2021-12-23T05:25:47.595Z"
   },
   {
    "duration": 1456,
    "start_time": "2021-12-23T05:25:57.324Z"
   },
   {
    "duration": 123,
    "start_time": "2021-12-23T05:26:02.598Z"
   },
   {
    "duration": 15,
    "start_time": "2021-12-23T05:26:06.245Z"
   },
   {
    "duration": 108,
    "start_time": "2021-12-23T05:26:09.596Z"
   },
   {
    "duration": 11,
    "start_time": "2021-12-23T05:26:16.547Z"
   },
   {
    "duration": 39,
    "start_time": "2021-12-23T05:26:19.579Z"
   },
   {
    "duration": 9,
    "start_time": "2021-12-23T05:26:22.533Z"
   },
   {
    "duration": 4,
    "start_time": "2021-12-23T05:26:25.452Z"
   },
   {
    "duration": 32,
    "start_time": "2021-12-23T05:26:27.285Z"
   },
   {
    "duration": 14,
    "start_time": "2021-12-23T05:26:31.347Z"
   },
   {
    "duration": 6,
    "start_time": "2021-12-23T05:26:36.565Z"
   },
   {
    "duration": 8,
    "start_time": "2021-12-23T05:26:44.349Z"
   },
   {
    "duration": 13,
    "start_time": "2021-12-23T05:26:47.492Z"
   },
   {
    "duration": 9,
    "start_time": "2021-12-23T05:26:51.083Z"
   },
   {
    "duration": 7,
    "start_time": "2021-12-23T05:26:54.300Z"
   },
   {
    "duration": 546,
    "start_time": "2021-12-23T05:27:00.283Z"
   },
   {
    "duration": 11,
    "start_time": "2021-12-23T05:27:04.780Z"
   },
   {
    "duration": 12,
    "start_time": "2021-12-23T05:27:08.283Z"
   },
   {
    "duration": 28,
    "start_time": "2021-12-23T05:27:11.364Z"
   },
   {
    "duration": 23,
    "start_time": "2021-12-23T05:27:14.060Z"
   },
   {
    "duration": 45,
    "start_time": "2021-12-23T05:27:17.164Z"
   },
   {
    "duration": 10,
    "start_time": "2021-12-23T05:27:19.404Z"
   },
   {
    "duration": 13,
    "start_time": "2021-12-23T05:27:22.804Z"
   },
   {
    "duration": 8,
    "start_time": "2021-12-23T05:27:24.548Z"
   },
   {
    "duration": 12,
    "start_time": "2021-12-23T05:27:25.932Z"
   },
   {
    "duration": 20,
    "start_time": "2021-12-23T05:27:29.316Z"
   },
   {
    "duration": 15,
    "start_time": "2021-12-23T05:27:32.963Z"
   },
   {
    "duration": 421,
    "start_time": "2021-12-23T05:27:36.060Z"
   },
   {
    "duration": 16,
    "start_time": "2021-12-23T05:27:39.757Z"
   },
   {
    "duration": 17,
    "start_time": "2021-12-23T05:27:44.501Z"
   },
   {
    "duration": 8,
    "start_time": "2021-12-23T05:27:47.644Z"
   },
   {
    "duration": 175,
    "start_time": "2021-12-23T05:27:52.652Z"
   },
   {
    "duration": 46,
    "start_time": "2021-12-23T05:27:59.037Z"
   },
   {
    "duration": 11,
    "start_time": "2021-12-23T05:28:03.101Z"
   },
   {
    "duration": 15,
    "start_time": "2021-12-23T05:28:08.621Z"
   },
   {
    "duration": 27,
    "start_time": "2021-12-23T05:28:11.473Z"
   },
   {
    "duration": 949,
    "start_time": "2021-12-23T05:28:14.781Z"
   },
   {
    "duration": 20,
    "start_time": "2021-12-23T05:28:18.548Z"
   },
   {
    "duration": 12,
    "start_time": "2021-12-23T05:28:23.325Z"
   },
   {
    "duration": 324,
    "start_time": "2021-12-23T05:28:26.580Z"
   },
   {
    "duration": 10,
    "start_time": "2021-12-23T05:28:29.339Z"
   },
   {
    "duration": 12,
    "start_time": "2021-12-23T05:28:32.468Z"
   },
   {
    "duration": 853,
    "start_time": "2021-12-23T05:28:36.164Z"
   },
   {
    "duration": 6,
    "start_time": "2021-12-23T05:28:41.533Z"
   },
   {
    "duration": 17,
    "start_time": "2021-12-23T05:28:43.988Z"
   },
   {
    "duration": 7,
    "start_time": "2021-12-23T05:28:45.614Z"
   },
   {
    "duration": 11,
    "start_time": "2021-12-23T05:28:49.364Z"
   },
   {
    "duration": 329,
    "start_time": "2021-12-23T05:28:52.700Z"
   },
   {
    "duration": 561,
    "start_time": "2021-12-23T05:28:56.110Z"
   },
   {
    "duration": 425,
    "start_time": "2021-12-23T05:28:59.284Z"
   },
   {
    "duration": 328,
    "start_time": "2021-12-23T05:29:03.245Z"
   },
   {
    "duration": 27,
    "start_time": "2021-12-23T05:29:05.781Z"
   },
   {
    "duration": 13,
    "start_time": "2021-12-23T05:29:09.848Z"
   },
   {
    "duration": 367,
    "start_time": "2021-12-23T05:29:11.742Z"
   },
   {
    "duration": 14,
    "start_time": "2021-12-23T05:29:14.932Z"
   },
   {
    "duration": 13,
    "start_time": "2021-12-23T05:29:17.584Z"
   },
   {
    "duration": 19,
    "start_time": "2021-12-23T05:29:19.484Z"
   },
   {
    "duration": 12,
    "start_time": "2021-12-23T05:29:22.141Z"
   },
   {
    "duration": 415,
    "start_time": "2021-12-23T05:29:25.005Z"
   },
   {
    "duration": 349,
    "start_time": "2021-12-23T05:29:27.756Z"
   },
   {
    "duration": 409,
    "start_time": "2021-12-23T05:29:31.581Z"
   },
   {
    "duration": 490,
    "start_time": "2021-12-23T05:29:35.364Z"
   },
   {
    "duration": 122,
    "start_time": "2021-12-23T05:29:39.894Z"
   },
   {
    "duration": 20,
    "start_time": "2021-12-23T05:29:47.334Z"
   },
   {
    "duration": 396,
    "start_time": "2021-12-23T06:21:20.540Z"
   },
   {
    "duration": 3080,
    "start_time": "2021-12-23T06:21:31.946Z"
   },
   {
    "duration": 336,
    "start_time": "2021-12-23T06:21:35.029Z"
   },
   {
    "duration": 24,
    "start_time": "2021-12-23T06:21:35.419Z"
   },
   {
    "duration": 370,
    "start_time": "2021-12-23T06:21:35.447Z"
   },
   {
    "duration": 12,
    "start_time": "2021-12-23T06:21:35.821Z"
   },
   {
    "duration": 112,
    "start_time": "2021-12-23T06:21:35.837Z"
   },
   {
    "duration": 65,
    "start_time": "2021-12-23T06:21:35.952Z"
   },
   {
    "duration": 5,
    "start_time": "2021-12-23T06:21:36.021Z"
   },
   {
    "duration": 91,
    "start_time": "2021-12-23T06:21:36.029Z"
   },
   {
    "duration": 12,
    "start_time": "2021-12-23T06:21:36.123Z"
   },
   {
    "duration": 7,
    "start_time": "2021-12-23T06:21:36.137Z"
   },
   {
    "duration": 74,
    "start_time": "2021-12-23T06:21:36.146Z"
   },
   {
    "duration": 15,
    "start_time": "2021-12-23T06:21:36.223Z"
   },
   {
    "duration": 78,
    "start_time": "2021-12-23T06:21:36.241Z"
   },
   {
    "duration": 8,
    "start_time": "2021-12-23T06:21:36.322Z"
   },
   {
    "duration": 1089,
    "start_time": "2021-12-23T06:21:36.332Z"
   },
   {
    "duration": 10,
    "start_time": "2021-12-23T06:21:37.424Z"
   },
   {
    "duration": 13,
    "start_time": "2021-12-23T06:21:37.437Z"
   },
   {
    "duration": 90,
    "start_time": "2021-12-23T06:21:37.452Z"
   },
   {
    "duration": 88,
    "start_time": "2021-12-23T06:21:37.545Z"
   },
   {
    "duration": 116,
    "start_time": "2021-12-23T06:21:37.636Z"
   },
   {
    "duration": 67,
    "start_time": "2021-12-23T06:21:37.755Z"
   },
   {
    "duration": 11,
    "start_time": "2021-12-23T06:21:37.827Z"
   },
   {
    "duration": 9,
    "start_time": "2021-12-23T06:21:37.841Z"
   },
   {
    "duration": 77,
    "start_time": "2021-12-23T06:21:37.852Z"
   },
   {
    "duration": 85,
    "start_time": "2021-12-23T06:21:37.932Z"
   },
   {
    "duration": 15,
    "start_time": "2021-12-23T06:21:38.020Z"
   },
   {
    "duration": 836,
    "start_time": "2021-12-23T06:21:43.216Z"
   },
   {
    "duration": 8,
    "start_time": "2021-12-23T06:21:51.409Z"
   },
   {
    "duration": 3,
    "start_time": "2021-12-23T06:21:51.436Z"
   },
   {
    "duration": 14,
    "start_time": "2021-12-23T06:21:51.518Z"
   },
   {
    "duration": 18,
    "start_time": "2021-12-23T06:21:51.535Z"
   },
   {
    "duration": 377,
    "start_time": "2021-12-23T06:21:51.556Z"
   },
   {
    "duration": 107,
    "start_time": "2021-12-23T06:21:51.935Z"
   },
   {
    "duration": 71,
    "start_time": "2021-12-23T06:21:52.045Z"
   },
   {
    "duration": 16,
    "start_time": "2021-12-23T06:21:52.119Z"
   },
   {
    "duration": 93,
    "start_time": "2021-12-23T06:21:52.137Z"
   },
   {
    "duration": 1888,
    "start_time": "2021-12-23T06:21:52.233Z"
   },
   {
    "duration": 19,
    "start_time": "2021-12-23T06:21:54.123Z"
   },
   {
    "duration": 77,
    "start_time": "2021-12-23T06:21:54.145Z"
   },
   {
    "duration": 627,
    "start_time": "2021-12-23T06:21:54.225Z"
   },
   {
    "duration": 68,
    "start_time": "2021-12-23T06:21:54.854Z"
   },
   {
    "duration": 14,
    "start_time": "2021-12-23T06:21:54.924Z"
   },
   {
    "duration": 1614,
    "start_time": "2021-12-23T06:21:54.940Z"
   },
   {
    "duration": 6,
    "start_time": "2021-12-23T06:21:56.556Z"
   },
   {
    "duration": 17,
    "start_time": "2021-12-23T06:21:56.618Z"
   },
   {
    "duration": 5,
    "start_time": "2021-12-23T06:21:56.637Z"
   },
   {
    "duration": 74,
    "start_time": "2021-12-23T06:21:56.644Z"
   },
   {
    "duration": 1038,
    "start_time": "2021-12-23T06:21:56.721Z"
   },
   {
    "duration": 1538,
    "start_time": "2021-12-23T06:21:57.819Z"
   },
   {
    "duration": 1175,
    "start_time": "2021-12-23T06:21:59.361Z"
   },
   {
    "duration": 681,
    "start_time": "2021-12-23T06:22:00.538Z"
   },
   {
    "duration": 28,
    "start_time": "2021-12-23T06:22:01.222Z"
   },
   {
    "duration": 73,
    "start_time": "2021-12-23T06:22:01.252Z"
   },
   {
    "duration": 698,
    "start_time": "2021-12-23T06:22:01.331Z"
   },
   {
    "duration": 14,
    "start_time": "2021-12-23T06:22:02.032Z"
   },
   {
    "duration": 75,
    "start_time": "2021-12-23T06:22:02.048Z"
   },
   {
    "duration": 17,
    "start_time": "2021-12-23T06:22:02.126Z"
   },
   {
    "duration": 79,
    "start_time": "2021-12-23T06:22:02.145Z"
   },
   {
    "duration": 829,
    "start_time": "2021-12-23T06:22:02.227Z"
   },
   {
    "duration": 759,
    "start_time": "2021-12-23T06:22:03.058Z"
   },
   {
    "duration": 806,
    "start_time": "2021-12-23T06:22:03.820Z"
   },
   {
    "duration": 993,
    "start_time": "2021-12-23T06:22:04.628Z"
   },
   {
    "duration": 229,
    "start_time": "2021-12-23T06:22:05.624Z"
   },
   {
    "duration": 71,
    "start_time": "2021-12-23T06:22:05.856Z"
   },
   {
    "duration": 1005,
    "start_time": "2021-12-23T06:22:05.930Z"
   },
   {
    "duration": 7,
    "start_time": "2021-12-23T06:22:06.938Z"
   },
   {
    "duration": 72,
    "start_time": "2021-12-23T06:22:06.948Z"
   },
   {
    "duration": 1025,
    "start_time": "2021-12-23T06:22:07.023Z"
   },
   {
    "duration": 1092,
    "start_time": "2021-12-23T06:22:08.051Z"
   },
   {
    "duration": 84,
    "start_time": "2021-12-23T06:22:09.146Z"
   },
   {
    "duration": 2111,
    "start_time": "2021-12-23T06:22:09.233Z"
   },
   {
    "duration": 71,
    "start_time": "2021-12-23T06:22:11.347Z"
   },
   {
    "duration": 2017,
    "start_time": "2021-12-23T06:22:11.421Z"
   },
   {
    "duration": 11,
    "start_time": "2021-12-23T06:22:13.441Z"
   },
   {
    "duration": 2017,
    "start_time": "2021-12-23T06:22:13.516Z"
   },
   {
    "duration": 9,
    "start_time": "2021-12-23T06:22:15.537Z"
   },
   {
    "duration": 1487,
    "start_time": "2021-12-23T06:22:15.548Z"
   },
   {
    "duration": 1394,
    "start_time": "2021-12-23T06:22:17.038Z"
   },
   {
    "duration": 9,
    "start_time": "2021-12-23T06:22:18.434Z"
   },
   {
    "duration": 15792,
    "start_time": "2021-12-23T06:22:18.445Z"
   },
   {
    "duration": 79,
    "start_time": "2021-12-23T06:22:34.239Z"
   },
   {
    "duration": 18,
    "start_time": "2021-12-23T06:22:34.321Z"
   },
   {
    "duration": 818,
    "start_time": "2021-12-23T06:22:34.341Z"
   },
   {
    "duration": 31,
    "start_time": "2021-12-23T06:22:35.218Z"
   },
   {
    "duration": 165,
    "start_time": "2021-12-23T06:22:35.252Z"
   },
   {
    "duration": 3900,
    "start_time": "2021-12-23T06:22:35.420Z"
   },
   {
    "duration": 11,
    "start_time": "2021-12-23T06:22:39.323Z"
   },
   {
    "duration": 1590,
    "start_time": "2021-12-23T06:22:39.337Z"
   },
   {
    "duration": 1308,
    "start_time": "2021-12-23T06:22:40.930Z"
   },
   {
    "duration": 1007,
    "start_time": "2021-12-23T06:22:42.240Z"
   },
   {
    "duration": 5194,
    "start_time": "2021-12-23T06:22:43.249Z"
   },
   {
    "duration": 80,
    "start_time": "2021-12-23T06:22:48.446Z"
   },
   {
    "duration": 5228,
    "start_time": "2021-12-23T06:22:48.528Z"
   },
   {
    "duration": 66,
    "start_time": "2021-12-23T06:22:53.759Z"
   },
   {
    "duration": 8909,
    "start_time": "2021-12-23T06:22:53.828Z"
   },
   {
    "duration": 77,
    "start_time": "2021-12-23T06:23:02.740Z"
   },
   {
    "duration": 2408,
    "start_time": "2021-12-23T06:51:02.346Z"
   },
   {
    "duration": 263,
    "start_time": "2021-12-23T06:51:07.854Z"
   },
   {
    "duration": 18,
    "start_time": "2021-12-23T06:51:12.429Z"
   },
   {
    "duration": 195,
    "start_time": "2021-12-23T06:51:15.963Z"
   },
   {
    "duration": 11,
    "start_time": "2021-12-23T06:51:20.812Z"
   },
   {
    "duration": 73,
    "start_time": "2021-12-23T06:51:23.859Z"
   },
   {
    "duration": 9,
    "start_time": "2021-12-23T06:51:27.168Z"
   },
   {
    "duration": 5,
    "start_time": "2021-12-23T06:51:30.283Z"
   },
   {
    "duration": 98,
    "start_time": "2021-12-23T06:51:32.427Z"
   },
   {
    "duration": 28,
    "start_time": "2021-12-23T06:51:36.995Z"
   },
   {
    "duration": 7,
    "start_time": "2021-12-23T06:51:40.421Z"
   },
   {
    "duration": 10,
    "start_time": "2021-12-23T06:51:43.637Z"
   },
   {
    "duration": 13,
    "start_time": "2021-12-23T06:51:47.762Z"
   },
   {
    "duration": 12,
    "start_time": "2021-12-23T06:51:51.743Z"
   },
   {
    "duration": 10,
    "start_time": "2021-12-23T06:51:54.458Z"
   },
   {
    "duration": 1257,
    "start_time": "2021-12-23T06:51:58.100Z"
   },
   {
    "duration": 10,
    "start_time": "2021-12-23T06:52:03.731Z"
   },
   {
    "duration": 37,
    "start_time": "2021-12-23T06:52:08.790Z"
   },
   {
    "duration": 81,
    "start_time": "2021-12-23T06:52:11.944Z"
   },
   {
    "duration": 59,
    "start_time": "2021-12-23T06:52:17.870Z"
   },
   {
    "duration": 140,
    "start_time": "2021-12-23T06:52:21.291Z"
   },
   {
    "duration": 15,
    "start_time": "2021-12-23T06:52:24.326Z"
   },
   {
    "duration": 17,
    "start_time": "2021-12-23T06:52:28.350Z"
   },
   {
    "duration": 12,
    "start_time": "2021-12-23T06:52:31.564Z"
   },
   {
    "duration": 15,
    "start_time": "2021-12-23T06:52:35.931Z"
   },
   {
    "duration": 29,
    "start_time": "2021-12-23T06:52:37.334Z"
   },
   {
    "duration": 47,
    "start_time": "2021-12-23T06:52:46.478Z"
   },
   {
    "duration": 1465,
    "start_time": "2021-12-23T06:52:49.861Z"
   },
   {
    "duration": 19,
    "start_time": "2021-12-23T06:53:11.216Z"
   },
   {
    "duration": 16,
    "start_time": "2021-12-23T06:53:13.413Z"
   },
   {
    "duration": 347,
    "start_time": "2021-12-23T06:53:18.187Z"
   },
   {
    "duration": 75,
    "start_time": "2021-12-23T06:53:22.468Z"
   },
   {
    "duration": 32,
    "start_time": "2021-12-23T06:53:27.889Z"
   },
   {
    "duration": 16,
    "start_time": "2021-12-23T06:53:33.541Z"
   },
   {
    "duration": 73,
    "start_time": "2021-12-23T06:53:35.655Z"
   },
   {
    "duration": 1818,
    "start_time": "2021-12-23T06:53:38.925Z"
   },
   {
    "duration": 21,
    "start_time": "2021-12-23T06:53:43.325Z"
   },
   {
    "duration": 13,
    "start_time": "2021-12-23T06:53:49.679Z"
   },
   {
    "duration": 1001,
    "start_time": "2021-12-23T06:53:51.441Z"
   },
   {
    "duration": 15,
    "start_time": "2021-12-23T06:53:54.276Z"
   },
   {
    "duration": 18,
    "start_time": "2021-12-23T06:53:57.934Z"
   },
   {
    "duration": 3131,
    "start_time": "2021-12-23T06:54:01.221Z"
   },
   {
    "duration": 16,
    "start_time": "2021-12-23T06:54:07.502Z"
   },
   {
    "duration": 16,
    "start_time": "2021-12-23T06:54:09.726Z"
   },
   {
    "duration": 7,
    "start_time": "2021-12-23T06:54:12.025Z"
   },
   {
    "duration": 11,
    "start_time": "2021-12-23T06:54:24.826Z"
   },
   {
    "duration": 665,
    "start_time": "2021-12-23T06:54:28.288Z"
   },
   {
    "duration": 1078,
    "start_time": "2021-12-23T06:54:32.162Z"
   },
   {
    "duration": 880,
    "start_time": "2021-12-23T06:54:36.663Z"
   },
   {
    "duration": 649,
    "start_time": "2021-12-23T06:54:41.577Z"
   },
   {
    "duration": 55,
    "start_time": "2021-12-23T06:54:44.778Z"
   },
   {
    "duration": 14,
    "start_time": "2021-12-23T06:54:52.268Z"
   },
   {
    "duration": 651,
    "start_time": "2021-12-23T06:54:53.983Z"
   },
   {
    "duration": 21,
    "start_time": "2021-12-23T06:54:58.304Z"
   },
   {
    "duration": 31,
    "start_time": "2021-12-23T06:55:04.094Z"
   },
   {
    "duration": 17,
    "start_time": "2021-12-23T06:55:09.022Z"
   },
   {
    "duration": 12,
    "start_time": "2021-12-23T06:55:14.456Z"
   },
   {
    "duration": 793,
    "start_time": "2021-12-23T06:55:17.263Z"
   },
   {
    "duration": 808,
    "start_time": "2021-12-23T06:55:21.713Z"
   },
   {
    "duration": 773,
    "start_time": "2021-12-23T06:55:33.089Z"
   },
   {
    "duration": 997,
    "start_time": "2021-12-23T06:55:39.041Z"
   },
   {
    "duration": 33,
    "start_time": "2021-12-23T06:55:43.640Z"
   },
   {
    "duration": 41,
    "start_time": "2021-12-23T06:55:50.181Z"
   },
   {
    "duration": 1090,
    "start_time": "2021-12-23T06:56:02.767Z"
   },
   {
    "duration": 8,
    "start_time": "2021-12-23T06:56:07.838Z"
   },
   {
    "duration": 22,
    "start_time": "2021-12-23T06:56:10.935Z"
   },
   {
    "duration": 1030,
    "start_time": "2021-12-23T06:56:14.016Z"
   },
   {
    "duration": 741,
    "start_time": "2021-12-23T06:57:17.396Z"
   },
   {
    "duration": 43,
    "start_time": "2021-12-23T06:57:21.791Z"
   },
   {
    "duration": 1282,
    "start_time": "2021-12-23T06:57:26.748Z"
   },
   {
    "duration": 10,
    "start_time": "2021-12-23T06:57:34.323Z"
   },
   {
    "duration": 1292,
    "start_time": "2021-12-23T06:57:38.837Z"
   },
   {
    "duration": 52,
    "start_time": "2021-12-23T06:57:46.468Z"
   },
   {
    "duration": 701,
    "start_time": "2021-12-23T06:58:19.693Z"
   },
   {
    "duration": 7,
    "start_time": "2021-12-23T06:58:24.657Z"
   },
   {
    "duration": 762,
    "start_time": "2021-12-23T06:58:29.632Z"
   },
   {
    "duration": 741,
    "start_time": "2021-12-23T06:58:35.916Z"
   },
   {
    "duration": 443,
    "start_time": "2021-12-23T06:59:24.012Z"
   },
   {
    "duration": 113376,
    "start_time": "2021-12-23T06:59:42.421Z"
   },
   {
    "duration": 195560,
    "start_time": "2021-12-23T07:03:08.419Z"
   },
   {
    "duration": 366,
    "start_time": "2021-12-23T17:57:50.983Z"
   },
   {
    "duration": 1558,
    "start_time": "2021-12-23T17:58:14.505Z"
   },
   {
    "duration": 125,
    "start_time": "2021-12-23T17:58:16.068Z"
   },
   {
    "duration": 18,
    "start_time": "2021-12-23T17:58:16.197Z"
   },
   {
    "duration": 135,
    "start_time": "2021-12-23T17:58:16.219Z"
   },
   {
    "duration": 13,
    "start_time": "2021-12-23T17:58:16.368Z"
   },
   {
    "duration": 42,
    "start_time": "2021-12-23T17:58:16.383Z"
   },
   {
    "duration": 43,
    "start_time": "2021-12-23T17:58:16.428Z"
   },
   {
    "duration": 5,
    "start_time": "2021-12-23T17:58:16.477Z"
   },
   {
    "duration": 43,
    "start_time": "2021-12-23T17:58:16.486Z"
   },
   {
    "duration": 50,
    "start_time": "2021-12-23T17:58:16.532Z"
   },
   {
    "duration": 9,
    "start_time": "2021-12-23T17:58:16.585Z"
   },
   {
    "duration": 10,
    "start_time": "2021-12-23T17:58:16.597Z"
   },
   {
    "duration": 58,
    "start_time": "2021-12-23T17:58:16.610Z"
   },
   {
    "duration": 9,
    "start_time": "2021-12-23T17:58:16.671Z"
   },
   {
    "duration": 10,
    "start_time": "2021-12-23T17:58:16.682Z"
   },
   {
    "duration": 615,
    "start_time": "2021-12-23T17:58:16.695Z"
   },
   {
    "duration": 11,
    "start_time": "2021-12-23T17:58:17.312Z"
   },
   {
    "duration": 13,
    "start_time": "2021-12-23T17:58:17.325Z"
   },
   {
    "duration": 51,
    "start_time": "2021-12-23T17:58:17.340Z"
   },
   {
    "duration": 19,
    "start_time": "2021-12-23T17:58:17.394Z"
   },
   {
    "duration": 83,
    "start_time": "2021-12-23T17:58:17.416Z"
   },
   {
    "duration": 11,
    "start_time": "2021-12-23T17:58:17.502Z"
   },
   {
    "duration": 15,
    "start_time": "2021-12-23T17:58:17.519Z"
   },
   {
    "duration": 9,
    "start_time": "2021-12-23T17:58:17.566Z"
   },
   {
    "duration": 13,
    "start_time": "2021-12-23T17:58:17.577Z"
   },
   {
    "duration": 20,
    "start_time": "2021-12-23T17:58:17.593Z"
   },
   {
    "duration": 16,
    "start_time": "2021-12-23T17:58:17.615Z"
   },
   {
    "duration": 477,
    "start_time": "2021-12-23T17:58:17.668Z"
   },
   {
    "duration": 27,
    "start_time": "2021-12-23T17:58:18.148Z"
   },
   {
    "duration": 12,
    "start_time": "2021-12-23T17:58:18.178Z"
   },
   {
    "duration": 217,
    "start_time": "2021-12-23T17:58:18.192Z"
   },
   {
    "duration": 57,
    "start_time": "2021-12-23T17:58:18.411Z"
   },
   {
    "duration": 10,
    "start_time": "2021-12-23T17:58:18.471Z"
   },
   {
    "duration": 15,
    "start_time": "2021-12-23T17:58:18.484Z"
   },
   {
    "duration": 65,
    "start_time": "2021-12-23T17:58:18.502Z"
   },
   {
    "duration": 973,
    "start_time": "2021-12-23T17:58:18.569Z"
   },
   {
    "duration": 48,
    "start_time": "2021-12-23T17:58:19.545Z"
   },
   {
    "duration": 13,
    "start_time": "2021-12-23T17:58:19.595Z"
   },
   {
    "duration": 356,
    "start_time": "2021-12-23T17:58:19.611Z"
   },
   {
    "duration": 11,
    "start_time": "2021-12-23T17:58:19.970Z"
   },
   {
    "duration": 20,
    "start_time": "2021-12-23T17:58:19.983Z"
   },
   {
    "duration": 1499,
    "start_time": "2021-12-23T17:58:20.005Z"
   },
   {
    "duration": 9,
    "start_time": "2021-12-23T17:58:21.507Z"
   },
   {
    "duration": 18,
    "start_time": "2021-12-23T17:58:21.518Z"
   },
   {
    "duration": 34,
    "start_time": "2021-12-23T17:58:21.538Z"
   },
   {
    "duration": 18,
    "start_time": "2021-12-23T17:58:21.574Z"
   },
   {
    "duration": 383,
    "start_time": "2021-12-23T17:58:21.595Z"
   },
   {
    "duration": 589,
    "start_time": "2021-12-23T17:58:21.980Z"
   },
   {
    "duration": 464,
    "start_time": "2021-12-23T17:58:22.572Z"
   },
   {
    "duration": 360,
    "start_time": "2021-12-23T17:58:23.039Z"
   },
   {
    "duration": 37,
    "start_time": "2021-12-23T17:58:23.402Z"
   },
   {
    "duration": 36,
    "start_time": "2021-12-23T17:58:23.441Z"
   },
   {
    "duration": 405,
    "start_time": "2021-12-23T17:58:23.480Z"
   },
   {
    "duration": 16,
    "start_time": "2021-12-23T17:58:23.887Z"
   },
   {
    "duration": 16,
    "start_time": "2021-12-23T17:58:23.906Z"
   },
   {
    "duration": 54,
    "start_time": "2021-12-23T17:58:23.925Z"
   },
   {
    "duration": 13,
    "start_time": "2021-12-23T17:58:23.983Z"
   },
   {
    "duration": 470,
    "start_time": "2021-12-23T17:58:23.999Z"
   },
   {
    "duration": 382,
    "start_time": "2021-12-23T17:58:24.472Z"
   },
   {
    "duration": 446,
    "start_time": "2021-12-23T17:58:24.857Z"
   },
   {
    "duration": 530,
    "start_time": "2021-12-23T17:58:25.307Z"
   },
   {
    "duration": 56,
    "start_time": "2021-12-23T17:58:25.840Z"
   },
   {
    "duration": 23,
    "start_time": "2021-12-23T17:58:25.899Z"
   },
   {
    "duration": 638,
    "start_time": "2021-12-23T17:58:25.924Z"
   },
   {
    "duration": 8,
    "start_time": "2021-12-23T17:58:26.567Z"
   },
   {
    "duration": 12,
    "start_time": "2021-12-23T17:58:26.577Z"
   },
   {
    "duration": 583,
    "start_time": "2021-12-23T17:58:26.592Z"
   },
   {
    "duration": 397,
    "start_time": "2021-12-23T17:58:27.183Z"
   },
   {
    "duration": 23,
    "start_time": "2021-12-23T17:58:27.582Z"
   },
   {
    "duration": 783,
    "start_time": "2021-12-23T17:58:27.607Z"
   },
   {
    "duration": 11,
    "start_time": "2021-12-23T17:58:28.392Z"
   },
   {
    "duration": 850,
    "start_time": "2021-12-23T17:58:28.406Z"
   },
   {
    "duration": 15,
    "start_time": "2021-12-23T17:58:29.259Z"
   },
   {
    "duration": 867,
    "start_time": "2021-12-23T17:58:29.277Z"
   },
   {
    "duration": 20,
    "start_time": "2021-12-23T17:58:30.147Z"
   },
   {
    "duration": 845,
    "start_time": "2021-12-23T17:58:30.170Z"
   },
   {
    "duration": 793,
    "start_time": "2021-12-23T17:58:31.018Z"
   },
   {
    "duration": 4,
    "start_time": "2021-12-23T17:58:31.813Z"
   },
   {
    "duration": 16,
    "start_time": "2021-12-23T17:58:31.819Z"
   },
   {
    "duration": 1057,
    "start_time": "2021-12-23T17:58:39.128Z"
   },
   {
    "duration": -4773,
    "start_time": "2021-12-23T18:02:07.140Z"
   },
   {
    "duration": 333,
    "start_time": "2021-12-23T18:02:07.806Z"
   },
   {
    "duration": 484,
    "start_time": "2021-12-23T18:03:24.013Z"
   },
   {
    "duration": 767,
    "start_time": "2021-12-23T18:08:05.212Z"
   },
   {
    "duration": 130,
    "start_time": "2021-12-23T18:08:33.099Z"
   },
   {
    "duration": 884,
    "start_time": "2021-12-23T18:08:39.387Z"
   },
   {
    "duration": 794,
    "start_time": "2021-12-23T18:08:54.259Z"
   },
   {
    "duration": 325,
    "start_time": "2021-12-23T18:09:15.067Z"
   },
   {
    "duration": 352,
    "start_time": "2021-12-23T18:09:23.957Z"
   },
   {
    "duration": 305,
    "start_time": "2021-12-23T18:11:18.492Z"
   },
   {
    "duration": 277,
    "start_time": "2021-12-23T18:12:49.973Z"
   },
   {
    "duration": 16,
    "start_time": "2021-12-23T18:29:44.335Z"
   },
   {
    "duration": 788,
    "start_time": "2021-12-23T18:29:53.626Z"
   },
   {
    "duration": 927,
    "start_time": "2021-12-23T18:31:19.105Z"
   },
   {
    "duration": 216,
    "start_time": "2021-12-23T18:31:45.144Z"
   },
   {
    "duration": 364,
    "start_time": "2021-12-23T18:32:36.596Z"
   },
   {
    "duration": 357,
    "start_time": "2021-12-23T18:32:47.280Z"
   },
   {
    "duration": 354,
    "start_time": "2021-12-23T18:38:00.987Z"
   },
   {
    "duration": 406,
    "start_time": "2021-12-23T18:39:06.829Z"
   },
   {
    "duration": 328,
    "start_time": "2021-12-23T18:39:57.284Z"
   },
   {
    "duration": 325,
    "start_time": "2021-12-23T18:41:26.268Z"
   },
   {
    "duration": 31,
    "start_time": "2021-12-23T18:41:38.080Z"
   },
   {
    "duration": 586,
    "start_time": "2021-12-23T18:42:50.093Z"
   },
   {
    "duration": 526,
    "start_time": "2021-12-23T18:43:03.645Z"
   },
   {
    "duration": 32,
    "start_time": "2021-12-23T18:43:29.726Z"
   },
   {
    "duration": 33,
    "start_time": "2021-12-23T18:43:44.180Z"
   },
   {
    "duration": 103,
    "start_time": "2021-12-23T18:44:32.039Z"
   },
   {
    "duration": 369,
    "start_time": "2021-12-23T18:44:38.526Z"
   },
   {
    "duration": 335,
    "start_time": "2021-12-23T18:45:20.055Z"
   },
   {
    "duration": 97,
    "start_time": "2021-12-23T18:46:03.294Z"
   },
   {
    "duration": 106,
    "start_time": "2021-12-23T18:46:14.639Z"
   },
   {
    "duration": 96,
    "start_time": "2021-12-23T18:46:27.055Z"
   },
   {
    "duration": 110,
    "start_time": "2021-12-23T18:46:36.106Z"
   },
   {
    "duration": 105,
    "start_time": "2021-12-23T18:46:52.655Z"
   },
   {
    "duration": 321,
    "start_time": "2021-12-23T18:47:04.061Z"
   },
   {
    "duration": 320,
    "start_time": "2021-12-23T18:47:47.896Z"
   },
   {
    "duration": 932,
    "start_time": "2021-12-23T18:47:53.577Z"
   },
   {
    "duration": 220,
    "start_time": "2021-12-23T18:49:52.063Z"
   },
   {
    "duration": 31,
    "start_time": "2021-12-23T18:50:03.449Z"
   },
   {
    "duration": 31,
    "start_time": "2021-12-23T18:50:14.434Z"
   },
   {
    "duration": 31,
    "start_time": "2021-12-23T18:50:26.317Z"
   },
   {
    "duration": 33,
    "start_time": "2021-12-23T18:50:34.271Z"
   },
   {
    "duration": 7552,
    "start_time": "2021-12-23T18:54:50.906Z"
   },
   {
    "duration": 301,
    "start_time": "2021-12-23T18:56:20.323Z"
   },
   {
    "duration": 332,
    "start_time": "2021-12-23T18:57:08.452Z"
   },
   {
    "duration": 26,
    "start_time": "2021-12-23T19:02:57.038Z"
   },
   {
    "duration": 26,
    "start_time": "2021-12-23T19:04:03.354Z"
   },
   {
    "duration": 46,
    "start_time": "2021-12-23T19:04:19.000Z"
   },
   {
    "duration": 2842,
    "start_time": "2021-12-23T19:04:27.743Z"
   },
   {
    "duration": 10,
    "start_time": "2021-12-23T19:06:44.481Z"
   },
   {
    "duration": 704,
    "start_time": "2021-12-23T19:06:46.104Z"
   },
   {
    "duration": 630,
    "start_time": "2021-12-23T19:06:58.265Z"
   },
   {
    "duration": 487,
    "start_time": "2021-12-23T19:07:01.889Z"
   },
   {
    "duration": 4813,
    "start_time": "2021-12-23T19:07:33.513Z"
   },
   {
    "duration": 17,
    "start_time": "2021-12-23T19:08:04.450Z"
   },
   {
    "duration": 437,
    "start_time": "2021-12-23T19:20:00.688Z"
   },
   {
    "duration": 525,
    "start_time": "2021-12-23T19:23:23.265Z"
   },
   {
    "duration": 507,
    "start_time": "2021-12-23T19:23:28.170Z"
   },
   {
    "duration": 536,
    "start_time": "2021-12-23T19:23:44.794Z"
   },
   {
    "duration": 587,
    "start_time": "2021-12-23T19:23:58.298Z"
   },
   {
    "duration": 707,
    "start_time": "2021-12-23T19:24:48.074Z"
   },
   {
    "duration": 579,
    "start_time": "2021-12-23T19:29:33.988Z"
   },
   {
    "duration": 204599,
    "start_time": "2021-12-23T19:30:15.317Z"
   },
   {
    "duration": 1288,
    "start_time": "2021-12-23T20:51:18.866Z"
   },
   {
    "duration": 331,
    "start_time": "2021-12-23T21:11:12.058Z"
   },
   {
    "duration": 837,
    "start_time": "2021-12-23T21:11:54.584Z"
   },
   {
    "duration": 97,
    "start_time": "2021-12-24T19:06:25.022Z"
   },
   {
    "duration": 94,
    "start_time": "2021-12-24T19:06:57.434Z"
   },
   {
    "duration": 90,
    "start_time": "2021-12-24T19:07:21.778Z"
   },
   {
    "duration": 371,
    "start_time": "2021-12-24T19:07:31.728Z"
   },
   {
    "duration": 306,
    "start_time": "2021-12-24T19:07:54.938Z"
   },
   {
    "duration": 1502,
    "start_time": "2021-12-24T19:08:00.159Z"
   },
   {
    "duration": 128,
    "start_time": "2021-12-24T19:08:03.592Z"
   },
   {
    "duration": 23,
    "start_time": "2021-12-24T19:08:29.800Z"
   },
   {
    "duration": 8025,
    "start_time": "2021-12-24T19:08:42.210Z"
   },
   {
    "duration": 4,
    "start_time": "2021-12-24T19:08:59.064Z"
   },
   {
    "duration": 115,
    "start_time": "2021-12-24T19:08:59.077Z"
   },
   {
    "duration": 16,
    "start_time": "2021-12-24T19:08:59.194Z"
   },
   {
    "duration": 119,
    "start_time": "2021-12-24T19:08:59.214Z"
   },
   {
    "duration": 31,
    "start_time": "2021-12-24T19:08:59.336Z"
   },
   {
    "duration": 40,
    "start_time": "2021-12-24T19:08:59.370Z"
   },
   {
    "duration": 9,
    "start_time": "2021-12-24T19:08:59.412Z"
   },
   {
    "duration": 5,
    "start_time": "2021-12-24T19:08:59.426Z"
   },
   {
    "duration": 28,
    "start_time": "2021-12-24T19:08:59.467Z"
   },
   {
    "duration": 12,
    "start_time": "2021-12-24T19:08:59.497Z"
   },
   {
    "duration": 7,
    "start_time": "2021-12-24T19:08:59.511Z"
   },
   {
    "duration": 53,
    "start_time": "2021-12-24T19:08:59.520Z"
   },
   {
    "duration": 14,
    "start_time": "2021-12-24T19:08:59.575Z"
   },
   {
    "duration": 7,
    "start_time": "2021-12-24T19:08:59.592Z"
   },
   {
    "duration": 9,
    "start_time": "2021-12-24T19:08:59.602Z"
   },
   {
    "duration": 666,
    "start_time": "2021-12-24T19:08:59.613Z"
   },
   {
    "duration": 11,
    "start_time": "2021-12-24T19:09:00.281Z"
   },
   {
    "duration": 21,
    "start_time": "2021-12-24T19:09:00.295Z"
   },
   {
    "duration": 52,
    "start_time": "2021-12-24T19:09:00.322Z"
   },
   {
    "duration": 21,
    "start_time": "2021-12-24T19:09:00.378Z"
   },
   {
    "duration": 87,
    "start_time": "2021-12-24T19:09:00.401Z"
   },
   {
    "duration": 13,
    "start_time": "2021-12-24T19:09:00.491Z"
   },
   {
    "duration": 18,
    "start_time": "2021-12-24T19:09:00.507Z"
   },
   {
    "duration": 12,
    "start_time": "2021-12-24T19:09:00.527Z"
   },
   {
    "duration": 40,
    "start_time": "2021-12-24T19:09:00.541Z"
   },
   {
    "duration": 22,
    "start_time": "2021-12-24T19:09:00.584Z"
   },
   {
    "duration": 15,
    "start_time": "2021-12-24T19:09:00.608Z"
   },
   {
    "duration": 492,
    "start_time": "2021-12-24T19:09:00.626Z"
   },
   {
    "duration": 15,
    "start_time": "2021-12-24T19:09:01.120Z"
   },
   {
    "duration": 32,
    "start_time": "2021-12-24T19:09:01.138Z"
   },
   {
    "duration": 196,
    "start_time": "2021-12-24T19:09:01.172Z"
   },
   {
    "duration": 45,
    "start_time": "2021-12-24T19:09:01.370Z"
   },
   {
    "duration": 10,
    "start_time": "2021-12-24T19:09:01.417Z"
   },
   {
    "duration": 47,
    "start_time": "2021-12-24T19:09:01.429Z"
   },
   {
    "duration": 31,
    "start_time": "2021-12-24T19:09:01.478Z"
   },
   {
    "duration": 997,
    "start_time": "2021-12-24T19:09:01.512Z"
   },
   {
    "duration": 23,
    "start_time": "2021-12-24T19:09:02.512Z"
   },
   {
    "duration": 37,
    "start_time": "2021-12-24T19:09:02.538Z"
   },
   {
    "duration": 355,
    "start_time": "2021-12-24T19:09:02.577Z"
   },
   {
    "duration": 12,
    "start_time": "2021-12-24T19:09:02.935Z"
   },
   {
    "duration": 29,
    "start_time": "2021-12-24T19:09:02.950Z"
   },
   {
    "duration": 903,
    "start_time": "2021-12-24T19:09:02.981Z"
   },
   {
    "duration": 6,
    "start_time": "2021-12-24T19:09:03.886Z"
   },
   {
    "duration": 18,
    "start_time": "2021-12-24T19:09:03.895Z"
   },
   {
    "duration": 5,
    "start_time": "2021-12-24T19:09:03.916Z"
   },
   {
    "duration": 47,
    "start_time": "2021-12-24T19:09:03.924Z"
   },
   {
    "duration": 375,
    "start_time": "2021-12-24T19:09:03.974Z"
   },
   {
    "duration": 583,
    "start_time": "2021-12-24T19:09:04.351Z"
   },
   {
    "duration": 462,
    "start_time": "2021-12-24T19:09:04.937Z"
   },
   {
    "duration": 357,
    "start_time": "2021-12-24T19:09:05.402Z"
   },
   {
    "duration": 32,
    "start_time": "2021-12-24T19:09:05.763Z"
   },
   {
    "duration": 12,
    "start_time": "2021-12-24T19:09:05.805Z"
   },
   {
    "duration": 404,
    "start_time": "2021-12-24T19:09:05.821Z"
   },
   {
    "duration": 16,
    "start_time": "2021-12-24T19:09:06.228Z"
   },
   {
    "duration": 29,
    "start_time": "2021-12-24T19:09:06.247Z"
   },
   {
    "duration": 17,
    "start_time": "2021-12-24T19:09:06.279Z"
   },
   {
    "duration": 11,
    "start_time": "2021-12-24T19:09:06.299Z"
   },
   {
    "duration": 490,
    "start_time": "2021-12-24T19:09:06.313Z"
   },
   {
    "duration": 382,
    "start_time": "2021-12-24T19:09:06.805Z"
   },
   {
    "duration": 432,
    "start_time": "2021-12-24T19:09:07.189Z"
   },
   {
    "duration": 505,
    "start_time": "2021-12-24T19:09:07.623Z"
   },
   {
    "duration": 55,
    "start_time": "2021-12-24T19:09:08.130Z"
   },
   {
    "duration": 22,
    "start_time": "2021-12-24T19:09:08.189Z"
   },
   {
    "duration": 637,
    "start_time": "2021-12-24T19:09:08.214Z"
   },
   {
    "duration": 17,
    "start_time": "2021-12-24T19:09:08.853Z"
   },
   {
    "duration": 11,
    "start_time": "2021-12-24T19:09:08.872Z"
   },
   {
    "duration": 542,
    "start_time": "2021-12-24T19:09:08.885Z"
   },
   {
    "duration": 381,
    "start_time": "2021-12-24T19:09:09.430Z"
   },
   {
    "duration": 24,
    "start_time": "2021-12-24T19:09:09.813Z"
   },
   {
    "duration": 794,
    "start_time": "2021-12-24T19:09:09.839Z"
   },
   {
    "duration": 11,
    "start_time": "2021-12-24T19:09:10.636Z"
   },
   {
    "duration": 852,
    "start_time": "2021-12-24T19:09:10.667Z"
   },
   {
    "duration": 8,
    "start_time": "2021-12-24T19:09:11.521Z"
   },
   {
    "duration": 805,
    "start_time": "2021-12-24T19:09:11.531Z"
   },
   {
    "duration": 8,
    "start_time": "2021-12-24T19:09:12.338Z"
   },
   {
    "duration": 2773,
    "start_time": "2021-12-24T19:09:12.349Z"
   },
   {
    "duration": -7572,
    "start_time": "2021-12-24T19:09:22.696Z"
   },
   {
    "duration": -7583,
    "start_time": "2021-12-24T19:09:22.709Z"
   },
   {
    "duration": -7598,
    "start_time": "2021-12-24T19:09:22.725Z"
   },
   {
    "duration": -7613,
    "start_time": "2021-12-24T19:09:22.741Z"
   },
   {
    "duration": -7625,
    "start_time": "2021-12-24T19:09:22.755Z"
   },
   {
    "duration": -7640,
    "start_time": "2021-12-24T19:09:22.771Z"
   },
   {
    "duration": -7689,
    "start_time": "2021-12-24T19:09:22.822Z"
   },
   {
    "duration": -7703,
    "start_time": "2021-12-24T19:09:22.837Z"
   },
   {
    "duration": -7715,
    "start_time": "2021-12-24T19:09:22.851Z"
   },
   {
    "duration": -7728,
    "start_time": "2021-12-24T19:09:22.866Z"
   },
   {
    "duration": -7742,
    "start_time": "2021-12-24T19:09:22.881Z"
   },
   {
    "duration": -7757,
    "start_time": "2021-12-24T19:09:22.897Z"
   },
   {
    "duration": -7769,
    "start_time": "2021-12-24T19:09:22.911Z"
   },
   {
    "duration": -7799,
    "start_time": "2021-12-24T19:09:22.943Z"
   },
   {
    "duration": -7812,
    "start_time": "2021-12-24T19:09:22.958Z"
   },
   {
    "duration": -7826,
    "start_time": "2021-12-24T19:09:22.974Z"
   },
   {
    "duration": -7838,
    "start_time": "2021-12-24T19:09:22.988Z"
   },
   {
    "duration": -7851,
    "start_time": "2021-12-24T19:09:23.003Z"
   },
   {
    "duration": -7863,
    "start_time": "2021-12-24T19:09:23.017Z"
   },
   {
    "duration": -7878,
    "start_time": "2021-12-24T19:09:23.033Z"
   },
   {
    "duration": -7906,
    "start_time": "2021-12-24T19:09:23.063Z"
   },
   {
    "duration": -7920,
    "start_time": "2021-12-24T19:09:23.079Z"
   },
   {
    "duration": -7932,
    "start_time": "2021-12-24T19:09:23.093Z"
   },
   {
    "duration": -7943,
    "start_time": "2021-12-24T19:09:23.109Z"
   },
   {
    "duration": -7955,
    "start_time": "2021-12-24T19:09:23.123Z"
   },
   {
    "duration": 4,
    "start_time": "2021-12-24T19:10:52.903Z"
   },
   {
    "duration": 124,
    "start_time": "2021-12-24T19:10:52.915Z"
   },
   {
    "duration": 34,
    "start_time": "2021-12-24T19:10:53.043Z"
   },
   {
    "duration": 125,
    "start_time": "2021-12-24T19:10:53.080Z"
   },
   {
    "duration": 8,
    "start_time": "2021-12-24T19:10:53.207Z"
   },
   {
    "duration": 65,
    "start_time": "2021-12-24T19:10:53.217Z"
   },
   {
    "duration": 8,
    "start_time": "2021-12-24T19:10:53.284Z"
   },
   {
    "duration": 5,
    "start_time": "2021-12-24T19:10:53.294Z"
   },
   {
    "duration": 64,
    "start_time": "2021-12-24T19:10:53.303Z"
   },
   {
    "duration": 12,
    "start_time": "2021-12-24T19:10:53.370Z"
   },
   {
    "duration": 9,
    "start_time": "2021-12-24T19:10:53.385Z"
   },
   {
    "duration": 9,
    "start_time": "2021-12-24T19:10:53.396Z"
   },
   {
    "duration": 14,
    "start_time": "2021-12-24T19:10:53.407Z"
   },
   {
    "duration": 10,
    "start_time": "2021-12-24T19:10:53.468Z"
   },
   {
    "duration": 7,
    "start_time": "2021-12-24T19:10:53.481Z"
   },
   {
    "duration": 666,
    "start_time": "2021-12-24T19:10:53.490Z"
   },
   {
    "duration": 11,
    "start_time": "2021-12-24T19:10:54.167Z"
   },
   {
    "duration": 12,
    "start_time": "2021-12-24T19:10:54.180Z"
   },
   {
    "duration": 28,
    "start_time": "2021-12-24T19:10:54.195Z"
   },
   {
    "duration": 60,
    "start_time": "2021-12-24T19:10:54.225Z"
   },
   {
    "duration": 46,
    "start_time": "2021-12-24T19:10:54.287Z"
   },
   {
    "duration": 39,
    "start_time": "2021-12-24T19:10:54.335Z"
   },
   {
    "duration": 122,
    "start_time": "2021-12-24T19:10:54.380Z"
   },
   {
    "duration": 9,
    "start_time": "2021-12-24T19:10:54.506Z"
   },
   {
    "duration": 12,
    "start_time": "2021-12-24T19:10:54.518Z"
   },
   {
    "duration": 53,
    "start_time": "2021-12-24T19:10:54.533Z"
   },
   {
    "duration": 16,
    "start_time": "2021-12-24T19:10:54.588Z"
   },
   {
    "duration": 486,
    "start_time": "2021-12-24T19:10:54.606Z"
   },
   {
    "duration": 18,
    "start_time": "2021-12-24T19:10:55.095Z"
   },
   {
    "duration": 9,
    "start_time": "2021-12-24T19:10:55.116Z"
   },
   {
    "duration": 226,
    "start_time": "2021-12-24T19:10:55.128Z"
   },
   {
    "duration": 44,
    "start_time": "2021-12-24T19:10:55.357Z"
   },
   {
    "duration": 11,
    "start_time": "2021-12-24T19:10:55.403Z"
   },
   {
    "duration": 16,
    "start_time": "2021-12-24T19:10:55.416Z"
   },
   {
    "duration": 58,
    "start_time": "2021-12-24T19:10:55.435Z"
   },
   {
    "duration": 983,
    "start_time": "2021-12-24T19:10:55.495Z"
   },
   {
    "duration": 18,
    "start_time": "2021-12-24T19:10:56.481Z"
   },
   {
    "duration": 11,
    "start_time": "2021-12-24T19:10:56.501Z"
   },
   {
    "duration": 375,
    "start_time": "2021-12-24T19:10:56.514Z"
   },
   {
    "duration": 10,
    "start_time": "2021-12-24T19:10:56.891Z"
   },
   {
    "duration": 15,
    "start_time": "2021-12-24T19:10:56.903Z"
   },
   {
    "duration": 906,
    "start_time": "2021-12-24T19:10:56.920Z"
   },
   {
    "duration": 7,
    "start_time": "2021-12-24T19:10:57.829Z"
   },
   {
    "duration": 33,
    "start_time": "2021-12-24T19:10:57.838Z"
   },
   {
    "duration": 5,
    "start_time": "2021-12-24T19:10:57.874Z"
   },
   {
    "duration": 13,
    "start_time": "2021-12-24T19:10:57.882Z"
   },
   {
    "duration": 390,
    "start_time": "2021-12-24T19:10:57.897Z"
   },
   {
    "duration": 670,
    "start_time": "2021-12-24T19:10:58.290Z"
   },
   {
    "duration": 443,
    "start_time": "2021-12-24T19:10:58.962Z"
   },
   {
    "duration": 454,
    "start_time": "2021-12-24T19:10:59.407Z"
   },
   {
    "duration": 28,
    "start_time": "2021-12-24T19:10:59.866Z"
   },
   {
    "duration": 11,
    "start_time": "2021-12-24T19:10:59.897Z"
   },
   {
    "duration": 393,
    "start_time": "2021-12-24T19:10:59.911Z"
   },
   {
    "duration": 16,
    "start_time": "2021-12-24T19:11:00.306Z"
   },
   {
    "duration": 12,
    "start_time": "2021-12-24T19:11:00.325Z"
   },
   {
    "duration": 14,
    "start_time": "2021-12-24T19:11:00.368Z"
   },
   {
    "duration": 11,
    "start_time": "2021-12-24T19:11:00.385Z"
   },
   {
    "duration": 478,
    "start_time": "2021-12-24T19:11:00.398Z"
   },
   {
    "duration": 373,
    "start_time": "2021-12-24T19:11:00.878Z"
   },
   {
    "duration": 426,
    "start_time": "2021-12-24T19:11:01.253Z"
   },
   {
    "duration": 614,
    "start_time": "2021-12-24T19:11:01.681Z"
   },
   {
    "duration": 31,
    "start_time": "2021-12-24T19:11:02.297Z"
   },
   {
    "duration": 44,
    "start_time": "2021-12-24T19:11:02.331Z"
   },
   {
    "duration": 523,
    "start_time": "2021-12-24T19:11:02.377Z"
   },
   {
    "duration": 7,
    "start_time": "2021-12-24T19:11:02.909Z"
   },
   {
    "duration": 12,
    "start_time": "2021-12-24T19:11:02.920Z"
   },
   {
    "duration": 574,
    "start_time": "2021-12-24T19:11:02.934Z"
   },
   {
    "duration": 375,
    "start_time": "2021-12-24T19:11:03.512Z"
   },
   {
    "duration": 25,
    "start_time": "2021-12-24T19:11:03.890Z"
   },
   {
    "duration": 744,
    "start_time": "2021-12-24T19:11:03.918Z"
   },
   {
    "duration": 10,
    "start_time": "2021-12-24T19:11:04.664Z"
   },
   {
    "duration": 790,
    "start_time": "2021-12-24T19:11:04.677Z"
   },
   {
    "duration": 11,
    "start_time": "2021-12-24T19:11:05.469Z"
   },
   {
    "duration": 839,
    "start_time": "2021-12-24T19:11:05.482Z"
   },
   {
    "duration": 8,
    "start_time": "2021-12-24T19:11:06.323Z"
   },
   {
    "duration": 1034,
    "start_time": "2021-12-24T19:11:06.334Z"
   },
   {
    "duration": 775,
    "start_time": "2021-12-24T19:11:07.371Z"
   },
   {
    "duration": 325,
    "start_time": "2021-12-24T19:11:08.148Z"
   },
   {
    "duration": 4,
    "start_time": "2021-12-24T19:11:08.475Z"
   },
   {
    "duration": 420,
    "start_time": "2021-12-24T19:11:08.482Z"
   },
   {
    "duration": 3,
    "start_time": "2021-12-24T19:11:08.904Z"
   },
   {
    "duration": 350,
    "start_time": "2021-12-24T19:11:08.909Z"
   },
   {
    "duration": 3,
    "start_time": "2021-12-24T19:11:09.266Z"
   },
   {
    "duration": 20,
    "start_time": "2021-12-24T19:11:09.271Z"
   },
   {
    "duration": 635,
    "start_time": "2021-12-24T19:11:09.293Z"
   },
   {
    "duration": 44,
    "start_time": "2021-12-24T19:11:09.931Z"
   },
   {
    "duration": 47,
    "start_time": "2021-12-24T19:11:09.977Z"
   },
   {
    "duration": 2243,
    "start_time": "2021-12-24T19:11:10.026Z"
   },
   {
    "duration": 10,
    "start_time": "2021-12-24T19:11:12.272Z"
   },
   {
    "duration": 704,
    "start_time": "2021-12-24T19:11:12.284Z"
   },
   {
    "duration": 1011,
    "start_time": "2021-12-24T19:11:12.990Z"
   },
   {
    "duration": 496,
    "start_time": "2021-12-24T19:11:14.004Z"
   },
   {
    "duration": 4632,
    "start_time": "2021-12-24T19:11:14.503Z"
   },
   {
    "duration": 30,
    "start_time": "2021-12-24T19:11:19.138Z"
   },
   {
    "duration": 765,
    "start_time": "2021-12-24T19:11:19.171Z"
   },
   {
    "duration": 504,
    "start_time": "2021-12-24T19:11:19.939Z"
   },
   {
    "duration": 3,
    "start_time": "2021-12-24T19:11:20.446Z"
   },
   {
    "duration": 654,
    "start_time": "2021-12-24T19:11:20.452Z"
   },
   {
    "duration": 4,
    "start_time": "2021-12-24T19:11:21.109Z"
   },
   {
    "duration": 615,
    "start_time": "2021-12-24T19:11:21.116Z"
   },
   {
    "duration": 306,
    "start_time": "2021-12-24T19:11:21.734Z"
   },
   {
    "duration": 295,
    "start_time": "2021-12-24T19:11:55.109Z"
   },
   {
    "duration": 424,
    "start_time": "2021-12-24T19:12:00.370Z"
   },
   {
    "duration": 111,
    "start_time": "2021-12-24T19:13:08.342Z"
   },
   {
    "duration": 454,
    "start_time": "2021-12-24T19:13:21.034Z"
   },
   {
    "duration": 619,
    "start_time": "2021-12-24T19:14:54.995Z"
   },
   {
    "duration": 863,
    "start_time": "2021-12-24T19:15:09.277Z"
   },
   {
    "duration": 25595,
    "start_time": "2021-12-24T19:16:08.340Z"
   },
   {
    "duration": 99,
    "start_time": "2021-12-24T19:17:15.405Z"
   },
   {
    "duration": 50746,
    "start_time": "2021-12-24T19:17:21.428Z"
   },
   {
    "duration": 31658,
    "start_time": "2021-12-24T19:18:31.856Z"
   },
   {
    "duration": -5371,
    "start_time": "2021-12-24T19:19:08.889Z"
   },
   {
    "duration": 681,
    "start_time": "2021-12-24T19:19:11.878Z"
   },
   {
    "duration": 115634,
    "start_time": "2021-12-24T19:20:00.884Z"
   }
  ],
  "kernelspec": {
   "display_name": "Python 3",
   "language": "python",
   "name": "python3"
  },
  "language_info": {
   "codemirror_mode": {
    "name": "ipython",
    "version": 3
   },
   "file_extension": ".py",
   "mimetype": "text/x-python",
   "name": "python",
   "nbconvert_exporter": "python",
   "pygments_lexer": "ipython3",
   "version": "3.7.3"
  },
  "toc": {
   "base_numbering": 1,
   "nav_menu": {},
   "number_sections": false,
   "sideBar": true,
   "skip_h1_title": false,
   "title_cell": "Содержание",
   "title_sidebar": "Contents",
   "toc_cell": true,
   "toc_position": {
    "height": "calc(100% - 180px)",
    "left": "10px",
    "top": "150px",
    "width": "383.2px"
   },
   "toc_section_display": true,
   "toc_window_display": true
  }
 },
 "nbformat": 4,
 "nbformat_minor": 2
}
