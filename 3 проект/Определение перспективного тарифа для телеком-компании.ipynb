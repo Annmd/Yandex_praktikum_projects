{
 "cells": [
  {
   "cell_type": "markdown",
   "metadata": {},
   "source": [
    "# Определение перспективного тарифа для телеком-компании "
   ]
  },
  {
   "cell_type": "markdown",
   "metadata": {},
   "source": [
    "Задача: сделать предварительный анализ тарифов на небольшой выборке клиентов, определить какой тариф экономически более выгоден.\n",
    "На основе данных 500 пользователей: кто они, откуда, каким тарифом пользуются, сколько звонков и сообщений каждый отправил за 2018 год. \n",
    "Описание тарифов\n",
    "1. Тариф «Смарт»\n",
    "* Ежемесячная плата: 550 рублей\n",
    "* Включено 500 минут разговора, 50 сообщений и 15 Гб интернет-трафика\n",
    "* Стоимость услуг сверх тарифного пакета: \n",
    "                                          1. минута разговора: 3 рубля; \n",
    "                                          2. сообщение: 3 рубля;  \n",
    "                                          3. 1 Гб интернет-трафика: 200 рублей.\n",
    "2. Тариф «Ультра»\n",
    "* Ежемесячная плата: 1950 рублей\n",
    "* Включено 3000 минут разговора, 1000 сообщений и 30 Гб интернет-трафика\n",
    "* Стоимость услуг сверх тарифного пакета: \n",
    "                                          1. минута разговора: 1 рубль;  \n",
    "                                          2. сообщение: 1 рубль; \n",
    "                                          3. 1 Гб интернет-трафика: 150 рублей."
   ]
  },
  {
   "cell_type": "markdown",
   "metadata": {},
   "source": [
    "**Описание данных**\n",
    "\n",
    "**Таблица users (информация о пользователях):**\n",
    "* user_id — уникальный идентификатор пользователя\n",
    "* first_name — имя пользователя\n",
    "* last_name — фамилия пользователя\n",
    "* age — возраст пользователя (годы)\n",
    "* reg_date — дата подключения тарифа (день, месяц, год)\n",
    "* churn_date — дата прекращения пользования тарифом (если значение пропущено, то тариф ещё действовал на момент выгрузки данных)\n",
    "* city — город проживания пользователя\n",
    "* tarif — название тарифного плана\n",
    "\n",
    "**Таблица calls (информация о звонках):**\n",
    "* id — уникальный номер звонка\n",
    "* call_date — дата звонка\n",
    "* duration — длительность звонка в минутах\n",
    "* user_id — идентификатор пользователя, сделавшего звонок\n",
    "\n",
    "**Таблица messages (информация о сообщениях):**\n",
    "* id — уникальный номер сообщения\n",
    "* message_date — дата сообщения\n",
    "* user_id — идентификатор пользователя, отправившего сообщение\n",
    "\n",
    "**Таблица internet (информация об интернет-сессиях):**\n",
    "* id — уникальный номер сессии\n",
    "* mb_used — объём потраченного за сессию интернет-трафика (в мегабайтах)\n",
    "* session_date — дата интернет-сессии\n",
    "* user_id — идентификатор пользователя\n",
    "\n",
    "**Таблица tariffs (информация о тарифах):**\n",
    "* tariff_name — название тарифа\n",
    "* rub_monthly_fee — ежемесячная абонентская плата в рублях\n",
    "* minutes_included — количество минут разговора в месяц, включённых в абонентскую плату\n",
    "* messages_included — количество сообщений в месяц, включённых в абонентскую плату\n",
    "* mb_per_month_included — объём интернет-трафика, включённого в абонентскую плату (в мегабайтах)\n",
    "* rub_per_minute — стоимость минуты разговора сверх тарифного пакета (например, если в тарифе 100 минут разговора в месяц, то со 101 минуты будет взиматься плата)\n",
    "* rub_per_message — стоимость отправки сообщения сверх тарифного пакета\n",
    "* rub_per_gb — стоимость дополнительного гигабайта интернет-трафика сверх тарифного пакета (1 гигабайт = 1024 мегабайта)\n"
   ]
  },
  {
   "cell_type": "code",
   "execution_count": 1,
   "metadata": {},
   "outputs": [],
   "source": [
    "import pandas as pd\n",
    "import numpy as np\n",
    "import matplotlib.pyplot as plt\n",
    "from scipy import stats as st\n",
    "from datetime import datetime"
   ]
  },
  {
   "cell_type": "markdown",
   "metadata": {},
   "source": [
    "##  Изучение данных ##"
   ]
  },
  {
   "cell_type": "code",
   "execution_count": 2,
   "metadata": {},
   "outputs": [
    {
     "data": {
      "text/html": [
       "<div>\n",
       "<style scoped>\n",
       "    .dataframe tbody tr th:only-of-type {\n",
       "        vertical-align: middle;\n",
       "    }\n",
       "\n",
       "    .dataframe tbody tr th {\n",
       "        vertical-align: top;\n",
       "    }\n",
       "\n",
       "    .dataframe thead th {\n",
       "        text-align: right;\n",
       "    }\n",
       "</style>\n",
       "<table border=\"1\" class=\"dataframe\">\n",
       "  <thead>\n",
       "    <tr style=\"text-align: right;\">\n",
       "      <th></th>\n",
       "      <th>user_id</th>\n",
       "      <th>age</th>\n",
       "      <th>churn_date</th>\n",
       "      <th>city</th>\n",
       "      <th>first_name</th>\n",
       "      <th>last_name</th>\n",
       "      <th>reg_date</th>\n",
       "      <th>tariff</th>\n",
       "    </tr>\n",
       "  </thead>\n",
       "  <tbody>\n",
       "    <tr>\n",
       "      <td>0</td>\n",
       "      <td>1000</td>\n",
       "      <td>52</td>\n",
       "      <td>NaN</td>\n",
       "      <td>Краснодар</td>\n",
       "      <td>Рафаил</td>\n",
       "      <td>Верещагин</td>\n",
       "      <td>2018-05-25</td>\n",
       "      <td>ultra</td>\n",
       "    </tr>\n",
       "    <tr>\n",
       "      <td>1</td>\n",
       "      <td>1001</td>\n",
       "      <td>41</td>\n",
       "      <td>NaN</td>\n",
       "      <td>Москва</td>\n",
       "      <td>Иван</td>\n",
       "      <td>Ежов</td>\n",
       "      <td>2018-11-01</td>\n",
       "      <td>smart</td>\n",
       "    </tr>\n",
       "    <tr>\n",
       "      <td>2</td>\n",
       "      <td>1002</td>\n",
       "      <td>59</td>\n",
       "      <td>NaN</td>\n",
       "      <td>Стерлитамак</td>\n",
       "      <td>Евгений</td>\n",
       "      <td>Абрамович</td>\n",
       "      <td>2018-06-17</td>\n",
       "      <td>smart</td>\n",
       "    </tr>\n",
       "    <tr>\n",
       "      <td>3</td>\n",
       "      <td>1003</td>\n",
       "      <td>23</td>\n",
       "      <td>NaN</td>\n",
       "      <td>Москва</td>\n",
       "      <td>Белла</td>\n",
       "      <td>Белякова</td>\n",
       "      <td>2018-08-17</td>\n",
       "      <td>ultra</td>\n",
       "    </tr>\n",
       "    <tr>\n",
       "      <td>4</td>\n",
       "      <td>1004</td>\n",
       "      <td>68</td>\n",
       "      <td>NaN</td>\n",
       "      <td>Новокузнецк</td>\n",
       "      <td>Татьяна</td>\n",
       "      <td>Авдеенко</td>\n",
       "      <td>2018-05-14</td>\n",
       "      <td>ultra</td>\n",
       "    </tr>\n",
       "  </tbody>\n",
       "</table>\n",
       "</div>"
      ],
      "text/plain": [
       "   user_id  age churn_date         city first_name  last_name   reg_date  \\\n",
       "0     1000   52        NaN    Краснодар     Рафаил  Верещагин 2018-05-25   \n",
       "1     1001   41        NaN       Москва       Иван       Ежов 2018-11-01   \n",
       "2     1002   59        NaN  Стерлитамак    Евгений  Абрамович 2018-06-17   \n",
       "3     1003   23        NaN       Москва      Белла   Белякова 2018-08-17   \n",
       "4     1004   68        NaN  Новокузнецк    Татьяна   Авдеенко 2018-05-14   \n",
       "\n",
       "  tariff  \n",
       "0  ultra  \n",
       "1  smart  \n",
       "2  smart  \n",
       "3  ultra  \n",
       "4  ultra  "
      ]
     },
     "execution_count": 2,
     "metadata": {},
     "output_type": "execute_result"
    }
   ],
   "source": [
    "other_date_paser = lambda x: datetime.strptime(x, \"%Y-%m-%d\")\n",
    "users = pd.read_csv('/datasets/users.csv', parse_dates = ['reg_date'], date_parser = other_date_paser)\n",
    "users.head(5)"
   ]
  },
  {
   "cell_type": "code",
   "execution_count": 3,
   "metadata": {
    "scrolled": false
   },
   "outputs": [
    {
     "name": "stdout",
     "output_type": "stream",
     "text": [
      "<class 'pandas.core.frame.DataFrame'>\n",
      "RangeIndex: 500 entries, 0 to 499\n",
      "Data columns (total 8 columns):\n",
      "user_id       500 non-null int64\n",
      "age           500 non-null int64\n",
      "churn_date    38 non-null object\n",
      "city          500 non-null object\n",
      "first_name    500 non-null object\n",
      "last_name     500 non-null object\n",
      "reg_date      500 non-null datetime64[ns]\n",
      "tariff        500 non-null object\n",
      "dtypes: datetime64[ns](1), int64(2), object(5)\n",
      "memory usage: 31.4+ KB\n"
     ]
    }
   ],
   "source": [
    "users.info()"
   ]
  },
  {
   "cell_type": "markdown",
   "metadata": {},
   "source": [
    "Согласно описанию пропуски в churn_date значат, что тариф ещё действовал на момент выгрузки данных, не требуют заполнения. В других столбцах пропусков нет."
   ]
  },
  {
   "cell_type": "code",
   "execution_count": 4,
   "metadata": {},
   "outputs": [
    {
     "data": {
      "text/html": [
       "<div>\n",
       "<style scoped>\n",
       "    .dataframe tbody tr th:only-of-type {\n",
       "        vertical-align: middle;\n",
       "    }\n",
       "\n",
       "    .dataframe tbody tr th {\n",
       "        vertical-align: top;\n",
       "    }\n",
       "\n",
       "    .dataframe thead th {\n",
       "        text-align: right;\n",
       "    }\n",
       "</style>\n",
       "<table border=\"1\" class=\"dataframe\">\n",
       "  <thead>\n",
       "    <tr style=\"text-align: right;\">\n",
       "      <th></th>\n",
       "      <th>user_id</th>\n",
       "      <th>age</th>\n",
       "      <th>churn_date</th>\n",
       "      <th>city</th>\n",
       "      <th>first_name</th>\n",
       "      <th>last_name</th>\n",
       "      <th>reg_date</th>\n",
       "    </tr>\n",
       "    <tr>\n",
       "      <th>tariff</th>\n",
       "      <th></th>\n",
       "      <th></th>\n",
       "      <th></th>\n",
       "      <th></th>\n",
       "      <th></th>\n",
       "      <th></th>\n",
       "      <th></th>\n",
       "    </tr>\n",
       "  </thead>\n",
       "  <tbody>\n",
       "    <tr>\n",
       "      <td>smart</td>\n",
       "      <td>351</td>\n",
       "      <td>351</td>\n",
       "      <td>23</td>\n",
       "      <td>351</td>\n",
       "      <td>351</td>\n",
       "      <td>351</td>\n",
       "      <td>351</td>\n",
       "    </tr>\n",
       "    <tr>\n",
       "      <td>ultra</td>\n",
       "      <td>149</td>\n",
       "      <td>149</td>\n",
       "      <td>15</td>\n",
       "      <td>149</td>\n",
       "      <td>149</td>\n",
       "      <td>149</td>\n",
       "      <td>149</td>\n",
       "    </tr>\n",
       "  </tbody>\n",
       "</table>\n",
       "</div>"
      ],
      "text/plain": [
       "        user_id  age  churn_date  city  first_name  last_name  reg_date\n",
       "tariff                                                                 \n",
       "smart       351  351          23   351         351        351       351\n",
       "ultra       149  149          15   149         149        149       149"
      ]
     },
     "execution_count": 4,
     "metadata": {},
     "output_type": "execute_result"
    }
   ],
   "source": [
    "users.groupby('tariff').count()"
   ]
  },
  {
   "cell_type": "markdown",
   "metadata": {},
   "source": [
    "В датасете пользователи разделены по тарифам неравномерно: 351 пользователь в smart и 149 в ultra."
   ]
  },
  {
   "cell_type": "code",
   "execution_count": 5,
   "metadata": {},
   "outputs": [
    {
     "data": {
      "text/html": [
       "<div>\n",
       "<style scoped>\n",
       "    .dataframe tbody tr th:only-of-type {\n",
       "        vertical-align: middle;\n",
       "    }\n",
       "\n",
       "    .dataframe tbody tr th {\n",
       "        vertical-align: top;\n",
       "    }\n",
       "\n",
       "    .dataframe thead th {\n",
       "        text-align: right;\n",
       "    }\n",
       "</style>\n",
       "<table border=\"1\" class=\"dataframe\">\n",
       "  <thead>\n",
       "    <tr style=\"text-align: right;\">\n",
       "      <th></th>\n",
       "      <th>id</th>\n",
       "      <th>call_date</th>\n",
       "      <th>duration</th>\n",
       "      <th>user_id</th>\n",
       "    </tr>\n",
       "  </thead>\n",
       "  <tbody>\n",
       "    <tr>\n",
       "      <td>0</td>\n",
       "      <td>1000_0</td>\n",
       "      <td>2018-07-25</td>\n",
       "      <td>0.00</td>\n",
       "      <td>1000</td>\n",
       "    </tr>\n",
       "    <tr>\n",
       "      <td>1</td>\n",
       "      <td>1000_1</td>\n",
       "      <td>2018-08-17</td>\n",
       "      <td>0.00</td>\n",
       "      <td>1000</td>\n",
       "    </tr>\n",
       "    <tr>\n",
       "      <td>2</td>\n",
       "      <td>1000_2</td>\n",
       "      <td>2018-06-11</td>\n",
       "      <td>2.85</td>\n",
       "      <td>1000</td>\n",
       "    </tr>\n",
       "    <tr>\n",
       "      <td>3</td>\n",
       "      <td>1000_3</td>\n",
       "      <td>2018-09-21</td>\n",
       "      <td>13.80</td>\n",
       "      <td>1000</td>\n",
       "    </tr>\n",
       "    <tr>\n",
       "      <td>4</td>\n",
       "      <td>1000_4</td>\n",
       "      <td>2018-12-15</td>\n",
       "      <td>5.18</td>\n",
       "      <td>1000</td>\n",
       "    </tr>\n",
       "  </tbody>\n",
       "</table>\n",
       "</div>"
      ],
      "text/plain": [
       "       id  call_date  duration  user_id\n",
       "0  1000_0 2018-07-25      0.00     1000\n",
       "1  1000_1 2018-08-17      0.00     1000\n",
       "2  1000_2 2018-06-11      2.85     1000\n",
       "3  1000_3 2018-09-21     13.80     1000\n",
       "4  1000_4 2018-12-15      5.18     1000"
      ]
     },
     "execution_count": 5,
     "metadata": {},
     "output_type": "execute_result"
    }
   ],
   "source": [
    "calls = pd.read_csv('/datasets/calls.csv', parse_dates = ['call_date'], date_parser = other_date_paser)\n",
    "calls.head(5)"
   ]
  },
  {
   "cell_type": "code",
   "execution_count": 6,
   "metadata": {
    "scrolled": false
   },
   "outputs": [
    {
     "name": "stdout",
     "output_type": "stream",
     "text": [
      "<class 'pandas.core.frame.DataFrame'>\n",
      "RangeIndex: 202607 entries, 0 to 202606\n",
      "Data columns (total 4 columns):\n",
      "id           202607 non-null object\n",
      "call_date    202607 non-null datetime64[ns]\n",
      "duration     202607 non-null float64\n",
      "user_id      202607 non-null int64\n",
      "dtypes: datetime64[ns](1), float64(1), int64(1), object(1)\n",
      "memory usage: 6.2+ MB\n"
     ]
    }
   ],
   "source": [
    "calls.info()"
   ]
  },
  {
   "cell_type": "markdown",
   "metadata": {},
   "source": [
    "Пропусков в данных нет."
   ]
  },
  {
   "cell_type": "code",
   "execution_count": 7,
   "metadata": {},
   "outputs": [
    {
     "data": {
      "text/html": [
       "<div>\n",
       "<style scoped>\n",
       "    .dataframe tbody tr th:only-of-type {\n",
       "        vertical-align: middle;\n",
       "    }\n",
       "\n",
       "    .dataframe tbody tr th {\n",
       "        vertical-align: top;\n",
       "    }\n",
       "\n",
       "    .dataframe thead th {\n",
       "        text-align: right;\n",
       "    }\n",
       "</style>\n",
       "<table border=\"1\" class=\"dataframe\">\n",
       "  <thead>\n",
       "    <tr style=\"text-align: right;\">\n",
       "      <th></th>\n",
       "      <th>duration</th>\n",
       "      <th>user_id</th>\n",
       "    </tr>\n",
       "  </thead>\n",
       "  <tbody>\n",
       "    <tr>\n",
       "      <td>count</td>\n",
       "      <td>202607.000000</td>\n",
       "      <td>202607.000000</td>\n",
       "    </tr>\n",
       "    <tr>\n",
       "      <td>mean</td>\n",
       "      <td>6.755887</td>\n",
       "      <td>1253.940619</td>\n",
       "    </tr>\n",
       "    <tr>\n",
       "      <td>std</td>\n",
       "      <td>5.843365</td>\n",
       "      <td>144.722751</td>\n",
       "    </tr>\n",
       "    <tr>\n",
       "      <td>min</td>\n",
       "      <td>0.000000</td>\n",
       "      <td>1000.000000</td>\n",
       "    </tr>\n",
       "    <tr>\n",
       "      <td>25%</td>\n",
       "      <td>1.300000</td>\n",
       "      <td>1126.000000</td>\n",
       "    </tr>\n",
       "    <tr>\n",
       "      <td>50%</td>\n",
       "      <td>6.000000</td>\n",
       "      <td>1260.000000</td>\n",
       "    </tr>\n",
       "    <tr>\n",
       "      <td>75%</td>\n",
       "      <td>10.700000</td>\n",
       "      <td>1379.000000</td>\n",
       "    </tr>\n",
       "    <tr>\n",
       "      <td>max</td>\n",
       "      <td>38.000000</td>\n",
       "      <td>1499.000000</td>\n",
       "    </tr>\n",
       "  </tbody>\n",
       "</table>\n",
       "</div>"
      ],
      "text/plain": [
       "            duration        user_id\n",
       "count  202607.000000  202607.000000\n",
       "mean        6.755887    1253.940619\n",
       "std         5.843365     144.722751\n",
       "min         0.000000    1000.000000\n",
       "25%         1.300000    1126.000000\n",
       "50%         6.000000    1260.000000\n",
       "75%        10.700000    1379.000000\n",
       "max        38.000000    1499.000000"
      ]
     },
     "execution_count": 7,
     "metadata": {},
     "output_type": "execute_result"
    }
   ],
   "source": [
    "calls.describe()"
   ]
  },
  {
   "cell_type": "markdown",
   "metadata": {},
   "source": [
    "Минимальное значение в колонке продолжительность звонка 0, согласно описанию нулями обозначены пропущенные звонки, максимальное значение продолжительности 38 минут, что возможно с точки зрения реалистичности данных. Данные представлены по всем 500 пользователям с id от 1000 до 1499."
   ]
  },
  {
   "cell_type": "code",
   "execution_count": 8,
   "metadata": {},
   "outputs": [
    {
     "data": {
      "text/html": [
       "<div>\n",
       "<style scoped>\n",
       "    .dataframe tbody tr th:only-of-type {\n",
       "        vertical-align: middle;\n",
       "    }\n",
       "\n",
       "    .dataframe tbody tr th {\n",
       "        vertical-align: top;\n",
       "    }\n",
       "\n",
       "    .dataframe thead th {\n",
       "        text-align: right;\n",
       "    }\n",
       "</style>\n",
       "<table border=\"1\" class=\"dataframe\">\n",
       "  <thead>\n",
       "    <tr style=\"text-align: right;\">\n",
       "      <th></th>\n",
       "      <th>id</th>\n",
       "      <th>message_date</th>\n",
       "      <th>user_id</th>\n",
       "    </tr>\n",
       "  </thead>\n",
       "  <tbody>\n",
       "    <tr>\n",
       "      <td>0</td>\n",
       "      <td>1000_0</td>\n",
       "      <td>2018-06-27</td>\n",
       "      <td>1000</td>\n",
       "    </tr>\n",
       "    <tr>\n",
       "      <td>1</td>\n",
       "      <td>1000_1</td>\n",
       "      <td>2018-10-08</td>\n",
       "      <td>1000</td>\n",
       "    </tr>\n",
       "    <tr>\n",
       "      <td>2</td>\n",
       "      <td>1000_2</td>\n",
       "      <td>2018-08-04</td>\n",
       "      <td>1000</td>\n",
       "    </tr>\n",
       "    <tr>\n",
       "      <td>3</td>\n",
       "      <td>1000_3</td>\n",
       "      <td>2018-06-16</td>\n",
       "      <td>1000</td>\n",
       "    </tr>\n",
       "    <tr>\n",
       "      <td>4</td>\n",
       "      <td>1000_4</td>\n",
       "      <td>2018-12-05</td>\n",
       "      <td>1000</td>\n",
       "    </tr>\n",
       "  </tbody>\n",
       "</table>\n",
       "</div>"
      ],
      "text/plain": [
       "       id message_date  user_id\n",
       "0  1000_0   2018-06-27     1000\n",
       "1  1000_1   2018-10-08     1000\n",
       "2  1000_2   2018-08-04     1000\n",
       "3  1000_3   2018-06-16     1000\n",
       "4  1000_4   2018-12-05     1000"
      ]
     },
     "execution_count": 8,
     "metadata": {},
     "output_type": "execute_result"
    }
   ],
   "source": [
    "messages = pd.read_csv('/datasets/messages.csv',parse_dates = ['message_date'], date_parser = other_date_paser)\n",
    "messages.head(5)"
   ]
  },
  {
   "cell_type": "code",
   "execution_count": 9,
   "metadata": {
    "scrolled": false
   },
   "outputs": [
    {
     "name": "stdout",
     "output_type": "stream",
     "text": [
      "<class 'pandas.core.frame.DataFrame'>\n",
      "RangeIndex: 123036 entries, 0 to 123035\n",
      "Data columns (total 3 columns):\n",
      "id              123036 non-null object\n",
      "message_date    123036 non-null datetime64[ns]\n",
      "user_id         123036 non-null int64\n",
      "dtypes: datetime64[ns](1), int64(1), object(1)\n",
      "memory usage: 2.8+ MB\n"
     ]
    }
   ],
   "source": [
    "messages.info()"
   ]
  },
  {
   "cell_type": "markdown",
   "metadata": {},
   "source": [
    "Пропусков в данных нет."
   ]
  },
  {
   "cell_type": "code",
   "execution_count": 10,
   "metadata": {},
   "outputs": [
    {
     "data": {
      "text/html": [
       "<div>\n",
       "<style scoped>\n",
       "    .dataframe tbody tr th:only-of-type {\n",
       "        vertical-align: middle;\n",
       "    }\n",
       "\n",
       "    .dataframe tbody tr th {\n",
       "        vertical-align: top;\n",
       "    }\n",
       "\n",
       "    .dataframe thead th {\n",
       "        text-align: right;\n",
       "    }\n",
       "</style>\n",
       "<table border=\"1\" class=\"dataframe\">\n",
       "  <thead>\n",
       "    <tr style=\"text-align: right;\">\n",
       "      <th></th>\n",
       "      <th>id</th>\n",
       "      <th>mb_used</th>\n",
       "      <th>session_date</th>\n",
       "      <th>user_id</th>\n",
       "    </tr>\n",
       "  </thead>\n",
       "  <tbody>\n",
       "    <tr>\n",
       "      <td>0</td>\n",
       "      <td>1000_0</td>\n",
       "      <td>112.95</td>\n",
       "      <td>2018-11-25</td>\n",
       "      <td>1000</td>\n",
       "    </tr>\n",
       "    <tr>\n",
       "      <td>1</td>\n",
       "      <td>1000_1</td>\n",
       "      <td>1052.81</td>\n",
       "      <td>2018-09-07</td>\n",
       "      <td>1000</td>\n",
       "    </tr>\n",
       "    <tr>\n",
       "      <td>2</td>\n",
       "      <td>1000_2</td>\n",
       "      <td>1197.26</td>\n",
       "      <td>2018-06-25</td>\n",
       "      <td>1000</td>\n",
       "    </tr>\n",
       "    <tr>\n",
       "      <td>3</td>\n",
       "      <td>1000_3</td>\n",
       "      <td>550.27</td>\n",
       "      <td>2018-08-22</td>\n",
       "      <td>1000</td>\n",
       "    </tr>\n",
       "    <tr>\n",
       "      <td>4</td>\n",
       "      <td>1000_4</td>\n",
       "      <td>302.56</td>\n",
       "      <td>2018-09-24</td>\n",
       "      <td>1000</td>\n",
       "    </tr>\n",
       "  </tbody>\n",
       "</table>\n",
       "</div>"
      ],
      "text/plain": [
       "       id  mb_used session_date  user_id\n",
       "0  1000_0   112.95   2018-11-25     1000\n",
       "1  1000_1  1052.81   2018-09-07     1000\n",
       "2  1000_2  1197.26   2018-06-25     1000\n",
       "3  1000_3   550.27   2018-08-22     1000\n",
       "4  1000_4   302.56   2018-09-24     1000"
      ]
     },
     "execution_count": 10,
     "metadata": {},
     "output_type": "execute_result"
    }
   ],
   "source": [
    "internet = pd.read_csv('/datasets/internet.csv',index_col = 0,parse_dates = ['session_date'], date_parser = other_date_paser )\n",
    "internet.head(5)"
   ]
  },
  {
   "cell_type": "code",
   "execution_count": 11,
   "metadata": {
    "scrolled": false
   },
   "outputs": [
    {
     "name": "stdout",
     "output_type": "stream",
     "text": [
      "<class 'pandas.core.frame.DataFrame'>\n",
      "Int64Index: 149396 entries, 0 to 149395\n",
      "Data columns (total 4 columns):\n",
      "id              149396 non-null object\n",
      "mb_used         149396 non-null float64\n",
      "session_date    149396 non-null datetime64[ns]\n",
      "user_id         149396 non-null int64\n",
      "dtypes: datetime64[ns](1), float64(1), int64(1), object(1)\n",
      "memory usage: 5.7+ MB\n"
     ]
    }
   ],
   "source": [
    "internet.info()"
   ]
  },
  {
   "cell_type": "markdown",
   "metadata": {},
   "source": [
    "Пропусков также нет, значения в столбце дата сессии в неподходящем формате. Есть дополнительгый столбец, дублирующий индекс строк."
   ]
  },
  {
   "cell_type": "code",
   "execution_count": 12,
   "metadata": {},
   "outputs": [
    {
     "data": {
      "text/html": [
       "<div>\n",
       "<style scoped>\n",
       "    .dataframe tbody tr th:only-of-type {\n",
       "        vertical-align: middle;\n",
       "    }\n",
       "\n",
       "    .dataframe tbody tr th {\n",
       "        vertical-align: top;\n",
       "    }\n",
       "\n",
       "    .dataframe thead th {\n",
       "        text-align: right;\n",
       "    }\n",
       "</style>\n",
       "<table border=\"1\" class=\"dataframe\">\n",
       "  <thead>\n",
       "    <tr style=\"text-align: right;\">\n",
       "      <th></th>\n",
       "      <th>messages_included</th>\n",
       "      <th>mb_per_month_included</th>\n",
       "      <th>minutes_included</th>\n",
       "      <th>rub_monthly_fee</th>\n",
       "      <th>rub_per_gb</th>\n",
       "      <th>rub_per_message</th>\n",
       "      <th>rub_per_minute</th>\n",
       "      <th>tariff_name</th>\n",
       "    </tr>\n",
       "  </thead>\n",
       "  <tbody>\n",
       "    <tr>\n",
       "      <td>0</td>\n",
       "      <td>50</td>\n",
       "      <td>15360</td>\n",
       "      <td>500</td>\n",
       "      <td>550</td>\n",
       "      <td>200</td>\n",
       "      <td>3</td>\n",
       "      <td>3</td>\n",
       "      <td>smart</td>\n",
       "    </tr>\n",
       "    <tr>\n",
       "      <td>1</td>\n",
       "      <td>1000</td>\n",
       "      <td>30720</td>\n",
       "      <td>3000</td>\n",
       "      <td>1950</td>\n",
       "      <td>150</td>\n",
       "      <td>1</td>\n",
       "      <td>1</td>\n",
       "      <td>ultra</td>\n",
       "    </tr>\n",
       "  </tbody>\n",
       "</table>\n",
       "</div>"
      ],
      "text/plain": [
       "   messages_included  mb_per_month_included  minutes_included  \\\n",
       "0                 50                  15360               500   \n",
       "1               1000                  30720              3000   \n",
       "\n",
       "   rub_monthly_fee  rub_per_gb  rub_per_message  rub_per_minute tariff_name  \n",
       "0              550         200                3               3       smart  \n",
       "1             1950         150                1               1       ultra  "
      ]
     },
     "execution_count": 12,
     "metadata": {},
     "output_type": "execute_result"
    }
   ],
   "source": [
    "tariffs = pd.read_csv('/datasets/tariffs.csv')\n",
    "tariffs"
   ]
  },
  {
   "cell_type": "markdown",
   "metadata": {},
   "source": [
    "Описание условий тарифов."
   ]
  },
  {
   "cell_type": "markdown",
   "metadata": {},
   "source": [
    "### Вывод\n"
   ]
  },
  {
   "cell_type": "markdown",
   "metadata": {},
   "source": [
    "В данных пропусков нет. \n",
    "\n",
    "Несоответствие типа данных значению столбца\n",
    "* reg_date - object\n",
    "* call_date -  object\n",
    "* message_date - object\n",
    "* session_date - object\n",
    "\n",
    "Есть нулевые значения в столбце calls, являющиеся согласно описанию пропущенными звонками. Рассмотрим их подробнее на этапе предобработки данных, а также проверим столбец с длительностью интернет-сессий на нулевые значения."
   ]
  },
  {
   "cell_type": "markdown",
   "metadata": {},
   "source": [
    "## Предобработка данных"
   ]
  },
  {
   "cell_type": "markdown",
   "metadata": {},
   "source": [
    "Этапы: \n",
    "    \n",
    "1. Проверка на явные дуликаты\n",
    "2. Нулевые значения"
   ]
  },
  {
   "cell_type": "markdown",
   "metadata": {},
   "source": [
    "### Проверка на явные дуликаты"
   ]
  },
  {
   "cell_type": "code",
   "execution_count": 13,
   "metadata": {},
   "outputs": [
    {
     "data": {
      "text/plain": [
       "0"
      ]
     },
     "execution_count": 13,
     "metadata": {},
     "output_type": "execute_result"
    }
   ],
   "source": [
    "users.duplicated().sum()"
   ]
  },
  {
   "cell_type": "code",
   "execution_count": 14,
   "metadata": {},
   "outputs": [
    {
     "data": {
      "text/plain": [
       "0"
      ]
     },
     "execution_count": 14,
     "metadata": {},
     "output_type": "execute_result"
    }
   ],
   "source": [
    "calls.duplicated().sum()"
   ]
  },
  {
   "cell_type": "code",
   "execution_count": 15,
   "metadata": {},
   "outputs": [
    {
     "data": {
      "text/plain": [
       "0"
      ]
     },
     "execution_count": 15,
     "metadata": {},
     "output_type": "execute_result"
    }
   ],
   "source": [
    "messages.duplicated().sum()"
   ]
  },
  {
   "cell_type": "code",
   "execution_count": 16,
   "metadata": {},
   "outputs": [
    {
     "data": {
      "text/plain": [
       "0"
      ]
     },
     "execution_count": 16,
     "metadata": {},
     "output_type": "execute_result"
    }
   ],
   "source": [
    "internet.duplicated().sum()"
   ]
  },
  {
   "cell_type": "markdown",
   "metadata": {},
   "source": [
    "### Нулевые значения"
   ]
  },
  {
   "cell_type": "markdown",
   "metadata": {},
   "source": [
    "#### calls"
   ]
  },
  {
   "cell_type": "markdown",
   "metadata": {},
   "source": [
    "В столбце calls есть звонки с нулевой продолжительностью, узнаем их долю."
   ]
  },
  {
   "cell_type": "code",
   "execution_count": 17,
   "metadata": {},
   "outputs": [
    {
     "data": {
      "text/plain": [
       "(19.6, '%')"
      ]
     },
     "execution_count": 17,
     "metadata": {},
     "output_type": "execute_result"
    }
   ],
   "source": [
    "round(len(calls.query('duration == 0'))*100/len(calls),1) ,'%'"
   ]
  },
  {
   "cell_type": "markdown",
   "metadata": {},
   "source": [
    "В описании к данным написано: \"В данных вы найдёте звонки с нулевой продолжительностью. Это не ошибка: нулями обозначены пропущенные звонки, поэтому их не нужно удалять\"."
   ]
  },
  {
   "cell_type": "markdown",
   "metadata": {},
   "source": [
    "Учитывая большую долю пропущенных звонков, хотя они не влияют на подсчет потраченных минут за месяц, но могут исказить расчетные значения среднего, в дальнейшем для расчетов будем использовать срез данных с продолжительностью звонка больше 0."
   ]
  },
  {
   "cell_type": "code",
   "execution_count": 18,
   "metadata": {},
   "outputs": [],
   "source": [
    "calls = calls.query('duration > 0').reset_index()"
   ]
  },
  {
   "cell_type": "markdown",
   "metadata": {},
   "source": [
    "#### internet"
   ]
  },
  {
   "cell_type": "code",
   "execution_count": 19,
   "metadata": {},
   "outputs": [
    {
     "data": {
      "text/html": [
       "<div>\n",
       "<style scoped>\n",
       "    .dataframe tbody tr th:only-of-type {\n",
       "        vertical-align: middle;\n",
       "    }\n",
       "\n",
       "    .dataframe tbody tr th {\n",
       "        vertical-align: top;\n",
       "    }\n",
       "\n",
       "    .dataframe thead th {\n",
       "        text-align: right;\n",
       "    }\n",
       "</style>\n",
       "<table border=\"1\" class=\"dataframe\">\n",
       "  <thead>\n",
       "    <tr style=\"text-align: right;\">\n",
       "      <th></th>\n",
       "      <th>mb_used</th>\n",
       "      <th>user_id</th>\n",
       "    </tr>\n",
       "  </thead>\n",
       "  <tbody>\n",
       "    <tr>\n",
       "      <td>count</td>\n",
       "      <td>149396.000000</td>\n",
       "      <td>149396.000000</td>\n",
       "    </tr>\n",
       "    <tr>\n",
       "      <td>mean</td>\n",
       "      <td>370.192426</td>\n",
       "      <td>1252.099842</td>\n",
       "    </tr>\n",
       "    <tr>\n",
       "      <td>std</td>\n",
       "      <td>278.300951</td>\n",
       "      <td>144.050823</td>\n",
       "    </tr>\n",
       "    <tr>\n",
       "      <td>min</td>\n",
       "      <td>0.000000</td>\n",
       "      <td>1000.000000</td>\n",
       "    </tr>\n",
       "    <tr>\n",
       "      <td>25%</td>\n",
       "      <td>138.187500</td>\n",
       "      <td>1130.000000</td>\n",
       "    </tr>\n",
       "    <tr>\n",
       "      <td>50%</td>\n",
       "      <td>348.015000</td>\n",
       "      <td>1251.000000</td>\n",
       "    </tr>\n",
       "    <tr>\n",
       "      <td>75%</td>\n",
       "      <td>559.552500</td>\n",
       "      <td>1380.000000</td>\n",
       "    </tr>\n",
       "    <tr>\n",
       "      <td>max</td>\n",
       "      <td>1724.830000</td>\n",
       "      <td>1499.000000</td>\n",
       "    </tr>\n",
       "  </tbody>\n",
       "</table>\n",
       "</div>"
      ],
      "text/plain": [
       "             mb_used        user_id\n",
       "count  149396.000000  149396.000000\n",
       "mean      370.192426    1252.099842\n",
       "std       278.300951     144.050823\n",
       "min         0.000000    1000.000000\n",
       "25%       138.187500    1130.000000\n",
       "50%       348.015000    1251.000000\n",
       "75%       559.552500    1380.000000\n",
       "max      1724.830000    1499.000000"
      ]
     },
     "execution_count": 19,
     "metadata": {},
     "output_type": "execute_result"
    }
   ],
   "source": [
    "internet.describe()"
   ]
  },
  {
   "cell_type": "markdown",
   "metadata": {},
   "source": [
    "В столбце с потраченными мегабайтами также есть нулевые значения, это ошибочные сессии, возможно связанные с проблемами сети, потерей сигнала из-за погодных условий или технических неполадок. Узнаем их долю."
   ]
  },
  {
   "cell_type": "code",
   "execution_count": 20,
   "metadata": {},
   "outputs": [
    {
     "data": {
      "text/plain": [
       "(13.1, '%')"
      ]
     },
     "execution_count": 20,
     "metadata": {},
     "output_type": "execute_result"
    }
   ],
   "source": [
    "round(len(internet.query('mb_used == 0'))*100/len(internet),1) ,'%'"
   ]
  },
  {
   "cell_type": "markdown",
   "metadata": {},
   "source": [
    "Доля таких \"нулевых\" сессий также велика, поэтому для предотвращения искажения рассчетных значений, в дальнейшем будем использовать срез данных с количеством потраченных мегабайт больше 0. "
   ]
  },
  {
   "cell_type": "code",
   "execution_count": 21,
   "metadata": {},
   "outputs": [],
   "source": [
    "internet = internet.query('mb_used > 0').reset_index()"
   ]
  },
  {
   "cell_type": "markdown",
   "metadata": {},
   "source": [
    "## Расчёты и добавление результатов в таблицу"
   ]
  },
  {
   "cell_type": "markdown",
   "metadata": {},
   "source": [
    "Рассчитаем для каждого пользователя для каждого пользователя по месяцам:\n",
    "* количество сделанных звонков и израсходованных минут разговора \n",
    "* количество отправленных сообщений \n",
    "* объем израсходованного интернет-трафика \n",
    "* выручку "
   ]
  },
  {
   "cell_type": "markdown",
   "metadata": {},
   "source": [
    "Для этого сначала для каждого звонка, сообщения и сессии отметим месяц в отдельной колонке."
   ]
  },
  {
   "cell_type": "code",
   "execution_count": 22,
   "metadata": {},
   "outputs": [
    {
     "data": {
      "text/html": [
       "<div>\n",
       "<style scoped>\n",
       "    .dataframe tbody tr th:only-of-type {\n",
       "        vertical-align: middle;\n",
       "    }\n",
       "\n",
       "    .dataframe tbody tr th {\n",
       "        vertical-align: top;\n",
       "    }\n",
       "\n",
       "    .dataframe thead th {\n",
       "        text-align: right;\n",
       "    }\n",
       "</style>\n",
       "<table border=\"1\" class=\"dataframe\">\n",
       "  <thead>\n",
       "    <tr style=\"text-align: right;\">\n",
       "      <th></th>\n",
       "      <th>call_date</th>\n",
       "      <th>month</th>\n",
       "    </tr>\n",
       "  </thead>\n",
       "  <tbody>\n",
       "    <tr>\n",
       "      <td>0</td>\n",
       "      <td>2018-06-11</td>\n",
       "      <td>6</td>\n",
       "    </tr>\n",
       "    <tr>\n",
       "      <td>1</td>\n",
       "      <td>2018-09-21</td>\n",
       "      <td>9</td>\n",
       "    </tr>\n",
       "    <tr>\n",
       "      <td>2</td>\n",
       "      <td>2018-12-15</td>\n",
       "      <td>12</td>\n",
       "    </tr>\n",
       "    <tr>\n",
       "      <td>3</td>\n",
       "      <td>2018-08-22</td>\n",
       "      <td>8</td>\n",
       "    </tr>\n",
       "    <tr>\n",
       "      <td>4</td>\n",
       "      <td>2018-09-15</td>\n",
       "      <td>9</td>\n",
       "    </tr>\n",
       "  </tbody>\n",
       "</table>\n",
       "</div>"
      ],
      "text/plain": [
       "   call_date  month\n",
       "0 2018-06-11      6\n",
       "1 2018-09-21      9\n",
       "2 2018-12-15     12\n",
       "3 2018-08-22      8\n",
       "4 2018-09-15      9"
      ]
     },
     "execution_count": 22,
     "metadata": {},
     "output_type": "execute_result"
    }
   ],
   "source": [
    "calls['month'] = calls['call_date'].dt.month\n",
    "calls[['call_date', 'month']].head()"
   ]
  },
  {
   "cell_type": "code",
   "execution_count": 23,
   "metadata": {},
   "outputs": [
    {
     "data": {
      "text/html": [
       "<div>\n",
       "<style scoped>\n",
       "    .dataframe tbody tr th:only-of-type {\n",
       "        vertical-align: middle;\n",
       "    }\n",
       "\n",
       "    .dataframe tbody tr th {\n",
       "        vertical-align: top;\n",
       "    }\n",
       "\n",
       "    .dataframe thead th {\n",
       "        text-align: right;\n",
       "    }\n",
       "</style>\n",
       "<table border=\"1\" class=\"dataframe\">\n",
       "  <thead>\n",
       "    <tr style=\"text-align: right;\">\n",
       "      <th></th>\n",
       "      <th>message_date</th>\n",
       "      <th>month</th>\n",
       "    </tr>\n",
       "  </thead>\n",
       "  <tbody>\n",
       "    <tr>\n",
       "      <td>0</td>\n",
       "      <td>2018-06-27</td>\n",
       "      <td>6</td>\n",
       "    </tr>\n",
       "    <tr>\n",
       "      <td>1</td>\n",
       "      <td>2018-10-08</td>\n",
       "      <td>10</td>\n",
       "    </tr>\n",
       "    <tr>\n",
       "      <td>2</td>\n",
       "      <td>2018-08-04</td>\n",
       "      <td>8</td>\n",
       "    </tr>\n",
       "    <tr>\n",
       "      <td>3</td>\n",
       "      <td>2018-06-16</td>\n",
       "      <td>6</td>\n",
       "    </tr>\n",
       "    <tr>\n",
       "      <td>4</td>\n",
       "      <td>2018-12-05</td>\n",
       "      <td>12</td>\n",
       "    </tr>\n",
       "  </tbody>\n",
       "</table>\n",
       "</div>"
      ],
      "text/plain": [
       "  message_date  month\n",
       "0   2018-06-27      6\n",
       "1   2018-10-08     10\n",
       "2   2018-08-04      8\n",
       "3   2018-06-16      6\n",
       "4   2018-12-05     12"
      ]
     },
     "execution_count": 23,
     "metadata": {},
     "output_type": "execute_result"
    }
   ],
   "source": [
    "messages['month'] = messages['message_date'].dt.month\n",
    "messages[['message_date', 'month']].head()"
   ]
  },
  {
   "cell_type": "code",
   "execution_count": 24,
   "metadata": {},
   "outputs": [
    {
     "data": {
      "text/html": [
       "<div>\n",
       "<style scoped>\n",
       "    .dataframe tbody tr th:only-of-type {\n",
       "        vertical-align: middle;\n",
       "    }\n",
       "\n",
       "    .dataframe tbody tr th {\n",
       "        vertical-align: top;\n",
       "    }\n",
       "\n",
       "    .dataframe thead th {\n",
       "        text-align: right;\n",
       "    }\n",
       "</style>\n",
       "<table border=\"1\" class=\"dataframe\">\n",
       "  <thead>\n",
       "    <tr style=\"text-align: right;\">\n",
       "      <th></th>\n",
       "      <th>session_date</th>\n",
       "      <th>month</th>\n",
       "    </tr>\n",
       "  </thead>\n",
       "  <tbody>\n",
       "    <tr>\n",
       "      <td>0</td>\n",
       "      <td>2018-11-25</td>\n",
       "      <td>11</td>\n",
       "    </tr>\n",
       "    <tr>\n",
       "      <td>1</td>\n",
       "      <td>2018-09-07</td>\n",
       "      <td>9</td>\n",
       "    </tr>\n",
       "    <tr>\n",
       "      <td>2</td>\n",
       "      <td>2018-06-25</td>\n",
       "      <td>6</td>\n",
       "    </tr>\n",
       "    <tr>\n",
       "      <td>3</td>\n",
       "      <td>2018-08-22</td>\n",
       "      <td>8</td>\n",
       "    </tr>\n",
       "    <tr>\n",
       "      <td>4</td>\n",
       "      <td>2018-09-24</td>\n",
       "      <td>9</td>\n",
       "    </tr>\n",
       "  </tbody>\n",
       "</table>\n",
       "</div>"
      ],
      "text/plain": [
       "  session_date  month\n",
       "0   2018-11-25     11\n",
       "1   2018-09-07      9\n",
       "2   2018-06-25      6\n",
       "3   2018-08-22      8\n",
       "4   2018-09-24      9"
      ]
     },
     "execution_count": 24,
     "metadata": {},
     "output_type": "execute_result"
    }
   ],
   "source": [
    "internet['month'] = internet['session_date'].dt.month\n",
    "internet[['session_date', 'month']].head()"
   ]
  },
  {
   "cell_type": "markdown",
   "metadata": {},
   "source": [
    "Теперь сгруппируем данные в каждой таблице по пользователю и месяцу."
   ]
  },
  {
   "cell_type": "markdown",
   "metadata": {},
   "source": [
    "### Количество сделанных звонков и израсходованных минут разговора"
   ]
  },
  {
   "cell_type": "code",
   "execution_count": 25,
   "metadata": {},
   "outputs": [
    {
     "data": {
      "text/html": [
       "<div>\n",
       "<style scoped>\n",
       "    .dataframe tbody tr th:only-of-type {\n",
       "        vertical-align: middle;\n",
       "    }\n",
       "\n",
       "    .dataframe tbody tr th {\n",
       "        vertical-align: top;\n",
       "    }\n",
       "\n",
       "    .dataframe thead th {\n",
       "        text-align: right;\n",
       "    }\n",
       "</style>\n",
       "<table border=\"1\" class=\"dataframe\">\n",
       "  <thead>\n",
       "    <tr style=\"text-align: right;\">\n",
       "      <th></th>\n",
       "      <th>index</th>\n",
       "      <th>id</th>\n",
       "      <th>call_date</th>\n",
       "      <th>duration</th>\n",
       "      <th>user_id</th>\n",
       "      <th>month</th>\n",
       "    </tr>\n",
       "  </thead>\n",
       "  <tbody>\n",
       "    <tr>\n",
       "      <td>0</td>\n",
       "      <td>2</td>\n",
       "      <td>1000_2</td>\n",
       "      <td>2018-06-11</td>\n",
       "      <td>3.0</td>\n",
       "      <td>1000</td>\n",
       "      <td>6</td>\n",
       "    </tr>\n",
       "    <tr>\n",
       "      <td>1</td>\n",
       "      <td>3</td>\n",
       "      <td>1000_3</td>\n",
       "      <td>2018-09-21</td>\n",
       "      <td>14.0</td>\n",
       "      <td>1000</td>\n",
       "      <td>9</td>\n",
       "    </tr>\n",
       "    <tr>\n",
       "      <td>2</td>\n",
       "      <td>4</td>\n",
       "      <td>1000_4</td>\n",
       "      <td>2018-12-15</td>\n",
       "      <td>6.0</td>\n",
       "      <td>1000</td>\n",
       "      <td>12</td>\n",
       "    </tr>\n",
       "    <tr>\n",
       "      <td>3</td>\n",
       "      <td>7</td>\n",
       "      <td>1000_7</td>\n",
       "      <td>2018-08-22</td>\n",
       "      <td>19.0</td>\n",
       "      <td>1000</td>\n",
       "      <td>8</td>\n",
       "    </tr>\n",
       "    <tr>\n",
       "      <td>4</td>\n",
       "      <td>8</td>\n",
       "      <td>1000_8</td>\n",
       "      <td>2018-09-15</td>\n",
       "      <td>19.0</td>\n",
       "      <td>1000</td>\n",
       "      <td>9</td>\n",
       "    </tr>\n",
       "  </tbody>\n",
       "</table>\n",
       "</div>"
      ],
      "text/plain": [
       "   index      id  call_date  duration  user_id  month\n",
       "0      2  1000_2 2018-06-11       3.0     1000      6\n",
       "1      3  1000_3 2018-09-21      14.0     1000      9\n",
       "2      4  1000_4 2018-12-15       6.0     1000     12\n",
       "3      7  1000_7 2018-08-22      19.0     1000      8\n",
       "4      8  1000_8 2018-09-15      19.0     1000      9"
      ]
     },
     "execution_count": 25,
     "metadata": {},
     "output_type": "execute_result"
    }
   ],
   "source": [
    "# перед подсчетом округлим длительность звонков к большему, согласно условиям тарифов\n",
    "calls['duration'] = calls['duration'].apply(np.ceil)\n",
    "calls.head()"
   ]
  },
  {
   "cell_type": "code",
   "execution_count": 26,
   "metadata": {},
   "outputs": [
    {
     "data": {
      "text/html": [
       "<div>\n",
       "<style scoped>\n",
       "    .dataframe tbody tr th:only-of-type {\n",
       "        vertical-align: middle;\n",
       "    }\n",
       "\n",
       "    .dataframe tbody tr th {\n",
       "        vertical-align: top;\n",
       "    }\n",
       "\n",
       "    .dataframe thead th {\n",
       "        text-align: right;\n",
       "    }\n",
       "</style>\n",
       "<table border=\"1\" class=\"dataframe\">\n",
       "  <thead>\n",
       "    <tr style=\"text-align: right;\">\n",
       "      <th></th>\n",
       "      <th>user_id</th>\n",
       "      <th>month</th>\n",
       "      <th>count</th>\n",
       "      <th>sum</th>\n",
       "    </tr>\n",
       "  </thead>\n",
       "  <tbody>\n",
       "    <tr>\n",
       "      <td>0</td>\n",
       "      <td>1000</td>\n",
       "      <td>5</td>\n",
       "      <td>17</td>\n",
       "      <td>159.0</td>\n",
       "    </tr>\n",
       "    <tr>\n",
       "      <td>1</td>\n",
       "      <td>1000</td>\n",
       "      <td>6</td>\n",
       "      <td>28</td>\n",
       "      <td>172.0</td>\n",
       "    </tr>\n",
       "    <tr>\n",
       "      <td>2</td>\n",
       "      <td>1000</td>\n",
       "      <td>7</td>\n",
       "      <td>41</td>\n",
       "      <td>340.0</td>\n",
       "    </tr>\n",
       "    <tr>\n",
       "      <td>3</td>\n",
       "      <td>1000</td>\n",
       "      <td>8</td>\n",
       "      <td>42</td>\n",
       "      <td>408.0</td>\n",
       "    </tr>\n",
       "    <tr>\n",
       "      <td>4</td>\n",
       "      <td>1000</td>\n",
       "      <td>9</td>\n",
       "      <td>46</td>\n",
       "      <td>466.0</td>\n",
       "    </tr>\n",
       "    <tr>\n",
       "      <td>5</td>\n",
       "      <td>1000</td>\n",
       "      <td>10</td>\n",
       "      <td>44</td>\n",
       "      <td>350.0</td>\n",
       "    </tr>\n",
       "    <tr>\n",
       "      <td>6</td>\n",
       "      <td>1000</td>\n",
       "      <td>11</td>\n",
       "      <td>37</td>\n",
       "      <td>338.0</td>\n",
       "    </tr>\n",
       "    <tr>\n",
       "      <td>7</td>\n",
       "      <td>1000</td>\n",
       "      <td>12</td>\n",
       "      <td>38</td>\n",
       "      <td>333.0</td>\n",
       "    </tr>\n",
       "    <tr>\n",
       "      <td>8</td>\n",
       "      <td>1001</td>\n",
       "      <td>11</td>\n",
       "      <td>45</td>\n",
       "      <td>430.0</td>\n",
       "    </tr>\n",
       "    <tr>\n",
       "      <td>9</td>\n",
       "      <td>1001</td>\n",
       "      <td>12</td>\n",
       "      <td>47</td>\n",
       "      <td>414.0</td>\n",
       "    </tr>\n",
       "  </tbody>\n",
       "</table>\n",
       "</div>"
      ],
      "text/plain": [
       "   user_id  month  count    sum\n",
       "0     1000      5     17  159.0\n",
       "1     1000      6     28  172.0\n",
       "2     1000      7     41  340.0\n",
       "3     1000      8     42  408.0\n",
       "4     1000      9     46  466.0\n",
       "5     1000     10     44  350.0\n",
       "6     1000     11     37  338.0\n",
       "7     1000     12     38  333.0\n",
       "8     1001     11     45  430.0\n",
       "9     1001     12     47  414.0"
      ]
     },
     "execution_count": 26,
     "metadata": {},
     "output_type": "execute_result"
    }
   ],
   "source": [
    "#подсчитаем количество звонков и израсходованных минут\n",
    "calls_by_month = calls.pivot_table(index = ['user_id', 'month'], values = 'duration', aggfunc = {'count','sum'}).reset_index()\n",
    "calls_by_month.head(10)"
   ]
  },
  {
   "cell_type": "code",
   "execution_count": 27,
   "metadata": {},
   "outputs": [
    {
     "data": {
      "text/plain": [
       "user_id    3168\n",
       "month      3168\n",
       "count      3168\n",
       "sum        3168\n",
       "dtype: int64"
      ]
     },
     "execution_count": 27,
     "metadata": {},
     "output_type": "execute_result"
    }
   ],
   "source": [
    "calls_by_month.count()"
   ]
  },
  {
   "cell_type": "markdown",
   "metadata": {},
   "source": [
    "### Количество отправленных сообщений "
   ]
  },
  {
   "cell_type": "code",
   "execution_count": 28,
   "metadata": {},
   "outputs": [
    {
     "data": {
      "text/html": [
       "<div>\n",
       "<style scoped>\n",
       "    .dataframe tbody tr th:only-of-type {\n",
       "        vertical-align: middle;\n",
       "    }\n",
       "\n",
       "    .dataframe tbody tr th {\n",
       "        vertical-align: top;\n",
       "    }\n",
       "\n",
       "    .dataframe thead th {\n",
       "        text-align: right;\n",
       "    }\n",
       "</style>\n",
       "<table border=\"1\" class=\"dataframe\">\n",
       "  <thead>\n",
       "    <tr style=\"text-align: right;\">\n",
       "      <th></th>\n",
       "      <th>user_id</th>\n",
       "      <th>month</th>\n",
       "      <th>id</th>\n",
       "    </tr>\n",
       "  </thead>\n",
       "  <tbody>\n",
       "    <tr>\n",
       "      <td>0</td>\n",
       "      <td>1000</td>\n",
       "      <td>5</td>\n",
       "      <td>22</td>\n",
       "    </tr>\n",
       "    <tr>\n",
       "      <td>1</td>\n",
       "      <td>1000</td>\n",
       "      <td>6</td>\n",
       "      <td>60</td>\n",
       "    </tr>\n",
       "    <tr>\n",
       "      <td>2</td>\n",
       "      <td>1000</td>\n",
       "      <td>7</td>\n",
       "      <td>75</td>\n",
       "    </tr>\n",
       "    <tr>\n",
       "      <td>3</td>\n",
       "      <td>1000</td>\n",
       "      <td>8</td>\n",
       "      <td>81</td>\n",
       "    </tr>\n",
       "    <tr>\n",
       "      <td>4</td>\n",
       "      <td>1000</td>\n",
       "      <td>9</td>\n",
       "      <td>57</td>\n",
       "    </tr>\n",
       "    <tr>\n",
       "      <td>5</td>\n",
       "      <td>1000</td>\n",
       "      <td>10</td>\n",
       "      <td>73</td>\n",
       "    </tr>\n",
       "    <tr>\n",
       "      <td>6</td>\n",
       "      <td>1000</td>\n",
       "      <td>11</td>\n",
       "      <td>58</td>\n",
       "    </tr>\n",
       "    <tr>\n",
       "      <td>7</td>\n",
       "      <td>1000</td>\n",
       "      <td>12</td>\n",
       "      <td>70</td>\n",
       "    </tr>\n",
       "    <tr>\n",
       "      <td>8</td>\n",
       "      <td>1002</td>\n",
       "      <td>6</td>\n",
       "      <td>4</td>\n",
       "    </tr>\n",
       "    <tr>\n",
       "      <td>9</td>\n",
       "      <td>1002</td>\n",
       "      <td>7</td>\n",
       "      <td>11</td>\n",
       "    </tr>\n",
       "  </tbody>\n",
       "</table>\n",
       "</div>"
      ],
      "text/plain": [
       "   user_id  month  id\n",
       "0     1000      5  22\n",
       "1     1000      6  60\n",
       "2     1000      7  75\n",
       "3     1000      8  81\n",
       "4     1000      9  57\n",
       "5     1000     10  73\n",
       "6     1000     11  58\n",
       "7     1000     12  70\n",
       "8     1002      6   4\n",
       "9     1002      7  11"
      ]
     },
     "execution_count": 28,
     "metadata": {},
     "output_type": "execute_result"
    }
   ],
   "source": [
    "messages_by_month = messages.pivot_table(index = ['user_id', 'month'], values = 'id', aggfunc = 'count').reset_index()\n",
    "messages_by_month.head(10)"
   ]
  },
  {
   "cell_type": "code",
   "execution_count": 29,
   "metadata": {},
   "outputs": [
    {
     "data": {
      "text/plain": [
       "user_id    2717\n",
       "month      2717\n",
       "id         2717\n",
       "dtype: int64"
      ]
     },
     "execution_count": 29,
     "metadata": {},
     "output_type": "execute_result"
    }
   ],
   "source": [
    "messages_by_month.count()"
   ]
  },
  {
   "cell_type": "markdown",
   "metadata": {},
   "source": [
    "### Объем израсходованного интернет-трафика "
   ]
  },
  {
   "cell_type": "code",
   "execution_count": 30,
   "metadata": {},
   "outputs": [
    {
     "data": {
      "text/html": [
       "<div>\n",
       "<style scoped>\n",
       "    .dataframe tbody tr th:only-of-type {\n",
       "        vertical-align: middle;\n",
       "    }\n",
       "\n",
       "    .dataframe tbody tr th {\n",
       "        vertical-align: top;\n",
       "    }\n",
       "\n",
       "    .dataframe thead th {\n",
       "        text-align: right;\n",
       "    }\n",
       "</style>\n",
       "<table border=\"1\" class=\"dataframe\">\n",
       "  <thead>\n",
       "    <tr style=\"text-align: right;\">\n",
       "      <th></th>\n",
       "      <th>user_id</th>\n",
       "      <th>month</th>\n",
       "      <th>mb_used</th>\n",
       "    </tr>\n",
       "  </thead>\n",
       "  <tbody>\n",
       "    <tr>\n",
       "      <td>0</td>\n",
       "      <td>1000</td>\n",
       "      <td>5</td>\n",
       "      <td>2253.49</td>\n",
       "    </tr>\n",
       "    <tr>\n",
       "      <td>1</td>\n",
       "      <td>1000</td>\n",
       "      <td>6</td>\n",
       "      <td>23233.77</td>\n",
       "    </tr>\n",
       "    <tr>\n",
       "      <td>2</td>\n",
       "      <td>1000</td>\n",
       "      <td>7</td>\n",
       "      <td>14003.64</td>\n",
       "    </tr>\n",
       "    <tr>\n",
       "      <td>3</td>\n",
       "      <td>1000</td>\n",
       "      <td>8</td>\n",
       "      <td>14055.93</td>\n",
       "    </tr>\n",
       "    <tr>\n",
       "      <td>4</td>\n",
       "      <td>1000</td>\n",
       "      <td>9</td>\n",
       "      <td>14568.91</td>\n",
       "    </tr>\n",
       "    <tr>\n",
       "      <td>5</td>\n",
       "      <td>1000</td>\n",
       "      <td>10</td>\n",
       "      <td>14702.49</td>\n",
       "    </tr>\n",
       "    <tr>\n",
       "      <td>6</td>\n",
       "      <td>1000</td>\n",
       "      <td>11</td>\n",
       "      <td>14756.47</td>\n",
       "    </tr>\n",
       "    <tr>\n",
       "      <td>7</td>\n",
       "      <td>1000</td>\n",
       "      <td>12</td>\n",
       "      <td>9817.61</td>\n",
       "    </tr>\n",
       "    <tr>\n",
       "      <td>8</td>\n",
       "      <td>1001</td>\n",
       "      <td>11</td>\n",
       "      <td>18429.34</td>\n",
       "    </tr>\n",
       "    <tr>\n",
       "      <td>9</td>\n",
       "      <td>1001</td>\n",
       "      <td>12</td>\n",
       "      <td>14036.66</td>\n",
       "    </tr>\n",
       "  </tbody>\n",
       "</table>\n",
       "</div>"
      ],
      "text/plain": [
       "   user_id  month   mb_used\n",
       "0     1000      5   2253.49\n",
       "1     1000      6  23233.77\n",
       "2     1000      7  14003.64\n",
       "3     1000      8  14055.93\n",
       "4     1000      9  14568.91\n",
       "5     1000     10  14702.49\n",
       "6     1000     11  14756.47\n",
       "7     1000     12   9817.61\n",
       "8     1001     11  18429.34\n",
       "9     1001     12  14036.66"
      ]
     },
     "execution_count": 30,
     "metadata": {},
     "output_type": "execute_result"
    }
   ],
   "source": [
    "internet_by_month = internet.pivot_table(index = ['user_id', 'month'], values = 'mb_used', aggfunc = 'sum').reset_index()\n",
    "internet_by_month.head(10)"
   ]
  },
  {
   "cell_type": "markdown",
   "metadata": {},
   "source": [
    "Объединим эти данные в одну таблицу"
   ]
  },
  {
   "cell_type": "code",
   "execution_count": 31,
   "metadata": {},
   "outputs": [
    {
     "data": {
      "text/html": [
       "<div>\n",
       "<style scoped>\n",
       "    .dataframe tbody tr th:only-of-type {\n",
       "        vertical-align: middle;\n",
       "    }\n",
       "\n",
       "    .dataframe tbody tr th {\n",
       "        vertical-align: top;\n",
       "    }\n",
       "\n",
       "    .dataframe thead th {\n",
       "        text-align: right;\n",
       "    }\n",
       "</style>\n",
       "<table border=\"1\" class=\"dataframe\">\n",
       "  <thead>\n",
       "    <tr style=\"text-align: right;\">\n",
       "      <th></th>\n",
       "      <th>user_id</th>\n",
       "      <th>month</th>\n",
       "      <th>calls</th>\n",
       "      <th>calls_duration</th>\n",
       "      <th>messages</th>\n",
       "    </tr>\n",
       "  </thead>\n",
       "  <tbody>\n",
       "    <tr>\n",
       "      <td>0</td>\n",
       "      <td>1000</td>\n",
       "      <td>5</td>\n",
       "      <td>17.0</td>\n",
       "      <td>159.0</td>\n",
       "      <td>22.0</td>\n",
       "    </tr>\n",
       "    <tr>\n",
       "      <td>1</td>\n",
       "      <td>1000</td>\n",
       "      <td>6</td>\n",
       "      <td>28.0</td>\n",
       "      <td>172.0</td>\n",
       "      <td>60.0</td>\n",
       "    </tr>\n",
       "    <tr>\n",
       "      <td>2</td>\n",
       "      <td>1000</td>\n",
       "      <td>7</td>\n",
       "      <td>41.0</td>\n",
       "      <td>340.0</td>\n",
       "      <td>75.0</td>\n",
       "    </tr>\n",
       "    <tr>\n",
       "      <td>3</td>\n",
       "      <td>1000</td>\n",
       "      <td>8</td>\n",
       "      <td>42.0</td>\n",
       "      <td>408.0</td>\n",
       "      <td>81.0</td>\n",
       "    </tr>\n",
       "    <tr>\n",
       "      <td>4</td>\n",
       "      <td>1000</td>\n",
       "      <td>9</td>\n",
       "      <td>46.0</td>\n",
       "      <td>466.0</td>\n",
       "      <td>57.0</td>\n",
       "    </tr>\n",
       "  </tbody>\n",
       "</table>\n",
       "</div>"
      ],
      "text/plain": [
       "   user_id  month  calls  calls_duration  messages\n",
       "0     1000      5   17.0           159.0      22.0\n",
       "1     1000      6   28.0           172.0      60.0\n",
       "2     1000      7   41.0           340.0      75.0\n",
       "3     1000      8   42.0           408.0      81.0\n",
       "4     1000      9   46.0           466.0      57.0"
      ]
     },
     "execution_count": 31,
     "metadata": {},
     "output_type": "execute_result"
    }
   ],
   "source": [
    "by_month = calls_by_month.merge(messages_by_month, on = ['user_id', 'month'], how = 'outer')\n",
    "by_month = by_month.rename(columns = {'count':'calls', 'sum':'calls_duration', 'id':'messages'})\n",
    "by_month.head()"
   ]
  },
  {
   "cell_type": "code",
   "execution_count": 32,
   "metadata": {},
   "outputs": [
    {
     "data": {
      "text/plain": [
       "user_id             0\n",
       "month               0\n",
       "calls              44\n",
       "calls_duration     44\n",
       "messages          495\n",
       "dtype: int64"
      ]
     },
     "execution_count": 32,
     "metadata": {},
     "output_type": "execute_result"
    }
   ],
   "source": [
    "by_month.isna().sum()"
   ]
  },
  {
   "cell_type": "markdown",
   "metadata": {},
   "source": [
    "После объединения таблиц появились пропуски, так в таблицах было разное количество строк."
   ]
  },
  {
   "cell_type": "code",
   "execution_count": 33,
   "metadata": {},
   "outputs": [
    {
     "data": {
      "text/plain": [
       "user_id           3212\n",
       "month             3212\n",
       "calls             3168\n",
       "calls_duration    3168\n",
       "messages          2717\n",
       "dtype: int64"
      ]
     },
     "execution_count": 33,
     "metadata": {},
     "output_type": "execute_result"
    }
   ],
   "source": [
    "by_month.count()"
   ]
  },
  {
   "cell_type": "markdown",
   "metadata": {},
   "source": [
    "Все строчки из обеих таблиц на месте, данные не утеряны. Добавим данные по трафику по месяцам, а затем заменим все пропуски на 0, для удобства последующих вычислений."
   ]
  },
  {
   "cell_type": "code",
   "execution_count": 34,
   "metadata": {},
   "outputs": [
    {
     "data": {
      "text/html": [
       "<div>\n",
       "<style scoped>\n",
       "    .dataframe tbody tr th:only-of-type {\n",
       "        vertical-align: middle;\n",
       "    }\n",
       "\n",
       "    .dataframe tbody tr th {\n",
       "        vertical-align: top;\n",
       "    }\n",
       "\n",
       "    .dataframe thead th {\n",
       "        text-align: right;\n",
       "    }\n",
       "</style>\n",
       "<table border=\"1\" class=\"dataframe\">\n",
       "  <thead>\n",
       "    <tr style=\"text-align: right;\">\n",
       "      <th></th>\n",
       "      <th>user_id</th>\n",
       "      <th>month</th>\n",
       "      <th>calls</th>\n",
       "      <th>calls_duration</th>\n",
       "      <th>messages</th>\n",
       "      <th>mb_used</th>\n",
       "    </tr>\n",
       "  </thead>\n",
       "  <tbody>\n",
       "    <tr>\n",
       "      <td>0</td>\n",
       "      <td>1000</td>\n",
       "      <td>5</td>\n",
       "      <td>17.0</td>\n",
       "      <td>159.0</td>\n",
       "      <td>22.0</td>\n",
       "      <td>2253.49</td>\n",
       "    </tr>\n",
       "    <tr>\n",
       "      <td>1</td>\n",
       "      <td>1000</td>\n",
       "      <td>6</td>\n",
       "      <td>28.0</td>\n",
       "      <td>172.0</td>\n",
       "      <td>60.0</td>\n",
       "      <td>23233.77</td>\n",
       "    </tr>\n",
       "    <tr>\n",
       "      <td>2</td>\n",
       "      <td>1000</td>\n",
       "      <td>7</td>\n",
       "      <td>41.0</td>\n",
       "      <td>340.0</td>\n",
       "      <td>75.0</td>\n",
       "      <td>14003.64</td>\n",
       "    </tr>\n",
       "    <tr>\n",
       "      <td>3</td>\n",
       "      <td>1000</td>\n",
       "      <td>8</td>\n",
       "      <td>42.0</td>\n",
       "      <td>408.0</td>\n",
       "      <td>81.0</td>\n",
       "      <td>14055.93</td>\n",
       "    </tr>\n",
       "    <tr>\n",
       "      <td>4</td>\n",
       "      <td>1000</td>\n",
       "      <td>9</td>\n",
       "      <td>46.0</td>\n",
       "      <td>466.0</td>\n",
       "      <td>57.0</td>\n",
       "      <td>14568.91</td>\n",
       "    </tr>\n",
       "  </tbody>\n",
       "</table>\n",
       "</div>"
      ],
      "text/plain": [
       "   user_id  month  calls  calls_duration  messages   mb_used\n",
       "0     1000      5   17.0           159.0      22.0   2253.49\n",
       "1     1000      6   28.0           172.0      60.0  23233.77\n",
       "2     1000      7   41.0           340.0      75.0  14003.64\n",
       "3     1000      8   42.0           408.0      81.0  14055.93\n",
       "4     1000      9   46.0           466.0      57.0  14568.91"
      ]
     },
     "execution_count": 34,
     "metadata": {},
     "output_type": "execute_result"
    }
   ],
   "source": [
    "by_month = by_month.merge(internet_by_month, on = ['user_id', 'month'], how = 'outer')\n",
    "by_month.head()"
   ]
  },
  {
   "cell_type": "code",
   "execution_count": 35,
   "metadata": {},
   "outputs": [],
   "source": [
    "by_month[['calls','calls_duration', 'messages', 'mb_used']] = by_month[['calls','calls_duration', 'messages', 'mb_used']].fillna(0)"
   ]
  },
  {
   "cell_type": "code",
   "execution_count": 36,
   "metadata": {},
   "outputs": [
    {
     "data": {
      "text/plain": [
       "user_id           0\n",
       "month             0\n",
       "calls             0\n",
       "calls_duration    0\n",
       "messages          0\n",
       "mb_used           0\n",
       "dtype: int64"
      ]
     },
     "execution_count": 36,
     "metadata": {},
     "output_type": "execute_result"
    }
   ],
   "source": [
    "by_month.isna().sum()"
   ]
  },
  {
   "cell_type": "markdown",
   "metadata": {},
   "source": [
    "### Выручка"
   ]
  },
  {
   "cell_type": "markdown",
   "metadata": {},
   "source": [
    "Для подсчета месячной выручки с каждого пользователя округлим количество потраченных минут и мегабайт в сторону большего, согласно условиям тарифов."
   ]
  },
  {
   "cell_type": "code",
   "execution_count": 37,
   "metadata": {},
   "outputs": [
    {
     "data": {
      "text/html": [
       "<div>\n",
       "<style scoped>\n",
       "    .dataframe tbody tr th:only-of-type {\n",
       "        vertical-align: middle;\n",
       "    }\n",
       "\n",
       "    .dataframe tbody tr th {\n",
       "        vertical-align: top;\n",
       "    }\n",
       "\n",
       "    .dataframe thead th {\n",
       "        text-align: right;\n",
       "    }\n",
       "</style>\n",
       "<table border=\"1\" class=\"dataframe\">\n",
       "  <thead>\n",
       "    <tr style=\"text-align: right;\">\n",
       "      <th></th>\n",
       "      <th>user_id</th>\n",
       "      <th>month</th>\n",
       "      <th>calls</th>\n",
       "      <th>calls_duration</th>\n",
       "      <th>messages</th>\n",
       "      <th>mb_used</th>\n",
       "    </tr>\n",
       "  </thead>\n",
       "  <tbody>\n",
       "    <tr>\n",
       "      <td>0</td>\n",
       "      <td>1000</td>\n",
       "      <td>5</td>\n",
       "      <td>17.0</td>\n",
       "      <td>159.0</td>\n",
       "      <td>22.0</td>\n",
       "      <td>2254.0</td>\n",
       "    </tr>\n",
       "    <tr>\n",
       "      <td>1</td>\n",
       "      <td>1000</td>\n",
       "      <td>6</td>\n",
       "      <td>28.0</td>\n",
       "      <td>172.0</td>\n",
       "      <td>60.0</td>\n",
       "      <td>23234.0</td>\n",
       "    </tr>\n",
       "    <tr>\n",
       "      <td>2</td>\n",
       "      <td>1000</td>\n",
       "      <td>7</td>\n",
       "      <td>41.0</td>\n",
       "      <td>340.0</td>\n",
       "      <td>75.0</td>\n",
       "      <td>14004.0</td>\n",
       "    </tr>\n",
       "    <tr>\n",
       "      <td>3</td>\n",
       "      <td>1000</td>\n",
       "      <td>8</td>\n",
       "      <td>42.0</td>\n",
       "      <td>408.0</td>\n",
       "      <td>81.0</td>\n",
       "      <td>14056.0</td>\n",
       "    </tr>\n",
       "    <tr>\n",
       "      <td>4</td>\n",
       "      <td>1000</td>\n",
       "      <td>9</td>\n",
       "      <td>46.0</td>\n",
       "      <td>466.0</td>\n",
       "      <td>57.0</td>\n",
       "      <td>14569.0</td>\n",
       "    </tr>\n",
       "  </tbody>\n",
       "</table>\n",
       "</div>"
      ],
      "text/plain": [
       "   user_id  month  calls  calls_duration  messages  mb_used\n",
       "0     1000      5   17.0           159.0      22.0   2254.0\n",
       "1     1000      6   28.0           172.0      60.0  23234.0\n",
       "2     1000      7   41.0           340.0      75.0  14004.0\n",
       "3     1000      8   42.0           408.0      81.0  14056.0\n",
       "4     1000      9   46.0           466.0      57.0  14569.0"
      ]
     },
     "execution_count": 37,
     "metadata": {},
     "output_type": "execute_result"
    }
   ],
   "source": [
    "by_month['mb_used'] = by_month[ 'mb_used'].apply(np.ceil)\n",
    "by_month.head()"
   ]
  },
  {
   "cell_type": "markdown",
   "metadata": {},
   "source": [
    "Для подсчета выручки за месяц нужно знать какой тариф у каждого пользователя эта информация в таблице users."
   ]
  },
  {
   "cell_type": "code",
   "execution_count": 38,
   "metadata": {},
   "outputs": [
    {
     "data": {
      "text/html": [
       "<div>\n",
       "<style scoped>\n",
       "    .dataframe tbody tr th:only-of-type {\n",
       "        vertical-align: middle;\n",
       "    }\n",
       "\n",
       "    .dataframe tbody tr th {\n",
       "        vertical-align: top;\n",
       "    }\n",
       "\n",
       "    .dataframe thead th {\n",
       "        text-align: right;\n",
       "    }\n",
       "</style>\n",
       "<table border=\"1\" class=\"dataframe\">\n",
       "  <thead>\n",
       "    <tr style=\"text-align: right;\">\n",
       "      <th></th>\n",
       "      <th>user_id</th>\n",
       "      <th>month</th>\n",
       "      <th>calls</th>\n",
       "      <th>calls_duration</th>\n",
       "      <th>messages</th>\n",
       "      <th>mb_used</th>\n",
       "      <th>tariff</th>\n",
       "    </tr>\n",
       "  </thead>\n",
       "  <tbody>\n",
       "    <tr>\n",
       "      <td>0</td>\n",
       "      <td>1000</td>\n",
       "      <td>5</td>\n",
       "      <td>17.0</td>\n",
       "      <td>159.0</td>\n",
       "      <td>22.0</td>\n",
       "      <td>2254.0</td>\n",
       "      <td>ultra</td>\n",
       "    </tr>\n",
       "    <tr>\n",
       "      <td>1</td>\n",
       "      <td>1000</td>\n",
       "      <td>6</td>\n",
       "      <td>28.0</td>\n",
       "      <td>172.0</td>\n",
       "      <td>60.0</td>\n",
       "      <td>23234.0</td>\n",
       "      <td>ultra</td>\n",
       "    </tr>\n",
       "    <tr>\n",
       "      <td>2</td>\n",
       "      <td>1000</td>\n",
       "      <td>7</td>\n",
       "      <td>41.0</td>\n",
       "      <td>340.0</td>\n",
       "      <td>75.0</td>\n",
       "      <td>14004.0</td>\n",
       "      <td>ultra</td>\n",
       "    </tr>\n",
       "    <tr>\n",
       "      <td>3</td>\n",
       "      <td>1000</td>\n",
       "      <td>8</td>\n",
       "      <td>42.0</td>\n",
       "      <td>408.0</td>\n",
       "      <td>81.0</td>\n",
       "      <td>14056.0</td>\n",
       "      <td>ultra</td>\n",
       "    </tr>\n",
       "    <tr>\n",
       "      <td>4</td>\n",
       "      <td>1000</td>\n",
       "      <td>9</td>\n",
       "      <td>46.0</td>\n",
       "      <td>466.0</td>\n",
       "      <td>57.0</td>\n",
       "      <td>14569.0</td>\n",
       "      <td>ultra</td>\n",
       "    </tr>\n",
       "    <tr>\n",
       "      <td>5</td>\n",
       "      <td>1000</td>\n",
       "      <td>10</td>\n",
       "      <td>44.0</td>\n",
       "      <td>350.0</td>\n",
       "      <td>73.0</td>\n",
       "      <td>14703.0</td>\n",
       "      <td>ultra</td>\n",
       "    </tr>\n",
       "    <tr>\n",
       "      <td>6</td>\n",
       "      <td>1000</td>\n",
       "      <td>11</td>\n",
       "      <td>37.0</td>\n",
       "      <td>338.0</td>\n",
       "      <td>58.0</td>\n",
       "      <td>14757.0</td>\n",
       "      <td>ultra</td>\n",
       "    </tr>\n",
       "    <tr>\n",
       "      <td>7</td>\n",
       "      <td>1000</td>\n",
       "      <td>12</td>\n",
       "      <td>38.0</td>\n",
       "      <td>333.0</td>\n",
       "      <td>70.0</td>\n",
       "      <td>9818.0</td>\n",
       "      <td>ultra</td>\n",
       "    </tr>\n",
       "    <tr>\n",
       "      <td>8</td>\n",
       "      <td>1001</td>\n",
       "      <td>11</td>\n",
       "      <td>45.0</td>\n",
       "      <td>430.0</td>\n",
       "      <td>0.0</td>\n",
       "      <td>18430.0</td>\n",
       "      <td>smart</td>\n",
       "    </tr>\n",
       "    <tr>\n",
       "      <td>9</td>\n",
       "      <td>1001</td>\n",
       "      <td>12</td>\n",
       "      <td>47.0</td>\n",
       "      <td>414.0</td>\n",
       "      <td>0.0</td>\n",
       "      <td>14037.0</td>\n",
       "      <td>smart</td>\n",
       "    </tr>\n",
       "  </tbody>\n",
       "</table>\n",
       "</div>"
      ],
      "text/plain": [
       "   user_id  month  calls  calls_duration  messages  mb_used tariff\n",
       "0     1000      5   17.0           159.0      22.0   2254.0  ultra\n",
       "1     1000      6   28.0           172.0      60.0  23234.0  ultra\n",
       "2     1000      7   41.0           340.0      75.0  14004.0  ultra\n",
       "3     1000      8   42.0           408.0      81.0  14056.0  ultra\n",
       "4     1000      9   46.0           466.0      57.0  14569.0  ultra\n",
       "5     1000     10   44.0           350.0      73.0  14703.0  ultra\n",
       "6     1000     11   37.0           338.0      58.0  14757.0  ultra\n",
       "7     1000     12   38.0           333.0      70.0   9818.0  ultra\n",
       "8     1001     11   45.0           430.0       0.0  18430.0  smart\n",
       "9     1001     12   47.0           414.0       0.0  14037.0  smart"
      ]
     },
     "execution_count": 38,
     "metadata": {},
     "output_type": "execute_result"
    }
   ],
   "source": [
    "by_month = by_month.merge(users[['user_id', 'tariff']], on = ['user_id'])\n",
    "by_month.head(10)"
   ]
  },
  {
   "cell_type": "code",
   "execution_count": 39,
   "metadata": {},
   "outputs": [
    {
     "data": {
      "text/html": [
       "<div>\n",
       "<style scoped>\n",
       "    .dataframe tbody tr th:only-of-type {\n",
       "        vertical-align: middle;\n",
       "    }\n",
       "\n",
       "    .dataframe tbody tr th {\n",
       "        vertical-align: top;\n",
       "    }\n",
       "\n",
       "    .dataframe thead th {\n",
       "        text-align: right;\n",
       "    }\n",
       "</style>\n",
       "<table border=\"1\" class=\"dataframe\">\n",
       "  <thead>\n",
       "    <tr style=\"text-align: right;\">\n",
       "      <th></th>\n",
       "      <th>user_id</th>\n",
       "      <th>month</th>\n",
       "      <th>calls</th>\n",
       "      <th>calls_duration</th>\n",
       "      <th>messages</th>\n",
       "      <th>mb_used</th>\n",
       "      <th>tariff</th>\n",
       "      <th>call_over_tariff</th>\n",
       "    </tr>\n",
       "  </thead>\n",
       "  <tbody>\n",
       "    <tr>\n",
       "      <td>0</td>\n",
       "      <td>1000</td>\n",
       "      <td>5</td>\n",
       "      <td>17.0</td>\n",
       "      <td>159.0</td>\n",
       "      <td>22.0</td>\n",
       "      <td>2254.0</td>\n",
       "      <td>ultra</td>\n",
       "      <td>0.0</td>\n",
       "    </tr>\n",
       "    <tr>\n",
       "      <td>1</td>\n",
       "      <td>1000</td>\n",
       "      <td>6</td>\n",
       "      <td>28.0</td>\n",
       "      <td>172.0</td>\n",
       "      <td>60.0</td>\n",
       "      <td>23234.0</td>\n",
       "      <td>ultra</td>\n",
       "      <td>0.0</td>\n",
       "    </tr>\n",
       "    <tr>\n",
       "      <td>2</td>\n",
       "      <td>1000</td>\n",
       "      <td>7</td>\n",
       "      <td>41.0</td>\n",
       "      <td>340.0</td>\n",
       "      <td>75.0</td>\n",
       "      <td>14004.0</td>\n",
       "      <td>ultra</td>\n",
       "      <td>0.0</td>\n",
       "    </tr>\n",
       "    <tr>\n",
       "      <td>3</td>\n",
       "      <td>1000</td>\n",
       "      <td>8</td>\n",
       "      <td>42.0</td>\n",
       "      <td>408.0</td>\n",
       "      <td>81.0</td>\n",
       "      <td>14056.0</td>\n",
       "      <td>ultra</td>\n",
       "      <td>0.0</td>\n",
       "    </tr>\n",
       "    <tr>\n",
       "      <td>4</td>\n",
       "      <td>1000</td>\n",
       "      <td>9</td>\n",
       "      <td>46.0</td>\n",
       "      <td>466.0</td>\n",
       "      <td>57.0</td>\n",
       "      <td>14569.0</td>\n",
       "      <td>ultra</td>\n",
       "      <td>0.0</td>\n",
       "    </tr>\n",
       "  </tbody>\n",
       "</table>\n",
       "</div>"
      ],
      "text/plain": [
       "   user_id  month  calls  calls_duration  messages  mb_used tariff  \\\n",
       "0     1000      5   17.0           159.0      22.0   2254.0  ultra   \n",
       "1     1000      6   28.0           172.0      60.0  23234.0  ultra   \n",
       "2     1000      7   41.0           340.0      75.0  14004.0  ultra   \n",
       "3     1000      8   42.0           408.0      81.0  14056.0  ultra   \n",
       "4     1000      9   46.0           466.0      57.0  14569.0  ultra   \n",
       "\n",
       "   call_over_tariff  \n",
       "0               0.0  \n",
       "1               0.0  \n",
       "2               0.0  \n",
       "3               0.0  \n",
       "4               0.0  "
      ]
     },
     "execution_count": 39,
     "metadata": {},
     "output_type": "execute_result"
    }
   ],
   "source": [
    "# определим количество минут, потраченных сверх тарифа\n",
    "def over_tariff(row):\n",
    "    if row['tariff'] == 'ultra':\n",
    "        over_tariff = row['calls_duration'] - 3000\n",
    "    else:\n",
    "        over_tariff = row['calls_duration'] - 500\n",
    "    if over_tariff <= 0:\n",
    "        return 0\n",
    "    else:\n",
    "        return over_tariff\n",
    "by_month['call_over_tariff'] = by_month.apply(over_tariff, axis = 1)\n",
    "by_month.head()"
   ]
  },
  {
   "cell_type": "code",
   "execution_count": 40,
   "metadata": {
    "scrolled": false
   },
   "outputs": [
    {
     "data": {
      "text/plain": [
       "0.0      2460\n",
       "32.0        9\n",
       "41.0        7\n",
       "18.0        7\n",
       "44.0        7\n",
       "         ... \n",
       "271.0       1\n",
       "236.0       1\n",
       "174.0       1\n",
       "375.0       1\n",
       "365.0       1\n",
       "Name: call_over_tariff, Length: 291, dtype: int64"
      ]
     },
     "execution_count": 40,
     "metadata": {},
     "output_type": "execute_result"
    }
   ],
   "source": [
    "by_month['call_over_tariff'].value_counts()"
   ]
  },
  {
   "cell_type": "code",
   "execution_count": 41,
   "metadata": {},
   "outputs": [
    {
     "data": {
      "text/html": [
       "<div>\n",
       "<style scoped>\n",
       "    .dataframe tbody tr th:only-of-type {\n",
       "        vertical-align: middle;\n",
       "    }\n",
       "\n",
       "    .dataframe tbody tr th {\n",
       "        vertical-align: top;\n",
       "    }\n",
       "\n",
       "    .dataframe thead th {\n",
       "        text-align: right;\n",
       "    }\n",
       "</style>\n",
       "<table border=\"1\" class=\"dataframe\">\n",
       "  <thead>\n",
       "    <tr style=\"text-align: right;\">\n",
       "      <th></th>\n",
       "      <th>user_id</th>\n",
       "      <th>month</th>\n",
       "      <th>calls</th>\n",
       "      <th>calls_duration</th>\n",
       "      <th>messages</th>\n",
       "      <th>mb_used</th>\n",
       "      <th>tariff</th>\n",
       "      <th>call_over_tariff</th>\n",
       "      <th>message_over_tariff</th>\n",
       "    </tr>\n",
       "  </thead>\n",
       "  <tbody>\n",
       "    <tr>\n",
       "      <td>0</td>\n",
       "      <td>1000</td>\n",
       "      <td>5</td>\n",
       "      <td>17.0</td>\n",
       "      <td>159.0</td>\n",
       "      <td>22.0</td>\n",
       "      <td>2254.0</td>\n",
       "      <td>ultra</td>\n",
       "      <td>0.0</td>\n",
       "      <td>0.0</td>\n",
       "    </tr>\n",
       "    <tr>\n",
       "      <td>1</td>\n",
       "      <td>1000</td>\n",
       "      <td>6</td>\n",
       "      <td>28.0</td>\n",
       "      <td>172.0</td>\n",
       "      <td>60.0</td>\n",
       "      <td>23234.0</td>\n",
       "      <td>ultra</td>\n",
       "      <td>0.0</td>\n",
       "      <td>0.0</td>\n",
       "    </tr>\n",
       "    <tr>\n",
       "      <td>2</td>\n",
       "      <td>1000</td>\n",
       "      <td>7</td>\n",
       "      <td>41.0</td>\n",
       "      <td>340.0</td>\n",
       "      <td>75.0</td>\n",
       "      <td>14004.0</td>\n",
       "      <td>ultra</td>\n",
       "      <td>0.0</td>\n",
       "      <td>0.0</td>\n",
       "    </tr>\n",
       "    <tr>\n",
       "      <td>3</td>\n",
       "      <td>1000</td>\n",
       "      <td>8</td>\n",
       "      <td>42.0</td>\n",
       "      <td>408.0</td>\n",
       "      <td>81.0</td>\n",
       "      <td>14056.0</td>\n",
       "      <td>ultra</td>\n",
       "      <td>0.0</td>\n",
       "      <td>0.0</td>\n",
       "    </tr>\n",
       "    <tr>\n",
       "      <td>4</td>\n",
       "      <td>1000</td>\n",
       "      <td>9</td>\n",
       "      <td>46.0</td>\n",
       "      <td>466.0</td>\n",
       "      <td>57.0</td>\n",
       "      <td>14569.0</td>\n",
       "      <td>ultra</td>\n",
       "      <td>0.0</td>\n",
       "      <td>0.0</td>\n",
       "    </tr>\n",
       "  </tbody>\n",
       "</table>\n",
       "</div>"
      ],
      "text/plain": [
       "   user_id  month  calls  calls_duration  messages  mb_used tariff  \\\n",
       "0     1000      5   17.0           159.0      22.0   2254.0  ultra   \n",
       "1     1000      6   28.0           172.0      60.0  23234.0  ultra   \n",
       "2     1000      7   41.0           340.0      75.0  14004.0  ultra   \n",
       "3     1000      8   42.0           408.0      81.0  14056.0  ultra   \n",
       "4     1000      9   46.0           466.0      57.0  14569.0  ultra   \n",
       "\n",
       "   call_over_tariff  message_over_tariff  \n",
       "0               0.0                  0.0  \n",
       "1               0.0                  0.0  \n",
       "2               0.0                  0.0  \n",
       "3               0.0                  0.0  \n",
       "4               0.0                  0.0  "
      ]
     },
     "execution_count": 41,
     "metadata": {},
     "output_type": "execute_result"
    }
   ],
   "source": [
    "# определим количество сообщений, отправленных сверх тарифа\n",
    "def over_tariff(row):\n",
    "    if row['tariff'] == 'ultra':\n",
    "        over_tariff = row['messages'] - 1000\n",
    "    else:\n",
    "        over_tariff = row['messages'] - 50\n",
    "    if over_tariff <= 0:\n",
    "        return 0\n",
    "    else:\n",
    "        return over_tariff\n",
    "by_month['message_over_tariff'] = by_month.apply(over_tariff, axis = 1)\n",
    "by_month.head()"
   ]
  },
  {
   "cell_type": "code",
   "execution_count": 42,
   "metadata": {},
   "outputs": [
    {
     "data": {
      "text/html": [
       "<div>\n",
       "<style scoped>\n",
       "    .dataframe tbody tr th:only-of-type {\n",
       "        vertical-align: middle;\n",
       "    }\n",
       "\n",
       "    .dataframe tbody tr th {\n",
       "        vertical-align: top;\n",
       "    }\n",
       "\n",
       "    .dataframe thead th {\n",
       "        text-align: right;\n",
       "    }\n",
       "</style>\n",
       "<table border=\"1\" class=\"dataframe\">\n",
       "  <thead>\n",
       "    <tr style=\"text-align: right;\">\n",
       "      <th></th>\n",
       "      <th>user_id</th>\n",
       "      <th>month</th>\n",
       "      <th>calls</th>\n",
       "      <th>calls_duration</th>\n",
       "      <th>messages</th>\n",
       "      <th>mb_used</th>\n",
       "      <th>tariff</th>\n",
       "      <th>call_over_tariff</th>\n",
       "      <th>message_over_tariff</th>\n",
       "      <th>mb_over_tariff</th>\n",
       "    </tr>\n",
       "  </thead>\n",
       "  <tbody>\n",
       "    <tr>\n",
       "      <td>0</td>\n",
       "      <td>1000</td>\n",
       "      <td>5</td>\n",
       "      <td>17.0</td>\n",
       "      <td>159.0</td>\n",
       "      <td>22.0</td>\n",
       "      <td>2254.0</td>\n",
       "      <td>ultra</td>\n",
       "      <td>0.0</td>\n",
       "      <td>0.0</td>\n",
       "      <td>0.0</td>\n",
       "    </tr>\n",
       "    <tr>\n",
       "      <td>1</td>\n",
       "      <td>1000</td>\n",
       "      <td>6</td>\n",
       "      <td>28.0</td>\n",
       "      <td>172.0</td>\n",
       "      <td>60.0</td>\n",
       "      <td>23234.0</td>\n",
       "      <td>ultra</td>\n",
       "      <td>0.0</td>\n",
       "      <td>0.0</td>\n",
       "      <td>0.0</td>\n",
       "    </tr>\n",
       "    <tr>\n",
       "      <td>2</td>\n",
       "      <td>1000</td>\n",
       "      <td>7</td>\n",
       "      <td>41.0</td>\n",
       "      <td>340.0</td>\n",
       "      <td>75.0</td>\n",
       "      <td>14004.0</td>\n",
       "      <td>ultra</td>\n",
       "      <td>0.0</td>\n",
       "      <td>0.0</td>\n",
       "      <td>0.0</td>\n",
       "    </tr>\n",
       "    <tr>\n",
       "      <td>3</td>\n",
       "      <td>1000</td>\n",
       "      <td>8</td>\n",
       "      <td>42.0</td>\n",
       "      <td>408.0</td>\n",
       "      <td>81.0</td>\n",
       "      <td>14056.0</td>\n",
       "      <td>ultra</td>\n",
       "      <td>0.0</td>\n",
       "      <td>0.0</td>\n",
       "      <td>0.0</td>\n",
       "    </tr>\n",
       "    <tr>\n",
       "      <td>4</td>\n",
       "      <td>1000</td>\n",
       "      <td>9</td>\n",
       "      <td>46.0</td>\n",
       "      <td>466.0</td>\n",
       "      <td>57.0</td>\n",
       "      <td>14569.0</td>\n",
       "      <td>ultra</td>\n",
       "      <td>0.0</td>\n",
       "      <td>0.0</td>\n",
       "      <td>0.0</td>\n",
       "    </tr>\n",
       "  </tbody>\n",
       "</table>\n",
       "</div>"
      ],
      "text/plain": [
       "   user_id  month  calls  calls_duration  messages  mb_used tariff  \\\n",
       "0     1000      5   17.0           159.0      22.0   2254.0  ultra   \n",
       "1     1000      6   28.0           172.0      60.0  23234.0  ultra   \n",
       "2     1000      7   41.0           340.0      75.0  14004.0  ultra   \n",
       "3     1000      8   42.0           408.0      81.0  14056.0  ultra   \n",
       "4     1000      9   46.0           466.0      57.0  14569.0  ultra   \n",
       "\n",
       "   call_over_tariff  message_over_tariff  mb_over_tariff  \n",
       "0               0.0                  0.0             0.0  \n",
       "1               0.0                  0.0             0.0  \n",
       "2               0.0                  0.0             0.0  \n",
       "3               0.0                  0.0             0.0  \n",
       "4               0.0                  0.0             0.0  "
      ]
     },
     "execution_count": 42,
     "metadata": {},
     "output_type": "execute_result"
    }
   ],
   "source": [
    "# определим количество мегабайт, потраченных сверх тарифа\n",
    "def over_tariff(row):\n",
    "    if row['tariff'] == 'ultra':\n",
    "        over_tariff = row['mb_used'] - 30720\n",
    "    else:\n",
    "        over_tariff = row['mb_used'] - 15360\n",
    "    if over_tariff <= 0:\n",
    "        return 0\n",
    "    else:\n",
    "        return (over_tariff/1024)\n",
    "by_month['mb_over_tariff'] = by_month.apply(over_tariff, axis = 1)\n",
    "by_month.head()"
   ]
  },
  {
   "cell_type": "code",
   "execution_count": 43,
   "metadata": {
    "scrolled": false
   },
   "outputs": [
    {
     "data": {
      "text/plain": [
       "0.000000    1776\n",
       "0.158203       3\n",
       "3.467773       3\n",
       "2.548828       3\n",
       "1.151367       2\n",
       "            ... \n",
       "3.520508       1\n",
       "3.552734       1\n",
       "6.800781       1\n",
       "2.264648       1\n",
       "6.645508       1\n",
       "Name: mb_over_tariff, Length: 1340, dtype: int64"
      ]
     },
     "execution_count": 43,
     "metadata": {},
     "output_type": "execute_result"
    }
   ],
   "source": [
    "by_month['mb_over_tariff'].value_counts()"
   ]
  },
  {
   "cell_type": "code",
   "execution_count": 44,
   "metadata": {
    "scrolled": false
   },
   "outputs": [
    {
     "data": {
      "text/plain": [
       "0.0     1776\n",
       "2.0      204\n",
       "1.0      186\n",
       "3.0      168\n",
       "4.0      168\n",
       "5.0      150\n",
       "7.0      124\n",
       "6.0      122\n",
       "8.0       81\n",
       "9.0       59\n",
       "10.0      57\n",
       "12.0      31\n",
       "11.0      30\n",
       "13.0      24\n",
       "14.0       8\n",
       "16.0       7\n",
       "15.0       6\n",
       "20.0       3\n",
       "17.0       3\n",
       "21.0       2\n",
       "19.0       2\n",
       "18.0       1\n",
       "22.0       1\n",
       "23.0       1\n",
       "Name: mb_over_tariff, dtype: int64"
      ]
     },
     "execution_count": 44,
     "metadata": {},
     "output_type": "execute_result"
    }
   ],
   "source": [
    "# округлим трафик потраченный сверх тарифа в большую сторону, согласно условиям тарифа\n",
    "by_month['mb_over_tariff'] = by_month['mb_over_tariff'].apply(np.ceil)\n",
    "by_month['mb_over_tariff'].value_counts()"
   ]
  },
  {
   "cell_type": "code",
   "execution_count": 45,
   "metadata": {},
   "outputs": [
    {
     "data": {
      "text/html": [
       "<div>\n",
       "<style scoped>\n",
       "    .dataframe tbody tr th:only-of-type {\n",
       "        vertical-align: middle;\n",
       "    }\n",
       "\n",
       "    .dataframe tbody tr th {\n",
       "        vertical-align: top;\n",
       "    }\n",
       "\n",
       "    .dataframe thead th {\n",
       "        text-align: right;\n",
       "    }\n",
       "</style>\n",
       "<table border=\"1\" class=\"dataframe\">\n",
       "  <thead>\n",
       "    <tr style=\"text-align: right;\">\n",
       "      <th></th>\n",
       "      <th>tariff</th>\n",
       "      <th>call_over_tariff</th>\n",
       "      <th>message_over_tariff</th>\n",
       "      <th>mb_over_tariff</th>\n",
       "      <th>price</th>\n",
       "    </tr>\n",
       "  </thead>\n",
       "  <tbody>\n",
       "    <tr>\n",
       "      <td>404</td>\n",
       "      <td>smart</td>\n",
       "      <td>0.0</td>\n",
       "      <td>0.0</td>\n",
       "      <td>4.0</td>\n",
       "      <td>1350.0</td>\n",
       "    </tr>\n",
       "    <tr>\n",
       "      <td>1608</td>\n",
       "      <td>ultra</td>\n",
       "      <td>0.0</td>\n",
       "      <td>0.0</td>\n",
       "      <td>0.0</td>\n",
       "      <td>1950.0</td>\n",
       "    </tr>\n",
       "    <tr>\n",
       "      <td>633</td>\n",
       "      <td>smart</td>\n",
       "      <td>44.0</td>\n",
       "      <td>0.0</td>\n",
       "      <td>0.0</td>\n",
       "      <td>682.0</td>\n",
       "    </tr>\n",
       "    <tr>\n",
       "      <td>1651</td>\n",
       "      <td>ultra</td>\n",
       "      <td>0.0</td>\n",
       "      <td>0.0</td>\n",
       "      <td>0.0</td>\n",
       "      <td>1950.0</td>\n",
       "    </tr>\n",
       "    <tr>\n",
       "      <td>2497</td>\n",
       "      <td>smart</td>\n",
       "      <td>0.0</td>\n",
       "      <td>0.0</td>\n",
       "      <td>0.0</td>\n",
       "      <td>550.0</td>\n",
       "    </tr>\n",
       "    <tr>\n",
       "      <td>1357</td>\n",
       "      <td>smart</td>\n",
       "      <td>67.0</td>\n",
       "      <td>0.0</td>\n",
       "      <td>2.0</td>\n",
       "      <td>1151.0</td>\n",
       "    </tr>\n",
       "    <tr>\n",
       "      <td>742</td>\n",
       "      <td>smart</td>\n",
       "      <td>0.0</td>\n",
       "      <td>0.0</td>\n",
       "      <td>7.0</td>\n",
       "      <td>1950.0</td>\n",
       "    </tr>\n",
       "    <tr>\n",
       "      <td>3018</td>\n",
       "      <td>ultra</td>\n",
       "      <td>0.0</td>\n",
       "      <td>0.0</td>\n",
       "      <td>12.0</td>\n",
       "      <td>3750.0</td>\n",
       "    </tr>\n",
       "    <tr>\n",
       "      <td>1451</td>\n",
       "      <td>smart</td>\n",
       "      <td>172.0</td>\n",
       "      <td>0.0</td>\n",
       "      <td>11.0</td>\n",
       "      <td>3266.0</td>\n",
       "    </tr>\n",
       "    <tr>\n",
       "      <td>2071</td>\n",
       "      <td>ultra</td>\n",
       "      <td>0.0</td>\n",
       "      <td>0.0</td>\n",
       "      <td>0.0</td>\n",
       "      <td>1950.0</td>\n",
       "    </tr>\n",
       "  </tbody>\n",
       "</table>\n",
       "</div>"
      ],
      "text/plain": [
       "     tariff  call_over_tariff  message_over_tariff  mb_over_tariff   price\n",
       "404   smart               0.0                  0.0             4.0  1350.0\n",
       "1608  ultra               0.0                  0.0             0.0  1950.0\n",
       "633   smart              44.0                  0.0             0.0   682.0\n",
       "1651  ultra               0.0                  0.0             0.0  1950.0\n",
       "2497  smart               0.0                  0.0             0.0   550.0\n",
       "1357  smart              67.0                  0.0             2.0  1151.0\n",
       "742   smart               0.0                  0.0             7.0  1950.0\n",
       "3018  ultra               0.0                  0.0            12.0  3750.0\n",
       "1451  smart             172.0                  0.0            11.0  3266.0\n",
       "2071  ultra               0.0                  0.0             0.0  1950.0"
      ]
     },
     "execution_count": 45,
     "metadata": {},
     "output_type": "execute_result"
    }
   ],
   "source": [
    "# напишем функцию для подсчета выручки за месяц, в 1 ГБ - 1024 МБ\n",
    "def price_by_month(row):\n",
    "    if row['tariff'] == 'ultra':\n",
    "        price = 1950 + row['call_over_tariff']*1+ row['message_over_tariff']*1 + row['mb_over_tariff']*150\n",
    "    else:\n",
    "        price = 550 + row['call_over_tariff']*3+ row['message_over_tariff']*3 + row['mb_over_tariff']*200\n",
    "    return price\n",
    "by_month['price'] = by_month.apply(price_by_month, axis = 1)\n",
    "by_month[['tariff', 'call_over_tariff', 'message_over_tariff', 'mb_over_tariff', 'price']].sample(10)"
   ]
  },
  {
   "cell_type": "markdown",
   "metadata": {},
   "source": [
    "### Вывод"
   ]
  },
  {
   "cell_type": "markdown",
   "metadata": {},
   "source": [
    "В данные добавлены некоторые расчетные значения, которые позже будут использованы при проведении анализа."
   ]
  },
  {
   "cell_type": "markdown",
   "metadata": {},
   "source": [
    "## Статистический анализ данных"
   ]
  },
  {
   "cell_type": "markdown",
   "metadata": {},
   "source": [
    "Изучим поведение клиентов оператора в группах пользователей различных тарифов."
   ]
  },
  {
   "cell_type": "markdown",
   "metadata": {},
   "source": [
    "### Smart"
   ]
  },
  {
   "cell_type": "markdown",
   "metadata": {},
   "source": [
    "Выделим в отдельный датасет пользователей тарифа смарт и рассчитаем для каждого пользователя среднее значение расхода минут, сообщений и интернет-трафика."
   ]
  },
  {
   "cell_type": "code",
   "execution_count": 46,
   "metadata": {},
   "outputs": [
    {
     "data": {
      "text/html": [
       "<div>\n",
       "<style scoped>\n",
       "    .dataframe tbody tr th:only-of-type {\n",
       "        vertical-align: middle;\n",
       "    }\n",
       "\n",
       "    .dataframe tbody tr th {\n",
       "        vertical-align: top;\n",
       "    }\n",
       "\n",
       "    .dataframe thead th {\n",
       "        text-align: right;\n",
       "    }\n",
       "</style>\n",
       "<table border=\"1\" class=\"dataframe\">\n",
       "  <thead>\n",
       "    <tr style=\"text-align: right;\">\n",
       "      <th></th>\n",
       "      <th>user_id</th>\n",
       "      <th>month</th>\n",
       "      <th>calls</th>\n",
       "      <th>calls_duration</th>\n",
       "      <th>messages</th>\n",
       "      <th>mb_used</th>\n",
       "      <th>tariff</th>\n",
       "      <th>call_over_tariff</th>\n",
       "      <th>message_over_tariff</th>\n",
       "      <th>mb_over_tariff</th>\n",
       "      <th>price</th>\n",
       "    </tr>\n",
       "  </thead>\n",
       "  <tbody>\n",
       "    <tr>\n",
       "      <td>8</td>\n",
       "      <td>1001</td>\n",
       "      <td>11</td>\n",
       "      <td>45.0</td>\n",
       "      <td>430.0</td>\n",
       "      <td>0.0</td>\n",
       "      <td>18430.0</td>\n",
       "      <td>smart</td>\n",
       "      <td>0.0</td>\n",
       "      <td>0.0</td>\n",
       "      <td>3.0</td>\n",
       "      <td>1150.0</td>\n",
       "    </tr>\n",
       "    <tr>\n",
       "      <td>9</td>\n",
       "      <td>1001</td>\n",
       "      <td>12</td>\n",
       "      <td>47.0</td>\n",
       "      <td>414.0</td>\n",
       "      <td>0.0</td>\n",
       "      <td>14037.0</td>\n",
       "      <td>smart</td>\n",
       "      <td>0.0</td>\n",
       "      <td>0.0</td>\n",
       "      <td>0.0</td>\n",
       "      <td>550.0</td>\n",
       "    </tr>\n",
       "    <tr>\n",
       "      <td>10</td>\n",
       "      <td>1002</td>\n",
       "      <td>6</td>\n",
       "      <td>14.0</td>\n",
       "      <td>117.0</td>\n",
       "      <td>4.0</td>\n",
       "      <td>10857.0</td>\n",
       "      <td>smart</td>\n",
       "      <td>0.0</td>\n",
       "      <td>0.0</td>\n",
       "      <td>0.0</td>\n",
       "      <td>550.0</td>\n",
       "    </tr>\n",
       "    <tr>\n",
       "      <td>11</td>\n",
       "      <td>1002</td>\n",
       "      <td>7</td>\n",
       "      <td>21.0</td>\n",
       "      <td>214.0</td>\n",
       "      <td>11.0</td>\n",
       "      <td>17581.0</td>\n",
       "      <td>smart</td>\n",
       "      <td>0.0</td>\n",
       "      <td>0.0</td>\n",
       "      <td>3.0</td>\n",
       "      <td>1150.0</td>\n",
       "    </tr>\n",
       "    <tr>\n",
       "      <td>12</td>\n",
       "      <td>1002</td>\n",
       "      <td>8</td>\n",
       "      <td>37.0</td>\n",
       "      <td>289.0</td>\n",
       "      <td>13.0</td>\n",
       "      <td>20320.0</td>\n",
       "      <td>smart</td>\n",
       "      <td>0.0</td>\n",
       "      <td>0.0</td>\n",
       "      <td>5.0</td>\n",
       "      <td>1550.0</td>\n",
       "    </tr>\n",
       "  </tbody>\n",
       "</table>\n",
       "</div>"
      ],
      "text/plain": [
       "    user_id  month  calls  calls_duration  messages  mb_used tariff  \\\n",
       "8      1001     11   45.0           430.0       0.0  18430.0  smart   \n",
       "9      1001     12   47.0           414.0       0.0  14037.0  smart   \n",
       "10     1002      6   14.0           117.0       4.0  10857.0  smart   \n",
       "11     1002      7   21.0           214.0      11.0  17581.0  smart   \n",
       "12     1002      8   37.0           289.0      13.0  20320.0  smart   \n",
       "\n",
       "    call_over_tariff  message_over_tariff  mb_over_tariff   price  \n",
       "8                0.0                  0.0             3.0  1150.0  \n",
       "9                0.0                  0.0             0.0   550.0  \n",
       "10               0.0                  0.0             0.0   550.0  \n",
       "11               0.0                  0.0             3.0  1150.0  \n",
       "12               0.0                  0.0             5.0  1550.0  "
      ]
     },
     "execution_count": 46,
     "metadata": {},
     "output_type": "execute_result"
    }
   ],
   "source": [
    "total_stat_smart = by_month.query('tariff == \"smart\"')\n",
    "total_stat_smart.head()"
   ]
  },
  {
   "cell_type": "markdown",
   "metadata": {},
   "source": [
    "#### calls_duration"
   ]
  },
  {
   "cell_type": "code",
   "execution_count": 47,
   "metadata": {
    "scrolled": false
   },
   "outputs": [
    {
     "data": {
      "text/plain": [
       "<function matplotlib.pyplot.show(*args, **kw)>"
      ]
     },
     "execution_count": 47,
     "metadata": {},
     "output_type": "execute_result"
    },
    {
     "data": {
      "image/png": "[encoded data removed]",
      "text/plain": [
       "<Figure size 432x288 with 1 Axes>"
      ]
     },
     "metadata": {
      "needs_background": "light"
     },
     "output_type": "display_data"
    }
   ],
   "source": [
    "total_stat_smart['calls_duration'].plot(kind = 'hist')\n",
    "plt.xlabel('Количество потраченных минут')\n",
    "plt.ylabel('Частота')\n",
    "plt.title('Гистограмма calls_duration')\n",
    "plt.show"
   ]
  },
  {
   "cell_type": "markdown",
   "metadata": {},
   "source": [
    "По гистограмме распределение близко к нормальному, с усечением отрицательного хвоста на 0."
   ]
  },
  {
   "cell_type": "code",
   "execution_count": 48,
   "metadata": {},
   "outputs": [
    {
     "data": {
      "text/plain": [
       "((0, 900), <matplotlib.axes._subplots.AxesSubplot at 0x7f552077a890>)"
      ]
     },
     "execution_count": 48,
     "metadata": {},
     "output_type": "execute_result"
    },
    {
     "data": {
      "image/png": "[encoded data removed]",
      "text/plain": [
       "<Figure size 1080x1080 with 1 Axes>"
      ]
     },
     "metadata": {
      "needs_background": "light"
     },
     "output_type": "display_data"
    }
   ],
   "source": [
    "databox = total_stat_smart.boxplot('calls_duration', figsize = (15,15))\n",
    "plt.ylim(0,900), databox"
   ]
  },
  {
   "cell_type": "markdown",
   "metadata": {},
   "source": [
    "Согласно графику медиана около 420 минут, визуально медиана сдвинута в сторону больших значений. \n",
    "\n",
    "Также на графике видно, что границы первого квартиля находится в рамках лимита  по тарифу (до 500 минут), но третий квартиль дальше этой отметки, что свидетельствует о значимой доле пользователей (более 25%), превышающих лимит тарифа по минутам. Проверим расчетами."
   ]
  },
  {
   "cell_type": "code",
   "execution_count": 49,
   "metadata": {},
   "outputs": [
    {
     "data": {
      "text/plain": [
       "417.93"
      ]
     },
     "execution_count": 49,
     "metadata": {},
     "output_type": "execute_result"
    }
   ],
   "source": [
    "# рассчитаем среднее\n",
    "round(total_stat_smart['calls_duration'].mean(), 2)"
   ]
  },
  {
   "cell_type": "code",
   "execution_count": 50,
   "metadata": {},
   "outputs": [
    {
     "data": {
      "text/plain": [
       "422.0"
      ]
     },
     "execution_count": 50,
     "metadata": {},
     "output_type": "execute_result"
    }
   ],
   "source": [
    "# рассчитаем медиану\n",
    "round(total_stat_smart['calls_duration'].median(), 2)"
   ]
  },
  {
   "cell_type": "markdown",
   "metadata": {},
   "source": [
    "Медиана и среднее практически равны, что подтверждает нормальный характер распределения."
   ]
  },
  {
   "cell_type": "code",
   "execution_count": 51,
   "metadata": {},
   "outputs": [
    {
     "name": "stdout",
     "output_type": "stream",
     "text": [
      "Доля пользователей, превышающих лимит минут: 33.8 %\n"
     ]
    }
   ],
   "source": [
    "# посчитаем долю пользователей, которые превышают лимит минут, заложенных в тарифе\n",
    "print('Доля пользователей, превышающих лимит минут:',\\\n",
    "      round(len(total_stat_smart.query('calls_duration > 500'))*100/len(total_stat_smart),1) ,'%')"
   ]
  },
  {
   "cell_type": "code",
   "execution_count": 52,
   "metadata": {},
   "outputs": [
    {
     "data": {
      "text/plain": [
       "'Дисперсия: 36203.07, Стандартное отклонение: 190.27'"
      ]
     },
     "execution_count": 52,
     "metadata": {},
     "output_type": "execute_result"
    }
   ],
   "source": [
    "# рассчитаем дисперсию и стандартное отклонение\n",
    "variance = np.var(total_stat_smart['calls_duration'])\n",
    "f'Дисперсия: {variance:.2f}, Стандартное отклонение: {np.sqrt(variance):.2f}'"
   ]
  },
  {
   "cell_type": "markdown",
   "metadata": {},
   "source": [
    "Учитывая нормальность распределения, согласно правилу трех сигм правктически все значения лежат в интервале 417.93 ± 570.81 (от 0 до 808 минут). Проверим."
   ]
  },
  {
   "cell_type": "code",
   "execution_count": 53,
   "metadata": {},
   "outputs": [
    {
     "name": "stdout",
     "output_type": "stream",
     "text": [
      "0.3 %\n"
     ]
    }
   ],
   "source": [
    "print(round(len(total_stat_smart.query('calls_duration > 989'))*100/len(total_stat_smart),1), '%')"
   ]
  },
  {
   "cell_type": "markdown",
   "metadata": {},
   "source": [
    "Типичный пользователь данной выборки (около 68%) тратит 417.93 ± 190.27 минут (от 227.66 до 608.2 минут), то есть больше половины отведенного тарифом лимита. Проверим."
   ]
  },
  {
   "cell_type": "code",
   "execution_count": 54,
   "metadata": {},
   "outputs": [
    {
     "name": "stdout",
     "output_type": "stream",
     "text": [
      "68.1 %\n"
     ]
    }
   ],
   "source": [
    "print(round(len(total_stat_smart.query('calls_duration >= 228 and calls_duration <= 609 '))*100/len(total_stat_smart),1), '%')"
   ]
  },
  {
   "cell_type": "markdown",
   "metadata": {},
   "source": [
    "#### messages"
   ]
  },
  {
   "cell_type": "code",
   "execution_count": 55,
   "metadata": {},
   "outputs": [
    {
     "data": {
      "text/plain": [
       "<function matplotlib.pyplot.show(*args, **kw)>"
      ]
     },
     "execution_count": 55,
     "metadata": {},
     "output_type": "execute_result"
    },
    {
     "data": {
      "image/png": "[encoded data removed]",
      "text/plain": [
       "<Figure size 432x288 with 1 Axes>"
      ]
     },
     "metadata": {
      "needs_background": "light"
     },
     "output_type": "display_data"
    }
   ],
   "source": [
    "total_stat_smart['messages'].plot(kind = 'hist')\n",
    "plt.xlabel('Количество отправленных сообщений')\n",
    "plt.ylabel('Частота')\n",
    "plt.title('Гистограмма messages')\n",
    "plt.show"
   ]
  },
  {
   "cell_type": "markdown",
   "metadata": {},
   "source": [
    "В целом распределение походит на усеченное нормальное распределение с усечением отрицательного хвоста."
   ]
  },
  {
   "cell_type": "code",
   "execution_count": 56,
   "metadata": {},
   "outputs": [
    {
     "data": {
      "text/plain": [
       "((0, 120), <matplotlib.axes._subplots.AxesSubplot at 0x7f5520612410>)"
      ]
     },
     "execution_count": 56,
     "metadata": {},
     "output_type": "execute_result"
    },
    {
     "data": {
      "image/png": "[encoded data removed]",
      "text/plain": [
       "<Figure size 1080x1080 with 1 Axes>"
      ]
     },
     "metadata": {
      "needs_background": "light"
     },
     "output_type": "display_data"
    }
   ],
   "source": [
    "databox = total_stat_smart.boxplot('messages', figsize = (15,15))\n",
    "plt.ylim(0,120), databox"
   ]
  },
  {
   "cell_type": "markdown",
   "metadata": {},
   "source": [
    "Согласно графику медиана около 27 сообщений, визуально медиана сдвинута в сторону меньших значений. \n",
    "\n",
    "Также на графике видно, что границы первый квартиль находится в рамках лимита  по тарифу (до 50 сообщений), но третий квартиль визуально выше этой отметки, что свидетельствует о значимой доле пользователей (около 25%), превышающих лимит тарифа по сообщениям. Проверим расчетами."
   ]
  },
  {
   "cell_type": "code",
   "execution_count": 57,
   "metadata": {},
   "outputs": [
    {
     "data": {
      "text/plain": [
       "33.38"
      ]
     },
     "execution_count": 57,
     "metadata": {},
     "output_type": "execute_result"
    }
   ],
   "source": [
    "# рассчитаем среднее\n",
    "round(total_stat_smart['messages'].mean(), 2)"
   ]
  },
  {
   "cell_type": "code",
   "execution_count": 58,
   "metadata": {},
   "outputs": [
    {
     "data": {
      "text/plain": [
       "28.0"
      ]
     },
     "execution_count": 58,
     "metadata": {},
     "output_type": "execute_result"
    }
   ],
   "source": [
    "# рассчитаем медиану\n",
    "round(total_stat_smart['messages'].median(), 2)"
   ]
  },
  {
   "cell_type": "markdown",
   "metadata": {},
   "source": [
    "Медиана и среднее практически равны, среднее несколько сдвинуто относительно медианы в сторону больших значений."
   ]
  },
  {
   "cell_type": "code",
   "execution_count": 59,
   "metadata": {},
   "outputs": [
    {
     "name": "stdout",
     "output_type": "stream",
     "text": [
      "Доля пользователей, превышающих лимит сообщений: 25.3 %\n"
     ]
    }
   ],
   "source": [
    "# посчитаем долю пользователей, которые превышают лимит сообщений, заложенных в тарифе\n",
    "print('Доля пользователей, превышающих лимит сообщений:',\\\n",
    "      round(len(total_stat_smart.query('messages > 50'))*100/len(total_stat_smart),1) ,'%')"
   ]
  },
  {
   "cell_type": "code",
   "execution_count": 60,
   "metadata": {},
   "outputs": [
    {
     "data": {
      "text/plain": [
       "'Дисперсия: 796.46, Стандартное отклонение: 28.22'"
      ]
     },
     "execution_count": 60,
     "metadata": {},
     "output_type": "execute_result"
    }
   ],
   "source": [
    "# рассчитаем дисперсию и стандартное отклонение\n",
    "variance = np.var(total_stat_smart['messages'])\n",
    "f'Дисперсия: {variance:.2f}, Стандартное отклонение: {np.sqrt(variance):.2f}'"
   ]
  },
  {
   "cell_type": "markdown",
   "metadata": {},
   "source": [
    "Типичный пользователь данной выборки в месяц отправляет 33.38 ± 28.22 сообщений (от 5.16 до 61.6 сообщений). Проверим."
   ]
  },
  {
   "cell_type": "code",
   "execution_count": 61,
   "metadata": {},
   "outputs": [
    {
     "name": "stdout",
     "output_type": "stream",
     "text": [
      "65.3 %\n"
     ]
    }
   ],
   "source": [
    "print(round(len(total_stat_smart.query('messages >= 5 and messages <= 62 '))*100/len(total_stat_smart),1), '%')"
   ]
  },
  {
   "cell_type": "markdown",
   "metadata": {},
   "source": [
    "#### internet"
   ]
  },
  {
   "cell_type": "code",
   "execution_count": 62,
   "metadata": {},
   "outputs": [
    {
     "data": {
      "text/plain": [
       "<function matplotlib.pyplot.show(*args, **kw)>"
      ]
     },
     "execution_count": 62,
     "metadata": {},
     "output_type": "execute_result"
    },
    {
     "data": {
      "image/png": "[encoded data removed]",
      "text/plain": [
       "<Figure size 432x288 with 1 Axes>"
      ]
     },
     "metadata": {
      "needs_background": "light"
     },
     "output_type": "display_data"
    }
   ],
   "source": [
    "total_stat_smart['mb_used'].plot(kind = 'hist')\n",
    "plt.xlabel('Количество потраченных мегабайт')\n",
    "plt.ylabel('Частота')\n",
    "plt.title('Гистограмма mb_used')\n",
    "plt.show"
   ]
  },
  {
   "cell_type": "markdown",
   "metadata": {},
   "source": [
    "Визуально распределение напоминает нормальное."
   ]
  },
  {
   "cell_type": "code",
   "execution_count": 63,
   "metadata": {},
   "outputs": [
    {
     "data": {
      "text/plain": [
       "((5000, 25000), <matplotlib.axes._subplots.AxesSubplot at 0x7f551fdfeed0>)"
      ]
     },
     "execution_count": 63,
     "metadata": {},
     "output_type": "execute_result"
    },
    {
     "data": {
      "image/png": "[encoded data removed]",
      "text/plain": [
       "<Figure size 1080x1080 with 1 Axes>"
      ]
     },
     "metadata": {
      "needs_background": "light"
     },
     "output_type": "display_data"
    }
   ],
   "source": [
    "databox = total_stat_smart.boxplot('mb_used', figsize = (15,15))\n",
    "plt.ylim(5000,25000), databox"
   ]
  },
  {
   "cell_type": "markdown",
   "metadata": {},
   "source": [
    "Визуально медиана около 16250 МБ, что превышает лимит по тарифу. \n",
    "\n",
    "Также на графике видно, что граница третьего квартиля превышает лимита  по тарифу (до 15360 МБ), а первый квартиль близок к этой отметке, что свидетельствует о довольно большой доле пользователей, превышающих лимит тарифа по МБ. Проверим расчетами."
   ]
  },
  {
   "cell_type": "code",
   "execution_count": 64,
   "metadata": {},
   "outputs": [
    {
     "data": {
      "text/plain": [
       "16208.87"
      ]
     },
     "execution_count": 64,
     "metadata": {},
     "output_type": "execute_result"
    }
   ],
   "source": [
    "# рассчитаем среднее\n",
    "round(total_stat_smart['mb_used'].mean(), 2)"
   ]
  },
  {
   "cell_type": "code",
   "execution_count": 65,
   "metadata": {},
   "outputs": [
    {
     "data": {
      "text/plain": [
       "16507.0"
      ]
     },
     "execution_count": 65,
     "metadata": {},
     "output_type": "execute_result"
    }
   ],
   "source": [
    "# рассчитаем медиану\n",
    "round(total_stat_smart['mb_used'].median(), 2)"
   ]
  },
  {
   "cell_type": "markdown",
   "metadata": {},
   "source": [
    "Медиана и среднее практически равны, что подтверждает нормальный характер распределения."
   ]
  },
  {
   "cell_type": "code",
   "execution_count": 66,
   "metadata": {},
   "outputs": [
    {
     "name": "stdout",
     "output_type": "stream",
     "text": [
      "Доля пользователей, превышающих лимит мегабайт: 58.5 %\n"
     ]
    }
   ],
   "source": [
    "# посчитаем долю пользователей, которые превышают лимит МБ, заложенных в тарифе\n",
    "print('Доля пользователей, превышающих лимит мегабайт:',\\\n",
    "      round(len(total_stat_smart.query('mb_used > 15360'))*100/len(total_stat_smart),1) ,'%')"
   ]
  },
  {
   "cell_type": "code",
   "execution_count": 67,
   "metadata": {},
   "outputs": [
    {
     "data": {
      "text/plain": [
       "'Дисперсия: 34447101.81, Стандартное отклонение: 5869.17'"
      ]
     },
     "execution_count": 67,
     "metadata": {},
     "output_type": "execute_result"
    }
   ],
   "source": [
    "# рассчитаем дисперсию и стандартное отклонение\n",
    "variance = np.var(total_stat_smart['mb_used'])\n",
    "f'Дисперсия: {variance:.2f}, Стандартное отклонение: {np.sqrt(variance):.2f}'"
   ]
  },
  {
   "cell_type": "markdown",
   "metadata": {},
   "source": [
    "Учитывая нормальность распределения, типичный пользователь данной выборки (около 68%) тратит 16208.87 ± 5869.17 МБ (от 10339.7 до 22078.04 МБ). Проверим."
   ]
  },
  {
   "cell_type": "code",
   "execution_count": 68,
   "metadata": {},
   "outputs": [
    {
     "name": "stdout",
     "output_type": "stream",
     "text": [
      "71.4 %\n"
     ]
    }
   ],
   "source": [
    "print(round(len(total_stat_smart.query('mb_used >= 10400 and mb_used <= 22079 '))*100/len(total_stat_smart),1), '%')"
   ]
  },
  {
   "cell_type": "markdown",
   "metadata": {},
   "source": [
    "Согласно данным представленной выборки **пользователям тарифа smart в месяц** требуется:\n",
    "\n",
    "* **417.93 минут** (± 190.27)   \n",
    "* **33.38 сообщений** (± 28.22)  \n",
    "* **16208.87 МБ** (± 5869.17)\n"
   ]
  },
  {
   "cell_type": "markdown",
   "metadata": {},
   "source": [
    "### Ultra"
   ]
  },
  {
   "cell_type": "markdown",
   "metadata": {},
   "source": [
    "Выделим в отдельный датасет пользователей тарифа ультра."
   ]
  },
  {
   "cell_type": "code",
   "execution_count": 69,
   "metadata": {},
   "outputs": [
    {
     "data": {
      "text/html": [
       "<div>\n",
       "<style scoped>\n",
       "    .dataframe tbody tr th:only-of-type {\n",
       "        vertical-align: middle;\n",
       "    }\n",
       "\n",
       "    .dataframe tbody tr th {\n",
       "        vertical-align: top;\n",
       "    }\n",
       "\n",
       "    .dataframe thead th {\n",
       "        text-align: right;\n",
       "    }\n",
       "</style>\n",
       "<table border=\"1\" class=\"dataframe\">\n",
       "  <thead>\n",
       "    <tr style=\"text-align: right;\">\n",
       "      <th></th>\n",
       "      <th>user_id</th>\n",
       "      <th>month</th>\n",
       "      <th>calls</th>\n",
       "      <th>calls_duration</th>\n",
       "      <th>messages</th>\n",
       "      <th>mb_used</th>\n",
       "      <th>tariff</th>\n",
       "      <th>call_over_tariff</th>\n",
       "      <th>message_over_tariff</th>\n",
       "      <th>mb_over_tariff</th>\n",
       "      <th>price</th>\n",
       "    </tr>\n",
       "  </thead>\n",
       "  <tbody>\n",
       "    <tr>\n",
       "      <td>0</td>\n",
       "      <td>1000</td>\n",
       "      <td>5</td>\n",
       "      <td>17.0</td>\n",
       "      <td>159.0</td>\n",
       "      <td>22.0</td>\n",
       "      <td>2254.0</td>\n",
       "      <td>ultra</td>\n",
       "      <td>0.0</td>\n",
       "      <td>0.0</td>\n",
       "      <td>0.0</td>\n",
       "      <td>1950.0</td>\n",
       "    </tr>\n",
       "    <tr>\n",
       "      <td>1</td>\n",
       "      <td>1000</td>\n",
       "      <td>6</td>\n",
       "      <td>28.0</td>\n",
       "      <td>172.0</td>\n",
       "      <td>60.0</td>\n",
       "      <td>23234.0</td>\n",
       "      <td>ultra</td>\n",
       "      <td>0.0</td>\n",
       "      <td>0.0</td>\n",
       "      <td>0.0</td>\n",
       "      <td>1950.0</td>\n",
       "    </tr>\n",
       "    <tr>\n",
       "      <td>2</td>\n",
       "      <td>1000</td>\n",
       "      <td>7</td>\n",
       "      <td>41.0</td>\n",
       "      <td>340.0</td>\n",
       "      <td>75.0</td>\n",
       "      <td>14004.0</td>\n",
       "      <td>ultra</td>\n",
       "      <td>0.0</td>\n",
       "      <td>0.0</td>\n",
       "      <td>0.0</td>\n",
       "      <td>1950.0</td>\n",
       "    </tr>\n",
       "    <tr>\n",
       "      <td>3</td>\n",
       "      <td>1000</td>\n",
       "      <td>8</td>\n",
       "      <td>42.0</td>\n",
       "      <td>408.0</td>\n",
       "      <td>81.0</td>\n",
       "      <td>14056.0</td>\n",
       "      <td>ultra</td>\n",
       "      <td>0.0</td>\n",
       "      <td>0.0</td>\n",
       "      <td>0.0</td>\n",
       "      <td>1950.0</td>\n",
       "    </tr>\n",
       "    <tr>\n",
       "      <td>4</td>\n",
       "      <td>1000</td>\n",
       "      <td>9</td>\n",
       "      <td>46.0</td>\n",
       "      <td>466.0</td>\n",
       "      <td>57.0</td>\n",
       "      <td>14569.0</td>\n",
       "      <td>ultra</td>\n",
       "      <td>0.0</td>\n",
       "      <td>0.0</td>\n",
       "      <td>0.0</td>\n",
       "      <td>1950.0</td>\n",
       "    </tr>\n",
       "  </tbody>\n",
       "</table>\n",
       "</div>"
      ],
      "text/plain": [
       "   user_id  month  calls  calls_duration  messages  mb_used tariff  \\\n",
       "0     1000      5   17.0           159.0      22.0   2254.0  ultra   \n",
       "1     1000      6   28.0           172.0      60.0  23234.0  ultra   \n",
       "2     1000      7   41.0           340.0      75.0  14004.0  ultra   \n",
       "3     1000      8   42.0           408.0      81.0  14056.0  ultra   \n",
       "4     1000      9   46.0           466.0      57.0  14569.0  ultra   \n",
       "\n",
       "   call_over_tariff  message_over_tariff  mb_over_tariff   price  \n",
       "0               0.0                  0.0             0.0  1950.0  \n",
       "1               0.0                  0.0             0.0  1950.0  \n",
       "2               0.0                  0.0             0.0  1950.0  \n",
       "3               0.0                  0.0             0.0  1950.0  \n",
       "4               0.0                  0.0             0.0  1950.0  "
      ]
     },
     "execution_count": 69,
     "metadata": {},
     "output_type": "execute_result"
    }
   ],
   "source": [
    "total_stat_ultra = by_month.query('tariff == \"ultra\"')\n",
    "total_stat_ultra.head()"
   ]
  },
  {
   "cell_type": "markdown",
   "metadata": {},
   "source": [
    "#### calls_duration"
   ]
  },
  {
   "cell_type": "code",
   "execution_count": 70,
   "metadata": {},
   "outputs": [
    {
     "data": {
      "text/plain": [
       "<function matplotlib.pyplot.show(*args, **kw)>"
      ]
     },
     "execution_count": 70,
     "metadata": {},
     "output_type": "execute_result"
    },
    {
     "data": {
      "image/png": "[encoded data removed]",
      "text/plain": [
       "<Figure size 432x288 with 1 Axes>"
      ]
     },
     "metadata": {
      "needs_background": "light"
     },
     "output_type": "display_data"
    }
   ],
   "source": [
    "total_stat_ultra['calls_duration'].plot(kind = 'hist')\n",
    "plt.xlabel('Количество потраченных минут')\n",
    "plt.ylabel('Частота')\n",
    "plt.title('Гистограмма calls_duration')\n",
    "plt.show"
   ]
  },
  {
   "cell_type": "markdown",
   "metadata": {},
   "source": [
    "Визуально по гистограмме слоно определить характер распределения, но прослеживается скошенность в сторону меньших значений."
   ]
  },
  {
   "cell_type": "code",
   "execution_count": 71,
   "metadata": {},
   "outputs": [
    {
     "data": {
      "text/plain": [
       "((0, 1500), <matplotlib.axes._subplots.AxesSubplot at 0x7f551eee1a50>)"
      ]
     },
     "execution_count": 71,
     "metadata": {},
     "output_type": "execute_result"
    },
    {
     "data": {
      "image/png": "[encoded data removed]",
      "text/plain": [
       "<Figure size 1080x1080 with 1 Axes>"
      ]
     },
     "metadata": {
      "needs_background": "light"
     },
     "output_type": "display_data"
    }
   ],
   "source": [
    "databox = total_stat_ultra.boxplot('calls_duration', figsize = (15,15))\n",
    "plt.ylim(0,1500), databox"
   ]
  },
  {
   "cell_type": "markdown",
   "metadata": {},
   "source": [
    "Согласно диаграмме размаха медиана около 520 минут, смещена в сторону меньших значений.\n",
    "\n",
    "Границы межквартильного размаха около 290 - 750 минут, что гораздо меньше установленного лимита в 3000 минут, даже граница верхнего уса (1,5 межквартильный размах) около 1400 минут, что все ещё значимо меньше лимита. \n",
    "Согласно диаграмме, пользователей, превысивших лимит тарифа по минутам, нет."
   ]
  },
  {
   "cell_type": "code",
   "execution_count": 72,
   "metadata": {},
   "outputs": [
    {
     "name": "stdout",
     "output_type": "stream",
     "text": [
      "Среднее: 526.62\n"
     ]
    }
   ],
   "source": [
    "# рассчитаем среднее\n",
    "print('Среднее:',round(total_stat_ultra['calls_duration'].mean(), 2))"
   ]
  },
  {
   "cell_type": "code",
   "execution_count": 73,
   "metadata": {},
   "outputs": [
    {
     "name": "stdout",
     "output_type": "stream",
     "text": [
      "Медиана: 518.0\n"
     ]
    }
   ],
   "source": [
    "# рассчитаем медиану\n",
    "print('Медиана:',round(total_stat_ultra['calls_duration'].median(), 2))"
   ]
  },
  {
   "cell_type": "markdown",
   "metadata": {},
   "source": [
    "Среднее несколько смещено в сторону больших значений, возможно есть \"выбивающиеся\" большие значения, перетягивающие среднее на себя."
   ]
  },
  {
   "cell_type": "code",
   "execution_count": 74,
   "metadata": {},
   "outputs": [
    {
     "name": "stdout",
     "output_type": "stream",
     "text": [
      "Доля пользователей, превышающих лимит минут: 0.0 %\n"
     ]
    }
   ],
   "source": [
    "# посчитаем долю пользователей, которые превышают лимит минут, заложенных в тарифе\n",
    "print('Доля пользователей, превышающих лимит минут:',\\\n",
    "      round(len(total_stat_ultra.query('calls_duration > 3000'))*100/len(total_stat_ultra),1) ,'%')"
   ]
  },
  {
   "cell_type": "markdown",
   "metadata": {},
   "source": [
    "Никто из пользователей выборки не превысил лимит тарифа по минутам. \n",
    "\n",
    "Проверим, есть ли значения более 1410 минут, не попавшие на диаграмму."
   ]
  },
  {
   "cell_type": "code",
   "execution_count": 75,
   "metadata": {},
   "outputs": [
    {
     "name": "stdout",
     "output_type": "stream",
     "text": [
      "0.2 %\n"
     ]
    }
   ],
   "source": [
    "print(round(len(total_stat_ultra.query('calls_duration > 1410'))*100/len(total_stat_ultra),1) ,'%')"
   ]
  },
  {
   "cell_type": "markdown",
   "metadata": {},
   "source": [
    "В выборке есть небольшая доля \"нетипично\" больших значений, перетягивающих среднее."
   ]
  },
  {
   "cell_type": "code",
   "execution_count": 76,
   "metadata": {},
   "outputs": [
    {
     "data": {
      "text/plain": [
       "'Дисперсия: 100771.22, Стандартное отклонение: 317.44'"
      ]
     },
     "execution_count": 76,
     "metadata": {},
     "output_type": "execute_result"
    }
   ],
   "source": [
    "# рассчитаем дисперсию и стандартное отклонение\n",
    "variance = np.var(total_stat_ultra['calls_duration'])\n",
    "f'Дисперсия: {variance:.2f}, Стандартное отклонение: {np.sqrt(variance):.2f}'"
   ]
  },
  {
   "cell_type": "markdown",
   "metadata": {},
   "source": [
    "Типичный пользователь данной выборки тратит 526.62 ± 317.44 минут (от 209.18 до 844.06 минут), что гораздо меньше отведенного тарифом лимита. Проверим."
   ]
  },
  {
   "cell_type": "code",
   "execution_count": 77,
   "metadata": {},
   "outputs": [
    {
     "name": "stdout",
     "output_type": "stream",
     "text": [
      "66.9 %\n"
     ]
    }
   ],
   "source": [
    "print(round(len(total_stat_ultra.query('calls_duration >= 210 and calls_duration <= 845 '))*100/len(total_stat_ultra),1), '%')"
   ]
  },
  {
   "cell_type": "markdown",
   "metadata": {},
   "source": [
    "#### messages"
   ]
  },
  {
   "cell_type": "code",
   "execution_count": 78,
   "metadata": {},
   "outputs": [
    {
     "data": {
      "text/plain": [
       "<function matplotlib.pyplot.show(*args, **kw)>"
      ]
     },
     "execution_count": 78,
     "metadata": {},
     "output_type": "execute_result"
    },
    {
     "data": {
      "image/png": "[encoded data removed]",
      "text/plain": [
       "<Figure size 432x288 with 1 Axes>"
      ]
     },
     "metadata": {
      "needs_background": "light"
     },
     "output_type": "display_data"
    }
   ],
   "source": [
    "total_stat_ultra['messages'].plot(kind = 'hist')\n",
    "plt.xlabel('Количество отправленных сообщений')\n",
    "plt.ylabel('Частота')\n",
    "plt.title('Гистограмма messages')\n",
    "plt.show"
   ]
  },
  {
   "cell_type": "markdown",
   "metadata": {},
   "source": [
    "Распределение напоминает нормальное с усеченным на 0 отрицательным хвостом, и \"удлиненным\" положительным хвостом."
   ]
  },
  {
   "cell_type": "code",
   "execution_count": 79,
   "metadata": {},
   "outputs": [
    {
     "data": {
      "text/plain": [
       "((0, 200), <matplotlib.axes._subplots.AxesSubplot at 0x7f55166535d0>)"
      ]
     },
     "execution_count": 79,
     "metadata": {},
     "output_type": "execute_result"
    },
    {
     "data": {
      "image/png": "[encoded data removed]",
      "text/plain": [
       "<Figure size 1080x1080 with 1 Axes>"
      ]
     },
     "metadata": {
      "needs_background": "light"
     },
     "output_type": "display_data"
    }
   ],
   "source": [
    "databox = total_stat_ultra.boxplot('messages', figsize = (15,15))\n",
    "plt.ylim(0,200), databox"
   ]
  },
  {
   "cell_type": "markdown",
   "metadata": {},
   "source": [
    "Согласно графику медиана около 38 сообщений, визуально медиана сдвинута в сторону меньших значений.\n",
    "\n",
    "Также на графике видно, что границы первого и третьего квартилей (межквартильный размах) находятся в рамках лимита по тарифу (до 1000 сообщений),причем значительно меньше его, даже верхняя граница верхнего уса 188, значительно меньше лимита. Проверим расчетами."
   ]
  },
  {
   "cell_type": "code",
   "execution_count": 80,
   "metadata": {},
   "outputs": [
    {
     "name": "stdout",
     "output_type": "stream",
     "text": [
      "Среднее: 49.36\n"
     ]
    }
   ],
   "source": [
    "# рассчитаем среднее\n",
    "print('Среднее:',round(total_stat_ultra['messages'].mean(), 2))"
   ]
  },
  {
   "cell_type": "code",
   "execution_count": 81,
   "metadata": {},
   "outputs": [
    {
     "name": "stdout",
     "output_type": "stream",
     "text": [
      "Медиана: 38.0\n"
     ]
    }
   ],
   "source": [
    "# рассчитаем медиану\n",
    "print('Медиана:',round(total_stat_ultra['messages'].median(), 2))"
   ]
  },
  {
   "cell_type": "markdown",
   "metadata": {},
   "source": [
    "Среднее смещено относительно медианы в сторону больших значений, вероятно имеются \"нетипично\" большие для выборки значения.\n",
    "\n"
   ]
  },
  {
   "cell_type": "code",
   "execution_count": 82,
   "metadata": {},
   "outputs": [
    {
     "name": "stdout",
     "output_type": "stream",
     "text": [
      "Доля пользователей, превышающих лимит сообщений: 0.0 %\n"
     ]
    }
   ],
   "source": [
    "# проверим отсутствие пользователей, которые превышают лимит сообщений, заложенных в тарифе\n",
    "print('Доля пользователей, превышающих лимит сообщений:',\\\n",
    "      round(len(total_stat_ultra.query('messages > 1000'))*100/len(total_stat_ultra),1) ,'%')"
   ]
  },
  {
   "cell_type": "code",
   "execution_count": 83,
   "metadata": {},
   "outputs": [
    {
     "data": {
      "text/plain": [
       "'Дисперсия: 2282.95, Стандартное отклонение: 47.78'"
      ]
     },
     "execution_count": 83,
     "metadata": {},
     "output_type": "execute_result"
    }
   ],
   "source": [
    "# рассчитаем дисперсию и стандартное отклонение\n",
    "variance = np.var(total_stat_ultra['messages'])\n",
    "f'Дисперсия: {variance:.2f}, Стандартное отклонение: {np.sqrt(variance):.2f}'"
   ]
  },
  {
   "cell_type": "markdown",
   "metadata": {},
   "source": [
    "Типичный пользователь данной выборки в месяц отправляет 49.36 ± 47.78 сообщений (от 1.58 до 97.14 сообщений). Проверим."
   ]
  },
  {
   "cell_type": "code",
   "execution_count": 84,
   "metadata": {},
   "outputs": [
    {
     "name": "stdout",
     "output_type": "stream",
     "text": [
      "64.2 %\n"
     ]
    }
   ],
   "source": [
    "print(round(len(total_stat_ultra.query('messages >= 1 and messages <= 97 '))*100/len(total_stat_ultra),1), '%')"
   ]
  },
  {
   "cell_type": "markdown",
   "metadata": {},
   "source": [
    "#### internet"
   ]
  },
  {
   "cell_type": "code",
   "execution_count": 85,
   "metadata": {},
   "outputs": [
    {
     "data": {
      "text/plain": [
       "<function matplotlib.pyplot.show(*args, **kw)>"
      ]
     },
     "execution_count": 85,
     "metadata": {},
     "output_type": "execute_result"
    },
    {
     "data": {
      "image/png": "[encoded data removed]",
      "text/plain": [
       "<Figure size 432x288 with 1 Axes>"
      ]
     },
     "metadata": {
      "needs_background": "light"
     },
     "output_type": "display_data"
    }
   ],
   "source": [
    "total_stat_ultra['mb_used'].plot(kind = 'hist')\n",
    "plt.xlabel('Количество потраченных мегабайт')\n",
    "plt.ylabel('Частота')\n",
    "plt.title('Гистограмма mb_used')\n",
    "plt.show"
   ]
  },
  {
   "cell_type": "markdown",
   "metadata": {},
   "source": [
    "Визуально распределение близко к нормальному."
   ]
  },
  {
   "cell_type": "code",
   "execution_count": 86,
   "metadata": {},
   "outputs": [
    {
     "data": {
      "text/plain": [
       "((0, 40000), <matplotlib.axes._subplots.AxesSubplot at 0x7f551661c3d0>)"
      ]
     },
     "execution_count": 86,
     "metadata": {},
     "output_type": "execute_result"
    },
    {
     "data": {
      "image/png": "[encoded data removed]",
      "text/plain": [
       "<Figure size 1080x1080 with 1 Axes>"
      ]
     },
     "metadata": {
      "needs_background": "light"
     },
     "output_type": "display_data"
    }
   ],
   "source": [
    "databox = total_stat_ultra.boxplot('mb_used', figsize = (15,15))\n",
    "plt.ylim(0,40000), databox"
   ]
  },
  {
   "cell_type": "markdown",
   "metadata": {},
   "source": [
    "Визуально медиана около 19000 МБ.\n",
    "\n",
    "Также на графике видно, что границы первого и третьего квартилей не превышают лимит по тарифу (до 30720 МБ), что свидетельствует о небольшой доле пользователей, превышающих лимит тарифа по МБ. Проверим расчетами."
   ]
  },
  {
   "cell_type": "code",
   "execution_count": 87,
   "metadata": {},
   "outputs": [
    {
     "name": "stdout",
     "output_type": "stream",
     "text": [
      "Среднее: 19469.31\n"
     ]
    }
   ],
   "source": [
    "# рассчитаем среднее\n",
    "print('Среднее:',round(total_stat_ultra['mb_used'].mean(), 2))"
   ]
  },
  {
   "cell_type": "code",
   "execution_count": 88,
   "metadata": {},
   "outputs": [
    {
     "name": "stdout",
     "output_type": "stream",
     "text": [
      "Медиана: 19309.0\n"
     ]
    }
   ],
   "source": [
    "# рассчитаем медиану\n",
    "print('Медиана:',round(total_stat_ultra['mb_used'].median(), 2))"
   ]
  },
  {
   "cell_type": "markdown",
   "metadata": {},
   "source": [
    "Среднее незначительно смещено в сторону больших значений относительно медианы."
   ]
  },
  {
   "cell_type": "code",
   "execution_count": 89,
   "metadata": {},
   "outputs": [
    {
     "name": "stdout",
     "output_type": "stream",
     "text": [
      "Доля пользователей, превышающих лимит интернет-трафика: 13.6 %\n"
     ]
    }
   ],
   "source": [
    "# проверим долю пользователей, которые превышают лимит интернет-трафика, заложенного в тарифе\n",
    "print('Доля пользователей, превышающих лимит интернет-трафика:',\\\n",
    "      round(len(total_stat_ultra.query('mb_used > 30720'))*100/len(total_stat_ultra),1) ,'%')"
   ]
  },
  {
   "cell_type": "code",
   "execution_count": 90,
   "metadata": {},
   "outputs": [
    {
     "data": {
      "text/plain": [
       "'Дисперсия: 101648256.89, Стандартное отклонение: 10082.08'"
      ]
     },
     "execution_count": 90,
     "metadata": {},
     "output_type": "execute_result"
    }
   ],
   "source": [
    "# рассчитаем дисперсию и стандартное отклонение\n",
    "variance = np.var(total_stat_ultra['mb_used'])\n",
    "f'Дисперсия: {variance:.2f}, Стандартное отклонение: {np.sqrt(variance):.2f}'"
   ]
  },
  {
   "cell_type": "markdown",
   "metadata": {},
   "source": [
    "Типичный пользователь данной выборки тратит 19469.31 ± 10082.08 МБ (от 9387.23 до 29551.39 МБ), что меньше лимита, установленного тарифом. Проверим."
   ]
  },
  {
   "cell_type": "code",
   "execution_count": 91,
   "metadata": {},
   "outputs": [
    {
     "name": "stdout",
     "output_type": "stream",
     "text": [
      "66.7 %\n"
     ]
    }
   ],
   "source": [
    "print(round(len(total_stat_ultra.query('mb_used >= 9388 and mb_used <= 29552 '))*100/len(total_stat_ultra),1), '%')"
   ]
  },
  {
   "cell_type": "markdown",
   "metadata": {},
   "source": [
    "Согласно данным представленной выборки **пользователям тарифа ultra в месяц** требуется:\n",
    "\n",
    "* **526.62 минут** (± 317.44)    \n",
    "* **49.36 сообщений** (± 47.78)     \n",
    "* **19469.31 МБ** (± 10082.08)"
   ]
  },
  {
   "cell_type": "markdown",
   "metadata": {},
   "source": [
    "Сравним поведение пользователей различных тарифов по основным показателям."
   ]
  },
  {
   "cell_type": "code",
   "execution_count": 92,
   "metadata": {},
   "outputs": [
    {
     "data": {
      "text/plain": [
       "<function matplotlib.pyplot.show(*args, **kw)>"
      ]
     },
     "execution_count": 92,
     "metadata": {},
     "output_type": "execute_result"
    },
    {
     "data": {
      "image/png": "[encoded data removed]",
      "text/plain": [
       "<Figure size 720x360 with 1 Axes>"
      ]
     },
     "metadata": {
      "needs_background": "light"
     },
     "output_type": "display_data"
    }
   ],
   "source": [
    "plt.figure(figsize=(10,5))\n",
    "total_stat_ultra['calls_duration'].plot(kind = 'hist', label='Ultra')\n",
    "total_stat_smart['calls_duration'].plot(kind = 'hist', label='Smart', alpha = 0.6)\n",
    "plt.xlabel('Минуты', fontsize=12) \n",
    "plt.title('Гистограммы потраченных минут по тарифам')\n",
    "plt.legend(fontsize=12)\n",
    "plt.show"
   ]
  },
  {
   "cell_type": "code",
   "execution_count": 93,
   "metadata": {},
   "outputs": [
    {
     "data": {
      "text/plain": [
       "<function matplotlib.pyplot.show(*args, **kw)>"
      ]
     },
     "execution_count": 93,
     "metadata": {},
     "output_type": "execute_result"
    },
    {
     "data": {
      "image/png": "[encoded data removed]",
      "text/plain": [
       "<Figure size 720x360 with 1 Axes>"
      ]
     },
     "metadata": {
      "needs_background": "light"
     },
     "output_type": "display_data"
    }
   ],
   "source": [
    "plt.figure(figsize=(10,5))\n",
    "total_stat_ultra['messages'].plot(kind = 'hist', label='Ultra')\n",
    "total_stat_smart['messages'].plot(kind = 'hist', label='Smart', alpha = 0.6)\n",
    "plt.xlabel('Сообщения', fontsize=12) \n",
    "plt.title('Гистограммы отправленных сообщений по тарифам')\n",
    "plt.legend(fontsize=12)\n",
    "plt.show"
   ]
  },
  {
   "cell_type": "code",
   "execution_count": 94,
   "metadata": {},
   "outputs": [
    {
     "data": {
      "text/plain": [
       "<function matplotlib.pyplot.show(*args, **kw)>"
      ]
     },
     "execution_count": 94,
     "metadata": {},
     "output_type": "execute_result"
    },
    {
     "data": {
      "image/png": "[encoded data removed]",
      "text/plain": [
       "<Figure size 720x360 with 1 Axes>"
      ]
     },
     "metadata": {
      "needs_background": "light"
     },
     "output_type": "display_data"
    }
   ],
   "source": [
    "plt.figure(figsize=(10,5))\n",
    "total_stat_ultra['mb_used'].plot(kind = 'hist', label='Ultra')\n",
    "total_stat_smart['mb_used'].plot(kind = 'hist', label='Smart', alpha = 0.7)\n",
    "plt.xlabel('Интернет - трафик', fontsize=12) \n",
    "plt.title('Гистограммы интернет-трафика по тарифам')\n",
    "plt.legend(fontsize=12)\n",
    "plt.show"
   ]
  },
  {
   "cell_type": "markdown",
   "metadata": {},
   "source": [
    "Визуально на графиках видно, что пользователи тарифа Смарт ведут себя более \"типично\", гистограммы сконцентрированы вокруг медиан, а пользователи тарифа Ультра более \"вариативны\", гистограммы \"растянуты\" вдоль оси уникальных значений."
   ]
  },
  {
   "cell_type": "code",
   "execution_count": 95,
   "metadata": {},
   "outputs": [
    {
     "data": {
      "text/plain": [
       "<function matplotlib.pyplot.show(*args, **kw)>"
      ]
     },
     "execution_count": 95,
     "metadata": {},
     "output_type": "execute_result"
    },
    {
     "data": {
      "image/png": "[encoded data removed]",
      "text/plain": [
       "<Figure size 720x360 with 1 Axes>"
      ]
     },
     "metadata": {
      "needs_background": "light"
     },
     "output_type": "display_data"
    }
   ],
   "source": [
    "plt.figure(figsize=(10, 5))\n",
    "total_stat_ultra['price'].plot(kind = 'hist', label='Ultra', histtype = 'step')\n",
    "total_stat_smart['price'].plot(kind = 'hist', label='Smart', histtype = 'step')\n",
    "plt.xlabel('Выручка', fontsize=12) \n",
    "plt.title('Гистограммы выручки по тарифам')\n",
    "plt.legend(fontsize=12)\n",
    "plt.show"
   ]
  },
  {
   "cell_type": "markdown",
   "metadata": {},
   "source": [
    "Визуально распределения похожи, но из-за разницы размеров выборок график не очень нагляден. Но можно предположить, что выручка с пользователей тарифа Ультра выше, так как график смещен относительно графика пользователей тарифа в большую сторону. Более подробно рассмотрим выручку по разным тарифам на этапе проверки гипотез."
   ]
  },
  {
   "cell_type": "markdown",
   "metadata": {},
   "source": [
    "### Вывод"
   ]
  },
  {
   "cell_type": "markdown",
   "metadata": {},
   "source": [
    "Согласно данным представленных выборок пользователям в месяц требуется:\n",
    "\n",
    "| Smart  | std | Ultra | std|\n",
    "| --- | --- | --- | --- |\n",
    "| 417.93 минут| ± 190.27 | 526.62 минут| ± 317.44 |\n",
    "| 33.38 сообщений| ± 28.22 | 49.36 сообщений| ± 47.78 |\n",
    "| 16208.87 МБ| ± 5869.17  | 19469.31 МБ|± 10082.08 |\n",
    "\n",
    "\n",
    "Из данных видно, что пользователи тарифа ультра в среднем тратят большее количество минут, сообщений и интернет-трафика.\n",
    "\n",
    "Дисперсии:\n",
    "\n",
    "| Smart  |var | Ultra |var |\n",
    "| --- | --- | --- | --- |\n",
    "| минуты| 36.203,07 | минуты | 100.771,22 |\n",
    "| сообщения| 796.46 | сообщения |2282.95 |\n",
    "| интернет|  34.447.101,81  | интернет |101.648.256,89 |\n",
    "\n",
    "\n",
    "Согласно данным дисперсий по различным показателям обеих выборок, видно, что пользователи тарифа ультра ведут себя более \"вариативно\", дисперсии в разы больше аналогичных показателей для тарифа смарт, а пользователи тарифа смарт в свою очередь ведут себя более \"типично\".\n",
    "\n",
    "\n",
    "Но несмотря на большее потребление и большую вариативность пользователей тарифа ультра, пользователи практически не превышают лимиты своего тарифа (только около 13 % в интернет-трафике). В то время как около четверти пользователей тарифа смарт превышают лимит по минутам, больше трети сообщениям, и более 58 % превышают лимит интернет-трафика.\n"
   ]
  },
  {
   "cell_type": "markdown",
   "metadata": {},
   "source": [
    "## Проверка гипотез"
   ]
  },
  {
   "cell_type": "markdown",
   "metadata": {},
   "source": [
    "### средняя выручка пользователей тарифов «Ультра» и «Смарт» различаются"
   ]
  },
  {
   "cell_type": "markdown",
   "metadata": {},
   "source": [
    "1. Нулевая гипотеза - средняя выручка пользователей тарифов Ультра и Смарт равны.\n",
    "\n",
    "Альтернативная гипотеза - средняя выручка пользователей тарифов Ультра и Смарт не равны.\n",
    "Таким образом гипотеза двусторонняя не равны - больше или меньше."
   ]
  },
  {
   "cell_type": "markdown",
   "metadata": {},
   "source": [
    "2. Уровень значимости alpha = 0.05"
   ]
  },
  {
   "cell_type": "markdown",
   "metadata": {},
   "source": [
    "3. Выборки для проверки гипотезы total_stat_ultra и total_stat_smart. Выборки независимы. "
   ]
  },
  {
   "cell_type": "code",
   "execution_count": 96,
   "metadata": {},
   "outputs": [
    {
     "name": "stdout",
     "output_type": "stream",
     "text": [
      "Размеры выборок: 2229 и 985\n"
     ]
    }
   ],
   "source": [
    "print('Размеры выборок:', len(total_stat_smart['price']), 'и', len(total_stat_ultra['price']))"
   ]
  },
  {
   "cell_type": "markdown",
   "metadata": {},
   "source": [
    "Можно считать их распределение нормальным, так как благодаря ЦПТ, если размер выборки составляет хотя бы несколько десятков значений, выборочные средние, которые можно получить из одной и той же генеральной совокупности, будут распределены нормально вокруг истинного среднего этой совокупности. "
   ]
  },
  {
   "cell_type": "markdown",
   "metadata": {},
   "source": [
    "Учитывая характеристики выборок, для проверки гипотезы подойдет параметрический критерий - t-критерий Стьюдента для независимых выборок."
   ]
  },
  {
   "cell_type": "markdown",
   "metadata": {},
   "source": [
    "Так как выборки разные по размеру и при исследовании других параметров этих выборок дисперсии значительно различались, примем в качестве условия, что дисперсии выборок не равны."
   ]
  },
  {
   "cell_type": "code",
   "execution_count": 97,
   "metadata": {},
   "outputs": [
    {
     "name": "stdout",
     "output_type": "stream",
     "text": [
      "p-значение:  4.2606313931076085e-250\n",
      "Отвергаем нулевую гипотезу\n"
     ]
    }
   ],
   "source": [
    "alpha = 0.05\n",
    "results = st.ttest_ind(\n",
    "    total_stat_smart['price'],  \n",
    "    total_stat_ultra['price'],\n",
    "    equal_var = False)\n",
    "print('p-значение: ', results.pvalue)\n",
    "\n",
    "if results.pvalue < alpha:\n",
    "    print(\"Отвергаем нулевую гипотезу\")\n",
    "else:\n",
    "    print(\"Не получилось отвергнуть нулевую гипотезу\") "
   ]
  },
  {
   "cell_type": "markdown",
   "metadata": {},
   "source": [
    "Данные, имеющихся выборок предоставляют достаточное основание для выбранного уровня значимости отвергнуть нулевую гипотезу о равенстве выборок и принять альтернативную гипотезу об их неравенстве."
   ]
  },
  {
   "cell_type": "markdown",
   "metadata": {},
   "source": [
    "Учитывая небольшие размеры предоставленных выборок можно рассчитать среднюю выручку для каждого тарифа."
   ]
  },
  {
   "cell_type": "code",
   "execution_count": 98,
   "metadata": {},
   "outputs": [
    {
     "data": {
      "text/plain": [
       "1290.0"
      ]
     },
     "execution_count": 98,
     "metadata": {},
     "output_type": "execute_result"
    }
   ],
   "source": [
    "# средняя выручка на тарифе смарт\n",
    "round(total_stat_smart['price'].mean(), 1)"
   ]
  },
  {
   "cell_type": "code",
   "execution_count": 99,
   "metadata": {},
   "outputs": [
    {
     "data": {
      "text/plain": [
       "2070.2"
      ]
     },
     "execution_count": 99,
     "metadata": {},
     "output_type": "execute_result"
    }
   ],
   "source": [
    "# средняя выручка на тарифе ультра\n",
    "round(total_stat_ultra['price'].mean(), 1)"
   ]
  },
  {
   "cell_type": "markdown",
   "metadata": {},
   "source": [
    "Средняя выручка компании с выборки пользователей тарифа ультра превышает, среднюю выручку выборки пользователей с тарифа смарт."
   ]
  },
  {
   "cell_type": "markdown",
   "metadata": {},
   "source": [
    "### средняя выручка пользователей из Москвы отличается от выручки пользователей из других регионов"
   ]
  },
  {
   "cell_type": "markdown",
   "metadata": {},
   "source": [
    "Добавим в датасет с группировкой по пользователям и рассчетом выручки данные о регионе пользователя"
   ]
  },
  {
   "cell_type": "code",
   "execution_count": 100,
   "metadata": {},
   "outputs": [
    {
     "data": {
      "text/html": [
       "<div>\n",
       "<style scoped>\n",
       "    .dataframe tbody tr th:only-of-type {\n",
       "        vertical-align: middle;\n",
       "    }\n",
       "\n",
       "    .dataframe tbody tr th {\n",
       "        vertical-align: top;\n",
       "    }\n",
       "\n",
       "    .dataframe thead th {\n",
       "        text-align: right;\n",
       "    }\n",
       "</style>\n",
       "<table border=\"1\" class=\"dataframe\">\n",
       "  <thead>\n",
       "    <tr style=\"text-align: right;\">\n",
       "      <th></th>\n",
       "      <th>user_id</th>\n",
       "      <th>month</th>\n",
       "      <th>calls</th>\n",
       "      <th>calls_duration</th>\n",
       "      <th>messages</th>\n",
       "      <th>mb_used</th>\n",
       "      <th>tariff</th>\n",
       "      <th>call_over_tariff</th>\n",
       "      <th>message_over_tariff</th>\n",
       "      <th>mb_over_tariff</th>\n",
       "      <th>price</th>\n",
       "      <th>city</th>\n",
       "    </tr>\n",
       "  </thead>\n",
       "  <tbody>\n",
       "    <tr>\n",
       "      <td>0</td>\n",
       "      <td>1000</td>\n",
       "      <td>5</td>\n",
       "      <td>17.0</td>\n",
       "      <td>159.0</td>\n",
       "      <td>22.0</td>\n",
       "      <td>2254.0</td>\n",
       "      <td>ultra</td>\n",
       "      <td>0.0</td>\n",
       "      <td>0.0</td>\n",
       "      <td>0.0</td>\n",
       "      <td>1950.0</td>\n",
       "      <td>Краснодар</td>\n",
       "    </tr>\n",
       "    <tr>\n",
       "      <td>1</td>\n",
       "      <td>1000</td>\n",
       "      <td>6</td>\n",
       "      <td>28.0</td>\n",
       "      <td>172.0</td>\n",
       "      <td>60.0</td>\n",
       "      <td>23234.0</td>\n",
       "      <td>ultra</td>\n",
       "      <td>0.0</td>\n",
       "      <td>0.0</td>\n",
       "      <td>0.0</td>\n",
       "      <td>1950.0</td>\n",
       "      <td>Краснодар</td>\n",
       "    </tr>\n",
       "    <tr>\n",
       "      <td>2</td>\n",
       "      <td>1000</td>\n",
       "      <td>7</td>\n",
       "      <td>41.0</td>\n",
       "      <td>340.0</td>\n",
       "      <td>75.0</td>\n",
       "      <td>14004.0</td>\n",
       "      <td>ultra</td>\n",
       "      <td>0.0</td>\n",
       "      <td>0.0</td>\n",
       "      <td>0.0</td>\n",
       "      <td>1950.0</td>\n",
       "      <td>Краснодар</td>\n",
       "    </tr>\n",
       "    <tr>\n",
       "      <td>3</td>\n",
       "      <td>1000</td>\n",
       "      <td>8</td>\n",
       "      <td>42.0</td>\n",
       "      <td>408.0</td>\n",
       "      <td>81.0</td>\n",
       "      <td>14056.0</td>\n",
       "      <td>ultra</td>\n",
       "      <td>0.0</td>\n",
       "      <td>0.0</td>\n",
       "      <td>0.0</td>\n",
       "      <td>1950.0</td>\n",
       "      <td>Краснодар</td>\n",
       "    </tr>\n",
       "    <tr>\n",
       "      <td>4</td>\n",
       "      <td>1000</td>\n",
       "      <td>9</td>\n",
       "      <td>46.0</td>\n",
       "      <td>466.0</td>\n",
       "      <td>57.0</td>\n",
       "      <td>14569.0</td>\n",
       "      <td>ultra</td>\n",
       "      <td>0.0</td>\n",
       "      <td>0.0</td>\n",
       "      <td>0.0</td>\n",
       "      <td>1950.0</td>\n",
       "      <td>Краснодар</td>\n",
       "    </tr>\n",
       "    <tr>\n",
       "      <td>5</td>\n",
       "      <td>1000</td>\n",
       "      <td>10</td>\n",
       "      <td>44.0</td>\n",
       "      <td>350.0</td>\n",
       "      <td>73.0</td>\n",
       "      <td>14703.0</td>\n",
       "      <td>ultra</td>\n",
       "      <td>0.0</td>\n",
       "      <td>0.0</td>\n",
       "      <td>0.0</td>\n",
       "      <td>1950.0</td>\n",
       "      <td>Краснодар</td>\n",
       "    </tr>\n",
       "    <tr>\n",
       "      <td>6</td>\n",
       "      <td>1000</td>\n",
       "      <td>11</td>\n",
       "      <td>37.0</td>\n",
       "      <td>338.0</td>\n",
       "      <td>58.0</td>\n",
       "      <td>14757.0</td>\n",
       "      <td>ultra</td>\n",
       "      <td>0.0</td>\n",
       "      <td>0.0</td>\n",
       "      <td>0.0</td>\n",
       "      <td>1950.0</td>\n",
       "      <td>Краснодар</td>\n",
       "    </tr>\n",
       "    <tr>\n",
       "      <td>7</td>\n",
       "      <td>1000</td>\n",
       "      <td>12</td>\n",
       "      <td>38.0</td>\n",
       "      <td>333.0</td>\n",
       "      <td>70.0</td>\n",
       "      <td>9818.0</td>\n",
       "      <td>ultra</td>\n",
       "      <td>0.0</td>\n",
       "      <td>0.0</td>\n",
       "      <td>0.0</td>\n",
       "      <td>1950.0</td>\n",
       "      <td>Краснодар</td>\n",
       "    </tr>\n",
       "    <tr>\n",
       "      <td>8</td>\n",
       "      <td>1001</td>\n",
       "      <td>11</td>\n",
       "      <td>45.0</td>\n",
       "      <td>430.0</td>\n",
       "      <td>0.0</td>\n",
       "      <td>18430.0</td>\n",
       "      <td>smart</td>\n",
       "      <td>0.0</td>\n",
       "      <td>0.0</td>\n",
       "      <td>3.0</td>\n",
       "      <td>1150.0</td>\n",
       "      <td>Москва</td>\n",
       "    </tr>\n",
       "    <tr>\n",
       "      <td>9</td>\n",
       "      <td>1001</td>\n",
       "      <td>12</td>\n",
       "      <td>47.0</td>\n",
       "      <td>414.0</td>\n",
       "      <td>0.0</td>\n",
       "      <td>14037.0</td>\n",
       "      <td>smart</td>\n",
       "      <td>0.0</td>\n",
       "      <td>0.0</td>\n",
       "      <td>0.0</td>\n",
       "      <td>550.0</td>\n",
       "      <td>Москва</td>\n",
       "    </tr>\n",
       "  </tbody>\n",
       "</table>\n",
       "</div>"
      ],
      "text/plain": [
       "   user_id  month  calls  calls_duration  messages  mb_used tariff  \\\n",
       "0     1000      5   17.0           159.0      22.0   2254.0  ultra   \n",
       "1     1000      6   28.0           172.0      60.0  23234.0  ultra   \n",
       "2     1000      7   41.0           340.0      75.0  14004.0  ultra   \n",
       "3     1000      8   42.0           408.0      81.0  14056.0  ultra   \n",
       "4     1000      9   46.0           466.0      57.0  14569.0  ultra   \n",
       "5     1000     10   44.0           350.0      73.0  14703.0  ultra   \n",
       "6     1000     11   37.0           338.0      58.0  14757.0  ultra   \n",
       "7     1000     12   38.0           333.0      70.0   9818.0  ultra   \n",
       "8     1001     11   45.0           430.0       0.0  18430.0  smart   \n",
       "9     1001     12   47.0           414.0       0.0  14037.0  smart   \n",
       "\n",
       "   call_over_tariff  message_over_tariff  mb_over_tariff   price       city  \n",
       "0               0.0                  0.0             0.0  1950.0  Краснодар  \n",
       "1               0.0                  0.0             0.0  1950.0  Краснодар  \n",
       "2               0.0                  0.0             0.0  1950.0  Краснодар  \n",
       "3               0.0                  0.0             0.0  1950.0  Краснодар  \n",
       "4               0.0                  0.0             0.0  1950.0  Краснодар  \n",
       "5               0.0                  0.0             0.0  1950.0  Краснодар  \n",
       "6               0.0                  0.0             0.0  1950.0  Краснодар  \n",
       "7               0.0                  0.0             0.0  1950.0  Краснодар  \n",
       "8               0.0                  0.0             3.0  1150.0     Москва  \n",
       "9               0.0                  0.0             0.0   550.0     Москва  "
      ]
     },
     "execution_count": 100,
     "metadata": {},
     "output_type": "execute_result"
    }
   ],
   "source": [
    "by_month = by_month.merge(users[['user_id', 'city']], on = ['user_id'])\n",
    "by_month.head(10)"
   ]
  },
  {
   "cell_type": "markdown",
   "metadata": {},
   "source": [
    "Создадим отдельные датасеты для Москвы и других регионов и посчитаем среднюю выручку по пользователям."
   ]
  },
  {
   "cell_type": "code",
   "execution_count": 101,
   "metadata": {},
   "outputs": [
    {
     "data": {
      "text/html": [
       "<div>\n",
       "<style scoped>\n",
       "    .dataframe tbody tr th:only-of-type {\n",
       "        vertical-align: middle;\n",
       "    }\n",
       "\n",
       "    .dataframe tbody tr th {\n",
       "        vertical-align: top;\n",
       "    }\n",
       "\n",
       "    .dataframe thead th {\n",
       "        text-align: right;\n",
       "    }\n",
       "</style>\n",
       "<table border=\"1\" class=\"dataframe\">\n",
       "  <thead>\n",
       "    <tr style=\"text-align: right;\">\n",
       "      <th></th>\n",
       "      <th>user_id</th>\n",
       "      <th>month</th>\n",
       "      <th>calls</th>\n",
       "      <th>calls_duration</th>\n",
       "      <th>messages</th>\n",
       "      <th>mb_used</th>\n",
       "      <th>tariff</th>\n",
       "      <th>call_over_tariff</th>\n",
       "      <th>message_over_tariff</th>\n",
       "      <th>mb_over_tariff</th>\n",
       "      <th>price</th>\n",
       "      <th>city</th>\n",
       "    </tr>\n",
       "  </thead>\n",
       "  <tbody>\n",
       "    <tr>\n",
       "      <td>8</td>\n",
       "      <td>1001</td>\n",
       "      <td>11</td>\n",
       "      <td>45.0</td>\n",
       "      <td>430.0</td>\n",
       "      <td>0.0</td>\n",
       "      <td>18430.0</td>\n",
       "      <td>smart</td>\n",
       "      <td>0.0</td>\n",
       "      <td>0.0</td>\n",
       "      <td>3.0</td>\n",
       "      <td>1150.0</td>\n",
       "      <td>Москва</td>\n",
       "    </tr>\n",
       "    <tr>\n",
       "      <td>9</td>\n",
       "      <td>1001</td>\n",
       "      <td>12</td>\n",
       "      <td>47.0</td>\n",
       "      <td>414.0</td>\n",
       "      <td>0.0</td>\n",
       "      <td>14037.0</td>\n",
       "      <td>smart</td>\n",
       "      <td>0.0</td>\n",
       "      <td>0.0</td>\n",
       "      <td>0.0</td>\n",
       "      <td>550.0</td>\n",
       "      <td>Москва</td>\n",
       "    </tr>\n",
       "    <tr>\n",
       "      <td>17</td>\n",
       "      <td>1003</td>\n",
       "      <td>8</td>\n",
       "      <td>43.0</td>\n",
       "      <td>380.0</td>\n",
       "      <td>37.0</td>\n",
       "      <td>8566.0</td>\n",
       "      <td>ultra</td>\n",
       "      <td>0.0</td>\n",
       "      <td>0.0</td>\n",
       "      <td>0.0</td>\n",
       "      <td>1950.0</td>\n",
       "      <td>Москва</td>\n",
       "    </tr>\n",
       "    <tr>\n",
       "      <td>18</td>\n",
       "      <td>1003</td>\n",
       "      <td>9</td>\n",
       "      <td>105.0</td>\n",
       "      <td>961.0</td>\n",
       "      <td>91.0</td>\n",
       "      <td>12469.0</td>\n",
       "      <td>ultra</td>\n",
       "      <td>0.0</td>\n",
       "      <td>0.0</td>\n",
       "      <td>0.0</td>\n",
       "      <td>1950.0</td>\n",
       "      <td>Москва</td>\n",
       "    </tr>\n",
       "    <tr>\n",
       "      <td>19</td>\n",
       "      <td>1003</td>\n",
       "      <td>10</td>\n",
       "      <td>97.0</td>\n",
       "      <td>855.0</td>\n",
       "      <td>83.0</td>\n",
       "      <td>14769.0</td>\n",
       "      <td>ultra</td>\n",
       "      <td>0.0</td>\n",
       "      <td>0.0</td>\n",
       "      <td>0.0</td>\n",
       "      <td>1950.0</td>\n",
       "      <td>Москва</td>\n",
       "    </tr>\n",
       "  </tbody>\n",
       "</table>\n",
       "</div>"
      ],
      "text/plain": [
       "    user_id  month  calls  calls_duration  messages  mb_used tariff  \\\n",
       "8      1001     11   45.0           430.0       0.0  18430.0  smart   \n",
       "9      1001     12   47.0           414.0       0.0  14037.0  smart   \n",
       "17     1003      8   43.0           380.0      37.0   8566.0  ultra   \n",
       "18     1003      9  105.0           961.0      91.0  12469.0  ultra   \n",
       "19     1003     10   97.0           855.0      83.0  14769.0  ultra   \n",
       "\n",
       "    call_over_tariff  message_over_tariff  mb_over_tariff   price    city  \n",
       "8                0.0                  0.0             3.0  1150.0  Москва  \n",
       "9                0.0                  0.0             0.0   550.0  Москва  \n",
       "17               0.0                  0.0             0.0  1950.0  Москва  \n",
       "18               0.0                  0.0             0.0  1950.0  Москва  \n",
       "19               0.0                  0.0             0.0  1950.0  Москва  "
      ]
     },
     "execution_count": 101,
     "metadata": {},
     "output_type": "execute_result"
    }
   ],
   "source": [
    "stat_moscow = by_month.query('city == \"Москва\"')\n",
    "stat_moscow.head()"
   ]
  },
  {
   "cell_type": "code",
   "execution_count": 102,
   "metadata": {},
   "outputs": [
    {
     "data": {
      "text/html": [
       "<div>\n",
       "<style scoped>\n",
       "    .dataframe tbody tr th:only-of-type {\n",
       "        vertical-align: middle;\n",
       "    }\n",
       "\n",
       "    .dataframe tbody tr th {\n",
       "        vertical-align: top;\n",
       "    }\n",
       "\n",
       "    .dataframe thead th {\n",
       "        text-align: right;\n",
       "    }\n",
       "</style>\n",
       "<table border=\"1\" class=\"dataframe\">\n",
       "  <thead>\n",
       "    <tr style=\"text-align: right;\">\n",
       "      <th></th>\n",
       "      <th>user_id</th>\n",
       "      <th>month</th>\n",
       "      <th>calls</th>\n",
       "      <th>calls_duration</th>\n",
       "      <th>messages</th>\n",
       "      <th>mb_used</th>\n",
       "      <th>tariff</th>\n",
       "      <th>call_over_tariff</th>\n",
       "      <th>message_over_tariff</th>\n",
       "      <th>mb_over_tariff</th>\n",
       "      <th>price</th>\n",
       "      <th>city</th>\n",
       "    </tr>\n",
       "  </thead>\n",
       "  <tbody>\n",
       "    <tr>\n",
       "      <td>0</td>\n",
       "      <td>1000</td>\n",
       "      <td>5</td>\n",
       "      <td>17.0</td>\n",
       "      <td>159.0</td>\n",
       "      <td>22.0</td>\n",
       "      <td>2254.0</td>\n",
       "      <td>ultra</td>\n",
       "      <td>0.0</td>\n",
       "      <td>0.0</td>\n",
       "      <td>0.0</td>\n",
       "      <td>1950.0</td>\n",
       "      <td>Краснодар</td>\n",
       "    </tr>\n",
       "    <tr>\n",
       "      <td>1</td>\n",
       "      <td>1000</td>\n",
       "      <td>6</td>\n",
       "      <td>28.0</td>\n",
       "      <td>172.0</td>\n",
       "      <td>60.0</td>\n",
       "      <td>23234.0</td>\n",
       "      <td>ultra</td>\n",
       "      <td>0.0</td>\n",
       "      <td>0.0</td>\n",
       "      <td>0.0</td>\n",
       "      <td>1950.0</td>\n",
       "      <td>Краснодар</td>\n",
       "    </tr>\n",
       "    <tr>\n",
       "      <td>2</td>\n",
       "      <td>1000</td>\n",
       "      <td>7</td>\n",
       "      <td>41.0</td>\n",
       "      <td>340.0</td>\n",
       "      <td>75.0</td>\n",
       "      <td>14004.0</td>\n",
       "      <td>ultra</td>\n",
       "      <td>0.0</td>\n",
       "      <td>0.0</td>\n",
       "      <td>0.0</td>\n",
       "      <td>1950.0</td>\n",
       "      <td>Краснодар</td>\n",
       "    </tr>\n",
       "    <tr>\n",
       "      <td>3</td>\n",
       "      <td>1000</td>\n",
       "      <td>8</td>\n",
       "      <td>42.0</td>\n",
       "      <td>408.0</td>\n",
       "      <td>81.0</td>\n",
       "      <td>14056.0</td>\n",
       "      <td>ultra</td>\n",
       "      <td>0.0</td>\n",
       "      <td>0.0</td>\n",
       "      <td>0.0</td>\n",
       "      <td>1950.0</td>\n",
       "      <td>Краснодар</td>\n",
       "    </tr>\n",
       "    <tr>\n",
       "      <td>4</td>\n",
       "      <td>1000</td>\n",
       "      <td>9</td>\n",
       "      <td>46.0</td>\n",
       "      <td>466.0</td>\n",
       "      <td>57.0</td>\n",
       "      <td>14569.0</td>\n",
       "      <td>ultra</td>\n",
       "      <td>0.0</td>\n",
       "      <td>0.0</td>\n",
       "      <td>0.0</td>\n",
       "      <td>1950.0</td>\n",
       "      <td>Краснодар</td>\n",
       "    </tr>\n",
       "  </tbody>\n",
       "</table>\n",
       "</div>"
      ],
      "text/plain": [
       "   user_id  month  calls  calls_duration  messages  mb_used tariff  \\\n",
       "0     1000      5   17.0           159.0      22.0   2254.0  ultra   \n",
       "1     1000      6   28.0           172.0      60.0  23234.0  ultra   \n",
       "2     1000      7   41.0           340.0      75.0  14004.0  ultra   \n",
       "3     1000      8   42.0           408.0      81.0  14056.0  ultra   \n",
       "4     1000      9   46.0           466.0      57.0  14569.0  ultra   \n",
       "\n",
       "   call_over_tariff  message_over_tariff  mb_over_tariff   price       city  \n",
       "0               0.0                  0.0             0.0  1950.0  Краснодар  \n",
       "1               0.0                  0.0             0.0  1950.0  Краснодар  \n",
       "2               0.0                  0.0             0.0  1950.0  Краснодар  \n",
       "3               0.0                  0.0             0.0  1950.0  Краснодар  \n",
       "4               0.0                  0.0             0.0  1950.0  Краснодар  "
      ]
     },
     "execution_count": 102,
     "metadata": {},
     "output_type": "execute_result"
    }
   ],
   "source": [
    "stat_other = by_month.query('city not in \"Москва\"')\n",
    "stat_other.head()"
   ]
  },
  {
   "cell_type": "markdown",
   "metadata": {},
   "source": [
    "1. Нулевая гипотеза - средняя выручка пользователей из Москвы равна выручке пользователей из других регионов.\n",
    "\n",
    "Альтернативная гипотеза - средняя выручка пользователей из Москвы не равна выручке пользователей из других регионов.\n",
    "Таким образом гипотеза двусторонняя не равны - больше или меньше."
   ]
  },
  {
   "cell_type": "markdown",
   "metadata": {},
   "source": [
    "2. Уровень значимости alpha = 0.05"
   ]
  },
  {
   "cell_type": "markdown",
   "metadata": {},
   "source": [
    "3. Выборки для проверки гипотезы stat_moscow и stat_other. Выборки независимы. "
   ]
  },
  {
   "cell_type": "code",
   "execution_count": 103,
   "metadata": {},
   "outputs": [
    {
     "name": "stdout",
     "output_type": "stream",
     "text": [
      "Размеры выборок: 611 и 2603\n"
     ]
    }
   ],
   "source": [
    "print('Размеры выборок:', len(stat_moscow['price']), 'и', len(stat_other['price']))"
   ]
  },
  {
   "cell_type": "markdown",
   "metadata": {},
   "source": [
    "Согласно ЦПТ можно считать распределение выборок нормальным."
   ]
  },
  {
   "cell_type": "markdown",
   "metadata": {},
   "source": [
    "Учитывая характеристики выборок, для проверки гипотезы подойдет параметрический критерий - t-критерий Стьюдента для независимых выборок. Выборки значимо различаются по размеру, примем в качестве условия, что дисперсии выборок не равны."
   ]
  },
  {
   "cell_type": "code",
   "execution_count": 104,
   "metadata": {},
   "outputs": [
    {
     "name": "stdout",
     "output_type": "stream",
     "text": [
      "p-значение:  0.5257376663729298\n",
      "Не получилось отвергнуть нулевую гипотезу\n"
     ]
    }
   ],
   "source": [
    "alpha = 0.05\n",
    "results = st.ttest_ind(\n",
    "    stat_moscow['price'],  \n",
    "    stat_other['price'],\n",
    "    equal_var = False)\n",
    "print('p-значение: ', results.pvalue)\n",
    "\n",
    "if results.pvalue < alpha:\n",
    "    print(\"Отвергаем нулевую гипотезу\")\n",
    "else:\n",
    "    print(\"Не получилось отвергнуть нулевую гипотезу\") "
   ]
  },
  {
   "cell_type": "markdown",
   "metadata": {},
   "source": [
    "Данные, имеющихся выборок предоставляют достаточное основание для выбранного уровня значимости принять нулевую гипотезу о равенстве выборок и отвергнуть альтернативную гипотезу об их неравенстве."
   ]
  },
  {
   "cell_type": "markdown",
   "metadata": {},
   "source": [
    "## Общий вывод"
   ]
  },
  {
   "cell_type": "markdown",
   "metadata": {},
   "source": [
    "1. Согласно результатам исследования представленных выборок пользователей тарифов \"Ультра\"и \"Смарт\" их поведение различается:\n",
    "* Пользователи тарифа \"Ультра\" в среднем тратят большее количество минут, сообщений и интернет-трафика.\n",
    "* Пользователи тарифа \"Ультра\" ведут себя более \"вариативно\", дисперсии в разы больше аналогичных показателей для тарифа \"Смарт\", а пользователи тарифа смарт в свою очередь ведут себя более \"типично\".\n",
    "* Пользователи тарифа \"Ультра\" практически не превышают лимиты своего тарифа. В то время как около четверти пользователей тарифа \"Смарт\" превышают лимит по минутам и сообщениям, и более 61% превышают лимит интернет-трафика.\n",
    "\n",
    "2. Среднняя выручка пользователей Москвы и других регионов равна.\n",
    "\n",
    "3. Средние выручки пользователей тарифов \"Ультра\"и \"Смарт\" не равны. Средняя выручка компании выборки пользователей тарифа \"Ультра\" превышает, среднюю выручку выборки пользователей тарифа \"Смарт\".\n",
    "\n",
    "Учитывая, что коммерческий департамент хочет понять, какой тариф приносит больше денег, чтобы скорректировать рекламный бюджет, согласно данным исследования, следует выбрать тариф \"Ультра\"."
   ]
  }
 ],
 "metadata": {
  "ExecuteTimeLog": [
   {
    "duration": 773,
    "start_time": "2022-01-05T13:01:33.573Z"
   },
   {
    "duration": 217,
    "start_time": "2022-01-05T13:01:36.561Z"
   },
   {
    "duration": 40,
    "start_time": "2022-01-05T13:09:47.401Z"
   },
   {
    "duration": 10,
    "start_time": "2022-01-05T13:10:49.084Z"
   },
   {
    "duration": 35,
    "start_time": "2022-01-05T13:12:28.039Z"
   },
   {
    "duration": 27,
    "start_time": "2022-01-05T13:14:43.362Z"
   },
   {
    "duration": 34,
    "start_time": "2022-01-05T13:16:08.348Z"
   },
   {
    "duration": 122,
    "start_time": "2022-01-05T13:17:35.198Z"
   },
   {
    "duration": 181,
    "start_time": "2022-01-05T13:19:07.985Z"
   },
   {
    "duration": 421,
    "start_time": "2022-01-05T13:22:42.478Z"
   },
   {
    "duration": 204,
    "start_time": "2022-01-05T13:23:26.813Z"
   },
   {
    "duration": 488,
    "start_time": "2022-01-05T13:23:30.242Z"
   },
   {
    "duration": 25,
    "start_time": "2022-01-05T13:23:54.292Z"
   },
   {
    "duration": 25,
    "start_time": "2022-01-05T13:24:06.956Z"
   },
   {
    "duration": 24,
    "start_time": "2022-01-05T13:24:19.899Z"
   },
   {
    "duration": 19,
    "start_time": "2022-01-05T13:25:25.149Z"
   },
   {
    "duration": 23,
    "start_time": "2022-01-05T13:26:23.630Z"
   },
   {
    "duration": 417,
    "start_time": "2022-01-05T13:55:23.369Z"
   },
   {
    "duration": 15,
    "start_time": "2022-01-05T13:55:34.225Z"
   },
   {
    "duration": 13,
    "start_time": "2022-01-05T13:55:50.762Z"
   },
   {
    "duration": 14,
    "start_time": "2022-01-05T13:56:00.913Z"
   },
   {
    "duration": 21,
    "start_time": "2022-01-05T14:13:02.768Z"
   },
   {
    "duration": 175,
    "start_time": "2022-01-06T18:08:09.486Z"
   },
   {
    "duration": 549,
    "start_time": "2022-01-06T18:08:17.320Z"
   },
   {
    "duration": 43,
    "start_time": "2022-01-06T18:08:19.205Z"
   },
   {
    "duration": 10,
    "start_time": "2022-01-06T18:08:20.810Z"
   },
   {
    "duration": 15,
    "start_time": "2022-01-06T18:08:23.698Z"
   },
   {
    "duration": 172,
    "start_time": "2022-01-06T18:08:24.840Z"
   },
   {
    "duration": 21,
    "start_time": "2022-01-06T18:08:27.152Z"
   },
   {
    "duration": 28,
    "start_time": "2022-01-06T18:08:28.624Z"
   },
   {
    "duration": 110,
    "start_time": "2022-01-06T18:08:31.369Z"
   },
   {
    "duration": 17,
    "start_time": "2022-01-06T18:08:32.433Z"
   },
   {
    "duration": 144,
    "start_time": "2022-01-06T18:08:34.626Z"
   },
   {
    "duration": 24,
    "start_time": "2022-01-06T18:08:36.500Z"
   },
   {
    "duration": 21,
    "start_time": "2022-01-06T18:08:38.938Z"
   },
   {
    "duration": 10,
    "start_time": "2022-01-06T18:08:41.597Z"
   },
   {
    "duration": 124,
    "start_time": "2022-01-06T18:10:17.658Z"
   },
   {
    "duration": 53,
    "start_time": "2022-01-06T18:10:19.361Z"
   },
   {
    "duration": 71,
    "start_time": "2022-01-06T18:10:20.170Z"
   },
   {
    "duration": 9,
    "start_time": "2022-01-06T18:22:25.409Z"
   },
   {
    "duration": 44,
    "start_time": "2022-01-06T18:23:15.296Z"
   },
   {
    "duration": 31,
    "start_time": "2022-01-06T18:24:02.392Z"
   },
   {
    "duration": 28,
    "start_time": "2022-01-06T18:25:07.906Z"
   },
   {
    "duration": 7,
    "start_time": "2022-01-06T18:26:05.512Z"
   },
   {
    "duration": 170,
    "start_time": "2022-01-06T18:26:18.873Z"
   },
   {
    "duration": 139,
    "start_time": "2022-01-06T18:26:27.129Z"
   },
   {
    "duration": 5,
    "start_time": "2022-01-06T18:26:34.665Z"
   },
   {
    "duration": 5,
    "start_time": "2022-01-06T18:26:42.233Z"
   },
   {
    "duration": 157,
    "start_time": "2022-01-06T18:27:20.153Z"
   },
   {
    "duration": 146,
    "start_time": "2022-01-06T18:27:30.338Z"
   },
   {
    "duration": 5,
    "start_time": "2022-01-06T18:28:54.487Z"
   },
   {
    "duration": 4,
    "start_time": "2022-01-06T18:29:01.338Z"
   },
   {
    "duration": 6,
    "start_time": "2022-01-06T18:29:06.610Z"
   },
   {
    "duration": 139,
    "start_time": "2022-01-06T18:40:33.176Z"
   },
   {
    "duration": 37,
    "start_time": "2022-01-06T18:40:41.399Z"
   },
   {
    "duration": 27,
    "start_time": "2022-01-06T18:41:30.479Z"
   },
   {
    "duration": 30,
    "start_time": "2022-01-06T18:42:09.015Z"
   },
   {
    "duration": 363,
    "start_time": "2022-01-06T18:47:53.875Z"
   },
   {
    "duration": 46,
    "start_time": "2022-01-06T18:48:19.131Z"
   },
   {
    "duration": 45,
    "start_time": "2022-01-06T18:49:28.461Z"
   },
   {
    "duration": 168,
    "start_time": "2022-01-06T18:52:06.717Z"
   },
   {
    "duration": 58,
    "start_time": "2022-01-06T18:52:30.261Z"
   },
   {
    "duration": 43,
    "start_time": "2022-01-06T18:52:41.911Z"
   },
   {
    "duration": 55,
    "start_time": "2022-01-06T18:53:42.280Z"
   },
   {
    "duration": 55,
    "start_time": "2022-01-06T18:54:13.888Z"
   },
   {
    "duration": 32,
    "start_time": "2022-01-06T18:57:11.346Z"
   },
   {
    "duration": 30,
    "start_time": "2022-01-06T18:58:54.154Z"
   },
   {
    "duration": 131,
    "start_time": "2022-01-06T19:01:56.033Z"
   },
   {
    "duration": 22,
    "start_time": "2022-01-06T19:02:07.090Z"
   },
   {
    "duration": 18,
    "start_time": "2022-01-06T19:03:26.567Z"
   },
   {
    "duration": 27,
    "start_time": "2022-01-06T19:03:32.998Z"
   },
   {
    "duration": 21,
    "start_time": "2022-01-06T19:03:52.412Z"
   },
   {
    "duration": 15,
    "start_time": "2022-01-06T19:04:53.734Z"
   },
   {
    "duration": 17,
    "start_time": "2022-01-06T19:05:12.108Z"
   },
   {
    "duration": 22,
    "start_time": "2022-01-06T19:05:14.085Z"
   },
   {
    "duration": 3969,
    "start_time": "2022-01-06T19:12:25.769Z"
   },
   {
    "duration": 172,
    "start_time": "2022-01-06T19:12:48.938Z"
   },
   {
    "duration": 134,
    "start_time": "2022-01-06T19:12:58.337Z"
   },
   {
    "duration": 145,
    "start_time": "2022-01-06T19:13:33.226Z"
   },
   {
    "duration": 11,
    "start_time": "2022-01-06T19:15:18.579Z"
   },
   {
    "duration": 3828,
    "start_time": "2022-01-06T19:16:05.525Z"
   },
   {
    "duration": 13,
    "start_time": "2022-01-06T19:16:33.730Z"
   },
   {
    "duration": 22,
    "start_time": "2022-01-06T19:19:45.485Z"
   },
   {
    "duration": 23,
    "start_time": "2022-01-06T19:19:52.177Z"
   },
   {
    "duration": 26,
    "start_time": "2022-01-06T19:20:47.678Z"
   },
   {
    "duration": 174,
    "start_time": "2022-01-06T19:30:52.196Z"
   },
   {
    "duration": 169,
    "start_time": "2022-01-06T19:33:18.323Z"
   },
   {
    "duration": 21,
    "start_time": "2022-01-06T19:33:29.137Z"
   },
   {
    "duration": 144,
    "start_time": "2022-01-06T19:34:20.459Z"
   },
   {
    "duration": 31,
    "start_time": "2022-01-06T19:34:32.780Z"
   },
   {
    "duration": 25,
    "start_time": "2022-01-06T19:34:38.666Z"
   },
   {
    "duration": 3,
    "start_time": "2022-01-06T19:34:51.120Z"
   },
   {
    "duration": 52,
    "start_time": "2022-01-06T19:34:51.127Z"
   },
   {
    "duration": 8,
    "start_time": "2022-01-06T19:34:51.181Z"
   },
   {
    "duration": 11,
    "start_time": "2022-01-06T19:34:51.191Z"
   },
   {
    "duration": 168,
    "start_time": "2022-01-06T19:34:51.205Z"
   },
   {
    "duration": 22,
    "start_time": "2022-01-06T19:34:51.391Z"
   },
   {
    "duration": 26,
    "start_time": "2022-01-06T19:34:51.416Z"
   },
   {
    "duration": 116,
    "start_time": "2022-01-06T19:34:51.444Z"
   },
   {
    "duration": 15,
    "start_time": "2022-01-06T19:34:51.561Z"
   },
   {
    "duration": 155,
    "start_time": "2022-01-06T19:34:51.577Z"
   },
   {
    "duration": 17,
    "start_time": "2022-01-06T19:34:51.734Z"
   },
   {
    "duration": 23,
    "start_time": "2022-01-06T19:34:51.754Z"
   },
   {
    "duration": 21,
    "start_time": "2022-01-06T19:34:51.779Z"
   },
   {
    "duration": 93,
    "start_time": "2022-01-06T19:34:51.802Z"
   },
   {
    "duration": 46,
    "start_time": "2022-01-06T19:34:51.898Z"
   },
   {
    "duration": 78,
    "start_time": "2022-01-06T19:34:51.946Z"
   },
   {
    "duration": 6,
    "start_time": "2022-01-06T19:34:52.026Z"
   },
   {
    "duration": 29,
    "start_time": "2022-01-06T19:34:52.034Z"
   },
   {
    "duration": 41,
    "start_time": "2022-01-06T19:34:52.065Z"
   },
   {
    "duration": 23,
    "start_time": "2022-01-06T19:34:52.108Z"
   },
   {
    "duration": 32,
    "start_time": "2022-01-06T19:34:52.132Z"
   },
   {
    "duration": 43,
    "start_time": "2022-01-06T19:34:52.165Z"
   },
   {
    "duration": 29,
    "start_time": "2022-01-06T19:34:52.210Z"
   },
   {
    "duration": 66,
    "start_time": "2022-01-06T19:34:52.241Z"
   },
   {
    "duration": 31,
    "start_time": "2022-01-06T19:34:52.310Z"
   },
   {
    "duration": 26,
    "start_time": "2022-01-06T19:34:52.343Z"
   },
   {
    "duration": 45,
    "start_time": "2022-01-06T19:34:52.392Z"
   },
   {
    "duration": -546,
    "start_time": "2022-01-06T19:34:52.985Z"
   },
   {
    "duration": -549,
    "start_time": "2022-01-06T19:34:52.989Z"
   },
   {
    "duration": -552,
    "start_time": "2022-01-06T19:34:52.993Z"
   },
   {
    "duration": -555,
    "start_time": "2022-01-06T19:34:52.997Z"
   },
   {
    "duration": 17,
    "start_time": "2022-01-06T19:35:07.677Z"
   },
   {
    "duration": 16,
    "start_time": "2022-01-06T19:35:10.057Z"
   },
   {
    "duration": 13,
    "start_time": "2022-01-06T19:35:13.240Z"
   },
   {
    "duration": 18,
    "start_time": "2022-01-06T19:35:16.649Z"
   },
   {
    "duration": 17,
    "start_time": "2022-01-06T19:35:34.362Z"
   },
   {
    "duration": 3,
    "start_time": "2022-01-06T19:35:44.055Z"
   },
   {
    "duration": 51,
    "start_time": "2022-01-06T19:35:44.073Z"
   },
   {
    "duration": 6,
    "start_time": "2022-01-06T19:35:44.126Z"
   },
   {
    "duration": 28,
    "start_time": "2022-01-06T19:35:44.134Z"
   },
   {
    "duration": 168,
    "start_time": "2022-01-06T19:35:44.164Z"
   },
   {
    "duration": 19,
    "start_time": "2022-01-06T19:35:44.334Z"
   },
   {
    "duration": 43,
    "start_time": "2022-01-06T19:35:44.355Z"
   },
   {
    "duration": 86,
    "start_time": "2022-01-06T19:35:44.401Z"
   },
   {
    "duration": 25,
    "start_time": "2022-01-06T19:35:44.488Z"
   },
   {
    "duration": 150,
    "start_time": "2022-01-06T19:35:44.517Z"
   },
   {
    "duration": 28,
    "start_time": "2022-01-06T19:35:44.669Z"
   },
   {
    "duration": 23,
    "start_time": "2022-01-06T19:35:44.700Z"
   },
   {
    "duration": 6,
    "start_time": "2022-01-06T19:35:44.725Z"
   },
   {
    "duration": 102,
    "start_time": "2022-01-06T19:35:44.733Z"
   },
   {
    "duration": 41,
    "start_time": "2022-01-06T19:35:44.836Z"
   },
   {
    "duration": 72,
    "start_time": "2022-01-06T19:35:44.879Z"
   },
   {
    "duration": 8,
    "start_time": "2022-01-06T19:35:44.953Z"
   },
   {
    "duration": 54,
    "start_time": "2022-01-06T19:35:44.963Z"
   },
   {
    "duration": 21,
    "start_time": "2022-01-06T19:35:45.020Z"
   },
   {
    "duration": 21,
    "start_time": "2022-01-06T19:35:45.043Z"
   },
   {
    "duration": 60,
    "start_time": "2022-01-06T19:35:45.065Z"
   },
   {
    "duration": 22,
    "start_time": "2022-01-06T19:35:45.127Z"
   },
   {
    "duration": 52,
    "start_time": "2022-01-06T19:35:45.151Z"
   },
   {
    "duration": 41,
    "start_time": "2022-01-06T19:35:45.205Z"
   },
   {
    "duration": 52,
    "start_time": "2022-01-06T19:35:45.248Z"
   },
   {
    "duration": 30,
    "start_time": "2022-01-06T19:35:45.302Z"
   },
   {
    "duration": 15,
    "start_time": "2022-01-06T19:35:45.333Z"
   },
   {
    "duration": 13,
    "start_time": "2022-01-06T19:35:45.351Z"
   },
   {
    "duration": 42,
    "start_time": "2022-01-06T19:35:45.366Z"
   },
   {
    "duration": 20,
    "start_time": "2022-01-06T19:35:45.410Z"
   },
   {
    "duration": 6,
    "start_time": "2022-01-06T19:47:06.695Z"
   },
   {
    "duration": 39,
    "start_time": "2022-01-06T19:47:25.342Z"
   },
   {
    "duration": 223,
    "start_time": "2022-01-06T19:47:54.032Z"
   },
   {
    "duration": 3249,
    "start_time": "2022-01-06T19:50:05.400Z"
   },
   {
    "duration": 1687,
    "start_time": "2022-01-06T19:51:08.153Z"
   },
   {
    "duration": 3,
    "start_time": "2022-01-06T19:51:40.221Z"
   },
   {
    "duration": 43,
    "start_time": "2022-01-06T19:51:40.227Z"
   },
   {
    "duration": 8,
    "start_time": "2022-01-06T19:51:40.273Z"
   },
   {
    "duration": 13,
    "start_time": "2022-01-06T19:51:40.284Z"
   },
   {
    "duration": 168,
    "start_time": "2022-01-06T19:51:40.299Z"
   },
   {
    "duration": 30,
    "start_time": "2022-01-06T19:51:40.469Z"
   },
   {
    "duration": 31,
    "start_time": "2022-01-06T19:51:40.501Z"
   },
   {
    "duration": 110,
    "start_time": "2022-01-06T19:51:40.533Z"
   },
   {
    "duration": 14,
    "start_time": "2022-01-06T19:51:40.646Z"
   },
   {
    "duration": 158,
    "start_time": "2022-01-06T19:51:40.662Z"
   },
   {
    "duration": 16,
    "start_time": "2022-01-06T19:51:40.822Z"
   },
   {
    "duration": 20,
    "start_time": "2022-01-06T19:51:40.839Z"
   },
   {
    "duration": 10,
    "start_time": "2022-01-06T19:51:40.860Z"
   },
   {
    "duration": 103,
    "start_time": "2022-01-06T19:51:40.871Z"
   },
   {
    "duration": 54,
    "start_time": "2022-01-06T19:51:40.976Z"
   },
   {
    "duration": 62,
    "start_time": "2022-01-06T19:51:41.031Z"
   },
   {
    "duration": 7,
    "start_time": "2022-01-06T19:51:41.095Z"
   },
   {
    "duration": 29,
    "start_time": "2022-01-06T19:51:41.105Z"
   },
   {
    "duration": 17,
    "start_time": "2022-01-06T19:51:41.136Z"
   },
   {
    "duration": 55,
    "start_time": "2022-01-06T19:51:41.155Z"
   },
   {
    "duration": 31,
    "start_time": "2022-01-06T19:51:41.211Z"
   },
   {
    "duration": 20,
    "start_time": "2022-01-06T19:51:41.244Z"
   },
   {
    "duration": 45,
    "start_time": "2022-01-06T19:51:41.266Z"
   },
   {
    "duration": 40,
    "start_time": "2022-01-06T19:51:41.315Z"
   },
   {
    "duration": 52,
    "start_time": "2022-01-06T19:51:41.356Z"
   },
   {
    "duration": 29,
    "start_time": "2022-01-06T19:51:41.410Z"
   },
   {
    "duration": 15,
    "start_time": "2022-01-06T19:51:41.441Z"
   },
   {
    "duration": 48,
    "start_time": "2022-01-06T19:51:41.458Z"
   },
   {
    "duration": 15,
    "start_time": "2022-01-06T19:51:41.509Z"
   },
   {
    "duration": 15,
    "start_time": "2022-01-06T19:51:41.525Z"
   },
   {
    "duration": 1737,
    "start_time": "2022-01-06T19:51:41.541Z"
   },
   {
    "duration": -612,
    "start_time": "2022-01-06T19:51:43.892Z"
   },
   {
    "duration": 3,
    "start_time": "2022-01-06T19:51:59.589Z"
   },
   {
    "duration": 51,
    "start_time": "2022-01-06T19:51:59.596Z"
   },
   {
    "duration": 6,
    "start_time": "2022-01-06T19:51:59.648Z"
   },
   {
    "duration": 10,
    "start_time": "2022-01-06T19:51:59.656Z"
   },
   {
    "duration": 175,
    "start_time": "2022-01-06T19:51:59.667Z"
   },
   {
    "duration": 22,
    "start_time": "2022-01-06T19:51:59.843Z"
   },
   {
    "duration": 50,
    "start_time": "2022-01-06T19:51:59.866Z"
   },
   {
    "duration": 95,
    "start_time": "2022-01-06T19:51:59.917Z"
   },
   {
    "duration": 16,
    "start_time": "2022-01-06T19:52:00.016Z"
   },
   {
    "duration": 143,
    "start_time": "2022-01-06T19:52:00.035Z"
   },
   {
    "duration": 25,
    "start_time": "2022-01-06T19:52:00.180Z"
   },
   {
    "duration": 31,
    "start_time": "2022-01-06T19:52:00.207Z"
   },
   {
    "duration": 13,
    "start_time": "2022-01-06T19:52:00.239Z"
   },
   {
    "duration": 89,
    "start_time": "2022-01-06T19:52:00.253Z"
   },
   {
    "duration": 54,
    "start_time": "2022-01-06T19:52:00.344Z"
   },
   {
    "duration": 63,
    "start_time": "2022-01-06T19:52:00.400Z"
   },
   {
    "duration": 26,
    "start_time": "2022-01-06T19:52:00.465Z"
   },
   {
    "duration": 37,
    "start_time": "2022-01-06T19:52:00.494Z"
   },
   {
    "duration": 19,
    "start_time": "2022-01-06T19:52:00.533Z"
   },
   {
    "duration": 52,
    "start_time": "2022-01-06T19:52:00.554Z"
   },
   {
    "duration": 34,
    "start_time": "2022-01-06T19:52:00.608Z"
   },
   {
    "duration": 22,
    "start_time": "2022-01-06T19:52:00.643Z"
   },
   {
    "duration": 51,
    "start_time": "2022-01-06T19:52:00.666Z"
   },
   {
    "duration": 40,
    "start_time": "2022-01-06T19:52:00.720Z"
   },
   {
    "duration": 59,
    "start_time": "2022-01-06T19:52:00.761Z"
   },
   {
    "duration": 27,
    "start_time": "2022-01-06T19:52:00.823Z"
   },
   {
    "duration": 39,
    "start_time": "2022-01-06T19:52:00.852Z"
   },
   {
    "duration": 18,
    "start_time": "2022-01-06T19:52:00.893Z"
   },
   {
    "duration": 12,
    "start_time": "2022-01-06T19:52:00.913Z"
   },
   {
    "duration": 14,
    "start_time": "2022-01-06T19:52:00.927Z"
   },
   {
    "duration": 1971,
    "start_time": "2022-01-06T19:52:00.942Z"
   },
   {
    "duration": -564,
    "start_time": "2022-01-06T19:52:03.480Z"
   },
   {
    "duration": 951,
    "start_time": "2022-01-06T19:53:34.914Z"
   },
   {
    "duration": 83,
    "start_time": "2022-01-06T19:53:57.235Z"
   },
   {
    "duration": 252,
    "start_time": "2022-01-06T19:55:00.218Z"
   },
   {
    "duration": 82,
    "start_time": "2022-01-06T19:55:10.561Z"
   },
   {
    "duration": 89,
    "start_time": "2022-01-06T19:55:16.732Z"
   },
   {
    "duration": 78,
    "start_time": "2022-01-06T19:55:25.139Z"
   },
   {
    "duration": 83,
    "start_time": "2022-01-06T19:55:35.138Z"
   },
   {
    "duration": 83,
    "start_time": "2022-01-06T19:55:54.259Z"
   },
   {
    "duration": 75,
    "start_time": "2022-01-06T19:56:05.027Z"
   },
   {
    "duration": 79,
    "start_time": "2022-01-06T20:01:43.683Z"
   },
   {
    "duration": 80,
    "start_time": "2022-01-06T20:01:53.693Z"
   },
   {
    "duration": 6,
    "start_time": "2022-01-06T20:03:04.758Z"
   },
   {
    "duration": 73,
    "start_time": "2022-01-06T20:04:55.726Z"
   },
   {
    "duration": 7,
    "start_time": "2022-01-06T20:05:17.151Z"
   },
   {
    "duration": 82,
    "start_time": "2022-01-06T20:09:07.233Z"
   },
   {
    "duration": 9,
    "start_time": "2022-01-06T20:11:23.147Z"
   },
   {
    "duration": 234,
    "start_time": "2022-01-06T20:13:30.373Z"
   },
   {
    "duration": 389,
    "start_time": "2022-01-06T20:13:44.005Z"
   },
   {
    "duration": 79,
    "start_time": "2022-01-06T20:14:42.336Z"
   },
   {
    "duration": 10,
    "start_time": "2022-01-06T20:14:46.580Z"
   },
   {
    "duration": 8,
    "start_time": "2022-01-06T20:16:16.485Z"
   },
   {
    "duration": 43,
    "start_time": "2022-01-06T20:17:09.142Z"
   },
   {
    "duration": 11,
    "start_time": "2022-01-06T20:17:14.845Z"
   },
   {
    "duration": 124,
    "start_time": "2022-01-06T20:21:54.401Z"
   },
   {
    "duration": 118,
    "start_time": "2022-01-06T20:22:01.737Z"
   },
   {
    "duration": 7,
    "start_time": "2022-01-06T20:23:41.593Z"
   },
   {
    "duration": 8,
    "start_time": "2022-01-06T20:25:20.229Z"
   },
   {
    "duration": 12,
    "start_time": "2022-01-06T20:25:41.442Z"
   },
   {
    "duration": 5,
    "start_time": "2022-01-06T20:25:53.457Z"
   },
   {
    "duration": 5,
    "start_time": "2022-01-06T20:26:20.321Z"
   },
   {
    "duration": 7,
    "start_time": "2022-01-06T20:26:47.442Z"
   },
   {
    "duration": 5,
    "start_time": "2022-01-06T20:27:55.813Z"
   },
   {
    "duration": 5,
    "start_time": "2022-01-06T20:28:05.842Z"
   },
   {
    "duration": 5,
    "start_time": "2022-01-06T20:31:47.436Z"
   },
   {
    "duration": 138,
    "start_time": "2022-01-06T20:31:48.276Z"
   },
   {
    "duration": 17,
    "start_time": "2022-01-06T20:33:30.693Z"
   },
   {
    "duration": 3,
    "start_time": "2022-01-06T20:35:27.678Z"
   },
   {
    "duration": 49,
    "start_time": "2022-01-06T20:35:27.684Z"
   },
   {
    "duration": 8,
    "start_time": "2022-01-06T20:35:27.735Z"
   },
   {
    "duration": 15,
    "start_time": "2022-01-06T20:35:27.745Z"
   },
   {
    "duration": 157,
    "start_time": "2022-01-06T20:35:27.762Z"
   },
   {
    "duration": 19,
    "start_time": "2022-01-06T20:35:27.921Z"
   },
   {
    "duration": 49,
    "start_time": "2022-01-06T20:35:27.942Z"
   },
   {
    "duration": 95,
    "start_time": "2022-01-06T20:35:27.993Z"
   },
   {
    "duration": 24,
    "start_time": "2022-01-06T20:35:28.092Z"
   },
   {
    "duration": 140,
    "start_time": "2022-01-06T20:35:28.119Z"
   },
   {
    "duration": 33,
    "start_time": "2022-01-06T20:35:28.260Z"
   },
   {
    "duration": 23,
    "start_time": "2022-01-06T20:35:28.295Z"
   },
   {
    "duration": 7,
    "start_time": "2022-01-06T20:35:28.320Z"
   },
   {
    "duration": 89,
    "start_time": "2022-01-06T20:35:28.329Z"
   },
   {
    "duration": 36,
    "start_time": "2022-01-06T20:35:28.419Z"
   },
   {
    "duration": 67,
    "start_time": "2022-01-06T20:35:28.457Z"
   },
   {
    "duration": 10,
    "start_time": "2022-01-06T20:35:28.526Z"
   },
   {
    "duration": 32,
    "start_time": "2022-01-06T20:35:28.538Z"
   },
   {
    "duration": 22,
    "start_time": "2022-01-06T20:35:28.592Z"
   },
   {
    "duration": 23,
    "start_time": "2022-01-06T20:35:28.616Z"
   },
   {
    "duration": 55,
    "start_time": "2022-01-06T20:35:28.641Z"
   },
   {
    "duration": 22,
    "start_time": "2022-01-06T20:35:28.698Z"
   },
   {
    "duration": 29,
    "start_time": "2022-01-06T20:35:28.723Z"
   },
   {
    "duration": 63,
    "start_time": "2022-01-06T20:35:28.756Z"
   },
   {
    "duration": 11,
    "start_time": "2022-01-06T20:35:51.110Z"
   },
   {
    "duration": 40,
    "start_time": "2022-01-06T20:36:10.798Z"
   },
   {
    "duration": 27,
    "start_time": "2022-01-06T20:36:13.747Z"
   },
   {
    "duration": 22,
    "start_time": "2022-01-06T20:36:43.566Z"
   },
   {
    "duration": 9,
    "start_time": "2022-01-06T20:36:46.430Z"
   },
   {
    "duration": 6,
    "start_time": "2022-01-06T20:37:17.558Z"
   },
   {
    "duration": 22,
    "start_time": "2022-01-06T20:38:19.643Z"
   },
   {
    "duration": 18,
    "start_time": "2022-01-06T20:38:37.335Z"
   },
   {
    "duration": 25,
    "start_time": "2022-01-06T20:40:47.872Z"
   },
   {
    "duration": 6,
    "start_time": "2022-01-06T20:43:57.486Z"
   },
   {
    "duration": 7,
    "start_time": "2022-01-06T20:44:09.787Z"
   },
   {
    "duration": 9,
    "start_time": "2022-01-06T20:45:47.434Z"
   },
   {
    "duration": 16,
    "start_time": "2022-01-06T20:48:11.372Z"
   },
   {
    "duration": 7,
    "start_time": "2022-01-06T20:50:11.405Z"
   },
   {
    "duration": 7,
    "start_time": "2022-01-06T20:50:34.644Z"
   },
   {
    "duration": 134,
    "start_time": "2022-01-06T20:50:51.133Z"
   },
   {
    "duration": 7,
    "start_time": "2022-01-06T20:51:07.548Z"
   },
   {
    "duration": 7,
    "start_time": "2022-01-06T20:51:09.717Z"
   },
   {
    "duration": 14,
    "start_time": "2022-01-06T20:51:13.438Z"
   },
   {
    "duration": 23,
    "start_time": "2022-01-06T20:51:17.383Z"
   },
   {
    "duration": 6,
    "start_time": "2022-01-06T20:51:43.270Z"
   },
   {
    "duration": 84,
    "start_time": "2022-01-06T20:51:49.766Z"
   },
   {
    "duration": 8,
    "start_time": "2022-01-06T20:51:52.980Z"
   },
   {
    "duration": 6,
    "start_time": "2022-01-06T20:51:56.638Z"
   },
   {
    "duration": 78,
    "start_time": "2022-01-06T20:52:03.549Z"
   },
   {
    "duration": 4,
    "start_time": "2022-01-06T20:52:05.959Z"
   },
   {
    "duration": 80,
    "start_time": "2022-01-06T20:52:12.588Z"
   },
   {
    "duration": 8,
    "start_time": "2022-01-06T20:52:17.247Z"
   },
   {
    "duration": 11,
    "start_time": "2022-01-06T20:52:20.198Z"
   },
   {
    "duration": 5,
    "start_time": "2022-01-06T20:52:22.966Z"
   },
   {
    "duration": 128,
    "start_time": "2022-01-06T20:52:27.959Z"
   },
   {
    "duration": 7,
    "start_time": "2022-01-06T20:52:32.757Z"
   },
   {
    "duration": 8,
    "start_time": "2022-01-06T20:52:42.758Z"
   },
   {
    "duration": 398,
    "start_time": "2022-01-07T15:03:55.016Z"
   },
   {
    "duration": 991,
    "start_time": "2022-01-07T15:04:02.262Z"
   },
   {
    "duration": 48,
    "start_time": "2022-01-07T15:04:03.256Z"
   },
   {
    "duration": 11,
    "start_time": "2022-01-07T15:04:03.306Z"
   },
   {
    "duration": 15,
    "start_time": "2022-01-07T15:04:03.319Z"
   },
   {
    "duration": 241,
    "start_time": "2022-01-07T15:04:03.337Z"
   },
   {
    "duration": 42,
    "start_time": "2022-01-07T15:04:03.581Z"
   },
   {
    "duration": 36,
    "start_time": "2022-01-07T15:04:03.626Z"
   },
   {
    "duration": 141,
    "start_time": "2022-01-07T15:04:03.665Z"
   },
   {
    "duration": 20,
    "start_time": "2022-01-07T15:04:03.808Z"
   },
   {
    "duration": 196,
    "start_time": "2022-01-07T15:04:03.830Z"
   },
   {
    "duration": 22,
    "start_time": "2022-01-07T15:04:04.029Z"
   },
   {
    "duration": 25,
    "start_time": "2022-01-07T15:04:04.053Z"
   },
   {
    "duration": 10,
    "start_time": "2022-01-07T15:04:04.080Z"
   },
   {
    "duration": 172,
    "start_time": "2022-01-07T15:04:04.092Z"
   },
   {
    "duration": 80,
    "start_time": "2022-01-07T15:04:04.266Z"
   },
   {
    "duration": 102,
    "start_time": "2022-01-07T15:04:04.348Z"
   },
   {
    "duration": 8,
    "start_time": "2022-01-07T15:04:04.452Z"
   },
   {
    "duration": 45,
    "start_time": "2022-01-07T15:04:04.462Z"
   },
   {
    "duration": 82,
    "start_time": "2022-01-07T15:04:04.509Z"
   },
   {
    "duration": 33,
    "start_time": "2022-01-07T15:04:04.594Z"
   },
   {
    "duration": 46,
    "start_time": "2022-01-07T15:04:04.630Z"
   },
   {
    "duration": 31,
    "start_time": "2022-01-07T15:04:04.679Z"
   },
   {
    "duration": 39,
    "start_time": "2022-01-07T15:04:04.714Z"
   },
   {
    "duration": 53,
    "start_time": "2022-01-07T15:04:04.756Z"
   },
   {
    "duration": 9,
    "start_time": "2022-01-07T15:04:04.817Z"
   },
   {
    "duration": 42,
    "start_time": "2022-01-07T15:04:04.828Z"
   },
   {
    "duration": 8,
    "start_time": "2022-01-07T15:04:04.872Z"
   },
   {
    "duration": 45,
    "start_time": "2022-01-07T15:04:04.882Z"
   },
   {
    "duration": 26,
    "start_time": "2022-01-07T15:04:04.929Z"
   },
   {
    "duration": 9,
    "start_time": "2022-01-07T15:04:04.958Z"
   },
   {
    "duration": 7,
    "start_time": "2022-01-07T15:04:04.969Z"
   },
   {
    "duration": 23,
    "start_time": "2022-01-07T15:04:04.978Z"
   },
   {
    "duration": 8,
    "start_time": "2022-01-07T15:04:05.016Z"
   },
   {
    "duration": 8,
    "start_time": "2022-01-07T15:04:05.026Z"
   },
   {
    "duration": 21,
    "start_time": "2022-01-07T15:04:05.036Z"
   },
   {
    "duration": 25,
    "start_time": "2022-01-07T15:04:05.059Z"
   },
   {
    "duration": 131,
    "start_time": "2022-01-07T15:04:05.086Z"
   },
   {
    "duration": 10,
    "start_time": "2022-01-07T15:04:05.219Z"
   },
   {
    "duration": 112,
    "start_time": "2022-01-07T15:04:05.232Z"
   },
   {
    "duration": 119,
    "start_time": "2022-01-07T15:04:05.346Z"
   },
   {
    "duration": 11,
    "start_time": "2022-01-07T15:04:05.468Z"
   },
   {
    "duration": 9,
    "start_time": "2022-01-07T15:04:05.481Z"
   },
   {
    "duration": 246,
    "start_time": "2022-01-07T15:04:05.493Z"
   },
   {
    "duration": 27,
    "start_time": "2022-01-07T15:04:11.965Z"
   },
   {
    "duration": 8,
    "start_time": "2022-01-07T15:04:34.835Z"
   },
   {
    "duration": 2131,
    "start_time": "2022-01-07T15:08:57.542Z"
   },
   {
    "duration": 301,
    "start_time": "2022-01-07T15:09:21.334Z"
   },
   {
    "duration": 298,
    "start_time": "2022-01-07T15:09:35.591Z"
   },
   {
    "duration": 302,
    "start_time": "2022-01-07T15:09:59.022Z"
   },
   {
    "duration": 318,
    "start_time": "2022-01-07T15:10:27.240Z"
   },
   {
    "duration": 151,
    "start_time": "2022-01-07T15:13:02.089Z"
   },
   {
    "duration": 880,
    "start_time": "2022-01-07T15:13:32.249Z"
   },
   {
    "duration": 845,
    "start_time": "2022-01-07T15:14:17.305Z"
   },
   {
    "duration": 964,
    "start_time": "2022-01-07T15:14:36.752Z"
   },
   {
    "duration": 1097,
    "start_time": "2022-01-07T15:15:02.177Z"
   },
   {
    "duration": 857,
    "start_time": "2022-01-07T15:18:27.645Z"
   },
   {
    "duration": 1056,
    "start_time": "2022-01-07T15:18:32.322Z"
   },
   {
    "duration": 875,
    "start_time": "2022-01-07T15:18:53.778Z"
   },
   {
    "duration": 121,
    "start_time": "2022-01-07T15:25:21.161Z"
   },
   {
    "duration": 105,
    "start_time": "2022-01-07T15:25:37.373Z"
   },
   {
    "duration": 902,
    "start_time": "2022-01-07T15:25:45.780Z"
   },
   {
    "duration": 10,
    "start_time": "2022-01-07T15:25:58.790Z"
   },
   {
    "duration": 21,
    "start_time": "2022-01-07T15:26:13.253Z"
   },
   {
    "duration": 18,
    "start_time": "2022-01-07T15:26:21.832Z"
   },
   {
    "duration": 318,
    "start_time": "2022-01-07T15:27:08.703Z"
   },
   {
    "duration": 286,
    "start_time": "2022-01-07T15:27:50.385Z"
   },
   {
    "duration": 297,
    "start_time": "2022-01-07T15:27:53.879Z"
   },
   {
    "duration": 5,
    "start_time": "2022-01-07T15:29:54.779Z"
   },
   {
    "duration": 45,
    "start_time": "2022-01-07T15:29:54.787Z"
   },
   {
    "duration": 13,
    "start_time": "2022-01-07T15:29:55.416Z"
   },
   {
    "duration": 25,
    "start_time": "2022-01-07T15:29:55.433Z"
   },
   {
    "duration": 242,
    "start_time": "2022-01-07T15:29:55.462Z"
   },
   {
    "duration": 30,
    "start_time": "2022-01-07T15:29:55.706Z"
   },
   {
    "duration": 34,
    "start_time": "2022-01-07T15:29:55.738Z"
   },
   {
    "duration": 136,
    "start_time": "2022-01-07T15:29:55.774Z"
   },
   {
    "duration": 21,
    "start_time": "2022-01-07T15:29:55.916Z"
   },
   {
    "duration": 184,
    "start_time": "2022-01-07T15:29:55.942Z"
   },
   {
    "duration": 26,
    "start_time": "2022-01-07T15:29:56.129Z"
   },
   {
    "duration": 25,
    "start_time": "2022-01-07T15:29:56.157Z"
   },
   {
    "duration": 34,
    "start_time": "2022-01-07T15:29:56.184Z"
   },
   {
    "duration": 137,
    "start_time": "2022-01-07T15:29:56.220Z"
   },
   {
    "duration": 70,
    "start_time": "2022-01-07T15:29:56.359Z"
   },
   {
    "duration": 110,
    "start_time": "2022-01-07T15:29:56.431Z"
   },
   {
    "duration": 8,
    "start_time": "2022-01-07T15:29:56.544Z"
   },
   {
    "duration": 61,
    "start_time": "2022-01-07T15:29:56.555Z"
   },
   {
    "duration": 27,
    "start_time": "2022-01-07T15:29:56.618Z"
   },
   {
    "duration": 31,
    "start_time": "2022-01-07T15:29:56.648Z"
   },
   {
    "duration": 70,
    "start_time": "2022-01-07T15:29:56.681Z"
   },
   {
    "duration": 31,
    "start_time": "2022-01-07T15:29:56.754Z"
   },
   {
    "duration": 39,
    "start_time": "2022-01-07T15:29:59.657Z"
   },
   {
    "duration": 53,
    "start_time": "2022-01-07T15:29:59.699Z"
   },
   {
    "duration": 7,
    "start_time": "2022-01-07T15:29:59.755Z"
   },
   {
    "duration": 67,
    "start_time": "2022-01-07T15:29:59.765Z"
   },
   {
    "duration": 8,
    "start_time": "2022-01-07T15:29:59.834Z"
   },
   {
    "duration": 38,
    "start_time": "2022-01-07T15:29:59.844Z"
   },
   {
    "duration": 48,
    "start_time": "2022-01-07T15:29:59.884Z"
   },
   {
    "duration": 7,
    "start_time": "2022-01-07T15:29:59.934Z"
   },
   {
    "duration": 8,
    "start_time": "2022-01-07T15:29:59.944Z"
   },
   {
    "duration": 22,
    "start_time": "2022-01-07T15:29:59.955Z"
   },
   {
    "duration": 43,
    "start_time": "2022-01-07T15:29:59.979Z"
   },
   {
    "duration": 10,
    "start_time": "2022-01-07T15:30:00.024Z"
   },
   {
    "duration": 17,
    "start_time": "2022-01-07T15:30:00.036Z"
   },
   {
    "duration": 24,
    "start_time": "2022-01-07T15:30:00.055Z"
   },
   {
    "duration": 149,
    "start_time": "2022-01-07T15:30:00.081Z"
   },
   {
    "duration": 9,
    "start_time": "2022-01-07T15:30:00.233Z"
   },
   {
    "duration": 128,
    "start_time": "2022-01-07T15:30:00.245Z"
   },
   {
    "duration": 119,
    "start_time": "2022-01-07T15:30:00.375Z"
   },
   {
    "duration": 22,
    "start_time": "2022-01-07T15:30:00.496Z"
   },
   {
    "duration": 10,
    "start_time": "2022-01-07T15:30:00.520Z"
   },
   {
    "duration": 166,
    "start_time": "2022-01-07T15:30:08.882Z"
   },
   {
    "duration": 20,
    "start_time": "2022-01-07T15:30:25.840Z"
   },
   {
    "duration": 113,
    "start_time": "2022-01-07T15:31:08.217Z"
   },
   {
    "duration": 108,
    "start_time": "2022-01-07T15:31:47.377Z"
   },
   {
    "duration": 21,
    "start_time": "2022-01-07T15:32:12.840Z"
   },
   {
    "duration": 567,
    "start_time": "2022-01-07T16:30:06.093Z"
   },
   {
    "duration": 605,
    "start_time": "2022-01-07T16:30:56.412Z"
   },
   {
    "duration": 6,
    "start_time": "2022-01-07T16:32:08.572Z"
   },
   {
    "duration": 8,
    "start_time": "2022-01-07T16:35:15.926Z"
   },
   {
    "duration": 152,
    "start_time": "2022-01-07T16:35:50.750Z"
   },
   {
    "duration": 11,
    "start_time": "2022-01-07T16:36:06.275Z"
   },
   {
    "duration": 8,
    "start_time": "2022-01-07T16:36:21.663Z"
   },
   {
    "duration": 6,
    "start_time": "2022-01-07T16:38:56.956Z"
   },
   {
    "duration": 6,
    "start_time": "2022-01-07T16:39:20.760Z"
   },
   {
    "duration": 10,
    "start_time": "2022-01-07T16:42:03.674Z"
   },
   {
    "duration": 7,
    "start_time": "2022-01-07T16:52:34.343Z"
   },
   {
    "duration": 6,
    "start_time": "2022-01-07T16:54:13.096Z"
   },
   {
    "duration": 105,
    "start_time": "2022-01-07T16:59:21.499Z"
   },
   {
    "duration": 106,
    "start_time": "2022-01-07T17:00:06.481Z"
   },
   {
    "duration": 140,
    "start_time": "2022-01-07T17:01:12.220Z"
   },
   {
    "duration": 8,
    "start_time": "2022-01-07T17:01:59.380Z"
   },
   {
    "duration": 7,
    "start_time": "2022-01-07T17:02:17.152Z"
   },
   {
    "duration": 110,
    "start_time": "2022-01-07T17:02:43.270Z"
   },
   {
    "duration": 95,
    "start_time": "2022-01-07T17:03:05.830Z"
   },
   {
    "duration": 8,
    "start_time": "2022-01-07T17:03:17.901Z"
   },
   {
    "duration": 9,
    "start_time": "2022-01-07T17:03:25.604Z"
   },
   {
    "duration": 8,
    "start_time": "2022-01-07T17:03:37.128Z"
   },
   {
    "duration": 8,
    "start_time": "2022-01-07T17:04:02.133Z"
   },
   {
    "duration": 11,
    "start_time": "2022-01-07T17:04:38.269Z"
   },
   {
    "duration": 9,
    "start_time": "2022-01-07T17:19:10.725Z"
   },
   {
    "duration": 572,
    "start_time": "2022-01-07T17:24:21.576Z"
   },
   {
    "duration": 561,
    "start_time": "2022-01-07T17:24:31.281Z"
   },
   {
    "duration": 539,
    "start_time": "2022-01-07T17:24:39.893Z"
   },
   {
    "duration": 7,
    "start_time": "2022-01-07T17:27:47.850Z"
   },
   {
    "duration": 8,
    "start_time": "2022-01-07T17:27:48.866Z"
   },
   {
    "duration": 8,
    "start_time": "2022-01-07T17:30:44.612Z"
   },
   {
    "duration": 6,
    "start_time": "2022-01-07T17:31:54.307Z"
   },
   {
    "duration": 9,
    "start_time": "2022-01-07T17:34:32.117Z"
   },
   {
    "duration": 8,
    "start_time": "2022-01-07T17:34:54.413Z"
   },
   {
    "duration": 9,
    "start_time": "2022-01-07T17:35:19.798Z"
   },
   {
    "duration": 553,
    "start_time": "2022-01-07T17:38:37.984Z"
   },
   {
    "duration": 570,
    "start_time": "2022-01-07T17:38:46.703Z"
   },
   {
    "duration": 555,
    "start_time": "2022-01-07T17:39:06.692Z"
   },
   {
    "duration": 6,
    "start_time": "2022-01-07T17:44:58.508Z"
   },
   {
    "duration": 6,
    "start_time": "2022-01-07T17:45:03.669Z"
   },
   {
    "duration": 9,
    "start_time": "2022-01-07T17:46:00.573Z"
   },
   {
    "duration": 7,
    "start_time": "2022-01-07T17:46:57.812Z"
   },
   {
    "duration": 9,
    "start_time": "2022-01-07T17:51:21.926Z"
   },
   {
    "duration": 19,
    "start_time": "2022-01-07T17:59:35.478Z"
   },
   {
    "duration": 310,
    "start_time": "2022-01-07T18:00:45.211Z"
   },
   {
    "duration": 637,
    "start_time": "2022-01-07T18:03:14.157Z"
   },
   {
    "duration": 547,
    "start_time": "2022-01-07T18:03:47.958Z"
   },
   {
    "duration": 546,
    "start_time": "2022-01-07T18:08:12.184Z"
   },
   {
    "duration": 559,
    "start_time": "2022-01-07T18:09:21.528Z"
   },
   {
    "duration": 535,
    "start_time": "2022-01-07T18:09:34.385Z"
   },
   {
    "duration": 119,
    "start_time": "2022-01-07T18:12:33.778Z"
   },
   {
    "duration": 5,
    "start_time": "2022-01-07T18:13:48.508Z"
   },
   {
    "duration": 6,
    "start_time": "2022-01-07T18:14:26.835Z"
   },
   {
    "duration": 8,
    "start_time": "2022-01-07T18:18:00.407Z"
   },
   {
    "duration": 8,
    "start_time": "2022-01-07T18:20:08.248Z"
   },
   {
    "duration": 6,
    "start_time": "2022-01-07T18:21:52.409Z"
   },
   {
    "duration": 9,
    "start_time": "2022-01-07T18:27:27.163Z"
   },
   {
    "duration": 310,
    "start_time": "2022-01-07T18:28:27.587Z"
   },
   {
    "duration": 570,
    "start_time": "2022-01-07T18:32:23.319Z"
   },
   {
    "duration": 5,
    "start_time": "2022-01-07T18:35:31.067Z"
   },
   {
    "duration": 5,
    "start_time": "2022-01-07T18:35:33.965Z"
   },
   {
    "duration": 8,
    "start_time": "2022-01-07T18:40:24.011Z"
   },
   {
    "duration": 6,
    "start_time": "2022-01-07T18:40:30.978Z"
   },
   {
    "duration": 10,
    "start_time": "2022-01-07T18:42:04.504Z"
   },
   {
    "duration": 407,
    "start_time": "2022-01-07T18:42:20.557Z"
   },
   {
    "duration": 672,
    "start_time": "2022-01-07T18:43:24.764Z"
   },
   {
    "duration": 5,
    "start_time": "2022-01-07T18:48:32.202Z"
   },
   {
    "duration": 6,
    "start_time": "2022-01-07T18:48:41.066Z"
   },
   {
    "duration": 9,
    "start_time": "2022-01-07T18:50:49.625Z"
   },
   {
    "duration": 6,
    "start_time": "2022-01-07T18:51:06.867Z"
   },
   {
    "duration": 9,
    "start_time": "2022-01-07T18:53:46.492Z"
   },
   {
    "duration": 8,
    "start_time": "2022-01-07T20:47:42.034Z"
   },
   {
    "duration": 9,
    "start_time": "2022-01-07T20:47:50.651Z"
   },
   {
    "duration": 9,
    "start_time": "2022-01-07T20:48:07.777Z"
   },
   {
    "duration": 9,
    "start_time": "2022-01-07T20:48:19.642Z"
   },
   {
    "duration": 8,
    "start_time": "2022-01-07T20:49:09.290Z"
   },
   {
    "duration": 8,
    "start_time": "2022-01-07T20:49:32.074Z"
   },
   {
    "duration": 8,
    "start_time": "2022-01-07T20:49:49.891Z"
   },
   {
    "duration": 9,
    "start_time": "2022-01-07T20:50:14.029Z"
   },
   {
    "duration": 23,
    "start_time": "2022-01-07T20:53:12.493Z"
   },
   {
    "duration": 23,
    "start_time": "2022-01-07T20:54:02.285Z"
   },
   {
    "duration": 292,
    "start_time": "2022-01-07T20:54:41.450Z"
   },
   {
    "duration": 5,
    "start_time": "2022-01-07T20:56:04.482Z"
   },
   {
    "duration": 295,
    "start_time": "2022-01-07T20:56:26.272Z"
   },
   {
    "duration": 5,
    "start_time": "2022-01-07T20:56:43.511Z"
   },
   {
    "duration": 5,
    "start_time": "2022-01-07T20:56:58.407Z"
   },
   {
    "duration": 342,
    "start_time": "2022-01-07T20:57:36.648Z"
   },
   {
    "duration": 403,
    "start_time": "2022-01-07T20:57:57.534Z"
   },
   {
    "duration": 386,
    "start_time": "2022-01-07T20:58:06.779Z"
   },
   {
    "duration": 440,
    "start_time": "2022-01-07T20:58:11.414Z"
   },
   {
    "duration": 827,
    "start_time": "2022-01-07T20:58:36.105Z"
   },
   {
    "duration": 456,
    "start_time": "2022-01-07T21:00:18.874Z"
   },
   {
    "duration": 468,
    "start_time": "2022-01-07T21:00:26.496Z"
   },
   {
    "duration": 423,
    "start_time": "2022-01-07T21:00:47.272Z"
   },
   {
    "duration": 7,
    "start_time": "2022-01-07T21:09:56.869Z"
   },
   {
    "duration": 7,
    "start_time": "2022-01-07T21:10:37.029Z"
   },
   {
    "duration": 8,
    "start_time": "2022-01-07T21:13:06.392Z"
   },
   {
    "duration": 6,
    "start_time": "2022-01-07T21:13:36.041Z"
   },
   {
    "duration": 5,
    "start_time": "2022-01-07T21:14:07.312Z"
   },
   {
    "duration": 9,
    "start_time": "2022-01-07T21:16:36.345Z"
   },
   {
    "duration": 877,
    "start_time": "2022-01-07T21:24:42.220Z"
   },
   {
    "duration": 7,
    "start_time": "2022-01-07T21:30:10.880Z"
   },
   {
    "duration": 266,
    "start_time": "2022-01-07T21:31:04.760Z"
   },
   {
    "duration": 6,
    "start_time": "2022-01-07T21:31:34.481Z"
   },
   {
    "duration": 7,
    "start_time": "2022-01-07T21:39:39.070Z"
   },
   {
    "duration": 386,
    "start_time": "2022-01-07T21:45:28.952Z"
   },
   {
    "duration": 6,
    "start_time": "2022-01-07T21:46:12.946Z"
   },
   {
    "duration": 5,
    "start_time": "2022-01-07T21:51:06.804Z"
   },
   {
    "duration": 122,
    "start_time": "2022-01-07T21:52:19.750Z"
   },
   {
    "duration": 112,
    "start_time": "2022-01-07T21:53:10.413Z"
   },
   {
    "duration": 116,
    "start_time": "2022-01-07T21:53:21.676Z"
   },
   {
    "duration": 5,
    "start_time": "2022-01-07T21:53:38.205Z"
   },
   {
    "duration": 129,
    "start_time": "2022-01-07T21:53:46.295Z"
   },
   {
    "duration": 105,
    "start_time": "2022-01-07T21:54:13.355Z"
   },
   {
    "duration": 361,
    "start_time": "2022-01-07T22:03:39.497Z"
   },
   {
    "duration": 7,
    "start_time": "2022-01-07T22:03:54.034Z"
   },
   {
    "duration": 6,
    "start_time": "2022-01-07T22:06:38.669Z"
   },
   {
    "duration": 111,
    "start_time": "2022-01-07T22:08:09.605Z"
   },
   {
    "duration": 8,
    "start_time": "2022-01-07T22:08:17.596Z"
   },
   {
    "duration": 6,
    "start_time": "2022-01-07T22:13:30.615Z"
   },
   {
    "duration": 6,
    "start_time": "2022-01-07T22:13:52.969Z"
   },
   {
    "duration": 6,
    "start_time": "2022-01-07T22:14:09.896Z"
   },
   {
    "duration": 7,
    "start_time": "2022-01-07T22:14:36.304Z"
   },
   {
    "duration": 30,
    "start_time": "2022-01-07T22:21:46.388Z"
   },
   {
    "duration": 18,
    "start_time": "2022-01-07T22:26:16.327Z"
   },
   {
    "duration": 18,
    "start_time": "2022-01-07T22:27:19.672Z"
   },
   {
    "duration": 20,
    "start_time": "2022-01-07T22:30:01.345Z"
   },
   {
    "duration": 19,
    "start_time": "2022-01-07T22:30:12.890Z"
   },
   {
    "duration": 5,
    "start_time": "2022-01-07T22:31:03.384Z"
   },
   {
    "duration": 7,
    "start_time": "2022-01-07T22:34:25.820Z"
   },
   {
    "duration": 1116,
    "start_time": "2022-01-10T19:26:17.509Z"
   },
   {
    "duration": 39,
    "start_time": "2022-01-10T19:26:18.627Z"
   },
   {
    "duration": 6,
    "start_time": "2022-01-10T19:26:18.668Z"
   },
   {
    "duration": 11,
    "start_time": "2022-01-10T19:26:18.676Z"
   },
   {
    "duration": 157,
    "start_time": "2022-01-10T19:26:18.689Z"
   },
   {
    "duration": 21,
    "start_time": "2022-01-10T19:26:18.848Z"
   },
   {
    "duration": 28,
    "start_time": "2022-01-10T19:26:18.870Z"
   },
   {
    "duration": 99,
    "start_time": "2022-01-10T19:26:18.901Z"
   },
   {
    "duration": 13,
    "start_time": "2022-01-10T19:26:19.002Z"
   },
   {
    "duration": 137,
    "start_time": "2022-01-10T19:26:19.017Z"
   },
   {
    "duration": 18,
    "start_time": "2022-01-10T19:26:19.156Z"
   },
   {
    "duration": 23,
    "start_time": "2022-01-10T19:26:19.176Z"
   },
   {
    "duration": 17,
    "start_time": "2022-01-10T19:26:19.201Z"
   },
   {
    "duration": 111,
    "start_time": "2022-01-10T19:26:19.219Z"
   },
   {
    "duration": 38,
    "start_time": "2022-01-10T19:26:19.332Z"
   },
   {
    "duration": 70,
    "start_time": "2022-01-10T19:26:19.372Z"
   },
   {
    "duration": 7,
    "start_time": "2022-01-10T19:26:19.444Z"
   },
   {
    "duration": 32,
    "start_time": "2022-01-10T19:26:19.452Z"
   },
   {
    "duration": 19,
    "start_time": "2022-01-10T19:26:19.486Z"
   },
   {
    "duration": 49,
    "start_time": "2022-01-10T19:26:19.506Z"
   },
   {
    "duration": 33,
    "start_time": "2022-01-10T19:26:19.556Z"
   },
   {
    "duration": 22,
    "start_time": "2022-01-10T19:26:19.590Z"
   },
   {
    "duration": 45,
    "start_time": "2022-01-10T19:26:19.615Z"
   },
   {
    "duration": 37,
    "start_time": "2022-01-10T19:26:19.663Z"
   },
   {
    "duration": 6,
    "start_time": "2022-01-10T19:26:19.702Z"
   },
   {
    "duration": 56,
    "start_time": "2022-01-10T19:26:19.709Z"
   },
   {
    "duration": 6,
    "start_time": "2022-01-10T19:26:19.767Z"
   },
   {
    "duration": 30,
    "start_time": "2022-01-10T19:26:19.774Z"
   },
   {
    "duration": 36,
    "start_time": "2022-01-10T19:26:19.806Z"
   },
   {
    "duration": 7,
    "start_time": "2022-01-10T19:26:19.844Z"
   },
   {
    "duration": 8,
    "start_time": "2022-01-10T19:26:19.853Z"
   },
   {
    "duration": 14,
    "start_time": "2022-01-10T19:26:19.862Z"
   },
   {
    "duration": 5,
    "start_time": "2022-01-10T19:26:19.877Z"
   },
   {
    "duration": 6,
    "start_time": "2022-01-10T19:26:19.884Z"
   },
   {
    "duration": 13,
    "start_time": "2022-01-10T19:26:19.891Z"
   },
   {
    "duration": 47,
    "start_time": "2022-01-10T19:26:19.906Z"
   },
   {
    "duration": 65,
    "start_time": "2022-01-10T19:26:19.955Z"
   },
   {
    "duration": 22,
    "start_time": "2022-01-10T19:26:20.021Z"
   },
   {
    "duration": 72,
    "start_time": "2022-01-10T19:26:20.045Z"
   },
   {
    "duration": 83,
    "start_time": "2022-01-10T19:26:20.119Z"
   },
   {
    "duration": 8,
    "start_time": "2022-01-10T19:26:20.204Z"
   },
   {
    "duration": 8,
    "start_time": "2022-01-10T19:26:20.213Z"
   },
   {
    "duration": 127,
    "start_time": "2022-01-10T19:26:20.223Z"
   },
   {
    "duration": 19,
    "start_time": "2022-01-10T19:26:20.351Z"
   },
   {
    "duration": 186,
    "start_time": "2022-01-10T19:26:20.371Z"
   },
   {
    "duration": 336,
    "start_time": "2022-01-10T19:26:20.559Z"
   },
   {
    "duration": 5,
    "start_time": "2022-01-10T19:26:20.898Z"
   },
   {
    "duration": 7,
    "start_time": "2022-01-10T19:26:20.905Z"
   },
   {
    "duration": 8,
    "start_time": "2022-01-10T19:26:20.914Z"
   },
   {
    "duration": 5,
    "start_time": "2022-01-10T19:26:20.941Z"
   },
   {
    "duration": 9,
    "start_time": "2022-01-10T19:26:20.948Z"
   },
   {
    "duration": 10,
    "start_time": "2022-01-10T19:26:20.959Z"
   },
   {
    "duration": 196,
    "start_time": "2022-01-10T19:26:20.970Z"
   },
   {
    "duration": 329,
    "start_time": "2022-01-10T19:26:21.168Z"
   },
   {
    "duration": 4,
    "start_time": "2022-01-10T19:26:21.499Z"
   },
   {
    "duration": 6,
    "start_time": "2022-01-10T19:26:21.505Z"
   },
   {
    "duration": 7,
    "start_time": "2022-01-10T19:26:21.513Z"
   },
   {
    "duration": 20,
    "start_time": "2022-01-10T19:26:21.522Z"
   },
   {
    "duration": 6,
    "start_time": "2022-01-10T19:26:21.544Z"
   },
   {
    "duration": 189,
    "start_time": "2022-01-10T19:26:21.552Z"
   },
   {
    "duration": 338,
    "start_time": "2022-01-10T19:26:21.742Z"
   },
   {
    "duration": 4,
    "start_time": "2022-01-10T19:26:22.082Z"
   },
   {
    "duration": 7,
    "start_time": "2022-01-10T19:26:22.088Z"
   },
   {
    "duration": 8,
    "start_time": "2022-01-10T19:26:22.097Z"
   },
   {
    "duration": 10,
    "start_time": "2022-01-10T19:26:22.107Z"
   },
   {
    "duration": 32,
    "start_time": "2022-01-10T19:26:22.119Z"
   },
   {
    "duration": 20,
    "start_time": "2022-01-10T19:26:22.153Z"
   },
   {
    "duration": 189,
    "start_time": "2022-01-10T19:26:22.180Z"
   },
   {
    "duration": 356,
    "start_time": "2022-01-10T19:26:22.371Z"
   },
   {
    "duration": 3,
    "start_time": "2022-01-10T19:26:22.729Z"
   },
   {
    "duration": 9,
    "start_time": "2022-01-10T19:26:22.734Z"
   },
   {
    "duration": 11,
    "start_time": "2022-01-10T19:26:22.745Z"
   },
   {
    "duration": 9,
    "start_time": "2022-01-10T19:26:22.757Z"
   },
   {
    "duration": 8,
    "start_time": "2022-01-10T19:26:22.768Z"
   },
   {
    "duration": 9,
    "start_time": "2022-01-10T19:26:22.777Z"
   },
   {
    "duration": 214,
    "start_time": "2022-01-10T19:26:22.787Z"
   },
   {
    "duration": 400,
    "start_time": "2022-01-10T19:26:23.003Z"
   },
   {
    "duration": 3,
    "start_time": "2022-01-10T19:26:23.404Z"
   },
   {
    "duration": 11,
    "start_time": "2022-01-10T19:26:23.409Z"
   },
   {
    "duration": 22,
    "start_time": "2022-01-10T19:26:23.422Z"
   },
   {
    "duration": 8,
    "start_time": "2022-01-10T19:26:23.446Z"
   },
   {
    "duration": 9,
    "start_time": "2022-01-10T19:26:23.456Z"
   },
   {
    "duration": 207,
    "start_time": "2022-01-10T19:26:23.467Z"
   },
   {
    "duration": 348,
    "start_time": "2022-01-10T19:26:23.676Z"
   },
   {
    "duration": 3,
    "start_time": "2022-01-10T19:26:24.026Z"
   },
   {
    "duration": 12,
    "start_time": "2022-01-10T19:26:24.031Z"
   },
   {
    "duration": 9,
    "start_time": "2022-01-10T19:26:24.045Z"
   },
   {
    "duration": 8,
    "start_time": "2022-01-10T19:26:24.055Z"
   },
   {
    "duration": 7,
    "start_time": "2022-01-10T19:26:24.065Z"
   },
   {
    "duration": 7,
    "start_time": "2022-01-10T19:26:24.074Z"
   },
   {
    "duration": 7,
    "start_time": "2022-01-10T19:26:24.083Z"
   },
   {
    "duration": 10,
    "start_time": "2022-01-10T19:26:24.092Z"
   },
   {
    "duration": 39,
    "start_time": "2022-01-10T19:26:24.104Z"
   },
   {
    "duration": 19,
    "start_time": "2022-01-10T19:26:24.145Z"
   },
   {
    "duration": 12,
    "start_time": "2022-01-10T19:26:24.166Z"
   },
   {
    "duration": 12,
    "start_time": "2022-01-10T19:26:24.179Z"
   },
   {
    "duration": 4,
    "start_time": "2022-01-10T19:26:24.192Z"
   },
   {
    "duration": 12,
    "start_time": "2022-01-10T19:26:24.198Z"
   },
   {
    "duration": 243,
    "start_time": "2022-01-12T16:28:54.698Z"
   },
   {
    "duration": 1119,
    "start_time": "2022-01-12T16:28:58.895Z"
   },
   {
    "duration": 44,
    "start_time": "2022-01-12T16:29:04.068Z"
   },
   {
    "duration": 8,
    "start_time": "2022-01-12T16:29:18.282Z"
   },
   {
    "duration": 13,
    "start_time": "2022-01-12T16:30:55.257Z"
   },
   {
    "duration": 268,
    "start_time": "2022-01-12T17:22:44.849Z"
   },
   {
    "duration": 1593,
    "start_time": "2022-01-12T17:23:07.265Z"
   },
   {
    "duration": 14,
    "start_time": "2022-01-12T17:23:12.751Z"
   },
   {
    "duration": 26,
    "start_time": "2022-01-12T17:23:22.046Z"
   },
   {
    "duration": 68,
    "start_time": "2022-01-12T17:34:25.549Z"
   },
   {
    "duration": 249,
    "start_time": "2022-01-12T17:34:35.204Z"
   },
   {
    "duration": 13,
    "start_time": "2022-01-12T17:34:45.492Z"
   },
   {
    "duration": 1037,
    "start_time": "2022-01-12T17:35:02.391Z"
   },
   {
    "duration": 12,
    "start_time": "2022-01-12T17:35:06.572Z"
   },
   {
    "duration": 1156,
    "start_time": "2022-01-12T17:35:15.572Z"
   },
   {
    "duration": 13,
    "start_time": "2022-01-12T17:35:20.394Z"
   },
   {
    "duration": 10,
    "start_time": "2022-01-12T17:36:23.125Z"
   },
   {
    "duration": 24,
    "start_time": "2022-01-12T17:40:49.310Z"
   },
   {
    "duration": 15,
    "start_time": "2022-01-12T17:54:45.448Z"
   },
   {
    "duration": 15,
    "start_time": "2022-01-12T17:54:55.853Z"
   },
   {
    "duration": 3,
    "start_time": "2022-01-12T18:04:48.808Z"
   },
   {
    "duration": 38,
    "start_time": "2022-01-12T18:04:48.817Z"
   },
   {
    "duration": 6,
    "start_time": "2022-01-12T18:04:48.857Z"
   },
   {
    "duration": 10,
    "start_time": "2022-01-12T18:04:48.865Z"
   },
   {
    "duration": 1563,
    "start_time": "2022-01-12T18:04:48.877Z"
   },
   {
    "duration": 15,
    "start_time": "2022-01-12T18:04:50.441Z"
   },
   {
    "duration": 26,
    "start_time": "2022-01-12T18:04:50.461Z"
   },
   {
    "duration": 996,
    "start_time": "2022-01-12T18:04:50.488Z"
   },
   {
    "duration": 11,
    "start_time": "2022-01-12T18:04:51.485Z"
   },
   {
    "duration": 1134,
    "start_time": "2022-01-12T18:04:51.498Z"
   },
   {
    "duration": 12,
    "start_time": "2022-01-12T18:04:52.633Z"
   },
   {
    "duration": 33,
    "start_time": "2022-01-12T18:04:52.647Z"
   },
   {
    "duration": 9,
    "start_time": "2022-01-12T18:04:52.682Z"
   },
   {
    "duration": 106,
    "start_time": "2022-01-12T18:04:52.693Z"
   },
   {
    "duration": 41,
    "start_time": "2022-01-12T18:04:52.801Z"
   },
   {
    "duration": 49,
    "start_time": "2022-01-12T18:04:52.844Z"
   },
   {
    "duration": 13,
    "start_time": "2022-01-12T18:05:21.928Z"
   },
   {
    "duration": 13,
    "start_time": "2022-01-12T18:05:25.730Z"
   },
   {
    "duration": 24,
    "start_time": "2022-01-12T18:05:27.979Z"
   },
   {
    "duration": 9,
    "start_time": "2022-01-12T18:05:30.930Z"
   },
   {
    "duration": 25,
    "start_time": "2022-01-12T18:07:29.211Z"
   },
   {
    "duration": 23,
    "start_time": "2022-01-12T18:07:31.747Z"
   },
   {
    "duration": 10,
    "start_time": "2022-01-12T18:07:34.843Z"
   },
   {
    "duration": 16,
    "start_time": "2022-01-12T18:19:25.795Z"
   },
   {
    "duration": 29,
    "start_time": "2022-01-12T18:19:37.404Z"
   },
   {
    "duration": 22,
    "start_time": "2022-01-12T18:19:39.962Z"
   },
   {
    "duration": 26,
    "start_time": "2022-01-12T18:19:41.153Z"
   },
   {
    "duration": 48,
    "start_time": "2022-01-12T18:19:51.129Z"
   },
   {
    "duration": 6,
    "start_time": "2022-01-12T18:19:55.521Z"
   },
   {
    "duration": 32,
    "start_time": "2022-01-12T18:20:00.690Z"
   },
   {
    "duration": 6,
    "start_time": "2022-01-12T18:20:03.956Z"
   },
   {
    "duration": 25,
    "start_time": "2022-01-12T18:20:07.265Z"
   },
   {
    "duration": 216,
    "start_time": "2022-01-12T18:23:20.094Z"
   },
   {
    "duration": 209,
    "start_time": "2022-01-12T18:23:35.253Z"
   },
   {
    "duration": 13,
    "start_time": "2022-01-12T18:24:48.752Z"
   },
   {
    "duration": 36,
    "start_time": "2022-01-12T18:24:55.589Z"
   },
   {
    "duration": 7,
    "start_time": "2022-01-12T18:24:58.478Z"
   },
   {
    "duration": 32,
    "start_time": "2022-01-12T18:25:01.284Z"
   },
   {
    "duration": 7,
    "start_time": "2022-01-12T18:25:03.549Z"
   },
   {
    "duration": 23,
    "start_time": "2022-01-12T18:25:05.906Z"
   },
   {
    "duration": 16,
    "start_time": "2022-01-12T18:25:28.469Z"
   },
   {
    "duration": 6,
    "start_time": "2022-01-12T18:25:31.154Z"
   },
   {
    "duration": 7,
    "start_time": "2022-01-12T18:25:33.666Z"
   },
   {
    "duration": 16,
    "start_time": "2022-01-12T18:25:45.117Z"
   },
   {
    "duration": 7,
    "start_time": "2022-01-12T18:25:49.940Z"
   },
   {
    "duration": 6,
    "start_time": "2022-01-12T18:25:51.188Z"
   },
   {
    "duration": 17,
    "start_time": "2022-01-12T18:26:06.948Z"
   },
   {
    "duration": 10,
    "start_time": "2022-01-12T18:26:36.509Z"
   },
   {
    "duration": 15,
    "start_time": "2022-01-12T18:26:48.382Z"
   },
   {
    "duration": 69,
    "start_time": "2022-01-12T18:26:55.823Z"
   },
   {
    "duration": 9,
    "start_time": "2022-01-12T18:26:58.533Z"
   },
   {
    "duration": 71,
    "start_time": "2022-01-12T18:27:01.690Z"
   },
   {
    "duration": 71,
    "start_time": "2022-01-12T18:27:03.655Z"
   },
   {
    "duration": 7,
    "start_time": "2022-01-12T18:27:06.141Z"
   },
   {
    "duration": 7,
    "start_time": "2022-01-12T18:27:07.581Z"
   },
   {
    "duration": 101,
    "start_time": "2022-01-12T18:27:17.126Z"
   },
   {
    "duration": 14,
    "start_time": "2022-01-12T18:37:51.211Z"
   },
   {
    "duration": 191,
    "start_time": "2022-01-12T18:38:14.858Z"
   },
   {
    "duration": 378,
    "start_time": "2022-01-12T18:41:04.284Z"
   },
   {
    "duration": 219,
    "start_time": "2022-01-12T18:41:23.406Z"
   },
   {
    "duration": 195,
    "start_time": "2022-01-12T18:41:33.708Z"
   },
   {
    "duration": 207,
    "start_time": "2022-01-12T18:42:44.845Z"
   },
   {
    "duration": 382,
    "start_time": "2022-01-12T18:43:53.558Z"
   },
   {
    "duration": 382,
    "start_time": "2022-01-12T18:45:04.439Z"
   },
   {
    "duration": 382,
    "start_time": "2022-01-12T18:45:42.781Z"
   },
   {
    "duration": 528,
    "start_time": "2022-01-12T18:46:03.200Z"
   },
   {
    "duration": 520,
    "start_time": "2022-01-12T18:46:24.344Z"
   },
   {
    "duration": 1119,
    "start_time": "2022-01-12T18:47:23.921Z"
   },
   {
    "duration": 510,
    "start_time": "2022-01-12T18:47:57.063Z"
   },
   {
    "duration": 631,
    "start_time": "2022-01-12T18:50:19.941Z"
   },
   {
    "duration": 540,
    "start_time": "2022-01-12T18:50:31.569Z"
   },
   {
    "duration": 193,
    "start_time": "2022-01-12T18:51:04.929Z"
   },
   {
    "duration": 313,
    "start_time": "2022-01-12T18:52:11.307Z"
   },
   {
    "duration": 325,
    "start_time": "2022-01-12T18:52:33.473Z"
   },
   {
    "duration": 683,
    "start_time": "2022-01-12T18:52:45.128Z"
   },
   {
    "duration": 419,
    "start_time": "2022-01-12T18:52:55.179Z"
   },
   {
    "duration": 578,
    "start_time": "2022-01-12T18:53:04.604Z"
   },
   {
    "duration": 69,
    "start_time": "2022-01-12T18:53:36.597Z"
   },
   {
    "duration": 71,
    "start_time": "2022-01-12T18:53:41.144Z"
   },
   {
    "duration": 70,
    "start_time": "2022-01-12T18:53:46.075Z"
   },
   {
    "duration": 696,
    "start_time": "2022-01-12T18:53:55.099Z"
   },
   {
    "duration": 522,
    "start_time": "2022-01-12T18:57:12.286Z"
   },
   {
    "duration": 219,
    "start_time": "2022-01-12T18:57:21.728Z"
   },
   {
    "duration": 205,
    "start_time": "2022-01-12T18:58:01.336Z"
   },
   {
    "duration": 187,
    "start_time": "2022-01-12T18:59:04.879Z"
   },
   {
    "duration": 330,
    "start_time": "2022-01-12T18:59:32.478Z"
   },
   {
    "duration": 4,
    "start_time": "2022-01-12T19:00:54.601Z"
   },
   {
    "duration": 5,
    "start_time": "2022-01-12T19:00:57.196Z"
   },
   {
    "duration": 8,
    "start_time": "2022-01-12T19:01:02.465Z"
   },
   {
    "duration": 5,
    "start_time": "2022-01-12T19:01:29.689Z"
   },
   {
    "duration": 8,
    "start_time": "2022-01-12T19:03:09.865Z"
   },
   {
    "duration": 7,
    "start_time": "2022-01-12T19:04:58.377Z"
   },
   {
    "duration": 199,
    "start_time": "2022-01-12T19:05:53.738Z"
   },
   {
    "duration": 411,
    "start_time": "2022-01-12T19:06:09.723Z"
   },
   {
    "duration": 5,
    "start_time": "2022-01-12T19:07:24.618Z"
   },
   {
    "duration": 5,
    "start_time": "2022-01-12T19:07:33.890Z"
   },
   {
    "duration": 6,
    "start_time": "2022-01-12T19:07:42.675Z"
   },
   {
    "duration": 4,
    "start_time": "2022-01-12T19:07:46.508Z"
   },
   {
    "duration": 8,
    "start_time": "2022-01-12T19:08:53.539Z"
   },
   {
    "duration": 7,
    "start_time": "2022-01-12T19:09:03.340Z"
   },
   {
    "duration": 212,
    "start_time": "2022-01-12T19:09:52.936Z"
   },
   {
    "duration": 337,
    "start_time": "2022-01-12T19:09:57.498Z"
   },
   {
    "duration": 5,
    "start_time": "2022-01-12T19:10:25.761Z"
   },
   {
    "duration": 5,
    "start_time": "2022-01-12T19:10:26.835Z"
   },
   {
    "duration": 7,
    "start_time": "2022-01-12T19:10:29.661Z"
   },
   {
    "duration": 5,
    "start_time": "2022-01-12T19:10:32.699Z"
   },
   {
    "duration": 9,
    "start_time": "2022-01-12T19:12:24.493Z"
   },
   {
    "duration": 15,
    "start_time": "2022-01-12T19:14:32.777Z"
   },
   {
    "duration": 194,
    "start_time": "2022-01-12T19:15:48.679Z"
   },
   {
    "duration": 334,
    "start_time": "2022-01-12T19:15:55.415Z"
   },
   {
    "duration": 332,
    "start_time": "2022-01-12T19:16:49.984Z"
   },
   {
    "duration": 371,
    "start_time": "2022-01-12T19:16:56.176Z"
   },
   {
    "duration": 4,
    "start_time": "2022-01-12T19:17:10.530Z"
   },
   {
    "duration": 5,
    "start_time": "2022-01-12T19:17:11.613Z"
   },
   {
    "duration": 8,
    "start_time": "2022-01-12T19:17:21.448Z"
   },
   {
    "duration": 4,
    "start_time": "2022-01-12T19:18:21.529Z"
   },
   {
    "duration": 7,
    "start_time": "2022-01-12T19:20:00.978Z"
   },
   {
    "duration": 178,
    "start_time": "2022-01-12T19:20:47.641Z"
   },
   {
    "duration": 472,
    "start_time": "2022-01-12T19:20:54.936Z"
   },
   {
    "duration": 4,
    "start_time": "2022-01-12T19:21:38.665Z"
   },
   {
    "duration": 4,
    "start_time": "2022-01-12T19:21:41.522Z"
   },
   {
    "duration": 7,
    "start_time": "2022-01-12T19:21:54.355Z"
   },
   {
    "duration": 7,
    "start_time": "2022-01-12T19:22:00.234Z"
   },
   {
    "duration": 8,
    "start_time": "2022-01-12T19:23:24.180Z"
   },
   {
    "duration": 192,
    "start_time": "2022-01-12T19:23:48.765Z"
   },
   {
    "duration": 344,
    "start_time": "2022-01-12T19:23:53.818Z"
   },
   {
    "duration": 4,
    "start_time": "2022-01-12T19:24:09.181Z"
   },
   {
    "duration": 5,
    "start_time": "2022-01-12T19:24:10.268Z"
   },
   {
    "duration": 6,
    "start_time": "2022-01-12T19:24:27.107Z"
   },
   {
    "duration": 5,
    "start_time": "2022-01-12T19:24:38.092Z"
   },
   {
    "duration": 7,
    "start_time": "2022-01-12T19:26:45.102Z"
   },
   {
    "duration": 76,
    "start_time": "2022-01-12T19:41:32.106Z"
   },
   {
    "duration": 163,
    "start_time": "2022-01-12T19:41:37.463Z"
   },
   {
    "duration": 289,
    "start_time": "2022-01-12T19:41:51.849Z"
   },
   {
    "duration": 65,
    "start_time": "2022-01-12T19:48:32.747Z"
   },
   {
    "duration": 269,
    "start_time": "2022-01-12T19:51:24.980Z"
   },
   {
    "duration": 255,
    "start_time": "2022-01-12T19:52:08.583Z"
   },
   {
    "duration": 476,
    "start_time": "2022-01-12T19:52:55.485Z"
   },
   {
    "duration": 236,
    "start_time": "2022-01-12T19:53:02.972Z"
   },
   {
    "duration": 210,
    "start_time": "2022-01-12T19:53:15.052Z"
   },
   {
    "duration": 389,
    "start_time": "2022-01-12T19:57:17.142Z"
   },
   {
    "duration": 232,
    "start_time": "2022-01-12T19:57:27.431Z"
   },
   {
    "duration": 127,
    "start_time": "2022-01-12T19:57:39.111Z"
   },
   {
    "duration": 220,
    "start_time": "2022-01-12T19:57:47.273Z"
   },
   {
    "duration": 217,
    "start_time": "2022-01-12T19:58:05.921Z"
   },
   {
    "duration": 502,
    "start_time": "2022-01-12T19:58:50.780Z"
   },
   {
    "duration": 417,
    "start_time": "2022-01-12T19:58:59.705Z"
   },
   {
    "duration": 358,
    "start_time": "2022-01-12T19:59:12.425Z"
   },
   {
    "duration": 388,
    "start_time": "2022-01-12T20:06:55.132Z"
   },
   {
    "duration": 579,
    "start_time": "2022-01-12T20:07:33.365Z"
   },
   {
    "duration": 539,
    "start_time": "2022-01-12T20:09:11.153Z"
   },
   {
    "duration": 394,
    "start_time": "2022-01-12T20:10:11.526Z"
   },
   {
    "duration": 388,
    "start_time": "2022-01-12T20:10:21.077Z"
   },
   {
    "duration": 419,
    "start_time": "2022-01-12T20:11:35.584Z"
   },
   {
    "duration": 386,
    "start_time": "2022-01-12T20:11:42.374Z"
   },
   {
    "duration": 295,
    "start_time": "2022-01-12T20:11:54.568Z"
   },
   {
    "duration": 326,
    "start_time": "2022-01-12T20:12:02.999Z"
   },
   {
    "duration": 287,
    "start_time": "2022-01-12T20:12:10.056Z"
   },
   {
    "duration": 4,
    "start_time": "2022-01-12T20:15:37.842Z"
   },
   {
    "duration": 7,
    "start_time": "2022-01-12T20:16:15.974Z"
   },
   {
    "duration": 5,
    "start_time": "2022-01-12T20:16:25.721Z"
   },
   {
    "duration": 5,
    "start_time": "2022-01-12T20:16:26.841Z"
   },
   {
    "duration": 20,
    "start_time": "2022-01-12T20:16:38.973Z"
   },
   {
    "duration": 17,
    "start_time": "2022-01-12T20:17:02.482Z"
   },
   {
    "duration": 20,
    "start_time": "2022-01-12T20:17:10.674Z"
   },
   {
    "duration": 3,
    "start_time": "2022-01-12T20:17:14.677Z"
   },
   {
    "duration": 6,
    "start_time": "2022-01-12T20:17:25.440Z"
   },
   {
    "duration": 3,
    "start_time": "2022-01-12T20:26:11.612Z"
   },
   {
    "duration": 54,
    "start_time": "2022-01-12T20:26:11.620Z"
   },
   {
    "duration": 6,
    "start_time": "2022-01-12T20:26:11.676Z"
   },
   {
    "duration": 11,
    "start_time": "2022-01-12T20:26:11.685Z"
   },
   {
    "duration": 1690,
    "start_time": "2022-01-12T20:26:11.698Z"
   },
   {
    "duration": 17,
    "start_time": "2022-01-12T20:26:13.390Z"
   },
   {
    "duration": 27,
    "start_time": "2022-01-12T20:26:13.409Z"
   },
   {
    "duration": 980,
    "start_time": "2022-01-12T20:26:13.438Z"
   },
   {
    "duration": 11,
    "start_time": "2022-01-12T20:26:14.420Z"
   },
   {
    "duration": 1266,
    "start_time": "2022-01-12T20:26:14.433Z"
   },
   {
    "duration": 12,
    "start_time": "2022-01-12T20:26:15.700Z"
   },
   {
    "duration": 21,
    "start_time": "2022-01-12T20:26:15.714Z"
   },
   {
    "duration": 8,
    "start_time": "2022-01-12T20:26:15.736Z"
   },
   {
    "duration": 100,
    "start_time": "2022-01-12T20:26:15.746Z"
   },
   {
    "duration": 51,
    "start_time": "2022-01-12T20:26:15.848Z"
   },
   {
    "duration": 35,
    "start_time": "2022-01-12T20:26:15.901Z"
   },
   {
    "duration": 35,
    "start_time": "2022-01-12T20:26:15.937Z"
   },
   {
    "duration": 18,
    "start_time": "2022-01-12T20:26:15.974Z"
   },
   {
    "duration": 27,
    "start_time": "2022-01-12T20:26:15.994Z"
   },
   {
    "duration": 11,
    "start_time": "2022-01-12T20:26:16.023Z"
   },
   {
    "duration": 21,
    "start_time": "2022-01-12T20:26:16.061Z"
   },
   {
    "duration": 28,
    "start_time": "2022-01-12T20:26:16.084Z"
   },
   {
    "duration": 23,
    "start_time": "2022-01-12T20:26:16.114Z"
   },
   {
    "duration": 38,
    "start_time": "2022-01-12T20:26:16.165Z"
   },
   {
    "duration": 11,
    "start_time": "2022-01-12T20:26:16.205Z"
   },
   {
    "duration": 72,
    "start_time": "2022-01-12T20:26:16.217Z"
   },
   {
    "duration": 6,
    "start_time": "2022-01-12T20:26:16.292Z"
   },
   {
    "duration": 37,
    "start_time": "2022-01-12T20:26:16.300Z"
   },
   {
    "duration": 6,
    "start_time": "2022-01-12T20:26:16.339Z"
   },
   {
    "duration": 45,
    "start_time": "2022-01-12T20:26:16.346Z"
   },
   {
    "duration": 15,
    "start_time": "2022-01-12T20:26:16.393Z"
   },
   {
    "duration": 5,
    "start_time": "2022-01-12T20:26:16.410Z"
   },
   {
    "duration": 22,
    "start_time": "2022-01-12T20:26:16.417Z"
   },
   {
    "duration": 38,
    "start_time": "2022-01-12T20:26:16.441Z"
   },
   {
    "duration": 7,
    "start_time": "2022-01-12T20:26:16.482Z"
   },
   {
    "duration": 14,
    "start_time": "2022-01-12T20:26:16.491Z"
   },
   {
    "duration": 23,
    "start_time": "2022-01-12T20:26:16.507Z"
   },
   {
    "duration": 37,
    "start_time": "2022-01-12T20:26:16.532Z"
   },
   {
    "duration": 107,
    "start_time": "2022-01-12T20:26:16.571Z"
   },
   {
    "duration": 8,
    "start_time": "2022-01-12T20:26:16.680Z"
   },
   {
    "duration": 96,
    "start_time": "2022-01-12T20:26:16.690Z"
   },
   {
    "duration": 90,
    "start_time": "2022-01-12T20:26:16.788Z"
   },
   {
    "duration": 8,
    "start_time": "2022-01-12T20:26:16.880Z"
   },
   {
    "duration": 15,
    "start_time": "2022-01-12T20:26:16.890Z"
   },
   {
    "duration": 133,
    "start_time": "2022-01-12T20:26:16.907Z"
   },
   {
    "duration": 32,
    "start_time": "2022-01-12T20:26:17.041Z"
   },
   {
    "duration": 220,
    "start_time": "2022-01-12T20:26:17.076Z"
   },
   {
    "duration": 390,
    "start_time": "2022-01-12T20:26:17.299Z"
   },
   {
    "duration": 4,
    "start_time": "2022-01-12T20:26:17.691Z"
   },
   {
    "duration": 8,
    "start_time": "2022-01-12T20:26:17.697Z"
   },
   {
    "duration": 9,
    "start_time": "2022-01-12T20:26:17.706Z"
   },
   {
    "duration": 6,
    "start_time": "2022-01-12T20:26:17.717Z"
   },
   {
    "duration": 11,
    "start_time": "2022-01-12T20:26:17.725Z"
   },
   {
    "duration": 28,
    "start_time": "2022-01-12T20:26:17.738Z"
   },
   {
    "duration": 336,
    "start_time": "2022-01-12T20:26:17.768Z"
   },
   {
    "duration": 387,
    "start_time": "2022-01-12T20:26:18.106Z"
   },
   {
    "duration": 5,
    "start_time": "2022-01-12T20:26:18.494Z"
   },
   {
    "duration": 19,
    "start_time": "2022-01-12T20:26:18.500Z"
   },
   {
    "duration": 20,
    "start_time": "2022-01-12T20:26:18.521Z"
   },
   {
    "duration": 48,
    "start_time": "2022-01-12T20:26:18.543Z"
   },
   {
    "duration": 29,
    "start_time": "2022-01-12T20:26:18.593Z"
   },
   {
    "duration": 234,
    "start_time": "2022-01-12T20:26:18.623Z"
   },
   {
    "duration": 374,
    "start_time": "2022-01-12T20:26:18.858Z"
   },
   {
    "duration": 5,
    "start_time": "2022-01-12T20:26:19.234Z"
   },
   {
    "duration": 7,
    "start_time": "2022-01-12T20:26:19.240Z"
   },
   {
    "duration": 10,
    "start_time": "2022-01-12T20:26:19.249Z"
   },
   {
    "duration": 7,
    "start_time": "2022-01-12T20:26:19.261Z"
   },
   {
    "duration": 12,
    "start_time": "2022-01-12T20:26:19.270Z"
   },
   {
    "duration": 17,
    "start_time": "2022-01-12T20:26:19.290Z"
   },
   {
    "duration": 386,
    "start_time": "2022-01-12T20:26:19.309Z"
   },
   {
    "duration": 518,
    "start_time": "2022-01-12T20:26:19.697Z"
   },
   {
    "duration": 4,
    "start_time": "2022-01-12T20:26:20.216Z"
   },
   {
    "duration": 11,
    "start_time": "2022-01-12T20:26:20.221Z"
   },
   {
    "duration": 10,
    "start_time": "2022-01-12T20:26:20.234Z"
   },
   {
    "duration": 22,
    "start_time": "2022-01-12T20:26:20.246Z"
   },
   {
    "duration": 12,
    "start_time": "2022-01-12T20:26:20.271Z"
   },
   {
    "duration": 9,
    "start_time": "2022-01-12T20:26:20.286Z"
   },
   {
    "duration": 257,
    "start_time": "2022-01-12T20:26:20.298Z"
   },
   {
    "duration": 447,
    "start_time": "2022-01-12T20:26:20.563Z"
   },
   {
    "duration": 4,
    "start_time": "2022-01-12T20:26:21.012Z"
   },
   {
    "duration": 7,
    "start_time": "2022-01-12T20:26:21.018Z"
   },
   {
    "duration": 8,
    "start_time": "2022-01-12T20:26:21.027Z"
   },
   {
    "duration": 35,
    "start_time": "2022-01-12T20:26:21.036Z"
   },
   {
    "duration": 14,
    "start_time": "2022-01-12T20:26:21.074Z"
   },
   {
    "duration": 240,
    "start_time": "2022-01-12T20:26:21.091Z"
   },
   {
    "duration": 434,
    "start_time": "2022-01-12T20:26:21.333Z"
   },
   {
    "duration": 5,
    "start_time": "2022-01-12T20:26:21.769Z"
   },
   {
    "duration": 9,
    "start_time": "2022-01-12T20:26:21.776Z"
   },
   {
    "duration": 18,
    "start_time": "2022-01-12T20:26:21.787Z"
   },
   {
    "duration": 11,
    "start_time": "2022-01-12T20:26:21.808Z"
   },
   {
    "duration": 15,
    "start_time": "2022-01-12T20:26:21.821Z"
   },
   {
    "duration": 360,
    "start_time": "2022-01-12T20:26:21.839Z"
   },
   {
    "duration": 324,
    "start_time": "2022-01-12T20:26:22.201Z"
   },
   {
    "duration": 540,
    "start_time": "2022-01-12T20:26:22.527Z"
   },
   {
    "duration": 368,
    "start_time": "2022-01-12T20:26:23.070Z"
   },
   {
    "duration": 4,
    "start_time": "2022-01-12T20:26:23.440Z"
   },
   {
    "duration": 17,
    "start_time": "2022-01-12T20:26:23.446Z"
   },
   {
    "duration": 18,
    "start_time": "2022-01-12T20:26:23.469Z"
   },
   {
    "duration": 5,
    "start_time": "2022-01-12T20:26:23.489Z"
   },
   {
    "duration": 27,
    "start_time": "2022-01-12T20:26:23.496Z"
   },
   {
    "duration": 40,
    "start_time": "2022-01-12T20:26:23.525Z"
   },
   {
    "duration": 24,
    "start_time": "2022-01-12T20:26:23.567Z"
   },
   {
    "duration": 20,
    "start_time": "2022-01-12T20:26:23.594Z"
   },
   {
    "duration": 44,
    "start_time": "2022-01-12T20:26:23.616Z"
   },
   {
    "duration": 3,
    "start_time": "2022-01-12T20:28:38.871Z"
   },
   {
    "duration": 38,
    "start_time": "2022-01-12T20:28:38.882Z"
   },
   {
    "duration": 6,
    "start_time": "2022-01-12T20:28:38.921Z"
   },
   {
    "duration": 13,
    "start_time": "2022-01-12T20:28:38.929Z"
   },
   {
    "duration": 1772,
    "start_time": "2022-01-12T20:28:38.944Z"
   },
   {
    "duration": 14,
    "start_time": "2022-01-12T20:28:40.718Z"
   },
   {
    "duration": 44,
    "start_time": "2022-01-12T20:28:40.734Z"
   },
   {
    "duration": 953,
    "start_time": "2022-01-12T20:28:40.781Z"
   },
   {
    "duration": 11,
    "start_time": "2022-01-12T20:28:41.735Z"
   },
   {
    "duration": 1232,
    "start_time": "2022-01-12T20:28:41.761Z"
   },
   {
    "duration": 14,
    "start_time": "2022-01-12T20:28:42.995Z"
   },
   {
    "duration": 22,
    "start_time": "2022-01-12T20:28:43.012Z"
   },
   {
    "duration": 7,
    "start_time": "2022-01-12T20:28:43.036Z"
   },
   {
    "duration": 99,
    "start_time": "2022-01-12T20:28:43.066Z"
   },
   {
    "duration": 43,
    "start_time": "2022-01-12T20:28:43.168Z"
   },
   {
    "duration": 57,
    "start_time": "2022-01-12T20:28:43.213Z"
   },
   {
    "duration": 12,
    "start_time": "2022-01-12T20:28:43.273Z"
   },
   {
    "duration": 17,
    "start_time": "2022-01-12T20:28:43.287Z"
   },
   {
    "duration": 23,
    "start_time": "2022-01-12T20:28:43.306Z"
   },
   {
    "duration": 31,
    "start_time": "2022-01-12T20:28:43.331Z"
   },
   {
    "duration": 19,
    "start_time": "2022-01-12T20:28:43.364Z"
   },
   {
    "duration": 28,
    "start_time": "2022-01-12T20:28:43.385Z"
   },
   {
    "duration": 21,
    "start_time": "2022-01-12T20:28:43.414Z"
   },
   {
    "duration": 29,
    "start_time": "2022-01-12T20:28:43.461Z"
   },
   {
    "duration": 9,
    "start_time": "2022-01-12T20:28:43.491Z"
   },
   {
    "duration": 31,
    "start_time": "2022-01-12T20:28:43.502Z"
   },
   {
    "duration": 37,
    "start_time": "2022-01-12T20:28:43.537Z"
   },
   {
    "duration": 31,
    "start_time": "2022-01-12T20:28:43.577Z"
   },
   {
    "duration": 6,
    "start_time": "2022-01-12T20:28:43.610Z"
   },
   {
    "duration": 23,
    "start_time": "2022-01-12T20:28:43.617Z"
   },
   {
    "duration": 22,
    "start_time": "2022-01-12T20:28:43.665Z"
   },
   {
    "duration": 5,
    "start_time": "2022-01-12T20:28:43.689Z"
   },
   {
    "duration": 19,
    "start_time": "2022-01-12T20:28:43.695Z"
   },
   {
    "duration": 16,
    "start_time": "2022-01-12T20:28:43.715Z"
   },
   {
    "duration": 6,
    "start_time": "2022-01-12T20:28:43.732Z"
   },
   {
    "duration": 24,
    "start_time": "2022-01-12T20:28:43.739Z"
   },
   {
    "duration": 12,
    "start_time": "2022-01-12T20:28:43.765Z"
   },
   {
    "duration": 23,
    "start_time": "2022-01-12T20:28:43.779Z"
   },
   {
    "duration": 87,
    "start_time": "2022-01-12T20:28:43.804Z"
   },
   {
    "duration": 7,
    "start_time": "2022-01-12T20:28:43.893Z"
   },
   {
    "duration": 87,
    "start_time": "2022-01-12T20:28:43.901Z"
   },
   {
    "duration": 80,
    "start_time": "2022-01-12T20:28:43.990Z"
   },
   {
    "duration": 9,
    "start_time": "2022-01-12T20:28:44.073Z"
   },
   {
    "duration": 5,
    "start_time": "2022-01-12T20:28:44.084Z"
   },
   {
    "duration": 130,
    "start_time": "2022-01-12T20:28:44.091Z"
   },
   {
    "duration": 13,
    "start_time": "2022-01-12T20:28:44.222Z"
   },
   {
    "duration": 209,
    "start_time": "2022-01-12T20:28:44.237Z"
   },
   {
    "duration": 361,
    "start_time": "2022-01-12T20:28:44.448Z"
   },
   {
    "duration": 4,
    "start_time": "2022-01-12T20:28:44.811Z"
   },
   {
    "duration": 5,
    "start_time": "2022-01-12T20:28:44.817Z"
   },
   {
    "duration": 6,
    "start_time": "2022-01-12T20:28:44.823Z"
   },
   {
    "duration": 5,
    "start_time": "2022-01-12T20:28:44.831Z"
   },
   {
    "duration": 30,
    "start_time": "2022-01-12T20:28:44.837Z"
   },
   {
    "duration": 12,
    "start_time": "2022-01-12T20:28:44.869Z"
   },
   {
    "duration": 227,
    "start_time": "2022-01-12T20:28:44.882Z"
   },
   {
    "duration": 376,
    "start_time": "2022-01-12T20:28:45.111Z"
   },
   {
    "duration": 5,
    "start_time": "2022-01-12T20:28:45.488Z"
   },
   {
    "duration": 10,
    "start_time": "2022-01-12T20:28:45.495Z"
   },
   {
    "duration": 7,
    "start_time": "2022-01-12T20:28:45.507Z"
   },
   {
    "duration": 7,
    "start_time": "2022-01-12T20:28:45.516Z"
   },
   {
    "duration": 8,
    "start_time": "2022-01-12T20:28:45.524Z"
   },
   {
    "duration": 243,
    "start_time": "2022-01-12T20:28:45.533Z"
   },
   {
    "duration": 369,
    "start_time": "2022-01-12T20:28:45.778Z"
   },
   {
    "duration": 4,
    "start_time": "2022-01-12T20:28:46.149Z"
   },
   {
    "duration": 8,
    "start_time": "2022-01-12T20:28:46.165Z"
   },
   {
    "duration": 7,
    "start_time": "2022-01-12T20:28:46.176Z"
   },
   {
    "duration": 7,
    "start_time": "2022-01-12T20:28:46.184Z"
   },
   {
    "duration": 13,
    "start_time": "2022-01-12T20:28:46.192Z"
   },
   {
    "duration": 15,
    "start_time": "2022-01-12T20:28:46.207Z"
   },
   {
    "duration": 241,
    "start_time": "2022-01-12T20:28:46.224Z"
   },
   {
    "duration": 398,
    "start_time": "2022-01-12T20:28:46.468Z"
   },
   {
    "duration": 5,
    "start_time": "2022-01-12T20:28:46.873Z"
   },
   {
    "duration": 22,
    "start_time": "2022-01-12T20:28:46.881Z"
   },
   {
    "duration": 7,
    "start_time": "2022-01-12T20:28:46.905Z"
   },
   {
    "duration": 8,
    "start_time": "2022-01-12T20:28:46.914Z"
   },
   {
    "duration": 7,
    "start_time": "2022-01-12T20:28:46.924Z"
   },
   {
    "duration": 11,
    "start_time": "2022-01-12T20:28:46.933Z"
   },
   {
    "duration": 247,
    "start_time": "2022-01-12T20:28:46.961Z"
   },
   {
    "duration": 346,
    "start_time": "2022-01-12T20:28:47.210Z"
   },
   {
    "duration": 7,
    "start_time": "2022-01-12T20:28:47.562Z"
   },
   {
    "duration": 8,
    "start_time": "2022-01-12T20:28:47.571Z"
   },
   {
    "duration": 12,
    "start_time": "2022-01-12T20:28:47.580Z"
   },
   {
    "duration": 12,
    "start_time": "2022-01-12T20:28:47.593Z"
   },
   {
    "duration": 8,
    "start_time": "2022-01-12T20:28:47.607Z"
   },
   {
    "duration": 337,
    "start_time": "2022-01-12T20:28:47.617Z"
   },
   {
    "duration": 374,
    "start_time": "2022-01-12T20:28:47.955Z"
   },
   {
    "duration": 3,
    "start_time": "2022-01-12T20:28:48.331Z"
   },
   {
    "duration": 9,
    "start_time": "2022-01-12T20:28:48.336Z"
   },
   {
    "duration": 14,
    "start_time": "2022-01-12T20:28:48.347Z"
   },
   {
    "duration": 5,
    "start_time": "2022-01-12T20:28:48.363Z"
   },
   {
    "duration": 9,
    "start_time": "2022-01-12T20:28:48.370Z"
   },
   {
    "duration": 310,
    "start_time": "2022-01-12T20:28:48.383Z"
   },
   {
    "duration": 272,
    "start_time": "2022-01-12T20:28:48.695Z"
   },
   {
    "duration": 295,
    "start_time": "2022-01-12T20:28:48.969Z"
   },
   {
    "duration": 251,
    "start_time": "2022-01-12T20:28:49.267Z"
   },
   {
    "duration": 4,
    "start_time": "2022-01-12T20:28:49.520Z"
   },
   {
    "duration": 6,
    "start_time": "2022-01-12T20:28:49.525Z"
   },
   {
    "duration": 6,
    "start_time": "2022-01-12T20:28:49.532Z"
   },
   {
    "duration": 6,
    "start_time": "2022-01-12T20:28:49.539Z"
   },
   {
    "duration": 26,
    "start_time": "2022-01-12T20:28:49.565Z"
   },
   {
    "duration": 15,
    "start_time": "2022-01-12T20:28:49.593Z"
   },
   {
    "duration": 15,
    "start_time": "2022-01-12T20:28:49.610Z"
   },
   {
    "duration": 4,
    "start_time": "2022-01-12T20:28:49.626Z"
   },
   {
    "duration": 36,
    "start_time": "2022-01-12T20:28:49.632Z"
   },
   {
    "duration": 1147,
    "start_time": "2022-01-12T20:32:05.446Z"
   },
   {
    "duration": 297,
    "start_time": "2022-01-12T20:32:06.595Z"
   },
   {
    "duration": -1587,
    "start_time": "2022-01-12T20:32:08.486Z"
   },
   {
    "duration": -1599,
    "start_time": "2022-01-12T20:32:08.500Z"
   },
   {
    "duration": -1612,
    "start_time": "2022-01-12T20:32:08.514Z"
   },
   {
    "duration": -1625,
    "start_time": "2022-01-12T20:32:08.528Z"
   },
   {
    "duration": -1640,
    "start_time": "2022-01-12T20:32:08.544Z"
   },
   {
    "duration": -1650,
    "start_time": "2022-01-12T20:32:08.556Z"
   },
   {
    "duration": -1682,
    "start_time": "2022-01-12T20:32:08.589Z"
   },
   {
    "duration": -1693,
    "start_time": "2022-01-12T20:32:08.601Z"
   },
   {
    "duration": -1706,
    "start_time": "2022-01-12T20:32:08.616Z"
   },
   {
    "duration": -1718,
    "start_time": "2022-01-12T20:32:08.629Z"
   },
   {
    "duration": -1731,
    "start_time": "2022-01-12T20:32:08.643Z"
   },
   {
    "duration": -1743,
    "start_time": "2022-01-12T20:32:08.657Z"
   },
   {
    "duration": -1758,
    "start_time": "2022-01-12T20:32:08.673Z"
   },
   {
    "duration": -1788,
    "start_time": "2022-01-12T20:32:08.704Z"
   },
   {
    "duration": -1801,
    "start_time": "2022-01-12T20:32:08.719Z"
   },
   {
    "duration": -1813,
    "start_time": "2022-01-12T20:32:08.732Z"
   },
   {
    "duration": -1828,
    "start_time": "2022-01-12T20:32:08.748Z"
   },
   {
    "duration": -1839,
    "start_time": "2022-01-12T20:32:08.761Z"
   },
   {
    "duration": -1852,
    "start_time": "2022-01-12T20:32:08.775Z"
   },
   {
    "duration": -1862,
    "start_time": "2022-01-12T20:32:08.787Z"
   },
   {
    "duration": -1876,
    "start_time": "2022-01-12T20:32:08.802Z"
   },
   {
    "duration": -1905,
    "start_time": "2022-01-12T20:32:08.833Z"
   },
   {
    "duration": -1917,
    "start_time": "2022-01-12T20:32:08.847Z"
   },
   {
    "duration": -1928,
    "start_time": "2022-01-12T20:32:08.859Z"
   },
   {
    "duration": -1942,
    "start_time": "2022-01-12T20:32:08.874Z"
   },
   {
    "duration": -1953,
    "start_time": "2022-01-12T20:32:08.886Z"
   },
   {
    "duration": -1965,
    "start_time": "2022-01-12T20:32:08.899Z"
   },
   {
    "duration": -1975,
    "start_time": "2022-01-12T20:32:08.911Z"
   },
   {
    "duration": -1989,
    "start_time": "2022-01-12T20:32:08.926Z"
   },
   {
    "duration": -2019,
    "start_time": "2022-01-12T20:32:08.957Z"
   },
   {
    "duration": -2033,
    "start_time": "2022-01-12T20:32:08.971Z"
   },
   {
    "duration": -2022,
    "start_time": "2022-01-12T20:32:08.983Z"
   },
   {
    "duration": -2035,
    "start_time": "2022-01-12T20:32:08.998Z"
   },
   {
    "duration": -2046,
    "start_time": "2022-01-12T20:32:09.010Z"
   },
   {
    "duration": -2059,
    "start_time": "2022-01-12T20:32:09.024Z"
   },
   {
    "duration": -2069,
    "start_time": "2022-01-12T20:32:09.036Z"
   },
   {
    "duration": -2082,
    "start_time": "2022-01-12T20:32:09.050Z"
   },
   {
    "duration": -2111,
    "start_time": "2022-01-12T20:32:09.080Z"
   },
   {
    "duration": -2124,
    "start_time": "2022-01-12T20:32:09.095Z"
   },
   {
    "duration": -2133,
    "start_time": "2022-01-12T20:32:09.108Z"
   },
   {
    "duration": -2146,
    "start_time": "2022-01-12T20:32:09.122Z"
   },
   {
    "duration": -2158,
    "start_time": "2022-01-12T20:32:09.135Z"
   },
   {
    "duration": -2169,
    "start_time": "2022-01-12T20:32:09.148Z"
   },
   {
    "duration": -2180,
    "start_time": "2022-01-12T20:32:09.160Z"
   },
   {
    "duration": -2193,
    "start_time": "2022-01-12T20:32:09.174Z"
   },
   {
    "duration": -2223,
    "start_time": "2022-01-12T20:32:09.205Z"
   },
   {
    "duration": -2236,
    "start_time": "2022-01-12T20:32:09.219Z"
   },
   {
    "duration": -2247,
    "start_time": "2022-01-12T20:32:09.231Z"
   },
   {
    "duration": -2260,
    "start_time": "2022-01-12T20:32:09.245Z"
   },
   {
    "duration": -2272,
    "start_time": "2022-01-12T20:32:09.258Z"
   },
   {
    "duration": -2285,
    "start_time": "2022-01-12T20:32:09.272Z"
   },
   {
    "duration": -2296,
    "start_time": "2022-01-12T20:32:09.284Z"
   },
   {
    "duration": -2308,
    "start_time": "2022-01-12T20:32:09.297Z"
   },
   {
    "duration": -2338,
    "start_time": "2022-01-12T20:32:09.328Z"
   },
   {
    "duration": -2352,
    "start_time": "2022-01-12T20:32:09.343Z"
   },
   {
    "duration": -2363,
    "start_time": "2022-01-12T20:32:09.355Z"
   },
   {
    "duration": -2376,
    "start_time": "2022-01-12T20:32:09.369Z"
   },
   {
    "duration": -2388,
    "start_time": "2022-01-12T20:32:09.382Z"
   },
   {
    "duration": -2401,
    "start_time": "2022-01-12T20:32:09.396Z"
   },
   {
    "duration": -2412,
    "start_time": "2022-01-12T20:32:09.408Z"
   },
   {
    "duration": -2426,
    "start_time": "2022-01-12T20:32:09.423Z"
   },
   {
    "duration": -2456,
    "start_time": "2022-01-12T20:32:09.454Z"
   },
   {
    "duration": -2470,
    "start_time": "2022-01-12T20:32:09.469Z"
   },
   {
    "duration": -2481,
    "start_time": "2022-01-12T20:32:09.481Z"
   },
   {
    "duration": -2494,
    "start_time": "2022-01-12T20:32:09.495Z"
   },
   {
    "duration": -2506,
    "start_time": "2022-01-12T20:32:09.508Z"
   },
   {
    "duration": -2520,
    "start_time": "2022-01-12T20:32:09.522Z"
   },
   {
    "duration": -2531,
    "start_time": "2022-01-12T20:32:09.534Z"
   },
   {
    "duration": -2482,
    "start_time": "2022-01-12T20:32:09.547Z"
   },
   {
    "duration": -2512,
    "start_time": "2022-01-12T20:32:09.578Z"
   },
   {
    "duration": -2528,
    "start_time": "2022-01-12T20:32:09.595Z"
   },
   {
    "duration": -2533,
    "start_time": "2022-01-12T20:32:09.607Z"
   },
   {
    "duration": -2546,
    "start_time": "2022-01-12T20:32:09.621Z"
   },
   {
    "duration": -2557,
    "start_time": "2022-01-12T20:32:09.633Z"
   },
   {
    "duration": -2570,
    "start_time": "2022-01-12T20:32:09.647Z"
   },
   {
    "duration": -2581,
    "start_time": "2022-01-12T20:32:09.660Z"
   },
   {
    "duration": -2593,
    "start_time": "2022-01-12T20:32:09.673Z"
   },
   {
    "duration": -2629,
    "start_time": "2022-01-12T20:32:09.710Z"
   },
   {
    "duration": -2702,
    "start_time": "2022-01-12T20:32:09.784Z"
   },
   {
    "duration": -2818,
    "start_time": "2022-01-12T20:32:09.901Z"
   },
   {
    "duration": -2858,
    "start_time": "2022-01-12T20:32:09.942Z"
   },
   {
    "duration": -2871,
    "start_time": "2022-01-12T20:32:09.955Z"
   },
   {
    "duration": -2884,
    "start_time": "2022-01-12T20:32:09.969Z"
   },
   {
    "duration": -2895,
    "start_time": "2022-01-12T20:32:09.981Z"
   },
   {
    "duration": -2908,
    "start_time": "2022-01-12T20:32:09.995Z"
   },
   {
    "duration": -2920,
    "start_time": "2022-01-12T20:32:10.008Z"
   },
   {
    "duration": -2934,
    "start_time": "2022-01-12T20:32:10.022Z"
   },
   {
    "duration": -2945,
    "start_time": "2022-01-12T20:32:10.034Z"
   },
   {
    "duration": -2983,
    "start_time": "2022-01-12T20:32:10.073Z"
   },
   {
    "duration": -2996,
    "start_time": "2022-01-12T20:32:10.087Z"
   },
   {
    "duration": -3010,
    "start_time": "2022-01-12T20:32:10.102Z"
   },
   {
    "duration": -3021,
    "start_time": "2022-01-12T20:32:10.114Z"
   },
   {
    "duration": -3034,
    "start_time": "2022-01-12T20:32:10.128Z"
   },
   {
    "duration": -3045,
    "start_time": "2022-01-12T20:32:10.140Z"
   },
   {
    "duration": -3058,
    "start_time": "2022-01-12T20:32:10.154Z"
   },
   {
    "duration": -3095,
    "start_time": "2022-01-12T20:32:10.192Z"
   },
   {
    "duration": -3108,
    "start_time": "2022-01-12T20:32:10.206Z"
   },
   {
    "duration": -3119,
    "start_time": "2022-01-12T20:32:10.218Z"
   },
   {
    "duration": -3132,
    "start_time": "2022-01-12T20:32:10.232Z"
   },
   {
    "duration": -3142,
    "start_time": "2022-01-12T20:32:10.244Z"
   },
   {
    "duration": -3156,
    "start_time": "2022-01-12T20:32:10.258Z"
   },
   {
    "duration": -3105,
    "start_time": "2022-01-12T20:32:10.270Z"
   },
   {
    "duration": 210,
    "start_time": "2022-01-12T20:32:34.880Z"
   },
   {
    "duration": 47,
    "start_time": "2022-01-12T20:33:37.573Z"
   },
   {
    "duration": 1183,
    "start_time": "2022-01-12T20:33:55.947Z"
   },
   {
    "duration": 43,
    "start_time": "2022-01-12T20:33:57.132Z"
   },
   {
    "duration": 12,
    "start_time": "2022-01-12T20:33:57.178Z"
   },
   {
    "duration": 17,
    "start_time": "2022-01-12T20:33:57.192Z"
   },
   {
    "duration": 1682,
    "start_time": "2022-01-12T20:33:57.211Z"
   },
   {
    "duration": 13,
    "start_time": "2022-01-12T20:33:58.894Z"
   },
   {
    "duration": 26,
    "start_time": "2022-01-12T20:33:58.909Z"
   },
   {
    "duration": 988,
    "start_time": "2022-01-12T20:33:58.938Z"
   },
   {
    "duration": 11,
    "start_time": "2022-01-12T20:33:59.928Z"
   },
   {
    "duration": 1273,
    "start_time": "2022-01-12T20:33:59.941Z"
   },
   {
    "duration": 11,
    "start_time": "2022-01-12T20:34:01.216Z"
   },
   {
    "duration": 24,
    "start_time": "2022-01-12T20:34:01.229Z"
   },
   {
    "duration": 27,
    "start_time": "2022-01-12T20:34:01.255Z"
   },
   {
    "duration": 122,
    "start_time": "2022-01-12T20:34:01.285Z"
   },
   {
    "duration": 38,
    "start_time": "2022-01-12T20:34:01.409Z"
   },
   {
    "duration": 45,
    "start_time": "2022-01-12T20:34:01.461Z"
   },
   {
    "duration": 28,
    "start_time": "2022-01-12T20:34:01.508Z"
   },
   {
    "duration": 38,
    "start_time": "2022-01-12T20:34:01.538Z"
   },
   {
    "duration": 27,
    "start_time": "2022-01-12T20:34:01.577Z"
   },
   {
    "duration": 9,
    "start_time": "2022-01-12T20:34:01.606Z"
   },
   {
    "duration": 23,
    "start_time": "2022-01-12T20:34:01.617Z"
   },
   {
    "duration": 53,
    "start_time": "2022-01-12T20:34:01.642Z"
   },
   {
    "duration": 24,
    "start_time": "2022-01-12T20:34:01.702Z"
   },
   {
    "duration": 44,
    "start_time": "2022-01-12T20:34:01.728Z"
   },
   {
    "duration": 16,
    "start_time": "2022-01-12T20:34:01.774Z"
   },
   {
    "duration": 54,
    "start_time": "2022-01-12T20:34:01.793Z"
   },
   {
    "duration": 10,
    "start_time": "2022-01-12T20:34:01.865Z"
   },
   {
    "duration": 46,
    "start_time": "2022-01-12T20:34:01.877Z"
   },
   {
    "duration": 16,
    "start_time": "2022-01-12T20:34:01.925Z"
   },
   {
    "duration": 55,
    "start_time": "2022-01-12T20:34:01.943Z"
   },
   {
    "duration": 17,
    "start_time": "2022-01-12T20:34:02.000Z"
   },
   {
    "duration": 13,
    "start_time": "2022-01-12T20:34:02.018Z"
   },
   {
    "duration": 8,
    "start_time": "2022-01-12T20:34:02.033Z"
   },
   {
    "duration": 35,
    "start_time": "2022-01-12T20:34:02.043Z"
   },
   {
    "duration": 6,
    "start_time": "2022-01-12T20:34:02.080Z"
   },
   {
    "duration": 22,
    "start_time": "2022-01-12T20:34:02.088Z"
   },
   {
    "duration": 19,
    "start_time": "2022-01-12T20:34:02.112Z"
   },
   {
    "duration": 43,
    "start_time": "2022-01-12T20:34:02.133Z"
   },
   {
    "duration": 91,
    "start_time": "2022-01-12T20:34:02.179Z"
   },
   {
    "duration": 10,
    "start_time": "2022-01-12T20:34:02.273Z"
   },
   {
    "duration": 120,
    "start_time": "2022-01-12T20:34:02.285Z"
   },
   {
    "duration": 81,
    "start_time": "2022-01-12T20:34:02.407Z"
   },
   {
    "duration": 6,
    "start_time": "2022-01-12T20:34:02.490Z"
   },
   {
    "duration": 17,
    "start_time": "2022-01-12T20:34:02.498Z"
   },
   {
    "duration": 122,
    "start_time": "2022-01-12T20:34:02.516Z"
   },
   {
    "duration": 23,
    "start_time": "2022-01-12T20:34:02.640Z"
   },
   {
    "duration": 282,
    "start_time": "2022-01-12T20:34:02.666Z"
   },
   {
    "duration": 372,
    "start_time": "2022-01-12T20:34:02.950Z"
   },
   {
    "duration": 6,
    "start_time": "2022-01-12T20:34:03.324Z"
   },
   {
    "duration": 9,
    "start_time": "2022-01-12T20:34:03.332Z"
   },
   {
    "duration": 27,
    "start_time": "2022-01-12T20:34:03.343Z"
   },
   {
    "duration": 11,
    "start_time": "2022-01-12T20:34:03.372Z"
   },
   {
    "duration": 11,
    "start_time": "2022-01-12T20:34:03.384Z"
   },
   {
    "duration": 10,
    "start_time": "2022-01-12T20:34:03.397Z"
   },
   {
    "duration": 233,
    "start_time": "2022-01-12T20:34:03.409Z"
   },
   {
    "duration": 364,
    "start_time": "2022-01-12T20:34:03.645Z"
   },
   {
    "duration": 5,
    "start_time": "2022-01-12T20:34:04.011Z"
   },
   {
    "duration": 7,
    "start_time": "2022-01-12T20:34:04.018Z"
   },
   {
    "duration": 9,
    "start_time": "2022-01-12T20:34:04.026Z"
   },
   {
    "duration": 34,
    "start_time": "2022-01-12T20:34:04.036Z"
   },
   {
    "duration": 20,
    "start_time": "2022-01-12T20:34:04.073Z"
   },
   {
    "duration": 217,
    "start_time": "2022-01-12T20:34:04.095Z"
   },
   {
    "duration": 374,
    "start_time": "2022-01-12T20:34:04.314Z"
   },
   {
    "duration": 4,
    "start_time": "2022-01-12T20:34:04.689Z"
   },
   {
    "duration": 14,
    "start_time": "2022-01-12T20:34:04.695Z"
   },
   {
    "duration": 9,
    "start_time": "2022-01-12T20:34:04.710Z"
   },
   {
    "duration": 16,
    "start_time": "2022-01-12T20:34:04.721Z"
   },
   {
    "duration": 8,
    "start_time": "2022-01-12T20:34:04.742Z"
   },
   {
    "duration": 23,
    "start_time": "2022-01-12T20:34:04.761Z"
   },
   {
    "duration": 218,
    "start_time": "2022-01-12T20:34:04.786Z"
   },
   {
    "duration": 369,
    "start_time": "2022-01-12T20:34:05.005Z"
   },
   {
    "duration": 3,
    "start_time": "2022-01-12T20:34:05.376Z"
   },
   {
    "duration": 10,
    "start_time": "2022-01-12T20:34:05.381Z"
   },
   {
    "duration": 10,
    "start_time": "2022-01-12T20:34:05.393Z"
   },
   {
    "duration": 8,
    "start_time": "2022-01-12T20:34:05.404Z"
   },
   {
    "duration": 12,
    "start_time": "2022-01-12T20:34:05.414Z"
   },
   {
    "duration": 41,
    "start_time": "2022-01-12T20:34:05.428Z"
   },
   {
    "duration": 208,
    "start_time": "2022-01-12T20:34:05.471Z"
   },
   {
    "duration": 441,
    "start_time": "2022-01-12T20:34:05.681Z"
   },
   {
    "duration": 4,
    "start_time": "2022-01-12T20:34:06.123Z"
   },
   {
    "duration": 5,
    "start_time": "2022-01-12T20:34:06.129Z"
   },
   {
    "duration": 25,
    "start_time": "2022-01-12T20:34:06.136Z"
   },
   {
    "duration": 8,
    "start_time": "2022-01-12T20:34:06.164Z"
   },
   {
    "duration": 8,
    "start_time": "2022-01-12T20:34:06.175Z"
   },
   {
    "duration": 229,
    "start_time": "2022-01-12T20:34:06.184Z"
   },
   {
    "duration": 375,
    "start_time": "2022-01-12T20:34:06.415Z"
   },
   {
    "duration": 3,
    "start_time": "2022-01-12T20:34:06.792Z"
   },
   {
    "duration": 13,
    "start_time": "2022-01-12T20:34:06.797Z"
   },
   {
    "duration": 11,
    "start_time": "2022-01-12T20:34:06.812Z"
   },
   {
    "duration": 8,
    "start_time": "2022-01-12T20:34:06.824Z"
   },
   {
    "duration": 9,
    "start_time": "2022-01-12T20:34:06.834Z"
   },
   {
    "duration": 320,
    "start_time": "2022-01-12T20:34:06.845Z"
   },
   {
    "duration": 306,
    "start_time": "2022-01-12T20:34:07.167Z"
   },
   {
    "duration": 292,
    "start_time": "2022-01-12T20:34:07.476Z"
   },
   {
    "duration": 243,
    "start_time": "2022-01-12T20:34:07.770Z"
   },
   {
    "duration": 4,
    "start_time": "2022-01-12T20:34:08.014Z"
   },
   {
    "duration": 6,
    "start_time": "2022-01-12T20:34:08.020Z"
   },
   {
    "duration": 8,
    "start_time": "2022-01-12T20:34:08.028Z"
   },
   {
    "duration": 26,
    "start_time": "2022-01-12T20:34:08.037Z"
   },
   {
    "duration": 34,
    "start_time": "2022-01-12T20:34:08.067Z"
   },
   {
    "duration": 16,
    "start_time": "2022-01-12T20:34:08.102Z"
   },
   {
    "duration": 16,
    "start_time": "2022-01-12T20:34:08.120Z"
   },
   {
    "duration": 26,
    "start_time": "2022-01-12T20:34:08.137Z"
   },
   {
    "duration": 14,
    "start_time": "2022-01-12T20:34:08.165Z"
   }
  ],
  "kernelspec": {
   "display_name": "Python 3",
   "language": "python",
   "name": "python3"
  },
  "language_info": {
   "codemirror_mode": {
    "name": "ipython",
    "version": 3
   },
   "file_extension": ".py",
   "mimetype": "text/x-python",
   "name": "python",
   "nbconvert_exporter": "python",
   "pygments_lexer": "ipython3",
   "version": "3.7.3"
  },
  "toc": {
   "base_numbering": 1,
   "nav_menu": {
    "height": "545px",
    "width": "476.992px"
   },
   "number_sections": true,
   "sideBar": true,
   "skip_h1_title": true,
   "title_cell": "Table of Contents",
   "title_sidebar": "Contents",
   "toc_cell": false,
   "toc_position": {
    "height": "766.25px",
    "left": "24px",
    "top": "139.855px",
    "width": "382.5px"
   },
   "toc_section_display": true,
   "toc_window_display": true
  }
 },
 "nbformat": 4,
 "nbformat_minor": 2
}
