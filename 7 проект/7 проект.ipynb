{
 "cells": [
  {
   "cell_type": "markdown",
   "metadata": {},
   "source": [
    "<a href='#1'>  Изучение данных и подготовка к анализу</a>\n",
    "\n",
    "<a href='#2'> Анализ данных </a>\n",
    "\n",
    "<a href='#2.1'>  Cоотношение видов объектов общественного питания по количеству </a>\n",
    "\n",
    "<a href='#2.2'> Cоотношение сетевых и несетевых заведений по количеству </a>\n",
    "\n",
    "<a href='#2.3'> Для какого вида объекта общественного питания характерно сетевое распространение </a>\n",
    "\n",
    "<a href='#2.4'>  Что характерно для сетевых заведений: много заведений с небольшим числом посадочных мест в каждом или мало заведений с большим количеством посадочных мест? </a>\n",
    "\n",
    "<a href='#2.5'>  Среднее количество посадочных мест </a>\n",
    "\n",
    "<a href='#2.6'> Топ-10 улиц по количеству объектов общественного питания </a>\n",
    "\n",
    "<a href='#2.7'> Число улиц с одним объектом общественного питания </a>\n",
    "\n",
    "<a href='#2.8'> Распределение количества посадочных мест для улиц с большим количеством объектов общественного питания </a>\n",
    "\n",
    "<a href='#3'> Вывод </a>\n",
    "\n",
    "<a href='#4'> Презентация </a>"
   ]
  },
  {
   "cell_type": "markdown",
   "metadata": {},
   "source": [
    "# Исследование рынка заведений общественного питания "
   ]
  },
  {
   "cell_type": "markdown",
   "metadata": {},
   "source": [
    "Прежде чем инвестировать в проект кафе, с роботами в качестве официантов, инвесторов интересует текущее положение дел на рынке — сможет ли заведение быть популярным долгое время, когда все насмотрятся на роботов-официантов? \n",
    "Задача: подготовить исследование рынка на основании открытых данных о заведениях общественного питания в Москве."
   ]
  },
  {
   "cell_type": "markdown",
   "metadata": {},
   "source": [
    "Описание данных\n",
    "\n",
    "Таблица **rest_data**:\n",
    "\n",
    "* id — идентификатор объекта;\n",
    "* object_name — название объекта общественного питания;\n",
    "* chain — сетевой ресторан;\n",
    "* object_type — тип объекта общественного питания;\n",
    "* address — адрес;\n",
    "* number — количество посадочных мест.\n"
   ]
  },
  {
   "cell_type": "code",
   "execution_count": 1,
   "metadata": {},
   "outputs": [],
   "source": [
    "import pandas as pd\n",
    "import matplotlib.pyplot as plt\n",
    "import seaborn as sns\n",
    "import plotly.express as px\n",
    "from plotly import graph_objects as go\n",
    "from datetime import datetime\n",
    "from pandas.plotting import register_matplotlib_converters\n",
    "register_matplotlib_converters()\n",
    "import numpy as np"
   ]
  },
  {
   "cell_type": "markdown",
   "metadata": {},
   "source": [
    "<a id='1'></a>"
   ]
  },
  {
   "cell_type": "markdown",
   "metadata": {},
   "source": [
    "## Изучение данных и подготовка к анализу"
   ]
  },
  {
   "cell_type": "code",
   "execution_count": 2,
   "metadata": {},
   "outputs": [
    {
     "data": {
      "text/html": [
       "<div>\n",
       "<style scoped>\n",
       "    .dataframe tbody tr th:only-of-type {\n",
       "        vertical-align: middle;\n",
       "    }\n",
       "\n",
       "    .dataframe tbody tr th {\n",
       "        vertical-align: top;\n",
       "    }\n",
       "\n",
       "    .dataframe thead th {\n",
       "        text-align: right;\n",
       "    }\n",
       "</style>\n",
       "<table border=\"1\" class=\"dataframe\">\n",
       "  <thead>\n",
       "    <tr style=\"text-align: right;\">\n",
       "      <th></th>\n",
       "      <th>id</th>\n",
       "      <th>object_name</th>\n",
       "      <th>chain</th>\n",
       "      <th>object_type</th>\n",
       "      <th>address</th>\n",
       "      <th>number</th>\n",
       "    </tr>\n",
       "  </thead>\n",
       "  <tbody>\n",
       "    <tr>\n",
       "      <th>0</th>\n",
       "      <td>151635</td>\n",
       "      <td>СМЕТАНА</td>\n",
       "      <td>нет</td>\n",
       "      <td>кафе</td>\n",
       "      <td>город Москва, улица Егора Абакумова, дом 9</td>\n",
       "      <td>48</td>\n",
       "    </tr>\n",
       "    <tr>\n",
       "      <th>1</th>\n",
       "      <td>77874</td>\n",
       "      <td>Родник</td>\n",
       "      <td>нет</td>\n",
       "      <td>кафе</td>\n",
       "      <td>город Москва, улица Талалихина, дом 2/1, корпус 1</td>\n",
       "      <td>35</td>\n",
       "    </tr>\n",
       "    <tr>\n",
       "      <th>2</th>\n",
       "      <td>24309</td>\n",
       "      <td>Кафе «Академия»</td>\n",
       "      <td>нет</td>\n",
       "      <td>кафе</td>\n",
       "      <td>город Москва, Абельмановская улица, дом 6</td>\n",
       "      <td>95</td>\n",
       "    </tr>\n",
       "    <tr>\n",
       "      <th>3</th>\n",
       "      <td>21894</td>\n",
       "      <td>ПИЦЦЕТОРИЯ</td>\n",
       "      <td>да</td>\n",
       "      <td>кафе</td>\n",
       "      <td>город Москва, Абрамцевская улица, дом 1</td>\n",
       "      <td>40</td>\n",
       "    </tr>\n",
       "    <tr>\n",
       "      <th>4</th>\n",
       "      <td>119365</td>\n",
       "      <td>Кафе «Вишневая метель»</td>\n",
       "      <td>нет</td>\n",
       "      <td>кафе</td>\n",
       "      <td>город Москва, Абрамцевская улица, дом 9, корпус 1</td>\n",
       "      <td>50</td>\n",
       "    </tr>\n",
       "  </tbody>\n",
       "</table>\n",
       "</div>"
      ],
      "text/plain": [
       "       id             object_name chain object_type  \\\n",
       "0  151635                 СМЕТАНА   нет        кафе   \n",
       "1   77874                  Родник   нет        кафе   \n",
       "2   24309         Кафе «Академия»   нет        кафе   \n",
       "3   21894              ПИЦЦЕТОРИЯ    да        кафе   \n",
       "4  119365  Кафе «Вишневая метель»   нет        кафе   \n",
       "\n",
       "                                             address  number  \n",
       "0         город Москва, улица Егора Абакумова, дом 9      48  \n",
       "1  город Москва, улица Талалихина, дом 2/1, корпус 1      35  \n",
       "2          город Москва, Абельмановская улица, дом 6      95  \n",
       "3            город Москва, Абрамцевская улица, дом 1      40  \n",
       "4  город Москва, Абрамцевская улица, дом 9, корпус 1      50  "
      ]
     },
     "execution_count": 2,
     "metadata": {},
     "output_type": "execute_result"
    }
   ],
   "source": [
    "rest_data = pd.read_csv(path+'rest_data.csv')\n",
    "rest_data.head()"
   ]
  },
  {
   "cell_type": "code",
   "execution_count": 3,
   "metadata": {},
   "outputs": [
    {
     "name": "stdout",
     "output_type": "stream",
     "text": [
      "<class 'pandas.core.frame.DataFrame'>\n",
      "RangeIndex: 15366 entries, 0 to 15365\n",
      "Data columns (total 6 columns):\n",
      "id             15366 non-null int64\n",
      "object_name    15366 non-null object\n",
      "chain          15366 non-null object\n",
      "object_type    15366 non-null object\n",
      "address        15366 non-null object\n",
      "number         15366 non-null int64\n",
      "dtypes: int64(2), object(4)\n",
      "memory usage: 720.4+ KB\n"
     ]
    }
   ],
   "source": [
    "rest_data.info()"
   ]
  },
  {
   "cell_type": "markdown",
   "metadata": {},
   "source": [
    "Пропусков в данных нет. При рассмотрении первых строк таблицы видно, что в названиях используются буквы разного региста. ПРиведем все в нижний регистр."
   ]
  },
  {
   "cell_type": "code",
   "execution_count": 4,
   "metadata": {},
   "outputs": [],
   "source": [
    " rest_data['object_name'] =  rest_data.object_name.str.lower()"
   ]
  },
  {
   "cell_type": "code",
   "execution_count": 5,
   "metadata": {},
   "outputs": [
    {
     "data": {
      "text/html": [
       "<div>\n",
       "<style scoped>\n",
       "    .dataframe tbody tr th:only-of-type {\n",
       "        vertical-align: middle;\n",
       "    }\n",
       "\n",
       "    .dataframe tbody tr th {\n",
       "        vertical-align: top;\n",
       "    }\n",
       "\n",
       "    .dataframe thead th {\n",
       "        text-align: right;\n",
       "    }\n",
       "</style>\n",
       "<table border=\"1\" class=\"dataframe\">\n",
       "  <thead>\n",
       "    <tr style=\"text-align: right;\">\n",
       "      <th></th>\n",
       "      <th>id</th>\n",
       "      <th>object_name</th>\n",
       "      <th>chain</th>\n",
       "      <th>object_type</th>\n",
       "      <th>address</th>\n",
       "      <th>number</th>\n",
       "    </tr>\n",
       "  </thead>\n",
       "  <tbody>\n",
       "    <tr>\n",
       "      <th>0</th>\n",
       "      <td>151635</td>\n",
       "      <td>сметана</td>\n",
       "      <td>нет</td>\n",
       "      <td>кафе</td>\n",
       "      <td>город Москва, улица Егора Абакумова, дом 9</td>\n",
       "      <td>48</td>\n",
       "    </tr>\n",
       "    <tr>\n",
       "      <th>1</th>\n",
       "      <td>77874</td>\n",
       "      <td>родник</td>\n",
       "      <td>нет</td>\n",
       "      <td>кафе</td>\n",
       "      <td>город Москва, улица Талалихина, дом 2/1, корпус 1</td>\n",
       "      <td>35</td>\n",
       "    </tr>\n",
       "    <tr>\n",
       "      <th>2</th>\n",
       "      <td>24309</td>\n",
       "      <td>кафе «академия»</td>\n",
       "      <td>нет</td>\n",
       "      <td>кафе</td>\n",
       "      <td>город Москва, Абельмановская улица, дом 6</td>\n",
       "      <td>95</td>\n",
       "    </tr>\n",
       "    <tr>\n",
       "      <th>3</th>\n",
       "      <td>21894</td>\n",
       "      <td>пиццетория</td>\n",
       "      <td>да</td>\n",
       "      <td>кафе</td>\n",
       "      <td>город Москва, Абрамцевская улица, дом 1</td>\n",
       "      <td>40</td>\n",
       "    </tr>\n",
       "    <tr>\n",
       "      <th>4</th>\n",
       "      <td>119365</td>\n",
       "      <td>кафе «вишневая метель»</td>\n",
       "      <td>нет</td>\n",
       "      <td>кафе</td>\n",
       "      <td>город Москва, Абрамцевская улица, дом 9, корпус 1</td>\n",
       "      <td>50</td>\n",
       "    </tr>\n",
       "  </tbody>\n",
       "</table>\n",
       "</div>"
      ],
      "text/plain": [
       "       id             object_name chain object_type  \\\n",
       "0  151635                 сметана   нет        кафе   \n",
       "1   77874                  родник   нет        кафе   \n",
       "2   24309         кафе «академия»   нет        кафе   \n",
       "3   21894              пиццетория    да        кафе   \n",
       "4  119365  кафе «вишневая метель»   нет        кафе   \n",
       "\n",
       "                                             address  number  \n",
       "0         город Москва, улица Егора Абакумова, дом 9      48  \n",
       "1  город Москва, улица Талалихина, дом 2/1, корпус 1      35  \n",
       "2          город Москва, Абельмановская улица, дом 6      95  \n",
       "3            город Москва, Абрамцевская улица, дом 1      40  \n",
       "4  город Москва, Абрамцевская улица, дом 9, корпус 1      50  "
      ]
     },
     "execution_count": 5,
     "metadata": {},
     "output_type": "execute_result"
    }
   ],
   "source": [
    "rest_data.head()"
   ]
  },
  {
   "cell_type": "markdown",
   "metadata": {},
   "source": [
    "Кроме того видно, что в графе названия написан также тип объекта. Для объектов, относящихся к сетевым, такое написание будет принято как другое название, и заведение не будет отнесено к сети, к которой относится. "
   ]
  },
  {
   "cell_type": "code",
   "execution_count": 6,
   "metadata": {},
   "outputs": [
    {
     "data": {
      "text/plain": [
       "array(['кафе', 'столовая', 'закусочная',\n",
       "       'предприятие быстрого обслуживания', 'ресторан', 'кафетерий',\n",
       "       'буфет', 'бар', 'магазин (отдел кулинарии)'], dtype=object)"
      ]
     },
     "execution_count": 6,
     "metadata": {},
     "output_type": "execute_result"
    }
   ],
   "source": [
    "# выделим уникальные названия типов объектов\n",
    "rest_data['object_type'].unique()"
   ]
  },
  {
   "cell_type": "code",
   "execution_count": 7,
   "metadata": {},
   "outputs": [],
   "source": [
    " # уберем типы объектов из названий объектов\n",
    "words = ['кафе', 'столовая', 'закусочная',\n",
    "       'предприятие быстрого обслуживания', 'ресторан', 'кафетерий',\n",
    "       'буфет', 'бар', 'магазин (отдел кулинарии)','кофейня','кальянная','кондитерская','пиццерия','пбо'] \n",
    "for word in words: \n",
    "    rest_data['object_name'] = rest_data['object_name'].str.replace(word,'')\n",
    "\n"
   ]
  },
  {
   "cell_type": "markdown",
   "metadata": {},
   "source": [
    "Проверим сетевые заведения на дубликаты в названиях объектов. Проверим по некоторым самым популярный сетям (буквы: б,д,к,м,с,b,k,m,s)."
   ]
  },
  {
   "cell_type": "code",
   "execution_count": 8,
   "metadata": {},
   "outputs": [],
   "source": [
    "def checing (data, check):\n",
    "    for value in check:\n",
    "        result= [idx for idx in data if idx.lower().startswith(value.lower())]\n",
    "        print(value, result)\n",
    "        print()\n",
    "    return "
   ]
  },
  {
   "cell_type": "code",
   "execution_count": 9,
   "metadata": {},
   "outputs": [
    {
     "name": "stdout",
     "output_type": "stream",
     "text": [
      "б ['брусника', 'бургер кинг', 'бабай клаб', 'ботик петра', 'баскин роббинс', 'брава коста кофе', 'билла', 'бутчер бизон', 'бургер кинг burger king', 'бир хаус', 'брудер', 'бакинский бульвар', 'бекю', 'братья караваевы', 'бургер клаб', 'блинная', 'бир хаус паб', 'братья караваевых', 'бистро пронто', 'бенто wok', 'бодрый день кофе с собой', 'бб энд бургерс в&в бургер']\n",
      "\n",
      "д [\"домино'с пицца\", 'данкин донатс', 'джаганнат', 'додо пицца', 'две палочки', 'джон джоли', 'де марко', 'домашнее  сеть городских ', 'добрынинский и партнёры', 'дабл би', 'детское  «андерсон»', 'детский клуб «андерсон»', 'да пино', 'да пино (da pino)', 'дюшес', 'детское  «космик»', 'дорогая я перезвоню', 'дабл би блэк', \"домино'с пицца domino,s pizza\"]\n",
      "\n",
      "к ['кружка', 'кофе хаус', 'кулинарная лавка братьев караваевых братья караваевы', 'кофе с собой', 'крошка картошка', 'кофемания', 'кофе хаус. экспрессо и капучино ', 'кактус', 'кофе-бин', 'кофепорт', 'кофе-хаус', 'корчма «тарас бульба»', 'корчма тарас бульба', 'колбасофф', 'крепери де пари', 'кулинарная лавка братьев караваевых', 'коста кофе', 'кулинарное бюро', 'кулинарное бюро китчен', 'квартира 44', 'кебаб хаус', 'кофе хаус,экспресс', 'кофетун', 'кофе', 'кулинарное бюро kitchen', 'кофе тун', 'каро', 'космик', 'кофе с собой gate 42', 'каффе «wokker»', 'кофешоп coffeeshop company', 'кофе с собой «»', 'кальян- «мята lounge»', 'кальян-  «мята lounge»', 'кондитерия тирольские пироги', 'кальян- moskalyan', 'кофемания starbucks']\n",
      "\n",
      "м ['му-му', 'макдоналдс', 'магнолия', 'мюнгер', 'мимино', 'мята lounge', 'менза', 'маки-маки', 'милано пицца', 'макс бреннер', 'магбургер азс №16', 'магазин-кулинария «суши сет»', 'магбургер азс №17', 'мимино хинкальная', 'ми пьяче', 'метро к&к', 'москва - макдоналдс', 'магбургер', 'мистер картошка', 'меленка', 'марчеллис', 'молли гвинз', 'мск московская сеть кальянных', 'милти', 'мираторг', 'мята lounge шаболовка', 'мск московская сеть кальянных на шаболовке', 'мята lounge автозаводская', 'мясоroob', 'магазин готовой еды «милти»', 'мята lounge октябрьская', 'мята']\n",
      "\n",
      "с ['суши wok', 'суши вок', 'сабвей', 'советские времена', 'суши сет', 'сити пицца', 'стейк хаус гудман', 'сити', 'сушишоп', 'стардогs', 'старбакс starbucks', 'сытая утка', 'сварня', 'старина миллер', 'старина мюллер старина миллер', 'сабвей сушивок', 'суп ', 'спб', 'сабвей subway', 'старбакс', 'суши  «маки-маки»', 'сушиман', 'сро', 'стейк-хаус гудман', 'стардогs и шаурма', 'старбакс кофе', 'спорт- «космик»', 'семейный  «космик»', 'сеть магазинов «суши wok»', 'суши «маки-маки»', 'семейное  и  «андерсон»', 'сказка', 'стардогс стардогs', 'суши тун, хруст pizza, кофе тун', 'семейное  андерсон', 'советские времена чебуречная ссср', 'сувлаки', 'суши тун']\n",
      "\n",
      "b ['bierloga', 'burger club', 'bocconcino', 'black & white', 'bubbleology', 'boobo', 'beverly hills diner']\n",
      "\n",
      "k ['kfc', 'krispy creme', 'krispy krem', 'kfc волгоградский']\n",
      "\n",
      "m ['moskalyan', 'maki maki', 'm cafe хинкальная', 'marrakesh хинкальная', 'my box', 'movenpick', 'marmalato']\n",
      "\n",
      "s ['subway', 'starbucks', 'starlite diner', 'sushilka', 'starbucks кофе', 'starbucks, старбакс кофе', 'starbucks старбакс', 'starbucks coffee']\n",
      "\n"
     ]
    }
   ],
   "source": [
    "# выделим в отдельный список названия сетевых объектов\n",
    "chain_name = rest_data.loc[rest_data['chain'] == \"да\"]['object_name'].unique().tolist()\n",
    "check = ['б','д','к','м','с','b','k','m','s']\n",
    "checing (chain_name, check)"
   ]
  },
  {
   "cell_type": "markdown",
   "metadata": {},
   "source": [
    "Заменим найденные дубликаты в названиях."
   ]
  },
  {
   "cell_type": "code",
   "execution_count": 10,
   "metadata": {},
   "outputs": [],
   "source": [
    "synonym = {'макдоналдс':'москва - макдоналдс',\n",
    "          \"домино'с пицца\":\"домино'с пицца domino,s pizza\",\n",
    "          'бургер кинг':'бургер кинг burger king',\n",
    "          'kfc':'kfc волгоградский',\n",
    "          'мята lounge':['мята lounge шаболовка','мята lounge автозаводская','мята lounge октябрьская','кальянная «мята lounge»','кальян-  «мята lounge»', 'кальян- «мята lounge»'],\n",
    "          'милти':'магазин готовой еды «милти»',\n",
    "          'кофе-хаус':['кофе хаус. экспрессо и капучино ', 'кофе хаус,экспресс'],\n",
    "          'coffeeshop':['кофешоп coffeeshop company', 'coffeeshop company'],\n",
    "          'starbucks': ['кофемания starbucks','starbucks кофе','starbucks, старбакс кофе','starbucks старбакс','starbucks coffee','старбакс starbucks','старбакс','старбакс кофе'],\n",
    "          'суши wok': ['суши вок','сеть магазинов «суши wok»'],\n",
    "          'subway':['сабвей','сабвей subway']}\n",
    "def check_synonym(cell):\n",
    "    for name, syn in synonym.items():\n",
    "        if cell in syn:return name\n",
    "    return cell\n",
    "rest_data['object_name'] = rest_data['object_name'].apply(check_synonym)\n"
   ]
  },
  {
   "cell_type": "markdown",
   "metadata": {},
   "source": [
    "Данные обработаны, теперь можно приступить к анализу данных."
   ]
  },
  {
   "cell_type": "markdown",
   "metadata": {},
   "source": [
    "<a id='2'></a>"
   ]
  },
  {
   "cell_type": "markdown",
   "metadata": {},
   "source": [
    "## Анализ данных"
   ]
  },
  {
   "cell_type": "markdown",
   "metadata": {},
   "source": [
    "<a id='2.1'></a>"
   ]
  },
  {
   "cell_type": "markdown",
   "metadata": {},
   "source": [
    "### Cоотношение видов объектов общественного питания по количеству."
   ]
  },
  {
   "cell_type": "code",
   "execution_count": 11,
   "metadata": {},
   "outputs": [
    {
     "data": {
      "text/html": [
       "<div>\n",
       "<style scoped>\n",
       "    .dataframe tbody tr th:only-of-type {\n",
       "        vertical-align: middle;\n",
       "    }\n",
       "\n",
       "    .dataframe tbody tr th {\n",
       "        vertical-align: top;\n",
       "    }\n",
       "\n",
       "    .dataframe thead th {\n",
       "        text-align: right;\n",
       "    }\n",
       "</style>\n",
       "<table border=\"1\" class=\"dataframe\">\n",
       "  <thead>\n",
       "    <tr style=\"text-align: right;\">\n",
       "      <th></th>\n",
       "      <th>total</th>\n",
       "    </tr>\n",
       "    <tr>\n",
       "      <th>object_type</th>\n",
       "      <th></th>\n",
       "    </tr>\n",
       "  </thead>\n",
       "  <tbody>\n",
       "    <tr>\n",
       "      <th>кафе</th>\n",
       "      <td>6099</td>\n",
       "    </tr>\n",
       "    <tr>\n",
       "      <th>столовая</th>\n",
       "      <td>2587</td>\n",
       "    </tr>\n",
       "    <tr>\n",
       "      <th>ресторан</th>\n",
       "      <td>2285</td>\n",
       "    </tr>\n",
       "    <tr>\n",
       "      <th>предприятие быстрого обслуживания</th>\n",
       "      <td>1923</td>\n",
       "    </tr>\n",
       "    <tr>\n",
       "      <th>бар</th>\n",
       "      <td>856</td>\n",
       "    </tr>\n",
       "    <tr>\n",
       "      <th>буфет</th>\n",
       "      <td>585</td>\n",
       "    </tr>\n",
       "    <tr>\n",
       "      <th>кафетерий</th>\n",
       "      <td>398</td>\n",
       "    </tr>\n",
       "    <tr>\n",
       "      <th>закусочная</th>\n",
       "      <td>360</td>\n",
       "    </tr>\n",
       "    <tr>\n",
       "      <th>магазин (отдел кулинарии)</th>\n",
       "      <td>273</td>\n",
       "    </tr>\n",
       "  </tbody>\n",
       "</table>\n",
       "</div>"
      ],
      "text/plain": [
       "                                   total\n",
       "object_type                             \n",
       "кафе                                6099\n",
       "столовая                            2587\n",
       "ресторан                            2285\n",
       "предприятие быстрого обслуживания   1923\n",
       "бар                                  856\n",
       "буфет                                585\n",
       "кафетерий                            398\n",
       "закусочная                           360\n",
       "магазин (отдел кулинарии)            273"
      ]
     },
     "execution_count": 11,
     "metadata": {},
     "output_type": "execute_result"
    }
   ],
   "source": [
    "pivot = rest_data.groupby('object_type').agg({'id':'count'})\\\n",
    "                 .sort_values(by = 'id',ascending = False).rename(columns = {'id':'total'})\n",
    "pivot"
   ]
  },
  {
   "cell_type": "code",
   "execution_count": 12,
   "metadata": {},
   "outputs": [
    {
     "data": {
      "image/png": "[encoded data removed]",
      "text/plain": [
       "<Figure size 720x720 with 1 Axes>"
      ]
     },
     "metadata": {},
     "output_type": "display_data"
    }
   ],
   "source": [
    "labels = ['кафе', 'столовая','ресторан', 'предприятие быстрого обслуживания','бар','буфет','кафетерий',\n",
    "        'закусочная', 'магазин (отдел кулинарии)']\n",
    "plt.figure(figsize = (10,10))\n",
    "fig  = sns.set_palette('pastel')\n",
    "plt.pie(pivot['total'], labels=labels,autopct = '%0.0f%%')\n",
    "plt.title('Cоотношение типов объектов общественного питания',fontsize=14)\n",
    "plt.show()"
   ]
  },
  {
   "cell_type": "markdown",
   "metadata": {},
   "source": [
    "<a id='2.2'></a>"
   ]
  },
  {
   "cell_type": "markdown",
   "metadata": {},
   "source": [
    "Видно, что среди типов объектов общественного питанию преобладают кафе, причем более чем в 2 раза превышает количество объектов других типов, находящихся в топ-3. Столовая и ресторан на 2 и 3 месте соответсвенно. Также близки к ним по количеству предприятия быстрого обслуживания, объектов других типов значительно меньше - суммарно около 17% от всех типов объектов."
   ]
  },
  {
   "cell_type": "markdown",
   "metadata": {},
   "source": [
    "### Cоотношение сетевых и несетевых заведений по количеству "
   ]
  },
  {
   "cell_type": "code",
   "execution_count": 13,
   "metadata": {},
   "outputs": [
    {
     "data": {
      "text/html": [
       "<div>\n",
       "<style scoped>\n",
       "    .dataframe tbody tr th:only-of-type {\n",
       "        vertical-align: middle;\n",
       "    }\n",
       "\n",
       "    .dataframe tbody tr th {\n",
       "        vertical-align: top;\n",
       "    }\n",
       "\n",
       "    .dataframe thead th {\n",
       "        text-align: right;\n",
       "    }\n",
       "</style>\n",
       "<table border=\"1\" class=\"dataframe\">\n",
       "  <thead>\n",
       "    <tr style=\"text-align: right;\">\n",
       "      <th></th>\n",
       "      <th>total</th>\n",
       "    </tr>\n",
       "    <tr>\n",
       "      <th>chain</th>\n",
       "      <th></th>\n",
       "    </tr>\n",
       "  </thead>\n",
       "  <tbody>\n",
       "    <tr>\n",
       "      <th>да</th>\n",
       "      <td>2968</td>\n",
       "    </tr>\n",
       "    <tr>\n",
       "      <th>нет</th>\n",
       "      <td>12398</td>\n",
       "    </tr>\n",
       "  </tbody>\n",
       "</table>\n",
       "</div>"
      ],
      "text/plain": [
       "       total\n",
       "chain       \n",
       "да      2968\n",
       "нет    12398"
      ]
     },
     "execution_count": 13,
     "metadata": {},
     "output_type": "execute_result"
    }
   ],
   "source": [
    "by_chain = rest_data.pivot_table(index = 'chain', values = 'id', aggfunc = 'count').rename(columns = {'id':'total'})\n",
    "by_chain"
   ]
  },
  {
   "cell_type": "code",
   "execution_count": 14,
   "metadata": {},
   "outputs": [
    {
     "data": {
      "image/png": "[encoded data removed]",
      "text/plain": [
       "<Figure size 432x288 with 1 Axes>"
      ]
     },
     "metadata": {
      "needs_background": "light"
     },
     "output_type": "display_data"
    }
   ],
   "source": [
    "chain = ['сетевые','несетевые']\n",
    "plot = sns.barplot(x = chain, y='total', data = by_chain)\n",
    "sns.set(rc={'figure.figsize':(8, 8)})\n",
    "fig  = sns.set_palette('pastel')\n",
    "plot.axes.set_title('Соотношение сетевых и несетевых заведений', fontsize=14)\n",
    "plot.set_ylabel(\"Количество объектов общественного питания\", fontsize=14)\n",
    "for bar in plot.patches:\n",
    "    plot.annotate(format(bar.get_height()/15336, '.0%'),\n",
    "                   (bar.get_x() + bar.get_width() / 2,\n",
    "                    bar.get_height()), ha='center', va='center',\n",
    "                   size=15, xytext=(0, 8),\n",
    "                   textcoords='offset points')\n"
   ]
  },
  {
   "cell_type": "markdown",
   "metadata": {},
   "source": [
    "Преобладают несетевые заведения общественного питания, более чем в 4 раза."
   ]
  },
  {
   "cell_type": "markdown",
   "metadata": {},
   "source": [
    "<a id='2.3'></a>"
   ]
  },
  {
   "cell_type": "markdown",
   "metadata": {},
   "source": [
    "### Для какого вида объекта общественного питания характерно сетевое распространение"
   ]
  },
  {
   "cell_type": "code",
   "execution_count": 15,
   "metadata": {},
   "outputs": [
    {
     "data": {
      "text/html": [
       "<div>\n",
       "<style scoped>\n",
       "    .dataframe tbody tr th:only-of-type {\n",
       "        vertical-align: middle;\n",
       "    }\n",
       "\n",
       "    .dataframe tbody tr th {\n",
       "        vertical-align: top;\n",
       "    }\n",
       "\n",
       "    .dataframe thead th {\n",
       "        text-align: right;\n",
       "    }\n",
       "</style>\n",
       "<table border=\"1\" class=\"dataframe\">\n",
       "  <thead>\n",
       "    <tr style=\"text-align: right;\">\n",
       "      <th></th>\n",
       "      <th>total</th>\n",
       "    </tr>\n",
       "    <tr>\n",
       "      <th>object_type</th>\n",
       "      <th></th>\n",
       "    </tr>\n",
       "  </thead>\n",
       "  <tbody>\n",
       "    <tr>\n",
       "      <th>кафе</th>\n",
       "      <td>1396</td>\n",
       "    </tr>\n",
       "    <tr>\n",
       "      <th>предприятие быстрого обслуживания</th>\n",
       "      <td>791</td>\n",
       "    </tr>\n",
       "    <tr>\n",
       "      <th>ресторан</th>\n",
       "      <td>544</td>\n",
       "    </tr>\n",
       "    <tr>\n",
       "      <th>магазин (отдел кулинарии)</th>\n",
       "      <td>78</td>\n",
       "    </tr>\n",
       "    <tr>\n",
       "      <th>закусочная</th>\n",
       "      <td>56</td>\n",
       "    </tr>\n",
       "    <tr>\n",
       "      <th>кафетерий</th>\n",
       "      <td>52</td>\n",
       "    </tr>\n",
       "    <tr>\n",
       "      <th>бар</th>\n",
       "      <td>37</td>\n",
       "    </tr>\n",
       "    <tr>\n",
       "      <th>буфет</th>\n",
       "      <td>11</td>\n",
       "    </tr>\n",
       "    <tr>\n",
       "      <th>столовая</th>\n",
       "      <td>3</td>\n",
       "    </tr>\n",
       "  </tbody>\n",
       "</table>\n",
       "</div>"
      ],
      "text/plain": [
       "                                   total\n",
       "object_type                             \n",
       "кафе                                1396\n",
       "предприятие быстрого обслуживания    791\n",
       "ресторан                             544\n",
       "магазин (отдел кулинарии)             78\n",
       "закусочная                            56\n",
       "кафетерий                             52\n",
       "бар                                   37\n",
       "буфет                                 11\n",
       "столовая                               3"
      ]
     },
     "execution_count": 15,
     "metadata": {},
     "output_type": "execute_result"
    }
   ],
   "source": [
    "rest_data.query('chain == \"да\"').groupby('object_type').agg({'id':'count'})\\\n",
    "                                .sort_values(by = 'id',ascending = False).rename(columns = {'id':'total'})\n"
   ]
  },
  {
   "cell_type": "code",
   "execution_count": 16,
   "metadata": {},
   "outputs": [
    {
     "data": {
      "image/png": "[encoded data removed]",
      "text/plain": [
       "<Figure size 720x720 with 1 Axes>"
      ]
     },
     "metadata": {},
     "output_type": "display_data"
    }
   ],
   "source": [
    "labels = ['кафе', 'предприятие быстрого обслуживания','ресторан','другие']\n",
    "total = [1396, 791, 544, 237]\n",
    "plt.figure(figsize = (10,10))\n",
    "fig  = sns.set_palette('pastel')\n",
    "plt.pie(total, labels=labels,autopct = '%0.0f%%')\n",
    "plt.title('Cоотношение типов сетевых объектов общественного питания',fontsize=14)\n",
    "plt.show()"
   ]
  },
  {
   "cell_type": "markdown",
   "metadata": {},
   "source": [
    "Наиболее часто сетевые заведения являются кафе, также часто встречаются предприятия быстрого обслуживания и рестораны. В целом преимущественно встречающиеся типы объектов совпадают с лидерами по всем объектам, за исключением столовых, которые не характерны для сетевого распространения. Другие типы объектов среди сетевых заведений встречаются в 8% случаев."
   ]
  },
  {
   "cell_type": "code",
   "execution_count": 17,
   "metadata": {
    "scrolled": true
   },
   "outputs": [
    {
     "data": {
      "text/plain": [
       "object_type                        chain\n",
       "предприятие быстрого обслуживания  да       41.13%\n",
       "магазин (отдел кулинарии)          да       28.57%\n",
       "ресторан                           да       23.81%\n",
       "кафе                               да       22.89%\n",
       "закусочная                         да       15.56%\n",
       "кафетерий                          да       13.07%\n",
       "бар                                да        4.32%\n",
       "буфет                              да        1.88%\n",
       "столовая                           да        0.12%\n",
       "Name: total, dtype: object"
      ]
     },
     "execution_count": 17,
     "metadata": {},
     "output_type": "execute_result"
    }
   ],
   "source": [
    "chain_data = rest_data.groupby(['object_type', 'chain']).agg({'id':'count'})\\\n",
    "                                .sort_values(by = 'object_type').rename(columns = {'id':'total','chain':'сетевые'})\n",
    "chain_data = (chain_data.query('chain ==\"да\"')['total']/chain_data.groupby('object_type').agg({'total':'sum'})['total'])\\\n",
    ".sort_values(ascending = False).apply('{:.2%}'.format)\n",
    "chain_data"
   ]
  },
  {
   "cell_type": "code",
   "execution_count": 18,
   "metadata": {},
   "outputs": [
    {
     "data": {
      "image/png": "[encoded data removed]",
      "text/plain": [
       "<Figure size 720x720 with 1 Axes>"
      ]
     },
     "metadata": {},
     "output_type": "display_data"
    }
   ],
   "source": [
    "labels = ['предприятие быстрого обслуживания','магазин (отдел кулинарии)','ресторан','кафе','закусочная','кафетерий','другие']\n",
    "percent = [41.13,28.57,23.81,22.89,15.56,13.07,6.32]\n",
    "plt.figure(figsize = (10,10))\n",
    "fig  = sns.set_palette('pastel')\n",
    "plt.pie(percent, labels=labels)\n",
    "plt.title('Процент сетевых объектов от общего числа по типам',fontsize=14)\n",
    "plt.show()"
   ]
  },
  {
   "cell_type": "markdown",
   "metadata": {},
   "source": [
    "Наибольшее количество сетевых заведений от общего числа у предприятий быстрого питания (41.13%), также более 1/4 магазинов и более 1/5 ресторанов и кафе являются сетевыми."
   ]
  },
  {
   "cell_type": "markdown",
   "metadata": {},
   "source": [
    "<a id='2.4'></a>"
   ]
  },
  {
   "cell_type": "markdown",
   "metadata": {},
   "source": [
    "### Что характерно для сетевых заведений: много заведений с небольшим числом посадочных мест в каждом или мало заведений с большим количеством посадочных мест?"
   ]
  },
  {
   "cell_type": "markdown",
   "metadata": {},
   "source": [
    "Сгруппируем сетевые заведения по сети и рассчитаем среднее количество заведений и посадочных мест для каждой сети."
   ]
  },
  {
   "cell_type": "code",
   "execution_count": 19,
   "metadata": {},
   "outputs": [
    {
     "data": {
      "text/html": [
       "<div>\n",
       "<style scoped>\n",
       "    .dataframe tbody tr th:only-of-type {\n",
       "        vertical-align: middle;\n",
       "    }\n",
       "\n",
       "    .dataframe tbody tr th {\n",
       "        vertical-align: top;\n",
       "    }\n",
       "\n",
       "    .dataframe thead th {\n",
       "        text-align: right;\n",
       "    }\n",
       "</style>\n",
       "<table border=\"1\" class=\"dataframe\">\n",
       "  <thead>\n",
       "    <tr style=\"text-align: right;\">\n",
       "      <th></th>\n",
       "      <th>rest</th>\n",
       "      <th>mean_number</th>\n",
       "    </tr>\n",
       "    <tr>\n",
       "      <th>object_name</th>\n",
       "      <th></th>\n",
       "      <th></th>\n",
       "    </tr>\n",
       "  </thead>\n",
       "  <tbody>\n",
       "    <tr>\n",
       "      <th>шоколадница</th>\n",
       "      <td>157</td>\n",
       "      <td>57.184713</td>\n",
       "    </tr>\n",
       "    <tr>\n",
       "      <th>kfc</th>\n",
       "      <td>156</td>\n",
       "      <td>55.923077</td>\n",
       "    </tr>\n",
       "    <tr>\n",
       "      <th>макдоналдс</th>\n",
       "      <td>153</td>\n",
       "      <td>87.235294</td>\n",
       "    </tr>\n",
       "    <tr>\n",
       "      <th>бургер кинг</th>\n",
       "      <td>144</td>\n",
       "      <td>48.430556</td>\n",
       "    </tr>\n",
       "    <tr>\n",
       "      <th>теремок</th>\n",
       "      <td>94</td>\n",
       "      <td>25.606383</td>\n",
       "    </tr>\n",
       "    <tr>\n",
       "      <th>домино'с пицца</th>\n",
       "      <td>91</td>\n",
       "      <td>18.186813</td>\n",
       "    </tr>\n",
       "    <tr>\n",
       "      <th>крошка картошка</th>\n",
       "      <td>90</td>\n",
       "      <td>21.855556</td>\n",
       "    </tr>\n",
       "    <tr>\n",
       "      <th>суши wok</th>\n",
       "      <td>86</td>\n",
       "      <td>6.651163</td>\n",
       "    </tr>\n",
       "    <tr>\n",
       "      <th>милти</th>\n",
       "      <td>78</td>\n",
       "      <td>1.230769</td>\n",
       "    </tr>\n",
       "    <tr>\n",
       "      <th>starbucks</th>\n",
       "      <td>60</td>\n",
       "      <td>43.516667</td>\n",
       "    </tr>\n",
       "    <tr>\n",
       "      <th>subway</th>\n",
       "      <td>54</td>\n",
       "      <td>17.129630</td>\n",
       "    </tr>\n",
       "    <tr>\n",
       "      <th>папа джонс</th>\n",
       "      <td>51</td>\n",
       "      <td>22.039216</td>\n",
       "    </tr>\n",
       "    <tr>\n",
       "      <th>додо пицца</th>\n",
       "      <td>49</td>\n",
       "      <td>32.551020</td>\n",
       "    </tr>\n",
       "    <tr>\n",
       "      <th>кофе с собой</th>\n",
       "      <td>46</td>\n",
       "      <td>0.782609</td>\n",
       "    </tr>\n",
       "    <tr>\n",
       "      <th>чайхона №1</th>\n",
       "      <td>43</td>\n",
       "      <td>148.813953</td>\n",
       "    </tr>\n",
       "    <tr>\n",
       "      <th>хинкальная</th>\n",
       "      <td>38</td>\n",
       "      <td>52.447368</td>\n",
       "    </tr>\n",
       "    <tr>\n",
       "      <th>якитория</th>\n",
       "      <td>38</td>\n",
       "      <td>117.157895</td>\n",
       "    </tr>\n",
       "    <tr>\n",
       "      <th>кофе хаус</th>\n",
       "      <td>35</td>\n",
       "      <td>55.857143</td>\n",
       "    </tr>\n",
       "    <tr>\n",
       "      <th>хлеб насущный</th>\n",
       "      <td>32</td>\n",
       "      <td>41.937500</td>\n",
       "    </tr>\n",
       "    <tr>\n",
       "      <th>тануки</th>\n",
       "      <td>32</td>\n",
       "      <td>113.875000</td>\n",
       "    </tr>\n",
       "  </tbody>\n",
       "</table>\n",
       "</div>"
      ],
      "text/plain": [
       "                 rest  mean_number\n",
       "object_name                       \n",
       "шоколадница       157    57.184713\n",
       "kfc               156    55.923077\n",
       "макдоналдс        153    87.235294\n",
       "бургер кинг       144    48.430556\n",
       "теремок            94    25.606383\n",
       "домино'с пицца     91    18.186813\n",
       "крошка картошка    90    21.855556\n",
       "суши wok           86     6.651163\n",
       "милти              78     1.230769\n",
       "starbucks          60    43.516667\n",
       "subway             54    17.129630\n",
       "папа джонс         51    22.039216\n",
       "додо пицца         49    32.551020\n",
       "кофе с собой       46     0.782609\n",
       "чайхона №1         43   148.813953\n",
       "хинкальная         38    52.447368\n",
       "якитория           38   117.157895\n",
       "кофе хаус          35    55.857143\n",
       "хлеб насущный      32    41.937500\n",
       "тануки             32   113.875000"
      ]
     },
     "execution_count": 19,
     "metadata": {},
     "output_type": "execute_result"
    }
   ],
   "source": [
    "chain = rest_data.query('chain == \"да\"').groupby('object_name').agg({'id':'count', 'number':'mean'})\\\n",
    "                 .sort_values(by = 'id',ascending = False).rename(columns = {'id':'rest','number':'mean_number'})\n",
    "chain.head(20)"
   ]
  },
  {
   "cell_type": "code",
   "execution_count": 20,
   "metadata": {},
   "outputs": [
    {
     "name": "stdout",
     "output_type": "stream",
     "text": [
      "Количество заведений: максимум 157, минимум 1\n"
     ]
    },
    {
     "data": {
      "text/plain": [
       "'Количество посадочных мест: максимум 306.0, минимум 0.0'"
      ]
     },
     "execution_count": 20,
     "metadata": {},
     "output_type": "execute_result"
    }
   ],
   "source": [
    "a = chain['rest'].max()\n",
    "b = chain['rest'].min()\n",
    "c = chain['mean_number'].max()\n",
    "d = chain['mean_number'].min()\n",
    "print(f'Количество заведений: максимум {a}, минимум {b}')\n",
    "f'Количество посадочных мест: максимум {c}, минимум {d}'\n",
    " "
   ]
  },
  {
   "cell_type": "markdown",
   "metadata": {},
   "source": [
    "Чтобы выделить границы 'много/мало' заведений и 'много/мало' посадочных мест рассчитаем перцентили."
   ]
  },
  {
   "cell_type": "code",
   "execution_count": 21,
   "metadata": {},
   "outputs": [
    {
     "name": "stdout",
     "output_type": "stream",
     "text": [
      "[1. 3.]\n"
     ]
    },
    {
     "data": {
      "text/plain": [
       "array([20., 45., 85.])"
      ]
     },
     "execution_count": 21,
     "metadata": {},
     "output_type": "execute_result"
    }
   ],
   "source": [
    "print(np.percentile(chain['rest'],[50,75]))\n",
    "np.percentile(chain['mean_number'],[25,50,75])"
   ]
  },
  {
   "cell_type": "markdown",
   "metadata": {},
   "source": [
    "Выберем количество заведений более 4 за границу и количество посадочных мест более 45."
   ]
  },
  {
   "cell_type": "code",
   "execution_count": 22,
   "metadata": {},
   "outputs": [
    {
     "data": {
      "image/png": "[encoded data removed]",
      "text/plain": [
       "<Figure size 576x576 with 1 Axes>"
      ]
     },
     "metadata": {},
     "output_type": "display_data"
    },
    {
     "data": {
      "text/html": [
       "<div>\n",
       "<style scoped>\n",
       "    .dataframe tbody tr th:only-of-type {\n",
       "        vertical-align: middle;\n",
       "    }\n",
       "\n",
       "    .dataframe tbody tr th {\n",
       "        vertical-align: top;\n",
       "    }\n",
       "\n",
       "    .dataframe thead th {\n",
       "        text-align: right;\n",
       "    }\n",
       "</style>\n",
       "<table border=\"1\" class=\"dataframe\">\n",
       "  <thead>\n",
       "    <tr style=\"text-align: right;\">\n",
       "      <th></th>\n",
       "      <th>число сетей</th>\n",
       "      <th>медиана количества заведений</th>\n",
       "      <th>медиана среднего количества посадочных мест</th>\n",
       "    </tr>\n",
       "    <tr>\n",
       "      <th>группа</th>\n",
       "      <th></th>\n",
       "      <th></th>\n",
       "      <th></th>\n",
       "    </tr>\n",
       "  </thead>\n",
       "  <tbody>\n",
       "    <tr>\n",
       "      <th>Мало заведений-Мало  мест</th>\n",
       "      <td>202</td>\n",
       "      <td>1</td>\n",
       "      <td>20.00</td>\n",
       "    </tr>\n",
       "    <tr>\n",
       "      <th>Мало заведений-Много  мест</th>\n",
       "      <td>204</td>\n",
       "      <td>1</td>\n",
       "      <td>90.00</td>\n",
       "    </tr>\n",
       "    <tr>\n",
       "      <th>Много заведений-Мало  мест</th>\n",
       "      <td>57</td>\n",
       "      <td>9</td>\n",
       "      <td>21.00</td>\n",
       "    </tr>\n",
       "    <tr>\n",
       "      <th>Много заведений-Много  мест</th>\n",
       "      <td>50</td>\n",
       "      <td>9</td>\n",
       "      <td>79.25</td>\n",
       "    </tr>\n",
       "  </tbody>\n",
       "</table>\n",
       "</div>"
      ],
      "text/plain": [
       "                             число сетей  медиана количества заведений   \\\n",
       "группа                                                                    \n",
       "Мало заведений-Мало  мест            202                              1   \n",
       "Мало заведений-Много  мест           204                              1   \n",
       "Много заведений-Мало  мест            57                              9   \n",
       "Много заведений-Много  мест           50                              9   \n",
       "\n",
       "                             медиана среднего количества посадочных мест  \n",
       "группа                                                                    \n",
       "Мало заведений-Мало  мест                                          20.00  \n",
       "Мало заведений-Много  мест                                         90.00  \n",
       "Много заведений-Мало  мест                                         21.00  \n",
       "Много заведений-Много  мест                                        79.25  "
      ]
     },
     "execution_count": 22,
     "metadata": {},
     "output_type": "execute_result"
    }
   ],
   "source": [
    "chain['rest_group'] = 'Мало заведений'\n",
    "chain.loc[chain['rest']>4,'rest_group'] = 'Много заведений' \n",
    "chain['number_group'] = 'Мало  мест'\n",
    "chain.loc[chain['mean_number']>45,'number_group'] = 'Много  мест' \n",
    "chain['группа'] = chain['rest_group'].astype(str) + '-' + chain['number_group'].astype(str)\n",
    "sns.scatterplot(data = chain, x = 'rest', y = 'mean_number', hue = 'группа')\n",
    "fig  = sns.set_palette('CMRmap_r')\n",
    "plt.xlabel('Количество заведений')\n",
    "plt.ylabel('Среднее количество посадочных мест')\n",
    "plt.show()\n",
    "\n",
    "chain.reset_index().groupby('группа').agg({'object_name':'nunique', 'rest':'median','mean_number':'median'})\\\n",
    "                   .rename(columns = {'object_name':'число сетей',\n",
    "                                      'rest':'медиана количества заведений ',\n",
    "                                      'mean_number':'медиана среднего количества посадочных мест'})"
   ]
  },
  {
   "cell_type": "code",
   "execution_count": 23,
   "metadata": {},
   "outputs": [
    {
     "data": {
      "image/png": "[encoded data removed]",
      "text/plain": [
       "<Figure size 720x360 with 2 Axes>"
      ]
     },
     "metadata": {},
     "output_type": "display_data"
    },
    {
     "data": {
      "image/png": "[encoded data removed]",
      "text/plain": [
       "<Figure size 720x360 with 2 Axes>"
      ]
     },
     "metadata": {},
     "output_type": "display_data"
    }
   ],
   "source": [
    "# распределение количества заведений в разных группах\n",
    "sns.displot(x='rest',\n",
    "            col='группа',\n",
    "            kde=True,\n",
    "            data=chain.query('rest_group == \"Мало заведений\"'),\n",
    "            color = 'blue');\n",
    "sns.displot(x='rest',\n",
    "            col='группа',\n",
    "            kde=True,\n",
    "            data=chain.query('rest_group == \"Много заведений\"'),\n",
    "            color = 'green');\n",
    "plt.show()"
   ]
  },
  {
   "cell_type": "code",
   "execution_count": 24,
   "metadata": {},
   "outputs": [
    {
     "data": {
      "image/png": "[encoded data removed]",
      "text/plain": [
       "<Figure size 720x360 with 2 Axes>"
      ]
     },
     "metadata": {},
     "output_type": "display_data"
    },
    {
     "data": {
      "image/png": "[encoded data removed]",
      "text/plain": [
       "<Figure size 720x360 with 2 Axes>"
      ]
     },
     "metadata": {},
     "output_type": "display_data"
    }
   ],
   "source": [
    "# распределение среднего количества мест в разных группах\n",
    "sns.displot(x='mean_number',\n",
    "            col='группа',\n",
    "            kde=True,\n",
    "            data=chain.query('rest_group == \"Мало заведений\"'),\n",
    "            color = 'blue');\n",
    "sns.displot(x='rest',\n",
    "            col='группа',\n",
    "            kde=True,\n",
    "            data=chain.query('rest_group == \"Много заведений\"'),\n",
    "            color = 'green');\n",
    "plt.show()"
   ]
  },
  {
   "cell_type": "markdown",
   "metadata": {},
   "source": [
    "Для сетевых заведений более характерно малое количество заведений (менее 4, медиана 1) с большим количеством посадочных мест(более 45, медиана 90 мест)."
   ]
  },
  {
   "cell_type": "markdown",
   "metadata": {},
   "source": [
    "<a id='2.5'></a>"
   ]
  },
  {
   "cell_type": "markdown",
   "metadata": {},
   "source": [
    "### Среднее количество посадочных мест"
   ]
  },
  {
   "cell_type": "code",
   "execution_count": 25,
   "metadata": {},
   "outputs": [
    {
     "data": {
      "text/html": [
       "<div>\n",
       "<style scoped>\n",
       "    .dataframe tbody tr th:only-of-type {\n",
       "        vertical-align: middle;\n",
       "    }\n",
       "\n",
       "    .dataframe tbody tr th {\n",
       "        vertical-align: top;\n",
       "    }\n",
       "\n",
       "    .dataframe thead th {\n",
       "        text-align: right;\n",
       "    }\n",
       "</style>\n",
       "<table border=\"1\" class=\"dataframe\">\n",
       "  <thead>\n",
       "    <tr style=\"text-align: right;\">\n",
       "      <th></th>\n",
       "      <th>mean_number</th>\n",
       "    </tr>\n",
       "    <tr>\n",
       "      <th>object_type</th>\n",
       "      <th></th>\n",
       "    </tr>\n",
       "  </thead>\n",
       "  <tbody>\n",
       "    <tr>\n",
       "      <th>столовая</th>\n",
       "      <td>130.246618</td>\n",
       "    </tr>\n",
       "    <tr>\n",
       "      <th>ресторан</th>\n",
       "      <td>96.834136</td>\n",
       "    </tr>\n",
       "    <tr>\n",
       "      <th>буфет</th>\n",
       "      <td>51.129915</td>\n",
       "    </tr>\n",
       "    <tr>\n",
       "      <th>бар</th>\n",
       "      <td>43.494159</td>\n",
       "    </tr>\n",
       "    <tr>\n",
       "      <th>кафе</th>\n",
       "      <td>39.716019</td>\n",
       "    </tr>\n",
       "    <tr>\n",
       "      <th>предприятие быстрого обслуживания</th>\n",
       "      <td>20.552262</td>\n",
       "    </tr>\n",
       "    <tr>\n",
       "      <th>кафетерий</th>\n",
       "      <td>9.123116</td>\n",
       "    </tr>\n",
       "    <tr>\n",
       "      <th>закусочная</th>\n",
       "      <td>7.608333</td>\n",
       "    </tr>\n",
       "    <tr>\n",
       "      <th>магазин (отдел кулинарии)</th>\n",
       "      <td>5.589744</td>\n",
       "    </tr>\n",
       "  </tbody>\n",
       "</table>\n",
       "</div>"
      ],
      "text/plain": [
       "                                   mean_number\n",
       "object_type                                   \n",
       "столовая                            130.246618\n",
       "ресторан                             96.834136\n",
       "буфет                                51.129915\n",
       "бар                                  43.494159\n",
       "кафе                                 39.716019\n",
       "предприятие быстрого обслуживания    20.552262\n",
       "кафетерий                             9.123116\n",
       "закусочная                            7.608333\n",
       "магазин (отдел кулинарии)             5.589744"
      ]
     },
     "execution_count": 25,
     "metadata": {},
     "output_type": "execute_result"
    }
   ],
   "source": [
    "rest_data.groupby('object_type').agg({'number':'mean'})\\\n",
    "                          .sort_values(by = 'number',ascending = False).rename(columns = {'number':'mean_number'})\n"
   ]
  },
  {
   "cell_type": "code",
   "execution_count": 26,
   "metadata": {},
   "outputs": [
    {
     "data": {
      "image/png": "[encoded data removed]",
      "text/plain": [
       "<Figure size 1080x720 with 1 Axes>"
      ]
     },
     "metadata": {},
     "output_type": "display_data"
    }
   ],
   "source": [
    "fig = plt.subplots(figsize=(15, 10)) \n",
    "plot = sns.barplot(x='object_type', y = 'number', data = rest_data, ci=None)\n",
    "plt.title('Среднее количество посадочных мест по типам объектов',fontsize=16)\n",
    "plt.xlabel('Типы объектов',fontsize=14)\n",
    "plt.ylabel('Среднее количество посадочных мест',fontsize=14)\n",
    "plt.xticks(rotation = 45)\n",
    "for bar in plot.patches:\n",
    "    plot.annotate(format(bar.get_height(), '.1f'),\n",
    "                   (bar.get_x() + bar.get_width() / 2,\n",
    "                    bar.get_height()), ha='center', va='center',\n",
    "                   size=15, xytext=(0, 8),\n",
    "                   textcoords='offset points');\n",
    "plt.show()"
   ]
  },
  {
   "cell_type": "markdown",
   "metadata": {},
   "source": [
    "Наибольшее среднее количество посадочных мест в столовых (130,2), далее следуют рестораны (96,8). Далее следуют буфет, бар и кафе причем их средние значения более чем в 2 раза меньше \"лидера\", предприятия быстрого обслуживания близки по количеству мест к этой группе объектов, но в силу специфики работы имеют меньшее количество посадочных мест в среднем."
   ]
  },
  {
   "cell_type": "markdown",
   "metadata": {},
   "source": [
    "<a id='2.6'></a>"
   ]
  },
  {
   "cell_type": "markdown",
   "metadata": {},
   "source": [
    "### Топ-10 улиц по количеству объектов общественного питания"
   ]
  },
  {
   "cell_type": "code",
   "execution_count": 27,
   "metadata": {},
   "outputs": [
    {
     "data": {
      "text/html": [
       "<div>\n",
       "<style scoped>\n",
       "    .dataframe tbody tr th:only-of-type {\n",
       "        vertical-align: middle;\n",
       "    }\n",
       "\n",
       "    .dataframe tbody tr th {\n",
       "        vertical-align: top;\n",
       "    }\n",
       "\n",
       "    .dataframe thead th {\n",
       "        text-align: right;\n",
       "    }\n",
       "</style>\n",
       "<table border=\"1\" class=\"dataframe\">\n",
       "  <thead>\n",
       "    <tr style=\"text-align: right;\">\n",
       "      <th></th>\n",
       "      <th>address</th>\n",
       "      <th>street</th>\n",
       "    </tr>\n",
       "  </thead>\n",
       "  <tbody>\n",
       "    <tr>\n",
       "      <th>0</th>\n",
       "      <td>город Москва, улица Егора Абакумова, дом 9</td>\n",
       "      <td>улица Егора Абакумова</td>\n",
       "    </tr>\n",
       "    <tr>\n",
       "      <th>1</th>\n",
       "      <td>город Москва, улица Талалихина, дом 2/1, корпус 1</td>\n",
       "      <td>улица Талалихина</td>\n",
       "    </tr>\n",
       "    <tr>\n",
       "      <th>2</th>\n",
       "      <td>город Москва, Абельмановская улица, дом 6</td>\n",
       "      <td>Абельмановская улица</td>\n",
       "    </tr>\n",
       "    <tr>\n",
       "      <th>3</th>\n",
       "      <td>город Москва, Абрамцевская улица, дом 1</td>\n",
       "      <td>Абрамцевская улица</td>\n",
       "    </tr>\n",
       "    <tr>\n",
       "      <th>4</th>\n",
       "      <td>город Москва, Абрамцевская улица, дом 9, корпус 1</td>\n",
       "      <td>Абрамцевская улица</td>\n",
       "    </tr>\n",
       "  </tbody>\n",
       "</table>\n",
       "</div>"
      ],
      "text/plain": [
       "                                             address                 street\n",
       "0         город Москва, улица Егора Абакумова, дом 9  улица Егора Абакумова\n",
       "1  город Москва, улица Талалихина, дом 2/1, корпус 1       улица Талалихина\n",
       "2          город Москва, Абельмановская улица, дом 6   Абельмановская улица\n",
       "3            город Москва, Абрамцевская улица, дом 1     Абрамцевская улица\n",
       "4  город Москва, Абрамцевская улица, дом 9, корпус 1     Абрамцевская улица"
      ]
     },
     "execution_count": 27,
     "metadata": {},
     "output_type": "execute_result"
    }
   ],
   "source": [
    "rest_data['street'] = rest_data['address'].apply(lambda x: x.split(',')[1])\n",
    "rest_data['street'] = rest_data['street'].str.strip()\n",
    "rest_data[['address', 'street']].head()\n"
   ]
  },
  {
   "cell_type": "code",
   "execution_count": 28,
   "metadata": {},
   "outputs": [
    {
     "data": {
      "text/html": [
       "<div>\n",
       "<style scoped>\n",
       "    .dataframe tbody tr th:only-of-type {\n",
       "        vertical-align: middle;\n",
       "    }\n",
       "\n",
       "    .dataframe tbody tr th {\n",
       "        vertical-align: top;\n",
       "    }\n",
       "\n",
       "    .dataframe thead th {\n",
       "        text-align: right;\n",
       "    }\n",
       "</style>\n",
       "<table border=\"1\" class=\"dataframe\">\n",
       "  <thead>\n",
       "    <tr style=\"text-align: right;\">\n",
       "      <th></th>\n",
       "      <th>total</th>\n",
       "    </tr>\n",
       "    <tr>\n",
       "      <th>street</th>\n",
       "      <th></th>\n",
       "    </tr>\n",
       "  </thead>\n",
       "  <tbody>\n",
       "    <tr>\n",
       "      <th>город Зеленоград</th>\n",
       "      <td>232</td>\n",
       "    </tr>\n",
       "    <tr>\n",
       "      <th>проспект Мира</th>\n",
       "      <td>204</td>\n",
       "    </tr>\n",
       "    <tr>\n",
       "      <th>Профсоюзная улица</th>\n",
       "      <td>182</td>\n",
       "    </tr>\n",
       "    <tr>\n",
       "      <th>Ленинградский проспект</th>\n",
       "      <td>171</td>\n",
       "    </tr>\n",
       "    <tr>\n",
       "      <th>Пресненская набережная</th>\n",
       "      <td>167</td>\n",
       "    </tr>\n",
       "    <tr>\n",
       "      <th>Варшавское шоссе</th>\n",
       "      <td>161</td>\n",
       "    </tr>\n",
       "    <tr>\n",
       "      <th>Ленинский проспект</th>\n",
       "      <td>147</td>\n",
       "    </tr>\n",
       "    <tr>\n",
       "      <th>поселение Сосенское</th>\n",
       "      <td>138</td>\n",
       "    </tr>\n",
       "    <tr>\n",
       "      <th>проспект Вернадского</th>\n",
       "      <td>132</td>\n",
       "    </tr>\n",
       "    <tr>\n",
       "      <th>Кутузовский проспект</th>\n",
       "      <td>114</td>\n",
       "    </tr>\n",
       "  </tbody>\n",
       "</table>\n",
       "</div>"
      ],
      "text/plain": [
       "                        total\n",
       "street                       \n",
       "город Зеленоград          232\n",
       "проспект Мира             204\n",
       "Профсоюзная улица         182\n",
       "Ленинградский проспект    171\n",
       "Пресненская набережная    167\n",
       "Варшавское шоссе          161\n",
       "Ленинский проспект        147\n",
       "поселение Сосенское       138\n",
       "проспект Вернадского      132\n",
       "Кутузовский проспект      114"
      ]
     },
     "execution_count": 28,
     "metadata": {},
     "output_type": "execute_result"
    }
   ],
   "source": [
    "rest_data.groupby('street').agg({'id':'count'})\\\n",
    "        .sort_values(by = 'id',ascending = False).rename(columns = {'id':'total'}).head(10)"
   ]
  },
  {
   "cell_type": "code",
   "execution_count": 29,
   "metadata": {},
   "outputs": [
    {
     "data": {
      "text/html": [
       "<div>\n",
       "<style scoped>\n",
       "    .dataframe tbody tr th:only-of-type {\n",
       "        vertical-align: middle;\n",
       "    }\n",
       "\n",
       "    .dataframe tbody tr th {\n",
       "        vertical-align: top;\n",
       "    }\n",
       "\n",
       "    .dataframe thead th {\n",
       "        text-align: right;\n",
       "    }\n",
       "</style>\n",
       "<table border=\"1\" class=\"dataframe\">\n",
       "  <thead>\n",
       "    <tr style=\"text-align: right;\">\n",
       "      <th></th>\n",
       "      <th>total</th>\n",
       "    </tr>\n",
       "    <tr>\n",
       "      <th>street</th>\n",
       "      <th></th>\n",
       "    </tr>\n",
       "  </thead>\n",
       "  <tbody>\n",
       "    <tr>\n",
       "      <th>проспект Мира</th>\n",
       "      <td>204</td>\n",
       "    </tr>\n",
       "    <tr>\n",
       "      <th>Профсоюзная улица</th>\n",
       "      <td>182</td>\n",
       "    </tr>\n",
       "    <tr>\n",
       "      <th>Ленинградский проспект</th>\n",
       "      <td>171</td>\n",
       "    </tr>\n",
       "    <tr>\n",
       "      <th>Пресненская набережная</th>\n",
       "      <td>167</td>\n",
       "    </tr>\n",
       "    <tr>\n",
       "      <th>Варшавское шоссе</th>\n",
       "      <td>161</td>\n",
       "    </tr>\n",
       "    <tr>\n",
       "      <th>Ленинский проспект</th>\n",
       "      <td>147</td>\n",
       "    </tr>\n",
       "    <tr>\n",
       "      <th>проспект Вернадского</th>\n",
       "      <td>132</td>\n",
       "    </tr>\n",
       "    <tr>\n",
       "      <th>Кутузовский проспект</th>\n",
       "      <td>114</td>\n",
       "    </tr>\n",
       "    <tr>\n",
       "      <th>Каширское шоссе</th>\n",
       "      <td>112</td>\n",
       "    </tr>\n",
       "    <tr>\n",
       "      <th>Кировоградская улица</th>\n",
       "      <td>110</td>\n",
       "    </tr>\n",
       "  </tbody>\n",
       "</table>\n",
       "</div>"
      ],
      "text/plain": [
       "                        total\n",
       "street                       \n",
       "проспект Мира             204\n",
       "Профсоюзная улица         182\n",
       "Ленинградский проспект    171\n",
       "Пресненская набережная    167\n",
       "Варшавское шоссе          161\n",
       "Ленинский проспект        147\n",
       "проспект Вернадского      132\n",
       "Кутузовский проспект      114\n",
       "Каширское шоссе           112\n",
       "Кировоградская улица      110"
      ]
     },
     "execution_count": 29,
     "metadata": {},
     "output_type": "execute_result"
    }
   ],
   "source": [
    "top_street = rest_data.query('street != \"город Зеленоград\" and street != \"поселение Сосенское\"').groupby('street').agg({'id':'count'}).sort_values(by = 'id',ascending = False).rename(columns = {'id':'total'}).head(10)\n",
    "top_street"
   ]
  },
  {
   "cell_type": "code",
   "execution_count": 30,
   "metadata": {},
   "outputs": [
    {
     "data": {
      "image/png": "[encoded data removed]",
      "text/plain": [
       "<Figure size 1080x720 with 1 Axes>"
      ]
     },
     "metadata": {},
     "output_type": "display_data"
    }
   ],
   "source": [
    "street = ['проспект Мира','Профсоюзная улица','Ленинградский проспект', 'Пресненская набережная','Варшавское шоссе','Ленинский проспект',\n",
    "'проспект Вернадского','Кутузовский проспект','Каширское шоссе','Кировоградская улица']\n",
    "fig = plt.subplots(figsize=(15, 10)) \n",
    "plot = sns.barplot(x= street, y='total', data = top_street)\n",
    "plot.axes.set_title(\"Топ-10 улиц по количеству объектов общественного питания\", fontsize=16)\n",
    "plot.set_xlabel(\"Улица\", fontsize=14)\n",
    "plot.set_ylabel(\"Количество объектов общественного питания\", fontsize=14)\n",
    "plt.xticks(rotation = 45)\n",
    "\n",
    "for bar in plot.patches:\n",
    "    plot.annotate(format(bar.get_height(), '.0f'),\n",
    "                   (bar.get_x() + bar.get_width() / 2,\n",
    "                    bar.get_height()), ha='center', va='center',\n",
    "                   size=15, xytext=(0, 8),\n",
    "                   textcoords='offset points');\n"
   ]
  },
  {
   "cell_type": "markdown",
   "metadata": {},
   "source": [
    "Наибольшее количество пердприятий общественного питания на проспекте Мира (204), также в пятерку входят Профсоюзная улица (182), Ленинградский просвект(171), Пресненская набережная(167) и Варшавское шоссе (161). Наименьшее количество заведений общественного питания в топ 10 на Кировоградской улице(110), причем число объетов здесь практически в 2 раза меньше, чем у \"лидера\"."
   ]
  },
  {
   "cell_type": "code",
   "execution_count": 31,
   "metadata": {},
   "outputs": [
    {
     "data": {
      "text/html": [
       "<div>\n",
       "<style scoped>\n",
       "    .dataframe tbody tr th:only-of-type {\n",
       "        vertical-align: middle;\n",
       "    }\n",
       "\n",
       "    .dataframe tbody tr th {\n",
       "        vertical-align: top;\n",
       "    }\n",
       "\n",
       "    .dataframe thead th {\n",
       "        text-align: right;\n",
       "    }\n",
       "</style>\n",
       "<table border=\"1\" class=\"dataframe\">\n",
       "  <thead>\n",
       "    <tr style=\"text-align: right;\">\n",
       "      <th></th>\n",
       "      <th>streetname</th>\n",
       "      <th>areaid</th>\n",
       "      <th>okrug</th>\n",
       "      <th>area</th>\n",
       "    </tr>\n",
       "  </thead>\n",
       "  <tbody>\n",
       "    <tr>\n",
       "      <th>0</th>\n",
       "      <td>Выставочный переулок</td>\n",
       "      <td>17</td>\n",
       "      <td>ЦАО</td>\n",
       "      <td>Пресненский район</td>\n",
       "    </tr>\n",
       "    <tr>\n",
       "      <th>1</th>\n",
       "      <td>улица Гашека</td>\n",
       "      <td>17</td>\n",
       "      <td>ЦАО</td>\n",
       "      <td>Пресненский район</td>\n",
       "    </tr>\n",
       "    <tr>\n",
       "      <th>2</th>\n",
       "      <td>Большая Никитская улица</td>\n",
       "      <td>17</td>\n",
       "      <td>ЦАО</td>\n",
       "      <td>Пресненский район</td>\n",
       "    </tr>\n",
       "    <tr>\n",
       "      <th>3</th>\n",
       "      <td>Глубокий переулок</td>\n",
       "      <td>17</td>\n",
       "      <td>ЦАО</td>\n",
       "      <td>Пресненский район</td>\n",
       "    </tr>\n",
       "    <tr>\n",
       "      <th>4</th>\n",
       "      <td>Большой Гнездниковский переулок</td>\n",
       "      <td>17</td>\n",
       "      <td>ЦАО</td>\n",
       "      <td>Пресненский район</td>\n",
       "    </tr>\n",
       "  </tbody>\n",
       "</table>\n",
       "</div>"
      ],
      "text/plain": [
       "                        streetname  areaid okrug               area\n",
       "0             Выставочный переулок      17   ЦАО  Пресненский район\n",
       "1                     улица Гашека      17   ЦАО  Пресненский район\n",
       "2          Большая Никитская улица      17   ЦАО  Пресненский район\n",
       "3                Глубокий переулок      17   ЦАО  Пресненский район\n",
       "4  Большой Гнездниковский переулок      17   ЦАО  Пресненский район"
      ]
     },
     "execution_count": 31,
     "metadata": {},
     "output_type": "execute_result"
    }
   ],
   "source": [
    "from io import BytesIO\n",
    "import requests\n",
    "\n",
    "spreadsheet_id = '1MpNEZGGcpYru4t9vMD53gUFtxUz2gQq3FrRUubQIWSQ'\n",
    "file_name = 'https://docs.google.com/spreadsheets/d/{}/export?format=csv'.format(spreadsheet_id)\n",
    "r = requests.get(file_name)\n",
    "df = pd.read_csv(BytesIO(r.content))\n",
    "df.head()"
   ]
  },
  {
   "cell_type": "code",
   "execution_count": 32,
   "metadata": {},
   "outputs": [
    {
     "data": {
      "text/html": [
       "<div>\n",
       "<style scoped>\n",
       "    .dataframe tbody tr th:only-of-type {\n",
       "        vertical-align: middle;\n",
       "    }\n",
       "\n",
       "    .dataframe tbody tr th {\n",
       "        vertical-align: top;\n",
       "    }\n",
       "\n",
       "    .dataframe thead th {\n",
       "        text-align: right;\n",
       "    }\n",
       "</style>\n",
       "<table border=\"1\" class=\"dataframe\">\n",
       "  <thead>\n",
       "    <tr style=\"text-align: right;\">\n",
       "      <th></th>\n",
       "      <th>total</th>\n",
       "      <th>streetname</th>\n",
       "      <th>area</th>\n",
       "    </tr>\n",
       "  </thead>\n",
       "  <tbody>\n",
       "    <tr>\n",
       "      <th>0</th>\n",
       "      <td>204</td>\n",
       "      <td>проспект Мира</td>\n",
       "      <td>Алексеевский район</td>\n",
       "    </tr>\n",
       "    <tr>\n",
       "      <th>1</th>\n",
       "      <td>204</td>\n",
       "      <td>проспект Мира</td>\n",
       "      <td>Ярославский Район</td>\n",
       "    </tr>\n",
       "    <tr>\n",
       "      <th>2</th>\n",
       "      <td>204</td>\n",
       "      <td>проспект Мира</td>\n",
       "      <td>Район Марьина роща</td>\n",
       "    </tr>\n",
       "    <tr>\n",
       "      <th>3</th>\n",
       "      <td>204</td>\n",
       "      <td>проспект Мира</td>\n",
       "      <td>Останкинский район</td>\n",
       "    </tr>\n",
       "    <tr>\n",
       "      <th>4</th>\n",
       "      <td>204</td>\n",
       "      <td>проспект Мира</td>\n",
       "      <td>Район Ростокино</td>\n",
       "    </tr>\n",
       "    <tr>\n",
       "      <th>5</th>\n",
       "      <td>204</td>\n",
       "      <td>проспект Мира</td>\n",
       "      <td>Район Свиблово</td>\n",
       "    </tr>\n",
       "    <tr>\n",
       "      <th>6</th>\n",
       "      <td>204</td>\n",
       "      <td>проспект Мира</td>\n",
       "      <td>Мещанский район</td>\n",
       "    </tr>\n",
       "    <tr>\n",
       "      <th>7</th>\n",
       "      <td>182</td>\n",
       "      <td>Профсоюзная улица</td>\n",
       "      <td>Академический район</td>\n",
       "    </tr>\n",
       "    <tr>\n",
       "      <th>8</th>\n",
       "      <td>182</td>\n",
       "      <td>Профсоюзная улица</td>\n",
       "      <td>Район Черемушки</td>\n",
       "    </tr>\n",
       "    <tr>\n",
       "      <th>9</th>\n",
       "      <td>182</td>\n",
       "      <td>Профсоюзная улица</td>\n",
       "      <td>Район Ясенево</td>\n",
       "    </tr>\n",
       "    <tr>\n",
       "      <th>10</th>\n",
       "      <td>182</td>\n",
       "      <td>Профсоюзная улица</td>\n",
       "      <td>Район Коньково</td>\n",
       "    </tr>\n",
       "    <tr>\n",
       "      <th>11</th>\n",
       "      <td>182</td>\n",
       "      <td>Профсоюзная улица</td>\n",
       "      <td>Обручевский район</td>\n",
       "    </tr>\n",
       "    <tr>\n",
       "      <th>12</th>\n",
       "      <td>182</td>\n",
       "      <td>Профсоюзная улица</td>\n",
       "      <td>Район Теплый Стан</td>\n",
       "    </tr>\n",
       "    <tr>\n",
       "      <th>13</th>\n",
       "      <td>171</td>\n",
       "      <td>Ленинградский проспект</td>\n",
       "      <td>Район Аэропорт</td>\n",
       "    </tr>\n",
       "    <tr>\n",
       "      <th>14</th>\n",
       "      <td>171</td>\n",
       "      <td>Ленинградский проспект</td>\n",
       "      <td>Район Беговой</td>\n",
       "    </tr>\n",
       "    <tr>\n",
       "      <th>15</th>\n",
       "      <td>171</td>\n",
       "      <td>Ленинградский проспект</td>\n",
       "      <td>Хорошевский район</td>\n",
       "    </tr>\n",
       "    <tr>\n",
       "      <th>16</th>\n",
       "      <td>171</td>\n",
       "      <td>Ленинградский проспект</td>\n",
       "      <td>Район Сокол</td>\n",
       "    </tr>\n",
       "    <tr>\n",
       "      <th>17</th>\n",
       "      <td>167</td>\n",
       "      <td>Пресненская набережная</td>\n",
       "      <td>Пресненский район</td>\n",
       "    </tr>\n",
       "    <tr>\n",
       "      <th>18</th>\n",
       "      <td>161</td>\n",
       "      <td>Варшавское шоссе</td>\n",
       "      <td>Район Чертаново Центральное</td>\n",
       "    </tr>\n",
       "    <tr>\n",
       "      <th>19</th>\n",
       "      <td>161</td>\n",
       "      <td>Варшавское шоссе</td>\n",
       "      <td>Район Чертаново Северное</td>\n",
       "    </tr>\n",
       "    <tr>\n",
       "      <th>20</th>\n",
       "      <td>161</td>\n",
       "      <td>Варшавское шоссе</td>\n",
       "      <td>Район Чертаново Южное</td>\n",
       "    </tr>\n",
       "    <tr>\n",
       "      <th>21</th>\n",
       "      <td>161</td>\n",
       "      <td>Варшавское шоссе</td>\n",
       "      <td>Донской район</td>\n",
       "    </tr>\n",
       "    <tr>\n",
       "      <th>22</th>\n",
       "      <td>161</td>\n",
       "      <td>Варшавское шоссе</td>\n",
       "      <td>Район Нагатино-Садовники</td>\n",
       "    </tr>\n",
       "    <tr>\n",
       "      <th>23</th>\n",
       "      <td>161</td>\n",
       "      <td>Варшавское шоссе</td>\n",
       "      <td>Нагорный район</td>\n",
       "    </tr>\n",
       "    <tr>\n",
       "      <th>24</th>\n",
       "      <td>161</td>\n",
       "      <td>Варшавское шоссе</td>\n",
       "      <td>Район Северное Бутово</td>\n",
       "    </tr>\n",
       "    <tr>\n",
       "      <th>25</th>\n",
       "      <td>161</td>\n",
       "      <td>Варшавское шоссе</td>\n",
       "      <td>Район Южное Бутово</td>\n",
       "    </tr>\n",
       "    <tr>\n",
       "      <th>26</th>\n",
       "      <td>147</td>\n",
       "      <td>Ленинский проспект</td>\n",
       "      <td>Район Проспект Вернадского</td>\n",
       "    </tr>\n",
       "    <tr>\n",
       "      <th>27</th>\n",
       "      <td>147</td>\n",
       "      <td>Ленинский проспект</td>\n",
       "      <td>Район Тропарево-Никулино</td>\n",
       "    </tr>\n",
       "    <tr>\n",
       "      <th>28</th>\n",
       "      <td>147</td>\n",
       "      <td>Ленинский проспект</td>\n",
       "      <td>Донской район</td>\n",
       "    </tr>\n",
       "    <tr>\n",
       "      <th>29</th>\n",
       "      <td>147</td>\n",
       "      <td>Ленинский проспект</td>\n",
       "      <td>Район Гагаринский</td>\n",
       "    </tr>\n",
       "    <tr>\n",
       "      <th>30</th>\n",
       "      <td>147</td>\n",
       "      <td>Ленинский проспект</td>\n",
       "      <td>Ломоносовский район</td>\n",
       "    </tr>\n",
       "    <tr>\n",
       "      <th>31</th>\n",
       "      <td>147</td>\n",
       "      <td>Ленинский проспект</td>\n",
       "      <td>Обручевский район</td>\n",
       "    </tr>\n",
       "    <tr>\n",
       "      <th>32</th>\n",
       "      <td>147</td>\n",
       "      <td>Ленинский проспект</td>\n",
       "      <td>Район Теплый Стан</td>\n",
       "    </tr>\n",
       "    <tr>\n",
       "      <th>33</th>\n",
       "      <td>147</td>\n",
       "      <td>Ленинский проспект</td>\n",
       "      <td>Район Якиманка</td>\n",
       "    </tr>\n",
       "    <tr>\n",
       "      <th>34</th>\n",
       "      <td>132</td>\n",
       "      <td>проспект Вернадского</td>\n",
       "      <td>Район Проспект Вернадского</td>\n",
       "    </tr>\n",
       "    <tr>\n",
       "      <th>35</th>\n",
       "      <td>132</td>\n",
       "      <td>проспект Вернадского</td>\n",
       "      <td>Район Раменки</td>\n",
       "    </tr>\n",
       "    <tr>\n",
       "      <th>36</th>\n",
       "      <td>132</td>\n",
       "      <td>проспект Вернадского</td>\n",
       "      <td>Район Тропарево-Никулино</td>\n",
       "    </tr>\n",
       "    <tr>\n",
       "      <th>37</th>\n",
       "      <td>132</td>\n",
       "      <td>проспект Вернадского</td>\n",
       "      <td>Район Гагаринский</td>\n",
       "    </tr>\n",
       "    <tr>\n",
       "      <th>38</th>\n",
       "      <td>132</td>\n",
       "      <td>проспект Вернадского</td>\n",
       "      <td>Ломоносовский район</td>\n",
       "    </tr>\n",
       "    <tr>\n",
       "      <th>39</th>\n",
       "      <td>114</td>\n",
       "      <td>Кутузовский проспект</td>\n",
       "      <td>Район Дорогомилово</td>\n",
       "    </tr>\n",
       "    <tr>\n",
       "      <th>40</th>\n",
       "      <td>114</td>\n",
       "      <td>Кутузовский проспект</td>\n",
       "      <td>Район Фили-Давыдково</td>\n",
       "    </tr>\n",
       "    <tr>\n",
       "      <th>41</th>\n",
       "      <td>112</td>\n",
       "      <td>Каширское шоссе</td>\n",
       "      <td>Район Москворечье-Сабурово</td>\n",
       "    </tr>\n",
       "    <tr>\n",
       "      <th>42</th>\n",
       "      <td>112</td>\n",
       "      <td>Каширское шоссе</td>\n",
       "      <td>Район Нагатино-Садовники</td>\n",
       "    </tr>\n",
       "    <tr>\n",
       "      <th>43</th>\n",
       "      <td>112</td>\n",
       "      <td>Каширское шоссе</td>\n",
       "      <td>Район Орехово-Борисово Южное</td>\n",
       "    </tr>\n",
       "    <tr>\n",
       "      <th>44</th>\n",
       "      <td>112</td>\n",
       "      <td>Каширское шоссе</td>\n",
       "      <td>Район Орехово-Борисово Северное</td>\n",
       "    </tr>\n",
       "    <tr>\n",
       "      <th>45</th>\n",
       "      <td>110</td>\n",
       "      <td>Кировоградская улица</td>\n",
       "      <td>Район Чертаново Центральное</td>\n",
       "    </tr>\n",
       "    <tr>\n",
       "      <th>46</th>\n",
       "      <td>110</td>\n",
       "      <td>Кировоградская улица</td>\n",
       "      <td>Район Чертаново Северное</td>\n",
       "    </tr>\n",
       "    <tr>\n",
       "      <th>47</th>\n",
       "      <td>110</td>\n",
       "      <td>Кировоградская улица</td>\n",
       "      <td>Район Чертаново Южное</td>\n",
       "    </tr>\n",
       "  </tbody>\n",
       "</table>\n",
       "</div>"
      ],
      "text/plain": [
       "    total              streetname                             area\n",
       "0     204           проспект Мира               Алексеевский район\n",
       "1     204           проспект Мира                Ярославский Район\n",
       "2     204           проспект Мира               Район Марьина роща\n",
       "3     204           проспект Мира               Останкинский район\n",
       "4     204           проспект Мира                  Район Ростокино\n",
       "5     204           проспект Мира                   Район Свиблово\n",
       "6     204           проспект Мира                  Мещанский район\n",
       "7     182       Профсоюзная улица              Академический район\n",
       "8     182       Профсоюзная улица                  Район Черемушки\n",
       "9     182       Профсоюзная улица                    Район Ясенево\n",
       "10    182       Профсоюзная улица                   Район Коньково\n",
       "11    182       Профсоюзная улица                Обручевский район\n",
       "12    182       Профсоюзная улица                Район Теплый Стан\n",
       "13    171  Ленинградский проспект                   Район Аэропорт\n",
       "14    171  Ленинградский проспект                    Район Беговой\n",
       "15    171  Ленинградский проспект                Хорошевский район\n",
       "16    171  Ленинградский проспект                      Район Сокол\n",
       "17    167  Пресненская набережная                Пресненский район\n",
       "18    161        Варшавское шоссе      Район Чертаново Центральное\n",
       "19    161        Варшавское шоссе         Район Чертаново Северное\n",
       "20    161        Варшавское шоссе            Район Чертаново Южное\n",
       "21    161        Варшавское шоссе                    Донской район\n",
       "22    161        Варшавское шоссе         Район Нагатино-Садовники\n",
       "23    161        Варшавское шоссе                   Нагорный район\n",
       "24    161        Варшавское шоссе            Район Северное Бутово\n",
       "25    161        Варшавское шоссе               Район Южное Бутово\n",
       "26    147      Ленинский проспект       Район Проспект Вернадского\n",
       "27    147      Ленинский проспект         Район Тропарево-Никулино\n",
       "28    147      Ленинский проспект                    Донской район\n",
       "29    147      Ленинский проспект                Район Гагаринский\n",
       "30    147      Ленинский проспект              Ломоносовский район\n",
       "31    147      Ленинский проспект                Обручевский район\n",
       "32    147      Ленинский проспект                Район Теплый Стан\n",
       "33    147      Ленинский проспект                   Район Якиманка\n",
       "34    132    проспект Вернадского       Район Проспект Вернадского\n",
       "35    132    проспект Вернадского                    Район Раменки\n",
       "36    132    проспект Вернадского         Район Тропарево-Никулино\n",
       "37    132    проспект Вернадского                Район Гагаринский\n",
       "38    132    проспект Вернадского              Ломоносовский район\n",
       "39    114    Кутузовский проспект               Район Дорогомилово\n",
       "40    114    Кутузовский проспект             Район Фили-Давыдково\n",
       "41    112         Каширское шоссе       Район Москворечье-Сабурово\n",
       "42    112         Каширское шоссе         Район Нагатино-Садовники\n",
       "43    112         Каширское шоссе     Район Орехово-Борисово Южное\n",
       "44    112         Каширское шоссе  Район Орехово-Борисово Северное\n",
       "45    110    Кировоградская улица      Район Чертаново Центральное\n",
       "46    110    Кировоградская улица         Район Чертаново Северное\n",
       "47    110    Кировоградская улица            Район Чертаново Южное"
      ]
     },
     "execution_count": 32,
     "metadata": {},
     "output_type": "execute_result"
    }
   ],
   "source": [
    "top_street = top_street.merge(df[['streetname','area']], left_on = 'street', right_on = 'streetname', how = 'left')\n",
    "top_street"
   ]
  },
  {
   "cell_type": "code",
   "execution_count": 33,
   "metadata": {},
   "outputs": [
    {
     "data": {
      "text/html": [
       "<div>\n",
       "<style scoped>\n",
       "    .dataframe tbody tr th:only-of-type {\n",
       "        vertical-align: middle;\n",
       "    }\n",
       "\n",
       "    .dataframe tbody tr th {\n",
       "        vertical-align: top;\n",
       "    }\n",
       "\n",
       "    .dataframe thead th {\n",
       "        text-align: right;\n",
       "    }\n",
       "</style>\n",
       "<table border=\"1\" class=\"dataframe\">\n",
       "  <thead>\n",
       "    <tr style=\"text-align: right;\">\n",
       "      <th></th>\n",
       "      <th>streetname</th>\n",
       "    </tr>\n",
       "    <tr>\n",
       "      <th>area</th>\n",
       "      <th></th>\n",
       "    </tr>\n",
       "  </thead>\n",
       "  <tbody>\n",
       "    <tr>\n",
       "      <th>Район Чертаново Центральное</th>\n",
       "      <td>2</td>\n",
       "    </tr>\n",
       "    <tr>\n",
       "      <th>Донской район</th>\n",
       "      <td>2</td>\n",
       "    </tr>\n",
       "    <tr>\n",
       "      <th>Ломоносовский район</th>\n",
       "      <td>2</td>\n",
       "    </tr>\n",
       "    <tr>\n",
       "      <th>Район Проспект Вернадского</th>\n",
       "      <td>2</td>\n",
       "    </tr>\n",
       "    <tr>\n",
       "      <th>Обручевский район</th>\n",
       "      <td>2</td>\n",
       "    </tr>\n",
       "    <tr>\n",
       "      <th>Район Теплый Стан</th>\n",
       "      <td>2</td>\n",
       "    </tr>\n",
       "    <tr>\n",
       "      <th>Район Нагатино-Садовники</th>\n",
       "      <td>2</td>\n",
       "    </tr>\n",
       "    <tr>\n",
       "      <th>Район Чертаново Южное</th>\n",
       "      <td>2</td>\n",
       "    </tr>\n",
       "    <tr>\n",
       "      <th>Район Тропарево-Никулино</th>\n",
       "      <td>2</td>\n",
       "    </tr>\n",
       "    <tr>\n",
       "      <th>Район Гагаринский</th>\n",
       "      <td>2</td>\n",
       "    </tr>\n",
       "    <tr>\n",
       "      <th>Район Чертаново Северное</th>\n",
       "      <td>2</td>\n",
       "    </tr>\n",
       "    <tr>\n",
       "      <th>Район Фили-Давыдково</th>\n",
       "      <td>1</td>\n",
       "    </tr>\n",
       "    <tr>\n",
       "      <th>Район Сокол</th>\n",
       "      <td>1</td>\n",
       "    </tr>\n",
       "    <tr>\n",
       "      <th>Академический район</th>\n",
       "      <td>1</td>\n",
       "    </tr>\n",
       "    <tr>\n",
       "      <th>Район Черемушки</th>\n",
       "      <td>1</td>\n",
       "    </tr>\n",
       "    <tr>\n",
       "      <th>Район Свиблово</th>\n",
       "      <td>1</td>\n",
       "    </tr>\n",
       "    <tr>\n",
       "      <th>Район Южное Бутово</th>\n",
       "      <td>1</td>\n",
       "    </tr>\n",
       "    <tr>\n",
       "      <th>Район Якиманка</th>\n",
       "      <td>1</td>\n",
       "    </tr>\n",
       "    <tr>\n",
       "      <th>Район Ясенево</th>\n",
       "      <td>1</td>\n",
       "    </tr>\n",
       "    <tr>\n",
       "      <th>Хорошевский район</th>\n",
       "      <td>1</td>\n",
       "    </tr>\n",
       "    <tr>\n",
       "      <th>Район Северное Бутово</th>\n",
       "      <td>1</td>\n",
       "    </tr>\n",
       "    <tr>\n",
       "      <th>Район Орехово-Борисово Южное</th>\n",
       "      <td>1</td>\n",
       "    </tr>\n",
       "    <tr>\n",
       "      <th>Район Ростокино</th>\n",
       "      <td>1</td>\n",
       "    </tr>\n",
       "    <tr>\n",
       "      <th>Район Раменки</th>\n",
       "      <td>1</td>\n",
       "    </tr>\n",
       "    <tr>\n",
       "      <th>Алексеевский район</th>\n",
       "      <td>1</td>\n",
       "    </tr>\n",
       "    <tr>\n",
       "      <th>Район Орехово-Борисово Северное</th>\n",
       "      <td>1</td>\n",
       "    </tr>\n",
       "    <tr>\n",
       "      <th>Район Москворечье-Сабурово</th>\n",
       "      <td>1</td>\n",
       "    </tr>\n",
       "    <tr>\n",
       "      <th>Район Марьина роща</th>\n",
       "      <td>1</td>\n",
       "    </tr>\n",
       "    <tr>\n",
       "      <th>Район Коньково</th>\n",
       "      <td>1</td>\n",
       "    </tr>\n",
       "    <tr>\n",
       "      <th>Район Дорогомилово</th>\n",
       "      <td>1</td>\n",
       "    </tr>\n",
       "    <tr>\n",
       "      <th>Район Беговой</th>\n",
       "      <td>1</td>\n",
       "    </tr>\n",
       "    <tr>\n",
       "      <th>Район Аэропорт</th>\n",
       "      <td>1</td>\n",
       "    </tr>\n",
       "    <tr>\n",
       "      <th>Пресненский район</th>\n",
       "      <td>1</td>\n",
       "    </tr>\n",
       "    <tr>\n",
       "      <th>Останкинский район</th>\n",
       "      <td>1</td>\n",
       "    </tr>\n",
       "    <tr>\n",
       "      <th>Нагорный район</th>\n",
       "      <td>1</td>\n",
       "    </tr>\n",
       "    <tr>\n",
       "      <th>Мещанский район</th>\n",
       "      <td>1</td>\n",
       "    </tr>\n",
       "    <tr>\n",
       "      <th>Ярославский Район</th>\n",
       "      <td>1</td>\n",
       "    </tr>\n",
       "  </tbody>\n",
       "</table>\n",
       "</div>"
      ],
      "text/plain": [
       "                                 streetname\n",
       "area                                       \n",
       "Район Чертаново Центральное               2\n",
       "Донской район                             2\n",
       "Ломоносовский район                       2\n",
       "Район Проспект Вернадского                2\n",
       "Обручевский район                         2\n",
       "Район Теплый Стан                         2\n",
       "Район Нагатино-Садовники                  2\n",
       "Район Чертаново Южное                     2\n",
       "Район Тропарево-Никулино                  2\n",
       "Район Гагаринский                         2\n",
       "Район Чертаново Северное                  2\n",
       "Район Фили-Давыдково                      1\n",
       "Район Сокол                               1\n",
       "Академический район                       1\n",
       "Район Черемушки                           1\n",
       "Район Свиблово                            1\n",
       "Район Южное Бутово                        1\n",
       "Район Якиманка                            1\n",
       "Район Ясенево                             1\n",
       "Хорошевский район                         1\n",
       "Район Северное Бутово                     1\n",
       "Район Орехово-Борисово Южное              1\n",
       "Район Ростокино                           1\n",
       "Район Раменки                             1\n",
       "Алексеевский район                        1\n",
       "Район Орехово-Борисово Северное           1\n",
       "Район Москворечье-Сабурово                1\n",
       "Район Марьина роща                        1\n",
       "Район Коньково                            1\n",
       "Район Дорогомилово                        1\n",
       "Район Беговой                             1\n",
       "Район Аэропорт                            1\n",
       "Пресненский район                         1\n",
       "Останкинский район                        1\n",
       "Нагорный район                            1\n",
       "Мещанский район                           1\n",
       "Ярославский Район                         1"
      ]
     },
     "execution_count": 33,
     "metadata": {},
     "output_type": "execute_result"
    }
   ],
   "source": [
    "top_street.groupby('area').agg({'streetname':'count'}).sort_values(by = 'streetname', ascending = False)"
   ]
  },
  {
   "cell_type": "markdown",
   "metadata": {},
   "source": [
    "Можно выделить 11 районов, гда расположено две улицы с наибольшим количеством заведений общественного питания.\n",
    "* Район Чертаново Центральное\n",
    "* Донской район\n",
    "* Ломоносовский район\n",
    "* Район Проспект Вернадского\n",
    "* Обручевский район\n",
    "* Район Теплый Стан\n",
    "* Район Нагатино-Садовники\n",
    "* Район Чертаново Южное\n",
    "* Район Тропарево-Никулино\n",
    "* Район Гагаринский\n",
    "* Район Чертаново Северное"
   ]
  },
  {
   "cell_type": "markdown",
   "metadata": {},
   "source": [
    "<a id='2.7'></a>"
   ]
  },
  {
   "cell_type": "markdown",
   "metadata": {},
   "source": [
    "### Число улиц с одним объектом общественного питания"
   ]
  },
  {
   "cell_type": "code",
   "execution_count": 34,
   "metadata": {},
   "outputs": [
    {
     "data": {
      "text/html": [
       "<div>\n",
       "<style scoped>\n",
       "    .dataframe tbody tr th:only-of-type {\n",
       "        vertical-align: middle;\n",
       "    }\n",
       "\n",
       "    .dataframe tbody tr th {\n",
       "        vertical-align: top;\n",
       "    }\n",
       "\n",
       "    .dataframe thead th {\n",
       "        text-align: right;\n",
       "    }\n",
       "</style>\n",
       "<table border=\"1\" class=\"dataframe\">\n",
       "  <thead>\n",
       "    <tr style=\"text-align: right;\">\n",
       "      <th></th>\n",
       "      <th>total</th>\n",
       "    </tr>\n",
       "    <tr>\n",
       "      <th>street</th>\n",
       "      <th></th>\n",
       "    </tr>\n",
       "  </thead>\n",
       "  <tbody>\n",
       "    <tr>\n",
       "      <th>Новопресненский переулок</th>\n",
       "      <td>1</td>\n",
       "    </tr>\n",
       "    <tr>\n",
       "      <th>Вяземская улица</th>\n",
       "      <td>1</td>\n",
       "    </tr>\n",
       "    <tr>\n",
       "      <th>улица Раевского</th>\n",
       "      <td>1</td>\n",
       "    </tr>\n",
       "    <tr>\n",
       "      <th>Таёжная улица</th>\n",
       "      <td>1</td>\n",
       "    </tr>\n",
       "    <tr>\n",
       "      <th>Газгольдерная улица</th>\n",
       "      <td>1</td>\n",
       "    </tr>\n",
       "    <tr>\n",
       "      <th>Тарханская улица</th>\n",
       "      <td>1</td>\n",
       "    </tr>\n",
       "    <tr>\n",
       "      <th>Тарусская улица</th>\n",
       "      <td>1</td>\n",
       "    </tr>\n",
       "    <tr>\n",
       "      <th>Гаражная улица</th>\n",
       "      <td>1</td>\n",
       "    </tr>\n",
       "    <tr>\n",
       "      <th>Театральная аллея</th>\n",
       "      <td>1</td>\n",
       "    </tr>\n",
       "    <tr>\n",
       "      <th>Гвардейская улица</th>\n",
       "      <td>1</td>\n",
       "    </tr>\n",
       "    <tr>\n",
       "      <th>Гжельский переулок</th>\n",
       "      <td>1</td>\n",
       "    </tr>\n",
       "    <tr>\n",
       "      <th>Глазовский переулок</th>\n",
       "      <td>1</td>\n",
       "    </tr>\n",
       "    <tr>\n",
       "      <th>Глебовская улица</th>\n",
       "      <td>1</td>\n",
       "    </tr>\n",
       "    <tr>\n",
       "      <th>Глинистый переулок</th>\n",
       "      <td>1</td>\n",
       "    </tr>\n",
       "    <tr>\n",
       "      <th>Глинищевский переулок</th>\n",
       "      <td>1</td>\n",
       "    </tr>\n",
       "    <tr>\n",
       "      <th>Таможенный проезд</th>\n",
       "      <td>1</td>\n",
       "    </tr>\n",
       "    <tr>\n",
       "      <th>улица Фадеева</th>\n",
       "      <td>1</td>\n",
       "    </tr>\n",
       "    <tr>\n",
       "      <th>Гжатская улица</th>\n",
       "      <td>1</td>\n",
       "    </tr>\n",
       "    <tr>\n",
       "      <th>Высокая улица</th>\n",
       "      <td>1</td>\n",
       "    </tr>\n",
       "    <tr>\n",
       "      <th>Выползов переулок</th>\n",
       "      <td>1</td>\n",
       "    </tr>\n",
       "    <tr>\n",
       "      <th>Тенистый проезд</th>\n",
       "      <td>1</td>\n",
       "    </tr>\n",
       "    <tr>\n",
       "      <th>Успенский переулок</th>\n",
       "      <td>1</td>\n",
       "    </tr>\n",
       "    <tr>\n",
       "      <th>Уржумская улица</th>\n",
       "      <td>1</td>\n",
       "    </tr>\n",
       "    <tr>\n",
       "      <th>Винницкая улица</th>\n",
       "      <td>1</td>\n",
       "    </tr>\n",
       "    <tr>\n",
       "      <th>Тургеневская площадь</th>\n",
       "      <td>1</td>\n",
       "    </tr>\n",
       "    <tr>\n",
       "      <th>улица Фонвизина</th>\n",
       "      <td>1</td>\n",
       "    </tr>\n",
       "    <tr>\n",
       "      <th>Волоцкой переулок</th>\n",
       "      <td>1</td>\n",
       "    </tr>\n",
       "    <tr>\n",
       "      <th>Троилинский переулок</th>\n",
       "      <td>1</td>\n",
       "    </tr>\n",
       "    <tr>\n",
       "      <th>Триумфальная площадь</th>\n",
       "      <td>1</td>\n",
       "    </tr>\n",
       "    <tr>\n",
       "      <th>Тихий тупик</th>\n",
       "      <td>1</td>\n",
       "    </tr>\n",
       "    <tr>\n",
       "      <th>...</th>\n",
       "      <td>...</td>\n",
       "    </tr>\n",
       "    <tr>\n",
       "      <th>дом 8</th>\n",
       "      <td>1</td>\n",
       "    </tr>\n",
       "    <tr>\n",
       "      <th>Бескудниковский переулок</th>\n",
       "      <td>1</td>\n",
       "    </tr>\n",
       "    <tr>\n",
       "      <th>улица Щорса</th>\n",
       "      <td>1</td>\n",
       "    </tr>\n",
       "    <tr>\n",
       "      <th>Малый Каретный переулок</th>\n",
       "      <td>1</td>\n",
       "    </tr>\n",
       "    <tr>\n",
       "      <th>7-й Ростовский переулок</th>\n",
       "      <td>1</td>\n",
       "    </tr>\n",
       "    <tr>\n",
       "      <th>67-й километр Московской Кольцевой Автодороги</th>\n",
       "      <td>1</td>\n",
       "    </tr>\n",
       "    <tr>\n",
       "      <th>5-й проезд Подбельского</th>\n",
       "      <td>1</td>\n",
       "    </tr>\n",
       "    <tr>\n",
       "      <th>улица Артюхиной</th>\n",
       "      <td>1</td>\n",
       "    </tr>\n",
       "    <tr>\n",
       "      <th>5-й проезд Марьиной Рощи</th>\n",
       "      <td>1</td>\n",
       "    </tr>\n",
       "    <tr>\n",
       "      <th>78-й километр Московской Кольцевой Автодороги</th>\n",
       "      <td>1</td>\n",
       "    </tr>\n",
       "    <tr>\n",
       "      <th>65-й километр Московской Кольцевой Автодороги</th>\n",
       "      <td>1</td>\n",
       "    </tr>\n",
       "    <tr>\n",
       "      <th>улица Богданова</th>\n",
       "      <td>1</td>\n",
       "    </tr>\n",
       "    <tr>\n",
       "      <th>7-я улица Лазенки</th>\n",
       "      <td>1</td>\n",
       "    </tr>\n",
       "    <tr>\n",
       "      <th>56-й километр Московской Кольцевой Автодороги</th>\n",
       "      <td>1</td>\n",
       "    </tr>\n",
       "    <tr>\n",
       "      <th>8-й проезд Марьиной Рощи</th>\n",
       "      <td>1</td>\n",
       "    </tr>\n",
       "    <tr>\n",
       "      <th>7-я Северная линия</th>\n",
       "      <td>1</td>\n",
       "    </tr>\n",
       "    <tr>\n",
       "      <th>6-я улица Новые Сады</th>\n",
       "      <td>1</td>\n",
       "    </tr>\n",
       "    <tr>\n",
       "      <th>улица Павла Андреева</th>\n",
       "      <td>1</td>\n",
       "    </tr>\n",
       "    <tr>\n",
       "      <th>5-й Рощинский проезд</th>\n",
       "      <td>1</td>\n",
       "    </tr>\n",
       "    <tr>\n",
       "      <th>улица Богородский Вал</th>\n",
       "      <td>1</td>\n",
       "    </tr>\n",
       "    <tr>\n",
       "      <th>6-я Кожуховская улица</th>\n",
       "      <td>1</td>\n",
       "    </tr>\n",
       "    <tr>\n",
       "      <th>улица Анатолия Живова</th>\n",
       "      <td>1</td>\n",
       "    </tr>\n",
       "    <tr>\n",
       "      <th>5-й Монетчиковский переулок</th>\n",
       "      <td>1</td>\n",
       "    </tr>\n",
       "    <tr>\n",
       "      <th>улица Атарбекова</th>\n",
       "      <td>1</td>\n",
       "    </tr>\n",
       "    <tr>\n",
       "      <th>улица Благуша</th>\n",
       "      <td>1</td>\n",
       "    </tr>\n",
       "    <tr>\n",
       "      <th>80-й километр Московской Кольцевой Автодороги</th>\n",
       "      <td>1</td>\n",
       "    </tr>\n",
       "    <tr>\n",
       "      <th>6-й Лучевой просек</th>\n",
       "      <td>1</td>\n",
       "    </tr>\n",
       "    <tr>\n",
       "      <th>6-я улица Лазенки</th>\n",
       "      <td>1</td>\n",
       "    </tr>\n",
       "    <tr>\n",
       "      <th>8-я улица Соколиной Горы</th>\n",
       "      <td>1</td>\n",
       "    </tr>\n",
       "    <tr>\n",
       "      <th>улица Алексея Дикого</th>\n",
       "      <td>1</td>\n",
       "    </tr>\n",
       "  </tbody>\n",
       "</table>\n",
       "<p>579 rows × 1 columns</p>\n",
       "</div>"
      ],
      "text/plain": [
       "                                               total\n",
       "street                                              \n",
       "Новопресненский переулок                           1\n",
       "Вяземская улица                                    1\n",
       "улица Раевского                                    1\n",
       "Таёжная улица                                      1\n",
       "Газгольдерная улица                                1\n",
       "Тарханская улица                                   1\n",
       "Тарусская улица                                    1\n",
       "Гаражная улица                                     1\n",
       "Театральная аллея                                  1\n",
       "Гвардейская улица                                  1\n",
       "Гжельский переулок                                 1\n",
       "Глазовский переулок                                1\n",
       "Глебовская улица                                   1\n",
       "Глинистый переулок                                 1\n",
       "Глинищевский переулок                              1\n",
       "Таможенный проезд                                  1\n",
       "улица Фадеева                                      1\n",
       "Гжатская улица                                     1\n",
       "Высокая улица                                      1\n",
       "Выползов переулок                                  1\n",
       "Тенистый проезд                                    1\n",
       "Успенский переулок                                 1\n",
       "Уржумская улица                                    1\n",
       "Винницкая улица                                    1\n",
       "Тургеневская площадь                               1\n",
       "улица Фонвизина                                    1\n",
       "Волоцкой переулок                                  1\n",
       "Троилинский переулок                               1\n",
       "Триумфальная площадь                               1\n",
       "Тихий тупик                                        1\n",
       "...                                              ...\n",
       "дом 8                                              1\n",
       "Бескудниковский переулок                           1\n",
       "улица Щорса                                        1\n",
       "Малый Каретный переулок                            1\n",
       "7-й Ростовский переулок                            1\n",
       "67-й километр Московской Кольцевой Автодороги      1\n",
       "5-й проезд Подбельского                            1\n",
       "улица Артюхиной                                    1\n",
       "5-й проезд Марьиной Рощи                           1\n",
       "78-й километр Московской Кольцевой Автодороги      1\n",
       "65-й километр Московской Кольцевой Автодороги      1\n",
       "улица Богданова                                    1\n",
       "7-я улица Лазенки                                  1\n",
       "56-й километр Московской Кольцевой Автодороги      1\n",
       "8-й проезд Марьиной Рощи                           1\n",
       "7-я Северная линия                                 1\n",
       "6-я улица Новые Сады                               1\n",
       "улица Павла Андреева                               1\n",
       "5-й Рощинский проезд                               1\n",
       "улица Богородский Вал                              1\n",
       "6-я Кожуховская улица                              1\n",
       "улица Анатолия Живова                              1\n",
       "5-й Монетчиковский переулок                        1\n",
       "улица Атарбекова                                   1\n",
       "улица Благуша                                      1\n",
       "80-й километр Московской Кольцевой Автодороги      1\n",
       "6-й Лучевой просек                                 1\n",
       "6-я улица Лазенки                                  1\n",
       "8-я улица Соколиной Горы                           1\n",
       "улица Алексея Дикого                               1\n",
       "\n",
       "[579 rows x 1 columns]"
      ]
     },
     "execution_count": 34,
     "metadata": {},
     "output_type": "execute_result"
    }
   ],
   "source": [
    "street_with_1 = rest_data.groupby('street').agg({'id':'count'})\\\n",
    "                .sort_values(by = 'id',ascending = True).rename(columns = {'id':'total'}).query('total == 1')\n",
    "street_with_1"
   ]
  },
  {
   "cell_type": "code",
   "execution_count": 35,
   "metadata": {},
   "outputs": [
    {
     "data": {
      "text/html": [
       "<div>\n",
       "<style scoped>\n",
       "    .dataframe tbody tr th:only-of-type {\n",
       "        vertical-align: middle;\n",
       "    }\n",
       "\n",
       "    .dataframe tbody tr th {\n",
       "        vertical-align: top;\n",
       "    }\n",
       "\n",
       "    .dataframe thead th {\n",
       "        text-align: right;\n",
       "    }\n",
       "</style>\n",
       "<table border=\"1\" class=\"dataframe\">\n",
       "  <thead>\n",
       "    <tr style=\"text-align: right;\">\n",
       "      <th></th>\n",
       "      <th>total</th>\n",
       "      <th>streetname</th>\n",
       "      <th>area</th>\n",
       "    </tr>\n",
       "  </thead>\n",
       "  <tbody>\n",
       "    <tr>\n",
       "      <th>0</th>\n",
       "      <td>1</td>\n",
       "      <td>Новопресненский переулок</td>\n",
       "      <td>Пресненский район</td>\n",
       "    </tr>\n",
       "    <tr>\n",
       "      <th>1</th>\n",
       "      <td>1</td>\n",
       "      <td>Вяземская улица</td>\n",
       "      <td>Можайский Район</td>\n",
       "    </tr>\n",
       "    <tr>\n",
       "      <th>2</th>\n",
       "      <td>1</td>\n",
       "      <td>улица Раевского</td>\n",
       "      <td>Район Дорогомилово</td>\n",
       "    </tr>\n",
       "    <tr>\n",
       "      <th>3</th>\n",
       "      <td>1</td>\n",
       "      <td>Таёжная улица</td>\n",
       "      <td>Лосиноостровский район</td>\n",
       "    </tr>\n",
       "    <tr>\n",
       "      <th>4</th>\n",
       "      <td>1</td>\n",
       "      <td>Газгольдерная улица</td>\n",
       "      <td>Нижегородский район</td>\n",
       "    </tr>\n",
       "    <tr>\n",
       "      <th>5</th>\n",
       "      <td>1</td>\n",
       "      <td>Тарханская улица</td>\n",
       "      <td>Район Выхино-Жулебино</td>\n",
       "    </tr>\n",
       "    <tr>\n",
       "      <th>6</th>\n",
       "      <td>1</td>\n",
       "      <td>Тарусская улица</td>\n",
       "      <td>Район Ясенево</td>\n",
       "    </tr>\n",
       "    <tr>\n",
       "      <th>7</th>\n",
       "      <td>1</td>\n",
       "      <td>Гаражная улица</td>\n",
       "      <td>Район Соколиная Гора</td>\n",
       "    </tr>\n",
       "    <tr>\n",
       "      <th>8</th>\n",
       "      <td>1</td>\n",
       "      <td>Театральная аллея</td>\n",
       "      <td>Район Аэропорт</td>\n",
       "    </tr>\n",
       "    <tr>\n",
       "      <th>9</th>\n",
       "      <td>1</td>\n",
       "      <td>Гвардейская улица</td>\n",
       "      <td>Можайский Район</td>\n",
       "    </tr>\n",
       "    <tr>\n",
       "      <th>10</th>\n",
       "      <td>1</td>\n",
       "      <td>Гжельский переулок</td>\n",
       "      <td>Таганский район</td>\n",
       "    </tr>\n",
       "    <tr>\n",
       "      <th>11</th>\n",
       "      <td>1</td>\n",
       "      <td>Глазовский переулок</td>\n",
       "      <td>Район Арбат</td>\n",
       "    </tr>\n",
       "    <tr>\n",
       "      <th>12</th>\n",
       "      <td>1</td>\n",
       "      <td>Глазовский переулок</td>\n",
       "      <td>Район Хамовники</td>\n",
       "    </tr>\n",
       "    <tr>\n",
       "      <th>13</th>\n",
       "      <td>1</td>\n",
       "      <td>Глебовская улица</td>\n",
       "      <td>Район Богородское</td>\n",
       "    </tr>\n",
       "    <tr>\n",
       "      <th>14</th>\n",
       "      <td>1</td>\n",
       "      <td>Глинистый переулок</td>\n",
       "      <td>Мещанский район</td>\n",
       "    </tr>\n",
       "    <tr>\n",
       "      <th>15</th>\n",
       "      <td>1</td>\n",
       "      <td>Глинищевский переулок</td>\n",
       "      <td>Тверской район</td>\n",
       "    </tr>\n",
       "    <tr>\n",
       "      <th>16</th>\n",
       "      <td>1</td>\n",
       "      <td>Таможенный проезд</td>\n",
       "      <td>Район Лефортово</td>\n",
       "    </tr>\n",
       "    <tr>\n",
       "      <th>17</th>\n",
       "      <td>1</td>\n",
       "      <td>улица Фадеева</td>\n",
       "      <td>Тверской район</td>\n",
       "    </tr>\n",
       "    <tr>\n",
       "      <th>18</th>\n",
       "      <td>1</td>\n",
       "      <td>Гжатская улица</td>\n",
       "      <td>Можайский Район</td>\n",
       "    </tr>\n",
       "    <tr>\n",
       "      <th>19</th>\n",
       "      <td>1</td>\n",
       "      <td>Высокая улица</td>\n",
       "      <td>Район Нагатино-Садовники</td>\n",
       "    </tr>\n",
       "    <tr>\n",
       "      <th>20</th>\n",
       "      <td>1</td>\n",
       "      <td>Выползов переулок</td>\n",
       "      <td>Мещанский район</td>\n",
       "    </tr>\n",
       "    <tr>\n",
       "      <th>21</th>\n",
       "      <td>1</td>\n",
       "      <td>Тенистый проезд</td>\n",
       "      <td>Район Свиблово</td>\n",
       "    </tr>\n",
       "    <tr>\n",
       "      <th>22</th>\n",
       "      <td>1</td>\n",
       "      <td>Успенский переулок</td>\n",
       "      <td>Тверской район</td>\n",
       "    </tr>\n",
       "    <tr>\n",
       "      <th>23</th>\n",
       "      <td>1</td>\n",
       "      <td>Уржумская улица</td>\n",
       "      <td>Район Свиблово</td>\n",
       "    </tr>\n",
       "    <tr>\n",
       "      <th>24</th>\n",
       "      <td>1</td>\n",
       "      <td>Винницкая улица</td>\n",
       "      <td>Район Раменки</td>\n",
       "    </tr>\n",
       "    <tr>\n",
       "      <th>25</th>\n",
       "      <td>1</td>\n",
       "      <td>Тургеневская площадь</td>\n",
       "      <td>Красносельский район</td>\n",
       "    </tr>\n",
       "    <tr>\n",
       "      <th>26</th>\n",
       "      <td>1</td>\n",
       "      <td>улица Фонвизина</td>\n",
       "      <td>Бутырский район</td>\n",
       "    </tr>\n",
       "    <tr>\n",
       "      <th>27</th>\n",
       "      <td>1</td>\n",
       "      <td>Волоцкой переулок</td>\n",
       "      <td>Район Митино</td>\n",
       "    </tr>\n",
       "    <tr>\n",
       "      <th>28</th>\n",
       "      <td>1</td>\n",
       "      <td>Троилинский переулок</td>\n",
       "      <td>Район Арбат</td>\n",
       "    </tr>\n",
       "    <tr>\n",
       "      <th>29</th>\n",
       "      <td>1</td>\n",
       "      <td>Триумфальная площадь</td>\n",
       "      <td>Тверской район</td>\n",
       "    </tr>\n",
       "    <tr>\n",
       "      <th>...</th>\n",
       "      <td>...</td>\n",
       "      <td>...</td>\n",
       "      <td>...</td>\n",
       "    </tr>\n",
       "    <tr>\n",
       "      <th>592</th>\n",
       "      <td>1</td>\n",
       "      <td>Малый Каретный переулок</td>\n",
       "      <td>Тверской район</td>\n",
       "    </tr>\n",
       "    <tr>\n",
       "      <th>593</th>\n",
       "      <td>1</td>\n",
       "      <td>7-й Ростовский переулок</td>\n",
       "      <td>Район Хамовники</td>\n",
       "    </tr>\n",
       "    <tr>\n",
       "      <th>594</th>\n",
       "      <td>1</td>\n",
       "      <td>NaN</td>\n",
       "      <td>NaN</td>\n",
       "    </tr>\n",
       "    <tr>\n",
       "      <th>595</th>\n",
       "      <td>1</td>\n",
       "      <td>5-й проезд Подбельского</td>\n",
       "      <td>Район Богородское</td>\n",
       "    </tr>\n",
       "    <tr>\n",
       "      <th>596</th>\n",
       "      <td>1</td>\n",
       "      <td>улица Артюхиной</td>\n",
       "      <td>Район Текстильщики</td>\n",
       "    </tr>\n",
       "    <tr>\n",
       "      <th>597</th>\n",
       "      <td>1</td>\n",
       "      <td>5-й проезд Марьиной Рощи</td>\n",
       "      <td>Район Марьина роща</td>\n",
       "    </tr>\n",
       "    <tr>\n",
       "      <th>598</th>\n",
       "      <td>1</td>\n",
       "      <td>NaN</td>\n",
       "      <td>NaN</td>\n",
       "    </tr>\n",
       "    <tr>\n",
       "      <th>599</th>\n",
       "      <td>1</td>\n",
       "      <td>NaN</td>\n",
       "      <td>NaN</td>\n",
       "    </tr>\n",
       "    <tr>\n",
       "      <th>600</th>\n",
       "      <td>1</td>\n",
       "      <td>улица Богданова</td>\n",
       "      <td>Район Солнцево</td>\n",
       "    </tr>\n",
       "    <tr>\n",
       "      <th>601</th>\n",
       "      <td>1</td>\n",
       "      <td>7-я улица Лазенки</td>\n",
       "      <td>Район Ново-Переделкино</td>\n",
       "    </tr>\n",
       "    <tr>\n",
       "      <th>602</th>\n",
       "      <td>1</td>\n",
       "      <td>NaN</td>\n",
       "      <td>NaN</td>\n",
       "    </tr>\n",
       "    <tr>\n",
       "      <th>603</th>\n",
       "      <td>1</td>\n",
       "      <td>8-й проезд Марьиной Рощи</td>\n",
       "      <td>Район Марьина роща</td>\n",
       "    </tr>\n",
       "    <tr>\n",
       "      <th>604</th>\n",
       "      <td>1</td>\n",
       "      <td>7-я Северная линия</td>\n",
       "      <td>Район Северный</td>\n",
       "    </tr>\n",
       "    <tr>\n",
       "      <th>605</th>\n",
       "      <td>1</td>\n",
       "      <td>6-я улица Новые Сады</td>\n",
       "      <td>Район Ново-Переделкино</td>\n",
       "    </tr>\n",
       "    <tr>\n",
       "      <th>606</th>\n",
       "      <td>1</td>\n",
       "      <td>улица Павла Андреева</td>\n",
       "      <td>Район Замоскворечье</td>\n",
       "    </tr>\n",
       "    <tr>\n",
       "      <th>607</th>\n",
       "      <td>1</td>\n",
       "      <td>улица Павла Андреева</td>\n",
       "      <td>Даниловский район</td>\n",
       "    </tr>\n",
       "    <tr>\n",
       "      <th>608</th>\n",
       "      <td>1</td>\n",
       "      <td>5-й Рощинский проезд</td>\n",
       "      <td>Даниловский район</td>\n",
       "    </tr>\n",
       "    <tr>\n",
       "      <th>609</th>\n",
       "      <td>1</td>\n",
       "      <td>улица Богородский Вал</td>\n",
       "      <td>Район Богородское</td>\n",
       "    </tr>\n",
       "    <tr>\n",
       "      <th>610</th>\n",
       "      <td>1</td>\n",
       "      <td>улица Богородский Вал</td>\n",
       "      <td>Район Преображенское</td>\n",
       "    </tr>\n",
       "    <tr>\n",
       "      <th>611</th>\n",
       "      <td>1</td>\n",
       "      <td>6-я Кожуховская улица</td>\n",
       "      <td>Южнопортовый Район</td>\n",
       "    </tr>\n",
       "    <tr>\n",
       "      <th>612</th>\n",
       "      <td>1</td>\n",
       "      <td>улица Анатолия Живова</td>\n",
       "      <td>Пресненский район</td>\n",
       "    </tr>\n",
       "    <tr>\n",
       "      <th>613</th>\n",
       "      <td>1</td>\n",
       "      <td>5-й Монетчиковский переулок</td>\n",
       "      <td>Район Замоскворечье</td>\n",
       "    </tr>\n",
       "    <tr>\n",
       "      <th>614</th>\n",
       "      <td>1</td>\n",
       "      <td>улица Атарбекова</td>\n",
       "      <td>Район Преображенское</td>\n",
       "    </tr>\n",
       "    <tr>\n",
       "      <th>615</th>\n",
       "      <td>1</td>\n",
       "      <td>улица Благуша</td>\n",
       "      <td>Район Соколиная Гора</td>\n",
       "    </tr>\n",
       "    <tr>\n",
       "      <th>616</th>\n",
       "      <td>1</td>\n",
       "      <td>NaN</td>\n",
       "      <td>NaN</td>\n",
       "    </tr>\n",
       "    <tr>\n",
       "      <th>617</th>\n",
       "      <td>1</td>\n",
       "      <td>6-й Лучевой просек</td>\n",
       "      <td>Район Сокольники</td>\n",
       "    </tr>\n",
       "    <tr>\n",
       "      <th>618</th>\n",
       "      <td>1</td>\n",
       "      <td>6-я улица Лазенки</td>\n",
       "      <td>Район Ново-Переделкино</td>\n",
       "    </tr>\n",
       "    <tr>\n",
       "      <th>619</th>\n",
       "      <td>1</td>\n",
       "      <td>8-я улица Соколиной Горы</td>\n",
       "      <td>Район Измайлово</td>\n",
       "    </tr>\n",
       "    <tr>\n",
       "      <th>620</th>\n",
       "      <td>1</td>\n",
       "      <td>8-я улица Соколиной Горы</td>\n",
       "      <td>Район Соколиная Гора</td>\n",
       "    </tr>\n",
       "    <tr>\n",
       "      <th>621</th>\n",
       "      <td>1</td>\n",
       "      <td>улица Алексея Дикого</td>\n",
       "      <td>Район Новогиреево</td>\n",
       "    </tr>\n",
       "  </tbody>\n",
       "</table>\n",
       "<p>622 rows × 3 columns</p>\n",
       "</div>"
      ],
      "text/plain": [
       "     total                   streetname                      area\n",
       "0        1     Новопресненский переулок         Пресненский район\n",
       "1        1              Вяземская улица           Можайский Район\n",
       "2        1              улица Раевского        Район Дорогомилово\n",
       "3        1                Таёжная улица    Лосиноостровский район\n",
       "4        1          Газгольдерная улица       Нижегородский район\n",
       "5        1             Тарханская улица     Район Выхино-Жулебино\n",
       "6        1              Тарусская улица             Район Ясенево\n",
       "7        1               Гаражная улица      Район Соколиная Гора\n",
       "8        1            Театральная аллея            Район Аэропорт\n",
       "9        1            Гвардейская улица           Можайский Район\n",
       "10       1           Гжельский переулок           Таганский район\n",
       "11       1          Глазовский переулок               Район Арбат\n",
       "12       1          Глазовский переулок           Район Хамовники\n",
       "13       1             Глебовская улица         Район Богородское\n",
       "14       1           Глинистый переулок           Мещанский район\n",
       "15       1        Глинищевский переулок            Тверской район\n",
       "16       1            Таможенный проезд           Район Лефортово\n",
       "17       1                улица Фадеева            Тверской район\n",
       "18       1               Гжатская улица           Можайский Район\n",
       "19       1                Высокая улица  Район Нагатино-Садовники\n",
       "20       1            Выползов переулок           Мещанский район\n",
       "21       1              Тенистый проезд            Район Свиблово\n",
       "22       1           Успенский переулок            Тверской район\n",
       "23       1              Уржумская улица            Район Свиблово\n",
       "24       1              Винницкая улица             Район Раменки\n",
       "25       1         Тургеневская площадь      Красносельский район\n",
       "26       1              улица Фонвизина           Бутырский район\n",
       "27       1            Волоцкой переулок              Район Митино\n",
       "28       1         Троилинский переулок               Район Арбат\n",
       "29       1         Триумфальная площадь            Тверской район\n",
       "..     ...                          ...                       ...\n",
       "592      1      Малый Каретный переулок            Тверской район\n",
       "593      1      7-й Ростовский переулок           Район Хамовники\n",
       "594      1                          NaN                       NaN\n",
       "595      1      5-й проезд Подбельского         Район Богородское\n",
       "596      1              улица Артюхиной        Район Текстильщики\n",
       "597      1     5-й проезд Марьиной Рощи        Район Марьина роща\n",
       "598      1                          NaN                       NaN\n",
       "599      1                          NaN                       NaN\n",
       "600      1              улица Богданова            Район Солнцево\n",
       "601      1            7-я улица Лазенки    Район Ново-Переделкино\n",
       "602      1                          NaN                       NaN\n",
       "603      1     8-й проезд Марьиной Рощи        Район Марьина роща\n",
       "604      1           7-я Северная линия            Район Северный\n",
       "605      1         6-я улица Новые Сады    Район Ново-Переделкино\n",
       "606      1         улица Павла Андреева       Район Замоскворечье\n",
       "607      1         улица Павла Андреева         Даниловский район\n",
       "608      1         5-й Рощинский проезд         Даниловский район\n",
       "609      1        улица Богородский Вал         Район Богородское\n",
       "610      1        улица Богородский Вал      Район Преображенское\n",
       "611      1        6-я Кожуховская улица        Южнопортовый Район\n",
       "612      1        улица Анатолия Живова         Пресненский район\n",
       "613      1  5-й Монетчиковский переулок       Район Замоскворечье\n",
       "614      1             улица Атарбекова      Район Преображенское\n",
       "615      1                улица Благуша      Район Соколиная Гора\n",
       "616      1                          NaN                       NaN\n",
       "617      1           6-й Лучевой просек          Район Сокольники\n",
       "618      1            6-я улица Лазенки    Район Ново-Переделкино\n",
       "619      1     8-я улица Соколиной Горы           Район Измайлово\n",
       "620      1     8-я улица Соколиной Горы      Район Соколиная Гора\n",
       "621      1         улица Алексея Дикого         Район Новогиреево\n",
       "\n",
       "[622 rows x 3 columns]"
      ]
     },
     "execution_count": 35,
     "metadata": {},
     "output_type": "execute_result"
    }
   ],
   "source": [
    "street_with_1 = street_with_1.merge(df[['streetname','area']], left_on = 'street', right_on = 'streetname', how = 'left')\n",
    "street_with_1"
   ]
  },
  {
   "cell_type": "code",
   "execution_count": 36,
   "metadata": {},
   "outputs": [
    {
     "data": {
      "text/html": [
       "<div>\n",
       "<style scoped>\n",
       "    .dataframe tbody tr th:only-of-type {\n",
       "        vertical-align: middle;\n",
       "    }\n",
       "\n",
       "    .dataframe tbody tr th {\n",
       "        vertical-align: top;\n",
       "    }\n",
       "\n",
       "    .dataframe thead th {\n",
       "        text-align: right;\n",
       "    }\n",
       "</style>\n",
       "<table border=\"1\" class=\"dataframe\">\n",
       "  <thead>\n",
       "    <tr style=\"text-align: right;\">\n",
       "      <th></th>\n",
       "      <th>streetname</th>\n",
       "    </tr>\n",
       "    <tr>\n",
       "      <th>area</th>\n",
       "      <th></th>\n",
       "    </tr>\n",
       "  </thead>\n",
       "  <tbody>\n",
       "    <tr>\n",
       "      <th>Таганский район</th>\n",
       "      <td>27</td>\n",
       "    </tr>\n",
       "    <tr>\n",
       "      <th>Район Хамовники</th>\n",
       "      <td>26</td>\n",
       "    </tr>\n",
       "    <tr>\n",
       "      <th>Басманный район</th>\n",
       "      <td>25</td>\n",
       "    </tr>\n",
       "    <tr>\n",
       "      <th>Тверской район</th>\n",
       "      <td>20</td>\n",
       "    </tr>\n",
       "    <tr>\n",
       "      <th>Пресненский район</th>\n",
       "      <td>19</td>\n",
       "    </tr>\n",
       "    <tr>\n",
       "      <th>Район Марьина роща</th>\n",
       "      <td>18</td>\n",
       "    </tr>\n",
       "    <tr>\n",
       "      <th>Район Арбат</th>\n",
       "      <td>17</td>\n",
       "    </tr>\n",
       "    <tr>\n",
       "      <th>Мещанский район</th>\n",
       "      <td>16</td>\n",
       "    </tr>\n",
       "    <tr>\n",
       "      <th>Район Сокольники</th>\n",
       "      <td>15</td>\n",
       "    </tr>\n",
       "    <tr>\n",
       "      <th>Район Замоскворечье</th>\n",
       "      <td>14</td>\n",
       "    </tr>\n",
       "  </tbody>\n",
       "</table>\n",
       "</div>"
      ],
      "text/plain": [
       "                     streetname\n",
       "area                           \n",
       "Таганский район              27\n",
       "Район Хамовники              26\n",
       "Басманный район              25\n",
       "Тверской район               20\n",
       "Пресненский район            19\n",
       "Район Марьина роща           18\n",
       "Район Арбат                  17\n",
       "Мещанский район              16\n",
       "Район Сокольники             15\n",
       "Район Замоскворечье          14"
      ]
     },
     "execution_count": 36,
     "metadata": {},
     "output_type": "execute_result"
    }
   ],
   "source": [
    "street_with_1.groupby('area').agg({'streetname':'count'}).sort_values(by = 'streetname', ascending = False).head(10)"
   ]
  },
  {
   "cell_type": "markdown",
   "metadata": {},
   "source": [
    "Наибольшее количество улиц, где расположен 1 объект общественного питания относится к Таганскому району(27), району Хамовники(26) и Басманному району(25)."
   ]
  },
  {
   "cell_type": "markdown",
   "metadata": {},
   "source": [
    "<a id='2.8'></a>"
   ]
  },
  {
   "cell_type": "markdown",
   "metadata": {},
   "source": [
    "### Распределение количества посадочных мест для улиц с большим количеством объектов общественного питания"
   ]
  },
  {
   "cell_type": "code",
   "execution_count": 37,
   "metadata": {},
   "outputs": [],
   "source": [
    "top_1 = ['проспект Мира','Профсоюзная улица','Ленинградский проспект']\n",
    "top_2 = ['Пресненская набережная','Варшавское шоссе','Ленинский проспект']\n",
    "top_3 = ['проспект Вернадского','Кутузовский проспект']\n",
    "top_4 = ['Каширское шоссе','Кировоградская улица']"
   ]
  },
  {
   "cell_type": "code",
   "execution_count": 38,
   "metadata": {},
   "outputs": [
    {
     "data": {
      "image/png": "[encoded data removed]",
      "text/plain": [
       "<Figure size 1080x360 with 3 Axes>"
      ]
     },
     "metadata": {},
     "output_type": "display_data"
    },
    {
     "data": {
      "image/png": "[encoded data removed]",
      "text/plain": [
       "<Figure size 1080x360 with 3 Axes>"
      ]
     },
     "metadata": {},
     "output_type": "display_data"
    },
    {
     "data": {
      "image/png": "[encoded data removed]",
      "text/plain": [
       "<Figure size 720x360 with 2 Axes>"
      ]
     },
     "metadata": {},
     "output_type": "display_data"
    },
    {
     "data": {
      "image/png": "[encoded data removed]",
      "text/plain": [
       "<Figure size 720x360 with 2 Axes>"
      ]
     },
     "metadata": {},
     "output_type": "display_data"
    }
   ],
   "source": [
    "sns.displot(x='number',\n",
    "            col='street',\n",
    "            kde=True,\n",
    "            data=rest_data.query('street in @top_1'),\n",
    "            color = 'green');\n",
    "sns.displot(x='number',\n",
    "            col='street',\n",
    "            kde=True,\n",
    "            data=rest_data.query('street in @top_2'),\n",
    "            color = 'green');\n",
    "sns.displot(x='number',\n",
    "            col='street',\n",
    "            kde=True,\n",
    "            data=rest_data.query('street in @top_3'),\n",
    "            color = 'green');\n",
    "sns.displot(x='number',\n",
    "            col='street',\n",
    "            kde=True,\n",
    "            data=rest_data.query('street in @top_4'),\n",
    "            color = 'green');\n",
    "plt.show()   "
   ]
  },
  {
   "cell_type": "code",
   "execution_count": 39,
   "metadata": {},
   "outputs": [
    {
     "data": {
      "text/html": [
       "<div>\n",
       "<style scoped>\n",
       "    .dataframe tbody tr th:only-of-type {\n",
       "        vertical-align: middle;\n",
       "    }\n",
       "\n",
       "    .dataframe tbody tr th {\n",
       "        vertical-align: top;\n",
       "    }\n",
       "\n",
       "    .dataframe thead th {\n",
       "        text-align: right;\n",
       "    }\n",
       "</style>\n",
       "<table border=\"1\" class=\"dataframe\">\n",
       "  <thead>\n",
       "    <tr style=\"text-align: right;\">\n",
       "      <th></th>\n",
       "      <th>median_number</th>\n",
       "    </tr>\n",
       "    <tr>\n",
       "      <th>street</th>\n",
       "      <th></th>\n",
       "    </tr>\n",
       "  </thead>\n",
       "  <tbody>\n",
       "    <tr>\n",
       "      <th>проспект Мира</th>\n",
       "      <td>46.5</td>\n",
       "    </tr>\n",
       "    <tr>\n",
       "      <th>Ленинский проспект</th>\n",
       "      <td>45.0</td>\n",
       "    </tr>\n",
       "    <tr>\n",
       "      <th>Кутузовский проспект</th>\n",
       "      <td>40.0</td>\n",
       "    </tr>\n",
       "    <tr>\n",
       "      <th>Ленинградский проспект</th>\n",
       "      <td>40.0</td>\n",
       "    </tr>\n",
       "    <tr>\n",
       "      <th>проспект Вернадского</th>\n",
       "      <td>40.0</td>\n",
       "    </tr>\n",
       "    <tr>\n",
       "      <th>Варшавское шоссе</th>\n",
       "      <td>30.0</td>\n",
       "    </tr>\n",
       "    <tr>\n",
       "      <th>Кировоградская улица</th>\n",
       "      <td>30.0</td>\n",
       "    </tr>\n",
       "    <tr>\n",
       "      <th>Пресненская набережная</th>\n",
       "      <td>30.0</td>\n",
       "    </tr>\n",
       "    <tr>\n",
       "      <th>Каширское шоссе</th>\n",
       "      <td>25.0</td>\n",
       "    </tr>\n",
       "    <tr>\n",
       "      <th>Профсоюзная улица</th>\n",
       "      <td>24.0</td>\n",
       "    </tr>\n",
       "  </tbody>\n",
       "</table>\n",
       "</div>"
      ],
      "text/plain": [
       "                        median_number\n",
       "street                               \n",
       "проспект Мира                    46.5\n",
       "Ленинский проспект               45.0\n",
       "Кутузовский проспект             40.0\n",
       "Ленинградский проспект           40.0\n",
       "проспект Вернадского             40.0\n",
       "Варшавское шоссе                 30.0\n",
       "Кировоградская улица             30.0\n",
       "Пресненская набережная           30.0\n",
       "Каширское шоссе                  25.0\n",
       "Профсоюзная улица                24.0"
      ]
     },
     "execution_count": 39,
     "metadata": {},
     "output_type": "execute_result"
    }
   ],
   "source": [
    "top_10 = ['проспект Мира','Профсоюзная улица','Ленинградский проспект','Пресненская набережная','Варшавское шоссе','Ленинский проспект',\n",
    "          'проспект Вернадского','Кутузовский проспект','Каширское шоссе','Кировоградская улица']\n",
    "rest_data.query('street in @top_10').groupby('street').agg({'number':'median'})\\\n",
    "          .sort_values(by = 'number',ascending = False).rename(columns = {'number':'median_number'})"
   ]
  },
  {
   "cell_type": "markdown",
   "metadata": {},
   "source": [
    "Для всех улиц с большим количеством объектов общественного питания, характерно схожее распределение посадочных мест в этих объектах. Распеределение смещено в сторону меньших значений, имеет вид схожий с Пуассоновским распределеним, за счет преобладания в выборках объектов без посадочных мест(0). Медианы от 24 до 46,5 мест, в среднем 35 мест."
   ]
  },
  {
   "cell_type": "markdown",
   "metadata": {},
   "source": [
    "<a id='3'></a>"
   ]
  },
  {
   "cell_type": "markdown",
   "metadata": {},
   "source": [
    "## Вывод"
   ]
  },
  {
   "cell_type": "markdown",
   "metadata": {},
   "source": [
    "1. Состояние рынка\n",
    "\n",
    "Среди типов сетевых и несетевых объектов общественного питанию преобладают кафе. Среди сетевых много ресторанов и предприятий быстрого обслуживания, а среди несетевых - ресторанов и столовых.\n",
    "\n",
    "Большая часть предприятий общественного питания (более 80%) несетевые.\n",
    "\n",
    "Наибольшее количество сетевых заведений от общего числа у предприятий быстрого питания (41.13%), также более 1/4 магазинов и более 1/5 ресторанов и кафе являются сетевыми.\n",
    "\n",
    "Для сетевых заведений более характерно малое количество заведений (менее 4, медиана 1) с большим количеством посадочных мест(более 45 мест, медиана 90 мест)\n",
    "Наибольшее среднее количество посадочных мест в столовых (130,2), далее следуют рестораны (96,8). \n",
    "\n",
    "Наибольшее количество пердприятий общественного питания \n",
    "* на проспекте Мира (204), также в пятерку входят \n",
    "* Профсоюзная улица (182), \n",
    "* Ленинградский просвект(171), \n",
    "* Пресненская набережная(167) \n",
    "* Варшавское шоссе (161). \n",
    "\n",
    "Можно выделить 11 районов, гда расположено две улицы с наибольшим количеством заведений общественного питания.\n",
    "\n",
    "* Район Чертаново Центральное\n",
    "* Донской район\n",
    "* Ломоносовский район\n",
    "* Район Проспект Вернадского\n",
    "* Обручевский район\n",
    "* Район Теплый Стан\n",
    "* Район Нагатино-Садовники\n",
    "* Район Чертаново Южное\n",
    "* Район Тропарево-Никулино\n",
    "* Район Гагаринский\n",
    "* Район Чертаново Северное\n",
    "\n",
    "Наибольшее количество улиц, где расположен 1 объект общественного питания относится \n",
    "* к Таганскому району(27)\n",
    "* району Хамовники(26) \n",
    "* Басманному району(25)\n",
    "\n",
    "Для всех улиц с большим количеством объектов общественного питания, характерно схожее распределение посадочных мест в этих объектах, оно смещено в сторону меньших значений, за счет преобладания в выборках объектов без посадочных мест(0).\n",
    "\n",
    "2. Рекомендации\n",
    "* вид заведения - кафе\n",
    "* район расположения - целесообразнее выбрать одну из улиц с большим количеством заведений общественного питания, желательно ближе к туристическим маршрутам города, для обеспечения большой проходимости людей, так как заведение будет отличаться оригинальностью на фоне других, \"эффект новизны\" будет поддерживаться большими проходящими потоками людей\n",
    "* учитывая расположение на улице с большим количеством заведений общественного питания оптимальное количество посадочных мест 35-40.\n",
    "* как вариант развития можно рассмотреть открытие еще одного филиала на одной из улиц с большой проходимостью также на 35-40 мест. Либо выбрать один из районов с небольшим количеством заведений питания, где меньше конкуренция и открыть заведение вблизи университета или центров внешкольной работы, так как основной контингент, для которого характерна приверженность техническим новинкам подростки и молодежь."
   ]
  },
  {
   "cell_type": "markdown",
   "metadata": {},
   "source": [
    "<a id='4'></a>"
   ]
  },
  {
   "cell_type": "markdown",
   "metadata": {},
   "source": [
    "Презентация: <https://disk.yandex.ru/i/zhayScKRB3oI7w> "
   ]
  }
 ],
 "metadata": {
  "ExecuteTimeLog": [
   {
    "duration": 162,
    "start_time": "2022-03-19T19:22:44.082Z"
   },
   {
    "duration": 152,
    "start_time": "2022-03-19T19:30:03.959Z"
   },
   {
    "duration": 133,
    "start_time": "2022-03-19T19:30:13.204Z"
   },
   {
    "duration": 268,
    "start_time": "2022-03-19T19:35:42.364Z"
   },
   {
    "duration": 1599,
    "start_time": "2022-03-19T19:40:39.732Z"
   },
   {
    "duration": 72,
    "start_time": "2022-03-19T19:41:28.976Z"
   },
   {
    "duration": 15,
    "start_time": "2022-03-19T19:41:48.219Z"
   },
   {
    "duration": 5,
    "start_time": "2022-03-19T19:43:17.412Z"
   },
   {
    "duration": 2574,
    "start_time": "2022-03-19T19:43:30.118Z"
   },
   {
    "duration": 4,
    "start_time": "2022-03-19T19:43:37.879Z"
   },
   {
    "duration": 13,
    "start_time": "2022-03-19T19:46:06.415Z"
   },
   {
    "duration": 9,
    "start_time": "2022-03-19T19:46:14.135Z"
   },
   {
    "duration": 24,
    "start_time": "2022-03-19T19:49:41.268Z"
   },
   {
    "duration": 26,
    "start_time": "2022-03-19T19:51:06.549Z"
   },
   {
    "duration": 16,
    "start_time": "2022-03-19T19:51:17.565Z"
   },
   {
    "duration": 17,
    "start_time": "2022-03-19T19:51:22.787Z"
   },
   {
    "duration": 24,
    "start_time": "2022-03-19T19:51:30.516Z"
   },
   {
    "duration": 15,
    "start_time": "2022-03-19T19:52:17.069Z"
   },
   {
    "duration": 16,
    "start_time": "2022-03-19T19:52:21.148Z"
   },
   {
    "duration": 22,
    "start_time": "2022-03-19T19:52:27.237Z"
   },
   {
    "duration": 7,
    "start_time": "2022-03-19T19:53:50.029Z"
   },
   {
    "duration": 20,
    "start_time": "2022-03-19T19:54:27.882Z"
   },
   {
    "duration": 15,
    "start_time": "2022-03-19T19:55:05.668Z"
   },
   {
    "duration": 23,
    "start_time": "2022-03-19T19:55:14.686Z"
   },
   {
    "duration": 133,
    "start_time": "2022-03-19T19:57:22.103Z"
   },
   {
    "duration": 18,
    "start_time": "2022-03-19T19:57:27.530Z"
   },
   {
    "duration": 17,
    "start_time": "2022-03-19T19:57:47.000Z"
   },
   {
    "duration": 11,
    "start_time": "2022-03-19T19:58:39.835Z"
   },
   {
    "duration": 18,
    "start_time": "2022-03-19T19:59:16.369Z"
   },
   {
    "duration": 2445,
    "start_time": "2022-03-19T20:00:36.538Z"
   },
   {
    "duration": 4,
    "start_time": "2022-03-19T20:01:55.931Z"
   },
   {
    "duration": 10,
    "start_time": "2022-03-19T20:02:01.628Z"
   },
   {
    "duration": 12,
    "start_time": "2022-03-19T20:02:51.179Z"
   },
   {
    "duration": 11,
    "start_time": "2022-03-19T20:03:15.323Z"
   },
   {
    "duration": 11,
    "start_time": "2022-03-19T20:03:23.846Z"
   },
   {
    "duration": 10,
    "start_time": "2022-03-19T20:04:22.365Z"
   },
   {
    "duration": 9,
    "start_time": "2022-03-19T20:04:38.508Z"
   },
   {
    "duration": 11,
    "start_time": "2022-03-19T20:05:18.452Z"
   },
   {
    "duration": 12,
    "start_time": "2022-03-19T20:05:39.453Z"
   },
   {
    "duration": 14,
    "start_time": "2022-03-19T20:06:14.652Z"
   },
   {
    "duration": 14,
    "start_time": "2022-03-19T20:10:07.032Z"
   },
   {
    "duration": 17,
    "start_time": "2022-03-19T20:10:22.439Z"
   },
   {
    "duration": 17,
    "start_time": "2022-03-19T20:10:30.915Z"
   },
   {
    "duration": 15,
    "start_time": "2022-03-19T20:10:43.967Z"
   },
   {
    "duration": 17,
    "start_time": "2022-03-19T20:12:21.880Z"
   },
   {
    "duration": 13,
    "start_time": "2022-03-19T20:12:36.208Z"
   },
   {
    "duration": 4,
    "start_time": "2022-03-19T20:13:28.666Z"
   },
   {
    "duration": 15,
    "start_time": "2022-03-19T20:13:33.729Z"
   },
   {
    "duration": 15,
    "start_time": "2022-03-19T20:13:48.595Z"
   },
   {
    "duration": 7,
    "start_time": "2022-03-19T20:14:38.553Z"
   },
   {
    "duration": 10,
    "start_time": "2022-03-19T20:14:45.625Z"
   },
   {
    "duration": 16,
    "start_time": "2022-03-19T20:15:08.745Z"
   },
   {
    "duration": 10,
    "start_time": "2022-03-19T20:15:15.993Z"
   },
   {
    "duration": 10,
    "start_time": "2022-03-19T20:16:06.233Z"
   },
   {
    "duration": 10,
    "start_time": "2022-03-19T20:16:19.897Z"
   },
   {
    "duration": 10,
    "start_time": "2022-03-19T20:16:25.208Z"
   },
   {
    "duration": 10,
    "start_time": "2022-03-19T20:16:34.209Z"
   },
   {
    "duration": 8,
    "start_time": "2022-03-19T20:16:48.059Z"
   },
   {
    "duration": 10,
    "start_time": "2022-03-19T20:16:52.226Z"
   },
   {
    "duration": 11,
    "start_time": "2022-03-19T20:21:55.140Z"
   },
   {
    "duration": 10,
    "start_time": "2022-03-19T20:22:15.004Z"
   },
   {
    "duration": 11,
    "start_time": "2022-03-19T20:22:36.062Z"
   },
   {
    "duration": 12,
    "start_time": "2022-03-19T20:24:54.029Z"
   },
   {
    "duration": 13,
    "start_time": "2022-03-19T20:25:01.665Z"
   },
   {
    "duration": 10,
    "start_time": "2022-03-19T20:25:30.765Z"
   },
   {
    "duration": 9,
    "start_time": "2022-03-19T20:25:37.517Z"
   },
   {
    "duration": 13,
    "start_time": "2022-03-19T20:30:19.305Z"
   },
   {
    "duration": 14,
    "start_time": "2022-03-19T20:31:08.230Z"
   },
   {
    "duration": 931,
    "start_time": "2022-03-19T20:33:00.978Z"
   },
   {
    "duration": 14,
    "start_time": "2022-03-19T20:33:52.669Z"
   },
   {
    "duration": 13,
    "start_time": "2022-03-19T20:34:15.763Z"
   },
   {
    "duration": 15,
    "start_time": "2022-03-19T20:34:35.787Z"
   },
   {
    "duration": 13,
    "start_time": "2022-03-19T20:34:43.172Z"
   },
   {
    "duration": 885,
    "start_time": "2022-03-19T20:35:29.172Z"
   },
   {
    "duration": 18,
    "start_time": "2022-03-19T20:36:51.980Z"
   },
   {
    "duration": 852,
    "start_time": "2022-03-19T20:37:07.398Z"
   },
   {
    "duration": 882,
    "start_time": "2022-03-19T20:38:25.911Z"
   },
   {
    "duration": 45,
    "start_time": "2022-03-19T20:38:44.647Z"
   },
   {
    "duration": 45,
    "start_time": "2022-03-19T20:39:11.831Z"
   },
   {
    "duration": 78,
    "start_time": "2022-03-20T14:52:41.030Z"
   },
   {
    "duration": 1921,
    "start_time": "2022-03-20T14:52:46.342Z"
   },
   {
    "duration": 62,
    "start_time": "2022-03-20T14:52:49.536Z"
   },
   {
    "duration": 12,
    "start_time": "2022-03-20T14:52:52.990Z"
   },
   {
    "duration": 10,
    "start_time": "2022-03-20T14:52:53.807Z"
   },
   {
    "duration": 23,
    "start_time": "2022-03-20T14:52:56.281Z"
   },
   {
    "duration": 11,
    "start_time": "2022-03-20T14:53:08.232Z"
   },
   {
    "duration": 11,
    "start_time": "2022-03-20T14:53:41.257Z"
   },
   {
    "duration": 10,
    "start_time": "2022-03-20T14:53:49.776Z"
   },
   {
    "duration": 11,
    "start_time": "2022-03-20T14:54:35.194Z"
   },
   {
    "duration": 10,
    "start_time": "2022-03-20T14:54:53.723Z"
   },
   {
    "duration": 8,
    "start_time": "2022-03-20T14:55:15.880Z"
   },
   {
    "duration": 22,
    "start_time": "2022-03-20T14:55:34.424Z"
   },
   {
    "duration": 21,
    "start_time": "2022-03-20T14:55:43.857Z"
   },
   {
    "duration": 18,
    "start_time": "2022-03-20T14:56:08.849Z"
   },
   {
    "duration": 23,
    "start_time": "2022-03-20T14:56:19.330Z"
   },
   {
    "duration": 21,
    "start_time": "2022-03-20T14:56:39.946Z"
   },
   {
    "duration": 75,
    "start_time": "2022-03-20T14:58:19.993Z"
   },
   {
    "duration": 13,
    "start_time": "2022-03-20T14:58:54.082Z"
   },
   {
    "duration": 118,
    "start_time": "2022-03-20T15:06:44.885Z"
   },
   {
    "duration": 67,
    "start_time": "2022-03-20T15:10:25.377Z"
   },
   {
    "duration": 11,
    "start_time": "2022-03-20T15:12:47.828Z"
   },
   {
    "duration": 120,
    "start_time": "2022-03-20T15:13:07.436Z"
   },
   {
    "duration": 21,
    "start_time": "2022-03-20T15:13:13.466Z"
   },
   {
    "duration": 6,
    "start_time": "2022-03-20T15:13:49.725Z"
   },
   {
    "duration": 14,
    "start_time": "2022-03-20T15:14:03.308Z"
   },
   {
    "duration": 16,
    "start_time": "2022-03-20T15:14:20.515Z"
   },
   {
    "duration": 12,
    "start_time": "2022-03-20T15:15:09.916Z"
   },
   {
    "duration": 14,
    "start_time": "2022-03-20T15:15:20.805Z"
   },
   {
    "duration": 1908,
    "start_time": "2022-03-20T15:15:42.478Z"
   },
   {
    "duration": 1000,
    "start_time": "2022-03-20T15:15:58.584Z"
   },
   {
    "duration": 16,
    "start_time": "2022-03-20T15:16:50.045Z"
   },
   {
    "duration": 14,
    "start_time": "2022-03-20T15:17:37.261Z"
   },
   {
    "duration": 11,
    "start_time": "2022-03-20T15:17:55.236Z"
   },
   {
    "duration": 15,
    "start_time": "2022-03-20T15:18:09.445Z"
   },
   {
    "duration": 19,
    "start_time": "2022-03-20T15:18:34.307Z"
   },
   {
    "duration": 24,
    "start_time": "2022-03-20T15:27:48.134Z"
   },
   {
    "duration": 100,
    "start_time": "2022-03-20T15:28:01.664Z"
   },
   {
    "duration": 14,
    "start_time": "2022-03-20T15:28:02.989Z"
   },
   {
    "duration": 17,
    "start_time": "2022-03-20T15:28:07.159Z"
   },
   {
    "duration": 9,
    "start_time": "2022-03-20T15:28:08.750Z"
   },
   {
    "duration": 29,
    "start_time": "2022-03-20T15:28:12.446Z"
   },
   {
    "duration": 5,
    "start_time": "2022-03-20T15:30:09.639Z"
   },
   {
    "duration": 86,
    "start_time": "2022-03-20T15:33:01.675Z"
   },
   {
    "duration": 28,
    "start_time": "2022-03-20T15:33:22.392Z"
   },
   {
    "duration": 21,
    "start_time": "2022-03-20T15:35:05.450Z"
   },
   {
    "duration": 13,
    "start_time": "2022-03-20T15:36:19.675Z"
   },
   {
    "duration": 10,
    "start_time": "2022-03-20T15:38:18.722Z"
   },
   {
    "duration": 10,
    "start_time": "2022-03-20T15:39:08.037Z"
   },
   {
    "duration": 9,
    "start_time": "2022-03-20T15:39:16.819Z"
   },
   {
    "duration": 8,
    "start_time": "2022-03-20T15:39:30.106Z"
   },
   {
    "duration": 11,
    "start_time": "2022-03-20T15:40:01.573Z"
   },
   {
    "duration": 9,
    "start_time": "2022-03-20T15:41:12.708Z"
   },
   {
    "duration": 95,
    "start_time": "2022-03-20T15:44:43.019Z"
   },
   {
    "duration": 9,
    "start_time": "2022-03-20T15:44:46.062Z"
   },
   {
    "duration": 9,
    "start_time": "2022-03-20T15:46:06.304Z"
   },
   {
    "duration": 9,
    "start_time": "2022-03-20T15:46:33.479Z"
   },
   {
    "duration": 9,
    "start_time": "2022-03-20T15:47:32.553Z"
   },
   {
    "duration": 9,
    "start_time": "2022-03-20T15:50:47.444Z"
   },
   {
    "duration": 10,
    "start_time": "2022-03-20T15:51:14.562Z"
   },
   {
    "duration": 8,
    "start_time": "2022-03-20T15:51:50.333Z"
   },
   {
    "duration": 8,
    "start_time": "2022-03-20T15:51:59.083Z"
   },
   {
    "duration": 9,
    "start_time": "2022-03-20T15:52:08.249Z"
   },
   {
    "duration": 9,
    "start_time": "2022-03-20T15:52:31.123Z"
   },
   {
    "duration": 11,
    "start_time": "2022-03-20T15:53:12.686Z"
   },
   {
    "duration": 8,
    "start_time": "2022-03-20T15:53:47.852Z"
   },
   {
    "duration": 8,
    "start_time": "2022-03-20T15:53:57.649Z"
   },
   {
    "duration": 10,
    "start_time": "2022-03-20T15:54:09.826Z"
   },
   {
    "duration": 8,
    "start_time": "2022-03-20T15:54:18.212Z"
   },
   {
    "duration": 10,
    "start_time": "2022-03-20T15:54:59.988Z"
   },
   {
    "duration": 9,
    "start_time": "2022-03-20T15:55:04.060Z"
   },
   {
    "duration": 8,
    "start_time": "2022-03-20T15:55:08.276Z"
   },
   {
    "duration": 8,
    "start_time": "2022-03-20T15:55:14.225Z"
   },
   {
    "duration": 9,
    "start_time": "2022-03-20T15:55:27.114Z"
   },
   {
    "duration": 9,
    "start_time": "2022-03-20T15:56:11.741Z"
   },
   {
    "duration": 8,
    "start_time": "2022-03-20T15:56:17.045Z"
   },
   {
    "duration": 10,
    "start_time": "2022-03-20T15:56:22.566Z"
   },
   {
    "duration": 110,
    "start_time": "2022-03-20T15:56:59.368Z"
   },
   {
    "duration": 9,
    "start_time": "2022-03-20T15:57:04.285Z"
   },
   {
    "duration": 128,
    "start_time": "2022-03-20T15:57:38.285Z"
   },
   {
    "duration": 9,
    "start_time": "2022-03-20T15:57:41.176Z"
   },
   {
    "duration": 11,
    "start_time": "2022-03-20T15:57:54.439Z"
   },
   {
    "duration": 9,
    "start_time": "2022-03-20T15:58:03.510Z"
   },
   {
    "duration": 10,
    "start_time": "2022-03-20T15:58:20.303Z"
   },
   {
    "duration": 10,
    "start_time": "2022-03-20T15:58:33.941Z"
   },
   {
    "duration": 9,
    "start_time": "2022-03-20T15:59:16.517Z"
   },
   {
    "duration": 105,
    "start_time": "2022-03-20T16:02:46.323Z"
   },
   {
    "duration": 4,
    "start_time": "2022-03-20T16:02:52.416Z"
   },
   {
    "duration": 15,
    "start_time": "2022-03-20T16:03:56.082Z"
   },
   {
    "duration": 22,
    "start_time": "2022-03-20T16:04:22.242Z"
   },
   {
    "duration": 4,
    "start_time": "2022-03-20T16:04:53.825Z"
   },
   {
    "duration": 12,
    "start_time": "2022-03-20T16:04:55.209Z"
   },
   {
    "duration": 4,
    "start_time": "2022-03-20T16:05:13.508Z"
   },
   {
    "duration": 9,
    "start_time": "2022-03-20T16:05:14.225Z"
   },
   {
    "duration": 4,
    "start_time": "2022-03-20T16:05:56.915Z"
   },
   {
    "duration": 11,
    "start_time": "2022-03-20T16:05:57.665Z"
   },
   {
    "duration": 4,
    "start_time": "2022-03-20T16:06:56.141Z"
   },
   {
    "duration": 9,
    "start_time": "2022-03-20T16:06:57.250Z"
   },
   {
    "duration": 4,
    "start_time": "2022-03-20T16:07:07.899Z"
   },
   {
    "duration": 16,
    "start_time": "2022-03-20T16:07:09.972Z"
   },
   {
    "duration": 4,
    "start_time": "2022-03-20T16:09:16.773Z"
   },
   {
    "duration": 13,
    "start_time": "2022-03-20T16:09:18.020Z"
   },
   {
    "duration": 4,
    "start_time": "2022-03-20T16:11:17.966Z"
   },
   {
    "duration": 3,
    "start_time": "2022-03-20T16:11:24.336Z"
   },
   {
    "duration": 14,
    "start_time": "2022-03-20T16:11:27.263Z"
   },
   {
    "duration": 4,
    "start_time": "2022-03-20T16:11:52.152Z"
   },
   {
    "duration": 15,
    "start_time": "2022-03-20T16:11:53.407Z"
   },
   {
    "duration": 104,
    "start_time": "2022-03-20T17:07:42.819Z"
   },
   {
    "duration": 100,
    "start_time": "2022-03-20T17:07:52.483Z"
   },
   {
    "duration": 123,
    "start_time": "2022-03-20T17:08:22.154Z"
   },
   {
    "duration": 143,
    "start_time": "2022-03-20T17:08:29.657Z"
   },
   {
    "duration": 20,
    "start_time": "2022-03-20T17:08:57.009Z"
   },
   {
    "duration": 115,
    "start_time": "2022-03-20T17:13:28.398Z"
   },
   {
    "duration": 114,
    "start_time": "2022-03-20T17:15:47.485Z"
   },
   {
    "duration": 7,
    "start_time": "2022-03-20T17:15:59.495Z"
   },
   {
    "duration": 1962,
    "start_time": "2022-03-20T17:16:06.504Z"
   },
   {
    "duration": 22,
    "start_time": "2022-03-20T17:16:37.664Z"
   },
   {
    "duration": 13,
    "start_time": "2022-03-20T17:17:09.697Z"
   },
   {
    "duration": 15,
    "start_time": "2022-03-20T17:17:22.887Z"
   },
   {
    "duration": 16,
    "start_time": "2022-03-20T17:17:49.416Z"
   },
   {
    "duration": 12,
    "start_time": "2022-03-20T17:20:45.279Z"
   },
   {
    "duration": 91,
    "start_time": "2022-03-20T17:21:02.168Z"
   },
   {
    "duration": 13,
    "start_time": "2022-03-20T17:21:08.039Z"
   },
   {
    "duration": 19,
    "start_time": "2022-03-20T17:21:17.875Z"
   },
   {
    "duration": 15,
    "start_time": "2022-03-20T17:21:36.242Z"
   },
   {
    "duration": 16,
    "start_time": "2022-03-20T17:22:14.019Z"
   },
   {
    "duration": 3,
    "start_time": "2022-03-20T17:22:29.793Z"
   },
   {
    "duration": 11,
    "start_time": "2022-03-20T17:22:33.089Z"
   },
   {
    "duration": 15,
    "start_time": "2022-03-20T17:22:42.752Z"
   },
   {
    "duration": 16,
    "start_time": "2022-03-20T17:22:54.603Z"
   },
   {
    "duration": 15,
    "start_time": "2022-03-20T17:23:02.755Z"
   },
   {
    "duration": 85,
    "start_time": "2022-03-20T17:23:11.506Z"
   },
   {
    "duration": 20,
    "start_time": "2022-03-20T17:23:13.592Z"
   },
   {
    "duration": 15,
    "start_time": "2022-03-20T17:23:15.503Z"
   },
   {
    "duration": 14,
    "start_time": "2022-03-20T17:23:17.776Z"
   },
   {
    "duration": 7,
    "start_time": "2022-03-20T17:23:21.489Z"
   },
   {
    "duration": 138,
    "start_time": "2022-03-20T17:23:23.026Z"
   },
   {
    "duration": 4,
    "start_time": "2022-03-20T17:23:26.193Z"
   },
   {
    "duration": 14,
    "start_time": "2022-03-20T17:23:30.010Z"
   },
   {
    "duration": 99,
    "start_time": "2022-03-20T17:26:11.967Z"
   },
   {
    "duration": 143,
    "start_time": "2022-03-20T17:26:17.294Z"
   },
   {
    "duration": 5,
    "start_time": "2022-03-20T17:26:24.651Z"
   },
   {
    "duration": 15,
    "start_time": "2022-03-20T17:27:29.430Z"
   },
   {
    "duration": 15,
    "start_time": "2022-03-20T17:27:41.829Z"
   },
   {
    "duration": 14,
    "start_time": "2022-03-20T17:28:36.839Z"
   },
   {
    "duration": 6,
    "start_time": "2022-03-20T17:30:58.338Z"
   },
   {
    "duration": 16,
    "start_time": "2022-03-20T17:31:08.072Z"
   },
   {
    "duration": 16,
    "start_time": "2022-03-20T17:31:26.018Z"
   },
   {
    "duration": 111,
    "start_time": "2022-03-20T17:33:40.186Z"
   },
   {
    "duration": 20,
    "start_time": "2022-03-20T17:33:48.741Z"
   },
   {
    "duration": 20,
    "start_time": "2022-03-20T17:34:16.930Z"
   },
   {
    "duration": 23,
    "start_time": "2022-03-20T17:34:38.842Z"
   },
   {
    "duration": 21,
    "start_time": "2022-03-20T17:34:55.966Z"
   },
   {
    "duration": 10,
    "start_time": "2022-03-20T17:35:39.168Z"
   },
   {
    "duration": 8,
    "start_time": "2022-03-20T17:36:20.387Z"
   },
   {
    "duration": 110,
    "start_time": "2022-03-20T17:37:55.549Z"
   },
   {
    "duration": 21,
    "start_time": "2022-03-20T17:38:04.700Z"
   },
   {
    "duration": 1140,
    "start_time": "2022-03-20T17:38:32.991Z"
   },
   {
    "duration": 16,
    "start_time": "2022-03-20T17:39:34.431Z"
   },
   {
    "duration": 16,
    "start_time": "2022-03-20T17:41:20.567Z"
   },
   {
    "duration": 16,
    "start_time": "2022-03-20T17:41:52.497Z"
   },
   {
    "duration": 24,
    "start_time": "2022-03-20T17:45:13.608Z"
   },
   {
    "duration": 123,
    "start_time": "2022-03-20T17:47:12.936Z"
   },
   {
    "duration": 11,
    "start_time": "2022-03-20T17:47:23.817Z"
   },
   {
    "duration": 70,
    "start_time": "2022-03-20T17:47:35.719Z"
   },
   {
    "duration": 15,
    "start_time": "2022-03-20T17:47:37.635Z"
   },
   {
    "duration": 12,
    "start_time": "2022-03-20T17:47:39.989Z"
   },
   {
    "duration": 16,
    "start_time": "2022-03-20T17:47:41.266Z"
   },
   {
    "duration": 6,
    "start_time": "2022-03-20T17:47:44.479Z"
   },
   {
    "duration": 131,
    "start_time": "2022-03-20T17:47:45.296Z"
   },
   {
    "duration": 4,
    "start_time": "2022-03-20T17:47:47.943Z"
   },
   {
    "duration": 26,
    "start_time": "2022-03-20T17:47:51.048Z"
   },
   {
    "duration": 34,
    "start_time": "2022-03-20T17:48:31.177Z"
   },
   {
    "duration": 32,
    "start_time": "2022-03-20T17:48:49.710Z"
   },
   {
    "duration": 55,
    "start_time": "2022-03-20T17:49:10.053Z"
   },
   {
    "duration": 36,
    "start_time": "2022-03-20T17:50:09.251Z"
   },
   {
    "duration": 50,
    "start_time": "2022-03-20T17:50:40.498Z"
   },
   {
    "duration": 114,
    "start_time": "2022-03-20T17:51:29.108Z"
   },
   {
    "duration": 35,
    "start_time": "2022-03-20T17:52:12.227Z"
   },
   {
    "duration": 34,
    "start_time": "2022-03-20T17:52:36.391Z"
   },
   {
    "duration": 30,
    "start_time": "2022-03-20T17:52:52.502Z"
   },
   {
    "duration": 9,
    "start_time": "2022-03-20T17:57:08.822Z"
   },
   {
    "duration": 15,
    "start_time": "2022-03-20T17:57:27.262Z"
   },
   {
    "duration": 19,
    "start_time": "2022-03-20T17:58:50.272Z"
   },
   {
    "duration": 22,
    "start_time": "2022-03-20T17:59:18.965Z"
   },
   {
    "duration": 32,
    "start_time": "2022-03-20T18:02:02.458Z"
   },
   {
    "duration": 20,
    "start_time": "2022-03-20T18:02:42.851Z"
   },
   {
    "duration": 13,
    "start_time": "2022-03-20T18:03:08.196Z"
   },
   {
    "duration": 14,
    "start_time": "2022-03-20T18:03:20.500Z"
   },
   {
    "duration": 13,
    "start_time": "2022-03-20T18:04:00.947Z"
   },
   {
    "duration": 9,
    "start_time": "2022-03-20T18:04:35.899Z"
   },
   {
    "duration": 10,
    "start_time": "2022-03-20T18:05:09.787Z"
   },
   {
    "duration": 14,
    "start_time": "2022-03-20T18:11:02.397Z"
   },
   {
    "duration": 114,
    "start_time": "2022-03-20T18:12:35.070Z"
   },
   {
    "duration": 11,
    "start_time": "2022-03-20T18:12:44.463Z"
   },
   {
    "duration": 18,
    "start_time": "2022-03-20T18:13:12.849Z"
   },
   {
    "duration": 13,
    "start_time": "2022-03-20T18:13:25.169Z"
   },
   {
    "duration": 7,
    "start_time": "2022-03-20T18:14:36.225Z"
   },
   {
    "duration": 5,
    "start_time": "2022-03-20T18:14:48.104Z"
   },
   {
    "duration": 9,
    "start_time": "2022-03-20T18:15:18.705Z"
   },
   {
    "duration": 10,
    "start_time": "2022-03-20T18:15:32.848Z"
   },
   {
    "duration": 17,
    "start_time": "2022-03-20T18:17:48.229Z"
   },
   {
    "duration": 14,
    "start_time": "2022-03-20T18:18:37.508Z"
   },
   {
    "duration": 22,
    "start_time": "2022-03-20T18:18:52.627Z"
   },
   {
    "duration": 33,
    "start_time": "2022-03-20T18:19:25.780Z"
   },
   {
    "duration": 28,
    "start_time": "2022-03-20T18:19:37.770Z"
   },
   {
    "duration": 32,
    "start_time": "2022-03-20T18:19:51.812Z"
   },
   {
    "duration": 14,
    "start_time": "2022-03-20T18:22:29.662Z"
   },
   {
    "duration": 5,
    "start_time": "2022-03-20T18:24:50.839Z"
   },
   {
    "duration": 13,
    "start_time": "2022-03-20T18:24:54.942Z"
   },
   {
    "duration": 4,
    "start_time": "2022-03-20T18:29:57.077Z"
   },
   {
    "duration": 16,
    "start_time": "2022-03-20T18:30:00.923Z"
   },
   {
    "duration": 16,
    "start_time": "2022-03-20T18:30:18.995Z"
   },
   {
    "duration": 9,
    "start_time": "2022-03-20T18:31:22.067Z"
   },
   {
    "duration": 11,
    "start_time": "2022-03-20T18:31:25.866Z"
   },
   {
    "duration": 7,
    "start_time": "2022-03-20T18:31:27.833Z"
   },
   {
    "duration": 7,
    "start_time": "2022-03-20T18:32:04.730Z"
   },
   {
    "duration": 17,
    "start_time": "2022-03-20T18:32:41.827Z"
   },
   {
    "duration": 14,
    "start_time": "2022-03-20T18:34:48.164Z"
   },
   {
    "duration": 5,
    "start_time": "2022-03-20T18:35:48.373Z"
   },
   {
    "duration": 5,
    "start_time": "2022-03-20T18:35:55.772Z"
   },
   {
    "duration": 4,
    "start_time": "2022-03-20T18:36:23.436Z"
   },
   {
    "duration": 5,
    "start_time": "2022-03-20T18:36:55.893Z"
   },
   {
    "duration": 4,
    "start_time": "2022-03-20T18:37:04.068Z"
   },
   {
    "duration": 10,
    "start_time": "2022-03-20T18:50:46.125Z"
   },
   {
    "duration": 22,
    "start_time": "2022-03-20T18:51:13.140Z"
   },
   {
    "duration": 13,
    "start_time": "2022-03-20T18:51:40.061Z"
   },
   {
    "duration": 11,
    "start_time": "2022-03-20T18:52:12.509Z"
   },
   {
    "duration": 128,
    "start_time": "2022-03-20T18:52:25.263Z"
   },
   {
    "duration": 13,
    "start_time": "2022-03-20T18:53:15.513Z"
   },
   {
    "duration": 115,
    "start_time": "2022-03-20T18:53:23.564Z"
   },
   {
    "duration": 14,
    "start_time": "2022-03-20T18:53:39.367Z"
   },
   {
    "duration": 104,
    "start_time": "2022-03-20T18:53:51.494Z"
   },
   {
    "duration": 147,
    "start_time": "2022-03-20T18:54:45.246Z"
   },
   {
    "duration": 1413,
    "start_time": "2022-03-21T15:24:13.319Z"
   },
   {
    "duration": 63,
    "start_time": "2022-03-21T15:24:17.412Z"
   },
   {
    "duration": 15,
    "start_time": "2022-03-21T15:24:19.255Z"
   },
   {
    "duration": 12,
    "start_time": "2022-03-21T15:24:21.738Z"
   },
   {
    "duration": 9,
    "start_time": "2022-03-21T15:24:22.747Z"
   },
   {
    "duration": 6,
    "start_time": "2022-03-21T15:24:25.451Z"
   },
   {
    "duration": 117,
    "start_time": "2022-03-21T15:24:27.141Z"
   },
   {
    "duration": 4,
    "start_time": "2022-03-21T15:24:30.188Z"
   },
   {
    "duration": 24,
    "start_time": "2022-03-21T15:24:33.310Z"
   },
   {
    "duration": 12,
    "start_time": "2022-03-21T15:24:36.178Z"
   },
   {
    "duration": 445,
    "start_time": "2022-03-21T15:25:36.990Z"
   },
   {
    "duration": 104,
    "start_time": "2022-03-21T15:26:04.102Z"
   },
   {
    "duration": 9,
    "start_time": "2022-03-21T15:28:09.190Z"
   },
   {
    "duration": 17,
    "start_time": "2022-03-21T15:28:30.890Z"
   },
   {
    "duration": 484,
    "start_time": "2022-03-21T15:28:40.812Z"
   },
   {
    "duration": 10,
    "start_time": "2022-03-21T15:32:13.458Z"
   },
   {
    "duration": 134,
    "start_time": "2022-03-21T15:32:26.408Z"
   },
   {
    "duration": 133,
    "start_time": "2022-03-21T15:32:45.048Z"
   },
   {
    "duration": 126,
    "start_time": "2022-03-21T15:33:11.304Z"
   },
   {
    "duration": 132,
    "start_time": "2022-03-21T15:35:00.663Z"
   },
   {
    "duration": 175,
    "start_time": "2022-03-21T15:37:02.620Z"
   },
   {
    "duration": 167,
    "start_time": "2022-03-21T15:37:19.223Z"
   },
   {
    "duration": 267,
    "start_time": "2022-03-21T15:37:35.017Z"
   },
   {
    "duration": 172,
    "start_time": "2022-03-21T15:38:35.971Z"
   },
   {
    "duration": 169,
    "start_time": "2022-03-21T15:39:24.852Z"
   },
   {
    "duration": 9,
    "start_time": "2022-03-21T15:41:26.803Z"
   },
   {
    "duration": 10,
    "start_time": "2022-03-21T15:41:31.834Z"
   },
   {
    "duration": 8,
    "start_time": "2022-03-21T15:41:37.227Z"
   },
   {
    "duration": 1241,
    "start_time": "2022-03-21T15:41:42.179Z"
   },
   {
    "duration": 134,
    "start_time": "2022-03-21T15:43:26.142Z"
   },
   {
    "duration": 84,
    "start_time": "2022-03-21T15:43:33.660Z"
   },
   {
    "duration": 29,
    "start_time": "2022-03-21T15:43:43.748Z"
   },
   {
    "duration": 14,
    "start_time": "2022-03-21T15:43:51.779Z"
   },
   {
    "duration": 12,
    "start_time": "2022-03-21T15:46:11.797Z"
   },
   {
    "duration": 10,
    "start_time": "2022-03-21T15:46:41.726Z"
   },
   {
    "duration": 167,
    "start_time": "2022-03-21T15:46:45.751Z"
   },
   {
    "duration": 14,
    "start_time": "2022-03-21T15:46:59.058Z"
   },
   {
    "duration": 19,
    "start_time": "2022-03-21T15:47:28.238Z"
   },
   {
    "duration": 13,
    "start_time": "2022-03-21T15:47:57.015Z"
   },
   {
    "duration": 28,
    "start_time": "2022-03-21T15:52:11.096Z"
   },
   {
    "duration": 7,
    "start_time": "2022-03-21T15:52:52.184Z"
   },
   {
    "duration": 13,
    "start_time": "2022-03-21T15:53:31.387Z"
   },
   {
    "duration": 249,
    "start_time": "2022-03-21T15:55:07.186Z"
   },
   {
    "duration": 15,
    "start_time": "2022-03-21T15:55:16.145Z"
   },
   {
    "duration": 16,
    "start_time": "2022-03-21T15:55:37.117Z"
   },
   {
    "duration": 101,
    "start_time": "2022-03-21T15:56:36.019Z"
   },
   {
    "duration": 19,
    "start_time": "2022-03-21T15:56:42.925Z"
   },
   {
    "duration": 15,
    "start_time": "2022-03-21T16:04:45.343Z"
   },
   {
    "duration": 19,
    "start_time": "2022-03-21T16:05:08.711Z"
   },
   {
    "duration": 19,
    "start_time": "2022-03-21T16:05:41.351Z"
   },
   {
    "duration": 252,
    "start_time": "2022-03-21T16:06:02.040Z"
   },
   {
    "duration": 269,
    "start_time": "2022-03-21T16:07:01.273Z"
   },
   {
    "duration": 248,
    "start_time": "2022-03-21T16:07:25.898Z"
   },
   {
    "duration": 232,
    "start_time": "2022-03-21T16:08:50.706Z"
   },
   {
    "duration": 244,
    "start_time": "2022-03-21T16:09:06.057Z"
   },
   {
    "duration": 245,
    "start_time": "2022-03-21T16:09:16.195Z"
   },
   {
    "duration": 3,
    "start_time": "2022-03-21T16:10:20.586Z"
   },
   {
    "duration": 88,
    "start_time": "2022-03-21T16:11:08.563Z"
   },
   {
    "duration": 364,
    "start_time": "2022-03-21T16:11:26.282Z"
   },
   {
    "duration": 170,
    "start_time": "2022-03-21T16:14:57.246Z"
   },
   {
    "duration": 12,
    "start_time": "2022-03-21T16:15:39.123Z"
   },
   {
    "duration": 168,
    "start_time": "2022-03-21T16:15:47.467Z"
   },
   {
    "duration": 175,
    "start_time": "2022-03-21T16:21:58.305Z"
   },
   {
    "duration": 256,
    "start_time": "2022-03-21T16:22:11.522Z"
   },
   {
    "duration": 237,
    "start_time": "2022-03-21T16:22:44.074Z"
   },
   {
    "duration": 233,
    "start_time": "2022-03-21T16:22:58.793Z"
   },
   {
    "duration": 247,
    "start_time": "2022-03-21T16:23:17.992Z"
   },
   {
    "duration": 183,
    "start_time": "2022-03-21T16:33:59.023Z"
   },
   {
    "duration": 260,
    "start_time": "2022-03-21T16:34:09.282Z"
   },
   {
    "duration": 149,
    "start_time": "2022-03-21T16:55:44.624Z"
   },
   {
    "duration": 640,
    "start_time": "2022-03-21T16:55:52.545Z"
   },
   {
    "duration": 732,
    "start_time": "2022-03-21T16:59:16.725Z"
   },
   {
    "duration": 46,
    "start_time": "2022-03-21T17:12:09.830Z"
   },
   {
    "duration": 272,
    "start_time": "2022-03-21T17:12:30.739Z"
   },
   {
    "duration": 42,
    "start_time": "2022-03-21T17:12:38.345Z"
   },
   {
    "duration": 20,
    "start_time": "2022-03-21T17:12:59.276Z"
   },
   {
    "duration": 269,
    "start_time": "2022-03-21T17:13:29.245Z"
   },
   {
    "duration": 20,
    "start_time": "2022-03-21T17:14:10.143Z"
   },
   {
    "duration": 15,
    "start_time": "2022-03-21T17:14:11.709Z"
   },
   {
    "duration": 14,
    "start_time": "2022-03-21T17:14:33.708Z"
   },
   {
    "duration": 19,
    "start_time": "2022-03-21T17:14:38.255Z"
   },
   {
    "duration": 255,
    "start_time": "2022-03-21T17:14:39.693Z"
   },
   {
    "duration": 15,
    "start_time": "2022-03-21T17:17:05.419Z"
   },
   {
    "duration": 11,
    "start_time": "2022-03-21T17:20:51.476Z"
   },
   {
    "duration": 13,
    "start_time": "2022-03-21T17:23:08.275Z"
   },
   {
    "duration": 16,
    "start_time": "2022-03-21T17:23:33.256Z"
   },
   {
    "duration": 11,
    "start_time": "2022-03-21T17:24:44.060Z"
   },
   {
    "duration": 122,
    "start_time": "2022-03-21T17:25:02.612Z"
   },
   {
    "duration": 17,
    "start_time": "2022-03-21T17:25:08.565Z"
   },
   {
    "duration": 15,
    "start_time": "2022-03-21T17:25:51.149Z"
   },
   {
    "duration": 12,
    "start_time": "2022-03-21T17:26:35.343Z"
   },
   {
    "duration": 10,
    "start_time": "2022-03-21T17:26:48.176Z"
   },
   {
    "duration": 15,
    "start_time": "2022-03-21T17:26:56.088Z"
   },
   {
    "duration": 10,
    "start_time": "2022-03-21T17:27:15.078Z"
   },
   {
    "duration": 10,
    "start_time": "2022-03-21T17:30:52.050Z"
   },
   {
    "duration": 13,
    "start_time": "2022-03-21T17:30:59.585Z"
   },
   {
    "duration": 144,
    "start_time": "2022-03-21T17:31:11.528Z"
   },
   {
    "duration": 21,
    "start_time": "2022-03-21T17:34:11.536Z"
   },
   {
    "duration": 20,
    "start_time": "2022-03-21T17:34:28.742Z"
   },
   {
    "duration": 263,
    "start_time": "2022-03-21T17:34:30.500Z"
   },
   {
    "duration": 155,
    "start_time": "2022-03-21T17:36:24.714Z"
   },
   {
    "duration": 107,
    "start_time": "2022-03-21T17:36:56.579Z"
   },
   {
    "duration": 135,
    "start_time": "2022-03-21T17:37:02.060Z"
   },
   {
    "duration": 108,
    "start_time": "2022-03-21T17:43:03.606Z"
   },
   {
    "duration": 142,
    "start_time": "2022-03-21T17:43:31.972Z"
   },
   {
    "duration": 141,
    "start_time": "2022-03-21T17:45:57.285Z"
   },
   {
    "duration": 12,
    "start_time": "2022-03-21T17:46:00.576Z"
   },
   {
    "duration": 14,
    "start_time": "2022-03-21T17:46:09.923Z"
   },
   {
    "duration": 139,
    "start_time": "2022-03-21T17:46:11.434Z"
   },
   {
    "duration": 143,
    "start_time": "2022-03-21T17:46:48.880Z"
   },
   {
    "duration": 250,
    "start_time": "2022-03-21T17:47:15.537Z"
   },
   {
    "duration": 144,
    "start_time": "2022-03-21T17:48:32.937Z"
   },
   {
    "duration": 85,
    "start_time": "2022-03-21T17:53:01.110Z"
   },
   {
    "duration": 269,
    "start_time": "2022-03-21T17:53:06.494Z"
   },
   {
    "duration": 257,
    "start_time": "2022-03-21T17:58:09.109Z"
   },
   {
    "duration": 454,
    "start_time": "2022-03-21T18:00:25.680Z"
   },
   {
    "duration": 176,
    "start_time": "2022-03-21T18:00:50.954Z"
   },
   {
    "duration": 278,
    "start_time": "2022-03-21T18:02:17.894Z"
   },
   {
    "duration": 321,
    "start_time": "2022-03-21T18:02:30.258Z"
   },
   {
    "duration": 286,
    "start_time": "2022-03-21T18:02:40.092Z"
   },
   {
    "duration": 294,
    "start_time": "2022-03-21T18:02:46.976Z"
   },
   {
    "duration": 12,
    "start_time": "2022-03-21T18:06:27.828Z"
   },
   {
    "duration": 222,
    "start_time": "2022-03-21T18:16:12.875Z"
   },
   {
    "duration": 124,
    "start_time": "2022-03-21T18:16:45.762Z"
   },
   {
    "duration": 17,
    "start_time": "2022-03-21T18:18:46.378Z"
   },
   {
    "duration": 92,
    "start_time": "2022-03-21T18:26:44.714Z"
   },
   {
    "duration": 85,
    "start_time": "2022-03-21T18:27:09.999Z"
   },
   {
    "duration": 83,
    "start_time": "2022-03-21T18:28:01.557Z"
   },
   {
    "duration": 5,
    "start_time": "2022-03-21T18:28:11.543Z"
   },
   {
    "duration": 88,
    "start_time": "2022-03-21T18:30:09.943Z"
   },
   {
    "duration": 1639,
    "start_time": "2022-03-21T18:30:25.561Z"
   },
   {
    "duration": 5,
    "start_time": "2022-03-21T18:30:46.206Z"
   },
   {
    "duration": 6,
    "start_time": "2022-03-21T18:31:04.901Z"
   },
   {
    "duration": 6,
    "start_time": "2022-03-21T18:31:13.325Z"
   },
   {
    "duration": 18,
    "start_time": "2022-03-21T18:36:24.586Z"
   },
   {
    "duration": 6,
    "start_time": "2022-03-21T18:36:37.089Z"
   },
   {
    "duration": 10,
    "start_time": "2022-03-21T18:36:44.632Z"
   },
   {
    "duration": 3,
    "start_time": "2022-03-21T18:37:19.373Z"
   },
   {
    "duration": 1536,
    "start_time": "2022-03-21T18:37:33.564Z"
   },
   {
    "duration": 7,
    "start_time": "2022-03-21T18:37:44.773Z"
   },
   {
    "duration": 825,
    "start_time": "2022-03-21T18:40:58.226Z"
   },
   {
    "duration": 841,
    "start_time": "2022-03-21T18:42:00.974Z"
   },
   {
    "duration": 776,
    "start_time": "2022-03-21T18:42:11.889Z"
   },
   {
    "duration": 157,
    "start_time": "2022-03-21T18:53:32.480Z"
   },
   {
    "duration": 722,
    "start_time": "2022-03-21T18:53:43.066Z"
   },
   {
    "duration": 854,
    "start_time": "2022-03-21T18:54:00.716Z"
   },
   {
    "duration": 298,
    "start_time": "2022-03-21T18:55:26.054Z"
   },
   {
    "duration": 343,
    "start_time": "2022-03-21T19:02:05.400Z"
   },
   {
    "duration": 314,
    "start_time": "2022-03-21T19:02:38.829Z"
   },
   {
    "duration": 299,
    "start_time": "2022-03-21T19:03:37.877Z"
   },
   {
    "duration": 335,
    "start_time": "2022-03-21T19:06:46.659Z"
   },
   {
    "duration": 358,
    "start_time": "2022-03-21T19:06:53.892Z"
   },
   {
    "duration": 348,
    "start_time": "2022-03-21T19:07:30.316Z"
   },
   {
    "duration": 356,
    "start_time": "2022-03-21T19:07:46.434Z"
   },
   {
    "duration": 88,
    "start_time": "2022-03-21T19:08:12.835Z"
   },
   {
    "duration": 506,
    "start_time": "2022-03-21T19:08:21.002Z"
   },
   {
    "duration": 490,
    "start_time": "2022-03-21T19:08:30.605Z"
   },
   {
    "duration": 360,
    "start_time": "2022-03-21T19:08:40.211Z"
   },
   {
    "duration": 362,
    "start_time": "2022-03-21T19:08:56.981Z"
   },
   {
    "duration": 363,
    "start_time": "2022-03-21T19:09:03.981Z"
   },
   {
    "duration": 362,
    "start_time": "2022-03-21T19:09:43.696Z"
   },
   {
    "duration": 338,
    "start_time": "2022-03-21T19:09:58.952Z"
   },
   {
    "duration": 348,
    "start_time": "2022-03-21T19:10:16.412Z"
   },
   {
    "duration": 348,
    "start_time": "2022-03-21T19:10:28.045Z"
   },
   {
    "duration": 345,
    "start_time": "2022-03-21T19:10:36.348Z"
   },
   {
    "duration": 354,
    "start_time": "2022-03-21T19:10:52.516Z"
   },
   {
    "duration": 353,
    "start_time": "2022-03-21T19:11:07.620Z"
   },
   {
    "duration": 340,
    "start_time": "2022-03-21T19:11:24.055Z"
   },
   {
    "duration": 467,
    "start_time": "2022-03-21T19:11:32.790Z"
   },
   {
    "duration": 339,
    "start_time": "2022-03-21T19:11:55.410Z"
   },
   {
    "duration": 362,
    "start_time": "2022-03-21T19:12:13.015Z"
   },
   {
    "duration": 396,
    "start_time": "2022-03-21T19:12:21.041Z"
   },
   {
    "duration": 10,
    "start_time": "2022-03-21T19:13:46.932Z"
   },
   {
    "duration": 299,
    "start_time": "2022-03-21T19:13:58.828Z"
   },
   {
    "duration": 291,
    "start_time": "2022-03-21T19:14:09.683Z"
   },
   {
    "duration": 306,
    "start_time": "2022-03-21T19:14:25.639Z"
   },
   {
    "duration": 7,
    "start_time": "2022-03-21T19:17:06.438Z"
   },
   {
    "duration": 11,
    "start_time": "2022-03-21T19:17:23.332Z"
   },
   {
    "duration": 262,
    "start_time": "2022-03-21T19:19:04.984Z"
   },
   {
    "duration": 409,
    "start_time": "2022-03-21T19:20:07.320Z"
   },
   {
    "duration": 267,
    "start_time": "2022-03-21T19:20:22.171Z"
   },
   {
    "duration": 258,
    "start_time": "2022-03-21T19:20:43.811Z"
   },
   {
    "duration": 95,
    "start_time": "2022-03-21T19:22:15.802Z"
   },
   {
    "duration": 266,
    "start_time": "2022-03-21T19:23:48.116Z"
   },
   {
    "duration": 14,
    "start_time": "2022-03-21T19:24:31.447Z"
   },
   {
    "duration": 19,
    "start_time": "2022-03-21T19:24:38.187Z"
   },
   {
    "duration": 254,
    "start_time": "2022-03-21T19:24:39.734Z"
   },
   {
    "duration": 283,
    "start_time": "2022-03-21T19:25:15.048Z"
   },
   {
    "duration": 275,
    "start_time": "2022-03-21T19:25:28.965Z"
   },
   {
    "duration": 272,
    "start_time": "2022-03-21T19:27:37.793Z"
   },
   {
    "duration": 257,
    "start_time": "2022-03-21T19:27:45.033Z"
   },
   {
    "duration": 248,
    "start_time": "2022-03-21T19:27:53.803Z"
   },
   {
    "duration": 270,
    "start_time": "2022-03-21T19:28:07.745Z"
   },
   {
    "duration": 383,
    "start_time": "2022-03-21T19:28:21.522Z"
   },
   {
    "duration": 3,
    "start_time": "2022-03-21T19:29:43.895Z"
   },
   {
    "duration": 57,
    "start_time": "2022-03-21T19:29:45.586Z"
   },
   {
    "duration": 14,
    "start_time": "2022-03-21T19:29:47.160Z"
   },
   {
    "duration": 12,
    "start_time": "2022-03-21T19:29:50.674Z"
   },
   {
    "duration": 9,
    "start_time": "2022-03-21T19:29:51.448Z"
   },
   {
    "duration": 5,
    "start_time": "2022-03-21T19:29:54.201Z"
   },
   {
    "duration": 113,
    "start_time": "2022-03-21T19:29:55.444Z"
   },
   {
    "duration": 4,
    "start_time": "2022-03-21T19:29:59.063Z"
   },
   {
    "duration": 13,
    "start_time": "2022-03-21T19:30:00.624Z"
   },
   {
    "duration": 24,
    "start_time": "2022-03-21T19:30:03.450Z"
   },
   {
    "duration": 11,
    "start_time": "2022-03-21T19:30:05.840Z"
   },
   {
    "duration": 175,
    "start_time": "2022-03-21T19:30:08.553Z"
   },
   {
    "duration": 13,
    "start_time": "2022-03-21T19:30:11.579Z"
   },
   {
    "duration": 200,
    "start_time": "2022-03-21T19:30:14.578Z"
   },
   {
    "duration": 15,
    "start_time": "2022-03-21T19:30:18.930Z"
   },
   {
    "duration": 114,
    "start_time": "2022-03-21T19:30:23.280Z"
   },
   {
    "duration": 19,
    "start_time": "2022-03-21T19:30:26.995Z"
   },
   {
    "duration": 6,
    "start_time": "2022-03-21T19:30:29.473Z"
   },
   {
    "duration": 7,
    "start_time": "2022-03-21T19:30:31.703Z"
   },
   {
    "duration": 303,
    "start_time": "2022-03-21T19:30:33.818Z"
   },
   {
    "duration": 11,
    "start_time": "2022-03-21T19:30:47.051Z"
   },
   {
    "duration": 24,
    "start_time": "2022-03-21T19:30:50.435Z"
   },
   {
    "duration": 14,
    "start_time": "2022-03-21T19:30:53.257Z"
   },
   {
    "duration": 21,
    "start_time": "2022-03-21T19:30:55.226Z"
   },
   {
    "duration": 255,
    "start_time": "2022-03-21T19:31:04.893Z"
   },
   {
    "duration": 284,
    "start_time": "2022-03-21T19:32:15.285Z"
   },
   {
    "duration": 289,
    "start_time": "2022-03-21T19:32:59.198Z"
   },
   {
    "duration": 293,
    "start_time": "2022-03-21T19:33:09.229Z"
   },
   {
    "duration": 1498,
    "start_time": "2022-03-22T17:54:12.626Z"
   },
   {
    "duration": 65,
    "start_time": "2022-03-22T17:54:14.126Z"
   },
   {
    "duration": 23,
    "start_time": "2022-03-22T17:54:14.192Z"
   },
   {
    "duration": 11,
    "start_time": "2022-03-22T17:54:14.217Z"
   },
   {
    "duration": 10,
    "start_time": "2022-03-22T17:54:14.230Z"
   },
   {
    "duration": 7,
    "start_time": "2022-03-22T17:54:14.241Z"
   },
   {
    "duration": 149,
    "start_time": "2022-03-22T17:54:14.250Z"
   },
   {
    "duration": 8,
    "start_time": "2022-03-22T17:54:14.402Z"
   },
   {
    "duration": 15,
    "start_time": "2022-03-22T17:54:14.412Z"
   },
   {
    "duration": 24,
    "start_time": "2022-03-22T17:54:14.430Z"
   },
   {
    "duration": 94,
    "start_time": "2022-03-22T17:54:14.456Z"
   },
   {
    "duration": 0,
    "start_time": "2022-03-22T17:54:14.552Z"
   },
   {
    "duration": 0,
    "start_time": "2022-03-22T17:54:14.553Z"
   },
   {
    "duration": 0,
    "start_time": "2022-03-22T17:54:14.555Z"
   },
   {
    "duration": 0,
    "start_time": "2022-03-22T17:54:14.556Z"
   },
   {
    "duration": 0,
    "start_time": "2022-03-22T17:54:14.558Z"
   },
   {
    "duration": 0,
    "start_time": "2022-03-22T17:54:14.559Z"
   },
   {
    "duration": 0,
    "start_time": "2022-03-22T17:54:14.561Z"
   },
   {
    "duration": 0,
    "start_time": "2022-03-22T17:54:14.562Z"
   },
   {
    "duration": 0,
    "start_time": "2022-03-22T17:54:14.563Z"
   },
   {
    "duration": 0,
    "start_time": "2022-03-22T17:54:14.564Z"
   },
   {
    "duration": 0,
    "start_time": "2022-03-22T17:54:14.565Z"
   },
   {
    "duration": 0,
    "start_time": "2022-03-22T17:54:14.567Z"
   },
   {
    "duration": 0,
    "start_time": "2022-03-22T17:54:14.568Z"
   },
   {
    "duration": 0,
    "start_time": "2022-03-22T17:54:14.569Z"
   },
   {
    "duration": 0,
    "start_time": "2022-03-22T17:54:14.571Z"
   },
   {
    "duration": 0,
    "start_time": "2022-03-22T17:54:14.572Z"
   },
   {
    "duration": 0,
    "start_time": "2022-03-22T17:54:14.573Z"
   },
   {
    "duration": 0,
    "start_time": "2022-03-22T17:54:14.574Z"
   },
   {
    "duration": 0,
    "start_time": "2022-03-22T17:54:14.576Z"
   },
   {
    "duration": 0,
    "start_time": "2022-03-22T17:54:14.577Z"
   },
   {
    "duration": 0,
    "start_time": "2022-03-22T17:54:14.578Z"
   },
   {
    "duration": 0,
    "start_time": "2022-03-22T17:54:14.579Z"
   },
   {
    "duration": 0,
    "start_time": "2022-03-22T17:54:14.580Z"
   },
   {
    "duration": 12,
    "start_time": "2022-03-22T17:54:29.082Z"
   },
   {
    "duration": 185,
    "start_time": "2022-03-22T17:54:31.626Z"
   },
   {
    "duration": 14,
    "start_time": "2022-03-22T17:54:34.981Z"
   },
   {
    "duration": 120,
    "start_time": "2022-03-22T17:54:37.842Z"
   },
   {
    "duration": 13,
    "start_time": "2022-03-22T17:54:43.642Z"
   },
   {
    "duration": 128,
    "start_time": "2022-03-22T17:54:46.469Z"
   },
   {
    "duration": 18,
    "start_time": "2022-03-22T17:54:49.418Z"
   },
   {
    "duration": 7,
    "start_time": "2022-03-22T17:54:52.219Z"
   },
   {
    "duration": 7,
    "start_time": "2022-03-22T17:54:55.489Z"
   },
   {
    "duration": 336,
    "start_time": "2022-03-22T17:54:57.579Z"
   },
   {
    "duration": 13,
    "start_time": "2022-03-22T17:55:03.405Z"
   },
   {
    "duration": 28,
    "start_time": "2022-03-22T17:55:05.955Z"
   },
   {
    "duration": 15,
    "start_time": "2022-03-22T17:55:08.797Z"
   },
   {
    "duration": 20,
    "start_time": "2022-03-22T17:55:10.259Z"
   },
   {
    "duration": 351,
    "start_time": "2022-03-22T17:55:12.650Z"
   },
   {
    "duration": 1033,
    "start_time": "2022-03-22T17:55:15.955Z"
   },
   {
    "duration": 14,
    "start_time": "2022-03-22T17:55:16.990Z"
   },
   {
    "duration": 12,
    "start_time": "2022-03-22T17:55:22.819Z"
   },
   {
    "duration": 16,
    "start_time": "2022-03-22T17:55:26.008Z"
   },
   {
    "duration": 13,
    "start_time": "2022-03-22T17:55:28.585Z"
   },
   {
    "duration": 9,
    "start_time": "2022-03-22T17:55:29.683Z"
   },
   {
    "duration": 7,
    "start_time": "2022-03-22T17:55:34.410Z"
   },
   {
    "duration": 518,
    "start_time": "2022-03-22T17:55:34.980Z"
   },
   {
    "duration": 369,
    "start_time": "2022-03-22T17:56:10.291Z"
   },
   {
    "duration": 127,
    "start_time": "2022-03-22T17:56:28.789Z"
   },
   {
    "duration": 10,
    "start_time": "2022-03-22T17:56:39.301Z"
   },
   {
    "duration": 10,
    "start_time": "2022-03-22T17:56:51.140Z"
   },
   {
    "duration": 17,
    "start_time": "2022-03-22T17:57:20.672Z"
   },
   {
    "duration": 367,
    "start_time": "2022-03-22T17:57:29.437Z"
   },
   {
    "duration": 4,
    "start_time": "2022-03-22T18:01:08.087Z"
   },
   {
    "duration": 38,
    "start_time": "2022-03-22T18:01:26.008Z"
   },
   {
    "duration": 191,
    "start_time": "2022-03-22T18:02:02.843Z"
   },
   {
    "duration": 4,
    "start_time": "2022-03-22T18:02:09.137Z"
   },
   {
    "duration": 35,
    "start_time": "2022-03-22T18:02:12.146Z"
   },
   {
    "duration": 4,
    "start_time": "2022-03-22T18:02:31.251Z"
   },
   {
    "duration": 4,
    "start_time": "2022-03-22T18:02:47.123Z"
   },
   {
    "duration": 32,
    "start_time": "2022-03-22T18:02:47.927Z"
   },
   {
    "duration": 10,
    "start_time": "2022-03-22T18:03:12.343Z"
   },
   {
    "duration": 4,
    "start_time": "2022-03-22T18:03:19.418Z"
   },
   {
    "duration": 36,
    "start_time": "2022-03-22T18:03:20.652Z"
   },
   {
    "duration": 55,
    "start_time": "2022-03-22T18:48:05.100Z"
   },
   {
    "duration": 1448,
    "start_time": "2022-03-22T18:48:12.270Z"
   },
   {
    "duration": 70,
    "start_time": "2022-03-22T18:48:16.153Z"
   },
   {
    "duration": 15,
    "start_time": "2022-03-22T18:48:17.850Z"
   },
   {
    "duration": 11,
    "start_time": "2022-03-22T18:48:20.297Z"
   },
   {
    "duration": 10,
    "start_time": "2022-03-22T18:48:21.025Z"
   },
   {
    "duration": 4,
    "start_time": "2022-03-22T18:48:23.634Z"
   },
   {
    "duration": 130,
    "start_time": "2022-03-22T18:48:24.250Z"
   },
   {
    "duration": 4,
    "start_time": "2022-03-22T18:48:26.714Z"
   },
   {
    "duration": 36,
    "start_time": "2022-03-22T18:48:29.299Z"
   },
   {
    "duration": 11,
    "start_time": "2022-03-22T18:48:32.186Z"
   },
   {
    "duration": 199,
    "start_time": "2022-03-22T18:48:34.459Z"
   },
   {
    "duration": 15,
    "start_time": "2022-03-22T18:48:37.658Z"
   },
   {
    "duration": 136,
    "start_time": "2022-03-22T18:48:39.770Z"
   },
   {
    "duration": 13,
    "start_time": "2022-03-22T18:48:42.104Z"
   },
   {
    "duration": 136,
    "start_time": "2022-03-22T18:48:44.267Z"
   },
   {
    "duration": 21,
    "start_time": "2022-03-22T18:48:46.757Z"
   },
   {
    "duration": 7,
    "start_time": "2022-03-22T18:48:48.747Z"
   },
   {
    "duration": 8,
    "start_time": "2022-03-22T18:48:53.776Z"
   },
   {
    "duration": 357,
    "start_time": "2022-03-22T18:48:55.523Z"
   },
   {
    "duration": 12,
    "start_time": "2022-03-22T18:48:59.546Z"
   },
   {
    "duration": 32,
    "start_time": "2022-03-22T18:49:02.019Z"
   },
   {
    "duration": 15,
    "start_time": "2022-03-22T18:49:03.890Z"
   },
   {
    "duration": 21,
    "start_time": "2022-03-22T18:49:04.761Z"
   },
   {
    "duration": 358,
    "start_time": "2022-03-22T18:49:06.770Z"
   },
   {
    "duration": 946,
    "start_time": "2022-03-22T18:49:10.409Z"
   },
   {
    "duration": 80,
    "start_time": "2022-03-22T18:49:13.122Z"
   },
   {
    "duration": 16,
    "start_time": "2022-03-22T18:49:22.323Z"
   },
   {
    "duration": 11,
    "start_time": "2022-03-22T18:49:25.588Z"
   },
   {
    "duration": 17,
    "start_time": "2022-03-22T18:49:28.665Z"
   },
   {
    "duration": 14,
    "start_time": "2022-03-22T18:49:30.714Z"
   },
   {
    "duration": 12,
    "start_time": "2022-03-22T18:49:32.672Z"
   },
   {
    "duration": 7,
    "start_time": "2022-03-22T18:49:37.506Z"
   },
   {
    "duration": 468,
    "start_time": "2022-03-22T18:49:41.842Z"
   },
   {
    "duration": 10,
    "start_time": "2022-03-22T18:49:52.130Z"
   },
   {
    "duration": 1778,
    "start_time": "2022-03-22T18:50:02.339Z"
   },
   {
    "duration": 5121,
    "start_time": "2022-03-22T18:50:15.852Z"
   },
   {
    "duration": 5315,
    "start_time": "2022-03-22T18:50:56.459Z"
   },
   {
    "duration": 5715,
    "start_time": "2022-03-22T18:51:04.308Z"
   },
   {
    "duration": 5415,
    "start_time": "2022-03-22T18:51:25.559Z"
   },
   {
    "duration": 5288,
    "start_time": "2022-03-22T18:51:43.978Z"
   },
   {
    "duration": 10,
    "start_time": "2022-03-22T18:52:50.429Z"
   },
   {
    "duration": 7,
    "start_time": "2022-03-22T18:52:53.396Z"
   },
   {
    "duration": 2357,
    "start_time": "2022-03-22T18:52:54.614Z"
   },
   {
    "duration": 2236,
    "start_time": "2022-03-22T18:54:07.405Z"
   },
   {
    "duration": 2713,
    "start_time": "2022-03-22T18:57:09.089Z"
   },
   {
    "duration": 2444,
    "start_time": "2022-03-22T18:57:40.087Z"
   },
   {
    "duration": 29,
    "start_time": "2022-03-22T18:59:27.904Z"
   },
   {
    "duration": 177,
    "start_time": "2022-03-22T18:59:35.582Z"
   },
   {
    "duration": 3,
    "start_time": "2022-03-22T18:59:48.954Z"
   },
   {
    "duration": 1059,
    "start_time": "2022-03-22T18:59:50.115Z"
   },
   {
    "duration": 3346,
    "start_time": "2022-03-22T19:02:05.157Z"
   },
   {
    "duration": 3824,
    "start_time": "2022-03-22T19:02:55.032Z"
   },
   {
    "duration": 2870,
    "start_time": "2022-03-22T19:04:08.308Z"
   },
   {
    "duration": 3947,
    "start_time": "2022-03-22T19:04:26.982Z"
   },
   {
    "duration": 3840,
    "start_time": "2022-03-22T19:04:38.669Z"
   },
   {
    "duration": 4015,
    "start_time": "2022-03-22T19:05:39.975Z"
   },
   {
    "duration": 3,
    "start_time": "2022-03-22T19:05:52.793Z"
   },
   {
    "duration": 3662,
    "start_time": "2022-03-22T19:05:54.305Z"
   },
   {
    "duration": 1304,
    "start_time": "2022-03-22T19:15:09.861Z"
   },
   {
    "duration": 1022,
    "start_time": "2022-03-22T19:15:34.230Z"
   },
   {
    "duration": 3726,
    "start_time": "2022-03-22T19:15:50.723Z"
   },
   {
    "duration": 776,
    "start_time": "2022-03-22T19:22:51.982Z"
   },
   {
    "duration": 12,
    "start_time": "2022-03-22T19:23:12.873Z"
   },
   {
    "duration": 587,
    "start_time": "2022-03-22T19:25:31.769Z"
   },
   {
    "duration": 498,
    "start_time": "2022-03-22T19:26:09.634Z"
   },
   {
    "duration": 552,
    "start_time": "2022-03-22T19:26:27.337Z"
   },
   {
    "duration": 588,
    "start_time": "2022-03-22T19:26:43.066Z"
   },
   {
    "duration": 623,
    "start_time": "2022-03-22T19:27:10.558Z"
   },
   {
    "duration": 638,
    "start_time": "2022-03-22T19:27:30.971Z"
   },
   {
    "duration": 435,
    "start_time": "2022-03-22T19:29:44.024Z"
   },
   {
    "duration": 640,
    "start_time": "2022-03-22T19:29:56.397Z"
   },
   {
    "duration": 165,
    "start_time": "2022-03-22T19:31:05.237Z"
   },
   {
    "duration": 304,
    "start_time": "2022-03-22T19:31:11.246Z"
   },
   {
    "duration": 314,
    "start_time": "2022-03-22T19:31:53.920Z"
   },
   {
    "duration": 127,
    "start_time": "2022-03-22T20:09:11.043Z"
   },
   {
    "duration": 16,
    "start_time": "2022-03-22T20:09:22.747Z"
   },
   {
    "duration": 16,
    "start_time": "2022-03-22T20:10:40.605Z"
   },
   {
    "duration": 17,
    "start_time": "2022-03-22T20:10:52.326Z"
   },
   {
    "duration": 1313,
    "start_time": "2022-03-22T20:50:19.980Z"
   },
   {
    "duration": 81,
    "start_time": "2022-03-22T20:50:21.295Z"
   },
   {
    "duration": 15,
    "start_time": "2022-03-22T20:50:21.378Z"
   },
   {
    "duration": 35,
    "start_time": "2022-03-22T20:50:21.397Z"
   },
   {
    "duration": 16,
    "start_time": "2022-03-22T20:50:21.434Z"
   },
   {
    "duration": 15,
    "start_time": "2022-03-22T20:50:21.452Z"
   },
   {
    "duration": 148,
    "start_time": "2022-03-22T20:50:21.470Z"
   },
   {
    "duration": 12,
    "start_time": "2022-03-22T20:50:21.620Z"
   },
   {
    "duration": 17,
    "start_time": "2022-03-22T20:50:21.634Z"
   },
   {
    "duration": 26,
    "start_time": "2022-03-22T20:50:21.657Z"
   },
   {
    "duration": 16,
    "start_time": "2022-03-22T20:50:21.685Z"
   },
   {
    "duration": 223,
    "start_time": "2022-03-22T20:50:21.703Z"
   },
   {
    "duration": 15,
    "start_time": "2022-03-22T20:50:21.931Z"
   },
   {
    "duration": 170,
    "start_time": "2022-03-22T20:50:21.948Z"
   },
   {
    "duration": 121,
    "start_time": "2022-03-22T20:50:22.120Z"
   },
   {
    "duration": 0,
    "start_time": "2022-03-22T20:50:22.243Z"
   },
   {
    "duration": 0,
    "start_time": "2022-03-22T20:50:22.245Z"
   },
   {
    "duration": 0,
    "start_time": "2022-03-22T20:50:22.246Z"
   },
   {
    "duration": 0,
    "start_time": "2022-03-22T20:50:22.248Z"
   },
   {
    "duration": 0,
    "start_time": "2022-03-22T20:50:22.249Z"
   },
   {
    "duration": 1,
    "start_time": "2022-03-22T20:50:22.249Z"
   },
   {
    "duration": 0,
    "start_time": "2022-03-22T20:50:22.251Z"
   },
   {
    "duration": 0,
    "start_time": "2022-03-22T20:50:22.252Z"
   },
   {
    "duration": 0,
    "start_time": "2022-03-22T20:50:22.253Z"
   },
   {
    "duration": 0,
    "start_time": "2022-03-22T20:50:22.254Z"
   },
   {
    "duration": 0,
    "start_time": "2022-03-22T20:50:22.255Z"
   },
   {
    "duration": 0,
    "start_time": "2022-03-22T20:50:22.256Z"
   },
   {
    "duration": 0,
    "start_time": "2022-03-22T20:50:22.257Z"
   },
   {
    "duration": 0,
    "start_time": "2022-03-22T20:50:22.258Z"
   },
   {
    "duration": 0,
    "start_time": "2022-03-22T20:50:22.259Z"
   },
   {
    "duration": 0,
    "start_time": "2022-03-22T20:50:22.261Z"
   },
   {
    "duration": 0,
    "start_time": "2022-03-22T20:50:22.262Z"
   },
   {
    "duration": 0,
    "start_time": "2022-03-22T20:50:22.263Z"
   },
   {
    "duration": 0,
    "start_time": "2022-03-22T20:50:22.264Z"
   },
   {
    "duration": 0,
    "start_time": "2022-03-22T20:50:22.265Z"
   },
   {
    "duration": 0,
    "start_time": "2022-03-22T20:50:22.266Z"
   },
   {
    "duration": 14,
    "start_time": "2022-03-22T20:50:38.851Z"
   },
   {
    "duration": 150,
    "start_time": "2022-03-22T20:50:40.933Z"
   },
   {
    "duration": 19,
    "start_time": "2022-03-22T20:50:44.616Z"
   },
   {
    "duration": 7,
    "start_time": "2022-03-22T20:50:47.704Z"
   },
   {
    "duration": 8,
    "start_time": "2022-03-22T20:50:50.159Z"
   },
   {
    "duration": 374,
    "start_time": "2022-03-22T20:50:53.088Z"
   },
   {
    "duration": 13,
    "start_time": "2022-03-22T20:50:57.753Z"
   },
   {
    "duration": 328,
    "start_time": "2022-03-22T20:51:00.104Z"
   },
   {
    "duration": 31,
    "start_time": "2022-03-22T20:51:04.959Z"
   },
   {
    "duration": 16,
    "start_time": "2022-03-22T20:51:06.367Z"
   },
   {
    "duration": 22,
    "start_time": "2022-03-22T20:51:08.455Z"
   },
   {
    "duration": 342,
    "start_time": "2022-03-22T20:51:10.554Z"
   },
   {
    "duration": 956,
    "start_time": "2022-03-22T20:51:14.072Z"
   },
   {
    "duration": 16,
    "start_time": "2022-03-22T20:51:16.641Z"
   },
   {
    "duration": 12,
    "start_time": "2022-03-22T20:51:20.095Z"
   },
   {
    "duration": 17,
    "start_time": "2022-03-22T20:51:24.520Z"
   },
   {
    "duration": 14,
    "start_time": "2022-03-22T20:51:26.904Z"
   },
   {
    "duration": 16,
    "start_time": "2022-03-22T20:51:31.369Z"
   },
   {
    "duration": 5,
    "start_time": "2022-03-22T20:51:34.761Z"
   },
   {
    "duration": 3775,
    "start_time": "2022-03-22T20:51:37.338Z"
   },
   {
    "duration": 23,
    "start_time": "2022-03-22T20:51:41.116Z"
   },
   {
    "duration": 1337,
    "start_time": "2022-03-22T20:52:03.848Z"
   },
   {
    "duration": 73,
    "start_time": "2022-03-22T20:52:05.187Z"
   },
   {
    "duration": 15,
    "start_time": "2022-03-22T20:52:05.262Z"
   },
   {
    "duration": 15,
    "start_time": "2022-03-22T20:52:05.279Z"
   },
   {
    "duration": 20,
    "start_time": "2022-03-22T20:52:05.296Z"
   },
   {
    "duration": 6,
    "start_time": "2022-03-22T20:52:05.331Z"
   },
   {
    "duration": 146,
    "start_time": "2022-03-22T20:52:05.339Z"
   },
   {
    "duration": 4,
    "start_time": "2022-03-22T20:52:05.487Z"
   },
   {
    "duration": 26,
    "start_time": "2022-03-22T20:52:05.492Z"
   },
   {
    "duration": 42,
    "start_time": "2022-03-22T20:52:05.521Z"
   },
   {
    "duration": 39,
    "start_time": "2022-03-22T20:52:05.565Z"
   },
   {
    "duration": 231,
    "start_time": "2022-03-22T20:52:05.605Z"
   },
   {
    "duration": 16,
    "start_time": "2022-03-22T20:52:05.838Z"
   },
   {
    "duration": 157,
    "start_time": "2022-03-22T20:52:05.856Z"
   },
   {
    "duration": 26,
    "start_time": "2022-03-22T20:52:06.015Z"
   },
   {
    "duration": 161,
    "start_time": "2022-03-22T20:52:06.043Z"
   },
   {
    "duration": 29,
    "start_time": "2022-03-22T20:52:06.206Z"
   },
   {
    "duration": 16,
    "start_time": "2022-03-22T20:52:06.237Z"
   },
   {
    "duration": 21,
    "start_time": "2022-03-22T20:52:06.255Z"
   },
   {
    "duration": 399,
    "start_time": "2022-03-22T20:52:06.278Z"
   },
   {
    "duration": 12,
    "start_time": "2022-03-22T20:52:06.678Z"
   },
   {
    "duration": 375,
    "start_time": "2022-03-22T20:52:06.693Z"
   },
   {
    "duration": 30,
    "start_time": "2022-03-22T20:52:07.069Z"
   },
   {
    "duration": 27,
    "start_time": "2022-03-22T20:52:07.101Z"
   },
   {
    "duration": 32,
    "start_time": "2022-03-22T20:52:07.130Z"
   },
   {
    "duration": 348,
    "start_time": "2022-03-22T20:52:07.164Z"
   },
   {
    "duration": 792,
    "start_time": "2022-03-22T20:52:07.513Z"
   },
   {
    "duration": 16,
    "start_time": "2022-03-22T20:52:08.309Z"
   },
   {
    "duration": 11,
    "start_time": "2022-03-22T20:52:08.327Z"
   },
   {
    "duration": 20,
    "start_time": "2022-03-22T20:52:08.340Z"
   },
   {
    "duration": 15,
    "start_time": "2022-03-22T20:52:08.362Z"
   },
   {
    "duration": 11,
    "start_time": "2022-03-22T20:52:08.379Z"
   },
   {
    "duration": 8,
    "start_time": "2022-03-22T20:52:08.392Z"
   },
   {
    "duration": 3809,
    "start_time": "2022-03-22T20:52:08.402Z"
   },
   {
    "duration": 22,
    "start_time": "2022-03-22T20:52:12.213Z"
   },
   {
    "duration": 1262,
    "start_time": "2022-03-23T05:31:26.847Z"
   },
   {
    "duration": 67,
    "start_time": "2022-03-23T05:31:28.111Z"
   },
   {
    "duration": 13,
    "start_time": "2022-03-23T05:31:28.179Z"
   },
   {
    "duration": 10,
    "start_time": "2022-03-23T05:31:28.194Z"
   },
   {
    "duration": 28,
    "start_time": "2022-03-23T05:31:28.206Z"
   },
   {
    "duration": 5,
    "start_time": "2022-03-23T05:31:28.235Z"
   },
   {
    "duration": 130,
    "start_time": "2022-03-23T05:31:28.242Z"
   },
   {
    "duration": 4,
    "start_time": "2022-03-23T05:31:28.374Z"
   },
   {
    "duration": 13,
    "start_time": "2022-03-23T05:31:28.379Z"
   },
   {
    "duration": 24,
    "start_time": "2022-03-23T05:31:28.394Z"
   },
   {
    "duration": 10,
    "start_time": "2022-03-23T05:31:28.433Z"
   },
   {
    "duration": 176,
    "start_time": "2022-03-23T05:31:28.445Z"
   },
   {
    "duration": 18,
    "start_time": "2022-03-23T05:31:28.622Z"
   },
   {
    "duration": 133,
    "start_time": "2022-03-23T05:31:28.642Z"
   },
   {
    "duration": 13,
    "start_time": "2022-03-23T05:31:28.777Z"
   },
   {
    "duration": 132,
    "start_time": "2022-03-23T05:31:28.792Z"
   },
   {
    "duration": 21,
    "start_time": "2022-03-23T05:31:28.926Z"
   },
   {
    "duration": 6,
    "start_time": "2022-03-23T05:31:28.948Z"
   },
   {
    "duration": 7,
    "start_time": "2022-03-23T05:31:28.955Z"
   },
   {
    "duration": 575,
    "start_time": "2022-03-23T05:31:28.963Z"
   },
   {
    "duration": 13,
    "start_time": "2022-03-23T05:31:29.540Z"
   },
   {
    "duration": 534,
    "start_time": "2022-03-23T05:31:29.556Z"
   },
   {
    "duration": 42,
    "start_time": "2022-03-23T05:31:30.092Z"
   },
   {
    "duration": 15,
    "start_time": "2022-03-23T05:31:30.136Z"
   },
   {
    "duration": 21,
    "start_time": "2022-03-23T05:31:30.153Z"
   },
   {
    "duration": 366,
    "start_time": "2022-03-23T05:31:30.176Z"
   },
   {
    "duration": 1057,
    "start_time": "2022-03-23T05:31:30.544Z"
   },
   {
    "duration": 13,
    "start_time": "2022-03-23T05:31:31.602Z"
   },
   {
    "duration": 10,
    "start_time": "2022-03-23T05:31:31.617Z"
   },
   {
    "duration": 19,
    "start_time": "2022-03-23T05:31:31.629Z"
   },
   {
    "duration": 14,
    "start_time": "2022-03-23T05:31:31.649Z"
   },
   {
    "duration": 11,
    "start_time": "2022-03-23T05:31:31.664Z"
   },
   {
    "duration": 9,
    "start_time": "2022-03-23T05:31:31.676Z"
   },
   {
    "duration": 3027,
    "start_time": "2022-03-23T05:31:31.686Z"
   },
   {
    "duration": 24,
    "start_time": "2022-03-23T05:31:34.715Z"
   },
   {
    "duration": 48,
    "start_time": "2022-03-23T16:44:20.045Z"
   },
   {
    "duration": 1406,
    "start_time": "2022-03-23T16:44:30.706Z"
   },
   {
    "duration": 59,
    "start_time": "2022-03-23T16:44:34.787Z"
   },
   {
    "duration": 15,
    "start_time": "2022-03-23T16:45:24.192Z"
   },
   {
    "duration": 10,
    "start_time": "2022-03-23T16:45:26.482Z"
   },
   {
    "duration": 13,
    "start_time": "2022-03-23T16:45:29.083Z"
   },
   {
    "duration": 7,
    "start_time": "2022-03-23T16:45:31.641Z"
   },
   {
    "duration": 212,
    "start_time": "2022-03-23T16:45:33.092Z"
   },
   {
    "duration": 4,
    "start_time": "2022-03-23T16:45:36.194Z"
   },
   {
    "duration": 22,
    "start_time": "2022-03-23T16:45:39.532Z"
   },
   {
    "duration": 11,
    "start_time": "2022-03-23T16:45:43.811Z"
   },
   {
    "duration": 271,
    "start_time": "2022-03-23T16:45:49.196Z"
   },
   {
    "duration": 20,
    "start_time": "2022-03-23T16:45:54.539Z"
   },
   {
    "duration": 119,
    "start_time": "2022-03-23T16:45:55.500Z"
   },
   {
    "duration": 13,
    "start_time": "2022-03-23T16:46:02.987Z"
   },
   {
    "duration": 130,
    "start_time": "2022-03-23T16:46:04.305Z"
   },
   {
    "duration": 75,
    "start_time": "2022-03-23T16:46:08.754Z"
   },
   {
    "duration": 14,
    "start_time": "2022-03-23T16:46:25.450Z"
   },
   {
    "duration": 14,
    "start_time": "2022-03-23T16:47:01.844Z"
   },
   {
    "duration": 14,
    "start_time": "2022-03-23T16:49:00.424Z"
   },
   {
    "duration": 8,
    "start_time": "2022-03-23T16:49:12.016Z"
   },
   {
    "duration": 8,
    "start_time": "2022-03-23T16:49:15.613Z"
   },
   {
    "duration": 86,
    "start_time": "2022-03-23T16:49:26.645Z"
   },
   {
    "duration": 15,
    "start_time": "2022-03-23T16:49:39.974Z"
   },
   {
    "duration": 15,
    "start_time": "2022-03-23T16:53:17.776Z"
   },
   {
    "duration": 26,
    "start_time": "2022-03-23T16:55:50.859Z"
   },
   {
    "duration": 16,
    "start_time": "2022-03-23T16:56:00.004Z"
   },
   {
    "duration": 16,
    "start_time": "2022-03-23T16:56:36.810Z"
   },
   {
    "duration": 24,
    "start_time": "2022-03-23T16:56:59.347Z"
   },
   {
    "duration": 154,
    "start_time": "2022-03-23T16:58:01.747Z"
   },
   {
    "duration": 110,
    "start_time": "2022-03-23T17:00:01.248Z"
   },
   {
    "duration": 13,
    "start_time": "2022-03-23T17:00:12.493Z"
   },
   {
    "duration": 21,
    "start_time": "2022-03-23T17:00:27.885Z"
   },
   {
    "duration": 134,
    "start_time": "2022-03-23T17:01:12.196Z"
   },
   {
    "duration": 90,
    "start_time": "2022-03-23T17:01:27.172Z"
   },
   {
    "duration": 88,
    "start_time": "2022-03-23T17:03:38.094Z"
   },
   {
    "duration": 21,
    "start_time": "2022-03-23T17:03:44.173Z"
   },
   {
    "duration": 21,
    "start_time": "2022-03-23T17:09:59.783Z"
   },
   {
    "duration": 21,
    "start_time": "2022-03-23T17:10:08.682Z"
   },
   {
    "duration": 25,
    "start_time": "2022-03-23T17:10:18.858Z"
   },
   {
    "duration": 22,
    "start_time": "2022-03-23T17:10:25.803Z"
   },
   {
    "duration": 17,
    "start_time": "2022-03-23T17:10:42.973Z"
   },
   {
    "duration": 17,
    "start_time": "2022-03-23T17:11:04.689Z"
   },
   {
    "duration": 17,
    "start_time": "2022-03-23T17:11:11.420Z"
   },
   {
    "duration": 17,
    "start_time": "2022-03-23T17:11:20.628Z"
   },
   {
    "duration": 4,
    "start_time": "2022-03-23T17:11:27.225Z"
   },
   {
    "duration": 16,
    "start_time": "2022-03-23T17:11:31.419Z"
   },
   {
    "duration": 17,
    "start_time": "2022-03-23T17:12:03.685Z"
   },
   {
    "duration": 16,
    "start_time": "2022-03-23T17:12:14.193Z"
   },
   {
    "duration": 22,
    "start_time": "2022-03-23T17:12:47.850Z"
   },
   {
    "duration": 15,
    "start_time": "2022-03-23T17:13:28.620Z"
   },
   {
    "duration": 17,
    "start_time": "2022-03-23T17:13:37.868Z"
   },
   {
    "duration": 21,
    "start_time": "2022-03-23T17:13:47.307Z"
   },
   {
    "duration": 16,
    "start_time": "2022-03-23T17:13:56.124Z"
   },
   {
    "duration": 19,
    "start_time": "2022-03-23T17:15:00.292Z"
   },
   {
    "duration": 85,
    "start_time": "2022-03-23T17:15:15.261Z"
   },
   {
    "duration": 16,
    "start_time": "2022-03-23T17:15:18.396Z"
   },
   {
    "duration": 22,
    "start_time": "2022-03-23T17:16:20.461Z"
   },
   {
    "duration": 19,
    "start_time": "2022-03-23T17:17:57.935Z"
   },
   {
    "duration": 17,
    "start_time": "2022-03-23T17:22:02.907Z"
   },
   {
    "duration": 19,
    "start_time": "2022-03-23T17:22:09.067Z"
   },
   {
    "duration": 17,
    "start_time": "2022-03-23T17:22:25.345Z"
   },
   {
    "duration": 27,
    "start_time": "2022-03-23T17:22:32.256Z"
   },
   {
    "duration": 19,
    "start_time": "2022-03-23T17:23:08.211Z"
   },
   {
    "duration": 14,
    "start_time": "2022-03-23T17:30:04.344Z"
   },
   {
    "duration": 11,
    "start_time": "2022-03-23T17:30:21.241Z"
   },
   {
    "duration": 4,
    "start_time": "2022-03-23T17:30:40.010Z"
   },
   {
    "duration": 54,
    "start_time": "2022-03-23T17:30:43.022Z"
   },
   {
    "duration": 13,
    "start_time": "2022-03-23T17:30:44.774Z"
   },
   {
    "duration": 10,
    "start_time": "2022-03-23T17:30:47.029Z"
   },
   {
    "duration": 13,
    "start_time": "2022-03-23T17:30:48.614Z"
   },
   {
    "duration": 5,
    "start_time": "2022-03-23T17:30:50.513Z"
   },
   {
    "duration": 118,
    "start_time": "2022-03-23T17:30:51.367Z"
   },
   {
    "duration": 3,
    "start_time": "2022-03-23T17:30:53.143Z"
   },
   {
    "duration": 12,
    "start_time": "2022-03-23T17:30:54.098Z"
   },
   {
    "duration": 24,
    "start_time": "2022-03-23T17:30:56.046Z"
   },
   {
    "duration": 12,
    "start_time": "2022-03-23T17:31:01.500Z"
   },
   {
    "duration": 163,
    "start_time": "2022-03-23T17:31:02.616Z"
   },
   {
    "duration": 14,
    "start_time": "2022-03-23T17:31:07.852Z"
   },
   {
    "duration": 12,
    "start_time": "2022-03-23T17:31:13.752Z"
   },
   {
    "duration": 16,
    "start_time": "2022-03-23T17:31:17.156Z"
   },
   {
    "duration": 17,
    "start_time": "2022-03-23T17:31:29.613Z"
   },
   {
    "duration": 6,
    "start_time": "2022-03-23T17:31:32.807Z"
   },
   {
    "duration": 6,
    "start_time": "2022-03-23T17:31:35.509Z"
   },
   {
    "duration": 307,
    "start_time": "2022-03-23T17:31:37.831Z"
   },
   {
    "duration": 3430,
    "start_time": "2022-03-23T17:32:55.659Z"
   },
   {
    "duration": 96,
    "start_time": "2022-03-23T17:34:11.402Z"
   },
   {
    "duration": 123,
    "start_time": "2022-03-23T17:34:18.496Z"
   },
   {
    "duration": 546,
    "start_time": "2022-03-23T17:34:27.442Z"
   },
   {
    "duration": 1754,
    "start_time": "2022-03-23T17:35:29.587Z"
   },
   {
    "duration": 1147,
    "start_time": "2022-03-23T17:36:45.052Z"
   },
   {
    "duration": 1326,
    "start_time": "2022-03-23T17:38:34.974Z"
   },
   {
    "duration": 28,
    "start_time": "2022-03-23T17:40:57.520Z"
   },
   {
    "duration": 25,
    "start_time": "2022-03-23T17:41:07.333Z"
   },
   {
    "duration": 139,
    "start_time": "2022-03-23T17:52:29.446Z"
   },
   {
    "duration": 133,
    "start_time": "2022-03-23T17:52:36.879Z"
   },
   {
    "duration": 161,
    "start_time": "2022-03-23T17:56:22.005Z"
   },
   {
    "duration": 148,
    "start_time": "2022-03-23T17:56:55.102Z"
   },
   {
    "duration": 125,
    "start_time": "2022-03-23T17:59:35.282Z"
   },
   {
    "duration": 142,
    "start_time": "2022-03-23T18:00:01.283Z"
   },
   {
    "duration": 197,
    "start_time": "2022-03-23T18:00:10.328Z"
   },
   {
    "duration": 178,
    "start_time": "2022-03-23T18:03:30.980Z"
   },
   {
    "duration": 141,
    "start_time": "2022-03-23T18:03:37.758Z"
   },
   {
    "duration": 177,
    "start_time": "2022-03-23T18:08:28.304Z"
   },
   {
    "duration": 163,
    "start_time": "2022-03-23T18:08:43.553Z"
   },
   {
    "duration": 128,
    "start_time": "2022-03-23T18:09:00.078Z"
   },
   {
    "duration": 1242,
    "start_time": "2022-03-23T18:09:50.977Z"
   },
   {
    "duration": 64,
    "start_time": "2022-03-23T18:09:52.221Z"
   },
   {
    "duration": 14,
    "start_time": "2022-03-23T18:09:52.287Z"
   },
   {
    "duration": 28,
    "start_time": "2022-03-23T18:09:52.303Z"
   },
   {
    "duration": 23,
    "start_time": "2022-03-23T18:09:52.333Z"
   },
   {
    "duration": 19,
    "start_time": "2022-03-23T18:09:52.358Z"
   },
   {
    "duration": 121,
    "start_time": "2022-03-23T18:09:52.379Z"
   },
   {
    "duration": 4,
    "start_time": "2022-03-23T18:09:52.501Z"
   },
   {
    "duration": 14,
    "start_time": "2022-03-23T18:09:52.506Z"
   },
   {
    "duration": 23,
    "start_time": "2022-03-23T18:09:52.532Z"
   },
   {
    "duration": 24,
    "start_time": "2022-03-23T18:09:52.556Z"
   },
   {
    "duration": 197,
    "start_time": "2022-03-23T18:09:52.582Z"
   },
   {
    "duration": 15,
    "start_time": "2022-03-23T18:09:52.781Z"
   },
   {
    "duration": 137,
    "start_time": "2022-03-23T18:09:52.797Z"
   },
   {
    "duration": 14,
    "start_time": "2022-03-23T18:09:52.936Z"
   },
   {
    "duration": 135,
    "start_time": "2022-03-23T18:09:52.952Z"
   },
   {
    "duration": 17,
    "start_time": "2022-03-23T18:09:53.089Z"
   },
   {
    "duration": 153,
    "start_time": "2022-03-23T18:09:53.108Z"
   },
   {
    "duration": 17,
    "start_time": "2022-03-23T18:09:53.263Z"
   },
   {
    "duration": 12,
    "start_time": "2022-03-23T18:09:53.281Z"
   },
   {
    "duration": 10,
    "start_time": "2022-03-23T18:09:53.294Z"
   },
   {
    "duration": 314,
    "start_time": "2022-03-23T18:09:53.305Z"
   },
   {
    "duration": 1240,
    "start_time": "2022-03-23T18:09:53.621Z"
   },
   {
    "duration": 1144,
    "start_time": "2022-03-23T18:09:54.862Z"
   },
   {
    "duration": 12,
    "start_time": "2022-03-23T18:09:56.008Z"
   },
   {
    "duration": 285,
    "start_time": "2022-03-23T18:09:56.032Z"
   },
   {
    "duration": 32,
    "start_time": "2022-03-23T18:09:56.319Z"
   },
   {
    "duration": 21,
    "start_time": "2022-03-23T18:09:56.356Z"
   },
   {
    "duration": 21,
    "start_time": "2022-03-23T18:09:56.379Z"
   },
   {
    "duration": 309,
    "start_time": "2022-03-23T18:09:56.402Z"
   },
   {
    "duration": 1309,
    "start_time": "2022-03-23T18:09:56.712Z"
   },
   {
    "duration": 15,
    "start_time": "2022-03-23T18:09:58.022Z"
   },
   {
    "duration": 10,
    "start_time": "2022-03-23T18:09:58.039Z"
   },
   {
    "duration": 26,
    "start_time": "2022-03-23T18:09:58.051Z"
   },
   {
    "duration": 12,
    "start_time": "2022-03-23T18:09:58.079Z"
   },
   {
    "duration": 12,
    "start_time": "2022-03-23T18:09:58.093Z"
   },
   {
    "duration": 26,
    "start_time": "2022-03-23T18:09:58.107Z"
   }
  ],
  "kernelspec": {
   "display_name": "Python 3",
   "language": "python",
   "name": "python3"
  },
  "language_info": {
   "codemirror_mode": {
    "name": "ipython",
    "version": 3
   },
   "file_extension": ".py",
   "mimetype": "text/x-python",
   "name": "python",
   "nbconvert_exporter": "python",
   "pygments_lexer": "ipython3",
   "version": "3.7.3"
  },
  "toc": {
   "base_numbering": 1,
   "nav_menu": {},
   "number_sections": true,
   "sideBar": true,
   "skip_h1_title": true,
   "title_cell": "Table of Contents",
   "title_sidebar": "Contents",
   "toc_cell": false,
   "toc_position": {
    "height": "calc(100% - 180px)",
    "left": "10px",
    "top": "150px",
    "width": "165px"
   },
   "toc_section_display": true,
   "toc_window_display": false
  }
 },
 "nbformat": 4,
 "nbformat_minor": 2
}
