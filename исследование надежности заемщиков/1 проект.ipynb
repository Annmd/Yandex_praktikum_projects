{
 "cells": [
  {
   "cell_type": "markdown",
   "metadata": {},
   "source": [
    "# Исследование надёжности заёмщиков\n"
   ]
  },
  {
   "cell_type": "markdown",
   "metadata": {},
   "source": [
    "Входные данные — данные о клиентах банка и их займах. Задача - выяснить влияет ли семейное положение и количество детей, а также другие факторы на частоту погашения кредита в срок, результаты исследования будут учитываться кредитным отделом для построения модели кредитного скоринга."
   ]
  },
  {
   "cell_type": "markdown",
   "metadata": {},
   "source": [
    "## Общая информация"
   ]
  },
  {
   "cell_type": "code",
   "execution_count": 1,
   "metadata": {},
   "outputs": [
    {
     "data": {
      "text/html": [
       "<div>\n",
       "<style scoped>\n",
       "    .dataframe tbody tr th:only-of-type {\n",
       "        vertical-align: middle;\n",
       "    }\n",
       "\n",
       "    .dataframe tbody tr th {\n",
       "        vertical-align: top;\n",
       "    }\n",
       "\n",
       "    .dataframe thead th {\n",
       "        text-align: right;\n",
       "    }\n",
       "</style>\n",
       "<table border=\"1\" class=\"dataframe\">\n",
       "  <thead>\n",
       "    <tr style=\"text-align: right;\">\n",
       "      <th></th>\n",
       "      <th>children</th>\n",
       "      <th>days_employed</th>\n",
       "      <th>dob_years</th>\n",
       "      <th>education</th>\n",
       "      <th>education_id</th>\n",
       "      <th>family_status</th>\n",
       "      <th>family_status_id</th>\n",
       "      <th>gender</th>\n",
       "      <th>income_type</th>\n",
       "      <th>debt</th>\n",
       "      <th>total_income</th>\n",
       "      <th>purpose</th>\n",
       "    </tr>\n",
       "  </thead>\n",
       "  <tbody>\n",
       "    <tr>\n",
       "      <td>0</td>\n",
       "      <td>1</td>\n",
       "      <td>-8437.673028</td>\n",
       "      <td>42</td>\n",
       "      <td>высшее</td>\n",
       "      <td>0</td>\n",
       "      <td>женат / замужем</td>\n",
       "      <td>0</td>\n",
       "      <td>F</td>\n",
       "      <td>сотрудник</td>\n",
       "      <td>0</td>\n",
       "      <td>253875.639453</td>\n",
       "      <td>покупка жилья</td>\n",
       "    </tr>\n",
       "    <tr>\n",
       "      <td>1</td>\n",
       "      <td>1</td>\n",
       "      <td>-4024.803754</td>\n",
       "      <td>36</td>\n",
       "      <td>среднее</td>\n",
       "      <td>1</td>\n",
       "      <td>женат / замужем</td>\n",
       "      <td>0</td>\n",
       "      <td>F</td>\n",
       "      <td>сотрудник</td>\n",
       "      <td>0</td>\n",
       "      <td>112080.014102</td>\n",
       "      <td>приобретение автомобиля</td>\n",
       "    </tr>\n",
       "    <tr>\n",
       "      <td>2</td>\n",
       "      <td>0</td>\n",
       "      <td>-5623.422610</td>\n",
       "      <td>33</td>\n",
       "      <td>Среднее</td>\n",
       "      <td>1</td>\n",
       "      <td>женат / замужем</td>\n",
       "      <td>0</td>\n",
       "      <td>M</td>\n",
       "      <td>сотрудник</td>\n",
       "      <td>0</td>\n",
       "      <td>145885.952297</td>\n",
       "      <td>покупка жилья</td>\n",
       "    </tr>\n",
       "    <tr>\n",
       "      <td>3</td>\n",
       "      <td>3</td>\n",
       "      <td>-4124.747207</td>\n",
       "      <td>32</td>\n",
       "      <td>среднее</td>\n",
       "      <td>1</td>\n",
       "      <td>женат / замужем</td>\n",
       "      <td>0</td>\n",
       "      <td>M</td>\n",
       "      <td>сотрудник</td>\n",
       "      <td>0</td>\n",
       "      <td>267628.550329</td>\n",
       "      <td>дополнительное образование</td>\n",
       "    </tr>\n",
       "    <tr>\n",
       "      <td>4</td>\n",
       "      <td>0</td>\n",
       "      <td>340266.072047</td>\n",
       "      <td>53</td>\n",
       "      <td>среднее</td>\n",
       "      <td>1</td>\n",
       "      <td>гражданский брак</td>\n",
       "      <td>1</td>\n",
       "      <td>F</td>\n",
       "      <td>пенсионер</td>\n",
       "      <td>0</td>\n",
       "      <td>158616.077870</td>\n",
       "      <td>сыграть свадьбу</td>\n",
       "    </tr>\n",
       "    <tr>\n",
       "      <td>5</td>\n",
       "      <td>0</td>\n",
       "      <td>-926.185831</td>\n",
       "      <td>27</td>\n",
       "      <td>высшее</td>\n",
       "      <td>0</td>\n",
       "      <td>гражданский брак</td>\n",
       "      <td>1</td>\n",
       "      <td>M</td>\n",
       "      <td>компаньон</td>\n",
       "      <td>0</td>\n",
       "      <td>255763.565419</td>\n",
       "      <td>покупка жилья</td>\n",
       "    </tr>\n",
       "    <tr>\n",
       "      <td>6</td>\n",
       "      <td>0</td>\n",
       "      <td>-2879.202052</td>\n",
       "      <td>43</td>\n",
       "      <td>высшее</td>\n",
       "      <td>0</td>\n",
       "      <td>женат / замужем</td>\n",
       "      <td>0</td>\n",
       "      <td>F</td>\n",
       "      <td>компаньон</td>\n",
       "      <td>0</td>\n",
       "      <td>240525.971920</td>\n",
       "      <td>операции с жильем</td>\n",
       "    </tr>\n",
       "    <tr>\n",
       "      <td>7</td>\n",
       "      <td>0</td>\n",
       "      <td>-152.779569</td>\n",
       "      <td>50</td>\n",
       "      <td>СРЕДНЕЕ</td>\n",
       "      <td>1</td>\n",
       "      <td>женат / замужем</td>\n",
       "      <td>0</td>\n",
       "      <td>M</td>\n",
       "      <td>сотрудник</td>\n",
       "      <td>0</td>\n",
       "      <td>135823.934197</td>\n",
       "      <td>образование</td>\n",
       "    </tr>\n",
       "    <tr>\n",
       "      <td>8</td>\n",
       "      <td>2</td>\n",
       "      <td>-6929.865299</td>\n",
       "      <td>35</td>\n",
       "      <td>ВЫСШЕЕ</td>\n",
       "      <td>0</td>\n",
       "      <td>гражданский брак</td>\n",
       "      <td>1</td>\n",
       "      <td>F</td>\n",
       "      <td>сотрудник</td>\n",
       "      <td>0</td>\n",
       "      <td>95856.832424</td>\n",
       "      <td>на проведение свадьбы</td>\n",
       "    </tr>\n",
       "    <tr>\n",
       "      <td>9</td>\n",
       "      <td>0</td>\n",
       "      <td>-2188.756445</td>\n",
       "      <td>41</td>\n",
       "      <td>среднее</td>\n",
       "      <td>1</td>\n",
       "      <td>женат / замужем</td>\n",
       "      <td>0</td>\n",
       "      <td>M</td>\n",
       "      <td>сотрудник</td>\n",
       "      <td>0</td>\n",
       "      <td>144425.938277</td>\n",
       "      <td>покупка жилья для семьи</td>\n",
       "    </tr>\n",
       "  </tbody>\n",
       "</table>\n",
       "</div>"
      ],
      "text/plain": [
       "   children  days_employed  dob_years education  education_id  \\\n",
       "0         1   -8437.673028         42    высшее             0   \n",
       "1         1   -4024.803754         36   среднее             1   \n",
       "2         0   -5623.422610         33   Среднее             1   \n",
       "3         3   -4124.747207         32   среднее             1   \n",
       "4         0  340266.072047         53   среднее             1   \n",
       "5         0    -926.185831         27    высшее             0   \n",
       "6         0   -2879.202052         43    высшее             0   \n",
       "7         0    -152.779569         50   СРЕДНЕЕ             1   \n",
       "8         2   -6929.865299         35    ВЫСШЕЕ             0   \n",
       "9         0   -2188.756445         41   среднее             1   \n",
       "\n",
       "      family_status  family_status_id gender income_type  debt   total_income  \\\n",
       "0   женат / замужем                 0      F   сотрудник     0  253875.639453   \n",
       "1   женат / замужем                 0      F   сотрудник     0  112080.014102   \n",
       "2   женат / замужем                 0      M   сотрудник     0  145885.952297   \n",
       "3   женат / замужем                 0      M   сотрудник     0  267628.550329   \n",
       "4  гражданский брак                 1      F   пенсионер     0  158616.077870   \n",
       "5  гражданский брак                 1      M   компаньон     0  255763.565419   \n",
       "6   женат / замужем                 0      F   компаньон     0  240525.971920   \n",
       "7   женат / замужем                 0      M   сотрудник     0  135823.934197   \n",
       "8  гражданский брак                 1      F   сотрудник     0   95856.832424   \n",
       "9   женат / замужем                 0      M   сотрудник     0  144425.938277   \n",
       "\n",
       "                      purpose  \n",
       "0               покупка жилья  \n",
       "1     приобретение автомобиля  \n",
       "2               покупка жилья  \n",
       "3  дополнительное образование  \n",
       "4             сыграть свадьбу  \n",
       "5               покупка жилья  \n",
       "6           операции с жильем  \n",
       "7                 образование  \n",
       "8       на проведение свадьбы  \n",
       "9     покупка жилья для семьи  "
      ]
     },
     "execution_count": 1,
     "metadata": {},
     "output_type": "execute_result"
    }
   ],
   "source": [
    "import pandas as pd\n",
    "from pymystem3 import Mystem\n",
    "m = Mystem()\n",
    "data = pd.read_csv('/datasets/data.csv')\n",
    "data.head(10)"
   ]
  },
  {
   "cell_type": "code",
   "execution_count": 2,
   "metadata": {
    "scrolled": false
   },
   "outputs": [
    {
     "name": "stdout",
     "output_type": "stream",
     "text": [
      "<class 'pandas.core.frame.DataFrame'>\n",
      "RangeIndex: 21525 entries, 0 to 21524\n",
      "Data columns (total 12 columns):\n",
      "children            21525 non-null int64\n",
      "days_employed       19351 non-null float64\n",
      "dob_years           21525 non-null int64\n",
      "education           21525 non-null object\n",
      "education_id        21525 non-null int64\n",
      "family_status       21525 non-null object\n",
      "family_status_id    21525 non-null int64\n",
      "gender              21525 non-null object\n",
      "income_type         21525 non-null object\n",
      "debt                21525 non-null int64\n",
      "total_income        19351 non-null float64\n",
      "purpose             21525 non-null object\n",
      "dtypes: float64(2), int64(5), object(5)\n",
      "memory usage: 2.0+ MB\n"
     ]
    }
   ],
   "source": [
    "data.info()"
   ]
  },
  {
   "cell_type": "code",
   "execution_count": 3,
   "metadata": {},
   "outputs": [
    {
     "data": {
      "text/html": [
       "<div>\n",
       "<style scoped>\n",
       "    .dataframe tbody tr th:only-of-type {\n",
       "        vertical-align: middle;\n",
       "    }\n",
       "\n",
       "    .dataframe tbody tr th {\n",
       "        vertical-align: top;\n",
       "    }\n",
       "\n",
       "    .dataframe thead th {\n",
       "        text-align: right;\n",
       "    }\n",
       "</style>\n",
       "<table border=\"1\" class=\"dataframe\">\n",
       "  <thead>\n",
       "    <tr style=\"text-align: right;\">\n",
       "      <th></th>\n",
       "      <th>children</th>\n",
       "      <th>days_employed</th>\n",
       "      <th>dob_years</th>\n",
       "      <th>education_id</th>\n",
       "      <th>family_status_id</th>\n",
       "      <th>debt</th>\n",
       "      <th>total_income</th>\n",
       "    </tr>\n",
       "  </thead>\n",
       "  <tbody>\n",
       "    <tr>\n",
       "      <td>count</td>\n",
       "      <td>21525.000000</td>\n",
       "      <td>19351.000000</td>\n",
       "      <td>21525.000000</td>\n",
       "      <td>21525.000000</td>\n",
       "      <td>21525.000000</td>\n",
       "      <td>21525.000000</td>\n",
       "      <td>1.935100e+04</td>\n",
       "    </tr>\n",
       "    <tr>\n",
       "      <td>mean</td>\n",
       "      <td>0.538908</td>\n",
       "      <td>63046.497661</td>\n",
       "      <td>43.293380</td>\n",
       "      <td>0.817236</td>\n",
       "      <td>0.972544</td>\n",
       "      <td>0.080883</td>\n",
       "      <td>1.674223e+05</td>\n",
       "    </tr>\n",
       "    <tr>\n",
       "      <td>std</td>\n",
       "      <td>1.381587</td>\n",
       "      <td>140827.311974</td>\n",
       "      <td>12.574584</td>\n",
       "      <td>0.548138</td>\n",
       "      <td>1.420324</td>\n",
       "      <td>0.272661</td>\n",
       "      <td>1.029716e+05</td>\n",
       "    </tr>\n",
       "    <tr>\n",
       "      <td>min</td>\n",
       "      <td>-1.000000</td>\n",
       "      <td>-18388.949901</td>\n",
       "      <td>0.000000</td>\n",
       "      <td>0.000000</td>\n",
       "      <td>0.000000</td>\n",
       "      <td>0.000000</td>\n",
       "      <td>2.066726e+04</td>\n",
       "    </tr>\n",
       "    <tr>\n",
       "      <td>25%</td>\n",
       "      <td>0.000000</td>\n",
       "      <td>-2747.423625</td>\n",
       "      <td>33.000000</td>\n",
       "      <td>1.000000</td>\n",
       "      <td>0.000000</td>\n",
       "      <td>0.000000</td>\n",
       "      <td>1.030532e+05</td>\n",
       "    </tr>\n",
       "    <tr>\n",
       "      <td>50%</td>\n",
       "      <td>0.000000</td>\n",
       "      <td>-1203.369529</td>\n",
       "      <td>42.000000</td>\n",
       "      <td>1.000000</td>\n",
       "      <td>0.000000</td>\n",
       "      <td>0.000000</td>\n",
       "      <td>1.450179e+05</td>\n",
       "    </tr>\n",
       "    <tr>\n",
       "      <td>75%</td>\n",
       "      <td>1.000000</td>\n",
       "      <td>-291.095954</td>\n",
       "      <td>53.000000</td>\n",
       "      <td>1.000000</td>\n",
       "      <td>1.000000</td>\n",
       "      <td>0.000000</td>\n",
       "      <td>2.034351e+05</td>\n",
       "    </tr>\n",
       "    <tr>\n",
       "      <td>max</td>\n",
       "      <td>20.000000</td>\n",
       "      <td>401755.400475</td>\n",
       "      <td>75.000000</td>\n",
       "      <td>4.000000</td>\n",
       "      <td>4.000000</td>\n",
       "      <td>1.000000</td>\n",
       "      <td>2.265604e+06</td>\n",
       "    </tr>\n",
       "  </tbody>\n",
       "</table>\n",
       "</div>"
      ],
      "text/plain": [
       "           children  days_employed     dob_years  education_id  \\\n",
       "count  21525.000000   19351.000000  21525.000000  21525.000000   \n",
       "mean       0.538908   63046.497661     43.293380      0.817236   \n",
       "std        1.381587  140827.311974     12.574584      0.548138   \n",
       "min       -1.000000  -18388.949901      0.000000      0.000000   \n",
       "25%        0.000000   -2747.423625     33.000000      1.000000   \n",
       "50%        0.000000   -1203.369529     42.000000      1.000000   \n",
       "75%        1.000000    -291.095954     53.000000      1.000000   \n",
       "max       20.000000  401755.400475     75.000000      4.000000   \n",
       "\n",
       "       family_status_id          debt  total_income  \n",
       "count      21525.000000  21525.000000  1.935100e+04  \n",
       "mean           0.972544      0.080883  1.674223e+05  \n",
       "std            1.420324      0.272661  1.029716e+05  \n",
       "min            0.000000      0.000000  2.066726e+04  \n",
       "25%            0.000000      0.000000  1.030532e+05  \n",
       "50%            0.000000      0.000000  1.450179e+05  \n",
       "75%            1.000000      0.000000  2.034351e+05  \n",
       "max            4.000000      1.000000  2.265604e+06  "
      ]
     },
     "execution_count": 3,
     "metadata": {},
     "output_type": "execute_result"
    }
   ],
   "source": [
    "data.describe()"
   ]
  },
  {
   "cell_type": "markdown",
   "metadata": {},
   "source": [
    "**Вывод**"
   ]
  },
  {
   "cell_type": "markdown",
   "metadata": {},
   "source": [
    "В таблице 12 столбцов, тип данных object, int, float.\n",
    "Согласно документации к данным:\n",
    "* children — количество детей в семье\n",
    "* days_employed — общий трудовой стаж в днях\n",
    "* dob_years — возраст клиента в годах\n",
    "* education — уровень образования клиента\n",
    "* education_id — идентификатор уровня образования\n",
    "* family_status — семейное положение\n",
    "* family_status_id — идентификатор семейного положения\n",
    "* gender — пол клиента\n",
    "* income_type — тип занятости\n",
    "* debt — имел ли задолженность по возврату кредитов\n",
    "* total_income — ежемесячный доход\n",
    "* purpose — цель получения кредита\n",
    "\n",
    "Количество значений в некоторых столбцах различается, значит есть пропуски. Стиль заголовков соблюдается. В столбце days_employed некоторые значения отрицательные. В столбце education есть неявные дубликаты.  \n"
   ]
  },
  {
   "cell_type": "markdown",
   "metadata": {},
   "source": [
    "## Предобработка данных"
   ]
  },
  {
   "cell_type": "markdown",
   "metadata": {},
   "source": [
    "В столбце days_employed некоторые значения отрицательные, такая ситуация может быть результатом технической ошибки или ошибкой ввода. Исправим значения на положительные."
   ]
  },
  {
   "cell_type": "code",
   "execution_count": 4,
   "metadata": {},
   "outputs": [],
   "source": [
    "data['days_employed'] = data['days_employed'].abs()"
   ]
  },
  {
   "cell_type": "markdown",
   "metadata": {},
   "source": [
    "В столбце days_employed некоторые значения очень большие. Найдем максимальное значение столбца."
   ]
  },
  {
   "cell_type": "code",
   "execution_count": 5,
   "metadata": {},
   "outputs": [
    {
     "name": "stdout",
     "output_type": "stream",
     "text": [
      "401755.40047533\n"
     ]
    }
   ],
   "source": [
    "print(data['days_employed'].max())"
   ]
  },
  {
   "cell_type": "markdown",
   "metadata": {},
   "source": [
    "Т.е. 401755/365 = 1100 лет, вероятно это значение приведено не в днях, а в часах. 401755/24 = 16425 дней/365 = 45 лет. Если считать начало трудового стажа с 20 лет, потенциальный максимально возможный стаж около 60 лет = 21900 дней.Таким образом для преобразования значений в дни, все переменные, которые больше 21900 поделим на 24."
   ]
  },
  {
   "cell_type": "code",
   "execution_count": 6,
   "metadata": {},
   "outputs": [
    {
     "name": "stdout",
     "output_type": "stream",
     "text": [
      "18388.949900568383\n"
     ]
    }
   ],
   "source": [
    "# функция для перевода часов в дни\n",
    "def to_days(value):\n",
    "    if value<21900:\n",
    "        return value\n",
    "    if value>21900:\n",
    "        return value/24\n",
    "data['days_employed'] = data['days_employed'].apply(to_days)\n",
    "# Проверим\n",
    "print(data['days_employed'].max())"
   ]
  },
  {
   "cell_type": "markdown",
   "metadata": {},
   "source": [
    "Теперь все данные о стаже представлены в днях. Можно перейти к заполнению пропусков."
   ]
  },
  {
   "cell_type": "markdown",
   "metadata": {},
   "source": [
    "### Обработка пропусков"
   ]
  },
  {
   "cell_type": "markdown",
   "metadata": {},
   "source": [
    "В столбцах days_employed и total_income данные пропущены. "
   ]
  },
  {
   "cell_type": "markdown",
   "metadata": {},
   "source": [
    "**days_employed**"
   ]
  },
  {
   "cell_type": "code",
   "execution_count": 7,
   "metadata": {},
   "outputs": [
    {
     "name": "stdout",
     "output_type": "stream",
     "text": [
      "Пропуски до: 2174\n"
     ]
    }
   ],
   "source": [
    "print('Пропуски до:',data['days_employed'].isna().sum())"
   ]
  },
  {
   "cell_type": "markdown",
   "metadata": {},
   "source": [
    "Возможно некоторые заёмщики не знали свой трудовой стаж в днях, поэтому не предоставляли информацию. Исключение этих строк может привести к существенному искажению результата. Данные в этих столбцах являются количественными переменными, поэтому мы можем заменить пропуски характерными значениями для этой выборки. Для замены подойдет медиана выборки."
   ]
  },
  {
   "cell_type": "markdown",
   "metadata": {},
   "source": [
    "Для более точного отражения медианы выборки целесообразно расчитать медианы стажа с группировкой по другим переменным. Для стажа наиболее подходящей будет переменная gender и education. Так например, в группе мужчин медиана стажа будет выше чем в группе женщин, люди с более низким уровнем образования чаще начинают работать в более раннем возрасте, а высококвалифицированные специалисты могут оставаться востребованы и по достижении пенсионного возраста."
   ]
  },
  {
   "cell_type": "markdown",
   "metadata": {},
   "source": [
    "В столбце education неявные дубликаты за счет разного регистра. Приведем значения в столбце к нижнему регистру."
   ]
  },
  {
   "cell_type": "code",
   "execution_count": 8,
   "metadata": {},
   "outputs": [
    {
     "data": {
      "text/plain": [
       "array(['высшее', 'среднее', 'Среднее', 'СРЕДНЕЕ', 'ВЫСШЕЕ',\n",
       "       'неоконченное высшее', 'начальное', 'Высшее',\n",
       "       'НЕОКОНЧЕННОЕ ВЫСШЕЕ', 'Неоконченное высшее', 'НАЧАЛЬНОЕ',\n",
       "       'Начальное', 'Ученая степень', 'УЧЕНАЯ СТЕПЕНЬ', 'ученая степень'],\n",
       "      dtype=object)"
      ]
     },
     "execution_count": 8,
     "metadata": {},
     "output_type": "execute_result"
    }
   ],
   "source": [
    "data['education'].unique()"
   ]
  },
  {
   "cell_type": "code",
   "execution_count": 9,
   "metadata": {},
   "outputs": [
    {
     "data": {
      "text/plain": [
       "array(['высшее', 'среднее', 'неоконченное высшее', 'начальное',\n",
       "       'ученая степень'], dtype=object)"
      ]
     },
     "execution_count": 9,
     "metadata": {},
     "output_type": "execute_result"
    }
   ],
   "source": [
    "data['education'] = data['education'].str.lower()\n",
    "data['education'].unique()"
   ]
  },
  {
   "cell_type": "markdown",
   "metadata": {},
   "source": [
    "Заполнять характерными значениями можно только пропуски случайного характера. Учитывая проведение подсчета медианы в зависимости от других переменных, проверим является ли пропуски случайными по отношению к этим столбцам."
   ]
  },
  {
   "cell_type": "code",
   "execution_count": 10,
   "metadata": {},
   "outputs": [
    {
     "name": "stdout",
     "output_type": "stream",
     "text": [
      "F    0.682613\n",
      "M    0.317387\n",
      "Name: gender, dtype: float64\n",
      "\n",
      "F      0.658984\n",
      "M      0.340964\n",
      "XNA    0.000052\n",
      "Name: gender, dtype: float64\n",
      "\n",
      "среднее                0.708372\n",
      "высшее                 0.250230\n",
      "неоконченное высшее    0.031739\n",
      "начальное              0.009660\n",
      "Name: education, dtype: float64\n"
     ]
    },
    {
     "data": {
      "text/plain": [
       "среднее                0.707612\n",
       "высшее                 0.243708\n",
       "неоконченное высшее    0.034882\n",
       "начальное              0.013488\n",
       "ученая степень         0.000310\n",
       "Name: education, dtype: float64"
      ]
     },
     "execution_count": 10,
     "metadata": {},
     "output_type": "execute_result"
    }
   ],
   "source": [
    "# выделим строки с пропусками в days_employed\n",
    "days_empl_pass = data[data['days_employed'].isna()== True]\n",
    "#  распределение значений для столбца gender\n",
    "print(days_empl_pass['gender'].value_counts(normalize = True))\n",
    "print()\n",
    "# выделим строки без пропусков days_employed\n",
    "days_empl_full = data[data['days_employed'].isna()== False]\n",
    "# распределение значений для столбца income_type\n",
    "print(days_empl_full['gender'].value_counts(normalize = True))\n",
    "print()\n",
    "# для столбца education\n",
    "print(days_empl_pass['education'].value_counts(normalize = True))\n",
    "# оценим распределение значений для столбца income_type\n",
    "days_empl_full['education'].value_counts(normalize = True)"
   ]
  },
  {
   "cell_type": "markdown",
   "metadata": {},
   "source": [
    "С точностью до десятых распределение в столбцах совпадает, таким образом пропуски от этого столбца не зависят."
   ]
  },
  {
   "cell_type": "code",
   "execution_count": 11,
   "metadata": {},
   "outputs": [
    {
     "data": {
      "text/html": [
       "<div>\n",
       "<style scoped>\n",
       "    .dataframe tbody tr th:only-of-type {\n",
       "        vertical-align: middle;\n",
       "    }\n",
       "\n",
       "    .dataframe tbody tr th {\n",
       "        vertical-align: top;\n",
       "    }\n",
       "\n",
       "    .dataframe thead th {\n",
       "        text-align: right;\n",
       "    }\n",
       "</style>\n",
       "<table border=\"1\" class=\"dataframe\">\n",
       "  <thead>\n",
       "    <tr style=\"text-align: right;\">\n",
       "      <th></th>\n",
       "      <th>gender</th>\n",
       "      <th>education</th>\n",
       "      <th>days_employed</th>\n",
       "      <th>median_days_employed</th>\n",
       "    </tr>\n",
       "  </thead>\n",
       "  <tbody>\n",
       "    <tr>\n",
       "      <td>0</td>\n",
       "      <td>F</td>\n",
       "      <td>высшее</td>\n",
       "      <td>8437.673028</td>\n",
       "      <td>2009.211057</td>\n",
       "    </tr>\n",
       "    <tr>\n",
       "      <td>1</td>\n",
       "      <td>F</td>\n",
       "      <td>высшее</td>\n",
       "      <td>2879.202052</td>\n",
       "      <td>2009.211057</td>\n",
       "    </tr>\n",
       "    <tr>\n",
       "      <td>2</td>\n",
       "      <td>F</td>\n",
       "      <td>высшее</td>\n",
       "      <td>6929.865299</td>\n",
       "      <td>2009.211057</td>\n",
       "    </tr>\n",
       "    <tr>\n",
       "      <td>3</td>\n",
       "      <td>F</td>\n",
       "      <td>высшее</td>\n",
       "      <td>1844.956182</td>\n",
       "      <td>2009.211057</td>\n",
       "    </tr>\n",
       "    <tr>\n",
       "      <td>4</td>\n",
       "      <td>F</td>\n",
       "      <td>высшее</td>\n",
       "      <td>717.274324</td>\n",
       "      <td>2009.211057</td>\n",
       "    </tr>\n",
       "  </tbody>\n",
       "</table>\n",
       "</div>"
      ],
      "text/plain": [
       "  gender education  days_employed  median_days_employed\n",
       "0      F    высшее    8437.673028           2009.211057\n",
       "1      F    высшее    2879.202052           2009.211057\n",
       "2      F    высшее    6929.865299           2009.211057\n",
       "3      F    высшее    1844.956182           2009.211057\n",
       "4      F    высшее     717.274324           2009.211057"
      ]
     },
     "execution_count": 11,
     "metadata": {},
     "output_type": "execute_result"
    }
   ],
   "source": [
    "# создадим датафрейм с группировкой по gender и education и вычислим медиану в столбцах days_employed\n",
    "medians = (data.groupby(['gender', 'education']).agg({'days_employed':'median'}).rename(columns = {'days_employed':'median_days_employed'}))\n",
    "# объединяем два датафрейма получаем новый столбец median_days_employed\n",
    "data = data.merge(medians, on = ['gender', 'education'])\n",
    "data[['gender', 'education','days_employed','median_days_employed']].head()"
   ]
  },
  {
   "cell_type": "code",
   "execution_count": 12,
   "metadata": {},
   "outputs": [
    {
     "name": "stdout",
     "output_type": "stream",
     "text": [
      "Пропуски после: 0\n"
     ]
    }
   ],
   "source": [
    "# заменим значения days_employed, где они отсутсвуют на median_days_employed\n",
    "data.loc[data['days_employed'].isna(), 'days_employed'] = data.loc[data['days_employed'].isna(), 'median_days_employed']\n",
    "\n",
    "# проверим\n",
    "print('Пропуски после:', data['days_employed'].isna().sum())"
   ]
  },
  {
   "cell_type": "markdown",
   "metadata": {},
   "source": [
    "**total_income**"
   ]
  },
  {
   "cell_type": "markdown",
   "metadata": {},
   "source": [
    "Рассчитаем медиану выборки total_income в зависимости от типа занятости. Поскольку в группах с зарплатой, пособием, пенсией и стипендией медианы будут отличаться."
   ]
  },
  {
   "cell_type": "markdown",
   "metadata": {},
   "source": [
    "Прежде чем заполнять пропуски нужно убедиться, что они носят случайный характер и не зависят от значений типа занятости."
   ]
  },
  {
   "cell_type": "code",
   "execution_count": 13,
   "metadata": {},
   "outputs": [
    {
     "name": "stdout",
     "output_type": "stream",
     "text": [
      "сотрудник          0.508280\n",
      "компаньон          0.233671\n",
      "пенсионер          0.189972\n",
      "госслужащий        0.067617\n",
      "предприниматель    0.000460\n",
      "Name: income_type, dtype: float64\n"
     ]
    },
    {
     "data": {
      "text/plain": [
       "сотрудник          0.517493\n",
       "компаньон          0.236525\n",
       "пенсионер          0.177924\n",
       "госслужащий        0.067800\n",
       "безработный        0.000103\n",
       "предприниматель    0.000052\n",
       "студент            0.000052\n",
       "в декрете          0.000052\n",
       "Name: income_type, dtype: float64"
      ]
     },
     "execution_count": 13,
     "metadata": {},
     "output_type": "execute_result"
    }
   ],
   "source": [
    "# выделим строки с пропусками в total_income\n",
    "income_pass = data[data['total_income'].isna()== True]\n",
    "# оценим распределение значений для столбца income_type\n",
    "print(income_pass['income_type'].value_counts(normalize = True))\n",
    "# выделим строки без пропусков total_income\n",
    "income_full = data[data['total_income'].isna()== False]\n",
    "# оценим распределение значений для столбца income_type\n",
    "income_full['income_type'].value_counts(normalize = True)"
   ]
  },
  {
   "cell_type": "markdown",
   "metadata": {},
   "source": [
    "С точностью до десятых распределение в столбце в срезах совпадает, таким образом пропуски от этого столбца не зависят."
   ]
  },
  {
   "cell_type": "code",
   "execution_count": 14,
   "metadata": {},
   "outputs": [
    {
     "name": "stdout",
     "output_type": "stream",
     "text": [
      "Пропуски до: 2174\n",
      "Пропуски после: 0\n"
     ]
    }
   ],
   "source": [
    "print('Пропуски до:',data['total_income'].isna().sum())\n",
    "\n",
    "# заменим значения total_income, где они отсутсвуют на медиану days_employed в соответствии с типом занятости\n",
    "data['total_income'] = data.groupby('income_type')['total_income'].transform(lambda x : x .fillna(x.median()))\n",
    "\n",
    "# проверим\n",
    "print('Пропуски после:', data['total_income'].isna().sum())"
   ]
  },
  {
   "cell_type": "markdown",
   "metadata": {},
   "source": [
    "**Вывод**"
   ]
  },
  {
   "cell_type": "markdown",
   "metadata": {},
   "source": [
    "Потеря большого количества данных из-за пропусков может существенно отразиться на репрезентативности выборки, заменяя количественные переменные на характеристические с учетом влияния зависимости от других переменных, можно сохранить поведение выборки. "
   ]
  },
  {
   "cell_type": "markdown",
   "metadata": {},
   "source": [
    "### Замена типа данных"
   ]
  },
  {
   "cell_type": "markdown",
   "metadata": {},
   "source": [
    "В столбце days_employed тип данных вещественные числа, стаж измеряется в целых днях, необходимо изменить тип данных."
   ]
  },
  {
   "cell_type": "code",
   "execution_count": 15,
   "metadata": {},
   "outputs": [
    {
     "data": {
      "text/html": [
       "<div>\n",
       "<style scoped>\n",
       "    .dataframe tbody tr th:only-of-type {\n",
       "        vertical-align: middle;\n",
       "    }\n",
       "\n",
       "    .dataframe tbody tr th {\n",
       "        vertical-align: top;\n",
       "    }\n",
       "\n",
       "    .dataframe thead th {\n",
       "        text-align: right;\n",
       "    }\n",
       "</style>\n",
       "<table border=\"1\" class=\"dataframe\">\n",
       "  <thead>\n",
       "    <tr style=\"text-align: right;\">\n",
       "      <th></th>\n",
       "      <th>days_employed</th>\n",
       "      <th>total_income</th>\n",
       "    </tr>\n",
       "  </thead>\n",
       "  <tbody>\n",
       "    <tr>\n",
       "      <td>0</td>\n",
       "      <td>8437</td>\n",
       "      <td>253875</td>\n",
       "    </tr>\n",
       "    <tr>\n",
       "      <td>1</td>\n",
       "      <td>2879</td>\n",
       "      <td>240525</td>\n",
       "    </tr>\n",
       "    <tr>\n",
       "      <td>2</td>\n",
       "      <td>6929</td>\n",
       "      <td>95856</td>\n",
       "    </tr>\n",
       "    <tr>\n",
       "      <td>3</td>\n",
       "      <td>1844</td>\n",
       "      <td>165127</td>\n",
       "    </tr>\n",
       "    <tr>\n",
       "      <td>4</td>\n",
       "      <td>717</td>\n",
       "      <td>187863</td>\n",
       "    </tr>\n",
       "  </tbody>\n",
       "</table>\n",
       "</div>"
      ],
      "text/plain": [
       "   days_employed  total_income\n",
       "0           8437        253875\n",
       "1           2879        240525\n",
       "2           6929         95856\n",
       "3           1844        165127\n",
       "4            717        187863"
      ]
     },
     "execution_count": 15,
     "metadata": {},
     "output_type": "execute_result"
    }
   ],
   "source": [
    "data['days_employed'] = data['days_employed'].astype('int')\n",
    "# в столбце total_income данные могут быть float, но для удобства восприятия также переведем в int\n",
    "data['total_income'] = data['total_income'].astype('int')\n",
    "data[['days_employed','total_income']].head()"
   ]
  },
  {
   "cell_type": "markdown",
   "metadata": {},
   "source": [
    "**Вывод**"
   ]
  },
  {
   "cell_type": "markdown",
   "metadata": {},
   "source": [
    "Нет необходимости в точности измерений до шестого знака после запятой, а таблица для восприятия и последующей обработки стала удобнее."
   ]
  },
  {
   "cell_type": "markdown",
   "metadata": {},
   "source": [
    "### Обработка дубликатов"
   ]
  },
  {
   "cell_type": "markdown",
   "metadata": {},
   "source": [
    "Проверим данные на наличие явных дубликатов."
   ]
  },
  {
   "cell_type": "code",
   "execution_count": 16,
   "metadata": {},
   "outputs": [
    {
     "name": "stdout",
     "output_type": "stream",
     "text": [
      "Дубликаты до: 71\n"
     ]
    }
   ],
   "source": [
    "print('Дубликаты до:', data.duplicated().sum())"
   ]
  },
  {
   "cell_type": "code",
   "execution_count": 17,
   "metadata": {},
   "outputs": [
    {
     "name": "stdout",
     "output_type": "stream",
     "text": [
      "Дубликаты после: 0\n"
     ]
    }
   ],
   "source": [
    "# Удалим явные дубликаты\n",
    "data = data.drop_duplicates().reset_index(drop = True)\n",
    "# Проверим\n",
    "print('Дубликаты после:', data.duplicated().sum())"
   ]
  },
  {
   "cell_type": "markdown",
   "metadata": {},
   "source": [
    "Проверим столбцы на наличие скрытых дубликатов"
   ]
  },
  {
   "cell_type": "code",
   "execution_count": 18,
   "metadata": {},
   "outputs": [
    {
     "name": "stdout",
     "output_type": "stream",
     "text": [
      "[ 1  0  2  4  3 20 -1  5]\n"
     ]
    },
    {
     "data": {
      "text/plain": [
       "76"
      ]
     },
     "execution_count": 18,
     "metadata": {},
     "output_type": "execute_result"
    }
   ],
   "source": [
    "print(data['children'].unique())\n",
    "# Потенциально у человека может быть 20 детей, посмотрим сколько таких счастливчиков\n",
    "data[data ['children'] == 20]['children'].count()"
   ]
  },
  {
   "cell_type": "markdown",
   "metadata": {},
   "source": [
    "Слишком много, больше похоже на ошибку, 0 напечатан случайно, клавиши близко. Исправим. К тому же, есть значения -1 .Вероятно произошла случайная ошибка и имеется в виду отсутсвие детей. Исправим."
   ]
  },
  {
   "cell_type": "code",
   "execution_count": 19,
   "metadata": {},
   "outputs": [
    {
     "name": "stdout",
     "output_type": "stream",
     "text": [
      "[1 0 2 4 3 5]\n"
     ]
    }
   ],
   "source": [
    "#def child_count(value):\n",
    "    #if value == 20:\n",
    "        #return 2\n",
    "    #elif value == -1:\n",
    "        #return 0\n",
    "    #else:\n",
    "        #return value\n",
    "#data['children'] = data['children'].apply(child_count)\n",
    "data['children'] = data['children'].replace({20 : 2, -1 : 0})\n",
    "# Проверим\n",
    "print(data['children'].unique())"
   ]
  },
  {
   "cell_type": "code",
   "execution_count": 20,
   "metadata": {},
   "outputs": [
    {
     "data": {
      "text/plain": [
       "array([42, 43, 35, 56, 26, 31, 50, 27, 52, 63, 40, 34, 51, 47, 54, 24, 33,\n",
       "       38, 29, 55, 64, 37, 41, 39, 46, 60, 59, 22, 44, 68, 36, 28, 30, 45,\n",
       "       49, 65, 57, 53, 62, 25, 23, 58, 32, 48, 61,  0, 69, 67, 21, 20, 66,\n",
       "       70, 72, 74, 71, 73, 19, 75])"
      ]
     },
     "execution_count": 20,
     "metadata": {},
     "output_type": "execute_result"
    }
   ],
   "source": [
    "data['dob_years'].unique()"
   ]
  },
  {
   "cell_type": "markdown",
   "metadata": {},
   "source": [
    "В столбце возраста есть значение 0, так как это количественная переменная можно заменить на медиану. \n",
    "\n",
    "Но прежде чем заменять значение медианой, проверим не относятся ли эти пропуски к группам с определенными возрастными интервалами, например, пенсионеры или студенты."
   ]
  },
  {
   "cell_type": "code",
   "execution_count": 21,
   "metadata": {},
   "outputs": [
    {
     "name": "stdout",
     "output_type": "stream",
     "text": [
      "сотрудник      0.544554\n",
      "компаньон      0.198020\n",
      "пенсионер      0.198020\n",
      "госслужащий    0.059406\n",
      "Name: income_type, dtype: float64\n"
     ]
    }
   ],
   "source": [
    "# выделим строки с 0 в dob_years\n",
    "years_null = data[data['dob_years'] == 0]\n",
    "# оценим распределение значений для столбца income_type\n",
    "print(years_null['income_type'].value_counts(normalize = True))"
   ]
  },
  {
   "cell_type": "markdown",
   "metadata": {},
   "source": [
    "Пропуски относятся к разным группам, медиана подойдет для замены."
   ]
  },
  {
   "cell_type": "code",
   "execution_count": 22,
   "metadata": {},
   "outputs": [
    {
     "data": {
      "text/plain": [
       "array([42, 43, 35, 56, 26, 31, 50, 27, 52, 63, 40, 34, 51, 47, 54, 24, 33,\n",
       "       38, 29, 55, 64, 37, 41, 39, 46, 60, 59, 22, 44, 68, 36, 28, 30, 45,\n",
       "       49, 65, 57, 53, 62, 25, 23, 58, 32, 48, 61, 69, 67, 21, 20, 66, 70,\n",
       "       72, 74, 71, 73, 19, 75])"
      ]
     },
     "execution_count": 22,
     "metadata": {},
     "output_type": "execute_result"
    }
   ],
   "source": [
    "median_years = data['dob_years'].median().astype('int')\n",
    "data.loc[data['dob_years'] == 0, 'dob_years'] = median_years\n",
    "# Проверим\n",
    "data['dob_years'].unique()"
   ]
  },
  {
   "cell_type": "markdown",
   "metadata": {},
   "source": [
    "**Вывод**"
   ]
  },
  {
   "cell_type": "markdown",
   "metadata": {},
   "source": [
    "Поиск и устранение явных и неявных дубликатов структурирует данные, позволяя избежать влияния ошибок ввода данных на последующий анализ."
   ]
  },
  {
   "cell_type": "markdown",
   "metadata": {},
   "source": [
    "### Лемматизация"
   ]
  },
  {
   "cell_type": "code",
   "execution_count": 23,
   "metadata": {},
   "outputs": [
    {
     "data": {
      "text/plain": [
       "array(['покупка жилья', 'операции с жильем', 'на проведение свадьбы',\n",
       "       'покупка жилой недвижимости',\n",
       "       'строительство собственной недвижимости',\n",
       "       'приобретение автомобиля', 'заняться образованием', 'свадьба',\n",
       "       'автомобили', 'покупка жилья для семьи', 'свой автомобиль',\n",
       "       'жилье', 'сыграть свадьбу', 'автомобиль', 'профильное образование',\n",
       "       'покупка жилья для сдачи', 'сделка с подержанным автомобилем',\n",
       "       'операции со своей недвижимостью',\n",
       "       'операции с коммерческой недвижимостью',\n",
       "       'строительство жилой недвижимости', 'на покупку своего автомобиля',\n",
       "       'высшее образование', 'на покупку подержанного автомобиля',\n",
       "       'покупка своего жилья', 'покупка недвижимости',\n",
       "       'операции с недвижимостью', 'образование',\n",
       "       'заняться высшим образованием', 'получение высшего образования',\n",
       "       'ремонт жилью', 'недвижимость', 'строительство недвижимости',\n",
       "       'покупка коммерческой недвижимости', 'дополнительное образование',\n",
       "       'получение образования', 'на покупку автомобиля',\n",
       "       'получение дополнительного образования', 'сделка с автомобилем'],\n",
       "      dtype=object)"
      ]
     },
     "execution_count": 23,
     "metadata": {},
     "output_type": "execute_result"
    }
   ],
   "source": [
    "data['purpose'].unique()"
   ]
  },
  {
   "cell_type": "markdown",
   "metadata": {},
   "source": [
    "В столбце purpose много неявных дубликатов из-за форм записи слов, синонимов, орфографических ошибок. Используем лемматизацию, чтобы систематизировать подобные данные."
   ]
  },
  {
   "cell_type": "code",
   "execution_count": 24,
   "metadata": {},
   "outputs": [],
   "source": [
    "# найдем все уникальные значения столбца\n",
    "purpose = data['purpose'].unique()"
   ]
  },
  {
   "cell_type": "code",
   "execution_count": 25,
   "metadata": {},
   "outputs": [
    {
     "name": "stdout",
     "output_type": "stream",
     "text": [
      "['покупка', ' ', 'жилье', '\\n', 'операция', ' ', 'с', ' ', 'жилье', '\\n', 'на', ' ', 'проведение', ' ', 'свадьба', '\\n', 'покупка', ' ', 'жилой', ' ', 'недвижимость', '\\n', 'строительство', ' ', 'собственный', ' ', 'недвижимость', '\\n', 'приобретение', ' ', 'автомобиль', '\\n', 'заниматься', ' ', 'образование', '\\n', 'свадьба', '\\n', 'автомобиль', '\\n', 'покупка', ' ', 'жилье', ' ', 'для', ' ', 'семья', '\\n', 'свой', ' ', 'автомобиль', '\\n', 'жилье', '\\n', 'сыграть', ' ', 'свадьба', '\\n', 'автомобиль', '\\n', 'профильный', ' ', 'образование', '\\n', 'покупка', ' ', 'жилье', ' ', 'для', ' ', 'сдача', '\\n', 'сделка', ' ', 'с', ' ', 'подержанный', ' ', 'автомобиль', '\\n', 'операция', ' ', 'со', ' ', 'свой', ' ', 'недвижимость', '\\n', 'операция', ' ', 'с', ' ', 'коммерческий', ' ', 'недвижимость', '\\n', 'строительство', ' ', 'жилой', ' ', 'недвижимость', '\\n', 'на', ' ', 'покупка', ' ', 'свой', ' ', 'автомобиль', '\\n', 'высокий', ' ', 'образование', '\\n', 'на', ' ', 'покупка', ' ', 'подержать', ' ', 'автомобиль', '\\n', 'покупка', ' ', 'свой', ' ', 'жилье', '\\n', 'покупка', ' ', 'недвижимость', '\\n', 'операция', ' ', 'с', ' ', 'недвижимость', '\\n', 'образование', '\\n', 'заниматься', ' ', 'высокий', ' ', 'образование', '\\n', 'получение', ' ', 'высокий', ' ', 'образование', '\\n', 'ремонт', ' ', 'жилье', '\\n', 'недвижимость', '\\n', 'строительство', ' ', 'недвижимость', '\\n', 'покупка', ' ', 'коммерческий', ' ', 'недвижимость', '\\n', 'дополнительный', ' ', 'образование', '\\n', 'получение', ' ', 'образование', '\\n', 'на', ' ', 'покупка', ' ', 'автомобиль', '\\n', 'получение', ' ', 'дополнительный', ' ', 'образование', '\\n', 'сделка', ' ', 'с', ' ', 'автомобиль', '\\n']\n"
     ]
    }
   ],
   "source": [
    "purpose_lemma = []\n",
    "for value in purpose:\n",
    "    lemma =  m.lemmatize(value)\n",
    "    purpose_lemma.extend(lemma)\n",
    "     \n",
    "print(purpose_lemma)"
   ]
  },
  {
   "cell_type": "markdown",
   "metadata": {},
   "source": [
    "**Вывод**"
   ]
  },
  {
   "cell_type": "markdown",
   "metadata": {},
   "source": [
    "Мы получили список всех уникальных лемм столбца purpose. Посчитаем частоту их встречаемости и выделим основные для проведения категоризации."
   ]
  },
  {
   "cell_type": "markdown",
   "metadata": {},
   "source": [
    "### Категоризация данных"
   ]
  },
  {
   "cell_type": "code",
   "execution_count": 26,
   "metadata": {},
   "outputs": [
    {
     "data": {
      "text/plain": [
       "Counter({'покупка': 10,\n",
       "         ' ': 59,\n",
       "         'жилье': 7,\n",
       "         '\\n': 38,\n",
       "         'операция': 4,\n",
       "         'с': 5,\n",
       "         'на': 4,\n",
       "         'проведение': 1,\n",
       "         'свадьба': 3,\n",
       "         'жилой': 2,\n",
       "         'недвижимость': 10,\n",
       "         'строительство': 3,\n",
       "         'собственный': 1,\n",
       "         'приобретение': 1,\n",
       "         'автомобиль': 9,\n",
       "         'заниматься': 2,\n",
       "         'образование': 9,\n",
       "         'для': 2,\n",
       "         'семья': 1,\n",
       "         'свой': 4,\n",
       "         'сыграть': 1,\n",
       "         'профильный': 1,\n",
       "         'сдача': 1,\n",
       "         'сделка': 2,\n",
       "         'подержанный': 1,\n",
       "         'со': 1,\n",
       "         'коммерческий': 2,\n",
       "         'высокий': 3,\n",
       "         'подержать': 1,\n",
       "         'получение': 3,\n",
       "         'ремонт': 1,\n",
       "         'дополнительный': 2})"
      ]
     },
     "execution_count": 26,
     "metadata": {},
     "output_type": "execute_result"
    }
   ],
   "source": [
    "from collections import Counter\n",
    "Counter(purpose_lemma) "
   ]
  },
  {
   "cell_type": "markdown",
   "metadata": {},
   "source": [
    "Леммами для категоризации будут: недвижимость/жилье, автомобиль, образование, свадьба, "
   ]
  },
  {
   "cell_type": "code",
   "execution_count": 27,
   "metadata": {},
   "outputs": [
    {
     "name": "stdout",
     "output_type": "stream",
     "text": [
      "                                  purpose purpose_category\n",
      "0                           покупка жилья     недвижимость\n",
      "1                       операции с жильем     недвижимость\n",
      "2                   на проведение свадьбы          свадьба\n",
      "3              покупка жилой недвижимости     недвижимость\n",
      "4  строительство собственной недвижимости     недвижимость\n",
      "5                 приобретение автомобиля       автомобиль\n",
      "6                   заняться образованием      образование\n",
      "7                                 свадьба          свадьба\n",
      "8                              автомобили       автомобиль\n",
      "9                 покупка жилья для семьи     недвижимость\n"
     ]
    },
    {
     "data": {
      "text/plain": [
       "array(['недвижимость', 'свадьба', 'автомобиль', 'образование'],\n",
       "      dtype=object)"
      ]
     },
     "execution_count": 27,
     "metadata": {},
     "output_type": "execute_result"
    }
   ],
   "source": [
    "# напишем функцию для категоризации с учетом лемм        \n",
    "from functools import lru_cache\n",
    "@lru_cache(maxsize=128, typed=False)\n",
    "def categorize(purpose):\n",
    "    wrong_lines_content = []\n",
    "    lemmas = m.lemmatize(purpose)\n",
    "    if 'недвижимость' in lemmas or 'жилье' in lemmas:\n",
    "        return 'недвижимость'\n",
    "    if 'автомобиль' in lemmas:\n",
    "        return 'автомобиль'\n",
    "    if 'образование' in lemmas:\n",
    "        return 'образование'\n",
    "    if 'свадьба' in lemmas:\n",
    "        return 'свадьба'\n",
    "\n",
    "data['purpose_category'] = data['purpose'].apply(categorize)\n",
    "print(data[['purpose', 'purpose_category']].head(10))\n",
    "# проверим всем ли значениям присвоена категория, нет ли пропусков\n",
    "data['purpose_category'].unique()"
   ]
  },
  {
   "cell_type": "markdown",
   "metadata": {},
   "source": [
    "**Вывод**"
   ]
  },
  {
   "cell_type": "markdown",
   "metadata": {},
   "source": [
    "После категоризации данные стали более удобными для анализа показателей в зависимости от целей кредита."
   ]
  },
  {
   "cell_type": "markdown",
   "metadata": {},
   "source": [
    "## Ответьте на вопросы"
   ]
  },
  {
   "cell_type": "markdown",
   "metadata": {},
   "source": [
    "- Есть ли зависимость между наличием детей и возвратом кредита в срок?"
   ]
  },
  {
   "cell_type": "code",
   "execution_count": 33,
   "metadata": {},
   "outputs": [
    {
     "name": "stdout",
     "output_type": "stream",
     "text": [
      "Общая доля должников в выборке 0.081%\n"
     ]
    },
    {
     "data": {
      "text/html": [
       "<style  type=\"text/css\" >\n",
       "</style><table id=\"T_3c9fcde0_58cf_11ec_aa66_02420a3927cb\" ><thead>    <tr>        <th class=\"blank level0\" ></th>        <th class=\"col_heading level0 col0\" >debt</th>        <th class=\"col_heading level0 col1\" >total</th>        <th class=\"col_heading level0 col2\" >%</th>    </tr>    <tr>        <th class=\"index_name level0\" >children</th>        <th class=\"blank\" ></th>        <th class=\"blank\" ></th>        <th class=\"blank\" ></th>    </tr></thead><tbody>\n",
       "                <tr>\n",
       "                        <th id=\"T_3c9fcde0_58cf_11ec_aa66_02420a3927cblevel0_row0\" class=\"row_heading level0 row0\" >4</th>\n",
       "                        <td id=\"T_3c9fcde0_58cf_11ec_aa66_02420a3927cbrow0_col0\" class=\"data row0 col0\" >4</td>\n",
       "                        <td id=\"T_3c9fcde0_58cf_11ec_aa66_02420a3927cbrow0_col1\" class=\"data row0 col1\" >41</td>\n",
       "                        <td id=\"T_3c9fcde0_58cf_11ec_aa66_02420a3927cbrow0_col2\" class=\"data row0 col2\" >9.76%</td>\n",
       "            </tr>\n",
       "            <tr>\n",
       "                        <th id=\"T_3c9fcde0_58cf_11ec_aa66_02420a3927cblevel0_row1\" class=\"row_heading level0 row1\" >2</th>\n",
       "                        <td id=\"T_3c9fcde0_58cf_11ec_aa66_02420a3927cbrow1_col0\" class=\"data row1 col0\" >202</td>\n",
       "                        <td id=\"T_3c9fcde0_58cf_11ec_aa66_02420a3927cbrow1_col1\" class=\"data row1 col1\" >2128</td>\n",
       "                        <td id=\"T_3c9fcde0_58cf_11ec_aa66_02420a3927cbrow1_col2\" class=\"data row1 col2\" >9.49%</td>\n",
       "            </tr>\n",
       "            <tr>\n",
       "                        <th id=\"T_3c9fcde0_58cf_11ec_aa66_02420a3927cblevel0_row2\" class=\"row_heading level0 row2\" >1</th>\n",
       "                        <td id=\"T_3c9fcde0_58cf_11ec_aa66_02420a3927cbrow2_col0\" class=\"data row2 col0\" >444</td>\n",
       "                        <td id=\"T_3c9fcde0_58cf_11ec_aa66_02420a3927cbrow2_col1\" class=\"data row2 col1\" >4808</td>\n",
       "                        <td id=\"T_3c9fcde0_58cf_11ec_aa66_02420a3927cbrow2_col2\" class=\"data row2 col2\" >9.23%</td>\n",
       "            </tr>\n",
       "            <tr>\n",
       "                        <th id=\"T_3c9fcde0_58cf_11ec_aa66_02420a3927cblevel0_row3\" class=\"row_heading level0 row3\" >3</th>\n",
       "                        <td id=\"T_3c9fcde0_58cf_11ec_aa66_02420a3927cbrow3_col0\" class=\"data row3 col0\" >27</td>\n",
       "                        <td id=\"T_3c9fcde0_58cf_11ec_aa66_02420a3927cbrow3_col1\" class=\"data row3 col1\" >330</td>\n",
       "                        <td id=\"T_3c9fcde0_58cf_11ec_aa66_02420a3927cbrow3_col2\" class=\"data row3 col2\" >8.18%</td>\n",
       "            </tr>\n",
       "            <tr>\n",
       "                        <th id=\"T_3c9fcde0_58cf_11ec_aa66_02420a3927cblevel0_row4\" class=\"row_heading level0 row4\" >0</th>\n",
       "                        <td id=\"T_3c9fcde0_58cf_11ec_aa66_02420a3927cbrow4_col0\" class=\"data row4 col0\" >1064</td>\n",
       "                        <td id=\"T_3c9fcde0_58cf_11ec_aa66_02420a3927cbrow4_col1\" class=\"data row4 col1\" >14138</td>\n",
       "                        <td id=\"T_3c9fcde0_58cf_11ec_aa66_02420a3927cbrow4_col2\" class=\"data row4 col2\" >7.53%</td>\n",
       "            </tr>\n",
       "            <tr>\n",
       "                        <th id=\"T_3c9fcde0_58cf_11ec_aa66_02420a3927cblevel0_row5\" class=\"row_heading level0 row5\" >5</th>\n",
       "                        <td id=\"T_3c9fcde0_58cf_11ec_aa66_02420a3927cbrow5_col0\" class=\"data row5 col0\" >0</td>\n",
       "                        <td id=\"T_3c9fcde0_58cf_11ec_aa66_02420a3927cbrow5_col1\" class=\"data row5 col1\" >9</td>\n",
       "                        <td id=\"T_3c9fcde0_58cf_11ec_aa66_02420a3927cbrow5_col2\" class=\"data row5 col2\" >0.00%</td>\n",
       "            </tr>\n",
       "    </tbody></table>"
      ],
      "text/plain": [
       "<pandas.io.formats.style.Styler at 0x7efcc477c110>"
      ]
     },
     "execution_count": 33,
     "metadata": {},
     "output_type": "execute_result"
    }
   ],
   "source": [
    "# общая доля должников в выборке\n",
    "total_ratio = data['debt'].sum()/data['debt'].count()\n",
    "print('Общая доля должников в выборке','{:.2}%'.format(total_ratio))\n",
    "# составим сводную таблицу с группировкой по столбцу children\n",
    "report_1 = data.pivot_table(index = ['children'], values = 'debt', aggfunc = ['sum', 'count','mean'])\n",
    "report_1.columns = ['debt', 'total', '%']\n",
    "report_1 = report_1.sort_values(by = ['%'], ascending = False)\n",
    "report_1.style.format({'%': '{:.2%}'})"
   ]
  },
  {
   "cell_type": "markdown",
   "metadata": {},
   "source": [
    "**Вывод**"
   ]
  },
  {
   "cell_type": "markdown",
   "metadata": {},
   "source": [
    "В целом процент задолженностей в группах людей  с разным количеством детей незначительно различается. Самым \"лучшим\" и \"худшим\" значением процента задолженностей являются люди с 5 и 4 детьми соответсвенно, но эти выборки очень малы, поэтому не могут быть репрезентативными. Оценивая остальные значения отмечается, что процент возврата кредита в срок людьми без детей или с 3 детьми выше, чем у людей с 1 или 2 детьми. К тому же процент задолженности по кредиту у людей с 1 и 2 детьми выше, чем в среднем по выборке."
   ]
  },
  {
   "cell_type": "markdown",
   "metadata": {},
   "source": [
    "- Есть ли зависимость между семейным положением и возвратом кредита в срок?"
   ]
  },
  {
   "cell_type": "code",
   "execution_count": 29,
   "metadata": {},
   "outputs": [
    {
     "name": "stdout",
     "output_type": "stream",
     "text": [
      "Общая доля должников в выборке 0.081%\n"
     ]
    },
    {
     "data": {
      "text/html": [
       "<style  type=\"text/css\" >\n",
       "</style><table id=\"T_045b560c_58cf_11ec_aa66_02420a3927cb\" ><thead>    <tr>        <th class=\"blank level0\" ></th>        <th class=\"col_heading level0 col0\" >debt</th>        <th class=\"col_heading level0 col1\" >total</th>        <th class=\"col_heading level0 col2\" >%</th>    </tr>    <tr>        <th class=\"index_name level0\" >family_status</th>        <th class=\"blank\" ></th>        <th class=\"blank\" ></th>        <th class=\"blank\" ></th>    </tr></thead><tbody>\n",
       "                <tr>\n",
       "                        <th id=\"T_045b560c_58cf_11ec_aa66_02420a3927cblevel0_row0\" class=\"row_heading level0 row0\" >Не женат / не замужем</th>\n",
       "                        <td id=\"T_045b560c_58cf_11ec_aa66_02420a3927cbrow0_col0\" class=\"data row0 col0\" >274</td>\n",
       "                        <td id=\"T_045b560c_58cf_11ec_aa66_02420a3927cbrow0_col1\" class=\"data row0 col1\" >2810</td>\n",
       "                        <td id=\"T_045b560c_58cf_11ec_aa66_02420a3927cbrow0_col2\" class=\"data row0 col2\" >0.098%</td>\n",
       "            </tr>\n",
       "            <tr>\n",
       "                        <th id=\"T_045b560c_58cf_11ec_aa66_02420a3927cblevel0_row1\" class=\"row_heading level0 row1\" >гражданский брак</th>\n",
       "                        <td id=\"T_045b560c_58cf_11ec_aa66_02420a3927cbrow1_col0\" class=\"data row1 col0\" >388</td>\n",
       "                        <td id=\"T_045b560c_58cf_11ec_aa66_02420a3927cbrow1_col1\" class=\"data row1 col1\" >4151</td>\n",
       "                        <td id=\"T_045b560c_58cf_11ec_aa66_02420a3927cbrow1_col2\" class=\"data row1 col2\" >0.093%</td>\n",
       "            </tr>\n",
       "            <tr>\n",
       "                        <th id=\"T_045b560c_58cf_11ec_aa66_02420a3927cblevel0_row2\" class=\"row_heading level0 row2\" >женат / замужем</th>\n",
       "                        <td id=\"T_045b560c_58cf_11ec_aa66_02420a3927cbrow2_col0\" class=\"data row2 col0\" >931</td>\n",
       "                        <td id=\"T_045b560c_58cf_11ec_aa66_02420a3927cbrow2_col1\" class=\"data row2 col1\" >12339</td>\n",
       "                        <td id=\"T_045b560c_58cf_11ec_aa66_02420a3927cbrow2_col2\" class=\"data row2 col2\" >0.075%</td>\n",
       "            </tr>\n",
       "            <tr>\n",
       "                        <th id=\"T_045b560c_58cf_11ec_aa66_02420a3927cblevel0_row3\" class=\"row_heading level0 row3\" >в разводе</th>\n",
       "                        <td id=\"T_045b560c_58cf_11ec_aa66_02420a3927cbrow3_col0\" class=\"data row3 col0\" >85</td>\n",
       "                        <td id=\"T_045b560c_58cf_11ec_aa66_02420a3927cbrow3_col1\" class=\"data row3 col1\" >1195</td>\n",
       "                        <td id=\"T_045b560c_58cf_11ec_aa66_02420a3927cbrow3_col2\" class=\"data row3 col2\" >0.071%</td>\n",
       "            </tr>\n",
       "            <tr>\n",
       "                        <th id=\"T_045b560c_58cf_11ec_aa66_02420a3927cblevel0_row4\" class=\"row_heading level0 row4\" >вдовец / вдова</th>\n",
       "                        <td id=\"T_045b560c_58cf_11ec_aa66_02420a3927cbrow4_col0\" class=\"data row4 col0\" >63</td>\n",
       "                        <td id=\"T_045b560c_58cf_11ec_aa66_02420a3927cbrow4_col1\" class=\"data row4 col1\" >959</td>\n",
       "                        <td id=\"T_045b560c_58cf_11ec_aa66_02420a3927cbrow4_col2\" class=\"data row4 col2\" >0.066%</td>\n",
       "            </tr>\n",
       "    </tbody></table>"
      ],
      "text/plain": [
       "<pandas.io.formats.style.Styler at 0x7efca7131650>"
      ]
     },
     "execution_count": 29,
     "metadata": {},
     "output_type": "execute_result"
    }
   ],
   "source": [
    "print('Общая доля должников в выборке','{:.2}%'.format(total_ratio))\n",
    "# составим сводную таблицу с группировкой по столбцу family_status\n",
    "report_2 = data.pivot_table(index = ['family_status'], values = 'debt', aggfunc = ['sum', 'count','mean'])\n",
    "report_2.columns = ['debt', 'total', '%']\n",
    "report_2= report_2.sort_values(by = ['%'], ascending = False)\n",
    "report_2.style.format({'%': '{:.2%}'})  \n"
   ]
  },
  {
   "cell_type": "markdown",
   "metadata": {},
   "source": [
    "**Вывод**"
   ]
  },
  {
   "cell_type": "markdown",
   "metadata": {},
   "source": [
    "Прослеживается зависимость между семейным положением и возвратом кредита в срок. Согласно данным анализа вероятность возврата кредита в срок выше у людей в разводе и вдовцов/вдов, к тому же показатели в этих группах меньше, чем в среднем в выборке, а в группе людей, состоящих в браке и проживающих в гражданском браке, процент задолженностей по кредиту значительно выше, также выше среднего процента по выборке."
   ]
  },
  {
   "cell_type": "markdown",
   "metadata": {},
   "source": [
    "- Есть ли зависимость между уровнем дохода и возвратом кредита в срок?"
   ]
  },
  {
   "cell_type": "markdown",
   "metadata": {},
   "source": [
    "Прежде чем оценивать влияние доходов, разделим значения доходов на интервалы и присвоим им категории"
   ]
  },
  {
   "cell_type": "markdown",
   "metadata": {},
   "source": [
    "Разделим на интервалы:"
   ]
  },
  {
   "cell_type": "code",
   "execution_count": 30,
   "metadata": {},
   "outputs": [
    {
     "data": {
      "text/html": [
       "<div>\n",
       "<style scoped>\n",
       "    .dataframe tbody tr th:only-of-type {\n",
       "        vertical-align: middle;\n",
       "    }\n",
       "\n",
       "    .dataframe tbody tr th {\n",
       "        vertical-align: top;\n",
       "    }\n",
       "\n",
       "    .dataframe thead th {\n",
       "        text-align: right;\n",
       "    }\n",
       "</style>\n",
       "<table border=\"1\" class=\"dataframe\">\n",
       "  <thead>\n",
       "    <tr style=\"text-align: right;\">\n",
       "      <th></th>\n",
       "      <th>total_income</th>\n",
       "      <th>income_category</th>\n",
       "    </tr>\n",
       "  </thead>\n",
       "  <tbody>\n",
       "    <tr>\n",
       "      <td>21449</td>\n",
       "      <td>268411</td>\n",
       "      <td>200000-600000</td>\n",
       "    </tr>\n",
       "    <tr>\n",
       "      <td>21450</td>\n",
       "      <td>115949</td>\n",
       "      <td>100000-150000</td>\n",
       "    </tr>\n",
       "    <tr>\n",
       "      <td>21451</td>\n",
       "      <td>203905</td>\n",
       "      <td>200000-600000</td>\n",
       "    </tr>\n",
       "    <tr>\n",
       "      <td>21452</td>\n",
       "      <td>111392</td>\n",
       "      <td>100000-150000</td>\n",
       "    </tr>\n",
       "    <tr>\n",
       "      <td>21453</td>\n",
       "      <td>255425</td>\n",
       "      <td>200000-600000</td>\n",
       "    </tr>\n",
       "  </tbody>\n",
       "</table>\n",
       "</div>"
      ],
      "text/plain": [
       "       total_income income_category\n",
       "21449        268411   200000-600000\n",
       "21450        115949   100000-150000\n",
       "21451        203905   200000-600000\n",
       "21452        111392   100000-150000\n",
       "21453        255425   200000-600000"
      ]
     },
     "execution_count": 30,
     "metadata": {},
     "output_type": "execute_result"
    }
   ],
   "source": [
    "def categorize_income(income):\n",
    "    if income < 100000:\n",
    "        return '< 100.000'\n",
    "    if (income>100000) and (income < 150000):\n",
    "        return '100000-150000'\n",
    "    if (income>150000) and (income < 200000):\n",
    "        return '150000-200000'\n",
    "    if (income>200000) and (income < 600000):\n",
    "        return '200000-600000'\n",
    "    if income > 600000:\n",
    "        return '>600000'\n",
    "data['income_category'] = data.loc[:,'total_income'].apply(categorize_income)\n",
    "data[['total_income', 'income_category']].tail()"
   ]
  },
  {
   "cell_type": "code",
   "execution_count": 31,
   "metadata": {},
   "outputs": [
    {
     "name": "stdout",
     "output_type": "stream",
     "text": [
      "Общая доля должников в выборке 0.081%\n"
     ]
    },
    {
     "data": {
      "text/html": [
       "<style  type=\"text/css\" >\n",
       "</style><table id=\"T_0465e2ca_58cf_11ec_aa66_02420a3927cb\" ><thead>    <tr>        <th class=\"blank level0\" ></th>        <th class=\"col_heading level0 col0\" >debt</th>        <th class=\"col_heading level0 col1\" >total</th>        <th class=\"col_heading level0 col2\" >%</th>    </tr>    <tr>        <th class=\"index_name level0\" >income_category</th>        <th class=\"blank\" ></th>        <th class=\"blank\" ></th>        <th class=\"blank\" ></th>    </tr></thead><tbody>\n",
       "                <tr>\n",
       "                        <th id=\"T_0465e2ca_58cf_11ec_aa66_02420a3927cblevel0_row0\" class=\"row_heading level0 row0\" >100000-150000</th>\n",
       "                        <td id=\"T_0465e2ca_58cf_11ec_aa66_02420a3927cbrow0_col0\" class=\"data row0 col0\" >624</td>\n",
       "                        <td id=\"T_0465e2ca_58cf_11ec_aa66_02420a3927cbrow0_col1\" class=\"data row0 col1\" >7160</td>\n",
       "                        <td id=\"T_0465e2ca_58cf_11ec_aa66_02420a3927cbrow0_col2\" class=\"data row0 col2\" >0.087%</td>\n",
       "            </tr>\n",
       "            <tr>\n",
       "                        <th id=\"T_0465e2ca_58cf_11ec_aa66_02420a3927cblevel0_row1\" class=\"row_heading level0 row1\" >150000-200000</th>\n",
       "                        <td id=\"T_0465e2ca_58cf_11ec_aa66_02420a3927cbrow1_col0\" class=\"data row1 col0\" >405</td>\n",
       "                        <td id=\"T_0465e2ca_58cf_11ec_aa66_02420a3927cbrow1_col1\" class=\"data row1 col1\" >4764</td>\n",
       "                        <td id=\"T_0465e2ca_58cf_11ec_aa66_02420a3927cbrow1_col2\" class=\"data row1 col2\" >0.085%</td>\n",
       "            </tr>\n",
       "            <tr>\n",
       "                        <th id=\"T_0465e2ca_58cf_11ec_aa66_02420a3927cblevel0_row2\" class=\"row_heading level0 row2\" >< 100.000</th>\n",
       "                        <td id=\"T_0465e2ca_58cf_11ec_aa66_02420a3927cbrow2_col0\" class=\"data row2 col0\" >354</td>\n",
       "                        <td id=\"T_0465e2ca_58cf_11ec_aa66_02420a3927cbrow2_col1\" class=\"data row2 col1\" >4463</td>\n",
       "                        <td id=\"T_0465e2ca_58cf_11ec_aa66_02420a3927cbrow2_col2\" class=\"data row2 col2\" >0.079%</td>\n",
       "            </tr>\n",
       "            <tr>\n",
       "                        <th id=\"T_0465e2ca_58cf_11ec_aa66_02420a3927cblevel0_row3\" class=\"row_heading level0 row3\" >>600000</th>\n",
       "                        <td id=\"T_0465e2ca_58cf_11ec_aa66_02420a3927cbrow3_col0\" class=\"data row3 col0\" >8</td>\n",
       "                        <td id=\"T_0465e2ca_58cf_11ec_aa66_02420a3927cbrow3_col1\" class=\"data row3 col1\" >109</td>\n",
       "                        <td id=\"T_0465e2ca_58cf_11ec_aa66_02420a3927cbrow3_col2\" class=\"data row3 col2\" >0.073%</td>\n",
       "            </tr>\n",
       "            <tr>\n",
       "                        <th id=\"T_0465e2ca_58cf_11ec_aa66_02420a3927cblevel0_row4\" class=\"row_heading level0 row4\" >200000-600000</th>\n",
       "                        <td id=\"T_0465e2ca_58cf_11ec_aa66_02420a3927cbrow4_col0\" class=\"data row4 col0\" >350</td>\n",
       "                        <td id=\"T_0465e2ca_58cf_11ec_aa66_02420a3927cbrow4_col1\" class=\"data row4 col1\" >4958</td>\n",
       "                        <td id=\"T_0465e2ca_58cf_11ec_aa66_02420a3927cbrow4_col2\" class=\"data row4 col2\" >0.071%</td>\n",
       "            </tr>\n",
       "    </tbody></table>"
      ],
      "text/plain": [
       "<pandas.io.formats.style.Styler at 0x7efca6bdaad0>"
      ]
     },
     "execution_count": 31,
     "metadata": {},
     "output_type": "execute_result"
    }
   ],
   "source": [
    "print('Общая доля должников в выборке','{:.2}%'.format(total_ratio))\n",
    "# составим сводную таблицу с группировкой по столбцу income_category\n",
    "report_3 = data.pivot_table(index = ['income_category'], values = 'debt', aggfunc = ['sum', 'count','mean'])\n",
    "report_3.columns = ['debt', 'total', '%']\n",
    "report_3 = report_3.sort_values(by = ['%'], ascending = False)\n",
    "report_3.style.format({'%': '{:.2%}'})"
   ]
  },
  {
   "cell_type": "markdown",
   "metadata": {},
   "source": [
    "**Вывод**"
   ]
  },
  {
   "cell_type": "markdown",
   "metadata": {},
   "source": [
    "В целом процент задолженностей в группах людей с разным уровнем доходов незначительно различается. Выборка с доходом более 600 тыс. малочисленна, поэтому не может быть репрезентативна. Оценивая остальные значения отмечается, что процент возврата кредита в срок людьми с доходом 200-600 тыс. и менее 100 тыс. выше, притом частота задолженностей меньше, чем средняя по выборке. У людей с доходами до 100 и до 600 тысяч. вероятность задолженности выше, но сопоставима со средней по выборке."
   ]
  },
  {
   "cell_type": "markdown",
   "metadata": {},
   "source": [
    "- Как разные цели кредита влияют на его возврат в срок?"
   ]
  },
  {
   "cell_type": "code",
   "execution_count": 32,
   "metadata": {},
   "outputs": [
    {
     "name": "stdout",
     "output_type": "stream",
     "text": [
      "Общая доля должников в выборке 0.081%\n"
     ]
    },
    {
     "data": {
      "text/html": [
       "<style  type=\"text/css\" >\n",
       "</style><table id=\"T_046d2850_58cf_11ec_aa66_02420a3927cb\" ><thead>    <tr>        <th class=\"blank level0\" ></th>        <th class=\"col_heading level0 col0\" >debt</th>        <th class=\"col_heading level0 col1\" >total</th>        <th class=\"col_heading level0 col2\" >%</th>    </tr>    <tr>        <th class=\"index_name level0\" >purpose_category</th>        <th class=\"blank\" ></th>        <th class=\"blank\" ></th>        <th class=\"blank\" ></th>    </tr></thead><tbody>\n",
       "                <tr>\n",
       "                        <th id=\"T_046d2850_58cf_11ec_aa66_02420a3927cblevel0_row0\" class=\"row_heading level0 row0\" >автомобиль</th>\n",
       "                        <td id=\"T_046d2850_58cf_11ec_aa66_02420a3927cbrow0_col0\" class=\"data row0 col0\" >403</td>\n",
       "                        <td id=\"T_046d2850_58cf_11ec_aa66_02420a3927cbrow0_col1\" class=\"data row0 col1\" >4306</td>\n",
       "                        <td id=\"T_046d2850_58cf_11ec_aa66_02420a3927cbrow0_col2\" class=\"data row0 col2\" >0.094%</td>\n",
       "            </tr>\n",
       "            <tr>\n",
       "                        <th id=\"T_046d2850_58cf_11ec_aa66_02420a3927cblevel0_row1\" class=\"row_heading level0 row1\" >образование</th>\n",
       "                        <td id=\"T_046d2850_58cf_11ec_aa66_02420a3927cbrow1_col0\" class=\"data row1 col0\" >370</td>\n",
       "                        <td id=\"T_046d2850_58cf_11ec_aa66_02420a3927cbrow1_col1\" class=\"data row1 col1\" >4013</td>\n",
       "                        <td id=\"T_046d2850_58cf_11ec_aa66_02420a3927cbrow1_col2\" class=\"data row1 col2\" >0.092%</td>\n",
       "            </tr>\n",
       "            <tr>\n",
       "                        <th id=\"T_046d2850_58cf_11ec_aa66_02420a3927cblevel0_row2\" class=\"row_heading level0 row2\" >свадьба</th>\n",
       "                        <td id=\"T_046d2850_58cf_11ec_aa66_02420a3927cbrow2_col0\" class=\"data row2 col0\" >186</td>\n",
       "                        <td id=\"T_046d2850_58cf_11ec_aa66_02420a3927cbrow2_col1\" class=\"data row2 col1\" >2324</td>\n",
       "                        <td id=\"T_046d2850_58cf_11ec_aa66_02420a3927cbrow2_col2\" class=\"data row2 col2\" >0.08%</td>\n",
       "            </tr>\n",
       "            <tr>\n",
       "                        <th id=\"T_046d2850_58cf_11ec_aa66_02420a3927cblevel0_row3\" class=\"row_heading level0 row3\" >недвижимость</th>\n",
       "                        <td id=\"T_046d2850_58cf_11ec_aa66_02420a3927cbrow3_col0\" class=\"data row3 col0\" >782</td>\n",
       "                        <td id=\"T_046d2850_58cf_11ec_aa66_02420a3927cbrow3_col1\" class=\"data row3 col1\" >10811</td>\n",
       "                        <td id=\"T_046d2850_58cf_11ec_aa66_02420a3927cbrow3_col2\" class=\"data row3 col2\" >0.072%</td>\n",
       "            </tr>\n",
       "    </tbody></table>"
      ],
      "text/plain": [
       "<pandas.io.formats.style.Styler at 0x7efc62105650>"
      ]
     },
     "execution_count": 32,
     "metadata": {},
     "output_type": "execute_result"
    }
   ],
   "source": [
    "print('Общая доля должников в выборке','{:.2}%'.format(total_ratio))\n",
    "# составим сводную таблицу с группировкой по столбцу purpose_category\n",
    "report_4 = data.pivot_table(index = ['purpose_category'], values = 'debt', aggfunc = ['sum', 'count','mean'])\n",
    "report_4.columns = ['debt', 'total', '%']\n",
    "report_4 = report_4.sort_values(by = ['%'], ascending = False)\n",
    "report_4.style.format({'%': '{:.2%}'})"
   ]
  },
  {
   "cell_type": "markdown",
   "metadata": {},
   "source": [
    "**Вывод**"
   ]
  },
  {
   "cell_type": "markdown",
   "metadata": {},
   "source": [
    "Наблюдается зависимость между целью кредита и возвратом его в срок. Так вероятность задолженности выше у клиентов с целью кредита, связанной с автомобилями и образованием, их значения практически одинаковы и превышают среднюю по выборке вероятность задолженности. Кредиты на недвижимость возвращают в срок с частотой сопоставимой со средней частотой выборки. Процент задолженностей по кредитам на свадьбу - минимальный."
   ]
  },
  {
   "cell_type": "markdown",
   "metadata": {},
   "source": [
    "##  Общий вывод"
   ]
  },
  {
   "cell_type": "markdown",
   "metadata": {},
   "source": [
    "Наиболее достоверными оказалось влияние на возврат кредита в срок целей кредита, количества детей и семейного положения занимателя. Уровень дохода не дал значимых различий по влиянию на возврат в срок, при этом все значения сопоставимы со средней по выборке. Предикторами более высокого риска задолженности по кредиту являются:\n",
    "* 1 и 2 детей\n",
    "* наличие официального или гражданского супруга\n",
    "* получение кредита на автомобиль или образование"
   ]
  }
 ],
 "metadata": {
  "ExecuteTimeLog": [
   {
    "duration": 2774,
    "start_time": "2021-12-05T18:39:06.238Z"
   },
   {
    "duration": 2222,
    "start_time": "2021-12-05T18:39:09.468Z"
   },
   {
    "duration": 69,
    "start_time": "2021-12-05T18:39:51.060Z"
   },
   {
    "duration": 95,
    "start_time": "2021-12-05T18:41:52.173Z"
   },
   {
    "duration": 95,
    "start_time": "2021-12-05T18:41:58.175Z"
   },
   {
    "duration": 30,
    "start_time": "2021-12-05T18:42:12.950Z"
   },
   {
    "duration": 23,
    "start_time": "2021-12-05T18:42:24.916Z"
   },
   {
    "duration": 6785,
    "start_time": "2021-12-05T18:42:43.420Z"
   },
   {
    "duration": 322,
    "start_time": "2021-12-05T18:43:27.109Z"
   },
   {
    "duration": 94,
    "start_time": "2021-12-05T18:46:08.823Z"
   },
   {
    "duration": 21,
    "start_time": "2021-12-05T18:46:14.199Z"
   },
   {
    "duration": 8,
    "start_time": "2021-12-05T18:46:50.198Z"
   },
   {
    "duration": 259,
    "start_time": "2021-12-05T18:48:55.246Z"
   },
   {
    "duration": 949,
    "start_time": "2021-12-05T18:49:16.336Z"
   },
   {
    "duration": 10,
    "start_time": "2021-12-05T18:49:47.272Z"
   },
   {
    "duration": 24,
    "start_time": "2021-12-05T18:52:33.082Z"
   },
   {
    "duration": 4009,
    "start_time": "2021-12-05T18:53:05.560Z"
   },
   {
    "duration": 27,
    "start_time": "2021-12-05T18:53:48.379Z"
   },
   {
    "duration": 16,
    "start_time": "2021-12-05T18:56:54.557Z"
   },
   {
    "duration": 27,
    "start_time": "2021-12-05T19:01:35.070Z"
   },
   {
    "duration": 263,
    "start_time": "2021-12-05T19:02:21.207Z"
   },
   {
    "duration": 312,
    "start_time": "2021-12-05T19:03:25.927Z"
   },
   {
    "duration": 7732,
    "start_time": "2021-12-05T19:03:56.088Z"
   },
   {
    "duration": 259,
    "start_time": "2021-12-05T19:06:06.741Z"
   },
   {
    "duration": 274,
    "start_time": "2021-12-05T19:06:33.722Z"
   },
   {
    "duration": 256,
    "start_time": "2021-12-05T19:07:08.954Z"
   },
   {
    "duration": 35,
    "start_time": "2021-12-05T19:07:34.778Z"
   },
   {
    "duration": 9222,
    "start_time": "2021-12-05T19:07:39.841Z"
   },
   {
    "duration": 257,
    "start_time": "2021-12-05T19:09:12.746Z"
   },
   {
    "duration": 9,
    "start_time": "2021-12-05T19:09:31.299Z"
   },
   {
    "duration": 6,
    "start_time": "2021-12-05T19:10:47.036Z"
   },
   {
    "duration": 717,
    "start_time": "2021-12-05T19:12:56.998Z"
   },
   {
    "duration": 24,
    "start_time": "2021-12-05T19:13:55.813Z"
   },
   {
    "duration": 646,
    "start_time": "2021-12-05T19:13:57.368Z"
   },
   {
    "duration": 299,
    "start_time": "2021-12-05T19:13:58.980Z"
   },
   {
    "duration": 628,
    "start_time": "2021-12-05T19:14:07.621Z"
   },
   {
    "duration": 372,
    "start_time": "2021-12-06T16:01:49.565Z"
   },
   {
    "duration": 688,
    "start_time": "2021-12-06T16:01:58.879Z"
   },
   {
    "duration": 11,
    "start_time": "2021-12-06T16:02:04.476Z"
   },
   {
    "duration": 5,
    "start_time": "2021-12-06T16:02:08.407Z"
   },
   {
    "duration": 3,
    "start_time": "2021-12-06T16:03:56.466Z"
   },
   {
    "duration": 4,
    "start_time": "2021-12-06T16:05:29.186Z"
   },
   {
    "duration": 286,
    "start_time": "2021-12-06T16:17:42.407Z"
   },
   {
    "duration": 9,
    "start_time": "2021-12-06T16:17:59.737Z"
   },
   {
    "duration": 10,
    "start_time": "2021-12-06T16:18:08.841Z"
   },
   {
    "duration": 4,
    "start_time": "2021-12-06T16:21:12.017Z"
   },
   {
    "duration": 4,
    "start_time": "2021-12-06T16:21:13.521Z"
   },
   {
    "duration": 17,
    "start_time": "2021-12-06T16:21:22.114Z"
   },
   {
    "duration": 26,
    "start_time": "2021-12-06T16:21:23.641Z"
   },
   {
    "duration": 4,
    "start_time": "2021-12-06T16:21:27.689Z"
   },
   {
    "duration": 8,
    "start_time": "2021-12-06T16:24:07.941Z"
   },
   {
    "duration": 8,
    "start_time": "2021-12-06T16:26:51.895Z"
   },
   {
    "duration": 8,
    "start_time": "2021-12-06T16:26:56.819Z"
   },
   {
    "duration": 8,
    "start_time": "2021-12-06T16:27:12.872Z"
   },
   {
    "duration": 86,
    "start_time": "2021-12-06T16:31:45.006Z"
   },
   {
    "duration": 118,
    "start_time": "2021-12-06T16:32:56.872Z"
   },
   {
    "duration": 305,
    "start_time": "2021-12-06T16:33:27.272Z"
   },
   {
    "duration": 90,
    "start_time": "2021-12-06T16:35:10.691Z"
   },
   {
    "duration": 9,
    "start_time": "2021-12-06T16:39:35.844Z"
   },
   {
    "duration": 94,
    "start_time": "2021-12-06T16:40:14.017Z"
   },
   {
    "duration": 9,
    "start_time": "2021-12-06T16:40:32.441Z"
   },
   {
    "duration": 11,
    "start_time": "2021-12-06T16:40:35.080Z"
   },
   {
    "duration": 9,
    "start_time": "2021-12-06T16:40:38.881Z"
   },
   {
    "duration": 59,
    "start_time": "2021-12-06T16:40:45.804Z"
   },
   {
    "duration": 11,
    "start_time": "2021-12-06T16:40:49.832Z"
   },
   {
    "duration": 4,
    "start_time": "2021-12-06T16:40:54.945Z"
   },
   {
    "duration": 4,
    "start_time": "2021-12-06T16:40:58.675Z"
   },
   {
    "duration": 11,
    "start_time": "2021-12-06T16:41:02.234Z"
   },
   {
    "duration": 4,
    "start_time": "2021-12-06T16:41:05.297Z"
   },
   {
    "duration": 4,
    "start_time": "2021-12-06T16:41:06.729Z"
   },
   {
    "duration": 17,
    "start_time": "2021-12-06T16:41:11.747Z"
   },
   {
    "duration": 29,
    "start_time": "2021-12-06T16:41:13.227Z"
   },
   {
    "duration": 7,
    "start_time": "2021-12-06T16:41:15.665Z"
   },
   {
    "duration": 13,
    "start_time": "2021-12-06T16:41:19.915Z"
   },
   {
    "duration": 6,
    "start_time": "2021-12-06T16:41:48.281Z"
   },
   {
    "duration": 15,
    "start_time": "2021-12-06T16:41:51.014Z"
   },
   {
    "duration": 4,
    "start_time": "2021-12-06T16:43:16.051Z"
   },
   {
    "duration": -362,
    "start_time": "2021-12-06T16:46:41.851Z"
   },
   {
    "duration": 6904,
    "start_time": "2021-12-06T16:46:47.740Z"
   },
   {
    "duration": 6838,
    "start_time": "2021-12-06T16:48:01.511Z"
   },
   {
    "duration": 5,
    "start_time": "2021-12-06T16:48:26.141Z"
   },
   {
    "duration": 5,
    "start_time": "2021-12-06T16:48:29.228Z"
   },
   {
    "duration": 5,
    "start_time": "2021-12-06T16:48:31.861Z"
   },
   {
    "duration": 5,
    "start_time": "2021-12-06T16:48:48.709Z"
   },
   {
    "duration": 275,
    "start_time": "2021-12-06T16:49:21.485Z"
   },
   {
    "duration": 5,
    "start_time": "2021-12-06T16:54:10.761Z"
   },
   {
    "duration": 5,
    "start_time": "2021-12-06T16:55:09.704Z"
   },
   {
    "duration": 59,
    "start_time": "2021-12-06T16:55:46.738Z"
   },
   {
    "duration": 11,
    "start_time": "2021-12-06T16:55:48.712Z"
   },
   {
    "duration": 4,
    "start_time": "2021-12-06T16:55:53.663Z"
   },
   {
    "duration": 4,
    "start_time": "2021-12-06T16:55:55.488Z"
   },
   {
    "duration": 11,
    "start_time": "2021-12-06T16:55:58.056Z"
   },
   {
    "duration": 5,
    "start_time": "2021-12-06T16:56:00.463Z"
   },
   {
    "duration": 4,
    "start_time": "2021-12-06T16:56:01.942Z"
   },
   {
    "duration": 88,
    "start_time": "2021-12-06T16:56:04.192Z"
   },
   {
    "duration": 56,
    "start_time": "2021-12-06T16:56:11.738Z"
   },
   {
    "duration": 10,
    "start_time": "2021-12-06T16:56:14.240Z"
   },
   {
    "duration": 3,
    "start_time": "2021-12-06T16:56:17.632Z"
   },
   {
    "duration": 4,
    "start_time": "2021-12-06T16:56:19.519Z"
   },
   {
    "duration": 10,
    "start_time": "2021-12-06T16:56:22.616Z"
   },
   {
    "duration": 5,
    "start_time": "2021-12-06T16:56:24.656Z"
   },
   {
    "duration": 4,
    "start_time": "2021-12-06T16:56:26.416Z"
   },
   {
    "duration": 15,
    "start_time": "2021-12-06T16:56:31.240Z"
   },
   {
    "duration": 29,
    "start_time": "2021-12-06T16:56:33.023Z"
   },
   {
    "duration": 8,
    "start_time": "2021-12-06T16:56:35.096Z"
   },
   {
    "duration": 12,
    "start_time": "2021-12-06T16:56:37.530Z"
   },
   {
    "duration": 5,
    "start_time": "2021-12-06T16:56:40.391Z"
   },
   {
    "duration": 4,
    "start_time": "2021-12-06T16:56:43.873Z"
   },
   {
    "duration": 4,
    "start_time": "2021-12-06T16:56:55.096Z"
   },
   {
    "duration": 278,
    "start_time": "2021-12-06T17:00:31.325Z"
   },
   {
    "duration": 281,
    "start_time": "2021-12-06T17:01:23.227Z"
   },
   {
    "duration": -1389,
    "start_time": "2021-12-06T17:01:50.126Z"
   },
   {
    "duration": 9069,
    "start_time": "2021-12-06T17:01:54.043Z"
   },
   {
    "duration": 4,
    "start_time": "2021-12-06T17:02:13.301Z"
   },
   {
    "duration": 6800,
    "start_time": "2021-12-06T17:02:21.403Z"
   },
   {
    "duration": 7,
    "start_time": "2021-12-06T17:02:38.388Z"
   },
   {
    "duration": 9,
    "start_time": "2021-12-06T17:03:04.796Z"
   },
   {
    "duration": 244,
    "start_time": "2021-12-06T18:24:42.998Z"
   },
   {
    "duration": 5,
    "start_time": "2021-12-06T18:24:49.542Z"
   },
   {
    "duration": 12,
    "start_time": "2021-12-06T18:24:59.611Z"
   },
   {
    "duration": 7,
    "start_time": "2021-12-06T18:25:14.668Z"
   },
   {
    "duration": 943,
    "start_time": "2021-12-06T18:25:18.951Z"
   },
   {
    "duration": 256,
    "start_time": "2021-12-06T18:25:58.805Z"
   },
   {
    "duration": 9,
    "start_time": "2021-12-06T18:28:12.638Z"
   },
   {
    "duration": 9,
    "start_time": "2021-12-06T18:28:44.118Z"
   },
   {
    "duration": 9,
    "start_time": "2021-12-06T18:29:51.694Z"
   },
   {
    "duration": 4,
    "start_time": "2021-12-06T18:29:57.404Z"
   },
   {
    "duration": 9,
    "start_time": "2021-12-06T18:30:32.863Z"
   },
   {
    "duration": 102,
    "start_time": "2021-12-06T18:34:49.032Z"
   },
   {
    "duration": 10,
    "start_time": "2021-12-06T18:34:54.492Z"
   },
   {
    "duration": 267,
    "start_time": "2021-12-06T18:35:20.322Z"
   },
   {
    "duration": 337,
    "start_time": "2021-12-06T18:36:10.322Z"
   },
   {
    "duration": 275,
    "start_time": "2021-12-06T18:37:33.989Z"
   },
   {
    "duration": 10,
    "start_time": "2021-12-06T18:40:00.289Z"
   },
   {
    "duration": 9,
    "start_time": "2021-12-06T18:40:15.716Z"
   },
   {
    "duration": 12,
    "start_time": "2021-12-06T18:40:27.756Z"
   },
   {
    "duration": 10,
    "start_time": "2021-12-06T18:40:45.036Z"
   },
   {
    "duration": 3,
    "start_time": "2021-12-06T18:40:52.867Z"
   },
   {
    "duration": 5,
    "start_time": "2021-12-06T18:41:05.668Z"
   },
   {
    "duration": 5,
    "start_time": "2021-12-06T18:41:58.685Z"
   },
   {
    "duration": 5,
    "start_time": "2021-12-06T18:42:09.332Z"
   },
   {
    "duration": 280,
    "start_time": "2021-12-06T18:50:12.903Z"
   },
   {
    "duration": 10,
    "start_time": "2021-12-06T18:50:58.961Z"
   },
   {
    "duration": 10,
    "start_time": "2021-12-06T18:51:19.192Z"
   },
   {
    "duration": 11,
    "start_time": "2021-12-06T18:51:28.783Z"
   },
   {
    "duration": 5,
    "start_time": "2021-12-06T18:51:42.536Z"
   },
   {
    "duration": 90,
    "start_time": "2021-12-06T19:10:05.149Z"
   },
   {
    "duration": 121,
    "start_time": "2021-12-06T19:10:47.852Z"
   },
   {
    "duration": 91,
    "start_time": "2021-12-06T19:10:56.377Z"
   },
   {
    "duration": 90,
    "start_time": "2021-12-06T19:12:59.469Z"
   },
   {
    "duration": 1200,
    "start_time": "2021-12-06T19:13:14.845Z"
   },
   {
    "duration": 1212,
    "start_time": "2021-12-06T19:13:28.829Z"
   },
   {
    "duration": 2811,
    "start_time": "2021-12-06T19:13:51.415Z"
   },
   {
    "duration": 5431,
    "start_time": "2021-12-06T19:18:37.234Z"
   },
   {
    "duration": 3114,
    "start_time": "2021-12-06T19:18:53.057Z"
   },
   {
    "duration": 3309,
    "start_time": "2021-12-06T19:19:57.546Z"
   },
   {
    "duration": 3118,
    "start_time": "2021-12-06T19:20:31.811Z"
   },
   {
    "duration": 2861,
    "start_time": "2021-12-06T19:26:00.054Z"
   },
   {
    "duration": 2771,
    "start_time": "2021-12-06T19:26:36.531Z"
   },
   {
    "duration": 268,
    "start_time": "2021-12-06T19:37:49.454Z"
   },
   {
    "duration": 360,
    "start_time": "2021-12-06T19:37:58.463Z"
   },
   {
    "duration": 5,
    "start_time": "2021-12-06T19:38:25.191Z"
   },
   {
    "duration": 5,
    "start_time": "2021-12-06T19:43:35.971Z"
   },
   {
    "duration": 42,
    "start_time": "2021-12-06T19:56:56.873Z"
   },
   {
    "duration": 292,
    "start_time": "2021-12-06T19:59:07.763Z"
   },
   {
    "duration": 36,
    "start_time": "2021-12-06T19:59:45.955Z"
   },
   {
    "duration": 61,
    "start_time": "2021-12-06T20:00:14.843Z"
   },
   {
    "duration": 10,
    "start_time": "2021-12-06T20:00:18.689Z"
   },
   {
    "duration": 3,
    "start_time": "2021-12-06T20:00:23.577Z"
   },
   {
    "duration": 4,
    "start_time": "2021-12-06T20:00:28.721Z"
   },
   {
    "duration": 10,
    "start_time": "2021-12-06T20:00:32.561Z"
   },
   {
    "duration": 33,
    "start_time": "2021-12-06T20:00:40.090Z"
   },
   {
    "duration": 284,
    "start_time": "2021-12-06T20:01:10.485Z"
   },
   {
    "duration": 88,
    "start_time": "2021-12-06T20:01:28.126Z"
   },
   {
    "duration": 40,
    "start_time": "2021-12-06T20:01:35.145Z"
   },
   {
    "duration": 8,
    "start_time": "2021-12-06T20:05:47.201Z"
   },
   {
    "duration": 92,
    "start_time": "2021-12-06T20:12:26.065Z"
   },
   {
    "duration": 6649,
    "start_time": "2021-12-06T20:12:34.959Z"
   },
   {
    "duration": 8537,
    "start_time": "2021-12-06T20:12:41.770Z"
   },
   {
    "duration": 21,
    "start_time": "2021-12-06T20:13:07.560Z"
   },
   {
    "duration": 47,
    "start_time": "2021-12-06T20:18:20.627Z"
   },
   {
    "duration": 44,
    "start_time": "2021-12-06T20:18:29.258Z"
   },
   {
    "duration": 45,
    "start_time": "2021-12-06T20:18:53.700Z"
   },
   {
    "duration": 47,
    "start_time": "2021-12-06T20:19:19.964Z"
   },
   {
    "duration": 56,
    "start_time": "2021-12-06T20:19:34.707Z"
   },
   {
    "duration": 10,
    "start_time": "2021-12-06T20:19:37.386Z"
   },
   {
    "duration": 4,
    "start_time": "2021-12-06T20:19:41.018Z"
   },
   {
    "duration": 4,
    "start_time": "2021-12-06T20:19:43.331Z"
   },
   {
    "duration": 10,
    "start_time": "2021-12-06T20:19:45.778Z"
   },
   {
    "duration": 4,
    "start_time": "2021-12-06T20:19:50.393Z"
   },
   {
    "duration": 30,
    "start_time": "2021-12-06T20:19:58.794Z"
   },
   {
    "duration": 316,
    "start_time": "2021-12-06T20:20:18.539Z"
   },
   {
    "duration": 57,
    "start_time": "2021-12-06T20:20:29.027Z"
   },
   {
    "duration": 12,
    "start_time": "2021-12-06T20:20:31.842Z"
   },
   {
    "duration": 3,
    "start_time": "2021-12-06T20:20:35.378Z"
   },
   {
    "duration": 4,
    "start_time": "2021-12-06T20:20:37.731Z"
   },
   {
    "duration": 9,
    "start_time": "2021-12-06T20:20:40.642Z"
   },
   {
    "duration": 4,
    "start_time": "2021-12-06T20:20:43.354Z"
   },
   {
    "duration": 27,
    "start_time": "2021-12-06T20:20:46.692Z"
   },
   {
    "duration": 8,
    "start_time": "2021-12-06T20:20:49.556Z"
   },
   {
    "duration": 45,
    "start_time": "2021-12-06T20:20:59.675Z"
   },
   {
    "duration": 290,
    "start_time": "2021-12-06T20:35:20.604Z"
   },
   {
    "duration": 308,
    "start_time": "2021-12-06T20:35:44.515Z"
   },
   {
    "duration": 256,
    "start_time": "2021-12-06T20:35:54.219Z"
   },
   {
    "duration": 244,
    "start_time": "2021-12-06T20:36:12.116Z"
   },
   {
    "duration": 342,
    "start_time": "2021-12-06T20:36:32.573Z"
   },
   {
    "duration": 3,
    "start_time": "2021-12-06T20:36:38.603Z"
   },
   {
    "duration": 3,
    "start_time": "2021-12-06T20:36:41.019Z"
   },
   {
    "duration": 14,
    "start_time": "2021-12-06T20:36:50.778Z"
   },
   {
    "duration": 259,
    "start_time": "2021-12-06T20:37:39.659Z"
   },
   {
    "duration": 13,
    "start_time": "2021-12-06T20:37:47.276Z"
   },
   {
    "duration": 58,
    "start_time": "2021-12-06T20:38:19.205Z"
   },
   {
    "duration": 11,
    "start_time": "2021-12-06T20:38:22.356Z"
   },
   {
    "duration": 3,
    "start_time": "2021-12-06T20:38:26.563Z"
   },
   {
    "duration": 4,
    "start_time": "2021-12-06T20:38:29.564Z"
   },
   {
    "duration": 11,
    "start_time": "2021-12-06T20:38:32.244Z"
   },
   {
    "duration": 4,
    "start_time": "2021-12-06T20:38:34.715Z"
   },
   {
    "duration": 31,
    "start_time": "2021-12-06T20:38:37.302Z"
   },
   {
    "duration": 8,
    "start_time": "2021-12-06T20:38:39.830Z"
   },
   {
    "duration": 49,
    "start_time": "2021-12-06T20:38:42.259Z"
   },
   {
    "duration": 13,
    "start_time": "2021-12-06T20:38:45.099Z"
   },
   {
    "duration": 1084,
    "start_time": "2021-12-06T20:38:56.292Z"
   },
   {
    "duration": 256,
    "start_time": "2021-12-06T20:39:09.812Z"
   },
   {
    "duration": 11,
    "start_time": "2021-12-06T20:39:20.619Z"
   },
   {
    "duration": 13,
    "start_time": "2021-12-06T20:39:44.645Z"
   },
   {
    "duration": 116,
    "start_time": "2021-12-06T20:41:41.104Z"
   },
   {
    "duration": 13,
    "start_time": "2021-12-06T20:41:55.438Z"
   },
   {
    "duration": 16,
    "start_time": "2021-12-06T20:46:24.705Z"
   },
   {
    "duration": 31,
    "start_time": "2021-12-06T20:46:26.639Z"
   },
   {
    "duration": 8,
    "start_time": "2021-12-06T20:46:30.007Z"
   },
   {
    "duration": 12,
    "start_time": "2021-12-06T20:46:33.255Z"
   },
   {
    "duration": 4,
    "start_time": "2021-12-06T20:46:39.374Z"
   },
   {
    "duration": 57,
    "start_time": "2021-12-06T20:49:39.883Z"
   },
   {
    "duration": 11,
    "start_time": "2021-12-06T20:49:42.799Z"
   },
   {
    "duration": 3,
    "start_time": "2021-12-06T20:49:47.520Z"
   },
   {
    "duration": 4,
    "start_time": "2021-12-06T20:49:51.608Z"
   },
   {
    "duration": 11,
    "start_time": "2021-12-06T20:49:54.225Z"
   },
   {
    "duration": 5,
    "start_time": "2021-12-06T20:49:58.117Z"
   },
   {
    "duration": 5,
    "start_time": "2021-12-06T20:50:00.714Z"
   },
   {
    "duration": 16,
    "start_time": "2021-12-06T20:50:03.744Z"
   },
   {
    "duration": 48,
    "start_time": "2021-12-06T20:50:07.640Z"
   },
   {
    "duration": 9,
    "start_time": "2021-12-06T20:50:13.408Z"
   },
   {
    "duration": 46,
    "start_time": "2021-12-06T20:50:16.873Z"
   },
   {
    "duration": 13,
    "start_time": "2021-12-06T20:50:21.161Z"
   },
   {
    "duration": 15,
    "start_time": "2021-12-06T20:50:32.704Z"
   },
   {
    "duration": 30,
    "start_time": "2021-12-06T20:50:46.448Z"
   },
   {
    "duration": 7,
    "start_time": "2021-12-06T20:50:50.009Z"
   },
   {
    "duration": 11,
    "start_time": "2021-12-06T20:50:53.080Z"
   },
   {
    "duration": 5,
    "start_time": "2021-12-06T20:51:04.905Z"
   },
   {
    "duration": 7,
    "start_time": "2021-12-06T20:51:10.769Z"
   },
   {
    "duration": 6,
    "start_time": "2021-12-06T20:51:14.130Z"
   },
   {
    "duration": 17,
    "start_time": "2021-12-06T20:51:17.576Z"
   },
   {
    "duration": 628,
    "start_time": "2021-12-06T20:51:20.105Z"
   },
   {
    "duration": 265,
    "start_time": "2021-12-06T20:51:28.122Z"
   },
   {
    "duration": 57,
    "start_time": "2021-12-06T20:51:52.914Z"
   },
   {
    "duration": 12,
    "start_time": "2021-12-06T20:51:55.304Z"
   },
   {
    "duration": 3,
    "start_time": "2021-12-06T20:51:58.833Z"
   },
   {
    "duration": 4,
    "start_time": "2021-12-06T20:52:01.825Z"
   },
   {
    "duration": 9,
    "start_time": "2021-12-06T20:52:05.035Z"
   },
   {
    "duration": 4,
    "start_time": "2021-12-06T20:52:07.593Z"
   },
   {
    "duration": 6,
    "start_time": "2021-12-06T20:52:10.225Z"
   },
   {
    "duration": 16,
    "start_time": "2021-12-06T20:52:12.876Z"
   },
   {
    "duration": 33,
    "start_time": "2021-12-06T20:52:15.792Z"
   },
   {
    "duration": 7,
    "start_time": "2021-12-06T20:52:18.497Z"
   },
   {
    "duration": 47,
    "start_time": "2021-12-06T20:52:21.193Z"
   },
   {
    "duration": 14,
    "start_time": "2021-12-06T20:52:24.579Z"
   },
   {
    "duration": 15,
    "start_time": "2021-12-06T20:52:28.450Z"
   },
   {
    "duration": 29,
    "start_time": "2021-12-06T20:52:31.482Z"
   },
   {
    "duration": 7,
    "start_time": "2021-12-06T20:52:33.988Z"
   },
   {
    "duration": 12,
    "start_time": "2021-12-06T20:52:37.066Z"
   },
   {
    "duration": 5,
    "start_time": "2021-12-06T20:52:39.881Z"
   },
   {
    "duration": 7,
    "start_time": "2021-12-06T20:52:42.361Z"
   },
   {
    "duration": 5,
    "start_time": "2021-12-06T20:52:45.481Z"
   },
   {
    "duration": 21,
    "start_time": "2021-12-06T20:52:50.041Z"
   },
   {
    "duration": 660,
    "start_time": "2021-12-06T20:53:00.354Z"
   },
   {
    "duration": 10,
    "start_time": "2021-12-06T20:53:36.772Z"
   },
   {
    "duration": 5,
    "start_time": "2021-12-06T20:53:45.387Z"
   },
   {
    "duration": 2952,
    "start_time": "2021-12-06T20:53:51.235Z"
   },
   {
    "duration": 29,
    "start_time": "2021-12-06T21:10:35.851Z"
   },
   {
    "duration": 286,
    "start_time": "2021-12-06T21:17:56.918Z"
   },
   {
    "duration": 30,
    "start_time": "2021-12-06T21:18:11.601Z"
   },
   {
    "duration": 29,
    "start_time": "2021-12-06T21:18:20.985Z"
   },
   {
    "duration": 27,
    "start_time": "2021-12-06T21:18:38.495Z"
   },
   {
    "duration": 63,
    "start_time": "2021-12-06T21:18:44.814Z"
   },
   {
    "duration": 11,
    "start_time": "2021-12-06T21:18:47.293Z"
   },
   {
    "duration": 4,
    "start_time": "2021-12-06T21:18:51.309Z"
   },
   {
    "duration": 4,
    "start_time": "2021-12-06T21:18:53.493Z"
   },
   {
    "duration": 11,
    "start_time": "2021-12-06T21:18:56.174Z"
   },
   {
    "duration": 5,
    "start_time": "2021-12-06T21:19:00.966Z"
   },
   {
    "duration": 5,
    "start_time": "2021-12-06T21:19:04.599Z"
   },
   {
    "duration": 17,
    "start_time": "2021-12-06T21:19:07.318Z"
   },
   {
    "duration": 37,
    "start_time": "2021-12-06T21:19:09.903Z"
   },
   {
    "duration": 7,
    "start_time": "2021-12-06T21:19:13.661Z"
   },
   {
    "duration": 50,
    "start_time": "2021-12-06T21:19:17.982Z"
   },
   {
    "duration": 15,
    "start_time": "2021-12-06T21:19:23.366Z"
   },
   {
    "duration": 17,
    "start_time": "2021-12-06T21:19:34.046Z"
   },
   {
    "duration": 33,
    "start_time": "2021-12-06T21:19:36.517Z"
   },
   {
    "duration": 7,
    "start_time": "2021-12-06T21:19:39.557Z"
   },
   {
    "duration": 13,
    "start_time": "2021-12-06T21:19:42.949Z"
   },
   {
    "duration": 5,
    "start_time": "2021-12-06T21:19:46.261Z"
   },
   {
    "duration": 10,
    "start_time": "2021-12-06T21:19:49.526Z"
   },
   {
    "duration": 6,
    "start_time": "2021-12-06T21:19:52.445Z"
   },
   {
    "duration": 21,
    "start_time": "2021-12-06T21:19:55.825Z"
   },
   {
    "duration": 663,
    "start_time": "2021-12-06T21:19:57.934Z"
   },
   {
    "duration": 5,
    "start_time": "2021-12-06T21:20:02.278Z"
   },
   {
    "duration": 2700,
    "start_time": "2021-12-06T21:20:05.935Z"
   },
   {
    "duration": 31,
    "start_time": "2021-12-06T21:20:16.911Z"
   },
   {
    "duration": 32,
    "start_time": "2021-12-06T21:20:21.399Z"
   },
   {
    "duration": 76,
    "start_time": "2021-12-06T21:23:10.220Z"
   },
   {
    "duration": 248,
    "start_time": "2021-12-06T21:23:18.198Z"
   },
   {
    "duration": 289,
    "start_time": "2021-12-06T21:23:27.565Z"
   },
   {
    "duration": 12,
    "start_time": "2021-12-06T21:23:38.278Z"
   },
   {
    "duration": 267,
    "start_time": "2021-12-06T21:29:52.303Z"
   },
   {
    "duration": 253,
    "start_time": "2021-12-06T21:29:59.646Z"
   },
   {
    "duration": 12,
    "start_time": "2021-12-06T21:30:12.703Z"
   },
   {
    "duration": 5,
    "start_time": "2021-12-06T21:40:31.181Z"
   },
   {
    "duration": 24,
    "start_time": "2021-12-06T21:49:10.139Z"
   },
   {
    "duration": 23,
    "start_time": "2021-12-06T21:49:26.246Z"
   },
   {
    "duration": 6400,
    "start_time": "2021-12-06T21:50:02.301Z"
   },
   {
    "duration": 1742,
    "start_time": "2021-12-06T21:50:40.892Z"
   },
   {
    "duration": 22,
    "start_time": "2021-12-06T21:50:52.859Z"
   },
   {
    "duration": 36,
    "start_time": "2021-12-06T21:52:50.451Z"
   },
   {
    "duration": 21,
    "start_time": "2021-12-06T21:54:29.670Z"
   },
   {
    "duration": 26,
    "start_time": "2021-12-06T21:54:38.858Z"
   },
   {
    "duration": 21,
    "start_time": "2021-12-06T21:56:15.652Z"
   },
   {
    "duration": 21,
    "start_time": "2021-12-06T21:56:26.957Z"
   },
   {
    "duration": 26,
    "start_time": "2021-12-06T21:56:36.153Z"
   },
   {
    "duration": 10,
    "start_time": "2021-12-06T21:57:12.875Z"
   },
   {
    "duration": 11,
    "start_time": "2021-12-06T21:58:52.621Z"
   },
   {
    "duration": 12,
    "start_time": "2021-12-06T21:58:57.593Z"
   },
   {
    "duration": 12,
    "start_time": "2021-12-06T21:59:05.599Z"
   },
   {
    "duration": 12,
    "start_time": "2021-12-06T21:59:15.391Z"
   },
   {
    "duration": 13,
    "start_time": "2021-12-06T21:59:25.083Z"
   },
   {
    "duration": 13,
    "start_time": "2021-12-06T21:59:36.004Z"
   },
   {
    "duration": 16,
    "start_time": "2021-12-06T22:00:10.405Z"
   },
   {
    "duration": 12,
    "start_time": "2021-12-06T22:00:46.972Z"
   },
   {
    "duration": 13,
    "start_time": "2021-12-06T22:02:57.823Z"
   },
   {
    "duration": 12,
    "start_time": "2021-12-06T22:03:25.694Z"
   },
   {
    "duration": 168,
    "start_time": "2021-12-06T22:06:20.846Z"
   },
   {
    "duration": 14,
    "start_time": "2021-12-06T22:06:28.582Z"
   },
   {
    "duration": 4,
    "start_time": "2021-12-06T22:07:00.472Z"
   },
   {
    "duration": 4,
    "start_time": "2021-12-06T22:07:25.943Z"
   },
   {
    "duration": 4,
    "start_time": "2021-12-06T22:07:36.327Z"
   },
   {
    "duration": 5,
    "start_time": "2021-12-06T22:07:39.846Z"
   },
   {
    "duration": 13,
    "start_time": "2021-12-06T22:07:56.295Z"
   },
   {
    "duration": 10,
    "start_time": "2021-12-06T22:07:58.974Z"
   },
   {
    "duration": 11,
    "start_time": "2021-12-06T22:08:07.302Z"
   },
   {
    "duration": 19,
    "start_time": "2021-12-06T22:08:13.056Z"
   },
   {
    "duration": 27,
    "start_time": "2021-12-06T22:08:23.857Z"
   },
   {
    "duration": 61,
    "start_time": "2021-12-06T22:15:25.811Z"
   },
   {
    "duration": 11,
    "start_time": "2021-12-06T22:15:28.802Z"
   },
   {
    "duration": 4,
    "start_time": "2021-12-06T22:15:32.097Z"
   },
   {
    "duration": 3,
    "start_time": "2021-12-06T22:15:34.081Z"
   },
   {
    "duration": 10,
    "start_time": "2021-12-06T22:15:36.065Z"
   },
   {
    "duration": 4,
    "start_time": "2021-12-06T22:15:40.610Z"
   },
   {
    "duration": 5,
    "start_time": "2021-12-06T22:15:43.233Z"
   },
   {
    "duration": 21,
    "start_time": "2021-12-06T22:15:44.522Z"
   },
   {
    "duration": 38,
    "start_time": "2021-12-06T22:15:45.577Z"
   },
   {
    "duration": 7,
    "start_time": "2021-12-06T22:15:48.236Z"
   },
   {
    "duration": 48,
    "start_time": "2021-12-06T22:15:51.513Z"
   },
   {
    "duration": 14,
    "start_time": "2021-12-06T22:15:54.761Z"
   },
   {
    "duration": 15,
    "start_time": "2021-12-06T22:15:57.682Z"
   },
   {
    "duration": 29,
    "start_time": "2021-12-06T22:15:58.379Z"
   },
   {
    "duration": 7,
    "start_time": "2021-12-06T22:16:00.777Z"
   },
   {
    "duration": 13,
    "start_time": "2021-12-06T22:16:04.333Z"
   },
   {
    "duration": 5,
    "start_time": "2021-12-06T22:16:07.632Z"
   },
   {
    "duration": 7,
    "start_time": "2021-12-06T22:16:11.233Z"
   },
   {
    "duration": 5,
    "start_time": "2021-12-06T22:16:15.112Z"
   },
   {
    "duration": 29,
    "start_time": "2021-12-06T22:16:19.352Z"
   },
   {
    "duration": 669,
    "start_time": "2021-12-06T22:16:20.114Z"
   },
   {
    "duration": 5,
    "start_time": "2021-12-06T22:16:25.537Z"
   },
   {
    "duration": 3114,
    "start_time": "2021-12-06T22:16:29.305Z"
   },
   {
    "duration": 31,
    "start_time": "2021-12-06T22:16:38.282Z"
   },
   {
    "duration": 12,
    "start_time": "2021-12-06T22:16:43.016Z"
   },
   {
    "duration": 9,
    "start_time": "2021-12-06T22:16:46.310Z"
   },
   {
    "duration": 94,
    "start_time": "2021-12-06T22:16:46.880Z"
   },
   {
    "duration": 6,
    "start_time": "2021-12-06T22:16:55.355Z"
   },
   {
    "duration": 22,
    "start_time": "2021-12-06T22:17:09.714Z"
   },
   {
    "duration": 30,
    "start_time": "2021-12-06T22:17:12.396Z"
   },
   {
    "duration": 12,
    "start_time": "2021-12-06T22:17:16.217Z"
   },
   {
    "duration": 630,
    "start_time": "2021-12-07T18:03:50.678Z"
   },
   {
    "duration": 10,
    "start_time": "2021-12-07T18:03:55.258Z"
   },
   {
    "duration": 34,
    "start_time": "2021-12-07T18:04:21.562Z"
   },
   {
    "duration": 3,
    "start_time": "2021-12-07T18:33:33.474Z"
   },
   {
    "duration": 4,
    "start_time": "2021-12-07T18:33:36.687Z"
   },
   {
    "duration": 15,
    "start_time": "2021-12-07T18:33:39.515Z"
   },
   {
    "duration": 4,
    "start_time": "2021-12-07T18:33:42.782Z"
   },
   {
    "duration": 5,
    "start_time": "2021-12-07T18:33:46.502Z"
   },
   {
    "duration": 15,
    "start_time": "2021-12-07T18:33:48.742Z"
   },
   {
    "duration": 36,
    "start_time": "2021-12-07T18:33:50.376Z"
   },
   {
    "duration": 7,
    "start_time": "2021-12-07T18:33:53.366Z"
   },
   {
    "duration": 21,
    "start_time": "2021-12-07T18:34:04.990Z"
   },
   {
    "duration": 109,
    "start_time": "2021-12-07T18:44:20.552Z"
   },
   {
    "duration": 109,
    "start_time": "2021-12-07T18:44:29.317Z"
   },
   {
    "duration": 135,
    "start_time": "2021-12-07T18:44:49.291Z"
   },
   {
    "duration": 143,
    "start_time": "2021-12-07T18:45:11.739Z"
   },
   {
    "duration": 95,
    "start_time": "2021-12-07T18:45:21.620Z"
   },
   {
    "duration": 6984,
    "start_time": "2021-12-07T18:45:34.427Z"
   },
   {
    "duration": 6814,
    "start_time": "2021-12-07T18:45:46.132Z"
   },
   {
    "duration": 7073,
    "start_time": "2021-12-07T18:46:01.797Z"
   },
   {
    "duration": 59,
    "start_time": "2021-12-07T18:46:28.022Z"
   },
   {
    "duration": 10,
    "start_time": "2021-12-07T18:46:31.227Z"
   },
   {
    "duration": 31,
    "start_time": "2021-12-07T18:46:34.388Z"
   },
   {
    "duration": 3,
    "start_time": "2021-12-07T18:46:38.188Z"
   },
   {
    "duration": 4,
    "start_time": "2021-12-07T18:46:40.556Z"
   },
   {
    "duration": 9,
    "start_time": "2021-12-07T18:46:43.196Z"
   },
   {
    "duration": 4,
    "start_time": "2021-12-07T18:46:46.060Z"
   },
   {
    "duration": 4,
    "start_time": "2021-12-07T18:46:55.069Z"
   },
   {
    "duration": 16,
    "start_time": "2021-12-07T18:46:56.796Z"
   },
   {
    "duration": 33,
    "start_time": "2021-12-07T18:46:58.391Z"
   },
   {
    "duration": 8,
    "start_time": "2021-12-07T18:47:03.806Z"
   },
   {
    "duration": 7385,
    "start_time": "2021-12-07T18:47:28.900Z"
   },
   {
    "duration": 7391,
    "start_time": "2021-12-07T18:48:40.830Z"
   },
   {
    "duration": 277,
    "start_time": "2021-12-07T18:49:23.096Z"
   },
   {
    "duration": 262,
    "start_time": "2021-12-07T18:49:48.686Z"
   },
   {
    "duration": 6950,
    "start_time": "2021-12-07T18:50:12.351Z"
   },
   {
    "duration": 622,
    "start_time": "2021-12-07T18:50:39.023Z"
   },
   {
    "duration": 262,
    "start_time": "2021-12-07T18:50:54.085Z"
   },
   {
    "duration": 9227,
    "start_time": "2021-12-07T18:52:18.518Z"
   },
   {
    "duration": 11,
    "start_time": "2021-12-07T18:53:07.964Z"
   },
   {
    "duration": 260,
    "start_time": "2021-12-07T18:54:25.342Z"
   },
   {
    "duration": 7019,
    "start_time": "2021-12-07T18:54:44.736Z"
   },
   {
    "duration": 255,
    "start_time": "2021-12-07T18:58:50.821Z"
   },
   {
    "duration": 92,
    "start_time": "2021-12-07T19:01:54.259Z"
   },
   {
    "duration": 250,
    "start_time": "2021-12-07T19:02:03.779Z"
   },
   {
    "duration": 258,
    "start_time": "2021-12-07T19:02:38.819Z"
   },
   {
    "duration": 362,
    "start_time": "2021-12-07T19:02:45.531Z"
   },
   {
    "duration": 8273,
    "start_time": "2021-12-07T19:03:03.813Z"
   },
   {
    "duration": 10176,
    "start_time": "2021-12-07T19:04:09.209Z"
   },
   {
    "duration": 87,
    "start_time": "2021-12-07T19:07:45.478Z"
   },
   {
    "duration": 136,
    "start_time": "2021-12-07T19:07:55.470Z"
   },
   {
    "duration": 93,
    "start_time": "2021-12-07T19:08:08.365Z"
   },
   {
    "duration": 2304,
    "start_time": "2021-12-07T19:08:14.965Z"
   },
   {
    "duration": 1175,
    "start_time": "2021-12-07T19:08:58.174Z"
   },
   {
    "duration": 1404,
    "start_time": "2021-12-07T19:09:30.035Z"
   },
   {
    "duration": 2138,
    "start_time": "2021-12-07T19:10:34.808Z"
   },
   {
    "duration": 87,
    "start_time": "2021-12-07T19:11:23.448Z"
   },
   {
    "duration": 88,
    "start_time": "2021-12-07T19:11:31.095Z"
   },
   {
    "duration": 1458,
    "start_time": "2021-12-07T19:11:37.296Z"
   },
   {
    "duration": 254,
    "start_time": "2021-12-07T19:14:51.437Z"
   },
   {
    "duration": 5,
    "start_time": "2021-12-07T19:15:25.777Z"
   },
   {
    "duration": 6,
    "start_time": "2021-12-07T19:15:47.626Z"
   },
   {
    "duration": 12,
    "start_time": "2021-12-07T19:21:06.452Z"
   },
   {
    "duration": 757,
    "start_time": "2021-12-07T19:21:09.723Z"
   },
   {
    "duration": 142,
    "start_time": "2021-12-08T17:10:59.882Z"
   },
   {
    "duration": 127,
    "start_time": "2021-12-08T17:12:33.268Z"
   },
   {
    "duration": 606,
    "start_time": "2021-12-08T17:12:43.210Z"
   },
   {
    "duration": 936,
    "start_time": "2021-12-08T17:12:55.278Z"
   },
   {
    "duration": 2053,
    "start_time": "2021-12-08T17:13:08.947Z"
   },
   {
    "duration": 1744,
    "start_time": "2021-12-08T17:13:25.140Z"
   },
   {
    "duration": 177,
    "start_time": "2021-12-08T17:24:50.228Z"
   },
   {
    "duration": 487,
    "start_time": "2021-12-08T17:24:56.127Z"
   },
   {
    "duration": 1787,
    "start_time": "2021-12-08T17:25:02.961Z"
   },
   {
    "duration": 9,
    "start_time": "2021-12-08T17:26:57.793Z"
   },
   {
    "duration": 22,
    "start_time": "2021-12-08T17:29:48.554Z"
   },
   {
    "duration": 24,
    "start_time": "2021-12-08T17:32:03.070Z"
   },
   {
    "duration": 15,
    "start_time": "2021-12-08T17:32:25.677Z"
   },
   {
    "duration": 18,
    "start_time": "2021-12-08T17:32:34.732Z"
   },
   {
    "duration": 26,
    "start_time": "2021-12-08T17:34:58.917Z"
   },
   {
    "duration": 29,
    "start_time": "2021-12-08T17:49:18.886Z"
   },
   {
    "duration": 81,
    "start_time": "2021-12-08T17:49:54.596Z"
   },
   {
    "duration": 14,
    "start_time": "2021-12-08T17:49:57.340Z"
   },
   {
    "duration": 47,
    "start_time": "2021-12-08T17:49:59.235Z"
   },
   {
    "duration": 5,
    "start_time": "2021-12-08T17:50:04.770Z"
   },
   {
    "duration": 5,
    "start_time": "2021-12-08T17:50:08.218Z"
   },
   {
    "duration": 26,
    "start_time": "2021-12-08T17:50:11.155Z"
   },
   {
    "duration": 5,
    "start_time": "2021-12-08T17:50:14.658Z"
   },
   {
    "duration": 7,
    "start_time": "2021-12-08T17:50:18.699Z"
   },
   {
    "duration": 23,
    "start_time": "2021-12-08T17:50:20.963Z"
   },
   {
    "duration": 31,
    "start_time": "2021-12-08T17:50:24.227Z"
   },
   {
    "duration": 30,
    "start_time": "2021-12-08T17:50:41.212Z"
   },
   {
    "duration": 35,
    "start_time": "2021-12-08T17:50:50.156Z"
   },
   {
    "duration": 35,
    "start_time": "2021-12-08T17:51:05.436Z"
   },
   {
    "duration": 35,
    "start_time": "2021-12-08T17:59:57.842Z"
   },
   {
    "duration": 10,
    "start_time": "2021-12-08T18:25:28.486Z"
   },
   {
    "duration": 5547,
    "start_time": "2021-12-08T18:28:33.914Z"
   },
   {
    "duration": 171,
    "start_time": "2021-12-08T18:46:54.490Z"
   },
   {
    "duration": 5614,
    "start_time": "2021-12-08T18:47:11.587Z"
   },
   {
    "duration": 4506,
    "start_time": "2021-12-08T18:47:39.687Z"
   },
   {
    "duration": 182,
    "start_time": "2021-12-08T18:47:58.046Z"
   },
   {
    "duration": 4541,
    "start_time": "2021-12-08T18:48:12.751Z"
   },
   {
    "duration": 4511,
    "start_time": "2021-12-08T18:48:26.401Z"
   },
   {
    "duration": 4820,
    "start_time": "2021-12-08T18:48:38.584Z"
   },
   {
    "duration": 4552,
    "start_time": "2021-12-08T18:49:10.200Z"
   },
   {
    "duration": 4125,
    "start_time": "2021-12-08T18:52:27.562Z"
   },
   {
    "duration": 5003,
    "start_time": "2021-12-08T18:58:41.157Z"
   },
   {
    "duration": 1025,
    "start_time": "2021-12-08T19:01:25.768Z"
   },
   {
    "duration": 4732,
    "start_time": "2021-12-08T19:01:32.501Z"
   },
   {
    "duration": 4180,
    "start_time": "2021-12-08T19:01:57.728Z"
   },
   {
    "duration": 4091,
    "start_time": "2021-12-08T19:05:29.870Z"
   },
   {
    "duration": 3970,
    "start_time": "2021-12-08T19:06:55.905Z"
   },
   {
    "duration": 30,
    "start_time": "2021-12-08T19:29:23.686Z"
   },
   {
    "duration": 30,
    "start_time": "2021-12-08T19:29:32.012Z"
   },
   {
    "duration": 1111,
    "start_time": "2021-12-08T19:40:24.459Z"
   },
   {
    "duration": 146,
    "start_time": "2021-12-08T19:41:14.890Z"
   },
   {
    "duration": 298,
    "start_time": "2021-12-08T19:41:25.908Z"
   },
   {
    "duration": 145,
    "start_time": "2021-12-08T19:43:28.931Z"
   },
   {
    "duration": 50,
    "start_time": "2021-12-08T19:47:31.949Z"
   },
   {
    "duration": 130,
    "start_time": "2021-12-08T19:48:45.246Z"
   },
   {
    "duration": 235,
    "start_time": "2021-12-08T19:49:10.622Z"
   },
   {
    "duration": 149,
    "start_time": "2021-12-08T19:49:23.957Z"
   },
   {
    "duration": 126,
    "start_time": "2021-12-08T19:49:31.430Z"
   },
   {
    "duration": 122,
    "start_time": "2021-12-08T19:51:29.312Z"
   },
   {
    "duration": 43,
    "start_time": "2021-12-08T19:51:36.486Z"
   },
   {
    "duration": 182,
    "start_time": "2021-12-08T19:51:57.428Z"
   },
   {
    "duration": 556,
    "start_time": "2021-12-08T19:52:03.952Z"
   },
   {
    "duration": 441,
    "start_time": "2021-12-08T19:52:34.290Z"
   },
   {
    "duration": 87,
    "start_time": "2021-12-08T19:52:45.313Z"
   },
   {
    "duration": 42,
    "start_time": "2021-12-08T19:53:11.320Z"
   },
   {
    "duration": 42,
    "start_time": "2021-12-08T19:56:38.682Z"
   },
   {
    "duration": 442,
    "start_time": "2021-12-08T20:05:37.504Z"
   },
   {
    "duration": 42,
    "start_time": "2021-12-08T20:05:56.050Z"
   },
   {
    "duration": 454,
    "start_time": "2021-12-08T20:06:39.001Z"
   },
   {
    "duration": 487,
    "start_time": "2021-12-08T20:06:47.113Z"
   },
   {
    "duration": 43,
    "start_time": "2021-12-08T20:07:07.640Z"
   },
   {
    "duration": 60,
    "start_time": "2021-12-08T20:07:19.599Z"
   },
   {
    "duration": 47,
    "start_time": "2021-12-08T20:12:13.236Z"
   },
   {
    "duration": 170,
    "start_time": "2021-12-08T20:19:37.528Z"
   },
   {
    "duration": 150,
    "start_time": "2021-12-08T20:19:49.237Z"
   },
   {
    "duration": 139,
    "start_time": "2021-12-08T20:20:01.398Z"
   },
   {
    "duration": 149,
    "start_time": "2021-12-08T20:20:50.073Z"
   },
   {
    "duration": 160,
    "start_time": "2021-12-08T20:21:00.991Z"
   },
   {
    "duration": 524,
    "start_time": "2021-12-08T20:21:26.536Z"
   },
   {
    "duration": 44,
    "start_time": "2021-12-08T20:21:38.271Z"
   },
   {
    "duration": 50,
    "start_time": "2021-12-08T20:24:00.979Z"
   },
   {
    "duration": 45,
    "start_time": "2021-12-08T20:24:15.888Z"
   },
   {
    "duration": 47,
    "start_time": "2021-12-08T20:24:25.466Z"
   },
   {
    "duration": 163,
    "start_time": "2021-12-08T20:24:45.264Z"
   },
   {
    "duration": 42,
    "start_time": "2021-12-08T20:24:52.736Z"
   },
   {
    "duration": 44,
    "start_time": "2021-12-08T20:25:00.139Z"
   },
   {
    "duration": 415,
    "start_time": "2021-12-08T20:26:51.527Z"
   },
   {
    "duration": 476,
    "start_time": "2021-12-08T20:26:59.730Z"
   },
   {
    "duration": 154,
    "start_time": "2021-12-08T20:27:19.490Z"
   },
   {
    "duration": 155,
    "start_time": "2021-12-08T20:27:41.307Z"
   },
   {
    "duration": 435,
    "start_time": "2021-12-08T20:27:46.202Z"
   },
   {
    "duration": 46,
    "start_time": "2021-12-08T20:28:03.556Z"
   },
   {
    "duration": 675,
    "start_time": "2021-12-08T20:30:38.309Z"
   },
   {
    "duration": 104,
    "start_time": "2021-12-08T20:30:54.717Z"
   },
   {
    "duration": 47,
    "start_time": "2021-12-08T20:30:58.035Z"
   },
   {
    "duration": 5,
    "start_time": "2021-12-08T20:31:02.299Z"
   },
   {
    "duration": 6,
    "start_time": "2021-12-08T20:31:04.595Z"
   },
   {
    "duration": 22,
    "start_time": "2021-12-08T20:31:06.684Z"
   },
   {
    "duration": 6,
    "start_time": "2021-12-08T20:31:09.387Z"
   },
   {
    "duration": 7,
    "start_time": "2021-12-08T20:31:12.306Z"
   },
   {
    "duration": 22,
    "start_time": "2021-12-08T20:31:14.706Z"
   },
   {
    "duration": 32,
    "start_time": "2021-12-08T20:31:17.435Z"
   },
   {
    "duration": 52,
    "start_time": "2021-12-08T20:31:21.212Z"
   },
   {
    "duration": 11,
    "start_time": "2021-12-08T20:31:25.363Z"
   },
   {
    "duration": 24,
    "start_time": "2021-12-08T20:31:28.588Z"
   },
   {
    "duration": 25,
    "start_time": "2021-12-08T20:31:32.955Z"
   },
   {
    "duration": 17,
    "start_time": "2021-12-08T20:31:39.427Z"
   },
   {
    "duration": 24,
    "start_time": "2021-12-08T20:31:46.899Z"
   },
   {
    "duration": 45,
    "start_time": "2021-12-08T20:32:03.044Z"
   },
   {
    "duration": 10,
    "start_time": "2021-12-08T20:32:06.420Z"
   },
   {
    "duration": 8,
    "start_time": "2021-12-08T20:32:09.052Z"
   },
   {
    "duration": 6,
    "start_time": "2021-12-08T20:32:12.699Z"
   },
   {
    "duration": 10,
    "start_time": "2021-12-08T20:32:15.660Z"
   },
   {
    "duration": 12,
    "start_time": "2021-12-08T20:32:18.651Z"
   },
   {
    "duration": 8,
    "start_time": "2021-12-08T20:32:23.012Z"
   },
   {
    "duration": 6,
    "start_time": "2021-12-08T20:32:26.956Z"
   },
   {
    "duration": 926,
    "start_time": "2021-12-08T20:32:33.625Z"
   },
   {
    "duration": 396,
    "start_time": "2021-12-08T20:32:43.208Z"
   },
   {
    "duration": 7,
    "start_time": "2021-12-08T20:33:00.805Z"
   },
   {
    "duration": 33,
    "start_time": "2021-12-08T20:33:06.974Z"
   },
   {
    "duration": 47,
    "start_time": "2021-12-08T20:33:22.473Z"
   },
   {
    "duration": 41,
    "start_time": "2021-12-08T20:33:35.101Z"
   },
   {
    "duration": 39,
    "start_time": "2021-12-08T20:33:43.093Z"
   },
   {
    "duration": 38,
    "start_time": "2021-12-08T20:33:50.581Z"
   },
   {
    "duration": 42,
    "start_time": "2021-12-08T20:33:58.574Z"
   },
   {
    "duration": 54,
    "start_time": "2021-12-08T20:34:13.748Z"
   },
   {
    "duration": 40,
    "start_time": "2021-12-08T20:34:23.128Z"
   },
   {
    "duration": 40,
    "start_time": "2021-12-08T20:34:36.333Z"
   },
   {
    "duration": 41,
    "start_time": "2021-12-08T20:34:48.275Z"
   },
   {
    "duration": -1693,
    "start_time": "2021-12-08T20:39:49.692Z"
   },
   {
    "duration": 9734,
    "start_time": "2021-12-08T20:39:51.615Z"
   },
   {
    "duration": 10921,
    "start_time": "2021-12-08T20:40:40.403Z"
   },
   {
    "duration": 20,
    "start_time": "2021-12-08T20:41:10.356Z"
   },
   {
    "duration": 123,
    "start_time": "2021-12-08T20:43:55.156Z"
   },
   {
    "duration": 18,
    "start_time": "2021-12-08T20:44:14.482Z"
   },
   {
    "duration": 16,
    "start_time": "2021-12-08T20:44:42.128Z"
   },
   {
    "duration": 407,
    "start_time": "2021-12-08T20:45:03.898Z"
   },
   {
    "duration": 21,
    "start_time": "2021-12-08T20:45:28.260Z"
   },
   {
    "duration": 134,
    "start_time": "2021-12-08T20:45:48.475Z"
   },
   {
    "duration": 147,
    "start_time": "2021-12-08T20:46:25.819Z"
   },
   {
    "duration": 170,
    "start_time": "2021-12-08T20:46:31.773Z"
   },
   {
    "duration": 13,
    "start_time": "2021-12-08T20:46:41.783Z"
   },
   {
    "duration": 12,
    "start_time": "2021-12-08T20:47:24.901Z"
   },
   {
    "duration": 2262,
    "start_time": "2021-12-08T20:47:37.372Z"
   },
   {
    "duration": 15,
    "start_time": "2021-12-08T20:47:55.473Z"
   },
   {
    "duration": 123,
    "start_time": "2021-12-08T20:49:21.903Z"
   },
   {
    "duration": 451,
    "start_time": "2021-12-08T20:49:28.997Z"
   },
   {
    "duration": 45,
    "start_time": "2021-12-08T20:50:19.279Z"
   },
   {
    "duration": 132,
    "start_time": "2021-12-08T20:53:43.489Z"
   },
   {
    "duration": 160,
    "start_time": "2021-12-08T20:53:55.162Z"
   },
   {
    "duration": 136,
    "start_time": "2021-12-08T20:53:59.375Z"
   },
   {
    "duration": 133,
    "start_time": "2021-12-08T20:54:04.122Z"
   },
   {
    "duration": 145,
    "start_time": "2021-12-08T20:54:19.558Z"
   },
   {
    "duration": 150,
    "start_time": "2021-12-08T20:54:27.847Z"
   },
   {
    "duration": 164,
    "start_time": "2021-12-08T20:54:50.968Z"
   },
   {
    "duration": 411,
    "start_time": "2021-12-08T20:54:59.007Z"
   },
   {
    "duration": 136,
    "start_time": "2021-12-08T20:55:28.840Z"
   },
   {
    "duration": 134,
    "start_time": "2021-12-08T20:55:45.649Z"
   },
   {
    "duration": 446,
    "start_time": "2021-12-08T20:55:57.441Z"
   },
   {
    "duration": 478,
    "start_time": "2021-12-08T20:56:15.888Z"
   },
   {
    "duration": 35,
    "start_time": "2021-12-08T20:56:30.303Z"
   },
   {
    "duration": 36,
    "start_time": "2021-12-08T20:56:44.290Z"
   },
   {
    "duration": 36,
    "start_time": "2021-12-08T20:56:53.496Z"
   },
   {
    "duration": 55,
    "start_time": "2021-12-08T20:57:51.113Z"
   },
   {
    "duration": 39,
    "start_time": "2021-12-08T20:58:16.897Z"
   },
   {
    "duration": 219,
    "start_time": "2021-12-08T20:58:33.890Z"
   },
   {
    "duration": 133,
    "start_time": "2021-12-08T20:58:46.985Z"
   },
   {
    "duration": 40,
    "start_time": "2021-12-08T20:59:03.778Z"
   },
   {
    "duration": 36,
    "start_time": "2021-12-08T20:59:43.010Z"
   },
   {
    "duration": 38,
    "start_time": "2021-12-08T20:59:50.654Z"
   },
   {
    "duration": 40,
    "start_time": "2021-12-08T21:00:28.788Z"
   },
   {
    "duration": 45,
    "start_time": "2021-12-08T21:03:13.397Z"
   },
   {
    "duration": 9,
    "start_time": "2021-12-08T21:08:29.694Z"
   },
   {
    "duration": 10,
    "start_time": "2021-12-08T21:09:54.878Z"
   },
   {
    "duration": 7,
    "start_time": "2021-12-08T21:10:25.943Z"
   },
   {
    "duration": 33,
    "start_time": "2021-12-08T21:14:35.847Z"
   },
   {
    "duration": 26,
    "start_time": "2021-12-08T21:15:13.147Z"
   },
   {
    "duration": 45,
    "start_time": "2021-12-08T21:15:26.474Z"
   },
   {
    "duration": 23,
    "start_time": "2021-12-08T21:17:52.100Z"
   },
   {
    "duration": 43,
    "start_time": "2021-12-08T21:17:57.347Z"
   },
   {
    "duration": 44,
    "start_time": "2021-12-08T21:24:02.489Z"
   },
   {
    "duration": 139,
    "start_time": "2021-12-08T21:31:32.101Z"
   },
   {
    "duration": 65,
    "start_time": "2021-12-08T21:31:38.777Z"
   },
   {
    "duration": 114,
    "start_time": "2021-12-08T21:31:42.627Z"
   },
   {
    "duration": 22,
    "start_time": "2021-12-08T21:31:44.699Z"
   },
   {
    "duration": 80,
    "start_time": "2021-12-08T21:31:47.050Z"
   },
   {
    "duration": 6,
    "start_time": "2021-12-08T21:31:51.601Z"
   },
   {
    "duration": 5,
    "start_time": "2021-12-08T21:31:53.849Z"
   },
   {
    "duration": 15,
    "start_time": "2021-12-08T21:31:56.890Z"
   },
   {
    "duration": 5,
    "start_time": "2021-12-08T21:31:59.994Z"
   },
   {
    "duration": 7,
    "start_time": "2021-12-08T21:32:03.803Z"
   },
   {
    "duration": 22,
    "start_time": "2021-12-08T21:32:06.281Z"
   },
   {
    "duration": 35,
    "start_time": "2021-12-08T21:32:11.273Z"
   },
   {
    "duration": 53,
    "start_time": "2021-12-08T21:32:16.921Z"
   },
   {
    "duration": 11,
    "start_time": "2021-12-08T21:32:18.545Z"
   },
   {
    "duration": 24,
    "start_time": "2021-12-08T21:32:25.361Z"
   },
   {
    "duration": 25,
    "start_time": "2021-12-08T21:32:29.409Z"
   },
   {
    "duration": 21,
    "start_time": "2021-12-08T21:32:46.192Z"
   },
   {
    "duration": 23,
    "start_time": "2021-12-08T21:32:51.984Z"
   },
   {
    "duration": 45,
    "start_time": "2021-12-08T21:32:52.826Z"
   },
   {
    "duration": 10,
    "start_time": "2021-12-08T21:32:56.801Z"
   },
   {
    "duration": 8,
    "start_time": "2021-12-08T21:32:59.265Z"
   },
   {
    "duration": 6,
    "start_time": "2021-12-08T21:33:03.722Z"
   },
   {
    "duration": 10,
    "start_time": "2021-12-08T21:33:08.432Z"
   },
   {
    "duration": 13,
    "start_time": "2021-12-08T21:33:11.144Z"
   },
   {
    "duration": 8,
    "start_time": "2021-12-08T21:33:15.130Z"
   },
   {
    "duration": 6,
    "start_time": "2021-12-08T21:33:18.410Z"
   },
   {
    "duration": 1050,
    "start_time": "2021-12-08T21:33:21.298Z"
   },
   {
    "duration": 8,
    "start_time": "2021-12-08T21:33:25.922Z"
   },
   {
    "duration": 45,
    "start_time": "2021-12-08T21:33:29.515Z"
   },
   {
    "duration": 63,
    "start_time": "2021-12-08T21:33:34.260Z"
   },
   {
    "duration": 68,
    "start_time": "2021-12-08T21:33:38.330Z"
   },
   {
    "duration": 41,
    "start_time": "2021-12-08T21:33:45.243Z"
   },
   {
    "duration": 49,
    "start_time": "2021-12-08T21:33:52.818Z"
   },
   {
    "duration": 47,
    "start_time": "2021-12-08T21:33:56.395Z"
   },
   {
    "duration": 666,
    "start_time": "2021-12-09T09:04:26.671Z"
   },
   {
    "duration": 10,
    "start_time": "2021-12-09T09:04:27.340Z"
   },
   {
    "duration": 36,
    "start_time": "2021-12-09T09:04:27.353Z"
   },
   {
    "duration": 7,
    "start_time": "2021-12-09T09:04:27.392Z"
   },
   {
    "duration": 30,
    "start_time": "2021-12-09T09:04:27.401Z"
   },
   {
    "duration": 37,
    "start_time": "2021-12-09T09:04:27.433Z"
   },
   {
    "duration": 24,
    "start_time": "2021-12-09T09:04:27.472Z"
   },
   {
    "duration": 26,
    "start_time": "2021-12-09T09:04:27.498Z"
   },
   {
    "duration": 32,
    "start_time": "2021-12-09T09:04:27.526Z"
   },
   {
    "duration": 34,
    "start_time": "2021-12-09T09:04:27.560Z"
   },
   {
    "duration": 48,
    "start_time": "2021-12-09T09:04:27.596Z"
   },
   {
    "duration": 7,
    "start_time": "2021-12-09T09:04:27.646Z"
   },
   {
    "duration": 33,
    "start_time": "2021-12-09T09:04:27.654Z"
   },
   {
    "duration": 26,
    "start_time": "2021-12-09T09:04:27.689Z"
   },
   {
    "duration": 15,
    "start_time": "2021-12-09T09:04:27.717Z"
   },
   {
    "duration": 45,
    "start_time": "2021-12-09T09:04:27.734Z"
   },
   {
    "duration": 34,
    "start_time": "2021-12-09T09:04:27.781Z"
   },
   {
    "duration": 6,
    "start_time": "2021-12-09T09:04:27.817Z"
   },
   {
    "duration": 20,
    "start_time": "2021-12-09T09:04:27.825Z"
   },
   {
    "duration": 19,
    "start_time": "2021-12-09T09:04:27.846Z"
   },
   {
    "duration": 10,
    "start_time": "2021-12-09T09:04:27.867Z"
   },
   {
    "duration": 12,
    "start_time": "2021-12-09T09:04:27.879Z"
   },
   {
    "duration": 5,
    "start_time": "2021-12-09T09:04:27.894Z"
   },
   {
    "duration": 17,
    "start_time": "2021-12-09T09:04:27.901Z"
   },
   {
    "duration": 667,
    "start_time": "2021-12-09T09:04:27.920Z"
   },
   {
    "duration": 5,
    "start_time": "2021-12-09T09:04:28.589Z"
   },
   {
    "duration": 31,
    "start_time": "2021-12-09T09:04:28.596Z"
   },
   {
    "duration": 961,
    "start_time": "2021-12-09T09:04:28.628Z"
   },
   {
    "duration": 34,
    "start_time": "2021-12-09T09:04:29.591Z"
   },
   {
    "duration": 21,
    "start_time": "2021-12-09T09:04:29.626Z"
   },
   {
    "duration": 30,
    "start_time": "2021-12-09T09:04:29.664Z"
   },
   {
    "duration": 47,
    "start_time": "2021-12-09T09:04:29.696Z"
   },
   {
    "duration": 31,
    "start_time": "2021-12-09T09:06:03.995Z"
   }
  ],
  "kernelspec": {
   "display_name": "Python 3",
   "language": "python",
   "name": "python3"
  },
  "language_info": {
   "codemirror_mode": {
    "name": "ipython",
    "version": 3
   },
   "file_extension": ".py",
   "mimetype": "text/x-python",
   "name": "python",
   "nbconvert_exporter": "python",
   "pygments_lexer": "ipython3",
   "version": "3.7.3"
  },
  "toc": {
   "base_numbering": 1,
   "nav_menu": {},
   "number_sections": true,
   "sideBar": true,
   "skip_h1_title": true,
   "title_cell": "Table of Contents",
   "title_sidebar": "Contents",
   "toc_cell": false,
   "toc_position": {},
   "toc_section_display": true,
   "toc_window_display": false
  }
 },
 "nbformat": 4,
 "nbformat_minor": 2
}
