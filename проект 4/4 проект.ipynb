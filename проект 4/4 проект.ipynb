{
 "cells": [
  {
   "cell_type": "markdown",
   "metadata": {
    "toc": true
   },
   "source": [
    "<h1>Содержание<span class=\"tocSkip\"></span></h1>\n",
    "<div class=\"toc\"><ul class=\"toc-item\"><li><span><a href=\"#Изучение-данных\" data-toc-modified-id=\"Изучение-данных-1\"><span class=\"toc-item-num\">1&nbsp;&nbsp;</span>Изучение данных</a></span><ul class=\"toc-item\"><li><span><a href=\"#Вывод\" data-toc-modified-id=\"Вывод-1.1\"><span class=\"toc-item-num\">1.1&nbsp;&nbsp;</span>Вывод</a></span></li></ul></li><li><span><a href=\"#Предобработка-данных\" data-toc-modified-id=\"Предобработка-данных-2\"><span class=\"toc-item-num\">2&nbsp;&nbsp;</span>Предобработка данных</a></span><ul class=\"toc-item\"><li><span><a href=\"#Приведение-названий-столбцов-к-нижнему-регистру\" data-toc-modified-id=\"Приведение-названий-столбцов-к-нижнему-регистру-2.1\"><span class=\"toc-item-num\">2.1&nbsp;&nbsp;</span>Приведение названий столбцов к нижнему регистру</a></span></li><li><span><a href=\"#Поиск-дубликатов\" data-toc-modified-id=\"Поиск-дубликатов-2.2\"><span class=\"toc-item-num\">2.2&nbsp;&nbsp;</span>Поиск дубликатов</a></span></li><li><span><a href=\"#Обработка-пропусков\" data-toc-modified-id=\"Обработка-пропусков-2.3\"><span class=\"toc-item-num\">2.3&nbsp;&nbsp;</span>Обработка пропусков</a></span></li><li><span><a href=\"#Изменение-типа-данных\" data-toc-modified-id=\"Изменение-типа-данных-2.4\"><span class=\"toc-item-num\">2.4&nbsp;&nbsp;</span>Изменение типа данных</a></span></li><li><span><a href=\"#Добавление-расчетных-значений\" data-toc-modified-id=\"Добавление-расчетных-значений-2.5\"><span class=\"toc-item-num\">2.5&nbsp;&nbsp;</span>Добавление расчетных значений</a></span></li></ul></li><li><span><a href=\"#Исследовательский-анализ-данных\" data-toc-modified-id=\"Исследовательский-анализ-данных-3\"><span class=\"toc-item-num\">3&nbsp;&nbsp;</span>Исследовательский анализ данных</a></span><ul class=\"toc-item\"><li><span><a href=\"#Выпуск-игр-по-годам\" data-toc-modified-id=\"Выпуск-игр-по-годам-3.1\"><span class=\"toc-item-num\">3.1&nbsp;&nbsp;</span>Выпуск игр по годам</a></span></li><li><span><a href=\"#Продажи-по-платформам\" data-toc-modified-id=\"Продажи-по-платформам-3.2\"><span class=\"toc-item-num\">3.2&nbsp;&nbsp;</span>Продажи по платформам</a></span><ul class=\"toc-item\"><li><span><a href=\"#Вывод\" data-toc-modified-id=\"Вывод-3.2.1\"><span class=\"toc-item-num\">3.2.1&nbsp;&nbsp;</span>Вывод</a></span></li></ul></li><li><span><a href=\"#Глобальные-продажи-игр-по-выбранным-платформам\" data-toc-modified-id=\"Глобальные-продажи-игр-по-выбранным-платформам-3.3\"><span class=\"toc-item-num\">3.3&nbsp;&nbsp;</span>Глобальные продажи игр по выбранным платформам</a></span></li><li><span><a href=\"#Влияние-отзывов-на-продажи-на-популярных-платформах\" data-toc-modified-id=\"Влияние-отзывов-на-продажи-на-популярных-платформах-3.4\"><span class=\"toc-item-num\">3.4&nbsp;&nbsp;</span>Влияние отзывов на продажи на популярных платформах</a></span><ul class=\"toc-item\"><li><span><a href=\"#Отзывы-пользователей\" data-toc-modified-id=\"Отзывы-пользователей-3.4.1\"><span class=\"toc-item-num\">3.4.1&nbsp;&nbsp;</span>Отзывы пользователей</a></span></li><li><span><a href=\"#Отзывы-критиков\" data-toc-modified-id=\"Отзывы-критиков-3.4.2\"><span class=\"toc-item-num\">3.4.2&nbsp;&nbsp;</span>Отзывы критиков</a></span></li><li><span><a href=\"#Вывод\" data-toc-modified-id=\"Вывод-3.4.3\"><span class=\"toc-item-num\">3.4.3&nbsp;&nbsp;</span>Вывод</a></span></li></ul></li><li><span><a href=\"#Общее-распределение-игр-по-жанрам\" data-toc-modified-id=\"Общее-распределение-игр-по-жанрам-3.5\"><span class=\"toc-item-num\">3.5&nbsp;&nbsp;</span>Общее распределение игр по жанрам</a></span></li></ul></li><li><span><a href=\"#Портрет-пользователя-по-регионам\" data-toc-modified-id=\"Портрет-пользователя-по-регионам-4\"><span class=\"toc-item-num\">4&nbsp;&nbsp;</span>Портрет пользователя по регионам</a></span><ul class=\"toc-item\"><li><span><a href=\"#Популярные-платформы\" data-toc-modified-id=\"Популярные-платформы-4.1\"><span class=\"toc-item-num\">4.1&nbsp;&nbsp;</span>Популярные платформы</a></span><ul class=\"toc-item\"><li><span><a href=\"#Северная-Америка\" data-toc-modified-id=\"Северная-Америка-4.1.1\"><span class=\"toc-item-num\">4.1.1&nbsp;&nbsp;</span>Северная Америка</a></span></li><li><span><a href=\"#Европа\" data-toc-modified-id=\"Европа-4.1.2\"><span class=\"toc-item-num\">4.1.2&nbsp;&nbsp;</span>Европа</a></span></li><li><span><a href=\"#Япония\" data-toc-modified-id=\"Япония-4.1.3\"><span class=\"toc-item-num\">4.1.3&nbsp;&nbsp;</span>Япония</a></span></li><li><span><a href=\"#Вывод\" data-toc-modified-id=\"Вывод-4.1.4\"><span class=\"toc-item-num\">4.1.4&nbsp;&nbsp;</span>Вывод</a></span></li></ul></li><li><span><a href=\"#Популярные-жанры\" data-toc-modified-id=\"Популярные-жанры-4.2\"><span class=\"toc-item-num\">4.2&nbsp;&nbsp;</span>Популярные жанры</a></span><ul class=\"toc-item\"><li><span><a href=\"#Северная-Америка\" data-toc-modified-id=\"Северная-Америка-4.2.1\"><span class=\"toc-item-num\">4.2.1&nbsp;&nbsp;</span>Северная Америка</a></span></li><li><span><a href=\"#Европа\" data-toc-modified-id=\"Европа-4.2.2\"><span class=\"toc-item-num\">4.2.2&nbsp;&nbsp;</span>Европа</a></span></li><li><span><a href=\"#Япония\" data-toc-modified-id=\"Япония-4.2.3\"><span class=\"toc-item-num\">4.2.3&nbsp;&nbsp;</span>Япония</a></span></li><li><span><a href=\"#Вывод\" data-toc-modified-id=\"Вывод-4.2.4\"><span class=\"toc-item-num\">4.2.4&nbsp;&nbsp;</span>Вывод</a></span></li></ul></li><li><span><a href=\"#Влияние-рейтинга\" data-toc-modified-id=\"Влияние-рейтинга-4.3\"><span class=\"toc-item-num\">4.3&nbsp;&nbsp;</span>Влияние рейтинга</a></span><ul class=\"toc-item\"><li><span><a href=\"#Северная-Америка\" data-toc-modified-id=\"Северная-Америка-4.3.1\"><span class=\"toc-item-num\">4.3.1&nbsp;&nbsp;</span>Северная Америка</a></span></li><li><span><a href=\"#Европа\" data-toc-modified-id=\"Европа-4.3.2\"><span class=\"toc-item-num\">4.3.2&nbsp;&nbsp;</span>Европа</a></span></li><li><span><a href=\"#Япония\" data-toc-modified-id=\"Япония-4.3.3\"><span class=\"toc-item-num\">4.3.3&nbsp;&nbsp;</span>Япония</a></span></li><li><span><a href=\"#Вывод\" data-toc-modified-id=\"Вывод-4.3.4\"><span class=\"toc-item-num\">4.3.4&nbsp;&nbsp;</span>Вывод</a></span></li></ul></li><li><span><a href=\"#Вывод\" data-toc-modified-id=\"Вывод-4.4\"><span class=\"toc-item-num\">4.4&nbsp;&nbsp;</span>Вывод</a></span></li></ul></li><li><span><a href=\"#Проверка-гипотез\" data-toc-modified-id=\"Проверка-гипотез-5\"><span class=\"toc-item-num\">5&nbsp;&nbsp;</span>Проверка гипотез</a></span><ul class=\"toc-item\"><li><span><a href=\"#Средние-пользовательские-рейтинги-платформ-Xbox-One-и-PC-одинаковые\" data-toc-modified-id=\"Средние-пользовательские-рейтинги-платформ-Xbox-One-и-PC-одинаковые-5.1\"><span class=\"toc-item-num\">5.1&nbsp;&nbsp;</span>Средние пользовательские рейтинги платформ Xbox One и PC одинаковые</a></span></li><li><span><a href=\"#Средние-пользовательские-рейтинги-жанров-Action-и-Sports-разные\" data-toc-modified-id=\"Средние-пользовательские-рейтинги-жанров-Action-и-Sports-разные-5.2\"><span class=\"toc-item-num\">5.2&nbsp;&nbsp;</span>Средние пользовательские рейтинги жанров Action и Sports разные</a></span></li></ul></li><li><span><a href=\"#Вывод\" data-toc-modified-id=\"Вывод-6\"><span class=\"toc-item-num\">6&nbsp;&nbsp;</span>Вывод</a></span></li></ul></div>"
   ]
  },
  {
   "cell_type": "markdown",
   "metadata": {},
   "source": [
    "# Определение потенциально популярного продукта"
   ]
  },
  {
   "cell_type": "markdown",
   "metadata": {},
   "source": [
    " Из открытых источников доступны исторические данные о продажах игр, оценки пользователей и экспертов, жанры и платформы. \n",
    " Задача: выявить определяющие успешность игры закономерности. "
   ]
  },
  {
   "cell_type": "markdown",
   "metadata": {},
   "source": [
    "**Описание данных**\n",
    "* Name — название игры\n",
    "* Platform — платформа\n",
    "* Year_of_Release — год выпуска\n",
    "* Genre — жанр игры\n",
    "* NA_sales — продажи в Северной Америке (миллионы проданных копий)\n",
    "* EU_sales — продажи в Европе (миллионы проданных копий)\n",
    "* JP_sales — продажи в Японии (миллионы проданных копий)\n",
    "* Other_sales — продажи в других странах (миллионы проданных копий)\n",
    "* Critic_Score — оценка критиков (максимум 100)\n",
    "* User_Score — оценка пользователей (максимум 10)\n",
    "* Rating — рейтинг от организации ESRB (англ. Entertainment Software Rating Board). Эта ассоциация определяет рейтинг компьютерных игр и присваивает им подходящую возрастную категорию.\n"
   ]
  },
  {
   "cell_type": "code",
   "execution_count": 1,
   "metadata": {},
   "outputs": [],
   "source": [
    "import pandas as pd\n",
    "import matplotlib.pyplot as plt \n",
    "import seaborn as sns\n",
    "from scipy import stats as st\n",
    "import numpy as np"
   ]
  },
  {
   "cell_type": "markdown",
   "metadata": {},
   "source": [
    "## Изучение данных"
   ]
  },
  {
   "cell_type": "code",
   "execution_count": 2,
   "metadata": {},
   "outputs": [
    {
     "data": {
      "text/html": [
       "<div>\n",
       "<style scoped>\n",
       "    .dataframe tbody tr th:only-of-type {\n",
       "        vertical-align: middle;\n",
       "    }\n",
       "\n",
       "    .dataframe tbody tr th {\n",
       "        vertical-align: top;\n",
       "    }\n",
       "\n",
       "    .dataframe thead th {\n",
       "        text-align: right;\n",
       "    }\n",
       "</style>\n",
       "<table border=\"1\" class=\"dataframe\">\n",
       "  <thead>\n",
       "    <tr style=\"text-align: right;\">\n",
       "      <th></th>\n",
       "      <th>Name</th>\n",
       "      <th>Platform</th>\n",
       "      <th>Year_of_Release</th>\n",
       "      <th>Genre</th>\n",
       "      <th>NA_sales</th>\n",
       "      <th>EU_sales</th>\n",
       "      <th>JP_sales</th>\n",
       "      <th>Other_sales</th>\n",
       "      <th>Critic_Score</th>\n",
       "      <th>User_Score</th>\n",
       "      <th>Rating</th>\n",
       "    </tr>\n",
       "  </thead>\n",
       "  <tbody>\n",
       "    <tr>\n",
       "      <td>0</td>\n",
       "      <td>Wii Sports</td>\n",
       "      <td>Wii</td>\n",
       "      <td>2006.0</td>\n",
       "      <td>Sports</td>\n",
       "      <td>41.36</td>\n",
       "      <td>28.96</td>\n",
       "      <td>3.77</td>\n",
       "      <td>8.45</td>\n",
       "      <td>76.0</td>\n",
       "      <td>8</td>\n",
       "      <td>E</td>\n",
       "    </tr>\n",
       "    <tr>\n",
       "      <td>1</td>\n",
       "      <td>Super Mario Bros.</td>\n",
       "      <td>NES</td>\n",
       "      <td>1985.0</td>\n",
       "      <td>Platform</td>\n",
       "      <td>29.08</td>\n",
       "      <td>3.58</td>\n",
       "      <td>6.81</td>\n",
       "      <td>0.77</td>\n",
       "      <td>NaN</td>\n",
       "      <td>NaN</td>\n",
       "      <td>NaN</td>\n",
       "    </tr>\n",
       "    <tr>\n",
       "      <td>2</td>\n",
       "      <td>Mario Kart Wii</td>\n",
       "      <td>Wii</td>\n",
       "      <td>2008.0</td>\n",
       "      <td>Racing</td>\n",
       "      <td>15.68</td>\n",
       "      <td>12.76</td>\n",
       "      <td>3.79</td>\n",
       "      <td>3.29</td>\n",
       "      <td>82.0</td>\n",
       "      <td>8.3</td>\n",
       "      <td>E</td>\n",
       "    </tr>\n",
       "    <tr>\n",
       "      <td>3</td>\n",
       "      <td>Wii Sports Resort</td>\n",
       "      <td>Wii</td>\n",
       "      <td>2009.0</td>\n",
       "      <td>Sports</td>\n",
       "      <td>15.61</td>\n",
       "      <td>10.93</td>\n",
       "      <td>3.28</td>\n",
       "      <td>2.95</td>\n",
       "      <td>80.0</td>\n",
       "      <td>8</td>\n",
       "      <td>E</td>\n",
       "    </tr>\n",
       "    <tr>\n",
       "      <td>4</td>\n",
       "      <td>Pokemon Red/Pokemon Blue</td>\n",
       "      <td>GB</td>\n",
       "      <td>1996.0</td>\n",
       "      <td>Role-Playing</td>\n",
       "      <td>11.27</td>\n",
       "      <td>8.89</td>\n",
       "      <td>10.22</td>\n",
       "      <td>1.00</td>\n",
       "      <td>NaN</td>\n",
       "      <td>NaN</td>\n",
       "      <td>NaN</td>\n",
       "    </tr>\n",
       "  </tbody>\n",
       "</table>\n",
       "</div>"
      ],
      "text/plain": [
       "                       Name Platform  Year_of_Release         Genre  NA_sales  \\\n",
       "0                Wii Sports      Wii           2006.0        Sports     41.36   \n",
       "1         Super Mario Bros.      NES           1985.0      Platform     29.08   \n",
       "2            Mario Kart Wii      Wii           2008.0        Racing     15.68   \n",
       "3         Wii Sports Resort      Wii           2009.0        Sports     15.61   \n",
       "4  Pokemon Red/Pokemon Blue       GB           1996.0  Role-Playing     11.27   \n",
       "\n",
       "   EU_sales  JP_sales  Other_sales  Critic_Score User_Score Rating  \n",
       "0     28.96      3.77         8.45          76.0          8      E  \n",
       "1      3.58      6.81         0.77           NaN        NaN    NaN  \n",
       "2     12.76      3.79         3.29          82.0        8.3      E  \n",
       "3     10.93      3.28         2.95          80.0          8      E  \n",
       "4      8.89     10.22         1.00           NaN        NaN    NaN  "
      ]
     },
     "execution_count": 2,
     "metadata": {},
     "output_type": "execute_result"
    }
   ],
   "source": [
    "data = pd.read_csv('/datasets/games.csv')\n",
    "data.head()"
   ]
  },
  {
   "cell_type": "markdown",
   "metadata": {},
   "source": [
    "Названия столбцов не в нижнем регистре, год тип данных - float, пропуски в столбцах оценок и рейтинге."
   ]
  },
  {
   "cell_type": "code",
   "execution_count": 3,
   "metadata": {},
   "outputs": [
    {
     "name": "stdout",
     "output_type": "stream",
     "text": [
      "<class 'pandas.core.frame.DataFrame'>\n",
      "RangeIndex: 16715 entries, 0 to 16714\n",
      "Data columns (total 11 columns):\n",
      "Name               16713 non-null object\n",
      "Platform           16715 non-null object\n",
      "Year_of_Release    16446 non-null float64\n",
      "Genre              16713 non-null object\n",
      "NA_sales           16715 non-null float64\n",
      "EU_sales           16715 non-null float64\n",
      "JP_sales           16715 non-null float64\n",
      "Other_sales        16715 non-null float64\n",
      "Critic_Score       8137 non-null float64\n",
      "User_Score         10014 non-null object\n",
      "Rating             9949 non-null object\n",
      "dtypes: float64(6), object(5)\n",
      "memory usage: 1.4+ MB\n"
     ]
    }
   ],
   "source": [
    "data.info()"
   ]
  },
  {
   "cell_type": "markdown",
   "metadata": {},
   "source": [
    "Пропуски в столбцах имя, год релиза, жанр, оценки критиков и пользователей, рейтинг. Тип данных в оценках пользователя object."
   ]
  },
  {
   "cell_type": "markdown",
   "metadata": {},
   "source": [
    "###  Вывод"
   ]
  },
  {
   "cell_type": "markdown",
   "metadata": {},
   "source": [
    "1. Названия столбцов не соответствуют общепринятому формату\n",
    "\n",
    "2. Пропуски в столбцах:\n",
    "* Name\n",
    "* Year_of_Release\n",
    "* Genre \n",
    "* Critic_Score       \n",
    "* User_Score         \n",
    "* Rating   \n",
    "\n",
    "3. Несоответствие типа данных значению столбца\n",
    "* Year_of_Release - float\n",
    "* User_Score - object\n",
    "\n",
    "Рассмотрим их подробнее и обработаем при необходимости на этапе предобработки данных."
   ]
  },
  {
   "cell_type": "markdown",
   "metadata": {},
   "source": [
    "## Предобработка данных"
   ]
  },
  {
   "cell_type": "markdown",
   "metadata": {},
   "source": [
    "1. Приведение названий столбцов к нижнему регистру\n",
    "2. Поиск дубликатов\n",
    "3. Обработка пропусков\n",
    "4. Изменение типа данных\n",
    "5. Добавление расчетных значений"
   ]
  },
  {
   "cell_type": "markdown",
   "metadata": {},
   "source": [
    "### Приведение названий столбцов к нижнему регистру\n"
   ]
  },
  {
   "cell_type": "code",
   "execution_count": 4,
   "metadata": {},
   "outputs": [
    {
     "data": {
      "text/plain": [
       "Index(['name', 'platform', 'year_of_release', 'genre', 'na_sales', 'eu_sales',\n",
       "       'jp_sales', 'other_sales', 'critic_score', 'user_score', 'rating'],\n",
       "      dtype='object')"
      ]
     },
     "execution_count": 4,
     "metadata": {},
     "output_type": "execute_result"
    }
   ],
   "source": [
    "data.columns= data.columns.str.lower()\n",
    "data.columns"
   ]
  },
  {
   "cell_type": "markdown",
   "metadata": {},
   "source": [
    "###  Поиск дубликатов\n"
   ]
  },
  {
   "cell_type": "markdown",
   "metadata": {},
   "source": [
    "**Явные**"
   ]
  },
  {
   "cell_type": "code",
   "execution_count": 5,
   "metadata": {},
   "outputs": [
    {
     "data": {
      "text/plain": [
       "0"
      ]
     },
     "execution_count": 5,
     "metadata": {},
     "output_type": "execute_result"
    }
   ],
   "source": [
    "data.duplicated().sum()"
   ]
  },
  {
   "cell_type": "markdown",
   "metadata": {},
   "source": [
    "**Неявные**"
   ]
  },
  {
   "cell_type": "markdown",
   "metadata": {},
   "source": [
    "Проверим данные в столбцах с типом object на неявные дубликаты."
   ]
  },
  {
   "cell_type": "markdown",
   "metadata": {},
   "source": [
    "**rating**"
   ]
  },
  {
   "cell_type": "code",
   "execution_count": 6,
   "metadata": {
    "scrolled": true
   },
   "outputs": [
    {
     "data": {
      "text/plain": [
       "array(['E', nan, 'M', 'T', 'E10+', 'K-A', 'AO', 'EC', 'RP'], dtype=object)"
      ]
     },
     "execution_count": 6,
     "metadata": {},
     "output_type": "execute_result"
    }
   ],
   "source": [
    "data['rating'].unique()"
   ]
  },
  {
   "cell_type": "markdown",
   "metadata": {},
   "source": [
    "В настоящее время используется рейтинг «E» («Everyone») — «Для всех»ю Но первоначально это был рейтинг \"K-A\" (\"Kids to Adults\")."
   ]
  },
  {
   "cell_type": "code",
   "execution_count": 7,
   "metadata": {},
   "outputs": [
    {
     "data": {
      "text/plain": [
       "array(['E', nan, 'M', 'T', 'E10+', 'AO', 'EC', 'RP'], dtype=object)"
      ]
     },
     "execution_count": 7,
     "metadata": {},
     "output_type": "execute_result"
    }
   ],
   "source": [
    "# заменим К-А в рейтинге на Е\n",
    "data = data.replace({'rating':{'K-A': 'E'}})\n",
    "data['rating'].unique()"
   ]
  },
  {
   "cell_type": "markdown",
   "metadata": {},
   "source": [
    "**name**"
   ]
  },
  {
   "cell_type": "code",
   "execution_count": 8,
   "metadata": {},
   "outputs": [
    {
     "data": {
      "text/plain": [
       "11560"
      ]
     },
     "execution_count": 8,
     "metadata": {},
     "output_type": "execute_result"
    }
   ],
   "source": [
    "len(data['name'].unique())"
   ]
  },
  {
   "cell_type": "markdown",
   "metadata": {},
   "source": [
    "Количество уникальных названий игр гораздо меньше количетсва значений в столбце. Значит названия игр повторяются. Проверим."
   ]
  },
  {
   "cell_type": "code",
   "execution_count": 9,
   "metadata": {},
   "outputs": [
    {
     "data": {
      "text/html": [
       "<div>\n",
       "<style scoped>\n",
       "    .dataframe tbody tr th:only-of-type {\n",
       "        vertical-align: middle;\n",
       "    }\n",
       "\n",
       "    .dataframe tbody tr th {\n",
       "        vertical-align: top;\n",
       "    }\n",
       "\n",
       "    .dataframe thead th {\n",
       "        text-align: right;\n",
       "    }\n",
       "</style>\n",
       "<table border=\"1\" class=\"dataframe\">\n",
       "  <thead>\n",
       "    <tr style=\"text-align: right;\">\n",
       "      <th></th>\n",
       "      <th>name</th>\n",
       "      <th>platform</th>\n",
       "      <th>year_of_release</th>\n",
       "      <th>genre</th>\n",
       "      <th>na_sales</th>\n",
       "      <th>eu_sales</th>\n",
       "      <th>jp_sales</th>\n",
       "      <th>other_sales</th>\n",
       "      <th>critic_score</th>\n",
       "      <th>user_score</th>\n",
       "      <th>rating</th>\n",
       "    </tr>\n",
       "  </thead>\n",
       "  <tbody>\n",
       "    <tr>\n",
       "      <td>2494</td>\n",
       "      <td>Street Fighter X Tekken</td>\n",
       "      <td>PS3</td>\n",
       "      <td>2012.0</td>\n",
       "      <td>Fighting</td>\n",
       "      <td>0.42</td>\n",
       "      <td>0.21</td>\n",
       "      <td>0.10</td>\n",
       "      <td>0.09</td>\n",
       "      <td>84.0</td>\n",
       "      <td>5.3</td>\n",
       "      <td>T</td>\n",
       "    </tr>\n",
       "    <tr>\n",
       "      <td>4145</td>\n",
       "      <td>Street Fighter X Tekken</td>\n",
       "      <td>X360</td>\n",
       "      <td>2012.0</td>\n",
       "      <td>Fighting</td>\n",
       "      <td>0.31</td>\n",
       "      <td>0.10</td>\n",
       "      <td>0.03</td>\n",
       "      <td>0.04</td>\n",
       "      <td>83.0</td>\n",
       "      <td>4.4</td>\n",
       "      <td>T</td>\n",
       "    </tr>\n",
       "    <tr>\n",
       "      <td>7895</td>\n",
       "      <td>Street Fighter X Tekken</td>\n",
       "      <td>PSV</td>\n",
       "      <td>2012.0</td>\n",
       "      <td>Fighting</td>\n",
       "      <td>0.10</td>\n",
       "      <td>0.04</td>\n",
       "      <td>0.01</td>\n",
       "      <td>0.03</td>\n",
       "      <td>79.0</td>\n",
       "      <td>7.5</td>\n",
       "      <td>T</td>\n",
       "    </tr>\n",
       "    <tr>\n",
       "      <td>15235</td>\n",
       "      <td>Street Fighter X Tekken</td>\n",
       "      <td>PC</td>\n",
       "      <td>2012.0</td>\n",
       "      <td>Fighting</td>\n",
       "      <td>0.00</td>\n",
       "      <td>0.02</td>\n",
       "      <td>0.00</td>\n",
       "      <td>0.00</td>\n",
       "      <td>79.0</td>\n",
       "      <td>6.4</td>\n",
       "      <td>T</td>\n",
       "    </tr>\n",
       "  </tbody>\n",
       "</table>\n",
       "</div>"
      ],
      "text/plain": [
       "                          name platform  year_of_release     genre  na_sales  \\\n",
       "2494   Street Fighter X Tekken      PS3           2012.0  Fighting      0.42   \n",
       "4145   Street Fighter X Tekken     X360           2012.0  Fighting      0.31   \n",
       "7895   Street Fighter X Tekken      PSV           2012.0  Fighting      0.10   \n",
       "15235  Street Fighter X Tekken       PC           2012.0  Fighting      0.00   \n",
       "\n",
       "       eu_sales  jp_sales  other_sales  critic_score user_score rating  \n",
       "2494       0.21      0.10         0.09          84.0        5.3      T  \n",
       "4145       0.10      0.03         0.04          83.0        4.4      T  \n",
       "7895       0.04      0.01         0.03          79.0        7.5      T  \n",
       "15235      0.02      0.00         0.00          79.0        6.4      T  "
      ]
     },
     "execution_count": 9,
     "metadata": {},
     "output_type": "execute_result"
    }
   ],
   "source": [
    "data.query('name == \"Street Fighter X Tekken\"')"
   ]
  },
  {
   "cell_type": "markdown",
   "metadata": {},
   "source": [
    "Каждая строка представляет одну и ту же игру на разных платформах, эти повторения не являются дубликатами."
   ]
  },
  {
   "cell_type": "markdown",
   "metadata": {},
   "source": [
    "**genre**"
   ]
  },
  {
   "cell_type": "code",
   "execution_count": 10,
   "metadata": {},
   "outputs": [
    {
     "data": {
      "text/plain": [
       "array(['Sports', 'Platform', 'Racing', 'Role-Playing', 'Puzzle', 'Misc',\n",
       "       'Shooter', 'Simulation', 'Action', 'Fighting', 'Adventure',\n",
       "       'Strategy', nan], dtype=object)"
      ]
     },
     "execution_count": 10,
     "metadata": {},
     "output_type": "execute_result"
    }
   ],
   "source": [
    "data['genre'].unique()"
   ]
  },
  {
   "cell_type": "markdown",
   "metadata": {},
   "source": [
    "Повторов в жанрах игр нет."
   ]
  },
  {
   "cell_type": "markdown",
   "metadata": {},
   "source": [
    "**platform**"
   ]
  },
  {
   "cell_type": "code",
   "execution_count": 11,
   "metadata": {},
   "outputs": [
    {
     "data": {
      "text/plain": [
       "array(['Wii', 'NES', 'GB', 'DS', 'X360', 'PS3', 'PS2', 'SNES', 'GBA',\n",
       "       'PS4', '3DS', 'N64', 'PS', 'XB', 'PC', '2600', 'PSP', 'XOne',\n",
       "       'WiiU', 'GC', 'GEN', 'DC', 'PSV', 'SAT', 'SCD', 'WS', 'NG', 'TG16',\n",
       "       '3DO', 'GG', 'PCFX'], dtype=object)"
      ]
     },
     "execution_count": 11,
     "metadata": {},
     "output_type": "execute_result"
    }
   ],
   "source": [
    "data['platform'].unique()"
   ]
  },
  {
   "cell_type": "markdown",
   "metadata": {},
   "source": [
    "Повторений в названиях платформ также нет."
   ]
  },
  {
   "cell_type": "markdown",
   "metadata": {},
   "source": [
    "### Обработка пропусков\n"
   ]
  },
  {
   "cell_type": "markdown",
   "metadata": {},
   "source": [
    "Узнаем какая доля данных прихадится на пропуски в каждом столбце."
   ]
  },
  {
   "cell_type": "code",
   "execution_count": 12,
   "metadata": {},
   "outputs": [],
   "source": [
    "def pass_ratio (df, column):\n",
    "    count = df[column].isna().sum()\n",
    "    percent = round(df[column].isna().sum() * 100 / len(df), 2)\n",
    "    \n",
    "    pass_value_df = pd.DataFrame({'num_missing': count,\n",
    "                                  'percent_missing': percent})\n",
    "    \n",
    "    return pass_value_df"
   ]
  },
  {
   "cell_type": "code",
   "execution_count": 13,
   "metadata": {},
   "outputs": [
    {
     "data": {
      "text/html": [
       "<div>\n",
       "<style scoped>\n",
       "    .dataframe tbody tr th:only-of-type {\n",
       "        vertical-align: middle;\n",
       "    }\n",
       "\n",
       "    .dataframe tbody tr th {\n",
       "        vertical-align: top;\n",
       "    }\n",
       "\n",
       "    .dataframe thead th {\n",
       "        text-align: right;\n",
       "    }\n",
       "</style>\n",
       "<table border=\"1\" class=\"dataframe\">\n",
       "  <thead>\n",
       "    <tr style=\"text-align: right;\">\n",
       "      <th></th>\n",
       "      <th>num_missing</th>\n",
       "      <th>percent_missing</th>\n",
       "    </tr>\n",
       "  </thead>\n",
       "  <tbody>\n",
       "    <tr>\n",
       "      <td>name</td>\n",
       "      <td>2</td>\n",
       "      <td>0.01</td>\n",
       "    </tr>\n",
       "    <tr>\n",
       "      <td>year_of_release</td>\n",
       "      <td>269</td>\n",
       "      <td>1.61</td>\n",
       "    </tr>\n",
       "    <tr>\n",
       "      <td>genre</td>\n",
       "      <td>2</td>\n",
       "      <td>0.01</td>\n",
       "    </tr>\n",
       "    <tr>\n",
       "      <td>critic_score</td>\n",
       "      <td>8578</td>\n",
       "      <td>51.32</td>\n",
       "    </tr>\n",
       "    <tr>\n",
       "      <td>user_score</td>\n",
       "      <td>6701</td>\n",
       "      <td>40.09</td>\n",
       "    </tr>\n",
       "    <tr>\n",
       "      <td>rating</td>\n",
       "      <td>6766</td>\n",
       "      <td>40.48</td>\n",
       "    </tr>\n",
       "  </tbody>\n",
       "</table>\n",
       "</div>"
      ],
      "text/plain": [
       "                 num_missing  percent_missing\n",
       "name                       2             0.01\n",
       "year_of_release          269             1.61\n",
       "genre                      2             0.01\n",
       "critic_score            8578            51.32\n",
       "user_score              6701            40.09\n",
       "rating                  6766            40.48"
      ]
     },
     "execution_count": 13,
     "metadata": {},
     "output_type": "execute_result"
    }
   ],
   "source": [
    "pass_ratio(data, column = ['name','year_of_release', 'genre','critic_score', 'user_score', 'rating'])"
   ]
  },
  {
   "cell_type": "markdown",
   "metadata": {},
   "source": [
    "Посмотрим на строки с отсутствующим названием игры."
   ]
  },
  {
   "cell_type": "code",
   "execution_count": 14,
   "metadata": {},
   "outputs": [
    {
     "data": {
      "text/html": [
       "<div>\n",
       "<style scoped>\n",
       "    .dataframe tbody tr th:only-of-type {\n",
       "        vertical-align: middle;\n",
       "    }\n",
       "\n",
       "    .dataframe tbody tr th {\n",
       "        vertical-align: top;\n",
       "    }\n",
       "\n",
       "    .dataframe thead th {\n",
       "        text-align: right;\n",
       "    }\n",
       "</style>\n",
       "<table border=\"1\" class=\"dataframe\">\n",
       "  <thead>\n",
       "    <tr style=\"text-align: right;\">\n",
       "      <th></th>\n",
       "      <th>name</th>\n",
       "      <th>platform</th>\n",
       "      <th>year_of_release</th>\n",
       "      <th>genre</th>\n",
       "      <th>na_sales</th>\n",
       "      <th>eu_sales</th>\n",
       "      <th>jp_sales</th>\n",
       "      <th>other_sales</th>\n",
       "      <th>critic_score</th>\n",
       "      <th>user_score</th>\n",
       "      <th>rating</th>\n",
       "    </tr>\n",
       "  </thead>\n",
       "  <tbody>\n",
       "    <tr>\n",
       "      <td>659</td>\n",
       "      <td>NaN</td>\n",
       "      <td>GEN</td>\n",
       "      <td>1993.0</td>\n",
       "      <td>NaN</td>\n",
       "      <td>1.78</td>\n",
       "      <td>0.53</td>\n",
       "      <td>0.00</td>\n",
       "      <td>0.08</td>\n",
       "      <td>NaN</td>\n",
       "      <td>NaN</td>\n",
       "      <td>NaN</td>\n",
       "    </tr>\n",
       "    <tr>\n",
       "      <td>14244</td>\n",
       "      <td>NaN</td>\n",
       "      <td>GEN</td>\n",
       "      <td>1993.0</td>\n",
       "      <td>NaN</td>\n",
       "      <td>0.00</td>\n",
       "      <td>0.00</td>\n",
       "      <td>0.03</td>\n",
       "      <td>0.00</td>\n",
       "      <td>NaN</td>\n",
       "      <td>NaN</td>\n",
       "      <td>NaN</td>\n",
       "    </tr>\n",
       "  </tbody>\n",
       "</table>\n",
       "</div>"
      ],
      "text/plain": [
       "      name platform  year_of_release genre  na_sales  eu_sales  jp_sales  \\\n",
       "659    NaN      GEN           1993.0   NaN      1.78      0.53      0.00   \n",
       "14244  NaN      GEN           1993.0   NaN      0.00      0.00      0.03   \n",
       "\n",
       "       other_sales  critic_score user_score rating  \n",
       "659           0.08           NaN        NaN    NaN  \n",
       "14244         0.00           NaN        NaN    NaN  "
      ]
     },
     "execution_count": 14,
     "metadata": {},
     "output_type": "execute_result"
    }
   ],
   "source": [
    "data.query('name.isna() == True')"
   ]
  },
  {
   "cell_type": "markdown",
   "metadata": {},
   "source": [
    "Эти же две строки единственные с отсутствием жанра. Этими данными можно пренебречь."
   ]
  },
  {
   "cell_type": "code",
   "execution_count": 15,
   "metadata": {},
   "outputs": [],
   "source": [
    "data = data.dropna(subset=['name'])"
   ]
  },
  {
   "cell_type": "markdown",
   "metadata": {},
   "source": [
    "В столбце year_of_release пропущено 1,61% данных - это незначительная доля, этими данными также моно пренебречь."
   ]
  },
  {
   "cell_type": "code",
   "execution_count": 16,
   "metadata": {},
   "outputs": [
    {
     "data": {
      "text/html": [
       "<div>\n",
       "<style scoped>\n",
       "    .dataframe tbody tr th:only-of-type {\n",
       "        vertical-align: middle;\n",
       "    }\n",
       "\n",
       "    .dataframe tbody tr th {\n",
       "        vertical-align: top;\n",
       "    }\n",
       "\n",
       "    .dataframe thead th {\n",
       "        text-align: right;\n",
       "    }\n",
       "</style>\n",
       "<table border=\"1\" class=\"dataframe\">\n",
       "  <thead>\n",
       "    <tr style=\"text-align: right;\">\n",
       "      <th></th>\n",
       "      <th>name</th>\n",
       "      <th>platform</th>\n",
       "      <th>year_of_release</th>\n",
       "      <th>genre</th>\n",
       "      <th>na_sales</th>\n",
       "      <th>eu_sales</th>\n",
       "      <th>jp_sales</th>\n",
       "      <th>other_sales</th>\n",
       "      <th>critic_score</th>\n",
       "      <th>user_score</th>\n",
       "      <th>rating</th>\n",
       "    </tr>\n",
       "  </thead>\n",
       "  <tbody>\n",
       "    <tr>\n",
       "      <td>0</td>\n",
       "      <td>Wii Sports</td>\n",
       "      <td>Wii</td>\n",
       "      <td>2006.0</td>\n",
       "      <td>Sports</td>\n",
       "      <td>41.36</td>\n",
       "      <td>28.96</td>\n",
       "      <td>3.77</td>\n",
       "      <td>8.45</td>\n",
       "      <td>76.0</td>\n",
       "      <td>8</td>\n",
       "      <td>E</td>\n",
       "    </tr>\n",
       "    <tr>\n",
       "      <td>1</td>\n",
       "      <td>Super Mario Bros.</td>\n",
       "      <td>NES</td>\n",
       "      <td>1985.0</td>\n",
       "      <td>Platform</td>\n",
       "      <td>29.08</td>\n",
       "      <td>3.58</td>\n",
       "      <td>6.81</td>\n",
       "      <td>0.77</td>\n",
       "      <td>NaN</td>\n",
       "      <td>NaN</td>\n",
       "      <td>NaN</td>\n",
       "    </tr>\n",
       "    <tr>\n",
       "      <td>2</td>\n",
       "      <td>Mario Kart Wii</td>\n",
       "      <td>Wii</td>\n",
       "      <td>2008.0</td>\n",
       "      <td>Racing</td>\n",
       "      <td>15.68</td>\n",
       "      <td>12.76</td>\n",
       "      <td>3.79</td>\n",
       "      <td>3.29</td>\n",
       "      <td>82.0</td>\n",
       "      <td>8.3</td>\n",
       "      <td>E</td>\n",
       "    </tr>\n",
       "    <tr>\n",
       "      <td>3</td>\n",
       "      <td>Wii Sports Resort</td>\n",
       "      <td>Wii</td>\n",
       "      <td>2009.0</td>\n",
       "      <td>Sports</td>\n",
       "      <td>15.61</td>\n",
       "      <td>10.93</td>\n",
       "      <td>3.28</td>\n",
       "      <td>2.95</td>\n",
       "      <td>80.0</td>\n",
       "      <td>8</td>\n",
       "      <td>E</td>\n",
       "    </tr>\n",
       "    <tr>\n",
       "      <td>4</td>\n",
       "      <td>Pokemon Red/Pokemon Blue</td>\n",
       "      <td>GB</td>\n",
       "      <td>1996.0</td>\n",
       "      <td>Role-Playing</td>\n",
       "      <td>11.27</td>\n",
       "      <td>8.89</td>\n",
       "      <td>10.22</td>\n",
       "      <td>1.00</td>\n",
       "      <td>NaN</td>\n",
       "      <td>NaN</td>\n",
       "      <td>NaN</td>\n",
       "    </tr>\n",
       "  </tbody>\n",
       "</table>\n",
       "</div>"
      ],
      "text/plain": [
       "                       name platform  year_of_release         genre  na_sales  \\\n",
       "0                Wii Sports      Wii           2006.0        Sports     41.36   \n",
       "1         Super Mario Bros.      NES           1985.0      Platform     29.08   \n",
       "2            Mario Kart Wii      Wii           2008.0        Racing     15.68   \n",
       "3         Wii Sports Resort      Wii           2009.0        Sports     15.61   \n",
       "4  Pokemon Red/Pokemon Blue       GB           1996.0  Role-Playing     11.27   \n",
       "\n",
       "   eu_sales  jp_sales  other_sales  critic_score user_score rating  \n",
       "0     28.96      3.77         8.45          76.0          8      E  \n",
       "1      3.58      6.81         0.77           NaN        NaN    NaN  \n",
       "2     12.76      3.79         3.29          82.0        8.3      E  \n",
       "3     10.93      3.28         2.95          80.0          8      E  \n",
       "4      8.89     10.22         1.00           NaN        NaN    NaN  "
      ]
     },
     "execution_count": 16,
     "metadata": {},
     "output_type": "execute_result"
    }
   ],
   "source": [
    "data = data.query('year_of_release.isna() == False')\n",
    "data.head()"
   ]
  },
  {
   "cell_type": "markdown",
   "metadata": {},
   "source": [
    "В столбцах critic_score, user_score и rating пропущено большое количество значений 51, 40 и 40% соответственно. Это большая часть данных потерять мы их не можем. \n",
    "\n",
    "Несмотря на то, что оценки пользователей и критиков является количественной величиной, замена такого большого количества значений рассчетными может привести к значительному искажению результатов исследования. Оставим пропуски в этих столбцах. \n",
    "\n",
    "Рейтинг является категориальной переменной данных для заполнения пропусков недостаточно."
   ]
  },
  {
   "cell_type": "markdown",
   "metadata": {},
   "source": [
    "### Изменение типа данных"
   ]
  },
  {
   "cell_type": "markdown",
   "metadata": {},
   "source": [
    "**year_of_release**"
   ]
  },
  {
   "cell_type": "code",
   "execution_count": 17,
   "metadata": {},
   "outputs": [
    {
     "data": {
      "text/plain": [
       "array([2006., 1985., 2008., 2009., 1996., 1989., 1984., 2005., 1999.,\n",
       "       2007., 2010., 2013., 2004., 1990., 1988., 2002., 2001., 2011.,\n",
       "       1998., 2015., 2012., 2014., 1992., 1997., 1993., 1994., 1982.,\n",
       "       2016., 2003., 1986., 2000., 1995., 1991., 1981., 1987., 1980.,\n",
       "       1983.])"
      ]
     },
     "execution_count": 17,
     "metadata": {},
     "output_type": "execute_result"
    }
   ],
   "source": [
    "data['year_of_release'].unique()"
   ]
  },
  {
   "cell_type": "markdown",
   "metadata": {},
   "source": [
    "Повторений нет, так как в данным только год релиза, нет необходимости переводить в формат datetime, переведем просто в int."
   ]
  },
  {
   "cell_type": "code",
   "execution_count": 18,
   "metadata": {},
   "outputs": [
    {
     "data": {
      "text/html": [
       "<div>\n",
       "<style scoped>\n",
       "    .dataframe tbody tr th:only-of-type {\n",
       "        vertical-align: middle;\n",
       "    }\n",
       "\n",
       "    .dataframe tbody tr th {\n",
       "        vertical-align: top;\n",
       "    }\n",
       "\n",
       "    .dataframe thead th {\n",
       "        text-align: right;\n",
       "    }\n",
       "</style>\n",
       "<table border=\"1\" class=\"dataframe\">\n",
       "  <thead>\n",
       "    <tr style=\"text-align: right;\">\n",
       "      <th></th>\n",
       "      <th>name</th>\n",
       "      <th>platform</th>\n",
       "      <th>year_of_release</th>\n",
       "      <th>genre</th>\n",
       "      <th>na_sales</th>\n",
       "      <th>eu_sales</th>\n",
       "      <th>jp_sales</th>\n",
       "      <th>other_sales</th>\n",
       "      <th>critic_score</th>\n",
       "      <th>user_score</th>\n",
       "      <th>rating</th>\n",
       "    </tr>\n",
       "  </thead>\n",
       "  <tbody>\n",
       "    <tr>\n",
       "      <td>0</td>\n",
       "      <td>Wii Sports</td>\n",
       "      <td>Wii</td>\n",
       "      <td>2006</td>\n",
       "      <td>Sports</td>\n",
       "      <td>41.36</td>\n",
       "      <td>28.96</td>\n",
       "      <td>3.77</td>\n",
       "      <td>8.45</td>\n",
       "      <td>76.0</td>\n",
       "      <td>8</td>\n",
       "      <td>E</td>\n",
       "    </tr>\n",
       "    <tr>\n",
       "      <td>1</td>\n",
       "      <td>Super Mario Bros.</td>\n",
       "      <td>NES</td>\n",
       "      <td>1985</td>\n",
       "      <td>Platform</td>\n",
       "      <td>29.08</td>\n",
       "      <td>3.58</td>\n",
       "      <td>6.81</td>\n",
       "      <td>0.77</td>\n",
       "      <td>NaN</td>\n",
       "      <td>NaN</td>\n",
       "      <td>NaN</td>\n",
       "    </tr>\n",
       "    <tr>\n",
       "      <td>2</td>\n",
       "      <td>Mario Kart Wii</td>\n",
       "      <td>Wii</td>\n",
       "      <td>2008</td>\n",
       "      <td>Racing</td>\n",
       "      <td>15.68</td>\n",
       "      <td>12.76</td>\n",
       "      <td>3.79</td>\n",
       "      <td>3.29</td>\n",
       "      <td>82.0</td>\n",
       "      <td>8.3</td>\n",
       "      <td>E</td>\n",
       "    </tr>\n",
       "    <tr>\n",
       "      <td>3</td>\n",
       "      <td>Wii Sports Resort</td>\n",
       "      <td>Wii</td>\n",
       "      <td>2009</td>\n",
       "      <td>Sports</td>\n",
       "      <td>15.61</td>\n",
       "      <td>10.93</td>\n",
       "      <td>3.28</td>\n",
       "      <td>2.95</td>\n",
       "      <td>80.0</td>\n",
       "      <td>8</td>\n",
       "      <td>E</td>\n",
       "    </tr>\n",
       "    <tr>\n",
       "      <td>4</td>\n",
       "      <td>Pokemon Red/Pokemon Blue</td>\n",
       "      <td>GB</td>\n",
       "      <td>1996</td>\n",
       "      <td>Role-Playing</td>\n",
       "      <td>11.27</td>\n",
       "      <td>8.89</td>\n",
       "      <td>10.22</td>\n",
       "      <td>1.00</td>\n",
       "      <td>NaN</td>\n",
       "      <td>NaN</td>\n",
       "      <td>NaN</td>\n",
       "    </tr>\n",
       "  </tbody>\n",
       "</table>\n",
       "</div>"
      ],
      "text/plain": [
       "                       name platform  year_of_release         genre  na_sales  \\\n",
       "0                Wii Sports      Wii             2006        Sports     41.36   \n",
       "1         Super Mario Bros.      NES             1985      Platform     29.08   \n",
       "2            Mario Kart Wii      Wii             2008        Racing     15.68   \n",
       "3         Wii Sports Resort      Wii             2009        Sports     15.61   \n",
       "4  Pokemon Red/Pokemon Blue       GB             1996  Role-Playing     11.27   \n",
       "\n",
       "   eu_sales  jp_sales  other_sales  critic_score user_score rating  \n",
       "0     28.96      3.77         8.45          76.0          8      E  \n",
       "1      3.58      6.81         0.77           NaN        NaN    NaN  \n",
       "2     12.76      3.79         3.29          82.0        8.3      E  \n",
       "3     10.93      3.28         2.95          80.0          8      E  \n",
       "4      8.89     10.22         1.00           NaN        NaN    NaN  "
      ]
     },
     "execution_count": 18,
     "metadata": {},
     "output_type": "execute_result"
    }
   ],
   "source": [
    "data['year_of_release'] = data['year_of_release'].astype('int')\n",
    "data.head(5)"
   ]
  },
  {
   "cell_type": "markdown",
   "metadata": {},
   "source": [
    "**user_score**"
   ]
  },
  {
   "cell_type": "code",
   "execution_count": 19,
   "metadata": {},
   "outputs": [
    {
     "data": {
      "text/plain": [
       "count     9839\n",
       "unique      96\n",
       "top        tbd\n",
       "freq      2376\n",
       "Name: user_score, dtype: object"
      ]
     },
     "execution_count": 19,
     "metadata": {},
     "output_type": "execute_result"
    }
   ],
   "source": [
    "data['user_score'].describe()"
   ]
  },
  {
   "cell_type": "markdown",
   "metadata": {},
   "source": [
    "В столбце много значений \"tbd\" - вероятно аббревиатура от 'to be determined'(будет определено), то есть по сути это отсутсвтвие оценки, но строковые значения мешают перевести столбец в числовой формат. Заменим tbd на NaN, затем переведем в формат float."
   ]
  },
  {
   "cell_type": "code",
   "execution_count": 20,
   "metadata": {},
   "outputs": [],
   "source": [
    "data.loc[data['user_score'] == 'tbd', 'user_score'] = float('NaN')"
   ]
  },
  {
   "cell_type": "code",
   "execution_count": 21,
   "metadata": {},
   "outputs": [
    {
     "data": {
      "text/plain": [
       "array(['8', nan, '8.3', '8.5', '6.6', '8.4', '8.6', '7.7', '6.3', '7.4',\n",
       "       '8.2', '9', '7.9', '8.1', '8.7', '7.1', '3.4', '5.3', '4.8', '3.2',\n",
       "       '8.9', '6.4', '7.8', '7.5', '2.6', '7.2', '9.2', '7', '7.3', '4.3',\n",
       "       '7.6', '5.7', '5', '9.1', '6.5', '8.8', '6.9', '9.4', '6.8', '6.1',\n",
       "       '6.7', '5.4', '4', '4.9', '4.5', '9.3', '6.2', '4.2', '6', '3.7',\n",
       "       '4.1', '5.8', '5.6', '5.5', '4.4', '4.6', '5.9', '3.9', '3.1',\n",
       "       '2.9', '5.2', '3.3', '4.7', '5.1', '3.5', '2.5', '1.9', '3', '2.7',\n",
       "       '2.2', '2', '9.5', '2.1', '3.6', '2.8', '1.8', '3.8', '0', '1.6',\n",
       "       '9.6', '2.4', '1.7', '1.1', '0.3', '1.5', '0.7', '1.2', '2.3',\n",
       "       '0.5', '1.3', '0.2', '0.6', '1.4', '0.9', '1', '9.7'], dtype=object)"
      ]
     },
     "execution_count": 21,
     "metadata": {},
     "output_type": "execute_result"
    }
   ],
   "source": [
    "data['user_score'].unique()"
   ]
  },
  {
   "cell_type": "code",
   "execution_count": 22,
   "metadata": {},
   "outputs": [],
   "source": [
    "data['user_score'] = data['user_score'].astype('float')"
   ]
  },
  {
   "cell_type": "markdown",
   "metadata": {},
   "source": [
    "### Добавление расчетных значений"
   ]
  },
  {
   "cell_type": "markdown",
   "metadata": {},
   "source": [
    "**Суммарные продажи во всех регионах**"
   ]
  },
  {
   "cell_type": "code",
   "execution_count": 23,
   "metadata": {},
   "outputs": [
    {
     "data": {
      "text/html": [
       "<div>\n",
       "<style scoped>\n",
       "    .dataframe tbody tr th:only-of-type {\n",
       "        vertical-align: middle;\n",
       "    }\n",
       "\n",
       "    .dataframe tbody tr th {\n",
       "        vertical-align: top;\n",
       "    }\n",
       "\n",
       "    .dataframe thead th {\n",
       "        text-align: right;\n",
       "    }\n",
       "</style>\n",
       "<table border=\"1\" class=\"dataframe\">\n",
       "  <thead>\n",
       "    <tr style=\"text-align: right;\">\n",
       "      <th></th>\n",
       "      <th>name</th>\n",
       "      <th>platform</th>\n",
       "      <th>year_of_release</th>\n",
       "      <th>genre</th>\n",
       "      <th>na_sales</th>\n",
       "      <th>eu_sales</th>\n",
       "      <th>jp_sales</th>\n",
       "      <th>other_sales</th>\n",
       "      <th>critic_score</th>\n",
       "      <th>user_score</th>\n",
       "      <th>rating</th>\n",
       "      <th>total_sales</th>\n",
       "    </tr>\n",
       "  </thead>\n",
       "  <tbody>\n",
       "    <tr>\n",
       "      <td>0</td>\n",
       "      <td>Wii Sports</td>\n",
       "      <td>Wii</td>\n",
       "      <td>2006</td>\n",
       "      <td>Sports</td>\n",
       "      <td>41.36</td>\n",
       "      <td>28.96</td>\n",
       "      <td>3.77</td>\n",
       "      <td>8.45</td>\n",
       "      <td>76.0</td>\n",
       "      <td>8.0</td>\n",
       "      <td>E</td>\n",
       "      <td>82.54</td>\n",
       "    </tr>\n",
       "    <tr>\n",
       "      <td>1</td>\n",
       "      <td>Super Mario Bros.</td>\n",
       "      <td>NES</td>\n",
       "      <td>1985</td>\n",
       "      <td>Platform</td>\n",
       "      <td>29.08</td>\n",
       "      <td>3.58</td>\n",
       "      <td>6.81</td>\n",
       "      <td>0.77</td>\n",
       "      <td>NaN</td>\n",
       "      <td>NaN</td>\n",
       "      <td>NaN</td>\n",
       "      <td>40.24</td>\n",
       "    </tr>\n",
       "    <tr>\n",
       "      <td>2</td>\n",
       "      <td>Mario Kart Wii</td>\n",
       "      <td>Wii</td>\n",
       "      <td>2008</td>\n",
       "      <td>Racing</td>\n",
       "      <td>15.68</td>\n",
       "      <td>12.76</td>\n",
       "      <td>3.79</td>\n",
       "      <td>3.29</td>\n",
       "      <td>82.0</td>\n",
       "      <td>8.3</td>\n",
       "      <td>E</td>\n",
       "      <td>35.52</td>\n",
       "    </tr>\n",
       "    <tr>\n",
       "      <td>3</td>\n",
       "      <td>Wii Sports Resort</td>\n",
       "      <td>Wii</td>\n",
       "      <td>2009</td>\n",
       "      <td>Sports</td>\n",
       "      <td>15.61</td>\n",
       "      <td>10.93</td>\n",
       "      <td>3.28</td>\n",
       "      <td>2.95</td>\n",
       "      <td>80.0</td>\n",
       "      <td>8.0</td>\n",
       "      <td>E</td>\n",
       "      <td>32.77</td>\n",
       "    </tr>\n",
       "    <tr>\n",
       "      <td>4</td>\n",
       "      <td>Pokemon Red/Pokemon Blue</td>\n",
       "      <td>GB</td>\n",
       "      <td>1996</td>\n",
       "      <td>Role-Playing</td>\n",
       "      <td>11.27</td>\n",
       "      <td>8.89</td>\n",
       "      <td>10.22</td>\n",
       "      <td>1.00</td>\n",
       "      <td>NaN</td>\n",
       "      <td>NaN</td>\n",
       "      <td>NaN</td>\n",
       "      <td>31.38</td>\n",
       "    </tr>\n",
       "  </tbody>\n",
       "</table>\n",
       "</div>"
      ],
      "text/plain": [
       "                       name platform  year_of_release         genre  na_sales  \\\n",
       "0                Wii Sports      Wii             2006        Sports     41.36   \n",
       "1         Super Mario Bros.      NES             1985      Platform     29.08   \n",
       "2            Mario Kart Wii      Wii             2008        Racing     15.68   \n",
       "3         Wii Sports Resort      Wii             2009        Sports     15.61   \n",
       "4  Pokemon Red/Pokemon Blue       GB             1996  Role-Playing     11.27   \n",
       "\n",
       "   eu_sales  jp_sales  other_sales  critic_score  user_score rating  \\\n",
       "0     28.96      3.77         8.45          76.0         8.0      E   \n",
       "1      3.58      6.81         0.77           NaN         NaN    NaN   \n",
       "2     12.76      3.79         3.29          82.0         8.3      E   \n",
       "3     10.93      3.28         2.95          80.0         8.0      E   \n",
       "4      8.89     10.22         1.00           NaN         NaN    NaN   \n",
       "\n",
       "   total_sales  \n",
       "0        82.54  \n",
       "1        40.24  \n",
       "2        35.52  \n",
       "3        32.77  \n",
       "4        31.38  "
      ]
     },
     "execution_count": 23,
     "metadata": {},
     "output_type": "execute_result"
    }
   ],
   "source": [
    "data['total_sales'] = data[['na_sales', 'eu_sales', 'jp_sales','other_sales']].sum(axis = 1)\n",
    "data.head()"
   ]
  },
  {
   "cell_type": "markdown",
   "metadata": {},
   "source": [
    "## Исследовательский анализ данных"
   ]
  },
  {
   "cell_type": "markdown",
   "metadata": {},
   "source": [
    "### Выпуск игр по годам"
   ]
  },
  {
   "cell_type": "code",
   "execution_count": 25,
   "metadata": {
    "scrolled": false
   },
   "outputs": [
    {
     "data": {
      "text/plain": [
       "<function matplotlib.pyplot.show(*args, **kw)>"
      ]
     },
     "execution_count": 25,
     "metadata": {},
     "output_type": "execute_result"
    },
    {
     "name": "stderr",
     "output_type": "stream",
     "text": [
      "findfont: Font family ['fantasy'] not found. Falling back to DejaVu Sans.\n"
     ]
    },
    {
     "data": {
      "image/png": "[encoded data removed]",
      "text/plain": [
       "<Figure size 1080x1080 with 1 Axes>"
      ]
     },
     "metadata": {
      "needs_background": "light"
     },
     "output_type": "display_data"
    }
   ],
   "source": [
    "databox = data.boxplot('year_of_release', figsize = (15,15))\n",
    "databox.set_ylim(1975,2020)\n",
    "plt.title('Диаграмма размаха по году выпуска',fontsize = 18, fontfamily = 'fantasy',fontstyle = 'oblique')\n",
    "plt.show"
   ]
  },
  {
   "cell_type": "markdown",
   "metadata": {},
   "source": [
    "Согласно графику медиана года выпуска игр 2007, первый и третий квартили 2003 и 2010 соответственно."
   ]
  },
  {
   "cell_type": "code",
   "execution_count": 26,
   "metadata": {},
   "outputs": [
    {
     "data": {
      "text/plain": [
       "<function matplotlib.pyplot.show(*args, **kw)>"
      ]
     },
     "execution_count": 26,
     "metadata": {},
     "output_type": "execute_result"
    },
    {
     "name": "stderr",
     "output_type": "stream",
     "text": [
      "findfont: Font family ['fantasy'] not found. Falling back to DejaVu Sans.\n"
     ]
    },
    {
     "data": {
      "image/png": "[encoded data removed]",
      "text/plain": [
       "<Figure size 720x360 with 1 Axes>"
      ]
     },
     "metadata": {
      "needs_background": "light"
     },
     "output_type": "display_data"
    }
   ],
   "source": [
    "data['year_of_release'].plot(kind = 'hist',bins=10, range = (1980, 2016), ylim = (0, 5000), figsize = (10,5))\n",
    "plt.xlabel('Год выпуска')\n",
    "plt.ylabel('Частота')\n",
    "plt.title('Гистограмма по году выпуска',fontsize = 19, fontfamily = 'fantasy',fontstyle = 'oblique')\n",
    "plt.show"
   ]
  },
  {
   "cell_type": "markdown",
   "metadata": {},
   "source": [
    "Согласно гистограмме наибольшее количество игр выпущено в период с 2002 по 2012 годы. Проверим."
   ]
  },
  {
   "cell_type": "code",
   "execution_count": 27,
   "metadata": {},
   "outputs": [
    {
     "name": "stdout",
     "output_type": "stream",
     "text": [
      "17.06 %\n"
     ]
    }
   ],
   "source": [
    "# доля игр, выпущенных раньше 2002 года\n",
    "print(round(len(data.query('year_of_release < 2002'))*100/len(data), 2), '%')"
   ]
  },
  {
   "cell_type": "markdown",
   "metadata": {},
   "source": [
    "Для построения прогноза на 2017 год по данным датасета актуальным периодом могли бы являться последние 15 лет (с 2002 по 2016) с учетом количества данных о выпущенных в эти годы играх."
   ]
  },
  {
   "cell_type": "markdown",
   "metadata": {},
   "source": [
    "### Продажи по платформам"
   ]
  },
  {
   "cell_type": "markdown",
   "metadata": {},
   "source": [
    "Сгруппируем данные по платформам и годам для оценки количества продаж."
   ]
  },
  {
   "cell_type": "code",
   "execution_count": 28,
   "metadata": {},
   "outputs": [
    {
     "data": {
      "text/html": [
       "<div>\n",
       "<style scoped>\n",
       "    .dataframe tbody tr th:only-of-type {\n",
       "        vertical-align: middle;\n",
       "    }\n",
       "\n",
       "    .dataframe tbody tr th {\n",
       "        vertical-align: top;\n",
       "    }\n",
       "\n",
       "    .dataframe thead th {\n",
       "        text-align: right;\n",
       "    }\n",
       "</style>\n",
       "<table border=\"1\" class=\"dataframe\">\n",
       "  <thead>\n",
       "    <tr style=\"text-align: right;\">\n",
       "      <th></th>\n",
       "      <th>platform</th>\n",
       "      <th>year_of_release</th>\n",
       "      <th>sum</th>\n",
       "    </tr>\n",
       "  </thead>\n",
       "  <tbody>\n",
       "    <tr>\n",
       "      <td>0</td>\n",
       "      <td>2600</td>\n",
       "      <td>1980</td>\n",
       "      <td>11.38</td>\n",
       "    </tr>\n",
       "    <tr>\n",
       "      <td>1</td>\n",
       "      <td>2600</td>\n",
       "      <td>1981</td>\n",
       "      <td>35.68</td>\n",
       "    </tr>\n",
       "    <tr>\n",
       "      <td>2</td>\n",
       "      <td>2600</td>\n",
       "      <td>1982</td>\n",
       "      <td>28.88</td>\n",
       "    </tr>\n",
       "    <tr>\n",
       "      <td>3</td>\n",
       "      <td>2600</td>\n",
       "      <td>1983</td>\n",
       "      <td>5.84</td>\n",
       "    </tr>\n",
       "    <tr>\n",
       "      <td>4</td>\n",
       "      <td>2600</td>\n",
       "      <td>1984</td>\n",
       "      <td>0.27</td>\n",
       "    </tr>\n",
       "    <tr>\n",
       "      <td>5</td>\n",
       "      <td>2600</td>\n",
       "      <td>1985</td>\n",
       "      <td>0.45</td>\n",
       "    </tr>\n",
       "  </tbody>\n",
       "</table>\n",
       "</div>"
      ],
      "text/plain": [
       "  platform  year_of_release    sum\n",
       "0     2600             1980  11.38\n",
       "1     2600             1981  35.68\n",
       "2     2600             1982  28.88\n",
       "3     2600             1983   5.84\n",
       "4     2600             1984   0.27\n",
       "5     2600             1985   0.45"
      ]
     },
     "execution_count": 28,
     "metadata": {},
     "output_type": "execute_result"
    }
   ],
   "source": [
    "data_by_platform = data.pivot_table(index = ['platform','year_of_release' ], values = 'total_sales',\\\n",
    "                                    aggfunc = {'sum'}).reset_index()\n",
    "data_by_platform.head(6)"
   ]
  },
  {
   "cell_type": "markdown",
   "metadata": {},
   "source": [
    "Определим платформы с наибольшими суммарными продажами."
   ]
  },
  {
   "cell_type": "code",
   "execution_count": 29,
   "metadata": {},
   "outputs": [
    {
     "data": {
      "text/html": [
       "<div>\n",
       "<style scoped>\n",
       "    .dataframe tbody tr th:only-of-type {\n",
       "        vertical-align: middle;\n",
       "    }\n",
       "\n",
       "    .dataframe tbody tr th {\n",
       "        vertical-align: top;\n",
       "    }\n",
       "\n",
       "    .dataframe thead th {\n",
       "        text-align: right;\n",
       "    }\n",
       "</style>\n",
       "<table border=\"1\" class=\"dataframe\">\n",
       "  <thead>\n",
       "    <tr style=\"text-align: right;\">\n",
       "      <th></th>\n",
       "      <th>sum</th>\n",
       "    </tr>\n",
       "    <tr>\n",
       "      <th>platform</th>\n",
       "      <th></th>\n",
       "    </tr>\n",
       "  </thead>\n",
       "  <tbody>\n",
       "    <tr>\n",
       "      <td>PS2</td>\n",
       "      <td>1233.56</td>\n",
       "    </tr>\n",
       "    <tr>\n",
       "      <td>X360</td>\n",
       "      <td>961.24</td>\n",
       "    </tr>\n",
       "    <tr>\n",
       "      <td>PS3</td>\n",
       "      <td>931.34</td>\n",
       "    </tr>\n",
       "    <tr>\n",
       "      <td>Wii</td>\n",
       "      <td>891.18</td>\n",
       "    </tr>\n",
       "    <tr>\n",
       "      <td>DS</td>\n",
       "      <td>802.78</td>\n",
       "    </tr>\n",
       "  </tbody>\n",
       "</table>\n",
       "</div>"
      ],
      "text/plain": [
       "              sum\n",
       "platform         \n",
       "PS2       1233.56\n",
       "X360       961.24\n",
       "PS3        931.34\n",
       "Wii        891.18\n",
       "DS         802.78"
      ]
     },
     "execution_count": 29,
     "metadata": {},
     "output_type": "execute_result"
    }
   ],
   "source": [
    "data_by_platform. groupby('platform').agg({'sum':'sum'}).sort_values(by = 'sum', ascending = False).head()"
   ]
  },
  {
   "cell_type": "markdown",
   "metadata": {},
   "source": [
    "Далее рассмотрим первые 3 платформы из рейтинга с наибольшим количеством суммарных продаж."
   ]
  },
  {
   "cell_type": "code",
   "execution_count": 30,
   "metadata": {},
   "outputs": [
    {
     "data": {
      "image/png": "[encoded data removed]",
      "text/plain": [
       "<Figure size 432x288 with 1 Axes>"
      ]
     },
     "metadata": {
      "needs_background": "light"
     },
     "output_type": "display_data"
    }
   ],
   "source": [
    "boxplot = sns.barplot(x='year_of_release', y='sum', data = data_by_platform.query('platform == \"PS2\"'))\n",
    "sns.set(rc={'figure.figsize':(15, 5)})\n",
    "boxplot.axes.set_title(\"Суммарные продажи для PS2 \", fontsize=16)\n",
    "boxplot.set_xlabel(\"Год\", fontsize=14)\n",
    "boxplot.set_ylabel(\"Суммарные продажи\", fontsize=14);"
   ]
  },
  {
   "cell_type": "code",
   "execution_count": 31,
   "metadata": {},
   "outputs": [
    {
     "data": {
      "image/png": "[encoded data removed]",
      "text/plain": [
       "<Figure size 1080x360 with 1 Axes>"
      ]
     },
     "metadata": {},
     "output_type": "display_data"
    }
   ],
   "source": [
    "boxplot = sns.barplot(x='year_of_release', y='sum', data = data_by_platform.query('platform == \"X360\"'))\n",
    "sns.set(rc={'figure.figsize':(15, 5)})\n",
    "boxplot.axes.set_title(\"Суммарные продажи для X360 \", fontsize=16)\n",
    "boxplot.set_xlabel(\"Год\", fontsize=14)\n",
    "boxplot.set_ylabel(\"Суммарные продажи\", fontsize=14);"
   ]
  },
  {
   "cell_type": "code",
   "execution_count": 32,
   "metadata": {},
   "outputs": [
    {
     "data": {
      "image/png": "[encoded data removed]",
      "text/plain": [
       "<Figure size 1080x360 with 1 Axes>"
      ]
     },
     "metadata": {},
     "output_type": "display_data"
    }
   ],
   "source": [
    "boxplot = sns.barplot(x='year_of_release', y='sum', data = data_by_platform.query('platform == \"PS3\"'))\n",
    "sns.set(rc={'figure.figsize':(15, 5)})\n",
    "boxplot.axes.set_title(\"Суммарные продажи для PS3 \", fontsize=16)\n",
    "boxplot.set_xlabel(\"Год\", fontsize=14)\n",
    "boxplot.set_ylabel(\"Суммарные продажи\", fontsize=14);"
   ]
  },
  {
   "cell_type": "markdown",
   "metadata": {},
   "source": [
    "На гистограммах видно, что в среднем платформа пользуется популярностью в течение 8 лет, затем продажи игр на ней значительно снижаются. "
   ]
  },
  {
   "cell_type": "code",
   "execution_count": 33,
   "metadata": {},
   "outputs": [
    {
     "data": {
      "text/plain": [
       "year_of_release    6.677419\n",
       "dtype: float64"
      ]
     },
     "execution_count": 33,
     "metadata": {},
     "output_type": "execute_result"
    }
   ],
   "source": [
    "# Проверим расчетом\n",
    "platform_exist = data_by_platform. groupby('platform').agg({'year_of_release':'count'})\n",
    "# период \"существования\" равен числу представленных в датасете годов -1 \n",
    "platform_exist['year_of_release'] = platform_exist['year_of_release'] -1\n",
    "platform_exist.mean()"
   ]
  },
  {
   "cell_type": "markdown",
   "metadata": {},
   "source": [
    "Согласно расчетным данным средний период существования платформы около 7 лет, что соспоставимо с данными полученными по графикам."
   ]
  },
  {
   "cell_type": "markdown",
   "metadata": {},
   "source": [
    "Таким образом для выбора потенциально прибыльной платформы для составления прогноза на 2017 год, оценим поведение платформ в период с 2010 года (так как данные за 2016 неполные) до 2016 года так как, с учетом характерного срока \"появления и исчезновения\" платформ, платформы, показывающие рост в этот период с большой долей вероятности останутся популярными и в 2017 году. Это и будет актуальным периодом для оценки."
   ]
  },
  {
   "cell_type": "code",
   "execution_count": 1,
   "metadata": {},
   "outputs": [],
   "source": [
    "list_cols = ['col1', 'col2', 'col3']"
   ]
  },
  {
   "cell_type": "code",
   "execution_count": null,
   "metadata": {},
   "outputs": [],
   "source": [
    "for col in list_cols:\n",
    "    df.loc[(df[col] != 1), 'col_to_change'] = 21"
   ]
  },
  {
   "cell_type": "code",
   "execution_count": 34,
   "metadata": {},
   "outputs": [
    {
     "data": {
      "text/html": [
       "<div>\n",
       "<style scoped>\n",
       "    .dataframe tbody tr th:only-of-type {\n",
       "        vertical-align: middle;\n",
       "    }\n",
       "\n",
       "    .dataframe tbody tr th {\n",
       "        vertical-align: top;\n",
       "    }\n",
       "\n",
       "    .dataframe thead th {\n",
       "        text-align: right;\n",
       "    }\n",
       "</style>\n",
       "<table border=\"1\" class=\"dataframe\">\n",
       "  <thead>\n",
       "    <tr style=\"text-align: right;\">\n",
       "      <th></th>\n",
       "      <th>sum</th>\n",
       "    </tr>\n",
       "    <tr>\n",
       "      <th>platform</th>\n",
       "      <th></th>\n",
       "    </tr>\n",
       "  </thead>\n",
       "  <tbody>\n",
       "    <tr>\n",
       "      <td>PS3</td>\n",
       "      <td>587.74</td>\n",
       "    </tr>\n",
       "    <tr>\n",
       "      <td>X360</td>\n",
       "      <td>550.41</td>\n",
       "    </tr>\n",
       "    <tr>\n",
       "      <td>PS4</td>\n",
       "      <td>314.14</td>\n",
       "    </tr>\n",
       "    <tr>\n",
       "      <td>3DS</td>\n",
       "      <td>257.81</td>\n",
       "    </tr>\n",
       "    <tr>\n",
       "      <td>Wii</td>\n",
       "      <td>222.97</td>\n",
       "    </tr>\n",
       "    <tr>\n",
       "      <td>XOne</td>\n",
       "      <td>159.32</td>\n",
       "    </tr>\n",
       "    <tr>\n",
       "      <td>DS</td>\n",
       "      <td>123.75</td>\n",
       "    </tr>\n",
       "    <tr>\n",
       "      <td>PC</td>\n",
       "      <td>121.96</td>\n",
       "    </tr>\n",
       "    <tr>\n",
       "      <td>WiiU</td>\n",
       "      <td>82.19</td>\n",
       "    </tr>\n",
       "    <tr>\n",
       "      <td>PSP</td>\n",
       "      <td>64.05</td>\n",
       "    </tr>\n",
       "    <tr>\n",
       "      <td>PSV</td>\n",
       "      <td>53.81</td>\n",
       "    </tr>\n",
       "    <tr>\n",
       "      <td>PS2</td>\n",
       "      <td>6.09</td>\n",
       "    </tr>\n",
       "  </tbody>\n",
       "</table>\n",
       "</div>"
      ],
      "text/plain": [
       "             sum\n",
       "platform        \n",
       "PS3       587.74\n",
       "X360      550.41\n",
       "PS4       314.14\n",
       "3DS       257.81\n",
       "Wii       222.97\n",
       "XOne      159.32\n",
       "DS        123.75\n",
       "PC        121.96\n",
       "WiiU       82.19\n",
       "PSP        64.05\n",
       "PSV        53.81\n",
       "PS2         6.09"
      ]
     },
     "execution_count": 34,
     "metadata": {},
     "output_type": "execute_result"
    }
   ],
   "source": [
    "data_by_platform.query('year_of_release > 2009')\\\n",
    "                .groupby('platform').agg({'sum':'sum'}).sort_values(by = 'sum', ascending = False)"
   ]
  },
  {
   "cell_type": "markdown",
   "metadata": {},
   "source": [
    "По суммарным продажам \"лидеры\" практически не изменились, но возможно суммарно платформа имеет неплохие цифры, а в динамике показатели снижаются и близится \"срок исчезновения\" платформы. Увидеть это наглядно можно с помощью графика суммарных продаж по годам. Проверим первые три платформы в списке."
   ]
  },
  {
   "cell_type": "code",
   "execution_count": 35,
   "metadata": {},
   "outputs": [
    {
     "data": {
      "image/png": "[encoded data removed]",
      "text/plain": [
       "<Figure size 1080x360 with 1 Axes>"
      ]
     },
     "metadata": {},
     "output_type": "display_data"
    }
   ],
   "source": [
    "boxplot = sns.barplot(x='year_of_release', y='sum', hue='platform',\\\n",
    "                      data = data_by_platform.query('year_of_release > 2009 and platform in [\"PS3\",\"X360\",\"PS4\"]'))\n",
    "boxplot.axes.set_title(\"Суммарные продажи за актуальный период PS3,X360,PS4\", fontsize=16)\n",
    "boxplot.set_xlabel(\"Год\", fontsize=14)\n",
    "boxplot.set_ylabel(\"Суммарные продажи\", fontsize=14);"
   ]
  },
  {
   "cell_type": "markdown",
   "metadata": {},
   "source": [
    "При оценке изменения суммарный продаж платформ за актуальный период видно что продажи PS3 и X360 постепенно снижаются, что не позволяет выбрать их в качестве потенциально прибыльной платформы на 2017 год. \n",
    "\n",
    "**Напротив, продажи PS4 постепенно повышаются и есть большая вероятность на сохранение этой тенденции в 2017 году - потенциально прибыльная платформа.** "
   ]
  },
  {
   "cell_type": "markdown",
   "metadata": {},
   "source": [
    "Потенциально прибыльной также может оказаться платформа, которая только набирает популярность в актуальном периоде, а соответственно не имеет больших суммарных продаж, проверим ещё несколько платформ из списка."
   ]
  },
  {
   "cell_type": "code",
   "execution_count": 36,
   "metadata": {},
   "outputs": [
    {
     "data": {
      "image/png": "[encoded data removed]",
      "text/plain": [
       "<Figure size 1080x360 with 1 Axes>"
      ]
     },
     "metadata": {},
     "output_type": "display_data"
    }
   ],
   "source": [
    "boxplot = sns.barplot(x='year_of_release', y='sum', hue='platform',\\\n",
    "                      data = data_by_platform.query('year_of_release > 2009 and platform in [\"3DS\",\"Wii\",\"XOne\",\"DS\", \"PC\"]'))\n",
    "boxplot.axes.set_title(\"Суммарные продажи за актуальный период 3DS,Wii,XOne,DS,PC\", fontsize=16)\n",
    "boxplot.set_xlabel(\"Год\", fontsize=14)\n",
    "boxplot.set_ylabel(\"Суммарные продажи\", fontsize=14);"
   ]
  },
  {
   "cell_type": "markdown",
   "metadata": {},
   "source": [
    "Платформы Wii и DS постепенно \"угасают\" в течение актуального периода. Платформа PC также не может быть рекомендована для использования в качестве потенциально прибыльной, согласно периоду \"появления/исчезания\" даже, если она останется востребованной в 2017 году, высокие цифры продаж показать скорее всего не сможет.\n",
    "\n",
    "**А вот платформа XOne демонстрирует постепенное увеличение продаж - является потенциально прибыльной платформой для 2017 года.** В качестве альтернативы можно также рассмотреть платформу 3DS, которая может показать неплохие результаты с прогнозиуемом периоде согласно периоду \"появления/исчезания\", но все же её продажи в динамике снижаются."
   ]
  },
  {
   "cell_type": "code",
   "execution_count": 37,
   "metadata": {},
   "outputs": [
    {
     "data": {
      "image/png": "[encoded data removed]",
      "text/plain": [
       "<Figure size 1080x360 with 1 Axes>"
      ]
     },
     "metadata": {},
     "output_type": "display_data"
    }
   ],
   "source": [
    "# проверим оставшиеся платформы\n",
    "boxplot = sns.barplot(x='year_of_release', y='sum', hue='platform',\\\n",
    "                      data = data_by_platform.query('year_of_release > 2009 and platform in [\"WiiU\",\"PSP\",\"PSV\",\"PS2\"]'))\n",
    "boxplot.axes.set_title(\"Суммарные продажи за актуальный период WiiU,PSP,PSV,PS2\", fontsize=16)\n",
    "boxplot.set_xlabel(\"Год\", fontsize=14)\n",
    "boxplot.set_ylabel(\"Суммарные продажи\", fontsize=14);\n"
   ]
  },
  {
   "cell_type": "markdown",
   "metadata": {},
   "source": [
    "Платформы PSP и PS2 не показывают значимых продаж с 2013 года. **Платформа WiiU**  находится \"на пике\" согласно периоду \"появления/исчезания\" и в прогнозируемом году с большой долей вероятности покажет неплохие уровни продаж, хотя они и снижаются в динамике - может быть выбрана в качестве потенциально прибыльной на 2017 год. Платформа PSV может показать неплохие результаты с прогнозиуемом периоде согласно периоду \"появления/исчезания\", но все же её время \"заканчивается\" - может быть использована в качестве дополнительного варианта."
   ]
  },
  {
   "cell_type": "markdown",
   "metadata": {},
   "source": [
    "#### Вывод"
   ]
  },
  {
   "cell_type": "markdown",
   "metadata": {},
   "source": [
    "1. Актуальным периодом для построения прогноза по данным датасета выбран период с 2010 по 2016 год.\n",
    "2. Потенциально прибыльными платформами на 2017 год выбраны:\n",
    "* PS4\n",
    "* XOne\n",
    "* WiiU\n",
    "3. При необходимости в качестве дополнительных вариантов потенциально прибыльных платформ на 2017 год могут быть рассмотрены:\n",
    "* 3DS\n",
    "* PSV"
   ]
  },
  {
   "cell_type": "markdown",
   "metadata": {},
   "source": [
    "### Глобальные продажи игр по выбранным платформам"
   ]
  },
  {
   "cell_type": "code",
   "execution_count": 38,
   "metadata": {},
   "outputs": [],
   "source": [
    "#  выделим данные за актуальный период по выбранным плафтормам в отдельный датасет\n",
    "data_actual = data.query('year_of_release > 2009 and platform in [\"PS4\", \"XOne\", \"WiiU\"]')"
   ]
  },
  {
   "cell_type": "code",
   "execution_count": 39,
   "metadata": {},
   "outputs": [
    {
     "data": {
      "text/plain": [
       "(0, 2.5)"
      ]
     },
     "execution_count": 39,
     "metadata": {},
     "output_type": "execute_result"
    },
    {
     "data": {
      "image/png": "[encoded data removed]",
      "text/plain": [
       "<Figure size 1080x360 with 1 Axes>"
      ]
     },
     "metadata": {},
     "output_type": "display_data"
    }
   ],
   "source": [
    "boxplot = sns.boxplot(x='platform', y='total_sales', data = data_actual)\n",
    "sns.set(rc={'figure.figsize':(10, 10)})\n",
    "boxplot.set_xlabel(\"Платформы\", fontsize=14)\n",
    "boxplot.set_ylabel(\"Суммарные продажи\", fontsize=14);\n",
    "boxplot.axes.set_title(\"Суммарные продажи за актуальный период по выбранным платформам\", fontsize=16)\n",
    "plt.ylim(0, 2.5)"
   ]
  },
  {
   "cell_type": "markdown",
   "metadata": {},
   "source": [
    "Медианы  глобальных продаж разных игр на платформах XOne и WiiU равны - около 200 тысяч проданных копий, медиана платформы PS4 несколько ниже, но сопоставима. На всех платформах отмечается смещение медианы в сторону меньших значений. Таким образом среди выбранных потенциально прибыльных платформ ни одна не превалирует по глобальным продажам.\n",
    "\n",
    "При этом межквартильный размах на платформе WiiU минимальный, что говорит о меньшем разнообразии продаж по разным играм на этой платформе. А у платформы PS4 расстояние между первым и третьим квартилем наибольшее, что говорит о большем \"разнообразии\" выборки по количеству продаж разных игр. Также у этой платформы наибольшее число \"больших\" продаж по отдельным играм. Платформа XOne занимает промежуточную позицию. "
   ]
  },
  {
   "cell_type": "markdown",
   "metadata": {},
   "source": [
    "### Влияние отзывов на продажи на популярных платформах"
   ]
  },
  {
   "cell_type": "markdown",
   "metadata": {},
   "source": [
    "Согласно проведенному выше анализу данных выявлено, что в актуальном периоде наиболее популярными (наибольшее количество суммарных продаж) являются PS3, X360 и PS4. Необходимо определить влияние отзывов пользователе и критиков на продажи.\t"
   ]
  },
  {
   "cell_type": "markdown",
   "metadata": {},
   "source": [
    "#### Отзывы пользователей"
   ]
  },
  {
   "cell_type": "markdown",
   "metadata": {},
   "source": [
    "Построим диаграммы рассеяния для продаж и отзывов пользователей (для актуального периода) по каждой из платформ"
   ]
  },
  {
   "cell_type": "code",
   "execution_count": 40,
   "metadata": {},
   "outputs": [
    {
     "name": "stderr",
     "output_type": "stream",
     "text": [
      "'c' argument looks like a single numeric RGB or RGBA sequence, which should be avoided as value-mapping will have precedence in case its length matches with 'x' & 'y'.  Please use a 2-D array with a single row if you really want to specify the same RGB or RGBA value for all points.\n"
     ]
    },
    {
     "data": {
      "text/plain": [
       "<function matplotlib.pyplot.show(*args, **kw)>"
      ]
     },
     "execution_count": 40,
     "metadata": {},
     "output_type": "execute_result"
    },
    {
     "data": {
      "image/png": "[encoded data removed]",
      "text/plain": [
       "<Figure size 720x720 with 1 Axes>"
      ]
     },
     "metadata": {},
     "output_type": "display_data"
    }
   ],
   "source": [
    "data_actual = data.query('year_of_release > 2009')\n",
    "# в оценках пользователей есть пропуски, во избежании искажения данных анализа, уберем пропуски из данных для анализа.\n",
    "data_user = data_actual.query('user_score.isna() == False')\n",
    "data_user.query('platform == \"PS3\"').plot(x='user_score', y='total_sales', kind='scatter')\n",
    "plt.title('PS3')\n",
    "plt.show"
   ]
  },
  {
   "cell_type": "code",
   "execution_count": 41,
   "metadata": {},
   "outputs": [
    {
     "name": "stderr",
     "output_type": "stream",
     "text": [
      "'c' argument looks like a single numeric RGB or RGBA sequence, which should be avoided as value-mapping will have precedence in case its length matches with 'x' & 'y'.  Please use a 2-D array with a single row if you really want to specify the same RGB or RGBA value for all points.\n"
     ]
    },
    {
     "data": {
      "text/plain": [
       "<function matplotlib.pyplot.show(*args, **kw)>"
      ]
     },
     "execution_count": 41,
     "metadata": {},
     "output_type": "execute_result"
    },
    {
     "data": {
      "image/png": "[encoded data removed]",
      "text/plain": [
       "<Figure size 720x720 with 1 Axes>"
      ]
     },
     "metadata": {},
     "output_type": "display_data"
    }
   ],
   "source": [
    "data_user.query('platform == \"X360\"').plot(x='user_score', y='total_sales', kind='scatter')\n",
    "plt.title('X360')\n",
    "plt.show"
   ]
  },
  {
   "cell_type": "code",
   "execution_count": 42,
   "metadata": {},
   "outputs": [
    {
     "name": "stderr",
     "output_type": "stream",
     "text": [
      "'c' argument looks like a single numeric RGB or RGBA sequence, which should be avoided as value-mapping will have precedence in case its length matches with 'x' & 'y'.  Please use a 2-D array with a single row if you really want to specify the same RGB or RGBA value for all points.\n"
     ]
    },
    {
     "data": {
      "text/plain": [
       "<function matplotlib.pyplot.show(*args, **kw)>"
      ]
     },
     "execution_count": 42,
     "metadata": {},
     "output_type": "execute_result"
    },
    {
     "data": {
      "image/png": "[encoded data removed]",
      "text/plain": [
       "<Figure size 720x720 with 1 Axes>"
      ]
     },
     "metadata": {},
     "output_type": "display_data"
    }
   ],
   "source": [
    "data_user.query('platform == \"PS4\"').plot(x='user_score', y='total_sales', kind='scatter')\n",
    "plt.title('PS4')\n",
    "plt.show"
   ]
  },
  {
   "cell_type": "markdown",
   "metadata": {},
   "source": [
    "Диаграммы рассеяния для всех платформ выглядят однотипно: точки расположены преимущественно вдоль одной линии параллельно оси х, визуально сложно определить наличие корреляционной связи, вероятно она довольно слабая, логично предположить положительный характер связи. Обращает на себя внимание, что в группе игр с высоким пользовательским рейтингом (выше 4 - PS3 и X360, выше 5,5  - PS4) отмечается увеличение числа \"больших\" продаж выбивающихся из графика. Проверим коэффициенты Пирсона для каждой платформы."
   ]
  },
  {
   "cell_type": "code",
   "execution_count": 43,
   "metadata": {},
   "outputs": [
    {
     "name": "stdout",
     "output_type": "stream",
     "text": [
      "PS3 0.06\n",
      "X360 0.06\n",
      "PS4 0.06\n"
     ]
    }
   ],
   "source": [
    "top_platform = [\"PS3\",\"X360\",\"PS4\"]\n",
    "for platform in top_platform:\n",
    "    print (platform, round(data_user.query('platform == platform')['user_score'].corr(data['total_sales']), 2))"
   ]
  },
  {
   "cell_type": "markdown",
   "metadata": {},
   "source": [
    "Коэффициент одинаковый для всех платформ.\n",
    "Коэффициент подтверждает наши предположения о положительном характере связи, также показывая, что связь очень слаба,практически отсутствует."
   ]
  },
  {
   "cell_type": "markdown",
   "metadata": {},
   "source": [
    "#### Отзывы критиков"
   ]
  },
  {
   "cell_type": "code",
   "execution_count": 44,
   "metadata": {},
   "outputs": [
    {
     "name": "stderr",
     "output_type": "stream",
     "text": [
      "'c' argument looks like a single numeric RGB or RGBA sequence, which should be avoided as value-mapping will have precedence in case its length matches with 'x' & 'y'.  Please use a 2-D array with a single row if you really want to specify the same RGB or RGBA value for all points.\n"
     ]
    },
    {
     "data": {
      "text/plain": [
       "<function matplotlib.pyplot.show(*args, **kw)>"
      ]
     },
     "execution_count": 44,
     "metadata": {},
     "output_type": "execute_result"
    },
    {
     "data": {
      "image/png": "[encoded data removed]",
      "text/plain": [
       "<Figure size 720x720 with 1 Axes>"
      ]
     },
     "metadata": {},
     "output_type": "display_data"
    }
   ],
   "source": [
    "# построим диаграммы рассеяния для отзывов критиков и суммарных продаж на популярных платформах\n",
    "# в оценках критиков есть пропуски, во избежании искажения данных анализа, уберем пропуски из данных для анализа.\n",
    "data_сritic = data_actual.query('critic_score.isna() == False')\n",
    "data_сritic.query('platform == \"PS3\"').plot(x='critic_score', y='total_sales', kind='scatter')\n",
    "plt.title('PS3')\n",
    "plt.show"
   ]
  },
  {
   "cell_type": "code",
   "execution_count": 45,
   "metadata": {},
   "outputs": [
    {
     "name": "stderr",
     "output_type": "stream",
     "text": [
      "'c' argument looks like a single numeric RGB or RGBA sequence, which should be avoided as value-mapping will have precedence in case its length matches with 'x' & 'y'.  Please use a 2-D array with a single row if you really want to specify the same RGB or RGBA value for all points.\n"
     ]
    },
    {
     "data": {
      "text/plain": [
       "<function matplotlib.pyplot.show(*args, **kw)>"
      ]
     },
     "execution_count": 45,
     "metadata": {},
     "output_type": "execute_result"
    },
    {
     "data": {
      "image/png": "[encoded data removed]",
      "text/plain": [
       "<Figure size 720x720 with 1 Axes>"
      ]
     },
     "metadata": {},
     "output_type": "display_data"
    }
   ],
   "source": [
    "data_сritic.query('platform == \"X360\"').plot(x='critic_score', y='total_sales', kind='scatter')\n",
    "plt.title('X360')\n",
    "plt.show"
   ]
  },
  {
   "cell_type": "code",
   "execution_count": 46,
   "metadata": {},
   "outputs": [
    {
     "name": "stderr",
     "output_type": "stream",
     "text": [
      "'c' argument looks like a single numeric RGB or RGBA sequence, which should be avoided as value-mapping will have precedence in case its length matches with 'x' & 'y'.  Please use a 2-D array with a single row if you really want to specify the same RGB or RGBA value for all points.\n"
     ]
    },
    {
     "data": {
      "text/plain": [
       "<function matplotlib.pyplot.show(*args, **kw)>"
      ]
     },
     "execution_count": 46,
     "metadata": {},
     "output_type": "execute_result"
    },
    {
     "data": {
      "image/png": "[encoded data removed]",
      "text/plain": [
       "<Figure size 720x720 with 1 Axes>"
      ]
     },
     "metadata": {},
     "output_type": "display_data"
    }
   ],
   "source": [
    "data_сritic.query('platform == \"PS4\"').plot(x='critic_score', y='total_sales', kind='scatter')\n",
    "plt.title('PS4')\n",
    "plt.show"
   ]
  },
  {
   "cell_type": "markdown",
   "metadata": {},
   "source": [
    "Диаграммы рассеяния также для всех платформ выглядят однотипно: точки расположены преимущественно вдоль одной линии параллельно оси х. Обращает на себя внимание, что после отметки 80 на всех платформах отмечается небольшой подъем продаж. Согласно графикам можно предположить наличие слабой положиетльной корреляционной связи между оценками критиков и суммарными продажами. Проверим коэффициенты Пирсона."
   ]
  },
  {
   "cell_type": "code",
   "execution_count": 47,
   "metadata": {},
   "outputs": [
    {
     "name": "stdout",
     "output_type": "stream",
     "text": [
      "PS3 0.32\n",
      "X360 0.32\n",
      "PS4 0.32\n"
     ]
    }
   ],
   "source": [
    "for platform in top_platform:\n",
    "    print (platform, round(data_сritic.query('platform == platform')['critic_score'].corr(data['total_sales']), 2))"
   ]
  },
  {
   "cell_type": "markdown",
   "metadata": {},
   "source": [
    "Коэффициент Пирсона для всех платформ одинаков и подтверждает наши предположения, основанные на графике, о наличии слабой положительной корреляционной связи."
   ]
  },
  {
   "cell_type": "markdown",
   "metadata": {},
   "source": [
    "#### Вывод"
   ]
  },
  {
   "cell_type": "markdown",
   "metadata": {},
   "source": [
    "Ожидаемое влияние оценок пользователей на продажи игр не подтверждено, в то же время влияние оценок критиков на продажи подтверждено, но выраженность его невелика - характер корреляционной связи положительный.\n"
   ]
  },
  {
   "cell_type": "markdown",
   "metadata": {},
   "source": [
    "### Общее распределение игр по жанрам "
   ]
  },
  {
   "cell_type": "code",
   "execution_count": 48,
   "metadata": {},
   "outputs": [
    {
     "data": {
      "text/plain": [
       "      genre       \n",
       "name  Action          1495\n",
       "      Adventure        563\n",
       "      Fighting         199\n",
       "      Misc             576\n",
       "      Platform         153\n",
       "      Puzzle           114\n",
       "      Racing           237\n",
       "      Role-Playing     568\n",
       "      Shooter          410\n",
       "      Simulation       217\n",
       "      Sports           575\n",
       "      Strategy         170\n",
       "dtype: int64"
      ]
     },
     "execution_count": 48,
     "metadata": {},
     "output_type": "execute_result"
    }
   ],
   "source": [
    "# посмотрим как распределяются игра в данных по жанрам\n",
    "data_genre = data_actual.pivot_table(index = 'genre', values = 'name', aggfunc = 'count')\n",
    "data_genre = data_genre.unstack()\n",
    "data_genre"
   ]
  },
  {
   "cell_type": "code",
   "execution_count": 49,
   "metadata": {},
   "outputs": [
    {
     "data": {
      "text/plain": [
       "<function matplotlib.pyplot.show(*args, **kw)>"
      ]
     },
     "execution_count": 49,
     "metadata": {},
     "output_type": "execute_result"
    },
    {
     "data": {
      "image/png": "[encoded data removed]",
      "text/plain": [
       "<Figure size 720x720 with 1 Axes>"
      ]
     },
     "metadata": {},
     "output_type": "display_data"
    }
   ],
   "source": [
    "boxplot = data_genre.plot(kind = 'bar', x = 'genre', y = 'name')\n",
    "boxplot.set_ylim(0,1500)\n",
    "plt.show"
   ]
  },
  {
   "cell_type": "markdown",
   "metadata": {},
   "source": [
    "В датасете наибольшее количество игр в жанре Action, затем идут жанры Adventure, Misc, Role-Playing и Sports, но их количество почти в три раза меньше ирг в жанре Action."
   ]
  },
  {
   "cell_type": "code",
   "execution_count": 50,
   "metadata": {},
   "outputs": [
    {
     "name": "stderr",
     "output_type": "stream",
     "text": [
      "/opt/conda/lib/python3.7/site-packages/numpy/core/_asarray.py:83: VisibleDeprecationWarning: Creating an ndarray from ragged nested sequences (which is a list-or-tuple of lists-or-tuples-or ndarrays with different lengths or shapes) is deprecated. If you meant to do this, you must specify 'dtype=object' when creating the ndarray\n",
      "  return array(a, dtype, copy=False, order=order)\n"
     ]
    },
    {
     "data": {
      "text/plain": [
       "<function matplotlib.pyplot.show(*args, **kw)>"
      ]
     },
     "execution_count": 50,
     "metadata": {},
     "output_type": "execute_result"
    },
    {
     "data": {
      "image/png": "[encoded data removed]",
      "text/plain": [
       "<Figure size 1080x1080 with 1 Axes>"
      ]
     },
     "metadata": {},
     "output_type": "display_data"
    }
   ],
   "source": [
    "# график продаж в распределнии по жанрам\n",
    "boxplot = data_actual.boxplot(column = 'total_sales', by = 'genre', figsize = (15,15))\n",
    "boxplot.set_ylim(0,2.5)\n",
    "plt.show"
   ]
  },
  {
   "cell_type": "markdown",
   "metadata": {},
   "source": [
    "Согласно медианам наибольшее количество продаж у игр в жанре Shooter, кроме того у них самый большой межквартильный размах, что свидетельствует о наличии некоторого количества \"больших\" продаж среди игр этого жанра. \n",
    "\n",
    "Следом идут игры в жанрах Sports, Fighting и Platform, их медианы продаж сопоставимы, но у игр в жанре Platform также виден больший межквартильный размах по сравнению с другими. \n",
    "\n",
    "Самое маленькое количество продаж у игр в жанре Adventure."
   ]
  },
  {
   "cell_type": "markdown",
   "metadata": {},
   "source": [
    "## Портрет пользователя по регионам"
   ]
  },
  {
   "cell_type": "markdown",
   "metadata": {},
   "source": [
    "### Популярные платформы"
   ]
  },
  {
   "cell_type": "markdown",
   "metadata": {},
   "source": [
    "#### Северная Америка"
   ]
  },
  {
   "cell_type": "code",
   "execution_count": 51,
   "metadata": {},
   "outputs": [
    {
     "data": {
      "text/plain": [
       "1130.41"
      ]
     },
     "execution_count": 51,
     "metadata": {},
     "output_type": "execute_result"
    }
   ],
   "source": [
    "# узнаем общие продажи в Северной Америке\n",
    "data_actual['na_sales'].sum()"
   ]
  },
  {
   "cell_type": "code",
   "execution_count": 52,
   "metadata": {},
   "outputs": [
    {
     "data": {
      "text/html": [
       "<div>\n",
       "<style scoped>\n",
       "    .dataframe tbody tr th:only-of-type {\n",
       "        vertical-align: middle;\n",
       "    }\n",
       "\n",
       "    .dataframe tbody tr th {\n",
       "        vertical-align: top;\n",
       "    }\n",
       "\n",
       "    .dataframe thead th {\n",
       "        text-align: right;\n",
       "    }\n",
       "</style>\n",
       "<table border=\"1\" class=\"dataframe\">\n",
       "  <thead>\n",
       "    <tr style=\"text-align: right;\">\n",
       "      <th></th>\n",
       "      <th>na_sales</th>\n",
       "      <th>ratio</th>\n",
       "    </tr>\n",
       "    <tr>\n",
       "      <th>platform</th>\n",
       "      <th></th>\n",
       "      <th></th>\n",
       "    </tr>\n",
       "  </thead>\n",
       "  <tbody>\n",
       "    <tr>\n",
       "      <td>X360</td>\n",
       "      <td>334.18</td>\n",
       "      <td>0.296</td>\n",
       "    </tr>\n",
       "    <tr>\n",
       "      <td>PS3</td>\n",
       "      <td>229.25</td>\n",
       "      <td>0.203</td>\n",
       "    </tr>\n",
       "    <tr>\n",
       "      <td>Wii</td>\n",
       "      <td>121.20</td>\n",
       "      <td>0.107</td>\n",
       "    </tr>\n",
       "    <tr>\n",
       "      <td>PS4</td>\n",
       "      <td>108.74</td>\n",
       "      <td>0.096</td>\n",
       "    </tr>\n",
       "    <tr>\n",
       "      <td>XOne</td>\n",
       "      <td>93.12</td>\n",
       "      <td>0.082</td>\n",
       "    </tr>\n",
       "  </tbody>\n",
       "</table>\n",
       "</div>"
      ],
      "text/plain": [
       "          na_sales  ratio\n",
       "platform                 \n",
       "X360        334.18  0.296\n",
       "PS3         229.25  0.203\n",
       "Wii         121.20  0.107\n",
       "PS4         108.74  0.096\n",
       "XOne         93.12  0.082"
      ]
     },
     "execution_count": 52,
     "metadata": {},
     "output_type": "execute_result"
    }
   ],
   "source": [
    "na = data_actual.groupby('platform').agg({'na_sales':'sum'}).sort_values(by = 'na_sales', ascending = False)\n",
    "na['ratio'] = round(na['na_sales']/1130.41, 3)\n",
    "na.head()"
   ]
  },
  {
   "cell_type": "markdown",
   "metadata": {},
   "source": [
    "#### Европа"
   ]
  },
  {
   "cell_type": "code",
   "execution_count": 53,
   "metadata": {},
   "outputs": [
    {
     "data": {
      "text/plain": [
       "841.21"
      ]
     },
     "execution_count": 53,
     "metadata": {},
     "output_type": "execute_result"
    }
   ],
   "source": [
    "# узнаем общие продажи в Европе\n",
    "data_actual['eu_sales'].sum()"
   ]
  },
  {
   "cell_type": "code",
   "execution_count": 54,
   "metadata": {},
   "outputs": [
    {
     "data": {
      "text/html": [
       "<div>\n",
       "<style scoped>\n",
       "    .dataframe tbody tr th:only-of-type {\n",
       "        vertical-align: middle;\n",
       "    }\n",
       "\n",
       "    .dataframe tbody tr th {\n",
       "        vertical-align: top;\n",
       "    }\n",
       "\n",
       "    .dataframe thead th {\n",
       "        text-align: right;\n",
       "    }\n",
       "</style>\n",
       "<table border=\"1\" class=\"dataframe\">\n",
       "  <thead>\n",
       "    <tr style=\"text-align: right;\">\n",
       "      <th></th>\n",
       "      <th>eu_sales</th>\n",
       "      <th>ratio</th>\n",
       "    </tr>\n",
       "    <tr>\n",
       "      <th>platform</th>\n",
       "      <th></th>\n",
       "      <th></th>\n",
       "    </tr>\n",
       "  </thead>\n",
       "  <tbody>\n",
       "    <tr>\n",
       "      <td>PS3</td>\n",
       "      <td>213.60</td>\n",
       "      <td>0.254</td>\n",
       "    </tr>\n",
       "    <tr>\n",
       "      <td>X360</td>\n",
       "      <td>163.41</td>\n",
       "      <td>0.194</td>\n",
       "    </tr>\n",
       "    <tr>\n",
       "      <td>PS4</td>\n",
       "      <td>141.09</td>\n",
       "      <td>0.168</td>\n",
       "    </tr>\n",
       "    <tr>\n",
       "      <td>PC</td>\n",
       "      <td>68.82</td>\n",
       "      <td>0.082</td>\n",
       "    </tr>\n",
       "    <tr>\n",
       "      <td>Wii</td>\n",
       "      <td>65.91</td>\n",
       "      <td>0.078</td>\n",
       "    </tr>\n",
       "  </tbody>\n",
       "</table>\n",
       "</div>"
      ],
      "text/plain": [
       "          eu_sales  ratio\n",
       "platform                 \n",
       "PS3         213.60  0.254\n",
       "X360        163.41  0.194\n",
       "PS4         141.09  0.168\n",
       "PC           68.82  0.082\n",
       "Wii          65.91  0.078"
      ]
     },
     "execution_count": 54,
     "metadata": {},
     "output_type": "execute_result"
    }
   ],
   "source": [
    "eu = data_actual.groupby('platform').agg({'eu_sales':'sum'}).sort_values(by = 'eu_sales', ascending = False)\n",
    "eu['ratio'] = round(eu['eu_sales']/841.21, 3)\n",
    "eu.head()"
   ]
  },
  {
   "cell_type": "markdown",
   "metadata": {},
   "source": [
    "#### Япония"
   ]
  },
  {
   "cell_type": "code",
   "execution_count": 55,
   "metadata": {},
   "outputs": [
    {
     "data": {
      "text/plain": [
       "305.14"
      ]
     },
     "execution_count": 55,
     "metadata": {},
     "output_type": "execute_result"
    }
   ],
   "source": [
    "# узнаем общие продажи в Японии\n",
    "data_actual['jp_sales'].sum()"
   ]
  },
  {
   "cell_type": "code",
   "execution_count": 56,
   "metadata": {},
   "outputs": [
    {
     "data": {
      "text/html": [
       "<div>\n",
       "<style scoped>\n",
       "    .dataframe tbody tr th:only-of-type {\n",
       "        vertical-align: middle;\n",
       "    }\n",
       "\n",
       "    .dataframe tbody tr th {\n",
       "        vertical-align: top;\n",
       "    }\n",
       "\n",
       "    .dataframe thead th {\n",
       "        text-align: right;\n",
       "    }\n",
       "</style>\n",
       "<table border=\"1\" class=\"dataframe\">\n",
       "  <thead>\n",
       "    <tr style=\"text-align: right;\">\n",
       "      <th></th>\n",
       "      <th>jp_sales</th>\n",
       "      <th>ratio</th>\n",
       "    </tr>\n",
       "    <tr>\n",
       "      <th>platform</th>\n",
       "      <th></th>\n",
       "      <th></th>\n",
       "    </tr>\n",
       "  </thead>\n",
       "  <tbody>\n",
       "    <tr>\n",
       "      <td>3DS</td>\n",
       "      <td>100.62</td>\n",
       "      <td>0.330</td>\n",
       "    </tr>\n",
       "    <tr>\n",
       "      <td>PS3</td>\n",
       "      <td>59.26</td>\n",
       "      <td>0.194</td>\n",
       "    </tr>\n",
       "    <tr>\n",
       "      <td>PSP</td>\n",
       "      <td>42.20</td>\n",
       "      <td>0.138</td>\n",
       "    </tr>\n",
       "    <tr>\n",
       "      <td>DS</td>\n",
       "      <td>27.90</td>\n",
       "      <td>0.091</td>\n",
       "    </tr>\n",
       "    <tr>\n",
       "      <td>PSV</td>\n",
       "      <td>21.84</td>\n",
       "      <td>0.072</td>\n",
       "    </tr>\n",
       "  </tbody>\n",
       "</table>\n",
       "</div>"
      ],
      "text/plain": [
       "          jp_sales  ratio\n",
       "platform                 \n",
       "3DS         100.62  0.330\n",
       "PS3          59.26  0.194\n",
       "PSP          42.20  0.138\n",
       "DS           27.90  0.091\n",
       "PSV          21.84  0.072"
      ]
     },
     "execution_count": 56,
     "metadata": {},
     "output_type": "execute_result"
    }
   ],
   "source": [
    "jp = data_actual.groupby('platform').agg({'jp_sales':'sum'}).sort_values(by = 'jp_sales', ascending = False)\n",
    "jp['ratio'] = round(jp['jp_sales']/305.14, 3)\n",
    "jp.head()"
   ]
  },
  {
   "cell_type": "markdown",
   "metadata": {},
   "source": [
    "#### Вывод"
   ]
  },
  {
   "cell_type": "markdown",
   "metadata": {},
   "source": [
    "Платформа PS3 пользуется популярностью во всех регионах, в Европе занимет 1-е место с 25,4% от всех продаж, в Северной Америке и Японии 2-е с 20,3% и 19,4% соответсвенно. \n",
    "\n",
    "В целом топ-5 Европы и Северной Америки похожи совпадают 4 из 5 позиций,при этом доля продаж \"отличающихся\" платформ чуть больше 8%.\n",
    "\n",
    "Популярные в Японии платформы (кроме PS3) не встречаются в топе других регионов, в том числе наиболее популярная платформа 3DS, которая занимает треть всех продаж."
   ]
  },
  {
   "cell_type": "markdown",
   "metadata": {},
   "source": [
    "### Популярные жанры"
   ]
  },
  {
   "cell_type": "markdown",
   "metadata": {},
   "source": [
    "#### Северная Америка"
   ]
  },
  {
   "cell_type": "code",
   "execution_count": 57,
   "metadata": {},
   "outputs": [
    {
     "data": {
      "text/html": [
       "<div>\n",
       "<style scoped>\n",
       "    .dataframe tbody tr th:only-of-type {\n",
       "        vertical-align: middle;\n",
       "    }\n",
       "\n",
       "    .dataframe tbody tr th {\n",
       "        vertical-align: top;\n",
       "    }\n",
       "\n",
       "    .dataframe thead th {\n",
       "        text-align: right;\n",
       "    }\n",
       "</style>\n",
       "<table border=\"1\" class=\"dataframe\">\n",
       "  <thead>\n",
       "    <tr style=\"text-align: right;\">\n",
       "      <th></th>\n",
       "      <th>na_sales</th>\n",
       "    </tr>\n",
       "    <tr>\n",
       "      <th>genre</th>\n",
       "      <th></th>\n",
       "    </tr>\n",
       "  </thead>\n",
       "  <tbody>\n",
       "    <tr>\n",
       "      <td>Action</td>\n",
       "      <td>290.64</td>\n",
       "    </tr>\n",
       "    <tr>\n",
       "      <td>Shooter</td>\n",
       "      <td>237.47</td>\n",
       "    </tr>\n",
       "    <tr>\n",
       "      <td>Sports</td>\n",
       "      <td>156.81</td>\n",
       "    </tr>\n",
       "    <tr>\n",
       "      <td>Misc</td>\n",
       "      <td>123.80</td>\n",
       "    </tr>\n",
       "    <tr>\n",
       "      <td>Role-Playing</td>\n",
       "      <td>112.05</td>\n",
       "    </tr>\n",
       "  </tbody>\n",
       "</table>\n",
       "</div>"
      ],
      "text/plain": [
       "              na_sales\n",
       "genre                 \n",
       "Action          290.64\n",
       "Shooter         237.47\n",
       "Sports          156.81\n",
       "Misc            123.80\n",
       "Role-Playing    112.05"
      ]
     },
     "execution_count": 57,
     "metadata": {},
     "output_type": "execute_result"
    }
   ],
   "source": [
    "na = data_actual.groupby('genre').agg({'na_sales':'sum'}).sort_values(by = 'na_sales', ascending = False)\n",
    "na.head()"
   ]
  },
  {
   "cell_type": "markdown",
   "metadata": {},
   "source": [
    "#### Европа"
   ]
  },
  {
   "cell_type": "code",
   "execution_count": 58,
   "metadata": {},
   "outputs": [
    {
     "data": {
      "text/html": [
       "<div>\n",
       "<style scoped>\n",
       "    .dataframe tbody tr th:only-of-type {\n",
       "        vertical-align: middle;\n",
       "    }\n",
       "\n",
       "    .dataframe tbody tr th {\n",
       "        vertical-align: top;\n",
       "    }\n",
       "\n",
       "    .dataframe thead th {\n",
       "        text-align: right;\n",
       "    }\n",
       "</style>\n",
       "<table border=\"1\" class=\"dataframe\">\n",
       "  <thead>\n",
       "    <tr style=\"text-align: right;\">\n",
       "      <th></th>\n",
       "      <th>eu_sales</th>\n",
       "    </tr>\n",
       "    <tr>\n",
       "      <th>genre</th>\n",
       "      <th></th>\n",
       "    </tr>\n",
       "  </thead>\n",
       "  <tbody>\n",
       "    <tr>\n",
       "      <td>Action</td>\n",
       "      <td>233.63</td>\n",
       "    </tr>\n",
       "    <tr>\n",
       "      <td>Shooter</td>\n",
       "      <td>171.45</td>\n",
       "    </tr>\n",
       "    <tr>\n",
       "      <td>Sports</td>\n",
       "      <td>116.84</td>\n",
       "    </tr>\n",
       "    <tr>\n",
       "      <td>Role-Playing</td>\n",
       "      <td>75.48</td>\n",
       "    </tr>\n",
       "    <tr>\n",
       "      <td>Misc</td>\n",
       "      <td>66.09</td>\n",
       "    </tr>\n",
       "  </tbody>\n",
       "</table>\n",
       "</div>"
      ],
      "text/plain": [
       "              eu_sales\n",
       "genre                 \n",
       "Action          233.63\n",
       "Shooter         171.45\n",
       "Sports          116.84\n",
       "Role-Playing     75.48\n",
       "Misc             66.09"
      ]
     },
     "execution_count": 58,
     "metadata": {},
     "output_type": "execute_result"
    }
   ],
   "source": [
    "eu = data_actual.groupby('genre').agg({'eu_sales':'sum'}).sort_values(by = 'eu_sales', ascending = False)\n",
    "eu.head()"
   ]
  },
  {
   "cell_type": "markdown",
   "metadata": {},
   "source": [
    "#### Япония"
   ]
  },
  {
   "cell_type": "code",
   "execution_count": 59,
   "metadata": {},
   "outputs": [
    {
     "data": {
      "text/html": [
       "<div>\n",
       "<style scoped>\n",
       "    .dataframe tbody tr th:only-of-type {\n",
       "        vertical-align: middle;\n",
       "    }\n",
       "\n",
       "    .dataframe tbody tr th {\n",
       "        vertical-align: top;\n",
       "    }\n",
       "\n",
       "    .dataframe thead th {\n",
       "        text-align: right;\n",
       "    }\n",
       "</style>\n",
       "<table border=\"1\" class=\"dataframe\">\n",
       "  <thead>\n",
       "    <tr style=\"text-align: right;\">\n",
       "      <th></th>\n",
       "      <th>jp_sales</th>\n",
       "    </tr>\n",
       "    <tr>\n",
       "      <th>genre</th>\n",
       "      <th></th>\n",
       "    </tr>\n",
       "  </thead>\n",
       "  <tbody>\n",
       "    <tr>\n",
       "      <td>Role-Playing</td>\n",
       "      <td>103.54</td>\n",
       "    </tr>\n",
       "    <tr>\n",
       "      <td>Action</td>\n",
       "      <td>72.20</td>\n",
       "    </tr>\n",
       "    <tr>\n",
       "      <td>Misc</td>\n",
       "      <td>24.29</td>\n",
       "    </tr>\n",
       "    <tr>\n",
       "      <td>Platform</td>\n",
       "      <td>15.81</td>\n",
       "    </tr>\n",
       "    <tr>\n",
       "      <td>Adventure</td>\n",
       "      <td>15.67</td>\n",
       "    </tr>\n",
       "  </tbody>\n",
       "</table>\n",
       "</div>"
      ],
      "text/plain": [
       "              jp_sales\n",
       "genre                 \n",
       "Role-Playing    103.54\n",
       "Action           72.20\n",
       "Misc             24.29\n",
       "Platform         15.81\n",
       "Adventure        15.67"
      ]
     },
     "execution_count": 59,
     "metadata": {},
     "output_type": "execute_result"
    }
   ],
   "source": [
    "jp = data_actual.groupby('genre').agg({'jp_sales':'sum'}).sort_values(by = 'jp_sales', ascending = False)\n",
    "jp.head()"
   ]
  },
  {
   "cell_type": "markdown",
   "metadata": {},
   "source": [
    "#### Вывод"
   ]
  },
  {
   "cell_type": "markdown",
   "metadata": {},
   "source": [
    "Жанры Role-Playing, Action и Misc входят в топы всех регионов, при этом в Северной Америке и Европе лидирует Action, в Японии он на втором месте после Role-Playing, который в свою очередь не входит в тройки наиболее популярных жанров в других регионах.\n",
    "\n",
    "В топ популярных жанров игр в Северной Америке и Европе входят одни и те же жанры, с различием в последних местах, тройки наиболее популярных жанров идентичны.\n",
    "\n",
    "В топе Японии встречаются жанры Platform и Adventure, которые отсутствуют в топах других регионов, в то же время жанры Shooter и Sports не попали в топ в Японии."
   ]
  },
  {
   "cell_type": "markdown",
   "metadata": {},
   "source": [
    "### Влияние рейтинга"
   ]
  },
  {
   "cell_type": "markdown",
   "metadata": {},
   "source": [
    "#### Северная Америка"
   ]
  },
  {
   "cell_type": "code",
   "execution_count": 60,
   "metadata": {},
   "outputs": [
    {
     "name": "stderr",
     "output_type": "stream",
     "text": [
      "/opt/conda/lib/python3.7/site-packages/numpy/core/_asarray.py:83: VisibleDeprecationWarning: Creating an ndarray from ragged nested sequences (which is a list-or-tuple of lists-or-tuples-or ndarrays with different lengths or shapes) is deprecated. If you meant to do this, you must specify 'dtype=object' when creating the ndarray\n",
      "  return array(a, dtype, copy=False, order=order)\n"
     ]
    },
    {
     "data": {
      "text/plain": [
       "<function matplotlib.pyplot.show(*args, **kw)>"
      ]
     },
     "execution_count": 60,
     "metadata": {},
     "output_type": "execute_result"
    },
    {
     "data": {
      "image/png": "[encoded data removed]",
      "text/plain": [
       "<Figure size 1080x1080 with 1 Axes>"
      ]
     },
     "metadata": {},
     "output_type": "display_data"
    }
   ],
   "source": [
    "boxplot = data_actual.boxplot(column = 'na_sales', by = 'rating', figsize = (15,15))\n",
    "boxplot.set_ylim(0,1.4)\n",
    "plt.show"
   ]
  },
  {
   "cell_type": "markdown",
   "metadata": {},
   "source": [
    "В Северной Америке наибольшие медианные продажи у игр с рейтингом ЕС - «Для детей младшего возраста»: Игра подходит для детей от 3 лет.\n",
    "\n",
    "Наименьшие медианные продажи у игр с рейтингами Е и Т - «Для всех» и «Подросткам» для лиц от 13 лет. "
   ]
  },
  {
   "cell_type": "markdown",
   "metadata": {},
   "source": [
    "#### Европа"
   ]
  },
  {
   "cell_type": "code",
   "execution_count": 61,
   "metadata": {},
   "outputs": [
    {
     "name": "stderr",
     "output_type": "stream",
     "text": [
      "/opt/conda/lib/python3.7/site-packages/numpy/core/_asarray.py:83: VisibleDeprecationWarning: Creating an ndarray from ragged nested sequences (which is a list-or-tuple of lists-or-tuples-or ndarrays with different lengths or shapes) is deprecated. If you meant to do this, you must specify 'dtype=object' when creating the ndarray\n",
      "  return array(a, dtype, copy=False, order=order)\n"
     ]
    },
    {
     "data": {
      "text/plain": [
       "<function matplotlib.pyplot.show(*args, **kw)>"
      ]
     },
     "execution_count": 61,
     "metadata": {},
     "output_type": "execute_result"
    },
    {
     "data": {
      "image/png": "[encoded data removed]",
      "text/plain": [
       "<Figure size 1080x1080 with 1 Axes>"
      ]
     },
     "metadata": {},
     "output_type": "display_data"
    }
   ],
   "source": [
    "boxplot = data_actual.boxplot(column = 'eu_sales', by = 'rating', figsize = (15,15))\n",
    "boxplot.set_ylim(-0.2,1.2)\n",
    "plt.show"
   ]
  },
  {
   "cell_type": "markdown",
   "metadata": {},
   "source": [
    "В Европе наибольшие медианные продажи показывают игры с рейтингом М — «Для взрослых»: Материалы игры не подходят для подростков младше 17 лет. \n",
    "\n",
    "Наименьшие медианные продажи у игр с рейтингами EC и RP - «Для детей младшего возраста» и «Рейтинг ожидается»."
   ]
  },
  {
   "cell_type": "markdown",
   "metadata": {},
   "source": [
    "#### Япония"
   ]
  },
  {
   "cell_type": "code",
   "execution_count": 62,
   "metadata": {},
   "outputs": [
    {
     "name": "stderr",
     "output_type": "stream",
     "text": [
      "/opt/conda/lib/python3.7/site-packages/numpy/core/_asarray.py:83: VisibleDeprecationWarning: Creating an ndarray from ragged nested sequences (which is a list-or-tuple of lists-or-tuples-or ndarrays with different lengths or shapes) is deprecated. If you meant to do this, you must specify 'dtype=object' when creating the ndarray\n",
      "  return array(a, dtype, copy=False, order=order)\n"
     ]
    },
    {
     "data": {
      "text/plain": [
       "<function matplotlib.pyplot.show(*args, **kw)>"
      ]
     },
     "execution_count": 62,
     "metadata": {},
     "output_type": "execute_result"
    },
    {
     "data": {
      "image/png": "[encoded data removed]",
      "text/plain": [
       "<Figure size 1080x1080 with 1 Axes>"
      ]
     },
     "metadata": {},
     "output_type": "display_data"
    }
   ],
   "source": [
    "boxplot = data_actual.boxplot(column = 'jp_sales', by = 'rating', figsize = (15,15))\n",
    "boxplot.set_ylim(-0.02,0.2)\n",
    "plt.show"
   ]
  },
  {
   "cell_type": "markdown",
   "metadata": {},
   "source": [
    "В Японии рейтинг не оказывает влияния на продажи, так как медианные продажи игр различных рейтингов равны."
   ]
  },
  {
   "cell_type": "markdown",
   "metadata": {},
   "source": [
    "#### Вывод"
   ]
  },
  {
   "cell_type": "markdown",
   "metadata": {},
   "source": [
    "В Северной Америке наибольшие медианные продажи у игр с рейтингом ЕС - «Для детей младшего возраста». В Европе наибольшие медианные продажи показывают игры с рейтингом М — «Для взрослых». В Японии медианные продажи игр различных рейтингов равны"
   ]
  },
  {
   "cell_type": "markdown",
   "metadata": {},
   "source": [
    "### Вывод"
   ]
  },
  {
   "cell_type": "markdown",
   "metadata": {},
   "source": [
    "1. В целом пользователи Японии показывают отличия от пользователей других регионов, в то время как пользователи Северной Америки и Европы во многом схожи.\n",
    "2. Платформа PS3 пользуется популярностью во всех регионах, в Европе занимет 1-е место с 25,4% от всех продаж, в Северной Америке и Японии 2-е с 20,3% и 19,4% соответсвенно.\n",
    "3. Жанры Role-Playing, Action и Misc входят в топы всех регионов, при этом в Северной Америке и Европе лидирует Action, в Японии он на втором месте после Role-Playing.\n",
    "4. В Северной Америке наибольшие медианные продажи у игр с рейтингом ЕС - «Для детей младшего возраста». В Европе наибольшие медианные продажи показывают игры с рейтингом М — «Для взрослых». В Японии медианные продажи игр различных рейтингов равны"
   ]
  },
  {
   "cell_type": "markdown",
   "metadata": {},
   "source": [
    "## Проверка гипотез"
   ]
  },
  {
   "cell_type": "markdown",
   "metadata": {},
   "source": [
    "### Средние пользовательские рейтинги платформ Xbox One и PC одинаковые"
   ]
  },
  {
   "cell_type": "markdown",
   "metadata": {},
   "source": [
    "1. Нулевая гипотеза - пользовательские рейтинги платформ Xbox One и PC равны.\n",
    "\n",
    "Альтернативная гипотеза - пользовательские рейтинги платформ Xbox One и PC не равны.\n",
    "Таким образом гипотеза двусторонняя не равны - больше или меньше."
   ]
  },
  {
   "cell_type": "markdown",
   "metadata": {},
   "source": [
    "2. Уровень значимости alpha = 0.05"
   ]
  },
  {
   "cell_type": "code",
   "execution_count": 63,
   "metadata": {},
   "outputs": [],
   "source": [
    "data_xbox = data_user.query('platform == \"XOne\"')\n",
    "data_pc = data_user.query('platform == \"PC\"')"
   ]
  },
  {
   "cell_type": "markdown",
   "metadata": {},
   "source": [
    "3. Выборки для проверки гипотезы data_xbox и data_pc. Выборки независимы. "
   ]
  },
  {
   "cell_type": "code",
   "execution_count": 64,
   "metadata": {},
   "outputs": [
    {
     "name": "stdout",
     "output_type": "stream",
     "text": [
      "Размеры выборок: 182 и 374\n"
     ]
    }
   ],
   "source": [
    "print('Размеры выборок:', len(data_xbox['user_score']), 'и', len(data_pc['user_score']))"
   ]
  },
  {
   "cell_type": "code",
   "execution_count": 65,
   "metadata": {},
   "outputs": [
    {
     "data": {
      "text/plain": [
       "<function matplotlib.pyplot.show(*args, **kw)>"
      ]
     },
     "execution_count": 65,
     "metadata": {},
     "output_type": "execute_result"
    },
    {
     "data": {
      "image/png": "[encoded data removed]",
      "text/plain": [
       "<Figure size 720x360 with 1 Axes>"
      ]
     },
     "metadata": {},
     "output_type": "display_data"
    }
   ],
   "source": [
    "data_xbox['user_score'].hist(bins = 10, figsize = (10,5))\n",
    "plt.xlabel('Оценки пользователей')\n",
    "plt.ylabel('Частота')\n",
    "plt.title('Распределение выборки платформы Xbox One',fontsize = 16,fontstyle = 'oblique')\n",
    "plt.show"
   ]
  },
  {
   "cell_type": "code",
   "execution_count": 66,
   "metadata": {},
   "outputs": [
    {
     "data": {
      "text/plain": [
       "<function matplotlib.pyplot.show(*args, **kw)>"
      ]
     },
     "execution_count": 66,
     "metadata": {},
     "output_type": "execute_result"
    },
    {
     "data": {
      "image/png": "[encoded data removed]",
      "text/plain": [
       "<Figure size 720x360 with 1 Axes>"
      ]
     },
     "metadata": {},
     "output_type": "display_data"
    }
   ],
   "source": [
    "data_pc['user_score'].hist(bins = 10, figsize = (10,5))\n",
    "plt.xlabel('Оценки пользователей')\n",
    "plt.ylabel('Частота')\n",
    "plt.title('Распределение выборки платформы РС',fontsize = 16,fontstyle = 'oblique')\n",
    "plt.show"
   ]
  },
  {
   "cell_type": "markdown",
   "metadata": {},
   "source": [
    "Визуально распределения выборок ближе к нормальным с усечением положительного хвоста."
   ]
  },
  {
   "cell_type": "markdown",
   "metadata": {},
   "source": [
    "Можно считать их распределение нормальным, так как благодаря ЦПТ, если размер выборки составляет хотя бы несколько десятков значений, выборочные средние, которые можно получить из одной и той же генеральной совокупности, будут распределены нормально вокруг истинного среднего этой совокупности. "
   ]
  },
  {
   "cell_type": "markdown",
   "metadata": {},
   "source": [
    "Учитывая характеристики выборок, для проверки гипотезы подойдет параметрический критерий - t-критерий Стьюдента для независимых выборок."
   ]
  },
  {
   "cell_type": "code",
   "execution_count": 67,
   "metadata": {},
   "outputs": [
    {
     "data": {
      "text/plain": [
       "'Дисперсия первой выборки: 1.90, Дисперсия второй выборки: 2.44'"
      ]
     },
     "execution_count": 67,
     "metadata": {},
     "output_type": "execute_result"
    }
   ],
   "source": [
    "variance_1 = np.var(data_xbox['user_score'])\n",
    "variance_2 = np.var(data_pc['user_score'])\n",
    "f'Дисперсия первой выборки: {variance_1:.2f}, Дисперсия второй выборки: {variance_2:.2f}'"
   ]
  },
  {
   "cell_type": "markdown",
   "metadata": {},
   "source": [
    " Дисперсии выборок не равны."
   ]
  },
  {
   "cell_type": "code",
   "execution_count": 68,
   "metadata": {},
   "outputs": [
    {
     "name": "stdout",
     "output_type": "stream",
     "text": [
      "p-значение:  0.9801634129117883\n",
      "Не получилось отвергнуть нулевую гипотезу\n"
     ]
    }
   ],
   "source": [
    "alpha = 0.05\n",
    "results = st.ttest_ind(\n",
    "    data_xbox['user_score'],  \n",
    "    data_pc['user_score'],\n",
    "    equal_var = False)\n",
    "print('p-значение: ', results.pvalue)\n",
    "\n",
    "if results.pvalue < alpha:\n",
    "    print(\"Отвергаем нулевую гипотезу\")\n",
    "else:\n",
    "    print(\"Не получилось отвергнуть нулевую гипотезу\") "
   ]
  },
  {
   "cell_type": "markdown",
   "metadata": {},
   "source": [
    "Данные, имеющихся выборок предоставляют достаточное основание для выбранного уровня значимости принять нулевую гипотезу о равенстве выборок и отвергнуть альтернативную гипотезу об их неравенстве."
   ]
  },
  {
   "cell_type": "markdown",
   "metadata": {},
   "source": [
    "### Средние пользовательские рейтинги жанров Action и Sports разные"
   ]
  },
  {
   "cell_type": "markdown",
   "metadata": {},
   "source": [
    "1. Нулевая гипотеза - пользовательские рейтинги жанров Action и Sports равны.\n",
    "\n",
    "Альтернативная гипотеза - пользовательские рейтинги жанров Action и Sports не равны.\n",
    "Таким образом гипотеза двусторонняя не равны - больше или меньше."
   ]
  },
  {
   "cell_type": "markdown",
   "metadata": {},
   "source": [
    "2. Уровень значимости alpha = 0.05"
   ]
  },
  {
   "cell_type": "code",
   "execution_count": 69,
   "metadata": {},
   "outputs": [],
   "source": [
    "data_action = data_user.query('genre == \"Action\"')\n",
    "data_sports = data_user.query('genre == \"Sports\"')"
   ]
  },
  {
   "cell_type": "markdown",
   "metadata": {},
   "source": [
    "3. Выборки для проверки гипотезы data_xbox и data_pc. Выборки независимы. "
   ]
  },
  {
   "cell_type": "code",
   "execution_count": 70,
   "metadata": {},
   "outputs": [
    {
     "name": "stdout",
     "output_type": "stream",
     "text": [
      "Размеры выборок: 779 и 315\n"
     ]
    }
   ],
   "source": [
    "print('Размеры выборок:', len(data_action['user_score']), 'и', len(data_sports['user_score']))"
   ]
  },
  {
   "cell_type": "code",
   "execution_count": 71,
   "metadata": {},
   "outputs": [
    {
     "data": {
      "text/plain": [
       "<function matplotlib.pyplot.show(*args, **kw)>"
      ]
     },
     "execution_count": 71,
     "metadata": {},
     "output_type": "execute_result"
    },
    {
     "data": {
      "image/png": "[encoded data removed]",
      "text/plain": [
       "<Figure size 720x360 with 1 Axes>"
      ]
     },
     "metadata": {},
     "output_type": "display_data"
    }
   ],
   "source": [
    "data_action['user_score'].hist(bins = 10, figsize = (10,5))\n",
    "plt.xlabel('Оценки пользователей')\n",
    "plt.ylabel('Частота')\n",
    "plt.title('Распределение выборки жанра Action',fontsize = 16,fontstyle = 'oblique')\n",
    "plt.show"
   ]
  },
  {
   "cell_type": "code",
   "execution_count": 72,
   "metadata": {},
   "outputs": [
    {
     "data": {
      "text/plain": [
       "<function matplotlib.pyplot.show(*args, **kw)>"
      ]
     },
     "execution_count": 72,
     "metadata": {},
     "output_type": "execute_result"
    },
    {
     "data": {
      "image/png": "[encoded data removed]",
      "text/plain": [
       "<Figure size 720x360 with 1 Axes>"
      ]
     },
     "metadata": {},
     "output_type": "display_data"
    }
   ],
   "source": [
    "data_sports['user_score'].hist(bins = 10, figsize = (10,5))\n",
    "plt.xlabel('Оценки пользователей')\n",
    "plt.ylabel('Частота')\n",
    "plt.title('Распределение выборки жанра Sports',fontsize = 16,fontstyle = 'oblique')\n",
    "plt.show"
   ]
  },
  {
   "cell_type": "markdown",
   "metadata": {},
   "source": [
    "Согласно графикам распределения напоминают нормальное с усеченеим положительного хвоста."
   ]
  },
  {
   "cell_type": "markdown",
   "metadata": {},
   "source": [
    "Согласно ЦПТ можно считать распределение выборок нормальным."
   ]
  },
  {
   "cell_type": "markdown",
   "metadata": {},
   "source": [
    "Учитывая характеристики выборок, для проверки гипотезы подойдет параметрический критерий - t-критерий Стьюдента для независимых выборок. \n"
   ]
  },
  {
   "cell_type": "code",
   "execution_count": 73,
   "metadata": {},
   "outputs": [
    {
     "data": {
      "text/plain": [
       "'Дисперсия первой выборки: 1.85, Дисперсия второй выборки: 2.83'"
      ]
     },
     "execution_count": 73,
     "metadata": {},
     "output_type": "execute_result"
    }
   ],
   "source": [
    "variance_1 = np.var(data_action['user_score'])\n",
    "variance_2 = np.var(data_sports['user_score'])\n",
    "f'Дисперсия первой выборки: {variance_1:.2f}, Дисперсия второй выборки: {variance_2:.2f}'"
   ]
  },
  {
   "cell_type": "markdown",
   "metadata": {},
   "source": [
    "Дисперсии выборок не равны."
   ]
  },
  {
   "cell_type": "code",
   "execution_count": 74,
   "metadata": {},
   "outputs": [
    {
     "name": "stdout",
     "output_type": "stream",
     "text": [
      "p-значение:  1.4516152467844418e-15\n",
      "Отвергаем нулевую гипотезу\n"
     ]
    }
   ],
   "source": [
    "alpha = 0.05\n",
    "results = st.ttest_ind(\n",
    "    data_action['user_score'],  \n",
    "    data_sports['user_score'],\n",
    "    equal_var = False)\n",
    "print('p-значение: ', results.pvalue)\n",
    "\n",
    "if results.pvalue < alpha:\n",
    "    print(\"Отвергаем нулевую гипотезу\")\n",
    "else:\n",
    "    print(\"Не получилось отвергнуть нулевую гипотезу\") "
   ]
  },
  {
   "cell_type": "markdown",
   "metadata": {},
   "source": [
    "Данные, имеющихся выборок предоставляют достаточное основание для выбранного уровня значимости отвергнуть нулевую гипотезу о равенстве выборок и принять альтернативную гипотезу об их неравенстве."
   ]
  },
  {
   "cell_type": "markdown",
   "metadata": {},
   "source": [
    "## Вывод"
   ]
  },
  {
   "cell_type": "markdown",
   "metadata": {},
   "source": [
    "1. На основании проведенного анализа выявлены определяющие успешность игры закономерности, которые помогут составить план на 2017 год:\n",
    "\n",
    "1) Потенциально прибыльными платформами на 2017 год выбраны:\n",
    "* PS4\n",
    "* XOne\n",
    "* WiiU\n",
    " \n",
    "Среди выбранных потенциально прибыльных платформ ни одна не превалирует по глобальным продажам.\n",
    "\n",
    "2) При необходимости в качестве дополнительных вариантов потенциально прибыльных платформ на 2017 год могут быть рассмотрены:\n",
    "* 3DS\n",
    "* PSV\n",
    "\n",
    "3) Ожидаемое влияние оценок пользователей на продажи игр не подтверждено, в то же время влияние оценок критиков на продажи подтверждено, но выраженность его невелика - характер корреляционной связи положительный.\n",
    "\n",
    "4) Согласно медианам наибольшее количество продаж у игр в жанре Shooter.Следом идут игры в жанрах Sports, Fighting и Platform, их медианы продаж сопоставимы.\n",
    "\n",
    "\n",
    "2. Согласно результатам исследования представленных выборок пользователей разных регионов в их поведении есть сходства и  различия:\n",
    "* В целом пользователи Японии показывают большие отличия от пользователей других регионов, в то время как пользователи Северной Америки и Европы во многом схожи.\n",
    "* Платформа PS3 пользуется популярностью во всех регионах.\n",
    "* Жанры Role-Playing, Action и Misc входят в топы всех регионов, при этом в Северной Америке и Европе лидирует Action, в Японии он на втором месте после Role-Playing.\n",
    "* В Северной Америке наибольшие медианные продажи у игр с рейтингом ЕС - «Для детей младшего возраста». В Европе наибольшие медианные продажи показывают игры с рейтингом М — «Для взрослых». В Японии медианные продажи игр различных рейтингов равны\n",
    "\n",
    "\n",
    "3. Средние пользовательские рейтинги платформ Xbox One и PC одинаковые\n",
    "\n",
    "\n",
    "4. Средние пользовательские рейтинги жанров Action и Sports разные\n"
   ]
  }
 ],
 "metadata": {
  "ExecuteTimeLog": [
   {
    "duration": 76,
    "start_time": "2022-01-17T18:16:57.413Z"
   },
   {
    "duration": 291,
    "start_time": "2022-01-17T18:17:05.787Z"
   },
   {
    "duration": 1352,
    "start_time": "2022-01-17T18:17:10.569Z"
   },
   {
    "duration": 294,
    "start_time": "2022-01-17T18:17:13.057Z"
   },
   {
    "duration": 68,
    "start_time": "2022-01-17T18:17:19.833Z"
   },
   {
    "duration": 16,
    "start_time": "2022-01-17T18:27:53.266Z"
   },
   {
    "duration": 3,
    "start_time": "2022-01-17T18:39:53.322Z"
   },
   {
    "duration": 6,
    "start_time": "2022-01-17T18:54:30.242Z"
   },
   {
    "duration": 24,
    "start_time": "2022-01-17T18:58:20.473Z"
   },
   {
    "duration": 252,
    "start_time": "2022-01-17T19:05:20.207Z"
   },
   {
    "duration": 4,
    "start_time": "2022-01-17T19:05:26.163Z"
   },
   {
    "duration": 596,
    "start_time": "2022-01-17T19:05:27.460Z"
   },
   {
    "duration": 162,
    "start_time": "2022-01-17T19:05:34.955Z"
   },
   {
    "duration": 5,
    "start_time": "2022-01-17T19:06:01.515Z"
   },
   {
    "duration": 24,
    "start_time": "2022-01-17T19:06:03.885Z"
   },
   {
    "duration": 29,
    "start_time": "2022-01-17T19:07:04.194Z"
   },
   {
    "duration": 7,
    "start_time": "2022-01-17T19:10:14.724Z"
   },
   {
    "duration": 247,
    "start_time": "2022-01-17T19:18:52.595Z"
   },
   {
    "duration": 315,
    "start_time": "2022-01-17T19:19:35.037Z"
   },
   {
    "duration": 240,
    "start_time": "2022-01-17T19:19:58.153Z"
   },
   {
    "duration": 83,
    "start_time": "2022-01-17T19:20:14.126Z"
   },
   {
    "duration": 78,
    "start_time": "2022-01-17T19:20:53.897Z"
   },
   {
    "duration": 73,
    "start_time": "2022-01-17T19:21:08.418Z"
   },
   {
    "duration": 32,
    "start_time": "2022-01-17T19:23:52.452Z"
   },
   {
    "duration": 10,
    "start_time": "2022-01-17T19:24:04.868Z"
   },
   {
    "duration": 7,
    "start_time": "2022-01-17T19:24:12.730Z"
   },
   {
    "duration": 11,
    "start_time": "2022-01-17T19:24:14.030Z"
   },
   {
    "duration": 8,
    "start_time": "2022-01-17T19:25:23.292Z"
   },
   {
    "duration": 4067,
    "start_time": "2022-01-17T19:25:36.803Z"
   },
   {
    "duration": 3084,
    "start_time": "2022-01-17T19:25:57.028Z"
   },
   {
    "duration": 3906,
    "start_time": "2022-01-17T19:26:32.724Z"
   },
   {
    "duration": 3028,
    "start_time": "2022-01-17T19:26:47.292Z"
   },
   {
    "duration": 4,
    "start_time": "2022-01-17T19:27:00.757Z"
   },
   {
    "duration": 64,
    "start_time": "2022-01-17T19:27:01.068Z"
   },
   {
    "duration": 16,
    "start_time": "2022-01-17T19:27:01.453Z"
   },
   {
    "duration": 7,
    "start_time": "2022-01-17T19:27:02.078Z"
   },
   {
    "duration": 37,
    "start_time": "2022-01-17T19:27:02.088Z"
   },
   {
    "duration": 4,
    "start_time": "2022-01-17T19:27:02.128Z"
   },
   {
    "duration": 37,
    "start_time": "2022-01-17T19:27:02.135Z"
   },
   {
    "duration": 22,
    "start_time": "2022-01-17T19:27:02.174Z"
   },
   {
    "duration": 12,
    "start_time": "2022-01-17T19:27:02.198Z"
   },
   {
    "duration": 14,
    "start_time": "2022-01-17T19:27:02.213Z"
   },
   {
    "duration": 7,
    "start_time": "2022-01-17T19:30:34.343Z"
   },
   {
    "duration": 8,
    "start_time": "2022-01-17T19:31:13.726Z"
   },
   {
    "duration": 955,
    "start_time": "2022-01-18T15:45:26.216Z"
   },
   {
    "duration": 42,
    "start_time": "2022-01-18T15:45:29.318Z"
   },
   {
    "duration": 10,
    "start_time": "2022-01-18T15:45:32.253Z"
   },
   {
    "duration": 26,
    "start_time": "2022-01-18T15:45:49.150Z"
   },
   {
    "duration": 5742,
    "start_time": "2022-01-18T15:47:54.365Z"
   },
   {
    "duration": 4,
    "start_time": "2022-01-18T15:48:05.581Z"
   },
   {
    "duration": 16,
    "start_time": "2022-01-18T15:48:08.509Z"
   },
   {
    "duration": 5,
    "start_time": "2022-01-18T15:48:10.721Z"
   },
   {
    "duration": 6,
    "start_time": "2022-01-18T15:49:36.246Z"
   },
   {
    "duration": 228,
    "start_time": "2022-01-18T15:49:51.199Z"
   },
   {
    "duration": 258,
    "start_time": "2022-01-18T15:49:58.703Z"
   },
   {
    "duration": 5,
    "start_time": "2022-01-18T15:50:23.175Z"
   },
   {
    "duration": 8,
    "start_time": "2022-01-18T15:51:07.248Z"
   },
   {
    "duration": 9,
    "start_time": "2022-01-18T15:52:03.016Z"
   },
   {
    "duration": 7,
    "start_time": "2022-01-18T15:52:33.376Z"
   },
   {
    "duration": 8,
    "start_time": "2022-01-18T15:52:56.928Z"
   },
   {
    "duration": 15,
    "start_time": "2022-01-18T15:53:12.608Z"
   },
   {
    "duration": 17,
    "start_time": "2022-01-18T15:54:09.817Z"
   },
   {
    "duration": 13,
    "start_time": "2022-01-18T15:54:31.938Z"
   },
   {
    "duration": 12,
    "start_time": "2022-01-18T15:54:49.771Z"
   },
   {
    "duration": 12,
    "start_time": "2022-01-18T15:55:02.953Z"
   },
   {
    "duration": 9,
    "start_time": "2022-01-18T15:55:11.596Z"
   },
   {
    "duration": 13,
    "start_time": "2022-01-18T15:55:23.034Z"
   },
   {
    "duration": 7,
    "start_time": "2022-01-18T16:00:11.892Z"
   },
   {
    "duration": 7,
    "start_time": "2022-01-18T16:02:24.965Z"
   },
   {
    "duration": 5,
    "start_time": "2022-01-18T16:02:29.629Z"
   },
   {
    "duration": 13,
    "start_time": "2022-01-18T16:02:32.527Z"
   },
   {
    "duration": 4,
    "start_time": "2022-01-18T16:04:01.617Z"
   },
   {
    "duration": 4,
    "start_time": "2022-01-18T16:08:06.746Z"
   },
   {
    "duration": 6,
    "start_time": "2022-01-18T16:11:13.340Z"
   },
   {
    "duration": 7,
    "start_time": "2022-01-18T16:12:05.995Z"
   },
   {
    "duration": 9,
    "start_time": "2022-01-18T16:14:27.132Z"
   },
   {
    "duration": 17,
    "start_time": "2022-01-18T16:14:49.060Z"
   },
   {
    "duration": 15,
    "start_time": "2022-01-18T16:15:10.551Z"
   },
   {
    "duration": 2,
    "start_time": "2022-01-18T16:15:16.845Z"
   },
   {
    "duration": 41,
    "start_time": "2022-01-18T16:15:16.851Z"
   },
   {
    "duration": 9,
    "start_time": "2022-01-18T16:15:16.893Z"
   },
   {
    "duration": 5,
    "start_time": "2022-01-18T16:15:17.157Z"
   },
   {
    "duration": 16,
    "start_time": "2022-01-18T16:15:17.163Z"
   },
   {
    "duration": 5,
    "start_time": "2022-01-18T16:15:17.482Z"
   },
   {
    "duration": 7,
    "start_time": "2022-01-18T16:15:17.778Z"
   },
   {
    "duration": 9,
    "start_time": "2022-01-18T16:15:17.786Z"
   },
   {
    "duration": 14,
    "start_time": "2022-01-18T16:15:18.119Z"
   },
   {
    "duration": 5,
    "start_time": "2022-01-18T16:15:18.423Z"
   },
   {
    "duration": 4,
    "start_time": "2022-01-18T16:15:18.749Z"
   },
   {
    "duration": 78,
    "start_time": "2022-01-18T16:15:18.756Z"
   },
   {
    "duration": -770,
    "start_time": "2022-01-18T16:15:19.605Z"
   },
   {
    "duration": -789,
    "start_time": "2022-01-18T16:15:19.625Z"
   },
   {
    "duration": -792,
    "start_time": "2022-01-18T16:15:19.629Z"
   },
   {
    "duration": 3,
    "start_time": "2022-01-18T16:15:37.581Z"
   },
   {
    "duration": 16,
    "start_time": "2022-01-18T16:15:39.588Z"
   },
   {
    "duration": 14,
    "start_time": "2022-01-18T16:15:42.924Z"
   },
   {
    "duration": 6,
    "start_time": "2022-01-18T16:15:46.157Z"
   },
   {
    "duration": 16,
    "start_time": "2022-01-18T16:15:48.877Z"
   },
   {
    "duration": 235,
    "start_time": "2022-01-18T16:16:34.322Z"
   },
   {
    "duration": 12,
    "start_time": "2022-01-18T16:16:45.254Z"
   },
   {
    "duration": 7,
    "start_time": "2022-01-18T16:28:43.427Z"
   },
   {
    "duration": 224,
    "start_time": "2022-01-18T16:31:56.405Z"
   },
   {
    "duration": 6,
    "start_time": "2022-01-18T16:32:02.630Z"
   },
   {
    "duration": 6,
    "start_time": "2022-01-18T16:33:08.949Z"
   },
   {
    "duration": 267,
    "start_time": "2022-01-18T16:33:27.078Z"
   },
   {
    "duration": 11,
    "start_time": "2022-01-18T16:35:16.135Z"
   },
   {
    "duration": 7,
    "start_time": "2022-01-18T16:36:17.168Z"
   },
   {
    "duration": 8,
    "start_time": "2022-01-18T16:37:16.335Z"
   },
   {
    "duration": 6,
    "start_time": "2022-01-18T16:47:45.030Z"
   },
   {
    "duration": 9,
    "start_time": "2022-01-18T16:47:57.029Z"
   },
   {
    "duration": 5,
    "start_time": "2022-01-18T16:48:15.085Z"
   },
   {
    "duration": 4,
    "start_time": "2022-01-18T16:49:02.022Z"
   },
   {
    "duration": 12,
    "start_time": "2022-01-18T16:52:05.785Z"
   },
   {
    "duration": 7,
    "start_time": "2022-01-18T16:53:31.498Z"
   },
   {
    "duration": 204,
    "start_time": "2022-01-18T16:58:00.964Z"
   },
   {
    "duration": 192,
    "start_time": "2022-01-18T16:58:20.331Z"
   },
   {
    "duration": 187,
    "start_time": "2022-01-18T16:58:32.435Z"
   },
   {
    "duration": 8,
    "start_time": "2022-01-18T16:59:24.475Z"
   },
   {
    "duration": 304,
    "start_time": "2022-01-18T17:01:27.880Z"
   },
   {
    "duration": 296,
    "start_time": "2022-01-18T17:02:06.685Z"
   },
   {
    "duration": 296,
    "start_time": "2022-01-18T17:02:28.350Z"
   },
   {
    "duration": 297,
    "start_time": "2022-01-18T17:02:37.590Z"
   },
   {
    "duration": 303,
    "start_time": "2022-01-18T17:02:46.606Z"
   },
   {
    "duration": 305,
    "start_time": "2022-01-18T17:03:05.661Z"
   },
   {
    "duration": 360,
    "start_time": "2022-01-18T17:03:14.198Z"
   },
   {
    "duration": 5,
    "start_time": "2022-01-18T17:03:55.151Z"
   },
   {
    "duration": 3,
    "start_time": "2022-01-18T17:04:51.944Z"
   },
   {
    "duration": 6,
    "start_time": "2022-01-18T17:11:02.946Z"
   },
   {
    "duration": 6,
    "start_time": "2022-01-18T17:11:26.243Z"
   },
   {
    "duration": 193,
    "start_time": "2022-01-18T17:14:52.830Z"
   },
   {
    "duration": 7,
    "start_time": "2022-01-18T17:14:55.413Z"
   },
   {
    "duration": 255,
    "start_time": "2022-01-18T17:18:06.608Z"
   },
   {
    "duration": 14,
    "start_time": "2022-01-18T17:21:23.463Z"
   },
   {
    "duration": 16,
    "start_time": "2022-01-18T17:21:37.736Z"
   },
   {
    "duration": 17,
    "start_time": "2022-01-18T17:21:42.674Z"
   },
   {
    "duration": 87,
    "start_time": "2022-01-18T17:24:33.165Z"
   },
   {
    "duration": 81,
    "start_time": "2022-01-18T17:24:39.057Z"
   },
   {
    "duration": 83,
    "start_time": "2022-01-18T17:25:21.050Z"
   },
   {
    "duration": 76,
    "start_time": "2022-01-18T17:25:34.105Z"
   },
   {
    "duration": 253,
    "start_time": "2022-01-18T17:25:54.237Z"
   },
   {
    "duration": 23,
    "start_time": "2022-01-18T17:26:18.852Z"
   },
   {
    "duration": 17,
    "start_time": "2022-01-18T17:26:39.901Z"
   },
   {
    "duration": 133,
    "start_time": "2022-01-18T17:26:55.395Z"
   },
   {
    "duration": 78,
    "start_time": "2022-01-18T17:27:09.330Z"
   },
   {
    "duration": 75,
    "start_time": "2022-01-18T17:27:14.348Z"
   },
   {
    "duration": 78,
    "start_time": "2022-01-18T17:28:17.404Z"
   },
   {
    "duration": 17,
    "start_time": "2022-01-18T17:28:22.916Z"
   },
   {
    "duration": 25,
    "start_time": "2022-01-18T17:28:38.325Z"
   },
   {
    "duration": 16,
    "start_time": "2022-01-18T17:28:44.349Z"
   },
   {
    "duration": 16,
    "start_time": "2022-01-18T17:28:52.875Z"
   },
   {
    "duration": 19,
    "start_time": "2022-01-18T17:29:59.166Z"
   },
   {
    "duration": 6,
    "start_time": "2022-01-18T17:32:07.111Z"
   },
   {
    "duration": 18,
    "start_time": "2022-01-18T17:32:46.439Z"
   },
   {
    "duration": 230,
    "start_time": "2022-01-18T17:33:51.415Z"
   },
   {
    "duration": 10,
    "start_time": "2022-01-18T17:34:20.031Z"
   },
   {
    "duration": 11,
    "start_time": "2022-01-18T17:34:41.863Z"
   },
   {
    "duration": 288,
    "start_time": "2022-01-18T17:39:52.898Z"
   },
   {
    "duration": 340,
    "start_time": "2022-01-18T17:40:54.019Z"
   },
   {
    "duration": 302,
    "start_time": "2022-01-18T17:41:07.475Z"
   },
   {
    "duration": 275,
    "start_time": "2022-01-18T17:41:14.565Z"
   },
   {
    "duration": 305,
    "start_time": "2022-01-18T17:41:53.272Z"
   },
   {
    "duration": 280,
    "start_time": "2022-01-18T17:42:40.700Z"
   },
   {
    "duration": 337,
    "start_time": "2022-01-18T17:43:26.213Z"
   },
   {
    "duration": 269,
    "start_time": "2022-01-18T17:44:07.397Z"
   },
   {
    "duration": 11,
    "start_time": "2022-01-18T17:44:50.679Z"
   },
   {
    "duration": 260,
    "start_time": "2022-01-18T17:45:47.277Z"
   },
   {
    "duration": 548,
    "start_time": "2022-01-18T17:53:49.257Z"
   },
   {
    "duration": 285,
    "start_time": "2022-01-18T17:54:39.557Z"
   },
   {
    "duration": 283,
    "start_time": "2022-01-18T17:55:31.076Z"
   },
   {
    "duration": 319,
    "start_time": "2022-01-18T17:55:56.547Z"
   },
   {
    "duration": 12,
    "start_time": "2022-01-18T18:37:01.634Z"
   },
   {
    "duration": 12,
    "start_time": "2022-01-18T18:37:40.366Z"
   },
   {
    "duration": 9,
    "start_time": "2022-01-18T18:40:44.453Z"
   },
   {
    "duration": 324,
    "start_time": "2022-01-18T18:40:56.359Z"
   },
   {
    "duration": 315,
    "start_time": "2022-01-18T18:40:59.628Z"
   },
   {
    "duration": 273,
    "start_time": "2022-01-18T18:41:02.404Z"
   },
   {
    "duration": 81,
    "start_time": "2022-01-18T18:41:33.879Z"
   },
   {
    "duration": 10,
    "start_time": "2022-01-18T18:41:41.587Z"
   },
   {
    "duration": 10,
    "start_time": "2022-01-18T18:46:47.255Z"
   },
   {
    "duration": 344,
    "start_time": "2022-01-18T18:47:59.872Z"
   },
   {
    "duration": 73,
    "start_time": "2022-01-18T18:49:20.824Z"
   },
   {
    "duration": 373,
    "start_time": "2022-01-18T18:49:42.241Z"
   },
   {
    "duration": 346,
    "start_time": "2022-01-18T18:51:42.427Z"
   },
   {
    "duration": 377,
    "start_time": "2022-01-18T19:04:04.151Z"
   },
   {
    "duration": 367,
    "start_time": "2022-01-18T19:06:53.287Z"
   },
   {
    "duration": 349,
    "start_time": "2022-01-18T19:08:12.194Z"
   },
   {
    "duration": 221,
    "start_time": "2022-01-18T19:40:35.035Z"
   },
   {
    "duration": 17,
    "start_time": "2022-01-18T19:40:49.490Z"
   },
   {
    "duration": 7,
    "start_time": "2022-01-18T19:41:24.055Z"
   },
   {
    "duration": 237,
    "start_time": "2022-01-18T19:42:34.913Z"
   },
   {
    "duration": 228,
    "start_time": "2022-01-18T19:43:22.084Z"
   },
   {
    "duration": 366,
    "start_time": "2022-01-18T19:43:42.982Z"
   },
   {
    "duration": 437,
    "start_time": "2022-01-18T19:44:14.105Z"
   },
   {
    "duration": 424,
    "start_time": "2022-01-18T19:44:55.461Z"
   },
   {
    "duration": 352,
    "start_time": "2022-01-18T19:45:11.437Z"
   },
   {
    "duration": 351,
    "start_time": "2022-01-19T15:54:11.926Z"
   },
   {
    "duration": 999,
    "start_time": "2022-01-19T15:54:17.584Z"
   },
   {
    "duration": 49,
    "start_time": "2022-01-19T15:54:18.585Z"
   },
   {
    "duration": 10,
    "start_time": "2022-01-19T15:54:18.635Z"
   },
   {
    "duration": 4,
    "start_time": "2022-01-19T15:54:18.647Z"
   },
   {
    "duration": 26,
    "start_time": "2022-01-19T15:54:18.652Z"
   },
   {
    "duration": 4,
    "start_time": "2022-01-19T15:54:18.679Z"
   },
   {
    "duration": 8,
    "start_time": "2022-01-19T15:54:18.685Z"
   },
   {
    "duration": 21,
    "start_time": "2022-01-19T15:54:18.695Z"
   },
   {
    "duration": 15,
    "start_time": "2022-01-19T15:54:18.719Z"
   },
   {
    "duration": 5,
    "start_time": "2022-01-19T15:54:18.736Z"
   },
   {
    "duration": 4,
    "start_time": "2022-01-19T15:54:18.743Z"
   },
   {
    "duration": 3,
    "start_time": "2022-01-19T15:54:18.749Z"
   },
   {
    "duration": 17,
    "start_time": "2022-01-19T15:54:18.754Z"
   },
   {
    "duration": 51,
    "start_time": "2022-01-19T15:54:18.773Z"
   },
   {
    "duration": 85,
    "start_time": "2022-01-19T15:54:18.825Z"
   },
   {
    "duration": -818,
    "start_time": "2022-01-19T15:54:19.730Z"
   },
   {
    "duration": -823,
    "start_time": "2022-01-19T15:54:19.736Z"
   },
   {
    "duration": -829,
    "start_time": "2022-01-19T15:54:19.743Z"
   },
   {
    "duration": -836,
    "start_time": "2022-01-19T15:54:19.750Z"
   },
   {
    "duration": -842,
    "start_time": "2022-01-19T15:54:19.757Z"
   },
   {
    "duration": -878,
    "start_time": "2022-01-19T15:54:19.794Z"
   },
   {
    "duration": -885,
    "start_time": "2022-01-19T15:54:19.802Z"
   },
   {
    "duration": -891,
    "start_time": "2022-01-19T15:54:19.809Z"
   },
   {
    "duration": -899,
    "start_time": "2022-01-19T15:54:19.818Z"
   },
   {
    "duration": -904,
    "start_time": "2022-01-19T15:54:19.824Z"
   },
   {
    "duration": -911,
    "start_time": "2022-01-19T15:54:19.832Z"
   },
   {
    "duration": -917,
    "start_time": "2022-01-19T15:54:19.839Z"
   },
   {
    "duration": -925,
    "start_time": "2022-01-19T15:54:19.848Z"
   },
   {
    "duration": -931,
    "start_time": "2022-01-19T15:54:19.854Z"
   },
   {
    "duration": -936,
    "start_time": "2022-01-19T15:54:19.860Z"
   },
   {
    "duration": -942,
    "start_time": "2022-01-19T15:54:19.867Z"
   },
   {
    "duration": -948,
    "start_time": "2022-01-19T15:54:19.874Z"
   },
   {
    "duration": -953,
    "start_time": "2022-01-19T15:54:19.880Z"
   },
   {
    "duration": -959,
    "start_time": "2022-01-19T15:54:19.887Z"
   },
   {
    "duration": -976,
    "start_time": "2022-01-19T15:54:19.905Z"
   },
   {
    "duration": -983,
    "start_time": "2022-01-19T15:54:19.913Z"
   },
   {
    "duration": -988,
    "start_time": "2022-01-19T15:54:19.919Z"
   },
   {
    "duration": -995,
    "start_time": "2022-01-19T15:54:19.926Z"
   },
   {
    "duration": 10,
    "start_time": "2022-01-19T15:54:39.050Z"
   },
   {
    "duration": 16,
    "start_time": "2022-01-19T15:54:41.705Z"
   },
   {
    "duration": 4,
    "start_time": "2022-01-19T15:54:46.009Z"
   },
   {
    "duration": 11,
    "start_time": "2022-01-19T15:54:48.392Z"
   },
   {
    "duration": 8,
    "start_time": "2022-01-19T15:54:52.353Z"
   },
   {
    "duration": 6,
    "start_time": "2022-01-19T15:54:55.697Z"
   },
   {
    "duration": 5,
    "start_time": "2022-01-19T15:54:56.379Z"
   },
   {
    "duration": 5,
    "start_time": "2022-01-19T15:54:56.977Z"
   },
   {
    "duration": 14,
    "start_time": "2022-01-19T15:55:00.946Z"
   },
   {
    "duration": 308,
    "start_time": "2022-01-19T15:55:03.844Z"
   },
   {
    "duration": 187,
    "start_time": "2022-01-19T15:55:08.522Z"
   },
   {
    "duration": 6,
    "start_time": "2022-01-19T15:55:11.602Z"
   },
   {
    "duration": 20,
    "start_time": "2022-01-19T15:55:14.584Z"
   },
   {
    "duration": 9,
    "start_time": "2022-01-19T15:55:17.385Z"
   },
   {
    "duration": 296,
    "start_time": "2022-01-19T15:55:19.738Z"
   },
   {
    "duration": 312,
    "start_time": "2022-01-19T15:55:20.808Z"
   },
   {
    "duration": 290,
    "start_time": "2022-01-19T15:55:21.816Z"
   },
   {
    "duration": 11,
    "start_time": "2022-01-19T15:55:26.804Z"
   },
   {
    "duration": 349,
    "start_time": "2022-01-19T15:55:34.489Z"
   },
   {
    "duration": 491,
    "start_time": "2022-01-19T15:55:38.442Z"
   },
   {
    "duration": 351,
    "start_time": "2022-01-19T15:55:41.464Z"
   },
   {
    "duration": 7,
    "start_time": "2022-01-19T15:55:46.626Z"
   },
   {
    "duration": 359,
    "start_time": "2022-01-19T15:55:47.872Z"
   },
   {
    "duration": 441,
    "start_time": "2022-01-19T15:56:01.606Z"
   },
   {
    "duration": 297,
    "start_time": "2022-01-19T15:59:31.701Z"
   },
   {
    "duration": 433,
    "start_time": "2022-01-19T15:59:58.718Z"
   },
   {
    "duration": 447,
    "start_time": "2022-01-19T16:00:59.302Z"
   },
   {
    "duration": 2858,
    "start_time": "2022-01-19T16:02:22.207Z"
   },
   {
    "duration": 384,
    "start_time": "2022-01-19T16:04:20.673Z"
   },
   {
    "duration": 492,
    "start_time": "2022-01-19T16:05:42.073Z"
   },
   {
    "duration": 415,
    "start_time": "2022-01-19T16:06:01.080Z"
   },
   {
    "duration": 397,
    "start_time": "2022-01-19T16:06:10.217Z"
   },
   {
    "duration": 384,
    "start_time": "2022-01-19T16:06:40.129Z"
   },
   {
    "duration": 421,
    "start_time": "2022-01-19T16:07:28.457Z"
   },
   {
    "duration": 381,
    "start_time": "2022-01-19T16:07:32.033Z"
   },
   {
    "duration": 67,
    "start_time": "2022-01-19T16:12:28.325Z"
   },
   {
    "duration": 239,
    "start_time": "2022-01-19T16:12:42.403Z"
   },
   {
    "duration": 257,
    "start_time": "2022-01-19T16:12:51.588Z"
   },
   {
    "duration": 277,
    "start_time": "2022-01-19T16:13:12.974Z"
   },
   {
    "duration": 276,
    "start_time": "2022-01-19T16:13:28.984Z"
   },
   {
    "duration": 316,
    "start_time": "2022-01-19T16:13:41.318Z"
   },
   {
    "duration": 258,
    "start_time": "2022-01-19T16:13:57.293Z"
   },
   {
    "duration": 12,
    "start_time": "2022-01-19T16:14:23.079Z"
   },
   {
    "duration": 11,
    "start_time": "2022-01-19T16:14:32.950Z"
   },
   {
    "duration": 16,
    "start_time": "2022-01-19T16:14:43.717Z"
   },
   {
    "duration": 16,
    "start_time": "2022-01-19T16:19:48.728Z"
   },
   {
    "duration": 471,
    "start_time": "2022-01-19T16:26:24.900Z"
   },
   {
    "duration": 506,
    "start_time": "2022-01-19T16:26:28.156Z"
   },
   {
    "duration": 414,
    "start_time": "2022-01-19T16:26:31.524Z"
   },
   {
    "duration": 15,
    "start_time": "2022-01-19T16:30:42.335Z"
   },
   {
    "duration": 932,
    "start_time": "2022-01-19T16:56:21.270Z"
   },
   {
    "duration": 749,
    "start_time": "2022-01-19T16:56:36.142Z"
   },
   {
    "duration": 743,
    "start_time": "2022-01-19T16:57:09.207Z"
   },
   {
    "duration": 794,
    "start_time": "2022-01-19T16:57:18.471Z"
   },
   {
    "duration": 837,
    "start_time": "2022-01-19T16:57:53.429Z"
   },
   {
    "duration": 783,
    "start_time": "2022-01-19T16:58:00.787Z"
   },
   {
    "duration": 846,
    "start_time": "2022-01-19T16:58:29.904Z"
   },
   {
    "duration": 761,
    "start_time": "2022-01-19T16:58:37.158Z"
   },
   {
    "duration": 579,
    "start_time": "2022-01-19T16:58:50.129Z"
   },
   {
    "duration": 518,
    "start_time": "2022-01-19T16:58:59.267Z"
   },
   {
    "duration": 599,
    "start_time": "2022-01-19T16:59:14.303Z"
   },
   {
    "duration": 244,
    "start_time": "2022-01-19T17:01:45.034Z"
   },
   {
    "duration": 920,
    "start_time": "2022-01-19T17:03:02.841Z"
   },
   {
    "duration": 265,
    "start_time": "2022-01-19T17:03:30.465Z"
   },
   {
    "duration": 298,
    "start_time": "2022-01-19T17:04:57.414Z"
   },
   {
    "duration": 240,
    "start_time": "2022-01-19T17:06:24.547Z"
   },
   {
    "duration": 239,
    "start_time": "2022-01-19T17:07:33.388Z"
   },
   {
    "duration": 248,
    "start_time": "2022-01-19T17:07:51.652Z"
   },
   {
    "duration": 75,
    "start_time": "2022-01-19T17:08:39.276Z"
   },
   {
    "duration": 306,
    "start_time": "2022-01-19T17:09:00.955Z"
   },
   {
    "duration": 250,
    "start_time": "2022-01-19T17:09:54.277Z"
   },
   {
    "duration": 335,
    "start_time": "2022-01-19T17:10:02.052Z"
   },
   {
    "duration": 356,
    "start_time": "2022-01-19T17:10:26.317Z"
   },
   {
    "duration": 5713,
    "start_time": "2022-01-19T17:10:50.053Z"
   },
   {
    "duration": 5672,
    "start_time": "2022-01-19T17:11:22.687Z"
   },
   {
    "duration": 6,
    "start_time": "2022-01-19T17:12:15.167Z"
   },
   {
    "duration": 5,
    "start_time": "2022-01-19T17:12:20.275Z"
   },
   {
    "duration": 8,
    "start_time": "2022-01-19T17:12:33.518Z"
   },
   {
    "duration": 367,
    "start_time": "2022-01-19T17:12:48.160Z"
   },
   {
    "duration": 9002,
    "start_time": "2022-01-19T17:13:05.270Z"
   },
   {
    "duration": 9,
    "start_time": "2022-01-19T17:13:26.117Z"
   },
   {
    "duration": 8,
    "start_time": "2022-01-19T17:13:53.406Z"
   },
   {
    "duration": 228,
    "start_time": "2022-01-19T17:14:24.974Z"
   },
   {
    "duration": 6001,
    "start_time": "2022-01-19T17:15:06.496Z"
   },
   {
    "duration": 8,
    "start_time": "2022-01-19T17:15:30.423Z"
   },
   {
    "duration": 5899,
    "start_time": "2022-01-19T17:15:50.463Z"
   },
   {
    "duration": 1006,
    "start_time": "2022-01-19T17:16:51.912Z"
   },
   {
    "duration": 7081,
    "start_time": "2022-01-19T17:17:25.545Z"
   },
   {
    "duration": 237,
    "start_time": "2022-01-19T17:17:33.553Z"
   },
   {
    "duration": 622,
    "start_time": "2022-01-19T17:17:37.495Z"
   },
   {
    "duration": 241,
    "start_time": "2022-01-19T17:17:59.103Z"
   },
   {
    "duration": 238,
    "start_time": "2022-01-19T17:18:04.480Z"
   },
   {
    "duration": 10,
    "start_time": "2022-01-19T17:18:15.568Z"
   },
   {
    "duration": 88,
    "start_time": "2022-01-19T17:19:28.165Z"
   },
   {
    "duration": 11,
    "start_time": "2022-01-19T17:19:33.464Z"
   },
   {
    "duration": 13,
    "start_time": "2022-01-19T17:19:49.569Z"
   },
   {
    "duration": 271,
    "start_time": "2022-01-19T17:22:58.457Z"
   },
   {
    "duration": -36,
    "start_time": "2022-01-19T17:22:58.769Z"
   },
   {
    "duration": -42,
    "start_time": "2022-01-19T17:22:58.776Z"
   },
   {
    "duration": -49,
    "start_time": "2022-01-19T17:22:58.783Z"
   },
   {
    "duration": -56,
    "start_time": "2022-01-19T17:22:58.791Z"
   },
   {
    "duration": -61,
    "start_time": "2022-01-19T17:22:58.798Z"
   },
   {
    "duration": -69,
    "start_time": "2022-01-19T17:22:58.806Z"
   },
   {
    "duration": -89,
    "start_time": "2022-01-19T17:22:58.827Z"
   },
   {
    "duration": -97,
    "start_time": "2022-01-19T17:22:58.836Z"
   },
   {
    "duration": -106,
    "start_time": "2022-01-19T17:22:58.846Z"
   },
   {
    "duration": -113,
    "start_time": "2022-01-19T17:22:58.854Z"
   },
   {
    "duration": -122,
    "start_time": "2022-01-19T17:22:58.863Z"
   },
   {
    "duration": -127,
    "start_time": "2022-01-19T17:22:58.869Z"
   },
   {
    "duration": -133,
    "start_time": "2022-01-19T17:22:58.876Z"
   },
   {
    "duration": -139,
    "start_time": "2022-01-19T17:22:58.883Z"
   },
   {
    "duration": -145,
    "start_time": "2022-01-19T17:22:58.890Z"
   },
   {
    "duration": -151,
    "start_time": "2022-01-19T17:22:58.897Z"
   },
   {
    "duration": -157,
    "start_time": "2022-01-19T17:22:58.904Z"
   },
   {
    "duration": -163,
    "start_time": "2022-01-19T17:22:58.911Z"
   },
   {
    "duration": -170,
    "start_time": "2022-01-19T17:22:58.919Z"
   },
   {
    "duration": -187,
    "start_time": "2022-01-19T17:22:58.937Z"
   },
   {
    "duration": -195,
    "start_time": "2022-01-19T17:22:58.946Z"
   },
   {
    "duration": -200,
    "start_time": "2022-01-19T17:22:58.952Z"
   },
   {
    "duration": -206,
    "start_time": "2022-01-19T17:22:58.959Z"
   },
   {
    "duration": -211,
    "start_time": "2022-01-19T17:22:58.965Z"
   },
   {
    "duration": -218,
    "start_time": "2022-01-19T17:22:58.972Z"
   },
   {
    "duration": -224,
    "start_time": "2022-01-19T17:22:58.979Z"
   },
   {
    "duration": -230,
    "start_time": "2022-01-19T17:22:58.986Z"
   },
   {
    "duration": -235,
    "start_time": "2022-01-19T17:22:58.992Z"
   },
   {
    "duration": -242,
    "start_time": "2022-01-19T17:22:59.000Z"
   },
   {
    "duration": -248,
    "start_time": "2022-01-19T17:22:59.007Z"
   },
   {
    "duration": -254,
    "start_time": "2022-01-19T17:22:59.014Z"
   },
   {
    "duration": -259,
    "start_time": "2022-01-19T17:22:59.020Z"
   },
   {
    "duration": -267,
    "start_time": "2022-01-19T17:22:59.028Z"
   },
   {
    "duration": -272,
    "start_time": "2022-01-19T17:22:59.034Z"
   },
   {
    "duration": -292,
    "start_time": "2022-01-19T17:22:59.055Z"
   },
   {
    "duration": -297,
    "start_time": "2022-01-19T17:22:59.061Z"
   },
   {
    "duration": -304,
    "start_time": "2022-01-19T17:22:59.069Z"
   },
   {
    "duration": -309,
    "start_time": "2022-01-19T17:22:59.075Z"
   },
   {
    "duration": -316,
    "start_time": "2022-01-19T17:22:59.083Z"
   },
   {
    "duration": -323,
    "start_time": "2022-01-19T17:22:59.090Z"
   },
   {
    "duration": -286,
    "start_time": "2022-01-19T17:22:59.097Z"
   },
   {
    "duration": -291,
    "start_time": "2022-01-19T17:22:59.103Z"
   },
   {
    "duration": -298,
    "start_time": "2022-01-19T17:22:59.111Z"
   },
   {
    "duration": -303,
    "start_time": "2022-01-19T17:22:59.117Z"
   },
   {
    "duration": -309,
    "start_time": "2022-01-19T17:22:59.124Z"
   },
   {
    "duration": 4,
    "start_time": "2022-01-19T17:23:21.399Z"
   },
   {
    "duration": 46,
    "start_time": "2022-01-19T17:23:21.405Z"
   },
   {
    "duration": 11,
    "start_time": "2022-01-19T17:23:21.453Z"
   },
   {
    "duration": 5,
    "start_time": "2022-01-19T17:23:21.466Z"
   },
   {
    "duration": 42,
    "start_time": "2022-01-19T17:23:21.473Z"
   },
   {
    "duration": 5,
    "start_time": "2022-01-19T17:23:21.517Z"
   },
   {
    "duration": 9,
    "start_time": "2022-01-19T17:23:21.524Z"
   },
   {
    "duration": 6,
    "start_time": "2022-01-19T17:23:21.536Z"
   },
   {
    "duration": 16,
    "start_time": "2022-01-19T17:23:21.544Z"
   },
   {
    "duration": 51,
    "start_time": "2022-01-19T17:23:21.561Z"
   },
   {
    "duration": 5,
    "start_time": "2022-01-19T17:23:21.614Z"
   },
   {
    "duration": 4,
    "start_time": "2022-01-19T17:23:21.621Z"
   },
   {
    "duration": 18,
    "start_time": "2022-01-19T17:23:21.627Z"
   },
   {
    "duration": 15,
    "start_time": "2022-01-19T17:23:21.647Z"
   },
   {
    "duration": 8,
    "start_time": "2022-01-19T17:23:21.664Z"
   },
   {
    "duration": 17,
    "start_time": "2022-01-19T17:23:21.711Z"
   },
   {
    "duration": 6,
    "start_time": "2022-01-19T17:23:21.729Z"
   },
   {
    "duration": 14,
    "start_time": "2022-01-19T17:23:21.736Z"
   },
   {
    "duration": 9,
    "start_time": "2022-01-19T17:23:21.751Z"
   },
   {
    "duration": 7,
    "start_time": "2022-01-19T17:23:21.762Z"
   },
   {
    "duration": 44,
    "start_time": "2022-01-19T17:23:21.771Z"
   },
   {
    "duration": 5,
    "start_time": "2022-01-19T17:23:21.817Z"
   },
   {
    "duration": 13,
    "start_time": "2022-01-19T17:23:21.826Z"
   },
   {
    "duration": 618,
    "start_time": "2022-01-19T17:23:21.841Z"
   },
   {
    "duration": -612,
    "start_time": "2022-01-19T17:23:23.073Z"
   },
   {
    "duration": -618,
    "start_time": "2022-01-19T17:23:23.080Z"
   },
   {
    "duration": -625,
    "start_time": "2022-01-19T17:23:23.088Z"
   },
   {
    "duration": -653,
    "start_time": "2022-01-19T17:23:23.117Z"
   },
   {
    "duration": -660,
    "start_time": "2022-01-19T17:23:23.125Z"
   },
   {
    "duration": -666,
    "start_time": "2022-01-19T17:23:23.132Z"
   },
   {
    "duration": -673,
    "start_time": "2022-01-19T17:23:23.140Z"
   },
   {
    "duration": -679,
    "start_time": "2022-01-19T17:23:23.147Z"
   },
   {
    "duration": -686,
    "start_time": "2022-01-19T17:23:23.156Z"
   },
   {
    "duration": -692,
    "start_time": "2022-01-19T17:23:23.163Z"
   },
   {
    "duration": -699,
    "start_time": "2022-01-19T17:23:23.171Z"
   },
   {
    "duration": -704,
    "start_time": "2022-01-19T17:23:23.177Z"
   },
   {
    "duration": -711,
    "start_time": "2022-01-19T17:23:23.185Z"
   },
   {
    "duration": -717,
    "start_time": "2022-01-19T17:23:23.192Z"
   },
   {
    "duration": -723,
    "start_time": "2022-01-19T17:23:23.199Z"
   },
   {
    "duration": -730,
    "start_time": "2022-01-19T17:23:23.207Z"
   },
   {
    "duration": -756,
    "start_time": "2022-01-19T17:23:23.234Z"
   },
   {
    "duration": -762,
    "start_time": "2022-01-19T17:23:23.241Z"
   },
   {
    "duration": -736,
    "start_time": "2022-01-19T17:23:23.248Z"
   },
   {
    "duration": -742,
    "start_time": "2022-01-19T17:23:23.255Z"
   },
   {
    "duration": 328,
    "start_time": "2022-01-19T17:24:43.574Z"
   },
   {
    "duration": 319,
    "start_time": "2022-01-19T17:24:51.205Z"
   },
   {
    "duration": 7,
    "start_time": "2022-01-19T17:25:24.446Z"
   },
   {
    "duration": 22,
    "start_time": "2022-01-19T17:25:27.283Z"
   },
   {
    "duration": 10,
    "start_time": "2022-01-19T17:25:28.740Z"
   },
   {
    "duration": 309,
    "start_time": "2022-01-19T17:25:30.643Z"
   },
   {
    "duration": 321,
    "start_time": "2022-01-19T17:25:33.899Z"
   },
   {
    "duration": 311,
    "start_time": "2022-01-19T17:25:36.652Z"
   },
   {
    "duration": 11,
    "start_time": "2022-01-19T17:25:39.956Z"
   },
   {
    "duration": 365,
    "start_time": "2022-01-19T17:25:42.668Z"
   },
   {
    "duration": 429,
    "start_time": "2022-01-19T17:25:45.965Z"
   },
   {
    "duration": 409,
    "start_time": "2022-01-19T17:25:48.404Z"
   },
   {
    "duration": 7,
    "start_time": "2022-01-19T17:25:53.451Z"
   },
   {
    "duration": 649,
    "start_time": "2022-01-19T17:25:54.444Z"
   },
   {
    "duration": 635,
    "start_time": "2022-01-19T17:26:27.253Z"
   },
   {
    "duration": 633,
    "start_time": "2022-01-19T17:26:32.909Z"
   },
   {
    "duration": 394,
    "start_time": "2022-01-19T17:27:25.430Z"
   },
   {
    "duration": 452,
    "start_time": "2022-01-19T17:27:33.789Z"
   },
   {
    "duration": 443,
    "start_time": "2022-01-19T17:27:37.300Z"
   },
   {
    "duration": 458,
    "start_time": "2022-01-19T17:27:39.924Z"
   },
   {
    "duration": 15,
    "start_time": "2022-01-19T17:27:44.069Z"
   },
   {
    "duration": 404,
    "start_time": "2022-01-19T17:27:46.525Z"
   },
   {
    "duration": 417,
    "start_time": "2022-01-19T17:27:47.322Z"
   },
   {
    "duration": 487,
    "start_time": "2022-01-19T17:27:49.486Z"
   },
   {
    "duration": 15,
    "start_time": "2022-01-19T17:27:51.758Z"
   },
   {
    "duration": 421,
    "start_time": "2022-01-19T17:28:32.062Z"
   },
   {
    "duration": 850,
    "start_time": "2022-01-19T17:29:34.567Z"
   },
   {
    "duration": 11,
    "start_time": "2022-01-19T17:41:14.765Z"
   },
   {
    "duration": 344,
    "start_time": "2022-01-19T17:42:02.685Z"
   },
   {
    "duration": 295,
    "start_time": "2022-01-19T17:42:26.551Z"
   },
   {
    "duration": 314,
    "start_time": "2022-01-19T17:43:11.287Z"
   },
   {
    "duration": 233,
    "start_time": "2022-01-19T17:43:37.691Z"
   },
   {
    "duration": 13,
    "start_time": "2022-01-19T17:43:44.624Z"
   },
   {
    "duration": 5832,
    "start_time": "2022-01-19T17:46:41.312Z"
   },
   {
    "duration": 12,
    "start_time": "2022-01-19T17:46:50.465Z"
   },
   {
    "duration": 12,
    "start_time": "2022-01-19T17:47:00.288Z"
   },
   {
    "duration": 4,
    "start_time": "2022-01-19T17:48:11.993Z"
   },
   {
    "duration": 592,
    "start_time": "2022-01-19T17:49:56.235Z"
   },
   {
    "duration": 840,
    "start_time": "2022-01-19T17:50:27.980Z"
   },
   {
    "duration": 854,
    "start_time": "2022-01-19T17:51:10.932Z"
   },
   {
    "duration": 284,
    "start_time": "2022-01-19T17:53:36.670Z"
   },
   {
    "duration": 241,
    "start_time": "2022-01-19T17:54:57.758Z"
   },
   {
    "duration": 12,
    "start_time": "2022-01-19T17:55:06.870Z"
   },
   {
    "duration": 10,
    "start_time": "2022-01-19T18:07:40.973Z"
   },
   {
    "duration": 236,
    "start_time": "2022-01-19T18:08:24.781Z"
   },
   {
    "duration": 10,
    "start_time": "2022-01-19T18:08:31.966Z"
   },
   {
    "duration": 10,
    "start_time": "2022-01-19T18:08:50.814Z"
   },
   {
    "duration": 5,
    "start_time": "2022-01-19T18:10:42.776Z"
   },
   {
    "duration": 83,
    "start_time": "2022-01-19T18:11:39.874Z"
   },
   {
    "duration": 384,
    "start_time": "2022-01-19T18:11:59.640Z"
   },
   {
    "duration": 9,
    "start_time": "2022-01-19T18:12:13.418Z"
   },
   {
    "duration": 605,
    "start_time": "2022-01-19T18:16:46.709Z"
   },
   {
    "duration": 652,
    "start_time": "2022-01-19T18:17:18.938Z"
   },
   {
    "duration": 347,
    "start_time": "2022-01-19T18:17:54.441Z"
   },
   {
    "duration": 13,
    "start_time": "2022-01-19T18:19:47.474Z"
   },
   {
    "duration": 10,
    "start_time": "2022-01-19T18:20:14.267Z"
   },
   {
    "duration": 237,
    "start_time": "2022-01-19T18:23:24.516Z"
   },
   {
    "duration": 108,
    "start_time": "2022-01-19T18:23:33.948Z"
   },
   {
    "duration": 11,
    "start_time": "2022-01-19T18:23:43.117Z"
   },
   {
    "duration": 11,
    "start_time": "2022-01-19T18:24:03.445Z"
   },
   {
    "duration": 13,
    "start_time": "2022-01-19T18:24:21.681Z"
   },
   {
    "duration": 12,
    "start_time": "2022-01-19T18:24:26.396Z"
   },
   {
    "duration": 9,
    "start_time": "2022-01-19T18:24:51.430Z"
   },
   {
    "duration": 8,
    "start_time": "2022-01-19T18:25:03.704Z"
   },
   {
    "duration": 11,
    "start_time": "2022-01-19T18:26:25.599Z"
   },
   {
    "duration": 11,
    "start_time": "2022-01-19T18:26:50.239Z"
   },
   {
    "duration": 11,
    "start_time": "2022-01-19T18:26:55.982Z"
   },
   {
    "duration": 17,
    "start_time": "2022-01-19T18:27:02.503Z"
   },
   {
    "duration": 12,
    "start_time": "2022-01-19T18:27:14.206Z"
   },
   {
    "duration": 4,
    "start_time": "2022-01-19T18:29:08.097Z"
   },
   {
    "duration": 13,
    "start_time": "2022-01-19T18:29:16.959Z"
   },
   {
    "duration": 10,
    "start_time": "2022-01-19T18:29:39.608Z"
   },
   {
    "duration": 5849,
    "start_time": "2022-01-19T18:30:06.849Z"
   },
   {
    "duration": 5,
    "start_time": "2022-01-19T18:30:25.245Z"
   },
   {
    "duration": 77,
    "start_time": "2022-01-19T18:31:17.013Z"
   },
   {
    "duration": 12,
    "start_time": "2022-01-19T18:31:24.681Z"
   },
   {
    "duration": 12,
    "start_time": "2022-01-19T18:31:36.696Z"
   },
   {
    "duration": 5758,
    "start_time": "2022-01-19T18:31:49.577Z"
   },
   {
    "duration": 11,
    "start_time": "2022-01-19T18:32:08.899Z"
   },
   {
    "duration": 239,
    "start_time": "2022-01-19T18:32:54.506Z"
   },
   {
    "duration": 12,
    "start_time": "2022-01-19T18:33:06.571Z"
   },
   {
    "duration": 4,
    "start_time": "2022-01-19T18:33:17.770Z"
   },
   {
    "duration": 11,
    "start_time": "2022-01-19T18:33:29.074Z"
   },
   {
    "duration": 10,
    "start_time": "2022-01-19T18:34:14.266Z"
   },
   {
    "duration": 10,
    "start_time": "2022-01-19T18:34:38.595Z"
   },
   {
    "duration": 3,
    "start_time": "2022-01-19T18:38:22.403Z"
   },
   {
    "duration": 5,
    "start_time": "2022-01-19T18:43:09.790Z"
   },
   {
    "duration": 13,
    "start_time": "2022-01-19T18:43:09.798Z"
   },
   {
    "duration": 4,
    "start_time": "2022-01-19T18:43:09.813Z"
   },
   {
    "duration": 15,
    "start_time": "2022-01-19T18:43:09.819Z"
   },
   {
    "duration": 6,
    "start_time": "2022-01-19T18:43:09.836Z"
   },
   {
    "duration": 17,
    "start_time": "2022-01-19T18:43:09.844Z"
   },
   {
    "duration": 9,
    "start_time": "2022-01-19T18:43:09.862Z"
   },
   {
    "duration": 45,
    "start_time": "2022-01-19T18:43:09.873Z"
   },
   {
    "duration": 10,
    "start_time": "2022-01-19T18:43:09.919Z"
   },
   {
    "duration": 5,
    "start_time": "2022-01-19T18:53:31.573Z"
   },
   {
    "duration": 470,
    "start_time": "2022-01-19T19:04:14.965Z"
   },
   {
    "duration": 440,
    "start_time": "2022-01-19T19:04:24.651Z"
   },
   {
    "duration": 477,
    "start_time": "2022-01-19T19:04:37.764Z"
   },
   {
    "duration": 447,
    "start_time": "2022-01-19T19:05:05.372Z"
   },
   {
    "duration": 492,
    "start_time": "2022-01-19T19:05:13.284Z"
   },
   {
    "duration": 466,
    "start_time": "2022-01-19T19:05:56.749Z"
   },
   {
    "duration": 446,
    "start_time": "2022-01-19T19:06:14.157Z"
   },
   {
    "duration": 480,
    "start_time": "2022-01-19T19:06:36.653Z"
   },
   {
    "duration": 475,
    "start_time": "2022-01-19T19:06:49.625Z"
   },
   {
    "duration": 462,
    "start_time": "2022-01-19T19:07:01.574Z"
   },
   {
    "duration": 455,
    "start_time": "2022-01-19T19:07:24.611Z"
   },
   {
    "duration": 11,
    "start_time": "2022-01-19T19:08:27.613Z"
   },
   {
    "duration": 417,
    "start_time": "2022-01-19T19:29:51.748Z"
   },
   {
    "duration": 446,
    "start_time": "2022-01-19T19:30:09.524Z"
   },
   {
    "duration": 502,
    "start_time": "2022-01-19T19:30:48.508Z"
   },
   {
    "duration": 471,
    "start_time": "2022-01-19T19:31:08.014Z"
   },
   {
    "duration": 15,
    "start_time": "2022-01-19T19:31:25.633Z"
   },
   {
    "duration": 239,
    "start_time": "2022-01-19T19:33:56.271Z"
   },
   {
    "duration": 240,
    "start_time": "2022-01-19T19:34:19.560Z"
   },
   {
    "duration": 439,
    "start_time": "2022-01-19T19:34:54.515Z"
   },
   {
    "duration": 218,
    "start_time": "2022-01-19T19:35:18.425Z"
   },
   {
    "duration": 379,
    "start_time": "2022-01-19T19:35:26.744Z"
   },
   {
    "duration": 266,
    "start_time": "2022-01-19T19:35:31.223Z"
   },
   {
    "duration": 238,
    "start_time": "2022-01-19T19:35:39.080Z"
   },
   {
    "duration": 14,
    "start_time": "2022-01-19T19:36:16.563Z"
   },
   {
    "duration": 255,
    "start_time": "2022-01-19T19:41:51.549Z"
   },
   {
    "duration": 3,
    "start_time": "2022-01-19T19:41:57.198Z"
   },
   {
    "duration": 40,
    "start_time": "2022-01-19T19:41:57.207Z"
   },
   {
    "duration": 8,
    "start_time": "2022-01-19T19:41:57.249Z"
   },
   {
    "duration": 5,
    "start_time": "2022-01-19T19:41:57.259Z"
   },
   {
    "duration": 17,
    "start_time": "2022-01-19T19:41:57.265Z"
   },
   {
    "duration": 30,
    "start_time": "2022-01-19T19:41:57.283Z"
   },
   {
    "duration": 8,
    "start_time": "2022-01-19T19:41:57.315Z"
   },
   {
    "duration": 5,
    "start_time": "2022-01-19T19:41:57.324Z"
   },
   {
    "duration": 14,
    "start_time": "2022-01-19T19:41:57.331Z"
   },
   {
    "duration": 7,
    "start_time": "2022-01-19T19:41:57.346Z"
   },
   {
    "duration": 6,
    "start_time": "2022-01-19T19:41:57.355Z"
   },
   {
    "duration": 4,
    "start_time": "2022-01-19T19:41:57.363Z"
   },
   {
    "duration": 60,
    "start_time": "2022-01-19T19:41:57.368Z"
   },
   {
    "duration": 12,
    "start_time": "2022-01-19T19:41:57.430Z"
   },
   {
    "duration": 6,
    "start_time": "2022-01-19T19:41:57.444Z"
   },
   {
    "duration": 19,
    "start_time": "2022-01-19T19:41:57.451Z"
   },
   {
    "duration": 43,
    "start_time": "2022-01-19T19:41:57.472Z"
   },
   {
    "duration": 14,
    "start_time": "2022-01-19T19:41:57.516Z"
   },
   {
    "duration": 8,
    "start_time": "2022-01-19T19:41:57.531Z"
   },
   {
    "duration": 5,
    "start_time": "2022-01-19T19:41:57.540Z"
   },
   {
    "duration": 5,
    "start_time": "2022-01-19T19:41:57.547Z"
   },
   {
    "duration": 4,
    "start_time": "2022-01-19T19:41:57.554Z"
   },
   {
    "duration": 64,
    "start_time": "2022-01-19T19:41:57.560Z"
   },
   {
    "duration": 398,
    "start_time": "2022-01-19T19:41:57.626Z"
   },
   {
    "duration": 339,
    "start_time": "2022-01-19T19:41:58.026Z"
   },
   {
    "duration": 7,
    "start_time": "2022-01-19T19:41:58.368Z"
   },
   {
    "duration": 37,
    "start_time": "2022-01-19T19:41:58.378Z"
   },
   {
    "duration": 10,
    "start_time": "2022-01-19T19:41:58.417Z"
   },
   {
    "duration": 350,
    "start_time": "2022-01-19T19:41:58.428Z"
   },
   {
    "duration": 354,
    "start_time": "2022-01-19T19:41:58.779Z"
   },
   {
    "duration": 336,
    "start_time": "2022-01-19T19:41:59.134Z"
   },
   {
    "duration": 11,
    "start_time": "2022-01-19T19:41:59.471Z"
   },
   {
    "duration": 401,
    "start_time": "2022-01-19T19:41:59.483Z"
   },
   {
    "duration": 463,
    "start_time": "2022-01-19T19:41:59.886Z"
   },
   {
    "duration": 429,
    "start_time": "2022-01-19T19:42:00.351Z"
   },
   {
    "duration": 8,
    "start_time": "2022-01-19T19:42:00.782Z"
   },
   {
    "duration": 405,
    "start_time": "2022-01-19T19:42:00.792Z"
   },
   {
    "duration": 431,
    "start_time": "2022-01-19T19:42:01.198Z"
   },
   {
    "duration": 402,
    "start_time": "2022-01-19T19:42:01.630Z"
   },
   {
    "duration": 448,
    "start_time": "2022-01-19T19:42:02.034Z"
   },
   {
    "duration": 14,
    "start_time": "2022-01-19T19:42:02.484Z"
   },
   {
    "duration": 473,
    "start_time": "2022-01-19T19:42:02.499Z"
   },
   {
    "duration": 315,
    "start_time": "2022-01-19T19:42:02.973Z"
   },
   {
    "duration": -1486,
    "start_time": "2022-01-19T19:42:04.776Z"
   },
   {
    "duration": -1494,
    "start_time": "2022-01-19T19:42:04.786Z"
   },
   {
    "duration": -1504,
    "start_time": "2022-01-19T19:42:04.796Z"
   },
   {
    "duration": -1513,
    "start_time": "2022-01-19T19:42:04.806Z"
   },
   {
    "duration": -1522,
    "start_time": "2022-01-19T19:42:04.816Z"
   },
   {
    "duration": -1531,
    "start_time": "2022-01-19T19:42:04.826Z"
   },
   {
    "duration": -1541,
    "start_time": "2022-01-19T19:42:04.837Z"
   },
   {
    "duration": -1549,
    "start_time": "2022-01-19T19:42:04.846Z"
   },
   {
    "duration": -1560,
    "start_time": "2022-01-19T19:42:04.857Z"
   },
   {
    "duration": -1598,
    "start_time": "2022-01-19T19:42:04.896Z"
   },
   {
    "duration": -1608,
    "start_time": "2022-01-19T19:42:04.907Z"
   },
   {
    "duration": -1617,
    "start_time": "2022-01-19T19:42:04.917Z"
   },
   {
    "duration": -1628,
    "start_time": "2022-01-19T19:42:04.929Z"
   },
   {
    "duration": -1637,
    "start_time": "2022-01-19T19:42:04.939Z"
   },
   {
    "duration": -1646,
    "start_time": "2022-01-19T19:42:04.950Z"
   },
   {
    "duration": -1656,
    "start_time": "2022-01-19T19:42:04.961Z"
   },
   {
    "duration": -1666,
    "start_time": "2022-01-19T19:42:04.972Z"
   },
   {
    "duration": 7,
    "start_time": "2022-01-19T19:42:10.754Z"
   },
   {
    "duration": 4,
    "start_time": "2022-01-19T19:43:18.176Z"
   },
   {
    "duration": 4,
    "start_time": "2022-01-19T19:44:33.921Z"
   },
   {
    "duration": 422,
    "start_time": "2022-01-19T20:06:54.913Z"
   },
   {
    "duration": 288,
    "start_time": "2022-01-19T20:06:58.002Z"
   },
   {
    "duration": 458,
    "start_time": "2022-01-19T20:07:10.273Z"
   },
   {
    "duration": 453,
    "start_time": "2022-01-19T20:07:18.625Z"
   },
   {
    "duration": 14,
    "start_time": "2022-01-19T20:07:26.589Z"
   },
   {
    "duration": 12,
    "start_time": "2022-01-19T20:07:33.471Z"
   },
   {
    "duration": 12,
    "start_time": "2022-01-19T20:07:44.698Z"
   },
   {
    "duration": 284,
    "start_time": "2022-01-19T20:07:44.711Z"
   },
   {
    "duration": 571,
    "start_time": "2022-01-19T20:07:44.997Z"
   },
   {
    "duration": 5,
    "start_time": "2022-01-19T20:07:45.570Z"
   },
   {
    "duration": 12,
    "start_time": "2022-01-19T20:07:45.576Z"
   },
   {
    "duration": 23,
    "start_time": "2022-01-19T20:07:45.590Z"
   },
   {
    "duration": 10,
    "start_time": "2022-01-19T20:07:45.614Z"
   },
   {
    "duration": 3,
    "start_time": "2022-01-19T20:07:45.626Z"
   },
   {
    "duration": 11,
    "start_time": "2022-01-19T20:07:45.630Z"
   },
   {
    "duration": 9,
    "start_time": "2022-01-19T20:07:45.642Z"
   },
   {
    "duration": 7,
    "start_time": "2022-01-19T20:07:45.652Z"
   },
   {
    "duration": 9,
    "start_time": "2022-01-19T20:07:45.660Z"
   },
   {
    "duration": 458,
    "start_time": "2022-01-19T20:07:45.671Z"
   },
   {
    "duration": 436,
    "start_time": "2022-01-19T20:07:46.131Z"
   },
   {
    "duration": 450,
    "start_time": "2022-01-19T20:07:46.569Z"
   },
   {
    "duration": 7,
    "start_time": "2022-01-19T20:07:47.022Z"
   },
   {
    "duration": 5,
    "start_time": "2022-01-19T20:07:47.031Z"
   },
   {
    "duration": 5,
    "start_time": "2022-01-19T20:07:48.229Z"
   },
   {
    "duration": 7,
    "start_time": "2022-01-19T20:07:49.856Z"
   },
   {
    "duration": 4,
    "start_time": "2022-01-19T20:07:50.417Z"
   },
   {
    "duration": 71,
    "start_time": "2022-01-19T20:07:50.424Z"
   },
   {
    "duration": -1029,
    "start_time": "2022-01-19T20:07:51.525Z"
   },
   {
    "duration": -1040,
    "start_time": "2022-01-19T20:07:51.537Z"
   },
   {
    "duration": -1049,
    "start_time": "2022-01-19T20:07:51.547Z"
   },
   {
    "duration": 4,
    "start_time": "2022-01-19T20:08:24.488Z"
   },
   {
    "duration": 6,
    "start_time": "2022-01-19T20:09:11.227Z"
   },
   {
    "duration": 3,
    "start_time": "2022-01-19T20:26:09.676Z"
   },
   {
    "duration": 55,
    "start_time": "2022-01-19T20:26:09.683Z"
   },
   {
    "duration": 12,
    "start_time": "2022-01-19T20:26:09.740Z"
   },
   {
    "duration": 5,
    "start_time": "2022-01-19T20:26:09.754Z"
   },
   {
    "duration": 22,
    "start_time": "2022-01-19T20:26:09.762Z"
   },
   {
    "duration": 6,
    "start_time": "2022-01-19T20:26:09.813Z"
   },
   {
    "duration": 9,
    "start_time": "2022-01-19T20:26:09.821Z"
   },
   {
    "duration": 5,
    "start_time": "2022-01-19T20:26:09.832Z"
   },
   {
    "duration": 19,
    "start_time": "2022-01-19T20:26:09.840Z"
   },
   {
    "duration": 6,
    "start_time": "2022-01-19T20:26:09.861Z"
   },
   {
    "duration": 44,
    "start_time": "2022-01-19T20:26:09.869Z"
   },
   {
    "duration": 4,
    "start_time": "2022-01-19T20:26:09.916Z"
   },
   {
    "duration": 25,
    "start_time": "2022-01-19T20:26:09.922Z"
   },
   {
    "duration": 19,
    "start_time": "2022-01-19T20:26:09.949Z"
   },
   {
    "duration": 42,
    "start_time": "2022-01-19T20:26:09.970Z"
   },
   {
    "duration": 26,
    "start_time": "2022-01-19T20:26:10.014Z"
   },
   {
    "duration": 4,
    "start_time": "2022-01-19T20:26:10.042Z"
   },
   {
    "duration": 21,
    "start_time": "2022-01-19T20:26:10.048Z"
   },
   {
    "duration": 8,
    "start_time": "2022-01-19T20:26:10.072Z"
   },
   {
    "duration": 31,
    "start_time": "2022-01-19T20:26:10.082Z"
   },
   {
    "duration": 7,
    "start_time": "2022-01-19T20:26:10.114Z"
   },
   {
    "duration": 4,
    "start_time": "2022-01-19T20:26:10.123Z"
   },
   {
    "duration": 14,
    "start_time": "2022-01-19T20:26:10.129Z"
   },
   {
    "duration": 355,
    "start_time": "2022-01-19T20:26:10.145Z"
   },
   {
    "duration": 330,
    "start_time": "2022-01-19T20:26:10.501Z"
   },
   {
    "duration": 7,
    "start_time": "2022-01-19T20:26:10.833Z"
   },
   {
    "duration": 18,
    "start_time": "2022-01-19T20:26:10.841Z"
   },
   {
    "duration": 9,
    "start_time": "2022-01-19T20:26:10.860Z"
   },
   {
    "duration": 334,
    "start_time": "2022-01-19T20:26:10.870Z"
   },
   {
    "duration": 309,
    "start_time": "2022-01-19T20:26:11.206Z"
   },
   {
    "duration": 295,
    "start_time": "2022-01-19T20:26:11.517Z"
   },
   {
    "duration": 10,
    "start_time": "2022-01-19T20:26:11.814Z"
   },
   {
    "duration": 349,
    "start_time": "2022-01-19T20:26:11.825Z"
   },
   {
    "duration": 406,
    "start_time": "2022-01-19T20:26:12.175Z"
   },
   {
    "duration": 375,
    "start_time": "2022-01-19T20:26:12.583Z"
   },
   {
    "duration": 6,
    "start_time": "2022-01-19T20:26:12.961Z"
   },
   {
    "duration": 402,
    "start_time": "2022-01-19T20:26:12.969Z"
   },
   {
    "duration": 505,
    "start_time": "2022-01-19T20:26:13.373Z"
   },
   {
    "duration": 472,
    "start_time": "2022-01-19T20:26:13.880Z"
   },
   {
    "duration": 471,
    "start_time": "2022-01-19T20:26:14.353Z"
   },
   {
    "duration": 14,
    "start_time": "2022-01-19T20:26:14.826Z"
   },
   {
    "duration": 420,
    "start_time": "2022-01-19T20:26:14.842Z"
   },
   {
    "duration": 454,
    "start_time": "2022-01-19T20:26:15.264Z"
   },
   {
    "duration": 541,
    "start_time": "2022-01-19T20:26:15.720Z"
   },
   {
    "duration": 15,
    "start_time": "2022-01-19T20:26:16.262Z"
   },
   {
    "duration": 11,
    "start_time": "2022-01-19T20:26:16.279Z"
   },
   {
    "duration": 346,
    "start_time": "2022-01-19T20:26:16.312Z"
   },
   {
    "duration": 623,
    "start_time": "2022-01-19T20:26:16.660Z"
   },
   {
    "duration": 5,
    "start_time": "2022-01-19T20:26:17.286Z"
   },
   {
    "duration": 30,
    "start_time": "2022-01-19T20:26:17.293Z"
   },
   {
    "duration": 6,
    "start_time": "2022-01-19T20:26:17.325Z"
   },
   {
    "duration": 16,
    "start_time": "2022-01-19T20:26:17.333Z"
   },
   {
    "duration": 4,
    "start_time": "2022-01-19T20:26:17.350Z"
   },
   {
    "duration": 11,
    "start_time": "2022-01-19T20:26:17.355Z"
   },
   {
    "duration": 49,
    "start_time": "2022-01-19T20:26:17.368Z"
   },
   {
    "duration": 11,
    "start_time": "2022-01-19T20:26:17.419Z"
   },
   {
    "duration": 12,
    "start_time": "2022-01-19T20:26:17.432Z"
   },
   {
    "duration": 526,
    "start_time": "2022-01-19T20:26:17.446Z"
   },
   {
    "duration": 504,
    "start_time": "2022-01-19T20:26:17.974Z"
   },
   {
    "duration": 521,
    "start_time": "2022-01-19T20:26:18.480Z"
   },
   {
    "duration": 9,
    "start_time": "2022-01-19T20:26:19.011Z"
   },
   {
    "duration": 6,
    "start_time": "2022-01-19T20:26:19.022Z"
   },
   {
    "duration": 6,
    "start_time": "2022-01-19T20:26:19.030Z"
   },
   {
    "duration": 13,
    "start_time": "2022-01-19T20:26:19.039Z"
   },
   {
    "duration": 5,
    "start_time": "2022-01-19T20:26:19.054Z"
   },
   {
    "duration": 6,
    "start_time": "2022-01-19T20:26:19.061Z"
   },
   {
    "duration": 3,
    "start_time": "2022-01-19T20:28:49.622Z"
   },
   {
    "duration": 43,
    "start_time": "2022-01-19T20:28:49.629Z"
   },
   {
    "duration": 9,
    "start_time": "2022-01-19T20:28:49.674Z"
   },
   {
    "duration": 4,
    "start_time": "2022-01-19T20:28:49.685Z"
   },
   {
    "duration": 24,
    "start_time": "2022-01-19T20:28:49.691Z"
   },
   {
    "duration": 4,
    "start_time": "2022-01-19T20:28:49.717Z"
   },
   {
    "duration": 7,
    "start_time": "2022-01-19T20:28:49.723Z"
   },
   {
    "duration": 5,
    "start_time": "2022-01-19T20:28:49.732Z"
   },
   {
    "duration": 14,
    "start_time": "2022-01-19T20:28:49.739Z"
   },
   {
    "duration": 4,
    "start_time": "2022-01-19T20:28:49.754Z"
   },
   {
    "duration": 7,
    "start_time": "2022-01-19T20:28:49.760Z"
   },
   {
    "duration": 3,
    "start_time": "2022-01-19T20:28:49.769Z"
   },
   {
    "duration": 18,
    "start_time": "2022-01-19T20:28:49.813Z"
   },
   {
    "duration": 14,
    "start_time": "2022-01-19T20:28:49.833Z"
   },
   {
    "duration": 9,
    "start_time": "2022-01-19T20:28:49.848Z"
   },
   {
    "duration": 17,
    "start_time": "2022-01-19T20:28:49.858Z"
   },
   {
    "duration": 37,
    "start_time": "2022-01-19T20:28:49.877Z"
   },
   {
    "duration": 13,
    "start_time": "2022-01-19T20:28:49.915Z"
   },
   {
    "duration": 8,
    "start_time": "2022-01-19T20:28:49.930Z"
   },
   {
    "duration": 6,
    "start_time": "2022-01-19T20:28:49.939Z"
   },
   {
    "duration": 6,
    "start_time": "2022-01-19T20:28:49.946Z"
   },
   {
    "duration": 4,
    "start_time": "2022-01-19T20:28:49.954Z"
   },
   {
    "duration": 52,
    "start_time": "2022-01-19T20:28:49.960Z"
   },
   {
    "duration": 386,
    "start_time": "2022-01-19T20:28:50.014Z"
   },
   {
    "duration": 326,
    "start_time": "2022-01-19T20:28:50.402Z"
   },
   {
    "duration": 6,
    "start_time": "2022-01-19T20:28:50.730Z"
   },
   {
    "duration": 20,
    "start_time": "2022-01-19T20:28:50.738Z"
   },
   {
    "duration": 7,
    "start_time": "2022-01-19T20:28:50.760Z"
   },
   {
    "duration": 353,
    "start_time": "2022-01-19T20:28:50.769Z"
   },
   {
    "duration": 302,
    "start_time": "2022-01-19T20:28:51.123Z"
   },
   {
    "duration": 316,
    "start_time": "2022-01-19T20:28:51.426Z"
   },
   {
    "duration": 10,
    "start_time": "2022-01-19T20:28:51.744Z"
   },
   {
    "duration": 366,
    "start_time": "2022-01-19T20:28:51.756Z"
   },
   {
    "duration": 418,
    "start_time": "2022-01-19T20:28:52.123Z"
   },
   {
    "duration": 397,
    "start_time": "2022-01-19T20:28:52.543Z"
   },
   {
    "duration": 6,
    "start_time": "2022-01-19T20:28:52.942Z"
   },
   {
    "duration": 397,
    "start_time": "2022-01-19T20:28:52.950Z"
   },
   {
    "duration": 387,
    "start_time": "2022-01-19T20:28:53.350Z"
   },
   {
    "duration": 422,
    "start_time": "2022-01-19T20:28:53.739Z"
   },
   {
    "duration": 455,
    "start_time": "2022-01-19T20:28:54.163Z"
   },
   {
    "duration": 15,
    "start_time": "2022-01-19T20:28:54.619Z"
   },
   {
    "duration": 438,
    "start_time": "2022-01-19T20:28:54.636Z"
   },
   {
    "duration": 503,
    "start_time": "2022-01-19T20:28:55.075Z"
   },
   {
    "duration": 498,
    "start_time": "2022-01-19T20:28:55.580Z"
   },
   {
    "duration": 15,
    "start_time": "2022-01-19T20:28:56.080Z"
   },
   {
    "duration": 26,
    "start_time": "2022-01-19T20:28:56.097Z"
   },
   {
    "duration": 328,
    "start_time": "2022-01-19T20:28:56.125Z"
   },
   {
    "duration": 638,
    "start_time": "2022-01-19T20:28:56.455Z"
   },
   {
    "duration": 6,
    "start_time": "2022-01-19T20:28:57.095Z"
   },
   {
    "duration": 12,
    "start_time": "2022-01-19T20:28:57.112Z"
   },
   {
    "duration": 4,
    "start_time": "2022-01-19T20:28:57.126Z"
   },
   {
    "duration": 12,
    "start_time": "2022-01-19T20:28:57.132Z"
   },
   {
    "duration": 4,
    "start_time": "2022-01-19T20:28:57.145Z"
   },
   {
    "duration": 17,
    "start_time": "2022-01-19T20:28:57.150Z"
   },
   {
    "duration": 8,
    "start_time": "2022-01-19T20:28:57.169Z"
   },
   {
    "duration": 10,
    "start_time": "2022-01-19T20:28:57.212Z"
   },
   {
    "duration": 10,
    "start_time": "2022-01-19T20:28:57.223Z"
   },
   {
    "duration": 495,
    "start_time": "2022-01-19T20:28:57.234Z"
   },
   {
    "duration": 479,
    "start_time": "2022-01-19T20:28:57.731Z"
   },
   {
    "duration": 431,
    "start_time": "2022-01-19T20:28:58.212Z"
   },
   {
    "duration": 6,
    "start_time": "2022-01-19T20:28:58.644Z"
   },
   {
    "duration": 5,
    "start_time": "2022-01-19T20:28:58.652Z"
   },
   {
    "duration": 4,
    "start_time": "2022-01-19T20:28:58.659Z"
   },
   {
    "duration": 6,
    "start_time": "2022-01-19T20:28:58.665Z"
   },
   {
    "duration": 3,
    "start_time": "2022-01-19T20:28:58.673Z"
   },
   {
    "duration": 7,
    "start_time": "2022-01-19T20:28:58.677Z"
   },
   {
    "duration": 1027,
    "start_time": "2022-01-19T20:30:07.360Z"
   },
   {
    "duration": 46,
    "start_time": "2022-01-19T20:30:08.389Z"
   },
   {
    "duration": 8,
    "start_time": "2022-01-19T20:30:08.437Z"
   },
   {
    "duration": 4,
    "start_time": "2022-01-19T20:30:08.447Z"
   },
   {
    "duration": 15,
    "start_time": "2022-01-19T20:30:08.452Z"
   },
   {
    "duration": 4,
    "start_time": "2022-01-19T20:30:08.468Z"
   },
   {
    "duration": 10,
    "start_time": "2022-01-19T20:30:08.473Z"
   },
   {
    "duration": 31,
    "start_time": "2022-01-19T20:30:08.485Z"
   },
   {
    "duration": 16,
    "start_time": "2022-01-19T20:30:08.518Z"
   },
   {
    "duration": 4,
    "start_time": "2022-01-19T20:30:08.535Z"
   },
   {
    "duration": 5,
    "start_time": "2022-01-19T20:30:08.541Z"
   },
   {
    "duration": 3,
    "start_time": "2022-01-19T20:30:08.548Z"
   },
   {
    "duration": 18,
    "start_time": "2022-01-19T20:30:08.552Z"
   },
   {
    "duration": 55,
    "start_time": "2022-01-19T20:30:08.572Z"
   },
   {
    "duration": 9,
    "start_time": "2022-01-19T20:30:08.629Z"
   },
   {
    "duration": 19,
    "start_time": "2022-01-19T20:30:08.640Z"
   },
   {
    "duration": 6,
    "start_time": "2022-01-19T20:30:08.661Z"
   },
   {
    "duration": 50,
    "start_time": "2022-01-19T20:30:08.669Z"
   },
   {
    "duration": 10,
    "start_time": "2022-01-19T20:30:08.721Z"
   },
   {
    "duration": 8,
    "start_time": "2022-01-19T20:30:08.732Z"
   },
   {
    "duration": 6,
    "start_time": "2022-01-19T20:30:08.742Z"
   },
   {
    "duration": 5,
    "start_time": "2022-01-19T20:30:08.750Z"
   },
   {
    "duration": 53,
    "start_time": "2022-01-19T20:30:08.760Z"
   },
   {
    "duration": 355,
    "start_time": "2022-01-19T20:30:08.816Z"
   },
   {
    "duration": 200,
    "start_time": "2022-01-19T20:30:09.173Z"
   },
   {
    "duration": 6,
    "start_time": "2022-01-19T20:30:09.374Z"
   },
   {
    "duration": 34,
    "start_time": "2022-01-19T20:30:09.382Z"
   },
   {
    "duration": 7,
    "start_time": "2022-01-19T20:30:09.418Z"
   },
   {
    "duration": 217,
    "start_time": "2022-01-19T20:30:09.426Z"
   },
   {
    "duration": 323,
    "start_time": "2022-01-19T20:30:09.645Z"
   },
   {
    "duration": 332,
    "start_time": "2022-01-19T20:30:09.969Z"
   },
   {
    "duration": 13,
    "start_time": "2022-01-19T20:30:10.303Z"
   },
   {
    "duration": 397,
    "start_time": "2022-01-19T20:30:10.318Z"
   },
   {
    "duration": 524,
    "start_time": "2022-01-19T20:30:10.716Z"
   },
   {
    "duration": 419,
    "start_time": "2022-01-19T20:30:11.241Z"
   },
   {
    "duration": 6,
    "start_time": "2022-01-19T20:30:11.662Z"
   },
   {
    "duration": 431,
    "start_time": "2022-01-19T20:30:11.670Z"
   },
   {
    "duration": 454,
    "start_time": "2022-01-19T20:30:12.103Z"
   },
   {
    "duration": 383,
    "start_time": "2022-01-19T20:30:12.559Z"
   },
   {
    "duration": 408,
    "start_time": "2022-01-19T20:30:12.943Z"
   },
   {
    "duration": 13,
    "start_time": "2022-01-19T20:30:13.353Z"
   },
   {
    "duration": 384,
    "start_time": "2022-01-19T20:30:13.368Z"
   },
   {
    "duration": 406,
    "start_time": "2022-01-19T20:30:13.753Z"
   },
   {
    "duration": 411,
    "start_time": "2022-01-19T20:30:14.161Z"
   },
   {
    "duration": 14,
    "start_time": "2022-01-19T20:30:14.573Z"
   },
   {
    "duration": 27,
    "start_time": "2022-01-19T20:30:14.588Z"
   },
   {
    "duration": 291,
    "start_time": "2022-01-19T20:30:14.617Z"
   },
   {
    "duration": 636,
    "start_time": "2022-01-19T20:30:14.912Z"
   },
   {
    "duration": 4,
    "start_time": "2022-01-19T20:30:15.550Z"
   },
   {
    "duration": 11,
    "start_time": "2022-01-19T20:30:15.556Z"
   },
   {
    "duration": 4,
    "start_time": "2022-01-19T20:30:15.569Z"
   },
   {
    "duration": 38,
    "start_time": "2022-01-19T20:30:15.575Z"
   },
   {
    "duration": 5,
    "start_time": "2022-01-19T20:30:15.615Z"
   },
   {
    "duration": 12,
    "start_time": "2022-01-19T20:30:15.622Z"
   },
   {
    "duration": 10,
    "start_time": "2022-01-19T20:30:15.636Z"
   },
   {
    "duration": 9,
    "start_time": "2022-01-19T20:30:15.648Z"
   },
   {
    "duration": 7,
    "start_time": "2022-01-19T20:30:15.659Z"
   },
   {
    "duration": 547,
    "start_time": "2022-01-19T20:30:15.668Z"
   },
   {
    "duration": 482,
    "start_time": "2022-01-19T20:30:16.216Z"
   },
   {
    "duration": 446,
    "start_time": "2022-01-19T20:30:16.699Z"
   },
   {
    "duration": 6,
    "start_time": "2022-01-19T20:30:17.147Z"
   },
   {
    "duration": 4,
    "start_time": "2022-01-19T20:30:17.155Z"
   },
   {
    "duration": 322,
    "start_time": "2022-01-19T20:30:17.161Z"
   },
   {
    "duration": 50,
    "start_time": "2022-01-19T20:30:17.435Z"
   },
   {
    "duration": 39,
    "start_time": "2022-01-19T20:30:17.447Z"
   },
   {
    "duration": 30,
    "start_time": "2022-01-19T20:30:17.457Z"
   },
   {
    "duration": 1030,
    "start_time": "2022-01-24T05:57:54.913Z"
   },
   {
    "duration": 44,
    "start_time": "2022-01-24T05:57:55.945Z"
   },
   {
    "duration": 9,
    "start_time": "2022-01-24T05:57:55.991Z"
   },
   {
    "duration": 4,
    "start_time": "2022-01-24T05:57:56.002Z"
   },
   {
    "duration": 24,
    "start_time": "2022-01-24T05:57:56.007Z"
   },
   {
    "duration": 5,
    "start_time": "2022-01-24T05:57:56.032Z"
   },
   {
    "duration": 11,
    "start_time": "2022-01-24T05:57:56.038Z"
   },
   {
    "duration": 4,
    "start_time": "2022-01-24T05:57:56.050Z"
   },
   {
    "duration": 19,
    "start_time": "2022-01-24T05:57:56.056Z"
   },
   {
    "duration": 3,
    "start_time": "2022-01-24T05:57:56.077Z"
   },
   {
    "duration": 6,
    "start_time": "2022-01-24T05:57:56.082Z"
   },
   {
    "duration": 3,
    "start_time": "2022-01-24T05:57:56.090Z"
   },
   {
    "duration": 46,
    "start_time": "2022-01-24T05:57:56.094Z"
   },
   {
    "duration": 17,
    "start_time": "2022-01-24T05:57:56.142Z"
   },
   {
    "duration": 10,
    "start_time": "2022-01-24T05:57:56.161Z"
   },
   {
    "duration": 19,
    "start_time": "2022-01-24T05:57:56.173Z"
   },
   {
    "duration": 4,
    "start_time": "2022-01-24T05:57:56.194Z"
   },
   {
    "duration": 36,
    "start_time": "2022-01-24T05:57:56.200Z"
   },
   {
    "duration": 10,
    "start_time": "2022-01-24T05:57:56.237Z"
   },
   {
    "duration": 8,
    "start_time": "2022-01-24T05:57:56.249Z"
   },
   {
    "duration": 7,
    "start_time": "2022-01-24T05:57:56.258Z"
   },
   {
    "duration": 5,
    "start_time": "2022-01-24T05:57:56.267Z"
   },
   {
    "duration": 13,
    "start_time": "2022-01-24T05:57:56.273Z"
   },
   {
    "duration": 329,
    "start_time": "2022-01-24T05:57:56.288Z"
   },
   {
    "duration": 187,
    "start_time": "2022-01-24T05:57:56.619Z"
   },
   {
    "duration": 6,
    "start_time": "2022-01-24T05:57:56.807Z"
   },
   {
    "duration": 18,
    "start_time": "2022-01-24T05:57:56.826Z"
   },
   {
    "duration": 7,
    "start_time": "2022-01-24T05:57:56.846Z"
   },
   {
    "duration": 198,
    "start_time": "2022-01-24T05:57:56.854Z"
   },
   {
    "duration": 277,
    "start_time": "2022-01-24T05:57:57.053Z"
   },
   {
    "duration": 274,
    "start_time": "2022-01-24T05:57:57.331Z"
   },
   {
    "duration": 10,
    "start_time": "2022-01-24T05:57:57.607Z"
   },
   {
    "duration": 322,
    "start_time": "2022-01-24T05:57:57.618Z"
   },
   {
    "duration": 451,
    "start_time": "2022-01-24T05:57:57.942Z"
   },
   {
    "duration": 342,
    "start_time": "2022-01-24T05:57:58.394Z"
   },
   {
    "duration": 6,
    "start_time": "2022-01-24T05:57:58.737Z"
   },
   {
    "duration": 472,
    "start_time": "2022-01-24T05:57:58.744Z"
   },
   {
    "duration": 419,
    "start_time": "2022-01-24T05:57:59.218Z"
   },
   {
    "duration": 403,
    "start_time": "2022-01-24T05:57:59.639Z"
   },
   {
    "duration": 406,
    "start_time": "2022-01-24T05:58:00.043Z"
   },
   {
    "duration": 13,
    "start_time": "2022-01-24T05:58:00.451Z"
   },
   {
    "duration": 371,
    "start_time": "2022-01-24T05:58:00.466Z"
   },
   {
    "duration": 411,
    "start_time": "2022-01-24T05:58:00.838Z"
   },
   {
    "duration": 413,
    "start_time": "2022-01-24T05:58:01.251Z"
   },
   {
    "duration": 13,
    "start_time": "2022-01-24T05:58:01.666Z"
   },
   {
    "duration": 15,
    "start_time": "2022-01-24T05:58:01.680Z"
   },
   {
    "duration": 307,
    "start_time": "2022-01-24T05:58:01.696Z"
   },
   {
    "duration": 608,
    "start_time": "2022-01-24T05:58:02.005Z"
   },
   {
    "duration": 4,
    "start_time": "2022-01-24T05:58:02.627Z"
   },
   {
    "duration": 13,
    "start_time": "2022-01-24T05:58:02.632Z"
   },
   {
    "duration": 4,
    "start_time": "2022-01-24T05:58:02.646Z"
   },
   {
    "duration": 12,
    "start_time": "2022-01-24T05:58:02.651Z"
   },
   {
    "duration": 3,
    "start_time": "2022-01-24T05:58:02.664Z"
   },
   {
    "duration": 10,
    "start_time": "2022-01-24T05:58:02.669Z"
   },
   {
    "duration": 7,
    "start_time": "2022-01-24T05:58:02.680Z"
   },
   {
    "duration": 8,
    "start_time": "2022-01-24T05:58:02.689Z"
   },
   {
    "duration": 9,
    "start_time": "2022-01-24T05:58:02.727Z"
   },
   {
    "duration": 436,
    "start_time": "2022-01-24T05:58:02.737Z"
   },
   {
    "duration": 426,
    "start_time": "2022-01-24T05:58:03.174Z"
   },
   {
    "duration": 440,
    "start_time": "2022-01-24T05:58:03.601Z"
   },
   {
    "duration": 7,
    "start_time": "2022-01-24T05:58:04.043Z"
   },
   {
    "duration": 12,
    "start_time": "2022-01-24T05:58:04.051Z"
   },
   {
    "duration": 10,
    "start_time": "2022-01-24T05:58:04.065Z"
   },
   {
    "duration": 10,
    "start_time": "2022-01-24T05:58:04.076Z"
   },
   {
    "duration": 9,
    "start_time": "2022-01-24T05:58:04.088Z"
   },
   {
    "duration": 9,
    "start_time": "2022-01-24T05:58:04.099Z"
   },
   {
    "duration": 1631,
    "start_time": "2022-01-24T09:24:29.755Z"
   },
   {
    "duration": 67,
    "start_time": "2022-01-24T09:24:31.389Z"
   },
   {
    "duration": 16,
    "start_time": "2022-01-24T09:24:31.460Z"
   },
   {
    "duration": 6,
    "start_time": "2022-01-24T09:24:31.479Z"
   },
   {
    "duration": 36,
    "start_time": "2022-01-24T09:24:31.487Z"
   },
   {
    "duration": 6,
    "start_time": "2022-01-24T09:24:31.525Z"
   },
   {
    "duration": 39,
    "start_time": "2022-01-24T09:24:31.533Z"
   },
   {
    "duration": 8,
    "start_time": "2022-01-24T09:24:31.576Z"
   },
   {
    "duration": 24,
    "start_time": "2022-01-24T09:24:31.587Z"
   },
   {
    "duration": 6,
    "start_time": "2022-01-24T09:24:31.613Z"
   },
   {
    "duration": 7,
    "start_time": "2022-01-24T09:24:31.621Z"
   },
   {
    "duration": 5,
    "start_time": "2022-01-24T09:24:31.670Z"
   },
   {
    "duration": 29,
    "start_time": "2022-01-24T09:24:31.677Z"
   },
   {
    "duration": 25,
    "start_time": "2022-01-24T09:24:31.709Z"
   },
   {
    "duration": 42,
    "start_time": "2022-01-24T09:24:31.737Z"
   },
   {
    "duration": 27,
    "start_time": "2022-01-24T09:24:31.782Z"
   },
   {
    "duration": 6,
    "start_time": "2022-01-24T09:24:31.811Z"
   },
   {
    "duration": 56,
    "start_time": "2022-01-24T09:24:31.819Z"
   },
   {
    "duration": 11,
    "start_time": "2022-01-24T09:24:31.878Z"
   },
   {
    "duration": 13,
    "start_time": "2022-01-24T09:24:31.891Z"
   },
   {
    "duration": 9,
    "start_time": "2022-01-24T09:24:31.906Z"
   },
   {
    "duration": 6,
    "start_time": "2022-01-24T09:24:31.917Z"
   },
   {
    "duration": 9,
    "start_time": "2022-01-24T09:24:37.790Z"
   },
   {
    "duration": 27,
    "start_time": "2022-01-24T09:24:54.631Z"
   },
   {
    "duration": 603,
    "start_time": "2022-01-24T09:29:02.890Z"
   },
   {
    "duration": 595,
    "start_time": "2022-01-24T09:32:13.498Z"
   },
   {
    "duration": 591,
    "start_time": "2022-01-24T09:32:45.346Z"
   },
   {
    "duration": 729,
    "start_time": "2022-01-24T09:32:53.753Z"
   },
   {
    "duration": 624,
    "start_time": "2022-01-24T09:33:00.897Z"
   },
   {
    "duration": 583,
    "start_time": "2022-01-24T09:33:08.010Z"
   },
   {
    "duration": 586,
    "start_time": "2022-01-24T09:33:14.418Z"
   },
   {
    "duration": 668,
    "start_time": "2022-01-24T09:33:30.362Z"
   },
   {
    "duration": 359,
    "start_time": "2022-01-24T09:33:42.628Z"
   },
   {
    "duration": 359,
    "start_time": "2022-01-24T09:35:10.477Z"
   },
   {
    "duration": 139,
    "start_time": "2022-01-24T09:35:44.444Z"
   },
   {
    "duration": 137,
    "start_time": "2022-01-24T09:42:28.546Z"
   },
   {
    "duration": 650,
    "start_time": "2022-01-24T09:42:59.961Z"
   },
   {
    "duration": 10,
    "start_time": "2022-01-24T09:43:16.085Z"
   },
   {
    "duration": 31,
    "start_time": "2022-01-24T09:43:19.039Z"
   },
   {
    "duration": 14,
    "start_time": "2022-01-24T09:43:22.230Z"
   },
   {
    "duration": 596,
    "start_time": "2022-01-24T09:43:25.246Z"
   },
   {
    "duration": 1243,
    "start_time": "2022-01-24T09:46:20.185Z"
   },
   {
    "duration": 625,
    "start_time": "2022-01-24T09:47:04.410Z"
   },
   {
    "duration": 546,
    "start_time": "2022-01-24T09:47:40.889Z"
   },
   {
    "duration": 515,
    "start_time": "2022-01-24T09:48:47.250Z"
   },
   {
    "duration": 40,
    "start_time": "2022-01-24T09:51:21.373Z"
   },
   {
    "duration": 30,
    "start_time": "2022-01-24T09:51:34.610Z"
   },
   {
    "duration": 603,
    "start_time": "2022-01-24T09:53:22.125Z"
   },
   {
    "duration": 553,
    "start_time": "2022-01-24T09:53:36.216Z"
   },
   {
    "duration": 521,
    "start_time": "2022-01-24T09:54:08.305Z"
   },
   {
    "duration": 509,
    "start_time": "2022-01-24T09:54:23.990Z"
   },
   {
    "duration": 624,
    "start_time": "2022-01-24T09:57:47.439Z"
   },
   {
    "duration": 104,
    "start_time": "2022-01-24T09:59:03.439Z"
   },
   {
    "duration": 140,
    "start_time": "2022-01-24T10:05:03.028Z"
   },
   {
    "duration": 111,
    "start_time": "2022-01-24T10:05:09.788Z"
   },
   {
    "duration": 826,
    "start_time": "2022-01-24T10:05:18.253Z"
   },
   {
    "duration": 994,
    "start_time": "2022-01-24T10:05:27.725Z"
   },
   {
    "duration": 566,
    "start_time": "2022-01-24T10:05:39.874Z"
   },
   {
    "duration": 498,
    "start_time": "2022-01-24T10:05:52.139Z"
   },
   {
    "duration": 354,
    "start_time": "2022-01-24T10:08:01.197Z"
   },
   {
    "duration": 123,
    "start_time": "2022-01-24T10:08:08.428Z"
   },
   {
    "duration": 552,
    "start_time": "2022-01-24T10:08:15.084Z"
   },
   {
    "duration": 802,
    "start_time": "2022-01-24T17:22:56.379Z"
   },
   {
    "duration": 7,
    "start_time": "2022-01-24T17:23:33.279Z"
   },
   {
    "duration": 203,
    "start_time": "2022-01-24T17:24:47.528Z"
   },
   {
    "duration": 410,
    "start_time": "2022-01-24T17:25:14.634Z"
   },
   {
    "duration": 12,
    "start_time": "2022-01-24T17:25:56.219Z"
   },
   {
    "duration": 14,
    "start_time": "2022-01-24T17:26:04.851Z"
   },
   {
    "duration": 195,
    "start_time": "2022-01-24T17:26:32.674Z"
   },
   {
    "duration": 506,
    "start_time": "2022-01-24T17:27:15.018Z"
   },
   {
    "duration": 210,
    "start_time": "2022-01-24T17:27:32.254Z"
   },
   {
    "duration": 359,
    "start_time": "2022-01-24T17:36:28.312Z"
   },
   {
    "duration": 27,
    "start_time": "2022-01-24T17:36:39.767Z"
   },
   {
    "duration": 14,
    "start_time": "2022-01-24T17:37:09.503Z"
   },
   {
    "duration": 15,
    "start_time": "2022-01-24T17:37:33.519Z"
   },
   {
    "duration": 11,
    "start_time": "2022-01-24T17:39:13.472Z"
   },
   {
    "duration": 10,
    "start_time": "2022-01-24T17:39:36.432Z"
   },
   {
    "duration": 9,
    "start_time": "2022-01-24T17:40:15.666Z"
   },
   {
    "duration": 9,
    "start_time": "2022-01-24T17:40:26.553Z"
   },
   {
    "duration": 9,
    "start_time": "2022-01-24T17:40:42.553Z"
   },
   {
    "duration": 13,
    "start_time": "2022-01-24T17:41:14.753Z"
   },
   {
    "duration": 12,
    "start_time": "2022-01-24T17:41:56.578Z"
   },
   {
    "duration": 11,
    "start_time": "2022-01-24T17:42:16.441Z"
   },
   {
    "duration": 12,
    "start_time": "2022-01-24T17:42:21.195Z"
   },
   {
    "duration": 12,
    "start_time": "2022-01-24T17:43:44.281Z"
   },
   {
    "duration": 293,
    "start_time": "2022-01-24T17:44:13.948Z"
   },
   {
    "duration": 11,
    "start_time": "2022-01-24T17:44:33.347Z"
   },
   {
    "duration": 95,
    "start_time": "2022-01-24T17:58:07.891Z"
   },
   {
    "duration": 98,
    "start_time": "2022-01-24T17:58:27.921Z"
   },
   {
    "duration": 96,
    "start_time": "2022-01-24T17:58:45.458Z"
   },
   {
    "duration": 1357,
    "start_time": "2022-01-24T17:58:50.244Z"
   },
   {
    "duration": 605,
    "start_time": "2022-01-24T18:00:01.619Z"
   },
   {
    "duration": 1543,
    "start_time": "2022-01-24T18:01:00.750Z"
   },
   {
    "duration": 540,
    "start_time": "2022-01-24T18:01:19.276Z"
   },
   {
    "duration": 552,
    "start_time": "2022-01-24T18:02:22.029Z"
   },
   {
    "duration": 498,
    "start_time": "2022-01-24T18:02:53.797Z"
   },
   {
    "duration": 579,
    "start_time": "2022-01-24T18:04:27.583Z"
   },
   {
    "duration": 153,
    "start_time": "2022-01-24T18:04:45.017Z"
   },
   {
    "duration": 161,
    "start_time": "2022-01-24T18:05:18.550Z"
   },
   {
    "duration": 11,
    "start_time": "2022-01-24T18:07:19.457Z"
   },
   {
    "duration": 158,
    "start_time": "2022-01-24T19:10:08.323Z"
   },
   {
    "duration": 141,
    "start_time": "2022-01-24T19:10:44.996Z"
   },
   {
    "duration": 133,
    "start_time": "2022-01-24T19:10:59.994Z"
   },
   {
    "duration": 145,
    "start_time": "2022-01-24T19:11:14.115Z"
   },
   {
    "duration": 152,
    "start_time": "2022-01-24T19:11:32.372Z"
   },
   {
    "duration": 11,
    "start_time": "2022-01-24T19:11:42.359Z"
   },
   {
    "duration": 141,
    "start_time": "2022-01-24T19:11:44.902Z"
   },
   {
    "duration": 4,
    "start_time": "2022-01-24T19:12:07.791Z"
   },
   {
    "duration": 57,
    "start_time": "2022-01-24T19:12:07.990Z"
   },
   {
    "duration": 13,
    "start_time": "2022-01-24T19:12:08.050Z"
   },
   {
    "duration": 7,
    "start_time": "2022-01-24T19:12:08.065Z"
   },
   {
    "duration": 31,
    "start_time": "2022-01-24T19:12:08.075Z"
   },
   {
    "duration": 6,
    "start_time": "2022-01-24T19:12:08.108Z"
   },
   {
    "duration": 11,
    "start_time": "2022-01-24T19:12:08.429Z"
   },
   {
    "duration": 7,
    "start_time": "2022-01-24T19:12:08.443Z"
   },
   {
    "duration": 22,
    "start_time": "2022-01-24T19:12:08.647Z"
   },
   {
    "duration": 10,
    "start_time": "2022-01-24T19:12:08.672Z"
   },
   {
    "duration": 7,
    "start_time": "2022-01-24T19:12:08.684Z"
   },
   {
    "duration": 7,
    "start_time": "2022-01-24T19:12:08.694Z"
   },
   {
    "duration": 33,
    "start_time": "2022-01-24T19:12:08.704Z"
   },
   {
    "duration": 47,
    "start_time": "2022-01-24T19:12:08.740Z"
   },
   {
    "duration": 14,
    "start_time": "2022-01-24T19:12:08.790Z"
   },
   {
    "duration": 29,
    "start_time": "2022-01-24T19:12:08.806Z"
   },
   {
    "duration": 8,
    "start_time": "2022-01-24T19:12:08.872Z"
   },
   {
    "duration": 23,
    "start_time": "2022-01-24T19:12:09.189Z"
   },
   {
    "duration": 15,
    "start_time": "2022-01-24T19:12:09.216Z"
   },
   {
    "duration": 9,
    "start_time": "2022-01-24T19:12:09.234Z"
   },
   {
    "duration": 7,
    "start_time": "2022-01-24T19:12:09.281Z"
   },
   {
    "duration": 6,
    "start_time": "2022-01-24T19:12:09.291Z"
   },
   {
    "duration": 26,
    "start_time": "2022-01-24T19:12:09.300Z"
   },
   {
    "duration": 3,
    "start_time": "2022-01-24T19:12:09.330Z"
   },
   {
    "duration": 762,
    "start_time": "2022-01-24T19:12:09.335Z"
   },
   {
    "duration": 543,
    "start_time": "2022-01-24T19:12:10.100Z"
   },
   {
    "duration": 10,
    "start_time": "2022-01-24T19:12:10.645Z"
   },
   {
    "duration": 32,
    "start_time": "2022-01-24T19:12:10.670Z"
   },
   {
    "duration": 13,
    "start_time": "2022-01-24T19:12:10.705Z"
   },
   {
    "duration": 476,
    "start_time": "2022-01-24T19:12:10.720Z"
   },
   {
    "duration": 532,
    "start_time": "2022-01-24T19:12:11.198Z"
   },
   {
    "duration": 546,
    "start_time": "2022-01-24T19:12:19.180Z"
   },
   {
    "duration": 189,
    "start_time": "2022-01-24T19:12:26.287Z"
   },
   {
    "duration": 6,
    "start_time": "2022-01-24T19:12:59.588Z"
   },
   {
    "duration": 144,
    "start_time": "2022-01-24T19:13:29.726Z"
   },
   {
    "duration": 141,
    "start_time": "2022-01-24T19:14:29.951Z"
   },
   {
    "duration": 223,
    "start_time": "2022-01-24T19:17:27.075Z"
   },
   {
    "duration": 7473,
    "start_time": "2022-01-24T19:17:50.454Z"
   },
   {
    "duration": 9,
    "start_time": "2022-01-24T19:19:29.739Z"
   },
   {
    "duration": 10,
    "start_time": "2022-01-24T19:19:47.679Z"
   },
   {
    "duration": 7963,
    "start_time": "2022-01-24T19:20:30.247Z"
   },
   {
    "duration": 1254,
    "start_time": "2022-01-24T19:22:03.105Z"
   },
   {
    "duration": 7763,
    "start_time": "2022-01-24T19:27:49.842Z"
   },
   {
    "duration": 509,
    "start_time": "2022-01-24T19:28:25.021Z"
   },
   {
    "duration": 548,
    "start_time": "2022-01-24T19:29:51.360Z"
   },
   {
    "duration": 8,
    "start_time": "2022-01-24T19:32:59.998Z"
   },
   {
    "duration": 107,
    "start_time": "2022-01-24T19:36:29.626Z"
   },
   {
    "duration": 93,
    "start_time": "2022-01-24T19:37:11.001Z"
   },
   {
    "duration": 5,
    "start_time": "2022-01-24T19:37:22.184Z"
   },
   {
    "duration": 617,
    "start_time": "2022-01-24T19:38:04.210Z"
   },
   {
    "duration": 317,
    "start_time": "2022-01-24T19:38:36.058Z"
   },
   {
    "duration": 122,
    "start_time": "2022-01-24T20:06:42.558Z"
   },
   {
    "duration": 7,
    "start_time": "2022-01-24T20:06:51.653Z"
   },
   {
    "duration": 7,
    "start_time": "2022-01-24T20:06:55.549Z"
   },
   {
    "duration": 327,
    "start_time": "2022-01-24T20:07:14.183Z"
   },
   {
    "duration": 1097,
    "start_time": "2022-01-24T20:07:21.719Z"
   },
   {
    "duration": 618,
    "start_time": "2022-01-24T20:07:32.551Z"
   },
   {
    "duration": 553,
    "start_time": "2022-01-24T20:08:05.711Z"
   },
   {
    "duration": 104,
    "start_time": "2022-01-24T20:08:19.087Z"
   },
   {
    "duration": 561,
    "start_time": "2022-01-24T20:08:35.935Z"
   },
   {
    "duration": 512,
    "start_time": "2022-01-24T20:08:44.592Z"
   },
   {
    "duration": 627,
    "start_time": "2022-01-24T20:08:52.224Z"
   },
   {
    "duration": 551,
    "start_time": "2022-01-24T20:09:43.966Z"
   },
   {
    "duration": 560,
    "start_time": "2022-01-24T20:10:21.971Z"
   },
   {
    "duration": 538,
    "start_time": "2022-01-24T20:10:35.458Z"
   },
   {
    "duration": 986,
    "start_time": "2022-01-24T20:17:14.613Z"
   },
   {
    "duration": 213,
    "start_time": "2022-01-24T20:17:29.511Z"
   },
   {
    "duration": 232,
    "start_time": "2022-01-24T20:17:55.563Z"
   },
   {
    "duration": 340,
    "start_time": "2022-01-24T20:18:11.733Z"
   },
   {
    "duration": 296,
    "start_time": "2022-01-24T20:19:14.510Z"
   },
   {
    "duration": 5,
    "start_time": "2022-01-24T20:19:36.445Z"
   },
   {
    "duration": 228,
    "start_time": "2022-01-24T20:20:08.829Z"
   },
   {
    "duration": 8,
    "start_time": "2022-01-24T20:20:48.364Z"
   },
   {
    "duration": 214,
    "start_time": "2022-01-24T20:20:56.327Z"
   },
   {
    "duration": 216,
    "start_time": "2022-01-24T20:21:18.604Z"
   },
   {
    "duration": 8,
    "start_time": "2022-01-24T20:22:38.093Z"
   },
   {
    "duration": 209,
    "start_time": "2022-01-24T20:22:49.895Z"
   },
   {
    "duration": 8,
    "start_time": "2022-01-24T20:23:20.198Z"
   },
   {
    "duration": 229,
    "start_time": "2022-01-24T20:23:35.607Z"
   },
   {
    "duration": 109,
    "start_time": "2022-01-24T20:26:42.846Z"
   },
   {
    "duration": 99,
    "start_time": "2022-01-24T20:26:49.459Z"
   },
   {
    "duration": 103,
    "start_time": "2022-01-24T20:26:54.393Z"
   },
   {
    "duration": 362,
    "start_time": "2022-01-24T20:27:12.299Z"
   },
   {
    "duration": 313,
    "start_time": "2022-01-24T20:30:35.492Z"
   },
   {
    "duration": 321,
    "start_time": "2022-01-24T20:31:12.194Z"
   },
   {
    "duration": 448,
    "start_time": "2022-01-24T20:32:17.069Z"
   },
   {
    "duration": 319,
    "start_time": "2022-01-24T20:32:59.476Z"
   },
   {
    "duration": 13,
    "start_time": "2022-01-24T20:34:55.148Z"
   },
   {
    "duration": 104,
    "start_time": "2022-01-24T20:35:39.777Z"
   },
   {
    "duration": 128,
    "start_time": "2022-01-24T20:35:47.741Z"
   },
   {
    "duration": 12,
    "start_time": "2022-01-24T20:35:54.085Z"
   },
   {
    "duration": 323,
    "start_time": "2022-01-24T20:37:42.175Z"
   },
   {
    "duration": 421,
    "start_time": "2022-01-24T20:37:54.222Z"
   },
   {
    "duration": 11,
    "start_time": "2022-01-24T20:39:25.959Z"
   },
   {
    "duration": 18,
    "start_time": "2022-01-24T20:40:03.715Z"
   },
   {
    "duration": 11,
    "start_time": "2022-01-24T20:40:13.112Z"
   },
   {
    "duration": 11,
    "start_time": "2022-01-24T20:44:09.034Z"
   },
   {
    "duration": 13,
    "start_time": "2022-01-24T20:52:36.006Z"
   },
   {
    "duration": 675,
    "start_time": "2022-01-24T20:52:38.422Z"
   },
   {
    "duration": 376,
    "start_time": "2022-01-24T20:52:42.717Z"
   },
   {
    "duration": 382,
    "start_time": "2022-01-24T20:58:18.090Z"
   },
   {
    "duration": 399,
    "start_time": "2022-01-24T20:58:38.043Z"
   },
   {
    "duration": 485,
    "start_time": "2022-01-24T20:59:13.290Z"
   },
   {
    "duration": 527,
    "start_time": "2022-01-24T20:59:18.648Z"
   },
   {
    "duration": 4,
    "start_time": "2022-01-24T21:05:05.805Z"
   },
   {
    "duration": 64,
    "start_time": "2022-01-24T21:05:05.815Z"
   },
   {
    "duration": 13,
    "start_time": "2022-01-24T21:05:05.881Z"
   },
   {
    "duration": 10,
    "start_time": "2022-01-24T21:05:05.897Z"
   },
   {
    "duration": 28,
    "start_time": "2022-01-24T21:05:05.910Z"
   },
   {
    "duration": 33,
    "start_time": "2022-01-24T21:05:05.940Z"
   },
   {
    "duration": 14,
    "start_time": "2022-01-24T21:05:05.976Z"
   },
   {
    "duration": 12,
    "start_time": "2022-01-24T21:05:05.993Z"
   },
   {
    "duration": 72,
    "start_time": "2022-01-24T21:05:06.010Z"
   },
   {
    "duration": 7,
    "start_time": "2022-01-24T21:05:06.085Z"
   },
   {
    "duration": 12,
    "start_time": "2022-01-24T21:05:06.094Z"
   },
   {
    "duration": 14,
    "start_time": "2022-01-24T21:05:06.108Z"
   },
   {
    "duration": 51,
    "start_time": "2022-01-24T21:05:06.124Z"
   },
   {
    "duration": 23,
    "start_time": "2022-01-24T21:05:06.177Z"
   },
   {
    "duration": 13,
    "start_time": "2022-01-24T21:05:06.203Z"
   },
   {
    "duration": 55,
    "start_time": "2022-01-24T21:05:06.218Z"
   },
   {
    "duration": 6,
    "start_time": "2022-01-24T21:05:06.276Z"
   },
   {
    "duration": 22,
    "start_time": "2022-01-24T21:05:06.284Z"
   },
   {
    "duration": 13,
    "start_time": "2022-01-24T21:05:06.308Z"
   },
   {
    "duration": 48,
    "start_time": "2022-01-24T21:05:06.324Z"
   },
   {
    "duration": 9,
    "start_time": "2022-01-24T21:05:06.375Z"
   },
   {
    "duration": 5,
    "start_time": "2022-01-24T21:05:06.390Z"
   },
   {
    "duration": 26,
    "start_time": "2022-01-24T21:05:06.401Z"
   },
   {
    "duration": 3,
    "start_time": "2022-01-24T21:05:06.429Z"
   },
   {
    "duration": 625,
    "start_time": "2022-01-24T21:05:06.469Z"
   },
   {
    "duration": 548,
    "start_time": "2022-01-24T21:05:07.096Z"
   },
   {
    "duration": 30,
    "start_time": "2022-01-24T21:05:07.648Z"
   },
   {
    "duration": 33,
    "start_time": "2022-01-24T21:05:07.681Z"
   },
   {
    "duration": 13,
    "start_time": "2022-01-24T21:05:07.717Z"
   },
   {
    "duration": 841,
    "start_time": "2022-01-24T21:05:07.732Z"
   },
   {
    "duration": 525,
    "start_time": "2022-01-24T21:05:08.576Z"
   },
   {
    "duration": 525,
    "start_time": "2022-01-24T21:05:09.103Z"
   },
   {
    "duration": 11,
    "start_time": "2022-01-24T21:05:09.631Z"
   },
   {
    "duration": 35,
    "start_time": "2022-01-24T21:05:09.647Z"
   },
   {
    "duration": 590,
    "start_time": "2022-01-24T21:05:09.686Z"
   },
   {
    "duration": 699,
    "start_time": "2022-01-24T21:05:10.279Z"
   },
   {
    "duration": 781,
    "start_time": "2022-01-24T21:05:10.980Z"
   },
   {
    "duration": 11,
    "start_time": "2022-01-24T21:05:11.764Z"
   },
   {
    "duration": 572,
    "start_time": "2022-01-24T21:05:11.778Z"
   },
   {
    "duration": 998,
    "start_time": "2022-01-24T21:05:12.353Z"
   },
   {
    "duration": 871,
    "start_time": "2022-01-24T21:05:13.354Z"
   },
   {
    "duration": 1045,
    "start_time": "2022-01-24T21:05:14.227Z"
   },
   {
    "duration": 24,
    "start_time": "2022-01-24T21:05:15.275Z"
   },
   {
    "duration": 953,
    "start_time": "2022-01-24T21:05:15.302Z"
   },
   {
    "duration": 941,
    "start_time": "2022-01-24T21:05:16.258Z"
   },
   {
    "duration": 926,
    "start_time": "2022-01-24T21:05:17.202Z"
   },
   {
    "duration": 20,
    "start_time": "2022-01-24T21:05:18.131Z"
   },
   {
    "duration": 30,
    "start_time": "2022-01-24T21:05:18.154Z"
   },
   {
    "duration": 831,
    "start_time": "2022-01-24T21:05:18.187Z"
   },
   {
    "duration": 995,
    "start_time": "2022-01-24T21:05:19.020Z"
   },
   {
    "duration": 8,
    "start_time": "2022-01-24T21:05:20.018Z"
   },
   {
    "duration": 43,
    "start_time": "2022-01-24T21:05:20.028Z"
   },
   {
    "duration": 6,
    "start_time": "2022-01-24T21:05:20.073Z"
   },
   {
    "duration": 23,
    "start_time": "2022-01-24T21:05:20.081Z"
   },
   {
    "duration": 5,
    "start_time": "2022-01-24T21:05:20.109Z"
   },
   {
    "duration": 21,
    "start_time": "2022-01-24T21:05:20.117Z"
   },
   {
    "duration": 40,
    "start_time": "2022-01-24T21:05:20.140Z"
   },
   {
    "duration": 14,
    "start_time": "2022-01-24T21:05:20.182Z"
   },
   {
    "duration": 13,
    "start_time": "2022-01-24T21:05:20.198Z"
   },
   {
    "duration": 841,
    "start_time": "2022-01-24T21:05:20.214Z"
   },
   {
    "duration": 834,
    "start_time": "2022-01-24T21:05:21.058Z"
   },
   {
    "duration": 930,
    "start_time": "2022-01-24T21:05:21.894Z"
   },
   {
    "duration": 10,
    "start_time": "2022-01-24T21:05:35.477Z"
   },
   {
    "duration": 5,
    "start_time": "2022-01-24T21:05:37.860Z"
   },
   {
    "duration": 344,
    "start_time": "2022-01-24T21:05:40.772Z"
   },
   {
    "duration": 7,
    "start_time": "2022-01-24T21:06:31.637Z"
   },
   {
    "duration": 8,
    "start_time": "2022-01-24T21:08:36.990Z"
   },
   {
    "duration": 10,
    "start_time": "2022-01-24T21:08:40.958Z"
   },
   {
    "duration": 6,
    "start_time": "2022-01-24T21:08:43.029Z"
   },
   {
    "duration": 7,
    "start_time": "2022-01-24T21:08:46.478Z"
   },
   {
    "duration": 7,
    "start_time": "2022-01-24T21:09:25.158Z"
   },
   {
    "duration": 788,
    "start_time": "2022-01-24T21:09:58.143Z"
   },
   {
    "duration": 792,
    "start_time": "2022-01-24T21:10:11.118Z"
   },
   {
    "duration": 495,
    "start_time": "2022-01-24T21:10:32.966Z"
   },
   {
    "duration": 532,
    "start_time": "2022-01-24T21:12:50.120Z"
   },
   {
    "duration": 541,
    "start_time": "2022-01-24T21:12:56.993Z"
   },
   {
    "duration": 584,
    "start_time": "2022-01-24T21:13:10.585Z"
   },
   {
    "duration": 521,
    "start_time": "2022-01-24T21:14:36.537Z"
   },
   {
    "duration": 521,
    "start_time": "2022-01-24T21:16:42.715Z"
   },
   {
    "duration": 512,
    "start_time": "2022-01-24T21:17:29.742Z"
   },
   {
    "duration": 119,
    "start_time": "2022-01-24T21:36:23.108Z"
   },
   {
    "duration": 8,
    "start_time": "2022-01-24T21:36:28.851Z"
   },
   {
    "duration": 20,
    "start_time": "2022-01-24T21:38:19.026Z"
   },
   {
    "duration": 973,
    "start_time": "2022-01-24T21:38:34.900Z"
   },
   {
    "duration": 312,
    "start_time": "2022-01-24T21:40:28.428Z"
   },
   {
    "duration": 23,
    "start_time": "2022-01-24T21:41:05.652Z"
   },
   {
    "duration": 5,
    "start_time": "2022-01-24T21:41:26.324Z"
   },
   {
    "duration": 5111,
    "start_time": "2022-01-24T21:49:57.862Z"
   },
   {
    "duration": 5,
    "start_time": "2022-01-24T21:51:27.991Z"
   },
   {
    "duration": 74,
    "start_time": "2022-01-24T21:51:27.999Z"
   },
   {
    "duration": 14,
    "start_time": "2022-01-24T21:51:28.076Z"
   },
   {
    "duration": 9,
    "start_time": "2022-01-24T21:51:28.093Z"
   },
   {
    "duration": 27,
    "start_time": "2022-01-24T21:51:30.203Z"
   },
   {
    "duration": 38,
    "start_time": "2022-01-24T21:51:30.233Z"
   },
   {
    "duration": 10,
    "start_time": "2022-01-24T21:51:30.273Z"
   },
   {
    "duration": 12,
    "start_time": "2022-01-24T21:51:30.286Z"
   },
   {
    "duration": 29,
    "start_time": "2022-01-24T21:51:30.301Z"
   },
   {
    "duration": 39,
    "start_time": "2022-01-24T21:51:30.333Z"
   },
   {
    "duration": 14,
    "start_time": "2022-01-24T21:51:30.374Z"
   },
   {
    "duration": 4,
    "start_time": "2022-01-24T21:51:30.392Z"
   },
   {
    "duration": 26,
    "start_time": "2022-01-24T21:51:30.399Z"
   },
   {
    "duration": 52,
    "start_time": "2022-01-24T21:51:30.428Z"
   },
   {
    "duration": 25,
    "start_time": "2022-01-24T21:51:30.483Z"
   },
   {
    "duration": 34,
    "start_time": "2022-01-24T21:51:30.511Z"
   },
   {
    "duration": 8,
    "start_time": "2022-01-24T21:51:30.547Z"
   },
   {
    "duration": 23,
    "start_time": "2022-01-24T21:51:30.570Z"
   },
   {
    "duration": 13,
    "start_time": "2022-01-24T21:51:30.596Z"
   },
   {
    "duration": 14,
    "start_time": "2022-01-24T21:51:30.612Z"
   },
   {
    "duration": 41,
    "start_time": "2022-01-24T21:51:30.628Z"
   },
   {
    "duration": 8,
    "start_time": "2022-01-24T21:51:30.671Z"
   },
   {
    "duration": 30,
    "start_time": "2022-01-24T21:51:30.682Z"
   },
   {
    "duration": 4,
    "start_time": "2022-01-24T21:51:30.715Z"
   },
   {
    "duration": 650,
    "start_time": "2022-01-24T21:51:30.722Z"
   },
   {
    "duration": 623,
    "start_time": "2022-01-24T21:51:31.375Z"
   },
   {
    "duration": 9,
    "start_time": "2022-01-24T21:51:32.004Z"
   },
   {
    "duration": 56,
    "start_time": "2022-01-24T21:51:32.017Z"
   },
   {
    "duration": 13,
    "start_time": "2022-01-24T21:51:32.075Z"
   },
   {
    "duration": 631,
    "start_time": "2022-01-24T21:51:32.091Z"
   },
   {
    "duration": 545,
    "start_time": "2022-01-24T21:51:32.724Z"
   },
   {
    "duration": 526,
    "start_time": "2022-01-24T21:51:33.272Z"
   },
   {
    "duration": 12,
    "start_time": "2022-01-24T21:51:33.801Z"
   },
   {
    "duration": 19,
    "start_time": "2022-01-24T21:51:33.817Z"
   },
   {
    "duration": 601,
    "start_time": "2022-01-24T21:51:33.838Z"
   },
   {
    "duration": 705,
    "start_time": "2022-01-24T21:51:34.441Z"
   },
   {
    "duration": 659,
    "start_time": "2022-01-24T21:51:35.148Z"
   },
   {
    "duration": 11,
    "start_time": "2022-01-24T21:51:35.809Z"
   },
   {
    "duration": 583,
    "start_time": "2022-01-24T21:51:35.823Z"
   },
   {
    "duration": 1033,
    "start_time": "2022-01-24T21:51:36.409Z"
   },
   {
    "duration": 887,
    "start_time": "2022-01-24T21:51:37.445Z"
   },
   {
    "duration": 948,
    "start_time": "2022-01-24T21:51:38.335Z"
   },
   {
    "duration": 22,
    "start_time": "2022-01-24T21:51:39.286Z"
   },
   {
    "duration": 919,
    "start_time": "2022-01-24T21:51:39.311Z"
   },
   {
    "duration": 980,
    "start_time": "2022-01-24T21:51:40.233Z"
   },
   {
    "duration": 960,
    "start_time": "2022-01-24T21:51:41.215Z"
   },
   {
    "duration": 22,
    "start_time": "2022-01-24T21:51:42.177Z"
   },
   {
    "duration": 18,
    "start_time": "2022-01-24T21:51:42.201Z"
   },
   {
    "duration": 809,
    "start_time": "2022-01-24T21:51:42.221Z"
   },
   {
    "duration": 1010,
    "start_time": "2022-01-24T21:51:43.033Z"
   },
   {
    "duration": 27,
    "start_time": "2022-01-24T21:51:44.046Z"
   },
   {
    "duration": 17,
    "start_time": "2022-01-24T21:51:44.075Z"
   },
   {
    "duration": 10,
    "start_time": "2022-01-24T21:51:44.094Z"
   },
   {
    "duration": 16,
    "start_time": "2022-01-24T21:51:44.106Z"
   },
   {
    "duration": 5,
    "start_time": "2022-01-24T21:51:44.124Z"
   },
   {
    "duration": 50,
    "start_time": "2022-01-24T21:51:44.131Z"
   },
   {
    "duration": 12,
    "start_time": "2022-01-24T21:51:44.184Z"
   },
   {
    "duration": 12,
    "start_time": "2022-01-24T21:51:44.199Z"
   },
   {
    "duration": 14,
    "start_time": "2022-01-24T21:51:44.213Z"
   },
   {
    "duration": 808,
    "start_time": "2022-01-24T21:51:44.269Z"
   },
   {
    "duration": 806,
    "start_time": "2022-01-24T21:51:45.080Z"
   },
   {
    "duration": 805,
    "start_time": "2022-01-24T21:51:45.889Z"
   },
   {
    "duration": 10,
    "start_time": "2022-01-24T21:51:46.696Z"
   },
   {
    "duration": 6,
    "start_time": "2022-01-24T21:51:46.708Z"
   },
   {
    "duration": 698,
    "start_time": "2022-01-24T21:51:46.716Z"
   },
   {
    "duration": 568,
    "start_time": "2022-01-24T21:51:47.417Z"
   },
   {
    "duration": 7,
    "start_time": "2022-01-24T21:51:47.988Z"
   },
   {
    "duration": 9,
    "start_time": "2022-01-24T21:51:47.997Z"
   },
   {
    "duration": 10,
    "start_time": "2022-01-24T21:51:48.008Z"
   },
   {
    "duration": 8,
    "start_time": "2022-01-24T21:51:48.020Z"
   },
   {
    "duration": 554,
    "start_time": "2022-01-24T21:51:48.071Z"
   },
   {
    "duration": 503,
    "start_time": "2022-01-24T21:51:48.634Z"
   },
   {
    "duration": 7,
    "start_time": "2022-01-24T21:51:49.140Z"
   },
   {
    "duration": 23,
    "start_time": "2022-01-24T21:51:49.149Z"
   },
   {
    "duration": 1055,
    "start_time": "2022-01-24T21:55:01.386Z"
   },
   {
    "duration": 12,
    "start_time": "2022-01-24T21:55:23.968Z"
   },
   {
    "duration": 460,
    "start_time": "2022-01-24T21:55:26.601Z"
   },
   {
    "duration": 112,
    "start_time": "2022-01-24T21:57:11.297Z"
   },
   {
    "duration": 4,
    "start_time": "2022-01-24T22:09:55.153Z"
   },
   {
    "duration": 59,
    "start_time": "2022-01-24T22:09:55.163Z"
   },
   {
    "duration": 16,
    "start_time": "2022-01-24T22:09:55.226Z"
   },
   {
    "duration": 6,
    "start_time": "2022-01-24T22:09:55.270Z"
   },
   {
    "duration": 28,
    "start_time": "2022-01-24T22:09:55.280Z"
   },
   {
    "duration": 7,
    "start_time": "2022-01-24T22:09:55.310Z"
   },
   {
    "duration": 52,
    "start_time": "2022-01-24T22:09:55.319Z"
   },
   {
    "duration": 11,
    "start_time": "2022-01-24T22:09:55.374Z"
   },
   {
    "duration": 24,
    "start_time": "2022-01-24T22:09:55.390Z"
   },
   {
    "duration": 52,
    "start_time": "2022-01-24T22:09:55.417Z"
   },
   {
    "duration": 7,
    "start_time": "2022-01-24T22:09:55.471Z"
   },
   {
    "duration": 5,
    "start_time": "2022-01-24T22:09:55.480Z"
   },
   {
    "duration": 26,
    "start_time": "2022-01-24T22:09:55.487Z"
   },
   {
    "duration": 60,
    "start_time": "2022-01-24T22:09:55.515Z"
   },
   {
    "duration": 10,
    "start_time": "2022-01-24T22:09:55.577Z"
   },
   {
    "duration": 26,
    "start_time": "2022-01-24T22:09:55.590Z"
   },
   {
    "duration": 6,
    "start_time": "2022-01-24T22:09:55.618Z"
   },
   {
    "duration": 19,
    "start_time": "2022-01-24T22:09:55.670Z"
   },
   {
    "duration": 18,
    "start_time": "2022-01-24T22:09:55.692Z"
   },
   {
    "duration": 13,
    "start_time": "2022-01-24T22:09:55.713Z"
   },
   {
    "duration": 42,
    "start_time": "2022-01-24T22:09:55.728Z"
   },
   {
    "duration": 7,
    "start_time": "2022-01-24T22:09:55.773Z"
   },
   {
    "duration": 27,
    "start_time": "2022-01-24T22:09:55.782Z"
   },
   {
    "duration": 3,
    "start_time": "2022-01-24T22:09:55.817Z"
   },
   {
    "duration": 657,
    "start_time": "2022-01-24T22:09:55.823Z"
   },
   {
    "duration": 633,
    "start_time": "2022-01-24T22:09:56.483Z"
   },
   {
    "duration": 12,
    "start_time": "2022-01-24T22:09:57.119Z"
   },
   {
    "duration": 56,
    "start_time": "2022-01-24T22:09:57.133Z"
   },
   {
    "duration": 13,
    "start_time": "2022-01-24T22:09:57.191Z"
   },
   {
    "duration": 577,
    "start_time": "2022-01-24T22:09:57.206Z"
   },
   {
    "duration": 522,
    "start_time": "2022-01-24T22:09:57.785Z"
   },
   {
    "duration": 511,
    "start_time": "2022-01-24T22:09:58.310Z"
   },
   {
    "duration": 11,
    "start_time": "2022-01-24T22:09:58.823Z"
   },
   {
    "duration": 34,
    "start_time": "2022-01-24T22:09:58.836Z"
   },
   {
    "duration": 707,
    "start_time": "2022-01-24T22:09:58.872Z"
   },
   {
    "duration": 693,
    "start_time": "2022-01-24T22:09:59.582Z"
   },
   {
    "duration": 675,
    "start_time": "2022-01-24T22:10:00.278Z"
   },
   {
    "duration": 21,
    "start_time": "2022-01-24T22:10:00.956Z"
   },
   {
    "duration": 418,
    "start_time": "2022-01-24T22:10:00.979Z"
   },
   {
    "duration": 695,
    "start_time": "2022-01-24T22:10:01.400Z"
   },
   {
    "duration": 646,
    "start_time": "2022-01-24T22:10:02.098Z"
   },
   {
    "duration": 826,
    "start_time": "2022-01-24T22:10:02.748Z"
   },
   {
    "duration": 22,
    "start_time": "2022-01-24T22:10:03.576Z"
   },
   {
    "duration": 715,
    "start_time": "2022-01-24T22:10:03.601Z"
   },
   {
    "duration": 763,
    "start_time": "2022-01-24T22:10:04.318Z"
   },
   {
    "duration": 703,
    "start_time": "2022-01-24T22:10:05.084Z"
   },
   {
    "duration": 23,
    "start_time": "2022-01-24T22:10:05.790Z"
   },
   {
    "duration": 19,
    "start_time": "2022-01-24T22:10:05.816Z"
   },
   {
    "duration": 681,
    "start_time": "2022-01-24T22:10:05.870Z"
   },
   {
    "duration": 1094,
    "start_time": "2022-01-24T22:10:06.553Z"
   },
   {
    "duration": 6,
    "start_time": "2022-01-24T22:10:07.649Z"
   },
   {
    "duration": 26,
    "start_time": "2022-01-24T22:10:07.657Z"
   },
   {
    "duration": 5,
    "start_time": "2022-01-24T22:10:07.686Z"
   },
   {
    "duration": 19,
    "start_time": "2022-01-24T22:10:07.693Z"
   },
   {
    "duration": 6,
    "start_time": "2022-01-24T22:10:07.714Z"
   },
   {
    "duration": 59,
    "start_time": "2022-01-24T22:10:07.722Z"
   },
   {
    "duration": 13,
    "start_time": "2022-01-24T22:10:07.784Z"
   },
   {
    "duration": 21,
    "start_time": "2022-01-24T22:10:07.799Z"
   },
   {
    "duration": 13,
    "start_time": "2022-01-24T22:10:07.822Z"
   },
   {
    "duration": 812,
    "start_time": "2022-01-24T22:10:07.837Z"
   },
   {
    "duration": 794,
    "start_time": "2022-01-24T22:10:08.652Z"
   },
   {
    "duration": 797,
    "start_time": "2022-01-24T22:10:09.448Z"
   },
   {
    "duration": 9,
    "start_time": "2022-01-24T22:10:10.250Z"
   },
   {
    "duration": 7,
    "start_time": "2022-01-24T22:10:10.270Z"
   },
   {
    "duration": 552,
    "start_time": "2022-01-24T22:10:10.279Z"
   },
   {
    "duration": 550,
    "start_time": "2022-01-24T22:10:10.834Z"
   },
   {
    "duration": 8,
    "start_time": "2022-01-24T22:10:11.387Z"
   },
   {
    "duration": 10,
    "start_time": "2022-01-24T22:10:11.398Z"
   },
   {
    "duration": 17,
    "start_time": "2022-01-24T22:10:11.411Z"
   },
   {
    "duration": 50,
    "start_time": "2022-01-24T22:10:11.431Z"
   },
   {
    "duration": 551,
    "start_time": "2022-01-24T22:10:11.484Z"
   },
   {
    "duration": 517,
    "start_time": "2022-01-24T22:10:12.038Z"
   },
   {
    "duration": 16,
    "start_time": "2022-01-24T22:10:12.559Z"
   },
   {
    "duration": 9,
    "start_time": "2022-01-24T22:10:12.578Z"
   },
   {
    "duration": 1642,
    "start_time": "2022-01-24T22:10:58.716Z"
   },
   {
    "duration": 67,
    "start_time": "2022-01-24T22:11:00.361Z"
   },
   {
    "duration": 14,
    "start_time": "2022-01-24T22:11:00.431Z"
   },
   {
    "duration": 22,
    "start_time": "2022-01-24T22:11:00.448Z"
   },
   {
    "duration": 36,
    "start_time": "2022-01-24T22:11:00.473Z"
   },
   {
    "duration": 9,
    "start_time": "2022-01-24T22:11:00.511Z"
   },
   {
    "duration": 14,
    "start_time": "2022-01-24T22:11:00.522Z"
   },
   {
    "duration": 33,
    "start_time": "2022-01-24T22:11:00.541Z"
   },
   {
    "duration": 33,
    "start_time": "2022-01-24T22:11:00.578Z"
   },
   {
    "duration": 7,
    "start_time": "2022-01-24T22:11:00.613Z"
   },
   {
    "duration": 26,
    "start_time": "2022-01-24T22:11:00.622Z"
   },
   {
    "duration": 19,
    "start_time": "2022-01-24T22:11:00.650Z"
   },
   {
    "duration": 40,
    "start_time": "2022-01-24T22:11:00.672Z"
   },
   {
    "duration": 26,
    "start_time": "2022-01-24T22:11:00.714Z"
   },
   {
    "duration": 27,
    "start_time": "2022-01-24T22:11:00.743Z"
   },
   {
    "duration": 35,
    "start_time": "2022-01-24T22:11:00.773Z"
   },
   {
    "duration": 7,
    "start_time": "2022-01-24T22:11:00.811Z"
   },
   {
    "duration": 50,
    "start_time": "2022-01-24T22:11:00.821Z"
   },
   {
    "duration": 13,
    "start_time": "2022-01-24T22:11:00.874Z"
   },
   {
    "duration": 12,
    "start_time": "2022-01-24T22:11:00.890Z"
   },
   {
    "duration": 15,
    "start_time": "2022-01-24T22:11:00.904Z"
   },
   {
    "duration": 13,
    "start_time": "2022-01-24T22:11:00.922Z"
   },
   {
    "duration": 26,
    "start_time": "2022-01-24T22:11:00.970Z"
   },
   {
    "duration": 3,
    "start_time": "2022-01-24T22:11:01.000Z"
   },
   {
    "duration": 624,
    "start_time": "2022-01-24T22:11:01.006Z"
   },
   {
    "duration": 383,
    "start_time": "2022-01-24T22:11:01.633Z"
   },
   {
    "duration": 10,
    "start_time": "2022-01-24T22:11:02.018Z"
   },
   {
    "duration": 52,
    "start_time": "2022-01-24T22:11:02.030Z"
   },
   {
    "duration": 13,
    "start_time": "2022-01-24T22:11:02.085Z"
   },
   {
    "duration": 373,
    "start_time": "2022-01-24T22:11:02.100Z"
   },
   {
    "duration": 537,
    "start_time": "2022-01-24T22:11:02.476Z"
   },
   {
    "duration": 515,
    "start_time": "2022-01-24T22:11:03.016Z"
   },
   {
    "duration": 13,
    "start_time": "2022-01-24T22:11:03.534Z"
   },
   {
    "duration": 18,
    "start_time": "2022-01-24T22:11:03.570Z"
   },
   {
    "duration": 663,
    "start_time": "2022-01-24T22:11:03.591Z"
   },
   {
    "duration": 785,
    "start_time": "2022-01-24T22:11:04.257Z"
   },
   {
    "duration": 667,
    "start_time": "2022-01-24T22:11:05.046Z"
   },
   {
    "duration": 11,
    "start_time": "2022-01-24T22:11:05.715Z"
   },
   {
    "duration": 425,
    "start_time": "2022-01-24T22:11:05.728Z"
   },
   {
    "duration": 670,
    "start_time": "2022-01-24T22:11:06.155Z"
   },
   {
    "duration": 802,
    "start_time": "2022-01-24T22:11:06.827Z"
   },
   {
    "duration": 719,
    "start_time": "2022-01-24T22:11:07.632Z"
   },
   {
    "duration": 30,
    "start_time": "2022-01-24T22:11:08.355Z"
   },
   {
    "duration": 665,
    "start_time": "2022-01-24T22:11:08.387Z"
   },
   {
    "duration": 714,
    "start_time": "2022-01-24T22:11:09.055Z"
   },
   {
    "duration": 728,
    "start_time": "2022-01-24T22:11:09.772Z"
   },
   {
    "duration": 21,
    "start_time": "2022-01-24T22:11:10.502Z"
   },
   {
    "duration": 44,
    "start_time": "2022-01-24T22:11:10.525Z"
   },
   {
    "duration": 687,
    "start_time": "2022-01-24T22:11:10.571Z"
   },
   {
    "duration": 1178,
    "start_time": "2022-01-24T22:11:11.260Z"
   },
   {
    "duration": 8,
    "start_time": "2022-01-24T22:11:12.441Z"
   },
   {
    "duration": 21,
    "start_time": "2022-01-24T22:11:12.470Z"
   },
   {
    "duration": 8,
    "start_time": "2022-01-24T22:11:12.494Z"
   },
   {
    "duration": 19,
    "start_time": "2022-01-24T22:11:12.505Z"
   },
   {
    "duration": 46,
    "start_time": "2022-01-24T22:11:12.527Z"
   },
   {
    "duration": 21,
    "start_time": "2022-01-24T22:11:12.575Z"
   },
   {
    "duration": 13,
    "start_time": "2022-01-24T22:11:12.598Z"
   },
   {
    "duration": 15,
    "start_time": "2022-01-24T22:11:12.613Z"
   },
   {
    "duration": 50,
    "start_time": "2022-01-24T22:11:12.631Z"
   },
   {
    "duration": 776,
    "start_time": "2022-01-24T22:11:12.683Z"
   },
   {
    "duration": 794,
    "start_time": "2022-01-24T22:11:13.469Z"
   },
   {
    "duration": 828,
    "start_time": "2022-01-24T22:11:14.269Z"
   },
   {
    "duration": 10,
    "start_time": "2022-01-24T22:11:15.101Z"
   },
   {
    "duration": 6,
    "start_time": "2022-01-24T22:11:15.114Z"
   },
   {
    "duration": 559,
    "start_time": "2022-01-24T22:11:15.123Z"
   },
   {
    "duration": 538,
    "start_time": "2022-01-24T22:11:15.684Z"
   },
   {
    "duration": 6,
    "start_time": "2022-01-24T22:11:16.224Z"
   },
   {
    "duration": 11,
    "start_time": "2022-01-24T22:11:16.238Z"
   },
   {
    "duration": 10,
    "start_time": "2022-01-24T22:11:16.270Z"
   },
   {
    "duration": 7,
    "start_time": "2022-01-24T22:11:16.282Z"
   },
   {
    "duration": 567,
    "start_time": "2022-01-24T22:11:16.291Z"
   },
   {
    "duration": 501,
    "start_time": "2022-01-24T22:11:16.861Z"
   },
   {
    "duration": 9,
    "start_time": "2022-01-24T22:11:17.364Z"
   },
   {
    "duration": 11,
    "start_time": "2022-01-24T22:11:17.376Z"
   },
   {
    "duration": 4,
    "start_time": "2022-01-25T08:07:52.459Z"
   }
  ],
  "kernelspec": {
   "display_name": "Python 3",
   "language": "python",
   "name": "python3"
  },
  "language_info": {
   "codemirror_mode": {
    "name": "ipython",
    "version": 3
   },
   "file_extension": ".py",
   "mimetype": "text/x-python",
   "name": "python",
   "nbconvert_exporter": "python",
   "pygments_lexer": "ipython3",
   "version": "3.7.3"
  },
  "toc": {
   "base_numbering": 1,
   "nav_menu": {},
   "number_sections": true,
   "sideBar": true,
   "skip_h1_title": true,
   "title_cell": "Содержание",
   "title_sidebar": "Contents",
   "toc_cell": true,
   "toc_position": {
    "height": "calc(100% - 180px)",
    "left": "10px",
    "top": "150px",
    "width": "269.75px"
   },
   "toc_section_display": true,
   "toc_window_display": true
  }
 },
 "nbformat": 4,
 "nbformat_minor": 2
}
