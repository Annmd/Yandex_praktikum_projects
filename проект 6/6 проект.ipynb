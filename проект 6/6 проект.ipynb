{
 "cells": [
  {
   "cell_type": "markdown",
   "metadata": {},
   "source": [
    "# Анализ результатов A/B-тестирования "
   ]
  },
  {
   "cell_type": "markdown",
   "metadata": {},
   "source": [
    "Задача: приоритизировать гипотезы для увеличения выручки, проанализировать результаты A/B-тестирования маркетинговой гипотезы интернет-магазина."
   ]
  },
  {
   "cell_type": "markdown",
   "metadata": {},
   "source": [
    "Описание данных:\n",
    "\n",
    "**1. Таблица hypothesis**\n",
    "* Hypothesis — краткое описание гипотезы;\n",
    "* Reach — охват пользователей по 10-балльной шкале;\n",
    "* Impact — влияние на пользователей по 10-балльной шкале;\n",
    "* Confidence — уверенность в гипотезе по 10-балльной шкале;\n",
    "* Efforts — затраты ресурсов на проверку гипотезы по 10-балльной шкале. Чем больше значение Efforts, тем дороже проверка гипотезы.\n",
    "\n",
    "**2. Таблица orders**\n",
    "* transactionId — идентификатор заказа;\n",
    "* visitorId — идентификатор пользователя, совершившего заказ;\n",
    "* date — дата, когда был совершён заказ;\n",
    "* revenue — выручка заказа;\n",
    "* group — группа A/B-теста, в которую попал заказ.\n",
    "\n",
    "**3. Таблица visitors**\n",
    "* date — дата;\n",
    "* group — группа A/B-теста;\n",
    "* visitors — количество пользователей в указанную дату в указанной группе A/B-теста\n",
    "\n"
   ]
  },
  {
   "cell_type": "code",
   "execution_count": 1,
   "metadata": {},
   "outputs": [],
   "source": [
    "import pandas as pd\n",
    "import numpy as np\n",
    "import math as mth\n",
    "import matplotlib.pyplot as plt\n",
    "from scipy import stats as st\n",
    "from datetime import datetime\n",
    "from pandas.plotting import register_matplotlib_converters\n",
    "register_matplotlib_converters()"
   ]
  },
  {
   "cell_type": "markdown",
   "metadata": {},
   "source": [
    "## Изучение данных и подготовка к анализу"
   ]
  },
  {
   "cell_type": "code",
   "execution_count": 2,
   "metadata": {},
   "outputs": [
    {
     "data": {
      "text/html": [
       "<div>\n",
       "<style scoped>\n",
       "    .dataframe tbody tr th:only-of-type {\n",
       "        vertical-align: middle;\n",
       "    }\n",
       "\n",
       "    .dataframe tbody tr th {\n",
       "        vertical-align: top;\n",
       "    }\n",
       "\n",
       "    .dataframe thead th {\n",
       "        text-align: right;\n",
       "    }\n",
       "</style>\n",
       "<table border=\"1\" class=\"dataframe\">\n",
       "  <thead>\n",
       "    <tr style=\"text-align: right;\">\n",
       "      <th></th>\n",
       "      <th>Hypothesis</th>\n",
       "      <th>Reach</th>\n",
       "      <th>Impact</th>\n",
       "      <th>Confidence</th>\n",
       "      <th>Efforts</th>\n",
       "    </tr>\n",
       "  </thead>\n",
       "  <tbody>\n",
       "    <tr>\n",
       "      <td>0</td>\n",
       "      <td>Добавить два новых канала привлечения трафика, что позволит привлекать на 30% больше пользователей</td>\n",
       "      <td>3</td>\n",
       "      <td>10</td>\n",
       "      <td>8</td>\n",
       "      <td>6</td>\n",
       "    </tr>\n",
       "    <tr>\n",
       "      <td>1</td>\n",
       "      <td>Запустить собственную службу доставки, что сократит срок доставки заказов</td>\n",
       "      <td>2</td>\n",
       "      <td>5</td>\n",
       "      <td>4</td>\n",
       "      <td>10</td>\n",
       "    </tr>\n",
       "    <tr>\n",
       "      <td>2</td>\n",
       "      <td>Добавить блоки рекомендаций товаров на сайт интернет магазина, чтобы повысить конверсию и средний чек заказа</td>\n",
       "      <td>8</td>\n",
       "      <td>3</td>\n",
       "      <td>7</td>\n",
       "      <td>3</td>\n",
       "    </tr>\n",
       "    <tr>\n",
       "      <td>3</td>\n",
       "      <td>Изменить структура категорий, что увеличит конверсию, т.к. пользователи быстрее найдут нужный товар</td>\n",
       "      <td>8</td>\n",
       "      <td>3</td>\n",
       "      <td>3</td>\n",
       "      <td>8</td>\n",
       "    </tr>\n",
       "    <tr>\n",
       "      <td>4</td>\n",
       "      <td>Изменить цвет фона главной страницы, чтобы увеличить вовлеченность пользователей</td>\n",
       "      <td>3</td>\n",
       "      <td>1</td>\n",
       "      <td>1</td>\n",
       "      <td>1</td>\n",
       "    </tr>\n",
       "    <tr>\n",
       "      <td>5</td>\n",
       "      <td>Добавить страницу отзывов клиентов о магазине, что позволит увеличить количество заказов</td>\n",
       "      <td>3</td>\n",
       "      <td>2</td>\n",
       "      <td>2</td>\n",
       "      <td>3</td>\n",
       "    </tr>\n",
       "    <tr>\n",
       "      <td>6</td>\n",
       "      <td>Показать на главной странице баннеры с актуальными акциями и распродажами, чтобы увеличить конверсию</td>\n",
       "      <td>5</td>\n",
       "      <td>3</td>\n",
       "      <td>8</td>\n",
       "      <td>3</td>\n",
       "    </tr>\n",
       "    <tr>\n",
       "      <td>7</td>\n",
       "      <td>Добавить форму подписки на все основные страницы, чтобы собрать базу клиентов для email-рассылок</td>\n",
       "      <td>10</td>\n",
       "      <td>7</td>\n",
       "      <td>8</td>\n",
       "      <td>5</td>\n",
       "    </tr>\n",
       "    <tr>\n",
       "      <td>8</td>\n",
       "      <td>Запустить акцию, дающую скидку на товар в день рождения</td>\n",
       "      <td>1</td>\n",
       "      <td>9</td>\n",
       "      <td>9</td>\n",
       "      <td>5</td>\n",
       "    </tr>\n",
       "  </tbody>\n",
       "</table>\n",
       "</div>"
      ],
      "text/plain": [
       "                                                                                                     Hypothesis  \\\n",
       "0            Добавить два новых канала привлечения трафика, что позволит привлекать на 30% больше пользователей   \n",
       "1                                     Запустить собственную службу доставки, что сократит срок доставки заказов   \n",
       "2  Добавить блоки рекомендаций товаров на сайт интернет магазина, чтобы повысить конверсию и средний чек заказа   \n",
       "3           Изменить структура категорий, что увеличит конверсию, т.к. пользователи быстрее найдут нужный товар   \n",
       "4                              Изменить цвет фона главной страницы, чтобы увеличить вовлеченность пользователей   \n",
       "5                      Добавить страницу отзывов клиентов о магазине, что позволит увеличить количество заказов   \n",
       "6          Показать на главной странице баннеры с актуальными акциями и распродажами, чтобы увеличить конверсию   \n",
       "7              Добавить форму подписки на все основные страницы, чтобы собрать базу клиентов для email-рассылок   \n",
       "8                                                       Запустить акцию, дающую скидку на товар в день рождения   \n",
       "\n",
       "   Reach  Impact  Confidence  Efforts  \n",
       "0      3      10           8        6  \n",
       "1      2       5           4       10  \n",
       "2      8       3           7        3  \n",
       "3      8       3           3        8  \n",
       "4      3       1           1        1  \n",
       "5      3       2           2        3  \n",
       "6      5       3           8        3  \n",
       "7     10       7           8        5  \n",
       "8      1       9           9        5  "
      ]
     },
     "execution_count": 2,
     "metadata": {},
     "output_type": "execute_result"
    }
   ],
   "source": [
    "pd.set_option('display.max_columns', None)\n",
    "pd.options.display.max_colwidth = 150  \n",
    "hypothesis = pd.read_csv('/datasets/hypothesis.csv')\n",
    "hypothesis"
   ]
  },
  {
   "cell_type": "code",
   "execution_count": 3,
   "metadata": {},
   "outputs": [
    {
     "data": {
      "text/html": [
       "<div>\n",
       "<style scoped>\n",
       "    .dataframe tbody tr th:only-of-type {\n",
       "        vertical-align: middle;\n",
       "    }\n",
       "\n",
       "    .dataframe tbody tr th {\n",
       "        vertical-align: top;\n",
       "    }\n",
       "\n",
       "    .dataframe thead th {\n",
       "        text-align: right;\n",
       "    }\n",
       "</style>\n",
       "<table border=\"1\" class=\"dataframe\">\n",
       "  <thead>\n",
       "    <tr style=\"text-align: right;\">\n",
       "      <th></th>\n",
       "      <th>transactionId</th>\n",
       "      <th>visitorId</th>\n",
       "      <th>date</th>\n",
       "      <th>revenue</th>\n",
       "      <th>group</th>\n",
       "    </tr>\n",
       "  </thead>\n",
       "  <tbody>\n",
       "    <tr>\n",
       "      <td>0</td>\n",
       "      <td>3667963787</td>\n",
       "      <td>3312258926</td>\n",
       "      <td>2019-08-15</td>\n",
       "      <td>1650</td>\n",
       "      <td>B</td>\n",
       "    </tr>\n",
       "    <tr>\n",
       "      <td>1</td>\n",
       "      <td>2804400009</td>\n",
       "      <td>3642806036</td>\n",
       "      <td>2019-08-15</td>\n",
       "      <td>730</td>\n",
       "      <td>B</td>\n",
       "    </tr>\n",
       "    <tr>\n",
       "      <td>2</td>\n",
       "      <td>2961555356</td>\n",
       "      <td>4069496402</td>\n",
       "      <td>2019-08-15</td>\n",
       "      <td>400</td>\n",
       "      <td>A</td>\n",
       "    </tr>\n",
       "    <tr>\n",
       "      <td>3</td>\n",
       "      <td>3797467345</td>\n",
       "      <td>1196621759</td>\n",
       "      <td>2019-08-15</td>\n",
       "      <td>9759</td>\n",
       "      <td>B</td>\n",
       "    </tr>\n",
       "    <tr>\n",
       "      <td>4</td>\n",
       "      <td>2282983706</td>\n",
       "      <td>2322279887</td>\n",
       "      <td>2019-08-15</td>\n",
       "      <td>2308</td>\n",
       "      <td>B</td>\n",
       "    </tr>\n",
       "  </tbody>\n",
       "</table>\n",
       "</div>"
      ],
      "text/plain": [
       "   transactionId   visitorId       date  revenue group\n",
       "0     3667963787  3312258926 2019-08-15     1650     B\n",
       "1     2804400009  3642806036 2019-08-15      730     B\n",
       "2     2961555356  4069496402 2019-08-15      400     A\n",
       "3     3797467345  1196621759 2019-08-15     9759     B\n",
       "4     2282983706  2322279887 2019-08-15     2308     B"
      ]
     },
     "execution_count": 3,
     "metadata": {},
     "output_type": "execute_result"
    }
   ],
   "source": [
    "other_date_paser = lambda x: datetime.strptime(x, \"%Y-%m-%d\")\n",
    "orders = pd.read_csv('/datasets/orders.csv',parse_dates = ['date'], date_parser = other_date_paser)\n",
    "orders.head()"
   ]
  },
  {
   "cell_type": "code",
   "execution_count": 4,
   "metadata": {},
   "outputs": [
    {
     "name": "stdout",
     "output_type": "stream",
     "text": [
      "<class 'pandas.core.frame.DataFrame'>\n",
      "RangeIndex: 1197 entries, 0 to 1196\n",
      "Data columns (total 5 columns):\n",
      "transactionId    1197 non-null int64\n",
      "visitorId        1197 non-null int64\n",
      "date             1197 non-null datetime64[ns]\n",
      "revenue          1197 non-null int64\n",
      "group            1197 non-null object\n",
      "dtypes: datetime64[ns](1), int64(3), object(1)\n",
      "memory usage: 46.9+ KB\n"
     ]
    }
   ],
   "source": [
    "orders.info()"
   ]
  },
  {
   "cell_type": "markdown",
   "metadata": {},
   "source": [
    "Пропусков в данных нет."
   ]
  },
  {
   "cell_type": "code",
   "execution_count": 5,
   "metadata": {},
   "outputs": [
    {
     "data": {
      "text/html": [
       "<div>\n",
       "<style scoped>\n",
       "    .dataframe tbody tr th:only-of-type {\n",
       "        vertical-align: middle;\n",
       "    }\n",
       "\n",
       "    .dataframe tbody tr th {\n",
       "        vertical-align: top;\n",
       "    }\n",
       "\n",
       "    .dataframe thead th {\n",
       "        text-align: right;\n",
       "    }\n",
       "</style>\n",
       "<table border=\"1\" class=\"dataframe\">\n",
       "  <thead>\n",
       "    <tr style=\"text-align: right;\">\n",
       "      <th></th>\n",
       "      <th>date</th>\n",
       "      <th>group</th>\n",
       "      <th>visitors</th>\n",
       "    </tr>\n",
       "  </thead>\n",
       "  <tbody>\n",
       "    <tr>\n",
       "      <td>0</td>\n",
       "      <td>2019-08-01</td>\n",
       "      <td>A</td>\n",
       "      <td>719</td>\n",
       "    </tr>\n",
       "    <tr>\n",
       "      <td>1</td>\n",
       "      <td>2019-08-02</td>\n",
       "      <td>A</td>\n",
       "      <td>619</td>\n",
       "    </tr>\n",
       "    <tr>\n",
       "      <td>2</td>\n",
       "      <td>2019-08-03</td>\n",
       "      <td>A</td>\n",
       "      <td>507</td>\n",
       "    </tr>\n",
       "    <tr>\n",
       "      <td>3</td>\n",
       "      <td>2019-08-04</td>\n",
       "      <td>A</td>\n",
       "      <td>717</td>\n",
       "    </tr>\n",
       "    <tr>\n",
       "      <td>4</td>\n",
       "      <td>2019-08-05</td>\n",
       "      <td>A</td>\n",
       "      <td>756</td>\n",
       "    </tr>\n",
       "  </tbody>\n",
       "</table>\n",
       "</div>"
      ],
      "text/plain": [
       "        date group  visitors\n",
       "0 2019-08-01     A       719\n",
       "1 2019-08-02     A       619\n",
       "2 2019-08-03     A       507\n",
       "3 2019-08-04     A       717\n",
       "4 2019-08-05     A       756"
      ]
     },
     "execution_count": 5,
     "metadata": {},
     "output_type": "execute_result"
    }
   ],
   "source": [
    "visitors = pd.read_csv('/datasets/visitors.csv', parse_dates = ['date'], date_parser = other_date_paser)\n",
    "visitors.head()"
   ]
  },
  {
   "cell_type": "code",
   "execution_count": 6,
   "metadata": {},
   "outputs": [
    {
     "name": "stdout",
     "output_type": "stream",
     "text": [
      "<class 'pandas.core.frame.DataFrame'>\n",
      "RangeIndex: 62 entries, 0 to 61\n",
      "Data columns (total 3 columns):\n",
      "date        62 non-null datetime64[ns]\n",
      "group       62 non-null object\n",
      "visitors    62 non-null int64\n",
      "dtypes: datetime64[ns](1), int64(1), object(1)\n",
      "memory usage: 1.6+ KB\n"
     ]
    }
   ],
   "source": [
    "visitors.info()"
   ]
  },
  {
   "cell_type": "markdown",
   "metadata": {},
   "source": [
    "Пропусков в данных нет."
   ]
  },
  {
   "cell_type": "markdown",
   "metadata": {},
   "source": [
    "Проверим правильность разделения пользователей на группы."
   ]
  },
  {
   "cell_type": "code",
   "execution_count": 7,
   "metadata": {},
   "outputs": [
    {
     "name": "stdout",
     "output_type": "stream",
     "text": [
      "1031\n"
     ]
    },
    {
     "data": {
      "text/html": [
       "<div>\n",
       "<style scoped>\n",
       "    .dataframe tbody tr th:only-of-type {\n",
       "        vertical-align: middle;\n",
       "    }\n",
       "\n",
       "    .dataframe tbody tr th {\n",
       "        vertical-align: top;\n",
       "    }\n",
       "\n",
       "    .dataframe thead th {\n",
       "        text-align: right;\n",
       "    }\n",
       "</style>\n",
       "<table border=\"1\" class=\"dataframe\">\n",
       "  <thead>\n",
       "    <tr style=\"text-align: right;\">\n",
       "      <th></th>\n",
       "      <th>groups</th>\n",
       "      <th>group_names</th>\n",
       "    </tr>\n",
       "    <tr>\n",
       "      <th>visitorId</th>\n",
       "      <th></th>\n",
       "      <th></th>\n",
       "    </tr>\n",
       "  </thead>\n",
       "  <tbody>\n",
       "    <tr>\n",
       "      <td>8300375</td>\n",
       "      <td>2</td>\n",
       "      <td>[B, A]</td>\n",
       "    </tr>\n",
       "    <tr>\n",
       "      <td>199603092</td>\n",
       "      <td>2</td>\n",
       "      <td>[A, B]</td>\n",
       "    </tr>\n",
       "    <tr>\n",
       "      <td>232979603</td>\n",
       "      <td>2</td>\n",
       "      <td>[B, A]</td>\n",
       "    </tr>\n",
       "    <tr>\n",
       "      <td>237748145</td>\n",
       "      <td>2</td>\n",
       "      <td>[B, A]</td>\n",
       "    </tr>\n",
       "    <tr>\n",
       "      <td>276558944</td>\n",
       "      <td>2</td>\n",
       "      <td>[B, A]</td>\n",
       "    </tr>\n",
       "  </tbody>\n",
       "</table>\n",
       "</div>"
      ],
      "text/plain": [
       "           groups group_names\n",
       "visitorId                    \n",
       "8300375         2      [B, A]\n",
       "199603092       2      [A, B]\n",
       "232979603       2      [B, A]\n",
       "237748145       2      [B, A]\n",
       "276558944       2      [B, A]"
      ]
     },
     "metadata": {},
     "output_type": "display_data"
    },
    {
     "data": {
      "text/plain": [
       "58"
      ]
     },
     "execution_count": 7,
     "metadata": {},
     "output_type": "execute_result"
    }
   ],
   "source": [
    "users = orders.groupby('visitorId').agg({'group':['nunique','unique']})\n",
    "users.columns = ['groups','group_names']\n",
    "print(len(users))\n",
    "users = users.query('groups>1')\n",
    "display(users.head(5))\n",
    "len(users)"
   ]
  },
  {
   "cell_type": "markdown",
   "metadata": {},
   "source": [
    "58 пользователей попали в обе группы теста, все они относятся к пользователям, совершившим заказы - около 5% от всех покупателей. В идеале разделение пользователей на группы нужно проверять до начала теста, таких ситуаций быть не должно. Исправить факт попадания пользователей в обе группы мы не можем. Удаление этих пользователей, ровно как и оставление их не окажет влияния на проверяемые нами гипотезы о равенстве/различии выборок. Другой момент, что мы не знаем, действительно ли они находились в обеих группах или это сбой при заполнении данных и пользователи в обе группы не попадали, во втором случае это заведомо искажает полученные в ходе теста данные.\n"
   ]
  },
  {
   "cell_type": "markdown",
   "metadata": {},
   "source": [
    "## Приоритизация гипотез"
   ]
  },
  {
   "cell_type": "markdown",
   "metadata": {},
   "source": [
    "Проверять все гипотезы затратно по времени и финансам. Для выбора гипотезы, с максимально ожидаемым улучшением ключевых метрик бизнеса, сформулированные гипотезы приоритизируем. Используем методы ICE и RICE."
   ]
  },
  {
   "cell_type": "markdown",
   "metadata": {},
   "source": [
    "### ICE"
   ]
  },
  {
   "cell_type": "markdown",
   "metadata": {},
   "source": [
    "ICE = (Impact x Confidence)/ Efforts"
   ]
  },
  {
   "cell_type": "code",
   "execution_count": 8,
   "metadata": {},
   "outputs": [
    {
     "data": {
      "text/html": [
       "<div>\n",
       "<style scoped>\n",
       "    .dataframe tbody tr th:only-of-type {\n",
       "        vertical-align: middle;\n",
       "    }\n",
       "\n",
       "    .dataframe tbody tr th {\n",
       "        vertical-align: top;\n",
       "    }\n",
       "\n",
       "    .dataframe thead th {\n",
       "        text-align: right;\n",
       "    }\n",
       "</style>\n",
       "<table border=\"1\" class=\"dataframe\">\n",
       "  <thead>\n",
       "    <tr style=\"text-align: right;\">\n",
       "      <th></th>\n",
       "      <th>ICE</th>\n",
       "      <th>Hypothesis</th>\n",
       "    </tr>\n",
       "  </thead>\n",
       "  <tbody>\n",
       "    <tr>\n",
       "      <td>8</td>\n",
       "      <td>16.2</td>\n",
       "      <td>Запустить акцию, дающую скидку на товар в день рождения</td>\n",
       "    </tr>\n",
       "    <tr>\n",
       "      <td>0</td>\n",
       "      <td>13.3</td>\n",
       "      <td>Добавить два новых канала привлечения трафика, что позволит привлекать на 30% больше пользователей</td>\n",
       "    </tr>\n",
       "    <tr>\n",
       "      <td>7</td>\n",
       "      <td>11.2</td>\n",
       "      <td>Добавить форму подписки на все основные страницы, чтобы собрать базу клиентов для email-рассылок</td>\n",
       "    </tr>\n",
       "    <tr>\n",
       "      <td>6</td>\n",
       "      <td>8.0</td>\n",
       "      <td>Показать на главной странице баннеры с актуальными акциями и распродажами, чтобы увеличить конверсию</td>\n",
       "    </tr>\n",
       "    <tr>\n",
       "      <td>2</td>\n",
       "      <td>7.0</td>\n",
       "      <td>Добавить блоки рекомендаций товаров на сайт интернет магазина, чтобы повысить конверсию и средний чек заказа</td>\n",
       "    </tr>\n",
       "    <tr>\n",
       "      <td>1</td>\n",
       "      <td>2.0</td>\n",
       "      <td>Запустить собственную службу доставки, что сократит срок доставки заказов</td>\n",
       "    </tr>\n",
       "    <tr>\n",
       "      <td>5</td>\n",
       "      <td>1.3</td>\n",
       "      <td>Добавить страницу отзывов клиентов о магазине, что позволит увеличить количество заказов</td>\n",
       "    </tr>\n",
       "    <tr>\n",
       "      <td>3</td>\n",
       "      <td>1.1</td>\n",
       "      <td>Изменить структура категорий, что увеличит конверсию, т.к. пользователи быстрее найдут нужный товар</td>\n",
       "    </tr>\n",
       "    <tr>\n",
       "      <td>4</td>\n",
       "      <td>1.0</td>\n",
       "      <td>Изменить цвет фона главной страницы, чтобы увеличить вовлеченность пользователей</td>\n",
       "    </tr>\n",
       "  </tbody>\n",
       "</table>\n",
       "</div>"
      ],
      "text/plain": [
       "    ICE  \\\n",
       "8  16.2   \n",
       "0  13.3   \n",
       "7  11.2   \n",
       "6   8.0   \n",
       "2   7.0   \n",
       "1   2.0   \n",
       "5   1.3   \n",
       "3   1.1   \n",
       "4   1.0   \n",
       "\n",
       "                                                                                                     Hypothesis  \n",
       "8                                                       Запустить акцию, дающую скидку на товар в день рождения  \n",
       "0            Добавить два новых канала привлечения трафика, что позволит привлекать на 30% больше пользователей  \n",
       "7              Добавить форму подписки на все основные страницы, чтобы собрать базу клиентов для email-рассылок  \n",
       "6          Показать на главной странице баннеры с актуальными акциями и распродажами, чтобы увеличить конверсию  \n",
       "2  Добавить блоки рекомендаций товаров на сайт интернет магазина, чтобы повысить конверсию и средний чек заказа  \n",
       "1                                     Запустить собственную службу доставки, что сократит срок доставки заказов  \n",
       "5                      Добавить страницу отзывов клиентов о магазине, что позволит увеличить количество заказов  \n",
       "3           Изменить структура категорий, что увеличит конверсию, т.к. пользователи быстрее найдут нужный товар  \n",
       "4                              Изменить цвет фона главной страницы, чтобы увеличить вовлеченность пользователей  "
      ]
     },
     "execution_count": 8,
     "metadata": {},
     "output_type": "execute_result"
    }
   ],
   "source": [
    "hypothesis['ICE'] = round((hypothesis['Impact']*hypothesis['Confidence'])/hypothesis['Efforts'],1)\n",
    "hypothesis['Rank_ICE'] = hypothesis['ICE'].rank(ascending = 0)\n",
    "hypothesis[['ICE', 'Hypothesis']].sort_values(by = 'ICE', ascending = False)"
   ]
  },
  {
   "cell_type": "markdown",
   "metadata": {},
   "source": [
    "При оценке по методике ICE наивысший приоритет у гипотезы **\"Запустить акцию, дающую скидку на товар в день рождения\"**. \n",
    "\n",
    "На втором и третьем местах с довольно высокими приоритетами гипотезы: \n",
    "\"Добавить два новых канала привлечения трафика, что позволит привлекать на 30% больше пользователей\" и \n",
    "\"Добавить форму подписки на все основные страницы, чтобы собрать базу клиентов для email-рассылок\" соответственно."
   ]
  },
  {
   "cell_type": "markdown",
   "metadata": {},
   "source": [
    "### RICE"
   ]
  },
  {
   "cell_type": "markdown",
   "metadata": {},
   "source": [
    "Методика подсчетв RICE отличается добавлением параметра Reach — скольких пользователей затронет изменение."
   ]
  },
  {
   "cell_type": "markdown",
   "metadata": {},
   "source": [
    "RICE = (Reach х Impact x Confidence)/ Efforts"
   ]
  },
  {
   "cell_type": "code",
   "execution_count": 9,
   "metadata": {
    "scrolled": true
   },
   "outputs": [
    {
     "data": {
      "text/html": [
       "<div>\n",
       "<style scoped>\n",
       "    .dataframe tbody tr th:only-of-type {\n",
       "        vertical-align: middle;\n",
       "    }\n",
       "\n",
       "    .dataframe tbody tr th {\n",
       "        vertical-align: top;\n",
       "    }\n",
       "\n",
       "    .dataframe thead th {\n",
       "        text-align: right;\n",
       "    }\n",
       "</style>\n",
       "<table border=\"1\" class=\"dataframe\">\n",
       "  <thead>\n",
       "    <tr style=\"text-align: right;\">\n",
       "      <th></th>\n",
       "      <th>Hypothesis</th>\n",
       "      <th>RICE</th>\n",
       "    </tr>\n",
       "  </thead>\n",
       "  <tbody>\n",
       "    <tr>\n",
       "      <td>7</td>\n",
       "      <td>Добавить форму подписки на все основные страницы, чтобы собрать базу клиентов для email-рассылок</td>\n",
       "      <td>112.0</td>\n",
       "    </tr>\n",
       "    <tr>\n",
       "      <td>2</td>\n",
       "      <td>Добавить блоки рекомендаций товаров на сайт интернет магазина, чтобы повысить конверсию и средний чек заказа</td>\n",
       "      <td>56.0</td>\n",
       "    </tr>\n",
       "    <tr>\n",
       "      <td>0</td>\n",
       "      <td>Добавить два новых канала привлечения трафика, что позволит привлекать на 30% больше пользователей</td>\n",
       "      <td>40.0</td>\n",
       "    </tr>\n",
       "    <tr>\n",
       "      <td>6</td>\n",
       "      <td>Показать на главной странице баннеры с актуальными акциями и распродажами, чтобы увеличить конверсию</td>\n",
       "      <td>40.0</td>\n",
       "    </tr>\n",
       "    <tr>\n",
       "      <td>8</td>\n",
       "      <td>Запустить акцию, дающую скидку на товар в день рождения</td>\n",
       "      <td>16.2</td>\n",
       "    </tr>\n",
       "    <tr>\n",
       "      <td>3</td>\n",
       "      <td>Изменить структура категорий, что увеличит конверсию, т.к. пользователи быстрее найдут нужный товар</td>\n",
       "      <td>9.0</td>\n",
       "    </tr>\n",
       "    <tr>\n",
       "      <td>1</td>\n",
       "      <td>Запустить собственную службу доставки, что сократит срок доставки заказов</td>\n",
       "      <td>4.0</td>\n",
       "    </tr>\n",
       "    <tr>\n",
       "      <td>5</td>\n",
       "      <td>Добавить страницу отзывов клиентов о магазине, что позволит увеличить количество заказов</td>\n",
       "      <td>4.0</td>\n",
       "    </tr>\n",
       "    <tr>\n",
       "      <td>4</td>\n",
       "      <td>Изменить цвет фона главной страницы, чтобы увеличить вовлеченность пользователей</td>\n",
       "      <td>3.0</td>\n",
       "    </tr>\n",
       "  </tbody>\n",
       "</table>\n",
       "</div>"
      ],
      "text/plain": [
       "                                                                                                     Hypothesis  \\\n",
       "7              Добавить форму подписки на все основные страницы, чтобы собрать базу клиентов для email-рассылок   \n",
       "2  Добавить блоки рекомендаций товаров на сайт интернет магазина, чтобы повысить конверсию и средний чек заказа   \n",
       "0            Добавить два новых канала привлечения трафика, что позволит привлекать на 30% больше пользователей   \n",
       "6          Показать на главной странице баннеры с актуальными акциями и распродажами, чтобы увеличить конверсию   \n",
       "8                                                       Запустить акцию, дающую скидку на товар в день рождения   \n",
       "3           Изменить структура категорий, что увеличит конверсию, т.к. пользователи быстрее найдут нужный товар   \n",
       "1                                     Запустить собственную службу доставки, что сократит срок доставки заказов   \n",
       "5                      Добавить страницу отзывов клиентов о магазине, что позволит увеличить количество заказов   \n",
       "4                              Изменить цвет фона главной страницы, чтобы увеличить вовлеченность пользователей   \n",
       "\n",
       "    RICE  \n",
       "7  112.0  \n",
       "2   56.0  \n",
       "0   40.0  \n",
       "6   40.0  \n",
       "8   16.2  \n",
       "3    9.0  \n",
       "1    4.0  \n",
       "5    4.0  \n",
       "4    3.0  "
      ]
     },
     "execution_count": 9,
     "metadata": {},
     "output_type": "execute_result"
    }
   ],
   "source": [
    "hypothesis['RICE'] = round((hypothesis['Reach']*hypothesis['Impact']*hypothesis['Confidence'])/hypothesis['Efforts'],1)\n",
    "hypothesis['Rank_RICE'] = hypothesis['RICE'].rank(ascending = 0)\n",
    "hypothesis[['Hypothesis','RICE']].sort_values(by = 'RICE', ascending = False)"
   ]
  },
  {
   "cell_type": "markdown",
   "metadata": {},
   "source": [
    "При оценке по методике RICE наивысший приоритет у гипотезы **\"Добавить форму подписки на все основные страницы, чтобы собрать базу клиентов для email-рассылок\"**, причем её \"отрыв\" от последующих гипотез значительный, показатель RICE в 2 раза выше, чем у следующей гипотезы. Из таблицы также видно, что она имеет наибольший Reach так как охватывает всех пользователей. \n",
    "\n",
    "Гипотеза лидировавшая при подсчете ICE лишь на 5 месте, несмотря на бόльшие Impact и Confidence, её охват пользователей наименьший, возможно конец года и у большинства пользователей день рождения прошел, либо в профилях большинства пользователей не указана дата рождения."
   ]
  },
  {
   "cell_type": "code",
   "execution_count": 10,
   "metadata": {},
   "outputs": [
    {
     "data": {
      "text/html": [
       "<style  type=\"text/css\" >\n",
       "    #T_31daee1a_9f0d_11ec_9b41_02420a39479crow7_col2 {\n",
       "            background-color:  coral;\n",
       "        }    #T_31daee1a_9f0d_11ec_9b41_02420a39479crow8_col1 {\n",
       "            background-color:  coral;\n",
       "        }</style><table id=\"T_31daee1a_9f0d_11ec_9b41_02420a39479c\" ><thead>    <tr>        <th class=\"blank level0\" ></th>        <th class=\"col_heading level0 col0\" >Hypothesis</th>        <th class=\"col_heading level0 col1\" >Rank_ICE</th>        <th class=\"col_heading level0 col2\" >Rank_RICE</th>    </tr></thead><tbody>\n",
       "                <tr>\n",
       "                        <th id=\"T_31daee1a_9f0d_11ec_9b41_02420a39479clevel0_row0\" class=\"row_heading level0 row0\" >0</th>\n",
       "                        <td id=\"T_31daee1a_9f0d_11ec_9b41_02420a39479crow0_col0\" class=\"data row0 col0\" >Добавить два новых канала привлечения трафика, что позволит привлекать на 30% больше пользователей</td>\n",
       "                        <td id=\"T_31daee1a_9f0d_11ec_9b41_02420a39479crow0_col1\" class=\"data row0 col1\" >2</td>\n",
       "                        <td id=\"T_31daee1a_9f0d_11ec_9b41_02420a39479crow0_col2\" class=\"data row0 col2\" >3.5</td>\n",
       "            </tr>\n",
       "            <tr>\n",
       "                        <th id=\"T_31daee1a_9f0d_11ec_9b41_02420a39479clevel0_row1\" class=\"row_heading level0 row1\" >1</th>\n",
       "                        <td id=\"T_31daee1a_9f0d_11ec_9b41_02420a39479crow1_col0\" class=\"data row1 col0\" >Запустить собственную службу доставки, что сократит срок доставки заказов</td>\n",
       "                        <td id=\"T_31daee1a_9f0d_11ec_9b41_02420a39479crow1_col1\" class=\"data row1 col1\" >6</td>\n",
       "                        <td id=\"T_31daee1a_9f0d_11ec_9b41_02420a39479crow1_col2\" class=\"data row1 col2\" >7.5</td>\n",
       "            </tr>\n",
       "            <tr>\n",
       "                        <th id=\"T_31daee1a_9f0d_11ec_9b41_02420a39479clevel0_row2\" class=\"row_heading level0 row2\" >2</th>\n",
       "                        <td id=\"T_31daee1a_9f0d_11ec_9b41_02420a39479crow2_col0\" class=\"data row2 col0\" >Добавить блоки рекомендаций товаров на сайт интернет магазина, чтобы повысить конверсию и средний чек заказа</td>\n",
       "                        <td id=\"T_31daee1a_9f0d_11ec_9b41_02420a39479crow2_col1\" class=\"data row2 col1\" >5</td>\n",
       "                        <td id=\"T_31daee1a_9f0d_11ec_9b41_02420a39479crow2_col2\" class=\"data row2 col2\" >2</td>\n",
       "            </tr>\n",
       "            <tr>\n",
       "                        <th id=\"T_31daee1a_9f0d_11ec_9b41_02420a39479clevel0_row3\" class=\"row_heading level0 row3\" >3</th>\n",
       "                        <td id=\"T_31daee1a_9f0d_11ec_9b41_02420a39479crow3_col0\" class=\"data row3 col0\" >Изменить структура категорий, что увеличит конверсию, т.к. пользователи быстрее найдут нужный товар</td>\n",
       "                        <td id=\"T_31daee1a_9f0d_11ec_9b41_02420a39479crow3_col1\" class=\"data row3 col1\" >8</td>\n",
       "                        <td id=\"T_31daee1a_9f0d_11ec_9b41_02420a39479crow3_col2\" class=\"data row3 col2\" >6</td>\n",
       "            </tr>\n",
       "            <tr>\n",
       "                        <th id=\"T_31daee1a_9f0d_11ec_9b41_02420a39479clevel0_row4\" class=\"row_heading level0 row4\" >4</th>\n",
       "                        <td id=\"T_31daee1a_9f0d_11ec_9b41_02420a39479crow4_col0\" class=\"data row4 col0\" >Изменить цвет фона главной страницы, чтобы увеличить вовлеченность пользователей</td>\n",
       "                        <td id=\"T_31daee1a_9f0d_11ec_9b41_02420a39479crow4_col1\" class=\"data row4 col1\" >9</td>\n",
       "                        <td id=\"T_31daee1a_9f0d_11ec_9b41_02420a39479crow4_col2\" class=\"data row4 col2\" >9</td>\n",
       "            </tr>\n",
       "            <tr>\n",
       "                        <th id=\"T_31daee1a_9f0d_11ec_9b41_02420a39479clevel0_row5\" class=\"row_heading level0 row5\" >5</th>\n",
       "                        <td id=\"T_31daee1a_9f0d_11ec_9b41_02420a39479crow5_col0\" class=\"data row5 col0\" >Добавить страницу отзывов клиентов о магазине, что позволит увеличить количество заказов</td>\n",
       "                        <td id=\"T_31daee1a_9f0d_11ec_9b41_02420a39479crow5_col1\" class=\"data row5 col1\" >7</td>\n",
       "                        <td id=\"T_31daee1a_9f0d_11ec_9b41_02420a39479crow5_col2\" class=\"data row5 col2\" >7.5</td>\n",
       "            </tr>\n",
       "            <tr>\n",
       "                        <th id=\"T_31daee1a_9f0d_11ec_9b41_02420a39479clevel0_row6\" class=\"row_heading level0 row6\" >6</th>\n",
       "                        <td id=\"T_31daee1a_9f0d_11ec_9b41_02420a39479crow6_col0\" class=\"data row6 col0\" >Показать на главной странице баннеры с актуальными акциями и распродажами, чтобы увеличить конверсию</td>\n",
       "                        <td id=\"T_31daee1a_9f0d_11ec_9b41_02420a39479crow6_col1\" class=\"data row6 col1\" >4</td>\n",
       "                        <td id=\"T_31daee1a_9f0d_11ec_9b41_02420a39479crow6_col2\" class=\"data row6 col2\" >3.5</td>\n",
       "            </tr>\n",
       "            <tr>\n",
       "                        <th id=\"T_31daee1a_9f0d_11ec_9b41_02420a39479clevel0_row7\" class=\"row_heading level0 row7\" >7</th>\n",
       "                        <td id=\"T_31daee1a_9f0d_11ec_9b41_02420a39479crow7_col0\" class=\"data row7 col0\" >Добавить форму подписки на все основные страницы, чтобы собрать базу клиентов для email-рассылок</td>\n",
       "                        <td id=\"T_31daee1a_9f0d_11ec_9b41_02420a39479crow7_col1\" class=\"data row7 col1\" >3</td>\n",
       "                        <td id=\"T_31daee1a_9f0d_11ec_9b41_02420a39479crow7_col2\" class=\"data row7 col2\" >1</td>\n",
       "            </tr>\n",
       "            <tr>\n",
       "                        <th id=\"T_31daee1a_9f0d_11ec_9b41_02420a39479clevel0_row8\" class=\"row_heading level0 row8\" >8</th>\n",
       "                        <td id=\"T_31daee1a_9f0d_11ec_9b41_02420a39479crow8_col0\" class=\"data row8 col0\" >Запустить акцию, дающую скидку на товар в день рождения</td>\n",
       "                        <td id=\"T_31daee1a_9f0d_11ec_9b41_02420a39479crow8_col1\" class=\"data row8 col1\" >1</td>\n",
       "                        <td id=\"T_31daee1a_9f0d_11ec_9b41_02420a39479crow8_col2\" class=\"data row8 col2\" >5</td>\n",
       "            </tr>\n",
       "    </tbody></table>"
      ],
      "text/plain": [
       "<pandas.io.formats.style.Styler at 0x7f72ea2e1e50>"
      ]
     },
     "execution_count": 10,
     "metadata": {},
     "output_type": "execute_result"
    }
   ],
   "source": [
    "hypothesis[['Hypothesis','Rank_ICE','Rank_RICE']].style.highlight_min(color='coral')  "
   ]
  },
  {
   "cell_type": "markdown",
   "metadata": {},
   "source": [
    "### Вывод"
   ]
  },
  {
   "cell_type": "markdown",
   "metadata": {},
   "source": [
    "При проведении приоритизации гипотез охват пользователей имеет большое влияние наряду с оказываемым влиянием и уверенностью. Так при гипотезе с малым охватом пользователей, на выходе можно не получить статистически значимый прирост метрик, несмотря на высокое оказываемое влияние и уверенность.\n",
    "\n",
    "Поэтому в данном случае целесообразнее выбрать гипотезу, лидирующую по RICE - **\"Добавить форму подписки на все основные страницы, чтобы собрать базу клиентов для email-рассылок\".**"
   ]
  },
  {
   "cell_type": "markdown",
   "metadata": {},
   "source": [
    "## Анализ A/B-теста"
   ]
  },
  {
   "cell_type": "markdown",
   "metadata": {},
   "source": [
    "Для анализа результатов теста оценим изменение кумулятивных метрик за период его проведения, таких как: выручка, средний чек и конверсия."
   ]
  },
  {
   "cell_type": "markdown",
   "metadata": {},
   "source": [
    "Создадим датафреймы из таблиц с кумулятивными по дням заказами и посетителями."
   ]
  },
  {
   "cell_type": "code",
   "execution_count": 11,
   "metadata": {},
   "outputs": [],
   "source": [
    "# выделим уникальные пары дата-группа теста\n",
    "data_groups = orders[['date','group']].drop_duplicates()"
   ]
  },
  {
   "cell_type": "code",
   "execution_count": 12,
   "metadata": {},
   "outputs": [],
   "source": [
    "# таблица с кумулятивными по дням заказами\n",
    "orders_aggregated = data_groups.apply\\\n",
    "         (lambda x: orders[np.logical_and(orders['date']<= x['date'], orders['group']== x['group'])]\\\n",
    "         .agg({'date':'max','group':'max','transactionId':'nunique','visitorId':'nunique', 'revenue':'sum'}), axis = 1,)\\\n",
    "          .sort_values(by = ['date','group'])"
   ]
  },
  {
   "cell_type": "code",
   "execution_count": 13,
   "metadata": {},
   "outputs": [],
   "source": [
    "# таблиц с кумулятивными по дням посетителями\n",
    "visitors_aggregated = data_groups.apply\\\n",
    "        (lambda x: visitors[np.logical_and(visitors['date']<= x['date'], visitors['group']== x['group'])]\\\n",
    "         .agg({'date':'max','group':'max','visitors':'sum'}), axis = 1).sort_values(by = ['date','group'])"
   ]
  },
  {
   "cell_type": "code",
   "execution_count": 14,
   "metadata": {},
   "outputs": [],
   "source": [
    "# объединим таблицу в одну\n",
    "cumulative_data = orders_aggregated.merge(visitors_aggregated, left_on = ['date','group'], right_on = ['date','group'])\n",
    "cumulative_data.columns = ['date','group','orders','buyers','revenue','visitors']"
   ]
  },
  {
   "cell_type": "code",
   "execution_count": 15,
   "metadata": {},
   "outputs": [
    {
     "data": {
      "text/html": [
       "<div>\n",
       "<style scoped>\n",
       "    .dataframe tbody tr th:only-of-type {\n",
       "        vertical-align: middle;\n",
       "    }\n",
       "\n",
       "    .dataframe tbody tr th {\n",
       "        vertical-align: top;\n",
       "    }\n",
       "\n",
       "    .dataframe thead th {\n",
       "        text-align: right;\n",
       "    }\n",
       "</style>\n",
       "<table border=\"1\" class=\"dataframe\">\n",
       "  <thead>\n",
       "    <tr style=\"text-align: right;\">\n",
       "      <th></th>\n",
       "      <th>date</th>\n",
       "      <th>group</th>\n",
       "      <th>orders</th>\n",
       "      <th>buyers</th>\n",
       "      <th>revenue</th>\n",
       "      <th>visitors</th>\n",
       "    </tr>\n",
       "  </thead>\n",
       "  <tbody>\n",
       "    <tr>\n",
       "      <td>0</td>\n",
       "      <td>2019-08-01</td>\n",
       "      <td>A</td>\n",
       "      <td>24</td>\n",
       "      <td>20</td>\n",
       "      <td>148579</td>\n",
       "      <td>719</td>\n",
       "    </tr>\n",
       "    <tr>\n",
       "      <td>1</td>\n",
       "      <td>2019-08-01</td>\n",
       "      <td>B</td>\n",
       "      <td>21</td>\n",
       "      <td>20</td>\n",
       "      <td>101217</td>\n",
       "      <td>713</td>\n",
       "    </tr>\n",
       "    <tr>\n",
       "      <td>2</td>\n",
       "      <td>2019-08-02</td>\n",
       "      <td>A</td>\n",
       "      <td>44</td>\n",
       "      <td>38</td>\n",
       "      <td>242401</td>\n",
       "      <td>1338</td>\n",
       "    </tr>\n",
       "    <tr>\n",
       "      <td>3</td>\n",
       "      <td>2019-08-02</td>\n",
       "      <td>B</td>\n",
       "      <td>45</td>\n",
       "      <td>43</td>\n",
       "      <td>266748</td>\n",
       "      <td>1294</td>\n",
       "    </tr>\n",
       "    <tr>\n",
       "      <td>4</td>\n",
       "      <td>2019-08-03</td>\n",
       "      <td>A</td>\n",
       "      <td>68</td>\n",
       "      <td>62</td>\n",
       "      <td>354874</td>\n",
       "      <td>1845</td>\n",
       "    </tr>\n",
       "  </tbody>\n",
       "</table>\n",
       "</div>"
      ],
      "text/plain": [
       "        date group  orders  buyers  revenue  visitors\n",
       "0 2019-08-01     A      24      20   148579       719\n",
       "1 2019-08-01     B      21      20   101217       713\n",
       "2 2019-08-02     A      44      38   242401      1338\n",
       "3 2019-08-02     B      45      43   266748      1294\n",
       "4 2019-08-03     A      68      62   354874      1845"
      ]
     },
     "execution_count": 15,
     "metadata": {},
     "output_type": "execute_result"
    }
   ],
   "source": [
    "cumulative_data.head()"
   ]
  },
  {
   "cell_type": "markdown",
   "metadata": {},
   "source": [
    "Теперь можно строить графики необходимых кумулятивных метрик."
   ]
  },
  {
   "cell_type": "markdown",
   "metadata": {},
   "source": [
    "### Кумулятивная выручка "
   ]
  },
  {
   "cell_type": "markdown",
   "metadata": {},
   "source": [
    "Построим график кумулятивной выручки для каждой группы  и сравним."
   ]
  },
  {
   "cell_type": "code",
   "execution_count": 16,
   "metadata": {},
   "outputs": [],
   "source": [
    "# выделим данные для группы А\n",
    "cumulative_revenue_A = cumulative_data[cumulative_data['group']=='A'][['date','revenue', 'orders']]"
   ]
  },
  {
   "cell_type": "code",
   "execution_count": 17,
   "metadata": {},
   "outputs": [],
   "source": [
    "# выделим данные для группы B\n",
    "cumulative_revenue_B = cumulative_data[cumulative_data['group']=='B'][['date','revenue', 'orders']]"
   ]
  },
  {
   "cell_type": "code",
   "execution_count": 18,
   "metadata": {},
   "outputs": [
    {
     "data": {
      "image/png": "[encoded data removed]",
      "text/plain": [
       "<Figure size 1080x576 with 1 Axes>"
      ]
     },
     "metadata": {
      "needs_background": "light"
     },
     "output_type": "display_data"
    }
   ],
   "source": [
    "plt.figure(figsize=(15, 8))\n",
    "plt.plot(cumulative_revenue_A['date'], cumulative_revenue_A ['revenue'], label = 'A')\n",
    "plt.plot(cumulative_revenue_B['date'], cumulative_revenue_B ['revenue'], label = 'B')\n",
    "plt.xticks(rotation = 45)\n",
    "plt.grid()\n",
    "plt.title('Кумулятивная выручка по группам')\n",
    "plt.ylabel('Выручка')\n",
    "plt.legend() \n",
    "plt.annotate('скачок', xy=('2019-08-17', 2800000), xytext=('2019-08-10', 3500000),\n",
    "            arrowprops=dict(facecolor='y'))\n",
    "plt.annotate('отрыв', xy=('2019-08-05', 800000), xytext=('2019-08-05', 2000000),\n",
    "            arrowprops=dict(facecolor='y'))\n",
    "plt.show()"
   ]
  },
  {
   "cell_type": "markdown",
   "metadata": {},
   "source": [
    "Выручка равномерно увеличивалась в обеих группах в первой половине теста, причем выручка в группе В была несколько выше. После 17.08.2019 выручка в группе А продолжила увеличиваться в соответствии с тенденцией в первой половине теста, а выручка в группе В резко увеличилась - приюлизительно в 1,5 раза (270 тыс.-410 тыс.) и затем продолжила расти равномерно, таким образом к концу месяца превысив кумулятивную выручку приблизительно в 1,4 раза (410 тыс.- 590 тыс.).\n",
    "\n",
    "Делать выводы на основании только кумулятивной выручки рано, возможно такой резкий прирост выручки обусловлен какими-то особо крупными или дорогими заказами, которые являются аномалией. Для начала посмотрим как себя ведет график кумулятивного среднего чека."
   ]
  },
  {
   "cell_type": "markdown",
   "metadata": {},
   "source": [
    "### Кумулятивный средний чек"
   ]
  },
  {
   "cell_type": "code",
   "execution_count": 19,
   "metadata": {},
   "outputs": [
    {
     "data": {
      "image/png": "[encoded data removed]",
      "text/plain": [
       "<Figure size 1080x576 with 1 Axes>"
      ]
     },
     "metadata": {
      "needs_background": "light"
     },
     "output_type": "display_data"
    }
   ],
   "source": [
    "plt.figure(figsize=(15, 8))\n",
    "plt.plot(cumulative_revenue_A['date'], cumulative_revenue_A ['revenue']/cumulative_revenue_A ['orders'], label = 'A')\n",
    "plt.plot(cumulative_revenue_B['date'], cumulative_revenue_B ['revenue']/cumulative_revenue_B ['orders'], label = 'B')\n",
    "plt.xticks(rotation = 45)\n",
    "plt.grid()\n",
    "plt.title('Кумулятивный средний чек по группам')\n",
    "plt.ylabel('Средний чек')\n",
    "plt.legend() \n",
    "plt.annotate('скачок', xy=('2019-08-17', 7150), xytext=('2019-08-13', 7600),\n",
    "            arrowprops=dict(facecolor='y'))\n",
    "plt.show()"
   ]
  },
  {
   "cell_type": "markdown",
   "metadata": {},
   "source": [
    "Графики среднего чека также растут во время всего периода проведения теста. При этом для группы А рост в первой половине более резкий, а во второй половине происходит \"стабилизация\" на уровне около 7000. Группа В демонстрирует схожий с группой А рост в первой половине теста, но более неравномерныйб \"скачкообразный\", к середине теста несколько снижается относительно группы А,\n",
    "а затем после 17.08.2019 происходит резкий скачок более чем в 1,5 раза (7000 - 11000), с последующей стабилизацией и тенденцией к снижению. В конце месяца средний чек группы В превышает средний чек группы А приблизительно в 1,2 раза (9200 и 7400 соответственно).\n",
    "\n",
    "Такое поведение графика среднего чека подтверждает наше предположении о наличии аномально дорогих заказов в группе В после 17.08.2019. Таким образом среднему чеку группы В могло не хватить времени выйти на реальный уровень среднего чека после всплеска и при продолжении теста мы бы отметили дальнейшее снижение графика. В связи с этим оцека по сырым данным не отражает реальную картину, необходимо оценить средний чек по группам без учетов выбросов."
   ]
  },
  {
   "cell_type": "markdown",
   "metadata": {},
   "source": [
    "Учитывая, что графики кумулятивного среднего чека трижды пересекаются, чтобы нагляднее увидеть разницу между группами, построим график относительного различия."
   ]
  },
  {
   "cell_type": "code",
   "execution_count": 20,
   "metadata": {},
   "outputs": [
    {
     "data": {
      "text/html": [
       "<div>\n",
       "<style scoped>\n",
       "    .dataframe tbody tr th:only-of-type {\n",
       "        vertical-align: middle;\n",
       "    }\n",
       "\n",
       "    .dataframe tbody tr th {\n",
       "        vertical-align: top;\n",
       "    }\n",
       "\n",
       "    .dataframe thead th {\n",
       "        text-align: right;\n",
       "    }\n",
       "</style>\n",
       "<table border=\"1\" class=\"dataframe\">\n",
       "  <thead>\n",
       "    <tr style=\"text-align: right;\">\n",
       "      <th></th>\n",
       "      <th>date</th>\n",
       "      <th>revenueA</th>\n",
       "      <th>ordersA</th>\n",
       "      <th>revenueB</th>\n",
       "      <th>ordersB</th>\n",
       "    </tr>\n",
       "  </thead>\n",
       "  <tbody>\n",
       "    <tr>\n",
       "      <td>0</td>\n",
       "      <td>2019-08-01</td>\n",
       "      <td>148579</td>\n",
       "      <td>24</td>\n",
       "      <td>101217</td>\n",
       "      <td>21</td>\n",
       "    </tr>\n",
       "    <tr>\n",
       "      <td>1</td>\n",
       "      <td>2019-08-02</td>\n",
       "      <td>242401</td>\n",
       "      <td>44</td>\n",
       "      <td>266748</td>\n",
       "      <td>45</td>\n",
       "    </tr>\n",
       "    <tr>\n",
       "      <td>2</td>\n",
       "      <td>2019-08-03</td>\n",
       "      <td>354874</td>\n",
       "      <td>68</td>\n",
       "      <td>380996</td>\n",
       "      <td>61</td>\n",
       "    </tr>\n",
       "    <tr>\n",
       "      <td>3</td>\n",
       "      <td>2019-08-04</td>\n",
       "      <td>425699</td>\n",
       "      <td>84</td>\n",
       "      <td>489567</td>\n",
       "      <td>78</td>\n",
       "    </tr>\n",
       "    <tr>\n",
       "      <td>4</td>\n",
       "      <td>2019-08-05</td>\n",
       "      <td>549917</td>\n",
       "      <td>109</td>\n",
       "      <td>581995</td>\n",
       "      <td>101</td>\n",
       "    </tr>\n",
       "  </tbody>\n",
       "</table>\n",
       "</div>"
      ],
      "text/plain": [
       "        date  revenueA  ordersA  revenueB  ordersB\n",
       "0 2019-08-01    148579       24    101217       21\n",
       "1 2019-08-02    242401       44    266748       45\n",
       "2 2019-08-03    354874       68    380996       61\n",
       "3 2019-08-04    425699       84    489567       78\n",
       "4 2019-08-05    549917      109    581995      101"
      ]
     },
     "execution_count": 20,
     "metadata": {},
     "output_type": "execute_result"
    }
   ],
   "source": [
    "# соберем данные в один датафрейм\n",
    "merged_cumulative_revenue = cumulative_revenue_A\\\n",
    "              .merge(cumulative_revenue_B, left_on = 'date', right_on = 'date', how = 'left', suffixes = ['A','B'])\n",
    "merged_cumulative_revenue.head()"
   ]
  },
  {
   "cell_type": "code",
   "execution_count": 21,
   "metadata": {},
   "outputs": [
    {
     "data": {
      "image/png": "[encoded data removed]",
      "text/plain": [
       "<Figure size 1080x576 with 1 Axes>"
      ]
     },
     "metadata": {
      "needs_background": "light"
     },
     "output_type": "display_data"
    }
   ],
   "source": [
    "plt.figure(figsize=(15, 8))\n",
    "plt.plot(merged_cumulative_revenue['date'],(merged_cumulative_revenue['revenueB']/merged_cumulative_revenue['ordersB'])\n",
    "         /(merged_cumulative_revenue['revenueA']/merged_cumulative_revenue['ordersA'])-1)\n",
    "plt.axhline(y=0, color='red', linestyle='--') \n",
    "plt.xticks(rotation = 45)\n",
    "plt.grid()\n",
    "plt.title('Относительное изменение кумулятивного среднего чека группы B к группе A')\n",
    "plt.show()"
   ]
  },
  {
   "cell_type": "markdown",
   "metadata": {},
   "source": [
    "Здесь также отмечается \"скачкообразный\" характер графика с большими всплесками и эпизодом снижения,что также косвенно указывает на выбросы в данных. Исследуем их позже. Для начала посмотрим конверсию по группам на \"сырых\" данных."
   ]
  },
  {
   "cell_type": "markdown",
   "metadata": {},
   "source": [
    "### Кумулятивная конверсия"
   ]
  },
  {
   "cell_type": "code",
   "execution_count": 22,
   "metadata": {},
   "outputs": [],
   "source": [
    "# посчитаем кумулятивную конверсию \n",
    "cumulative_data['conversion'] = cumulative_data['orders']/cumulative_data['visitors']\n",
    "# разделяем по группам\n",
    "cumulative_data_A = cumulative_data[cumulative_data['group']=='A']\n",
    "cumulative_data_B = cumulative_data[cumulative_data['group']=='B']"
   ]
  },
  {
   "cell_type": "code",
   "execution_count": 23,
   "metadata": {},
   "outputs": [
    {
     "data": {
      "image/png": "[encoded data removed]",
      "text/plain": [
       "<Figure size 1080x576 with 1 Axes>"
      ]
     },
     "metadata": {
      "needs_background": "light"
     },
     "output_type": "display_data"
    }
   ],
   "source": [
    "plt.figure(figsize=(15, 8))\n",
    "plt.plot(cumulative_data_A['date'],cumulative_data_A['conversion'], label = 'A')\n",
    "plt.plot(cumulative_data_B['date'],cumulative_data_B['conversion'], label = 'B')\n",
    "plt.legend()\n",
    "plt.title('Кумулятивная конверсия по группам')\n",
    "plt.xticks(rotation = 45)\n",
    "plt.grid()"
   ]
  },
  {
   "cell_type": "markdown",
   "metadata": {},
   "source": [
    "В первые дни кумулятивная конверсия в обеих группах после резкого роста пошла на спад, при этом группа В показывала меньшие показатели, затем после 05.08.2019 конверсия в группе В стала увеличиваться, а в группе А снижаться, после чего произошла некоторая стабилизация и к концу месяца конверсия группы В первысила конверсию группы А. "
   ]
  },
  {
   "cell_type": "markdown",
   "metadata": {},
   "source": [
    "Чтобы нагляднее увидеть разницу между группами, построим график относительного различия."
   ]
  },
  {
   "cell_type": "code",
   "execution_count": 24,
   "metadata": {},
   "outputs": [],
   "source": [
    "# соберем данные в один датафрейм\n",
    "merged_cumulative_conversion = cumulative_data_A[['date','conversion']]\\\n",
    ".merge(cumulative_data_B[['date','conversion']], left_on = 'date', right_on = 'date', how = 'left',suffixes = ['A','B'])"
   ]
  },
  {
   "cell_type": "code",
   "execution_count": 25,
   "metadata": {},
   "outputs": [
    {
     "data": {
      "text/html": [
       "<div>\n",
       "<style scoped>\n",
       "    .dataframe tbody tr th:only-of-type {\n",
       "        vertical-align: middle;\n",
       "    }\n",
       "\n",
       "    .dataframe tbody tr th {\n",
       "        vertical-align: top;\n",
       "    }\n",
       "\n",
       "    .dataframe thead th {\n",
       "        text-align: right;\n",
       "    }\n",
       "</style>\n",
       "<table border=\"1\" class=\"dataframe\">\n",
       "  <thead>\n",
       "    <tr style=\"text-align: right;\">\n",
       "      <th></th>\n",
       "      <th>date</th>\n",
       "      <th>conversionA</th>\n",
       "      <th>conversionB</th>\n",
       "    </tr>\n",
       "  </thead>\n",
       "  <tbody>\n",
       "    <tr>\n",
       "      <td>0</td>\n",
       "      <td>2019-08-01</td>\n",
       "      <td>0.033380</td>\n",
       "      <td>0.029453</td>\n",
       "    </tr>\n",
       "    <tr>\n",
       "      <td>1</td>\n",
       "      <td>2019-08-02</td>\n",
       "      <td>0.032885</td>\n",
       "      <td>0.034776</td>\n",
       "    </tr>\n",
       "    <tr>\n",
       "      <td>2</td>\n",
       "      <td>2019-08-03</td>\n",
       "      <td>0.036856</td>\n",
       "      <td>0.033833</td>\n",
       "    </tr>\n",
       "    <tr>\n",
       "      <td>3</td>\n",
       "      <td>2019-08-04</td>\n",
       "      <td>0.032787</td>\n",
       "      <td>0.030315</td>\n",
       "    </tr>\n",
       "    <tr>\n",
       "      <td>4</td>\n",
       "      <td>2019-08-05</td>\n",
       "      <td>0.032851</td>\n",
       "      <td>0.030793</td>\n",
       "    </tr>\n",
       "  </tbody>\n",
       "</table>\n",
       "</div>"
      ],
      "text/plain": [
       "        date  conversionA  conversionB\n",
       "0 2019-08-01     0.033380     0.029453\n",
       "1 2019-08-02     0.032885     0.034776\n",
       "2 2019-08-03     0.036856     0.033833\n",
       "3 2019-08-04     0.032787     0.030315\n",
       "4 2019-08-05     0.032851     0.030793"
      ]
     },
     "execution_count": 25,
     "metadata": {},
     "output_type": "execute_result"
    }
   ],
   "source": [
    "merged_cumulative_conversion.head()"
   ]
  },
  {
   "cell_type": "code",
   "execution_count": 26,
   "metadata": {},
   "outputs": [
    {
     "data": {
      "image/png": "[encoded data removed]",
      "text/plain": [
       "<Figure size 1080x576 with 1 Axes>"
      ]
     },
     "metadata": {
      "needs_background": "light"
     },
     "output_type": "display_data"
    }
   ],
   "source": [
    "plt.figure(figsize=(15, 8))\n",
    "plt.plot(merged_cumulative_conversion['date'], (merged_cumulative_conversion['conversionB']\n",
    "         /merged_cumulative_conversion['conversionA'])-1)\n",
    "plt.axhline(y=0, color='red', linestyle='--') \n",
    "plt.xticks(rotation = 45)\n",
    "plt.grid()\n",
    "plt.title('Относительное изменение кумулятивной конверсии группы B к группе A')\n",
    "plt.show()"
   ]
  },
  {
   "cell_type": "markdown",
   "metadata": {},
   "source": [
    "В начале теста группа B уступала группе A, затем после 05.08.2019 кумулятивная конверсия стала расти. График зигзагообразный с тенденцией к снижению и росту в разных сегментах, в целом конверсия ещё не стабилизировалась на каком-то урвоне, делать выводы в такой ситуации не совсем верно.\n",
    "\n",
    "Проверим данные на выбросы, может при анализе \"очищенных\" данных ситуация изменится.\n"
   ]
  },
  {
   "cell_type": "markdown",
   "metadata": {},
   "source": [
    "### Вывод"
   ]
  },
  {
   "cell_type": "markdown",
   "metadata": {},
   "source": [
    "При анализе исходных данных группа В лидирует к концу исследуемого периода по всем метрикам (кумулятивная выручка, кумулятивный средний чек и кумулятивная конверсия), но нельзя не отметить резкие скачки в поведении первых двух метрик группы В в одно и то же время, что свидетельствует о выбросах в данных (аномально большие и/или дорогие заказы). Целесообразно оценить распределение заказов и их стоимости, очистить данные от выбросов и снова посмотреть на различия в оцениваемых метриках для того, чтобы сформировать корректные выводы по результатам теста."
   ]
  },
  {
   "cell_type": "markdown",
   "metadata": {},
   "source": [
    "### Количество заказов "
   ]
  },
  {
   "cell_type": "code",
   "execution_count": 27,
   "metadata": {
    "scrolled": true
   },
   "outputs": [
    {
     "data": {
      "image/png": "[encoded data removed]",
      "text/plain": [
       "<Figure size 1080x360 with 1 Axes>"
      ]
     },
     "metadata": {
      "needs_background": "light"
     },
     "output_type": "display_data"
    }
   ],
   "source": [
    "# Построим точечную диаграмму количества заказов по пользователям\n",
    "orders_by_users = (orders.groupby('visitorId', as_index=False).agg({'transactionId': 'nunique'}))\n",
    "orders_by_users.columns = ['visitorId', 'orders']\n",
    "\n",
    "x_values = pd.Series(range(0,len(orders_by_users)))\n",
    "plt.figure(figsize=(15, 5))\n",
    "plt.scatter(x_values, orders_by_users['orders']) \n",
    "plt.title('Диаграмма рассеяния по количеству заказов на 1 пользователя')\n",
    "plt.ylabel('Количество заказов на 1 пользователя')\n",
    "plt.xlabel('Количество пользователей')\n",
    "plt.show()"
   ]
  },
  {
   "cell_type": "markdown",
   "metadata": {},
   "source": [
    "Согласно графику наибольшее количество пользователей с 1-2 заказами, но можно ли считать заказы больше 2 аномалиями? Проверим с помощью перцентилей."
   ]
  },
  {
   "cell_type": "code",
   "execution_count": 28,
   "metadata": {},
   "outputs": [
    {
     "data": {
      "text/plain": [
       "array([2., 4.])"
      ]
     },
     "execution_count": 28,
     "metadata": {},
     "output_type": "execute_result"
    }
   ],
   "source": [
    "np.percentile(orders_by_users['orders'], [95, 99]) "
   ]
  },
  {
   "cell_type": "markdown",
   "metadata": {},
   "source": [
    "Не более 5% пользователей оформляли больше чем 2 заказа, не более 1% пользователей оформляли больше чем 4 заказа. Таким образом можно установить границу для определения аномальных пользователей на уровне 3."
   ]
  },
  {
   "cell_type": "markdown",
   "metadata": {},
   "source": [
    "### Стоимость заказов"
   ]
  },
  {
   "cell_type": "code",
   "execution_count": 29,
   "metadata": {},
   "outputs": [
    {
     "data": {
      "image/png": "[encoded data removed]",
      "text/plain": [
       "<Figure size 1080x360 with 1 Axes>"
      ]
     },
     "metadata": {
      "needs_background": "light"
     },
     "output_type": "display_data"
    }
   ],
   "source": [
    "# Построим точечную диаграмму стоимостей заказов \n",
    "x_values = pd.Series(range(0,len(orders['revenue'])))\n",
    "plt.figure(figsize=(15, 5))\n",
    "plt.scatter(x_values, orders['revenue'])\n",
    "plt.title('Диаграмма рассеяния по стоимости заказов')\n",
    "plt.ylabel('Стоимость заказа')\n",
    "plt.xlabel('Количество заказов')\n",
    "plt.show()"
   ]
  },
  {
   "cell_type": "markdown",
   "metadata": {},
   "source": [
    "В данном случае выбросов на графике не так много, но разбром графика большой, точки внизу слились, выводы не информативныю Воспользуемся перцентилями."
   ]
  },
  {
   "cell_type": "code",
   "execution_count": 30,
   "metadata": {},
   "outputs": [
    {
     "data": {
      "text/plain": [
       "array([28000. , 58233.2])"
      ]
     },
     "execution_count": 30,
     "metadata": {},
     "output_type": "execute_result"
    }
   ],
   "source": [
    "np.percentile(orders['revenue'], [95, 99]) "
   ]
  },
  {
   "cell_type": "markdown",
   "metadata": {},
   "source": [
    "Не более 5% пользователей оформляли заказ дороже 28.000, не более 1% пользователей оформляли заказ дороже  58233.2. Таким образом можно установить границу для определения аномальных пользователей на уровне 28000."
   ]
  },
  {
   "cell_type": "markdown",
   "metadata": {},
   "source": [
    "### \"Сырые\" данные"
   ]
  },
  {
   "cell_type": "markdown",
   "metadata": {},
   "source": [
    "Сначала посчитаем статистическую значимость различий в среднем чеке и конверсии между группами по исходным данным. Затем после удаления аномальных пользователей - по \"очищенным\"."
   ]
  },
  {
   "cell_type": "markdown",
   "metadata": {},
   "source": [
    "#### Cтатистическая значимость различий в конверсии "
   ]
  },
  {
   "cell_type": "code",
   "execution_count": 31,
   "metadata": {},
   "outputs": [],
   "source": [
    "# Создадим датафреймы по группам, в которых для пользователей, которые заказывали хотя бы 1 раз, \n",
    "# укажем число совершённых заказов\n",
    "orders_by_users_A = (orders[orders['group'] == 'A'].groupby('visitorId', as_index = False)\\\n",
    "                      .agg({'transactionId':pd.Series.nunique}))\n",
    "orders_by_users_A.columns = ['visitorId', 'orders']"
   ]
  },
  {
   "cell_type": "code",
   "execution_count": 32,
   "metadata": {},
   "outputs": [],
   "source": [
    "orders_by_users_B = (orders[orders['group'] == 'B'].groupby('visitorId', as_index = False)\\\n",
    "                      .agg({'transactionId':pd.Series.nunique}))\n",
    "orders_by_users_B.columns = ['visitorId', 'orders']"
   ]
  },
  {
   "cell_type": "markdown",
   "metadata": {},
   "source": [
    "Чтобы оценить данные по группам нужно знать общее количество посетителей по группам в день, из него вычесть количество заказов совершенных в группе - узнаем число посетителей из группы, не совершивших заказ.\n",
    "Затем создадим Series, в котором пользователям из разных групп будет соответствовать количество заказов. Тем, кто ничего не заказал, будут соответствовать нули\n"
   ]
  },
  {
   "cell_type": "code",
   "execution_count": 33,
   "metadata": {},
   "outputs": [],
   "source": [
    "sampleA = pd.concat([orders_by_users_A['orders'], \n",
    "          pd.Series(0, index = np.arange(visitors.query('group ==\"A\"')['visitors'].sum() - len(orders_by_users_A['orders'])),\n",
    "          name = 'orders')], axis = 0)"
   ]
  },
  {
   "cell_type": "code",
   "execution_count": 34,
   "metadata": {},
   "outputs": [],
   "source": [
    "sampleB = pd.concat([orders_by_users_B['orders'], \n",
    "          pd.Series(0, index = np.arange(visitors.query('group ==\"B\"')['visitors'].sum() - len(orders_by_users_B['orders'])),\n",
    "          name = 'orders')], axis = 0)"
   ]
  },
  {
   "cell_type": "markdown",
   "metadata": {},
   "source": [
    "Нулевая гипотеза - между выбороками с количеством заказов пользователей групп А и В нет разницы. \n",
    "\n",
    "Альтернативная гипотеза - выборки различаются.\n",
    "\n",
    "Для проверки гипотезы будем использовать непараметрический тест Уилкоксона-Манна-Уитни, чтобы минимизировать влияние выбросов в данных на результат. \n",
    "\n",
    "Уровень значимости = 0.05. \n"
   ]
  },
  {
   "cell_type": "markdown",
   "metadata": {},
   "source": [
    "В получившихся Series длина выборки - количество посетителей, сумма - количество заказов, таким образом конверсию можно расчитать методом mean().Также выведем относительный прирост конверсии группы B."
   ]
  },
  {
   "cell_type": "code",
   "execution_count": 35,
   "metadata": {},
   "outputs": [
    {
     "name": "stdout",
     "output_type": "stream",
     "text": [
      "p-value: 0.0084\n",
      "Относительный прирост конверсии группы B: 0.138\n"
     ]
    }
   ],
   "source": [
    "print('p-value:',\"{0:.4f}\".format(st.mannwhitneyu(sampleA, sampleB)[1], alternative = 'two-sided'))\n",
    "\n",
    "print('Относительный прирост конверсии группы B:',\"{0:.3f}\".format(sampleB.mean() / sampleA.mean() - 1))\n"
   ]
  },
  {
   "cell_type": "markdown",
   "metadata": {},
   "source": [
    "##### Вывод"
   ]
  },
  {
   "cell_type": "markdown",
   "metadata": {},
   "source": [
    "По исходным данным различия в конверсии групп A и B есть.\n",
    "p-value меньше 0.05. Данные, имеющихся выборок предоставляют достаточное основание для выбранного уровня значимости отвергнуть нулевую гипотезу о равенстве конверсий и принять альтернативную гипотезу об их неравенстве.\n",
    "\n",
    "Относительный прирост конверсии группы B равен 13.8%"
   ]
  },
  {
   "cell_type": "markdown",
   "metadata": {},
   "source": [
    "#### Статистическая значимость различий в среднем чеке заказа "
   ]
  },
  {
   "cell_type": "markdown",
   "metadata": {},
   "source": [
    "Нулевая гипотеза - между выборками со стоимостью заказов пользователей групп А и В нет разницы. \n",
    "\n",
    "Альтернативная гипотеза - выборки различаются.\n",
    "\n",
    "Для проверки гипотезы будем использовать непараметрический тест Уилкоксона-Манна-Уитни, чтобы минимизировать влияние выбросов в данных на результат. \n",
    "\n",
    "Уровень значимости = 0.05. "
   ]
  },
  {
   "cell_type": "code",
   "execution_count": 36,
   "metadata": {},
   "outputs": [
    {
     "name": "stdout",
     "output_type": "stream",
     "text": [
      "p-value: 0.365\n",
      "Относительный прирост среднего чека группы B: 0.259\n"
     ]
    }
   ],
   "source": [
    "print('p-value:',\n",
    "      '{0:.3f}'.format(st.mannwhitneyu(orders[orders['group']=='A']['revenue'], orders[orders['group']=='B']['revenue'])[1],\n",
    "                       alternative = 'two-sided'))\n",
    "print('Относительный прирост среднего чека группы B:',\n",
    "    '{0:.3f}'.format(orders[orders['group']=='B']['revenue'].mean()/orders[orders['group']=='A']['revenue'].mean()-1)) "
   ]
  },
  {
   "cell_type": "markdown",
   "metadata": {},
   "source": [
    "##### Вывод\n"
   ]
  },
  {
   "cell_type": "markdown",
   "metadata": {},
   "source": [
    "По исходным данным различий в среднем чеке групп A и B нет. p-value больше 0.05. Данные, имеющихся выборок предоставляют достаточное основание для выбранного уровня значимости принять нулевую гипотезу о равенстве средних чеков и отвергнуть альтернативную гипотезу об их неравенстве.\n",
    "\n",
    "Однако относительный прирост среднего чека группы B равен 25.9%, но разница статистически не значима."
   ]
  },
  {
   "cell_type": "markdown",
   "metadata": {},
   "source": [
    "### \"Очищенные\" данные"
   ]
  },
  {
   "cell_type": "markdown",
   "metadata": {},
   "source": [
    "Чтобы \"очистить\" данные от выбросов нужно найти пользователей, севершивших аномально дорогие или аномально много заказов, и исключить их из анализа"
   ]
  },
  {
   "cell_type": "code",
   "execution_count": 37,
   "metadata": {},
   "outputs": [
    {
     "data": {
      "text/plain": [
       "(63,)"
      ]
     },
     "execution_count": 37,
     "metadata": {},
     "output_type": "execute_result"
    }
   ],
   "source": [
    "# выделим пользователей с большим количеством заказов\n",
    "users_many_orders= pd.concat(\n",
    "    [\n",
    "        orders_by_users_A[orders_by_users_A['orders'] > 3]['visitorId'],\n",
    "        orders_by_users_B[orders_by_users_B['orders'] > 3]['visitorId'],\n",
    "    ],\n",
    "    axis=0,\n",
    ")\n",
    "# выделим пользователей с дорогими заказами\n",
    "users_expensive_orders = orders[orders['revenue'] > 28000]['visitorId']\n",
    "#объединим в один список, исключив повторения\n",
    "abnormal_users = (\n",
    "    pd.concat([users_many_orders, users_expensive_orders], axis=0)\n",
    "    .drop_duplicates()\n",
    "    .sort_values()\n",
    ")\n",
    "abnormal_users.shape "
   ]
  },
  {
   "cell_type": "markdown",
   "metadata": {},
   "source": [
    "Всего 63 пользователя являются \"аномальными\", исключим их из данных перед проверкой гипотез."
   ]
  },
  {
   "cell_type": "markdown",
   "metadata": {},
   "source": [
    "####  Cтатистическая значимость различий в конверсии "
   ]
  },
  {
   "cell_type": "code",
   "execution_count": 38,
   "metadata": {},
   "outputs": [],
   "source": [
    "sampleA_filter = pd.concat([orders_by_users_A[np.logical_not(orders_by_users_A['visitorId'].isin(abnormal_users))]['orders'], \n",
    "          pd.Series(0, index = np.arange(visitors.query('group ==\"A\"')['visitors'].sum() - len(orders_by_users_A['orders'])),\n",
    "          name = 'orders')], axis = 0)"
   ]
  },
  {
   "cell_type": "code",
   "execution_count": 39,
   "metadata": {},
   "outputs": [],
   "source": [
    "sampleB_filter = pd.concat([orders_by_users_B[np.logical_not(orders_by_users_B['visitorId'].isin(abnormal_users))]['orders'], \n",
    "          pd.Series(0, index = np.arange(visitors.query('group ==\"B\"')['visitors'].sum() - len(orders_by_users_B['orders'])),\n",
    "          name = 'orders')], axis = 0)"
   ]
  },
  {
   "cell_type": "markdown",
   "metadata": {},
   "source": [
    "Нулевая гипотеза - между выбороками с количеством заказов пользователей групп А и В из \"отфильтрованных\" данных нет разницы. \n",
    "\n",
    "Альтернативная гипотеза - выборки различаются.\n",
    "\n",
    "Для проверки гипотезы будем использовать непараметрический тест Уилкоксона-Манна-Уитни. \n",
    "Уровень значимости = 0.05. "
   ]
  },
  {
   "cell_type": "code",
   "execution_count": 40,
   "metadata": {},
   "outputs": [
    {
     "name": "stdout",
     "output_type": "stream",
     "text": [
      "p-value: 0.0090\n",
      "Относительный прирост конверсии группы B: 0.148\n"
     ]
    }
   ],
   "source": [
    "print('p-value:',\"{0:.4f}\".format(st.mannwhitneyu(sampleA_filter, sampleB_filter)[1], alternative = 'two-sided'))\n",
    "\n",
    "print('Относительный прирост конверсии группы B:',\"{0:.3f}\".format(sampleB_filter.mean() / sampleA_filter.mean() - 1))"
   ]
  },
  {
   "cell_type": "markdown",
   "metadata": {},
   "source": [
    "##### Вывод"
   ]
  },
  {
   "cell_type": "markdown",
   "metadata": {},
   "source": [
    "По \"очищенным\" данным различия в конверсии групп A и B есть. p-value меньше 0.05. Данные, имеющихся выборок предоставляют достаточное основание для выбранного уровня значимости отвергнуть нулевую гипотезу о равенстве конверсий и принять альтернативную гипотезу об их неравенстве.\n",
    "\n",
    "Относительный прирост конверсии группы B равен 14.8%.\n",
    "\n",
    "Данные совпадают с двнными по исходной выборки: сохраняется статистическая значимость различия конверсий двух групп и несколько увеличиля относительный прирост конверсии н=группы В."
   ]
  },
  {
   "cell_type": "markdown",
   "metadata": {},
   "source": [
    "#### Статистическая значимость различий в среднем чеке заказа "
   ]
  },
  {
   "cell_type": "markdown",
   "metadata": {},
   "source": [
    "Нулевая гипотеза - между выборками со стоимостью заказов пользователей групп А и В из \"отфильтрованных\" данных нет разницы. \n",
    "\n",
    "Альтернативная гипотеза - выборки различаются.\n",
    "\n",
    "Для проверки гипотезы будем использовать непараметрический тест Уилкоксона-Манна-Уитни. \n",
    "Уровень значимости = 0.05. "
   ]
  },
  {
   "cell_type": "code",
   "execution_count": 41,
   "metadata": {},
   "outputs": [
    {
     "name": "stdout",
     "output_type": "stream",
     "text": [
      "p-value: 0.488\n",
      "Относительный прирост среднего чека группы B: -0.017\n"
     ]
    }
   ],
   "source": [
    "print('p-value:',\n",
    "    '{0:.3f}'.format(st.mannwhitneyu(\n",
    "            orders[np.logical_and(orders['group'] == 'A',np.logical_not(orders['visitorId'].isin(abnormal_users)),)]['revenue'],\n",
    "            orders[np.logical_and(orders['group'] == 'B',np.logical_not(orders['visitorId'].isin(abnormal_users)),)]['revenue'],\n",
    "        )[1], alternative = 'two-sided'\n",
    "    )\n",
    ")\n",
    "print('Относительный прирост среднего чека группы B:',\n",
    " '{0:.3f}'.format(\n",
    "     orders[np.logical_and(orders['group'] == 'B',np.logical_not(orders['visitorId'].isin(abnormal_users)),)]['revenue'].mean()/\n",
    "     orders[np.logical_and(orders['group'] == 'A',np.logical_not(orders['visitorId'].isin(abnormal_users)),)]['revenue'].mean()-1)) "
   ]
  },
  {
   "cell_type": "markdown",
   "metadata": {},
   "source": [
    "##### Вывод"
   ]
  },
  {
   "cell_type": "markdown",
   "metadata": {},
   "source": [
    "По \"очищенным\" данным различий в среднем чеке групп A и B нет. p-value больше 0.05. Данные, имеющихся выборок предоставляют достаточное основание для выбранного уровня значимости принять нулевую гипотезу о равенстве средних чеков и отвергнуть альтернативную гипотезу об их неравенстве.\n",
    "\n",
    "Однако после удаления аномальных значений относительный прирост среднего чека группы B стал убытком -1,7% относительно группы А. Но и эта разница статистически не значима."
   ]
  },
  {
   "cell_type": "markdown",
   "metadata": {},
   "source": [
    "## Решение по результатам теста "
   ]
  },
  {
   "cell_type": "markdown",
   "metadata": {},
   "source": [
    "По результатам теста принято решение: \"Остановить тест, зафиксировать победу группы В\". \n",
    "По условиям неизвестно на какую метрику прежде всего были направлены изменения в проверяемой гипотезе. Но статистически значимые различия в конверсии двух групп с относительным приростом конверсии группы в 14.8%, несмотря на отсутствие статистически значимых различий в среднем чеке позволяет признать результативность изменений."
   ]
  },
  {
   "cell_type": "markdown",
   "metadata": {},
   "source": [
    "## Вывод"
   ]
  },
  {
   "cell_type": "markdown",
   "metadata": {},
   "source": [
    "1. При проведении приоритизации гипотез охват пользователей имеет большое влияние наряду с оказываемым влиянием и уверенностью. Так при гипотезе с малым охватом пользователей, на выходе можно не получить статистически значимый прирост метрик, несмотря на высокое оказываемое влияние и уверенность.                                                                                     \n",
    "В данном случае целесообразнее выбрать гипотезу, лидирующую по RICE - \"Добавить форму подписки на все основные страницы, чтобы собрать базу клиентов для email-рассылок\".\n",
    "\n",
    "2. При анализе исходных данных группа В лидирует к концу исследуемого периода по всем метрикам (кумулятивная выручка, кумулятивный средний чек и кумулятивная конверсия), но отмечаются резкие скачки в поведении первых двух метрик группы В. \n",
    "\n",
    "3. После очистки данных от аномальных значений:\n",
    "\n",
    "* Различия выборок с количеством заказов пользователей групп А и В статистически значимы. Относительный прирост конверсии группы B равен 14.8%.\n",
    "\n",
    "* Выборки со стоимостью заказов пользователей групп А и В не имеют различий для выбранного уровня значимости. Имеется относительный убыток среднего чека группы B: -1,7% относительно группы А, но эта разница статистически не значима.\n",
    "\n",
    "4. По результатам теста принято решение: \"Остановить тест, зафиксировать победу группы В\"."
   ]
  }
 ],
 "metadata": {
  "ExecuteTimeLog": [
   {
    "duration": 4,
    "start_time": "2022-03-06T19:36:27.903Z"
   },
   {
    "duration": 357,
    "start_time": "2022-03-06T19:46:38.696Z"
   },
   {
    "duration": 1476,
    "start_time": "2022-03-06T19:46:42.510Z"
   },
   {
    "duration": 28,
    "start_time": "2022-03-06T19:46:45.550Z"
   },
   {
    "duration": 21,
    "start_time": "2022-03-06T19:46:56.865Z"
   },
   {
    "duration": 44,
    "start_time": "2022-03-06T19:47:55.359Z"
   },
   {
    "duration": 10,
    "start_time": "2022-03-06T19:48:12.079Z"
   },
   {
    "duration": 474,
    "start_time": "2022-03-06T19:53:20.405Z"
   },
   {
    "duration": 2819,
    "start_time": "2022-03-06T19:53:37.979Z"
   },
   {
    "duration": 4,
    "start_time": "2022-03-06T19:54:02.864Z"
   },
   {
    "duration": 357,
    "start_time": "2022-03-06T19:54:06.276Z"
   },
   {
    "duration": 77,
    "start_time": "2022-03-06T19:54:14.930Z"
   },
   {
    "duration": 18,
    "start_time": "2022-03-06T19:54:17.892Z"
   },
   {
    "duration": 24,
    "start_time": "2022-03-06T19:55:26.700Z"
   },
   {
    "duration": 28,
    "start_time": "2022-03-06T19:55:34.333Z"
   },
   {
    "duration": 8,
    "start_time": "2022-03-06T19:55:47.162Z"
   },
   {
    "duration": 19,
    "start_time": "2022-03-06T20:07:53.755Z"
   },
   {
    "duration": 18,
    "start_time": "2022-03-06T20:08:22.440Z"
   },
   {
    "duration": 15,
    "start_time": "2022-03-06T20:08:57.755Z"
   },
   {
    "duration": 342,
    "start_time": "2022-03-06T20:09:10.342Z"
   },
   {
    "duration": 16,
    "start_time": "2022-03-06T20:09:28.026Z"
   },
   {
    "duration": 280,
    "start_time": "2022-03-06T20:09:53.026Z"
   },
   {
    "duration": 9,
    "start_time": "2022-03-06T20:10:32.147Z"
   },
   {
    "duration": 18,
    "start_time": "2022-03-06T20:18:02.522Z"
   },
   {
    "duration": 1252,
    "start_time": "2022-03-07T10:18:55.683Z"
   },
   {
    "duration": 27,
    "start_time": "2022-03-07T10:18:58.251Z"
   },
   {
    "duration": 50,
    "start_time": "2022-03-07T10:19:00.444Z"
   },
   {
    "duration": 11,
    "start_time": "2022-03-07T10:19:01.219Z"
   },
   {
    "duration": 21,
    "start_time": "2022-03-07T10:19:04.596Z"
   },
   {
    "duration": 9,
    "start_time": "2022-03-07T10:19:05.403Z"
   },
   {
    "duration": 19,
    "start_time": "2022-03-07T10:19:09.061Z"
   },
   {
    "duration": 18,
    "start_time": "2022-03-07T10:19:19.269Z"
   },
   {
    "duration": 9,
    "start_time": "2022-03-07T10:19:24.116Z"
   },
   {
    "duration": 105,
    "start_time": "2022-03-07T10:25:46.576Z"
   },
   {
    "duration": 75,
    "start_time": "2022-03-07T10:25:58.097Z"
   },
   {
    "duration": 72,
    "start_time": "2022-03-07T10:26:03.503Z"
   },
   {
    "duration": 2872,
    "start_time": "2022-03-07T10:26:09.223Z"
   },
   {
    "duration": 2906,
    "start_time": "2022-03-07T10:26:50.945Z"
   },
   {
    "duration": 66,
    "start_time": "2022-03-07T10:27:19.352Z"
   },
   {
    "duration": 72,
    "start_time": "2022-03-07T10:27:26.584Z"
   },
   {
    "duration": 2663,
    "start_time": "2022-03-07T10:27:34.694Z"
   },
   {
    "duration": 100,
    "start_time": "2022-03-07T10:28:25.168Z"
   },
   {
    "duration": 2665,
    "start_time": "2022-03-07T10:28:41.889Z"
   },
   {
    "duration": 62,
    "start_time": "2022-03-07T10:29:16.746Z"
   },
   {
    "duration": 2564,
    "start_time": "2022-03-07T10:29:34.544Z"
   },
   {
    "duration": 4318,
    "start_time": "2022-03-07T10:58:49.350Z"
   },
   {
    "duration": 2536,
    "start_time": "2022-03-07T11:00:49.651Z"
   },
   {
    "duration": 4,
    "start_time": "2022-03-07T11:01:44.943Z"
   },
   {
    "duration": 25,
    "start_time": "2022-03-07T11:01:46.941Z"
   },
   {
    "duration": 44,
    "start_time": "2022-03-07T11:01:49.851Z"
   },
   {
    "duration": 10,
    "start_time": "2022-03-07T11:01:51.902Z"
   },
   {
    "duration": 2765,
    "start_time": "2022-03-07T11:03:01.307Z"
   },
   {
    "duration": 21,
    "start_time": "2022-03-07T11:03:18.624Z"
   },
   {
    "duration": 9,
    "start_time": "2022-03-07T11:03:19.426Z"
   },
   {
    "duration": 16,
    "start_time": "2022-03-07T11:03:23.391Z"
   },
   {
    "duration": 17,
    "start_time": "2022-03-07T11:03:27.184Z"
   },
   {
    "duration": 10,
    "start_time": "2022-03-07T11:03:31.801Z"
   },
   {
    "duration": 2532,
    "start_time": "2022-03-07T11:03:33.554Z"
   },
   {
    "duration": 855,
    "start_time": "2022-03-07T11:05:47.445Z"
   },
   {
    "duration": 7,
    "start_time": "2022-03-07T11:06:33.918Z"
   },
   {
    "duration": 882,
    "start_time": "2022-03-07T11:06:36.251Z"
   },
   {
    "duration": 4,
    "start_time": "2022-03-07T11:06:46.930Z"
   },
   {
    "duration": 1030,
    "start_time": "2022-03-07T11:06:52.935Z"
   },
   {
    "duration": 8,
    "start_time": "2022-03-07T11:07:31.552Z"
   },
   {
    "duration": 850,
    "start_time": "2022-03-07T11:07:33.924Z"
   },
   {
    "duration": 861,
    "start_time": "2022-03-07T11:07:48.732Z"
   },
   {
    "duration": 35,
    "start_time": "2022-03-07T11:08:19.687Z"
   },
   {
    "duration": 24,
    "start_time": "2022-03-07T11:08:25.636Z"
   },
   {
    "duration": 2619,
    "start_time": "2022-03-07T11:08:28.233Z"
   },
   {
    "duration": 2656,
    "start_time": "2022-03-07T11:08:42.364Z"
   },
   {
    "duration": 1087,
    "start_time": "2022-03-07T11:12:35.783Z"
   },
   {
    "duration": 9,
    "start_time": "2022-03-07T11:12:58.949Z"
   },
   {
    "duration": 4,
    "start_time": "2022-03-07T11:13:07.358Z"
   },
   {
    "duration": 19,
    "start_time": "2022-03-07T11:13:10.041Z"
   },
   {
    "duration": 28,
    "start_time": "2022-03-07T11:13:12.390Z"
   },
   {
    "duration": 8,
    "start_time": "2022-03-07T11:13:15.221Z"
   },
   {
    "duration": 19,
    "start_time": "2022-03-07T11:13:28.487Z"
   },
   {
    "duration": 8,
    "start_time": "2022-03-07T11:13:35.894Z"
   },
   {
    "duration": 2701,
    "start_time": "2022-03-07T11:13:38.440Z"
   },
   {
    "duration": 315,
    "start_time": "2022-03-07T11:15:30.193Z"
   },
   {
    "duration": 2629,
    "start_time": "2022-03-07T11:16:21.890Z"
   },
   {
    "duration": 66,
    "start_time": "2022-03-07T11:17:04.386Z"
   },
   {
    "duration": 302,
    "start_time": "2022-03-07T11:17:12.121Z"
   },
   {
    "duration": 309,
    "start_time": "2022-03-07T11:17:36.890Z"
   },
   {
    "duration": 273,
    "start_time": "2022-03-07T11:21:26.813Z"
   },
   {
    "duration": 1848,
    "start_time": "2022-03-07T11:22:47.215Z"
   },
   {
    "duration": 5,
    "start_time": "2022-03-07T11:22:59.995Z"
   },
   {
    "duration": 20,
    "start_time": "2022-03-07T11:23:03.017Z"
   },
   {
    "duration": 1832,
    "start_time": "2022-03-07T11:23:05.981Z"
   },
   {
    "duration": 1240,
    "start_time": "2022-03-07T11:23:25.086Z"
   },
   {
    "duration": 25,
    "start_time": "2022-03-07T11:23:28.675Z"
   },
   {
    "duration": 1974,
    "start_time": "2022-03-07T11:23:30.589Z"
   },
   {
    "duration": 1910,
    "start_time": "2022-03-07T11:24:02.631Z"
   },
   {
    "duration": 4,
    "start_time": "2022-03-07T11:24:20.619Z"
   },
   {
    "duration": 21,
    "start_time": "2022-03-07T11:24:23.379Z"
   },
   {
    "duration": 48,
    "start_time": "2022-03-07T11:24:24.059Z"
   },
   {
    "duration": 10,
    "start_time": "2022-03-07T11:24:26.820Z"
   },
   {
    "duration": 22,
    "start_time": "2022-03-07T11:24:30.432Z"
   },
   {
    "duration": 9,
    "start_time": "2022-03-07T11:24:32.332Z"
   },
   {
    "duration": 8,
    "start_time": "2022-03-07T11:24:37.523Z"
   },
   {
    "duration": 302,
    "start_time": "2022-03-07T11:24:39.046Z"
   },
   {
    "duration": 281,
    "start_time": "2022-03-07T11:24:40.837Z"
   },
   {
    "duration": 265,
    "start_time": "2022-03-07T11:25:02.301Z"
   },
   {
    "duration": 201,
    "start_time": "2022-03-07T11:30:17.383Z"
   },
   {
    "duration": 10,
    "start_time": "2022-03-07T11:30:22.191Z"
   },
   {
    "duration": 13,
    "start_time": "2022-03-07T11:30:23.941Z"
   },
   {
    "duration": 71,
    "start_time": "2022-03-07T11:31:27.709Z"
   },
   {
    "duration": 291,
    "start_time": "2022-03-07T11:31:33.912Z"
   },
   {
    "duration": 269,
    "start_time": "2022-03-07T11:31:38.185Z"
   },
   {
    "duration": 9,
    "start_time": "2022-03-07T11:31:39.295Z"
   },
   {
    "duration": 13,
    "start_time": "2022-03-07T11:31:40.704Z"
   },
   {
    "duration": 7,
    "start_time": "2022-03-07T11:40:07.149Z"
   },
   {
    "duration": 6,
    "start_time": "2022-03-07T11:40:08.373Z"
   },
   {
    "duration": 305,
    "start_time": "2022-03-07T11:40:09.436Z"
   },
   {
    "duration": 354,
    "start_time": "2022-03-07T11:42:59.198Z"
   },
   {
    "duration": 347,
    "start_time": "2022-03-07T11:46:34.138Z"
   },
   {
    "duration": 345,
    "start_time": "2022-03-07T11:47:03.841Z"
   },
   {
    "duration": 441,
    "start_time": "2022-03-07T11:47:10.632Z"
   },
   {
    "duration": 79,
    "start_time": "2022-03-07T11:48:16.324Z"
   },
   {
    "duration": 923,
    "start_time": "2022-03-07T11:48:25.859Z"
   },
   {
    "duration": 919,
    "start_time": "2022-03-07T11:48:53.074Z"
   },
   {
    "duration": 696,
    "start_time": "2022-03-07T11:49:10.866Z"
   },
   {
    "duration": 537,
    "start_time": "2022-03-07T11:49:20.273Z"
   },
   {
    "duration": 583,
    "start_time": "2022-03-07T11:49:26.385Z"
   },
   {
    "duration": 569,
    "start_time": "2022-03-07T11:49:34.501Z"
   },
   {
    "duration": 522,
    "start_time": "2022-03-07T11:50:08.795Z"
   },
   {
    "duration": 518,
    "start_time": "2022-03-07T11:50:23.667Z"
   },
   {
    "duration": 518,
    "start_time": "2022-03-07T11:56:14.736Z"
   },
   {
    "duration": 491,
    "start_time": "2022-03-07T12:02:56.815Z"
   },
   {
    "duration": 532,
    "start_time": "2022-03-07T12:04:27.156Z"
   },
   {
    "duration": 67,
    "start_time": "2022-03-07T12:23:28.278Z"
   },
   {
    "duration": 72,
    "start_time": "2022-03-07T12:23:45.038Z"
   },
   {
    "duration": 499,
    "start_time": "2022-03-07T12:23:51.676Z"
   },
   {
    "duration": 17,
    "start_time": "2022-03-07T12:24:02.086Z"
   },
   {
    "duration": 406,
    "start_time": "2022-03-07T12:28:19.743Z"
   },
   {
    "duration": 250,
    "start_time": "2022-03-07T12:28:39.079Z"
   },
   {
    "duration": 413,
    "start_time": "2022-03-07T12:28:46.170Z"
   },
   {
    "duration": 492,
    "start_time": "2022-03-07T12:28:52.348Z"
   },
   {
    "duration": 414,
    "start_time": "2022-03-07T12:29:28.180Z"
   },
   {
    "duration": 463,
    "start_time": "2022-03-07T12:31:11.747Z"
   },
   {
    "duration": 562,
    "start_time": "2022-03-07T12:31:29.618Z"
   },
   {
    "duration": 602,
    "start_time": "2022-03-07T13:20:14.992Z"
   },
   {
    "duration": 194,
    "start_time": "2022-03-07T13:21:34.614Z"
   },
   {
    "duration": 9,
    "start_time": "2022-03-07T13:21:55.108Z"
   },
   {
    "duration": 370,
    "start_time": "2022-03-07T13:24:02.588Z"
   },
   {
    "duration": 500,
    "start_time": "2022-03-07T13:24:13.004Z"
   },
   {
    "duration": 73,
    "start_time": "2022-03-07T13:32:34.722Z"
   },
   {
    "duration": 12,
    "start_time": "2022-03-07T13:32:41.353Z"
   },
   {
    "duration": 11,
    "start_time": "2022-03-07T13:33:21.667Z"
   },
   {
    "duration": 553,
    "start_time": "2022-03-07T13:35:47.518Z"
   },
   {
    "duration": 193,
    "start_time": "2022-03-07T14:09:30.620Z"
   },
   {
    "duration": 5003,
    "start_time": "2022-03-07T14:10:18.748Z"
   },
   {
    "duration": 512,
    "start_time": "2022-03-07T14:14:58.611Z"
   },
   {
    "duration": 502,
    "start_time": "2022-03-07T14:15:15.968Z"
   },
   {
    "duration": 73,
    "start_time": "2022-03-07T14:15:23.327Z"
   },
   {
    "duration": 79,
    "start_time": "2022-03-07T14:15:46.937Z"
   },
   {
    "duration": 212,
    "start_time": "2022-03-07T14:16:01.266Z"
   },
   {
    "duration": 16,
    "start_time": "2022-03-07T14:16:09.418Z"
   },
   {
    "duration": 16,
    "start_time": "2022-03-07T14:16:32.820Z"
   },
   {
    "duration": 211,
    "start_time": "2022-03-07T14:17:43.058Z"
   },
   {
    "duration": 392,
    "start_time": "2022-03-07T14:17:59.785Z"
   },
   {
    "duration": 7,
    "start_time": "2022-03-07T14:20:10.306Z"
   },
   {
    "duration": 7,
    "start_time": "2022-03-07T14:20:35.857Z"
   },
   {
    "duration": 8,
    "start_time": "2022-03-07T14:20:40.753Z"
   },
   {
    "duration": 411,
    "start_time": "2022-03-07T14:27:32.156Z"
   },
   {
    "duration": 462,
    "start_time": "2022-03-07T14:27:51.670Z"
   },
   {
    "duration": 484,
    "start_time": "2022-03-07T14:28:06.183Z"
   },
   {
    "duration": 417,
    "start_time": "2022-03-07T14:28:12.726Z"
   },
   {
    "duration": 526,
    "start_time": "2022-03-07T14:28:36.958Z"
   },
   {
    "duration": 223,
    "start_time": "2022-03-07T14:29:51.981Z"
   },
   {
    "duration": 200,
    "start_time": "2022-03-07T14:30:29.951Z"
   },
   {
    "duration": 195,
    "start_time": "2022-03-07T14:30:43.259Z"
   },
   {
    "duration": 201,
    "start_time": "2022-03-07T14:30:48.039Z"
   },
   {
    "duration": 410,
    "start_time": "2022-03-07T14:30:58.008Z"
   },
   {
    "duration": 524,
    "start_time": "2022-03-07T14:31:47.832Z"
   },
   {
    "duration": 209,
    "start_time": "2022-03-07T14:32:27.984Z"
   },
   {
    "duration": 572,
    "start_time": "2022-03-07T14:32:37.072Z"
   },
   {
    "duration": 405,
    "start_time": "2022-03-07T14:32:47.529Z"
   },
   {
    "duration": 4714,
    "start_time": "2022-03-07T14:34:37.137Z"
   },
   {
    "duration": 7,
    "start_time": "2022-03-07T14:34:45.171Z"
   },
   {
    "duration": 93,
    "start_time": "2022-03-07T16:09:49.452Z"
   },
   {
    "duration": 94,
    "start_time": "2022-03-07T16:10:01.609Z"
   },
   {
    "duration": 121,
    "start_time": "2022-03-07T16:10:12.902Z"
   },
   {
    "duration": 117,
    "start_time": "2022-03-07T16:10:23.952Z"
   },
   {
    "duration": 12,
    "start_time": "2022-03-07T16:10:34.551Z"
   },
   {
    "duration": 10,
    "start_time": "2022-03-07T16:11:39.671Z"
   },
   {
    "duration": 64,
    "start_time": "2022-03-07T16:12:11.624Z"
   },
   {
    "duration": 65,
    "start_time": "2022-03-07T16:12:51.180Z"
   },
   {
    "duration": 67,
    "start_time": "2022-03-07T16:13:16.848Z"
   },
   {
    "duration": 10,
    "start_time": "2022-03-07T16:13:31.810Z"
   },
   {
    "duration": 67,
    "start_time": "2022-03-07T16:14:21.809Z"
   },
   {
    "duration": 68,
    "start_time": "2022-03-07T16:14:41.957Z"
   },
   {
    "duration": 12,
    "start_time": "2022-03-07T16:15:15.418Z"
   },
   {
    "duration": 6,
    "start_time": "2022-03-07T16:15:43.886Z"
   },
   {
    "duration": 6,
    "start_time": "2022-03-07T16:16:25.796Z"
   },
   {
    "duration": 65,
    "start_time": "2022-03-07T16:17:15.791Z"
   },
   {
    "duration": 9,
    "start_time": "2022-03-07T16:17:32.075Z"
   },
   {
    "duration": 189,
    "start_time": "2022-03-07T16:21:24.266Z"
   },
   {
    "duration": 199,
    "start_time": "2022-03-07T16:21:44.054Z"
   },
   {
    "duration": 9,
    "start_time": "2022-03-07T16:21:48.103Z"
   },
   {
    "duration": 13,
    "start_time": "2022-03-07T16:21:50.134Z"
   },
   {
    "duration": 9,
    "start_time": "2022-03-07T16:21:55.526Z"
   },
   {
    "duration": 9,
    "start_time": "2022-03-07T16:23:14.263Z"
   },
   {
    "duration": 10,
    "start_time": "2022-03-07T16:23:49.436Z"
   },
   {
    "duration": 514,
    "start_time": "2022-03-07T16:32:52.282Z"
   },
   {
    "duration": 737,
    "start_time": "2022-03-07T16:32:58.197Z"
   },
   {
    "duration": 11,
    "start_time": "2022-03-07T16:33:11.532Z"
   },
   {
    "duration": 64,
    "start_time": "2022-03-07T16:33:22.164Z"
   },
   {
    "duration": 9,
    "start_time": "2022-03-07T16:33:29.956Z"
   },
   {
    "duration": 203,
    "start_time": "2022-03-07T16:39:39.336Z"
   },
   {
    "duration": 14,
    "start_time": "2022-03-07T16:39:48.703Z"
   },
   {
    "duration": 14,
    "start_time": "2022-03-07T16:40:15.295Z"
   },
   {
    "duration": 16,
    "start_time": "2022-03-07T16:41:05.137Z"
   },
   {
    "duration": 15,
    "start_time": "2022-03-07T16:50:14.722Z"
   },
   {
    "duration": 16,
    "start_time": "2022-03-07T16:51:31.789Z"
   },
   {
    "duration": 14,
    "start_time": "2022-03-07T16:55:29.026Z"
   },
   {
    "duration": 11,
    "start_time": "2022-03-07T16:55:58.529Z"
   },
   {
    "duration": 14,
    "start_time": "2022-03-07T16:56:40.147Z"
   },
   {
    "duration": 14,
    "start_time": "2022-03-07T16:57:18.530Z"
   },
   {
    "duration": 64,
    "start_time": "2022-03-07T17:08:23.921Z"
   },
   {
    "duration": 88,
    "start_time": "2022-03-07T17:08:31.513Z"
   },
   {
    "duration": 71,
    "start_time": "2022-03-07T17:09:01.569Z"
   },
   {
    "duration": 70,
    "start_time": "2022-03-07T17:09:23.337Z"
   },
   {
    "duration": 76,
    "start_time": "2022-03-07T17:09:44.073Z"
   },
   {
    "duration": 72,
    "start_time": "2022-03-07T17:10:24.370Z"
   },
   {
    "duration": 70,
    "start_time": "2022-03-07T17:10:40.796Z"
   },
   {
    "duration": 68,
    "start_time": "2022-03-07T17:10:49.218Z"
   },
   {
    "duration": 75,
    "start_time": "2022-03-07T17:10:59.226Z"
   },
   {
    "duration": 236,
    "start_time": "2022-03-07T17:12:28.797Z"
   },
   {
    "duration": 69,
    "start_time": "2022-03-07T17:14:14.790Z"
   },
   {
    "duration": 206,
    "start_time": "2022-03-07T17:16:01.189Z"
   },
   {
    "duration": 16,
    "start_time": "2022-03-07T17:16:07.444Z"
   },
   {
    "duration": 18,
    "start_time": "2022-03-07T17:17:25.959Z"
   },
   {
    "duration": 15,
    "start_time": "2022-03-07T17:19:18.241Z"
   },
   {
    "duration": 20,
    "start_time": "2022-03-07T17:19:51.601Z"
   },
   {
    "duration": 1428,
    "start_time": "2022-03-07T19:00:10.646Z"
   },
   {
    "duration": 27,
    "start_time": "2022-03-07T19:00:12.081Z"
   },
   {
    "duration": 77,
    "start_time": "2022-03-07T19:00:12.111Z"
   },
   {
    "duration": 10,
    "start_time": "2022-03-07T19:00:12.191Z"
   },
   {
    "duration": 12,
    "start_time": "2022-03-07T19:00:12.204Z"
   },
   {
    "duration": 31,
    "start_time": "2022-03-07T19:00:12.220Z"
   },
   {
    "duration": 24,
    "start_time": "2022-03-07T19:00:12.253Z"
   },
   {
    "duration": 30,
    "start_time": "2022-03-07T19:00:12.285Z"
   },
   {
    "duration": 17,
    "start_time": "2022-03-07T19:00:12.318Z"
   },
   {
    "duration": 117,
    "start_time": "2022-03-07T19:00:12.338Z"
   },
   {
    "duration": -257,
    "start_time": "2022-03-07T19:00:12.717Z"
   },
   {
    "duration": -264,
    "start_time": "2022-03-07T19:00:12.725Z"
   },
   {
    "duration": -308,
    "start_time": "2022-03-07T19:00:12.771Z"
   },
   {
    "duration": -317,
    "start_time": "2022-03-07T19:00:12.781Z"
   },
   {
    "duration": -322,
    "start_time": "2022-03-07T19:00:12.788Z"
   },
   {
    "duration": -325,
    "start_time": "2022-03-07T19:00:12.794Z"
   },
   {
    "duration": -327,
    "start_time": "2022-03-07T19:00:12.799Z"
   },
   {
    "duration": -330,
    "start_time": "2022-03-07T19:00:12.804Z"
   },
   {
    "duration": -335,
    "start_time": "2022-03-07T19:00:12.811Z"
   },
   {
    "duration": -337,
    "start_time": "2022-03-07T19:00:12.816Z"
   },
   {
    "duration": -341,
    "start_time": "2022-03-07T19:00:12.821Z"
   },
   {
    "duration": -345,
    "start_time": "2022-03-07T19:00:12.827Z"
   },
   {
    "duration": -348,
    "start_time": "2022-03-07T19:00:12.832Z"
   },
   {
    "duration": -352,
    "start_time": "2022-03-07T19:00:12.837Z"
   },
   {
    "duration": -357,
    "start_time": "2022-03-07T19:00:12.844Z"
   },
   {
    "duration": -360,
    "start_time": "2022-03-07T19:00:12.849Z"
   },
   {
    "duration": -365,
    "start_time": "2022-03-07T19:00:12.855Z"
   },
   {
    "duration": -369,
    "start_time": "2022-03-07T19:00:12.861Z"
   },
   {
    "duration": -386,
    "start_time": "2022-03-07T19:00:12.879Z"
   },
   {
    "duration": -391,
    "start_time": "2022-03-07T19:00:12.885Z"
   },
   {
    "duration": -395,
    "start_time": "2022-03-07T19:00:12.891Z"
   },
   {
    "duration": -400,
    "start_time": "2022-03-07T19:00:12.897Z"
   },
   {
    "duration": -405,
    "start_time": "2022-03-07T19:00:12.903Z"
   },
   {
    "duration": -408,
    "start_time": "2022-03-07T19:00:12.908Z"
   },
   {
    "duration": -413,
    "start_time": "2022-03-07T19:00:12.914Z"
   },
   {
    "duration": -418,
    "start_time": "2022-03-07T19:00:12.920Z"
   },
   {
    "duration": -422,
    "start_time": "2022-03-07T19:00:12.926Z"
   },
   {
    "duration": -427,
    "start_time": "2022-03-07T19:00:12.932Z"
   },
   {
    "duration": -431,
    "start_time": "2022-03-07T19:00:12.937Z"
   },
   {
    "duration": -436,
    "start_time": "2022-03-07T19:00:12.943Z"
   },
   {
    "duration": -442,
    "start_time": "2022-03-07T19:00:12.950Z"
   },
   {
    "duration": -446,
    "start_time": "2022-03-07T19:00:12.955Z"
   },
   {
    "duration": -452,
    "start_time": "2022-03-07T19:00:12.962Z"
   },
   {
    "duration": -456,
    "start_time": "2022-03-07T19:00:12.967Z"
   },
   {
    "duration": -461,
    "start_time": "2022-03-07T19:00:12.973Z"
   },
   {
    "duration": 8,
    "start_time": "2022-03-07T19:00:39.287Z"
   },
   {
    "duration": 354,
    "start_time": "2022-03-07T19:00:39.298Z"
   },
   {
    "duration": 282,
    "start_time": "2022-03-07T19:00:39.655Z"
   },
   {
    "duration": 10,
    "start_time": "2022-03-07T19:00:39.939Z"
   },
   {
    "duration": 40,
    "start_time": "2022-03-07T19:00:39.951Z"
   },
   {
    "duration": 71,
    "start_time": "2022-03-07T19:00:39.993Z"
   },
   {
    "duration": 4,
    "start_time": "2022-03-07T19:00:40.064Z"
   },
   {
    "duration": -3,
    "start_time": "2022-03-07T19:00:40.072Z"
   },
   {
    "duration": -9,
    "start_time": "2022-03-07T19:00:40.080Z"
   },
   {
    "duration": -15,
    "start_time": "2022-03-07T19:00:40.087Z"
   },
   {
    "duration": -75,
    "start_time": "2022-03-07T19:00:40.149Z"
   },
   {
    "duration": -80,
    "start_time": "2022-03-07T19:00:40.155Z"
   },
   {
    "duration": -86,
    "start_time": "2022-03-07T19:00:40.162Z"
   },
   {
    "duration": -90,
    "start_time": "2022-03-07T19:00:40.168Z"
   },
   {
    "duration": -97,
    "start_time": "2022-03-07T19:00:40.176Z"
   },
   {
    "duration": -101,
    "start_time": "2022-03-07T19:00:40.182Z"
   },
   {
    "duration": -107,
    "start_time": "2022-03-07T19:00:40.189Z"
   },
   {
    "duration": -110,
    "start_time": "2022-03-07T19:00:40.194Z"
   },
   {
    "duration": -116,
    "start_time": "2022-03-07T19:00:40.201Z"
   },
   {
    "duration": -120,
    "start_time": "2022-03-07T19:00:40.207Z"
   },
   {
    "duration": -126,
    "start_time": "2022-03-07T19:00:40.214Z"
   },
   {
    "duration": -131,
    "start_time": "2022-03-07T19:00:40.220Z"
   },
   {
    "duration": -136,
    "start_time": "2022-03-07T19:00:40.227Z"
   },
   {
    "duration": -141,
    "start_time": "2022-03-07T19:00:40.233Z"
   },
   {
    "duration": -146,
    "start_time": "2022-03-07T19:00:40.240Z"
   },
   {
    "duration": -151,
    "start_time": "2022-03-07T19:00:40.246Z"
   },
   {
    "duration": -167,
    "start_time": "2022-03-07T19:00:40.264Z"
   },
   {
    "duration": -172,
    "start_time": "2022-03-07T19:00:40.270Z"
   },
   {
    "duration": -177,
    "start_time": "2022-03-07T19:00:40.277Z"
   },
   {
    "duration": -182,
    "start_time": "2022-03-07T19:00:40.283Z"
   },
   {
    "duration": -188,
    "start_time": "2022-03-07T19:00:40.290Z"
   },
   {
    "duration": -193,
    "start_time": "2022-03-07T19:00:40.297Z"
   },
   {
    "duration": -198,
    "start_time": "2022-03-07T19:00:40.303Z"
   },
   {
    "duration": -201,
    "start_time": "2022-03-07T19:00:40.308Z"
   },
   {
    "duration": -208,
    "start_time": "2022-03-07T19:00:40.316Z"
   },
   {
    "duration": 8,
    "start_time": "2022-03-07T19:00:59.049Z"
   },
   {
    "duration": 11,
    "start_time": "2022-03-07T19:00:59.060Z"
   },
   {
    "duration": 550,
    "start_time": "2022-03-07T19:00:59.074Z"
   },
   {
    "duration": 519,
    "start_time": "2022-03-07T19:00:59.627Z"
   },
   {
    "duration": 17,
    "start_time": "2022-03-07T19:01:00.148Z"
   },
   {
    "duration": 608,
    "start_time": "2022-03-07T19:01:00.182Z"
   },
   {
    "duration": 10,
    "start_time": "2022-03-07T19:01:00.794Z"
   },
   {
    "duration": 543,
    "start_time": "2022-03-07T19:01:00.810Z"
   },
   {
    "duration": 26,
    "start_time": "2022-03-07T19:01:01.357Z"
   },
   {
    "duration": 30,
    "start_time": "2022-03-07T19:01:01.386Z"
   },
   {
    "duration": 609,
    "start_time": "2022-03-07T19:01:01.419Z"
   },
   {
    "duration": 376,
    "start_time": "2022-03-07T19:01:02.031Z"
   },
   {
    "duration": 7,
    "start_time": "2022-03-07T19:01:02.409Z"
   },
   {
    "duration": 445,
    "start_time": "2022-03-07T19:01:02.418Z"
   },
   {
    "duration": 18,
    "start_time": "2022-03-07T19:01:02.865Z"
   },
   {
    "duration": 133,
    "start_time": "2022-03-07T19:01:02.886Z"
   },
   {
    "duration": 160,
    "start_time": "2022-03-07T19:01:03.022Z"
   },
   {
    "duration": 6,
    "start_time": "2022-03-07T19:01:03.184Z"
   },
   {
    "duration": 11,
    "start_time": "2022-03-07T19:01:03.193Z"
   },
   {
    "duration": 12,
    "start_time": "2022-03-07T19:01:03.206Z"
   },
   {
    "duration": 9,
    "start_time": "2022-03-07T19:01:03.220Z"
   },
   {
    "duration": 13,
    "start_time": "2022-03-07T19:01:03.233Z"
   },
   {
    "duration": 48,
    "start_time": "2022-03-07T19:01:03.248Z"
   },
   {
    "duration": 15,
    "start_time": "2022-03-07T19:01:03.298Z"
   },
   {
    "duration": 21,
    "start_time": "2022-03-07T19:01:03.315Z"
   },
   {
    "duration": 12,
    "start_time": "2022-03-07T19:01:03.338Z"
   },
   {
    "duration": 69,
    "start_time": "2022-03-07T19:01:03.352Z"
   },
   {
    "duration": 69,
    "start_time": "2022-03-07T19:01:03.355Z"
   },
   {
    "duration": 50,
    "start_time": "2022-03-07T19:01:03.375Z"
   },
   {
    "duration": 14,
    "start_time": "2022-03-07T19:01:16.852Z"
   },
   {
    "duration": 20,
    "start_time": "2022-03-07T19:01:16.869Z"
   },
   {
    "duration": 1798,
    "start_time": "2022-03-07T19:02:03.374Z"
   },
   {
    "duration": 34,
    "start_time": "2022-03-07T19:02:05.176Z"
   },
   {
    "duration": 84,
    "start_time": "2022-03-07T19:02:05.214Z"
   },
   {
    "duration": 13,
    "start_time": "2022-03-07T19:02:05.301Z"
   },
   {
    "duration": 21,
    "start_time": "2022-03-07T19:02:05.317Z"
   },
   {
    "duration": 27,
    "start_time": "2022-03-07T19:02:05.341Z"
   },
   {
    "duration": 29,
    "start_time": "2022-03-07T19:02:05.371Z"
   },
   {
    "duration": 33,
    "start_time": "2022-03-07T19:02:05.404Z"
   },
   {
    "duration": 26,
    "start_time": "2022-03-07T19:02:05.440Z"
   },
   {
    "duration": 27,
    "start_time": "2022-03-07T19:02:05.468Z"
   },
   {
    "duration": 317,
    "start_time": "2022-03-07T19:02:05.497Z"
   },
   {
    "duration": 388,
    "start_time": "2022-03-07T19:02:05.817Z"
   },
   {
    "duration": 14,
    "start_time": "2022-03-07T19:02:06.208Z"
   },
   {
    "duration": 15,
    "start_time": "2022-03-07T19:02:06.225Z"
   },
   {
    "duration": 40,
    "start_time": "2022-03-07T19:02:06.243Z"
   },
   {
    "duration": 11,
    "start_time": "2022-03-07T19:02:06.286Z"
   },
   {
    "duration": 556,
    "start_time": "2022-03-07T19:02:06.299Z"
   },
   {
    "duration": 541,
    "start_time": "2022-03-07T19:02:06.858Z"
   },
   {
    "duration": 289,
    "start_time": "2022-03-07T19:02:07.402Z"
   },
   {
    "duration": 695,
    "start_time": "2022-03-07T19:02:07.694Z"
   },
   {
    "duration": 9,
    "start_time": "2022-03-07T19:02:08.392Z"
   },
   {
    "duration": 665,
    "start_time": "2022-03-07T19:02:08.403Z"
   },
   {
    "duration": 12,
    "start_time": "2022-03-07T19:02:09.082Z"
   },
   {
    "duration": 144,
    "start_time": "2022-03-07T19:02:09.097Z"
   },
   {
    "duration": 699,
    "start_time": "2022-03-07T19:02:09.243Z"
   },
   {
    "duration": 444,
    "start_time": "2022-03-07T19:02:09.944Z"
   },
   {
    "duration": 8,
    "start_time": "2022-03-07T19:02:10.391Z"
   },
   {
    "duration": 548,
    "start_time": "2022-03-07T19:02:10.401Z"
   },
   {
    "duration": 6,
    "start_time": "2022-03-07T19:02:10.952Z"
   },
   {
    "duration": 225,
    "start_time": "2022-03-07T19:02:10.961Z"
   },
   {
    "duration": 149,
    "start_time": "2022-03-07T19:02:11.188Z"
   },
   {
    "duration": 56,
    "start_time": "2022-03-07T19:02:11.339Z"
   },
   {
    "duration": 76,
    "start_time": "2022-03-07T19:02:11.397Z"
   },
   {
    "duration": 34,
    "start_time": "2022-03-07T19:02:11.476Z"
   },
   {
    "duration": 39,
    "start_time": "2022-03-07T19:02:11.513Z"
   },
   {
    "duration": 40,
    "start_time": "2022-03-07T19:02:11.555Z"
   },
   {
    "duration": 47,
    "start_time": "2022-03-07T19:02:11.598Z"
   },
   {
    "duration": 24,
    "start_time": "2022-03-07T19:02:11.647Z"
   },
   {
    "duration": 52,
    "start_time": "2022-03-07T19:02:11.673Z"
   },
   {
    "duration": 41,
    "start_time": "2022-03-07T19:02:11.728Z"
   },
   {
    "duration": 205,
    "start_time": "2022-03-07T19:02:11.772Z"
   },
   {
    "duration": 193,
    "start_time": "2022-03-07T19:02:11.980Z"
   },
   {
    "duration": 1274,
    "start_time": "2022-03-07T19:05:37.356Z"
   },
   {
    "duration": 25,
    "start_time": "2022-03-07T19:05:38.632Z"
   },
   {
    "duration": 46,
    "start_time": "2022-03-07T19:05:38.660Z"
   },
   {
    "duration": 10,
    "start_time": "2022-03-07T19:05:38.708Z"
   },
   {
    "duration": 39,
    "start_time": "2022-03-07T19:05:38.720Z"
   },
   {
    "duration": 20,
    "start_time": "2022-03-07T19:05:38.762Z"
   },
   {
    "duration": 23,
    "start_time": "2022-03-07T19:05:38.785Z"
   },
   {
    "duration": 17,
    "start_time": "2022-03-07T19:05:38.814Z"
   },
   {
    "duration": 22,
    "start_time": "2022-03-07T19:05:38.835Z"
   },
   {
    "duration": 335,
    "start_time": "2022-03-07T19:05:38.859Z"
   },
   {
    "duration": 287,
    "start_time": "2022-03-07T19:05:39.196Z"
   },
   {
    "duration": 8,
    "start_time": "2022-03-07T19:05:39.486Z"
   },
   {
    "duration": 18,
    "start_time": "2022-03-07T19:05:39.497Z"
   },
   {
    "duration": 17,
    "start_time": "2022-03-07T19:05:39.518Z"
   },
   {
    "duration": 10,
    "start_time": "2022-03-07T19:05:39.537Z"
   },
   {
    "duration": 558,
    "start_time": "2022-03-07T19:05:39.549Z"
   },
   {
    "duration": 528,
    "start_time": "2022-03-07T19:05:40.109Z"
   },
   {
    "duration": 17,
    "start_time": "2022-03-07T19:05:40.640Z"
   },
   {
    "duration": 606,
    "start_time": "2022-03-07T19:05:40.659Z"
   },
   {
    "duration": 16,
    "start_time": "2022-03-07T19:05:41.268Z"
   },
   {
    "duration": 517,
    "start_time": "2022-03-07T19:05:41.286Z"
   },
   {
    "duration": 13,
    "start_time": "2022-03-07T19:05:41.806Z"
   },
   {
    "duration": 16,
    "start_time": "2022-03-07T19:05:41.826Z"
   },
   {
    "duration": 640,
    "start_time": "2022-03-07T19:05:41.845Z"
   },
   {
    "duration": 383,
    "start_time": "2022-03-07T19:05:42.488Z"
   },
   {
    "duration": 13,
    "start_time": "2022-03-07T19:05:42.874Z"
   },
   {
    "duration": 435,
    "start_time": "2022-03-07T19:05:42.890Z"
   },
   {
    "duration": 7,
    "start_time": "2022-03-07T19:05:43.327Z"
   },
   {
    "duration": 121,
    "start_time": "2022-03-07T19:05:43.337Z"
   },
   {
    "duration": 116,
    "start_time": "2022-03-07T19:05:43.460Z"
   },
   {
    "duration": 9,
    "start_time": "2022-03-07T19:05:43.578Z"
   },
   {
    "duration": 11,
    "start_time": "2022-03-07T19:05:43.590Z"
   },
   {
    "duration": 14,
    "start_time": "2022-03-07T19:05:43.603Z"
   },
   {
    "duration": 16,
    "start_time": "2022-03-07T19:05:43.619Z"
   },
   {
    "duration": 16,
    "start_time": "2022-03-07T19:05:43.683Z"
   },
   {
    "duration": 13,
    "start_time": "2022-03-07T19:05:43.702Z"
   },
   {
    "duration": 13,
    "start_time": "2022-03-07T19:05:43.718Z"
   },
   {
    "duration": 60,
    "start_time": "2022-03-07T19:05:43.734Z"
   },
   {
    "duration": 26,
    "start_time": "2022-03-07T19:05:43.796Z"
   },
   {
    "duration": 53,
    "start_time": "2022-03-08T09:00:44.187Z"
   },
   {
    "duration": 917,
    "start_time": "2022-03-08T15:33:22.150Z"
   },
   {
    "duration": 24,
    "start_time": "2022-03-08T15:33:24.370Z"
   },
   {
    "duration": 662,
    "start_time": "2022-03-08T15:35:31.081Z"
   },
   {
    "duration": 52,
    "start_time": "2022-03-08T15:35:39.778Z"
   },
   {
    "duration": 7,
    "start_time": "2022-03-08T15:35:41.843Z"
   },
   {
    "duration": 22,
    "start_time": "2022-03-08T15:35:44.297Z"
   },
   {
    "duration": 7,
    "start_time": "2022-03-08T15:35:46.521Z"
   },
   {
    "duration": 11,
    "start_time": "2022-03-08T15:35:49.745Z"
   },
   {
    "duration": 10,
    "start_time": "2022-03-08T15:35:55.173Z"
   },
   {
    "duration": 10,
    "start_time": "2022-03-08T15:36:31.546Z"
   },
   {
    "duration": 113,
    "start_time": "2022-03-08T15:47:53.400Z"
   },
   {
    "duration": 83,
    "start_time": "2022-03-08T15:47:57.576Z"
   },
   {
    "duration": 466,
    "start_time": "2022-03-08T15:48:01.969Z"
   },
   {
    "duration": 14,
    "start_time": "2022-03-08T15:53:08.645Z"
   },
   {
    "duration": 12,
    "start_time": "2022-03-08T15:53:31.251Z"
   },
   {
    "duration": 99,
    "start_time": "2022-03-08T16:01:12.222Z"
   },
   {
    "duration": 252,
    "start_time": "2022-03-08T16:01:16.951Z"
   },
   {
    "duration": 20,
    "start_time": "2022-03-08T16:01:38.793Z"
   },
   {
    "duration": 15,
    "start_time": "2022-03-08T16:01:44.596Z"
   },
   {
    "duration": 9,
    "start_time": "2022-03-08T16:02:32.536Z"
   },
   {
    "duration": 9,
    "start_time": "2022-03-08T16:02:40.495Z"
   },
   {
    "duration": 15,
    "start_time": "2022-03-08T16:02:43.286Z"
   },
   {
    "duration": 6,
    "start_time": "2022-03-08T16:04:30.745Z"
   },
   {
    "duration": 169,
    "start_time": "2022-03-08T16:04:31.328Z"
   },
   {
    "duration": 138,
    "start_time": "2022-03-08T16:04:32.039Z"
   },
   {
    "duration": 7,
    "start_time": "2022-03-08T16:04:32.712Z"
   },
   {
    "duration": 8,
    "start_time": "2022-03-08T16:04:33.434Z"
   },
   {
    "duration": 5,
    "start_time": "2022-03-08T16:04:36.335Z"
   },
   {
    "duration": 4,
    "start_time": "2022-03-08T16:04:36.913Z"
   },
   {
    "duration": 552,
    "start_time": "2022-03-08T16:04:38.208Z"
   },
   {
    "duration": 283,
    "start_time": "2022-03-08T16:04:54.297Z"
   },
   {
    "duration": 336,
    "start_time": "2022-03-08T16:05:31.772Z"
   },
   {
    "duration": 374,
    "start_time": "2022-03-08T16:06:30.604Z"
   },
   {
    "duration": 346,
    "start_time": "2022-03-08T16:06:41.978Z"
   },
   {
    "duration": 346,
    "start_time": "2022-03-08T16:06:49.306Z"
   },
   {
    "duration": 388,
    "start_time": "2022-03-08T16:06:55.795Z"
   },
   {
    "duration": 333,
    "start_time": "2022-03-08T16:07:33.139Z"
   },
   {
    "duration": 244,
    "start_time": "2022-03-08T16:08:08.748Z"
   },
   {
    "duration": 264,
    "start_time": "2022-03-08T16:08:17.317Z"
   },
   {
    "duration": 11,
    "start_time": "2022-03-08T16:08:28.222Z"
   },
   {
    "duration": 406,
    "start_time": "2022-03-08T16:08:52.355Z"
   },
   {
    "duration": 295,
    "start_time": "2022-03-08T16:09:04.551Z"
   },
   {
    "duration": 6,
    "start_time": "2022-03-08T16:09:17.587Z"
   },
   {
    "duration": 276,
    "start_time": "2022-03-08T16:09:18.451Z"
   },
   {
    "duration": 8,
    "start_time": "2022-03-08T16:09:22.140Z"
   },
   {
    "duration": 8,
    "start_time": "2022-03-08T16:09:22.922Z"
   },
   {
    "duration": 378,
    "start_time": "2022-03-08T16:09:25.508Z"
   },
   {
    "duration": 238,
    "start_time": "2022-03-08T16:09:46.974Z"
   },
   {
    "duration": 270,
    "start_time": "2022-03-08T16:11:58.684Z"
   },
   {
    "duration": 11,
    "start_time": "2022-03-08T16:13:50.959Z"
   },
   {
    "duration": 13,
    "start_time": "2022-03-08T16:14:05.342Z"
   },
   {
    "duration": 14,
    "start_time": "2022-03-08T16:14:25.877Z"
   },
   {
    "duration": 10,
    "start_time": "2022-03-08T16:15:12.005Z"
   },
   {
    "duration": 12,
    "start_time": "2022-03-08T16:15:19.327Z"
   },
   {
    "duration": 14,
    "start_time": "2022-03-08T16:15:28.199Z"
   },
   {
    "duration": 11,
    "start_time": "2022-03-08T16:15:44.800Z"
   },
   {
    "duration": 11,
    "start_time": "2022-03-08T16:15:49.622Z"
   },
   {
    "duration": 15,
    "start_time": "2022-03-08T16:15:55.238Z"
   },
   {
    "duration": 16,
    "start_time": "2022-03-08T16:16:37.279Z"
   },
   {
    "duration": 14,
    "start_time": "2022-03-08T16:20:19.928Z"
   },
   {
    "duration": 14,
    "start_time": "2022-03-08T16:20:35.490Z"
   },
   {
    "duration": 268,
    "start_time": "2022-03-08T16:21:58.674Z"
   },
   {
    "duration": 14,
    "start_time": "2022-03-08T16:22:08.618Z"
   },
   {
    "duration": 13,
    "start_time": "2022-03-08T16:22:43.460Z"
   },
   {
    "duration": 248,
    "start_time": "2022-03-08T16:23:47.268Z"
   },
   {
    "duration": 90,
    "start_time": "2022-03-08T16:25:03.580Z"
   },
   {
    "duration": 324,
    "start_time": "2022-03-08T16:25:09.003Z"
   },
   {
    "duration": 85,
    "start_time": "2022-03-08T16:25:19.771Z"
   },
   {
    "duration": 13,
    "start_time": "2022-03-08T16:26:12.739Z"
   },
   {
    "duration": 351,
    "start_time": "2022-03-08T16:28:59.481Z"
   },
   {
    "duration": 237,
    "start_time": "2022-03-08T16:29:18.824Z"
   },
   {
    "duration": 304,
    "start_time": "2022-03-08T16:29:37.160Z"
   },
   {
    "duration": 404,
    "start_time": "2022-03-08T16:29:47.866Z"
   },
   {
    "duration": 300,
    "start_time": "2022-03-08T16:29:52.832Z"
   },
   {
    "duration": 290,
    "start_time": "2022-03-08T16:30:26.632Z"
   },
   {
    "duration": 255,
    "start_time": "2022-03-08T16:30:31.254Z"
   },
   {
    "duration": 332,
    "start_time": "2022-03-08T16:30:37.294Z"
   },
   {
    "duration": 312,
    "start_time": "2022-03-08T16:30:42.248Z"
   },
   {
    "duration": 342,
    "start_time": "2022-03-08T16:31:26.503Z"
   },
   {
    "duration": 304,
    "start_time": "2022-03-08T16:31:34.728Z"
   },
   {
    "duration": 343,
    "start_time": "2022-03-08T16:33:33.887Z"
   },
   {
    "duration": 4,
    "start_time": "2022-03-08T16:34:19.672Z"
   },
   {
    "duration": 4,
    "start_time": "2022-03-08T16:34:33.976Z"
   },
   {
    "duration": 8,
    "start_time": "2022-03-08T16:35:23.214Z"
   },
   {
    "duration": 482,
    "start_time": "2022-03-08T16:35:55.721Z"
   },
   {
    "duration": 301,
    "start_time": "2022-03-08T16:36:08.866Z"
   },
   {
    "duration": 537,
    "start_time": "2022-03-08T16:36:13.738Z"
   },
   {
    "duration": 251,
    "start_time": "2022-03-08T16:36:34.034Z"
   },
   {
    "duration": 277,
    "start_time": "2022-03-08T16:36:40.899Z"
   },
   {
    "duration": 6,
    "start_time": "2022-03-08T16:36:50.897Z"
   },
   {
    "duration": 320,
    "start_time": "2022-03-08T16:38:03.699Z"
   },
   {
    "duration": 309,
    "start_time": "2022-03-08T16:38:14.075Z"
   },
   {
    "duration": 352,
    "start_time": "2022-03-08T16:39:29.379Z"
   },
   {
    "duration": 352,
    "start_time": "2022-03-08T16:42:06.430Z"
   },
   {
    "duration": 301,
    "start_time": "2022-03-08T16:42:16.388Z"
   },
   {
    "duration": 399,
    "start_time": "2022-03-08T16:42:24.142Z"
   },
   {
    "duration": 324,
    "start_time": "2022-03-08T16:42:30.636Z"
   },
   {
    "duration": 323,
    "start_time": "2022-03-08T16:42:44.797Z"
   },
   {
    "duration": 318,
    "start_time": "2022-03-08T16:42:54.652Z"
   },
   {
    "duration": 393,
    "start_time": "2022-03-08T16:43:00.805Z"
   },
   {
    "duration": 316,
    "start_time": "2022-03-08T16:43:15.982Z"
   },
   {
    "duration": 324,
    "start_time": "2022-03-08T16:43:22.054Z"
   },
   {
    "duration": 308,
    "start_time": "2022-03-08T16:43:31.870Z"
   },
   {
    "duration": 318,
    "start_time": "2022-03-08T16:43:44.679Z"
   },
   {
    "duration": 236,
    "start_time": "2022-03-08T16:45:49.473Z"
   },
   {
    "duration": 4,
    "start_time": "2022-03-08T16:45:59.574Z"
   },
   {
    "duration": 50,
    "start_time": "2022-03-08T16:46:01.921Z"
   },
   {
    "duration": 62,
    "start_time": "2022-03-08T16:46:02.678Z"
   },
   {
    "duration": 7,
    "start_time": "2022-03-08T16:46:04.871Z"
   },
   {
    "duration": 7,
    "start_time": "2022-03-08T16:46:05.727Z"
   },
   {
    "duration": 7,
    "start_time": "2022-03-08T16:46:08.168Z"
   },
   {
    "duration": 9,
    "start_time": "2022-03-08T16:46:15.023Z"
   },
   {
    "duration": 9,
    "start_time": "2022-03-08T16:46:17.719Z"
   },
   {
    "duration": 7,
    "start_time": "2022-03-08T16:46:18.287Z"
   },
   {
    "duration": 236,
    "start_time": "2022-03-08T16:46:20.598Z"
   },
   {
    "duration": 7,
    "start_time": "2022-03-08T16:46:37.918Z"
   },
   {
    "duration": 165,
    "start_time": "2022-03-08T16:57:30.818Z"
   },
   {
    "duration": 164,
    "start_time": "2022-03-08T16:58:05.832Z"
   },
   {
    "duration": 156,
    "start_time": "2022-03-08T17:04:45.850Z"
   },
   {
    "duration": 992,
    "start_time": "2022-03-08T18:02:47.177Z"
   },
   {
    "duration": 25,
    "start_time": "2022-03-08T18:02:50.665Z"
   },
   {
    "duration": 60,
    "start_time": "2022-03-08T18:02:54.586Z"
   },
   {
    "duration": 7,
    "start_time": "2022-03-08T18:02:59.841Z"
   },
   {
    "duration": 23,
    "start_time": "2022-03-08T18:03:04.113Z"
   },
   {
    "duration": 7,
    "start_time": "2022-03-08T18:03:05.557Z"
   },
   {
    "duration": 339,
    "start_time": "2022-03-08T18:03:08.667Z"
   },
   {
    "duration": 17,
    "start_time": "2022-03-08T18:04:06.387Z"
   },
   {
    "duration": 15,
    "start_time": "2022-03-08T18:04:09.996Z"
   },
   {
    "duration": 408,
    "start_time": "2022-03-08T18:04:12.808Z"
   },
   {
    "duration": 6,
    "start_time": "2022-03-08T18:04:20.505Z"
   },
   {
    "duration": 169,
    "start_time": "2022-03-08T18:04:22.074Z"
   },
   {
    "duration": 134,
    "start_time": "2022-03-08T18:04:23.040Z"
   },
   {
    "duration": 6,
    "start_time": "2022-03-08T18:04:25.323Z"
   },
   {
    "duration": 8,
    "start_time": "2022-03-08T18:04:26.466Z"
   },
   {
    "duration": 5,
    "start_time": "2022-03-08T18:04:29.275Z"
   },
   {
    "duration": 4,
    "start_time": "2022-03-08T18:04:32.721Z"
   },
   {
    "duration": 355,
    "start_time": "2022-03-08T18:04:33.897Z"
   },
   {
    "duration": 3,
    "start_time": "2022-03-08T18:06:35.949Z"
   },
   {
    "duration": 357,
    "start_time": "2022-03-08T18:06:47.621Z"
   },
   {
    "duration": 456,
    "start_time": "2022-03-08T18:07:02.132Z"
   },
   {
    "duration": 3,
    "start_time": "2022-03-08T18:07:40.540Z"
   },
   {
    "duration": 36,
    "start_time": "2022-03-08T18:07:40.545Z"
   },
   {
    "duration": 55,
    "start_time": "2022-03-08T18:07:40.583Z"
   },
   {
    "duration": 5,
    "start_time": "2022-03-08T18:07:40.640Z"
   },
   {
    "duration": 24,
    "start_time": "2022-03-08T18:07:40.647Z"
   },
   {
    "duration": 7,
    "start_time": "2022-03-08T18:07:40.673Z"
   },
   {
    "duration": 177,
    "start_time": "2022-03-08T18:07:41.844Z"
   },
   {
    "duration": 10,
    "start_time": "2022-03-08T18:07:42.023Z"
   },
   {
    "duration": 13,
    "start_time": "2022-03-08T18:07:42.035Z"
   },
   {
    "duration": 14,
    "start_time": "2022-03-08T18:07:42.050Z"
   },
   {
    "duration": 10,
    "start_time": "2022-03-08T18:07:42.066Z"
   },
   {
    "duration": 253,
    "start_time": "2022-03-08T18:07:42.077Z"
   },
   {
    "duration": 149,
    "start_time": "2022-03-08T18:07:42.331Z"
   },
   {
    "duration": 6,
    "start_time": "2022-03-08T18:07:42.483Z"
   },
   {
    "duration": 28,
    "start_time": "2022-03-08T18:07:42.491Z"
   },
   {
    "duration": 11,
    "start_time": "2022-03-08T18:07:42.521Z"
   },
   {
    "duration": 6,
    "start_time": "2022-03-08T18:07:42.534Z"
   },
   {
    "duration": 357,
    "start_time": "2022-03-08T18:07:42.541Z"
   },
   {
    "duration": 327,
    "start_time": "2022-03-08T18:07:42.900Z"
   },
   {
    "duration": 11,
    "start_time": "2022-03-08T18:07:43.228Z"
   },
   {
    "duration": 509,
    "start_time": "2022-03-08T18:07:43.240Z"
   },
   {
    "duration": 5,
    "start_time": "2022-03-08T18:07:43.751Z"
   },
   {
    "duration": 316,
    "start_time": "2022-03-08T18:07:43.758Z"
   },
   {
    "duration": 9,
    "start_time": "2022-03-08T18:07:44.076Z"
   },
   {
    "duration": 19,
    "start_time": "2022-03-08T18:07:44.086Z"
   },
   {
    "duration": 403,
    "start_time": "2022-03-08T18:07:44.107Z"
   },
   {
    "duration": 335,
    "start_time": "2022-03-08T18:07:44.513Z"
   },
   {
    "duration": 4,
    "start_time": "2022-03-08T18:07:44.850Z"
   },
   {
    "duration": 323,
    "start_time": "2022-03-08T18:07:44.856Z"
   },
   {
    "duration": 4,
    "start_time": "2022-03-08T18:07:45.181Z"
   },
   {
    "duration": 70,
    "start_time": "2022-03-08T18:07:45.186Z"
   },
   {
    "duration": 82,
    "start_time": "2022-03-08T18:07:45.258Z"
   },
   {
    "duration": 6,
    "start_time": "2022-03-08T18:07:45.341Z"
   },
   {
    "duration": 8,
    "start_time": "2022-03-08T18:07:45.348Z"
   },
   {
    "duration": 9,
    "start_time": "2022-03-08T18:07:45.357Z"
   },
   {
    "duration": 8,
    "start_time": "2022-03-08T18:07:45.367Z"
   },
   {
    "duration": 37,
    "start_time": "2022-03-08T18:07:45.377Z"
   },
   {
    "duration": 8,
    "start_time": "2022-03-08T18:07:45.418Z"
   },
   {
    "duration": 8,
    "start_time": "2022-03-08T18:07:45.428Z"
   },
   {
    "duration": 9,
    "start_time": "2022-03-08T18:07:45.438Z"
   },
   {
    "duration": 11,
    "start_time": "2022-03-08T18:07:45.448Z"
   },
   {
    "duration": 903,
    "start_time": "2022-03-08T18:12:33.515Z"
   },
   {
    "duration": -8,
    "start_time": "2022-03-08T18:12:34.429Z"
   },
   {
    "duration": -14,
    "start_time": "2022-03-08T18:12:34.436Z"
   },
   {
    "duration": -20,
    "start_time": "2022-03-08T18:12:34.443Z"
   },
   {
    "duration": -27,
    "start_time": "2022-03-08T18:12:34.451Z"
   },
   {
    "duration": -32,
    "start_time": "2022-03-08T18:12:34.457Z"
   },
   {
    "duration": -39,
    "start_time": "2022-03-08T18:12:34.464Z"
   },
   {
    "duration": -48,
    "start_time": "2022-03-08T18:12:34.474Z"
   },
   {
    "duration": -56,
    "start_time": "2022-03-08T18:12:34.483Z"
   },
   {
    "duration": -64,
    "start_time": "2022-03-08T18:12:34.492Z"
   },
   {
    "duration": -73,
    "start_time": "2022-03-08T18:12:34.501Z"
   },
   {
    "duration": -78,
    "start_time": "2022-03-08T18:12:34.507Z"
   },
   {
    "duration": -95,
    "start_time": "2022-03-08T18:12:34.525Z"
   },
   {
    "duration": -102,
    "start_time": "2022-03-08T18:12:34.532Z"
   },
   {
    "duration": -109,
    "start_time": "2022-03-08T18:12:34.540Z"
   },
   {
    "duration": -114,
    "start_time": "2022-03-08T18:12:34.546Z"
   },
   {
    "duration": -122,
    "start_time": "2022-03-08T18:12:34.554Z"
   },
   {
    "duration": -128,
    "start_time": "2022-03-08T18:12:34.561Z"
   },
   {
    "duration": -136,
    "start_time": "2022-03-08T18:12:34.570Z"
   },
   {
    "duration": -144,
    "start_time": "2022-03-08T18:12:34.578Z"
   },
   {
    "duration": -150,
    "start_time": "2022-03-08T18:12:34.585Z"
   },
   {
    "duration": -155,
    "start_time": "2022-03-08T18:12:34.591Z"
   },
   {
    "duration": -161,
    "start_time": "2022-03-08T18:12:34.597Z"
   },
   {
    "duration": -166,
    "start_time": "2022-03-08T18:12:34.603Z"
   },
   {
    "duration": -172,
    "start_time": "2022-03-08T18:12:34.610Z"
   },
   {
    "duration": -177,
    "start_time": "2022-03-08T18:12:34.616Z"
   },
   {
    "duration": -192,
    "start_time": "2022-03-08T18:12:34.632Z"
   },
   {
    "duration": -197,
    "start_time": "2022-03-08T18:12:34.638Z"
   },
   {
    "duration": -207,
    "start_time": "2022-03-08T18:12:34.649Z"
   },
   {
    "duration": -212,
    "start_time": "2022-03-08T18:12:34.655Z"
   },
   {
    "duration": -219,
    "start_time": "2022-03-08T18:12:34.662Z"
   },
   {
    "duration": -225,
    "start_time": "2022-03-08T18:12:34.669Z"
   },
   {
    "duration": -230,
    "start_time": "2022-03-08T18:12:34.675Z"
   },
   {
    "duration": -237,
    "start_time": "2022-03-08T18:12:34.683Z"
   },
   {
    "duration": -244,
    "start_time": "2022-03-08T18:12:34.692Z"
   },
   {
    "duration": -249,
    "start_time": "2022-03-08T18:12:34.698Z"
   },
   {
    "duration": -256,
    "start_time": "2022-03-08T18:12:34.707Z"
   },
   {
    "duration": -263,
    "start_time": "2022-03-08T18:12:34.715Z"
   },
   {
    "duration": -268,
    "start_time": "2022-03-08T18:12:34.722Z"
   },
   {
    "duration": -273,
    "start_time": "2022-03-08T18:12:34.728Z"
   },
   {
    "duration": -289,
    "start_time": "2022-03-08T18:12:34.744Z"
   },
   {
    "duration": 407,
    "start_time": "2022-03-08T18:12:55.455Z"
   },
   {
    "duration": 1031,
    "start_time": "2022-03-08T18:13:04.965Z"
   },
   {
    "duration": 26,
    "start_time": "2022-03-08T18:13:05.998Z"
   },
   {
    "duration": 55,
    "start_time": "2022-03-08T18:13:06.026Z"
   },
   {
    "duration": 6,
    "start_time": "2022-03-08T18:13:06.083Z"
   },
   {
    "duration": 23,
    "start_time": "2022-03-08T18:13:06.091Z"
   },
   {
    "duration": 9,
    "start_time": "2022-03-08T18:13:06.115Z"
   },
   {
    "duration": 186,
    "start_time": "2022-03-08T18:13:06.125Z"
   },
   {
    "duration": 12,
    "start_time": "2022-03-08T18:13:06.314Z"
   },
   {
    "duration": 11,
    "start_time": "2022-03-08T18:13:06.328Z"
   },
   {
    "duration": 408,
    "start_time": "2022-03-08T18:13:06.340Z"
   },
   {
    "duration": 6,
    "start_time": "2022-03-08T18:13:06.750Z"
   },
   {
    "duration": 196,
    "start_time": "2022-03-08T18:13:06.758Z"
   },
   {
    "duration": 164,
    "start_time": "2022-03-08T18:13:06.956Z"
   },
   {
    "duration": 6,
    "start_time": "2022-03-08T18:13:07.122Z"
   },
   {
    "duration": 11,
    "start_time": "2022-03-08T18:13:07.130Z"
   },
   {
    "duration": 8,
    "start_time": "2022-03-08T18:13:07.142Z"
   },
   {
    "duration": 6,
    "start_time": "2022-03-08T18:13:07.152Z"
   },
   {
    "duration": 391,
    "start_time": "2022-03-08T18:13:07.159Z"
   },
   {
    "duration": 338,
    "start_time": "2022-03-08T18:13:07.552Z"
   },
   {
    "duration": 19,
    "start_time": "2022-03-08T18:13:07.892Z"
   },
   {
    "duration": 450,
    "start_time": "2022-03-08T18:13:07.913Z"
   },
   {
    "duration": 7,
    "start_time": "2022-03-08T18:13:08.365Z"
   },
   {
    "duration": 318,
    "start_time": "2022-03-08T18:13:08.377Z"
   },
   {
    "duration": 13,
    "start_time": "2022-03-08T18:13:08.698Z"
   },
   {
    "duration": 12,
    "start_time": "2022-03-08T18:13:08.713Z"
   },
   {
    "duration": 415,
    "start_time": "2022-03-08T18:13:08.727Z"
   },
   {
    "duration": 337,
    "start_time": "2022-03-08T18:13:09.144Z"
   },
   {
    "duration": 6,
    "start_time": "2022-03-08T18:13:09.483Z"
   },
   {
    "duration": 429,
    "start_time": "2022-03-08T18:13:09.490Z"
   },
   {
    "duration": 5,
    "start_time": "2022-03-08T18:13:09.921Z"
   },
   {
    "duration": 65,
    "start_time": "2022-03-08T18:13:09.928Z"
   },
   {
    "duration": 75,
    "start_time": "2022-03-08T18:13:10.004Z"
   },
   {
    "duration": 25,
    "start_time": "2022-03-08T18:13:10.081Z"
   },
   {
    "duration": 8,
    "start_time": "2022-03-08T18:13:10.108Z"
   },
   {
    "duration": 10,
    "start_time": "2022-03-08T18:13:10.118Z"
   },
   {
    "duration": 9,
    "start_time": "2022-03-08T18:13:10.130Z"
   },
   {
    "duration": 8,
    "start_time": "2022-03-08T18:13:10.141Z"
   },
   {
    "duration": 8,
    "start_time": "2022-03-08T18:13:10.151Z"
   },
   {
    "duration": 9,
    "start_time": "2022-03-08T18:13:10.162Z"
   },
   {
    "duration": 35,
    "start_time": "2022-03-08T18:13:10.172Z"
   },
   {
    "duration": 13,
    "start_time": "2022-03-08T18:13:10.208Z"
   },
   {
    "duration": 305,
    "start_time": "2022-03-08T18:18:51.603Z"
   },
   {
    "duration": 249,
    "start_time": "2022-03-08T18:19:05.099Z"
   },
   {
    "duration": 665,
    "start_time": "2022-03-08T18:19:12.370Z"
   },
   {
    "duration": 256,
    "start_time": "2022-03-08T18:19:41.868Z"
   },
   {
    "duration": 331,
    "start_time": "2022-03-08T18:19:54.059Z"
   },
   {
    "duration": 14,
    "start_time": "2022-03-08T18:25:22.933Z"
   },
   {
    "duration": 920,
    "start_time": "2022-03-08T18:25:54.542Z"
   },
   {
    "duration": 24,
    "start_time": "2022-03-08T18:25:55.463Z"
   },
   {
    "duration": 72,
    "start_time": "2022-03-08T18:25:55.489Z"
   },
   {
    "duration": 5,
    "start_time": "2022-03-08T18:25:55.563Z"
   },
   {
    "duration": 22,
    "start_time": "2022-03-08T18:25:55.570Z"
   },
   {
    "duration": 4,
    "start_time": "2022-03-08T18:25:55.593Z"
   },
   {
    "duration": 159,
    "start_time": "2022-03-08T18:25:55.599Z"
   },
   {
    "duration": 10,
    "start_time": "2022-03-08T18:25:55.761Z"
   },
   {
    "duration": 10,
    "start_time": "2022-03-08T18:25:55.772Z"
   },
   {
    "duration": 368,
    "start_time": "2022-03-08T18:25:55.783Z"
   },
   {
    "duration": 5,
    "start_time": "2022-03-08T18:25:56.153Z"
   },
   {
    "duration": 167,
    "start_time": "2022-03-08T18:25:56.159Z"
   },
   {
    "duration": 138,
    "start_time": "2022-03-08T18:25:56.327Z"
   },
   {
    "duration": 5,
    "start_time": "2022-03-08T18:25:56.467Z"
   },
   {
    "duration": 25,
    "start_time": "2022-03-08T18:25:56.473Z"
   },
   {
    "duration": 8,
    "start_time": "2022-03-08T18:25:56.499Z"
   },
   {
    "duration": 4,
    "start_time": "2022-03-08T18:25:56.508Z"
   },
   {
    "duration": 444,
    "start_time": "2022-03-08T18:25:56.513Z"
   },
   {
    "duration": 315,
    "start_time": "2022-03-08T18:25:56.959Z"
   },
   {
    "duration": 10,
    "start_time": "2022-03-08T18:25:57.275Z"
   },
   {
    "duration": 449,
    "start_time": "2022-03-08T18:25:57.287Z"
   },
   {
    "duration": 5,
    "start_time": "2022-03-08T18:25:57.738Z"
   },
   {
    "duration": 281,
    "start_time": "2022-03-08T18:25:57.746Z"
   },
   {
    "duration": 7,
    "start_time": "2022-03-08T18:25:58.028Z"
   },
   {
    "duration": 12,
    "start_time": "2022-03-08T18:25:58.036Z"
   },
   {
    "duration": 360,
    "start_time": "2022-03-08T18:25:58.050Z"
   },
   {
    "duration": 318,
    "start_time": "2022-03-08T18:25:58.411Z"
   },
   {
    "duration": 4,
    "start_time": "2022-03-08T18:25:58.731Z"
   },
   {
    "duration": 395,
    "start_time": "2022-03-08T18:25:58.736Z"
   },
   {
    "duration": 4,
    "start_time": "2022-03-08T18:25:59.132Z"
   },
   {
    "duration": 50,
    "start_time": "2022-03-08T18:25:59.137Z"
   },
   {
    "duration": 78,
    "start_time": "2022-03-08T18:25:59.188Z"
   },
   {
    "duration": 6,
    "start_time": "2022-03-08T18:25:59.267Z"
   },
   {
    "duration": 8,
    "start_time": "2022-03-08T18:25:59.274Z"
   },
   {
    "duration": 24,
    "start_time": "2022-03-08T18:25:59.283Z"
   },
   {
    "duration": 8,
    "start_time": "2022-03-08T18:25:59.309Z"
   },
   {
    "duration": 7,
    "start_time": "2022-03-08T18:25:59.318Z"
   },
   {
    "duration": 8,
    "start_time": "2022-03-08T18:25:59.326Z"
   },
   {
    "duration": 6,
    "start_time": "2022-03-08T18:25:59.336Z"
   },
   {
    "duration": 7,
    "start_time": "2022-03-08T18:25:59.344Z"
   },
   {
    "duration": 11,
    "start_time": "2022-03-08T18:25:59.352Z"
   }
  ],
  "kernelspec": {
   "display_name": "Python 3",
   "language": "python",
   "name": "python3"
  },
  "language_info": {
   "codemirror_mode": {
    "name": "ipython",
    "version": 3
   },
   "file_extension": ".py",
   "mimetype": "text/x-python",
   "name": "python",
   "nbconvert_exporter": "python",
   "pygments_lexer": "ipython3",
   "version": "3.7.3"
  },
  "toc": {
   "base_numbering": 1,
   "nav_menu": {},
   "number_sections": true,
   "sideBar": true,
   "skip_h1_title": true,
   "title_cell": "Table of Contents",
   "title_sidebar": "Contents",
   "toc_cell": false,
   "toc_position": {
    "height": "calc(100% - 180px)",
    "left": "10px",
    "top": "150px",
    "width": "302.391px"
   },
   "toc_section_display": true,
   "toc_window_display": false
  }
 },
 "nbformat": 4,
 "nbformat_minor": 2
}
